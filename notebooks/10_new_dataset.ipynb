{
 "cells": [
  {
   "cell_type": "code",
   "execution_count": 1,
   "metadata": {},
   "outputs": [],
   "source": [
    "import numpy as np\n",
    "import pandas as pd\n",
    "import plotly.express as px\n",
    "import plotly.graph_objects as go\n",
    "from plotly.subplots import make_subplots\n",
    "import re\n",
    "\n",
    "import seaborn as sns\n",
    "import matplotlib.pyplot as plt\n",
    "sns.set_style(\"white\")\n",
    "%matplotlib inline"
   ]
  },
  {
   "cell_type": "code",
   "execution_count": 2,
   "metadata": {},
   "outputs": [],
   "source": [
    "donations_cohort_with_cycle = pd.read_csv('../data/donations_cohort_with_cycle.csv')"
   ]
  },
  {
   "cell_type": "code",
   "execution_count": 3,
   "metadata": {},
   "outputs": [],
   "source": [
    "# for columns in donations_cohort_with_cycle.columns:\n",
    "#     print(columns)"
   ]
  },
  {
   "cell_type": "code",
   "execution_count": 3,
   "metadata": {},
   "outputs": [],
   "source": [
    "# rename columns\n",
    "donations_cohort_with_cycle.columns=[\n",
    "'id',\n",
    "'first_gift_year',\n",
    "'lapsed_amount',\n",
    "'recovered_amount',\n",
    "'lapsed_count',\n",
    "'recovered_count',\n",
    "'max_consec_giving_years',\n",
    "'total_giving_years',\n",
    "'amount_2013',\n",
    "'amount_2014',\n",
    "'amount_2015',\n",
    "'amount_2016',\n",
    "'amount_2017',\n",
    "'count_2013',\n",
    "'count_2014',\n",
    "'count_2015',\n",
    "'count_2016',\n",
    "'count_2017',\n",
    "'lapsed_amount_2013',\n",
    "'lapsed_amount_2014',\n",
    "'lapsed_amount_2015',\n",
    "'lapsed_amount_2016',\n",
    "'lapsed_amount_2017',\n",
    "'upgraded_amount_2013',\n",
    "'upgraded_amount_2014',\n",
    "'upgraded_amount_2015',\n",
    "'upgraded_amount_2016',\n",
    "'upgraded_amount_2017',\n",
    "'downgraded_amount_2013',\n",
    "'downgraded_amount_2014',\n",
    "'downgraded_amount_2015',\n",
    "'downgraded_amount_2016',\n",
    "'downgraded_amount_2017',\n",
    "'amount_yr0',\n",
    "'amount_yr1',\n",
    "'amount_yr2',\n",
    "'amount_yr3',\n",
    "'amount_yr4',\n",
    "'count_yr0',\n",
    "'count_yr1',\n",
    "'count_yr2',\n",
    "'count_yr3',\n",
    "'count_yr4',\n",
    "'lapsed_amount_yr0',\n",
    "'lapsed_amount_yr1',\n",
    "'lapsed_amount_yr2',\n",
    "'lapsed_amount_yr3',\n",
    "'lapsed_amount_yr4',\n",
    "'upgraded_amount_yr0',\n",
    "'upgraded_amount_yr1',\n",
    "'upgraded_amount_yr2',\n",
    "'upgraded_amount_yr3',\n",
    "'upgraded_amount_yr4',\n",
    "'downgraded_amount_yr0',\n",
    "'downgraded_amount_yr1',\n",
    "'downgraded_amount_yr2',\n",
    "'downgraded_amount_yr3',\n",
    "'downgraded_amount_yr4',\n",
    "'amount_01_2013',\n",
    "'amount_02_2013',\n",
    "'amount_03_2013',\n",
    "'amount_04_2013',\n",
    "'amount_05_2013',\n",
    "'amount_06_2013',\n",
    "'amount_07_2013',\n",
    "'amount_08_2013',\n",
    "'amount_09_2013',\n",
    "'amount_10_2013',\n",
    "'amount_11_2013',\n",
    "'amount_12_2013',\n",
    "'amount_01_2014',\n",
    "'amount_02_2014',\n",
    "'amount_03_2014',\n",
    "'amount_04_2014',\n",
    "'amount_05_2014',\n",
    "'amount_06_2014',\n",
    "'amount_07_2014',\n",
    "'amount_08_2014',\n",
    "'amount_09_2014',\n",
    "'amount_10_2014',\n",
    "'amount_11_2014',\n",
    "'amount_12_2014',\n",
    "'amount_01_2015',\n",
    "'amount_02_2015',\n",
    "'amount_03_2015',\n",
    "'amount_04_2015',\n",
    "'amount_05_2015',\n",
    "'amount_06_2015',\n",
    "'amount_07_2015',\n",
    "'amount_08_2015',\n",
    "'amount_09_2015',\n",
    "'amount_10_2015',\n",
    "'amount_11_2015',\n",
    "'amount_12_2015',\n",
    "'amount_01_2016',\n",
    "'amount_02_2016',\n",
    "'amount_03_2016',\n",
    "'amount_04_2016',\n",
    "'amount_05_2016',\n",
    "'amount_06_2016',\n",
    "'amount_07_2016',\n",
    "'amount_08_2016',\n",
    "'amount_09_2016',\n",
    "'amount_10_2016',\n",
    "'amount_11_2016',\n",
    "'amount_12_2016',\n",
    "'amount_01_2017',\n",
    "'amount_02_2017',\n",
    "'amount_03_2017',\n",
    "'amount_04_2017',\n",
    "'amount_05_2017',\n",
    "'amount_06_2017',\n",
    "'amount_07_2017',\n",
    "'amount_08_2017',\n",
    "'amount_09_2017',\n",
    "'amount_10_2017',\n",
    "'amount_11_2017',\n",
    "'amount_12_2017',\n",
    "'initial',\n",
    "'first_gift',\n",
    "'second_year',\n",
    "'second_with_gap',\n",
    "'multi_year',\n",
    "'key_multi_year',\n",
    "'recovered_multi_year',\n",
    "'inconsistent_multi_year ',\n",
    "'recovered_key_multi_year',\n",
    "'lapsed_after_first',\n",
    "'lapsed_after_first_long',\n",
    "'lapsed_after_second',\n",
    "'lapsed_multi_year',\n",
    "'lapsed_long_multi_year',\n",
    "'lapsed_key_multi_year',\n",
    "'lapsed_long',\n",
    "'cohort_0_first_gift',\n",
    "'cohort_1_lapsed_after_first',\n",
    "'cohort_1_second_year',\n",
    "'cohort_2_lapsed_after_first_long',\n",
    "'cohort_2_lapsed_after_second',\n",
    "'cohort_2_multi_year',\n",
    "'cohort_2_second_with_gap',\n",
    "'cohort_3_first_gift',\n",
    "'cohort_3_inconsistent_multi_year',\n",
    "'cohort_3_key_multi_year',\n",
    "'cohort_3_lapsed_after_second',\n",
    "'cohort_3_lapsed_long',\n",
    "'cohort_3_lapsed_multi_year',\n",
    "'cohort_4_first_gift',\n",
    "'cohort_4_inconsistent_multi_year',\n",
    "'cohort_4_key_multi_year',\n",
    "'cohort_4_lapsed_after_first',\n",
    "'cohort_4_lapsed_key_multi_year',\n",
    "'cohort_4_lapsed_long',\n",
    "'cohort_4_lapsed_long_multi_year',\n",
    "'cohort_4_lapsed_multi_year',\n",
    "'cohort_4_multi_year',\n",
    "'cohort_4_recovered_multi_year',\n",
    "'cohort_4_second_year',\n",
    "'cohort_5_first_gift',\n",
    "'cohort_5_inconsistent_multi_year',\n",
    "'cohort_5_key_multi_year',\n",
    "'cohort_5_lapsed_after_first',\n",
    "'cohort_5_lapsed_after_first_long',\n",
    "'cohort_5_lapsed_after_second',\n",
    "'cohort_5_lapsed_key_multi_year',\n",
    "'cohort_5_lapsed_long',\n",
    "'cohort_5_lapsed_long_key_multi_year',\n",
    "'cohort_5_lapsed_long_multi_year',\n",
    "'cohort_5_lapsed_multi_year',\n",
    "'cohort_5_multi_year',\n",
    "'cohort_5_recovered_key_multi_year',\n",
    "'cohort_5_recovered_multi_year',\n",
    "'cohort_5_second_with_gap',\n",
    "'cohort_5_second_year',\n",
    "'cohort_6_first_gift',\n",
    "'cohort_6_key_multi_year',\n",
    "'cohort_6_lapsed_after_first',\n",
    "'cohort_6_lapsed_after_first_long',\n",
    "'cohort_6_lapsed_after_second',\n",
    "'cohort_6_lapsed_key_multi_year',\n",
    "'cohort_6_lapsed_long',\n",
    "'cohort_6_lapsed_long_key_multi_year',\n",
    "'cohort_6_lapsed_long_multi_year',\n",
    "'cohort_6_multi_year'\n",
    "]"
   ]
  },
  {
   "cell_type": "code",
   "execution_count": 4,
   "metadata": {},
   "outputs": [
    {
     "data": {
      "text/plain": [
       "545726"
      ]
     },
     "execution_count": 4,
     "metadata": {},
     "output_type": "execute_result"
    }
   ],
   "source": [
    "donations_cohort_with_cycle.isnull().sum().sum()\n",
    "#df.isnull().sum().sum()"
   ]
  },
  {
   "cell_type": "code",
   "execution_count": 5,
   "metadata": {},
   "outputs": [
    {
     "data": {
      "text/plain": [
       "cohort_6_multi_year    True\n",
       "dtype: bool"
      ]
     },
     "execution_count": 5,
     "metadata": {},
     "output_type": "execute_result"
    }
   ],
   "source": [
    "# checked for nan values--one column \"cohort_6_multi_year\" has 545726 nan values\n",
    "donations_cohort_with_cycle.isna().any()[lambda x: x]"
   ]
  },
  {
   "cell_type": "code",
   "execution_count": 6,
   "metadata": {},
   "outputs": [],
   "source": [
    "#replace nans in cohort_6_multi_year with zeros\n",
    "donations_cohort_with_cycle['cohort_6_multi_year'] = donations_cohort_with_cycle['cohort_6_multi_year'].fillna(0)"
   ]
  },
  {
   "cell_type": "code",
   "execution_count": 7,
   "metadata": {},
   "outputs": [],
   "source": [
    "#create new dataframe with all \"amount\" columns to convert from cents to dollars\n",
    "amount_columns = donations_cohort_with_cycle[[\n",
    "'lapsed_amount',\n",
    "'recovered_amount',\n",
    "\"amount_2013\",\n",
    "\"amount_2014\",\n",
    "\"amount_2015\",\n",
    "\"amount_2016\",\n",
    "\"amount_2017\",\n",
    "\"lapsed_amount_2013\",\n",
    "\"lapsed_amount_2014\",\n",
    "\"lapsed_amount_2015\",\n",
    "\"lapsed_amount_2016\",\n",
    "\"lapsed_amount_2017\",\n",
    "\"upgraded_amount_2013\",\n",
    "\"upgraded_amount_2014\",\n",
    "\"upgraded_amount_2015\",\n",
    "\"upgraded_amount_2016\",\n",
    "\"upgraded_amount_2017\",\n",
    "\"downgraded_amount_2013\",\n",
    "\"downgraded_amount_2014\",\n",
    "\"downgraded_amount_2015\",\n",
    "\"downgraded_amount_2016\",\n",
    "\"downgraded_amount_2017\",\n",
    "'amount_yr0',\n",
    "'amount_yr1',\n",
    "'amount_yr2',\n",
    "'amount_yr3',\n",
    "'amount_yr4',\n",
    "'lapsed_amount_yr0',\n",
    "'lapsed_amount_yr1',\n",
    "'lapsed_amount_yr2',\n",
    "'lapsed_amount_yr3',\n",
    "'lapsed_amount_yr4',\n",
    "'upgraded_amount_yr0',\n",
    "'upgraded_amount_yr1',\n",
    "'upgraded_amount_yr2',\n",
    "'upgraded_amount_yr3',\n",
    "'upgraded_amount_yr4',\n",
    "'downgraded_amount_yr0',\n",
    "'downgraded_amount_yr1',\n",
    "'downgraded_amount_yr2',\n",
    "'downgraded_amount_yr3',\n",
    "'downgraded_amount_yr4',\n",
    "\"amount_01_2013\",\n",
    "\"amount_02_2013\",\n",
    "\"amount_03_2013\",\n",
    "\"amount_04_2013\",\n",
    "\"amount_05_2013\",\n",
    "\"amount_06_2013\",\n",
    "\"amount_07_2013\",\n",
    "\"amount_08_2013\",\n",
    "\"amount_09_2013\",\n",
    "\"amount_10_2013\",\n",
    "\"amount_11_2013\",\n",
    "\"amount_12_2013\",\n",
    "\"amount_01_2014\",\n",
    "\"amount_02_2014\",\n",
    "\"amount_03_2014\",\n",
    "\"amount_04_2014\",\n",
    "\"amount_05_2014\",\n",
    "\"amount_06_2014\",\n",
    "\"amount_07_2014\",\n",
    "\"amount_08_2014\",\n",
    "\"amount_09_2014\",\n",
    "\"amount_10_2014\",\n",
    "\"amount_11_2014\",\n",
    "\"amount_12_2014\",\n",
    "\"amount_01_2015\",\n",
    "\"amount_02_2015\",\n",
    "\"amount_03_2015\",\n",
    "\"amount_04_2015\",\n",
    "\"amount_05_2015\",\n",
    "\"amount_06_2015\",\n",
    "\"amount_07_2015\",\n",
    "\"amount_08_2015\",\n",
    "\"amount_09_2015\",\n",
    "\"amount_10_2015\",\n",
    "\"amount_11_2015\",\n",
    "\"amount_12_2015\",\n",
    "\"amount_01_2016\",\n",
    "\"amount_02_2016\",\n",
    "\"amount_03_2016\",\n",
    "\"amount_04_2016\",\n",
    "\"amount_05_2016\",\n",
    "\"amount_06_2016\",\n",
    "\"amount_07_2016\",\n",
    "\"amount_08_2016\",\n",
    "\"amount_09_2016\",\n",
    "\"amount_10_2016\",\n",
    "\"amount_11_2016\",\n",
    "\"amount_12_2016\",\n",
    "\"amount_01_2017\",\n",
    "\"amount_02_2017\",\n",
    "\"amount_03_2017\",\n",
    "\"amount_04_2017\",\n",
    "\"amount_05_2017\",\n",
    "\"amount_06_2017\",\n",
    "\"amount_07_2017\",\n",
    "\"amount_08_2017\",\n",
    "\"amount_09_2017\",\n",
    "\"amount_10_2017\",\n",
    "\"amount_11_2017\",\n",
    "\"amount_12_2017\"]].copy()"
   ]
  },
  {
   "cell_type": "code",
   "execution_count": 8,
   "metadata": {},
   "outputs": [],
   "source": [
    "#create new dataframe with non-amount columns\n",
    "non_amount_columns = donations_cohort_with_cycle[[\n",
    "'id',\n",
    "'first_gift_year',\n",
    "\"lapsed_count\",\n",
    "\"recovered_count\",\n",
    "\"max_consec_giving_years\",\n",
    "\"total_giving_years\",\n",
    "\"count_2013\",\n",
    "\"count_2014\",\n",
    "\"count_2015\",\n",
    "\"count_2016\",\n",
    "\"count_2017\",\n",
    "'count_yr0',\n",
    "'count_yr1',\n",
    "'count_yr2',\n",
    "'count_yr3',\n",
    "'count_yr4',\n",
    "'initial',\n",
    "'first_gift',\n",
    "'second_year',\n",
    "'second_with_gap',\n",
    "'multi_year',\n",
    "'key_multi_year',\n",
    "'recovered_multi_year',\n",
    "'inconsistent_multi_year ',\n",
    "'recovered_key_multi_year',\n",
    "'lapsed_after_first',\n",
    "'lapsed_after_first_long',\n",
    "'lapsed_after_second',\n",
    "'lapsed_multi_year',\n",
    "'lapsed_long_multi_year',\n",
    "'lapsed_key_multi_year',\n",
    "'lapsed_long',\n",
    "'cohort_0_first_gift',\n",
    "'cohort_1_lapsed_after_first',\n",
    "'cohort_1_second_year',\n",
    "'cohort_2_lapsed_after_first_long',\n",
    "'cohort_2_lapsed_after_second',\n",
    "'cohort_2_multi_year',\n",
    "'cohort_2_second_with_gap',\n",
    "'cohort_3_first_gift',\n",
    "'cohort_3_inconsistent_multi_year',\n",
    "'cohort_3_key_multi_year',\n",
    "'cohort_3_lapsed_after_second',\n",
    "'cohort_3_lapsed_long',\n",
    "'cohort_3_lapsed_multi_year',\n",
    "'cohort_4_first_gift',\n",
    "'cohort_4_inconsistent_multi_year',\n",
    "'cohort_4_key_multi_year',\n",
    "'cohort_4_lapsed_after_first',\n",
    "'cohort_4_lapsed_key_multi_year',\n",
    "'cohort_4_lapsed_long',\n",
    "'cohort_4_lapsed_long_multi_year',\n",
    "'cohort_4_lapsed_multi_year',\n",
    "'cohort_4_multi_year',\n",
    "'cohort_4_recovered_multi_year',\n",
    "'cohort_4_second_year',\n",
    "'cohort_5_first_gift',\n",
    "'cohort_5_inconsistent_multi_year',\n",
    "'cohort_5_key_multi_year',\n",
    "'cohort_5_lapsed_after_first',\n",
    "'cohort_5_lapsed_after_first_long',\n",
    "'cohort_5_lapsed_after_second',\n",
    "'cohort_5_lapsed_key_multi_year',\n",
    "'cohort_5_lapsed_long',\n",
    "'cohort_5_lapsed_long_key_multi_year',\n",
    "'cohort_5_lapsed_long_multi_year',\n",
    "'cohort_5_lapsed_multi_year',\n",
    "'cohort_5_multi_year',\n",
    "'cohort_5_recovered_key_multi_year',\n",
    "'cohort_5_recovered_multi_year',\n",
    "'cohort_5_second_with_gap',\n",
    "'cohort_5_second_year',\n",
    "'cohort_6_first_gift',\n",
    "'cohort_6_key_multi_year',\n",
    "'cohort_6_lapsed_after_first',\n",
    "'cohort_6_lapsed_after_first_long',\n",
    "'cohort_6_lapsed_after_second',\n",
    "'cohort_6_lapsed_key_multi_year',\n",
    "'cohort_6_lapsed_long',\n",
    "'cohort_6_lapsed_long_key_multi_year',\n",
    "'cohort_6_lapsed_long_multi_year',\n",
    "'cohort_6_multi_year']].copy()"
   ]
  },
  {
   "cell_type": "code",
   "execution_count": 9,
   "metadata": {},
   "outputs": [],
   "source": [
    "#convert cents to dollars in all \"amount\" columns\n",
    "amount_columns=amount_columns/100"
   ]
  },
  {
   "cell_type": "code",
   "execution_count": 10,
   "metadata": {},
   "outputs": [],
   "source": [
    "#merge amount and non_amount dataframes back into one\n",
    "donations=non_amount_columns.merge(amount_columns, left_index=True, right_index=True)"
   ]
  },
  {
   "cell_type": "code",
   "execution_count": 11,
   "metadata": {},
   "outputs": [],
   "source": [
    "#create new column \"amount_total\", which equals a donor's total donation amount 2013-2017\n",
    "donations['amount_total']=donations['amount_2013'] + donations['amount_2014'] + donations['amount_2015'] + donations['amount_2016'] + donations['amount_2017']"
   ]
  },
  {
   "cell_type": "code",
   "execution_count": 12,
   "metadata": {},
   "outputs": [],
   "source": [
    "#create new column \"count_total\", which equals a donor's total number of donations 2013-2017\n",
    "donations['count_total']=donations['count_2013'] + donations['count_2014'] + donations['count_2015'] + donations['count_2016'] + donations['count_2017']"
   ]
  },
  {
   "cell_type": "code",
   "execution_count": 13,
   "metadata": {},
   "outputs": [],
   "source": [
    "#giving patterns\n",
    "conditions=[(donations[('amount_yr0')] >0) & (donations[('amount_yr1')] ==0) & (donations[('amount_yr2')]==0) & (donations[('amount_yr3')]==0) & (donations[('amount_yr4')]== 0) ,\n",
    "(donations[('amount_yr0')] >0) & (donations[('amount_yr1')] >0) & (donations[('amount_yr2')]==0) & (donations[('amount_yr3')]==0) & (donations[('amount_yr4')]== 0) ,\n",
    "(donations[('amount_yr0')] >0) & (donations[('amount_yr1')] ==0) & (donations[('amount_yr2')]>0) & (donations[('amount_yr3')]==0) & (donations[('amount_yr4')]== 0) ,\n",
    "(donations[('amount_yr0')] >0) & (donations[('amount_yr1')] ==0) & (donations[('amount_yr2')]==0) & (donations[('amount_yr3')]>0) & (donations[('amount_yr4')]== 0) ,\n",
    "(donations[('amount_yr0')] >0) & (donations[('amount_yr1')] ==0) & (donations[('amount_yr2')]==0) & (donations[('amount_yr3')]==0) & (donations[('amount_yr4')]> 0) ,\n",
    "(donations[('amount_yr0')] >0) & (donations[('amount_yr1')] >0) & (donations[('amount_yr2')]>0) & (donations[('amount_yr3')]==0) & (donations[('amount_yr4')]== 0) ,\n",
    "(donations[('amount_yr0')] >0) & (donations[('amount_yr1')] >0) & (donations[('amount_yr2')]==0) & (donations[('amount_yr3')]>0) & (donations[('amount_yr4')]== 0) ,\n",
    "(donations[('amount_yr0')] >0) & (donations[('amount_yr1')] >0) & (donations[('amount_yr2')]==0) & (donations[('amount_yr3')]==0) & (donations[('amount_yr4')]> 0) ,\n",
    "(donations[('amount_yr0')] >0) & (donations[('amount_yr1')] ==0) & (donations[('amount_yr2')]>0) & (donations[('amount_yr3')]>0) & (donations[('amount_yr4')]== 0) ,\n",
    "(donations[('amount_yr0')] >0) & (donations[('amount_yr1')] ==0) & (donations[('amount_yr2')]>0) & (donations[('amount_yr3')]==0) & (donations[('amount_yr4')]>0) ,\n",
    "(donations[('amount_yr0')] >0) & (donations[('amount_yr1')] ==0) & (donations[('amount_yr2')]==0) & (donations[('amount_yr3')]>0) & (donations[('amount_yr4')]> 0) ,\n",
    "(donations[('amount_yr0')] >0) & (donations[('amount_yr1')] >0) & (donations[('amount_yr2')]>0) & (donations[('amount_yr3')]>0) & (donations[('amount_yr4')]== 0) ,\n",
    "(donations[('amount_yr0')] >0) & (donations[('amount_yr1')] >0) & (donations[('amount_yr2')]>0) & (donations[('amount_yr3')]==0) & (donations[('amount_yr4')]>0) ,\n",
    "(donations[('amount_yr0')] >0) & (donations[('amount_yr1')] >0) & (donations[('amount_yr2')]==0) & (donations[('amount_yr3')]>0) & (donations[('amount_yr4')]>0) ,\n",
    "(donations[('amount_yr0')] >0) & (donations[('amount_yr1')] ==0) & (donations[('amount_yr2')]>0) & (donations[('amount_yr3')]>0) & (donations[('amount_yr4')]>0) ,\n",
    "(donations[('amount_yr0')] >0) & (donations[('amount_yr1')] >0) & (donations[('amount_yr2')]>0) & (donations[('amount_yr3')]>0) & (donations[('amount_yr4')]>0)]\n",
    "\n",
    "\n",
    "choices = ['0,',\n",
    "'0,1,',\n",
    "'0,2,',\n",
    "'0,3,',\n",
    "'0,4,',\n",
    "'0,1,2,',\n",
    "'0,1,3,',\n",
    "'0,1,4,',\n",
    "'0,2,3,',\n",
    "'0,2,4,',\n",
    "'0,3,4',\n",
    "'0,1,2,3,',\n",
    "'0,1,2,4,',\n",
    "'0,1,3,4,',\n",
    "'0,2,3,4,',\n",
    "'0,1,2,3,4,']\n",
    "\n",
    "donations.loc[:,'cohort_gift_pattern'] = np.select(conditions, choices, default='none')"
   ]
  },
  {
   "cell_type": "code",
   "execution_count": 14,
   "metadata": {},
   "outputs": [],
   "source": [
    "conditions=[(donations[('amount_yr1')] >0)]\n",
    "choices=['T']\n",
    "donations.loc[:,'cohort_yr1_TF_short'] = np.select(conditions, choices, default='F')"
   ]
  },
  {
   "cell_type": "code",
   "execution_count": 15,
   "metadata": {},
   "outputs": [],
   "source": [
    "conditions=[(donations[('amount_yr2')] >0)]\n",
    "choices=['T']\n",
    "donations.loc[:,'cohort_yr2_TF_short'] = np.select(conditions, choices, default='F')"
   ]
  },
  {
   "cell_type": "code",
   "execution_count": 16,
   "metadata": {},
   "outputs": [],
   "source": [
    "conditions=[(donations[('amount_yr3')] >0)]\n",
    "choices=['T']\n",
    "donations.loc[:,'cohort_yr3_TF_short'] = np.select(conditions, choices, default='F')"
   ]
  },
  {
   "cell_type": "code",
   "execution_count": 17,
   "metadata": {},
   "outputs": [],
   "source": [
    "conditions=[(donations[('amount_yr4')] >0)]\n",
    "choices=['T']\n",
    "donations.loc[:,'cohort_yr4_TF_short'] = np.select(conditions, choices, default='F')"
   ]
  },
  {
   "cell_type": "code",
   "execution_count": 18,
   "metadata": {},
   "outputs": [],
   "source": [
    "conditions=[(donations[('amount_yr0')] >0)]\n",
    "choices=['T']\n",
    "donations.loc[:,'cohort_yr0_TF'] = np.select(conditions, choices, default='none')"
   ]
  },
  {
   "cell_type": "code",
   "execution_count": 19,
   "metadata": {},
   "outputs": [],
   "source": [
    "conditions=[(donations[('amount_yr0')] >0) & (donations['amount_yr1'] > 0),\n",
    "(donations[('amount_yr0')] >0) & (donations['amount_yr1'] == 0)]\n",
    "choices=['TT','TF']\n",
    "donations.loc[:,'cohort_yr1_TF'] = np.select(conditions, choices, default='none')"
   ]
  },
  {
   "cell_type": "code",
   "execution_count": 20,
   "metadata": {},
   "outputs": [],
   "source": [
    "conditions=[(donations[('amount_yr0')] > 0) & (donations['amount_yr1'] > 0) & (donations['amount_yr2'] > 0),\n",
    "(donations[('amount_yr0')] >0) & (donations['amount_yr1'] == 0) & (donations['amount_yr2'] > 0),\n",
    "(donations[('amount_yr0')] >0) & (donations['amount_yr1'] > 0) & (donations['amount_yr2'] == 0),\n",
    "(donations[('amount_yr0')] > 0) & (donations['amount_yr1'] == 0) & (donations['amount_yr2'] == 0)]\n",
    "choices=['TTT','TFT','TTF','TFF']\n",
    "donations.loc[:,'cohort_yr2_TF'] = np.select(conditions, choices, default='none')"
   ]
  },
  {
   "cell_type": "code",
   "execution_count": 21,
   "metadata": {},
   "outputs": [],
   "source": [
    "conditions=[(donations[('amount_yr0')] > 0) & (donations['amount_yr1'] > 0) & (donations['amount_yr2'] > 0) & (donations['amount_yr3'] > 0),\n",
    "(donations[('amount_yr0')] > 0) & (donations['amount_yr1'] > 0) & (donations['amount_yr2'] > 0) & (donations['amount_yr3'] == 0),\n",
    "(donations[('amount_yr0')] >0) & (donations['amount_yr1'] == 0) & (donations['amount_yr2'] > 0) & (donations['amount_yr3'] > 0),\n",
    "(donations[('amount_yr0')] >0) & (donations['amount_yr1'] == 0) & (donations['amount_yr2'] > 0) & (donations['amount_yr3'] == 0),\n",
    "(donations[('amount_yr0')] > 0) & (donations['amount_yr1'] > 0) & (donations['amount_yr2'] == 0) & (donations['amount_yr3'] > 0),\n",
    "(donations[('amount_yr0')] >0) & (donations['amount_yr1'] > 0) & (donations['amount_yr2'] == 0) & (donations['amount_yr3'] == 0),\n",
    "(donations[('amount_yr0')] >0) & (donations['amount_yr1'] == 0) & (donations['amount_yr2'] == 0) & (donations['amount_yr3'] > 0),\n",
    "(donations[('amount_yr0')] > 0) & (donations['amount_yr1'] == 0) & (donations['amount_yr2'] == 0) & (donations['amount_yr3']== 0)]\n",
    "\n",
    "choices=['TTTT','TTTF','TFTT','TFTF','TTFT','TTFF','TFFT','TFFF']\n",
    "donations.loc[:,'cohort_yr3_TF'] = np.select(conditions, choices, default='none')"
   ]
  },
  {
   "cell_type": "code",
   "execution_count": 22,
   "metadata": {},
   "outputs": [],
   "source": [
    "conditions=[\n",
    "(donations['amount_yr0']> 0) & (donations['amount_yr1']> 0) & (donations['amount_yr2']> 0) & (donations['amount_yr3']> 0) & (donations['amount_yr4']> 0),\n",
    "(donations['amount_yr0']> 0) & (donations['amount_yr1']> 0) & (donations['amount_yr2']> 0) & (donations['amount_yr3']> 0) & (donations['amount_yr4']==0),\n",
    "(donations['amount_yr0']> 0) & (donations['amount_yr1']> 0) & (donations['amount_yr2']> 0) & (donations['amount_yr3']==0) & (donations['amount_yr4']> 0),\n",
    "(donations['amount_yr0']> 0) & (donations['amount_yr1']> 0) & (donations['amount_yr2']> 0) & (donations['amount_yr3']==0) & (donations['amount_yr4']==0),\n",
    "(donations['amount_yr0']> 0) & (donations['amount_yr1']==0) & (donations['amount_yr2']> 0) & (donations['amount_yr3']> 0) & (donations['amount_yr4']> 0),\n",
    "(donations['amount_yr0']> 0) & (donations['amount_yr1']==0) & (donations['amount_yr2']> 0) & (donations['amount_yr3']> 0) & (donations['amount_yr4']==0),\n",
    "(donations['amount_yr0']> 0) & (donations['amount_yr1']==0) & (donations['amount_yr2']> 0) & (donations['amount_yr3']==0) & (donations['amount_yr4']> 0),\n",
    "(donations['amount_yr0']> 0) & (donations['amount_yr1']==0) & (donations['amount_yr2']> 0) & (donations['amount_yr3']==0) & (donations['amount_yr4']==0),\n",
    "(donations['amount_yr0']> 0) & (donations['amount_yr1']> 0) & (donations['amount_yr2']==0) & (donations['amount_yr3']> 0) & (donations['amount_yr4']> 0),\n",
    "(donations['amount_yr0']> 0) & (donations['amount_yr1']> 0) & (donations['amount_yr2']==0) & (donations['amount_yr3']> 0) & (donations['amount_yr4']==0),\n",
    "(donations['amount_yr0']> 0) & (donations['amount_yr1']> 0) & (donations['amount_yr2']==0) & (donations['amount_yr3']==0) & (donations['amount_yr4']> 0),\n",
    "(donations['amount_yr0']> 0) & (donations['amount_yr1']> 0) & (donations['amount_yr2']==0) & (donations['amount_yr3']==0) & (donations['amount_yr4']==0),\n",
    "(donations['amount_yr0']> 0) & (donations['amount_yr1']==0) & (donations['amount_yr2']==0) & (donations['amount_yr3']> 0) & (donations['amount_yr4']> 0),\n",
    "(donations['amount_yr0']> 0) & (donations['amount_yr1']==0) & (donations['amount_yr2']==0) & (donations['amount_yr3']> 0) & (donations['amount_yr4']==0),\n",
    "(donations['amount_yr0']> 0) & (donations['amount_yr1']==0) & (donations['amount_yr2']==0) & (donations['amount_yr3']==0) & (donations['amount_yr4']> 0),\n",
    "(donations['amount_yr0']> 0) & (donations['amount_yr1']==0) & (donations['amount_yr2']==0) & (donations['amount_yr3']==0) & (donations['amount_yr4']==0)]\n",
    "\n",
    "choices=['TTTTT', 'TTTTF', 'TTTFT', 'TTTFF', 'TFTTT', 'TFTTF', 'TFTFT', 'TFTFF', 'TTFTT', 'TTFTF', 'TTFFT', 'TTFFF', 'TFFTT', 'TFFTF', 'TFFFT', 'TFFFF']\n",
    "\n",
    "donations.loc[:,'cohort_yr4_TF'] = np.select(conditions, choices, default='none')"
   ]
  },
  {
   "cell_type": "code",
   "execution_count": 23,
   "metadata": {},
   "outputs": [
    {
     "data": {
      "text/plain": [
       "T    2024554\n",
       "Name: cohort_yr0_TF, dtype: int64"
      ]
     },
     "execution_count": 23,
     "metadata": {},
     "output_type": "execute_result"
    }
   ],
   "source": [
    "donations.cohort_yr0_TF.value_counts()"
   ]
  },
  {
   "cell_type": "code",
   "execution_count": 24,
   "metadata": {},
   "outputs": [],
   "source": [
    "#yr0_behavior\n",
    "donations.loc[:,'behavior_yr0'] = np.where(donations['cohort_yr0_TF'] == \"T\", \"new\", \"none\")"
   ]
  },
  {
   "cell_type": "code",
   "execution_count": 25,
   "metadata": {},
   "outputs": [],
   "source": [
    "#yr1_behavior\n",
    "conditions = [donations.cohort_yr1_TF.isin(['TT']),\n",
    "              donations.cohort_yr1_TF.isin(['TF'])]\n",
    "            \n",
    "choices = ['retain', 'lapse']\n",
    "\n",
    "donations.loc[:,'behavior_yr1'] = np.select(conditions, choices, default='none')"
   ]
  },
  {
   "cell_type": "code",
   "execution_count": 26,
   "metadata": {},
   "outputs": [],
   "source": [
    "#yr2_behavior\n",
    "conditions = [donations.cohort_yr2_TF.isin(['TTT', 'TFT']),\n",
    "              donations.cohort_yr2_TF.isin(['TFF', 'TTF'])]\n",
    "            \n",
    "choices = ['retain', 'lapse']\n",
    "\n",
    "donations.loc[:,'behavior_yr2'] = np.select(conditions, choices, default='none')"
   ]
  },
  {
   "cell_type": "code",
   "execution_count": 27,
   "metadata": {},
   "outputs": [],
   "source": [
    "#yr3_behavior\n",
    "conditions = [donations.cohort_yr3_TF.isin(['TTTT', 'TFTT','TFFT', 'TTFT']),\n",
    "              donations.cohort_yr3_TF.isin(['TFFF', 'TTFF', 'TFTF', 'TTTF'])]\n",
    "            \n",
    "choices = ['retain', 'lapse']\n",
    "\n",
    "donations.loc[:,'behavior_yr3'] = np.select(conditions, choices, default='none')"
   ]
  },
  {
   "cell_type": "code",
   "execution_count": 28,
   "metadata": {},
   "outputs": [],
   "source": [
    "#yr4_behavior\n",
    "conditions = [donations.cohort_yr4_TF.isin(['TTTTT', 'TFTFT', 'TFTTT','TTFTT','TTTFT','TTFFT','TFFTT','TFFFT']),\n",
    "              donations.cohort_yr4_TF.isin(['TTTTF', 'TFTFF', 'TFTTF','TTFTF','TTTFF','TTFFF','TFFTF','TFFFF'])]\n",
    "\n",
    "            \n",
    "choices = ['retain', 'lapse']\n",
    "\n",
    "donations.loc[:,'behavior_yr4'] = np.select(conditions, choices, default='none')"
   ]
  },
  {
   "cell_type": "code",
   "execution_count": 29,
   "metadata": {},
   "outputs": [
    {
     "data": {
      "text/plain": [
       "TFF    1724319\n",
       "TTF     175947\n",
       "TTT      67489\n",
       "TFT      56799\n",
       "Name: cohort_yr2_TF, dtype: int64"
      ]
     },
     "execution_count": 29,
     "metadata": {},
     "output_type": "execute_result"
    }
   ],
   "source": [
    "donations.cohort_yr2_TF.value_counts()"
   ]
  },
  {
   "cell_type": "code",
   "execution_count": 30,
   "metadata": {},
   "outputs": [],
   "source": [
    "#yr1_behavior2\n",
    "conditions = [(donations['behavior_yr1'] == 'retain'),\n",
    "              (donations['behavior_yr1'] == 'lapse')]\n",
    "            \n",
    "choices = ['second_gift', 'first_lapse']\n",
    "\n",
    "donations.loc[:,'behavior2_yr1'] = np.select(conditions, choices, default='none')"
   ]
  },
  {
   "cell_type": "code",
   "execution_count": 31,
   "metadata": {},
   "outputs": [],
   "source": [
    "#yr1_behavior3\n",
    "conditions = [(donations['behavior_yr1'] == 'retain') & (donations['amount_yr1'] > donations['amount_yr0']),\n",
    "              (donations['behavior_yr1'] == 'retain') & (donations['amount_yr1'] == donations['amount_yr0']),\n",
    "              (donations['behavior_yr1'] == 'retain') & (donations['amount_yr1'] < donations['amount_yr0'])]\n",
    "            \n",
    "choices = ['upgrade', 'maintain', 'downgrade']\n",
    "\n",
    "donations.loc[:,'behavior3_yr1'] = np.select(conditions, choices, default='n/a')"
   ]
  },
  {
   "cell_type": "code",
   "execution_count": 32,
   "metadata": {},
   "outputs": [
    {
     "data": {
      "text/html": [
       "<div>\n",
       "<style scoped>\n",
       "    .dataframe tbody tr th:only-of-type {\n",
       "        vertical-align: middle;\n",
       "    }\n",
       "\n",
       "    .dataframe tbody tr th {\n",
       "        vertical-align: top;\n",
       "    }\n",
       "\n",
       "    .dataframe thead th {\n",
       "        text-align: right;\n",
       "    }\n",
       "</style>\n",
       "<table border=\"1\" class=\"dataframe\">\n",
       "  <thead>\n",
       "    <tr style=\"text-align: right;\">\n",
       "      <th></th>\n",
       "      <th>behavior3_yr1</th>\n",
       "      <th>id</th>\n",
       "    </tr>\n",
       "  </thead>\n",
       "  <tbody>\n",
       "    <tr>\n",
       "      <td>0</td>\n",
       "      <td>downgrade</td>\n",
       "      <td>98644</td>\n",
       "    </tr>\n",
       "    <tr>\n",
       "      <td>1</td>\n",
       "      <td>maintain</td>\n",
       "      <td>43509</td>\n",
       "    </tr>\n",
       "    <tr>\n",
       "      <td>2</td>\n",
       "      <td>upgrade</td>\n",
       "      <td>101283</td>\n",
       "    </tr>\n",
       "  </tbody>\n",
       "</table>\n",
       "</div>"
      ],
      "text/plain": [
       "  behavior3_yr1      id\n",
       "0     downgrade   98644\n",
       "1      maintain   43509\n",
       "2       upgrade  101283"
      ]
     },
     "execution_count": 32,
     "metadata": {},
     "output_type": "execute_result"
    }
   ],
   "source": [
    "donations.query('amount_yr1 > 0').groupby('behavior3_yr1').count()['id'].reset_index()"
   ]
  },
  {
   "cell_type": "code",
   "execution_count": 33,
   "metadata": {},
   "outputs": [],
   "source": [
    "#yr2_behavior2\n",
    "conditions = [(donations['behavior_yr2'] == 'retain') & (donations['behavior_yr1'] == 'retain'),\n",
    "              (donations['behavior_yr2'] == 'retain') & (donations['behavior_yr1'] == 'lapse'),\n",
    "              (donations['behavior_yr2'] == 'lapse') & (donations['behavior_yr1'] == 'lapse'),\n",
    "              (donations['behavior_yr2'] == 'lapse') & (donations['behavior_yr1'] == 'retain')]\n",
    "            \n",
    "choices = ['third_gift', 'recover (second_gift)', 'second_lapse', 'first_lapse']\n",
    "\n",
    "donations.loc[:,'behavior2_yr2'] = np.select(conditions, choices, default='none')"
   ]
  },
  {
   "cell_type": "code",
   "execution_count": 34,
   "metadata": {},
   "outputs": [],
   "source": [
    "#yr2_behavior3\n",
    "conditions = [(donations['behavior_yr2'] == 'retain') & (donations['behavior_yr1'] == 'retain') & (donations['amount_yr2'] > donations['amount_yr1']),\n",
    "              (donations['behavior_yr2'] == 'retain') & (donations['behavior_yr1'] == 'retain') & (donations['amount_yr2'] == donations['amount_yr1']),\n",
    "              (donations['behavior_yr2'] == 'retain') & (donations['behavior_yr1'] == 'retain') & (donations['amount_yr2'] < donations['amount_yr1']),\n",
    "              (donations['behavior_yr2'] == 'retain') & (donations['behavior_yr1'] == 'lapse') & (donations['amount_yr2'] > donations['amount_yr0']),\n",
    "              (donations['behavior_yr2'] == 'retain') & (donations['behavior_yr1'] == 'lapse') & (donations['amount_yr2'] == donations['amount_yr0']),\n",
    "              (donations['behavior_yr2'] == 'retain') & (donations['behavior_yr1'] == 'lapse') & (donations['amount_yr2'] < donations['amount_yr0'])]\n",
    "            \n",
    "choices = ['upgrade', 'maintain', 'downgrade', 'upgrade', 'maintain', 'downgrade']\n",
    "\n",
    "donations.loc[:,'behavior3_yr2'] = np.select(conditions, choices, default='n/a')"
   ]
  },
  {
   "cell_type": "code",
   "execution_count": 35,
   "metadata": {},
   "outputs": [
    {
     "data": {
      "text/plain": [
       "TTTT    26883\n",
       "TFFT    20727\n",
       "TTFT    10949\n",
       "TFTT    10361\n",
       "Name: cohort_yr3_TF, dtype: int64"
      ]
     },
     "execution_count": 35,
     "metadata": {},
     "output_type": "execute_result"
    }
   ],
   "source": [
    "donations.query('behavior_yr3 == \"retain\"').cohort_yr3_TF.value_counts()"
   ]
  },
  {
   "cell_type": "code",
   "execution_count": 36,
   "metadata": {},
   "outputs": [
    {
     "name": "stdout",
     "output_type": "stream",
     "text": [
      "TF    1781118\n",
      "TT     243436\n",
      "Name: cohort_yr1_TF, dtype: int64\n",
      "TFF    1724319\n",
      "TTF     175947\n",
      "TTT      67489\n",
      "TFT      56799\n",
      "Name: cohort_yr2_TF, dtype: int64\n",
      "TFFF    1703592\n",
      "TTFF     164998\n",
      "TFTF      46438\n",
      "TTTF      40606\n",
      "TTTT      26883\n",
      "TFFT      20727\n",
      "TTFT      10949\n",
      "TFTT      10361\n",
      "Name: cohort_yr3_TF, dtype: int64\n",
      "TFFFF    1696680\n",
      "TTFFF     162004\n",
      "TFTFF      44403\n",
      "TTTFF      37639\n",
      "TFFTF      17619\n",
      "TTTTF      13781\n",
      "TTTTT      13102\n",
      "TTFTF       8134\n",
      "TFTTF       7626\n",
      "TFFFT       6912\n",
      "TFFTT       3108\n",
      "TTFFT       2994\n",
      "TTTFT       2967\n",
      "TTFTT       2815\n",
      "TFTTT       2735\n",
      "TFTFT       2035\n",
      "Name: cohort_yr4_TF, dtype: int64\n"
     ]
    }
   ],
   "source": [
    "print(donations.cohort_yr1_TF.value_counts())\n",
    "print(donations.cohort_yr2_TF.value_counts())\n",
    "print(donations.cohort_yr3_TF.value_counts())\n",
    "print(donations.cohort_yr4_TF.value_counts())"
   ]
  },
  {
   "cell_type": "code",
   "execution_count": 37,
   "metadata": {},
   "outputs": [],
   "source": [
    "#yr2_behavior3\n",
    "conditions = [donations['cohort_yr3_TF'] == 'TFFF',\n",
    "              donations['cohort_yr3_TF'] == 'TTFF',\n",
    "              donations['cohort_yr3_TF'] == 'TFTF',\n",
    "              donations['cohort_yr3_TF'] == 'TTTF',\n",
    "              donations['cohort_yr3_TF'] == 'TTTT',\n",
    "              donations['cohort_yr3_TF'] == 'TFFT',\n",
    "              donations['cohort_yr3_TF'] == 'TTFT',\n",
    "              donations['cohort_yr3_TF'] == 'TFTT']\n",
    "              \n",
    "choices = ['third_lapse', 'second_lapse', 'second_lapse', 'first_lapse', 'fourth_gift', 'recover(second_gift)', 'recover(third_gift)', 'third_gift']\n",
    "\n",
    "donations.loc[:,'behavior3_yr3'] = np.select(conditions, choices, default='none')"
   ]
  },
  {
   "cell_type": "code",
   "execution_count": 38,
   "metadata": {},
   "outputs": [],
   "source": [
    "#yr2_behavior3\n",
    "conditions = [(donations['behavior_yr3'] == 'retain') & (donations['behavior_yr2'] == 'retain') & (donations['behavior_yr1'] == 'retain') & (donations['amount_yr3'] > donations['amount_yr2']),\n",
    "              (donations['behavior_yr3'] == 'retain') & (donations['behavior_yr2'] == 'retain') & (donations['behavior_yr1'] == 'retain') & (donations['amount_yr3'] == donations['amount_yr2']),              \n",
    "              (donations['behavior_yr3'] == 'retain') & (donations['behavior_yr2'] == 'retain') & (donations['behavior_yr1'] == 'retain') & (donations['amount_yr3'] < donations['amount_yr2']),\n",
    "              (donations['behavior_yr3'] == 'retain') & (donations['behavior_yr2'] == 'lapse') & (donations['behavior_yr1'] == 'lapse') & (donations['amount_yr3'] > donations['amount_yr0']),\n",
    "              (donations['behavior_yr3'] == 'retain') & (donations['behavior_yr2'] == 'lapse') & (donations['behavior_yr1'] == 'lapse') & (donations['amount_yr3'] == donations['amount_yr0']),              \n",
    "              (donations['behavior_yr3'] == 'retain') & (donations['behavior_yr2'] == 'lapse') & (donations['behavior_yr1'] == 'lapse') & (donations['amount_yr3'] < donations['amount_yr0']),\n",
    "              (donations['behavior_yr3'] == 'retain') & (donations['behavior_yr2'] == 'lapse') & (donations['behavior_yr1'] == 'retain') & (donations['amount_yr3'] > donations['amount_yr1']),\n",
    "              (donations['behavior_yr3'] == 'retain') & (donations['behavior_yr2'] == 'lapse') & (donations['behavior_yr1'] == 'retain') & (donations['amount_yr3'] == donations['amount_yr1']),              \n",
    "              (donations['behavior_yr3'] == 'retain') & (donations['behavior_yr2'] == 'lapse') & (donations['behavior_yr1'] == 'retain') & (donations['amount_yr3'] < donations['amount_yr1']),\n",
    "              (donations['behavior_yr3'] == 'retain') & (donations['behavior_yr2'] == 'retain') & (donations['behavior_yr1'] == 'lapse') & (donations['amount_yr3'] > donations['amount_yr2']),\n",
    "              (donations['behavior_yr3'] == 'retain') & (donations['behavior_yr2'] == 'retain') & (donations['behavior_yr1'] == 'lapse') & (donations['amount_yr3'] == donations['amount_yr2']),              \n",
    "              (donations['behavior_yr3'] == 'retain') & (donations['behavior_yr2'] == 'retain') & (donations['behavior_yr1'] == 'lapse') & (donations['amount_yr3'] < donations['amount_yr2']),\n",
    "              (donations['behavior_yr3'] == 'lapse') & (donations['behavior_yr2'] == 'retain') & (donations['behavior_yr1'] == 'retain'),\n",
    "              (donations['behavior_yr3'] == 'lapse') & (donations['behavior_yr2'] == 'retain') & (donations['behavior_yr1'] == 'lapse'),\n",
    "              (donations['behavior_yr3'] == 'lapse') & (donations['behavior_yr2'] == 'lapse') & (donations['behavior_yr1'] == 'retain'),\n",
    "              (donations['behavior_yr3'] == 'lapse') & (donations['behavior_yr2'] == 'lapse') & (donations['behavior_yr1'] == 'lapse')]\n",
    "              \n",
    "choices = ['upgrade', 'maintain', 'downgrade', 'upgrade', 'maintain', 'downgrade','upgrade', 'maintain', 'downgrade', 'upgrade', 'maintain', 'downgrade', 'first_lapse', 'second_lapse', 'second_lapse', 'third_lapse']\n",
    "\n",
    "donations.loc[:,'behavior3_yr3'] = np.select(conditions, choices, default='none')"
   ]
  },
  {
   "cell_type": "markdown",
   "metadata": {},
   "source": [
    "### REMINDER: NEED TO ADD behavior2_yr4 and behavior3_yr4"
   ]
  },
  {
   "cell_type": "code",
   "execution_count": null,
   "metadata": {},
   "outputs": [],
   "source": [
    "#donations.drop('cohort_TF_pattern', axis=1, inplace=True)"
   ]
  },
  {
   "cell_type": "code",
   "execution_count": 39,
   "metadata": {},
   "outputs": [],
   "source": [
    "donations['first_gift_year_year'] = pd.DatetimeIndex(donations['first_gift_year']).year"
   ]
  },
  {
   "cell_type": "code",
   "execution_count": 40,
   "metadata": {},
   "outputs": [],
   "source": [
    "conditions = [\n",
    "    (donations['first_gift_year_year'] == 2013),\n",
    "    (donations['first_gift_year_year'] == 2014),\n",
    "    (donations['first_gift_year_year'] == 2015),\n",
    "    (donations['first_gift_year_year'] == 2016),\n",
    "    (donations['first_gift_year_year'] == 2017),\n",
    "    (donations['first_gift_year_year'] == 2018)    \n",
    "    ]\n",
    "\n",
    "# create a list of the values we want to assign for each condition\n",
    "values = ['cohort13', 'cohort14', 'cohort15', 'cohort16', 'cohort17', 'cohort18']\n",
    "\n",
    "# create a new column and use np.select to assign values to it using our lists as arguments\n",
    "donations['cohort'] = np.select(conditions, values)"
   ]
  },
  {
   "cell_type": "code",
   "execution_count": 41,
   "metadata": {},
   "outputs": [],
   "source": [
    "#Create three donation count groups:  (i) never more than 1 donation / year,  (ii) at most, 2-52 donations/year, & (iii) at least once made greater than 52 donations/year.\n",
    "conditions=[(donations['count_yr0'] <= 1) & (donations['count_yr1'] <= 1) & (donations['count_yr2'] <= 1) & (donations['count_yr3'] <= 1) & (donations['count_yr4'] <= 1),\n",
    "            ((donations['count_yr0'] <= 52) & (donations['count_yr1'] <= 52) & (donations['count_yr2'] <= 52) & (donations['count_yr3'] <= 52) & (donations['count_yr4'] <= 52) & ((donations['count_yr0'] > 1) | (donations['count_yr1'] > 1) | (donations['count_yr2'] > 1) | (donations['count_yr3'] > 1) | (donations['count_yr4'] > 1))),\n",
    "            (donations['count_yr0'] > 52) | (donations['count_yr1'] > 52) | (donations['count_yr2'] > 52) | (donations['count_yr3'] > 52) | (donations['count_yr4'] > 52)]\n",
    "\n",
    "choices=['1x', '2-52x', '>52x']\n",
    "donations.loc[:, 'donation_counts']=np.select(conditions, choices, default='none')"
   ]
  },
  {
   "cell_type": "code",
   "execution_count": 42,
   "metadata": {},
   "outputs": [],
   "source": [
    "#create column grouping by yr0 donation amounts\n",
    "conditions=[(donations['amount_yr0'] <= 25),\n",
    "            (donations['amount_yr0'] > 25) & (donations['amount_yr0'] <= 50),\n",
    "            (donations['amount_yr0'] > 50) & (donations['amount_yr0'] <= 100),\n",
    "            (donations['amount_yr0'] > 100) & (donations['amount_yr0'] <= 1000),\n",
    "            (donations['amount_yr0'] > 1000)]\n",
    "    \n",
    "choices=['under25', '25to50', '50to100', '100to1000', 'over1000']\n",
    "\n",
    "donations.loc[:,'yr0_amount_groups']=np.select(conditions, choices, default='none')"
   ]
  },
  {
   "cell_type": "code",
   "execution_count": 43,
   "metadata": {},
   "outputs": [],
   "source": [
    "donations.to_pickle('donations_cohort_with_cycle.pkl')"
   ]
  },
  {
   "cell_type": "code",
   "execution_count": 45,
   "metadata": {},
   "outputs": [],
   "source": [
    "# # donors by # contributions\n",
    "# l = 12\n",
    "# for n in range(1,l+1,1):\n",
    "#     if n < l + 1:\n",
    "#         count=count_df.loc[count_df['count_col'] == n]\n",
    "#         print(n, f'/',\n",
    "#               \"{:,}\".format(count.count_col.count()), f'/',\n",
    "#               \"{:.2%}\".format(count.count_col.count()/count_df.count_col.count()), f'/',\n",
    "#              \"${:,.0f}\".format(count.amount_col.sum()), f'/',\n",
    "#              \"{:.2%}\".format(count.amount_col.sum()/count_df.amount_col.sum()))"
   ]
  },
  {
   "cell_type": "code",
   "execution_count": null,
   "metadata": {},
   "outputs": [],
   "source": [
    "#donations=pd.read_pickle('donations.pkl')"
   ]
  }
 ],
 "metadata": {
  "kernelspec": {
   "display_name": "Python 3",
   "language": "python",
   "name": "python3"
  },
  "language_info": {
   "codemirror_mode": {
    "name": "ipython",
    "version": 3
   },
   "file_extension": ".py",
   "mimetype": "text/x-python",
   "name": "python",
   "nbconvert_exporter": "python",
   "pygments_lexer": "ipython3",
   "version": "3.7.4"
  }
 },
 "nbformat": 4,
 "nbformat_minor": 2
}
