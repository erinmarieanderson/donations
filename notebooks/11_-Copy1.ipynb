{
 "cells": [
  {
   "cell_type": "code",
   "execution_count": 1,
   "metadata": {},
   "outputs": [],
   "source": [
    "import numpy as np\n",
    "import pandas as pd\n",
    "import plotly.express as px\n",
    "import plotly.graph_objects as go\n",
    "from plotly.subplots import make_subplots\n",
    "import re\n",
    "\n",
    "import seaborn as sns\n",
    "import matplotlib.pyplot as plt\n",
    "sns.set_style(\"white\")\n",
    "%matplotlib inline"
   ]
  },
  {
   "cell_type": "code",
   "execution_count": 2,
   "metadata": {},
   "outputs": [],
   "source": [
    "donations_cohort_with_cycle=pd.read_pickle('donations_cohort_with_cycle.pkl')"
   ]
  },
  {
   "cell_type": "code",
   "execution_count": 5,
   "metadata": {},
   "outputs": [
    {
     "ename": "MemoryError",
     "evalue": "",
     "output_type": "error",
     "traceback": [
      "\u001b[1;31m---------------------------------------------------------------------------\u001b[0m",
      "\u001b[1;31mMemoryError\u001b[0m                               Traceback (most recent call last)",
      "\u001b[1;32m~\\Anaconda3\\lib\\site-packages\\pandas\\core\\groupby\\generic.py\u001b[0m in \u001b[0;36maggregate\u001b[1;34m(self, func, *args, **kwargs)\u001b[0m\n\u001b[0;32m    243\u001b[0m                     result = self._aggregate_multiple_funcs(\n\u001b[1;32m--> 244\u001b[1;33m                         \u001b[1;33m[\u001b[0m\u001b[0mfunc\u001b[0m\u001b[1;33m]\u001b[0m\u001b[1;33m,\u001b[0m \u001b[0m_level\u001b[0m\u001b[1;33m=\u001b[0m\u001b[0m_level\u001b[0m\u001b[1;33m,\u001b[0m \u001b[0m_axis\u001b[0m\u001b[1;33m=\u001b[0m\u001b[0mself\u001b[0m\u001b[1;33m.\u001b[0m\u001b[0maxis\u001b[0m\u001b[1;33m\u001b[0m\u001b[1;33m\u001b[0m\u001b[0m\n\u001b[0m\u001b[0;32m    245\u001b[0m                     )\n",
      "\u001b[1;32m~\\Anaconda3\\lib\\site-packages\\pandas\\core\\base.py\u001b[0m in \u001b[0;36m_aggregate_multiple_funcs\u001b[1;34m(self, arg, _level, _axis)\u001b[0m\n\u001b[0;32m    580\u001b[0m \u001b[1;33m\u001b[0m\u001b[0m\n\u001b[1;32m--> 581\u001b[1;33m         \u001b[1;32mif\u001b[0m \u001b[0mself\u001b[0m\u001b[1;33m.\u001b[0m\u001b[0m_selected_obj\u001b[0m\u001b[1;33m.\u001b[0m\u001b[0mndim\u001b[0m \u001b[1;33m==\u001b[0m \u001b[1;36m1\u001b[0m\u001b[1;33m:\u001b[0m\u001b[1;33m\u001b[0m\u001b[1;33m\u001b[0m\u001b[0m\n\u001b[0m\u001b[0;32m    582\u001b[0m             \u001b[0mobj\u001b[0m \u001b[1;33m=\u001b[0m \u001b[0mself\u001b[0m\u001b[1;33m.\u001b[0m\u001b[0m_selected_obj\u001b[0m\u001b[1;33m\u001b[0m\u001b[1;33m\u001b[0m\u001b[0m\n",
      "\u001b[1;32mpandas\\_libs\\properties.pyx\u001b[0m in \u001b[0;36mpandas._libs.properties.CachedProperty.__get__\u001b[1;34m()\u001b[0m\n",
      "\u001b[1;32m~\\Anaconda3\\lib\\site-packages\\pandas\\core\\groupby\\groupby.py\u001b[0m in \u001b[0;36m_selected_obj\u001b[1;34m(self)\u001b[0m\n\u001b[0;32m    497\u001b[0m             \u001b[1;32mif\u001b[0m \u001b[0mself\u001b[0m\u001b[1;33m.\u001b[0m\u001b[0m_group_selection\u001b[0m \u001b[1;32mis\u001b[0m \u001b[1;32mnot\u001b[0m \u001b[1;32mNone\u001b[0m\u001b[1;33m:\u001b[0m\u001b[1;33m\u001b[0m\u001b[1;33m\u001b[0m\u001b[0m\n\u001b[1;32m--> 498\u001b[1;33m                 \u001b[1;32mreturn\u001b[0m \u001b[0mself\u001b[0m\u001b[1;33m.\u001b[0m\u001b[0mobj\u001b[0m\u001b[1;33m[\u001b[0m\u001b[0mself\u001b[0m\u001b[1;33m.\u001b[0m\u001b[0m_group_selection\u001b[0m\u001b[1;33m]\u001b[0m\u001b[1;33m\u001b[0m\u001b[1;33m\u001b[0m\u001b[0m\n\u001b[0m\u001b[0;32m    499\u001b[0m             \u001b[1;32mreturn\u001b[0m \u001b[0mself\u001b[0m\u001b[1;33m.\u001b[0m\u001b[0mobj\u001b[0m\u001b[1;33m\u001b[0m\u001b[1;33m\u001b[0m\u001b[0m\n",
      "\u001b[1;32m~\\Anaconda3\\lib\\site-packages\\pandas\\core\\frame.py\u001b[0m in \u001b[0;36m__getitem__\u001b[1;34m(self, key)\u001b[0m\n\u001b[0;32m   2991\u001b[0m \u001b[1;33m\u001b[0m\u001b[0m\n\u001b[1;32m-> 2992\u001b[1;33m         \u001b[0mdata\u001b[0m \u001b[1;33m=\u001b[0m \u001b[0mself\u001b[0m\u001b[1;33m.\u001b[0m\u001b[0mtake\u001b[0m\u001b[1;33m(\u001b[0m\u001b[0mindexer\u001b[0m\u001b[1;33m,\u001b[0m \u001b[0maxis\u001b[0m\u001b[1;33m=\u001b[0m\u001b[1;36m1\u001b[0m\u001b[1;33m)\u001b[0m\u001b[1;33m\u001b[0m\u001b[1;33m\u001b[0m\u001b[0m\n\u001b[0m\u001b[0;32m   2993\u001b[0m \u001b[1;33m\u001b[0m\u001b[0m\n",
      "\u001b[1;32m~\\Anaconda3\\lib\\site-packages\\pandas\\core\\generic.py\u001b[0m in \u001b[0;36mtake\u001b[1;34m(self, indices, axis, is_copy, **kwargs)\u001b[0m\n\u001b[0;32m   3603\u001b[0m         new_data = self._data.take(\n\u001b[1;32m-> 3604\u001b[1;33m             \u001b[0mindices\u001b[0m\u001b[1;33m,\u001b[0m \u001b[0maxis\u001b[0m\u001b[1;33m=\u001b[0m\u001b[0mself\u001b[0m\u001b[1;33m.\u001b[0m\u001b[0m_get_block_manager_axis\u001b[0m\u001b[1;33m(\u001b[0m\u001b[0maxis\u001b[0m\u001b[1;33m)\u001b[0m\u001b[1;33m,\u001b[0m \u001b[0mverify\u001b[0m\u001b[1;33m=\u001b[0m\u001b[1;32mTrue\u001b[0m\u001b[1;33m\u001b[0m\u001b[1;33m\u001b[0m\u001b[0m\n\u001b[0m\u001b[0;32m   3605\u001b[0m         )\n",
      "\u001b[1;32m~\\Anaconda3\\lib\\site-packages\\pandas\\core\\internals\\managers.py\u001b[0m in \u001b[0;36mtake\u001b[1;34m(self, indexer, axis, verify, convert)\u001b[0m\n\u001b[0;32m   1396\u001b[0m         return self.reindex_indexer(\n\u001b[1;32m-> 1397\u001b[1;33m             \u001b[0mnew_axis\u001b[0m\u001b[1;33m=\u001b[0m\u001b[0mnew_labels\u001b[0m\u001b[1;33m,\u001b[0m \u001b[0mindexer\u001b[0m\u001b[1;33m=\u001b[0m\u001b[0mindexer\u001b[0m\u001b[1;33m,\u001b[0m \u001b[0maxis\u001b[0m\u001b[1;33m=\u001b[0m\u001b[0maxis\u001b[0m\u001b[1;33m,\u001b[0m \u001b[0mallow_dups\u001b[0m\u001b[1;33m=\u001b[0m\u001b[1;32mTrue\u001b[0m\u001b[1;33m\u001b[0m\u001b[1;33m\u001b[0m\u001b[0m\n\u001b[0m\u001b[0;32m   1398\u001b[0m         )\n",
      "\u001b[1;32m~\\Anaconda3\\lib\\site-packages\\pandas\\core\\internals\\managers.py\u001b[0m in \u001b[0;36mreindex_indexer\u001b[1;34m(self, new_axis, indexer, axis, fill_value, allow_dups, copy)\u001b[0m\n\u001b[0;32m   1256\u001b[0m         \u001b[1;32mif\u001b[0m \u001b[0maxis\u001b[0m \u001b[1;33m==\u001b[0m \u001b[1;36m0\u001b[0m\u001b[1;33m:\u001b[0m\u001b[1;33m\u001b[0m\u001b[1;33m\u001b[0m\u001b[0m\n\u001b[1;32m-> 1257\u001b[1;33m             \u001b[0mnew_blocks\u001b[0m \u001b[1;33m=\u001b[0m \u001b[0mself\u001b[0m\u001b[1;33m.\u001b[0m\u001b[0m_slice_take_blocks_ax0\u001b[0m\u001b[1;33m(\u001b[0m\u001b[0mindexer\u001b[0m\u001b[1;33m,\u001b[0m \u001b[0mfill_tuple\u001b[0m\u001b[1;33m=\u001b[0m\u001b[1;33m(\u001b[0m\u001b[0mfill_value\u001b[0m\u001b[1;33m,\u001b[0m\u001b[1;33m)\u001b[0m\u001b[1;33m)\u001b[0m\u001b[1;33m\u001b[0m\u001b[1;33m\u001b[0m\u001b[0m\n\u001b[0m\u001b[0;32m   1258\u001b[0m         \u001b[1;32melse\u001b[0m\u001b[1;33m:\u001b[0m\u001b[1;33m\u001b[0m\u001b[1;33m\u001b[0m\u001b[0m\n",
      "\u001b[1;32m~\\Anaconda3\\lib\\site-packages\\pandas\\core\\internals\\managers.py\u001b[0m in \u001b[0;36m_slice_take_blocks_ax0\u001b[1;34m(self, slice_or_indexer, fill_tuple)\u001b[0m\n\u001b[0;32m   1356\u001b[0m                             \u001b[0mnew_mgr_locs\u001b[0m\u001b[1;33m=\u001b[0m\u001b[0mmgr_locs\u001b[0m\u001b[1;33m,\u001b[0m\u001b[1;33m\u001b[0m\u001b[1;33m\u001b[0m\u001b[0m\n\u001b[1;32m-> 1357\u001b[1;33m                             \u001b[0mfill_tuple\u001b[0m\u001b[1;33m=\u001b[0m\u001b[1;32mNone\u001b[0m\u001b[1;33m,\u001b[0m\u001b[1;33m\u001b[0m\u001b[1;33m\u001b[0m\u001b[0m\n\u001b[0m\u001b[0;32m   1358\u001b[0m                         )\n",
      "\u001b[1;32m~\\Anaconda3\\lib\\site-packages\\pandas\\core\\internals\\blocks.py\u001b[0m in \u001b[0;36mtake_nd\u001b[1;34m(self, indexer, axis, new_mgr_locs, fill_tuple)\u001b[0m\n\u001b[0;32m   1313\u001b[0m         new_values = algos.take_nd(\n\u001b[1;32m-> 1314\u001b[1;33m             \u001b[0mvalues\u001b[0m\u001b[1;33m,\u001b[0m \u001b[0mindexer\u001b[0m\u001b[1;33m,\u001b[0m \u001b[0maxis\u001b[0m\u001b[1;33m=\u001b[0m\u001b[0maxis\u001b[0m\u001b[1;33m,\u001b[0m \u001b[0mallow_fill\u001b[0m\u001b[1;33m=\u001b[0m\u001b[0mallow_fill\u001b[0m\u001b[1;33m,\u001b[0m \u001b[0mfill_value\u001b[0m\u001b[1;33m=\u001b[0m\u001b[0mfill_value\u001b[0m\u001b[1;33m\u001b[0m\u001b[1;33m\u001b[0m\u001b[0m\n\u001b[0m\u001b[0;32m   1315\u001b[0m         )\n",
      "\u001b[1;32m~\\Anaconda3\\lib\\site-packages\\pandas\\core\\algorithms.py\u001b[0m in \u001b[0;36mtake_nd\u001b[1;34m(arr, indexer, axis, out, fill_value, mask_info, allow_fill)\u001b[0m\n\u001b[0;32m   1715\u001b[0m         \u001b[1;32melse\u001b[0m\u001b[1;33m:\u001b[0m\u001b[1;33m\u001b[0m\u001b[1;33m\u001b[0m\u001b[0m\n\u001b[1;32m-> 1716\u001b[1;33m             \u001b[0mout\u001b[0m \u001b[1;33m=\u001b[0m \u001b[0mnp\u001b[0m\u001b[1;33m.\u001b[0m\u001b[0mempty\u001b[0m\u001b[1;33m(\u001b[0m\u001b[0mout_shape\u001b[0m\u001b[1;33m,\u001b[0m \u001b[0mdtype\u001b[0m\u001b[1;33m=\u001b[0m\u001b[0mdtype\u001b[0m\u001b[1;33m)\u001b[0m\u001b[1;33m\u001b[0m\u001b[1;33m\u001b[0m\u001b[0m\n\u001b[0m\u001b[0;32m   1717\u001b[0m \u001b[1;33m\u001b[0m\u001b[0m\n",
      "\u001b[1;31mMemoryError\u001b[0m: ",
      "\nDuring handling of the above exception, another exception occurred:\n",
      "\u001b[1;31mMemoryError\u001b[0m                               Traceback (most recent call last)",
      "\u001b[1;32m<ipython-input-5-eeaf458a376a>\u001b[0m in \u001b[0;36m<module>\u001b[1;34m\u001b[0m\n\u001b[1;32m----> 1\u001b[1;33m \u001b[0mdonations_cohort_with_cycle\u001b[0m\u001b[1;33m.\u001b[0m\u001b[0mgroupby\u001b[0m\u001b[1;33m(\u001b[0m\u001b[1;34m'cohort_gift_pattern'\u001b[0m\u001b[1;33m)\u001b[0m\u001b[1;33m.\u001b[0m\u001b[0msum\u001b[0m\u001b[1;33m(\u001b[0m\u001b[1;33m)\u001b[0m\u001b[1;33m\u001b[0m\u001b[1;33m\u001b[0m\u001b[0m\n\u001b[0m",
      "\u001b[1;32m~\\Anaconda3\\lib\\site-packages\\pandas\\core\\groupby\\groupby.py\u001b[0m in \u001b[0;36mf\u001b[1;34m(self, **kwargs)\u001b[0m\n\u001b[0;32m   1375\u001b[0m \u001b[1;33m\u001b[0m\u001b[0m\n\u001b[0;32m   1376\u001b[0m                 \u001b[1;31m# apply a non-cython aggregation\u001b[0m\u001b[1;33m\u001b[0m\u001b[1;33m\u001b[0m\u001b[1;33m\u001b[0m\u001b[0m\n\u001b[1;32m-> 1377\u001b[1;33m                 \u001b[0mresult\u001b[0m \u001b[1;33m=\u001b[0m \u001b[0mself\u001b[0m\u001b[1;33m.\u001b[0m\u001b[0maggregate\u001b[0m\u001b[1;33m(\u001b[0m\u001b[1;32mlambda\u001b[0m \u001b[0mx\u001b[0m\u001b[1;33m:\u001b[0m \u001b[0mnpfunc\u001b[0m\u001b[1;33m(\u001b[0m\u001b[0mx\u001b[0m\u001b[1;33m,\u001b[0m \u001b[0maxis\u001b[0m\u001b[1;33m=\u001b[0m\u001b[0mself\u001b[0m\u001b[1;33m.\u001b[0m\u001b[0maxis\u001b[0m\u001b[1;33m)\u001b[0m\u001b[1;33m)\u001b[0m\u001b[1;33m\u001b[0m\u001b[1;33m\u001b[0m\u001b[0m\n\u001b[0m\u001b[0;32m   1378\u001b[0m \u001b[1;33m\u001b[0m\u001b[0m\n\u001b[0;32m   1379\u001b[0m                 \u001b[1;31m# coerce the resulting columns if we can\u001b[0m\u001b[1;33m\u001b[0m\u001b[1;33m\u001b[0m\u001b[1;33m\u001b[0m\u001b[0m\n",
      "\u001b[1;32m~\\Anaconda3\\lib\\site-packages\\pandas\\core\\groupby\\generic.py\u001b[0m in \u001b[0;36maggregate\u001b[1;34m(self, arg, *args, **kwargs)\u001b[0m\n\u001b[0;32m   1453\u001b[0m     \u001b[1;33m@\u001b[0m\u001b[0mAppender\u001b[0m\u001b[1;33m(\u001b[0m\u001b[0m_shared_docs\u001b[0m\u001b[1;33m[\u001b[0m\u001b[1;34m\"aggregate\"\u001b[0m\u001b[1;33m]\u001b[0m\u001b[1;33m)\u001b[0m\u001b[1;33m\u001b[0m\u001b[1;33m\u001b[0m\u001b[0m\n\u001b[0;32m   1454\u001b[0m     \u001b[1;32mdef\u001b[0m \u001b[0maggregate\u001b[0m\u001b[1;33m(\u001b[0m\u001b[0mself\u001b[0m\u001b[1;33m,\u001b[0m \u001b[0marg\u001b[0m\u001b[1;33m=\u001b[0m\u001b[1;32mNone\u001b[0m\u001b[1;33m,\u001b[0m \u001b[1;33m*\u001b[0m\u001b[0margs\u001b[0m\u001b[1;33m,\u001b[0m \u001b[1;33m**\u001b[0m\u001b[0mkwargs\u001b[0m\u001b[1;33m)\u001b[0m\u001b[1;33m:\u001b[0m\u001b[1;33m\u001b[0m\u001b[1;33m\u001b[0m\u001b[0m\n\u001b[1;32m-> 1455\u001b[1;33m         \u001b[1;32mreturn\u001b[0m \u001b[0msuper\u001b[0m\u001b[1;33m(\u001b[0m\u001b[1;33m)\u001b[0m\u001b[1;33m.\u001b[0m\u001b[0maggregate\u001b[0m\u001b[1;33m(\u001b[0m\u001b[0marg\u001b[0m\u001b[1;33m,\u001b[0m \u001b[1;33m*\u001b[0m\u001b[0margs\u001b[0m\u001b[1;33m,\u001b[0m \u001b[1;33m**\u001b[0m\u001b[0mkwargs\u001b[0m\u001b[1;33m)\u001b[0m\u001b[1;33m\u001b[0m\u001b[1;33m\u001b[0m\u001b[0m\n\u001b[0m\u001b[0;32m   1456\u001b[0m \u001b[1;33m\u001b[0m\u001b[0m\n\u001b[0;32m   1457\u001b[0m     \u001b[0magg\u001b[0m \u001b[1;33m=\u001b[0m \u001b[0maggregate\u001b[0m\u001b[1;33m\u001b[0m\u001b[1;33m\u001b[0m\u001b[0m\n",
      "\u001b[1;32m~\\Anaconda3\\lib\\site-packages\\pandas\\core\\groupby\\generic.py\u001b[0m in \u001b[0;36maggregate\u001b[1;34m(self, func, *args, **kwargs)\u001b[0m\n\u001b[0;32m    255\u001b[0m                         \u001b[0mresult\u001b[0m \u001b[1;33m=\u001b[0m \u001b[0mSparseDataFrame\u001b[0m\u001b[1;33m(\u001b[0m\u001b[0mresult\u001b[0m\u001b[1;33m.\u001b[0m\u001b[0m_data\u001b[0m\u001b[1;33m)\u001b[0m\u001b[1;33m\u001b[0m\u001b[1;33m\u001b[0m\u001b[0m\n\u001b[0;32m    256\u001b[0m                 \u001b[1;32mexcept\u001b[0m \u001b[0mException\u001b[0m\u001b[1;33m:\u001b[0m\u001b[1;33m\u001b[0m\u001b[1;33m\u001b[0m\u001b[0m\n\u001b[1;32m--> 257\u001b[1;33m                     \u001b[0mresult\u001b[0m \u001b[1;33m=\u001b[0m \u001b[0mself\u001b[0m\u001b[1;33m.\u001b[0m\u001b[0m_aggregate_generic\u001b[0m\u001b[1;33m(\u001b[0m\u001b[0mfunc\u001b[0m\u001b[1;33m,\u001b[0m \u001b[1;33m*\u001b[0m\u001b[0margs\u001b[0m\u001b[1;33m,\u001b[0m \u001b[1;33m**\u001b[0m\u001b[0mkwargs\u001b[0m\u001b[1;33m)\u001b[0m\u001b[1;33m\u001b[0m\u001b[1;33m\u001b[0m\u001b[0m\n\u001b[0m\u001b[0;32m    258\u001b[0m \u001b[1;33m\u001b[0m\u001b[0m\n\u001b[0;32m    259\u001b[0m         \u001b[1;32mif\u001b[0m \u001b[1;32mnot\u001b[0m \u001b[0mself\u001b[0m\u001b[1;33m.\u001b[0m\u001b[0mas_index\u001b[0m\u001b[1;33m:\u001b[0m\u001b[1;33m\u001b[0m\u001b[1;33m\u001b[0m\u001b[0m\n",
      "\u001b[1;32m~\\Anaconda3\\lib\\site-packages\\pandas\\core\\groupby\\generic.py\u001b[0m in \u001b[0;36m_aggregate_generic\u001b[1;34m(self, func, *args, **kwargs)\u001b[0m\n\u001b[0;32m    274\u001b[0m \u001b[1;33m\u001b[0m\u001b[0m\n\u001b[0;32m    275\u001b[0m         \u001b[0maxis\u001b[0m \u001b[1;33m=\u001b[0m \u001b[0mself\u001b[0m\u001b[1;33m.\u001b[0m\u001b[0maxis\u001b[0m\u001b[1;33m\u001b[0m\u001b[1;33m\u001b[0m\u001b[0m\n\u001b[1;32m--> 276\u001b[1;33m         \u001b[0mobj\u001b[0m \u001b[1;33m=\u001b[0m \u001b[0mself\u001b[0m\u001b[1;33m.\u001b[0m\u001b[0m_obj_with_exclusions\u001b[0m\u001b[1;33m\u001b[0m\u001b[1;33m\u001b[0m\u001b[0m\n\u001b[0m\u001b[0;32m    277\u001b[0m \u001b[1;33m\u001b[0m\u001b[0m\n\u001b[0;32m    278\u001b[0m         \u001b[0mresult\u001b[0m \u001b[1;33m=\u001b[0m \u001b[0mOrderedDict\u001b[0m\u001b[1;33m(\u001b[0m\u001b[1;33m)\u001b[0m\u001b[1;33m\u001b[0m\u001b[1;33m\u001b[0m\u001b[0m\n",
      "\u001b[1;32mpandas\\_libs\\properties.pyx\u001b[0m in \u001b[0;36mpandas._libs.properties.CachedProperty.__get__\u001b[1;34m()\u001b[0m\n",
      "\u001b[1;32m~\\Anaconda3\\lib\\site-packages\\pandas\\core\\base.py\u001b[0m in \u001b[0;36m_obj_with_exclusions\u001b[1;34m(self)\u001b[0m\n\u001b[0;32m    239\u001b[0m \u001b[1;33m\u001b[0m\u001b[0m\n\u001b[0;32m    240\u001b[0m         \u001b[1;32mif\u001b[0m \u001b[0mlen\u001b[0m\u001b[1;33m(\u001b[0m\u001b[0mself\u001b[0m\u001b[1;33m.\u001b[0m\u001b[0mexclusions\u001b[0m\u001b[1;33m)\u001b[0m \u001b[1;33m>\u001b[0m \u001b[1;36m0\u001b[0m\u001b[1;33m:\u001b[0m\u001b[1;33m\u001b[0m\u001b[1;33m\u001b[0m\u001b[0m\n\u001b[1;32m--> 241\u001b[1;33m             \u001b[1;32mreturn\u001b[0m \u001b[0mself\u001b[0m\u001b[1;33m.\u001b[0m\u001b[0mobj\u001b[0m\u001b[1;33m.\u001b[0m\u001b[0mdrop\u001b[0m\u001b[1;33m(\u001b[0m\u001b[0mself\u001b[0m\u001b[1;33m.\u001b[0m\u001b[0mexclusions\u001b[0m\u001b[1;33m,\u001b[0m \u001b[0maxis\u001b[0m\u001b[1;33m=\u001b[0m\u001b[1;36m1\u001b[0m\u001b[1;33m)\u001b[0m\u001b[1;33m\u001b[0m\u001b[1;33m\u001b[0m\u001b[0m\n\u001b[0m\u001b[0;32m    242\u001b[0m         \u001b[1;32melse\u001b[0m\u001b[1;33m:\u001b[0m\u001b[1;33m\u001b[0m\u001b[1;33m\u001b[0m\u001b[0m\n\u001b[0;32m    243\u001b[0m             \u001b[1;32mreturn\u001b[0m \u001b[0mself\u001b[0m\u001b[1;33m.\u001b[0m\u001b[0mobj\u001b[0m\u001b[1;33m\u001b[0m\u001b[1;33m\u001b[0m\u001b[0m\n",
      "\u001b[1;32m~\\Anaconda3\\lib\\site-packages\\pandas\\core\\frame.py\u001b[0m in \u001b[0;36mdrop\u001b[1;34m(self, labels, axis, index, columns, level, inplace, errors)\u001b[0m\n\u001b[0;32m   4100\u001b[0m             \u001b[0mlevel\u001b[0m\u001b[1;33m=\u001b[0m\u001b[0mlevel\u001b[0m\u001b[1;33m,\u001b[0m\u001b[1;33m\u001b[0m\u001b[1;33m\u001b[0m\u001b[0m\n\u001b[0;32m   4101\u001b[0m             \u001b[0minplace\u001b[0m\u001b[1;33m=\u001b[0m\u001b[0minplace\u001b[0m\u001b[1;33m,\u001b[0m\u001b[1;33m\u001b[0m\u001b[1;33m\u001b[0m\u001b[0m\n\u001b[1;32m-> 4102\u001b[1;33m             \u001b[0merrors\u001b[0m\u001b[1;33m=\u001b[0m\u001b[0merrors\u001b[0m\u001b[1;33m,\u001b[0m\u001b[1;33m\u001b[0m\u001b[1;33m\u001b[0m\u001b[0m\n\u001b[0m\u001b[0;32m   4103\u001b[0m         )\n\u001b[0;32m   4104\u001b[0m \u001b[1;33m\u001b[0m\u001b[0m\n",
      "\u001b[1;32m~\\Anaconda3\\lib\\site-packages\\pandas\\core\\generic.py\u001b[0m in \u001b[0;36mdrop\u001b[1;34m(self, labels, axis, index, columns, level, inplace, errors)\u001b[0m\n\u001b[0;32m   3912\u001b[0m         \u001b[1;32mfor\u001b[0m \u001b[0maxis\u001b[0m\u001b[1;33m,\u001b[0m \u001b[0mlabels\u001b[0m \u001b[1;32min\u001b[0m \u001b[0maxes\u001b[0m\u001b[1;33m.\u001b[0m\u001b[0mitems\u001b[0m\u001b[1;33m(\u001b[0m\u001b[1;33m)\u001b[0m\u001b[1;33m:\u001b[0m\u001b[1;33m\u001b[0m\u001b[1;33m\u001b[0m\u001b[0m\n\u001b[0;32m   3913\u001b[0m             \u001b[1;32mif\u001b[0m \u001b[0mlabels\u001b[0m \u001b[1;32mis\u001b[0m \u001b[1;32mnot\u001b[0m \u001b[1;32mNone\u001b[0m\u001b[1;33m:\u001b[0m\u001b[1;33m\u001b[0m\u001b[1;33m\u001b[0m\u001b[0m\n\u001b[1;32m-> 3914\u001b[1;33m                 \u001b[0mobj\u001b[0m \u001b[1;33m=\u001b[0m \u001b[0mobj\u001b[0m\u001b[1;33m.\u001b[0m\u001b[0m_drop_axis\u001b[0m\u001b[1;33m(\u001b[0m\u001b[0mlabels\u001b[0m\u001b[1;33m,\u001b[0m \u001b[0maxis\u001b[0m\u001b[1;33m,\u001b[0m \u001b[0mlevel\u001b[0m\u001b[1;33m=\u001b[0m\u001b[0mlevel\u001b[0m\u001b[1;33m,\u001b[0m \u001b[0merrors\u001b[0m\u001b[1;33m=\u001b[0m\u001b[0merrors\u001b[0m\u001b[1;33m)\u001b[0m\u001b[1;33m\u001b[0m\u001b[1;33m\u001b[0m\u001b[0m\n\u001b[0m\u001b[0;32m   3915\u001b[0m \u001b[1;33m\u001b[0m\u001b[0m\n\u001b[0;32m   3916\u001b[0m         \u001b[1;32mif\u001b[0m \u001b[0minplace\u001b[0m\u001b[1;33m:\u001b[0m\u001b[1;33m\u001b[0m\u001b[1;33m\u001b[0m\u001b[0m\n",
      "\u001b[1;32m~\\Anaconda3\\lib\\site-packages\\pandas\\core\\generic.py\u001b[0m in \u001b[0;36m_drop_axis\u001b[1;34m(self, labels, axis, level, errors)\u001b[0m\n\u001b[0;32m   3945\u001b[0m             \u001b[1;32melse\u001b[0m\u001b[1;33m:\u001b[0m\u001b[1;33m\u001b[0m\u001b[1;33m\u001b[0m\u001b[0m\n\u001b[0;32m   3946\u001b[0m                 \u001b[0mnew_axis\u001b[0m \u001b[1;33m=\u001b[0m \u001b[0maxis\u001b[0m\u001b[1;33m.\u001b[0m\u001b[0mdrop\u001b[0m\u001b[1;33m(\u001b[0m\u001b[0mlabels\u001b[0m\u001b[1;33m,\u001b[0m \u001b[0merrors\u001b[0m\u001b[1;33m=\u001b[0m\u001b[0merrors\u001b[0m\u001b[1;33m)\u001b[0m\u001b[1;33m\u001b[0m\u001b[1;33m\u001b[0m\u001b[0m\n\u001b[1;32m-> 3947\u001b[1;33m             \u001b[0mresult\u001b[0m \u001b[1;33m=\u001b[0m \u001b[0mself\u001b[0m\u001b[1;33m.\u001b[0m\u001b[0mreindex\u001b[0m\u001b[1;33m(\u001b[0m\u001b[1;33m**\u001b[0m\u001b[1;33m{\u001b[0m\u001b[0maxis_name\u001b[0m\u001b[1;33m:\u001b[0m \u001b[0mnew_axis\u001b[0m\u001b[1;33m}\u001b[0m\u001b[1;33m)\u001b[0m\u001b[1;33m\u001b[0m\u001b[1;33m\u001b[0m\u001b[0m\n\u001b[0m\u001b[0;32m   3948\u001b[0m \u001b[1;33m\u001b[0m\u001b[0m\n\u001b[0;32m   3949\u001b[0m         \u001b[1;31m# Case for non-unique axis\u001b[0m\u001b[1;33m\u001b[0m\u001b[1;33m\u001b[0m\u001b[1;33m\u001b[0m\u001b[0m\n",
      "\u001b[1;32m~\\Anaconda3\\lib\\site-packages\\pandas\\util\\_decorators.py\u001b[0m in \u001b[0;36mwrapper\u001b[1;34m(*args, **kwargs)\u001b[0m\n\u001b[0;32m    219\u001b[0m         \u001b[1;33m@\u001b[0m\u001b[0mwraps\u001b[0m\u001b[1;33m(\u001b[0m\u001b[0mfunc\u001b[0m\u001b[1;33m)\u001b[0m\u001b[1;33m\u001b[0m\u001b[1;33m\u001b[0m\u001b[0m\n\u001b[0;32m    220\u001b[0m         \u001b[1;32mdef\u001b[0m \u001b[0mwrapper\u001b[0m\u001b[1;33m(\u001b[0m\u001b[1;33m*\u001b[0m\u001b[0margs\u001b[0m\u001b[1;33m,\u001b[0m \u001b[1;33m**\u001b[0m\u001b[0mkwargs\u001b[0m\u001b[1;33m)\u001b[0m\u001b[1;33m:\u001b[0m\u001b[1;33m\u001b[0m\u001b[1;33m\u001b[0m\u001b[0m\n\u001b[1;32m--> 221\u001b[1;33m             \u001b[1;32mreturn\u001b[0m \u001b[0mfunc\u001b[0m\u001b[1;33m(\u001b[0m\u001b[1;33m*\u001b[0m\u001b[0margs\u001b[0m\u001b[1;33m,\u001b[0m \u001b[1;33m**\u001b[0m\u001b[0mkwargs\u001b[0m\u001b[1;33m)\u001b[0m\u001b[1;33m\u001b[0m\u001b[1;33m\u001b[0m\u001b[0m\n\u001b[0m\u001b[0;32m    222\u001b[0m \u001b[1;33m\u001b[0m\u001b[0m\n\u001b[0;32m    223\u001b[0m         \u001b[0mkind\u001b[0m \u001b[1;33m=\u001b[0m \u001b[0minspect\u001b[0m\u001b[1;33m.\u001b[0m\u001b[0mParameter\u001b[0m\u001b[1;33m.\u001b[0m\u001b[0mPOSITIONAL_OR_KEYWORD\u001b[0m\u001b[1;33m\u001b[0m\u001b[1;33m\u001b[0m\u001b[0m\n",
      "\u001b[1;32m~\\Anaconda3\\lib\\site-packages\\pandas\\core\\frame.py\u001b[0m in \u001b[0;36mreindex\u001b[1;34m(self, *args, **kwargs)\u001b[0m\n\u001b[0;32m   3959\u001b[0m         \u001b[0mkwargs\u001b[0m\u001b[1;33m.\u001b[0m\u001b[0mpop\u001b[0m\u001b[1;33m(\u001b[0m\u001b[1;34m\"axis\"\u001b[0m\u001b[1;33m,\u001b[0m \u001b[1;32mNone\u001b[0m\u001b[1;33m)\u001b[0m\u001b[1;33m\u001b[0m\u001b[1;33m\u001b[0m\u001b[0m\n\u001b[0;32m   3960\u001b[0m         \u001b[0mkwargs\u001b[0m\u001b[1;33m.\u001b[0m\u001b[0mpop\u001b[0m\u001b[1;33m(\u001b[0m\u001b[1;34m\"labels\"\u001b[0m\u001b[1;33m,\u001b[0m \u001b[1;32mNone\u001b[0m\u001b[1;33m)\u001b[0m\u001b[1;33m\u001b[0m\u001b[1;33m\u001b[0m\u001b[0m\n\u001b[1;32m-> 3961\u001b[1;33m         \u001b[1;32mreturn\u001b[0m \u001b[0msuper\u001b[0m\u001b[1;33m(\u001b[0m\u001b[1;33m)\u001b[0m\u001b[1;33m.\u001b[0m\u001b[0mreindex\u001b[0m\u001b[1;33m(\u001b[0m\u001b[1;33m**\u001b[0m\u001b[0mkwargs\u001b[0m\u001b[1;33m)\u001b[0m\u001b[1;33m\u001b[0m\u001b[1;33m\u001b[0m\u001b[0m\n\u001b[0m\u001b[0;32m   3962\u001b[0m \u001b[1;33m\u001b[0m\u001b[0m\n\u001b[0;32m   3963\u001b[0m     def drop(\n",
      "\u001b[1;32m~\\Anaconda3\\lib\\site-packages\\pandas\\core\\generic.py\u001b[0m in \u001b[0;36mreindex\u001b[1;34m(self, *args, **kwargs)\u001b[0m\n\u001b[0;32m   4512\u001b[0m         \u001b[1;31m# perform the reindex on the axes\u001b[0m\u001b[1;33m\u001b[0m\u001b[1;33m\u001b[0m\u001b[1;33m\u001b[0m\u001b[0m\n\u001b[0;32m   4513\u001b[0m         return self._reindex_axes(\n\u001b[1;32m-> 4514\u001b[1;33m             \u001b[0maxes\u001b[0m\u001b[1;33m,\u001b[0m \u001b[0mlevel\u001b[0m\u001b[1;33m,\u001b[0m \u001b[0mlimit\u001b[0m\u001b[1;33m,\u001b[0m \u001b[0mtolerance\u001b[0m\u001b[1;33m,\u001b[0m \u001b[0mmethod\u001b[0m\u001b[1;33m,\u001b[0m \u001b[0mfill_value\u001b[0m\u001b[1;33m,\u001b[0m \u001b[0mcopy\u001b[0m\u001b[1;33m\u001b[0m\u001b[1;33m\u001b[0m\u001b[0m\n\u001b[0m\u001b[0;32m   4515\u001b[0m         ).__finalize__(self)\n\u001b[0;32m   4516\u001b[0m \u001b[1;33m\u001b[0m\u001b[0m\n",
      "\u001b[1;32m~\\Anaconda3\\lib\\site-packages\\pandas\\core\\frame.py\u001b[0m in \u001b[0;36m_reindex_axes\u001b[1;34m(self, axes, level, limit, tolerance, method, fill_value, copy)\u001b[0m\n\u001b[0;32m   3841\u001b[0m         \u001b[1;32mif\u001b[0m \u001b[0mcolumns\u001b[0m \u001b[1;32mis\u001b[0m \u001b[1;32mnot\u001b[0m \u001b[1;32mNone\u001b[0m\u001b[1;33m:\u001b[0m\u001b[1;33m\u001b[0m\u001b[1;33m\u001b[0m\u001b[0m\n\u001b[0;32m   3842\u001b[0m             frame = frame._reindex_columns(\n\u001b[1;32m-> 3843\u001b[1;33m                 \u001b[0mcolumns\u001b[0m\u001b[1;33m,\u001b[0m \u001b[0mmethod\u001b[0m\u001b[1;33m,\u001b[0m \u001b[0mcopy\u001b[0m\u001b[1;33m,\u001b[0m \u001b[0mlevel\u001b[0m\u001b[1;33m,\u001b[0m \u001b[0mfill_value\u001b[0m\u001b[1;33m,\u001b[0m \u001b[0mlimit\u001b[0m\u001b[1;33m,\u001b[0m \u001b[0mtolerance\u001b[0m\u001b[1;33m\u001b[0m\u001b[1;33m\u001b[0m\u001b[0m\n\u001b[0m\u001b[0;32m   3844\u001b[0m             )\n\u001b[0;32m   3845\u001b[0m \u001b[1;33m\u001b[0m\u001b[0m\n",
      "\u001b[1;32m~\\Anaconda3\\lib\\site-packages\\pandas\\core\\frame.py\u001b[0m in \u001b[0;36m_reindex_columns\u001b[1;34m(self, new_columns, method, copy, level, fill_value, limit, tolerance)\u001b[0m\n\u001b[0;32m   3889\u001b[0m             \u001b[0mcopy\u001b[0m\u001b[1;33m=\u001b[0m\u001b[0mcopy\u001b[0m\u001b[1;33m,\u001b[0m\u001b[1;33m\u001b[0m\u001b[1;33m\u001b[0m\u001b[0m\n\u001b[0;32m   3890\u001b[0m             \u001b[0mfill_value\u001b[0m\u001b[1;33m=\u001b[0m\u001b[0mfill_value\u001b[0m\u001b[1;33m,\u001b[0m\u001b[1;33m\u001b[0m\u001b[1;33m\u001b[0m\u001b[0m\n\u001b[1;32m-> 3891\u001b[1;33m             \u001b[0mallow_dups\u001b[0m\u001b[1;33m=\u001b[0m\u001b[1;32mFalse\u001b[0m\u001b[1;33m,\u001b[0m\u001b[1;33m\u001b[0m\u001b[1;33m\u001b[0m\u001b[0m\n\u001b[0m\u001b[0;32m   3892\u001b[0m         )\n\u001b[0;32m   3893\u001b[0m \u001b[1;33m\u001b[0m\u001b[0m\n",
      "\u001b[1;32m~\\Anaconda3\\lib\\site-packages\\pandas\\core\\generic.py\u001b[0m in \u001b[0;36m_reindex_with_indexers\u001b[1;34m(self, reindexers, fill_value, copy, allow_dups)\u001b[0m\n\u001b[0;32m   4575\u001b[0m                 \u001b[0mfill_value\u001b[0m\u001b[1;33m=\u001b[0m\u001b[0mfill_value\u001b[0m\u001b[1;33m,\u001b[0m\u001b[1;33m\u001b[0m\u001b[1;33m\u001b[0m\u001b[0m\n\u001b[0;32m   4576\u001b[0m                 \u001b[0mallow_dups\u001b[0m\u001b[1;33m=\u001b[0m\u001b[0mallow_dups\u001b[0m\u001b[1;33m,\u001b[0m\u001b[1;33m\u001b[0m\u001b[1;33m\u001b[0m\u001b[0m\n\u001b[1;32m-> 4577\u001b[1;33m                 \u001b[0mcopy\u001b[0m\u001b[1;33m=\u001b[0m\u001b[0mcopy\u001b[0m\u001b[1;33m,\u001b[0m\u001b[1;33m\u001b[0m\u001b[1;33m\u001b[0m\u001b[0m\n\u001b[0m\u001b[0;32m   4578\u001b[0m             )\n\u001b[0;32m   4579\u001b[0m \u001b[1;33m\u001b[0m\u001b[0m\n",
      "\u001b[1;32m~\\Anaconda3\\lib\\site-packages\\pandas\\core\\internals\\managers.py\u001b[0m in \u001b[0;36mreindex_indexer\u001b[1;34m(self, new_axis, indexer, axis, fill_value, allow_dups, copy)\u001b[0m\n\u001b[0;32m   1255\u001b[0m \u001b[1;33m\u001b[0m\u001b[0m\n\u001b[0;32m   1256\u001b[0m         \u001b[1;32mif\u001b[0m \u001b[0maxis\u001b[0m \u001b[1;33m==\u001b[0m \u001b[1;36m0\u001b[0m\u001b[1;33m:\u001b[0m\u001b[1;33m\u001b[0m\u001b[1;33m\u001b[0m\u001b[0m\n\u001b[1;32m-> 1257\u001b[1;33m             \u001b[0mnew_blocks\u001b[0m \u001b[1;33m=\u001b[0m \u001b[0mself\u001b[0m\u001b[1;33m.\u001b[0m\u001b[0m_slice_take_blocks_ax0\u001b[0m\u001b[1;33m(\u001b[0m\u001b[0mindexer\u001b[0m\u001b[1;33m,\u001b[0m \u001b[0mfill_tuple\u001b[0m\u001b[1;33m=\u001b[0m\u001b[1;33m(\u001b[0m\u001b[0mfill_value\u001b[0m\u001b[1;33m,\u001b[0m\u001b[1;33m)\u001b[0m\u001b[1;33m)\u001b[0m\u001b[1;33m\u001b[0m\u001b[1;33m\u001b[0m\u001b[0m\n\u001b[0m\u001b[0;32m   1258\u001b[0m         \u001b[1;32melse\u001b[0m\u001b[1;33m:\u001b[0m\u001b[1;33m\u001b[0m\u001b[1;33m\u001b[0m\u001b[0m\n\u001b[0;32m   1259\u001b[0m             new_blocks = [\n",
      "\u001b[1;32m~\\Anaconda3\\lib\\site-packages\\pandas\\core\\internals\\managers.py\u001b[0m in \u001b[0;36m_slice_take_blocks_ax0\u001b[1;34m(self, slice_or_indexer, fill_tuple)\u001b[0m\n\u001b[0;32m   1355\u001b[0m                             \u001b[0maxis\u001b[0m\u001b[1;33m=\u001b[0m\u001b[1;36m0\u001b[0m\u001b[1;33m,\u001b[0m\u001b[1;33m\u001b[0m\u001b[1;33m\u001b[0m\u001b[0m\n\u001b[0;32m   1356\u001b[0m                             \u001b[0mnew_mgr_locs\u001b[0m\u001b[1;33m=\u001b[0m\u001b[0mmgr_locs\u001b[0m\u001b[1;33m,\u001b[0m\u001b[1;33m\u001b[0m\u001b[1;33m\u001b[0m\u001b[0m\n\u001b[1;32m-> 1357\u001b[1;33m                             \u001b[0mfill_tuple\u001b[0m\u001b[1;33m=\u001b[0m\u001b[1;32mNone\u001b[0m\u001b[1;33m,\u001b[0m\u001b[1;33m\u001b[0m\u001b[1;33m\u001b[0m\u001b[0m\n\u001b[0m\u001b[0;32m   1358\u001b[0m                         )\n\u001b[0;32m   1359\u001b[0m                     )\n",
      "\u001b[1;32m~\\Anaconda3\\lib\\site-packages\\pandas\\core\\internals\\blocks.py\u001b[0m in \u001b[0;36mtake_nd\u001b[1;34m(self, indexer, axis, new_mgr_locs, fill_tuple)\u001b[0m\n\u001b[0;32m   1312\u001b[0m \u001b[1;33m\u001b[0m\u001b[0m\n\u001b[0;32m   1313\u001b[0m         new_values = algos.take_nd(\n\u001b[1;32m-> 1314\u001b[1;33m             \u001b[0mvalues\u001b[0m\u001b[1;33m,\u001b[0m \u001b[0mindexer\u001b[0m\u001b[1;33m,\u001b[0m \u001b[0maxis\u001b[0m\u001b[1;33m=\u001b[0m\u001b[0maxis\u001b[0m\u001b[1;33m,\u001b[0m \u001b[0mallow_fill\u001b[0m\u001b[1;33m=\u001b[0m\u001b[0mallow_fill\u001b[0m\u001b[1;33m,\u001b[0m \u001b[0mfill_value\u001b[0m\u001b[1;33m=\u001b[0m\u001b[0mfill_value\u001b[0m\u001b[1;33m\u001b[0m\u001b[1;33m\u001b[0m\u001b[0m\n\u001b[0m\u001b[0;32m   1315\u001b[0m         )\n\u001b[0;32m   1316\u001b[0m \u001b[1;33m\u001b[0m\u001b[0m\n",
      "\u001b[1;32m~\\Anaconda3\\lib\\site-packages\\pandas\\core\\algorithms.py\u001b[0m in \u001b[0;36mtake_nd\u001b[1;34m(arr, indexer, axis, out, fill_value, mask_info, allow_fill)\u001b[0m\n\u001b[0;32m   1714\u001b[0m             \u001b[0mout\u001b[0m \u001b[1;33m=\u001b[0m \u001b[0mnp\u001b[0m\u001b[1;33m.\u001b[0m\u001b[0mempty\u001b[0m\u001b[1;33m(\u001b[0m\u001b[0mout_shape\u001b[0m\u001b[1;33m,\u001b[0m \u001b[0mdtype\u001b[0m\u001b[1;33m=\u001b[0m\u001b[0mdtype\u001b[0m\u001b[1;33m,\u001b[0m \u001b[0morder\u001b[0m\u001b[1;33m=\u001b[0m\u001b[1;34m\"F\"\u001b[0m\u001b[1;33m)\u001b[0m\u001b[1;33m\u001b[0m\u001b[1;33m\u001b[0m\u001b[0m\n\u001b[0;32m   1715\u001b[0m         \u001b[1;32melse\u001b[0m\u001b[1;33m:\u001b[0m\u001b[1;33m\u001b[0m\u001b[1;33m\u001b[0m\u001b[0m\n\u001b[1;32m-> 1716\u001b[1;33m             \u001b[0mout\u001b[0m \u001b[1;33m=\u001b[0m \u001b[0mnp\u001b[0m\u001b[1;33m.\u001b[0m\u001b[0mempty\u001b[0m\u001b[1;33m(\u001b[0m\u001b[0mout_shape\u001b[0m\u001b[1;33m,\u001b[0m \u001b[0mdtype\u001b[0m\u001b[1;33m=\u001b[0m\u001b[0mdtype\u001b[0m\u001b[1;33m)\u001b[0m\u001b[1;33m\u001b[0m\u001b[1;33m\u001b[0m\u001b[0m\n\u001b[0m\u001b[0;32m   1717\u001b[0m \u001b[1;33m\u001b[0m\u001b[0m\n\u001b[0;32m   1718\u001b[0m     func = _get_take_nd_function(\n",
      "\u001b[1;31mMemoryError\u001b[0m: "
     ]
    }
   ],
   "source": [
    "donations_cohort_with_cycle.groupby('cohort_gift_pattern').sum()"
   ]
  },
  {
   "cell_type": "code",
   "execution_count": 4,
   "metadata": {},
   "outputs": [
    {
     "name": "stdout",
     "output_type": "stream",
     "text": [
      "id                                     0001107b9faa5c3bb42cfcecece1d587\n",
      "first_gift_year                                              2013-01-01\n",
      "lapsed_count                                                          6\n",
      "recovered_count                                                       6\n",
      "max_consec_giving_years                                               6\n",
      "total_giving_years                                                    6\n",
      "count_2013                                                            7\n",
      "count_2014                                                           10\n",
      "count_2015                                                           12\n",
      "count_2016                                                            8\n",
      "count_2017                                                            6\n",
      "count_yr0                                                             7\n",
      "count_yr1                                                            10\n",
      "count_yr2                                                            12\n",
      "count_yr3                                                             8\n",
      "count_yr4                                                             6\n",
      "initial                                                               0\n",
      "first_gift                                                            0\n",
      "second_year                                                           0\n",
      "second_with_gap                                                       0\n",
      "multi_year                                                            0\n",
      "key_multi_year                                                        1\n",
      "recovered_multi_year                                                  0\n",
      "inconsistent_multi_year                                               0\n",
      "recovered_key_multi_year                                              0\n",
      "lapsed_after_first                                                    0\n",
      "lapsed_after_first_long                                               0\n",
      "lapsed_after_second                                                   0\n",
      "lapsed_multi_year                                                     0\n",
      "lapsed_long_multi_year                                                0\n",
      "lapsed_key_multi_year                                                 0\n",
      "lapsed_long                                                           0\n",
      "cohort_0_first_gift                                                   1\n",
      "cohort_1_lapsed_after_first                                           0\n",
      "cohort_1_second_year                                                  1\n",
      "cohort_2_lapsed_after_first_long                                      0\n",
      "cohort_2_lapsed_after_second                                          0\n",
      "cohort_2_multi_year                                                   1\n",
      "cohort_2_second_with_gap                                              0\n",
      "cohort_3_first_gift                                                   0\n",
      "cohort_3_inconsistent_multi_year                                      0\n",
      "cohort_3_key_multi_year                                               1\n",
      "cohort_3_lapsed_after_second                                          0\n",
      "cohort_3_lapsed_long                                                  0\n",
      "cohort_3_lapsed_multi_year                                            0\n",
      "cohort_4_first_gift                                                   0\n",
      "cohort_4_inconsistent_multi_year                                      0\n",
      "cohort_4_key_multi_year                                               1\n",
      "cohort_4_lapsed_after_first                                           0\n",
      "cohort_4_lapsed_key_multi_year                                        0\n",
      "cohort_4_lapsed_long                                                  0\n",
      "cohort_4_lapsed_long_multi_year                                       0\n",
      "cohort_4_lapsed_multi_year                                            0\n",
      "cohort_4_multi_year                                                   0\n",
      "cohort_4_recovered_multi_year                                         0\n",
      "cohort_4_second_year                                                  0\n",
      "cohort_5_first_gift                                                   0\n",
      "cohort_5_inconsistent_multi_year                                      0\n",
      "cohort_5_key_multi_year                                               1\n",
      "cohort_5_lapsed_after_first                                           0\n",
      "cohort_5_lapsed_after_first_long                                      0\n",
      "cohort_5_lapsed_after_second                                          0\n",
      "cohort_5_lapsed_key_multi_year                                        0\n",
      "cohort_5_lapsed_long                                                  0\n",
      "cohort_5_lapsed_long_key_multi_year                                   0\n",
      "cohort_5_lapsed_long_multi_year                                       0\n",
      "cohort_5_lapsed_multi_year                                            0\n",
      "cohort_5_multi_year                                                   0\n",
      "cohort_5_recovered_key_multi_year                                     0\n",
      "cohort_5_recovered_multi_year                                         0\n",
      "cohort_5_second_with_gap                                              0\n",
      "cohort_5_second_year                                                  0\n",
      "cohort_6_first_gift                                                   0\n",
      "cohort_6_key_multi_year                                               0\n",
      "cohort_6_lapsed_after_first                                           0\n",
      "cohort_6_lapsed_after_first_long                                      0\n",
      "cohort_6_lapsed_after_second                                          0\n",
      "cohort_6_lapsed_key_multi_year                                        0\n",
      "cohort_6_lapsed_long                                                  0\n",
      "cohort_6_lapsed_long_key_multi_year                                   0\n",
      "cohort_6_lapsed_long_multi_year                                       0\n",
      "cohort_6_multi_year                                                 NaN\n",
      "lapsed_amount                                                         0\n",
      "recovered_amount                                                      0\n",
      "amount_2013                                                         125\n",
      "amount_2014                                                         175\n",
      "amount_2015                                                         240\n",
      "amount_2016                                                         195\n",
      "amount_2017                                                         160\n",
      "lapsed_amount_2013                                                    0\n",
      "lapsed_amount_2014                                                    0\n",
      "lapsed_amount_2015                                                    0\n",
      "lapsed_amount_2016                                                    0\n",
      "lapsed_amount_2017                                                    0\n",
      "upgraded_amount_2013                                                  0\n",
      "upgraded_amount_2014                                                 50\n",
      "upgraded_amount_2015                                                 65\n",
      "upgraded_amount_2016                                                  0\n",
      "upgraded_amount_2017                                                  0\n",
      "downgraded_amount_2013                                                0\n",
      "downgraded_amount_2014                                                0\n",
      "downgraded_amount_2015                                                0\n",
      "downgraded_amount_2016                                               45\n",
      "downgraded_amount_2017                                               35\n",
      "amount_yr0                                                          125\n",
      "amount_yr1                                                          175\n",
      "amount_yr2                                                          240\n",
      "amount_yr3                                                          195\n",
      "amount_yr4                                                          160\n",
      "lapsed_amount_yr0                                                     0\n",
      "lapsed_amount_yr1                                                     0\n",
      "lapsed_amount_yr2                                                     0\n",
      "lapsed_amount_yr3                                                     0\n",
      "lapsed_amount_yr4                                                     0\n",
      "upgraded_amount_yr0                                                   0\n",
      "upgraded_amount_yr1                                                  50\n",
      "upgraded_amount_yr2                                                  65\n",
      "upgraded_amount_yr3                                                   0\n",
      "upgraded_amount_yr4                                                   0\n",
      "downgraded_amount_yr0                                                 0\n",
      "downgraded_amount_yr1                                                 0\n",
      "downgraded_amount_yr2                                                 0\n",
      "downgraded_amount_yr3                                                45\n",
      "downgraded_amount_yr4                                                35\n",
      "amount_01_2013                                                        0\n",
      "amount_02_2013                                                        0\n",
      "amount_03_2013                                                        0\n",
      "amount_04_2013                                                        0\n",
      "amount_05_2013                                                        0\n",
      "amount_06_2013                                                       50\n",
      "amount_07_2013                                                        0\n",
      "amount_08_2013                                                        0\n",
      "amount_09_2013                                                       45\n",
      "amount_10_2013                                                        0\n",
      "amount_11_2013                                                        0\n",
      "amount_12_2013                                                       30\n",
      "amount_01_2014                                                        0\n",
      "amount_02_2014                                                        0\n",
      "amount_03_2014                                                       50\n",
      "amount_04_2014                                                       25\n",
      "amount_05_2014                                                        0\n",
      "amount_06_2014                                                       25\n",
      "amount_07_2014                                                        0\n",
      "amount_08_2014                                                       65\n",
      "amount_09_2014                                                       10\n",
      "amount_10_2014                                                        0\n",
      "amount_11_2014                                                        0\n",
      "amount_12_2014                                                        0\n",
      "amount_01_2015                                                        0\n",
      "amount_02_2015                                                       50\n",
      "amount_03_2015                                                        0\n",
      "amount_04_2015                                                        0\n",
      "amount_05_2015                                                       50\n",
      "amount_06_2015                                                        0\n",
      "amount_07_2015                                                       50\n",
      "amount_08_2015                                                       50\n",
      "amount_09_2015                                                       40\n",
      "amount_10_2015                                                        0\n",
      "amount_11_2015                                                        0\n",
      "amount_12_2015                                                        0\n",
      "amount_01_2016                                                        0\n",
      "amount_02_2016                                                        0\n",
      "amount_03_2016                                                       50\n",
      "amount_04_2016                                                        0\n",
      "amount_05_2016                                                       15\n",
      "amount_06_2016                                                        0\n",
      "amount_07_2016                                                        0\n",
      "amount_08_2016                                                       70\n",
      "amount_09_2016                                                       10\n",
      "amount_10_2016                                                       50\n",
      "amount_11_2016                                                        0\n",
      "amount_12_2016                                                        0\n",
      "amount_01_2017                                                        0\n",
      "amount_02_2017                                                        0\n",
      "amount_03_2017                                                        0\n",
      "amount_04_2017                                                        0\n",
      "amount_05_2017                                                       75\n",
      "amount_06_2017                                                        0\n",
      "amount_07_2017                                                       25\n",
      "amount_08_2017                                                        0\n",
      "amount_09_2017                                                       10\n",
      "amount_10_2017                                                       30\n",
      "amount_11_2017                                                       20\n",
      "amount_12_2017                                                        0\n",
      "amount_total                                                        895\n",
      "count_total                                                          43\n",
      "cohort_gift_pattern                                          0,1,2,3,4,\n",
      "Name: 41, dtype: object\n"
     ]
    }
   ],
   "source": [
    "with pd.option_context('display.max_rows', None, 'display.max_columns', None):\n",
    "    print(donations_cohort_with_cycle.iloc[41])"
   ]
  },
  {
   "cell_type": "code",
   "execution_count": 5,
   "metadata": {},
   "outputs": [
    {
     "name": "stdout",
     "output_type": "stream",
     "text": [
      "id\n",
      "first_gift_year\n",
      "lapsed_count\n",
      "recovered_count\n",
      "max_consec_giving_years\n",
      "total_giving_years\n",
      "count_2013\n",
      "count_2014\n",
      "count_2015\n",
      "count_2016\n",
      "count_2017\n",
      "count_yr0\n",
      "count_yr1\n",
      "count_yr2\n",
      "count_yr3\n",
      "count_yr4\n",
      "initial\n",
      "first_gift\n",
      "second_year\n",
      "second_with_gap\n",
      "multi_year\n",
      "key_multi_year\n",
      "recovered_multi_year\n",
      "inconsistent_multi_year \n",
      "recovered_key_multi_year\n",
      "lapsed_after_first\n",
      "lapsed_after_first_long\n",
      "lapsed_after_second\n",
      "lapsed_multi_year\n",
      "lapsed_long_multi_year\n",
      "lapsed_key_multi_year\n",
      "lapsed_long\n",
      "cohort_0_first_gift\n",
      "cohort_1_lapsed_after_first\n",
      "cohort_1_second_year\n",
      "cohort_2_lapsed_after_first_long\n",
      "cohort_2_lapsed_after_second\n",
      "cohort_2_multi_year\n",
      "cohort_2_second_with_gap\n",
      "cohort_3_first_gift\n",
      "cohort_3_inconsistent_multi_year\n",
      "cohort_3_key_multi_year\n",
      "cohort_3_lapsed_after_second\n",
      "cohort_3_lapsed_long\n",
      "cohort_3_lapsed_multi_year\n",
      "cohort_4_first_gift\n",
      "cohort_4_inconsistent_multi_year\n",
      "cohort_4_key_multi_year\n",
      "cohort_4_lapsed_after_first\n",
      "cohort_4_lapsed_key_multi_year\n",
      "cohort_4_lapsed_long\n",
      "cohort_4_lapsed_long_multi_year\n",
      "cohort_4_lapsed_multi_year\n",
      "cohort_4_multi_year\n",
      "cohort_4_recovered_multi_year\n",
      "cohort_4_second_year\n",
      "cohort_5_first_gift\n",
      "cohort_5_inconsistent_multi_year\n",
      "cohort_5_key_multi_year\n",
      "cohort_5_lapsed_after_first\n",
      "cohort_5_lapsed_after_first_long\n",
      "cohort_5_lapsed_after_second\n",
      "cohort_5_lapsed_key_multi_year\n",
      "cohort_5_lapsed_long\n",
      "cohort_5_lapsed_long_key_multi_year\n",
      "cohort_5_lapsed_long_multi_year\n",
      "cohort_5_lapsed_multi_year\n",
      "cohort_5_multi_year\n",
      "cohort_5_recovered_key_multi_year\n",
      "cohort_5_recovered_multi_year\n",
      "cohort_5_second_with_gap\n",
      "cohort_5_second_year\n",
      "cohort_6_first_gift\n",
      "cohort_6_key_multi_year\n",
      "cohort_6_lapsed_after_first\n",
      "cohort_6_lapsed_after_first_long\n",
      "cohort_6_lapsed_after_second\n",
      "cohort_6_lapsed_key_multi_year\n",
      "cohort_6_lapsed_long\n",
      "cohort_6_lapsed_long_key_multi_year\n",
      "cohort_6_lapsed_long_multi_year\n",
      "cohort_6_multi_year\n",
      "lapsed_amount\n",
      "recovered_amount\n",
      "amount_2013\n",
      "amount_2014\n",
      "amount_2015\n",
      "amount_2016\n",
      "amount_2017\n",
      "lapsed_amount_2013\n",
      "lapsed_amount_2014\n",
      "lapsed_amount_2015\n",
      "lapsed_amount_2016\n",
      "lapsed_amount_2017\n",
      "upgraded_amount_2013\n",
      "upgraded_amount_2014\n",
      "upgraded_amount_2015\n",
      "upgraded_amount_2016\n",
      "upgraded_amount_2017\n",
      "downgraded_amount_2013\n",
      "downgraded_amount_2014\n",
      "downgraded_amount_2015\n",
      "downgraded_amount_2016\n",
      "downgraded_amount_2017\n",
      "amount_yr0\n",
      "amount_yr1\n",
      "amount_yr2\n",
      "amount_yr3\n",
      "amount_yr4\n",
      "lapsed_amount_yr0\n",
      "lapsed_amount_yr1\n",
      "lapsed_amount_yr2\n",
      "lapsed_amount_yr3\n",
      "lapsed_amount_yr4\n",
      "upgraded_amount_yr0\n",
      "upgraded_amount_yr1\n",
      "upgraded_amount_yr2\n",
      "upgraded_amount_yr3\n",
      "upgraded_amount_yr4\n",
      "downgraded_amount_yr0\n",
      "downgraded_amount_yr1\n",
      "downgraded_amount_yr2\n",
      "downgraded_amount_yr3\n",
      "downgraded_amount_yr4\n",
      "amount_01_2013\n",
      "amount_02_2013\n",
      "amount_03_2013\n",
      "amount_04_2013\n",
      "amount_05_2013\n",
      "amount_06_2013\n",
      "amount_07_2013\n",
      "amount_08_2013\n",
      "amount_09_2013\n",
      "amount_10_2013\n",
      "amount_11_2013\n",
      "amount_12_2013\n",
      "amount_01_2014\n",
      "amount_02_2014\n",
      "amount_03_2014\n",
      "amount_04_2014\n",
      "amount_05_2014\n",
      "amount_06_2014\n",
      "amount_07_2014\n",
      "amount_08_2014\n",
      "amount_09_2014\n",
      "amount_10_2014\n",
      "amount_11_2014\n",
      "amount_12_2014\n",
      "amount_01_2015\n",
      "amount_02_2015\n",
      "amount_03_2015\n",
      "amount_04_2015\n",
      "amount_05_2015\n",
      "amount_06_2015\n",
      "amount_07_2015\n",
      "amount_08_2015\n",
      "amount_09_2015\n",
      "amount_10_2015\n",
      "amount_11_2015\n",
      "amount_12_2015\n",
      "amount_01_2016\n",
      "amount_02_2016\n",
      "amount_03_2016\n",
      "amount_04_2016\n",
      "amount_05_2016\n",
      "amount_06_2016\n",
      "amount_07_2016\n",
      "amount_08_2016\n",
      "amount_09_2016\n",
      "amount_10_2016\n",
      "amount_11_2016\n",
      "amount_12_2016\n",
      "amount_01_2017\n",
      "amount_02_2017\n",
      "amount_03_2017\n",
      "amount_04_2017\n",
      "amount_05_2017\n",
      "amount_06_2017\n",
      "amount_07_2017\n",
      "amount_08_2017\n",
      "amount_09_2017\n",
      "amount_10_2017\n",
      "amount_11_2017\n",
      "amount_12_2017\n",
      "amount_total\n",
      "count_total\n",
      "cohort_gift_pattern\n"
     ]
    }
   ],
   "source": [
    "for col in donations_cohort_with_cycle.columns:\n",
    "    print(col)"
   ]
  },
  {
   "cell_type": "code",
   "execution_count": 6,
   "metadata": {},
   "outputs": [
    {
     "data": {
      "text/plain": [
       "first_gift_year\n",
       "2012-01-01       16421.14\n",
       "2013-01-01    15267703.98\n",
       "2014-01-01     7745897.26\n",
       "2015-01-01     8280549.87\n",
       "2016-01-01    10475760.27\n",
       "2017-01-01     4549913.20\n",
       "2018-01-01           0.00\n",
       "Name: amount_yr1, dtype: float64"
      ]
     },
     "execution_count": 6,
     "metadata": {},
     "output_type": "execute_result"
    }
   ],
   "source": [
    "donations_cohort_with_cycle.groupby('first_gift_year').sum()['amount_yr1'].round(2)"
   ]
  },
  {
   "cell_type": "code",
   "execution_count": 7,
   "metadata": {},
   "outputs": [
    {
     "data": {
      "text/plain": [
       "0,3,     17619\n",
       "0,3,4     3108\n",
       "Name: cohort_gift_pattern, dtype: int64"
      ]
     },
     "execution_count": 7,
     "metadata": {},
     "output_type": "execute_result"
    }
   ],
   "source": [
    "donations_cohort_with_cycle.query('cohort_3_first_gift > 0').cohort_gift_pattern.value_counts()"
   ]
  },
  {
   "cell_type": "code",
   "execution_count": 8,
   "metadata": {},
   "outputs": [
    {
     "name": "stdout",
     "output_type": "stream",
     "text": [
      "cohort_1_lapsed_after_first:  0,          1548735\n",
      "0,2,          44403\n",
      "0,3,          17619\n",
      "0,2,3,         7626\n",
      "0,4,           6912\n",
      "0,3,4          3108\n",
      "0,2,3,4,       2735\n",
      "0,2,4,         2035\n",
      "Name: cohort_gift_pattern, dtype: int64\n",
      "cohort_1_second_year:  0,1,          162004\n",
      "0,1,2,         37639\n",
      "0,1,2,3,       13781\n",
      "0,1,2,3,4,     13102\n",
      "0,1,3,          8134\n",
      "0,1,4,          2994\n",
      "0,1,2,4,        2967\n",
      "0,1,3,4,        2815\n",
      "Name: cohort_gift_pattern, dtype: int64\n"
     ]
    }
   ],
   "source": [
    "print(f'cohort_1_lapsed_after_first: ', donations_cohort_with_cycle.query('cohort_1_lapsed_after_first > 0').cohort_gift_pattern.value_counts())\n",
    "print(f'cohort_1_second_year: ', donations_cohort_with_cycle.query('cohort_1_second_year > 0').cohort_gift_pattern.value_counts())\n"
   ]
  },
  {
   "cell_type": "code",
   "execution_count": 9,
   "metadata": {},
   "outputs": [
    {
     "name": "stdout",
     "output_type": "stream",
     "text": [
      "cohort_2_lapsed_after_first_long:  0,       1143733\n",
      "0,3,       17619\n",
      "0,4,        6912\n",
      "0,3,4       3108\n",
      "Name: cohort_gift_pattern, dtype: int64\n",
      "cohort_2_lapsed_after_second:  0,1,        132013\n",
      "0,1,3,        8134\n",
      "0,1,4,        2994\n",
      "0,1,3,4,      2815\n",
      "Name: cohort_gift_pattern, dtype: int64\n",
      "cohort_2_multi_year:  0,1,2,        37639\n",
      "0,1,2,3,      13781\n",
      "0,1,2,3,4,    13102\n",
      "0,1,2,4,       2967\n",
      "Name: cohort_gift_pattern, dtype: int64\n",
      "cohort_2_second_with_gap:  0,2,        44403\n",
      "0,2,3,       7626\n",
      "0,2,3,4,     2735\n",
      "0,2,4,       2035\n",
      "Name: cohort_gift_pattern, dtype: int64\n"
     ]
    }
   ],
   "source": [
    "\n",
    "print(f'cohort_2_lapsed_after_first_long: ', donations_cohort_with_cycle.query('cohort_2_lapsed_after_first_long > 0').cohort_gift_pattern.value_counts())\n",
    "print(f'cohort_2_lapsed_after_second: ', donations_cohort_with_cycle.query('cohort_2_lapsed_after_second > 0').cohort_gift_pattern.value_counts())\n",
    "print(f'cohort_2_multi_year: ', donations_cohort_with_cycle.query('cohort_2_multi_year > 0').cohort_gift_pattern.value_counts())\n",
    "print(f'cohort_2_second_with_gap: ', donations_cohort_with_cycle.query('cohort_2_second_with_gap > 0').cohort_gift_pattern.value_counts())\n"
   ]
  },
  {
   "cell_type": "code",
   "execution_count": 10,
   "metadata": {},
   "outputs": [
    {
     "name": "stdout",
     "output_type": "stream",
     "text": [
      "cohort_3_first_gift:  0,3,     17619\n",
      "0,3,4     3108\n",
      "Name: cohort_gift_pattern, dtype: int64\n",
      "cohort_3_inconsistent_multi_year:  0,1,3,      8134\n",
      "0,2,3,      7626\n",
      "0,1,3,4,    2815\n",
      "0,2,3,4,    2735\n",
      "Name: cohort_gift_pattern, dtype: int64\n",
      "cohort_3_key_multi_year:  0,1,2,3,      13781\n",
      "0,1,2,3,4,    13102\n",
      "Name: cohort_gift_pattern, dtype: int64\n",
      "cohort_4_lapsed_after_second:  0,2,      36065\n",
      "0,2,4,     2035\n",
      "Name: cohort_gift_pattern, dtype: int64\n",
      "cohort_4_lapsed_long:  0,        763012\n",
      "0,1,       85811\n",
      "0,4,        6912\n",
      "0,1,4,      2994\n",
      "Name: cohort_gift_pattern, dtype: int64\n",
      "cohort_4_lapsed_multi_year:  0,1,2,      27304\n",
      "0,1,2,4,     2967\n",
      "Name: cohort_gift_pattern, dtype: int64\n"
     ]
    }
   ],
   "source": [
    "print(f'cohort_3_first_gift: ', donations_cohort_with_cycle.query('cohort_3_first_gift > 0').cohort_gift_pattern.value_counts())\n",
    "print(f'cohort_3_inconsistent_multi_year: ', donations_cohort_with_cycle.query('cohort_3_inconsistent_multi_year > 0').cohort_gift_pattern.value_counts())\n",
    "print(f'cohort_3_key_multi_year: ', donations_cohort_with_cycle.query('cohort_3_key_multi_year > 0').cohort_gift_pattern.value_counts())\n",
    "\n",
    "print(f'cohort_4_lapsed_after_second: ', donations_cohort_with_cycle.query('cohort_3_lapsed_after_second > 0').cohort_gift_pattern.value_counts())\n",
    "print(f'cohort_4_lapsed_long: ', donations_cohort_with_cycle.query('cohort_3_lapsed_long > 0').cohort_gift_pattern.value_counts())\n",
    "\n",
    "print(f'cohort_4_lapsed_multi_year: ', donations_cohort_with_cycle.query('cohort_3_lapsed_multi_year > 0').cohort_gift_pattern.value_counts())\n"
   ]
  },
  {
   "cell_type": "code",
   "execution_count": 11,
   "metadata": {},
   "outputs": [
    {
     "name": "stdout",
     "output_type": "stream",
     "text": [
      "cohort_4_first_gift:  0,4,      6912\n",
      "0,1,4,    2994\n",
      "Name: cohort_gift_pattern, dtype: int64\n",
      "cohort_4_inconsistent_multi_year:  0,2,4,    2035\n",
      "Name: cohort_gift_pattern, dtype: int64\n",
      "cohort_4_key_multi_year:  0,1,2,3,4,    13102\n",
      "Name: cohort_gift_pattern, dtype: int64\n",
      "cohort_4_lapsed_after_first:  0,3,    14084\n",
      "Name: cohort_gift_pattern, dtype: int64\n",
      "cohort_4_lapsed_key_multi_year:  0,1,2,3,    9184\n",
      "Name: cohort_gift_pattern, dtype: int64\n",
      "cohort_4_lapsed_long:  0,      474008\n",
      "0,1,     56793\n",
      "0,2,     21660\n",
      "Name: cohort_gift_pattern, dtype: int64\n",
      "cohort_4_lapsed_long_multi_year:  0,1,2,    16578\n",
      "Name: cohort_gift_pattern, dtype: int64\n",
      "cohort_4_lapsed_multi_year:  0,1,3,    6397\n",
      "0,2,3,    5511\n",
      "Name: cohort_gift_pattern, dtype: int64\n",
      "cohort_4_multi_year:  0,1,3,4,    2815\n",
      "0,2,3,4,    2735\n",
      "Name: cohort_gift_pattern, dtype: int64\n",
      "cohort_4_recovered_multi_year:  0,1,2,4,    2967\n",
      "Name: cohort_gift_pattern, dtype: int64\n",
      "cohort_4_second_year:  0,3,4    3108\n",
      "Name: cohort_gift_pattern, dtype: int64\n"
     ]
    }
   ],
   "source": [
    "print(f'cohort_4_first_gift: ', donations_cohort_with_cycle.query('cohort_4_first_gift > 0').cohort_gift_pattern.value_counts())\n",
    "print(f'cohort_4_inconsistent_multi_year: ', donations_cohort_with_cycle.query('cohort_4_inconsistent_multi_year > 0').cohort_gift_pattern.value_counts())\n",
    "print(f'cohort_4_key_multi_year: ', donations_cohort_with_cycle.query('cohort_4_key_multi_year > 0').cohort_gift_pattern.value_counts())\n",
    "\n",
    "print(f'cohort_4_lapsed_after_first: ', donations_cohort_with_cycle.query('cohort_4_lapsed_after_first > 0').cohort_gift_pattern.value_counts())\n",
    "print(f'cohort_4_lapsed_key_multi_year: ', donations_cohort_with_cycle.query('cohort_4_lapsed_key_multi_year > 0').cohort_gift_pattern.value_counts())\n",
    "print(f'cohort_4_lapsed_long: ', donations_cohort_with_cycle.query('cohort_4_lapsed_long > 0').cohort_gift_pattern.value_counts())\n",
    "print(f'cohort_4_lapsed_long_multi_year: ', donations_cohort_with_cycle.query('cohort_4_lapsed_long_multi_year > 0').cohort_gift_pattern.value_counts())\n",
    "\n",
    "print(f'cohort_4_lapsed_multi_year: ', donations_cohort_with_cycle.query('cohort_4_lapsed_multi_year > 0').cohort_gift_pattern.value_counts())\n",
    "print(f'cohort_4_multi_year: ', donations_cohort_with_cycle.query('cohort_4_multi_year > 0').cohort_gift_pattern.value_counts())\n",
    "print(f'cohort_4_recovered_multi_year: ', donations_cohort_with_cycle.query('cohort_4_recovered_multi_year > 0').cohort_gift_pattern.value_counts())\n",
    "print(f'cohort_4_second_year: ', donations_cohort_with_cycle.query('cohort_4_second_year > 0').cohort_gift_pattern.value_counts())\n"
   ]
  },
  {
   "cell_type": "code",
   "execution_count": 12,
   "metadata": {},
   "outputs": [
    {
     "name": "stdout",
     "output_type": "stream",
     "text": [
      "cohort_5_first_gift:  0,        1332\n",
      "0,1,       463\n",
      "0,1,2,     390\n",
      "0,2,       254\n",
      "Name: cohort_gift_pattern, dtype: int64\n",
      "cohort_5_inconsistent_multi_year:  0,1,2,4,    562\n",
      "Name: cohort_gift_pattern, dtype: int64\n",
      "cohort_5_key_multi_year:  0,1,2,3,4,    5115\n",
      "0,2,3,4,       606\n",
      "0,1,3,4,       570\n",
      "Name: cohort_gift_pattern, dtype: int64\n",
      "cohort_5_lapsed_after_first:  0,4,      4508\n",
      "0,1,4,    1826\n",
      "Name: cohort_gift_pattern, dtype: int64\n",
      "cohort_5_lapsed_after_first_long:  0,3,    6462\n",
      "Name: cohort_gift_pattern, dtype: int64\n",
      "cohort_5_lapsed_after_second:  0,3,4    1740\n",
      "Name: cohort_gift_pattern, dtype: int64\n",
      "cohort_5_lapsed_key_multi_year:  0,1,2,3,4,    4767\n",
      "Name: cohort_gift_pattern, dtype: int64\n",
      "cohort_5_lapsed_long:  0,      226577\n",
      "0,1,     28372\n",
      "0,2,     10138\n",
      "Name: cohort_gift_pattern, dtype: int64\n",
      "cohort_5_lapsed_long_key_multi_year:  0,1,2,3,    3925\n",
      "Name: cohort_gift_pattern, dtype: int64\n",
      "cohort_5_lapsed_long_multi_year:  0,1,2,    9038\n",
      "0,1,3,    2878\n",
      "0,2,3,    2231\n",
      "Name: cohort_gift_pattern, dtype: int64\n",
      "cohort_5_lapsed_multi_year:  0,1,2,4,    1777\n",
      "0,1,3,4,    1392\n",
      "0,2,3,4,    1292\n",
      "0,2,4,      1172\n",
      "Name: cohort_gift_pattern, dtype: int64\n",
      "cohort_5_multi_year:  0,3,4     455\n",
      "0,2,4,    281\n",
      "Name: cohort_gift_pattern, dtype: int64\n",
      "cohort_5_recovered_key_multi_year:  0,1,2,3,    518\n",
      "Name: cohort_gift_pattern, dtype: int64\n",
      "cohort_5_recovered_multi_year:  0,1,3,    199\n",
      "0,2,3,    181\n",
      "Name: cohort_gift_pattern, dtype: int64\n",
      "cohort_5_second_with_gap:  0,3,    315\n",
      "Name: cohort_gift_pattern, dtype: int64\n",
      "cohort_5_second_year:  0,4,      502\n",
      "0,1,4,    371\n",
      "Name: cohort_gift_pattern, dtype: int64\n"
     ]
    }
   ],
   "source": [
    "print(f'cohort_5_first_gift: ', donations_cohort_with_cycle.query('cohort_5_first_gift > 0').cohort_gift_pattern.value_counts())\n",
    "print(f'cohort_5_inconsistent_multi_year: ', donations_cohort_with_cycle.query('cohort_5_inconsistent_multi_year > 0').cohort_gift_pattern.value_counts())\n",
    "print(f'cohort_5_key_multi_year: ', donations_cohort_with_cycle.query('cohort_5_key_multi_year > 0').cohort_gift_pattern.value_counts())\n",
    "\n",
    "print(f'cohort_5_lapsed_after_first: ', donations_cohort_with_cycle.query('cohort_5_lapsed_after_first > 0').cohort_gift_pattern.value_counts())\n",
    "print(f'cohort_5_lapsed_after_first_long: ', donations_cohort_with_cycle.query('cohort_5_lapsed_after_first_long > 0').cohort_gift_pattern.value_counts())\n",
    "print(f'cohort_5_lapsed_after_second: ', donations_cohort_with_cycle.query('cohort_5_lapsed_after_second > 0').cohort_gift_pattern.value_counts())\n",
    "\n",
    "print(f'cohort_5_lapsed_key_multi_year: ', donations_cohort_with_cycle.query('cohort_5_lapsed_key_multi_year > 0').cohort_gift_pattern.value_counts())\n",
    "print(f'cohort_5_lapsed_long: ', donations_cohort_with_cycle.query('cohort_5_lapsed_long > 0').cohort_gift_pattern.value_counts())\n",
    "print(f'cohort_5_lapsed_long_key_multi_year: ', donations_cohort_with_cycle.query('cohort_5_lapsed_long_key_multi_year > 0').cohort_gift_pattern.value_counts())\n",
    "print(f'cohort_5_lapsed_long_multi_year: ', donations_cohort_with_cycle.query('cohort_5_lapsed_long_multi_year > 0').cohort_gift_pattern.value_counts())\n",
    "\n",
    "print(f'cohort_5_lapsed_multi_year: ', donations_cohort_with_cycle.query('cohort_5_lapsed_multi_year > 0').cohort_gift_pattern.value_counts())\n",
    "print(f'cohort_5_multi_year: ', donations_cohort_with_cycle.query('cohort_5_multi_year > 0').cohort_gift_pattern.value_counts())\n",
    "print(f'cohort_5_recovered_key_multi_year: ', donations_cohort_with_cycle.query('cohort_5_recovered_key_multi_year > 0').cohort_gift_pattern.value_counts())\n",
    "print(f'cohort_5_recovered_multi_year: ', donations_cohort_with_cycle.query('cohort_5_recovered_multi_year > 0').cohort_gift_pattern.value_counts())\n",
    "\n",
    "print(f'cohort_5_second_with_gap: ', donations_cohort_with_cycle.query('cohort_5_second_with_gap > 0').cohort_gift_pattern.value_counts())\n",
    "print(f'cohort_5_second_year: ', donations_cohort_with_cycle.query('cohort_5_second_year > 0').cohort_gift_pattern.value_counts())"
   ]
  },
  {
   "cell_type": "code",
   "execution_count": 13,
   "metadata": {},
   "outputs": [
    {
     "name": "stdout",
     "output_type": "stream",
     "text": [
      "cohort_6_first_gift:  0,    1\n",
      "Name: cohort_gift_pattern, dtype: int64\n",
      "cohort_6_key_multi_year:  0,1,2,3,4,    1\n",
      "Name: cohort_gift_pattern, dtype: int64\n",
      "cohort_6_lapsed_after_first:  0,    3\n",
      "Name: cohort_gift_pattern, dtype: int64\n",
      "cohort_6_lapsed_after_first_long:  0,1,4,    1\n",
      "Name: cohort_gift_pattern, dtype: int64\n",
      "cohort_6_lapsed_after_second:  0,3,    1\n",
      "Name: cohort_gift_pattern, dtype: int64\n",
      "cohort_6_lapsed_key_multi_year:  0,1,2,3,4,    2\n",
      "Name: cohort_gift_pattern, dtype: int64\n",
      "cohort_6_lapsed_long:  0,      98\n",
      "0,1,    18\n",
      "0,3,     3\n",
      "0,2,     2\n",
      "Name: cohort_gift_pattern, dtype: int64\n",
      "cohort_6_lapsed_long_key_multi_year:  0,1,2,3,4,    1\n",
      "Name: cohort_gift_pattern, dtype: int64\n",
      "cohort_6_lapsed_long_multi_year:  0,1,2,      5\n",
      "0,1,3,      2\n",
      "0,1,2,4,    1\n",
      "0,1,2,3,    1\n",
      "Name: cohort_gift_pattern, dtype: int64\n",
      "cohort_6_multi_year:  0,1,2,4,    1\n",
      "Name: cohort_gift_pattern, dtype: int64\n"
     ]
    }
   ],
   "source": [
    "print(f'cohort_6_first_gift: ', donations_cohort_with_cycle.query('cohort_6_first_gift > 0').cohort_gift_pattern.value_counts())\n",
    "print(f'cohort_6_key_multi_year: ', donations_cohort_with_cycle.query('cohort_6_key_multi_year > 0').cohort_gift_pattern.value_counts())\n",
    "\n",
    "print(f'cohort_6_lapsed_after_first: ', donations_cohort_with_cycle.query('cohort_6_lapsed_after_first > 0').cohort_gift_pattern.value_counts())\n",
    "print(f'cohort_6_lapsed_after_first_long: ', donations_cohort_with_cycle.query('cohort_6_lapsed_after_first_long > 0').cohort_gift_pattern.value_counts())\n",
    "print(f'cohort_6_lapsed_after_second: ', donations_cohort_with_cycle.query('cohort_6_lapsed_after_second > 0').cohort_gift_pattern.value_counts())\n",
    "\n",
    "print(f'cohort_6_lapsed_key_multi_year: ', donations_cohort_with_cycle.query('cohort_6_lapsed_key_multi_year > 0').cohort_gift_pattern.value_counts())\n",
    "print(f'cohort_6_lapsed_long: ', donations_cohort_with_cycle.query('cohort_6_lapsed_long > 0').cohort_gift_pattern.value_counts())\n",
    "print(f'cohort_6_lapsed_long_key_multi_year: ', donations_cohort_with_cycle.query('cohort_6_lapsed_long_key_multi_year > 0').cohort_gift_pattern.value_counts())\n",
    "print(f'cohort_6_lapsed_long_multi_year: ', donations_cohort_with_cycle.query('cohort_6_lapsed_long_multi_year > 0').cohort_gift_pattern.value_counts())\n",
    "\n",
    "print(f'cohort_6_multi_year: ', donations_cohort_with_cycle.query('cohort_6_multi_year > 0').cohort_gift_pattern.value_counts())"
   ]
  },
  {
   "cell_type": "code",
   "execution_count": 14,
   "metadata": {},
   "outputs": [
    {
     "data": {
      "text/html": [
       "<div>\n",
       "<style scoped>\n",
       "    .dataframe tbody tr th:only-of-type {\n",
       "        vertical-align: middle;\n",
       "    }\n",
       "\n",
       "    .dataframe tbody tr th {\n",
       "        vertical-align: top;\n",
       "    }\n",
       "\n",
       "    .dataframe thead th {\n",
       "        text-align: right;\n",
       "    }\n",
       "</style>\n",
       "<table border=\"1\" class=\"dataframe\">\n",
       "  <thead>\n",
       "    <tr style=\"text-align: right;\">\n",
       "      <th></th>\n",
       "      <th>id</th>\n",
       "      <th>first_gift_year</th>\n",
       "      <th>lapsed_count</th>\n",
       "      <th>recovered_count</th>\n",
       "      <th>max_consec_giving_years</th>\n",
       "      <th>total_giving_years</th>\n",
       "      <th>count_2013</th>\n",
       "      <th>count_2014</th>\n",
       "      <th>count_2015</th>\n",
       "      <th>count_2016</th>\n",
       "      <th>...</th>\n",
       "      <th>amount_06_2017</th>\n",
       "      <th>amount_07_2017</th>\n",
       "      <th>amount_08_2017</th>\n",
       "      <th>amount_09_2017</th>\n",
       "      <th>amount_10_2017</th>\n",
       "      <th>amount_11_2017</th>\n",
       "      <th>amount_12_2017</th>\n",
       "      <th>amount_total</th>\n",
       "      <th>count_total</th>\n",
       "      <th>cohort_gift_pattern</th>\n",
       "    </tr>\n",
       "  </thead>\n",
       "  <tbody>\n",
       "    <tr>\n",
       "      <td>545726</td>\n",
       "      <td>44f5e8002149cc536599f46eb1a40139</td>\n",
       "      <td>2012-01-01</td>\n",
       "      <td>7</td>\n",
       "      <td>6</td>\n",
       "      <td>3</td>\n",
       "      <td>6</td>\n",
       "      <td>1</td>\n",
       "      <td>1</td>\n",
       "      <td>0</td>\n",
       "      <td>2</td>\n",
       "      <td>...</td>\n",
       "      <td>0.0</td>\n",
       "      <td>0.0</td>\n",
       "      <td>116.28</td>\n",
       "      <td>131.8</td>\n",
       "      <td>0.0</td>\n",
       "      <td>0.0</td>\n",
       "      <td>0.0</td>\n",
       "      <td>1083.9</td>\n",
       "      <td>6</td>\n",
       "      <td>0,1,2,4,</td>\n",
       "    </tr>\n",
       "  </tbody>\n",
       "</table>\n",
       "<p>1 rows × 187 columns</p>\n",
       "</div>"
      ],
      "text/plain": [
       "                                      id first_gift_year  lapsed_count  \\\n",
       "545726  44f5e8002149cc536599f46eb1a40139      2012-01-01             7   \n",
       "\n",
       "        recovered_count  max_consec_giving_years  total_giving_years  \\\n",
       "545726                6                        3                   6   \n",
       "\n",
       "        count_2013  count_2014  count_2015  count_2016  ...  amount_06_2017  \\\n",
       "545726           1           1           0           2  ...             0.0   \n",
       "\n",
       "        amount_07_2017  amount_08_2017  amount_09_2017  amount_10_2017  \\\n",
       "545726             0.0          116.28           131.8             0.0   \n",
       "\n",
       "        amount_11_2017  amount_12_2017  amount_total  count_total  \\\n",
       "545726             0.0             0.0        1083.9            6   \n",
       "\n",
       "        cohort_gift_pattern  \n",
       "545726             0,1,2,4,  \n",
       "\n",
       "[1 rows x 187 columns]"
      ]
     },
     "execution_count": 14,
     "metadata": {},
     "output_type": "execute_result"
    }
   ],
   "source": [
    "donations_cohort_with_cycle.query('cohort_6_multi_year > 0')"
   ]
  },
  {
   "cell_type": "code",
   "execution_count": 15,
   "metadata": {},
   "outputs": [
    {
     "data": {
      "text/plain": [
       "4549913.200000005"
      ]
     },
     "execution_count": 15,
     "metadata": {},
     "output_type": "execute_result"
    }
   ],
   "source": [
    "donations_cohort_with_cycle.query('second_year > 0 & first_gift_year == \"2017-01-01\"').sum()['amount_yr1']"
   ]
  },
  {
   "cell_type": "code",
   "execution_count": 16,
   "metadata": {},
   "outputs": [],
   "source": [
    "c13=donations_cohort_with_cycle.query('first_gift_year ==\"2013-01-01\"')"
   ]
  },
  {
   "cell_type": "code",
   "execution_count": 17,
   "metadata": {},
   "outputs": [
    {
     "data": {
      "text/plain": [
       "320069"
      ]
     },
     "execution_count": 17,
     "metadata": {},
     "output_type": "execute_result"
    }
   ],
   "source": [
    "c13.cohort_0_first_gift.sum()"
   ]
  },
  {
   "cell_type": "code",
   "execution_count": 18,
   "metadata": {},
   "outputs": [
    {
     "data": {
      "text/plain": [
       "19.411439408377568"
      ]
     },
     "execution_count": 18,
     "metadata": {},
     "output_type": "execute_result"
    }
   ],
   "source": [
    "c13.cohort_1_second_year.sum()/c13.cohort_0_first_gift.sum()*100"
   ]
  },
  {
   "cell_type": "code",
   "execution_count": 19,
   "metadata": {},
   "outputs": [],
   "source": [
    "df=donations_cohort_with_cycle[[\n",
    "'id',\n",
    "'first_gift_year',\n",
    "'initial',\n",
    "'first_gift',\n",
    "'second_year',\n",
    "'second_with_gap',\n",
    "'multi_year',\n",
    "'key_multi_year',\n",
    "'recovered_multi_year',\n",
    "'inconsistent_multi_year ',\n",
    "'recovered_key_multi_year',\n",
    "'lapsed_after_first',\n",
    "'lapsed_after_first_long',\n",
    "'lapsed_after_second',\n",
    "'lapsed_multi_year',\n",
    "'lapsed_long_multi_year',\n",
    "'lapsed_key_multi_year',\n",
    "'lapsed_long',\n",
    "'cohort_0_first_gift',\n",
    "'cohort_1_lapsed_after_first',\n",
    "'cohort_1_second_year',\n",
    "'cohort_2_lapsed_after_first_long',\n",
    "'cohort_2_lapsed_after_second',\n",
    "'cohort_2_multi_year',\n",
    "'cohort_2_second_with_gap',\n",
    "'cohort_3_first_gift',\n",
    "'cohort_3_inconsistent_multi_year',\n",
    "'cohort_3_key_multi_year',\n",
    "'cohort_3_lapsed_after_second',\n",
    "'cohort_3_lapsed_long',\n",
    "'cohort_3_lapsed_multi_year',\n",
    "'cohort_4_first_gift',\n",
    "'cohort_4_inconsistent_multi_year',\n",
    "'cohort_4_key_multi_year',\n",
    "'cohort_4_lapsed_after_first',\n",
    "'cohort_4_lapsed_key_multi_year',\n",
    "'cohort_4_lapsed_long',\n",
    "'cohort_4_lapsed_long_multi_year',\n",
    "'cohort_4_lapsed_multi_year',\n",
    "'cohort_4_multi_year',\n",
    "'cohort_4_recovered_multi_year',\n",
    "'cohort_4_second_year',\n",
    "'cohort_5_first_gift',\n",
    "'cohort_5_inconsistent_multi_year',\n",
    "'cohort_5_key_multi_year',\n",
    "'cohort_5_lapsed_after_first',\n",
    "'cohort_5_lapsed_after_first_long',\n",
    "'cohort_5_lapsed_after_second',\n",
    "'cohort_5_lapsed_key_multi_year',\n",
    "'cohort_5_lapsed_long',\n",
    "'cohort_5_lapsed_long_key_multi_year',\n",
    "'cohort_5_lapsed_long_multi_year',\n",
    "'cohort_5_lapsed_multi_year',\n",
    "'cohort_5_multi_year',\n",
    "'cohort_5_recovered_key_multi_year',\n",
    "'cohort_5_recovered_multi_year',\n",
    "'cohort_5_second_with_gap',\n",
    "'cohort_5_second_year',\n",
    "'cohort_6_first_gift',\n",
    "'cohort_6_key_multi_year',\n",
    "'cohort_6_lapsed_after_first',\n",
    "'cohort_6_lapsed_after_first_long',\n",
    "'cohort_6_lapsed_after_second',\n",
    "'cohort_6_lapsed_key_multi_year',\n",
    "'cohort_6_lapsed_long',\n",
    "'cohort_6_lapsed_long_key_multi_year',\n",
    "'cohort_6_lapsed_long_multi_year',\n",
    "'cohort_6_multi_year'\n",
    "]].copy()"
   ]
  },
  {
   "cell_type": "code",
   "execution_count": 20,
   "metadata": {},
   "outputs": [
    {
     "data": {
      "text/html": [
       "<div>\n",
       "<style scoped>\n",
       "    .dataframe tbody tr th:only-of-type {\n",
       "        vertical-align: middle;\n",
       "    }\n",
       "\n",
       "    .dataframe tbody tr th {\n",
       "        vertical-align: top;\n",
       "    }\n",
       "\n",
       "    .dataframe thead th {\n",
       "        text-align: right;\n",
       "    }\n",
       "</style>\n",
       "<table border=\"1\" class=\"dataframe\">\n",
       "  <thead>\n",
       "    <tr style=\"text-align: right;\">\n",
       "      <th></th>\n",
       "      <th>id</th>\n",
       "      <th>first_gift_year</th>\n",
       "      <th>initial</th>\n",
       "      <th>first_gift</th>\n",
       "      <th>second_year</th>\n",
       "      <th>second_with_gap</th>\n",
       "      <th>multi_year</th>\n",
       "      <th>key_multi_year</th>\n",
       "      <th>recovered_multi_year</th>\n",
       "      <th>inconsistent_multi_year</th>\n",
       "      <th>...</th>\n",
       "      <th>cohort_6_first_gift</th>\n",
       "      <th>cohort_6_key_multi_year</th>\n",
       "      <th>cohort_6_lapsed_after_first</th>\n",
       "      <th>cohort_6_lapsed_after_first_long</th>\n",
       "      <th>cohort_6_lapsed_after_second</th>\n",
       "      <th>cohort_6_lapsed_key_multi_year</th>\n",
       "      <th>cohort_6_lapsed_long</th>\n",
       "      <th>cohort_6_lapsed_long_key_multi_year</th>\n",
       "      <th>cohort_6_lapsed_long_multi_year</th>\n",
       "      <th>cohort_6_multi_year</th>\n",
       "    </tr>\n",
       "  </thead>\n",
       "  <tbody>\n",
       "    <tr>\n",
       "      <td>0</td>\n",
       "      <td>00000ce845c00cbf0686c992fc369df4</td>\n",
       "      <td>2013-01-01</td>\n",
       "      <td>0</td>\n",
       "      <td>0</td>\n",
       "      <td>0</td>\n",
       "      <td>0</td>\n",
       "      <td>0</td>\n",
       "      <td>0</td>\n",
       "      <td>0</td>\n",
       "      <td>0</td>\n",
       "      <td>...</td>\n",
       "      <td>0</td>\n",
       "      <td>0</td>\n",
       "      <td>0</td>\n",
       "      <td>0</td>\n",
       "      <td>0</td>\n",
       "      <td>0</td>\n",
       "      <td>0</td>\n",
       "      <td>0</td>\n",
       "      <td>0</td>\n",
       "      <td>NaN</td>\n",
       "    </tr>\n",
       "    <tr>\n",
       "      <td>1</td>\n",
       "      <td>00002783bc5d108510f3f9666c8b1edd</td>\n",
       "      <td>2016-01-01</td>\n",
       "      <td>0</td>\n",
       "      <td>0</td>\n",
       "      <td>0</td>\n",
       "      <td>0</td>\n",
       "      <td>0</td>\n",
       "      <td>0</td>\n",
       "      <td>0</td>\n",
       "      <td>0</td>\n",
       "      <td>...</td>\n",
       "      <td>0</td>\n",
       "      <td>0</td>\n",
       "      <td>0</td>\n",
       "      <td>0</td>\n",
       "      <td>0</td>\n",
       "      <td>0</td>\n",
       "      <td>0</td>\n",
       "      <td>0</td>\n",
       "      <td>0</td>\n",
       "      <td>NaN</td>\n",
       "    </tr>\n",
       "    <tr>\n",
       "      <td>2</td>\n",
       "      <td>00002d44003ed46b066607c5455a999a</td>\n",
       "      <td>2016-01-01</td>\n",
       "      <td>0</td>\n",
       "      <td>0</td>\n",
       "      <td>1</td>\n",
       "      <td>0</td>\n",
       "      <td>0</td>\n",
       "      <td>0</td>\n",
       "      <td>0</td>\n",
       "      <td>0</td>\n",
       "      <td>...</td>\n",
       "      <td>0</td>\n",
       "      <td>0</td>\n",
       "      <td>0</td>\n",
       "      <td>0</td>\n",
       "      <td>0</td>\n",
       "      <td>0</td>\n",
       "      <td>0</td>\n",
       "      <td>0</td>\n",
       "      <td>0</td>\n",
       "      <td>NaN</td>\n",
       "    </tr>\n",
       "    <tr>\n",
       "      <td>3</td>\n",
       "      <td>00002eb25d60a09c318efbd0797bffb5</td>\n",
       "      <td>2015-01-01</td>\n",
       "      <td>0</td>\n",
       "      <td>0</td>\n",
       "      <td>0</td>\n",
       "      <td>0</td>\n",
       "      <td>0</td>\n",
       "      <td>1</td>\n",
       "      <td>0</td>\n",
       "      <td>0</td>\n",
       "      <td>...</td>\n",
       "      <td>0</td>\n",
       "      <td>0</td>\n",
       "      <td>0</td>\n",
       "      <td>0</td>\n",
       "      <td>0</td>\n",
       "      <td>0</td>\n",
       "      <td>0</td>\n",
       "      <td>0</td>\n",
       "      <td>0</td>\n",
       "      <td>NaN</td>\n",
       "    </tr>\n",
       "    <tr>\n",
       "      <td>4</td>\n",
       "      <td>0000300773fe015f870914b42528541b</td>\n",
       "      <td>2017-01-01</td>\n",
       "      <td>0</td>\n",
       "      <td>0</td>\n",
       "      <td>0</td>\n",
       "      <td>0</td>\n",
       "      <td>0</td>\n",
       "      <td>0</td>\n",
       "      <td>0</td>\n",
       "      <td>0</td>\n",
       "      <td>...</td>\n",
       "      <td>0</td>\n",
       "      <td>0</td>\n",
       "      <td>0</td>\n",
       "      <td>0</td>\n",
       "      <td>0</td>\n",
       "      <td>0</td>\n",
       "      <td>0</td>\n",
       "      <td>0</td>\n",
       "      <td>0</td>\n",
       "      <td>NaN</td>\n",
       "    </tr>\n",
       "  </tbody>\n",
       "</table>\n",
       "<p>5 rows × 68 columns</p>\n",
       "</div>"
      ],
      "text/plain": [
       "                                 id first_gift_year  initial  first_gift  \\\n",
       "0  00000ce845c00cbf0686c992fc369df4      2013-01-01        0           0   \n",
       "1  00002783bc5d108510f3f9666c8b1edd      2016-01-01        0           0   \n",
       "2  00002d44003ed46b066607c5455a999a      2016-01-01        0           0   \n",
       "3  00002eb25d60a09c318efbd0797bffb5      2015-01-01        0           0   \n",
       "4  0000300773fe015f870914b42528541b      2017-01-01        0           0   \n",
       "\n",
       "   second_year  second_with_gap  multi_year  key_multi_year  \\\n",
       "0            0                0           0               0   \n",
       "1            0                0           0               0   \n",
       "2            1                0           0               0   \n",
       "3            0                0           0               1   \n",
       "4            0                0           0               0   \n",
       "\n",
       "   recovered_multi_year  inconsistent_multi_year   ...  cohort_6_first_gift  \\\n",
       "0                     0                         0  ...                    0   \n",
       "1                     0                         0  ...                    0   \n",
       "2                     0                         0  ...                    0   \n",
       "3                     0                         0  ...                    0   \n",
       "4                     0                         0  ...                    0   \n",
       "\n",
       "   cohort_6_key_multi_year  cohort_6_lapsed_after_first  \\\n",
       "0                        0                            0   \n",
       "1                        0                            0   \n",
       "2                        0                            0   \n",
       "3                        0                            0   \n",
       "4                        0                            0   \n",
       "\n",
       "   cohort_6_lapsed_after_first_long  cohort_6_lapsed_after_second  \\\n",
       "0                                 0                             0   \n",
       "1                                 0                             0   \n",
       "2                                 0                             0   \n",
       "3                                 0                             0   \n",
       "4                                 0                             0   \n",
       "\n",
       "   cohort_6_lapsed_key_multi_year  cohort_6_lapsed_long  \\\n",
       "0                               0                     0   \n",
       "1                               0                     0   \n",
       "2                               0                     0   \n",
       "3                               0                     0   \n",
       "4                               0                     0   \n",
       "\n",
       "   cohort_6_lapsed_long_key_multi_year  cohort_6_lapsed_long_multi_year  \\\n",
       "0                                    0                                0   \n",
       "1                                    0                                0   \n",
       "2                                    0                                0   \n",
       "3                                    0                                0   \n",
       "4                                    0                                0   \n",
       "\n",
       "   cohort_6_multi_year  \n",
       "0                  NaN  \n",
       "1                  NaN  \n",
       "2                  NaN  \n",
       "3                  NaN  \n",
       "4                  NaN  \n",
       "\n",
       "[5 rows x 68 columns]"
      ]
     },
     "execution_count": 20,
     "metadata": {},
     "output_type": "execute_result"
    }
   ],
   "source": [
    "df.head()"
   ]
  },
  {
   "cell_type": "markdown",
   "metadata": {},
   "source": [
    "### Start here: recreating Pete's csv"
   ]
  },
  {
   "cell_type": "code",
   "execution_count": 21,
   "metadata": {},
   "outputs": [],
   "source": [
    "grouped=df.groupby('first_gift_year').sum().reset_index()"
   ]
  },
  {
   "cell_type": "code",
   "execution_count": 22,
   "metadata": {},
   "outputs": [
    {
     "data": {
      "text/html": [
       "<div>\n",
       "<style scoped>\n",
       "    .dataframe tbody tr th:only-of-type {\n",
       "        vertical-align: middle;\n",
       "    }\n",
       "\n",
       "    .dataframe tbody tr th {\n",
       "        vertical-align: top;\n",
       "    }\n",
       "\n",
       "    .dataframe thead th {\n",
       "        text-align: right;\n",
       "    }\n",
       "</style>\n",
       "<table border=\"1\" class=\"dataframe\">\n",
       "  <thead>\n",
       "    <tr style=\"text-align: right;\">\n",
       "      <th></th>\n",
       "      <th>first_gift_year</th>\n",
       "      <th>initial</th>\n",
       "      <th>first_gift</th>\n",
       "      <th>second_year</th>\n",
       "      <th>second_with_gap</th>\n",
       "      <th>multi_year</th>\n",
       "      <th>key_multi_year</th>\n",
       "      <th>recovered_multi_year</th>\n",
       "      <th>inconsistent_multi_year</th>\n",
       "      <th>recovered_key_multi_year</th>\n",
       "      <th>...</th>\n",
       "      <th>cohort_6_first_gift</th>\n",
       "      <th>cohort_6_key_multi_year</th>\n",
       "      <th>cohort_6_lapsed_after_first</th>\n",
       "      <th>cohort_6_lapsed_after_first_long</th>\n",
       "      <th>cohort_6_lapsed_after_second</th>\n",
       "      <th>cohort_6_lapsed_key_multi_year</th>\n",
       "      <th>cohort_6_lapsed_long</th>\n",
       "      <th>cohort_6_lapsed_long_key_multi_year</th>\n",
       "      <th>cohort_6_lapsed_long_multi_year</th>\n",
       "      <th>cohort_6_multi_year</th>\n",
       "    </tr>\n",
       "  </thead>\n",
       "  <tbody>\n",
       "    <tr>\n",
       "      <td>0</td>\n",
       "      <td>2012-01-01</td>\n",
       "      <td>0</td>\n",
       "      <td>1</td>\n",
       "      <td>0</td>\n",
       "      <td>0</td>\n",
       "      <td>1</td>\n",
       "      <td>1</td>\n",
       "      <td>0</td>\n",
       "      <td>0</td>\n",
       "      <td>0</td>\n",
       "      <td>...</td>\n",
       "      <td>1</td>\n",
       "      <td>1</td>\n",
       "      <td>3</td>\n",
       "      <td>1</td>\n",
       "      <td>1</td>\n",
       "      <td>2</td>\n",
       "      <td>121</td>\n",
       "      <td>1</td>\n",
       "      <td>9</td>\n",
       "      <td>1.0</td>\n",
       "    </tr>\n",
       "    <tr>\n",
       "      <td>1</td>\n",
       "      <td>2013-01-01</td>\n",
       "      <td>0</td>\n",
       "      <td>2436</td>\n",
       "      <td>873</td>\n",
       "      <td>314</td>\n",
       "      <td>736</td>\n",
       "      <td>6288</td>\n",
       "      <td>380</td>\n",
       "      <td>561</td>\n",
       "      <td>518</td>\n",
       "      <td>...</td>\n",
       "      <td>0</td>\n",
       "      <td>0</td>\n",
       "      <td>0</td>\n",
       "      <td>0</td>\n",
       "      <td>0</td>\n",
       "      <td>0</td>\n",
       "      <td>0</td>\n",
       "      <td>0</td>\n",
       "      <td>0</td>\n",
       "      <td>0.0</td>\n",
       "    </tr>\n",
       "    <tr>\n",
       "      <td>2</td>\n",
       "      <td>2014-01-01</td>\n",
       "      <td>0</td>\n",
       "      <td>2699</td>\n",
       "      <td>913</td>\n",
       "      <td>0</td>\n",
       "      <td>1690</td>\n",
       "      <td>3220</td>\n",
       "      <td>628</td>\n",
       "      <td>582</td>\n",
       "      <td>0</td>\n",
       "      <td>...</td>\n",
       "      <td>0</td>\n",
       "      <td>0</td>\n",
       "      <td>0</td>\n",
       "      <td>0</td>\n",
       "      <td>0</td>\n",
       "      <td>0</td>\n",
       "      <td>0</td>\n",
       "      <td>0</td>\n",
       "      <td>0</td>\n",
       "      <td>0.0</td>\n",
       "    </tr>\n",
       "    <tr>\n",
       "      <td>3</td>\n",
       "      <td>2015-01-01</td>\n",
       "      <td>0</td>\n",
       "      <td>3535</td>\n",
       "      <td>0</td>\n",
       "      <td>0</td>\n",
       "      <td>0</td>\n",
       "      <td>4597</td>\n",
       "      <td>0</td>\n",
       "      <td>3852</td>\n",
       "      <td>0</td>\n",
       "      <td>...</td>\n",
       "      <td>0</td>\n",
       "      <td>0</td>\n",
       "      <td>0</td>\n",
       "      <td>0</td>\n",
       "      <td>0</td>\n",
       "      <td>0</td>\n",
       "      <td>0</td>\n",
       "      <td>0</td>\n",
       "      <td>0</td>\n",
       "      <td>0.0</td>\n",
       "    </tr>\n",
       "    <tr>\n",
       "      <td>4</td>\n",
       "      <td>2016-01-01</td>\n",
       "      <td>0</td>\n",
       "      <td>0</td>\n",
       "      <td>1</td>\n",
       "      <td>8338</td>\n",
       "      <td>10335</td>\n",
       "      <td>0</td>\n",
       "      <td>0</td>\n",
       "      <td>0</td>\n",
       "      <td>0</td>\n",
       "      <td>...</td>\n",
       "      <td>0</td>\n",
       "      <td>0</td>\n",
       "      <td>0</td>\n",
       "      <td>0</td>\n",
       "      <td>0</td>\n",
       "      <td>0</td>\n",
       "      <td>0</td>\n",
       "      <td>0</td>\n",
       "      <td>0</td>\n",
       "      <td>0.0</td>\n",
       "    </tr>\n",
       "    <tr>\n",
       "      <td>5</td>\n",
       "      <td>2017-01-01</td>\n",
       "      <td>0</td>\n",
       "      <td>0</td>\n",
       "      <td>29990</td>\n",
       "      <td>0</td>\n",
       "      <td>0</td>\n",
       "      <td>0</td>\n",
       "      <td>0</td>\n",
       "      <td>0</td>\n",
       "      <td>0</td>\n",
       "      <td>...</td>\n",
       "      <td>0</td>\n",
       "      <td>0</td>\n",
       "      <td>0</td>\n",
       "      <td>0</td>\n",
       "      <td>0</td>\n",
       "      <td>0</td>\n",
       "      <td>0</td>\n",
       "      <td>0</td>\n",
       "      <td>0</td>\n",
       "      <td>0.0</td>\n",
       "    </tr>\n",
       "    <tr>\n",
       "      <td>6</td>\n",
       "      <td>2018-01-01</td>\n",
       "      <td>0</td>\n",
       "      <td>147945</td>\n",
       "      <td>0</td>\n",
       "      <td>0</td>\n",
       "      <td>0</td>\n",
       "      <td>0</td>\n",
       "      <td>0</td>\n",
       "      <td>0</td>\n",
       "      <td>0</td>\n",
       "      <td>...</td>\n",
       "      <td>0</td>\n",
       "      <td>0</td>\n",
       "      <td>0</td>\n",
       "      <td>0</td>\n",
       "      <td>0</td>\n",
       "      <td>0</td>\n",
       "      <td>0</td>\n",
       "      <td>0</td>\n",
       "      <td>0</td>\n",
       "      <td>0.0</td>\n",
       "    </tr>\n",
       "  </tbody>\n",
       "</table>\n",
       "<p>7 rows × 67 columns</p>\n",
       "</div>"
      ],
      "text/plain": [
       "  first_gift_year  initial  first_gift  second_year  second_with_gap  \\\n",
       "0      2012-01-01        0           1            0                0   \n",
       "1      2013-01-01        0        2436          873              314   \n",
       "2      2014-01-01        0        2699          913                0   \n",
       "3      2015-01-01        0        3535            0                0   \n",
       "4      2016-01-01        0           0            1             8338   \n",
       "5      2017-01-01        0           0        29990                0   \n",
       "6      2018-01-01        0      147945            0                0   \n",
       "\n",
       "   multi_year  key_multi_year  recovered_multi_year  inconsistent_multi_year   \\\n",
       "0           1               1                     0                         0   \n",
       "1         736            6288                   380                       561   \n",
       "2        1690            3220                   628                       582   \n",
       "3           0            4597                     0                      3852   \n",
       "4       10335               0                     0                         0   \n",
       "5           0               0                     0                         0   \n",
       "6           0               0                     0                         0   \n",
       "\n",
       "   recovered_key_multi_year  ...  cohort_6_first_gift  \\\n",
       "0                         0  ...                    1   \n",
       "1                       518  ...                    0   \n",
       "2                         0  ...                    0   \n",
       "3                         0  ...                    0   \n",
       "4                         0  ...                    0   \n",
       "5                         0  ...                    0   \n",
       "6                         0  ...                    0   \n",
       "\n",
       "   cohort_6_key_multi_year  cohort_6_lapsed_after_first  \\\n",
       "0                        1                            3   \n",
       "1                        0                            0   \n",
       "2                        0                            0   \n",
       "3                        0                            0   \n",
       "4                        0                            0   \n",
       "5                        0                            0   \n",
       "6                        0                            0   \n",
       "\n",
       "   cohort_6_lapsed_after_first_long  cohort_6_lapsed_after_second  \\\n",
       "0                                 1                             1   \n",
       "1                                 0                             0   \n",
       "2                                 0                             0   \n",
       "3                                 0                             0   \n",
       "4                                 0                             0   \n",
       "5                                 0                             0   \n",
       "6                                 0                             0   \n",
       "\n",
       "   cohort_6_lapsed_key_multi_year  cohort_6_lapsed_long  \\\n",
       "0                               2                   121   \n",
       "1                               0                     0   \n",
       "2                               0                     0   \n",
       "3                               0                     0   \n",
       "4                               0                     0   \n",
       "5                               0                     0   \n",
       "6                               0                     0   \n",
       "\n",
       "   cohort_6_lapsed_long_key_multi_year  cohort_6_lapsed_long_multi_year  \\\n",
       "0                                    1                                9   \n",
       "1                                    0                                0   \n",
       "2                                    0                                0   \n",
       "3                                    0                                0   \n",
       "4                                    0                                0   \n",
       "5                                    0                                0   \n",
       "6                                    0                                0   \n",
       "\n",
       "   cohort_6_multi_year  \n",
       "0                  1.0  \n",
       "1                  0.0  \n",
       "2                  0.0  \n",
       "3                  0.0  \n",
       "4                  0.0  \n",
       "5                  0.0  \n",
       "6                  0.0  \n",
       "\n",
       "[7 rows x 67 columns]"
      ]
     },
     "execution_count": 22,
     "metadata": {},
     "output_type": "execute_result"
    }
   ],
   "source": [
    "grouped"
   ]
  },
  {
   "cell_type": "code",
   "execution_count": 23,
   "metadata": {},
   "outputs": [],
   "source": [
    "# here is the sql query I ran \n",
    "\n",
    "# select\n",
    "# first_gift_year,\n",
    "\n",
    "#sum(lifecycle_cohort_0_first_gift) as first_gift_cnt,\n",
    "first_gift_cnt=grouped.cohort_0_first_gift\n",
    "\n",
    "# sum(lifecycle_cohort_1_second_year)   as second_year_cnt,\n",
    "second_year_cnt=grouped.cohort_1_second_year\n",
    "\n",
    "# sum(lifecycle_cohort_2_lapsed_after_second)   as lapsed_after_second_cnt,\n",
    "lapsed_after_second_cnt=grouped.cohort_2_lapsed_after_second\n",
    "\n",
    "# sum(lifecycle_cohort_2_second_with_gap)   as second_with_gap_cnt,\n",
    "second_with_gap_cnt=grouped.cohort_2_second_with_gap\n",
    "\n",
    "# sum(lifecycle_cohort_2_lapsed_after_first_long)   as lapsed_after_first_long_cnt\n",
    "lapsed_after_first_long_cnt=grouped.cohort_2_lapsed_after_first_long\n",
    "\n",
    "# sum(lifecycle_cohort_2_multi_year)   as multi_year_cnt,\n",
    "multi_year_cnt=grouped.cohort_2_multi_year\n",
    "\n",
    "\n",
    "# ((sum(lifecycle_cohort_1_second_year * 1.0) ) / \n",
    "#  (sum(lifecycle_cohort_0_first_gift  * 1.0))) * 100.0 as second_year,\n",
    "second_year=second_year_cnt/first_gift_cnt*100\n",
    "\n",
    "# ((sum(lifecycle_cohort_1_second_year * cohort_amount_in_year_in_1) ) / \n",
    "#  (sum(lifecycle_cohort_1_second_year  * 1.0))) / 100.0 as second_year_avg,\n",
    "second_year_avg=second_year_avg=(donations_cohort_with_cycle.groupby('first_gift_year').sum()['amount_yr1'].reset_index()['amount_yr1'])/second_year_cnt\n",
    "\n",
    "# ((sum(lifecycle_cohort_1_lapsed_after_first * 1.0) ) / \n",
    "#  (sum(lifecycle_cohort_0_first_gift  * 1.0))) * 100.0 as lapsed_after_first,\n",
    "lapsed_after_first=grouped.cohort_1_lapsed_after_first/first_gift_cnt*100\n",
    "\n",
    "# ((sum(lifecycle_cohort_2_multi_year * 1.0) ) / \n",
    "#  (sum(lifecycle_cohort_1_second_year  * 1.0))) * 100.0 as multi_year,\n",
    "multi_year=grouped.cohort_2_multi_year/second_year_cnt*100\n",
    "\n",
    "\n",
    "# ((sum(lifecycle_cohort_2_multi_year * cohort_amount_in_year_in_2) ) / \n",
    "#  (sum(lifecycle_cohort_2_multi_year  * 1.0))) / 100.0 as multi_year_avg,\n",
    "multi_year_avg=(donations_cohort_with_cycle.query('cohort_2_multi_year > 0').groupby('first_gift_year').sum()['amount_yr2'].reset_index()['amount_yr2'])/multi_year_cnt\n",
    "\n",
    "\n",
    "# ((sum(lifecycle_cohort_2_lapsed_after_second * 1.0) ) / \n",
    "#  (sum(lifecycle_cohort_1_second_year  * 1.0))) * 100.0 as lapsed_after_second,\n",
    "lapsed_after_second=lapsed_after_second_cnt/second_year_cnt*100\n",
    "\n",
    "# ((sum(lifecycle_cohort_2_second_with_gap * 1.0) ) / \n",
    "#  (sum(lifecycle_cohort_1_lapsed_after_first  * 1.0))) * 100.0 as second_with_gap,\n",
    "second_with_gap=second_with_gap_cnt/grouped.cohort_1_lapsed_after_first*100\n",
    "\n",
    "\n",
    "# ((sum(lifecycle_cohort_2_second_with_gap * cohort_amount_in_year_in_2) ) / \n",
    "#  (sum(lifecycle_cohort_2_second_with_gap  * 1.0))) / 100.0 as second_with_gap_avg,\n",
    "second_with_gap_avg=(donations_cohort_with_cycle.query('cohort_2_second_with_gap > 0').groupby('first_gift_year').sum()['amount_yr2'].reset_index()['amount_yr2'])/second_with_gap_cnt\n",
    "\n",
    "# ((sum(lifecycle_cohort_2_lapsed_after_first_long * 1.0) ) / \n",
    "#  (sum(lifecycle_cohort_1_lapsed_after_first  * 1.0))) * 100.0 as lapsed_after_first_long,\n",
    "lapsed_after_first_long=lapsed_after_first_long_cnt/grouped.cohort_1_lapsed_after_first*100\n",
    "\n",
    "\n",
    "\n",
    "# from donationslifecycles\n",
    "# group by first_gift_year\n",
    "\n",
    "# which gives the attached csv which should show some of the power we can get in sql\n"
   ]
  },
  {
   "cell_type": "code",
   "execution_count": 24,
   "metadata": {},
   "outputs": [
    {
     "data": {
      "text/plain": [
       "0       16421.14\n",
       "1    15267703.98\n",
       "2     7745897.26\n",
       "3     8280549.87\n",
       "4    10475760.27\n",
       "5     4549913.20\n",
       "6           0.00\n",
       "Name: amount_yr1, dtype: float64"
      ]
     },
     "execution_count": 24,
     "metadata": {},
     "output_type": "execute_result"
    }
   ],
   "source": [
    "donations_cohort_with_cycle.groupby('first_gift_year').sum()['amount_yr1'].reset_index()['amount_yr1']"
   ]
  },
  {
   "cell_type": "code",
   "execution_count": 25,
   "metadata": {},
   "outputs": [
    {
     "data": {
      "text/plain": [
       "0       21842.64\n",
       "1    17392582.86\n",
       "2    19384701.32\n",
       "3    23316118.31\n",
       "4    27839492.42\n",
       "5    31672744.45\n",
       "Name: amount_yr0, dtype: float64"
      ]
     },
     "execution_count": 25,
     "metadata": {},
     "output_type": "execute_result"
    }
   ],
   "source": [
    "donations_cohort_with_cycle.query('cohort_1_lapsed_after_first > 0').groupby('first_gift_year').sum()['amount_yr0'].reset_index()['amount_yr0'].round(2)\n"
   ]
  },
  {
   "cell_type": "code",
   "execution_count": 26,
   "metadata": {},
   "outputs": [
    {
     "data": {
      "text/plain": [
       "0        3000.00\n",
       "1    13019180.74\n",
       "2     6789581.20\n",
       "3     6830760.01\n",
       "4     8690722.10\n",
       "5     6301026.03\n",
       "Name: amount_yr0, dtype: float64"
      ]
     },
     "execution_count": 26,
     "metadata": {},
     "output_type": "execute_result"
    }
   ],
   "source": [
    "donations_cohort_with_cycle.query('cohort_1_second_year > 0').groupby('first_gift_year').sum()['amount_yr0'].reset_index()['amount_yr0'].round(2)\n"
   ]
  },
  {
   "cell_type": "code",
   "execution_count": 28,
   "metadata": {},
   "outputs": [],
   "source": [
    "data = {\n",
    "    'cohort_year':grouped.first_gift_year,\n",
    "    'first_gift_cnt':first_gift_cnt,\n",
    "    'second_year':second_year,\n",
    "'second_year_cnt':second_year_cnt,\n",
    "'second_year_avg':second_year_avg,\n",
    "'lapsed_after_first':lapsed_after_first,\n",
    "'multi_year':multi_year,\n",
    "'multi_year_cnt':multi_year_cnt,\n",
    "'multi_year_avg':multi_year_avg,\n",
    "'lapsed_after_second':lapsed_after_second,\n",
    "'lapsed_after_second_cnt':lapsed_after_second_cnt,\n",
    "'second_with_gap':second_with_gap,\n",
    "'second_with_gap_cnt':second_with_gap_cnt,\n",
    "'second_with_gap_avg':second_with_gap_avg,\n",
    "'lapsed_after_first_long':lapsed_after_first_long,\n",
    "'lapsed_after_first_long_cnt':lapsed_after_first_long_cnt\n",
    "}\n",
    "\n",
    "\n"
   ]
  },
  {
   "cell_type": "code",
   "execution_count": 29,
   "metadata": {},
   "outputs": [
    {
     "data": {
      "text/plain": [
       "{'cohort_year': 0    2012-01-01\n",
       " 1    2013-01-01\n",
       " 2    2014-01-01\n",
       " 3    2015-01-01\n",
       " 4    2016-01-01\n",
       " 5    2017-01-01\n",
       " 6    2018-01-01\n",
       " Name: first_gift_year, dtype: object, 'first_gift_cnt': 0       141\n",
       " 1    320069\n",
       " 2    320673\n",
       " 3    355137\n",
       " 4    445598\n",
       " 5    434991\n",
       " 6    147945\n",
       " Name: cohort_0_first_gift, dtype: int64, 'second_year': 0    23.404255\n",
       " 1    19.411439\n",
       " 2    15.176519\n",
       " 3    12.974711\n",
       " 4    12.688118\n",
       " 5     6.894396\n",
       " 6     0.000000\n",
       " dtype: float64, 'second_year_cnt': 0       33\n",
       " 1    62130\n",
       " 2    48667\n",
       " 3    46078\n",
       " 4    56538\n",
       " 5    29990\n",
       " 6        0\n",
       " Name: cohort_1_second_year, dtype: int64, 'second_year_avg': 0    497.610303\n",
       " 1    245.738033\n",
       " 2    159.161182\n",
       " 3    179.707233\n",
       " 4    185.287068\n",
       " 5    151.714345\n",
       " 6           NaN\n",
       " dtype: float64, 'lapsed_after_first': 0    76.595745\n",
       " 1    80.588561\n",
       " 2    84.823481\n",
       " 3    87.025289\n",
       " 4    87.311882\n",
       " 5    93.105604\n",
       " 6     0.000000\n",
       " dtype: float64, 'multi_year': 0    36.363636\n",
       " 1    41.976501\n",
       " 2    32.340189\n",
       " 3    33.254482\n",
       " 4    18.279741\n",
       " 5     0.000000\n",
       " 6          NaN\n",
       " dtype: float64, 'multi_year_cnt': 0       12\n",
       " 1    26080\n",
       " 2    15739\n",
       " 3    15323\n",
       " 4    10335\n",
       " 5        0\n",
       " 6        0\n",
       " Name: cohort_2_multi_year, dtype: int64, 'multi_year_avg': 0    1597.260833\n",
       " 1     407.968347\n",
       " 2     299.721817\n",
       " 3     366.020322\n",
       " 4     205.318955\n",
       " 5            NaN\n",
       " 6            NaN\n",
       " dtype: float64, 'lapsed_after_second': 0    63.636364\n",
       " 1    58.023499\n",
       " 2    67.659811\n",
       " 3    66.745518\n",
       " 4    81.718490\n",
       " 5     0.000000\n",
       " 6          NaN\n",
       " dtype: float64, 'lapsed_after_second_cnt': 0       21\n",
       " 1    36050\n",
       " 2    32928\n",
       " 3    30755\n",
       " 4    46202\n",
       " 5        0\n",
       " 6        0\n",
       " Name: cohort_2_lapsed_after_second, dtype: int64, 'second_with_gap': 0    1.851852\n",
       " 1    6.262333\n",
       " 2    5.803548\n",
       " 3    5.345258\n",
       " 4    2.143114\n",
       " 5    0.000000\n",
       " 6         NaN\n",
       " dtype: float64, 'second_with_gap_cnt': 0        2\n",
       " 1    16153\n",
       " 2    15786\n",
       " 3    16520\n",
       " 4     8338\n",
       " 5        0\n",
       " 6        0\n",
       " Name: cohort_2_second_with_gap, dtype: int64, 'second_with_gap_avg': 0     32.140000\n",
       " 1    120.565399\n",
       " 2    108.981826\n",
       " 3    111.114785\n",
       " 4     91.576951\n",
       " 5           NaN\n",
       " 6           NaN\n",
       " dtype: float64, 'lapsed_after_first_long': 0    98.148148\n",
       " 1    93.737667\n",
       " 2    94.196452\n",
       " 3    94.654742\n",
       " 4    97.856629\n",
       " 5     0.000000\n",
       " 6          NaN\n",
       " dtype: float64, 'lapsed_after_first_long_cnt': 0       106\n",
       " 1    241786\n",
       " 2    256220\n",
       " 3    292539\n",
       " 4    380721\n",
       " 5         0\n",
       " 6         0\n",
       " Name: cohort_2_lapsed_after_first_long, dtype: int64}"
      ]
     },
     "execution_count": 29,
     "metadata": {},
     "output_type": "execute_result"
    }
   ],
   "source": [
    "data"
   ]
  },
  {
   "cell_type": "code",
   "execution_count": 30,
   "metadata": {},
   "outputs": [],
   "source": [
    "df4 = pd.DataFrame(data) "
   ]
  },
  {
   "cell_type": "code",
   "execution_count": 31,
   "metadata": {},
   "outputs": [
    {
     "data": {
      "text/html": [
       "<div>\n",
       "<style scoped>\n",
       "    .dataframe tbody tr th:only-of-type {\n",
       "        vertical-align: middle;\n",
       "    }\n",
       "\n",
       "    .dataframe tbody tr th {\n",
       "        vertical-align: top;\n",
       "    }\n",
       "\n",
       "    .dataframe thead th {\n",
       "        text-align: right;\n",
       "    }\n",
       "</style>\n",
       "<table border=\"1\" class=\"dataframe\">\n",
       "  <thead>\n",
       "    <tr style=\"text-align: right;\">\n",
       "      <th></th>\n",
       "      <th>cohort_year</th>\n",
       "      <th>first_gift_cnt</th>\n",
       "      <th>second_year</th>\n",
       "      <th>second_year_cnt</th>\n",
       "      <th>second_year_avg</th>\n",
       "      <th>lapsed_after_first</th>\n",
       "      <th>multi_year</th>\n",
       "      <th>multi_year_cnt</th>\n",
       "      <th>multi_year_avg</th>\n",
       "      <th>lapsed_after_second</th>\n",
       "      <th>lapsed_after_second_cnt</th>\n",
       "      <th>second_with_gap</th>\n",
       "      <th>second_with_gap_cnt</th>\n",
       "      <th>second_with_gap_avg</th>\n",
       "      <th>lapsed_after_first_long</th>\n",
       "      <th>lapsed_after_first_long_cnt</th>\n",
       "    </tr>\n",
       "  </thead>\n",
       "  <tbody>\n",
       "    <tr>\n",
       "      <td>0</td>\n",
       "      <td>2012-01-01</td>\n",
       "      <td>141</td>\n",
       "      <td>23.404255</td>\n",
       "      <td>33</td>\n",
       "      <td>497.610303</td>\n",
       "      <td>76.595745</td>\n",
       "      <td>36.363636</td>\n",
       "      <td>12</td>\n",
       "      <td>1597.260833</td>\n",
       "      <td>63.636364</td>\n",
       "      <td>21</td>\n",
       "      <td>1.851852</td>\n",
       "      <td>2</td>\n",
       "      <td>32.140000</td>\n",
       "      <td>98.148148</td>\n",
       "      <td>106</td>\n",
       "    </tr>\n",
       "    <tr>\n",
       "      <td>1</td>\n",
       "      <td>2013-01-01</td>\n",
       "      <td>320069</td>\n",
       "      <td>19.411439</td>\n",
       "      <td>62130</td>\n",
       "      <td>245.738033</td>\n",
       "      <td>80.588561</td>\n",
       "      <td>41.976501</td>\n",
       "      <td>26080</td>\n",
       "      <td>407.968347</td>\n",
       "      <td>58.023499</td>\n",
       "      <td>36050</td>\n",
       "      <td>6.262333</td>\n",
       "      <td>16153</td>\n",
       "      <td>120.565399</td>\n",
       "      <td>93.737667</td>\n",
       "      <td>241786</td>\n",
       "    </tr>\n",
       "    <tr>\n",
       "      <td>2</td>\n",
       "      <td>2014-01-01</td>\n",
       "      <td>320673</td>\n",
       "      <td>15.176519</td>\n",
       "      <td>48667</td>\n",
       "      <td>159.161182</td>\n",
       "      <td>84.823481</td>\n",
       "      <td>32.340189</td>\n",
       "      <td>15739</td>\n",
       "      <td>299.721817</td>\n",
       "      <td>67.659811</td>\n",
       "      <td>32928</td>\n",
       "      <td>5.803548</td>\n",
       "      <td>15786</td>\n",
       "      <td>108.981826</td>\n",
       "      <td>94.196452</td>\n",
       "      <td>256220</td>\n",
       "    </tr>\n",
       "    <tr>\n",
       "      <td>3</td>\n",
       "      <td>2015-01-01</td>\n",
       "      <td>355137</td>\n",
       "      <td>12.974711</td>\n",
       "      <td>46078</td>\n",
       "      <td>179.707233</td>\n",
       "      <td>87.025289</td>\n",
       "      <td>33.254482</td>\n",
       "      <td>15323</td>\n",
       "      <td>366.020322</td>\n",
       "      <td>66.745518</td>\n",
       "      <td>30755</td>\n",
       "      <td>5.345258</td>\n",
       "      <td>16520</td>\n",
       "      <td>111.114785</td>\n",
       "      <td>94.654742</td>\n",
       "      <td>292539</td>\n",
       "    </tr>\n",
       "    <tr>\n",
       "      <td>4</td>\n",
       "      <td>2016-01-01</td>\n",
       "      <td>445598</td>\n",
       "      <td>12.688118</td>\n",
       "      <td>56538</td>\n",
       "      <td>185.287068</td>\n",
       "      <td>87.311882</td>\n",
       "      <td>18.279741</td>\n",
       "      <td>10335</td>\n",
       "      <td>205.318955</td>\n",
       "      <td>81.718490</td>\n",
       "      <td>46202</td>\n",
       "      <td>2.143114</td>\n",
       "      <td>8338</td>\n",
       "      <td>91.576951</td>\n",
       "      <td>97.856629</td>\n",
       "      <td>380721</td>\n",
       "    </tr>\n",
       "    <tr>\n",
       "      <td>5</td>\n",
       "      <td>2017-01-01</td>\n",
       "      <td>434991</td>\n",
       "      <td>6.894396</td>\n",
       "      <td>29990</td>\n",
       "      <td>151.714345</td>\n",
       "      <td>93.105604</td>\n",
       "      <td>0.000000</td>\n",
       "      <td>0</td>\n",
       "      <td>NaN</td>\n",
       "      <td>0.000000</td>\n",
       "      <td>0</td>\n",
       "      <td>0.000000</td>\n",
       "      <td>0</td>\n",
       "      <td>NaN</td>\n",
       "      <td>0.000000</td>\n",
       "      <td>0</td>\n",
       "    </tr>\n",
       "    <tr>\n",
       "      <td>6</td>\n",
       "      <td>2018-01-01</td>\n",
       "      <td>147945</td>\n",
       "      <td>0.000000</td>\n",
       "      <td>0</td>\n",
       "      <td>NaN</td>\n",
       "      <td>0.000000</td>\n",
       "      <td>NaN</td>\n",
       "      <td>0</td>\n",
       "      <td>NaN</td>\n",
       "      <td>NaN</td>\n",
       "      <td>0</td>\n",
       "      <td>NaN</td>\n",
       "      <td>0</td>\n",
       "      <td>NaN</td>\n",
       "      <td>NaN</td>\n",
       "      <td>0</td>\n",
       "    </tr>\n",
       "  </tbody>\n",
       "</table>\n",
       "</div>"
      ],
      "text/plain": [
       "  cohort_year  first_gift_cnt  second_year  second_year_cnt  second_year_avg  \\\n",
       "0  2012-01-01             141    23.404255               33       497.610303   \n",
       "1  2013-01-01          320069    19.411439            62130       245.738033   \n",
       "2  2014-01-01          320673    15.176519            48667       159.161182   \n",
       "3  2015-01-01          355137    12.974711            46078       179.707233   \n",
       "4  2016-01-01          445598    12.688118            56538       185.287068   \n",
       "5  2017-01-01          434991     6.894396            29990       151.714345   \n",
       "6  2018-01-01          147945     0.000000                0              NaN   \n",
       "\n",
       "   lapsed_after_first  multi_year  multi_year_cnt  multi_year_avg  \\\n",
       "0           76.595745   36.363636              12     1597.260833   \n",
       "1           80.588561   41.976501           26080      407.968347   \n",
       "2           84.823481   32.340189           15739      299.721817   \n",
       "3           87.025289   33.254482           15323      366.020322   \n",
       "4           87.311882   18.279741           10335      205.318955   \n",
       "5           93.105604    0.000000               0             NaN   \n",
       "6            0.000000         NaN               0             NaN   \n",
       "\n",
       "   lapsed_after_second  lapsed_after_second_cnt  second_with_gap  \\\n",
       "0            63.636364                       21         1.851852   \n",
       "1            58.023499                    36050         6.262333   \n",
       "2            67.659811                    32928         5.803548   \n",
       "3            66.745518                    30755         5.345258   \n",
       "4            81.718490                    46202         2.143114   \n",
       "5             0.000000                        0         0.000000   \n",
       "6                  NaN                        0              NaN   \n",
       "\n",
       "   second_with_gap_cnt  second_with_gap_avg  lapsed_after_first_long  \\\n",
       "0                    2            32.140000                98.148148   \n",
       "1                16153           120.565399                93.737667   \n",
       "2                15786           108.981826                94.196452   \n",
       "3                16520           111.114785                94.654742   \n",
       "4                 8338            91.576951                97.856629   \n",
       "5                    0                  NaN                 0.000000   \n",
       "6                    0                  NaN                      NaN   \n",
       "\n",
       "   lapsed_after_first_long_cnt  \n",
       "0                          106  \n",
       "1                       241786  \n",
       "2                       256220  \n",
       "3                       292539  \n",
       "4                       380721  \n",
       "5                            0  \n",
       "6                            0  "
      ]
     },
     "execution_count": 31,
     "metadata": {},
     "output_type": "execute_result"
    }
   ],
   "source": [
    "df4"
   ]
  },
  {
   "cell_type": "code",
   "execution_count": 71,
   "metadata": {},
   "outputs": [],
   "source": [
    "#df4.to_csv('df4.csv')"
   ]
  },
  {
   "cell_type": "code",
   "execution_count": 32,
   "metadata": {},
   "outputs": [],
   "source": [
    "df5=df4"
   ]
  },
  {
   "cell_type": "code",
   "execution_count": 34,
   "metadata": {},
   "outputs": [],
   "source": [
    "df5.columns=['cohort_year', 'no_donors_yr0', 'retention_rate_yr1', 'no_donors_yr1', 'avg_donation_yr1', 'lapse_rate_yr1', 'retention_rate_from_previous_yr_yr2', 'no_donors_012_y2', 'avg_donation_012_donors_yr2', 'lapse_rate_from_previous_year_yr2', 'no_donors_lapsed_from_previous_year_yr2', 'percent_donors_returning_yr2_after_lapsing_yr1_02', 'no_donors_02_yr2', 'avg_donation_of_02_donor', 'percent_donors_lapsing_yr2_after_lapsing_yr1', 'no_donors_lapsing_yr2_after_lapsing_yr1']"
   ]
  },
  {
   "cell_type": "code",
   "execution_count": 36,
   "metadata": {},
   "outputs": [],
   "source": [
    "df5['lapse_rate_yr1']=df5['lapse_rate_yr1']*-1"
   ]
  },
  {
   "cell_type": "code",
   "execution_count": 42,
   "metadata": {},
   "outputs": [],
   "source": [
    "df5['no_donors_lapsed_yr1']=(df5['no_donors_yr0']-df5['no_donors_yr1'])*-1"
   ]
  },
  {
   "cell_type": "code",
   "execution_count": 43,
   "metadata": {},
   "outputs": [
    {
     "data": {
      "text/html": [
       "<div>\n",
       "<style scoped>\n",
       "    .dataframe tbody tr th:only-of-type {\n",
       "        vertical-align: middle;\n",
       "    }\n",
       "\n",
       "    .dataframe tbody tr th {\n",
       "        vertical-align: top;\n",
       "    }\n",
       "\n",
       "    .dataframe thead th {\n",
       "        text-align: right;\n",
       "    }\n",
       "</style>\n",
       "<table border=\"1\" class=\"dataframe\">\n",
       "  <thead>\n",
       "    <tr style=\"text-align: right;\">\n",
       "      <th></th>\n",
       "      <th>cohort_year</th>\n",
       "      <th>no_donors_yr0</th>\n",
       "      <th>retention_rate_yr1</th>\n",
       "      <th>no_donors_yr1</th>\n",
       "      <th>avg_donation_yr1</th>\n",
       "      <th>lapse_rate_yr1</th>\n",
       "      <th>retention_rate_from_previous_yr_yr2</th>\n",
       "      <th>no_donors_012_y2</th>\n",
       "      <th>avg_donation_012_donors_yr2</th>\n",
       "      <th>lapse_rate_from_previous_year_yr2</th>\n",
       "      <th>no_donors_lapsed_from_previous_year_yr2</th>\n",
       "      <th>percent_donors_returning_yr2_after_lapsing_yr1_02</th>\n",
       "      <th>no_donors_02_yr2</th>\n",
       "      <th>avg_donation_of_02_donor</th>\n",
       "      <th>percent_donors_lapsing_yr2_after_lapsing_yr1</th>\n",
       "      <th>no_donors_lapsing_yr2_after_lapsing_yr1</th>\n",
       "      <th>no_donors_lapsed_yr1</th>\n",
       "    </tr>\n",
       "  </thead>\n",
       "  <tbody>\n",
       "    <tr>\n",
       "      <td>0</td>\n",
       "      <td>2012-01-01</td>\n",
       "      <td>141</td>\n",
       "      <td>23.404255</td>\n",
       "      <td>33</td>\n",
       "      <td>497.610303</td>\n",
       "      <td>-76.595745</td>\n",
       "      <td>36.363636</td>\n",
       "      <td>12</td>\n",
       "      <td>1597.260833</td>\n",
       "      <td>63.636364</td>\n",
       "      <td>21</td>\n",
       "      <td>1.851852</td>\n",
       "      <td>2</td>\n",
       "      <td>32.140000</td>\n",
       "      <td>98.148148</td>\n",
       "      <td>106</td>\n",
       "      <td>-108</td>\n",
       "    </tr>\n",
       "    <tr>\n",
       "      <td>1</td>\n",
       "      <td>2013-01-01</td>\n",
       "      <td>320069</td>\n",
       "      <td>19.411439</td>\n",
       "      <td>62130</td>\n",
       "      <td>245.738033</td>\n",
       "      <td>-80.588561</td>\n",
       "      <td>41.976501</td>\n",
       "      <td>26080</td>\n",
       "      <td>407.968347</td>\n",
       "      <td>58.023499</td>\n",
       "      <td>36050</td>\n",
       "      <td>6.262333</td>\n",
       "      <td>16153</td>\n",
       "      <td>120.565399</td>\n",
       "      <td>93.737667</td>\n",
       "      <td>241786</td>\n",
       "      <td>-257939</td>\n",
       "    </tr>\n",
       "    <tr>\n",
       "      <td>2</td>\n",
       "      <td>2014-01-01</td>\n",
       "      <td>320673</td>\n",
       "      <td>15.176519</td>\n",
       "      <td>48667</td>\n",
       "      <td>159.161182</td>\n",
       "      <td>-84.823481</td>\n",
       "      <td>32.340189</td>\n",
       "      <td>15739</td>\n",
       "      <td>299.721817</td>\n",
       "      <td>67.659811</td>\n",
       "      <td>32928</td>\n",
       "      <td>5.803548</td>\n",
       "      <td>15786</td>\n",
       "      <td>108.981826</td>\n",
       "      <td>94.196452</td>\n",
       "      <td>256220</td>\n",
       "      <td>-272006</td>\n",
       "    </tr>\n",
       "    <tr>\n",
       "      <td>3</td>\n",
       "      <td>2015-01-01</td>\n",
       "      <td>355137</td>\n",
       "      <td>12.974711</td>\n",
       "      <td>46078</td>\n",
       "      <td>179.707233</td>\n",
       "      <td>-87.025289</td>\n",
       "      <td>33.254482</td>\n",
       "      <td>15323</td>\n",
       "      <td>366.020322</td>\n",
       "      <td>66.745518</td>\n",
       "      <td>30755</td>\n",
       "      <td>5.345258</td>\n",
       "      <td>16520</td>\n",
       "      <td>111.114785</td>\n",
       "      <td>94.654742</td>\n",
       "      <td>292539</td>\n",
       "      <td>-309059</td>\n",
       "    </tr>\n",
       "    <tr>\n",
       "      <td>4</td>\n",
       "      <td>2016-01-01</td>\n",
       "      <td>445598</td>\n",
       "      <td>12.688118</td>\n",
       "      <td>56538</td>\n",
       "      <td>185.287068</td>\n",
       "      <td>-87.311882</td>\n",
       "      <td>18.279741</td>\n",
       "      <td>10335</td>\n",
       "      <td>205.318955</td>\n",
       "      <td>81.718490</td>\n",
       "      <td>46202</td>\n",
       "      <td>2.143114</td>\n",
       "      <td>8338</td>\n",
       "      <td>91.576951</td>\n",
       "      <td>97.856629</td>\n",
       "      <td>380721</td>\n",
       "      <td>-389060</td>\n",
       "    </tr>\n",
       "    <tr>\n",
       "      <td>5</td>\n",
       "      <td>2017-01-01</td>\n",
       "      <td>434991</td>\n",
       "      <td>6.894396</td>\n",
       "      <td>29990</td>\n",
       "      <td>151.714345</td>\n",
       "      <td>-93.105604</td>\n",
       "      <td>0.000000</td>\n",
       "      <td>0</td>\n",
       "      <td>NaN</td>\n",
       "      <td>0.000000</td>\n",
       "      <td>0</td>\n",
       "      <td>0.000000</td>\n",
       "      <td>0</td>\n",
       "      <td>NaN</td>\n",
       "      <td>0.000000</td>\n",
       "      <td>0</td>\n",
       "      <td>-405001</td>\n",
       "    </tr>\n",
       "    <tr>\n",
       "      <td>6</td>\n",
       "      <td>2018-01-01</td>\n",
       "      <td>147945</td>\n",
       "      <td>0.000000</td>\n",
       "      <td>0</td>\n",
       "      <td>NaN</td>\n",
       "      <td>-0.000000</td>\n",
       "      <td>NaN</td>\n",
       "      <td>0</td>\n",
       "      <td>NaN</td>\n",
       "      <td>NaN</td>\n",
       "      <td>0</td>\n",
       "      <td>NaN</td>\n",
       "      <td>0</td>\n",
       "      <td>NaN</td>\n",
       "      <td>NaN</td>\n",
       "      <td>0</td>\n",
       "      <td>-147945</td>\n",
       "    </tr>\n",
       "  </tbody>\n",
       "</table>\n",
       "</div>"
      ],
      "text/plain": [
       "  cohort_year  no_donors_yr0  retention_rate_yr1  no_donors_yr1  \\\n",
       "0  2012-01-01            141           23.404255             33   \n",
       "1  2013-01-01         320069           19.411439          62130   \n",
       "2  2014-01-01         320673           15.176519          48667   \n",
       "3  2015-01-01         355137           12.974711          46078   \n",
       "4  2016-01-01         445598           12.688118          56538   \n",
       "5  2017-01-01         434991            6.894396          29990   \n",
       "6  2018-01-01         147945            0.000000              0   \n",
       "\n",
       "   avg_donation_yr1  lapse_rate_yr1  retention_rate_from_previous_yr_yr2  \\\n",
       "0        497.610303      -76.595745                            36.363636   \n",
       "1        245.738033      -80.588561                            41.976501   \n",
       "2        159.161182      -84.823481                            32.340189   \n",
       "3        179.707233      -87.025289                            33.254482   \n",
       "4        185.287068      -87.311882                            18.279741   \n",
       "5        151.714345      -93.105604                             0.000000   \n",
       "6               NaN       -0.000000                                  NaN   \n",
       "\n",
       "   no_donors_012_y2  avg_donation_012_donors_yr2  \\\n",
       "0                12                  1597.260833   \n",
       "1             26080                   407.968347   \n",
       "2             15739                   299.721817   \n",
       "3             15323                   366.020322   \n",
       "4             10335                   205.318955   \n",
       "5                 0                          NaN   \n",
       "6                 0                          NaN   \n",
       "\n",
       "   lapse_rate_from_previous_year_yr2  no_donors_lapsed_from_previous_year_yr2  \\\n",
       "0                          63.636364                                       21   \n",
       "1                          58.023499                                    36050   \n",
       "2                          67.659811                                    32928   \n",
       "3                          66.745518                                    30755   \n",
       "4                          81.718490                                    46202   \n",
       "5                           0.000000                                        0   \n",
       "6                                NaN                                        0   \n",
       "\n",
       "   percent_donors_returning_yr2_after_lapsing_yr1_02  no_donors_02_yr2  \\\n",
       "0                                           1.851852                 2   \n",
       "1                                           6.262333             16153   \n",
       "2                                           5.803548             15786   \n",
       "3                                           5.345258             16520   \n",
       "4                                           2.143114              8338   \n",
       "5                                           0.000000                 0   \n",
       "6                                                NaN                 0   \n",
       "\n",
       "   avg_donation_of_02_donor  percent_donors_lapsing_yr2_after_lapsing_yr1  \\\n",
       "0                 32.140000                                     98.148148   \n",
       "1                120.565399                                     93.737667   \n",
       "2                108.981826                                     94.196452   \n",
       "3                111.114785                                     94.654742   \n",
       "4                 91.576951                                     97.856629   \n",
       "5                       NaN                                      0.000000   \n",
       "6                       NaN                                           NaN   \n",
       "\n",
       "   no_donors_lapsing_yr2_after_lapsing_yr1  no_donors_lapsed_yr1  \n",
       "0                                      106                  -108  \n",
       "1                                   241786               -257939  \n",
       "2                                   256220               -272006  \n",
       "3                                   292539               -309059  \n",
       "4                                   380721               -389060  \n",
       "5                                        0               -405001  \n",
       "6                                        0               -147945  "
      ]
     },
     "execution_count": 43,
     "metadata": {},
     "output_type": "execute_result"
    }
   ],
   "source": [
    "df5"
   ]
  },
  {
   "cell_type": "code",
   "execution_count": 39,
   "metadata": {},
   "outputs": [
    {
     "data": {
      "application/vnd.plotly.v1+json": {
       "config": {
        "plotlyServerURL": "https://plot.ly"
       },
       "data": [
        {
         "alignmentgroup": "True",
         "hovertemplate": "cohort_year=%{x}<br>no_donors_yr0=%{y}<extra></extra>",
         "legendgroup": "",
         "marker": {
          "color": "#636efa"
         },
         "name": "",
         "offsetgroup": "",
         "orientation": "v",
         "showlegend": false,
         "textposition": "auto",
         "type": "bar",
         "x": [
          "2012-01-01",
          "2013-01-01",
          "2014-01-01",
          "2015-01-01",
          "2016-01-01",
          "2017-01-01",
          "2018-01-01"
         ],
         "xaxis": "x",
         "y": [
          141,
          320069,
          320673,
          355137,
          445598,
          434991,
          147945
         ],
         "yaxis": "y"
        }
       ],
       "layout": {
        "barmode": "relative",
        "legend": {
         "tracegroupgap": 0
        },
        "template": {
         "data": {
          "bar": [
           {
            "error_x": {
             "color": "#2a3f5f"
            },
            "error_y": {
             "color": "#2a3f5f"
            },
            "marker": {
             "line": {
              "color": "#E5ECF6",
              "width": 0.5
             }
            },
            "type": "bar"
           }
          ],
          "barpolar": [
           {
            "marker": {
             "line": {
              "color": "#E5ECF6",
              "width": 0.5
             }
            },
            "type": "barpolar"
           }
          ],
          "carpet": [
           {
            "aaxis": {
             "endlinecolor": "#2a3f5f",
             "gridcolor": "white",
             "linecolor": "white",
             "minorgridcolor": "white",
             "startlinecolor": "#2a3f5f"
            },
            "baxis": {
             "endlinecolor": "#2a3f5f",
             "gridcolor": "white",
             "linecolor": "white",
             "minorgridcolor": "white",
             "startlinecolor": "#2a3f5f"
            },
            "type": "carpet"
           }
          ],
          "choropleth": [
           {
            "colorbar": {
             "outlinewidth": 0,
             "ticks": ""
            },
            "type": "choropleth"
           }
          ],
          "contour": [
           {
            "colorbar": {
             "outlinewidth": 0,
             "ticks": ""
            },
            "colorscale": [
             [
              0,
              "#0d0887"
             ],
             [
              0.1111111111111111,
              "#46039f"
             ],
             [
              0.2222222222222222,
              "#7201a8"
             ],
             [
              0.3333333333333333,
              "#9c179e"
             ],
             [
              0.4444444444444444,
              "#bd3786"
             ],
             [
              0.5555555555555556,
              "#d8576b"
             ],
             [
              0.6666666666666666,
              "#ed7953"
             ],
             [
              0.7777777777777778,
              "#fb9f3a"
             ],
             [
              0.8888888888888888,
              "#fdca26"
             ],
             [
              1,
              "#f0f921"
             ]
            ],
            "type": "contour"
           }
          ],
          "contourcarpet": [
           {
            "colorbar": {
             "outlinewidth": 0,
             "ticks": ""
            },
            "type": "contourcarpet"
           }
          ],
          "heatmap": [
           {
            "colorbar": {
             "outlinewidth": 0,
             "ticks": ""
            },
            "colorscale": [
             [
              0,
              "#0d0887"
             ],
             [
              0.1111111111111111,
              "#46039f"
             ],
             [
              0.2222222222222222,
              "#7201a8"
             ],
             [
              0.3333333333333333,
              "#9c179e"
             ],
             [
              0.4444444444444444,
              "#bd3786"
             ],
             [
              0.5555555555555556,
              "#d8576b"
             ],
             [
              0.6666666666666666,
              "#ed7953"
             ],
             [
              0.7777777777777778,
              "#fb9f3a"
             ],
             [
              0.8888888888888888,
              "#fdca26"
             ],
             [
              1,
              "#f0f921"
             ]
            ],
            "type": "heatmap"
           }
          ],
          "heatmapgl": [
           {
            "colorbar": {
             "outlinewidth": 0,
             "ticks": ""
            },
            "colorscale": [
             [
              0,
              "#0d0887"
             ],
             [
              0.1111111111111111,
              "#46039f"
             ],
             [
              0.2222222222222222,
              "#7201a8"
             ],
             [
              0.3333333333333333,
              "#9c179e"
             ],
             [
              0.4444444444444444,
              "#bd3786"
             ],
             [
              0.5555555555555556,
              "#d8576b"
             ],
             [
              0.6666666666666666,
              "#ed7953"
             ],
             [
              0.7777777777777778,
              "#fb9f3a"
             ],
             [
              0.8888888888888888,
              "#fdca26"
             ],
             [
              1,
              "#f0f921"
             ]
            ],
            "type": "heatmapgl"
           }
          ],
          "histogram": [
           {
            "marker": {
             "colorbar": {
              "outlinewidth": 0,
              "ticks": ""
             }
            },
            "type": "histogram"
           }
          ],
          "histogram2d": [
           {
            "colorbar": {
             "outlinewidth": 0,
             "ticks": ""
            },
            "colorscale": [
             [
              0,
              "#0d0887"
             ],
             [
              0.1111111111111111,
              "#46039f"
             ],
             [
              0.2222222222222222,
              "#7201a8"
             ],
             [
              0.3333333333333333,
              "#9c179e"
             ],
             [
              0.4444444444444444,
              "#bd3786"
             ],
             [
              0.5555555555555556,
              "#d8576b"
             ],
             [
              0.6666666666666666,
              "#ed7953"
             ],
             [
              0.7777777777777778,
              "#fb9f3a"
             ],
             [
              0.8888888888888888,
              "#fdca26"
             ],
             [
              1,
              "#f0f921"
             ]
            ],
            "type": "histogram2d"
           }
          ],
          "histogram2dcontour": [
           {
            "colorbar": {
             "outlinewidth": 0,
             "ticks": ""
            },
            "colorscale": [
             [
              0,
              "#0d0887"
             ],
             [
              0.1111111111111111,
              "#46039f"
             ],
             [
              0.2222222222222222,
              "#7201a8"
             ],
             [
              0.3333333333333333,
              "#9c179e"
             ],
             [
              0.4444444444444444,
              "#bd3786"
             ],
             [
              0.5555555555555556,
              "#d8576b"
             ],
             [
              0.6666666666666666,
              "#ed7953"
             ],
             [
              0.7777777777777778,
              "#fb9f3a"
             ],
             [
              0.8888888888888888,
              "#fdca26"
             ],
             [
              1,
              "#f0f921"
             ]
            ],
            "type": "histogram2dcontour"
           }
          ],
          "mesh3d": [
           {
            "colorbar": {
             "outlinewidth": 0,
             "ticks": ""
            },
            "type": "mesh3d"
           }
          ],
          "parcoords": [
           {
            "line": {
             "colorbar": {
              "outlinewidth": 0,
              "ticks": ""
             }
            },
            "type": "parcoords"
           }
          ],
          "pie": [
           {
            "automargin": true,
            "type": "pie"
           }
          ],
          "scatter": [
           {
            "marker": {
             "colorbar": {
              "outlinewidth": 0,
              "ticks": ""
             }
            },
            "type": "scatter"
           }
          ],
          "scatter3d": [
           {
            "line": {
             "colorbar": {
              "outlinewidth": 0,
              "ticks": ""
             }
            },
            "marker": {
             "colorbar": {
              "outlinewidth": 0,
              "ticks": ""
             }
            },
            "type": "scatter3d"
           }
          ],
          "scattercarpet": [
           {
            "marker": {
             "colorbar": {
              "outlinewidth": 0,
              "ticks": ""
             }
            },
            "type": "scattercarpet"
           }
          ],
          "scattergeo": [
           {
            "marker": {
             "colorbar": {
              "outlinewidth": 0,
              "ticks": ""
             }
            },
            "type": "scattergeo"
           }
          ],
          "scattergl": [
           {
            "marker": {
             "colorbar": {
              "outlinewidth": 0,
              "ticks": ""
             }
            },
            "type": "scattergl"
           }
          ],
          "scattermapbox": [
           {
            "marker": {
             "colorbar": {
              "outlinewidth": 0,
              "ticks": ""
             }
            },
            "type": "scattermapbox"
           }
          ],
          "scatterpolar": [
           {
            "marker": {
             "colorbar": {
              "outlinewidth": 0,
              "ticks": ""
             }
            },
            "type": "scatterpolar"
           }
          ],
          "scatterpolargl": [
           {
            "marker": {
             "colorbar": {
              "outlinewidth": 0,
              "ticks": ""
             }
            },
            "type": "scatterpolargl"
           }
          ],
          "scatterternary": [
           {
            "marker": {
             "colorbar": {
              "outlinewidth": 0,
              "ticks": ""
             }
            },
            "type": "scatterternary"
           }
          ],
          "surface": [
           {
            "colorbar": {
             "outlinewidth": 0,
             "ticks": ""
            },
            "colorscale": [
             [
              0,
              "#0d0887"
             ],
             [
              0.1111111111111111,
              "#46039f"
             ],
             [
              0.2222222222222222,
              "#7201a8"
             ],
             [
              0.3333333333333333,
              "#9c179e"
             ],
             [
              0.4444444444444444,
              "#bd3786"
             ],
             [
              0.5555555555555556,
              "#d8576b"
             ],
             [
              0.6666666666666666,
              "#ed7953"
             ],
             [
              0.7777777777777778,
              "#fb9f3a"
             ],
             [
              0.8888888888888888,
              "#fdca26"
             ],
             [
              1,
              "#f0f921"
             ]
            ],
            "type": "surface"
           }
          ],
          "table": [
           {
            "cells": {
             "fill": {
              "color": "#EBF0F8"
             },
             "line": {
              "color": "white"
             }
            },
            "header": {
             "fill": {
              "color": "#C8D4E3"
             },
             "line": {
              "color": "white"
             }
            },
            "type": "table"
           }
          ]
         },
         "layout": {
          "annotationdefaults": {
           "arrowcolor": "#2a3f5f",
           "arrowhead": 0,
           "arrowwidth": 1
          },
          "coloraxis": {
           "colorbar": {
            "outlinewidth": 0,
            "ticks": ""
           }
          },
          "colorscale": {
           "diverging": [
            [
             0,
             "#8e0152"
            ],
            [
             0.1,
             "#c51b7d"
            ],
            [
             0.2,
             "#de77ae"
            ],
            [
             0.3,
             "#f1b6da"
            ],
            [
             0.4,
             "#fde0ef"
            ],
            [
             0.5,
             "#f7f7f7"
            ],
            [
             0.6,
             "#e6f5d0"
            ],
            [
             0.7,
             "#b8e186"
            ],
            [
             0.8,
             "#7fbc41"
            ],
            [
             0.9,
             "#4d9221"
            ],
            [
             1,
             "#276419"
            ]
           ],
           "sequential": [
            [
             0,
             "#0d0887"
            ],
            [
             0.1111111111111111,
             "#46039f"
            ],
            [
             0.2222222222222222,
             "#7201a8"
            ],
            [
             0.3333333333333333,
             "#9c179e"
            ],
            [
             0.4444444444444444,
             "#bd3786"
            ],
            [
             0.5555555555555556,
             "#d8576b"
            ],
            [
             0.6666666666666666,
             "#ed7953"
            ],
            [
             0.7777777777777778,
             "#fb9f3a"
            ],
            [
             0.8888888888888888,
             "#fdca26"
            ],
            [
             1,
             "#f0f921"
            ]
           ],
           "sequentialminus": [
            [
             0,
             "#0d0887"
            ],
            [
             0.1111111111111111,
             "#46039f"
            ],
            [
             0.2222222222222222,
             "#7201a8"
            ],
            [
             0.3333333333333333,
             "#9c179e"
            ],
            [
             0.4444444444444444,
             "#bd3786"
            ],
            [
             0.5555555555555556,
             "#d8576b"
            ],
            [
             0.6666666666666666,
             "#ed7953"
            ],
            [
             0.7777777777777778,
             "#fb9f3a"
            ],
            [
             0.8888888888888888,
             "#fdca26"
            ],
            [
             1,
             "#f0f921"
            ]
           ]
          },
          "colorway": [
           "#636efa",
           "#EF553B",
           "#00cc96",
           "#ab63fa",
           "#FFA15A",
           "#19d3f3",
           "#FF6692",
           "#B6E880",
           "#FF97FF",
           "#FECB52"
          ],
          "font": {
           "color": "#2a3f5f"
          },
          "geo": {
           "bgcolor": "white",
           "lakecolor": "white",
           "landcolor": "#E5ECF6",
           "showlakes": true,
           "showland": true,
           "subunitcolor": "white"
          },
          "hoverlabel": {
           "align": "left"
          },
          "hovermode": "closest",
          "mapbox": {
           "style": "light"
          },
          "paper_bgcolor": "white",
          "plot_bgcolor": "#E5ECF6",
          "polar": {
           "angularaxis": {
            "gridcolor": "white",
            "linecolor": "white",
            "ticks": ""
           },
           "bgcolor": "#E5ECF6",
           "radialaxis": {
            "gridcolor": "white",
            "linecolor": "white",
            "ticks": ""
           }
          },
          "scene": {
           "xaxis": {
            "backgroundcolor": "#E5ECF6",
            "gridcolor": "white",
            "gridwidth": 2,
            "linecolor": "white",
            "showbackground": true,
            "ticks": "",
            "zerolinecolor": "white"
           },
           "yaxis": {
            "backgroundcolor": "#E5ECF6",
            "gridcolor": "white",
            "gridwidth": 2,
            "linecolor": "white",
            "showbackground": true,
            "ticks": "",
            "zerolinecolor": "white"
           },
           "zaxis": {
            "backgroundcolor": "#E5ECF6",
            "gridcolor": "white",
            "gridwidth": 2,
            "linecolor": "white",
            "showbackground": true,
            "ticks": "",
            "zerolinecolor": "white"
           }
          },
          "shapedefaults": {
           "line": {
            "color": "#2a3f5f"
           }
          },
          "ternary": {
           "aaxis": {
            "gridcolor": "white",
            "linecolor": "white",
            "ticks": ""
           },
           "baxis": {
            "gridcolor": "white",
            "linecolor": "white",
            "ticks": ""
           },
           "bgcolor": "#E5ECF6",
           "caxis": {
            "gridcolor": "white",
            "linecolor": "white",
            "ticks": ""
           }
          },
          "title": {
           "x": 0.05
          },
          "xaxis": {
           "automargin": true,
           "gridcolor": "white",
           "linecolor": "white",
           "ticks": "",
           "title": {
            "standoff": 15
           },
           "zerolinecolor": "white",
           "zerolinewidth": 2
          },
          "yaxis": {
           "automargin": true,
           "gridcolor": "white",
           "linecolor": "white",
           "ticks": "",
           "title": {
            "standoff": 15
           },
           "zerolinecolor": "white",
           "zerolinewidth": 2
          }
         }
        },
        "title": {
         "text": "Year 0: Number of Donors"
        },
        "xaxis": {
         "anchor": "y",
         "domain": [
          0,
          1
         ],
         "title": {
          "text": "cohort_year"
         },
         "type": "category"
        },
        "yaxis": {
         "anchor": "x",
         "domain": [
          0,
          1
         ],
         "title": {
          "text": "no_donors_yr0"
         }
        }
       }
      },
      "text/html": [
       "<div>\n",
       "        \n",
       "        \n",
       "            <div id=\"726c7f10-94fe-4bdc-a330-e3caffcc41d2\" class=\"plotly-graph-div\" style=\"height:525px; width:100%;\"></div>\n",
       "            <script type=\"text/javascript\">\n",
       "                require([\"plotly\"], function(Plotly) {\n",
       "                    window.PLOTLYENV=window.PLOTLYENV || {};\n",
       "                    \n",
       "                if (document.getElementById(\"726c7f10-94fe-4bdc-a330-e3caffcc41d2\")) {\n",
       "                    Plotly.newPlot(\n",
       "                        '726c7f10-94fe-4bdc-a330-e3caffcc41d2',\n",
       "                        [{\"alignmentgroup\": \"True\", \"hovertemplate\": \"cohort_year=%{x}<br>no_donors_yr0=%{y}<extra></extra>\", \"legendgroup\": \"\", \"marker\": {\"color\": \"#636efa\"}, \"name\": \"\", \"offsetgroup\": \"\", \"orientation\": \"v\", \"showlegend\": false, \"textposition\": \"auto\", \"type\": \"bar\", \"x\": [\"2012-01-01\", \"2013-01-01\", \"2014-01-01\", \"2015-01-01\", \"2016-01-01\", \"2017-01-01\", \"2018-01-01\"], \"xaxis\": \"x\", \"y\": [141, 320069, 320673, 355137, 445598, 434991, 147945], \"yaxis\": \"y\"}],\n",
       "                        {\"barmode\": \"relative\", \"legend\": {\"tracegroupgap\": 0}, \"template\": {\"data\": {\"bar\": [{\"error_x\": {\"color\": \"#2a3f5f\"}, \"error_y\": {\"color\": \"#2a3f5f\"}, \"marker\": {\"line\": {\"color\": \"#E5ECF6\", \"width\": 0.5}}, \"type\": \"bar\"}], \"barpolar\": [{\"marker\": {\"line\": {\"color\": \"#E5ECF6\", \"width\": 0.5}}, \"type\": \"barpolar\"}], \"carpet\": [{\"aaxis\": {\"endlinecolor\": \"#2a3f5f\", \"gridcolor\": \"white\", \"linecolor\": \"white\", \"minorgridcolor\": \"white\", \"startlinecolor\": \"#2a3f5f\"}, \"baxis\": {\"endlinecolor\": \"#2a3f5f\", \"gridcolor\": \"white\", \"linecolor\": \"white\", \"minorgridcolor\": \"white\", \"startlinecolor\": \"#2a3f5f\"}, \"type\": \"carpet\"}], \"choropleth\": [{\"colorbar\": {\"outlinewidth\": 0, \"ticks\": \"\"}, \"type\": \"choropleth\"}], \"contour\": [{\"colorbar\": {\"outlinewidth\": 0, \"ticks\": \"\"}, \"colorscale\": [[0.0, \"#0d0887\"], [0.1111111111111111, \"#46039f\"], [0.2222222222222222, \"#7201a8\"], [0.3333333333333333, \"#9c179e\"], [0.4444444444444444, \"#bd3786\"], [0.5555555555555556, \"#d8576b\"], [0.6666666666666666, \"#ed7953\"], [0.7777777777777778, \"#fb9f3a\"], [0.8888888888888888, \"#fdca26\"], [1.0, \"#f0f921\"]], \"type\": \"contour\"}], \"contourcarpet\": [{\"colorbar\": {\"outlinewidth\": 0, \"ticks\": \"\"}, \"type\": \"contourcarpet\"}], \"heatmap\": [{\"colorbar\": {\"outlinewidth\": 0, \"ticks\": \"\"}, \"colorscale\": [[0.0, \"#0d0887\"], [0.1111111111111111, \"#46039f\"], [0.2222222222222222, \"#7201a8\"], [0.3333333333333333, \"#9c179e\"], [0.4444444444444444, \"#bd3786\"], [0.5555555555555556, \"#d8576b\"], [0.6666666666666666, \"#ed7953\"], [0.7777777777777778, \"#fb9f3a\"], [0.8888888888888888, \"#fdca26\"], [1.0, \"#f0f921\"]], \"type\": \"heatmap\"}], \"heatmapgl\": [{\"colorbar\": {\"outlinewidth\": 0, \"ticks\": \"\"}, \"colorscale\": [[0.0, \"#0d0887\"], [0.1111111111111111, \"#46039f\"], [0.2222222222222222, \"#7201a8\"], [0.3333333333333333, \"#9c179e\"], [0.4444444444444444, \"#bd3786\"], [0.5555555555555556, \"#d8576b\"], [0.6666666666666666, \"#ed7953\"], [0.7777777777777778, \"#fb9f3a\"], [0.8888888888888888, \"#fdca26\"], [1.0, \"#f0f921\"]], \"type\": \"heatmapgl\"}], \"histogram\": [{\"marker\": {\"colorbar\": {\"outlinewidth\": 0, \"ticks\": \"\"}}, \"type\": \"histogram\"}], \"histogram2d\": [{\"colorbar\": {\"outlinewidth\": 0, \"ticks\": \"\"}, \"colorscale\": [[0.0, \"#0d0887\"], [0.1111111111111111, \"#46039f\"], [0.2222222222222222, \"#7201a8\"], [0.3333333333333333, \"#9c179e\"], [0.4444444444444444, \"#bd3786\"], [0.5555555555555556, \"#d8576b\"], [0.6666666666666666, \"#ed7953\"], [0.7777777777777778, \"#fb9f3a\"], [0.8888888888888888, \"#fdca26\"], [1.0, \"#f0f921\"]], \"type\": \"histogram2d\"}], \"histogram2dcontour\": [{\"colorbar\": {\"outlinewidth\": 0, \"ticks\": \"\"}, \"colorscale\": [[0.0, \"#0d0887\"], [0.1111111111111111, \"#46039f\"], [0.2222222222222222, \"#7201a8\"], [0.3333333333333333, \"#9c179e\"], [0.4444444444444444, \"#bd3786\"], [0.5555555555555556, \"#d8576b\"], [0.6666666666666666, \"#ed7953\"], [0.7777777777777778, \"#fb9f3a\"], [0.8888888888888888, \"#fdca26\"], [1.0, \"#f0f921\"]], \"type\": \"histogram2dcontour\"}], \"mesh3d\": [{\"colorbar\": {\"outlinewidth\": 0, \"ticks\": \"\"}, \"type\": \"mesh3d\"}], \"parcoords\": [{\"line\": {\"colorbar\": {\"outlinewidth\": 0, \"ticks\": \"\"}}, \"type\": \"parcoords\"}], \"pie\": [{\"automargin\": true, \"type\": \"pie\"}], \"scatter\": [{\"marker\": {\"colorbar\": {\"outlinewidth\": 0, \"ticks\": \"\"}}, \"type\": \"scatter\"}], \"scatter3d\": [{\"line\": {\"colorbar\": {\"outlinewidth\": 0, \"ticks\": \"\"}}, \"marker\": {\"colorbar\": {\"outlinewidth\": 0, \"ticks\": \"\"}}, \"type\": \"scatter3d\"}], \"scattercarpet\": [{\"marker\": {\"colorbar\": {\"outlinewidth\": 0, \"ticks\": \"\"}}, \"type\": \"scattercarpet\"}], \"scattergeo\": [{\"marker\": {\"colorbar\": {\"outlinewidth\": 0, \"ticks\": \"\"}}, \"type\": \"scattergeo\"}], \"scattergl\": [{\"marker\": {\"colorbar\": {\"outlinewidth\": 0, \"ticks\": \"\"}}, \"type\": \"scattergl\"}], \"scattermapbox\": [{\"marker\": {\"colorbar\": {\"outlinewidth\": 0, \"ticks\": \"\"}}, \"type\": \"scattermapbox\"}], \"scatterpolar\": [{\"marker\": {\"colorbar\": {\"outlinewidth\": 0, \"ticks\": \"\"}}, \"type\": \"scatterpolar\"}], \"scatterpolargl\": [{\"marker\": {\"colorbar\": {\"outlinewidth\": 0, \"ticks\": \"\"}}, \"type\": \"scatterpolargl\"}], \"scatterternary\": [{\"marker\": {\"colorbar\": {\"outlinewidth\": 0, \"ticks\": \"\"}}, \"type\": \"scatterternary\"}], \"surface\": [{\"colorbar\": {\"outlinewidth\": 0, \"ticks\": \"\"}, \"colorscale\": [[0.0, \"#0d0887\"], [0.1111111111111111, \"#46039f\"], [0.2222222222222222, \"#7201a8\"], [0.3333333333333333, \"#9c179e\"], [0.4444444444444444, \"#bd3786\"], [0.5555555555555556, \"#d8576b\"], [0.6666666666666666, \"#ed7953\"], [0.7777777777777778, \"#fb9f3a\"], [0.8888888888888888, \"#fdca26\"], [1.0, \"#f0f921\"]], \"type\": \"surface\"}], \"table\": [{\"cells\": {\"fill\": {\"color\": \"#EBF0F8\"}, \"line\": {\"color\": \"white\"}}, \"header\": {\"fill\": {\"color\": \"#C8D4E3\"}, \"line\": {\"color\": \"white\"}}, \"type\": \"table\"}]}, \"layout\": {\"annotationdefaults\": {\"arrowcolor\": \"#2a3f5f\", \"arrowhead\": 0, \"arrowwidth\": 1}, \"coloraxis\": {\"colorbar\": {\"outlinewidth\": 0, \"ticks\": \"\"}}, \"colorscale\": {\"diverging\": [[0, \"#8e0152\"], [0.1, \"#c51b7d\"], [0.2, \"#de77ae\"], [0.3, \"#f1b6da\"], [0.4, \"#fde0ef\"], [0.5, \"#f7f7f7\"], [0.6, \"#e6f5d0\"], [0.7, \"#b8e186\"], [0.8, \"#7fbc41\"], [0.9, \"#4d9221\"], [1, \"#276419\"]], \"sequential\": [[0.0, \"#0d0887\"], [0.1111111111111111, \"#46039f\"], [0.2222222222222222, \"#7201a8\"], [0.3333333333333333, \"#9c179e\"], [0.4444444444444444, \"#bd3786\"], [0.5555555555555556, \"#d8576b\"], [0.6666666666666666, \"#ed7953\"], [0.7777777777777778, \"#fb9f3a\"], [0.8888888888888888, \"#fdca26\"], [1.0, \"#f0f921\"]], \"sequentialminus\": [[0.0, \"#0d0887\"], [0.1111111111111111, \"#46039f\"], [0.2222222222222222, \"#7201a8\"], [0.3333333333333333, \"#9c179e\"], [0.4444444444444444, \"#bd3786\"], [0.5555555555555556, \"#d8576b\"], [0.6666666666666666, \"#ed7953\"], [0.7777777777777778, \"#fb9f3a\"], [0.8888888888888888, \"#fdca26\"], [1.0, \"#f0f921\"]]}, \"colorway\": [\"#636efa\", \"#EF553B\", \"#00cc96\", \"#ab63fa\", \"#FFA15A\", \"#19d3f3\", \"#FF6692\", \"#B6E880\", \"#FF97FF\", \"#FECB52\"], \"font\": {\"color\": \"#2a3f5f\"}, \"geo\": {\"bgcolor\": \"white\", \"lakecolor\": \"white\", \"landcolor\": \"#E5ECF6\", \"showlakes\": true, \"showland\": true, \"subunitcolor\": \"white\"}, \"hoverlabel\": {\"align\": \"left\"}, \"hovermode\": \"closest\", \"mapbox\": {\"style\": \"light\"}, \"paper_bgcolor\": \"white\", \"plot_bgcolor\": \"#E5ECF6\", \"polar\": {\"angularaxis\": {\"gridcolor\": \"white\", \"linecolor\": \"white\", \"ticks\": \"\"}, \"bgcolor\": \"#E5ECF6\", \"radialaxis\": {\"gridcolor\": \"white\", \"linecolor\": \"white\", \"ticks\": \"\"}}, \"scene\": {\"xaxis\": {\"backgroundcolor\": \"#E5ECF6\", \"gridcolor\": \"white\", \"gridwidth\": 2, \"linecolor\": \"white\", \"showbackground\": true, \"ticks\": \"\", \"zerolinecolor\": \"white\"}, \"yaxis\": {\"backgroundcolor\": \"#E5ECF6\", \"gridcolor\": \"white\", \"gridwidth\": 2, \"linecolor\": \"white\", \"showbackground\": true, \"ticks\": \"\", \"zerolinecolor\": \"white\"}, \"zaxis\": {\"backgroundcolor\": \"#E5ECF6\", \"gridcolor\": \"white\", \"gridwidth\": 2, \"linecolor\": \"white\", \"showbackground\": true, \"ticks\": \"\", \"zerolinecolor\": \"white\"}}, \"shapedefaults\": {\"line\": {\"color\": \"#2a3f5f\"}}, \"ternary\": {\"aaxis\": {\"gridcolor\": \"white\", \"linecolor\": \"white\", \"ticks\": \"\"}, \"baxis\": {\"gridcolor\": \"white\", \"linecolor\": \"white\", \"ticks\": \"\"}, \"bgcolor\": \"#E5ECF6\", \"caxis\": {\"gridcolor\": \"white\", \"linecolor\": \"white\", \"ticks\": \"\"}}, \"title\": {\"x\": 0.05}, \"xaxis\": {\"automargin\": true, \"gridcolor\": \"white\", \"linecolor\": \"white\", \"ticks\": \"\", \"title\": {\"standoff\": 15}, \"zerolinecolor\": \"white\", \"zerolinewidth\": 2}, \"yaxis\": {\"automargin\": true, \"gridcolor\": \"white\", \"linecolor\": \"white\", \"ticks\": \"\", \"title\": {\"standoff\": 15}, \"zerolinecolor\": \"white\", \"zerolinewidth\": 2}}}, \"title\": {\"text\": \"Year 0: Number of Donors\"}, \"xaxis\": {\"anchor\": \"y\", \"domain\": [0.0, 1.0], \"title\": {\"text\": \"cohort_year\"}, \"type\": \"category\"}, \"yaxis\": {\"anchor\": \"x\", \"domain\": [0.0, 1.0], \"title\": {\"text\": \"no_donors_yr0\"}}},\n",
       "                        {\"responsive\": true}\n",
       "                    ).then(function(){\n",
       "                            \n",
       "var gd = document.getElementById('726c7f10-94fe-4bdc-a330-e3caffcc41d2');\n",
       "var x = new MutationObserver(function (mutations, observer) {{\n",
       "        var display = window.getComputedStyle(gd).display;\n",
       "        if (!display || display === 'none') {{\n",
       "            console.log([gd, 'removed!']);\n",
       "            Plotly.purge(gd);\n",
       "            observer.disconnect();\n",
       "        }}\n",
       "}});\n",
       "\n",
       "// Listen for the removal of the full notebook cells\n",
       "var notebookContainer = gd.closest('#notebook-container');\n",
       "if (notebookContainer) {{\n",
       "    x.observe(notebookContainer, {childList: true});\n",
       "}}\n",
       "\n",
       "// Listen for the clearing of the current output cell\n",
       "var outputEl = gd.closest('.output');\n",
       "if (outputEl) {{\n",
       "    x.observe(outputEl, {childList: true});\n",
       "}}\n",
       "\n",
       "                        })\n",
       "                };\n",
       "                });\n",
       "            </script>\n",
       "        </div>"
      ]
     },
     "metadata": {},
     "output_type": "display_data"
    }
   ],
   "source": [
    "fig = px.bar(df5, x=\"cohort_year\", y='no_donors_yr0',\n",
    "            title=\"Year 0: Number of Donors\")\n",
    " #barmode='group', labels={'index':'year', 'y':'amount ($)'}, \n",
    "fig.update_xaxes(type='category')\n",
    "fig.show()"
   ]
  },
  {
   "cell_type": "code",
   "execution_count": 46,
   "metadata": {},
   "outputs": [
    {
     "data": {
      "application/vnd.plotly.v1+json": {
       "config": {
        "plotlyServerURL": "https://plot.ly"
       },
       "data": [
        {
         "alignmentgroup": "True",
         "hovertemplate": "variable=no_donors_yr1<br>cohort_year=%{x}<br>value=%{y}<extra></extra>",
         "legendgroup": "no_donors_yr1",
         "marker": {
          "color": "#636efa"
         },
         "name": "no_donors_yr1",
         "offsetgroup": "no_donors_yr1",
         "orientation": "v",
         "showlegend": true,
         "textposition": "auto",
         "type": "bar",
         "x": [
          "2012-01-01",
          "2013-01-01",
          "2014-01-01",
          "2015-01-01",
          "2016-01-01",
          "2017-01-01",
          "2018-01-01"
         ],
         "xaxis": "x",
         "y": [
          33,
          62130,
          48667,
          46078,
          56538,
          29990,
          0
         ],
         "yaxis": "y"
        },
        {
         "alignmentgroup": "True",
         "hovertemplate": "variable=no_donors_lapsed_yr1<br>cohort_year=%{x}<br>value=%{y}<extra></extra>",
         "legendgroup": "no_donors_lapsed_yr1",
         "marker": {
          "color": "#EF553B"
         },
         "name": "no_donors_lapsed_yr1",
         "offsetgroup": "no_donors_lapsed_yr1",
         "orientation": "v",
         "showlegend": true,
         "textposition": "auto",
         "type": "bar",
         "x": [
          "2012-01-01",
          "2013-01-01",
          "2014-01-01",
          "2015-01-01",
          "2016-01-01",
          "2017-01-01",
          "2018-01-01"
         ],
         "xaxis": "x",
         "y": [
          -108,
          -257939,
          -272006,
          -309059,
          -389060,
          -405001,
          -147945
         ],
         "yaxis": "y"
        }
       ],
       "layout": {
        "barmode": "relative",
        "legend": {
         "title": {
          "text": "variable"
         },
         "tracegroupgap": 0
        },
        "template": {
         "data": {
          "bar": [
           {
            "error_x": {
             "color": "#2a3f5f"
            },
            "error_y": {
             "color": "#2a3f5f"
            },
            "marker": {
             "line": {
              "color": "#E5ECF6",
              "width": 0.5
             }
            },
            "type": "bar"
           }
          ],
          "barpolar": [
           {
            "marker": {
             "line": {
              "color": "#E5ECF6",
              "width": 0.5
             }
            },
            "type": "barpolar"
           }
          ],
          "carpet": [
           {
            "aaxis": {
             "endlinecolor": "#2a3f5f",
             "gridcolor": "white",
             "linecolor": "white",
             "minorgridcolor": "white",
             "startlinecolor": "#2a3f5f"
            },
            "baxis": {
             "endlinecolor": "#2a3f5f",
             "gridcolor": "white",
             "linecolor": "white",
             "minorgridcolor": "white",
             "startlinecolor": "#2a3f5f"
            },
            "type": "carpet"
           }
          ],
          "choropleth": [
           {
            "colorbar": {
             "outlinewidth": 0,
             "ticks": ""
            },
            "type": "choropleth"
           }
          ],
          "contour": [
           {
            "colorbar": {
             "outlinewidth": 0,
             "ticks": ""
            },
            "colorscale": [
             [
              0,
              "#0d0887"
             ],
             [
              0.1111111111111111,
              "#46039f"
             ],
             [
              0.2222222222222222,
              "#7201a8"
             ],
             [
              0.3333333333333333,
              "#9c179e"
             ],
             [
              0.4444444444444444,
              "#bd3786"
             ],
             [
              0.5555555555555556,
              "#d8576b"
             ],
             [
              0.6666666666666666,
              "#ed7953"
             ],
             [
              0.7777777777777778,
              "#fb9f3a"
             ],
             [
              0.8888888888888888,
              "#fdca26"
             ],
             [
              1,
              "#f0f921"
             ]
            ],
            "type": "contour"
           }
          ],
          "contourcarpet": [
           {
            "colorbar": {
             "outlinewidth": 0,
             "ticks": ""
            },
            "type": "contourcarpet"
           }
          ],
          "heatmap": [
           {
            "colorbar": {
             "outlinewidth": 0,
             "ticks": ""
            },
            "colorscale": [
             [
              0,
              "#0d0887"
             ],
             [
              0.1111111111111111,
              "#46039f"
             ],
             [
              0.2222222222222222,
              "#7201a8"
             ],
             [
              0.3333333333333333,
              "#9c179e"
             ],
             [
              0.4444444444444444,
              "#bd3786"
             ],
             [
              0.5555555555555556,
              "#d8576b"
             ],
             [
              0.6666666666666666,
              "#ed7953"
             ],
             [
              0.7777777777777778,
              "#fb9f3a"
             ],
             [
              0.8888888888888888,
              "#fdca26"
             ],
             [
              1,
              "#f0f921"
             ]
            ],
            "type": "heatmap"
           }
          ],
          "heatmapgl": [
           {
            "colorbar": {
             "outlinewidth": 0,
             "ticks": ""
            },
            "colorscale": [
             [
              0,
              "#0d0887"
             ],
             [
              0.1111111111111111,
              "#46039f"
             ],
             [
              0.2222222222222222,
              "#7201a8"
             ],
             [
              0.3333333333333333,
              "#9c179e"
             ],
             [
              0.4444444444444444,
              "#bd3786"
             ],
             [
              0.5555555555555556,
              "#d8576b"
             ],
             [
              0.6666666666666666,
              "#ed7953"
             ],
             [
              0.7777777777777778,
              "#fb9f3a"
             ],
             [
              0.8888888888888888,
              "#fdca26"
             ],
             [
              1,
              "#f0f921"
             ]
            ],
            "type": "heatmapgl"
           }
          ],
          "histogram": [
           {
            "marker": {
             "colorbar": {
              "outlinewidth": 0,
              "ticks": ""
             }
            },
            "type": "histogram"
           }
          ],
          "histogram2d": [
           {
            "colorbar": {
             "outlinewidth": 0,
             "ticks": ""
            },
            "colorscale": [
             [
              0,
              "#0d0887"
             ],
             [
              0.1111111111111111,
              "#46039f"
             ],
             [
              0.2222222222222222,
              "#7201a8"
             ],
             [
              0.3333333333333333,
              "#9c179e"
             ],
             [
              0.4444444444444444,
              "#bd3786"
             ],
             [
              0.5555555555555556,
              "#d8576b"
             ],
             [
              0.6666666666666666,
              "#ed7953"
             ],
             [
              0.7777777777777778,
              "#fb9f3a"
             ],
             [
              0.8888888888888888,
              "#fdca26"
             ],
             [
              1,
              "#f0f921"
             ]
            ],
            "type": "histogram2d"
           }
          ],
          "histogram2dcontour": [
           {
            "colorbar": {
             "outlinewidth": 0,
             "ticks": ""
            },
            "colorscale": [
             [
              0,
              "#0d0887"
             ],
             [
              0.1111111111111111,
              "#46039f"
             ],
             [
              0.2222222222222222,
              "#7201a8"
             ],
             [
              0.3333333333333333,
              "#9c179e"
             ],
             [
              0.4444444444444444,
              "#bd3786"
             ],
             [
              0.5555555555555556,
              "#d8576b"
             ],
             [
              0.6666666666666666,
              "#ed7953"
             ],
             [
              0.7777777777777778,
              "#fb9f3a"
             ],
             [
              0.8888888888888888,
              "#fdca26"
             ],
             [
              1,
              "#f0f921"
             ]
            ],
            "type": "histogram2dcontour"
           }
          ],
          "mesh3d": [
           {
            "colorbar": {
             "outlinewidth": 0,
             "ticks": ""
            },
            "type": "mesh3d"
           }
          ],
          "parcoords": [
           {
            "line": {
             "colorbar": {
              "outlinewidth": 0,
              "ticks": ""
             }
            },
            "type": "parcoords"
           }
          ],
          "pie": [
           {
            "automargin": true,
            "type": "pie"
           }
          ],
          "scatter": [
           {
            "marker": {
             "colorbar": {
              "outlinewidth": 0,
              "ticks": ""
             }
            },
            "type": "scatter"
           }
          ],
          "scatter3d": [
           {
            "line": {
             "colorbar": {
              "outlinewidth": 0,
              "ticks": ""
             }
            },
            "marker": {
             "colorbar": {
              "outlinewidth": 0,
              "ticks": ""
             }
            },
            "type": "scatter3d"
           }
          ],
          "scattercarpet": [
           {
            "marker": {
             "colorbar": {
              "outlinewidth": 0,
              "ticks": ""
             }
            },
            "type": "scattercarpet"
           }
          ],
          "scattergeo": [
           {
            "marker": {
             "colorbar": {
              "outlinewidth": 0,
              "ticks": ""
             }
            },
            "type": "scattergeo"
           }
          ],
          "scattergl": [
           {
            "marker": {
             "colorbar": {
              "outlinewidth": 0,
              "ticks": ""
             }
            },
            "type": "scattergl"
           }
          ],
          "scattermapbox": [
           {
            "marker": {
             "colorbar": {
              "outlinewidth": 0,
              "ticks": ""
             }
            },
            "type": "scattermapbox"
           }
          ],
          "scatterpolar": [
           {
            "marker": {
             "colorbar": {
              "outlinewidth": 0,
              "ticks": ""
             }
            },
            "type": "scatterpolar"
           }
          ],
          "scatterpolargl": [
           {
            "marker": {
             "colorbar": {
              "outlinewidth": 0,
              "ticks": ""
             }
            },
            "type": "scatterpolargl"
           }
          ],
          "scatterternary": [
           {
            "marker": {
             "colorbar": {
              "outlinewidth": 0,
              "ticks": ""
             }
            },
            "type": "scatterternary"
           }
          ],
          "surface": [
           {
            "colorbar": {
             "outlinewidth": 0,
             "ticks": ""
            },
            "colorscale": [
             [
              0,
              "#0d0887"
             ],
             [
              0.1111111111111111,
              "#46039f"
             ],
             [
              0.2222222222222222,
              "#7201a8"
             ],
             [
              0.3333333333333333,
              "#9c179e"
             ],
             [
              0.4444444444444444,
              "#bd3786"
             ],
             [
              0.5555555555555556,
              "#d8576b"
             ],
             [
              0.6666666666666666,
              "#ed7953"
             ],
             [
              0.7777777777777778,
              "#fb9f3a"
             ],
             [
              0.8888888888888888,
              "#fdca26"
             ],
             [
              1,
              "#f0f921"
             ]
            ],
            "type": "surface"
           }
          ],
          "table": [
           {
            "cells": {
             "fill": {
              "color": "#EBF0F8"
             },
             "line": {
              "color": "white"
             }
            },
            "header": {
             "fill": {
              "color": "#C8D4E3"
             },
             "line": {
              "color": "white"
             }
            },
            "type": "table"
           }
          ]
         },
         "layout": {
          "annotationdefaults": {
           "arrowcolor": "#2a3f5f",
           "arrowhead": 0,
           "arrowwidth": 1
          },
          "coloraxis": {
           "colorbar": {
            "outlinewidth": 0,
            "ticks": ""
           }
          },
          "colorscale": {
           "diverging": [
            [
             0,
             "#8e0152"
            ],
            [
             0.1,
             "#c51b7d"
            ],
            [
             0.2,
             "#de77ae"
            ],
            [
             0.3,
             "#f1b6da"
            ],
            [
             0.4,
             "#fde0ef"
            ],
            [
             0.5,
             "#f7f7f7"
            ],
            [
             0.6,
             "#e6f5d0"
            ],
            [
             0.7,
             "#b8e186"
            ],
            [
             0.8,
             "#7fbc41"
            ],
            [
             0.9,
             "#4d9221"
            ],
            [
             1,
             "#276419"
            ]
           ],
           "sequential": [
            [
             0,
             "#0d0887"
            ],
            [
             0.1111111111111111,
             "#46039f"
            ],
            [
             0.2222222222222222,
             "#7201a8"
            ],
            [
             0.3333333333333333,
             "#9c179e"
            ],
            [
             0.4444444444444444,
             "#bd3786"
            ],
            [
             0.5555555555555556,
             "#d8576b"
            ],
            [
             0.6666666666666666,
             "#ed7953"
            ],
            [
             0.7777777777777778,
             "#fb9f3a"
            ],
            [
             0.8888888888888888,
             "#fdca26"
            ],
            [
             1,
             "#f0f921"
            ]
           ],
           "sequentialminus": [
            [
             0,
             "#0d0887"
            ],
            [
             0.1111111111111111,
             "#46039f"
            ],
            [
             0.2222222222222222,
             "#7201a8"
            ],
            [
             0.3333333333333333,
             "#9c179e"
            ],
            [
             0.4444444444444444,
             "#bd3786"
            ],
            [
             0.5555555555555556,
             "#d8576b"
            ],
            [
             0.6666666666666666,
             "#ed7953"
            ],
            [
             0.7777777777777778,
             "#fb9f3a"
            ],
            [
             0.8888888888888888,
             "#fdca26"
            ],
            [
             1,
             "#f0f921"
            ]
           ]
          },
          "colorway": [
           "#636efa",
           "#EF553B",
           "#00cc96",
           "#ab63fa",
           "#FFA15A",
           "#19d3f3",
           "#FF6692",
           "#B6E880",
           "#FF97FF",
           "#FECB52"
          ],
          "font": {
           "color": "#2a3f5f"
          },
          "geo": {
           "bgcolor": "white",
           "lakecolor": "white",
           "landcolor": "#E5ECF6",
           "showlakes": true,
           "showland": true,
           "subunitcolor": "white"
          },
          "hoverlabel": {
           "align": "left"
          },
          "hovermode": "closest",
          "mapbox": {
           "style": "light"
          },
          "paper_bgcolor": "white",
          "plot_bgcolor": "#E5ECF6",
          "polar": {
           "angularaxis": {
            "gridcolor": "white",
            "linecolor": "white",
            "ticks": ""
           },
           "bgcolor": "#E5ECF6",
           "radialaxis": {
            "gridcolor": "white",
            "linecolor": "white",
            "ticks": ""
           }
          },
          "scene": {
           "xaxis": {
            "backgroundcolor": "#E5ECF6",
            "gridcolor": "white",
            "gridwidth": 2,
            "linecolor": "white",
            "showbackground": true,
            "ticks": "",
            "zerolinecolor": "white"
           },
           "yaxis": {
            "backgroundcolor": "#E5ECF6",
            "gridcolor": "white",
            "gridwidth": 2,
            "linecolor": "white",
            "showbackground": true,
            "ticks": "",
            "zerolinecolor": "white"
           },
           "zaxis": {
            "backgroundcolor": "#E5ECF6",
            "gridcolor": "white",
            "gridwidth": 2,
            "linecolor": "white",
            "showbackground": true,
            "ticks": "",
            "zerolinecolor": "white"
           }
          },
          "shapedefaults": {
           "line": {
            "color": "#2a3f5f"
           }
          },
          "ternary": {
           "aaxis": {
            "gridcolor": "white",
            "linecolor": "white",
            "ticks": ""
           },
           "baxis": {
            "gridcolor": "white",
            "linecolor": "white",
            "ticks": ""
           },
           "bgcolor": "#E5ECF6",
           "caxis": {
            "gridcolor": "white",
            "linecolor": "white",
            "ticks": ""
           }
          },
          "title": {
           "x": 0.05
          },
          "xaxis": {
           "automargin": true,
           "gridcolor": "white",
           "linecolor": "white",
           "ticks": "",
           "title": {
            "standoff": 15
           },
           "zerolinecolor": "white",
           "zerolinewidth": 2
          },
          "yaxis": {
           "automargin": true,
           "gridcolor": "white",
           "linecolor": "white",
           "ticks": "",
           "title": {
            "standoff": 15
           },
           "zerolinecolor": "white",
           "zerolinewidth": 2
          }
         }
        },
        "title": {
         "text": "Year 1: Retention vs Lapse (# Donors)"
        },
        "xaxis": {
         "anchor": "y",
         "domain": [
          0,
          1
         ],
         "title": {
          "text": "cohort_year"
         },
         "type": "category"
        },
        "yaxis": {
         "anchor": "x",
         "domain": [
          0,
          1
         ],
         "title": {
          "text": "value"
         }
        }
       }
      },
      "text/html": [
       "<div>\n",
       "        \n",
       "        \n",
       "            <div id=\"60f87e8e-8298-4c09-a14a-1b779fbfa26e\" class=\"plotly-graph-div\" style=\"height:525px; width:100%;\"></div>\n",
       "            <script type=\"text/javascript\">\n",
       "                require([\"plotly\"], function(Plotly) {\n",
       "                    window.PLOTLYENV=window.PLOTLYENV || {};\n",
       "                    \n",
       "                if (document.getElementById(\"60f87e8e-8298-4c09-a14a-1b779fbfa26e\")) {\n",
       "                    Plotly.newPlot(\n",
       "                        '60f87e8e-8298-4c09-a14a-1b779fbfa26e',\n",
       "                        [{\"alignmentgroup\": \"True\", \"hovertemplate\": \"variable=no_donors_yr1<br>cohort_year=%{x}<br>value=%{y}<extra></extra>\", \"legendgroup\": \"no_donors_yr1\", \"marker\": {\"color\": \"#636efa\"}, \"name\": \"no_donors_yr1\", \"offsetgroup\": \"no_donors_yr1\", \"orientation\": \"v\", \"showlegend\": true, \"textposition\": \"auto\", \"type\": \"bar\", \"x\": [\"2012-01-01\", \"2013-01-01\", \"2014-01-01\", \"2015-01-01\", \"2016-01-01\", \"2017-01-01\", \"2018-01-01\"], \"xaxis\": \"x\", \"y\": [33, 62130, 48667, 46078, 56538, 29990, 0], \"yaxis\": \"y\"}, {\"alignmentgroup\": \"True\", \"hovertemplate\": \"variable=no_donors_lapsed_yr1<br>cohort_year=%{x}<br>value=%{y}<extra></extra>\", \"legendgroup\": \"no_donors_lapsed_yr1\", \"marker\": {\"color\": \"#EF553B\"}, \"name\": \"no_donors_lapsed_yr1\", \"offsetgroup\": \"no_donors_lapsed_yr1\", \"orientation\": \"v\", \"showlegend\": true, \"textposition\": \"auto\", \"type\": \"bar\", \"x\": [\"2012-01-01\", \"2013-01-01\", \"2014-01-01\", \"2015-01-01\", \"2016-01-01\", \"2017-01-01\", \"2018-01-01\"], \"xaxis\": \"x\", \"y\": [-108, -257939, -272006, -309059, -389060, -405001, -147945], \"yaxis\": \"y\"}],\n",
       "                        {\"barmode\": \"relative\", \"legend\": {\"title\": {\"text\": \"variable\"}, \"tracegroupgap\": 0}, \"template\": {\"data\": {\"bar\": [{\"error_x\": {\"color\": \"#2a3f5f\"}, \"error_y\": {\"color\": \"#2a3f5f\"}, \"marker\": {\"line\": {\"color\": \"#E5ECF6\", \"width\": 0.5}}, \"type\": \"bar\"}], \"barpolar\": [{\"marker\": {\"line\": {\"color\": \"#E5ECF6\", \"width\": 0.5}}, \"type\": \"barpolar\"}], \"carpet\": [{\"aaxis\": {\"endlinecolor\": \"#2a3f5f\", \"gridcolor\": \"white\", \"linecolor\": \"white\", \"minorgridcolor\": \"white\", \"startlinecolor\": \"#2a3f5f\"}, \"baxis\": {\"endlinecolor\": \"#2a3f5f\", \"gridcolor\": \"white\", \"linecolor\": \"white\", \"minorgridcolor\": \"white\", \"startlinecolor\": \"#2a3f5f\"}, \"type\": \"carpet\"}], \"choropleth\": [{\"colorbar\": {\"outlinewidth\": 0, \"ticks\": \"\"}, \"type\": \"choropleth\"}], \"contour\": [{\"colorbar\": {\"outlinewidth\": 0, \"ticks\": \"\"}, \"colorscale\": [[0.0, \"#0d0887\"], [0.1111111111111111, \"#46039f\"], [0.2222222222222222, \"#7201a8\"], [0.3333333333333333, \"#9c179e\"], [0.4444444444444444, \"#bd3786\"], [0.5555555555555556, \"#d8576b\"], [0.6666666666666666, \"#ed7953\"], [0.7777777777777778, \"#fb9f3a\"], [0.8888888888888888, \"#fdca26\"], [1.0, \"#f0f921\"]], \"type\": \"contour\"}], \"contourcarpet\": [{\"colorbar\": {\"outlinewidth\": 0, \"ticks\": \"\"}, \"type\": \"contourcarpet\"}], \"heatmap\": [{\"colorbar\": {\"outlinewidth\": 0, \"ticks\": \"\"}, \"colorscale\": [[0.0, \"#0d0887\"], [0.1111111111111111, \"#46039f\"], [0.2222222222222222, \"#7201a8\"], [0.3333333333333333, \"#9c179e\"], [0.4444444444444444, \"#bd3786\"], [0.5555555555555556, \"#d8576b\"], [0.6666666666666666, \"#ed7953\"], [0.7777777777777778, \"#fb9f3a\"], [0.8888888888888888, \"#fdca26\"], [1.0, \"#f0f921\"]], \"type\": \"heatmap\"}], \"heatmapgl\": [{\"colorbar\": {\"outlinewidth\": 0, \"ticks\": \"\"}, \"colorscale\": [[0.0, \"#0d0887\"], [0.1111111111111111, \"#46039f\"], [0.2222222222222222, \"#7201a8\"], [0.3333333333333333, \"#9c179e\"], [0.4444444444444444, \"#bd3786\"], [0.5555555555555556, \"#d8576b\"], [0.6666666666666666, \"#ed7953\"], [0.7777777777777778, \"#fb9f3a\"], [0.8888888888888888, \"#fdca26\"], [1.0, \"#f0f921\"]], \"type\": \"heatmapgl\"}], \"histogram\": [{\"marker\": {\"colorbar\": {\"outlinewidth\": 0, \"ticks\": \"\"}}, \"type\": \"histogram\"}], \"histogram2d\": [{\"colorbar\": {\"outlinewidth\": 0, \"ticks\": \"\"}, \"colorscale\": [[0.0, \"#0d0887\"], [0.1111111111111111, \"#46039f\"], [0.2222222222222222, \"#7201a8\"], [0.3333333333333333, \"#9c179e\"], [0.4444444444444444, \"#bd3786\"], [0.5555555555555556, \"#d8576b\"], [0.6666666666666666, \"#ed7953\"], [0.7777777777777778, \"#fb9f3a\"], [0.8888888888888888, \"#fdca26\"], [1.0, \"#f0f921\"]], \"type\": \"histogram2d\"}], \"histogram2dcontour\": [{\"colorbar\": {\"outlinewidth\": 0, \"ticks\": \"\"}, \"colorscale\": [[0.0, \"#0d0887\"], [0.1111111111111111, \"#46039f\"], [0.2222222222222222, \"#7201a8\"], [0.3333333333333333, \"#9c179e\"], [0.4444444444444444, \"#bd3786\"], [0.5555555555555556, \"#d8576b\"], [0.6666666666666666, \"#ed7953\"], [0.7777777777777778, \"#fb9f3a\"], [0.8888888888888888, \"#fdca26\"], [1.0, \"#f0f921\"]], \"type\": \"histogram2dcontour\"}], \"mesh3d\": [{\"colorbar\": {\"outlinewidth\": 0, \"ticks\": \"\"}, \"type\": \"mesh3d\"}], \"parcoords\": [{\"line\": {\"colorbar\": {\"outlinewidth\": 0, \"ticks\": \"\"}}, \"type\": \"parcoords\"}], \"pie\": [{\"automargin\": true, \"type\": \"pie\"}], \"scatter\": [{\"marker\": {\"colorbar\": {\"outlinewidth\": 0, \"ticks\": \"\"}}, \"type\": \"scatter\"}], \"scatter3d\": [{\"line\": {\"colorbar\": {\"outlinewidth\": 0, \"ticks\": \"\"}}, \"marker\": {\"colorbar\": {\"outlinewidth\": 0, \"ticks\": \"\"}}, \"type\": \"scatter3d\"}], \"scattercarpet\": [{\"marker\": {\"colorbar\": {\"outlinewidth\": 0, \"ticks\": \"\"}}, \"type\": \"scattercarpet\"}], \"scattergeo\": [{\"marker\": {\"colorbar\": {\"outlinewidth\": 0, \"ticks\": \"\"}}, \"type\": \"scattergeo\"}], \"scattergl\": [{\"marker\": {\"colorbar\": {\"outlinewidth\": 0, \"ticks\": \"\"}}, \"type\": \"scattergl\"}], \"scattermapbox\": [{\"marker\": {\"colorbar\": {\"outlinewidth\": 0, \"ticks\": \"\"}}, \"type\": \"scattermapbox\"}], \"scatterpolar\": [{\"marker\": {\"colorbar\": {\"outlinewidth\": 0, \"ticks\": \"\"}}, \"type\": \"scatterpolar\"}], \"scatterpolargl\": [{\"marker\": {\"colorbar\": {\"outlinewidth\": 0, \"ticks\": \"\"}}, \"type\": \"scatterpolargl\"}], \"scatterternary\": [{\"marker\": {\"colorbar\": {\"outlinewidth\": 0, \"ticks\": \"\"}}, \"type\": \"scatterternary\"}], \"surface\": [{\"colorbar\": {\"outlinewidth\": 0, \"ticks\": \"\"}, \"colorscale\": [[0.0, \"#0d0887\"], [0.1111111111111111, \"#46039f\"], [0.2222222222222222, \"#7201a8\"], [0.3333333333333333, \"#9c179e\"], [0.4444444444444444, \"#bd3786\"], [0.5555555555555556, \"#d8576b\"], [0.6666666666666666, \"#ed7953\"], [0.7777777777777778, \"#fb9f3a\"], [0.8888888888888888, \"#fdca26\"], [1.0, \"#f0f921\"]], \"type\": \"surface\"}], \"table\": [{\"cells\": {\"fill\": {\"color\": \"#EBF0F8\"}, \"line\": {\"color\": \"white\"}}, \"header\": {\"fill\": {\"color\": \"#C8D4E3\"}, \"line\": {\"color\": \"white\"}}, \"type\": \"table\"}]}, \"layout\": {\"annotationdefaults\": {\"arrowcolor\": \"#2a3f5f\", \"arrowhead\": 0, \"arrowwidth\": 1}, \"coloraxis\": {\"colorbar\": {\"outlinewidth\": 0, \"ticks\": \"\"}}, \"colorscale\": {\"diverging\": [[0, \"#8e0152\"], [0.1, \"#c51b7d\"], [0.2, \"#de77ae\"], [0.3, \"#f1b6da\"], [0.4, \"#fde0ef\"], [0.5, \"#f7f7f7\"], [0.6, \"#e6f5d0\"], [0.7, \"#b8e186\"], [0.8, \"#7fbc41\"], [0.9, \"#4d9221\"], [1, \"#276419\"]], \"sequential\": [[0.0, \"#0d0887\"], [0.1111111111111111, \"#46039f\"], [0.2222222222222222, \"#7201a8\"], [0.3333333333333333, \"#9c179e\"], [0.4444444444444444, \"#bd3786\"], [0.5555555555555556, \"#d8576b\"], [0.6666666666666666, \"#ed7953\"], [0.7777777777777778, \"#fb9f3a\"], [0.8888888888888888, \"#fdca26\"], [1.0, \"#f0f921\"]], \"sequentialminus\": [[0.0, \"#0d0887\"], [0.1111111111111111, \"#46039f\"], [0.2222222222222222, \"#7201a8\"], [0.3333333333333333, \"#9c179e\"], [0.4444444444444444, \"#bd3786\"], [0.5555555555555556, \"#d8576b\"], [0.6666666666666666, \"#ed7953\"], [0.7777777777777778, \"#fb9f3a\"], [0.8888888888888888, \"#fdca26\"], [1.0, \"#f0f921\"]]}, \"colorway\": [\"#636efa\", \"#EF553B\", \"#00cc96\", \"#ab63fa\", \"#FFA15A\", \"#19d3f3\", \"#FF6692\", \"#B6E880\", \"#FF97FF\", \"#FECB52\"], \"font\": {\"color\": \"#2a3f5f\"}, \"geo\": {\"bgcolor\": \"white\", \"lakecolor\": \"white\", \"landcolor\": \"#E5ECF6\", \"showlakes\": true, \"showland\": true, \"subunitcolor\": \"white\"}, \"hoverlabel\": {\"align\": \"left\"}, \"hovermode\": \"closest\", \"mapbox\": {\"style\": \"light\"}, \"paper_bgcolor\": \"white\", \"plot_bgcolor\": \"#E5ECF6\", \"polar\": {\"angularaxis\": {\"gridcolor\": \"white\", \"linecolor\": \"white\", \"ticks\": \"\"}, \"bgcolor\": \"#E5ECF6\", \"radialaxis\": {\"gridcolor\": \"white\", \"linecolor\": \"white\", \"ticks\": \"\"}}, \"scene\": {\"xaxis\": {\"backgroundcolor\": \"#E5ECF6\", \"gridcolor\": \"white\", \"gridwidth\": 2, \"linecolor\": \"white\", \"showbackground\": true, \"ticks\": \"\", \"zerolinecolor\": \"white\"}, \"yaxis\": {\"backgroundcolor\": \"#E5ECF6\", \"gridcolor\": \"white\", \"gridwidth\": 2, \"linecolor\": \"white\", \"showbackground\": true, \"ticks\": \"\", \"zerolinecolor\": \"white\"}, \"zaxis\": {\"backgroundcolor\": \"#E5ECF6\", \"gridcolor\": \"white\", \"gridwidth\": 2, \"linecolor\": \"white\", \"showbackground\": true, \"ticks\": \"\", \"zerolinecolor\": \"white\"}}, \"shapedefaults\": {\"line\": {\"color\": \"#2a3f5f\"}}, \"ternary\": {\"aaxis\": {\"gridcolor\": \"white\", \"linecolor\": \"white\", \"ticks\": \"\"}, \"baxis\": {\"gridcolor\": \"white\", \"linecolor\": \"white\", \"ticks\": \"\"}, \"bgcolor\": \"#E5ECF6\", \"caxis\": {\"gridcolor\": \"white\", \"linecolor\": \"white\", \"ticks\": \"\"}}, \"title\": {\"x\": 0.05}, \"xaxis\": {\"automargin\": true, \"gridcolor\": \"white\", \"linecolor\": \"white\", \"ticks\": \"\", \"title\": {\"standoff\": 15}, \"zerolinecolor\": \"white\", \"zerolinewidth\": 2}, \"yaxis\": {\"automargin\": true, \"gridcolor\": \"white\", \"linecolor\": \"white\", \"ticks\": \"\", \"title\": {\"standoff\": 15}, \"zerolinecolor\": \"white\", \"zerolinewidth\": 2}}}, \"title\": {\"text\": \"Year 1: Retention vs Lapse (# Donors)\"}, \"xaxis\": {\"anchor\": \"y\", \"domain\": [0.0, 1.0], \"title\": {\"text\": \"cohort_year\"}, \"type\": \"category\"}, \"yaxis\": {\"anchor\": \"x\", \"domain\": [0.0, 1.0], \"title\": {\"text\": \"value\"}}},\n",
       "                        {\"responsive\": true}\n",
       "                    ).then(function(){\n",
       "                            \n",
       "var gd = document.getElementById('60f87e8e-8298-4c09-a14a-1b779fbfa26e');\n",
       "var x = new MutationObserver(function (mutations, observer) {{\n",
       "        var display = window.getComputedStyle(gd).display;\n",
       "        if (!display || display === 'none') {{\n",
       "            console.log([gd, 'removed!']);\n",
       "            Plotly.purge(gd);\n",
       "            observer.disconnect();\n",
       "        }}\n",
       "}});\n",
       "\n",
       "// Listen for the removal of the full notebook cells\n",
       "var notebookContainer = gd.closest('#notebook-container');\n",
       "if (notebookContainer) {{\n",
       "    x.observe(notebookContainer, {childList: true});\n",
       "}}\n",
       "\n",
       "// Listen for the clearing of the current output cell\n",
       "var outputEl = gd.closest('.output');\n",
       "if (outputEl) {{\n",
       "    x.observe(outputEl, {childList: true});\n",
       "}}\n",
       "\n",
       "                        })\n",
       "                };\n",
       "                });\n",
       "            </script>\n",
       "        </div>"
      ]
     },
     "metadata": {},
     "output_type": "display_data"
    }
   ],
   "source": [
    "fig = px.bar(df5, x=\"cohort_year\", y=['no_donors_yr1', 'no_donors_lapsed_yr1'],\n",
    "            title=\"Year 1: Retention vs Lapse (# Donors)\")\n",
    " #barmode='group', labels={'index':'year', 'y':'amount ($)'}, \n",
    "fig.update_xaxes(type='category')\n",
    "fig.show()"
   ]
  },
  {
   "cell_type": "code",
   "execution_count": 47,
   "metadata": {},
   "outputs": [
    {
     "data": {
      "application/vnd.plotly.v1+json": {
       "config": {
        "plotlyServerURL": "https://plot.ly"
       },
       "data": [
        {
         "alignmentgroup": "True",
         "hovertemplate": "variable=retention_rate_yr1<br>cohort_year=%{x}<br>value=%{y}<extra></extra>",
         "legendgroup": "retention_rate_yr1",
         "marker": {
          "color": "#636efa"
         },
         "name": "retention_rate_yr1",
         "offsetgroup": "retention_rate_yr1",
         "orientation": "v",
         "showlegend": true,
         "textposition": "auto",
         "type": "bar",
         "x": [
          "2012-01-01",
          "2013-01-01",
          "2014-01-01",
          "2015-01-01",
          "2016-01-01",
          "2017-01-01",
          "2018-01-01"
         ],
         "xaxis": "x",
         "y": [
          23.404255319148938,
          19.411439408377568,
          15.176519382673314,
          12.97471116780285,
          12.688117989757583,
          6.894395516229071,
          0
         ],
         "yaxis": "y"
        },
        {
         "alignmentgroup": "True",
         "hovertemplate": "variable=lapse_rate_yr1<br>cohort_year=%{x}<br>value=%{y}<extra></extra>",
         "legendgroup": "lapse_rate_yr1",
         "marker": {
          "color": "#EF553B"
         },
         "name": "lapse_rate_yr1",
         "offsetgroup": "lapse_rate_yr1",
         "orientation": "v",
         "showlegend": true,
         "textposition": "auto",
         "type": "bar",
         "x": [
          "2012-01-01",
          "2013-01-01",
          "2014-01-01",
          "2015-01-01",
          "2016-01-01",
          "2017-01-01",
          "2018-01-01"
         ],
         "xaxis": "x",
         "y": [
          -76.59574468085107,
          -80.58856059162243,
          -84.82348061732668,
          -87.02528883219716,
          -87.31188201024241,
          -93.10560448377093,
          0
         ],
         "yaxis": "y"
        }
       ],
       "layout": {
        "barmode": "relative",
        "legend": {
         "title": {
          "text": "variable"
         },
         "tracegroupgap": 0
        },
        "template": {
         "data": {
          "bar": [
           {
            "error_x": {
             "color": "#2a3f5f"
            },
            "error_y": {
             "color": "#2a3f5f"
            },
            "marker": {
             "line": {
              "color": "#E5ECF6",
              "width": 0.5
             }
            },
            "type": "bar"
           }
          ],
          "barpolar": [
           {
            "marker": {
             "line": {
              "color": "#E5ECF6",
              "width": 0.5
             }
            },
            "type": "barpolar"
           }
          ],
          "carpet": [
           {
            "aaxis": {
             "endlinecolor": "#2a3f5f",
             "gridcolor": "white",
             "linecolor": "white",
             "minorgridcolor": "white",
             "startlinecolor": "#2a3f5f"
            },
            "baxis": {
             "endlinecolor": "#2a3f5f",
             "gridcolor": "white",
             "linecolor": "white",
             "minorgridcolor": "white",
             "startlinecolor": "#2a3f5f"
            },
            "type": "carpet"
           }
          ],
          "choropleth": [
           {
            "colorbar": {
             "outlinewidth": 0,
             "ticks": ""
            },
            "type": "choropleth"
           }
          ],
          "contour": [
           {
            "colorbar": {
             "outlinewidth": 0,
             "ticks": ""
            },
            "colorscale": [
             [
              0,
              "#0d0887"
             ],
             [
              0.1111111111111111,
              "#46039f"
             ],
             [
              0.2222222222222222,
              "#7201a8"
             ],
             [
              0.3333333333333333,
              "#9c179e"
             ],
             [
              0.4444444444444444,
              "#bd3786"
             ],
             [
              0.5555555555555556,
              "#d8576b"
             ],
             [
              0.6666666666666666,
              "#ed7953"
             ],
             [
              0.7777777777777778,
              "#fb9f3a"
             ],
             [
              0.8888888888888888,
              "#fdca26"
             ],
             [
              1,
              "#f0f921"
             ]
            ],
            "type": "contour"
           }
          ],
          "contourcarpet": [
           {
            "colorbar": {
             "outlinewidth": 0,
             "ticks": ""
            },
            "type": "contourcarpet"
           }
          ],
          "heatmap": [
           {
            "colorbar": {
             "outlinewidth": 0,
             "ticks": ""
            },
            "colorscale": [
             [
              0,
              "#0d0887"
             ],
             [
              0.1111111111111111,
              "#46039f"
             ],
             [
              0.2222222222222222,
              "#7201a8"
             ],
             [
              0.3333333333333333,
              "#9c179e"
             ],
             [
              0.4444444444444444,
              "#bd3786"
             ],
             [
              0.5555555555555556,
              "#d8576b"
             ],
             [
              0.6666666666666666,
              "#ed7953"
             ],
             [
              0.7777777777777778,
              "#fb9f3a"
             ],
             [
              0.8888888888888888,
              "#fdca26"
             ],
             [
              1,
              "#f0f921"
             ]
            ],
            "type": "heatmap"
           }
          ],
          "heatmapgl": [
           {
            "colorbar": {
             "outlinewidth": 0,
             "ticks": ""
            },
            "colorscale": [
             [
              0,
              "#0d0887"
             ],
             [
              0.1111111111111111,
              "#46039f"
             ],
             [
              0.2222222222222222,
              "#7201a8"
             ],
             [
              0.3333333333333333,
              "#9c179e"
             ],
             [
              0.4444444444444444,
              "#bd3786"
             ],
             [
              0.5555555555555556,
              "#d8576b"
             ],
             [
              0.6666666666666666,
              "#ed7953"
             ],
             [
              0.7777777777777778,
              "#fb9f3a"
             ],
             [
              0.8888888888888888,
              "#fdca26"
             ],
             [
              1,
              "#f0f921"
             ]
            ],
            "type": "heatmapgl"
           }
          ],
          "histogram": [
           {
            "marker": {
             "colorbar": {
              "outlinewidth": 0,
              "ticks": ""
             }
            },
            "type": "histogram"
           }
          ],
          "histogram2d": [
           {
            "colorbar": {
             "outlinewidth": 0,
             "ticks": ""
            },
            "colorscale": [
             [
              0,
              "#0d0887"
             ],
             [
              0.1111111111111111,
              "#46039f"
             ],
             [
              0.2222222222222222,
              "#7201a8"
             ],
             [
              0.3333333333333333,
              "#9c179e"
             ],
             [
              0.4444444444444444,
              "#bd3786"
             ],
             [
              0.5555555555555556,
              "#d8576b"
             ],
             [
              0.6666666666666666,
              "#ed7953"
             ],
             [
              0.7777777777777778,
              "#fb9f3a"
             ],
             [
              0.8888888888888888,
              "#fdca26"
             ],
             [
              1,
              "#f0f921"
             ]
            ],
            "type": "histogram2d"
           }
          ],
          "histogram2dcontour": [
           {
            "colorbar": {
             "outlinewidth": 0,
             "ticks": ""
            },
            "colorscale": [
             [
              0,
              "#0d0887"
             ],
             [
              0.1111111111111111,
              "#46039f"
             ],
             [
              0.2222222222222222,
              "#7201a8"
             ],
             [
              0.3333333333333333,
              "#9c179e"
             ],
             [
              0.4444444444444444,
              "#bd3786"
             ],
             [
              0.5555555555555556,
              "#d8576b"
             ],
             [
              0.6666666666666666,
              "#ed7953"
             ],
             [
              0.7777777777777778,
              "#fb9f3a"
             ],
             [
              0.8888888888888888,
              "#fdca26"
             ],
             [
              1,
              "#f0f921"
             ]
            ],
            "type": "histogram2dcontour"
           }
          ],
          "mesh3d": [
           {
            "colorbar": {
             "outlinewidth": 0,
             "ticks": ""
            },
            "type": "mesh3d"
           }
          ],
          "parcoords": [
           {
            "line": {
             "colorbar": {
              "outlinewidth": 0,
              "ticks": ""
             }
            },
            "type": "parcoords"
           }
          ],
          "pie": [
           {
            "automargin": true,
            "type": "pie"
           }
          ],
          "scatter": [
           {
            "marker": {
             "colorbar": {
              "outlinewidth": 0,
              "ticks": ""
             }
            },
            "type": "scatter"
           }
          ],
          "scatter3d": [
           {
            "line": {
             "colorbar": {
              "outlinewidth": 0,
              "ticks": ""
             }
            },
            "marker": {
             "colorbar": {
              "outlinewidth": 0,
              "ticks": ""
             }
            },
            "type": "scatter3d"
           }
          ],
          "scattercarpet": [
           {
            "marker": {
             "colorbar": {
              "outlinewidth": 0,
              "ticks": ""
             }
            },
            "type": "scattercarpet"
           }
          ],
          "scattergeo": [
           {
            "marker": {
             "colorbar": {
              "outlinewidth": 0,
              "ticks": ""
             }
            },
            "type": "scattergeo"
           }
          ],
          "scattergl": [
           {
            "marker": {
             "colorbar": {
              "outlinewidth": 0,
              "ticks": ""
             }
            },
            "type": "scattergl"
           }
          ],
          "scattermapbox": [
           {
            "marker": {
             "colorbar": {
              "outlinewidth": 0,
              "ticks": ""
             }
            },
            "type": "scattermapbox"
           }
          ],
          "scatterpolar": [
           {
            "marker": {
             "colorbar": {
              "outlinewidth": 0,
              "ticks": ""
             }
            },
            "type": "scatterpolar"
           }
          ],
          "scatterpolargl": [
           {
            "marker": {
             "colorbar": {
              "outlinewidth": 0,
              "ticks": ""
             }
            },
            "type": "scatterpolargl"
           }
          ],
          "scatterternary": [
           {
            "marker": {
             "colorbar": {
              "outlinewidth": 0,
              "ticks": ""
             }
            },
            "type": "scatterternary"
           }
          ],
          "surface": [
           {
            "colorbar": {
             "outlinewidth": 0,
             "ticks": ""
            },
            "colorscale": [
             [
              0,
              "#0d0887"
             ],
             [
              0.1111111111111111,
              "#46039f"
             ],
             [
              0.2222222222222222,
              "#7201a8"
             ],
             [
              0.3333333333333333,
              "#9c179e"
             ],
             [
              0.4444444444444444,
              "#bd3786"
             ],
             [
              0.5555555555555556,
              "#d8576b"
             ],
             [
              0.6666666666666666,
              "#ed7953"
             ],
             [
              0.7777777777777778,
              "#fb9f3a"
             ],
             [
              0.8888888888888888,
              "#fdca26"
             ],
             [
              1,
              "#f0f921"
             ]
            ],
            "type": "surface"
           }
          ],
          "table": [
           {
            "cells": {
             "fill": {
              "color": "#EBF0F8"
             },
             "line": {
              "color": "white"
             }
            },
            "header": {
             "fill": {
              "color": "#C8D4E3"
             },
             "line": {
              "color": "white"
             }
            },
            "type": "table"
           }
          ]
         },
         "layout": {
          "annotationdefaults": {
           "arrowcolor": "#2a3f5f",
           "arrowhead": 0,
           "arrowwidth": 1
          },
          "coloraxis": {
           "colorbar": {
            "outlinewidth": 0,
            "ticks": ""
           }
          },
          "colorscale": {
           "diverging": [
            [
             0,
             "#8e0152"
            ],
            [
             0.1,
             "#c51b7d"
            ],
            [
             0.2,
             "#de77ae"
            ],
            [
             0.3,
             "#f1b6da"
            ],
            [
             0.4,
             "#fde0ef"
            ],
            [
             0.5,
             "#f7f7f7"
            ],
            [
             0.6,
             "#e6f5d0"
            ],
            [
             0.7,
             "#b8e186"
            ],
            [
             0.8,
             "#7fbc41"
            ],
            [
             0.9,
             "#4d9221"
            ],
            [
             1,
             "#276419"
            ]
           ],
           "sequential": [
            [
             0,
             "#0d0887"
            ],
            [
             0.1111111111111111,
             "#46039f"
            ],
            [
             0.2222222222222222,
             "#7201a8"
            ],
            [
             0.3333333333333333,
             "#9c179e"
            ],
            [
             0.4444444444444444,
             "#bd3786"
            ],
            [
             0.5555555555555556,
             "#d8576b"
            ],
            [
             0.6666666666666666,
             "#ed7953"
            ],
            [
             0.7777777777777778,
             "#fb9f3a"
            ],
            [
             0.8888888888888888,
             "#fdca26"
            ],
            [
             1,
             "#f0f921"
            ]
           ],
           "sequentialminus": [
            [
             0,
             "#0d0887"
            ],
            [
             0.1111111111111111,
             "#46039f"
            ],
            [
             0.2222222222222222,
             "#7201a8"
            ],
            [
             0.3333333333333333,
             "#9c179e"
            ],
            [
             0.4444444444444444,
             "#bd3786"
            ],
            [
             0.5555555555555556,
             "#d8576b"
            ],
            [
             0.6666666666666666,
             "#ed7953"
            ],
            [
             0.7777777777777778,
             "#fb9f3a"
            ],
            [
             0.8888888888888888,
             "#fdca26"
            ],
            [
             1,
             "#f0f921"
            ]
           ]
          },
          "colorway": [
           "#636efa",
           "#EF553B",
           "#00cc96",
           "#ab63fa",
           "#FFA15A",
           "#19d3f3",
           "#FF6692",
           "#B6E880",
           "#FF97FF",
           "#FECB52"
          ],
          "font": {
           "color": "#2a3f5f"
          },
          "geo": {
           "bgcolor": "white",
           "lakecolor": "white",
           "landcolor": "#E5ECF6",
           "showlakes": true,
           "showland": true,
           "subunitcolor": "white"
          },
          "hoverlabel": {
           "align": "left"
          },
          "hovermode": "closest",
          "mapbox": {
           "style": "light"
          },
          "paper_bgcolor": "white",
          "plot_bgcolor": "#E5ECF6",
          "polar": {
           "angularaxis": {
            "gridcolor": "white",
            "linecolor": "white",
            "ticks": ""
           },
           "bgcolor": "#E5ECF6",
           "radialaxis": {
            "gridcolor": "white",
            "linecolor": "white",
            "ticks": ""
           }
          },
          "scene": {
           "xaxis": {
            "backgroundcolor": "#E5ECF6",
            "gridcolor": "white",
            "gridwidth": 2,
            "linecolor": "white",
            "showbackground": true,
            "ticks": "",
            "zerolinecolor": "white"
           },
           "yaxis": {
            "backgroundcolor": "#E5ECF6",
            "gridcolor": "white",
            "gridwidth": 2,
            "linecolor": "white",
            "showbackground": true,
            "ticks": "",
            "zerolinecolor": "white"
           },
           "zaxis": {
            "backgroundcolor": "#E5ECF6",
            "gridcolor": "white",
            "gridwidth": 2,
            "linecolor": "white",
            "showbackground": true,
            "ticks": "",
            "zerolinecolor": "white"
           }
          },
          "shapedefaults": {
           "line": {
            "color": "#2a3f5f"
           }
          },
          "ternary": {
           "aaxis": {
            "gridcolor": "white",
            "linecolor": "white",
            "ticks": ""
           },
           "baxis": {
            "gridcolor": "white",
            "linecolor": "white",
            "ticks": ""
           },
           "bgcolor": "#E5ECF6",
           "caxis": {
            "gridcolor": "white",
            "linecolor": "white",
            "ticks": ""
           }
          },
          "title": {
           "x": 0.05
          },
          "xaxis": {
           "automargin": true,
           "gridcolor": "white",
           "linecolor": "white",
           "ticks": "",
           "title": {
            "standoff": 15
           },
           "zerolinecolor": "white",
           "zerolinewidth": 2
          },
          "yaxis": {
           "automargin": true,
           "gridcolor": "white",
           "linecolor": "white",
           "ticks": "",
           "title": {
            "standoff": 15
           },
           "zerolinecolor": "white",
           "zerolinewidth": 2
          }
         }
        },
        "title": {
         "text": "Year 1: Retention vs Lapse (% of Donors)"
        },
        "xaxis": {
         "anchor": "y",
         "domain": [
          0,
          1
         ],
         "title": {
          "text": "cohort_year"
         },
         "type": "category"
        },
        "yaxis": {
         "anchor": "x",
         "domain": [
          0,
          1
         ],
         "title": {
          "text": "value"
         }
        }
       }
      },
      "text/html": [
       "<div>\n",
       "        \n",
       "        \n",
       "            <div id=\"74f1c430-3edd-4499-a091-6836e5d3ecb7\" class=\"plotly-graph-div\" style=\"height:525px; width:100%;\"></div>\n",
       "            <script type=\"text/javascript\">\n",
       "                require([\"plotly\"], function(Plotly) {\n",
       "                    window.PLOTLYENV=window.PLOTLYENV || {};\n",
       "                    \n",
       "                if (document.getElementById(\"74f1c430-3edd-4499-a091-6836e5d3ecb7\")) {\n",
       "                    Plotly.newPlot(\n",
       "                        '74f1c430-3edd-4499-a091-6836e5d3ecb7',\n",
       "                        [{\"alignmentgroup\": \"True\", \"hovertemplate\": \"variable=retention_rate_yr1<br>cohort_year=%{x}<br>value=%{y}<extra></extra>\", \"legendgroup\": \"retention_rate_yr1\", \"marker\": {\"color\": \"#636efa\"}, \"name\": \"retention_rate_yr1\", \"offsetgroup\": \"retention_rate_yr1\", \"orientation\": \"v\", \"showlegend\": true, \"textposition\": \"auto\", \"type\": \"bar\", \"x\": [\"2012-01-01\", \"2013-01-01\", \"2014-01-01\", \"2015-01-01\", \"2016-01-01\", \"2017-01-01\", \"2018-01-01\"], \"xaxis\": \"x\", \"y\": [23.404255319148938, 19.411439408377568, 15.176519382673314, 12.97471116780285, 12.688117989757583, 6.894395516229071, 0.0], \"yaxis\": \"y\"}, {\"alignmentgroup\": \"True\", \"hovertemplate\": \"variable=lapse_rate_yr1<br>cohort_year=%{x}<br>value=%{y}<extra></extra>\", \"legendgroup\": \"lapse_rate_yr1\", \"marker\": {\"color\": \"#EF553B\"}, \"name\": \"lapse_rate_yr1\", \"offsetgroup\": \"lapse_rate_yr1\", \"orientation\": \"v\", \"showlegend\": true, \"textposition\": \"auto\", \"type\": \"bar\", \"x\": [\"2012-01-01\", \"2013-01-01\", \"2014-01-01\", \"2015-01-01\", \"2016-01-01\", \"2017-01-01\", \"2018-01-01\"], \"xaxis\": \"x\", \"y\": [-76.59574468085107, -80.58856059162243, -84.82348061732668, -87.02528883219716, -87.31188201024241, -93.10560448377093, -0.0], \"yaxis\": \"y\"}],\n",
       "                        {\"barmode\": \"relative\", \"legend\": {\"title\": {\"text\": \"variable\"}, \"tracegroupgap\": 0}, \"template\": {\"data\": {\"bar\": [{\"error_x\": {\"color\": \"#2a3f5f\"}, \"error_y\": {\"color\": \"#2a3f5f\"}, \"marker\": {\"line\": {\"color\": \"#E5ECF6\", \"width\": 0.5}}, \"type\": \"bar\"}], \"barpolar\": [{\"marker\": {\"line\": {\"color\": \"#E5ECF6\", \"width\": 0.5}}, \"type\": \"barpolar\"}], \"carpet\": [{\"aaxis\": {\"endlinecolor\": \"#2a3f5f\", \"gridcolor\": \"white\", \"linecolor\": \"white\", \"minorgridcolor\": \"white\", \"startlinecolor\": \"#2a3f5f\"}, \"baxis\": {\"endlinecolor\": \"#2a3f5f\", \"gridcolor\": \"white\", \"linecolor\": \"white\", \"minorgridcolor\": \"white\", \"startlinecolor\": \"#2a3f5f\"}, \"type\": \"carpet\"}], \"choropleth\": [{\"colorbar\": {\"outlinewidth\": 0, \"ticks\": \"\"}, \"type\": \"choropleth\"}], \"contour\": [{\"colorbar\": {\"outlinewidth\": 0, \"ticks\": \"\"}, \"colorscale\": [[0.0, \"#0d0887\"], [0.1111111111111111, \"#46039f\"], [0.2222222222222222, \"#7201a8\"], [0.3333333333333333, \"#9c179e\"], [0.4444444444444444, \"#bd3786\"], [0.5555555555555556, \"#d8576b\"], [0.6666666666666666, \"#ed7953\"], [0.7777777777777778, \"#fb9f3a\"], [0.8888888888888888, \"#fdca26\"], [1.0, \"#f0f921\"]], \"type\": \"contour\"}], \"contourcarpet\": [{\"colorbar\": {\"outlinewidth\": 0, \"ticks\": \"\"}, \"type\": \"contourcarpet\"}], \"heatmap\": [{\"colorbar\": {\"outlinewidth\": 0, \"ticks\": \"\"}, \"colorscale\": [[0.0, \"#0d0887\"], [0.1111111111111111, \"#46039f\"], [0.2222222222222222, \"#7201a8\"], [0.3333333333333333, \"#9c179e\"], [0.4444444444444444, \"#bd3786\"], [0.5555555555555556, \"#d8576b\"], [0.6666666666666666, \"#ed7953\"], [0.7777777777777778, \"#fb9f3a\"], [0.8888888888888888, \"#fdca26\"], [1.0, \"#f0f921\"]], \"type\": \"heatmap\"}], \"heatmapgl\": [{\"colorbar\": {\"outlinewidth\": 0, \"ticks\": \"\"}, \"colorscale\": [[0.0, \"#0d0887\"], [0.1111111111111111, \"#46039f\"], [0.2222222222222222, \"#7201a8\"], [0.3333333333333333, \"#9c179e\"], [0.4444444444444444, \"#bd3786\"], [0.5555555555555556, \"#d8576b\"], [0.6666666666666666, \"#ed7953\"], [0.7777777777777778, \"#fb9f3a\"], [0.8888888888888888, \"#fdca26\"], [1.0, \"#f0f921\"]], \"type\": \"heatmapgl\"}], \"histogram\": [{\"marker\": {\"colorbar\": {\"outlinewidth\": 0, \"ticks\": \"\"}}, \"type\": \"histogram\"}], \"histogram2d\": [{\"colorbar\": {\"outlinewidth\": 0, \"ticks\": \"\"}, \"colorscale\": [[0.0, \"#0d0887\"], [0.1111111111111111, \"#46039f\"], [0.2222222222222222, \"#7201a8\"], [0.3333333333333333, \"#9c179e\"], [0.4444444444444444, \"#bd3786\"], [0.5555555555555556, \"#d8576b\"], [0.6666666666666666, \"#ed7953\"], [0.7777777777777778, \"#fb9f3a\"], [0.8888888888888888, \"#fdca26\"], [1.0, \"#f0f921\"]], \"type\": \"histogram2d\"}], \"histogram2dcontour\": [{\"colorbar\": {\"outlinewidth\": 0, \"ticks\": \"\"}, \"colorscale\": [[0.0, \"#0d0887\"], [0.1111111111111111, \"#46039f\"], [0.2222222222222222, \"#7201a8\"], [0.3333333333333333, \"#9c179e\"], [0.4444444444444444, \"#bd3786\"], [0.5555555555555556, \"#d8576b\"], [0.6666666666666666, \"#ed7953\"], [0.7777777777777778, \"#fb9f3a\"], [0.8888888888888888, \"#fdca26\"], [1.0, \"#f0f921\"]], \"type\": \"histogram2dcontour\"}], \"mesh3d\": [{\"colorbar\": {\"outlinewidth\": 0, \"ticks\": \"\"}, \"type\": \"mesh3d\"}], \"parcoords\": [{\"line\": {\"colorbar\": {\"outlinewidth\": 0, \"ticks\": \"\"}}, \"type\": \"parcoords\"}], \"pie\": [{\"automargin\": true, \"type\": \"pie\"}], \"scatter\": [{\"marker\": {\"colorbar\": {\"outlinewidth\": 0, \"ticks\": \"\"}}, \"type\": \"scatter\"}], \"scatter3d\": [{\"line\": {\"colorbar\": {\"outlinewidth\": 0, \"ticks\": \"\"}}, \"marker\": {\"colorbar\": {\"outlinewidth\": 0, \"ticks\": \"\"}}, \"type\": \"scatter3d\"}], \"scattercarpet\": [{\"marker\": {\"colorbar\": {\"outlinewidth\": 0, \"ticks\": \"\"}}, \"type\": \"scattercarpet\"}], \"scattergeo\": [{\"marker\": {\"colorbar\": {\"outlinewidth\": 0, \"ticks\": \"\"}}, \"type\": \"scattergeo\"}], \"scattergl\": [{\"marker\": {\"colorbar\": {\"outlinewidth\": 0, \"ticks\": \"\"}}, \"type\": \"scattergl\"}], \"scattermapbox\": [{\"marker\": {\"colorbar\": {\"outlinewidth\": 0, \"ticks\": \"\"}}, \"type\": \"scattermapbox\"}], \"scatterpolar\": [{\"marker\": {\"colorbar\": {\"outlinewidth\": 0, \"ticks\": \"\"}}, \"type\": \"scatterpolar\"}], \"scatterpolargl\": [{\"marker\": {\"colorbar\": {\"outlinewidth\": 0, \"ticks\": \"\"}}, \"type\": \"scatterpolargl\"}], \"scatterternary\": [{\"marker\": {\"colorbar\": {\"outlinewidth\": 0, \"ticks\": \"\"}}, \"type\": \"scatterternary\"}], \"surface\": [{\"colorbar\": {\"outlinewidth\": 0, \"ticks\": \"\"}, \"colorscale\": [[0.0, \"#0d0887\"], [0.1111111111111111, \"#46039f\"], [0.2222222222222222, \"#7201a8\"], [0.3333333333333333, \"#9c179e\"], [0.4444444444444444, \"#bd3786\"], [0.5555555555555556, \"#d8576b\"], [0.6666666666666666, \"#ed7953\"], [0.7777777777777778, \"#fb9f3a\"], [0.8888888888888888, \"#fdca26\"], [1.0, \"#f0f921\"]], \"type\": \"surface\"}], \"table\": [{\"cells\": {\"fill\": {\"color\": \"#EBF0F8\"}, \"line\": {\"color\": \"white\"}}, \"header\": {\"fill\": {\"color\": \"#C8D4E3\"}, \"line\": {\"color\": \"white\"}}, \"type\": \"table\"}]}, \"layout\": {\"annotationdefaults\": {\"arrowcolor\": \"#2a3f5f\", \"arrowhead\": 0, \"arrowwidth\": 1}, \"coloraxis\": {\"colorbar\": {\"outlinewidth\": 0, \"ticks\": \"\"}}, \"colorscale\": {\"diverging\": [[0, \"#8e0152\"], [0.1, \"#c51b7d\"], [0.2, \"#de77ae\"], [0.3, \"#f1b6da\"], [0.4, \"#fde0ef\"], [0.5, \"#f7f7f7\"], [0.6, \"#e6f5d0\"], [0.7, \"#b8e186\"], [0.8, \"#7fbc41\"], [0.9, \"#4d9221\"], [1, \"#276419\"]], \"sequential\": [[0.0, \"#0d0887\"], [0.1111111111111111, \"#46039f\"], [0.2222222222222222, \"#7201a8\"], [0.3333333333333333, \"#9c179e\"], [0.4444444444444444, \"#bd3786\"], [0.5555555555555556, \"#d8576b\"], [0.6666666666666666, \"#ed7953\"], [0.7777777777777778, \"#fb9f3a\"], [0.8888888888888888, \"#fdca26\"], [1.0, \"#f0f921\"]], \"sequentialminus\": [[0.0, \"#0d0887\"], [0.1111111111111111, \"#46039f\"], [0.2222222222222222, \"#7201a8\"], [0.3333333333333333, \"#9c179e\"], [0.4444444444444444, \"#bd3786\"], [0.5555555555555556, \"#d8576b\"], [0.6666666666666666, \"#ed7953\"], [0.7777777777777778, \"#fb9f3a\"], [0.8888888888888888, \"#fdca26\"], [1.0, \"#f0f921\"]]}, \"colorway\": [\"#636efa\", \"#EF553B\", \"#00cc96\", \"#ab63fa\", \"#FFA15A\", \"#19d3f3\", \"#FF6692\", \"#B6E880\", \"#FF97FF\", \"#FECB52\"], \"font\": {\"color\": \"#2a3f5f\"}, \"geo\": {\"bgcolor\": \"white\", \"lakecolor\": \"white\", \"landcolor\": \"#E5ECF6\", \"showlakes\": true, \"showland\": true, \"subunitcolor\": \"white\"}, \"hoverlabel\": {\"align\": \"left\"}, \"hovermode\": \"closest\", \"mapbox\": {\"style\": \"light\"}, \"paper_bgcolor\": \"white\", \"plot_bgcolor\": \"#E5ECF6\", \"polar\": {\"angularaxis\": {\"gridcolor\": \"white\", \"linecolor\": \"white\", \"ticks\": \"\"}, \"bgcolor\": \"#E5ECF6\", \"radialaxis\": {\"gridcolor\": \"white\", \"linecolor\": \"white\", \"ticks\": \"\"}}, \"scene\": {\"xaxis\": {\"backgroundcolor\": \"#E5ECF6\", \"gridcolor\": \"white\", \"gridwidth\": 2, \"linecolor\": \"white\", \"showbackground\": true, \"ticks\": \"\", \"zerolinecolor\": \"white\"}, \"yaxis\": {\"backgroundcolor\": \"#E5ECF6\", \"gridcolor\": \"white\", \"gridwidth\": 2, \"linecolor\": \"white\", \"showbackground\": true, \"ticks\": \"\", \"zerolinecolor\": \"white\"}, \"zaxis\": {\"backgroundcolor\": \"#E5ECF6\", \"gridcolor\": \"white\", \"gridwidth\": 2, \"linecolor\": \"white\", \"showbackground\": true, \"ticks\": \"\", \"zerolinecolor\": \"white\"}}, \"shapedefaults\": {\"line\": {\"color\": \"#2a3f5f\"}}, \"ternary\": {\"aaxis\": {\"gridcolor\": \"white\", \"linecolor\": \"white\", \"ticks\": \"\"}, \"baxis\": {\"gridcolor\": \"white\", \"linecolor\": \"white\", \"ticks\": \"\"}, \"bgcolor\": \"#E5ECF6\", \"caxis\": {\"gridcolor\": \"white\", \"linecolor\": \"white\", \"ticks\": \"\"}}, \"title\": {\"x\": 0.05}, \"xaxis\": {\"automargin\": true, \"gridcolor\": \"white\", \"linecolor\": \"white\", \"ticks\": \"\", \"title\": {\"standoff\": 15}, \"zerolinecolor\": \"white\", \"zerolinewidth\": 2}, \"yaxis\": {\"automargin\": true, \"gridcolor\": \"white\", \"linecolor\": \"white\", \"ticks\": \"\", \"title\": {\"standoff\": 15}, \"zerolinecolor\": \"white\", \"zerolinewidth\": 2}}}, \"title\": {\"text\": \"Year 1: Retention vs Lapse (% of Donors)\"}, \"xaxis\": {\"anchor\": \"y\", \"domain\": [0.0, 1.0], \"title\": {\"text\": \"cohort_year\"}, \"type\": \"category\"}, \"yaxis\": {\"anchor\": \"x\", \"domain\": [0.0, 1.0], \"title\": {\"text\": \"value\"}}},\n",
       "                        {\"responsive\": true}\n",
       "                    ).then(function(){\n",
       "                            \n",
       "var gd = document.getElementById('74f1c430-3edd-4499-a091-6836e5d3ecb7');\n",
       "var x = new MutationObserver(function (mutations, observer) {{\n",
       "        var display = window.getComputedStyle(gd).display;\n",
       "        if (!display || display === 'none') {{\n",
       "            console.log([gd, 'removed!']);\n",
       "            Plotly.purge(gd);\n",
       "            observer.disconnect();\n",
       "        }}\n",
       "}});\n",
       "\n",
       "// Listen for the removal of the full notebook cells\n",
       "var notebookContainer = gd.closest('#notebook-container');\n",
       "if (notebookContainer) {{\n",
       "    x.observe(notebookContainer, {childList: true});\n",
       "}}\n",
       "\n",
       "// Listen for the clearing of the current output cell\n",
       "var outputEl = gd.closest('.output');\n",
       "if (outputEl) {{\n",
       "    x.observe(outputEl, {childList: true});\n",
       "}}\n",
       "\n",
       "                        })\n",
       "                };\n",
       "                });\n",
       "            </script>\n",
       "        </div>"
      ]
     },
     "metadata": {},
     "output_type": "display_data"
    }
   ],
   "source": [
    "fig = px.bar(df5, x=\"cohort_year\", y=['retention_rate_yr1', 'lapse_rate_yr1'],\n",
    "            title=\"Year 1: Retention vs Lapse (% of Donors)\")\n",
    " #barmode='group', labels={'index':'year', 'y':'amount ($)'}, \n",
    "fig.update_xaxes(type='category')\n",
    "fig.show()"
   ]
  },
  {
   "cell_type": "code",
   "execution_count": null,
   "metadata": {},
   "outputs": [],
   "source": [
    "grouped.cohort_1_second_year"
   ]
  },
  {
   "cell_type": "code",
   "execution_count": 17,
   "metadata": {},
   "outputs": [
    {
     "ename": "SyntaxError",
     "evalue": "invalid syntax (<ipython-input-17-e2a269811057>, line 5)",
     "output_type": "error",
     "traceback": [
      "\u001b[1;36m  File \u001b[1;32m\"<ipython-input-17-e2a269811057>\"\u001b[1;36m, line \u001b[1;32m5\u001b[0m\n\u001b[1;33m    'first_gift', 'second_year': \"sum\",  # get the count of networks\u001b[0m\n\u001b[1;37m                ^\u001b[0m\n\u001b[1;31mSyntaxError\u001b[0m\u001b[1;31m:\u001b[0m invalid syntax\n"
     ]
    }
   ],
   "source": [
    "donations_cohort_with_cycle.groupby('first_gift_year').agg(\n",
    "    {'first_gift', 'second_year': \"sum\",  # get the count of networks\n",
    "    }\n",
    ")\n",
    "df.groupby('Category').agg({'Item':'size','shop1':['sum','mean','std'],'shop2':['sum','mean','std'],'shop3':['sum','mean','std']})\n"
   ]
  },
  {
   "cell_type": "code",
   "execution_count": null,
   "metadata": {},
   "outputs": [],
   "source": [
    "def filter_func(x):\n",
    "    return x['data2'].std() > 4"
   ]
  },
  {
   "cell_type": "code",
   "execution_count": 31,
   "metadata": {},
   "outputs": [],
   "source": [
    "##START HERE FRIDAY"
   ]
  },
  {
   "cell_type": "code",
   "execution_count": 39,
   "metadata": {},
   "outputs": [],
   "source": [
    "donations_cohort_with_cycle1=donations_cohort_with_cycle[['id','first_gift_year','amount_yr0','amount_yr1','amount_yr2','amount_yr3','amount_yr4','cohort_0_first_gift',\n",
    "'cohort_1_lapsed_after_first',\n",
    "'cohort_1_second_year',\n",
    "'cohort_2_lapsed_after_first_long',\n",
    "'cohort_2_lapsed_after_second',\n",
    "'cohort_2_multi_year',\n",
    "'cohort_2_second_with_gap',\n",
    "'cohort_3_first_gift',\n",
    "'cohort_3_inconsistent_multi_year',\n",
    "'cohort_3_key_multi_year',\n",
    "'cohort_3_lapsed_after_second',\n",
    "'cohort_3_lapsed_long',\n",
    "'cohort_3_lapsed_multi_year',\n",
    "'cohort_4_first_gift',\n",
    "'cohort_4_inconsistent_multi_year',\n",
    "'cohort_4_key_multi_year',\n",
    "'cohort_4_lapsed_after_first',\n",
    "'cohort_4_lapsed_key_multi_year',\n",
    "'cohort_4_lapsed_long',\n",
    "'cohort_4_lapsed_long_multi_year',\n",
    "'cohort_4_lapsed_multi_year',\n",
    "'cohort_4_multi_year',\n",
    "'cohort_4_recovered_multi_year',\n",
    "'cohort_4_second_year',\n",
    "'cohort_gift_pattern'                                                          \n",
    "]].copy()"
   ]
  },
  {
   "cell_type": "code",
   "execution_count": 40,
   "metadata": {},
   "outputs": [],
   "source": [
    "df01234=donations_cohort_with_cycle1.query('cohort_gift_pattern == \"0,1,2,3,4,\"')"
   ]
  },
  {
   "cell_type": "code",
   "execution_count": 41,
   "metadata": {},
   "outputs": [
    {
     "data": {
      "text/html": [
       "<div>\n",
       "<style scoped>\n",
       "    .dataframe tbody tr th:only-of-type {\n",
       "        vertical-align: middle;\n",
       "    }\n",
       "\n",
       "    .dataframe tbody tr th {\n",
       "        vertical-align: top;\n",
       "    }\n",
       "\n",
       "    .dataframe thead th {\n",
       "        text-align: right;\n",
       "    }\n",
       "</style>\n",
       "<table border=\"1\" class=\"dataframe\">\n",
       "  <thead>\n",
       "    <tr style=\"text-align: right;\">\n",
       "      <th></th>\n",
       "      <th>id</th>\n",
       "      <th>first_gift_year</th>\n",
       "      <th>amount_yr0</th>\n",
       "      <th>amount_yr1</th>\n",
       "      <th>amount_yr2</th>\n",
       "      <th>amount_yr3</th>\n",
       "      <th>amount_yr4</th>\n",
       "      <th>cohort_0_first_gift</th>\n",
       "      <th>cohort_1_lapsed_after_first</th>\n",
       "      <th>cohort_1_second_year</th>\n",
       "      <th>...</th>\n",
       "      <th>cohort_4_key_multi_year</th>\n",
       "      <th>cohort_4_lapsed_after_first</th>\n",
       "      <th>cohort_4_lapsed_key_multi_year</th>\n",
       "      <th>cohort_4_lapsed_long</th>\n",
       "      <th>cohort_4_lapsed_long_multi_year</th>\n",
       "      <th>cohort_4_lapsed_multi_year</th>\n",
       "      <th>cohort_4_multi_year</th>\n",
       "      <th>cohort_4_recovered_multi_year</th>\n",
       "      <th>cohort_4_second_year</th>\n",
       "      <th>cohort_gift_pattern</th>\n",
       "    </tr>\n",
       "  </thead>\n",
       "  <tbody>\n",
       "    <tr>\n",
       "      <td>41</td>\n",
       "      <td>0001107b9faa5c3bb42cfcecece1d587</td>\n",
       "      <td>2013-01-01</td>\n",
       "      <td>125.00</td>\n",
       "      <td>175.0</td>\n",
       "      <td>240.0</td>\n",
       "      <td>195.00</td>\n",
       "      <td>160.00</td>\n",
       "      <td>1</td>\n",
       "      <td>0</td>\n",
       "      <td>1</td>\n",
       "      <td>...</td>\n",
       "      <td>1</td>\n",
       "      <td>0</td>\n",
       "      <td>0</td>\n",
       "      <td>0</td>\n",
       "      <td>0</td>\n",
       "      <td>0</td>\n",
       "      <td>0</td>\n",
       "      <td>0</td>\n",
       "      <td>0</td>\n",
       "      <td>0,1,2,3,4,</td>\n",
       "    </tr>\n",
       "    <tr>\n",
       "      <td>107</td>\n",
       "      <td>0002bcb9f69cd91cbeae163fc9cd874f</td>\n",
       "      <td>2013-01-01</td>\n",
       "      <td>150.00</td>\n",
       "      <td>75.0</td>\n",
       "      <td>58.0</td>\n",
       "      <td>236.00</td>\n",
       "      <td>1139.59</td>\n",
       "      <td>1</td>\n",
       "      <td>0</td>\n",
       "      <td>1</td>\n",
       "      <td>...</td>\n",
       "      <td>1</td>\n",
       "      <td>0</td>\n",
       "      <td>0</td>\n",
       "      <td>0</td>\n",
       "      <td>0</td>\n",
       "      <td>0</td>\n",
       "      <td>0</td>\n",
       "      <td>0</td>\n",
       "      <td>0</td>\n",
       "      <td>0,1,2,3,4,</td>\n",
       "    </tr>\n",
       "    <tr>\n",
       "      <td>320</td>\n",
       "      <td>0009b8318c1914701e4d1063f2a008d8</td>\n",
       "      <td>2013-01-01</td>\n",
       "      <td>357.00</td>\n",
       "      <td>33.0</td>\n",
       "      <td>35.0</td>\n",
       "      <td>109.00</td>\n",
       "      <td>139.00</td>\n",
       "      <td>1</td>\n",
       "      <td>0</td>\n",
       "      <td>1</td>\n",
       "      <td>...</td>\n",
       "      <td>1</td>\n",
       "      <td>0</td>\n",
       "      <td>0</td>\n",
       "      <td>0</td>\n",
       "      <td>0</td>\n",
       "      <td>0</td>\n",
       "      <td>0</td>\n",
       "      <td>0</td>\n",
       "      <td>0</td>\n",
       "      <td>0,1,2,3,4,</td>\n",
       "    </tr>\n",
       "    <tr>\n",
       "      <td>374</td>\n",
       "      <td>000baeedb9c9756b6335a16918770e0f</td>\n",
       "      <td>2013-01-01</td>\n",
       "      <td>20.00</td>\n",
       "      <td>50.0</td>\n",
       "      <td>50.0</td>\n",
       "      <td>50.00</td>\n",
       "      <td>75.00</td>\n",
       "      <td>1</td>\n",
       "      <td>0</td>\n",
       "      <td>1</td>\n",
       "      <td>...</td>\n",
       "      <td>1</td>\n",
       "      <td>0</td>\n",
       "      <td>0</td>\n",
       "      <td>0</td>\n",
       "      <td>0</td>\n",
       "      <td>0</td>\n",
       "      <td>0</td>\n",
       "      <td>0</td>\n",
       "      <td>0</td>\n",
       "      <td>0,1,2,3,4,</td>\n",
       "    </tr>\n",
       "    <tr>\n",
       "      <td>688</td>\n",
       "      <td>0015dc157335e5ad6f569e5264bbf33e</td>\n",
       "      <td>2013-01-01</td>\n",
       "      <td>3756.36</td>\n",
       "      <td>189.5</td>\n",
       "      <td>110.0</td>\n",
       "      <td>50.00</td>\n",
       "      <td>300.00</td>\n",
       "      <td>1</td>\n",
       "      <td>0</td>\n",
       "      <td>1</td>\n",
       "      <td>...</td>\n",
       "      <td>1</td>\n",
       "      <td>0</td>\n",
       "      <td>0</td>\n",
       "      <td>0</td>\n",
       "      <td>0</td>\n",
       "      <td>0</td>\n",
       "      <td>0</td>\n",
       "      <td>0</td>\n",
       "      <td>0</td>\n",
       "      <td>0,1,2,3,4,</td>\n",
       "    </tr>\n",
       "    <tr>\n",
       "      <td>...</td>\n",
       "      <td>...</td>\n",
       "      <td>...</td>\n",
       "      <td>...</td>\n",
       "      <td>...</td>\n",
       "      <td>...</td>\n",
       "      <td>...</td>\n",
       "      <td>...</td>\n",
       "      <td>...</td>\n",
       "      <td>...</td>\n",
       "      <td>...</td>\n",
       "      <td>...</td>\n",
       "      <td>...</td>\n",
       "      <td>...</td>\n",
       "      <td>...</td>\n",
       "      <td>...</td>\n",
       "      <td>...</td>\n",
       "      <td>...</td>\n",
       "      <td>...</td>\n",
       "      <td>...</td>\n",
       "      <td>...</td>\n",
       "      <td>...</td>\n",
       "    </tr>\n",
       "    <tr>\n",
       "      <td>2023991</td>\n",
       "      <td>ffec50d779286cac79d867a8eb5de741</td>\n",
       "      <td>2013-01-01</td>\n",
       "      <td>100.00</td>\n",
       "      <td>150.0</td>\n",
       "      <td>10.0</td>\n",
       "      <td>150.00</td>\n",
       "      <td>100.00</td>\n",
       "      <td>1</td>\n",
       "      <td>0</td>\n",
       "      <td>1</td>\n",
       "      <td>...</td>\n",
       "      <td>1</td>\n",
       "      <td>0</td>\n",
       "      <td>0</td>\n",
       "      <td>0</td>\n",
       "      <td>0</td>\n",
       "      <td>0</td>\n",
       "      <td>0</td>\n",
       "      <td>0</td>\n",
       "      <td>0</td>\n",
       "      <td>0,1,2,3,4,</td>\n",
       "    </tr>\n",
       "    <tr>\n",
       "      <td>2023996</td>\n",
       "      <td>ffecc7551941f8850b616b7dc2e5c8fe</td>\n",
       "      <td>2014-01-01</td>\n",
       "      <td>100.00</td>\n",
       "      <td>50.0</td>\n",
       "      <td>300.0</td>\n",
       "      <td>50.00</td>\n",
       "      <td>50.00</td>\n",
       "      <td>1</td>\n",
       "      <td>0</td>\n",
       "      <td>1</td>\n",
       "      <td>...</td>\n",
       "      <td>1</td>\n",
       "      <td>0</td>\n",
       "      <td>0</td>\n",
       "      <td>0</td>\n",
       "      <td>0</td>\n",
       "      <td>0</td>\n",
       "      <td>0</td>\n",
       "      <td>0</td>\n",
       "      <td>0</td>\n",
       "      <td>0,1,2,3,4,</td>\n",
       "    </tr>\n",
       "    <tr>\n",
       "      <td>2024029</td>\n",
       "      <td>ffeda789400d5addb91599d79da83ea8</td>\n",
       "      <td>2013-01-01</td>\n",
       "      <td>110.00</td>\n",
       "      <td>140.0</td>\n",
       "      <td>130.0</td>\n",
       "      <td>160.79</td>\n",
       "      <td>110.00</td>\n",
       "      <td>1</td>\n",
       "      <td>0</td>\n",
       "      <td>1</td>\n",
       "      <td>...</td>\n",
       "      <td>1</td>\n",
       "      <td>0</td>\n",
       "      <td>0</td>\n",
       "      <td>0</td>\n",
       "      <td>0</td>\n",
       "      <td>0</td>\n",
       "      <td>0</td>\n",
       "      <td>0</td>\n",
       "      <td>0</td>\n",
       "      <td>0,1,2,3,4,</td>\n",
       "    </tr>\n",
       "    <tr>\n",
       "      <td>2024118</td>\n",
       "      <td>fff0c19388fb85f152dce64748f7d86b</td>\n",
       "      <td>2014-01-01</td>\n",
       "      <td>10.00</td>\n",
       "      <td>20.0</td>\n",
       "      <td>60.0</td>\n",
       "      <td>200.00</td>\n",
       "      <td>50.00</td>\n",
       "      <td>1</td>\n",
       "      <td>0</td>\n",
       "      <td>1</td>\n",
       "      <td>...</td>\n",
       "      <td>1</td>\n",
       "      <td>0</td>\n",
       "      <td>0</td>\n",
       "      <td>0</td>\n",
       "      <td>0</td>\n",
       "      <td>0</td>\n",
       "      <td>0</td>\n",
       "      <td>0</td>\n",
       "      <td>0</td>\n",
       "      <td>0,1,2,3,4,</td>\n",
       "    </tr>\n",
       "    <tr>\n",
       "      <td>2024346</td>\n",
       "      <td>fff83b3bc24713a15cf422704e2f02c0</td>\n",
       "      <td>2013-01-01</td>\n",
       "      <td>235.00</td>\n",
       "      <td>595.0</td>\n",
       "      <td>25.0</td>\n",
       "      <td>50.00</td>\n",
       "      <td>305.00</td>\n",
       "      <td>1</td>\n",
       "      <td>0</td>\n",
       "      <td>1</td>\n",
       "      <td>...</td>\n",
       "      <td>1</td>\n",
       "      <td>0</td>\n",
       "      <td>0</td>\n",
       "      <td>0</td>\n",
       "      <td>0</td>\n",
       "      <td>0</td>\n",
       "      <td>0</td>\n",
       "      <td>0</td>\n",
       "      <td>0</td>\n",
       "      <td>0,1,2,3,4,</td>\n",
       "    </tr>\n",
       "  </tbody>\n",
       "</table>\n",
       "<p>13102 rows × 32 columns</p>\n",
       "</div>"
      ],
      "text/plain": [
       "                                       id first_gift_year  amount_yr0  \\\n",
       "41       0001107b9faa5c3bb42cfcecece1d587      2013-01-01      125.00   \n",
       "107      0002bcb9f69cd91cbeae163fc9cd874f      2013-01-01      150.00   \n",
       "320      0009b8318c1914701e4d1063f2a008d8      2013-01-01      357.00   \n",
       "374      000baeedb9c9756b6335a16918770e0f      2013-01-01       20.00   \n",
       "688      0015dc157335e5ad6f569e5264bbf33e      2013-01-01     3756.36   \n",
       "...                                   ...             ...         ...   \n",
       "2023991  ffec50d779286cac79d867a8eb5de741      2013-01-01      100.00   \n",
       "2023996  ffecc7551941f8850b616b7dc2e5c8fe      2014-01-01      100.00   \n",
       "2024029  ffeda789400d5addb91599d79da83ea8      2013-01-01      110.00   \n",
       "2024118  fff0c19388fb85f152dce64748f7d86b      2014-01-01       10.00   \n",
       "2024346  fff83b3bc24713a15cf422704e2f02c0      2013-01-01      235.00   \n",
       "\n",
       "         amount_yr1  amount_yr2  amount_yr3  amount_yr4  cohort_0_first_gift  \\\n",
       "41            175.0       240.0      195.00      160.00                    1   \n",
       "107            75.0        58.0      236.00     1139.59                    1   \n",
       "320            33.0        35.0      109.00      139.00                    1   \n",
       "374            50.0        50.0       50.00       75.00                    1   \n",
       "688           189.5       110.0       50.00      300.00                    1   \n",
       "...             ...         ...         ...         ...                  ...   \n",
       "2023991       150.0        10.0      150.00      100.00                    1   \n",
       "2023996        50.0       300.0       50.00       50.00                    1   \n",
       "2024029       140.0       130.0      160.79      110.00                    1   \n",
       "2024118        20.0        60.0      200.00       50.00                    1   \n",
       "2024346       595.0        25.0       50.00      305.00                    1   \n",
       "\n",
       "         cohort_1_lapsed_after_first  cohort_1_second_year  ...  \\\n",
       "41                                 0                     1  ...   \n",
       "107                                0                     1  ...   \n",
       "320                                0                     1  ...   \n",
       "374                                0                     1  ...   \n",
       "688                                0                     1  ...   \n",
       "...                              ...                   ...  ...   \n",
       "2023991                            0                     1  ...   \n",
       "2023996                            0                     1  ...   \n",
       "2024029                            0                     1  ...   \n",
       "2024118                            0                     1  ...   \n",
       "2024346                            0                     1  ...   \n",
       "\n",
       "         cohort_4_key_multi_year  cohort_4_lapsed_after_first  \\\n",
       "41                             1                            0   \n",
       "107                            1                            0   \n",
       "320                            1                            0   \n",
       "374                            1                            0   \n",
       "688                            1                            0   \n",
       "...                          ...                          ...   \n",
       "2023991                        1                            0   \n",
       "2023996                        1                            0   \n",
       "2024029                        1                            0   \n",
       "2024118                        1                            0   \n",
       "2024346                        1                            0   \n",
       "\n",
       "         cohort_4_lapsed_key_multi_year  cohort_4_lapsed_long  \\\n",
       "41                                    0                     0   \n",
       "107                                   0                     0   \n",
       "320                                   0                     0   \n",
       "374                                   0                     0   \n",
       "688                                   0                     0   \n",
       "...                                 ...                   ...   \n",
       "2023991                               0                     0   \n",
       "2023996                               0                     0   \n",
       "2024029                               0                     0   \n",
       "2024118                               0                     0   \n",
       "2024346                               0                     0   \n",
       "\n",
       "         cohort_4_lapsed_long_multi_year  cohort_4_lapsed_multi_year  \\\n",
       "41                                     0                           0   \n",
       "107                                    0                           0   \n",
       "320                                    0                           0   \n",
       "374                                    0                           0   \n",
       "688                                    0                           0   \n",
       "...                                  ...                         ...   \n",
       "2023991                                0                           0   \n",
       "2023996                                0                           0   \n",
       "2024029                                0                           0   \n",
       "2024118                                0                           0   \n",
       "2024346                                0                           0   \n",
       "\n",
       "         cohort_4_multi_year  cohort_4_recovered_multi_year  \\\n",
       "41                         0                              0   \n",
       "107                        0                              0   \n",
       "320                        0                              0   \n",
       "374                        0                              0   \n",
       "688                        0                              0   \n",
       "...                      ...                            ...   \n",
       "2023991                    0                              0   \n",
       "2023996                    0                              0   \n",
       "2024029                    0                              0   \n",
       "2024118                    0                              0   \n",
       "2024346                    0                              0   \n",
       "\n",
       "         cohort_4_second_year  cohort_gift_pattern  \n",
       "41                          0           0,1,2,3,4,  \n",
       "107                         0           0,1,2,3,4,  \n",
       "320                         0           0,1,2,3,4,  \n",
       "374                         0           0,1,2,3,4,  \n",
       "688                         0           0,1,2,3,4,  \n",
       "...                       ...                  ...  \n",
       "2023991                     0           0,1,2,3,4,  \n",
       "2023996                     0           0,1,2,3,4,  \n",
       "2024029                     0           0,1,2,3,4,  \n",
       "2024118                     0           0,1,2,3,4,  \n",
       "2024346                     0           0,1,2,3,4,  \n",
       "\n",
       "[13102 rows x 32 columns]"
      ]
     },
     "execution_count": 41,
     "metadata": {},
     "output_type": "execute_result"
    }
   ],
   "source": [
    "df01234"
   ]
  },
  {
   "cell_type": "code",
   "execution_count": 42,
   "metadata": {},
   "outputs": [
    {
     "data": {
      "text/plain": [
       "id                                  0001107b9faa5c3bb42cfcecece1d5870002bcb9f69cd9...\n",
       "first_gift_year                     2013-01-012013-01-012013-01-012013-01-012013-0...\n",
       "amount_yr0                                                                6.22259e+06\n",
       "amount_yr1                                                                9.30266e+06\n",
       "amount_yr2                                                                1.01037e+07\n",
       "amount_yr3                                                                1.04825e+07\n",
       "amount_yr4                                                                9.28515e+06\n",
       "cohort_0_first_gift                                                             13102\n",
       "cohort_1_lapsed_after_first                                                         0\n",
       "cohort_1_second_year                                                            13102\n",
       "cohort_2_lapsed_after_first_long                                                    0\n",
       "cohort_2_lapsed_after_second                                                        0\n",
       "cohort_2_multi_year                                                             13102\n",
       "cohort_2_second_with_gap                                                            0\n",
       "cohort_3_first_gift                                                                 0\n",
       "cohort_3_inconsistent_multi_year                                                    0\n",
       "cohort_3_key_multi_year                                                         13102\n",
       "cohort_3_lapsed_after_second                                                        0\n",
       "cohort_3_lapsed_long                                                                0\n",
       "cohort_3_lapsed_multi_year                                                          0\n",
       "cohort_4_first_gift                                                                 0\n",
       "cohort_4_inconsistent_multi_year                                                    0\n",
       "cohort_4_key_multi_year                                                         13102\n",
       "cohort_4_lapsed_after_first                                                         0\n",
       "cohort_4_lapsed_key_multi_year                                                      0\n",
       "cohort_4_lapsed_long                                                                0\n",
       "cohort_4_lapsed_long_multi_year                                                     0\n",
       "cohort_4_lapsed_multi_year                                                          0\n",
       "cohort_4_multi_year                                                                 0\n",
       "cohort_4_recovered_multi_year                                                       0\n",
       "cohort_4_second_year                                                                0\n",
       "cohort_gift_pattern                 0,1,2,3,4,0,1,2,3,4,0,1,2,3,4,0,1,2,3,4,0,1,2,...\n",
       "dtype: object"
      ]
     },
     "execution_count": 42,
     "metadata": {},
     "output_type": "execute_result"
    }
   ],
   "source": [
    "df01234.sum()"
   ]
  },
  {
   "cell_type": "code",
   "execution_count": null,
   "metadata": {},
   "outputs": [],
   "source": []
  }
 ],
 "metadata": {
  "kernelspec": {
   "display_name": "Python 3",
   "language": "python",
   "name": "python3"
  },
  "language_info": {
   "codemirror_mode": {
    "name": "ipython",
    "version": 3
   },
   "file_extension": ".py",
   "mimetype": "text/x-python",
   "name": "python",
   "nbconvert_exporter": "python",
   "pygments_lexer": "ipython3",
   "version": "3.7.4"
  }
 },
 "nbformat": 4,
 "nbformat_minor": 2
}
