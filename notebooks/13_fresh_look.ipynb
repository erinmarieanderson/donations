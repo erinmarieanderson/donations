{
 "cells": [
  {
   "cell_type": "code",
   "execution_count": 1,
   "metadata": {},
   "outputs": [],
   "source": [
    "import numpy as np\n",
    "import pandas as pd\n",
    "\n",
    "import plotly.express as px\n",
    "import plotly.graph_objects as go\n",
    "import plotly.io as pio\n",
    "from plotly.subplots import make_subplots\n",
    "import plotly.figure_factory as ff\n",
    "\n",
    "#import re\n",
    "# import dash\n",
    "# import dash_core_components as dcc\n",
    "# import dash_html_components as html\n",
    "\n",
    "import seaborn as sns\n",
    "import matplotlib.pyplot as plt\n",
    "sns.set_style(\"white\")\n",
    "%matplotlib inline"
   ]
  },
  {
   "cell_type": "code",
   "execution_count": 2,
   "metadata": {},
   "outputs": [],
   "source": [
    "donations=pd.read_pickle('donations_cohort_with_cycle.pkl')"
   ]
  },
  {
   "cell_type": "code",
   "execution_count": 3,
   "metadata": {
    "scrolled": true
   },
   "outputs": [
    {
     "name": "stdout",
     "output_type": "stream",
     "text": [
      "id\n",
      "first_gift_year\n",
      "lapsed_count\n",
      "recovered_count\n",
      "max_consec_giving_years\n",
      "total_giving_years\n",
      "count_2013\n",
      "count_2014\n",
      "count_2015\n",
      "count_2016\n",
      "count_2017\n",
      "count_yr0\n",
      "count_yr1\n",
      "count_yr2\n",
      "count_yr3\n",
      "count_yr4\n",
      "initial\n",
      "first_gift\n",
      "second_year\n",
      "second_with_gap\n",
      "multi_year\n",
      "key_multi_year\n",
      "recovered_multi_year\n",
      "inconsistent_multi_year \n",
      "recovered_key_multi_year\n",
      "lapsed_after_first\n",
      "lapsed_after_first_long\n",
      "lapsed_after_second\n",
      "lapsed_multi_year\n",
      "lapsed_long_multi_year\n",
      "lapsed_key_multi_year\n",
      "lapsed_long\n",
      "cohort_0_first_gift\n",
      "cohort_1_lapsed_after_first\n",
      "cohort_1_second_year\n",
      "cohort_2_lapsed_after_first_long\n",
      "cohort_2_lapsed_after_second\n",
      "cohort_2_multi_year\n",
      "cohort_2_second_with_gap\n",
      "cohort_3_first_gift\n",
      "cohort_3_inconsistent_multi_year\n",
      "cohort_3_key_multi_year\n",
      "cohort_3_lapsed_after_second\n",
      "cohort_3_lapsed_long\n",
      "cohort_3_lapsed_multi_year\n",
      "cohort_4_first_gift\n",
      "cohort_4_inconsistent_multi_year\n",
      "cohort_4_key_multi_year\n",
      "cohort_4_lapsed_after_first\n",
      "cohort_4_lapsed_key_multi_year\n",
      "cohort_4_lapsed_long\n",
      "cohort_4_lapsed_long_multi_year\n",
      "cohort_4_lapsed_multi_year\n",
      "cohort_4_multi_year\n",
      "cohort_4_recovered_multi_year\n",
      "cohort_4_second_year\n",
      "cohort_5_first_gift\n",
      "cohort_5_inconsistent_multi_year\n",
      "cohort_5_key_multi_year\n",
      "cohort_5_lapsed_after_first\n",
      "cohort_5_lapsed_after_first_long\n",
      "cohort_5_lapsed_after_second\n",
      "cohort_5_lapsed_key_multi_year\n",
      "cohort_5_lapsed_long\n",
      "cohort_5_lapsed_long_key_multi_year\n",
      "cohort_5_lapsed_long_multi_year\n",
      "cohort_5_lapsed_multi_year\n",
      "cohort_5_multi_year\n",
      "cohort_5_recovered_key_multi_year\n",
      "cohort_5_recovered_multi_year\n",
      "cohort_5_second_with_gap\n",
      "cohort_5_second_year\n",
      "cohort_6_first_gift\n",
      "cohort_6_key_multi_year\n",
      "cohort_6_lapsed_after_first\n",
      "cohort_6_lapsed_after_first_long\n",
      "cohort_6_lapsed_after_second\n",
      "cohort_6_lapsed_key_multi_year\n",
      "cohort_6_lapsed_long\n",
      "cohort_6_lapsed_long_key_multi_year\n",
      "cohort_6_lapsed_long_multi_year\n",
      "cohort_6_multi_year\n",
      "lapsed_amount\n",
      "recovered_amount\n",
      "amount_2013\n",
      "amount_2014\n",
      "amount_2015\n",
      "amount_2016\n",
      "amount_2017\n",
      "lapsed_amount_2013\n",
      "lapsed_amount_2014\n",
      "lapsed_amount_2015\n",
      "lapsed_amount_2016\n",
      "lapsed_amount_2017\n",
      "upgraded_amount_2013\n",
      "upgraded_amount_2014\n",
      "upgraded_amount_2015\n",
      "upgraded_amount_2016\n",
      "upgraded_amount_2017\n",
      "downgraded_amount_2013\n",
      "downgraded_amount_2014\n",
      "downgraded_amount_2015\n",
      "downgraded_amount_2016\n",
      "downgraded_amount_2017\n",
      "amount_yr0\n",
      "amount_yr1\n",
      "amount_yr2\n",
      "amount_yr3\n",
      "amount_yr4\n",
      "lapsed_amount_yr0\n",
      "lapsed_amount_yr1\n",
      "lapsed_amount_yr2\n",
      "lapsed_amount_yr3\n",
      "lapsed_amount_yr4\n",
      "upgraded_amount_yr0\n",
      "upgraded_amount_yr1\n",
      "upgraded_amount_yr2\n",
      "upgraded_amount_yr3\n",
      "upgraded_amount_yr4\n",
      "downgraded_amount_yr0\n",
      "downgraded_amount_yr1\n",
      "downgraded_amount_yr2\n",
      "downgraded_amount_yr3\n",
      "downgraded_amount_yr4\n",
      "amount_01_2013\n",
      "amount_02_2013\n",
      "amount_03_2013\n",
      "amount_04_2013\n",
      "amount_05_2013\n",
      "amount_06_2013\n",
      "amount_07_2013\n",
      "amount_08_2013\n",
      "amount_09_2013\n",
      "amount_10_2013\n",
      "amount_11_2013\n",
      "amount_12_2013\n",
      "amount_01_2014\n",
      "amount_02_2014\n",
      "amount_03_2014\n",
      "amount_04_2014\n",
      "amount_05_2014\n",
      "amount_06_2014\n",
      "amount_07_2014\n",
      "amount_08_2014\n",
      "amount_09_2014\n",
      "amount_10_2014\n",
      "amount_11_2014\n",
      "amount_12_2014\n",
      "amount_01_2015\n",
      "amount_02_2015\n",
      "amount_03_2015\n",
      "amount_04_2015\n",
      "amount_05_2015\n",
      "amount_06_2015\n",
      "amount_07_2015\n",
      "amount_08_2015\n",
      "amount_09_2015\n",
      "amount_10_2015\n",
      "amount_11_2015\n",
      "amount_12_2015\n",
      "amount_01_2016\n",
      "amount_02_2016\n",
      "amount_03_2016\n",
      "amount_04_2016\n",
      "amount_05_2016\n",
      "amount_06_2016\n",
      "amount_07_2016\n",
      "amount_08_2016\n",
      "amount_09_2016\n",
      "amount_10_2016\n",
      "amount_11_2016\n",
      "amount_12_2016\n",
      "amount_01_2017\n",
      "amount_02_2017\n",
      "amount_03_2017\n",
      "amount_04_2017\n",
      "amount_05_2017\n",
      "amount_06_2017\n",
      "amount_07_2017\n",
      "amount_08_2017\n",
      "amount_09_2017\n",
      "amount_10_2017\n",
      "amount_11_2017\n",
      "amount_12_2017\n",
      "amount_total\n",
      "count_total\n",
      "cohort_gift_pattern\n",
      "cohort_yr0_TF\n",
      "cohort_yr1_TF\n",
      "cohort_yr2_TF\n",
      "cohort_yr3_TF\n",
      "cohort_yr4_TF\n",
      "first_gift_year_year\n",
      "cohort\n"
     ]
    }
   ],
   "source": [
    "for col in donations.columns:\n",
    "    print(col)"
   ]
  },
  {
   "cell_type": "code",
   "execution_count": 85,
   "metadata": {},
   "outputs": [],
   "source": [
    "#group by TF columns and sum amount donated by the 16 groups\n",
    "# create new column showing percentage of total amount\n",
    "sun_amount=donations.groupby(['cohort_yr0_TF', 'cohort_yr1_TF', 'cohort_yr2_TF', 'cohort_yr3_TF', 'cohort_yr4_TF']).sum()['amount_total'].reset_index()\n",
    "sun_amount['perc_amount_total']= sun_amount['amount_total']/sun_amount['amount_total'].sum()"
   ]
  },
  {
   "cell_type": "code",
   "execution_count": 86,
   "metadata": {},
   "outputs": [],
   "source": [
    "#group by TF columns and sum amount donated by the 16 groups\n",
    "sun_count=donations.groupby(['cohort_yr0_TF', 'cohort_yr1_TF', 'cohort_yr2_TF', 'cohort_yr3_TF', 'cohort_yr4_TF']).count()['id'].reset_index()\n",
    "sun_count['perc_cohort_donors']= sun_count['id']/sun_count['id'].sum()"
   ]
  },
  {
   "cell_type": "code",
   "execution_count": 222,
   "metadata": {},
   "outputs": [],
   "source": [
    "sun_count.to_csv('sun_count.csv')"
   ]
  },
  {
   "cell_type": "code",
   "execution_count": 139,
   "metadata": {},
   "outputs": [
    {
     "ename": "TypeError",
     "evalue": "treemap() got an unexpected keyword argument 'marker_colors'",
     "output_type": "error",
     "traceback": [
      "\u001b[1;31m---------------------------------------------------------------------------\u001b[0m",
      "\u001b[1;31mTypeError\u001b[0m                                 Traceback (most recent call last)",
      "\u001b[1;32m<ipython-input-139-f0dda34d563d>\u001b[0m in \u001b[0;36m<module>\u001b[1;34m\u001b[0m\n\u001b[0;32m      1\u001b[0m fig = px.treemap(sun_count, path=['yr0', 'yr1', 'yr2', 'yr3', 'yr4'], values='perc_cohort_donors',\n\u001b[1;32m----> 2\u001b[1;33m                 marker_colors = [\"pink\", \"royalblue\", \"lightgray\", \"purple\", \"cyan\", \"lightgray\", \"lightblue\"])\n\u001b[0m\u001b[0;32m      3\u001b[0m \u001b[0mfig\u001b[0m\u001b[1;33m.\u001b[0m\u001b[0mshow\u001b[0m\u001b[1;33m(\u001b[0m\u001b[1;33m)\u001b[0m\u001b[1;33m\u001b[0m\u001b[1;33m\u001b[0m\u001b[0m\n",
      "\u001b[1;31mTypeError\u001b[0m: treemap() got an unexpected keyword argument 'marker_colors'"
     ]
    }
   ],
   "source": [
    "fig = px.treemap(sun_count, path=['yr0', 'yr1', 'yr2', 'yr3', 'yr4'], values='perc_cohort_donors',\n",
    "                marker_colors = [\"pink\", \"royalblue\", \"lightgray\", \"purple\", \"cyan\", \"lightgray\", \"lightblue\"])\n",
    "fig.show()"
   ]
  },
  {
   "cell_type": "code",
   "execution_count": 111,
   "metadata": {},
   "outputs": [
    {
     "data": {
      "application/vnd.plotly.v1+json": {
       "config": {
        "plotlyServerURL": "https://plot.ly"
       },
       "data": [
        {
         "branchvalues": "total",
         "customdata": [
          [
           "TFFF"
          ],
          [
           "TFFF"
          ],
          [
           "TFFT"
          ],
          [
           "TFFT"
          ],
          [
           "TFTF"
          ],
          [
           "TFTF"
          ],
          [
           "TFTT"
          ],
          [
           "TFTT"
          ],
          [
           "TTFF"
          ],
          [
           "TTFF"
          ],
          [
           "TTFT"
          ],
          [
           "TTFT"
          ],
          [
           "TTTF"
          ],
          [
           "TTTF"
          ],
          [
           "TTTT"
          ],
          [
           "TTTT"
          ],
          [
           "TFFF"
          ],
          [
           "TFFF"
          ],
          [
           "TFFT"
          ],
          [
           "TFFT"
          ],
          [
           "TFTF"
          ],
          [
           "TFTF"
          ],
          [
           "TFTT"
          ],
          [
           "TFTT"
          ],
          [
           "TTFF"
          ],
          [
           "TTFF"
          ],
          [
           "TTFT"
          ],
          [
           "TTFT"
          ],
          [
           "TTTF"
          ],
          [
           "TTTF"
          ],
          [
           "TTTT"
          ],
          [
           "TTTT"
          ],
          [
           "TFFF"
          ],
          [
           "TFFF"
          ],
          [
           "TFFT"
          ],
          [
           "TFFT"
          ],
          [
           "TFTF"
          ],
          [
           "TFTF"
          ],
          [
           "TFTT"
          ],
          [
           "TFTT"
          ],
          [
           "TTFF"
          ],
          [
           "TTFF"
          ],
          [
           "TTFT"
          ],
          [
           "TTFT"
          ],
          [
           "TTTF"
          ],
          [
           "TTTF"
          ],
          [
           "TTTT"
          ],
          [
           "TTTT"
          ],
          [
           "TFFF"
          ],
          [
           "TFFF"
          ],
          [
           "TFFT"
          ],
          [
           "TFFT"
          ],
          [
           "TFTF"
          ],
          [
           "TFTF"
          ],
          [
           "TFTT"
          ],
          [
           "TFTT"
          ],
          [
           "TTFF"
          ],
          [
           "TTFF"
          ],
          [
           "TTFT"
          ],
          [
           "TTFT"
          ],
          [
           "TTTF"
          ],
          [
           "TTTF"
          ],
          [
           "TTTT"
          ],
          [
           "TTTT"
          ],
          [
           "TFFF"
          ],
          [
           "TFFF"
          ],
          [
           "TFFT"
          ],
          [
           "TFFT"
          ],
          [
           "TFTF"
          ],
          [
           "TFTF"
          ],
          [
           "TFTT"
          ],
          [
           "TFTT"
          ],
          [
           "TTFF"
          ],
          [
           "TTFF"
          ],
          [
           "TTFT"
          ],
          [
           "TTFT"
          ],
          [
           "TTTF"
          ],
          [
           "TTTF"
          ],
          [
           "TTTT"
          ],
          [
           "TTTT"
          ]
         ],
         "domain": {
          "x": [
           0,
           1
          ],
          "y": [
           0,
           1
          ]
         },
         "hovertemplate": "labels=%{label}<br>perc_amount_total=%{value}<br>parent=%{parent}<br>id=%{id}<br>cohort_yr3_TF=%{customdata[0]}<extra></extra>",
         "ids": [
          "TFFFF/TFFF/TFF/TF/T",
          "TFFFT/TFFF/TFF/TF/T",
          "TFFTF/TFFT/TFF/TF/T",
          "TFFTT/TFFT/TFF/TF/T",
          "TFTFF/TFTF/TFT/TF/T",
          "TFTFT/TFTF/TFT/TF/T",
          "TFTTF/TFTT/TFT/TF/T",
          "TFTTT/TFTT/TFT/TF/T",
          "TTFFF/TTFF/TTF/TT/T",
          "TTFFT/TTFF/TTF/TT/T",
          "TTFTF/TTFT/TTF/TT/T",
          "TTFTT/TTFT/TTF/TT/T",
          "TTTFF/TTTF/TTT/TT/T",
          "TTTFT/TTTF/TTT/TT/T",
          "TTTTF/TTTT/TTT/TT/T",
          "TTTTT/TTTT/TTT/TT/T",
          "TFFFF/TFFF/TFF/TF",
          "TFFFT/TFFF/TFF/TF",
          "TFFTF/TFFT/TFF/TF",
          "TFFTT/TFFT/TFF/TF",
          "TFTFF/TFTF/TFT/TF",
          "TFTFT/TFTF/TFT/TF",
          "TFTTF/TFTT/TFT/TF",
          "TFTTT/TFTT/TFT/TF",
          "TTFFF/TTFF/TTF/TT",
          "TTFFT/TTFF/TTF/TT",
          "TTFTF/TTFT/TTF/TT",
          "TTFTT/TTFT/TTF/TT",
          "TTTFF/TTTF/TTT/TT",
          "TTTFT/TTTF/TTT/TT",
          "TTTTF/TTTT/TTT/TT",
          "TTTTT/TTTT/TTT/TT",
          "TFFFF/TFFF/TFF",
          "TFFFT/TFFF/TFF",
          "TFFTF/TFFT/TFF",
          "TFFTT/TFFT/TFF",
          "TFTFF/TFTF/TFT",
          "TFTFT/TFTF/TFT",
          "TFTTF/TFTT/TFT",
          "TFTTT/TFTT/TFT",
          "TTFFF/TTFF/TTF",
          "TTFFT/TTFF/TTF",
          "TTFTF/TTFT/TTF",
          "TTFTT/TTFT/TTF",
          "TTTFF/TTTF/TTT",
          "TTTFT/TTTF/TTT",
          "TTTTF/TTTT/TTT",
          "TTTTT/TTTT/TTT",
          "TFFFF/TFFF",
          "TFFFT/TFFF",
          "TFFTF/TFFT",
          "TFFTT/TFFT",
          "TFTFF/TFTF",
          "TFTFT/TFTF",
          "TFTTF/TFTT",
          "TFTTT/TFTT",
          "TTFFF/TTFF",
          "TTFFT/TTFF",
          "TTFTF/TTFT",
          "TTFTT/TTFT",
          "TTTFF/TTTF",
          "TTTFT/TTTF",
          "TTTTF/TTTT",
          "TTTTT/TTTT",
          "TFFFF",
          "TFFFT",
          "TFFTF",
          "TFFTT",
          "TFTFF",
          "TFTFT",
          "TFTTF",
          "TFTTT",
          "TTFFF",
          "TTFFT",
          "TTFTF",
          "TTFTT",
          "TTTFF",
          "TTTFT",
          "TTTTF",
          "TTTTT"
         ],
         "labels": [
          "T",
          "T",
          "T",
          "T",
          "T",
          "T",
          "T",
          "T",
          "T",
          "T",
          "T",
          "T",
          "T",
          "T",
          "T",
          "T",
          "TF",
          "TF",
          "TF",
          "TF",
          "TF",
          "TF",
          "TF",
          "TF",
          "TT",
          "TT",
          "TT",
          "TT",
          "TT",
          "TT",
          "TT",
          "TT",
          "TFF",
          "TFF",
          "TFF",
          "TFF",
          "TFT",
          "TFT",
          "TFT",
          "TFT",
          "TTF",
          "TTF",
          "TTF",
          "TTF",
          "TTT",
          "TTT",
          "TTT",
          "TTT",
          "TFFF",
          "TFFF",
          "TFFT",
          "TFFT",
          "TFTF",
          "TFTF",
          "TFTT",
          "TFTT",
          "TTFF",
          "TTFF",
          "TTFT",
          "TTFT",
          "TTTF",
          "TTTF",
          "TTTT",
          "TTTT",
          "TFFFF",
          "TFFFT",
          "TFFTF",
          "TFFTT",
          "TFTFF",
          "TFTFT",
          "TFTTF",
          "TFTTT",
          "TTFFF",
          "TTFFT",
          "TTFTF",
          "TTFTT",
          "TTTFF",
          "TTTFT",
          "TTTTF",
          "TTTTT"
         ],
         "marker": {
          "colors": [
           "#636efa",
           "#636efa",
           "#EF553B",
           "#EF553B",
           "#00cc96",
           "#00cc96",
           "#ab63fa",
           "#ab63fa",
           "#FFA15A",
           "#FFA15A",
           "#19d3f3",
           "#19d3f3",
           "#FF6692",
           "#FF6692",
           "#B6E880",
           "#B6E880",
           "#636efa",
           "#636efa",
           "#EF553B",
           "#EF553B",
           "#00cc96",
           "#00cc96",
           "#ab63fa",
           "#ab63fa",
           "#FFA15A",
           "#FFA15A",
           "#19d3f3",
           "#19d3f3",
           "#FF6692",
           "#FF6692",
           "#B6E880",
           "#B6E880",
           "#636efa",
           "#636efa",
           "#EF553B",
           "#EF553B",
           "#00cc96",
           "#00cc96",
           "#ab63fa",
           "#ab63fa",
           "#FFA15A",
           "#FFA15A",
           "#19d3f3",
           "#19d3f3",
           "#FF6692",
           "#FF6692",
           "#B6E880",
           "#B6E880",
           "#636efa",
           "#636efa",
           "#EF553B",
           "#EF553B",
           "#00cc96",
           "#00cc96",
           "#ab63fa",
           "#ab63fa",
           "#FFA15A",
           "#FFA15A",
           "#19d3f3",
           "#19d3f3",
           "#FF6692",
           "#FF6692",
           "#B6E880",
           "#B6E880",
           "#636efa",
           "#636efa",
           "#EF553B",
           "#EF553B",
           "#00cc96",
           "#00cc96",
           "#ab63fa",
           "#ab63fa",
           "#FFA15A",
           "#FFA15A",
           "#19d3f3",
           "#19d3f3",
           "#FF6692",
           "#FF6692",
           "#B6E880",
           "#B6E880"
          ]
         },
         "name": "",
         "parents": [
          "TFFFF/TFFF/TFF/TF",
          "TFFFT/TFFF/TFF/TF",
          "TFFTF/TFFT/TFF/TF",
          "TFFTT/TFFT/TFF/TF",
          "TFTFF/TFTF/TFT/TF",
          "TFTFT/TFTF/TFT/TF",
          "TFTTF/TFTT/TFT/TF",
          "TFTTT/TFTT/TFT/TF",
          "TTFFF/TTFF/TTF/TT",
          "TTFFT/TTFF/TTF/TT",
          "TTFTF/TTFT/TTF/TT",
          "TTFTT/TTFT/TTF/TT",
          "TTTFF/TTTF/TTT/TT",
          "TTTFT/TTTF/TTT/TT",
          "TTTTF/TTTT/TTT/TT",
          "TTTTT/TTTT/TTT/TT",
          "TFFFF/TFFF/TFF",
          "TFFFT/TFFF/TFF",
          "TFFTF/TFFT/TFF",
          "TFFTT/TFFT/TFF",
          "TFTFF/TFTF/TFT",
          "TFTFT/TFTF/TFT",
          "TFTTF/TFTT/TFT",
          "TFTTT/TFTT/TFT",
          "TTFFF/TTFF/TTF",
          "TTFFT/TTFF/TTF",
          "TTFTF/TTFT/TTF",
          "TTFTT/TTFT/TTF",
          "TTTFF/TTTF/TTT",
          "TTTFT/TTTF/TTT",
          "TTTTF/TTTT/TTT",
          "TTTTT/TTTT/TTT",
          "TFFFF/TFFF",
          "TFFFT/TFFF",
          "TFFTF/TFFT",
          "TFFTT/TFFT",
          "TFTFF/TFTF",
          "TFTFT/TFTF",
          "TFTTF/TFTT",
          "TFTTT/TFTT",
          "TTFFF/TTFF",
          "TTFFT/TTFF",
          "TTFTF/TTFT",
          "TTFTT/TTFT",
          "TTTFF/TTTF",
          "TTTFT/TTTF",
          "TTTTF/TTTT",
          "TTTTT/TTTT",
          "TFFFF",
          "TFFFT",
          "TFFTF",
          "TFFTT",
          "TFTFF",
          "TFTFT",
          "TFTTF",
          "TFTTT",
          "TTFFF",
          "TTFFT",
          "TTFTF",
          "TTFTT",
          "TTTFF",
          "TTTFT",
          "TTTTF",
          "TTTTT",
          "",
          "",
          "",
          "",
          "",
          "",
          "",
          "",
          "",
          "",
          "",
          "",
          "",
          "",
          "",
          ""
         ],
         "type": "sunburst",
         "values": [
          0.4299102971048614,
          0.004218727057337238,
          0.010825780713812294,
          0.005218884687973199,
          0.032461575177133495,
          0.002482998915653277,
          0.010759748008299269,
          0.009009465223756312,
          0.1420335086332784,
          0.004128661453742171,
          0.011614345367872389,
          0.008111360778190555,
          0.08320969081499456,
          0.00915612924784916,
          0.06513058446263179,
          0.1717282423526145,
          0.4299102971048614,
          0.004218727057337238,
          0.010825780713812294,
          0.005218884687973199,
          0.032461575177133495,
          0.002482998915653277,
          0.010759748008299269,
          0.009009465223756312,
          0.1420335086332784,
          0.004128661453742171,
          0.011614345367872389,
          0.008111360778190555,
          0.08320969081499456,
          0.00915612924784916,
          0.06513058446263179,
          0.1717282423526145,
          0.4299102971048614,
          0.004218727057337238,
          0.010825780713812294,
          0.005218884687973199,
          0.032461575177133495,
          0.002482998915653277,
          0.010759748008299269,
          0.009009465223756312,
          0.1420335086332784,
          0.004128661453742171,
          0.011614345367872389,
          0.008111360778190555,
          0.08320969081499456,
          0.00915612924784916,
          0.06513058446263179,
          0.1717282423526145,
          0.4299102971048614,
          0.004218727057337238,
          0.010825780713812294,
          0.005218884687973199,
          0.032461575177133495,
          0.002482998915653277,
          0.010759748008299269,
          0.009009465223756312,
          0.1420335086332784,
          0.004128661453742171,
          0.011614345367872389,
          0.008111360778190555,
          0.08320969081499456,
          0.00915612924784916,
          0.06513058446263179,
          0.1717282423526145,
          0.4299102971048614,
          0.004218727057337238,
          0.010825780713812294,
          0.005218884687973199,
          0.032461575177133495,
          0.002482998915653277,
          0.010759748008299269,
          0.009009465223756312,
          0.1420335086332784,
          0.004128661453742171,
          0.011614345367872389,
          0.008111360778190555,
          0.08320969081499456,
          0.00915612924784916,
          0.06513058446263179,
          0.1717282423526145
         ]
        }
       ],
       "layout": {
        "legend": {
         "tracegroupgap": 0
        },
        "margin": {
         "t": 60
        },
        "template": {
         "data": {
          "bar": [
           {
            "error_x": {
             "color": "#2a3f5f"
            },
            "error_y": {
             "color": "#2a3f5f"
            },
            "marker": {
             "line": {
              "color": "#E5ECF6",
              "width": 0.5
             }
            },
            "type": "bar"
           }
          ],
          "barpolar": [
           {
            "marker": {
             "line": {
              "color": "#E5ECF6",
              "width": 0.5
             }
            },
            "type": "barpolar"
           }
          ],
          "carpet": [
           {
            "aaxis": {
             "endlinecolor": "#2a3f5f",
             "gridcolor": "white",
             "linecolor": "white",
             "minorgridcolor": "white",
             "startlinecolor": "#2a3f5f"
            },
            "baxis": {
             "endlinecolor": "#2a3f5f",
             "gridcolor": "white",
             "linecolor": "white",
             "minorgridcolor": "white",
             "startlinecolor": "#2a3f5f"
            },
            "type": "carpet"
           }
          ],
          "choropleth": [
           {
            "colorbar": {
             "outlinewidth": 0,
             "ticks": ""
            },
            "type": "choropleth"
           }
          ],
          "contour": [
           {
            "colorbar": {
             "outlinewidth": 0,
             "ticks": ""
            },
            "colorscale": [
             [
              0,
              "#0d0887"
             ],
             [
              0.1111111111111111,
              "#46039f"
             ],
             [
              0.2222222222222222,
              "#7201a8"
             ],
             [
              0.3333333333333333,
              "#9c179e"
             ],
             [
              0.4444444444444444,
              "#bd3786"
             ],
             [
              0.5555555555555556,
              "#d8576b"
             ],
             [
              0.6666666666666666,
              "#ed7953"
             ],
             [
              0.7777777777777778,
              "#fb9f3a"
             ],
             [
              0.8888888888888888,
              "#fdca26"
             ],
             [
              1,
              "#f0f921"
             ]
            ],
            "type": "contour"
           }
          ],
          "contourcarpet": [
           {
            "colorbar": {
             "outlinewidth": 0,
             "ticks": ""
            },
            "type": "contourcarpet"
           }
          ],
          "heatmap": [
           {
            "colorbar": {
             "outlinewidth": 0,
             "ticks": ""
            },
            "colorscale": [
             [
              0,
              "#0d0887"
             ],
             [
              0.1111111111111111,
              "#46039f"
             ],
             [
              0.2222222222222222,
              "#7201a8"
             ],
             [
              0.3333333333333333,
              "#9c179e"
             ],
             [
              0.4444444444444444,
              "#bd3786"
             ],
             [
              0.5555555555555556,
              "#d8576b"
             ],
             [
              0.6666666666666666,
              "#ed7953"
             ],
             [
              0.7777777777777778,
              "#fb9f3a"
             ],
             [
              0.8888888888888888,
              "#fdca26"
             ],
             [
              1,
              "#f0f921"
             ]
            ],
            "type": "heatmap"
           }
          ],
          "heatmapgl": [
           {
            "colorbar": {
             "outlinewidth": 0,
             "ticks": ""
            },
            "colorscale": [
             [
              0,
              "#0d0887"
             ],
             [
              0.1111111111111111,
              "#46039f"
             ],
             [
              0.2222222222222222,
              "#7201a8"
             ],
             [
              0.3333333333333333,
              "#9c179e"
             ],
             [
              0.4444444444444444,
              "#bd3786"
             ],
             [
              0.5555555555555556,
              "#d8576b"
             ],
             [
              0.6666666666666666,
              "#ed7953"
             ],
             [
              0.7777777777777778,
              "#fb9f3a"
             ],
             [
              0.8888888888888888,
              "#fdca26"
             ],
             [
              1,
              "#f0f921"
             ]
            ],
            "type": "heatmapgl"
           }
          ],
          "histogram": [
           {
            "marker": {
             "colorbar": {
              "outlinewidth": 0,
              "ticks": ""
             }
            },
            "type": "histogram"
           }
          ],
          "histogram2d": [
           {
            "colorbar": {
             "outlinewidth": 0,
             "ticks": ""
            },
            "colorscale": [
             [
              0,
              "#0d0887"
             ],
             [
              0.1111111111111111,
              "#46039f"
             ],
             [
              0.2222222222222222,
              "#7201a8"
             ],
             [
              0.3333333333333333,
              "#9c179e"
             ],
             [
              0.4444444444444444,
              "#bd3786"
             ],
             [
              0.5555555555555556,
              "#d8576b"
             ],
             [
              0.6666666666666666,
              "#ed7953"
             ],
             [
              0.7777777777777778,
              "#fb9f3a"
             ],
             [
              0.8888888888888888,
              "#fdca26"
             ],
             [
              1,
              "#f0f921"
             ]
            ],
            "type": "histogram2d"
           }
          ],
          "histogram2dcontour": [
           {
            "colorbar": {
             "outlinewidth": 0,
             "ticks": ""
            },
            "colorscale": [
             [
              0,
              "#0d0887"
             ],
             [
              0.1111111111111111,
              "#46039f"
             ],
             [
              0.2222222222222222,
              "#7201a8"
             ],
             [
              0.3333333333333333,
              "#9c179e"
             ],
             [
              0.4444444444444444,
              "#bd3786"
             ],
             [
              0.5555555555555556,
              "#d8576b"
             ],
             [
              0.6666666666666666,
              "#ed7953"
             ],
             [
              0.7777777777777778,
              "#fb9f3a"
             ],
             [
              0.8888888888888888,
              "#fdca26"
             ],
             [
              1,
              "#f0f921"
             ]
            ],
            "type": "histogram2dcontour"
           }
          ],
          "mesh3d": [
           {
            "colorbar": {
             "outlinewidth": 0,
             "ticks": ""
            },
            "type": "mesh3d"
           }
          ],
          "parcoords": [
           {
            "line": {
             "colorbar": {
              "outlinewidth": 0,
              "ticks": ""
             }
            },
            "type": "parcoords"
           }
          ],
          "pie": [
           {
            "automargin": true,
            "type": "pie"
           }
          ],
          "scatter": [
           {
            "marker": {
             "colorbar": {
              "outlinewidth": 0,
              "ticks": ""
             }
            },
            "type": "scatter"
           }
          ],
          "scatter3d": [
           {
            "line": {
             "colorbar": {
              "outlinewidth": 0,
              "ticks": ""
             }
            },
            "marker": {
             "colorbar": {
              "outlinewidth": 0,
              "ticks": ""
             }
            },
            "type": "scatter3d"
           }
          ],
          "scattercarpet": [
           {
            "marker": {
             "colorbar": {
              "outlinewidth": 0,
              "ticks": ""
             }
            },
            "type": "scattercarpet"
           }
          ],
          "scattergeo": [
           {
            "marker": {
             "colorbar": {
              "outlinewidth": 0,
              "ticks": ""
             }
            },
            "type": "scattergeo"
           }
          ],
          "scattergl": [
           {
            "marker": {
             "colorbar": {
              "outlinewidth": 0,
              "ticks": ""
             }
            },
            "type": "scattergl"
           }
          ],
          "scattermapbox": [
           {
            "marker": {
             "colorbar": {
              "outlinewidth": 0,
              "ticks": ""
             }
            },
            "type": "scattermapbox"
           }
          ],
          "scatterpolar": [
           {
            "marker": {
             "colorbar": {
              "outlinewidth": 0,
              "ticks": ""
             }
            },
            "type": "scatterpolar"
           }
          ],
          "scatterpolargl": [
           {
            "marker": {
             "colorbar": {
              "outlinewidth": 0,
              "ticks": ""
             }
            },
            "type": "scatterpolargl"
           }
          ],
          "scatterternary": [
           {
            "marker": {
             "colorbar": {
              "outlinewidth": 0,
              "ticks": ""
             }
            },
            "type": "scatterternary"
           }
          ],
          "surface": [
           {
            "colorbar": {
             "outlinewidth": 0,
             "ticks": ""
            },
            "colorscale": [
             [
              0,
              "#0d0887"
             ],
             [
              0.1111111111111111,
              "#46039f"
             ],
             [
              0.2222222222222222,
              "#7201a8"
             ],
             [
              0.3333333333333333,
              "#9c179e"
             ],
             [
              0.4444444444444444,
              "#bd3786"
             ],
             [
              0.5555555555555556,
              "#d8576b"
             ],
             [
              0.6666666666666666,
              "#ed7953"
             ],
             [
              0.7777777777777778,
              "#fb9f3a"
             ],
             [
              0.8888888888888888,
              "#fdca26"
             ],
             [
              1,
              "#f0f921"
             ]
            ],
            "type": "surface"
           }
          ],
          "table": [
           {
            "cells": {
             "fill": {
              "color": "#EBF0F8"
             },
             "line": {
              "color": "white"
             }
            },
            "header": {
             "fill": {
              "color": "#C8D4E3"
             },
             "line": {
              "color": "white"
             }
            },
            "type": "table"
           }
          ]
         },
         "layout": {
          "annotationdefaults": {
           "arrowcolor": "#2a3f5f",
           "arrowhead": 0,
           "arrowwidth": 1
          },
          "coloraxis": {
           "colorbar": {
            "outlinewidth": 0,
            "ticks": ""
           }
          },
          "colorscale": {
           "diverging": [
            [
             0,
             "#8e0152"
            ],
            [
             0.1,
             "#c51b7d"
            ],
            [
             0.2,
             "#de77ae"
            ],
            [
             0.3,
             "#f1b6da"
            ],
            [
             0.4,
             "#fde0ef"
            ],
            [
             0.5,
             "#f7f7f7"
            ],
            [
             0.6,
             "#e6f5d0"
            ],
            [
             0.7,
             "#b8e186"
            ],
            [
             0.8,
             "#7fbc41"
            ],
            [
             0.9,
             "#4d9221"
            ],
            [
             1,
             "#276419"
            ]
           ],
           "sequential": [
            [
             0,
             "#0d0887"
            ],
            [
             0.1111111111111111,
             "#46039f"
            ],
            [
             0.2222222222222222,
             "#7201a8"
            ],
            [
             0.3333333333333333,
             "#9c179e"
            ],
            [
             0.4444444444444444,
             "#bd3786"
            ],
            [
             0.5555555555555556,
             "#d8576b"
            ],
            [
             0.6666666666666666,
             "#ed7953"
            ],
            [
             0.7777777777777778,
             "#fb9f3a"
            ],
            [
             0.8888888888888888,
             "#fdca26"
            ],
            [
             1,
             "#f0f921"
            ]
           ],
           "sequentialminus": [
            [
             0,
             "#0d0887"
            ],
            [
             0.1111111111111111,
             "#46039f"
            ],
            [
             0.2222222222222222,
             "#7201a8"
            ],
            [
             0.3333333333333333,
             "#9c179e"
            ],
            [
             0.4444444444444444,
             "#bd3786"
            ],
            [
             0.5555555555555556,
             "#d8576b"
            ],
            [
             0.6666666666666666,
             "#ed7953"
            ],
            [
             0.7777777777777778,
             "#fb9f3a"
            ],
            [
             0.8888888888888888,
             "#fdca26"
            ],
            [
             1,
             "#f0f921"
            ]
           ]
          },
          "colorway": [
           "#636efa",
           "#EF553B",
           "#00cc96",
           "#ab63fa",
           "#FFA15A",
           "#19d3f3",
           "#FF6692",
           "#B6E880",
           "#FF97FF",
           "#FECB52"
          ],
          "font": {
           "color": "#2a3f5f"
          },
          "geo": {
           "bgcolor": "white",
           "lakecolor": "white",
           "landcolor": "#E5ECF6",
           "showlakes": true,
           "showland": true,
           "subunitcolor": "white"
          },
          "hoverlabel": {
           "align": "left"
          },
          "hovermode": "closest",
          "mapbox": {
           "style": "light"
          },
          "paper_bgcolor": "white",
          "plot_bgcolor": "#E5ECF6",
          "polar": {
           "angularaxis": {
            "gridcolor": "white",
            "linecolor": "white",
            "ticks": ""
           },
           "bgcolor": "#E5ECF6",
           "radialaxis": {
            "gridcolor": "white",
            "linecolor": "white",
            "ticks": ""
           }
          },
          "scene": {
           "xaxis": {
            "backgroundcolor": "#E5ECF6",
            "gridcolor": "white",
            "gridwidth": 2,
            "linecolor": "white",
            "showbackground": true,
            "ticks": "",
            "zerolinecolor": "white"
           },
           "yaxis": {
            "backgroundcolor": "#E5ECF6",
            "gridcolor": "white",
            "gridwidth": 2,
            "linecolor": "white",
            "showbackground": true,
            "ticks": "",
            "zerolinecolor": "white"
           },
           "zaxis": {
            "backgroundcolor": "#E5ECF6",
            "gridcolor": "white",
            "gridwidth": 2,
            "linecolor": "white",
            "showbackground": true,
            "ticks": "",
            "zerolinecolor": "white"
           }
          },
          "shapedefaults": {
           "line": {
            "color": "#2a3f5f"
           }
          },
          "ternary": {
           "aaxis": {
            "gridcolor": "white",
            "linecolor": "white",
            "ticks": ""
           },
           "baxis": {
            "gridcolor": "white",
            "linecolor": "white",
            "ticks": ""
           },
           "bgcolor": "#E5ECF6",
           "caxis": {
            "gridcolor": "white",
            "linecolor": "white",
            "ticks": ""
           }
          },
          "title": {
           "x": 0.05
          },
          "xaxis": {
           "automargin": true,
           "gridcolor": "white",
           "linecolor": "white",
           "ticks": "",
           "title": {
            "standoff": 15
           },
           "zerolinecolor": "white",
           "zerolinewidth": 2
          },
          "yaxis": {
           "automargin": true,
           "gridcolor": "white",
           "linecolor": "white",
           "ticks": "",
           "title": {
            "standoff": 15
           },
           "zerolinecolor": "white",
           "zerolinewidth": 2
          }
         }
        }
       }
      },
      "text/html": [
       "<div>\n",
       "        \n",
       "        \n",
       "            <div id=\"64859ad4-07ce-48e3-8395-c18947b55b50\" class=\"plotly-graph-div\" style=\"height:525px; width:100%;\"></div>\n",
       "            <script type=\"text/javascript\">\n",
       "                require([\"plotly\"], function(Plotly) {\n",
       "                    window.PLOTLYENV=window.PLOTLYENV || {};\n",
       "                    \n",
       "                if (document.getElementById(\"64859ad4-07ce-48e3-8395-c18947b55b50\")) {\n",
       "                    Plotly.newPlot(\n",
       "                        '64859ad4-07ce-48e3-8395-c18947b55b50',\n",
       "                        [{\"branchvalues\": \"total\", \"customdata\": [[\"TFFF\"], [\"TFFF\"], [\"TFFT\"], [\"TFFT\"], [\"TFTF\"], [\"TFTF\"], [\"TFTT\"], [\"TFTT\"], [\"TTFF\"], [\"TTFF\"], [\"TTFT\"], [\"TTFT\"], [\"TTTF\"], [\"TTTF\"], [\"TTTT\"], [\"TTTT\"], [\"TFFF\"], [\"TFFF\"], [\"TFFT\"], [\"TFFT\"], [\"TFTF\"], [\"TFTF\"], [\"TFTT\"], [\"TFTT\"], [\"TTFF\"], [\"TTFF\"], [\"TTFT\"], [\"TTFT\"], [\"TTTF\"], [\"TTTF\"], [\"TTTT\"], [\"TTTT\"], [\"TFFF\"], [\"TFFF\"], [\"TFFT\"], [\"TFFT\"], [\"TFTF\"], [\"TFTF\"], [\"TFTT\"], [\"TFTT\"], [\"TTFF\"], [\"TTFF\"], [\"TTFT\"], [\"TTFT\"], [\"TTTF\"], [\"TTTF\"], [\"TTTT\"], [\"TTTT\"], [\"TFFF\"], [\"TFFF\"], [\"TFFT\"], [\"TFFT\"], [\"TFTF\"], [\"TFTF\"], [\"TFTT\"], [\"TFTT\"], [\"TTFF\"], [\"TTFF\"], [\"TTFT\"], [\"TTFT\"], [\"TTTF\"], [\"TTTF\"], [\"TTTT\"], [\"TTTT\"], [\"TFFF\"], [\"TFFF\"], [\"TFFT\"], [\"TFFT\"], [\"TFTF\"], [\"TFTF\"], [\"TFTT\"], [\"TFTT\"], [\"TTFF\"], [\"TTFF\"], [\"TTFT\"], [\"TTFT\"], [\"TTTF\"], [\"TTTF\"], [\"TTTT\"], [\"TTTT\"]], \"domain\": {\"x\": [0.0, 1.0], \"y\": [0.0, 1.0]}, \"hovertemplate\": \"labels=%{label}<br>perc_amount_total=%{value}<br>parent=%{parent}<br>id=%{id}<br>cohort_yr3_TF=%{customdata[0]}<extra></extra>\", \"ids\": [\"TFFFF/TFFF/TFF/TF/T\", \"TFFFT/TFFF/TFF/TF/T\", \"TFFTF/TFFT/TFF/TF/T\", \"TFFTT/TFFT/TFF/TF/T\", \"TFTFF/TFTF/TFT/TF/T\", \"TFTFT/TFTF/TFT/TF/T\", \"TFTTF/TFTT/TFT/TF/T\", \"TFTTT/TFTT/TFT/TF/T\", \"TTFFF/TTFF/TTF/TT/T\", \"TTFFT/TTFF/TTF/TT/T\", \"TTFTF/TTFT/TTF/TT/T\", \"TTFTT/TTFT/TTF/TT/T\", \"TTTFF/TTTF/TTT/TT/T\", \"TTTFT/TTTF/TTT/TT/T\", \"TTTTF/TTTT/TTT/TT/T\", \"TTTTT/TTTT/TTT/TT/T\", \"TFFFF/TFFF/TFF/TF\", \"TFFFT/TFFF/TFF/TF\", \"TFFTF/TFFT/TFF/TF\", \"TFFTT/TFFT/TFF/TF\", \"TFTFF/TFTF/TFT/TF\", \"TFTFT/TFTF/TFT/TF\", \"TFTTF/TFTT/TFT/TF\", \"TFTTT/TFTT/TFT/TF\", \"TTFFF/TTFF/TTF/TT\", \"TTFFT/TTFF/TTF/TT\", \"TTFTF/TTFT/TTF/TT\", \"TTFTT/TTFT/TTF/TT\", \"TTTFF/TTTF/TTT/TT\", \"TTTFT/TTTF/TTT/TT\", \"TTTTF/TTTT/TTT/TT\", \"TTTTT/TTTT/TTT/TT\", \"TFFFF/TFFF/TFF\", \"TFFFT/TFFF/TFF\", \"TFFTF/TFFT/TFF\", \"TFFTT/TFFT/TFF\", \"TFTFF/TFTF/TFT\", \"TFTFT/TFTF/TFT\", \"TFTTF/TFTT/TFT\", \"TFTTT/TFTT/TFT\", \"TTFFF/TTFF/TTF\", \"TTFFT/TTFF/TTF\", \"TTFTF/TTFT/TTF\", \"TTFTT/TTFT/TTF\", \"TTTFF/TTTF/TTT\", \"TTTFT/TTTF/TTT\", \"TTTTF/TTTT/TTT\", \"TTTTT/TTTT/TTT\", \"TFFFF/TFFF\", \"TFFFT/TFFF\", \"TFFTF/TFFT\", \"TFFTT/TFFT\", \"TFTFF/TFTF\", \"TFTFT/TFTF\", \"TFTTF/TFTT\", \"TFTTT/TFTT\", \"TTFFF/TTFF\", \"TTFFT/TTFF\", \"TTFTF/TTFT\", \"TTFTT/TTFT\", \"TTTFF/TTTF\", \"TTTFT/TTTF\", \"TTTTF/TTTT\", \"TTTTT/TTTT\", \"TFFFF\", \"TFFFT\", \"TFFTF\", \"TFFTT\", \"TFTFF\", \"TFTFT\", \"TFTTF\", \"TFTTT\", \"TTFFF\", \"TTFFT\", \"TTFTF\", \"TTFTT\", \"TTTFF\", \"TTTFT\", \"TTTTF\", \"TTTTT\"], \"labels\": [\"T\", \"T\", \"T\", \"T\", \"T\", \"T\", \"T\", \"T\", \"T\", \"T\", \"T\", \"T\", \"T\", \"T\", \"T\", \"T\", \"TF\", \"TF\", \"TF\", \"TF\", \"TF\", \"TF\", \"TF\", \"TF\", \"TT\", \"TT\", \"TT\", \"TT\", \"TT\", \"TT\", \"TT\", \"TT\", \"TFF\", \"TFF\", \"TFF\", \"TFF\", \"TFT\", \"TFT\", \"TFT\", \"TFT\", \"TTF\", \"TTF\", \"TTF\", \"TTF\", \"TTT\", \"TTT\", \"TTT\", \"TTT\", \"TFFF\", \"TFFF\", \"TFFT\", \"TFFT\", \"TFTF\", \"TFTF\", \"TFTT\", \"TFTT\", \"TTFF\", \"TTFF\", \"TTFT\", \"TTFT\", \"TTTF\", \"TTTF\", \"TTTT\", \"TTTT\", \"TFFFF\", \"TFFFT\", \"TFFTF\", \"TFFTT\", \"TFTFF\", \"TFTFT\", \"TFTTF\", \"TFTTT\", \"TTFFF\", \"TTFFT\", \"TTFTF\", \"TTFTT\", \"TTTFF\", \"TTTFT\", \"TTTTF\", \"TTTTT\"], \"marker\": {\"colors\": [\"#636efa\", \"#636efa\", \"#EF553B\", \"#EF553B\", \"#00cc96\", \"#00cc96\", \"#ab63fa\", \"#ab63fa\", \"#FFA15A\", \"#FFA15A\", \"#19d3f3\", \"#19d3f3\", \"#FF6692\", \"#FF6692\", \"#B6E880\", \"#B6E880\", \"#636efa\", \"#636efa\", \"#EF553B\", \"#EF553B\", \"#00cc96\", \"#00cc96\", \"#ab63fa\", \"#ab63fa\", \"#FFA15A\", \"#FFA15A\", \"#19d3f3\", \"#19d3f3\", \"#FF6692\", \"#FF6692\", \"#B6E880\", \"#B6E880\", \"#636efa\", \"#636efa\", \"#EF553B\", \"#EF553B\", \"#00cc96\", \"#00cc96\", \"#ab63fa\", \"#ab63fa\", \"#FFA15A\", \"#FFA15A\", \"#19d3f3\", \"#19d3f3\", \"#FF6692\", \"#FF6692\", \"#B6E880\", \"#B6E880\", \"#636efa\", \"#636efa\", \"#EF553B\", \"#EF553B\", \"#00cc96\", \"#00cc96\", \"#ab63fa\", \"#ab63fa\", \"#FFA15A\", \"#FFA15A\", \"#19d3f3\", \"#19d3f3\", \"#FF6692\", \"#FF6692\", \"#B6E880\", \"#B6E880\", \"#636efa\", \"#636efa\", \"#EF553B\", \"#EF553B\", \"#00cc96\", \"#00cc96\", \"#ab63fa\", \"#ab63fa\", \"#FFA15A\", \"#FFA15A\", \"#19d3f3\", \"#19d3f3\", \"#FF6692\", \"#FF6692\", \"#B6E880\", \"#B6E880\"]}, \"name\": \"\", \"parents\": [\"TFFFF/TFFF/TFF/TF\", \"TFFFT/TFFF/TFF/TF\", \"TFFTF/TFFT/TFF/TF\", \"TFFTT/TFFT/TFF/TF\", \"TFTFF/TFTF/TFT/TF\", \"TFTFT/TFTF/TFT/TF\", \"TFTTF/TFTT/TFT/TF\", \"TFTTT/TFTT/TFT/TF\", \"TTFFF/TTFF/TTF/TT\", \"TTFFT/TTFF/TTF/TT\", \"TTFTF/TTFT/TTF/TT\", \"TTFTT/TTFT/TTF/TT\", \"TTTFF/TTTF/TTT/TT\", \"TTTFT/TTTF/TTT/TT\", \"TTTTF/TTTT/TTT/TT\", \"TTTTT/TTTT/TTT/TT\", \"TFFFF/TFFF/TFF\", \"TFFFT/TFFF/TFF\", \"TFFTF/TFFT/TFF\", \"TFFTT/TFFT/TFF\", \"TFTFF/TFTF/TFT\", \"TFTFT/TFTF/TFT\", \"TFTTF/TFTT/TFT\", \"TFTTT/TFTT/TFT\", \"TTFFF/TTFF/TTF\", \"TTFFT/TTFF/TTF\", \"TTFTF/TTFT/TTF\", \"TTFTT/TTFT/TTF\", \"TTTFF/TTTF/TTT\", \"TTTFT/TTTF/TTT\", \"TTTTF/TTTT/TTT\", \"TTTTT/TTTT/TTT\", \"TFFFF/TFFF\", \"TFFFT/TFFF\", \"TFFTF/TFFT\", \"TFFTT/TFFT\", \"TFTFF/TFTF\", \"TFTFT/TFTF\", \"TFTTF/TFTT\", \"TFTTT/TFTT\", \"TTFFF/TTFF\", \"TTFFT/TTFF\", \"TTFTF/TTFT\", \"TTFTT/TTFT\", \"TTTFF/TTTF\", \"TTTFT/TTTF\", \"TTTTF/TTTT\", \"TTTTT/TTTT\", \"TFFFF\", \"TFFFT\", \"TFFTF\", \"TFFTT\", \"TFTFF\", \"TFTFT\", \"TFTTF\", \"TFTTT\", \"TTFFF\", \"TTFFT\", \"TTFTF\", \"TTFTT\", \"TTTFF\", \"TTTFT\", \"TTTTF\", \"TTTTT\", \"\", \"\", \"\", \"\", \"\", \"\", \"\", \"\", \"\", \"\", \"\", \"\", \"\", \"\", \"\", \"\"], \"type\": \"sunburst\", \"values\": [0.4299102971048614, 0.004218727057337238, 0.010825780713812294, 0.005218884687973199, 0.032461575177133495, 0.002482998915653277, 0.010759748008299269, 0.009009465223756312, 0.1420335086332784, 0.004128661453742171, 0.011614345367872389, 0.008111360778190555, 0.08320969081499456, 0.00915612924784916, 0.06513058446263179, 0.1717282423526145, 0.4299102971048614, 0.004218727057337238, 0.010825780713812294, 0.005218884687973199, 0.032461575177133495, 0.002482998915653277, 0.010759748008299269, 0.009009465223756312, 0.1420335086332784, 0.004128661453742171, 0.011614345367872389, 0.008111360778190555, 0.08320969081499456, 0.00915612924784916, 0.06513058446263179, 0.1717282423526145, 0.4299102971048614, 0.004218727057337238, 0.010825780713812294, 0.005218884687973199, 0.032461575177133495, 0.002482998915653277, 0.010759748008299269, 0.009009465223756312, 0.1420335086332784, 0.004128661453742171, 0.011614345367872389, 0.008111360778190555, 0.08320969081499456, 0.00915612924784916, 0.06513058446263179, 0.1717282423526145, 0.4299102971048614, 0.004218727057337238, 0.010825780713812294, 0.005218884687973199, 0.032461575177133495, 0.002482998915653277, 0.010759748008299269, 0.009009465223756312, 0.1420335086332784, 0.004128661453742171, 0.011614345367872389, 0.008111360778190555, 0.08320969081499456, 0.00915612924784916, 0.06513058446263179, 0.1717282423526145, 0.4299102971048614, 0.004218727057337238, 0.010825780713812294, 0.005218884687973199, 0.032461575177133495, 0.002482998915653277, 0.010759748008299269, 0.009009465223756312, 0.1420335086332784, 0.004128661453742171, 0.011614345367872389, 0.008111360778190555, 0.08320969081499456, 0.00915612924784916, 0.06513058446263179, 0.1717282423526145]}],\n",
       "                        {\"legend\": {\"tracegroupgap\": 0}, \"margin\": {\"t\": 60}, \"template\": {\"data\": {\"bar\": [{\"error_x\": {\"color\": \"#2a3f5f\"}, \"error_y\": {\"color\": \"#2a3f5f\"}, \"marker\": {\"line\": {\"color\": \"#E5ECF6\", \"width\": 0.5}}, \"type\": \"bar\"}], \"barpolar\": [{\"marker\": {\"line\": {\"color\": \"#E5ECF6\", \"width\": 0.5}}, \"type\": \"barpolar\"}], \"carpet\": [{\"aaxis\": {\"endlinecolor\": \"#2a3f5f\", \"gridcolor\": \"white\", \"linecolor\": \"white\", \"minorgridcolor\": \"white\", \"startlinecolor\": \"#2a3f5f\"}, \"baxis\": {\"endlinecolor\": \"#2a3f5f\", \"gridcolor\": \"white\", \"linecolor\": \"white\", \"minorgridcolor\": \"white\", \"startlinecolor\": \"#2a3f5f\"}, \"type\": \"carpet\"}], \"choropleth\": [{\"colorbar\": {\"outlinewidth\": 0, \"ticks\": \"\"}, \"type\": \"choropleth\"}], \"contour\": [{\"colorbar\": {\"outlinewidth\": 0, \"ticks\": \"\"}, \"colorscale\": [[0.0, \"#0d0887\"], [0.1111111111111111, \"#46039f\"], [0.2222222222222222, \"#7201a8\"], [0.3333333333333333, \"#9c179e\"], [0.4444444444444444, \"#bd3786\"], [0.5555555555555556, \"#d8576b\"], [0.6666666666666666, \"#ed7953\"], [0.7777777777777778, \"#fb9f3a\"], [0.8888888888888888, \"#fdca26\"], [1.0, \"#f0f921\"]], \"type\": \"contour\"}], \"contourcarpet\": [{\"colorbar\": {\"outlinewidth\": 0, \"ticks\": \"\"}, \"type\": \"contourcarpet\"}], \"heatmap\": [{\"colorbar\": {\"outlinewidth\": 0, \"ticks\": \"\"}, \"colorscale\": [[0.0, \"#0d0887\"], [0.1111111111111111, \"#46039f\"], [0.2222222222222222, \"#7201a8\"], [0.3333333333333333, \"#9c179e\"], [0.4444444444444444, \"#bd3786\"], [0.5555555555555556, \"#d8576b\"], [0.6666666666666666, \"#ed7953\"], [0.7777777777777778, \"#fb9f3a\"], [0.8888888888888888, \"#fdca26\"], [1.0, \"#f0f921\"]], \"type\": \"heatmap\"}], \"heatmapgl\": [{\"colorbar\": {\"outlinewidth\": 0, \"ticks\": \"\"}, \"colorscale\": [[0.0, \"#0d0887\"], [0.1111111111111111, \"#46039f\"], [0.2222222222222222, \"#7201a8\"], [0.3333333333333333, \"#9c179e\"], [0.4444444444444444, \"#bd3786\"], [0.5555555555555556, \"#d8576b\"], [0.6666666666666666, \"#ed7953\"], [0.7777777777777778, \"#fb9f3a\"], [0.8888888888888888, \"#fdca26\"], [1.0, \"#f0f921\"]], \"type\": \"heatmapgl\"}], \"histogram\": [{\"marker\": {\"colorbar\": {\"outlinewidth\": 0, \"ticks\": \"\"}}, \"type\": \"histogram\"}], \"histogram2d\": [{\"colorbar\": {\"outlinewidth\": 0, \"ticks\": \"\"}, \"colorscale\": [[0.0, \"#0d0887\"], [0.1111111111111111, \"#46039f\"], [0.2222222222222222, \"#7201a8\"], [0.3333333333333333, \"#9c179e\"], [0.4444444444444444, \"#bd3786\"], [0.5555555555555556, \"#d8576b\"], [0.6666666666666666, \"#ed7953\"], [0.7777777777777778, \"#fb9f3a\"], [0.8888888888888888, \"#fdca26\"], [1.0, \"#f0f921\"]], \"type\": \"histogram2d\"}], \"histogram2dcontour\": [{\"colorbar\": {\"outlinewidth\": 0, \"ticks\": \"\"}, \"colorscale\": [[0.0, \"#0d0887\"], [0.1111111111111111, \"#46039f\"], [0.2222222222222222, \"#7201a8\"], [0.3333333333333333, \"#9c179e\"], [0.4444444444444444, \"#bd3786\"], [0.5555555555555556, \"#d8576b\"], [0.6666666666666666, \"#ed7953\"], [0.7777777777777778, \"#fb9f3a\"], [0.8888888888888888, \"#fdca26\"], [1.0, \"#f0f921\"]], \"type\": \"histogram2dcontour\"}], \"mesh3d\": [{\"colorbar\": {\"outlinewidth\": 0, \"ticks\": \"\"}, \"type\": \"mesh3d\"}], \"parcoords\": [{\"line\": {\"colorbar\": {\"outlinewidth\": 0, \"ticks\": \"\"}}, \"type\": \"parcoords\"}], \"pie\": [{\"automargin\": true, \"type\": \"pie\"}], \"scatter\": [{\"marker\": {\"colorbar\": {\"outlinewidth\": 0, \"ticks\": \"\"}}, \"type\": \"scatter\"}], \"scatter3d\": [{\"line\": {\"colorbar\": {\"outlinewidth\": 0, \"ticks\": \"\"}}, \"marker\": {\"colorbar\": {\"outlinewidth\": 0, \"ticks\": \"\"}}, \"type\": \"scatter3d\"}], \"scattercarpet\": [{\"marker\": {\"colorbar\": {\"outlinewidth\": 0, \"ticks\": \"\"}}, \"type\": \"scattercarpet\"}], \"scattergeo\": [{\"marker\": {\"colorbar\": {\"outlinewidth\": 0, \"ticks\": \"\"}}, \"type\": \"scattergeo\"}], \"scattergl\": [{\"marker\": {\"colorbar\": {\"outlinewidth\": 0, \"ticks\": \"\"}}, \"type\": \"scattergl\"}], \"scattermapbox\": [{\"marker\": {\"colorbar\": {\"outlinewidth\": 0, \"ticks\": \"\"}}, \"type\": \"scattermapbox\"}], \"scatterpolar\": [{\"marker\": {\"colorbar\": {\"outlinewidth\": 0, \"ticks\": \"\"}}, \"type\": \"scatterpolar\"}], \"scatterpolargl\": [{\"marker\": {\"colorbar\": {\"outlinewidth\": 0, \"ticks\": \"\"}}, \"type\": \"scatterpolargl\"}], \"scatterternary\": [{\"marker\": {\"colorbar\": {\"outlinewidth\": 0, \"ticks\": \"\"}}, \"type\": \"scatterternary\"}], \"surface\": [{\"colorbar\": {\"outlinewidth\": 0, \"ticks\": \"\"}, \"colorscale\": [[0.0, \"#0d0887\"], [0.1111111111111111, \"#46039f\"], [0.2222222222222222, \"#7201a8\"], [0.3333333333333333, \"#9c179e\"], [0.4444444444444444, \"#bd3786\"], [0.5555555555555556, \"#d8576b\"], [0.6666666666666666, \"#ed7953\"], [0.7777777777777778, \"#fb9f3a\"], [0.8888888888888888, \"#fdca26\"], [1.0, \"#f0f921\"]], \"type\": \"surface\"}], \"table\": [{\"cells\": {\"fill\": {\"color\": \"#EBF0F8\"}, \"line\": {\"color\": \"white\"}}, \"header\": {\"fill\": {\"color\": \"#C8D4E3\"}, \"line\": {\"color\": \"white\"}}, \"type\": \"table\"}]}, \"layout\": {\"annotationdefaults\": {\"arrowcolor\": \"#2a3f5f\", \"arrowhead\": 0, \"arrowwidth\": 1}, \"coloraxis\": {\"colorbar\": {\"outlinewidth\": 0, \"ticks\": \"\"}}, \"colorscale\": {\"diverging\": [[0, \"#8e0152\"], [0.1, \"#c51b7d\"], [0.2, \"#de77ae\"], [0.3, \"#f1b6da\"], [0.4, \"#fde0ef\"], [0.5, \"#f7f7f7\"], [0.6, \"#e6f5d0\"], [0.7, \"#b8e186\"], [0.8, \"#7fbc41\"], [0.9, \"#4d9221\"], [1, \"#276419\"]], \"sequential\": [[0.0, \"#0d0887\"], [0.1111111111111111, \"#46039f\"], [0.2222222222222222, \"#7201a8\"], [0.3333333333333333, \"#9c179e\"], [0.4444444444444444, \"#bd3786\"], [0.5555555555555556, \"#d8576b\"], [0.6666666666666666, \"#ed7953\"], [0.7777777777777778, \"#fb9f3a\"], [0.8888888888888888, \"#fdca26\"], [1.0, \"#f0f921\"]], \"sequentialminus\": [[0.0, \"#0d0887\"], [0.1111111111111111, \"#46039f\"], [0.2222222222222222, \"#7201a8\"], [0.3333333333333333, \"#9c179e\"], [0.4444444444444444, \"#bd3786\"], [0.5555555555555556, \"#d8576b\"], [0.6666666666666666, \"#ed7953\"], [0.7777777777777778, \"#fb9f3a\"], [0.8888888888888888, \"#fdca26\"], [1.0, \"#f0f921\"]]}, \"colorway\": [\"#636efa\", \"#EF553B\", \"#00cc96\", \"#ab63fa\", \"#FFA15A\", \"#19d3f3\", \"#FF6692\", \"#B6E880\", \"#FF97FF\", \"#FECB52\"], \"font\": {\"color\": \"#2a3f5f\"}, \"geo\": {\"bgcolor\": \"white\", \"lakecolor\": \"white\", \"landcolor\": \"#E5ECF6\", \"showlakes\": true, \"showland\": true, \"subunitcolor\": \"white\"}, \"hoverlabel\": {\"align\": \"left\"}, \"hovermode\": \"closest\", \"mapbox\": {\"style\": \"light\"}, \"paper_bgcolor\": \"white\", \"plot_bgcolor\": \"#E5ECF6\", \"polar\": {\"angularaxis\": {\"gridcolor\": \"white\", \"linecolor\": \"white\", \"ticks\": \"\"}, \"bgcolor\": \"#E5ECF6\", \"radialaxis\": {\"gridcolor\": \"white\", \"linecolor\": \"white\", \"ticks\": \"\"}}, \"scene\": {\"xaxis\": {\"backgroundcolor\": \"#E5ECF6\", \"gridcolor\": \"white\", \"gridwidth\": 2, \"linecolor\": \"white\", \"showbackground\": true, \"ticks\": \"\", \"zerolinecolor\": \"white\"}, \"yaxis\": {\"backgroundcolor\": \"#E5ECF6\", \"gridcolor\": \"white\", \"gridwidth\": 2, \"linecolor\": \"white\", \"showbackground\": true, \"ticks\": \"\", \"zerolinecolor\": \"white\"}, \"zaxis\": {\"backgroundcolor\": \"#E5ECF6\", \"gridcolor\": \"white\", \"gridwidth\": 2, \"linecolor\": \"white\", \"showbackground\": true, \"ticks\": \"\", \"zerolinecolor\": \"white\"}}, \"shapedefaults\": {\"line\": {\"color\": \"#2a3f5f\"}}, \"ternary\": {\"aaxis\": {\"gridcolor\": \"white\", \"linecolor\": \"white\", \"ticks\": \"\"}, \"baxis\": {\"gridcolor\": \"white\", \"linecolor\": \"white\", \"ticks\": \"\"}, \"bgcolor\": \"#E5ECF6\", \"caxis\": {\"gridcolor\": \"white\", \"linecolor\": \"white\", \"ticks\": \"\"}}, \"title\": {\"x\": 0.05}, \"xaxis\": {\"automargin\": true, \"gridcolor\": \"white\", \"linecolor\": \"white\", \"ticks\": \"\", \"title\": {\"standoff\": 15}, \"zerolinecolor\": \"white\", \"zerolinewidth\": 2}, \"yaxis\": {\"automargin\": true, \"gridcolor\": \"white\", \"linecolor\": \"white\", \"ticks\": \"\", \"title\": {\"standoff\": 15}, \"zerolinecolor\": \"white\", \"zerolinewidth\": 2}}}},\n",
       "                        {\"responsive\": true}\n",
       "                    ).then(function(){\n",
       "                            \n",
       "var gd = document.getElementById('64859ad4-07ce-48e3-8395-c18947b55b50');\n",
       "var x = new MutationObserver(function (mutations, observer) {{\n",
       "        var display = window.getComputedStyle(gd).display;\n",
       "        if (!display || display === 'none') {{\n",
       "            console.log([gd, 'removed!']);\n",
       "            Plotly.purge(gd);\n",
       "            observer.disconnect();\n",
       "        }}\n",
       "}});\n",
       "\n",
       "// Listen for the removal of the full notebook cells\n",
       "var notebookContainer = gd.closest('#notebook-container');\n",
       "if (notebookContainer) {{\n",
       "    x.observe(notebookContainer, {childList: true});\n",
       "}}\n",
       "\n",
       "// Listen for the clearing of the current output cell\n",
       "var outputEl = gd.closest('.output');\n",
       "if (outputEl) {{\n",
       "    x.observe(outputEl, {childList: true});\n",
       "}}\n",
       "\n",
       "                        })\n",
       "                };\n",
       "                });\n",
       "            </script>\n",
       "        </div>"
      ]
     },
     "metadata": {},
     "output_type": "display_data"
    }
   ],
   "source": [
    "fig = px.sunburst(sun_amount, path=['cohort_yr4_TF', 'cohort_yr3_TF', 'cohort_yr2_TF', 'cohort_yr1_TF', 'cohort_yr0_TF'], \n",
    "                  values='perc_amount_total',\n",
    "                  color='cohort_yr3_TF',\n",
    "                #  color_discrete_map={'TT':'black', 'TF':'gold'}\n",
    "                 )\n",
    "fig.show()"
   ]
  },
  {
   "cell_type": "code",
   "execution_count": 90,
   "metadata": {},
   "outputs": [
    {
     "data": {
      "application/vnd.plotly.v1+json": {
       "config": {
        "plotlyServerURL": "https://plot.ly"
       },
       "data": [
        {
         "branchvalues": "total",
         "domain": {
          "x": [
           0,
           1
          ],
          "y": [
           0,
           1
          ]
         },
         "hovertemplate": "labels=%{label}<br>perc_cohort_donors=%{value}<br>parent=%{parent}<br>id=%{id}<extra></extra>",
         "ids": [
          "TFFFF/TFFF/TFF/TF/T",
          "TFFFT/TFFF/TFF/TF/T",
          "TFFTF/TFFT/TFF/TF/T",
          "TFFTT/TFFT/TFF/TF/T",
          "TFTFF/TFTF/TFT/TF/T",
          "TFTFT/TFTF/TFT/TF/T",
          "TFTTF/TFTT/TFT/TF/T",
          "TFTTT/TFTT/TFT/TF/T",
          "TTFFF/TTFF/TTF/TT/T",
          "TTFFT/TTFF/TTF/TT/T",
          "TTFTF/TTFT/TTF/TT/T",
          "TTFTT/TTFT/TTF/TT/T",
          "TTTFF/TTTF/TTT/TT/T",
          "TTTFT/TTTF/TTT/TT/T",
          "TTTTF/TTTT/TTT/TT/T",
          "TTTTT/TTTT/TTT/TT/T",
          "TFFFF/TFFF/TFF/TF",
          "TFFFT/TFFF/TFF/TF",
          "TFFTF/TFFT/TFF/TF",
          "TFFTT/TFFT/TFF/TF",
          "TFTFF/TFTF/TFT/TF",
          "TFTFT/TFTF/TFT/TF",
          "TFTTF/TFTT/TFT/TF",
          "TFTTT/TFTT/TFT/TF",
          "TTFFF/TTFF/TTF/TT",
          "TTFFT/TTFF/TTF/TT",
          "TTFTF/TTFT/TTF/TT",
          "TTFTT/TTFT/TTF/TT",
          "TTTFF/TTTF/TTT/TT",
          "TTTFT/TTTF/TTT/TT",
          "TTTTF/TTTT/TTT/TT",
          "TTTTT/TTTT/TTT/TT",
          "TFFFF/TFFF/TFF",
          "TFFFT/TFFF/TFF",
          "TFFTF/TFFT/TFF",
          "TFFTT/TFFT/TFF",
          "TFTFF/TFTF/TFT",
          "TFTFT/TFTF/TFT",
          "TFTTF/TFTT/TFT",
          "TFTTT/TFTT/TFT",
          "TTFFF/TTFF/TTF",
          "TTFFT/TTFF/TTF",
          "TTFTF/TTFT/TTF",
          "TTFTT/TTFT/TTF",
          "TTTFF/TTTF/TTT",
          "TTTFT/TTTF/TTT",
          "TTTTF/TTTT/TTT",
          "TTTTT/TTTT/TTT",
          "TFFFF/TFFF",
          "TFFFT/TFFF",
          "TFFTF/TFFT",
          "TFFTT/TFFT",
          "TFTFF/TFTF",
          "TFTFT/TFTF",
          "TFTTF/TFTT",
          "TFTTT/TFTT",
          "TTFFF/TTFF",
          "TTFFT/TTFF",
          "TTFTF/TTFT",
          "TTFTT/TTFT",
          "TTTFF/TTTF",
          "TTTFT/TTTF",
          "TTTTF/TTTT",
          "TTTTT/TTTT",
          "TFFFF",
          "TFFFT",
          "TFFTF",
          "TFFTT",
          "TFTFF",
          "TFTFT",
          "TFTTF",
          "TFTTT",
          "TTFFF",
          "TTFFT",
          "TTFTF",
          "TTFTT",
          "TTTFF",
          "TTTFT",
          "TTTTF",
          "TTTTT"
         ],
         "labels": [
          "T",
          "T",
          "T",
          "T",
          "T",
          "T",
          "T",
          "T",
          "T",
          "T",
          "T",
          "T",
          "T",
          "T",
          "T",
          "T",
          "TF",
          "TF",
          "TF",
          "TF",
          "TF",
          "TF",
          "TF",
          "TF",
          "TT",
          "TT",
          "TT",
          "TT",
          "TT",
          "TT",
          "TT",
          "TT",
          "TFF",
          "TFF",
          "TFF",
          "TFF",
          "TFT",
          "TFT",
          "TFT",
          "TFT",
          "TTF",
          "TTF",
          "TTF",
          "TTF",
          "TTT",
          "TTT",
          "TTT",
          "TTT",
          "TFFF",
          "TFFF",
          "TFFT",
          "TFFT",
          "TFTF",
          "TFTF",
          "TFTT",
          "TFTT",
          "TTFF",
          "TTFF",
          "TTFT",
          "TTFT",
          "TTTF",
          "TTTF",
          "TTTT",
          "TTTT",
          "TFFFF",
          "TFFFT",
          "TFFTF",
          "TFFTT",
          "TFTFF",
          "TFTFT",
          "TFTTF",
          "TFTTT",
          "TTFFF",
          "TTFFT",
          "TTFTF",
          "TTFTT",
          "TTTFF",
          "TTTFT",
          "TTTTF",
          "TTTTT"
         ],
         "name": "",
         "parents": [
          "TFFFF/TFFF/TFF/TF",
          "TFFFT/TFFF/TFF/TF",
          "TFFTF/TFFT/TFF/TF",
          "TFFTT/TFFT/TFF/TF",
          "TFTFF/TFTF/TFT/TF",
          "TFTFT/TFTF/TFT/TF",
          "TFTTF/TFTT/TFT/TF",
          "TFTTT/TFTT/TFT/TF",
          "TTFFF/TTFF/TTF/TT",
          "TTFFT/TTFF/TTF/TT",
          "TTFTF/TTFT/TTF/TT",
          "TTFTT/TTFT/TTF/TT",
          "TTTFF/TTTF/TTT/TT",
          "TTTFT/TTTF/TTT/TT",
          "TTTTF/TTTT/TTT/TT",
          "TTTTT/TTTT/TTT/TT",
          "TFFFF/TFFF/TFF",
          "TFFFT/TFFF/TFF",
          "TFFTF/TFFT/TFF",
          "TFFTT/TFFT/TFF",
          "TFTFF/TFTF/TFT",
          "TFTFT/TFTF/TFT",
          "TFTTF/TFTT/TFT",
          "TFTTT/TFTT/TFT",
          "TTFFF/TTFF/TTF",
          "TTFFT/TTFF/TTF",
          "TTFTF/TTFT/TTF",
          "TTFTT/TTFT/TTF",
          "TTTFF/TTTF/TTT",
          "TTTFT/TTTF/TTT",
          "TTTTF/TTTT/TTT",
          "TTTTT/TTTT/TTT",
          "TFFFF/TFFF",
          "TFFFT/TFFF",
          "TFFTF/TFFT",
          "TFFTT/TFFT",
          "TFTFF/TFTF",
          "TFTFT/TFTF",
          "TFTTF/TFTT",
          "TFTTT/TFTT",
          "TTFFF/TTFF",
          "TTFFT/TTFF",
          "TTFTF/TTFT",
          "TTFTT/TTFT",
          "TTTFF/TTTF",
          "TTTFT/TTTF",
          "TTTTF/TTTT",
          "TTTTT/TTTT",
          "TFFFF",
          "TFFFT",
          "TFFTF",
          "TFFTT",
          "TFTFF",
          "TFTFT",
          "TFTTF",
          "TFTTT",
          "TTFFF",
          "TTFFT",
          "TTFTF",
          "TTFTT",
          "TTTFF",
          "TTTFT",
          "TTTTF",
          "TTTTT",
          "",
          "",
          "",
          "",
          "",
          "",
          "",
          "",
          "",
          "",
          "",
          "",
          "",
          "",
          "",
          ""
         ],
         "type": "sunburst",
         "values": [
          0.8380512448667706,
          0.003414085275077869,
          0.008702657474189378,
          0.0015351529275089723,
          0.02193223791511612,
          0.001005159654916589,
          0.0037667555422083087,
          0.0013509148187699613,
          0.080019599378431,
          0.0014788442293957088,
          0.004017675003976184,
          0.001390429694638918,
          0.01859125516039582,
          0.001465507958789936,
          0.006806931304376174,
          0.006471548795438402,
          0.8380512448667706,
          0.003414085275077869,
          0.008702657474189378,
          0.0015351529275089723,
          0.02193223791511612,
          0.001005159654916589,
          0.0037667555422083087,
          0.0013509148187699613,
          0.080019599378431,
          0.0014788442293957088,
          0.004017675003976184,
          0.001390429694638918,
          0.01859125516039582,
          0.001465507958789936,
          0.006806931304376174,
          0.006471548795438402,
          0.8380512448667706,
          0.003414085275077869,
          0.008702657474189378,
          0.0015351529275089723,
          0.02193223791511612,
          0.001005159654916589,
          0.0037667555422083087,
          0.0013509148187699613,
          0.080019599378431,
          0.0014788442293957088,
          0.004017675003976184,
          0.001390429694638918,
          0.01859125516039582,
          0.001465507958789936,
          0.006806931304376174,
          0.006471548795438402,
          0.8380512448667706,
          0.003414085275077869,
          0.008702657474189378,
          0.0015351529275089723,
          0.02193223791511612,
          0.001005159654916589,
          0.0037667555422083087,
          0.0013509148187699613,
          0.080019599378431,
          0.0014788442293957088,
          0.004017675003976184,
          0.001390429694638918,
          0.01859125516039582,
          0.001465507958789936,
          0.006806931304376174,
          0.006471548795438402,
          0.8380512448667706,
          0.003414085275077869,
          0.008702657474189378,
          0.0015351529275089723,
          0.02193223791511612,
          0.001005159654916589,
          0.0037667555422083087,
          0.0013509148187699613,
          0.080019599378431,
          0.0014788442293957088,
          0.004017675003976184,
          0.001390429694638918,
          0.01859125516039582,
          0.001465507958789936,
          0.006806931304376174,
          0.006471548795438402
         ]
        }
       ],
       "layout": {
        "legend": {
         "tracegroupgap": 0
        },
        "margin": {
         "t": 60
        },
        "template": {
         "data": {
          "bar": [
           {
            "error_x": {
             "color": "#2a3f5f"
            },
            "error_y": {
             "color": "#2a3f5f"
            },
            "marker": {
             "line": {
              "color": "#E5ECF6",
              "width": 0.5
             }
            },
            "type": "bar"
           }
          ],
          "barpolar": [
           {
            "marker": {
             "line": {
              "color": "#E5ECF6",
              "width": 0.5
             }
            },
            "type": "barpolar"
           }
          ],
          "carpet": [
           {
            "aaxis": {
             "endlinecolor": "#2a3f5f",
             "gridcolor": "white",
             "linecolor": "white",
             "minorgridcolor": "white",
             "startlinecolor": "#2a3f5f"
            },
            "baxis": {
             "endlinecolor": "#2a3f5f",
             "gridcolor": "white",
             "linecolor": "white",
             "minorgridcolor": "white",
             "startlinecolor": "#2a3f5f"
            },
            "type": "carpet"
           }
          ],
          "choropleth": [
           {
            "colorbar": {
             "outlinewidth": 0,
             "ticks": ""
            },
            "type": "choropleth"
           }
          ],
          "contour": [
           {
            "colorbar": {
             "outlinewidth": 0,
             "ticks": ""
            },
            "colorscale": [
             [
              0,
              "#0d0887"
             ],
             [
              0.1111111111111111,
              "#46039f"
             ],
             [
              0.2222222222222222,
              "#7201a8"
             ],
             [
              0.3333333333333333,
              "#9c179e"
             ],
             [
              0.4444444444444444,
              "#bd3786"
             ],
             [
              0.5555555555555556,
              "#d8576b"
             ],
             [
              0.6666666666666666,
              "#ed7953"
             ],
             [
              0.7777777777777778,
              "#fb9f3a"
             ],
             [
              0.8888888888888888,
              "#fdca26"
             ],
             [
              1,
              "#f0f921"
             ]
            ],
            "type": "contour"
           }
          ],
          "contourcarpet": [
           {
            "colorbar": {
             "outlinewidth": 0,
             "ticks": ""
            },
            "type": "contourcarpet"
           }
          ],
          "heatmap": [
           {
            "colorbar": {
             "outlinewidth": 0,
             "ticks": ""
            },
            "colorscale": [
             [
              0,
              "#0d0887"
             ],
             [
              0.1111111111111111,
              "#46039f"
             ],
             [
              0.2222222222222222,
              "#7201a8"
             ],
             [
              0.3333333333333333,
              "#9c179e"
             ],
             [
              0.4444444444444444,
              "#bd3786"
             ],
             [
              0.5555555555555556,
              "#d8576b"
             ],
             [
              0.6666666666666666,
              "#ed7953"
             ],
             [
              0.7777777777777778,
              "#fb9f3a"
             ],
             [
              0.8888888888888888,
              "#fdca26"
             ],
             [
              1,
              "#f0f921"
             ]
            ],
            "type": "heatmap"
           }
          ],
          "heatmapgl": [
           {
            "colorbar": {
             "outlinewidth": 0,
             "ticks": ""
            },
            "colorscale": [
             [
              0,
              "#0d0887"
             ],
             [
              0.1111111111111111,
              "#46039f"
             ],
             [
              0.2222222222222222,
              "#7201a8"
             ],
             [
              0.3333333333333333,
              "#9c179e"
             ],
             [
              0.4444444444444444,
              "#bd3786"
             ],
             [
              0.5555555555555556,
              "#d8576b"
             ],
             [
              0.6666666666666666,
              "#ed7953"
             ],
             [
              0.7777777777777778,
              "#fb9f3a"
             ],
             [
              0.8888888888888888,
              "#fdca26"
             ],
             [
              1,
              "#f0f921"
             ]
            ],
            "type": "heatmapgl"
           }
          ],
          "histogram": [
           {
            "marker": {
             "colorbar": {
              "outlinewidth": 0,
              "ticks": ""
             }
            },
            "type": "histogram"
           }
          ],
          "histogram2d": [
           {
            "colorbar": {
             "outlinewidth": 0,
             "ticks": ""
            },
            "colorscale": [
             [
              0,
              "#0d0887"
             ],
             [
              0.1111111111111111,
              "#46039f"
             ],
             [
              0.2222222222222222,
              "#7201a8"
             ],
             [
              0.3333333333333333,
              "#9c179e"
             ],
             [
              0.4444444444444444,
              "#bd3786"
             ],
             [
              0.5555555555555556,
              "#d8576b"
             ],
             [
              0.6666666666666666,
              "#ed7953"
             ],
             [
              0.7777777777777778,
              "#fb9f3a"
             ],
             [
              0.8888888888888888,
              "#fdca26"
             ],
             [
              1,
              "#f0f921"
             ]
            ],
            "type": "histogram2d"
           }
          ],
          "histogram2dcontour": [
           {
            "colorbar": {
             "outlinewidth": 0,
             "ticks": ""
            },
            "colorscale": [
             [
              0,
              "#0d0887"
             ],
             [
              0.1111111111111111,
              "#46039f"
             ],
             [
              0.2222222222222222,
              "#7201a8"
             ],
             [
              0.3333333333333333,
              "#9c179e"
             ],
             [
              0.4444444444444444,
              "#bd3786"
             ],
             [
              0.5555555555555556,
              "#d8576b"
             ],
             [
              0.6666666666666666,
              "#ed7953"
             ],
             [
              0.7777777777777778,
              "#fb9f3a"
             ],
             [
              0.8888888888888888,
              "#fdca26"
             ],
             [
              1,
              "#f0f921"
             ]
            ],
            "type": "histogram2dcontour"
           }
          ],
          "mesh3d": [
           {
            "colorbar": {
             "outlinewidth": 0,
             "ticks": ""
            },
            "type": "mesh3d"
           }
          ],
          "parcoords": [
           {
            "line": {
             "colorbar": {
              "outlinewidth": 0,
              "ticks": ""
             }
            },
            "type": "parcoords"
           }
          ],
          "pie": [
           {
            "automargin": true,
            "type": "pie"
           }
          ],
          "scatter": [
           {
            "marker": {
             "colorbar": {
              "outlinewidth": 0,
              "ticks": ""
             }
            },
            "type": "scatter"
           }
          ],
          "scatter3d": [
           {
            "line": {
             "colorbar": {
              "outlinewidth": 0,
              "ticks": ""
             }
            },
            "marker": {
             "colorbar": {
              "outlinewidth": 0,
              "ticks": ""
             }
            },
            "type": "scatter3d"
           }
          ],
          "scattercarpet": [
           {
            "marker": {
             "colorbar": {
              "outlinewidth": 0,
              "ticks": ""
             }
            },
            "type": "scattercarpet"
           }
          ],
          "scattergeo": [
           {
            "marker": {
             "colorbar": {
              "outlinewidth": 0,
              "ticks": ""
             }
            },
            "type": "scattergeo"
           }
          ],
          "scattergl": [
           {
            "marker": {
             "colorbar": {
              "outlinewidth": 0,
              "ticks": ""
             }
            },
            "type": "scattergl"
           }
          ],
          "scattermapbox": [
           {
            "marker": {
             "colorbar": {
              "outlinewidth": 0,
              "ticks": ""
             }
            },
            "type": "scattermapbox"
           }
          ],
          "scatterpolar": [
           {
            "marker": {
             "colorbar": {
              "outlinewidth": 0,
              "ticks": ""
             }
            },
            "type": "scatterpolar"
           }
          ],
          "scatterpolargl": [
           {
            "marker": {
             "colorbar": {
              "outlinewidth": 0,
              "ticks": ""
             }
            },
            "type": "scatterpolargl"
           }
          ],
          "scatterternary": [
           {
            "marker": {
             "colorbar": {
              "outlinewidth": 0,
              "ticks": ""
             }
            },
            "type": "scatterternary"
           }
          ],
          "surface": [
           {
            "colorbar": {
             "outlinewidth": 0,
             "ticks": ""
            },
            "colorscale": [
             [
              0,
              "#0d0887"
             ],
             [
              0.1111111111111111,
              "#46039f"
             ],
             [
              0.2222222222222222,
              "#7201a8"
             ],
             [
              0.3333333333333333,
              "#9c179e"
             ],
             [
              0.4444444444444444,
              "#bd3786"
             ],
             [
              0.5555555555555556,
              "#d8576b"
             ],
             [
              0.6666666666666666,
              "#ed7953"
             ],
             [
              0.7777777777777778,
              "#fb9f3a"
             ],
             [
              0.8888888888888888,
              "#fdca26"
             ],
             [
              1,
              "#f0f921"
             ]
            ],
            "type": "surface"
           }
          ],
          "table": [
           {
            "cells": {
             "fill": {
              "color": "#EBF0F8"
             },
             "line": {
              "color": "white"
             }
            },
            "header": {
             "fill": {
              "color": "#C8D4E3"
             },
             "line": {
              "color": "white"
             }
            },
            "type": "table"
           }
          ]
         },
         "layout": {
          "annotationdefaults": {
           "arrowcolor": "#2a3f5f",
           "arrowhead": 0,
           "arrowwidth": 1
          },
          "coloraxis": {
           "colorbar": {
            "outlinewidth": 0,
            "ticks": ""
           }
          },
          "colorscale": {
           "diverging": [
            [
             0,
             "#8e0152"
            ],
            [
             0.1,
             "#c51b7d"
            ],
            [
             0.2,
             "#de77ae"
            ],
            [
             0.3,
             "#f1b6da"
            ],
            [
             0.4,
             "#fde0ef"
            ],
            [
             0.5,
             "#f7f7f7"
            ],
            [
             0.6,
             "#e6f5d0"
            ],
            [
             0.7,
             "#b8e186"
            ],
            [
             0.8,
             "#7fbc41"
            ],
            [
             0.9,
             "#4d9221"
            ],
            [
             1,
             "#276419"
            ]
           ],
           "sequential": [
            [
             0,
             "#0d0887"
            ],
            [
             0.1111111111111111,
             "#46039f"
            ],
            [
             0.2222222222222222,
             "#7201a8"
            ],
            [
             0.3333333333333333,
             "#9c179e"
            ],
            [
             0.4444444444444444,
             "#bd3786"
            ],
            [
             0.5555555555555556,
             "#d8576b"
            ],
            [
             0.6666666666666666,
             "#ed7953"
            ],
            [
             0.7777777777777778,
             "#fb9f3a"
            ],
            [
             0.8888888888888888,
             "#fdca26"
            ],
            [
             1,
             "#f0f921"
            ]
           ],
           "sequentialminus": [
            [
             0,
             "#0d0887"
            ],
            [
             0.1111111111111111,
             "#46039f"
            ],
            [
             0.2222222222222222,
             "#7201a8"
            ],
            [
             0.3333333333333333,
             "#9c179e"
            ],
            [
             0.4444444444444444,
             "#bd3786"
            ],
            [
             0.5555555555555556,
             "#d8576b"
            ],
            [
             0.6666666666666666,
             "#ed7953"
            ],
            [
             0.7777777777777778,
             "#fb9f3a"
            ],
            [
             0.8888888888888888,
             "#fdca26"
            ],
            [
             1,
             "#f0f921"
            ]
           ]
          },
          "colorway": [
           "#636efa",
           "#EF553B",
           "#00cc96",
           "#ab63fa",
           "#FFA15A",
           "#19d3f3",
           "#FF6692",
           "#B6E880",
           "#FF97FF",
           "#FECB52"
          ],
          "font": {
           "color": "#2a3f5f"
          },
          "geo": {
           "bgcolor": "white",
           "lakecolor": "white",
           "landcolor": "#E5ECF6",
           "showlakes": true,
           "showland": true,
           "subunitcolor": "white"
          },
          "hoverlabel": {
           "align": "left"
          },
          "hovermode": "closest",
          "mapbox": {
           "style": "light"
          },
          "paper_bgcolor": "white",
          "plot_bgcolor": "#E5ECF6",
          "polar": {
           "angularaxis": {
            "gridcolor": "white",
            "linecolor": "white",
            "ticks": ""
           },
           "bgcolor": "#E5ECF6",
           "radialaxis": {
            "gridcolor": "white",
            "linecolor": "white",
            "ticks": ""
           }
          },
          "scene": {
           "xaxis": {
            "backgroundcolor": "#E5ECF6",
            "gridcolor": "white",
            "gridwidth": 2,
            "linecolor": "white",
            "showbackground": true,
            "ticks": "",
            "zerolinecolor": "white"
           },
           "yaxis": {
            "backgroundcolor": "#E5ECF6",
            "gridcolor": "white",
            "gridwidth": 2,
            "linecolor": "white",
            "showbackground": true,
            "ticks": "",
            "zerolinecolor": "white"
           },
           "zaxis": {
            "backgroundcolor": "#E5ECF6",
            "gridcolor": "white",
            "gridwidth": 2,
            "linecolor": "white",
            "showbackground": true,
            "ticks": "",
            "zerolinecolor": "white"
           }
          },
          "shapedefaults": {
           "line": {
            "color": "#2a3f5f"
           }
          },
          "ternary": {
           "aaxis": {
            "gridcolor": "white",
            "linecolor": "white",
            "ticks": ""
           },
           "baxis": {
            "gridcolor": "white",
            "linecolor": "white",
            "ticks": ""
           },
           "bgcolor": "#E5ECF6",
           "caxis": {
            "gridcolor": "white",
            "linecolor": "white",
            "ticks": ""
           }
          },
          "title": {
           "x": 0.05
          },
          "xaxis": {
           "automargin": true,
           "gridcolor": "white",
           "linecolor": "white",
           "ticks": "",
           "title": {
            "standoff": 15
           },
           "zerolinecolor": "white",
           "zerolinewidth": 2
          },
          "yaxis": {
           "automargin": true,
           "gridcolor": "white",
           "linecolor": "white",
           "ticks": "",
           "title": {
            "standoff": 15
           },
           "zerolinecolor": "white",
           "zerolinewidth": 2
          }
         }
        }
       }
      },
      "text/html": [
       "<div>\n",
       "        \n",
       "        \n",
       "            <div id=\"4bdb9557-5614-4a8f-a70f-84b0fcc3f2a7\" class=\"plotly-graph-div\" style=\"height:525px; width:100%;\"></div>\n",
       "            <script type=\"text/javascript\">\n",
       "                require([\"plotly\"], function(Plotly) {\n",
       "                    window.PLOTLYENV=window.PLOTLYENV || {};\n",
       "                    \n",
       "                if (document.getElementById(\"4bdb9557-5614-4a8f-a70f-84b0fcc3f2a7\")) {\n",
       "                    Plotly.newPlot(\n",
       "                        '4bdb9557-5614-4a8f-a70f-84b0fcc3f2a7',\n",
       "                        [{\"branchvalues\": \"total\", \"domain\": {\"x\": [0.0, 1.0], \"y\": [0.0, 1.0]}, \"hovertemplate\": \"labels=%{label}<br>perc_cohort_donors=%{value}<br>parent=%{parent}<br>id=%{id}<extra></extra>\", \"ids\": [\"TFFFF/TFFF/TFF/TF/T\", \"TFFFT/TFFF/TFF/TF/T\", \"TFFTF/TFFT/TFF/TF/T\", \"TFFTT/TFFT/TFF/TF/T\", \"TFTFF/TFTF/TFT/TF/T\", \"TFTFT/TFTF/TFT/TF/T\", \"TFTTF/TFTT/TFT/TF/T\", \"TFTTT/TFTT/TFT/TF/T\", \"TTFFF/TTFF/TTF/TT/T\", \"TTFFT/TTFF/TTF/TT/T\", \"TTFTF/TTFT/TTF/TT/T\", \"TTFTT/TTFT/TTF/TT/T\", \"TTTFF/TTTF/TTT/TT/T\", \"TTTFT/TTTF/TTT/TT/T\", \"TTTTF/TTTT/TTT/TT/T\", \"TTTTT/TTTT/TTT/TT/T\", \"TFFFF/TFFF/TFF/TF\", \"TFFFT/TFFF/TFF/TF\", \"TFFTF/TFFT/TFF/TF\", \"TFFTT/TFFT/TFF/TF\", \"TFTFF/TFTF/TFT/TF\", \"TFTFT/TFTF/TFT/TF\", \"TFTTF/TFTT/TFT/TF\", \"TFTTT/TFTT/TFT/TF\", \"TTFFF/TTFF/TTF/TT\", \"TTFFT/TTFF/TTF/TT\", \"TTFTF/TTFT/TTF/TT\", \"TTFTT/TTFT/TTF/TT\", \"TTTFF/TTTF/TTT/TT\", \"TTTFT/TTTF/TTT/TT\", \"TTTTF/TTTT/TTT/TT\", \"TTTTT/TTTT/TTT/TT\", \"TFFFF/TFFF/TFF\", \"TFFFT/TFFF/TFF\", \"TFFTF/TFFT/TFF\", \"TFFTT/TFFT/TFF\", \"TFTFF/TFTF/TFT\", \"TFTFT/TFTF/TFT\", \"TFTTF/TFTT/TFT\", \"TFTTT/TFTT/TFT\", \"TTFFF/TTFF/TTF\", \"TTFFT/TTFF/TTF\", \"TTFTF/TTFT/TTF\", \"TTFTT/TTFT/TTF\", \"TTTFF/TTTF/TTT\", \"TTTFT/TTTF/TTT\", \"TTTTF/TTTT/TTT\", \"TTTTT/TTTT/TTT\", \"TFFFF/TFFF\", \"TFFFT/TFFF\", \"TFFTF/TFFT\", \"TFFTT/TFFT\", \"TFTFF/TFTF\", \"TFTFT/TFTF\", \"TFTTF/TFTT\", \"TFTTT/TFTT\", \"TTFFF/TTFF\", \"TTFFT/TTFF\", \"TTFTF/TTFT\", \"TTFTT/TTFT\", \"TTTFF/TTTF\", \"TTTFT/TTTF\", \"TTTTF/TTTT\", \"TTTTT/TTTT\", \"TFFFF\", \"TFFFT\", \"TFFTF\", \"TFFTT\", \"TFTFF\", \"TFTFT\", \"TFTTF\", \"TFTTT\", \"TTFFF\", \"TTFFT\", \"TTFTF\", \"TTFTT\", \"TTTFF\", \"TTTFT\", \"TTTTF\", \"TTTTT\"], \"labels\": [\"T\", \"T\", \"T\", \"T\", \"T\", \"T\", \"T\", \"T\", \"T\", \"T\", \"T\", \"T\", \"T\", \"T\", \"T\", \"T\", \"TF\", \"TF\", \"TF\", \"TF\", \"TF\", \"TF\", \"TF\", \"TF\", \"TT\", \"TT\", \"TT\", \"TT\", \"TT\", \"TT\", \"TT\", \"TT\", \"TFF\", \"TFF\", \"TFF\", \"TFF\", \"TFT\", \"TFT\", \"TFT\", \"TFT\", \"TTF\", \"TTF\", \"TTF\", \"TTF\", \"TTT\", \"TTT\", \"TTT\", \"TTT\", \"TFFF\", \"TFFF\", \"TFFT\", \"TFFT\", \"TFTF\", \"TFTF\", \"TFTT\", \"TFTT\", \"TTFF\", \"TTFF\", \"TTFT\", \"TTFT\", \"TTTF\", \"TTTF\", \"TTTT\", \"TTTT\", \"TFFFF\", \"TFFFT\", \"TFFTF\", \"TFFTT\", \"TFTFF\", \"TFTFT\", \"TFTTF\", \"TFTTT\", \"TTFFF\", \"TTFFT\", \"TTFTF\", \"TTFTT\", \"TTTFF\", \"TTTFT\", \"TTTTF\", \"TTTTT\"], \"name\": \"\", \"parents\": [\"TFFFF/TFFF/TFF/TF\", \"TFFFT/TFFF/TFF/TF\", \"TFFTF/TFFT/TFF/TF\", \"TFFTT/TFFT/TFF/TF\", \"TFTFF/TFTF/TFT/TF\", \"TFTFT/TFTF/TFT/TF\", \"TFTTF/TFTT/TFT/TF\", \"TFTTT/TFTT/TFT/TF\", \"TTFFF/TTFF/TTF/TT\", \"TTFFT/TTFF/TTF/TT\", \"TTFTF/TTFT/TTF/TT\", \"TTFTT/TTFT/TTF/TT\", \"TTTFF/TTTF/TTT/TT\", \"TTTFT/TTTF/TTT/TT\", \"TTTTF/TTTT/TTT/TT\", \"TTTTT/TTTT/TTT/TT\", \"TFFFF/TFFF/TFF\", \"TFFFT/TFFF/TFF\", \"TFFTF/TFFT/TFF\", \"TFFTT/TFFT/TFF\", \"TFTFF/TFTF/TFT\", \"TFTFT/TFTF/TFT\", \"TFTTF/TFTT/TFT\", \"TFTTT/TFTT/TFT\", \"TTFFF/TTFF/TTF\", \"TTFFT/TTFF/TTF\", \"TTFTF/TTFT/TTF\", \"TTFTT/TTFT/TTF\", \"TTTFF/TTTF/TTT\", \"TTTFT/TTTF/TTT\", \"TTTTF/TTTT/TTT\", \"TTTTT/TTTT/TTT\", \"TFFFF/TFFF\", \"TFFFT/TFFF\", \"TFFTF/TFFT\", \"TFFTT/TFFT\", \"TFTFF/TFTF\", \"TFTFT/TFTF\", \"TFTTF/TFTT\", \"TFTTT/TFTT\", \"TTFFF/TTFF\", \"TTFFT/TTFF\", \"TTFTF/TTFT\", \"TTFTT/TTFT\", \"TTTFF/TTTF\", \"TTTFT/TTTF\", \"TTTTF/TTTT\", \"TTTTT/TTTT\", \"TFFFF\", \"TFFFT\", \"TFFTF\", \"TFFTT\", \"TFTFF\", \"TFTFT\", \"TFTTF\", \"TFTTT\", \"TTFFF\", \"TTFFT\", \"TTFTF\", \"TTFTT\", \"TTTFF\", \"TTTFT\", \"TTTTF\", \"TTTTT\", \"\", \"\", \"\", \"\", \"\", \"\", \"\", \"\", \"\", \"\", \"\", \"\", \"\", \"\", \"\", \"\"], \"type\": \"sunburst\", \"values\": [0.8380512448667706, 0.003414085275077869, 0.008702657474189378, 0.0015351529275089723, 0.02193223791511612, 0.001005159654916589, 0.0037667555422083087, 0.0013509148187699613, 0.080019599378431, 0.0014788442293957088, 0.004017675003976184, 0.001390429694638918, 0.01859125516039582, 0.001465507958789936, 0.006806931304376174, 0.006471548795438402, 0.8380512448667706, 0.003414085275077869, 0.008702657474189378, 0.0015351529275089723, 0.02193223791511612, 0.001005159654916589, 0.0037667555422083087, 0.0013509148187699613, 0.080019599378431, 0.0014788442293957088, 0.004017675003976184, 0.001390429694638918, 0.01859125516039582, 0.001465507958789936, 0.006806931304376174, 0.006471548795438402, 0.8380512448667706, 0.003414085275077869, 0.008702657474189378, 0.0015351529275089723, 0.02193223791511612, 0.001005159654916589, 0.0037667555422083087, 0.0013509148187699613, 0.080019599378431, 0.0014788442293957088, 0.004017675003976184, 0.001390429694638918, 0.01859125516039582, 0.001465507958789936, 0.006806931304376174, 0.006471548795438402, 0.8380512448667706, 0.003414085275077869, 0.008702657474189378, 0.0015351529275089723, 0.02193223791511612, 0.001005159654916589, 0.0037667555422083087, 0.0013509148187699613, 0.080019599378431, 0.0014788442293957088, 0.004017675003976184, 0.001390429694638918, 0.01859125516039582, 0.001465507958789936, 0.006806931304376174, 0.006471548795438402, 0.8380512448667706, 0.003414085275077869, 0.008702657474189378, 0.0015351529275089723, 0.02193223791511612, 0.001005159654916589, 0.0037667555422083087, 0.0013509148187699613, 0.080019599378431, 0.0014788442293957088, 0.004017675003976184, 0.001390429694638918, 0.01859125516039582, 0.001465507958789936, 0.006806931304376174, 0.006471548795438402]}],\n",
       "                        {\"legend\": {\"tracegroupgap\": 0}, \"margin\": {\"t\": 60}, \"template\": {\"data\": {\"bar\": [{\"error_x\": {\"color\": \"#2a3f5f\"}, \"error_y\": {\"color\": \"#2a3f5f\"}, \"marker\": {\"line\": {\"color\": \"#E5ECF6\", \"width\": 0.5}}, \"type\": \"bar\"}], \"barpolar\": [{\"marker\": {\"line\": {\"color\": \"#E5ECF6\", \"width\": 0.5}}, \"type\": \"barpolar\"}], \"carpet\": [{\"aaxis\": {\"endlinecolor\": \"#2a3f5f\", \"gridcolor\": \"white\", \"linecolor\": \"white\", \"minorgridcolor\": \"white\", \"startlinecolor\": \"#2a3f5f\"}, \"baxis\": {\"endlinecolor\": \"#2a3f5f\", \"gridcolor\": \"white\", \"linecolor\": \"white\", \"minorgridcolor\": \"white\", \"startlinecolor\": \"#2a3f5f\"}, \"type\": \"carpet\"}], \"choropleth\": [{\"colorbar\": {\"outlinewidth\": 0, \"ticks\": \"\"}, \"type\": \"choropleth\"}], \"contour\": [{\"colorbar\": {\"outlinewidth\": 0, \"ticks\": \"\"}, \"colorscale\": [[0.0, \"#0d0887\"], [0.1111111111111111, \"#46039f\"], [0.2222222222222222, \"#7201a8\"], [0.3333333333333333, \"#9c179e\"], [0.4444444444444444, \"#bd3786\"], [0.5555555555555556, \"#d8576b\"], [0.6666666666666666, \"#ed7953\"], [0.7777777777777778, \"#fb9f3a\"], [0.8888888888888888, \"#fdca26\"], [1.0, \"#f0f921\"]], \"type\": \"contour\"}], \"contourcarpet\": [{\"colorbar\": {\"outlinewidth\": 0, \"ticks\": \"\"}, \"type\": \"contourcarpet\"}], \"heatmap\": [{\"colorbar\": {\"outlinewidth\": 0, \"ticks\": \"\"}, \"colorscale\": [[0.0, \"#0d0887\"], [0.1111111111111111, \"#46039f\"], [0.2222222222222222, \"#7201a8\"], [0.3333333333333333, \"#9c179e\"], [0.4444444444444444, \"#bd3786\"], [0.5555555555555556, \"#d8576b\"], [0.6666666666666666, \"#ed7953\"], [0.7777777777777778, \"#fb9f3a\"], [0.8888888888888888, \"#fdca26\"], [1.0, \"#f0f921\"]], \"type\": \"heatmap\"}], \"heatmapgl\": [{\"colorbar\": {\"outlinewidth\": 0, \"ticks\": \"\"}, \"colorscale\": [[0.0, \"#0d0887\"], [0.1111111111111111, \"#46039f\"], [0.2222222222222222, \"#7201a8\"], [0.3333333333333333, \"#9c179e\"], [0.4444444444444444, \"#bd3786\"], [0.5555555555555556, \"#d8576b\"], [0.6666666666666666, \"#ed7953\"], [0.7777777777777778, \"#fb9f3a\"], [0.8888888888888888, \"#fdca26\"], [1.0, \"#f0f921\"]], \"type\": \"heatmapgl\"}], \"histogram\": [{\"marker\": {\"colorbar\": {\"outlinewidth\": 0, \"ticks\": \"\"}}, \"type\": \"histogram\"}], \"histogram2d\": [{\"colorbar\": {\"outlinewidth\": 0, \"ticks\": \"\"}, \"colorscale\": [[0.0, \"#0d0887\"], [0.1111111111111111, \"#46039f\"], [0.2222222222222222, \"#7201a8\"], [0.3333333333333333, \"#9c179e\"], [0.4444444444444444, \"#bd3786\"], [0.5555555555555556, \"#d8576b\"], [0.6666666666666666, \"#ed7953\"], [0.7777777777777778, \"#fb9f3a\"], [0.8888888888888888, \"#fdca26\"], [1.0, \"#f0f921\"]], \"type\": \"histogram2d\"}], \"histogram2dcontour\": [{\"colorbar\": {\"outlinewidth\": 0, \"ticks\": \"\"}, \"colorscale\": [[0.0, \"#0d0887\"], [0.1111111111111111, \"#46039f\"], [0.2222222222222222, \"#7201a8\"], [0.3333333333333333, \"#9c179e\"], [0.4444444444444444, \"#bd3786\"], [0.5555555555555556, \"#d8576b\"], [0.6666666666666666, \"#ed7953\"], [0.7777777777777778, \"#fb9f3a\"], [0.8888888888888888, \"#fdca26\"], [1.0, \"#f0f921\"]], \"type\": \"histogram2dcontour\"}], \"mesh3d\": [{\"colorbar\": {\"outlinewidth\": 0, \"ticks\": \"\"}, \"type\": \"mesh3d\"}], \"parcoords\": [{\"line\": {\"colorbar\": {\"outlinewidth\": 0, \"ticks\": \"\"}}, \"type\": \"parcoords\"}], \"pie\": [{\"automargin\": true, \"type\": \"pie\"}], \"scatter\": [{\"marker\": {\"colorbar\": {\"outlinewidth\": 0, \"ticks\": \"\"}}, \"type\": \"scatter\"}], \"scatter3d\": [{\"line\": {\"colorbar\": {\"outlinewidth\": 0, \"ticks\": \"\"}}, \"marker\": {\"colorbar\": {\"outlinewidth\": 0, \"ticks\": \"\"}}, \"type\": \"scatter3d\"}], \"scattercarpet\": [{\"marker\": {\"colorbar\": {\"outlinewidth\": 0, \"ticks\": \"\"}}, \"type\": \"scattercarpet\"}], \"scattergeo\": [{\"marker\": {\"colorbar\": {\"outlinewidth\": 0, \"ticks\": \"\"}}, \"type\": \"scattergeo\"}], \"scattergl\": [{\"marker\": {\"colorbar\": {\"outlinewidth\": 0, \"ticks\": \"\"}}, \"type\": \"scattergl\"}], \"scattermapbox\": [{\"marker\": {\"colorbar\": {\"outlinewidth\": 0, \"ticks\": \"\"}}, \"type\": \"scattermapbox\"}], \"scatterpolar\": [{\"marker\": {\"colorbar\": {\"outlinewidth\": 0, \"ticks\": \"\"}}, \"type\": \"scatterpolar\"}], \"scatterpolargl\": [{\"marker\": {\"colorbar\": {\"outlinewidth\": 0, \"ticks\": \"\"}}, \"type\": \"scatterpolargl\"}], \"scatterternary\": [{\"marker\": {\"colorbar\": {\"outlinewidth\": 0, \"ticks\": \"\"}}, \"type\": \"scatterternary\"}], \"surface\": [{\"colorbar\": {\"outlinewidth\": 0, \"ticks\": \"\"}, \"colorscale\": [[0.0, \"#0d0887\"], [0.1111111111111111, \"#46039f\"], [0.2222222222222222, \"#7201a8\"], [0.3333333333333333, \"#9c179e\"], [0.4444444444444444, \"#bd3786\"], [0.5555555555555556, \"#d8576b\"], [0.6666666666666666, \"#ed7953\"], [0.7777777777777778, \"#fb9f3a\"], [0.8888888888888888, \"#fdca26\"], [1.0, \"#f0f921\"]], \"type\": \"surface\"}], \"table\": [{\"cells\": {\"fill\": {\"color\": \"#EBF0F8\"}, \"line\": {\"color\": \"white\"}}, \"header\": {\"fill\": {\"color\": \"#C8D4E3\"}, \"line\": {\"color\": \"white\"}}, \"type\": \"table\"}]}, \"layout\": {\"annotationdefaults\": {\"arrowcolor\": \"#2a3f5f\", \"arrowhead\": 0, \"arrowwidth\": 1}, \"coloraxis\": {\"colorbar\": {\"outlinewidth\": 0, \"ticks\": \"\"}}, \"colorscale\": {\"diverging\": [[0, \"#8e0152\"], [0.1, \"#c51b7d\"], [0.2, \"#de77ae\"], [0.3, \"#f1b6da\"], [0.4, \"#fde0ef\"], [0.5, \"#f7f7f7\"], [0.6, \"#e6f5d0\"], [0.7, \"#b8e186\"], [0.8, \"#7fbc41\"], [0.9, \"#4d9221\"], [1, \"#276419\"]], \"sequential\": [[0.0, \"#0d0887\"], [0.1111111111111111, \"#46039f\"], [0.2222222222222222, \"#7201a8\"], [0.3333333333333333, \"#9c179e\"], [0.4444444444444444, \"#bd3786\"], [0.5555555555555556, \"#d8576b\"], [0.6666666666666666, \"#ed7953\"], [0.7777777777777778, \"#fb9f3a\"], [0.8888888888888888, \"#fdca26\"], [1.0, \"#f0f921\"]], \"sequentialminus\": [[0.0, \"#0d0887\"], [0.1111111111111111, \"#46039f\"], [0.2222222222222222, \"#7201a8\"], [0.3333333333333333, \"#9c179e\"], [0.4444444444444444, \"#bd3786\"], [0.5555555555555556, \"#d8576b\"], [0.6666666666666666, \"#ed7953\"], [0.7777777777777778, \"#fb9f3a\"], [0.8888888888888888, \"#fdca26\"], [1.0, \"#f0f921\"]]}, \"colorway\": [\"#636efa\", \"#EF553B\", \"#00cc96\", \"#ab63fa\", \"#FFA15A\", \"#19d3f3\", \"#FF6692\", \"#B6E880\", \"#FF97FF\", \"#FECB52\"], \"font\": {\"color\": \"#2a3f5f\"}, \"geo\": {\"bgcolor\": \"white\", \"lakecolor\": \"white\", \"landcolor\": \"#E5ECF6\", \"showlakes\": true, \"showland\": true, \"subunitcolor\": \"white\"}, \"hoverlabel\": {\"align\": \"left\"}, \"hovermode\": \"closest\", \"mapbox\": {\"style\": \"light\"}, \"paper_bgcolor\": \"white\", \"plot_bgcolor\": \"#E5ECF6\", \"polar\": {\"angularaxis\": {\"gridcolor\": \"white\", \"linecolor\": \"white\", \"ticks\": \"\"}, \"bgcolor\": \"#E5ECF6\", \"radialaxis\": {\"gridcolor\": \"white\", \"linecolor\": \"white\", \"ticks\": \"\"}}, \"scene\": {\"xaxis\": {\"backgroundcolor\": \"#E5ECF6\", \"gridcolor\": \"white\", \"gridwidth\": 2, \"linecolor\": \"white\", \"showbackground\": true, \"ticks\": \"\", \"zerolinecolor\": \"white\"}, \"yaxis\": {\"backgroundcolor\": \"#E5ECF6\", \"gridcolor\": \"white\", \"gridwidth\": 2, \"linecolor\": \"white\", \"showbackground\": true, \"ticks\": \"\", \"zerolinecolor\": \"white\"}, \"zaxis\": {\"backgroundcolor\": \"#E5ECF6\", \"gridcolor\": \"white\", \"gridwidth\": 2, \"linecolor\": \"white\", \"showbackground\": true, \"ticks\": \"\", \"zerolinecolor\": \"white\"}}, \"shapedefaults\": {\"line\": {\"color\": \"#2a3f5f\"}}, \"ternary\": {\"aaxis\": {\"gridcolor\": \"white\", \"linecolor\": \"white\", \"ticks\": \"\"}, \"baxis\": {\"gridcolor\": \"white\", \"linecolor\": \"white\", \"ticks\": \"\"}, \"bgcolor\": \"#E5ECF6\", \"caxis\": {\"gridcolor\": \"white\", \"linecolor\": \"white\", \"ticks\": \"\"}}, \"title\": {\"x\": 0.05}, \"xaxis\": {\"automargin\": true, \"gridcolor\": \"white\", \"linecolor\": \"white\", \"ticks\": \"\", \"title\": {\"standoff\": 15}, \"zerolinecolor\": \"white\", \"zerolinewidth\": 2}, \"yaxis\": {\"automargin\": true, \"gridcolor\": \"white\", \"linecolor\": \"white\", \"ticks\": \"\", \"title\": {\"standoff\": 15}, \"zerolinecolor\": \"white\", \"zerolinewidth\": 2}}}},\n",
       "                        {\"responsive\": true}\n",
       "                    ).then(function(){\n",
       "                            \n",
       "var gd = document.getElementById('4bdb9557-5614-4a8f-a70f-84b0fcc3f2a7');\n",
       "var x = new MutationObserver(function (mutations, observer) {{\n",
       "        var display = window.getComputedStyle(gd).display;\n",
       "        if (!display || display === 'none') {{\n",
       "            console.log([gd, 'removed!']);\n",
       "            Plotly.purge(gd);\n",
       "            observer.disconnect();\n",
       "        }}\n",
       "}});\n",
       "\n",
       "// Listen for the removal of the full notebook cells\n",
       "var notebookContainer = gd.closest('#notebook-container');\n",
       "if (notebookContainer) {{\n",
       "    x.observe(notebookContainer, {childList: true});\n",
       "}}\n",
       "\n",
       "// Listen for the clearing of the current output cell\n",
       "var outputEl = gd.closest('.output');\n",
       "if (outputEl) {{\n",
       "    x.observe(outputEl, {childList: true});\n",
       "}}\n",
       "\n",
       "                        })\n",
       "                };\n",
       "                });\n",
       "            </script>\n",
       "        </div>"
      ]
     },
     "metadata": {},
     "output_type": "display_data"
    }
   ],
   "source": [
    "fig = px.sunburst(sun_count, path=['cohort_yr4_TF', 'cohort_yr3_TF', 'cohort_yr2_TF', 'cohort_yr1_TF', 'cohort_yr0_TF'], values='perc_cohort_donors', \n",
    "                  #color='cohort_yr1_TF'\n",
    "                 )\n",
    "fig.show()"
   ]
  },
  {
   "cell_type": "code",
   "execution_count": 146,
   "metadata": {},
   "outputs": [
    {
     "data": {
      "text/plain": [
       "Sunburst({\n",
       "    'branchvalues': 'total',\n",
       "    'domain': {'x': [0.0, 1.0], 'y': [0.0, 1.0]},\n",
       "    'hovertemplate': ('labels=%{label}<br>perc_cohort' ... 'nt}<br>id=%{id}<extra></extra>'),\n",
       "    'ids': array(['F/F/F/F/T', 'T/F/F/F/T', 'F/T/F/F/T', 'T/T/F/F/T', 'F/F/T/F/T',\n",
       "                  'T/F/T/F/T', 'F/T/T/F/T', 'T/T/T/F/T', 'F/F/F/T/T', 'T/F/F/T/T',\n",
       "                  'F/T/F/T/T', 'T/T/F/T/T', 'F/F/T/T/T', 'T/F/T/T/T', 'F/T/T/T/T',\n",
       "                  'T/T/T/T/T', 'F/F/F/F', 'T/F/F/F', 'F/T/F/F', 'T/T/F/F', 'F/F/T/F',\n",
       "                  'T/F/T/F', 'F/T/T/F', 'T/T/T/F', 'F/F/F/T', 'T/F/F/T', 'F/T/F/T',\n",
       "                  'T/T/F/T', 'F/F/T/T', 'T/F/T/T', 'F/T/T/T', 'T/T/T/T', 'F/F/F', 'T/F/F',\n",
       "                  'F/T/F', 'T/T/F', 'F/F/T', 'T/F/T', 'F/T/T', 'T/T/T', 'F/F', 'T/F',\n",
       "                  'F/T', 'T/T', 'F', 'T'], dtype=object),\n",
       "    'labels': array(['T', 'T', 'T', 'T', 'T', 'T', 'T', 'T', 'T', 'T', 'T', 'T', 'T', 'T',\n",
       "                     'T', 'T', 'F', 'F', 'F', 'F', 'F', 'F', 'F', 'F', 'T', 'T', 'T', 'T',\n",
       "                     'T', 'T', 'T', 'T', 'F', 'F', 'F', 'F', 'T', 'T', 'T', 'T', 'F', 'F',\n",
       "                     'T', 'T', 'F', 'T'], dtype=object),\n",
       "    'name': '',\n",
       "    'parents': array(['F/F/F/F', 'T/F/F/F', 'F/T/F/F', 'T/T/F/F', 'F/F/T/F', 'T/F/T/F',\n",
       "                      'F/T/T/F', 'T/T/T/F', 'F/F/F/T', 'T/F/F/T', 'F/T/F/T', 'T/T/F/T',\n",
       "                      'F/F/T/T', 'T/F/T/T', 'F/T/T/T', 'T/T/T/T', 'F/F/F', 'T/F/F', 'F/T/F',\n",
       "                      'T/T/F', 'F/F/T', 'T/F/T', 'F/T/T', 'T/T/T', 'F/F/F', 'T/F/F', 'F/T/F',\n",
       "                      'T/T/F', 'F/F/T', 'T/F/T', 'F/T/T', 'T/T/T', 'F/F', 'T/F', 'F/T', 'T/T',\n",
       "                      'F/F', 'T/F', 'F/T', 'T/T', 'F', 'T', 'F', 'T', '', ''], dtype=object),\n",
       "    'values': array([0.83805124, 0.00341409, 0.00870266, 0.00153515, 0.02193224, 0.00100516,\n",
       "                     0.00376676, 0.00135091, 0.0800196 , 0.00147884, 0.00401768, 0.00139043,\n",
       "                     0.01859126, 0.00146551, 0.00680693, 0.00647155, 0.83805124, 0.00341409,\n",
       "                     0.00870266, 0.00153515, 0.02193224, 0.00100516, 0.00376676, 0.00135091,\n",
       "                     0.0800196 , 0.00147884, 0.00401768, 0.00139043, 0.01859126, 0.00146551,\n",
       "                     0.00680693, 0.00647155, 0.91807084, 0.00489293, 0.01272033, 0.00292558,\n",
       "                     0.04052349, 0.00247067, 0.01057369, 0.00782246, 0.95859434, 0.0073636 ,\n",
       "                     0.02329402, 0.01074805, 0.98188836, 0.01811164])\n",
       "})"
      ]
     },
     "execution_count": 146,
     "metadata": {},
     "output_type": "execute_result"
    }
   ],
   "source": [
    "fig['data'][0]"
   ]
  },
  {
   "cell_type": "code",
   "execution_count": 207,
   "metadata": {},
   "outputs": [
    {
     "data": {
      "application/vnd.plotly.v1+json": {
       "config": {
        "plotlyServerURL": "https://plot.ly"
       },
       "data": [
        {
         "branchvalues": "total",
         "ids": [
          "T/F/F/F/F",
          "T/T/F/F/F",
          "T/F/T/F/F",
          "T/T/T/F/F",
          "T/F/F/T/F",
          "T/T/F/T/F",
          "T/F/T/T/F",
          "T/T/T/T/F",
          "T/F/F/F/T",
          "T/T/F/F/T",
          "T/F/T/F/T",
          "T/T/T/F/T",
          "T/F/F/T/T",
          "T/T/F/T/T",
          "T/F/T/T/T",
          "T/T/T/T/T",
          "T/F/F/F",
          "T/T/F/F",
          "T/F/T/F",
          "T/T/T/F",
          "T/F/F/T",
          "T/T/F/T",
          "T/F/T/T",
          "T/T/T/T",
          "T/F/F",
          "T/T/F",
          "T/F/T",
          "T/T/T",
          "T/F",
          "T/T",
          "T"
         ],
         "labels": [
          "F",
          "F",
          "F",
          "F",
          "F",
          "F",
          "F",
          "F",
          "T",
          "T",
          "T",
          "T",
          "T",
          "T",
          "T",
          "T",
          "F",
          "F",
          "F",
          "F",
          "T",
          "T",
          "T",
          "T",
          "F",
          "F",
          "T",
          "T",
          "F",
          "T",
          "T"
         ],
         "maxdepth": 5,
         "parents": [
          "T/F/F/F",
          "T/T/F/F",
          "T/F/T/F",
          "T/T/T/F",
          "T/F/F/T",
          "T/T/F/T",
          "T/F/T/T",
          "T/T/T/T",
          "T/F/F/F",
          "T/T/F/F",
          "T/F/T/F",
          "T/T/T/F",
          "T/F/F/T",
          "T/T/F/T",
          "T/F/T/T",
          "T/T/T/T",
          "T/F/F",
          "T/T/F",
          "T/F/T",
          "T/T/T",
          "T/F/F",
          "T/T/F",
          "T/F/T",
          "T/T/T",
          "T/F",
          "T/T",
          "T/F",
          "T/T",
          "T",
          "T",
          ""
         ],
         "pathbar": {
          "visible": true
         },
         "textinfo": "label+value+percent parent+percent entry+percent root",
         "type": "treemap",
         "values": [
          0.8380512448667706,
          0.080019599378431,
          0.02193223791511612,
          0.01859125516039582,
          0.008702657474189378,
          0.004017675003976184,
          0.0037667555422083087,
          0.006806931304376174,
          0.003414085275077869,
          0.0014788442293957088,
          0.001005159654916589,
          0.001465507958789936,
          0.0015351529275089723,
          0.001390429694638918,
          0.0013509148187699613,
          0.006471548795438402,
          0.8414653301418485,
          0.08149844360782671,
          0.022937397570032707,
          0.020056763119185757,
          0.01023781040169835,
          0.005408104698615102,
          0.00511767036097827,
          0.013278480099814575,
          0.8517031405435469,
          0.0869065483064418,
          0.028055067931010976,
          0.03333524321900033,
          0.8797582084745578,
          0.12024179152544215,
          1
         ]
        }
       ],
       "layout": {
        "template": {
         "data": {
          "bar": [
           {
            "error_x": {
             "color": "#2a3f5f"
            },
            "error_y": {
             "color": "#2a3f5f"
            },
            "marker": {
             "line": {
              "color": "#E5ECF6",
              "width": 0.5
             }
            },
            "type": "bar"
           }
          ],
          "barpolar": [
           {
            "marker": {
             "line": {
              "color": "#E5ECF6",
              "width": 0.5
             }
            },
            "type": "barpolar"
           }
          ],
          "carpet": [
           {
            "aaxis": {
             "endlinecolor": "#2a3f5f",
             "gridcolor": "white",
             "linecolor": "white",
             "minorgridcolor": "white",
             "startlinecolor": "#2a3f5f"
            },
            "baxis": {
             "endlinecolor": "#2a3f5f",
             "gridcolor": "white",
             "linecolor": "white",
             "minorgridcolor": "white",
             "startlinecolor": "#2a3f5f"
            },
            "type": "carpet"
           }
          ],
          "choropleth": [
           {
            "colorbar": {
             "outlinewidth": 0,
             "ticks": ""
            },
            "type": "choropleth"
           }
          ],
          "contour": [
           {
            "colorbar": {
             "outlinewidth": 0,
             "ticks": ""
            },
            "colorscale": [
             [
              0,
              "#0d0887"
             ],
             [
              0.1111111111111111,
              "#46039f"
             ],
             [
              0.2222222222222222,
              "#7201a8"
             ],
             [
              0.3333333333333333,
              "#9c179e"
             ],
             [
              0.4444444444444444,
              "#bd3786"
             ],
             [
              0.5555555555555556,
              "#d8576b"
             ],
             [
              0.6666666666666666,
              "#ed7953"
             ],
             [
              0.7777777777777778,
              "#fb9f3a"
             ],
             [
              0.8888888888888888,
              "#fdca26"
             ],
             [
              1,
              "#f0f921"
             ]
            ],
            "type": "contour"
           }
          ],
          "contourcarpet": [
           {
            "colorbar": {
             "outlinewidth": 0,
             "ticks": ""
            },
            "type": "contourcarpet"
           }
          ],
          "heatmap": [
           {
            "colorbar": {
             "outlinewidth": 0,
             "ticks": ""
            },
            "colorscale": [
             [
              0,
              "#0d0887"
             ],
             [
              0.1111111111111111,
              "#46039f"
             ],
             [
              0.2222222222222222,
              "#7201a8"
             ],
             [
              0.3333333333333333,
              "#9c179e"
             ],
             [
              0.4444444444444444,
              "#bd3786"
             ],
             [
              0.5555555555555556,
              "#d8576b"
             ],
             [
              0.6666666666666666,
              "#ed7953"
             ],
             [
              0.7777777777777778,
              "#fb9f3a"
             ],
             [
              0.8888888888888888,
              "#fdca26"
             ],
             [
              1,
              "#f0f921"
             ]
            ],
            "type": "heatmap"
           }
          ],
          "heatmapgl": [
           {
            "colorbar": {
             "outlinewidth": 0,
             "ticks": ""
            },
            "colorscale": [
             [
              0,
              "#0d0887"
             ],
             [
              0.1111111111111111,
              "#46039f"
             ],
             [
              0.2222222222222222,
              "#7201a8"
             ],
             [
              0.3333333333333333,
              "#9c179e"
             ],
             [
              0.4444444444444444,
              "#bd3786"
             ],
             [
              0.5555555555555556,
              "#d8576b"
             ],
             [
              0.6666666666666666,
              "#ed7953"
             ],
             [
              0.7777777777777778,
              "#fb9f3a"
             ],
             [
              0.8888888888888888,
              "#fdca26"
             ],
             [
              1,
              "#f0f921"
             ]
            ],
            "type": "heatmapgl"
           }
          ],
          "histogram": [
           {
            "marker": {
             "colorbar": {
              "outlinewidth": 0,
              "ticks": ""
             }
            },
            "type": "histogram"
           }
          ],
          "histogram2d": [
           {
            "colorbar": {
             "outlinewidth": 0,
             "ticks": ""
            },
            "colorscale": [
             [
              0,
              "#0d0887"
             ],
             [
              0.1111111111111111,
              "#46039f"
             ],
             [
              0.2222222222222222,
              "#7201a8"
             ],
             [
              0.3333333333333333,
              "#9c179e"
             ],
             [
              0.4444444444444444,
              "#bd3786"
             ],
             [
              0.5555555555555556,
              "#d8576b"
             ],
             [
              0.6666666666666666,
              "#ed7953"
             ],
             [
              0.7777777777777778,
              "#fb9f3a"
             ],
             [
              0.8888888888888888,
              "#fdca26"
             ],
             [
              1,
              "#f0f921"
             ]
            ],
            "type": "histogram2d"
           }
          ],
          "histogram2dcontour": [
           {
            "colorbar": {
             "outlinewidth": 0,
             "ticks": ""
            },
            "colorscale": [
             [
              0,
              "#0d0887"
             ],
             [
              0.1111111111111111,
              "#46039f"
             ],
             [
              0.2222222222222222,
              "#7201a8"
             ],
             [
              0.3333333333333333,
              "#9c179e"
             ],
             [
              0.4444444444444444,
              "#bd3786"
             ],
             [
              0.5555555555555556,
              "#d8576b"
             ],
             [
              0.6666666666666666,
              "#ed7953"
             ],
             [
              0.7777777777777778,
              "#fb9f3a"
             ],
             [
              0.8888888888888888,
              "#fdca26"
             ],
             [
              1,
              "#f0f921"
             ]
            ],
            "type": "histogram2dcontour"
           }
          ],
          "mesh3d": [
           {
            "colorbar": {
             "outlinewidth": 0,
             "ticks": ""
            },
            "type": "mesh3d"
           }
          ],
          "parcoords": [
           {
            "line": {
             "colorbar": {
              "outlinewidth": 0,
              "ticks": ""
             }
            },
            "type": "parcoords"
           }
          ],
          "pie": [
           {
            "automargin": true,
            "type": "pie"
           }
          ],
          "scatter": [
           {
            "marker": {
             "colorbar": {
              "outlinewidth": 0,
              "ticks": ""
             }
            },
            "type": "scatter"
           }
          ],
          "scatter3d": [
           {
            "line": {
             "colorbar": {
              "outlinewidth": 0,
              "ticks": ""
             }
            },
            "marker": {
             "colorbar": {
              "outlinewidth": 0,
              "ticks": ""
             }
            },
            "type": "scatter3d"
           }
          ],
          "scattercarpet": [
           {
            "marker": {
             "colorbar": {
              "outlinewidth": 0,
              "ticks": ""
             }
            },
            "type": "scattercarpet"
           }
          ],
          "scattergeo": [
           {
            "marker": {
             "colorbar": {
              "outlinewidth": 0,
              "ticks": ""
             }
            },
            "type": "scattergeo"
           }
          ],
          "scattergl": [
           {
            "marker": {
             "colorbar": {
              "outlinewidth": 0,
              "ticks": ""
             }
            },
            "type": "scattergl"
           }
          ],
          "scattermapbox": [
           {
            "marker": {
             "colorbar": {
              "outlinewidth": 0,
              "ticks": ""
             }
            },
            "type": "scattermapbox"
           }
          ],
          "scatterpolar": [
           {
            "marker": {
             "colorbar": {
              "outlinewidth": 0,
              "ticks": ""
             }
            },
            "type": "scatterpolar"
           }
          ],
          "scatterpolargl": [
           {
            "marker": {
             "colorbar": {
              "outlinewidth": 0,
              "ticks": ""
             }
            },
            "type": "scatterpolargl"
           }
          ],
          "scatterternary": [
           {
            "marker": {
             "colorbar": {
              "outlinewidth": 0,
              "ticks": ""
             }
            },
            "type": "scatterternary"
           }
          ],
          "surface": [
           {
            "colorbar": {
             "outlinewidth": 0,
             "ticks": ""
            },
            "colorscale": [
             [
              0,
              "#0d0887"
             ],
             [
              0.1111111111111111,
              "#46039f"
             ],
             [
              0.2222222222222222,
              "#7201a8"
             ],
             [
              0.3333333333333333,
              "#9c179e"
             ],
             [
              0.4444444444444444,
              "#bd3786"
             ],
             [
              0.5555555555555556,
              "#d8576b"
             ],
             [
              0.6666666666666666,
              "#ed7953"
             ],
             [
              0.7777777777777778,
              "#fb9f3a"
             ],
             [
              0.8888888888888888,
              "#fdca26"
             ],
             [
              1,
              "#f0f921"
             ]
            ],
            "type": "surface"
           }
          ],
          "table": [
           {
            "cells": {
             "fill": {
              "color": "#EBF0F8"
             },
             "line": {
              "color": "white"
             }
            },
            "header": {
             "fill": {
              "color": "#C8D4E3"
             },
             "line": {
              "color": "white"
             }
            },
            "type": "table"
           }
          ]
         },
         "layout": {
          "annotationdefaults": {
           "arrowcolor": "#2a3f5f",
           "arrowhead": 0,
           "arrowwidth": 1
          },
          "coloraxis": {
           "colorbar": {
            "outlinewidth": 0,
            "ticks": ""
           }
          },
          "colorscale": {
           "diverging": [
            [
             0,
             "#8e0152"
            ],
            [
             0.1,
             "#c51b7d"
            ],
            [
             0.2,
             "#de77ae"
            ],
            [
             0.3,
             "#f1b6da"
            ],
            [
             0.4,
             "#fde0ef"
            ],
            [
             0.5,
             "#f7f7f7"
            ],
            [
             0.6,
             "#e6f5d0"
            ],
            [
             0.7,
             "#b8e186"
            ],
            [
             0.8,
             "#7fbc41"
            ],
            [
             0.9,
             "#4d9221"
            ],
            [
             1,
             "#276419"
            ]
           ],
           "sequential": [
            [
             0,
             "#0d0887"
            ],
            [
             0.1111111111111111,
             "#46039f"
            ],
            [
             0.2222222222222222,
             "#7201a8"
            ],
            [
             0.3333333333333333,
             "#9c179e"
            ],
            [
             0.4444444444444444,
             "#bd3786"
            ],
            [
             0.5555555555555556,
             "#d8576b"
            ],
            [
             0.6666666666666666,
             "#ed7953"
            ],
            [
             0.7777777777777778,
             "#fb9f3a"
            ],
            [
             0.8888888888888888,
             "#fdca26"
            ],
            [
             1,
             "#f0f921"
            ]
           ],
           "sequentialminus": [
            [
             0,
             "#0d0887"
            ],
            [
             0.1111111111111111,
             "#46039f"
            ],
            [
             0.2222222222222222,
             "#7201a8"
            ],
            [
             0.3333333333333333,
             "#9c179e"
            ],
            [
             0.4444444444444444,
             "#bd3786"
            ],
            [
             0.5555555555555556,
             "#d8576b"
            ],
            [
             0.6666666666666666,
             "#ed7953"
            ],
            [
             0.7777777777777778,
             "#fb9f3a"
            ],
            [
             0.8888888888888888,
             "#fdca26"
            ],
            [
             1,
             "#f0f921"
            ]
           ]
          },
          "colorway": [
           "#636efa",
           "#EF553B",
           "#00cc96",
           "#ab63fa",
           "#FFA15A",
           "#19d3f3",
           "#FF6692",
           "#B6E880",
           "#FF97FF",
           "#FECB52"
          ],
          "font": {
           "color": "#2a3f5f"
          },
          "geo": {
           "bgcolor": "white",
           "lakecolor": "white",
           "landcolor": "#E5ECF6",
           "showlakes": true,
           "showland": true,
           "subunitcolor": "white"
          },
          "hoverlabel": {
           "align": "left"
          },
          "hovermode": "closest",
          "mapbox": {
           "style": "light"
          },
          "paper_bgcolor": "white",
          "plot_bgcolor": "#E5ECF6",
          "polar": {
           "angularaxis": {
            "gridcolor": "white",
            "linecolor": "white",
            "ticks": ""
           },
           "bgcolor": "#E5ECF6",
           "radialaxis": {
            "gridcolor": "white",
            "linecolor": "white",
            "ticks": ""
           }
          },
          "scene": {
           "xaxis": {
            "backgroundcolor": "#E5ECF6",
            "gridcolor": "white",
            "gridwidth": 2,
            "linecolor": "white",
            "showbackground": true,
            "ticks": "",
            "zerolinecolor": "white"
           },
           "yaxis": {
            "backgroundcolor": "#E5ECF6",
            "gridcolor": "white",
            "gridwidth": 2,
            "linecolor": "white",
            "showbackground": true,
            "ticks": "",
            "zerolinecolor": "white"
           },
           "zaxis": {
            "backgroundcolor": "#E5ECF6",
            "gridcolor": "white",
            "gridwidth": 2,
            "linecolor": "white",
            "showbackground": true,
            "ticks": "",
            "zerolinecolor": "white"
           }
          },
          "shapedefaults": {
           "line": {
            "color": "#2a3f5f"
           }
          },
          "ternary": {
           "aaxis": {
            "gridcolor": "white",
            "linecolor": "white",
            "ticks": ""
           },
           "baxis": {
            "gridcolor": "white",
            "linecolor": "white",
            "ticks": ""
           },
           "bgcolor": "#E5ECF6",
           "caxis": {
            "gridcolor": "white",
            "linecolor": "white",
            "ticks": ""
           }
          },
          "title": {
           "x": 0.05
          },
          "xaxis": {
           "automargin": true,
           "gridcolor": "white",
           "linecolor": "white",
           "ticks": "",
           "title": {
            "standoff": 15
           },
           "zerolinecolor": "white",
           "zerolinewidth": 2
          },
          "yaxis": {
           "automargin": true,
           "gridcolor": "white",
           "linecolor": "white",
           "ticks": "",
           "title": {
            "standoff": 15
           },
           "zerolinecolor": "white",
           "zerolinewidth": 2
          }
         }
        }
       }
      },
      "text/html": [
       "<div>\n",
       "        \n",
       "        \n",
       "            <div id=\"0c7c19a9-c882-4239-829f-12e5cf3af231\" class=\"plotly-graph-div\" style=\"height:525px; width:100%;\"></div>\n",
       "            <script type=\"text/javascript\">\n",
       "                require([\"plotly\"], function(Plotly) {\n",
       "                    window.PLOTLYENV=window.PLOTLYENV || {};\n",
       "                    \n",
       "                if (document.getElementById(\"0c7c19a9-c882-4239-829f-12e5cf3af231\")) {\n",
       "                    Plotly.newPlot(\n",
       "                        '0c7c19a9-c882-4239-829f-12e5cf3af231',\n",
       "                        [{\"branchvalues\": \"total\", \"ids\": [\"T/F/F/F/F\", \"T/T/F/F/F\", \"T/F/T/F/F\", \"T/T/T/F/F\", \"T/F/F/T/F\", \"T/T/F/T/F\", \"T/F/T/T/F\", \"T/T/T/T/F\", \"T/F/F/F/T\", \"T/T/F/F/T\", \"T/F/T/F/T\", \"T/T/T/F/T\", \"T/F/F/T/T\", \"T/T/F/T/T\", \"T/F/T/T/T\", \"T/T/T/T/T\", \"T/F/F/F\", \"T/T/F/F\", \"T/F/T/F\", \"T/T/T/F\", \"T/F/F/T\", \"T/T/F/T\", \"T/F/T/T\", \"T/T/T/T\", \"T/F/F\", \"T/T/F\", \"T/F/T\", \"T/T/T\", \"T/F\", \"T/T\", \"T\"], \"labels\": [\"F\", \"F\", \"F\", \"F\", \"F\", \"F\", \"F\", \"F\", \"T\", \"T\", \"T\", \"T\", \"T\", \"T\", \"T\", \"T\", \"F\", \"F\", \"F\", \"F\", \"T\", \"T\", \"T\", \"T\", \"F\", \"F\", \"T\", \"T\", \"F\", \"T\", \"T\"], \"maxdepth\": 5, \"parents\": [\"T/F/F/F\", \"T/T/F/F\", \"T/F/T/F\", \"T/T/T/F\", \"T/F/F/T\", \"T/T/F/T\", \"T/F/T/T\", \"T/T/T/T\", \"T/F/F/F\", \"T/T/F/F\", \"T/F/T/F\", \"T/T/T/F\", \"T/F/F/T\", \"T/T/F/T\", \"T/F/T/T\", \"T/T/T/T\", \"T/F/F\", \"T/T/F\", \"T/F/T\", \"T/T/T\", \"T/F/F\", \"T/T/F\", \"T/F/T\", \"T/T/T\", \"T/F\", \"T/T\", \"T/F\", \"T/T\", \"T\", \"T\", \"\"], \"pathbar\": {\"visible\": true}, \"textinfo\": \"label+value+percent parent+percent entry+percent root\", \"type\": \"treemap\", \"values\": [0.8380512448667706, 0.080019599378431, 0.02193223791511612, 0.01859125516039582, 0.008702657474189378, 0.004017675003976184, 0.0037667555422083087, 0.006806931304376174, 0.003414085275077869, 0.0014788442293957088, 0.001005159654916589, 0.001465507958789936, 0.0015351529275089723, 0.001390429694638918, 0.0013509148187699613, 0.006471548795438402, 0.8414653301418485, 0.08149844360782671, 0.022937397570032707, 0.020056763119185757, 0.01023781040169835, 0.005408104698615102, 0.00511767036097827, 0.013278480099814575, 0.8517031405435469, 0.0869065483064418, 0.028055067931010976, 0.03333524321900033, 0.8797582084745578, 0.12024179152544215, 1.0]}],\n",
       "                        {\"template\": {\"data\": {\"bar\": [{\"error_x\": {\"color\": \"#2a3f5f\"}, \"error_y\": {\"color\": \"#2a3f5f\"}, \"marker\": {\"line\": {\"color\": \"#E5ECF6\", \"width\": 0.5}}, \"type\": \"bar\"}], \"barpolar\": [{\"marker\": {\"line\": {\"color\": \"#E5ECF6\", \"width\": 0.5}}, \"type\": \"barpolar\"}], \"carpet\": [{\"aaxis\": {\"endlinecolor\": \"#2a3f5f\", \"gridcolor\": \"white\", \"linecolor\": \"white\", \"minorgridcolor\": \"white\", \"startlinecolor\": \"#2a3f5f\"}, \"baxis\": {\"endlinecolor\": \"#2a3f5f\", \"gridcolor\": \"white\", \"linecolor\": \"white\", \"minorgridcolor\": \"white\", \"startlinecolor\": \"#2a3f5f\"}, \"type\": \"carpet\"}], \"choropleth\": [{\"colorbar\": {\"outlinewidth\": 0, \"ticks\": \"\"}, \"type\": \"choropleth\"}], \"contour\": [{\"colorbar\": {\"outlinewidth\": 0, \"ticks\": \"\"}, \"colorscale\": [[0.0, \"#0d0887\"], [0.1111111111111111, \"#46039f\"], [0.2222222222222222, \"#7201a8\"], [0.3333333333333333, \"#9c179e\"], [0.4444444444444444, \"#bd3786\"], [0.5555555555555556, \"#d8576b\"], [0.6666666666666666, \"#ed7953\"], [0.7777777777777778, \"#fb9f3a\"], [0.8888888888888888, \"#fdca26\"], [1.0, \"#f0f921\"]], \"type\": \"contour\"}], \"contourcarpet\": [{\"colorbar\": {\"outlinewidth\": 0, \"ticks\": \"\"}, \"type\": \"contourcarpet\"}], \"heatmap\": [{\"colorbar\": {\"outlinewidth\": 0, \"ticks\": \"\"}, \"colorscale\": [[0.0, \"#0d0887\"], [0.1111111111111111, \"#46039f\"], [0.2222222222222222, \"#7201a8\"], [0.3333333333333333, \"#9c179e\"], [0.4444444444444444, \"#bd3786\"], [0.5555555555555556, \"#d8576b\"], [0.6666666666666666, \"#ed7953\"], [0.7777777777777778, \"#fb9f3a\"], [0.8888888888888888, \"#fdca26\"], [1.0, \"#f0f921\"]], \"type\": \"heatmap\"}], \"heatmapgl\": [{\"colorbar\": {\"outlinewidth\": 0, \"ticks\": \"\"}, \"colorscale\": [[0.0, \"#0d0887\"], [0.1111111111111111, \"#46039f\"], [0.2222222222222222, \"#7201a8\"], [0.3333333333333333, \"#9c179e\"], [0.4444444444444444, \"#bd3786\"], [0.5555555555555556, \"#d8576b\"], [0.6666666666666666, \"#ed7953\"], [0.7777777777777778, \"#fb9f3a\"], [0.8888888888888888, \"#fdca26\"], [1.0, \"#f0f921\"]], \"type\": \"heatmapgl\"}], \"histogram\": [{\"marker\": {\"colorbar\": {\"outlinewidth\": 0, \"ticks\": \"\"}}, \"type\": \"histogram\"}], \"histogram2d\": [{\"colorbar\": {\"outlinewidth\": 0, \"ticks\": \"\"}, \"colorscale\": [[0.0, \"#0d0887\"], [0.1111111111111111, \"#46039f\"], [0.2222222222222222, \"#7201a8\"], [0.3333333333333333, \"#9c179e\"], [0.4444444444444444, \"#bd3786\"], [0.5555555555555556, \"#d8576b\"], [0.6666666666666666, \"#ed7953\"], [0.7777777777777778, \"#fb9f3a\"], [0.8888888888888888, \"#fdca26\"], [1.0, \"#f0f921\"]], \"type\": \"histogram2d\"}], \"histogram2dcontour\": [{\"colorbar\": {\"outlinewidth\": 0, \"ticks\": \"\"}, \"colorscale\": [[0.0, \"#0d0887\"], [0.1111111111111111, \"#46039f\"], [0.2222222222222222, \"#7201a8\"], [0.3333333333333333, \"#9c179e\"], [0.4444444444444444, \"#bd3786\"], [0.5555555555555556, \"#d8576b\"], [0.6666666666666666, \"#ed7953\"], [0.7777777777777778, \"#fb9f3a\"], [0.8888888888888888, \"#fdca26\"], [1.0, \"#f0f921\"]], \"type\": \"histogram2dcontour\"}], \"mesh3d\": [{\"colorbar\": {\"outlinewidth\": 0, \"ticks\": \"\"}, \"type\": \"mesh3d\"}], \"parcoords\": [{\"line\": {\"colorbar\": {\"outlinewidth\": 0, \"ticks\": \"\"}}, \"type\": \"parcoords\"}], \"pie\": [{\"automargin\": true, \"type\": \"pie\"}], \"scatter\": [{\"marker\": {\"colorbar\": {\"outlinewidth\": 0, \"ticks\": \"\"}}, \"type\": \"scatter\"}], \"scatter3d\": [{\"line\": {\"colorbar\": {\"outlinewidth\": 0, \"ticks\": \"\"}}, \"marker\": {\"colorbar\": {\"outlinewidth\": 0, \"ticks\": \"\"}}, \"type\": \"scatter3d\"}], \"scattercarpet\": [{\"marker\": {\"colorbar\": {\"outlinewidth\": 0, \"ticks\": \"\"}}, \"type\": \"scattercarpet\"}], \"scattergeo\": [{\"marker\": {\"colorbar\": {\"outlinewidth\": 0, \"ticks\": \"\"}}, \"type\": \"scattergeo\"}], \"scattergl\": [{\"marker\": {\"colorbar\": {\"outlinewidth\": 0, \"ticks\": \"\"}}, \"type\": \"scattergl\"}], \"scattermapbox\": [{\"marker\": {\"colorbar\": {\"outlinewidth\": 0, \"ticks\": \"\"}}, \"type\": \"scattermapbox\"}], \"scatterpolar\": [{\"marker\": {\"colorbar\": {\"outlinewidth\": 0, \"ticks\": \"\"}}, \"type\": \"scatterpolar\"}], \"scatterpolargl\": [{\"marker\": {\"colorbar\": {\"outlinewidth\": 0, \"ticks\": \"\"}}, \"type\": \"scatterpolargl\"}], \"scatterternary\": [{\"marker\": {\"colorbar\": {\"outlinewidth\": 0, \"ticks\": \"\"}}, \"type\": \"scatterternary\"}], \"surface\": [{\"colorbar\": {\"outlinewidth\": 0, \"ticks\": \"\"}, \"colorscale\": [[0.0, \"#0d0887\"], [0.1111111111111111, \"#46039f\"], [0.2222222222222222, \"#7201a8\"], [0.3333333333333333, \"#9c179e\"], [0.4444444444444444, \"#bd3786\"], [0.5555555555555556, \"#d8576b\"], [0.6666666666666666, \"#ed7953\"], [0.7777777777777778, \"#fb9f3a\"], [0.8888888888888888, \"#fdca26\"], [1.0, \"#f0f921\"]], \"type\": \"surface\"}], \"table\": [{\"cells\": {\"fill\": {\"color\": \"#EBF0F8\"}, \"line\": {\"color\": \"white\"}}, \"header\": {\"fill\": {\"color\": \"#C8D4E3\"}, \"line\": {\"color\": \"white\"}}, \"type\": \"table\"}]}, \"layout\": {\"annotationdefaults\": {\"arrowcolor\": \"#2a3f5f\", \"arrowhead\": 0, \"arrowwidth\": 1}, \"coloraxis\": {\"colorbar\": {\"outlinewidth\": 0, \"ticks\": \"\"}}, \"colorscale\": {\"diverging\": [[0, \"#8e0152\"], [0.1, \"#c51b7d\"], [0.2, \"#de77ae\"], [0.3, \"#f1b6da\"], [0.4, \"#fde0ef\"], [0.5, \"#f7f7f7\"], [0.6, \"#e6f5d0\"], [0.7, \"#b8e186\"], [0.8, \"#7fbc41\"], [0.9, \"#4d9221\"], [1, \"#276419\"]], \"sequential\": [[0.0, \"#0d0887\"], [0.1111111111111111, \"#46039f\"], [0.2222222222222222, \"#7201a8\"], [0.3333333333333333, \"#9c179e\"], [0.4444444444444444, \"#bd3786\"], [0.5555555555555556, \"#d8576b\"], [0.6666666666666666, \"#ed7953\"], [0.7777777777777778, \"#fb9f3a\"], [0.8888888888888888, \"#fdca26\"], [1.0, \"#f0f921\"]], \"sequentialminus\": [[0.0, \"#0d0887\"], [0.1111111111111111, \"#46039f\"], [0.2222222222222222, \"#7201a8\"], [0.3333333333333333, \"#9c179e\"], [0.4444444444444444, \"#bd3786\"], [0.5555555555555556, \"#d8576b\"], [0.6666666666666666, \"#ed7953\"], [0.7777777777777778, \"#fb9f3a\"], [0.8888888888888888, \"#fdca26\"], [1.0, \"#f0f921\"]]}, \"colorway\": [\"#636efa\", \"#EF553B\", \"#00cc96\", \"#ab63fa\", \"#FFA15A\", \"#19d3f3\", \"#FF6692\", \"#B6E880\", \"#FF97FF\", \"#FECB52\"], \"font\": {\"color\": \"#2a3f5f\"}, \"geo\": {\"bgcolor\": \"white\", \"lakecolor\": \"white\", \"landcolor\": \"#E5ECF6\", \"showlakes\": true, \"showland\": true, \"subunitcolor\": \"white\"}, \"hoverlabel\": {\"align\": \"left\"}, \"hovermode\": \"closest\", \"mapbox\": {\"style\": \"light\"}, \"paper_bgcolor\": \"white\", \"plot_bgcolor\": \"#E5ECF6\", \"polar\": {\"angularaxis\": {\"gridcolor\": \"white\", \"linecolor\": \"white\", \"ticks\": \"\"}, \"bgcolor\": \"#E5ECF6\", \"radialaxis\": {\"gridcolor\": \"white\", \"linecolor\": \"white\", \"ticks\": \"\"}}, \"scene\": {\"xaxis\": {\"backgroundcolor\": \"#E5ECF6\", \"gridcolor\": \"white\", \"gridwidth\": 2, \"linecolor\": \"white\", \"showbackground\": true, \"ticks\": \"\", \"zerolinecolor\": \"white\"}, \"yaxis\": {\"backgroundcolor\": \"#E5ECF6\", \"gridcolor\": \"white\", \"gridwidth\": 2, \"linecolor\": \"white\", \"showbackground\": true, \"ticks\": \"\", \"zerolinecolor\": \"white\"}, \"zaxis\": {\"backgroundcolor\": \"#E5ECF6\", \"gridcolor\": \"white\", \"gridwidth\": 2, \"linecolor\": \"white\", \"showbackground\": true, \"ticks\": \"\", \"zerolinecolor\": \"white\"}}, \"shapedefaults\": {\"line\": {\"color\": \"#2a3f5f\"}}, \"ternary\": {\"aaxis\": {\"gridcolor\": \"white\", \"linecolor\": \"white\", \"ticks\": \"\"}, \"baxis\": {\"gridcolor\": \"white\", \"linecolor\": \"white\", \"ticks\": \"\"}, \"bgcolor\": \"#E5ECF6\", \"caxis\": {\"gridcolor\": \"white\", \"linecolor\": \"white\", \"ticks\": \"\"}}, \"title\": {\"x\": 0.05}, \"xaxis\": {\"automargin\": true, \"gridcolor\": \"white\", \"linecolor\": \"white\", \"ticks\": \"\", \"title\": {\"standoff\": 15}, \"zerolinecolor\": \"white\", \"zerolinewidth\": 2}, \"yaxis\": {\"automargin\": true, \"gridcolor\": \"white\", \"linecolor\": \"white\", \"ticks\": \"\", \"title\": {\"standoff\": 15}, \"zerolinecolor\": \"white\", \"zerolinewidth\": 2}}}},\n",
       "                        {\"responsive\": true}\n",
       "                    ).then(function(){\n",
       "                            \n",
       "var gd = document.getElementById('0c7c19a9-c882-4239-829f-12e5cf3af231');\n",
       "var x = new MutationObserver(function (mutations, observer) {{\n",
       "        var display = window.getComputedStyle(gd).display;\n",
       "        if (!display || display === 'none') {{\n",
       "            console.log([gd, 'removed!']);\n",
       "            Plotly.purge(gd);\n",
       "            observer.disconnect();\n",
       "        }}\n",
       "}});\n",
       "\n",
       "// Listen for the removal of the full notebook cells\n",
       "var notebookContainer = gd.closest('#notebook-container');\n",
       "if (notebookContainer) {{\n",
       "    x.observe(notebookContainer, {childList: true});\n",
       "}}\n",
       "\n",
       "// Listen for the clearing of the current output cell\n",
       "var outputEl = gd.closest('.output');\n",
       "if (outputEl) {{\n",
       "    x.observe(outputEl, {childList: true});\n",
       "}}\n",
       "\n",
       "                        })\n",
       "                };\n",
       "                });\n",
       "            </script>\n",
       "        </div>"
      ]
     },
     "metadata": {},
     "output_type": "display_data"
    }
   ],
   "source": [
    "fig = px.sunburst(sun_count, path=['yr0', 'yr1', 'yr2', 'yr3', 'yr4'], values='perc_cohort_donors')\n",
    "                \n",
    "fig2 = go.Figure(go.Treemap(\n",
    "                branchvalues=\"total\",\n",
    "                ids=fig['data'][0]['ids'],\n",
    "                labels=fig['data'][0]['labels'].tolist(),\n",
    "                parents=fig['data'][0]['parents'].tolist(),\n",
    "                values=fig['data'][0]['values'],\n",
    "                textinfo = \"label+value+percent parent+percent entry+percent root\",\n",
    "            #    marker_colors = [\"green\", \"red\", \"green\", \"green\",\"green\", \"red\", \"red\", \"green\",\"green\", \"red\", \"green\", \"green\",\"green\", \"red\", \"red\", \"green\"\n",
    "                    #            ],\n",
    "                pathbar = {\"visible\": True},\n",
    "                maxdepth=5\n",
    "                            )\n",
    "                )\n",
    "fig2.show()"
   ]
  },
  {
   "cell_type": "code",
   "execution_count": 221,
   "metadata": {},
   "outputs": [
    {
     "data": {
      "text/plain": [
       "array([['T', 'TF', 'TFF', 'TFFF', 'TFFFF', 1696680, 0.8380512448667706,\n",
       "        'T', 'F', 'F', 'F', 'F'],\n",
       "       ['T', 'TF', 'TFF', 'TFFF', 'TFFFT', 6912, 0.003414085275077869,\n",
       "        'T', 'F', 'F', 'F', 'T'],\n",
       "       ['T', 'TF', 'TFF', 'TFFT', 'TFFTF', 17619, 0.008702657474189378,\n",
       "        'T', 'F', 'F', 'T', 'F'],\n",
       "       ['T', 'TF', 'TFF', 'TFFT', 'TFFTT', 3108, 0.0015351529275089723,\n",
       "        'T', 'F', 'F', 'T', 'T'],\n",
       "       ['T', 'TF', 'TFT', 'TFTF', 'TFTFF', 44403, 0.02193223791511612,\n",
       "        'T', 'F', 'T', 'F', 'F'],\n",
       "       ['T', 'TF', 'TFT', 'TFTF', 'TFTFT', 2035, 0.001005159654916589,\n",
       "        'T', 'F', 'T', 'F', 'T'],\n",
       "       ['T', 'TF', 'TFT', 'TFTT', 'TFTTF', 7626, 0.0037667555422083087,\n",
       "        'T', 'F', 'T', 'T', 'F'],\n",
       "       ['T', 'TF', 'TFT', 'TFTT', 'TFTTT', 2735, 0.0013509148187699613,\n",
       "        'T', 'F', 'T', 'T', 'T'],\n",
       "       ['T', 'TT', 'TTF', 'TTFF', 'TTFFF', 162004, 0.080019599378431,\n",
       "        'T', 'T', 'F', 'F', 'F'],\n",
       "       ['T', 'TT', 'TTF', 'TTFF', 'TTFFT', 2994, 0.0014788442293957088,\n",
       "        'T', 'T', 'F', 'F', 'T'],\n",
       "       ['T', 'TT', 'TTF', 'TTFT', 'TTFTF', 8134, 0.004017675003976184,\n",
       "        'T', 'T', 'F', 'T', 'F'],\n",
       "       ['T', 'TT', 'TTF', 'TTFT', 'TTFTT', 2815, 0.001390429694638918,\n",
       "        'T', 'T', 'F', 'T', 'T'],\n",
       "       ['T', 'TT', 'TTT', 'TTTF', 'TTTFF', 37639, 0.01859125516039582,\n",
       "        'T', 'T', 'T', 'F', 'F'],\n",
       "       ['T', 'TT', 'TTT', 'TTTF', 'TTTFT', 2967, 0.001465507958789936,\n",
       "        'T', 'T', 'T', 'F', 'T'],\n",
       "       ['T', 'TT', 'TTT', 'TTTT', 'TTTTF', 13781, 0.006806931304376174,\n",
       "        'T', 'T', 'T', 'T', 'F'],\n",
       "       ['T', 'TT', 'TTT', 'TTTT', 'TTTTT', 13102, 0.006471548795438402,\n",
       "        'T', 'T', 'T', 'T', 'T']], dtype=object)"
      ]
     },
     "execution_count": 221,
     "metadata": {},
     "output_type": "execute_result"
    }
   ],
   "source": [
    "sun_count.values"
   ]
  },
  {
   "cell_type": "code",
   "execution_count": 215,
   "metadata": {},
   "outputs": [
    {
     "ename": "AttributeError",
     "evalue": "'DataFrame' object has no attribute 'labels'",
     "output_type": "error",
     "traceback": [
      "\u001b[1;31m---------------------------------------------------------------------------\u001b[0m",
      "\u001b[1;31mAttributeError\u001b[0m                            Traceback (most recent call last)",
      "\u001b[1;32m<ipython-input-215-9b330a2ca0c3>\u001b[0m in \u001b[0;36m<module>\u001b[1;34m\u001b[0m\n\u001b[0;32m      5\u001b[0m                 \u001b[0mbranchvalues\u001b[0m\u001b[1;33m=\u001b[0m\u001b[1;34m\"total\"\u001b[0m\u001b[1;33m,\u001b[0m\u001b[1;33m\u001b[0m\u001b[1;33m\u001b[0m\u001b[0m\n\u001b[0;32m      6\u001b[0m                \u001b[1;31m# ids=df.ids,\u001b[0m\u001b[1;33m\u001b[0m\u001b[1;33m\u001b[0m\u001b[1;33m\u001b[0m\u001b[0m\n\u001b[1;32m----> 7\u001b[1;33m                 \u001b[0mlabels\u001b[0m\u001b[1;33m=\u001b[0m\u001b[0mdf\u001b[0m\u001b[1;33m.\u001b[0m\u001b[0mlabels\u001b[0m\u001b[1;33m,\u001b[0m\u001b[1;33m\u001b[0m\u001b[1;33m\u001b[0m\u001b[0m\n\u001b[0m\u001b[0;32m      8\u001b[0m                 \u001b[0mparents\u001b[0m\u001b[1;33m=\u001b[0m\u001b[0mdf\u001b[0m\u001b[1;33m.\u001b[0m\u001b[0mparents\u001b[0m\u001b[1;33m,\u001b[0m\u001b[1;33m\u001b[0m\u001b[1;33m\u001b[0m\u001b[0m\n\u001b[0;32m      9\u001b[0m                 \u001b[0mvalues\u001b[0m\u001b[1;33m=\u001b[0m\u001b[0mdf\u001b[0m\u001b[1;33m.\u001b[0m\u001b[0mvalues\u001b[0m\u001b[1;33m,\u001b[0m\u001b[1;33m\u001b[0m\u001b[1;33m\u001b[0m\u001b[0m\n",
      "\u001b[1;32m~\\Anaconda3\\lib\\site-packages\\pandas\\core\\generic.py\u001b[0m in \u001b[0;36m__getattr__\u001b[1;34m(self, name)\u001b[0m\n\u001b[0;32m   5177\u001b[0m             \u001b[1;32mif\u001b[0m \u001b[0mself\u001b[0m\u001b[1;33m.\u001b[0m\u001b[0m_info_axis\u001b[0m\u001b[1;33m.\u001b[0m\u001b[0m_can_hold_identifiers_and_holds_name\u001b[0m\u001b[1;33m(\u001b[0m\u001b[0mname\u001b[0m\u001b[1;33m)\u001b[0m\u001b[1;33m:\u001b[0m\u001b[1;33m\u001b[0m\u001b[1;33m\u001b[0m\u001b[0m\n\u001b[0;32m   5178\u001b[0m                 \u001b[1;32mreturn\u001b[0m \u001b[0mself\u001b[0m\u001b[1;33m[\u001b[0m\u001b[0mname\u001b[0m\u001b[1;33m]\u001b[0m\u001b[1;33m\u001b[0m\u001b[1;33m\u001b[0m\u001b[0m\n\u001b[1;32m-> 5179\u001b[1;33m             \u001b[1;32mreturn\u001b[0m \u001b[0mobject\u001b[0m\u001b[1;33m.\u001b[0m\u001b[0m__getattribute__\u001b[0m\u001b[1;33m(\u001b[0m\u001b[0mself\u001b[0m\u001b[1;33m,\u001b[0m \u001b[0mname\u001b[0m\u001b[1;33m)\u001b[0m\u001b[1;33m\u001b[0m\u001b[1;33m\u001b[0m\u001b[0m\n\u001b[0m\u001b[0;32m   5180\u001b[0m \u001b[1;33m\u001b[0m\u001b[0m\n\u001b[0;32m   5181\u001b[0m     \u001b[1;32mdef\u001b[0m \u001b[0m__setattr__\u001b[0m\u001b[1;33m(\u001b[0m\u001b[0mself\u001b[0m\u001b[1;33m,\u001b[0m \u001b[0mname\u001b[0m\u001b[1;33m,\u001b[0m \u001b[0mvalue\u001b[0m\u001b[1;33m)\u001b[0m\u001b[1;33m:\u001b[0m\u001b[1;33m\u001b[0m\u001b[1;33m\u001b[0m\u001b[0m\n",
      "\u001b[1;31mAttributeError\u001b[0m: 'DataFrame' object has no attribute 'labels'"
     ]
    }
   ],
   "source": [
    "df=sun_count\n",
    "fig = px.sunburst(df, path=['yr0', 'yr1', 'yr2', 'yr3', 'yr4'], values='perc_cohort_donors')\n",
    "                \n",
    "fig2 = go.Figure(go.Treemap(\n",
    "                branchvalues=\"total\",\n",
    "               # ids=df.ids,\n",
    "                labels=df.labels,\n",
    "                parents=df.parents,\n",
    "                values=df.values,\n",
    "                textinfo = \"label+value+percent parent+percent entry+percent root\",\n",
    "            #    marker_colors = [\"green\", \"red\", \"green\", \"green\",\"green\", \"red\", \"red\", \"green\",\"green\", \"red\", \"green\", \"green\",\"green\", \"red\", \"red\", \"green\"\n",
    "                    #            ],\n",
    "                pathbar = {\"visible\": True},\n",
    "                maxdepth=5\n",
    "                            )\n",
    "                )\n",
    "fig2.show()"
   ]
  },
  {
   "cell_type": "code",
   "execution_count": 136,
   "metadata": {},
   "outputs": [
    {
     "data": {
      "application/vnd.plotly.v1+json": {
       "config": {
        "plotlyServerURL": "https://plot.ly"
       },
       "data": [
        {
         "branchvalues": "total",
         "customdata": [
          [
           "TFFFF"
          ],
          [
           "TTFFF"
          ],
          [
           "TFTFF"
          ],
          [
           "TTTFF"
          ],
          [
           "TFFTF"
          ],
          [
           "TTFTF"
          ],
          [
           "TFTTF"
          ],
          [
           "TTTTF"
          ],
          [
           "TFFFT"
          ],
          [
           "TTFFT"
          ],
          [
           "TFTFT"
          ],
          [
           "TTTFT"
          ],
          [
           "TFFTT"
          ],
          [
           "TTFTT"
          ],
          [
           "TFTTT"
          ],
          [
           "TTTTT"
          ],
          [
           "(?)"
          ],
          [
           "(?)"
          ],
          [
           "(?)"
          ],
          [
           "(?)"
          ],
          [
           "(?)"
          ],
          [
           "(?)"
          ],
          [
           "(?)"
          ],
          [
           "(?)"
          ],
          [
           "(?)"
          ],
          [
           "(?)"
          ],
          [
           "(?)"
          ],
          [
           "(?)"
          ],
          [
           "(?)"
          ],
          [
           "(?)"
          ],
          [
           "(?)"
          ]
         ],
         "domain": {
          "x": [
           0,
           1
          ],
          "y": [
           0,
           1
          ]
         },
         "hovertemplate": "labels=%{label}<br>perc_cohort_donors=%{value}<br>parent=%{parent}<br>id=%{id}<br>cohort_yr4_TF=%{customdata[0]}<extra></extra>",
         "ids": [
          "T/F/F/F/F",
          "T/T/F/F/F",
          "T/F/T/F/F",
          "T/T/T/F/F",
          "T/F/F/T/F",
          "T/T/F/T/F",
          "T/F/T/T/F",
          "T/T/T/T/F",
          "T/F/F/F/T",
          "T/T/F/F/T",
          "T/F/T/F/T",
          "T/T/T/F/T",
          "T/F/F/T/T",
          "T/T/F/T/T",
          "T/F/T/T/T",
          "T/T/T/T/T",
          "T/F/F/F",
          "T/T/F/F",
          "T/F/T/F",
          "T/T/T/F",
          "T/F/F/T",
          "T/T/F/T",
          "T/F/T/T",
          "T/T/T/T",
          "T/F/F",
          "T/T/F",
          "T/F/T",
          "T/T/T",
          "T/F",
          "T/T",
          "T"
         ],
         "labels": [
          "F",
          "F",
          "F",
          "F",
          "F",
          "F",
          "F",
          "F",
          "T",
          "T",
          "T",
          "T",
          "T",
          "T",
          "T",
          "T",
          "F",
          "F",
          "F",
          "F",
          "T",
          "T",
          "T",
          "T",
          "F",
          "F",
          "T",
          "T",
          "F",
          "T",
          "T"
         ],
         "marker": {
          "colors": [
           "#636efa",
           "#EF553B",
           "#00cc96",
           "#ab63fa",
           "#FFA15A",
           "#19d3f3",
           "#FF6692",
           "#B6E880",
           "#FF97FF",
           "#FECB52",
           "#636efa",
           "#EF553B",
           "#00cc96",
           "#ab63fa",
           "#FFA15A",
           "#19d3f3",
           "#FF6692",
           "#FF6692",
           "#FF6692",
           "#FF6692",
           "#FF6692",
           "#FF6692",
           "#FF6692",
           "#FF6692",
           "#FF6692",
           "#FF6692",
           "#FF6692",
           "#FF6692",
           "#FF6692",
           "#FF6692",
           "#FF6692"
          ]
         },
         "name": "",
         "parents": [
          "T/F/F/F",
          "T/T/F/F",
          "T/F/T/F",
          "T/T/T/F",
          "T/F/F/T",
          "T/T/F/T",
          "T/F/T/T",
          "T/T/T/T",
          "T/F/F/F",
          "T/T/F/F",
          "T/F/T/F",
          "T/T/T/F",
          "T/F/F/T",
          "T/T/F/T",
          "T/F/T/T",
          "T/T/T/T",
          "T/F/F",
          "T/T/F",
          "T/F/T",
          "T/T/T",
          "T/F/F",
          "T/T/F",
          "T/F/T",
          "T/T/T",
          "T/F",
          "T/T",
          "T/F",
          "T/T",
          "T",
          "T",
          ""
         ],
         "type": "sunburst",
         "values": [
          0.8380512448667706,
          0.080019599378431,
          0.02193223791511612,
          0.01859125516039582,
          0.008702657474189378,
          0.004017675003976184,
          0.0037667555422083087,
          0.006806931304376174,
          0.003414085275077869,
          0.0014788442293957088,
          0.001005159654916589,
          0.001465507958789936,
          0.0015351529275089723,
          0.001390429694638918,
          0.0013509148187699613,
          0.006471548795438402,
          0.8414653301418485,
          0.08149844360782671,
          0.022937397570032707,
          0.020056763119185757,
          0.01023781040169835,
          0.005408104698615102,
          0.00511767036097827,
          0.013278480099814575,
          0.8517031405435469,
          0.0869065483064418,
          0.028055067931010976,
          0.03333524321900033,
          0.8797582084745578,
          0.12024179152544215,
          1
         ]
        }
       ],
       "layout": {
        "legend": {
         "tracegroupgap": 0
        },
        "margin": {
         "t": 60
        },
        "template": {
         "data": {
          "bar": [
           {
            "error_x": {
             "color": "#2a3f5f"
            },
            "error_y": {
             "color": "#2a3f5f"
            },
            "marker": {
             "line": {
              "color": "#E5ECF6",
              "width": 0.5
             }
            },
            "type": "bar"
           }
          ],
          "barpolar": [
           {
            "marker": {
             "line": {
              "color": "#E5ECF6",
              "width": 0.5
             }
            },
            "type": "barpolar"
           }
          ],
          "carpet": [
           {
            "aaxis": {
             "endlinecolor": "#2a3f5f",
             "gridcolor": "white",
             "linecolor": "white",
             "minorgridcolor": "white",
             "startlinecolor": "#2a3f5f"
            },
            "baxis": {
             "endlinecolor": "#2a3f5f",
             "gridcolor": "white",
             "linecolor": "white",
             "minorgridcolor": "white",
             "startlinecolor": "#2a3f5f"
            },
            "type": "carpet"
           }
          ],
          "choropleth": [
           {
            "colorbar": {
             "outlinewidth": 0,
             "ticks": ""
            },
            "type": "choropleth"
           }
          ],
          "contour": [
           {
            "colorbar": {
             "outlinewidth": 0,
             "ticks": ""
            },
            "colorscale": [
             [
              0,
              "#0d0887"
             ],
             [
              0.1111111111111111,
              "#46039f"
             ],
             [
              0.2222222222222222,
              "#7201a8"
             ],
             [
              0.3333333333333333,
              "#9c179e"
             ],
             [
              0.4444444444444444,
              "#bd3786"
             ],
             [
              0.5555555555555556,
              "#d8576b"
             ],
             [
              0.6666666666666666,
              "#ed7953"
             ],
             [
              0.7777777777777778,
              "#fb9f3a"
             ],
             [
              0.8888888888888888,
              "#fdca26"
             ],
             [
              1,
              "#f0f921"
             ]
            ],
            "type": "contour"
           }
          ],
          "contourcarpet": [
           {
            "colorbar": {
             "outlinewidth": 0,
             "ticks": ""
            },
            "type": "contourcarpet"
           }
          ],
          "heatmap": [
           {
            "colorbar": {
             "outlinewidth": 0,
             "ticks": ""
            },
            "colorscale": [
             [
              0,
              "#0d0887"
             ],
             [
              0.1111111111111111,
              "#46039f"
             ],
             [
              0.2222222222222222,
              "#7201a8"
             ],
             [
              0.3333333333333333,
              "#9c179e"
             ],
             [
              0.4444444444444444,
              "#bd3786"
             ],
             [
              0.5555555555555556,
              "#d8576b"
             ],
             [
              0.6666666666666666,
              "#ed7953"
             ],
             [
              0.7777777777777778,
              "#fb9f3a"
             ],
             [
              0.8888888888888888,
              "#fdca26"
             ],
             [
              1,
              "#f0f921"
             ]
            ],
            "type": "heatmap"
           }
          ],
          "heatmapgl": [
           {
            "colorbar": {
             "outlinewidth": 0,
             "ticks": ""
            },
            "colorscale": [
             [
              0,
              "#0d0887"
             ],
             [
              0.1111111111111111,
              "#46039f"
             ],
             [
              0.2222222222222222,
              "#7201a8"
             ],
             [
              0.3333333333333333,
              "#9c179e"
             ],
             [
              0.4444444444444444,
              "#bd3786"
             ],
             [
              0.5555555555555556,
              "#d8576b"
             ],
             [
              0.6666666666666666,
              "#ed7953"
             ],
             [
              0.7777777777777778,
              "#fb9f3a"
             ],
             [
              0.8888888888888888,
              "#fdca26"
             ],
             [
              1,
              "#f0f921"
             ]
            ],
            "type": "heatmapgl"
           }
          ],
          "histogram": [
           {
            "marker": {
             "colorbar": {
              "outlinewidth": 0,
              "ticks": ""
             }
            },
            "type": "histogram"
           }
          ],
          "histogram2d": [
           {
            "colorbar": {
             "outlinewidth": 0,
             "ticks": ""
            },
            "colorscale": [
             [
              0,
              "#0d0887"
             ],
             [
              0.1111111111111111,
              "#46039f"
             ],
             [
              0.2222222222222222,
              "#7201a8"
             ],
             [
              0.3333333333333333,
              "#9c179e"
             ],
             [
              0.4444444444444444,
              "#bd3786"
             ],
             [
              0.5555555555555556,
              "#d8576b"
             ],
             [
              0.6666666666666666,
              "#ed7953"
             ],
             [
              0.7777777777777778,
              "#fb9f3a"
             ],
             [
              0.8888888888888888,
              "#fdca26"
             ],
             [
              1,
              "#f0f921"
             ]
            ],
            "type": "histogram2d"
           }
          ],
          "histogram2dcontour": [
           {
            "colorbar": {
             "outlinewidth": 0,
             "ticks": ""
            },
            "colorscale": [
             [
              0,
              "#0d0887"
             ],
             [
              0.1111111111111111,
              "#46039f"
             ],
             [
              0.2222222222222222,
              "#7201a8"
             ],
             [
              0.3333333333333333,
              "#9c179e"
             ],
             [
              0.4444444444444444,
              "#bd3786"
             ],
             [
              0.5555555555555556,
              "#d8576b"
             ],
             [
              0.6666666666666666,
              "#ed7953"
             ],
             [
              0.7777777777777778,
              "#fb9f3a"
             ],
             [
              0.8888888888888888,
              "#fdca26"
             ],
             [
              1,
              "#f0f921"
             ]
            ],
            "type": "histogram2dcontour"
           }
          ],
          "mesh3d": [
           {
            "colorbar": {
             "outlinewidth": 0,
             "ticks": ""
            },
            "type": "mesh3d"
           }
          ],
          "parcoords": [
           {
            "line": {
             "colorbar": {
              "outlinewidth": 0,
              "ticks": ""
             }
            },
            "type": "parcoords"
           }
          ],
          "pie": [
           {
            "automargin": true,
            "type": "pie"
           }
          ],
          "scatter": [
           {
            "marker": {
             "colorbar": {
              "outlinewidth": 0,
              "ticks": ""
             }
            },
            "type": "scatter"
           }
          ],
          "scatter3d": [
           {
            "line": {
             "colorbar": {
              "outlinewidth": 0,
              "ticks": ""
             }
            },
            "marker": {
             "colorbar": {
              "outlinewidth": 0,
              "ticks": ""
             }
            },
            "type": "scatter3d"
           }
          ],
          "scattercarpet": [
           {
            "marker": {
             "colorbar": {
              "outlinewidth": 0,
              "ticks": ""
             }
            },
            "type": "scattercarpet"
           }
          ],
          "scattergeo": [
           {
            "marker": {
             "colorbar": {
              "outlinewidth": 0,
              "ticks": ""
             }
            },
            "type": "scattergeo"
           }
          ],
          "scattergl": [
           {
            "marker": {
             "colorbar": {
              "outlinewidth": 0,
              "ticks": ""
             }
            },
            "type": "scattergl"
           }
          ],
          "scattermapbox": [
           {
            "marker": {
             "colorbar": {
              "outlinewidth": 0,
              "ticks": ""
             }
            },
            "type": "scattermapbox"
           }
          ],
          "scatterpolar": [
           {
            "marker": {
             "colorbar": {
              "outlinewidth": 0,
              "ticks": ""
             }
            },
            "type": "scatterpolar"
           }
          ],
          "scatterpolargl": [
           {
            "marker": {
             "colorbar": {
              "outlinewidth": 0,
              "ticks": ""
             }
            },
            "type": "scatterpolargl"
           }
          ],
          "scatterternary": [
           {
            "marker": {
             "colorbar": {
              "outlinewidth": 0,
              "ticks": ""
             }
            },
            "type": "scatterternary"
           }
          ],
          "surface": [
           {
            "colorbar": {
             "outlinewidth": 0,
             "ticks": ""
            },
            "colorscale": [
             [
              0,
              "#0d0887"
             ],
             [
              0.1111111111111111,
              "#46039f"
             ],
             [
              0.2222222222222222,
              "#7201a8"
             ],
             [
              0.3333333333333333,
              "#9c179e"
             ],
             [
              0.4444444444444444,
              "#bd3786"
             ],
             [
              0.5555555555555556,
              "#d8576b"
             ],
             [
              0.6666666666666666,
              "#ed7953"
             ],
             [
              0.7777777777777778,
              "#fb9f3a"
             ],
             [
              0.8888888888888888,
              "#fdca26"
             ],
             [
              1,
              "#f0f921"
             ]
            ],
            "type": "surface"
           }
          ],
          "table": [
           {
            "cells": {
             "fill": {
              "color": "#EBF0F8"
             },
             "line": {
              "color": "white"
             }
            },
            "header": {
             "fill": {
              "color": "#C8D4E3"
             },
             "line": {
              "color": "white"
             }
            },
            "type": "table"
           }
          ]
         },
         "layout": {
          "annotationdefaults": {
           "arrowcolor": "#2a3f5f",
           "arrowhead": 0,
           "arrowwidth": 1
          },
          "coloraxis": {
           "colorbar": {
            "outlinewidth": 0,
            "ticks": ""
           }
          },
          "colorscale": {
           "diverging": [
            [
             0,
             "#8e0152"
            ],
            [
             0.1,
             "#c51b7d"
            ],
            [
             0.2,
             "#de77ae"
            ],
            [
             0.3,
             "#f1b6da"
            ],
            [
             0.4,
             "#fde0ef"
            ],
            [
             0.5,
             "#f7f7f7"
            ],
            [
             0.6,
             "#e6f5d0"
            ],
            [
             0.7,
             "#b8e186"
            ],
            [
             0.8,
             "#7fbc41"
            ],
            [
             0.9,
             "#4d9221"
            ],
            [
             1,
             "#276419"
            ]
           ],
           "sequential": [
            [
             0,
             "#0d0887"
            ],
            [
             0.1111111111111111,
             "#46039f"
            ],
            [
             0.2222222222222222,
             "#7201a8"
            ],
            [
             0.3333333333333333,
             "#9c179e"
            ],
            [
             0.4444444444444444,
             "#bd3786"
            ],
            [
             0.5555555555555556,
             "#d8576b"
            ],
            [
             0.6666666666666666,
             "#ed7953"
            ],
            [
             0.7777777777777778,
             "#fb9f3a"
            ],
            [
             0.8888888888888888,
             "#fdca26"
            ],
            [
             1,
             "#f0f921"
            ]
           ],
           "sequentialminus": [
            [
             0,
             "#0d0887"
            ],
            [
             0.1111111111111111,
             "#46039f"
            ],
            [
             0.2222222222222222,
             "#7201a8"
            ],
            [
             0.3333333333333333,
             "#9c179e"
            ],
            [
             0.4444444444444444,
             "#bd3786"
            ],
            [
             0.5555555555555556,
             "#d8576b"
            ],
            [
             0.6666666666666666,
             "#ed7953"
            ],
            [
             0.7777777777777778,
             "#fb9f3a"
            ],
            [
             0.8888888888888888,
             "#fdca26"
            ],
            [
             1,
             "#f0f921"
            ]
           ]
          },
          "colorway": [
           "#636efa",
           "#EF553B",
           "#00cc96",
           "#ab63fa",
           "#FFA15A",
           "#19d3f3",
           "#FF6692",
           "#B6E880",
           "#FF97FF",
           "#FECB52"
          ],
          "font": {
           "color": "#2a3f5f"
          },
          "geo": {
           "bgcolor": "white",
           "lakecolor": "white",
           "landcolor": "#E5ECF6",
           "showlakes": true,
           "showland": true,
           "subunitcolor": "white"
          },
          "hoverlabel": {
           "align": "left"
          },
          "hovermode": "closest",
          "mapbox": {
           "style": "light"
          },
          "paper_bgcolor": "white",
          "plot_bgcolor": "#E5ECF6",
          "polar": {
           "angularaxis": {
            "gridcolor": "white",
            "linecolor": "white",
            "ticks": ""
           },
           "bgcolor": "#E5ECF6",
           "radialaxis": {
            "gridcolor": "white",
            "linecolor": "white",
            "ticks": ""
           }
          },
          "scene": {
           "xaxis": {
            "backgroundcolor": "#E5ECF6",
            "gridcolor": "white",
            "gridwidth": 2,
            "linecolor": "white",
            "showbackground": true,
            "ticks": "",
            "zerolinecolor": "white"
           },
           "yaxis": {
            "backgroundcolor": "#E5ECF6",
            "gridcolor": "white",
            "gridwidth": 2,
            "linecolor": "white",
            "showbackground": true,
            "ticks": "",
            "zerolinecolor": "white"
           },
           "zaxis": {
            "backgroundcolor": "#E5ECF6",
            "gridcolor": "white",
            "gridwidth": 2,
            "linecolor": "white",
            "showbackground": true,
            "ticks": "",
            "zerolinecolor": "white"
           }
          },
          "shapedefaults": {
           "line": {
            "color": "#2a3f5f"
           }
          },
          "ternary": {
           "aaxis": {
            "gridcolor": "white",
            "linecolor": "white",
            "ticks": ""
           },
           "baxis": {
            "gridcolor": "white",
            "linecolor": "white",
            "ticks": ""
           },
           "bgcolor": "#E5ECF6",
           "caxis": {
            "gridcolor": "white",
            "linecolor": "white",
            "ticks": ""
           }
          },
          "title": {
           "x": 0.05
          },
          "xaxis": {
           "automargin": true,
           "gridcolor": "white",
           "linecolor": "white",
           "ticks": "",
           "title": {
            "standoff": 15
           },
           "zerolinecolor": "white",
           "zerolinewidth": 2
          },
          "yaxis": {
           "automargin": true,
           "gridcolor": "white",
           "linecolor": "white",
           "ticks": "",
           "title": {
            "standoff": 15
           },
           "zerolinecolor": "white",
           "zerolinewidth": 2
          }
         }
        }
       }
      },
      "text/html": [
       "<div>\n",
       "        \n",
       "        \n",
       "            <div id=\"21e40324-3c70-4f55-8b03-dfd8050d489f\" class=\"plotly-graph-div\" style=\"height:525px; width:100%;\"></div>\n",
       "            <script type=\"text/javascript\">\n",
       "                require([\"plotly\"], function(Plotly) {\n",
       "                    window.PLOTLYENV=window.PLOTLYENV || {};\n",
       "                    \n",
       "                if (document.getElementById(\"21e40324-3c70-4f55-8b03-dfd8050d489f\")) {\n",
       "                    Plotly.newPlot(\n",
       "                        '21e40324-3c70-4f55-8b03-dfd8050d489f',\n",
       "                        [{\"branchvalues\": \"total\", \"customdata\": [[\"TFFFF\"], [\"TTFFF\"], [\"TFTFF\"], [\"TTTFF\"], [\"TFFTF\"], [\"TTFTF\"], [\"TFTTF\"], [\"TTTTF\"], [\"TFFFT\"], [\"TTFFT\"], [\"TFTFT\"], [\"TTTFT\"], [\"TFFTT\"], [\"TTFTT\"], [\"TFTTT\"], [\"TTTTT\"], [\"(?)\"], [\"(?)\"], [\"(?)\"], [\"(?)\"], [\"(?)\"], [\"(?)\"], [\"(?)\"], [\"(?)\"], [\"(?)\"], [\"(?)\"], [\"(?)\"], [\"(?)\"], [\"(?)\"], [\"(?)\"], [\"(?)\"]], \"domain\": {\"x\": [0.0, 1.0], \"y\": [0.0, 1.0]}, \"hovertemplate\": \"labels=%{label}<br>perc_cohort_donors=%{value}<br>parent=%{parent}<br>id=%{id}<br>cohort_yr4_TF=%{customdata[0]}<extra></extra>\", \"ids\": [\"T/F/F/F/F\", \"T/T/F/F/F\", \"T/F/T/F/F\", \"T/T/T/F/F\", \"T/F/F/T/F\", \"T/T/F/T/F\", \"T/F/T/T/F\", \"T/T/T/T/F\", \"T/F/F/F/T\", \"T/T/F/F/T\", \"T/F/T/F/T\", \"T/T/T/F/T\", \"T/F/F/T/T\", \"T/T/F/T/T\", \"T/F/T/T/T\", \"T/T/T/T/T\", \"T/F/F/F\", \"T/T/F/F\", \"T/F/T/F\", \"T/T/T/F\", \"T/F/F/T\", \"T/T/F/T\", \"T/F/T/T\", \"T/T/T/T\", \"T/F/F\", \"T/T/F\", \"T/F/T\", \"T/T/T\", \"T/F\", \"T/T\", \"T\"], \"labels\": [\"F\", \"F\", \"F\", \"F\", \"F\", \"F\", \"F\", \"F\", \"T\", \"T\", \"T\", \"T\", \"T\", \"T\", \"T\", \"T\", \"F\", \"F\", \"F\", \"F\", \"T\", \"T\", \"T\", \"T\", \"F\", \"F\", \"T\", \"T\", \"F\", \"T\", \"T\"], \"marker\": {\"colors\": [\"#636efa\", \"#EF553B\", \"#00cc96\", \"#ab63fa\", \"#FFA15A\", \"#19d3f3\", \"#FF6692\", \"#B6E880\", \"#FF97FF\", \"#FECB52\", \"#636efa\", \"#EF553B\", \"#00cc96\", \"#ab63fa\", \"#FFA15A\", \"#19d3f3\", \"#FF6692\", \"#FF6692\", \"#FF6692\", \"#FF6692\", \"#FF6692\", \"#FF6692\", \"#FF6692\", \"#FF6692\", \"#FF6692\", \"#FF6692\", \"#FF6692\", \"#FF6692\", \"#FF6692\", \"#FF6692\", \"#FF6692\"]}, \"name\": \"\", \"parents\": [\"T/F/F/F\", \"T/T/F/F\", \"T/F/T/F\", \"T/T/T/F\", \"T/F/F/T\", \"T/T/F/T\", \"T/F/T/T\", \"T/T/T/T\", \"T/F/F/F\", \"T/T/F/F\", \"T/F/T/F\", \"T/T/T/F\", \"T/F/F/T\", \"T/T/F/T\", \"T/F/T/T\", \"T/T/T/T\", \"T/F/F\", \"T/T/F\", \"T/F/T\", \"T/T/T\", \"T/F/F\", \"T/T/F\", \"T/F/T\", \"T/T/T\", \"T/F\", \"T/T\", \"T/F\", \"T/T\", \"T\", \"T\", \"\"], \"type\": \"sunburst\", \"values\": [0.8380512448667706, 0.080019599378431, 0.02193223791511612, 0.01859125516039582, 0.008702657474189378, 0.004017675003976184, 0.0037667555422083087, 0.006806931304376174, 0.003414085275077869, 0.0014788442293957088, 0.001005159654916589, 0.001465507958789936, 0.0015351529275089723, 0.001390429694638918, 0.0013509148187699613, 0.006471548795438402, 0.8414653301418485, 0.08149844360782671, 0.022937397570032707, 0.020056763119185757, 0.01023781040169835, 0.005408104698615102, 0.00511767036097827, 0.013278480099814575, 0.8517031405435469, 0.0869065483064418, 0.028055067931010976, 0.03333524321900033, 0.8797582084745578, 0.12024179152544215, 1.0]}],\n",
       "                        {\"legend\": {\"tracegroupgap\": 0}, \"margin\": {\"t\": 60}, \"template\": {\"data\": {\"bar\": [{\"error_x\": {\"color\": \"#2a3f5f\"}, \"error_y\": {\"color\": \"#2a3f5f\"}, \"marker\": {\"line\": {\"color\": \"#E5ECF6\", \"width\": 0.5}}, \"type\": \"bar\"}], \"barpolar\": [{\"marker\": {\"line\": {\"color\": \"#E5ECF6\", \"width\": 0.5}}, \"type\": \"barpolar\"}], \"carpet\": [{\"aaxis\": {\"endlinecolor\": \"#2a3f5f\", \"gridcolor\": \"white\", \"linecolor\": \"white\", \"minorgridcolor\": \"white\", \"startlinecolor\": \"#2a3f5f\"}, \"baxis\": {\"endlinecolor\": \"#2a3f5f\", \"gridcolor\": \"white\", \"linecolor\": \"white\", \"minorgridcolor\": \"white\", \"startlinecolor\": \"#2a3f5f\"}, \"type\": \"carpet\"}], \"choropleth\": [{\"colorbar\": {\"outlinewidth\": 0, \"ticks\": \"\"}, \"type\": \"choropleth\"}], \"contour\": [{\"colorbar\": {\"outlinewidth\": 0, \"ticks\": \"\"}, \"colorscale\": [[0.0, \"#0d0887\"], [0.1111111111111111, \"#46039f\"], [0.2222222222222222, \"#7201a8\"], [0.3333333333333333, \"#9c179e\"], [0.4444444444444444, \"#bd3786\"], [0.5555555555555556, \"#d8576b\"], [0.6666666666666666, \"#ed7953\"], [0.7777777777777778, \"#fb9f3a\"], [0.8888888888888888, \"#fdca26\"], [1.0, \"#f0f921\"]], \"type\": \"contour\"}], \"contourcarpet\": [{\"colorbar\": {\"outlinewidth\": 0, \"ticks\": \"\"}, \"type\": \"contourcarpet\"}], \"heatmap\": [{\"colorbar\": {\"outlinewidth\": 0, \"ticks\": \"\"}, \"colorscale\": [[0.0, \"#0d0887\"], [0.1111111111111111, \"#46039f\"], [0.2222222222222222, \"#7201a8\"], [0.3333333333333333, \"#9c179e\"], [0.4444444444444444, \"#bd3786\"], [0.5555555555555556, \"#d8576b\"], [0.6666666666666666, \"#ed7953\"], [0.7777777777777778, \"#fb9f3a\"], [0.8888888888888888, \"#fdca26\"], [1.0, \"#f0f921\"]], \"type\": \"heatmap\"}], \"heatmapgl\": [{\"colorbar\": {\"outlinewidth\": 0, \"ticks\": \"\"}, \"colorscale\": [[0.0, \"#0d0887\"], [0.1111111111111111, \"#46039f\"], [0.2222222222222222, \"#7201a8\"], [0.3333333333333333, \"#9c179e\"], [0.4444444444444444, \"#bd3786\"], [0.5555555555555556, \"#d8576b\"], [0.6666666666666666, \"#ed7953\"], [0.7777777777777778, \"#fb9f3a\"], [0.8888888888888888, \"#fdca26\"], [1.0, \"#f0f921\"]], \"type\": \"heatmapgl\"}], \"histogram\": [{\"marker\": {\"colorbar\": {\"outlinewidth\": 0, \"ticks\": \"\"}}, \"type\": \"histogram\"}], \"histogram2d\": [{\"colorbar\": {\"outlinewidth\": 0, \"ticks\": \"\"}, \"colorscale\": [[0.0, \"#0d0887\"], [0.1111111111111111, \"#46039f\"], [0.2222222222222222, \"#7201a8\"], [0.3333333333333333, \"#9c179e\"], [0.4444444444444444, \"#bd3786\"], [0.5555555555555556, \"#d8576b\"], [0.6666666666666666, \"#ed7953\"], [0.7777777777777778, \"#fb9f3a\"], [0.8888888888888888, \"#fdca26\"], [1.0, \"#f0f921\"]], \"type\": \"histogram2d\"}], \"histogram2dcontour\": [{\"colorbar\": {\"outlinewidth\": 0, \"ticks\": \"\"}, \"colorscale\": [[0.0, \"#0d0887\"], [0.1111111111111111, \"#46039f\"], [0.2222222222222222, \"#7201a8\"], [0.3333333333333333, \"#9c179e\"], [0.4444444444444444, \"#bd3786\"], [0.5555555555555556, \"#d8576b\"], [0.6666666666666666, \"#ed7953\"], [0.7777777777777778, \"#fb9f3a\"], [0.8888888888888888, \"#fdca26\"], [1.0, \"#f0f921\"]], \"type\": \"histogram2dcontour\"}], \"mesh3d\": [{\"colorbar\": {\"outlinewidth\": 0, \"ticks\": \"\"}, \"type\": \"mesh3d\"}], \"parcoords\": [{\"line\": {\"colorbar\": {\"outlinewidth\": 0, \"ticks\": \"\"}}, \"type\": \"parcoords\"}], \"pie\": [{\"automargin\": true, \"type\": \"pie\"}], \"scatter\": [{\"marker\": {\"colorbar\": {\"outlinewidth\": 0, \"ticks\": \"\"}}, \"type\": \"scatter\"}], \"scatter3d\": [{\"line\": {\"colorbar\": {\"outlinewidth\": 0, \"ticks\": \"\"}}, \"marker\": {\"colorbar\": {\"outlinewidth\": 0, \"ticks\": \"\"}}, \"type\": \"scatter3d\"}], \"scattercarpet\": [{\"marker\": {\"colorbar\": {\"outlinewidth\": 0, \"ticks\": \"\"}}, \"type\": \"scattercarpet\"}], \"scattergeo\": [{\"marker\": {\"colorbar\": {\"outlinewidth\": 0, \"ticks\": \"\"}}, \"type\": \"scattergeo\"}], \"scattergl\": [{\"marker\": {\"colorbar\": {\"outlinewidth\": 0, \"ticks\": \"\"}}, \"type\": \"scattergl\"}], \"scattermapbox\": [{\"marker\": {\"colorbar\": {\"outlinewidth\": 0, \"ticks\": \"\"}}, \"type\": \"scattermapbox\"}], \"scatterpolar\": [{\"marker\": {\"colorbar\": {\"outlinewidth\": 0, \"ticks\": \"\"}}, \"type\": \"scatterpolar\"}], \"scatterpolargl\": [{\"marker\": {\"colorbar\": {\"outlinewidth\": 0, \"ticks\": \"\"}}, \"type\": \"scatterpolargl\"}], \"scatterternary\": [{\"marker\": {\"colorbar\": {\"outlinewidth\": 0, \"ticks\": \"\"}}, \"type\": \"scatterternary\"}], \"surface\": [{\"colorbar\": {\"outlinewidth\": 0, \"ticks\": \"\"}, \"colorscale\": [[0.0, \"#0d0887\"], [0.1111111111111111, \"#46039f\"], [0.2222222222222222, \"#7201a8\"], [0.3333333333333333, \"#9c179e\"], [0.4444444444444444, \"#bd3786\"], [0.5555555555555556, \"#d8576b\"], [0.6666666666666666, \"#ed7953\"], [0.7777777777777778, \"#fb9f3a\"], [0.8888888888888888, \"#fdca26\"], [1.0, \"#f0f921\"]], \"type\": \"surface\"}], \"table\": [{\"cells\": {\"fill\": {\"color\": \"#EBF0F8\"}, \"line\": {\"color\": \"white\"}}, \"header\": {\"fill\": {\"color\": \"#C8D4E3\"}, \"line\": {\"color\": \"white\"}}, \"type\": \"table\"}]}, \"layout\": {\"annotationdefaults\": {\"arrowcolor\": \"#2a3f5f\", \"arrowhead\": 0, \"arrowwidth\": 1}, \"coloraxis\": {\"colorbar\": {\"outlinewidth\": 0, \"ticks\": \"\"}}, \"colorscale\": {\"diverging\": [[0, \"#8e0152\"], [0.1, \"#c51b7d\"], [0.2, \"#de77ae\"], [0.3, \"#f1b6da\"], [0.4, \"#fde0ef\"], [0.5, \"#f7f7f7\"], [0.6, \"#e6f5d0\"], [0.7, \"#b8e186\"], [0.8, \"#7fbc41\"], [0.9, \"#4d9221\"], [1, \"#276419\"]], \"sequential\": [[0.0, \"#0d0887\"], [0.1111111111111111, \"#46039f\"], [0.2222222222222222, \"#7201a8\"], [0.3333333333333333, \"#9c179e\"], [0.4444444444444444, \"#bd3786\"], [0.5555555555555556, \"#d8576b\"], [0.6666666666666666, \"#ed7953\"], [0.7777777777777778, \"#fb9f3a\"], [0.8888888888888888, \"#fdca26\"], [1.0, \"#f0f921\"]], \"sequentialminus\": [[0.0, \"#0d0887\"], [0.1111111111111111, \"#46039f\"], [0.2222222222222222, \"#7201a8\"], [0.3333333333333333, \"#9c179e\"], [0.4444444444444444, \"#bd3786\"], [0.5555555555555556, \"#d8576b\"], [0.6666666666666666, \"#ed7953\"], [0.7777777777777778, \"#fb9f3a\"], [0.8888888888888888, \"#fdca26\"], [1.0, \"#f0f921\"]]}, \"colorway\": [\"#636efa\", \"#EF553B\", \"#00cc96\", \"#ab63fa\", \"#FFA15A\", \"#19d3f3\", \"#FF6692\", \"#B6E880\", \"#FF97FF\", \"#FECB52\"], \"font\": {\"color\": \"#2a3f5f\"}, \"geo\": {\"bgcolor\": \"white\", \"lakecolor\": \"white\", \"landcolor\": \"#E5ECF6\", \"showlakes\": true, \"showland\": true, \"subunitcolor\": \"white\"}, \"hoverlabel\": {\"align\": \"left\"}, \"hovermode\": \"closest\", \"mapbox\": {\"style\": \"light\"}, \"paper_bgcolor\": \"white\", \"plot_bgcolor\": \"#E5ECF6\", \"polar\": {\"angularaxis\": {\"gridcolor\": \"white\", \"linecolor\": \"white\", \"ticks\": \"\"}, \"bgcolor\": \"#E5ECF6\", \"radialaxis\": {\"gridcolor\": \"white\", \"linecolor\": \"white\", \"ticks\": \"\"}}, \"scene\": {\"xaxis\": {\"backgroundcolor\": \"#E5ECF6\", \"gridcolor\": \"white\", \"gridwidth\": 2, \"linecolor\": \"white\", \"showbackground\": true, \"ticks\": \"\", \"zerolinecolor\": \"white\"}, \"yaxis\": {\"backgroundcolor\": \"#E5ECF6\", \"gridcolor\": \"white\", \"gridwidth\": 2, \"linecolor\": \"white\", \"showbackground\": true, \"ticks\": \"\", \"zerolinecolor\": \"white\"}, \"zaxis\": {\"backgroundcolor\": \"#E5ECF6\", \"gridcolor\": \"white\", \"gridwidth\": 2, \"linecolor\": \"white\", \"showbackground\": true, \"ticks\": \"\", \"zerolinecolor\": \"white\"}}, \"shapedefaults\": {\"line\": {\"color\": \"#2a3f5f\"}}, \"ternary\": {\"aaxis\": {\"gridcolor\": \"white\", \"linecolor\": \"white\", \"ticks\": \"\"}, \"baxis\": {\"gridcolor\": \"white\", \"linecolor\": \"white\", \"ticks\": \"\"}, \"bgcolor\": \"#E5ECF6\", \"caxis\": {\"gridcolor\": \"white\", \"linecolor\": \"white\", \"ticks\": \"\"}}, \"title\": {\"x\": 0.05}, \"xaxis\": {\"automargin\": true, \"gridcolor\": \"white\", \"linecolor\": \"white\", \"ticks\": \"\", \"title\": {\"standoff\": 15}, \"zerolinecolor\": \"white\", \"zerolinewidth\": 2}, \"yaxis\": {\"automargin\": true, \"gridcolor\": \"white\", \"linecolor\": \"white\", \"ticks\": \"\", \"title\": {\"standoff\": 15}, \"zerolinecolor\": \"white\", \"zerolinewidth\": 2}}}},\n",
       "                        {\"responsive\": true}\n",
       "                    ).then(function(){\n",
       "                            \n",
       "var gd = document.getElementById('21e40324-3c70-4f55-8b03-dfd8050d489f');\n",
       "var x = new MutationObserver(function (mutations, observer) {{\n",
       "        var display = window.getComputedStyle(gd).display;\n",
       "        if (!display || display === 'none') {{\n",
       "            console.log([gd, 'removed!']);\n",
       "            Plotly.purge(gd);\n",
       "            observer.disconnect();\n",
       "        }}\n",
       "}});\n",
       "\n",
       "// Listen for the removal of the full notebook cells\n",
       "var notebookContainer = gd.closest('#notebook-container');\n",
       "if (notebookContainer) {{\n",
       "    x.observe(notebookContainer, {childList: true});\n",
       "}}\n",
       "\n",
       "// Listen for the clearing of the current output cell\n",
       "var outputEl = gd.closest('.output');\n",
       "if (outputEl) {{\n",
       "    x.observe(outputEl, {childList: true});\n",
       "}}\n",
       "\n",
       "                        })\n",
       "                };\n",
       "                });\n",
       "            </script>\n",
       "        </div>"
      ]
     },
     "metadata": {},
     "output_type": "display_data"
    }
   ],
   "source": [
    "fig = px.sunburst(sun_count, path=['yr0', 'yr1', 'yr2', 'yr3', 'yr4'], values='perc_cohort_donors', \n",
    "                  color='cohort_yr4_TF'\n",
    "                 )\n",
    "fig.show()"
   ]
  },
  {
   "cell_type": "code",
   "execution_count": 116,
   "metadata": {},
   "outputs": [
    {
     "data": {
      "application/vnd.plotly.v1+json": {
       "config": {
        "plotlyServerURL": "https://plot.ly"
       },
       "data": [
        {
         "branchvalues": "total",
         "domain": {
          "x": [
           0,
           1
          ],
          "y": [
           0,
           1
          ]
         },
         "hovertemplate": "labels=%{label}<br>perc_amount_total=%{value}<br>parent=%{parent}<br>id=%{id}<extra></extra>",
         "ids": [
          "T/TF/TFF/TFFF/TFFFF",
          "T/TF/TFF/TFFF/TFFFT",
          "T/TF/TFF/TFFT/TFFTF",
          "T/TF/TFF/TFFT/TFFTT",
          "T/TF/TFT/TFTF/TFTFF",
          "T/TF/TFT/TFTF/TFTFT",
          "T/TF/TFT/TFTT/TFTTF",
          "T/TF/TFT/TFTT/TFTTT",
          "T/TT/TTF/TTFF/TTFFF",
          "T/TT/TTF/TTFF/TTFFT",
          "T/TT/TTF/TTFT/TTFTF",
          "T/TT/TTF/TTFT/TTFTT",
          "T/TT/TTT/TTTF/TTTFF",
          "T/TT/TTT/TTTF/TTTFT",
          "T/TT/TTT/TTTT/TTTTF",
          "T/TT/TTT/TTTT/TTTTT",
          "T/TF/TFF/TFFF",
          "T/TF/TFF/TFFT",
          "T/TF/TFT/TFTF",
          "T/TF/TFT/TFTT",
          "T/TT/TTF/TTFF",
          "T/TT/TTF/TTFT",
          "T/TT/TTT/TTTF",
          "T/TT/TTT/TTTT",
          "T/TF/TFF",
          "T/TF/TFT",
          "T/TT/TTF",
          "T/TT/TTT",
          "T/TF",
          "T/TT",
          "T"
         ],
         "labels": [
          "TFFFF",
          "TFFFT",
          "TFFTF",
          "TFFTT",
          "TFTFF",
          "TFTFT",
          "TFTTF",
          "TFTTT",
          "TTFFF",
          "TTFFT",
          "TTFTF",
          "TTFTT",
          "TTTFF",
          "TTTFT",
          "TTTTF",
          "TTTTT",
          "TFFF",
          "TFFT",
          "TFTF",
          "TFTT",
          "TTFF",
          "TTFT",
          "TTTF",
          "TTTT",
          "TFF",
          "TFT",
          "TTF",
          "TTT",
          "TF",
          "TT",
          "T"
         ],
         "name": "",
         "parents": [
          "T/TF/TFF/TFFF",
          "T/TF/TFF/TFFF",
          "T/TF/TFF/TFFT",
          "T/TF/TFF/TFFT",
          "T/TF/TFT/TFTF",
          "T/TF/TFT/TFTF",
          "T/TF/TFT/TFTT",
          "T/TF/TFT/TFTT",
          "T/TT/TTF/TTFF",
          "T/TT/TTF/TTFF",
          "T/TT/TTF/TTFT",
          "T/TT/TTF/TTFT",
          "T/TT/TTT/TTTF",
          "T/TT/TTT/TTTF",
          "T/TT/TTT/TTTT",
          "T/TT/TTT/TTTT",
          "T/TF/TFF",
          "T/TF/TFF",
          "T/TF/TFT",
          "T/TF/TFT",
          "T/TT/TTF",
          "T/TT/TTF",
          "T/TT/TTT",
          "T/TT/TTT",
          "T/TF",
          "T/TF",
          "T/TT",
          "T/TT",
          "T",
          "T",
          ""
         ],
         "type": "sunburst",
         "values": [
          0.4299102971048614,
          0.004218727057337238,
          0.010825780713812294,
          0.005218884687973199,
          0.032461575177133495,
          0.002482998915653277,
          0.010759748008299269,
          0.009009465223756312,
          0.1420335086332784,
          0.004128661453742171,
          0.011614345367872389,
          0.008111360778190555,
          0.08320969081499456,
          0.00915612924784916,
          0.06513058446263179,
          0.1717282423526145,
          0.4341290241621986,
          0.016044665401785493,
          0.03494457409278677,
          0.01976921323205558,
          0.14616217008702057,
          0.019725706146062942,
          0.09236582006284372,
          0.23685882681524628,
          0.4501736895639841,
          0.054713787324842354,
          0.16588787623308351,
          0.32922464687809,
          0.5048874768888265,
          0.4951125231111735,
          1
         ]
        }
       ],
       "layout": {
        "legend": {
         "tracegroupgap": 0
        },
        "margin": {
         "t": 60
        },
        "template": {
         "data": {
          "bar": [
           {
            "error_x": {
             "color": "#2a3f5f"
            },
            "error_y": {
             "color": "#2a3f5f"
            },
            "marker": {
             "line": {
              "color": "#E5ECF6",
              "width": 0.5
             }
            },
            "type": "bar"
           }
          ],
          "barpolar": [
           {
            "marker": {
             "line": {
              "color": "#E5ECF6",
              "width": 0.5
             }
            },
            "type": "barpolar"
           }
          ],
          "carpet": [
           {
            "aaxis": {
             "endlinecolor": "#2a3f5f",
             "gridcolor": "white",
             "linecolor": "white",
             "minorgridcolor": "white",
             "startlinecolor": "#2a3f5f"
            },
            "baxis": {
             "endlinecolor": "#2a3f5f",
             "gridcolor": "white",
             "linecolor": "white",
             "minorgridcolor": "white",
             "startlinecolor": "#2a3f5f"
            },
            "type": "carpet"
           }
          ],
          "choropleth": [
           {
            "colorbar": {
             "outlinewidth": 0,
             "ticks": ""
            },
            "type": "choropleth"
           }
          ],
          "contour": [
           {
            "colorbar": {
             "outlinewidth": 0,
             "ticks": ""
            },
            "colorscale": [
             [
              0,
              "#0d0887"
             ],
             [
              0.1111111111111111,
              "#46039f"
             ],
             [
              0.2222222222222222,
              "#7201a8"
             ],
             [
              0.3333333333333333,
              "#9c179e"
             ],
             [
              0.4444444444444444,
              "#bd3786"
             ],
             [
              0.5555555555555556,
              "#d8576b"
             ],
             [
              0.6666666666666666,
              "#ed7953"
             ],
             [
              0.7777777777777778,
              "#fb9f3a"
             ],
             [
              0.8888888888888888,
              "#fdca26"
             ],
             [
              1,
              "#f0f921"
             ]
            ],
            "type": "contour"
           }
          ],
          "contourcarpet": [
           {
            "colorbar": {
             "outlinewidth": 0,
             "ticks": ""
            },
            "type": "contourcarpet"
           }
          ],
          "heatmap": [
           {
            "colorbar": {
             "outlinewidth": 0,
             "ticks": ""
            },
            "colorscale": [
             [
              0,
              "#0d0887"
             ],
             [
              0.1111111111111111,
              "#46039f"
             ],
             [
              0.2222222222222222,
              "#7201a8"
             ],
             [
              0.3333333333333333,
              "#9c179e"
             ],
             [
              0.4444444444444444,
              "#bd3786"
             ],
             [
              0.5555555555555556,
              "#d8576b"
             ],
             [
              0.6666666666666666,
              "#ed7953"
             ],
             [
              0.7777777777777778,
              "#fb9f3a"
             ],
             [
              0.8888888888888888,
              "#fdca26"
             ],
             [
              1,
              "#f0f921"
             ]
            ],
            "type": "heatmap"
           }
          ],
          "heatmapgl": [
           {
            "colorbar": {
             "outlinewidth": 0,
             "ticks": ""
            },
            "colorscale": [
             [
              0,
              "#0d0887"
             ],
             [
              0.1111111111111111,
              "#46039f"
             ],
             [
              0.2222222222222222,
              "#7201a8"
             ],
             [
              0.3333333333333333,
              "#9c179e"
             ],
             [
              0.4444444444444444,
              "#bd3786"
             ],
             [
              0.5555555555555556,
              "#d8576b"
             ],
             [
              0.6666666666666666,
              "#ed7953"
             ],
             [
              0.7777777777777778,
              "#fb9f3a"
             ],
             [
              0.8888888888888888,
              "#fdca26"
             ],
             [
              1,
              "#f0f921"
             ]
            ],
            "type": "heatmapgl"
           }
          ],
          "histogram": [
           {
            "marker": {
             "colorbar": {
              "outlinewidth": 0,
              "ticks": ""
             }
            },
            "type": "histogram"
           }
          ],
          "histogram2d": [
           {
            "colorbar": {
             "outlinewidth": 0,
             "ticks": ""
            },
            "colorscale": [
             [
              0,
              "#0d0887"
             ],
             [
              0.1111111111111111,
              "#46039f"
             ],
             [
              0.2222222222222222,
              "#7201a8"
             ],
             [
              0.3333333333333333,
              "#9c179e"
             ],
             [
              0.4444444444444444,
              "#bd3786"
             ],
             [
              0.5555555555555556,
              "#d8576b"
             ],
             [
              0.6666666666666666,
              "#ed7953"
             ],
             [
              0.7777777777777778,
              "#fb9f3a"
             ],
             [
              0.8888888888888888,
              "#fdca26"
             ],
             [
              1,
              "#f0f921"
             ]
            ],
            "type": "histogram2d"
           }
          ],
          "histogram2dcontour": [
           {
            "colorbar": {
             "outlinewidth": 0,
             "ticks": ""
            },
            "colorscale": [
             [
              0,
              "#0d0887"
             ],
             [
              0.1111111111111111,
              "#46039f"
             ],
             [
              0.2222222222222222,
              "#7201a8"
             ],
             [
              0.3333333333333333,
              "#9c179e"
             ],
             [
              0.4444444444444444,
              "#bd3786"
             ],
             [
              0.5555555555555556,
              "#d8576b"
             ],
             [
              0.6666666666666666,
              "#ed7953"
             ],
             [
              0.7777777777777778,
              "#fb9f3a"
             ],
             [
              0.8888888888888888,
              "#fdca26"
             ],
             [
              1,
              "#f0f921"
             ]
            ],
            "type": "histogram2dcontour"
           }
          ],
          "mesh3d": [
           {
            "colorbar": {
             "outlinewidth": 0,
             "ticks": ""
            },
            "type": "mesh3d"
           }
          ],
          "parcoords": [
           {
            "line": {
             "colorbar": {
              "outlinewidth": 0,
              "ticks": ""
             }
            },
            "type": "parcoords"
           }
          ],
          "pie": [
           {
            "automargin": true,
            "type": "pie"
           }
          ],
          "scatter": [
           {
            "marker": {
             "colorbar": {
              "outlinewidth": 0,
              "ticks": ""
             }
            },
            "type": "scatter"
           }
          ],
          "scatter3d": [
           {
            "line": {
             "colorbar": {
              "outlinewidth": 0,
              "ticks": ""
             }
            },
            "marker": {
             "colorbar": {
              "outlinewidth": 0,
              "ticks": ""
             }
            },
            "type": "scatter3d"
           }
          ],
          "scattercarpet": [
           {
            "marker": {
             "colorbar": {
              "outlinewidth": 0,
              "ticks": ""
             }
            },
            "type": "scattercarpet"
           }
          ],
          "scattergeo": [
           {
            "marker": {
             "colorbar": {
              "outlinewidth": 0,
              "ticks": ""
             }
            },
            "type": "scattergeo"
           }
          ],
          "scattergl": [
           {
            "marker": {
             "colorbar": {
              "outlinewidth": 0,
              "ticks": ""
             }
            },
            "type": "scattergl"
           }
          ],
          "scattermapbox": [
           {
            "marker": {
             "colorbar": {
              "outlinewidth": 0,
              "ticks": ""
             }
            },
            "type": "scattermapbox"
           }
          ],
          "scatterpolar": [
           {
            "marker": {
             "colorbar": {
              "outlinewidth": 0,
              "ticks": ""
             }
            },
            "type": "scatterpolar"
           }
          ],
          "scatterpolargl": [
           {
            "marker": {
             "colorbar": {
              "outlinewidth": 0,
              "ticks": ""
             }
            },
            "type": "scatterpolargl"
           }
          ],
          "scatterternary": [
           {
            "marker": {
             "colorbar": {
              "outlinewidth": 0,
              "ticks": ""
             }
            },
            "type": "scatterternary"
           }
          ],
          "surface": [
           {
            "colorbar": {
             "outlinewidth": 0,
             "ticks": ""
            },
            "colorscale": [
             [
              0,
              "#0d0887"
             ],
             [
              0.1111111111111111,
              "#46039f"
             ],
             [
              0.2222222222222222,
              "#7201a8"
             ],
             [
              0.3333333333333333,
              "#9c179e"
             ],
             [
              0.4444444444444444,
              "#bd3786"
             ],
             [
              0.5555555555555556,
              "#d8576b"
             ],
             [
              0.6666666666666666,
              "#ed7953"
             ],
             [
              0.7777777777777778,
              "#fb9f3a"
             ],
             [
              0.8888888888888888,
              "#fdca26"
             ],
             [
              1,
              "#f0f921"
             ]
            ],
            "type": "surface"
           }
          ],
          "table": [
           {
            "cells": {
             "fill": {
              "color": "#EBF0F8"
             },
             "line": {
              "color": "white"
             }
            },
            "header": {
             "fill": {
              "color": "#C8D4E3"
             },
             "line": {
              "color": "white"
             }
            },
            "type": "table"
           }
          ]
         },
         "layout": {
          "annotationdefaults": {
           "arrowcolor": "#2a3f5f",
           "arrowhead": 0,
           "arrowwidth": 1
          },
          "coloraxis": {
           "colorbar": {
            "outlinewidth": 0,
            "ticks": ""
           }
          },
          "colorscale": {
           "diverging": [
            [
             0,
             "#8e0152"
            ],
            [
             0.1,
             "#c51b7d"
            ],
            [
             0.2,
             "#de77ae"
            ],
            [
             0.3,
             "#f1b6da"
            ],
            [
             0.4,
             "#fde0ef"
            ],
            [
             0.5,
             "#f7f7f7"
            ],
            [
             0.6,
             "#e6f5d0"
            ],
            [
             0.7,
             "#b8e186"
            ],
            [
             0.8,
             "#7fbc41"
            ],
            [
             0.9,
             "#4d9221"
            ],
            [
             1,
             "#276419"
            ]
           ],
           "sequential": [
            [
             0,
             "#0d0887"
            ],
            [
             0.1111111111111111,
             "#46039f"
            ],
            [
             0.2222222222222222,
             "#7201a8"
            ],
            [
             0.3333333333333333,
             "#9c179e"
            ],
            [
             0.4444444444444444,
             "#bd3786"
            ],
            [
             0.5555555555555556,
             "#d8576b"
            ],
            [
             0.6666666666666666,
             "#ed7953"
            ],
            [
             0.7777777777777778,
             "#fb9f3a"
            ],
            [
             0.8888888888888888,
             "#fdca26"
            ],
            [
             1,
             "#f0f921"
            ]
           ],
           "sequentialminus": [
            [
             0,
             "#0d0887"
            ],
            [
             0.1111111111111111,
             "#46039f"
            ],
            [
             0.2222222222222222,
             "#7201a8"
            ],
            [
             0.3333333333333333,
             "#9c179e"
            ],
            [
             0.4444444444444444,
             "#bd3786"
            ],
            [
             0.5555555555555556,
             "#d8576b"
            ],
            [
             0.6666666666666666,
             "#ed7953"
            ],
            [
             0.7777777777777778,
             "#fb9f3a"
            ],
            [
             0.8888888888888888,
             "#fdca26"
            ],
            [
             1,
             "#f0f921"
            ]
           ]
          },
          "colorway": [
           "#636efa",
           "#EF553B",
           "#00cc96",
           "#ab63fa",
           "#FFA15A",
           "#19d3f3",
           "#FF6692",
           "#B6E880",
           "#FF97FF",
           "#FECB52"
          ],
          "font": {
           "color": "#2a3f5f"
          },
          "geo": {
           "bgcolor": "white",
           "lakecolor": "white",
           "landcolor": "#E5ECF6",
           "showlakes": true,
           "showland": true,
           "subunitcolor": "white"
          },
          "hoverlabel": {
           "align": "left"
          },
          "hovermode": "closest",
          "mapbox": {
           "style": "light"
          },
          "paper_bgcolor": "white",
          "plot_bgcolor": "#E5ECF6",
          "polar": {
           "angularaxis": {
            "gridcolor": "white",
            "linecolor": "white",
            "ticks": ""
           },
           "bgcolor": "#E5ECF6",
           "radialaxis": {
            "gridcolor": "white",
            "linecolor": "white",
            "ticks": ""
           }
          },
          "scene": {
           "xaxis": {
            "backgroundcolor": "#E5ECF6",
            "gridcolor": "white",
            "gridwidth": 2,
            "linecolor": "white",
            "showbackground": true,
            "ticks": "",
            "zerolinecolor": "white"
           },
           "yaxis": {
            "backgroundcolor": "#E5ECF6",
            "gridcolor": "white",
            "gridwidth": 2,
            "linecolor": "white",
            "showbackground": true,
            "ticks": "",
            "zerolinecolor": "white"
           },
           "zaxis": {
            "backgroundcolor": "#E5ECF6",
            "gridcolor": "white",
            "gridwidth": 2,
            "linecolor": "white",
            "showbackground": true,
            "ticks": "",
            "zerolinecolor": "white"
           }
          },
          "shapedefaults": {
           "line": {
            "color": "#2a3f5f"
           }
          },
          "ternary": {
           "aaxis": {
            "gridcolor": "white",
            "linecolor": "white",
            "ticks": ""
           },
           "baxis": {
            "gridcolor": "white",
            "linecolor": "white",
            "ticks": ""
           },
           "bgcolor": "#E5ECF6",
           "caxis": {
            "gridcolor": "white",
            "linecolor": "white",
            "ticks": ""
           }
          },
          "title": {
           "x": 0.05
          },
          "xaxis": {
           "automargin": true,
           "gridcolor": "white",
           "linecolor": "white",
           "ticks": "",
           "title": {
            "standoff": 15
           },
           "zerolinecolor": "white",
           "zerolinewidth": 2
          },
          "yaxis": {
           "automargin": true,
           "gridcolor": "white",
           "linecolor": "white",
           "ticks": "",
           "title": {
            "standoff": 15
           },
           "zerolinecolor": "white",
           "zerolinewidth": 2
          }
         }
        }
       }
      },
      "text/html": [
       "<div>\n",
       "        \n",
       "        \n",
       "            <div id=\"d1c6cfed-767c-4e4e-a31f-7d345d937282\" class=\"plotly-graph-div\" style=\"height:525px; width:100%;\"></div>\n",
       "            <script type=\"text/javascript\">\n",
       "                require([\"plotly\"], function(Plotly) {\n",
       "                    window.PLOTLYENV=window.PLOTLYENV || {};\n",
       "                    \n",
       "                if (document.getElementById(\"d1c6cfed-767c-4e4e-a31f-7d345d937282\")) {\n",
       "                    Plotly.newPlot(\n",
       "                        'd1c6cfed-767c-4e4e-a31f-7d345d937282',\n",
       "                        [{\"branchvalues\": \"total\", \"domain\": {\"x\": [0.0, 1.0], \"y\": [0.0, 1.0]}, \"hovertemplate\": \"labels=%{label}<br>perc_amount_total=%{value}<br>parent=%{parent}<br>id=%{id}<extra></extra>\", \"ids\": [\"T/TF/TFF/TFFF/TFFFF\", \"T/TF/TFF/TFFF/TFFFT\", \"T/TF/TFF/TFFT/TFFTF\", \"T/TF/TFF/TFFT/TFFTT\", \"T/TF/TFT/TFTF/TFTFF\", \"T/TF/TFT/TFTF/TFTFT\", \"T/TF/TFT/TFTT/TFTTF\", \"T/TF/TFT/TFTT/TFTTT\", \"T/TT/TTF/TTFF/TTFFF\", \"T/TT/TTF/TTFF/TTFFT\", \"T/TT/TTF/TTFT/TTFTF\", \"T/TT/TTF/TTFT/TTFTT\", \"T/TT/TTT/TTTF/TTTFF\", \"T/TT/TTT/TTTF/TTTFT\", \"T/TT/TTT/TTTT/TTTTF\", \"T/TT/TTT/TTTT/TTTTT\", \"T/TF/TFF/TFFF\", \"T/TF/TFF/TFFT\", \"T/TF/TFT/TFTF\", \"T/TF/TFT/TFTT\", \"T/TT/TTF/TTFF\", \"T/TT/TTF/TTFT\", \"T/TT/TTT/TTTF\", \"T/TT/TTT/TTTT\", \"T/TF/TFF\", \"T/TF/TFT\", \"T/TT/TTF\", \"T/TT/TTT\", \"T/TF\", \"T/TT\", \"T\"], \"labels\": [\"TFFFF\", \"TFFFT\", \"TFFTF\", \"TFFTT\", \"TFTFF\", \"TFTFT\", \"TFTTF\", \"TFTTT\", \"TTFFF\", \"TTFFT\", \"TTFTF\", \"TTFTT\", \"TTTFF\", \"TTTFT\", \"TTTTF\", \"TTTTT\", \"TFFF\", \"TFFT\", \"TFTF\", \"TFTT\", \"TTFF\", \"TTFT\", \"TTTF\", \"TTTT\", \"TFF\", \"TFT\", \"TTF\", \"TTT\", \"TF\", \"TT\", \"T\"], \"name\": \"\", \"parents\": [\"T/TF/TFF/TFFF\", \"T/TF/TFF/TFFF\", \"T/TF/TFF/TFFT\", \"T/TF/TFF/TFFT\", \"T/TF/TFT/TFTF\", \"T/TF/TFT/TFTF\", \"T/TF/TFT/TFTT\", \"T/TF/TFT/TFTT\", \"T/TT/TTF/TTFF\", \"T/TT/TTF/TTFF\", \"T/TT/TTF/TTFT\", \"T/TT/TTF/TTFT\", \"T/TT/TTT/TTTF\", \"T/TT/TTT/TTTF\", \"T/TT/TTT/TTTT\", \"T/TT/TTT/TTTT\", \"T/TF/TFF\", \"T/TF/TFF\", \"T/TF/TFT\", \"T/TF/TFT\", \"T/TT/TTF\", \"T/TT/TTF\", \"T/TT/TTT\", \"T/TT/TTT\", \"T/TF\", \"T/TF\", \"T/TT\", \"T/TT\", \"T\", \"T\", \"\"], \"type\": \"sunburst\", \"values\": [0.4299102971048614, 0.004218727057337238, 0.010825780713812294, 0.005218884687973199, 0.032461575177133495, 0.002482998915653277, 0.010759748008299269, 0.009009465223756312, 0.1420335086332784, 0.004128661453742171, 0.011614345367872389, 0.008111360778190555, 0.08320969081499456, 0.00915612924784916, 0.06513058446263179, 0.1717282423526145, 0.4341290241621986, 0.016044665401785493, 0.03494457409278677, 0.01976921323205558, 0.14616217008702057, 0.019725706146062942, 0.09236582006284372, 0.23685882681524628, 0.4501736895639841, 0.054713787324842354, 0.16588787623308351, 0.32922464687809, 0.5048874768888265, 0.4951125231111735, 1.0]}],\n",
       "                        {\"legend\": {\"tracegroupgap\": 0}, \"margin\": {\"t\": 60}, \"template\": {\"data\": {\"bar\": [{\"error_x\": {\"color\": \"#2a3f5f\"}, \"error_y\": {\"color\": \"#2a3f5f\"}, \"marker\": {\"line\": {\"color\": \"#E5ECF6\", \"width\": 0.5}}, \"type\": \"bar\"}], \"barpolar\": [{\"marker\": {\"line\": {\"color\": \"#E5ECF6\", \"width\": 0.5}}, \"type\": \"barpolar\"}], \"carpet\": [{\"aaxis\": {\"endlinecolor\": \"#2a3f5f\", \"gridcolor\": \"white\", \"linecolor\": \"white\", \"minorgridcolor\": \"white\", \"startlinecolor\": \"#2a3f5f\"}, \"baxis\": {\"endlinecolor\": \"#2a3f5f\", \"gridcolor\": \"white\", \"linecolor\": \"white\", \"minorgridcolor\": \"white\", \"startlinecolor\": \"#2a3f5f\"}, \"type\": \"carpet\"}], \"choropleth\": [{\"colorbar\": {\"outlinewidth\": 0, \"ticks\": \"\"}, \"type\": \"choropleth\"}], \"contour\": [{\"colorbar\": {\"outlinewidth\": 0, \"ticks\": \"\"}, \"colorscale\": [[0.0, \"#0d0887\"], [0.1111111111111111, \"#46039f\"], [0.2222222222222222, \"#7201a8\"], [0.3333333333333333, \"#9c179e\"], [0.4444444444444444, \"#bd3786\"], [0.5555555555555556, \"#d8576b\"], [0.6666666666666666, \"#ed7953\"], [0.7777777777777778, \"#fb9f3a\"], [0.8888888888888888, \"#fdca26\"], [1.0, \"#f0f921\"]], \"type\": \"contour\"}], \"contourcarpet\": [{\"colorbar\": {\"outlinewidth\": 0, \"ticks\": \"\"}, \"type\": \"contourcarpet\"}], \"heatmap\": [{\"colorbar\": {\"outlinewidth\": 0, \"ticks\": \"\"}, \"colorscale\": [[0.0, \"#0d0887\"], [0.1111111111111111, \"#46039f\"], [0.2222222222222222, \"#7201a8\"], [0.3333333333333333, \"#9c179e\"], [0.4444444444444444, \"#bd3786\"], [0.5555555555555556, \"#d8576b\"], [0.6666666666666666, \"#ed7953\"], [0.7777777777777778, \"#fb9f3a\"], [0.8888888888888888, \"#fdca26\"], [1.0, \"#f0f921\"]], \"type\": \"heatmap\"}], \"heatmapgl\": [{\"colorbar\": {\"outlinewidth\": 0, \"ticks\": \"\"}, \"colorscale\": [[0.0, \"#0d0887\"], [0.1111111111111111, \"#46039f\"], [0.2222222222222222, \"#7201a8\"], [0.3333333333333333, \"#9c179e\"], [0.4444444444444444, \"#bd3786\"], [0.5555555555555556, \"#d8576b\"], [0.6666666666666666, \"#ed7953\"], [0.7777777777777778, \"#fb9f3a\"], [0.8888888888888888, \"#fdca26\"], [1.0, \"#f0f921\"]], \"type\": \"heatmapgl\"}], \"histogram\": [{\"marker\": {\"colorbar\": {\"outlinewidth\": 0, \"ticks\": \"\"}}, \"type\": \"histogram\"}], \"histogram2d\": [{\"colorbar\": {\"outlinewidth\": 0, \"ticks\": \"\"}, \"colorscale\": [[0.0, \"#0d0887\"], [0.1111111111111111, \"#46039f\"], [0.2222222222222222, \"#7201a8\"], [0.3333333333333333, \"#9c179e\"], [0.4444444444444444, \"#bd3786\"], [0.5555555555555556, \"#d8576b\"], [0.6666666666666666, \"#ed7953\"], [0.7777777777777778, \"#fb9f3a\"], [0.8888888888888888, \"#fdca26\"], [1.0, \"#f0f921\"]], \"type\": \"histogram2d\"}], \"histogram2dcontour\": [{\"colorbar\": {\"outlinewidth\": 0, \"ticks\": \"\"}, \"colorscale\": [[0.0, \"#0d0887\"], [0.1111111111111111, \"#46039f\"], [0.2222222222222222, \"#7201a8\"], [0.3333333333333333, \"#9c179e\"], [0.4444444444444444, \"#bd3786\"], [0.5555555555555556, \"#d8576b\"], [0.6666666666666666, \"#ed7953\"], [0.7777777777777778, \"#fb9f3a\"], [0.8888888888888888, \"#fdca26\"], [1.0, \"#f0f921\"]], \"type\": \"histogram2dcontour\"}], \"mesh3d\": [{\"colorbar\": {\"outlinewidth\": 0, \"ticks\": \"\"}, \"type\": \"mesh3d\"}], \"parcoords\": [{\"line\": {\"colorbar\": {\"outlinewidth\": 0, \"ticks\": \"\"}}, \"type\": \"parcoords\"}], \"pie\": [{\"automargin\": true, \"type\": \"pie\"}], \"scatter\": [{\"marker\": {\"colorbar\": {\"outlinewidth\": 0, \"ticks\": \"\"}}, \"type\": \"scatter\"}], \"scatter3d\": [{\"line\": {\"colorbar\": {\"outlinewidth\": 0, \"ticks\": \"\"}}, \"marker\": {\"colorbar\": {\"outlinewidth\": 0, \"ticks\": \"\"}}, \"type\": \"scatter3d\"}], \"scattercarpet\": [{\"marker\": {\"colorbar\": {\"outlinewidth\": 0, \"ticks\": \"\"}}, \"type\": \"scattercarpet\"}], \"scattergeo\": [{\"marker\": {\"colorbar\": {\"outlinewidth\": 0, \"ticks\": \"\"}}, \"type\": \"scattergeo\"}], \"scattergl\": [{\"marker\": {\"colorbar\": {\"outlinewidth\": 0, \"ticks\": \"\"}}, \"type\": \"scattergl\"}], \"scattermapbox\": [{\"marker\": {\"colorbar\": {\"outlinewidth\": 0, \"ticks\": \"\"}}, \"type\": \"scattermapbox\"}], \"scatterpolar\": [{\"marker\": {\"colorbar\": {\"outlinewidth\": 0, \"ticks\": \"\"}}, \"type\": \"scatterpolar\"}], \"scatterpolargl\": [{\"marker\": {\"colorbar\": {\"outlinewidth\": 0, \"ticks\": \"\"}}, \"type\": \"scatterpolargl\"}], \"scatterternary\": [{\"marker\": {\"colorbar\": {\"outlinewidth\": 0, \"ticks\": \"\"}}, \"type\": \"scatterternary\"}], \"surface\": [{\"colorbar\": {\"outlinewidth\": 0, \"ticks\": \"\"}, \"colorscale\": [[0.0, \"#0d0887\"], [0.1111111111111111, \"#46039f\"], [0.2222222222222222, \"#7201a8\"], [0.3333333333333333, \"#9c179e\"], [0.4444444444444444, \"#bd3786\"], [0.5555555555555556, \"#d8576b\"], [0.6666666666666666, \"#ed7953\"], [0.7777777777777778, \"#fb9f3a\"], [0.8888888888888888, \"#fdca26\"], [1.0, \"#f0f921\"]], \"type\": \"surface\"}], \"table\": [{\"cells\": {\"fill\": {\"color\": \"#EBF0F8\"}, \"line\": {\"color\": \"white\"}}, \"header\": {\"fill\": {\"color\": \"#C8D4E3\"}, \"line\": {\"color\": \"white\"}}, \"type\": \"table\"}]}, \"layout\": {\"annotationdefaults\": {\"arrowcolor\": \"#2a3f5f\", \"arrowhead\": 0, \"arrowwidth\": 1}, \"coloraxis\": {\"colorbar\": {\"outlinewidth\": 0, \"ticks\": \"\"}}, \"colorscale\": {\"diverging\": [[0, \"#8e0152\"], [0.1, \"#c51b7d\"], [0.2, \"#de77ae\"], [0.3, \"#f1b6da\"], [0.4, \"#fde0ef\"], [0.5, \"#f7f7f7\"], [0.6, \"#e6f5d0\"], [0.7, \"#b8e186\"], [0.8, \"#7fbc41\"], [0.9, \"#4d9221\"], [1, \"#276419\"]], \"sequential\": [[0.0, \"#0d0887\"], [0.1111111111111111, \"#46039f\"], [0.2222222222222222, \"#7201a8\"], [0.3333333333333333, \"#9c179e\"], [0.4444444444444444, \"#bd3786\"], [0.5555555555555556, \"#d8576b\"], [0.6666666666666666, \"#ed7953\"], [0.7777777777777778, \"#fb9f3a\"], [0.8888888888888888, \"#fdca26\"], [1.0, \"#f0f921\"]], \"sequentialminus\": [[0.0, \"#0d0887\"], [0.1111111111111111, \"#46039f\"], [0.2222222222222222, \"#7201a8\"], [0.3333333333333333, \"#9c179e\"], [0.4444444444444444, \"#bd3786\"], [0.5555555555555556, \"#d8576b\"], [0.6666666666666666, \"#ed7953\"], [0.7777777777777778, \"#fb9f3a\"], [0.8888888888888888, \"#fdca26\"], [1.0, \"#f0f921\"]]}, \"colorway\": [\"#636efa\", \"#EF553B\", \"#00cc96\", \"#ab63fa\", \"#FFA15A\", \"#19d3f3\", \"#FF6692\", \"#B6E880\", \"#FF97FF\", \"#FECB52\"], \"font\": {\"color\": \"#2a3f5f\"}, \"geo\": {\"bgcolor\": \"white\", \"lakecolor\": \"white\", \"landcolor\": \"#E5ECF6\", \"showlakes\": true, \"showland\": true, \"subunitcolor\": \"white\"}, \"hoverlabel\": {\"align\": \"left\"}, \"hovermode\": \"closest\", \"mapbox\": {\"style\": \"light\"}, \"paper_bgcolor\": \"white\", \"plot_bgcolor\": \"#E5ECF6\", \"polar\": {\"angularaxis\": {\"gridcolor\": \"white\", \"linecolor\": \"white\", \"ticks\": \"\"}, \"bgcolor\": \"#E5ECF6\", \"radialaxis\": {\"gridcolor\": \"white\", \"linecolor\": \"white\", \"ticks\": \"\"}}, \"scene\": {\"xaxis\": {\"backgroundcolor\": \"#E5ECF6\", \"gridcolor\": \"white\", \"gridwidth\": 2, \"linecolor\": \"white\", \"showbackground\": true, \"ticks\": \"\", \"zerolinecolor\": \"white\"}, \"yaxis\": {\"backgroundcolor\": \"#E5ECF6\", \"gridcolor\": \"white\", \"gridwidth\": 2, \"linecolor\": \"white\", \"showbackground\": true, \"ticks\": \"\", \"zerolinecolor\": \"white\"}, \"zaxis\": {\"backgroundcolor\": \"#E5ECF6\", \"gridcolor\": \"white\", \"gridwidth\": 2, \"linecolor\": \"white\", \"showbackground\": true, \"ticks\": \"\", \"zerolinecolor\": \"white\"}}, \"shapedefaults\": {\"line\": {\"color\": \"#2a3f5f\"}}, \"ternary\": {\"aaxis\": {\"gridcolor\": \"white\", \"linecolor\": \"white\", \"ticks\": \"\"}, \"baxis\": {\"gridcolor\": \"white\", \"linecolor\": \"white\", \"ticks\": \"\"}, \"bgcolor\": \"#E5ECF6\", \"caxis\": {\"gridcolor\": \"white\", \"linecolor\": \"white\", \"ticks\": \"\"}}, \"title\": {\"x\": 0.05}, \"xaxis\": {\"automargin\": true, \"gridcolor\": \"white\", \"linecolor\": \"white\", \"ticks\": \"\", \"title\": {\"standoff\": 15}, \"zerolinecolor\": \"white\", \"zerolinewidth\": 2}, \"yaxis\": {\"automargin\": true, \"gridcolor\": \"white\", \"linecolor\": \"white\", \"ticks\": \"\", \"title\": {\"standoff\": 15}, \"zerolinecolor\": \"white\", \"zerolinewidth\": 2}}}},\n",
       "                        {\"responsive\": true}\n",
       "                    ).then(function(){\n",
       "                            \n",
       "var gd = document.getElementById('d1c6cfed-767c-4e4e-a31f-7d345d937282');\n",
       "var x = new MutationObserver(function (mutations, observer) {{\n",
       "        var display = window.getComputedStyle(gd).display;\n",
       "        if (!display || display === 'none') {{\n",
       "            console.log([gd, 'removed!']);\n",
       "            Plotly.purge(gd);\n",
       "            observer.disconnect();\n",
       "        }}\n",
       "}});\n",
       "\n",
       "// Listen for the removal of the full notebook cells\n",
       "var notebookContainer = gd.closest('#notebook-container');\n",
       "if (notebookContainer) {{\n",
       "    x.observe(notebookContainer, {childList: true});\n",
       "}}\n",
       "\n",
       "// Listen for the clearing of the current output cell\n",
       "var outputEl = gd.closest('.output');\n",
       "if (outputEl) {{\n",
       "    x.observe(outputEl, {childList: true});\n",
       "}}\n",
       "\n",
       "                        })\n",
       "                };\n",
       "                });\n",
       "            </script>\n",
       "        </div>"
      ]
     },
     "metadata": {},
     "output_type": "display_data"
    }
   ],
   "source": [
    "fig = px.sunburst(sun_amount, path=['cohort_yr0_TF', 'cohort_yr1_TF', 'cohort_yr2_TF', 'cohort_yr3_TF', 'cohort_yr4_TF'], values='perc_amount_total', \n",
    "                  #color='cohort_yr1_TF'\n",
    "                 )\n",
    "fig.show()"
   ]
  },
  {
   "cell_type": "code",
   "execution_count": 115,
   "metadata": {},
   "outputs": [
    {
     "data": {
      "application/vnd.plotly.v1+json": {
       "config": {
        "plotlyServerURL": "https://plot.ly"
       },
       "data": [
        {
         "branchvalues": "total",
         "domain": {
          "x": [
           0,
           1
          ],
          "y": [
           0,
           1
          ]
         },
         "hovertemplate": "labels=%{label}<br>perc_cohort_donors=%{value}<br>parent=%{parent}<br>id=%{id}<extra></extra>",
         "ids": [
          "T/TF/TFF/TFFF/TFFFF",
          "T/TF/TFF/TFFF/TFFFT",
          "T/TF/TFF/TFFT/TFFTF",
          "T/TF/TFF/TFFT/TFFTT",
          "T/TF/TFT/TFTF/TFTFF",
          "T/TF/TFT/TFTF/TFTFT",
          "T/TF/TFT/TFTT/TFTTF",
          "T/TF/TFT/TFTT/TFTTT",
          "T/TT/TTF/TTFF/TTFFF",
          "T/TT/TTF/TTFF/TTFFT",
          "T/TT/TTF/TTFT/TTFTF",
          "T/TT/TTF/TTFT/TTFTT",
          "T/TT/TTT/TTTF/TTTFF",
          "T/TT/TTT/TTTF/TTTFT",
          "T/TT/TTT/TTTT/TTTTF",
          "T/TT/TTT/TTTT/TTTTT",
          "T/TF/TFF/TFFF",
          "T/TF/TFF/TFFT",
          "T/TF/TFT/TFTF",
          "T/TF/TFT/TFTT",
          "T/TT/TTF/TTFF",
          "T/TT/TTF/TTFT",
          "T/TT/TTT/TTTF",
          "T/TT/TTT/TTTT",
          "T/TF/TFF",
          "T/TF/TFT",
          "T/TT/TTF",
          "T/TT/TTT",
          "T/TF",
          "T/TT",
          "T"
         ],
         "labels": [
          "TFFFF",
          "TFFFT",
          "TFFTF",
          "TFFTT",
          "TFTFF",
          "TFTFT",
          "TFTTF",
          "TFTTT",
          "TTFFF",
          "TTFFT",
          "TTFTF",
          "TTFTT",
          "TTTFF",
          "TTTFT",
          "TTTTF",
          "TTTTT",
          "TFFF",
          "TFFT",
          "TFTF",
          "TFTT",
          "TTFF",
          "TTFT",
          "TTTF",
          "TTTT",
          "TFF",
          "TFT",
          "TTF",
          "TTT",
          "TF",
          "TT",
          "T"
         ],
         "name": "",
         "parents": [
          "T/TF/TFF/TFFF",
          "T/TF/TFF/TFFF",
          "T/TF/TFF/TFFT",
          "T/TF/TFF/TFFT",
          "T/TF/TFT/TFTF",
          "T/TF/TFT/TFTF",
          "T/TF/TFT/TFTT",
          "T/TF/TFT/TFTT",
          "T/TT/TTF/TTFF",
          "T/TT/TTF/TTFF",
          "T/TT/TTF/TTFT",
          "T/TT/TTF/TTFT",
          "T/TT/TTT/TTTF",
          "T/TT/TTT/TTTF",
          "T/TT/TTT/TTTT",
          "T/TT/TTT/TTTT",
          "T/TF/TFF",
          "T/TF/TFF",
          "T/TF/TFT",
          "T/TF/TFT",
          "T/TT/TTF",
          "T/TT/TTF",
          "T/TT/TTT",
          "T/TT/TTT",
          "T/TF",
          "T/TF",
          "T/TT",
          "T/TT",
          "T",
          "T",
          ""
         ],
         "type": "sunburst",
         "values": [
          0.8380512448667706,
          0.003414085275077869,
          0.008702657474189378,
          0.0015351529275089723,
          0.02193223791511612,
          0.001005159654916589,
          0.0037667555422083087,
          0.0013509148187699613,
          0.080019599378431,
          0.0014788442293957088,
          0.004017675003976184,
          0.001390429694638918,
          0.01859125516039582,
          0.001465507958789936,
          0.006806931304376174,
          0.006471548795438402,
          0.8414653301418485,
          0.01023781040169835,
          0.022937397570032707,
          0.00511767036097827,
          0.08149844360782671,
          0.005408104698615102,
          0.020056763119185757,
          0.013278480099814575,
          0.8517031405435469,
          0.028055067931010976,
          0.0869065483064418,
          0.03333524321900033,
          0.8797582084745578,
          0.12024179152544215,
          1
         ]
        }
       ],
       "layout": {
        "legend": {
         "tracegroupgap": 0
        },
        "margin": {
         "t": 60
        },
        "template": {
         "data": {
          "bar": [
           {
            "error_x": {
             "color": "#2a3f5f"
            },
            "error_y": {
             "color": "#2a3f5f"
            },
            "marker": {
             "line": {
              "color": "#E5ECF6",
              "width": 0.5
             }
            },
            "type": "bar"
           }
          ],
          "barpolar": [
           {
            "marker": {
             "line": {
              "color": "#E5ECF6",
              "width": 0.5
             }
            },
            "type": "barpolar"
           }
          ],
          "carpet": [
           {
            "aaxis": {
             "endlinecolor": "#2a3f5f",
             "gridcolor": "white",
             "linecolor": "white",
             "minorgridcolor": "white",
             "startlinecolor": "#2a3f5f"
            },
            "baxis": {
             "endlinecolor": "#2a3f5f",
             "gridcolor": "white",
             "linecolor": "white",
             "minorgridcolor": "white",
             "startlinecolor": "#2a3f5f"
            },
            "type": "carpet"
           }
          ],
          "choropleth": [
           {
            "colorbar": {
             "outlinewidth": 0,
             "ticks": ""
            },
            "type": "choropleth"
           }
          ],
          "contour": [
           {
            "colorbar": {
             "outlinewidth": 0,
             "ticks": ""
            },
            "colorscale": [
             [
              0,
              "#0d0887"
             ],
             [
              0.1111111111111111,
              "#46039f"
             ],
             [
              0.2222222222222222,
              "#7201a8"
             ],
             [
              0.3333333333333333,
              "#9c179e"
             ],
             [
              0.4444444444444444,
              "#bd3786"
             ],
             [
              0.5555555555555556,
              "#d8576b"
             ],
             [
              0.6666666666666666,
              "#ed7953"
             ],
             [
              0.7777777777777778,
              "#fb9f3a"
             ],
             [
              0.8888888888888888,
              "#fdca26"
             ],
             [
              1,
              "#f0f921"
             ]
            ],
            "type": "contour"
           }
          ],
          "contourcarpet": [
           {
            "colorbar": {
             "outlinewidth": 0,
             "ticks": ""
            },
            "type": "contourcarpet"
           }
          ],
          "heatmap": [
           {
            "colorbar": {
             "outlinewidth": 0,
             "ticks": ""
            },
            "colorscale": [
             [
              0,
              "#0d0887"
             ],
             [
              0.1111111111111111,
              "#46039f"
             ],
             [
              0.2222222222222222,
              "#7201a8"
             ],
             [
              0.3333333333333333,
              "#9c179e"
             ],
             [
              0.4444444444444444,
              "#bd3786"
             ],
             [
              0.5555555555555556,
              "#d8576b"
             ],
             [
              0.6666666666666666,
              "#ed7953"
             ],
             [
              0.7777777777777778,
              "#fb9f3a"
             ],
             [
              0.8888888888888888,
              "#fdca26"
             ],
             [
              1,
              "#f0f921"
             ]
            ],
            "type": "heatmap"
           }
          ],
          "heatmapgl": [
           {
            "colorbar": {
             "outlinewidth": 0,
             "ticks": ""
            },
            "colorscale": [
             [
              0,
              "#0d0887"
             ],
             [
              0.1111111111111111,
              "#46039f"
             ],
             [
              0.2222222222222222,
              "#7201a8"
             ],
             [
              0.3333333333333333,
              "#9c179e"
             ],
             [
              0.4444444444444444,
              "#bd3786"
             ],
             [
              0.5555555555555556,
              "#d8576b"
             ],
             [
              0.6666666666666666,
              "#ed7953"
             ],
             [
              0.7777777777777778,
              "#fb9f3a"
             ],
             [
              0.8888888888888888,
              "#fdca26"
             ],
             [
              1,
              "#f0f921"
             ]
            ],
            "type": "heatmapgl"
           }
          ],
          "histogram": [
           {
            "marker": {
             "colorbar": {
              "outlinewidth": 0,
              "ticks": ""
             }
            },
            "type": "histogram"
           }
          ],
          "histogram2d": [
           {
            "colorbar": {
             "outlinewidth": 0,
             "ticks": ""
            },
            "colorscale": [
             [
              0,
              "#0d0887"
             ],
             [
              0.1111111111111111,
              "#46039f"
             ],
             [
              0.2222222222222222,
              "#7201a8"
             ],
             [
              0.3333333333333333,
              "#9c179e"
             ],
             [
              0.4444444444444444,
              "#bd3786"
             ],
             [
              0.5555555555555556,
              "#d8576b"
             ],
             [
              0.6666666666666666,
              "#ed7953"
             ],
             [
              0.7777777777777778,
              "#fb9f3a"
             ],
             [
              0.8888888888888888,
              "#fdca26"
             ],
             [
              1,
              "#f0f921"
             ]
            ],
            "type": "histogram2d"
           }
          ],
          "histogram2dcontour": [
           {
            "colorbar": {
             "outlinewidth": 0,
             "ticks": ""
            },
            "colorscale": [
             [
              0,
              "#0d0887"
             ],
             [
              0.1111111111111111,
              "#46039f"
             ],
             [
              0.2222222222222222,
              "#7201a8"
             ],
             [
              0.3333333333333333,
              "#9c179e"
             ],
             [
              0.4444444444444444,
              "#bd3786"
             ],
             [
              0.5555555555555556,
              "#d8576b"
             ],
             [
              0.6666666666666666,
              "#ed7953"
             ],
             [
              0.7777777777777778,
              "#fb9f3a"
             ],
             [
              0.8888888888888888,
              "#fdca26"
             ],
             [
              1,
              "#f0f921"
             ]
            ],
            "type": "histogram2dcontour"
           }
          ],
          "mesh3d": [
           {
            "colorbar": {
             "outlinewidth": 0,
             "ticks": ""
            },
            "type": "mesh3d"
           }
          ],
          "parcoords": [
           {
            "line": {
             "colorbar": {
              "outlinewidth": 0,
              "ticks": ""
             }
            },
            "type": "parcoords"
           }
          ],
          "pie": [
           {
            "automargin": true,
            "type": "pie"
           }
          ],
          "scatter": [
           {
            "marker": {
             "colorbar": {
              "outlinewidth": 0,
              "ticks": ""
             }
            },
            "type": "scatter"
           }
          ],
          "scatter3d": [
           {
            "line": {
             "colorbar": {
              "outlinewidth": 0,
              "ticks": ""
             }
            },
            "marker": {
             "colorbar": {
              "outlinewidth": 0,
              "ticks": ""
             }
            },
            "type": "scatter3d"
           }
          ],
          "scattercarpet": [
           {
            "marker": {
             "colorbar": {
              "outlinewidth": 0,
              "ticks": ""
             }
            },
            "type": "scattercarpet"
           }
          ],
          "scattergeo": [
           {
            "marker": {
             "colorbar": {
              "outlinewidth": 0,
              "ticks": ""
             }
            },
            "type": "scattergeo"
           }
          ],
          "scattergl": [
           {
            "marker": {
             "colorbar": {
              "outlinewidth": 0,
              "ticks": ""
             }
            },
            "type": "scattergl"
           }
          ],
          "scattermapbox": [
           {
            "marker": {
             "colorbar": {
              "outlinewidth": 0,
              "ticks": ""
             }
            },
            "type": "scattermapbox"
           }
          ],
          "scatterpolar": [
           {
            "marker": {
             "colorbar": {
              "outlinewidth": 0,
              "ticks": ""
             }
            },
            "type": "scatterpolar"
           }
          ],
          "scatterpolargl": [
           {
            "marker": {
             "colorbar": {
              "outlinewidth": 0,
              "ticks": ""
             }
            },
            "type": "scatterpolargl"
           }
          ],
          "scatterternary": [
           {
            "marker": {
             "colorbar": {
              "outlinewidth": 0,
              "ticks": ""
             }
            },
            "type": "scatterternary"
           }
          ],
          "surface": [
           {
            "colorbar": {
             "outlinewidth": 0,
             "ticks": ""
            },
            "colorscale": [
             [
              0,
              "#0d0887"
             ],
             [
              0.1111111111111111,
              "#46039f"
             ],
             [
              0.2222222222222222,
              "#7201a8"
             ],
             [
              0.3333333333333333,
              "#9c179e"
             ],
             [
              0.4444444444444444,
              "#bd3786"
             ],
             [
              0.5555555555555556,
              "#d8576b"
             ],
             [
              0.6666666666666666,
              "#ed7953"
             ],
             [
              0.7777777777777778,
              "#fb9f3a"
             ],
             [
              0.8888888888888888,
              "#fdca26"
             ],
             [
              1,
              "#f0f921"
             ]
            ],
            "type": "surface"
           }
          ],
          "table": [
           {
            "cells": {
             "fill": {
              "color": "#EBF0F8"
             },
             "line": {
              "color": "white"
             }
            },
            "header": {
             "fill": {
              "color": "#C8D4E3"
             },
             "line": {
              "color": "white"
             }
            },
            "type": "table"
           }
          ]
         },
         "layout": {
          "annotationdefaults": {
           "arrowcolor": "#2a3f5f",
           "arrowhead": 0,
           "arrowwidth": 1
          },
          "coloraxis": {
           "colorbar": {
            "outlinewidth": 0,
            "ticks": ""
           }
          },
          "colorscale": {
           "diverging": [
            [
             0,
             "#8e0152"
            ],
            [
             0.1,
             "#c51b7d"
            ],
            [
             0.2,
             "#de77ae"
            ],
            [
             0.3,
             "#f1b6da"
            ],
            [
             0.4,
             "#fde0ef"
            ],
            [
             0.5,
             "#f7f7f7"
            ],
            [
             0.6,
             "#e6f5d0"
            ],
            [
             0.7,
             "#b8e186"
            ],
            [
             0.8,
             "#7fbc41"
            ],
            [
             0.9,
             "#4d9221"
            ],
            [
             1,
             "#276419"
            ]
           ],
           "sequential": [
            [
             0,
             "#0d0887"
            ],
            [
             0.1111111111111111,
             "#46039f"
            ],
            [
             0.2222222222222222,
             "#7201a8"
            ],
            [
             0.3333333333333333,
             "#9c179e"
            ],
            [
             0.4444444444444444,
             "#bd3786"
            ],
            [
             0.5555555555555556,
             "#d8576b"
            ],
            [
             0.6666666666666666,
             "#ed7953"
            ],
            [
             0.7777777777777778,
             "#fb9f3a"
            ],
            [
             0.8888888888888888,
             "#fdca26"
            ],
            [
             1,
             "#f0f921"
            ]
           ],
           "sequentialminus": [
            [
             0,
             "#0d0887"
            ],
            [
             0.1111111111111111,
             "#46039f"
            ],
            [
             0.2222222222222222,
             "#7201a8"
            ],
            [
             0.3333333333333333,
             "#9c179e"
            ],
            [
             0.4444444444444444,
             "#bd3786"
            ],
            [
             0.5555555555555556,
             "#d8576b"
            ],
            [
             0.6666666666666666,
             "#ed7953"
            ],
            [
             0.7777777777777778,
             "#fb9f3a"
            ],
            [
             0.8888888888888888,
             "#fdca26"
            ],
            [
             1,
             "#f0f921"
            ]
           ]
          },
          "colorway": [
           "#636efa",
           "#EF553B",
           "#00cc96",
           "#ab63fa",
           "#FFA15A",
           "#19d3f3",
           "#FF6692",
           "#B6E880",
           "#FF97FF",
           "#FECB52"
          ],
          "font": {
           "color": "#2a3f5f"
          },
          "geo": {
           "bgcolor": "white",
           "lakecolor": "white",
           "landcolor": "#E5ECF6",
           "showlakes": true,
           "showland": true,
           "subunitcolor": "white"
          },
          "hoverlabel": {
           "align": "left"
          },
          "hovermode": "closest",
          "mapbox": {
           "style": "light"
          },
          "paper_bgcolor": "white",
          "plot_bgcolor": "#E5ECF6",
          "polar": {
           "angularaxis": {
            "gridcolor": "white",
            "linecolor": "white",
            "ticks": ""
           },
           "bgcolor": "#E5ECF6",
           "radialaxis": {
            "gridcolor": "white",
            "linecolor": "white",
            "ticks": ""
           }
          },
          "scene": {
           "xaxis": {
            "backgroundcolor": "#E5ECF6",
            "gridcolor": "white",
            "gridwidth": 2,
            "linecolor": "white",
            "showbackground": true,
            "ticks": "",
            "zerolinecolor": "white"
           },
           "yaxis": {
            "backgroundcolor": "#E5ECF6",
            "gridcolor": "white",
            "gridwidth": 2,
            "linecolor": "white",
            "showbackground": true,
            "ticks": "",
            "zerolinecolor": "white"
           },
           "zaxis": {
            "backgroundcolor": "#E5ECF6",
            "gridcolor": "white",
            "gridwidth": 2,
            "linecolor": "white",
            "showbackground": true,
            "ticks": "",
            "zerolinecolor": "white"
           }
          },
          "shapedefaults": {
           "line": {
            "color": "#2a3f5f"
           }
          },
          "ternary": {
           "aaxis": {
            "gridcolor": "white",
            "linecolor": "white",
            "ticks": ""
           },
           "baxis": {
            "gridcolor": "white",
            "linecolor": "white",
            "ticks": ""
           },
           "bgcolor": "#E5ECF6",
           "caxis": {
            "gridcolor": "white",
            "linecolor": "white",
            "ticks": ""
           }
          },
          "title": {
           "x": 0.05
          },
          "xaxis": {
           "automargin": true,
           "gridcolor": "white",
           "linecolor": "white",
           "ticks": "",
           "title": {
            "standoff": 15
           },
           "zerolinecolor": "white",
           "zerolinewidth": 2
          },
          "yaxis": {
           "automargin": true,
           "gridcolor": "white",
           "linecolor": "white",
           "ticks": "",
           "title": {
            "standoff": 15
           },
           "zerolinecolor": "white",
           "zerolinewidth": 2
          }
         }
        }
       }
      },
      "text/html": [
       "<div>\n",
       "        \n",
       "        \n",
       "            <div id=\"8f99cc54-8f3f-4dd1-a7ac-a517f230cb50\" class=\"plotly-graph-div\" style=\"height:525px; width:100%;\"></div>\n",
       "            <script type=\"text/javascript\">\n",
       "                require([\"plotly\"], function(Plotly) {\n",
       "                    window.PLOTLYENV=window.PLOTLYENV || {};\n",
       "                    \n",
       "                if (document.getElementById(\"8f99cc54-8f3f-4dd1-a7ac-a517f230cb50\")) {\n",
       "                    Plotly.newPlot(\n",
       "                        '8f99cc54-8f3f-4dd1-a7ac-a517f230cb50',\n",
       "                        [{\"branchvalues\": \"total\", \"domain\": {\"x\": [0.0, 1.0], \"y\": [0.0, 1.0]}, \"hovertemplate\": \"labels=%{label}<br>perc_cohort_donors=%{value}<br>parent=%{parent}<br>id=%{id}<extra></extra>\", \"ids\": [\"T/TF/TFF/TFFF/TFFFF\", \"T/TF/TFF/TFFF/TFFFT\", \"T/TF/TFF/TFFT/TFFTF\", \"T/TF/TFF/TFFT/TFFTT\", \"T/TF/TFT/TFTF/TFTFF\", \"T/TF/TFT/TFTF/TFTFT\", \"T/TF/TFT/TFTT/TFTTF\", \"T/TF/TFT/TFTT/TFTTT\", \"T/TT/TTF/TTFF/TTFFF\", \"T/TT/TTF/TTFF/TTFFT\", \"T/TT/TTF/TTFT/TTFTF\", \"T/TT/TTF/TTFT/TTFTT\", \"T/TT/TTT/TTTF/TTTFF\", \"T/TT/TTT/TTTF/TTTFT\", \"T/TT/TTT/TTTT/TTTTF\", \"T/TT/TTT/TTTT/TTTTT\", \"T/TF/TFF/TFFF\", \"T/TF/TFF/TFFT\", \"T/TF/TFT/TFTF\", \"T/TF/TFT/TFTT\", \"T/TT/TTF/TTFF\", \"T/TT/TTF/TTFT\", \"T/TT/TTT/TTTF\", \"T/TT/TTT/TTTT\", \"T/TF/TFF\", \"T/TF/TFT\", \"T/TT/TTF\", \"T/TT/TTT\", \"T/TF\", \"T/TT\", \"T\"], \"labels\": [\"TFFFF\", \"TFFFT\", \"TFFTF\", \"TFFTT\", \"TFTFF\", \"TFTFT\", \"TFTTF\", \"TFTTT\", \"TTFFF\", \"TTFFT\", \"TTFTF\", \"TTFTT\", \"TTTFF\", \"TTTFT\", \"TTTTF\", \"TTTTT\", \"TFFF\", \"TFFT\", \"TFTF\", \"TFTT\", \"TTFF\", \"TTFT\", \"TTTF\", \"TTTT\", \"TFF\", \"TFT\", \"TTF\", \"TTT\", \"TF\", \"TT\", \"T\"], \"name\": \"\", \"parents\": [\"T/TF/TFF/TFFF\", \"T/TF/TFF/TFFF\", \"T/TF/TFF/TFFT\", \"T/TF/TFF/TFFT\", \"T/TF/TFT/TFTF\", \"T/TF/TFT/TFTF\", \"T/TF/TFT/TFTT\", \"T/TF/TFT/TFTT\", \"T/TT/TTF/TTFF\", \"T/TT/TTF/TTFF\", \"T/TT/TTF/TTFT\", \"T/TT/TTF/TTFT\", \"T/TT/TTT/TTTF\", \"T/TT/TTT/TTTF\", \"T/TT/TTT/TTTT\", \"T/TT/TTT/TTTT\", \"T/TF/TFF\", \"T/TF/TFF\", \"T/TF/TFT\", \"T/TF/TFT\", \"T/TT/TTF\", \"T/TT/TTF\", \"T/TT/TTT\", \"T/TT/TTT\", \"T/TF\", \"T/TF\", \"T/TT\", \"T/TT\", \"T\", \"T\", \"\"], \"type\": \"sunburst\", \"values\": [0.8380512448667706, 0.003414085275077869, 0.008702657474189378, 0.0015351529275089723, 0.02193223791511612, 0.001005159654916589, 0.0037667555422083087, 0.0013509148187699613, 0.080019599378431, 0.0014788442293957088, 0.004017675003976184, 0.001390429694638918, 0.01859125516039582, 0.001465507958789936, 0.006806931304376174, 0.006471548795438402, 0.8414653301418485, 0.01023781040169835, 0.022937397570032707, 0.00511767036097827, 0.08149844360782671, 0.005408104698615102, 0.020056763119185757, 0.013278480099814575, 0.8517031405435469, 0.028055067931010976, 0.0869065483064418, 0.03333524321900033, 0.8797582084745578, 0.12024179152544215, 1.0]}],\n",
       "                        {\"legend\": {\"tracegroupgap\": 0}, \"margin\": {\"t\": 60}, \"template\": {\"data\": {\"bar\": [{\"error_x\": {\"color\": \"#2a3f5f\"}, \"error_y\": {\"color\": \"#2a3f5f\"}, \"marker\": {\"line\": {\"color\": \"#E5ECF6\", \"width\": 0.5}}, \"type\": \"bar\"}], \"barpolar\": [{\"marker\": {\"line\": {\"color\": \"#E5ECF6\", \"width\": 0.5}}, \"type\": \"barpolar\"}], \"carpet\": [{\"aaxis\": {\"endlinecolor\": \"#2a3f5f\", \"gridcolor\": \"white\", \"linecolor\": \"white\", \"minorgridcolor\": \"white\", \"startlinecolor\": \"#2a3f5f\"}, \"baxis\": {\"endlinecolor\": \"#2a3f5f\", \"gridcolor\": \"white\", \"linecolor\": \"white\", \"minorgridcolor\": \"white\", \"startlinecolor\": \"#2a3f5f\"}, \"type\": \"carpet\"}], \"choropleth\": [{\"colorbar\": {\"outlinewidth\": 0, \"ticks\": \"\"}, \"type\": \"choropleth\"}], \"contour\": [{\"colorbar\": {\"outlinewidth\": 0, \"ticks\": \"\"}, \"colorscale\": [[0.0, \"#0d0887\"], [0.1111111111111111, \"#46039f\"], [0.2222222222222222, \"#7201a8\"], [0.3333333333333333, \"#9c179e\"], [0.4444444444444444, \"#bd3786\"], [0.5555555555555556, \"#d8576b\"], [0.6666666666666666, \"#ed7953\"], [0.7777777777777778, \"#fb9f3a\"], [0.8888888888888888, \"#fdca26\"], [1.0, \"#f0f921\"]], \"type\": \"contour\"}], \"contourcarpet\": [{\"colorbar\": {\"outlinewidth\": 0, \"ticks\": \"\"}, \"type\": \"contourcarpet\"}], \"heatmap\": [{\"colorbar\": {\"outlinewidth\": 0, \"ticks\": \"\"}, \"colorscale\": [[0.0, \"#0d0887\"], [0.1111111111111111, \"#46039f\"], [0.2222222222222222, \"#7201a8\"], [0.3333333333333333, \"#9c179e\"], [0.4444444444444444, \"#bd3786\"], [0.5555555555555556, \"#d8576b\"], [0.6666666666666666, \"#ed7953\"], [0.7777777777777778, \"#fb9f3a\"], [0.8888888888888888, \"#fdca26\"], [1.0, \"#f0f921\"]], \"type\": \"heatmap\"}], \"heatmapgl\": [{\"colorbar\": {\"outlinewidth\": 0, \"ticks\": \"\"}, \"colorscale\": [[0.0, \"#0d0887\"], [0.1111111111111111, \"#46039f\"], [0.2222222222222222, \"#7201a8\"], [0.3333333333333333, \"#9c179e\"], [0.4444444444444444, \"#bd3786\"], [0.5555555555555556, \"#d8576b\"], [0.6666666666666666, \"#ed7953\"], [0.7777777777777778, \"#fb9f3a\"], [0.8888888888888888, \"#fdca26\"], [1.0, \"#f0f921\"]], \"type\": \"heatmapgl\"}], \"histogram\": [{\"marker\": {\"colorbar\": {\"outlinewidth\": 0, \"ticks\": \"\"}}, \"type\": \"histogram\"}], \"histogram2d\": [{\"colorbar\": {\"outlinewidth\": 0, \"ticks\": \"\"}, \"colorscale\": [[0.0, \"#0d0887\"], [0.1111111111111111, \"#46039f\"], [0.2222222222222222, \"#7201a8\"], [0.3333333333333333, \"#9c179e\"], [0.4444444444444444, \"#bd3786\"], [0.5555555555555556, \"#d8576b\"], [0.6666666666666666, \"#ed7953\"], [0.7777777777777778, \"#fb9f3a\"], [0.8888888888888888, \"#fdca26\"], [1.0, \"#f0f921\"]], \"type\": \"histogram2d\"}], \"histogram2dcontour\": [{\"colorbar\": {\"outlinewidth\": 0, \"ticks\": \"\"}, \"colorscale\": [[0.0, \"#0d0887\"], [0.1111111111111111, \"#46039f\"], [0.2222222222222222, \"#7201a8\"], [0.3333333333333333, \"#9c179e\"], [0.4444444444444444, \"#bd3786\"], [0.5555555555555556, \"#d8576b\"], [0.6666666666666666, \"#ed7953\"], [0.7777777777777778, \"#fb9f3a\"], [0.8888888888888888, \"#fdca26\"], [1.0, \"#f0f921\"]], \"type\": \"histogram2dcontour\"}], \"mesh3d\": [{\"colorbar\": {\"outlinewidth\": 0, \"ticks\": \"\"}, \"type\": \"mesh3d\"}], \"parcoords\": [{\"line\": {\"colorbar\": {\"outlinewidth\": 0, \"ticks\": \"\"}}, \"type\": \"parcoords\"}], \"pie\": [{\"automargin\": true, \"type\": \"pie\"}], \"scatter\": [{\"marker\": {\"colorbar\": {\"outlinewidth\": 0, \"ticks\": \"\"}}, \"type\": \"scatter\"}], \"scatter3d\": [{\"line\": {\"colorbar\": {\"outlinewidth\": 0, \"ticks\": \"\"}}, \"marker\": {\"colorbar\": {\"outlinewidth\": 0, \"ticks\": \"\"}}, \"type\": \"scatter3d\"}], \"scattercarpet\": [{\"marker\": {\"colorbar\": {\"outlinewidth\": 0, \"ticks\": \"\"}}, \"type\": \"scattercarpet\"}], \"scattergeo\": [{\"marker\": {\"colorbar\": {\"outlinewidth\": 0, \"ticks\": \"\"}}, \"type\": \"scattergeo\"}], \"scattergl\": [{\"marker\": {\"colorbar\": {\"outlinewidth\": 0, \"ticks\": \"\"}}, \"type\": \"scattergl\"}], \"scattermapbox\": [{\"marker\": {\"colorbar\": {\"outlinewidth\": 0, \"ticks\": \"\"}}, \"type\": \"scattermapbox\"}], \"scatterpolar\": [{\"marker\": {\"colorbar\": {\"outlinewidth\": 0, \"ticks\": \"\"}}, \"type\": \"scatterpolar\"}], \"scatterpolargl\": [{\"marker\": {\"colorbar\": {\"outlinewidth\": 0, \"ticks\": \"\"}}, \"type\": \"scatterpolargl\"}], \"scatterternary\": [{\"marker\": {\"colorbar\": {\"outlinewidth\": 0, \"ticks\": \"\"}}, \"type\": \"scatterternary\"}], \"surface\": [{\"colorbar\": {\"outlinewidth\": 0, \"ticks\": \"\"}, \"colorscale\": [[0.0, \"#0d0887\"], [0.1111111111111111, \"#46039f\"], [0.2222222222222222, \"#7201a8\"], [0.3333333333333333, \"#9c179e\"], [0.4444444444444444, \"#bd3786\"], [0.5555555555555556, \"#d8576b\"], [0.6666666666666666, \"#ed7953\"], [0.7777777777777778, \"#fb9f3a\"], [0.8888888888888888, \"#fdca26\"], [1.0, \"#f0f921\"]], \"type\": \"surface\"}], \"table\": [{\"cells\": {\"fill\": {\"color\": \"#EBF0F8\"}, \"line\": {\"color\": \"white\"}}, \"header\": {\"fill\": {\"color\": \"#C8D4E3\"}, \"line\": {\"color\": \"white\"}}, \"type\": \"table\"}]}, \"layout\": {\"annotationdefaults\": {\"arrowcolor\": \"#2a3f5f\", \"arrowhead\": 0, \"arrowwidth\": 1}, \"coloraxis\": {\"colorbar\": {\"outlinewidth\": 0, \"ticks\": \"\"}}, \"colorscale\": {\"diverging\": [[0, \"#8e0152\"], [0.1, \"#c51b7d\"], [0.2, \"#de77ae\"], [0.3, \"#f1b6da\"], [0.4, \"#fde0ef\"], [0.5, \"#f7f7f7\"], [0.6, \"#e6f5d0\"], [0.7, \"#b8e186\"], [0.8, \"#7fbc41\"], [0.9, \"#4d9221\"], [1, \"#276419\"]], \"sequential\": [[0.0, \"#0d0887\"], [0.1111111111111111, \"#46039f\"], [0.2222222222222222, \"#7201a8\"], [0.3333333333333333, \"#9c179e\"], [0.4444444444444444, \"#bd3786\"], [0.5555555555555556, \"#d8576b\"], [0.6666666666666666, \"#ed7953\"], [0.7777777777777778, \"#fb9f3a\"], [0.8888888888888888, \"#fdca26\"], [1.0, \"#f0f921\"]], \"sequentialminus\": [[0.0, \"#0d0887\"], [0.1111111111111111, \"#46039f\"], [0.2222222222222222, \"#7201a8\"], [0.3333333333333333, \"#9c179e\"], [0.4444444444444444, \"#bd3786\"], [0.5555555555555556, \"#d8576b\"], [0.6666666666666666, \"#ed7953\"], [0.7777777777777778, \"#fb9f3a\"], [0.8888888888888888, \"#fdca26\"], [1.0, \"#f0f921\"]]}, \"colorway\": [\"#636efa\", \"#EF553B\", \"#00cc96\", \"#ab63fa\", \"#FFA15A\", \"#19d3f3\", \"#FF6692\", \"#B6E880\", \"#FF97FF\", \"#FECB52\"], \"font\": {\"color\": \"#2a3f5f\"}, \"geo\": {\"bgcolor\": \"white\", \"lakecolor\": \"white\", \"landcolor\": \"#E5ECF6\", \"showlakes\": true, \"showland\": true, \"subunitcolor\": \"white\"}, \"hoverlabel\": {\"align\": \"left\"}, \"hovermode\": \"closest\", \"mapbox\": {\"style\": \"light\"}, \"paper_bgcolor\": \"white\", \"plot_bgcolor\": \"#E5ECF6\", \"polar\": {\"angularaxis\": {\"gridcolor\": \"white\", \"linecolor\": \"white\", \"ticks\": \"\"}, \"bgcolor\": \"#E5ECF6\", \"radialaxis\": {\"gridcolor\": \"white\", \"linecolor\": \"white\", \"ticks\": \"\"}}, \"scene\": {\"xaxis\": {\"backgroundcolor\": \"#E5ECF6\", \"gridcolor\": \"white\", \"gridwidth\": 2, \"linecolor\": \"white\", \"showbackground\": true, \"ticks\": \"\", \"zerolinecolor\": \"white\"}, \"yaxis\": {\"backgroundcolor\": \"#E5ECF6\", \"gridcolor\": \"white\", \"gridwidth\": 2, \"linecolor\": \"white\", \"showbackground\": true, \"ticks\": \"\", \"zerolinecolor\": \"white\"}, \"zaxis\": {\"backgroundcolor\": \"#E5ECF6\", \"gridcolor\": \"white\", \"gridwidth\": 2, \"linecolor\": \"white\", \"showbackground\": true, \"ticks\": \"\", \"zerolinecolor\": \"white\"}}, \"shapedefaults\": {\"line\": {\"color\": \"#2a3f5f\"}}, \"ternary\": {\"aaxis\": {\"gridcolor\": \"white\", \"linecolor\": \"white\", \"ticks\": \"\"}, \"baxis\": {\"gridcolor\": \"white\", \"linecolor\": \"white\", \"ticks\": \"\"}, \"bgcolor\": \"#E5ECF6\", \"caxis\": {\"gridcolor\": \"white\", \"linecolor\": \"white\", \"ticks\": \"\"}}, \"title\": {\"x\": 0.05}, \"xaxis\": {\"automargin\": true, \"gridcolor\": \"white\", \"linecolor\": \"white\", \"ticks\": \"\", \"title\": {\"standoff\": 15}, \"zerolinecolor\": \"white\", \"zerolinewidth\": 2}, \"yaxis\": {\"automargin\": true, \"gridcolor\": \"white\", \"linecolor\": \"white\", \"ticks\": \"\", \"title\": {\"standoff\": 15}, \"zerolinecolor\": \"white\", \"zerolinewidth\": 2}}}},\n",
       "                        {\"responsive\": true}\n",
       "                    ).then(function(){\n",
       "                            \n",
       "var gd = document.getElementById('8f99cc54-8f3f-4dd1-a7ac-a517f230cb50');\n",
       "var x = new MutationObserver(function (mutations, observer) {{\n",
       "        var display = window.getComputedStyle(gd).display;\n",
       "        if (!display || display === 'none') {{\n",
       "            console.log([gd, 'removed!']);\n",
       "            Plotly.purge(gd);\n",
       "            observer.disconnect();\n",
       "        }}\n",
       "}});\n",
       "\n",
       "// Listen for the removal of the full notebook cells\n",
       "var notebookContainer = gd.closest('#notebook-container');\n",
       "if (notebookContainer) {{\n",
       "    x.observe(notebookContainer, {childList: true});\n",
       "}}\n",
       "\n",
       "// Listen for the clearing of the current output cell\n",
       "var outputEl = gd.closest('.output');\n",
       "if (outputEl) {{\n",
       "    x.observe(outputEl, {childList: true});\n",
       "}}\n",
       "\n",
       "                        })\n",
       "                };\n",
       "                });\n",
       "            </script>\n",
       "        </div>"
      ]
     },
     "metadata": {},
     "output_type": "display_data"
    }
   ],
   "source": [
    "fig = px.sunburst(sun_count, path=['cohort_yr0_TF', 'cohort_yr1_TF', 'cohort_yr2_TF', 'cohort_yr3_TF', 'cohort_yr4_TF'], values='perc_cohort_donors', \n",
    "                  #color='cohort_yr1_TF'\n",
    "                 )\n",
    "fig.show()"
   ]
  },
  {
   "cell_type": "code",
   "execution_count": 46,
   "metadata": {},
   "outputs": [],
   "source": [
    "sun2=donations.groupby(['cohort_yr4_TF', 'cohort_yr3_TF', 'cohort_yr2_TF', 'cohort_yr1_TF', 'cohort_yr0_TF']).count()['id'].reset_index()"
   ]
  },
  {
   "cell_type": "code",
   "execution_count": 143,
   "metadata": {},
   "outputs": [
    {
     "data": {
      "application/vnd.plotly.v1+json": {
       "config": {
        "plotlyServerURL": "https://plot.ly"
       },
       "data": [
        {
         "ids": [
          "T",
          "TT",
          "TF",
          "TTT",
          "TTF",
          "TFT",
          "TFF"
         ],
         "labels": [
          "T",
          "T",
          "F",
          "T",
          "F",
          "T",
          "F"
         ],
         "marker": {
          "colors": [
           "green",
           "green",
           "red",
           "green",
           "red",
           "green",
           "red"
          ]
         },
         "parents": [
          "",
          "T",
          "T",
          "TT",
          "TT",
          "TF",
          "TF"
         ],
         "type": "sunburst"
        }
       ],
       "layout": {
        "margin": {
         "b": 0,
         "l": 0,
         "r": 0,
         "t": 0
        },
        "template": {
         "data": {
          "bar": [
           {
            "error_x": {
             "color": "#2a3f5f"
            },
            "error_y": {
             "color": "#2a3f5f"
            },
            "marker": {
             "line": {
              "color": "#E5ECF6",
              "width": 0.5
             }
            },
            "type": "bar"
           }
          ],
          "barpolar": [
           {
            "marker": {
             "line": {
              "color": "#E5ECF6",
              "width": 0.5
             }
            },
            "type": "barpolar"
           }
          ],
          "carpet": [
           {
            "aaxis": {
             "endlinecolor": "#2a3f5f",
             "gridcolor": "white",
             "linecolor": "white",
             "minorgridcolor": "white",
             "startlinecolor": "#2a3f5f"
            },
            "baxis": {
             "endlinecolor": "#2a3f5f",
             "gridcolor": "white",
             "linecolor": "white",
             "minorgridcolor": "white",
             "startlinecolor": "#2a3f5f"
            },
            "type": "carpet"
           }
          ],
          "choropleth": [
           {
            "colorbar": {
             "outlinewidth": 0,
             "ticks": ""
            },
            "type": "choropleth"
           }
          ],
          "contour": [
           {
            "colorbar": {
             "outlinewidth": 0,
             "ticks": ""
            },
            "colorscale": [
             [
              0,
              "#0d0887"
             ],
             [
              0.1111111111111111,
              "#46039f"
             ],
             [
              0.2222222222222222,
              "#7201a8"
             ],
             [
              0.3333333333333333,
              "#9c179e"
             ],
             [
              0.4444444444444444,
              "#bd3786"
             ],
             [
              0.5555555555555556,
              "#d8576b"
             ],
             [
              0.6666666666666666,
              "#ed7953"
             ],
             [
              0.7777777777777778,
              "#fb9f3a"
             ],
             [
              0.8888888888888888,
              "#fdca26"
             ],
             [
              1,
              "#f0f921"
             ]
            ],
            "type": "contour"
           }
          ],
          "contourcarpet": [
           {
            "colorbar": {
             "outlinewidth": 0,
             "ticks": ""
            },
            "type": "contourcarpet"
           }
          ],
          "heatmap": [
           {
            "colorbar": {
             "outlinewidth": 0,
             "ticks": ""
            },
            "colorscale": [
             [
              0,
              "#0d0887"
             ],
             [
              0.1111111111111111,
              "#46039f"
             ],
             [
              0.2222222222222222,
              "#7201a8"
             ],
             [
              0.3333333333333333,
              "#9c179e"
             ],
             [
              0.4444444444444444,
              "#bd3786"
             ],
             [
              0.5555555555555556,
              "#d8576b"
             ],
             [
              0.6666666666666666,
              "#ed7953"
             ],
             [
              0.7777777777777778,
              "#fb9f3a"
             ],
             [
              0.8888888888888888,
              "#fdca26"
             ],
             [
              1,
              "#f0f921"
             ]
            ],
            "type": "heatmap"
           }
          ],
          "heatmapgl": [
           {
            "colorbar": {
             "outlinewidth": 0,
             "ticks": ""
            },
            "colorscale": [
             [
              0,
              "#0d0887"
             ],
             [
              0.1111111111111111,
              "#46039f"
             ],
             [
              0.2222222222222222,
              "#7201a8"
             ],
             [
              0.3333333333333333,
              "#9c179e"
             ],
             [
              0.4444444444444444,
              "#bd3786"
             ],
             [
              0.5555555555555556,
              "#d8576b"
             ],
             [
              0.6666666666666666,
              "#ed7953"
             ],
             [
              0.7777777777777778,
              "#fb9f3a"
             ],
             [
              0.8888888888888888,
              "#fdca26"
             ],
             [
              1,
              "#f0f921"
             ]
            ],
            "type": "heatmapgl"
           }
          ],
          "histogram": [
           {
            "marker": {
             "colorbar": {
              "outlinewidth": 0,
              "ticks": ""
             }
            },
            "type": "histogram"
           }
          ],
          "histogram2d": [
           {
            "colorbar": {
             "outlinewidth": 0,
             "ticks": ""
            },
            "colorscale": [
             [
              0,
              "#0d0887"
             ],
             [
              0.1111111111111111,
              "#46039f"
             ],
             [
              0.2222222222222222,
              "#7201a8"
             ],
             [
              0.3333333333333333,
              "#9c179e"
             ],
             [
              0.4444444444444444,
              "#bd3786"
             ],
             [
              0.5555555555555556,
              "#d8576b"
             ],
             [
              0.6666666666666666,
              "#ed7953"
             ],
             [
              0.7777777777777778,
              "#fb9f3a"
             ],
             [
              0.8888888888888888,
              "#fdca26"
             ],
             [
              1,
              "#f0f921"
             ]
            ],
            "type": "histogram2d"
           }
          ],
          "histogram2dcontour": [
           {
            "colorbar": {
             "outlinewidth": 0,
             "ticks": ""
            },
            "colorscale": [
             [
              0,
              "#0d0887"
             ],
             [
              0.1111111111111111,
              "#46039f"
             ],
             [
              0.2222222222222222,
              "#7201a8"
             ],
             [
              0.3333333333333333,
              "#9c179e"
             ],
             [
              0.4444444444444444,
              "#bd3786"
             ],
             [
              0.5555555555555556,
              "#d8576b"
             ],
             [
              0.6666666666666666,
              "#ed7953"
             ],
             [
              0.7777777777777778,
              "#fb9f3a"
             ],
             [
              0.8888888888888888,
              "#fdca26"
             ],
             [
              1,
              "#f0f921"
             ]
            ],
            "type": "histogram2dcontour"
           }
          ],
          "mesh3d": [
           {
            "colorbar": {
             "outlinewidth": 0,
             "ticks": ""
            },
            "type": "mesh3d"
           }
          ],
          "parcoords": [
           {
            "line": {
             "colorbar": {
              "outlinewidth": 0,
              "ticks": ""
             }
            },
            "type": "parcoords"
           }
          ],
          "pie": [
           {
            "automargin": true,
            "type": "pie"
           }
          ],
          "scatter": [
           {
            "marker": {
             "colorbar": {
              "outlinewidth": 0,
              "ticks": ""
             }
            },
            "type": "scatter"
           }
          ],
          "scatter3d": [
           {
            "line": {
             "colorbar": {
              "outlinewidth": 0,
              "ticks": ""
             }
            },
            "marker": {
             "colorbar": {
              "outlinewidth": 0,
              "ticks": ""
             }
            },
            "type": "scatter3d"
           }
          ],
          "scattercarpet": [
           {
            "marker": {
             "colorbar": {
              "outlinewidth": 0,
              "ticks": ""
             }
            },
            "type": "scattercarpet"
           }
          ],
          "scattergeo": [
           {
            "marker": {
             "colorbar": {
              "outlinewidth": 0,
              "ticks": ""
             }
            },
            "type": "scattergeo"
           }
          ],
          "scattergl": [
           {
            "marker": {
             "colorbar": {
              "outlinewidth": 0,
              "ticks": ""
             }
            },
            "type": "scattergl"
           }
          ],
          "scattermapbox": [
           {
            "marker": {
             "colorbar": {
              "outlinewidth": 0,
              "ticks": ""
             }
            },
            "type": "scattermapbox"
           }
          ],
          "scatterpolar": [
           {
            "marker": {
             "colorbar": {
              "outlinewidth": 0,
              "ticks": ""
             }
            },
            "type": "scatterpolar"
           }
          ],
          "scatterpolargl": [
           {
            "marker": {
             "colorbar": {
              "outlinewidth": 0,
              "ticks": ""
             }
            },
            "type": "scatterpolargl"
           }
          ],
          "scatterternary": [
           {
            "marker": {
             "colorbar": {
              "outlinewidth": 0,
              "ticks": ""
             }
            },
            "type": "scatterternary"
           }
          ],
          "surface": [
           {
            "colorbar": {
             "outlinewidth": 0,
             "ticks": ""
            },
            "colorscale": [
             [
              0,
              "#0d0887"
             ],
             [
              0.1111111111111111,
              "#46039f"
             ],
             [
              0.2222222222222222,
              "#7201a8"
             ],
             [
              0.3333333333333333,
              "#9c179e"
             ],
             [
              0.4444444444444444,
              "#bd3786"
             ],
             [
              0.5555555555555556,
              "#d8576b"
             ],
             [
              0.6666666666666666,
              "#ed7953"
             ],
             [
              0.7777777777777778,
              "#fb9f3a"
             ],
             [
              0.8888888888888888,
              "#fdca26"
             ],
             [
              1,
              "#f0f921"
             ]
            ],
            "type": "surface"
           }
          ],
          "table": [
           {
            "cells": {
             "fill": {
              "color": "#EBF0F8"
             },
             "line": {
              "color": "white"
             }
            },
            "header": {
             "fill": {
              "color": "#C8D4E3"
             },
             "line": {
              "color": "white"
             }
            },
            "type": "table"
           }
          ]
         },
         "layout": {
          "annotationdefaults": {
           "arrowcolor": "#2a3f5f",
           "arrowhead": 0,
           "arrowwidth": 1
          },
          "coloraxis": {
           "colorbar": {
            "outlinewidth": 0,
            "ticks": ""
           }
          },
          "colorscale": {
           "diverging": [
            [
             0,
             "#8e0152"
            ],
            [
             0.1,
             "#c51b7d"
            ],
            [
             0.2,
             "#de77ae"
            ],
            [
             0.3,
             "#f1b6da"
            ],
            [
             0.4,
             "#fde0ef"
            ],
            [
             0.5,
             "#f7f7f7"
            ],
            [
             0.6,
             "#e6f5d0"
            ],
            [
             0.7,
             "#b8e186"
            ],
            [
             0.8,
             "#7fbc41"
            ],
            [
             0.9,
             "#4d9221"
            ],
            [
             1,
             "#276419"
            ]
           ],
           "sequential": [
            [
             0,
             "#0d0887"
            ],
            [
             0.1111111111111111,
             "#46039f"
            ],
            [
             0.2222222222222222,
             "#7201a8"
            ],
            [
             0.3333333333333333,
             "#9c179e"
            ],
            [
             0.4444444444444444,
             "#bd3786"
            ],
            [
             0.5555555555555556,
             "#d8576b"
            ],
            [
             0.6666666666666666,
             "#ed7953"
            ],
            [
             0.7777777777777778,
             "#fb9f3a"
            ],
            [
             0.8888888888888888,
             "#fdca26"
            ],
            [
             1,
             "#f0f921"
            ]
           ],
           "sequentialminus": [
            [
             0,
             "#0d0887"
            ],
            [
             0.1111111111111111,
             "#46039f"
            ],
            [
             0.2222222222222222,
             "#7201a8"
            ],
            [
             0.3333333333333333,
             "#9c179e"
            ],
            [
             0.4444444444444444,
             "#bd3786"
            ],
            [
             0.5555555555555556,
             "#d8576b"
            ],
            [
             0.6666666666666666,
             "#ed7953"
            ],
            [
             0.7777777777777778,
             "#fb9f3a"
            ],
            [
             0.8888888888888888,
             "#fdca26"
            ],
            [
             1,
             "#f0f921"
            ]
           ]
          },
          "colorway": [
           "#636efa",
           "#EF553B",
           "#00cc96",
           "#ab63fa",
           "#FFA15A",
           "#19d3f3",
           "#FF6692",
           "#B6E880",
           "#FF97FF",
           "#FECB52"
          ],
          "font": {
           "color": "#2a3f5f"
          },
          "geo": {
           "bgcolor": "white",
           "lakecolor": "white",
           "landcolor": "#E5ECF6",
           "showlakes": true,
           "showland": true,
           "subunitcolor": "white"
          },
          "hoverlabel": {
           "align": "left"
          },
          "hovermode": "closest",
          "mapbox": {
           "style": "light"
          },
          "paper_bgcolor": "white",
          "plot_bgcolor": "#E5ECF6",
          "polar": {
           "angularaxis": {
            "gridcolor": "white",
            "linecolor": "white",
            "ticks": ""
           },
           "bgcolor": "#E5ECF6",
           "radialaxis": {
            "gridcolor": "white",
            "linecolor": "white",
            "ticks": ""
           }
          },
          "scene": {
           "xaxis": {
            "backgroundcolor": "#E5ECF6",
            "gridcolor": "white",
            "gridwidth": 2,
            "linecolor": "white",
            "showbackground": true,
            "ticks": "",
            "zerolinecolor": "white"
           },
           "yaxis": {
            "backgroundcolor": "#E5ECF6",
            "gridcolor": "white",
            "gridwidth": 2,
            "linecolor": "white",
            "showbackground": true,
            "ticks": "",
            "zerolinecolor": "white"
           },
           "zaxis": {
            "backgroundcolor": "#E5ECF6",
            "gridcolor": "white",
            "gridwidth": 2,
            "linecolor": "white",
            "showbackground": true,
            "ticks": "",
            "zerolinecolor": "white"
           }
          },
          "shapedefaults": {
           "line": {
            "color": "#2a3f5f"
           }
          },
          "ternary": {
           "aaxis": {
            "gridcolor": "white",
            "linecolor": "white",
            "ticks": ""
           },
           "baxis": {
            "gridcolor": "white",
            "linecolor": "white",
            "ticks": ""
           },
           "bgcolor": "#E5ECF6",
           "caxis": {
            "gridcolor": "white",
            "linecolor": "white",
            "ticks": ""
           }
          },
          "title": {
           "x": 0.05
          },
          "xaxis": {
           "automargin": true,
           "gridcolor": "white",
           "linecolor": "white",
           "ticks": "",
           "title": {
            "standoff": 15
           },
           "zerolinecolor": "white",
           "zerolinewidth": 2
          },
          "yaxis": {
           "automargin": true,
           "gridcolor": "white",
           "linecolor": "white",
           "ticks": "",
           "title": {
            "standoff": 15
           },
           "zerolinecolor": "white",
           "zerolinewidth": 2
          }
         }
        }
       }
      },
      "text/html": [
       "<div>\n",
       "        \n",
       "        \n",
       "            <div id=\"c1445052-ff2d-42b3-9bb5-e710ec870776\" class=\"plotly-graph-div\" style=\"height:525px; width:100%;\"></div>\n",
       "            <script type=\"text/javascript\">\n",
       "                require([\"plotly\"], function(Plotly) {\n",
       "                    window.PLOTLYENV=window.PLOTLYENV || {};\n",
       "                    \n",
       "                if (document.getElementById(\"c1445052-ff2d-42b3-9bb5-e710ec870776\")) {\n",
       "                    Plotly.newPlot(\n",
       "                        'c1445052-ff2d-42b3-9bb5-e710ec870776',\n",
       "                        [{\"ids\": [\"T\", \"TT\", \"TF\", \"TTT\", \"TTF\", \"TFT\", \"TFF\"], \"labels\": [\"T\", \"T\", \"F\", \"T\", \"F\", \"T\", \"F\"], \"marker\": {\"colors\": [\"green\", \"green\", \"red\", \"green\", \"red\", \"green\", \"red\"]}, \"parents\": [\"\", \"T\", \"T\", \"TT\", \"TT\", \"TF\", \"TF\"], \"type\": \"sunburst\"}],\n",
       "                        {\"margin\": {\"b\": 0, \"l\": 0, \"r\": 0, \"t\": 0}, \"template\": {\"data\": {\"bar\": [{\"error_x\": {\"color\": \"#2a3f5f\"}, \"error_y\": {\"color\": \"#2a3f5f\"}, \"marker\": {\"line\": {\"color\": \"#E5ECF6\", \"width\": 0.5}}, \"type\": \"bar\"}], \"barpolar\": [{\"marker\": {\"line\": {\"color\": \"#E5ECF6\", \"width\": 0.5}}, \"type\": \"barpolar\"}], \"carpet\": [{\"aaxis\": {\"endlinecolor\": \"#2a3f5f\", \"gridcolor\": \"white\", \"linecolor\": \"white\", \"minorgridcolor\": \"white\", \"startlinecolor\": \"#2a3f5f\"}, \"baxis\": {\"endlinecolor\": \"#2a3f5f\", \"gridcolor\": \"white\", \"linecolor\": \"white\", \"minorgridcolor\": \"white\", \"startlinecolor\": \"#2a3f5f\"}, \"type\": \"carpet\"}], \"choropleth\": [{\"colorbar\": {\"outlinewidth\": 0, \"ticks\": \"\"}, \"type\": \"choropleth\"}], \"contour\": [{\"colorbar\": {\"outlinewidth\": 0, \"ticks\": \"\"}, \"colorscale\": [[0.0, \"#0d0887\"], [0.1111111111111111, \"#46039f\"], [0.2222222222222222, \"#7201a8\"], [0.3333333333333333, \"#9c179e\"], [0.4444444444444444, \"#bd3786\"], [0.5555555555555556, \"#d8576b\"], [0.6666666666666666, \"#ed7953\"], [0.7777777777777778, \"#fb9f3a\"], [0.8888888888888888, \"#fdca26\"], [1.0, \"#f0f921\"]], \"type\": \"contour\"}], \"contourcarpet\": [{\"colorbar\": {\"outlinewidth\": 0, \"ticks\": \"\"}, \"type\": \"contourcarpet\"}], \"heatmap\": [{\"colorbar\": {\"outlinewidth\": 0, \"ticks\": \"\"}, \"colorscale\": [[0.0, \"#0d0887\"], [0.1111111111111111, \"#46039f\"], [0.2222222222222222, \"#7201a8\"], [0.3333333333333333, \"#9c179e\"], [0.4444444444444444, \"#bd3786\"], [0.5555555555555556, \"#d8576b\"], [0.6666666666666666, \"#ed7953\"], [0.7777777777777778, \"#fb9f3a\"], [0.8888888888888888, \"#fdca26\"], [1.0, \"#f0f921\"]], \"type\": \"heatmap\"}], \"heatmapgl\": [{\"colorbar\": {\"outlinewidth\": 0, \"ticks\": \"\"}, \"colorscale\": [[0.0, \"#0d0887\"], [0.1111111111111111, \"#46039f\"], [0.2222222222222222, \"#7201a8\"], [0.3333333333333333, \"#9c179e\"], [0.4444444444444444, \"#bd3786\"], [0.5555555555555556, \"#d8576b\"], [0.6666666666666666, \"#ed7953\"], [0.7777777777777778, \"#fb9f3a\"], [0.8888888888888888, \"#fdca26\"], [1.0, \"#f0f921\"]], \"type\": \"heatmapgl\"}], \"histogram\": [{\"marker\": {\"colorbar\": {\"outlinewidth\": 0, \"ticks\": \"\"}}, \"type\": \"histogram\"}], \"histogram2d\": [{\"colorbar\": {\"outlinewidth\": 0, \"ticks\": \"\"}, \"colorscale\": [[0.0, \"#0d0887\"], [0.1111111111111111, \"#46039f\"], [0.2222222222222222, \"#7201a8\"], [0.3333333333333333, \"#9c179e\"], [0.4444444444444444, \"#bd3786\"], [0.5555555555555556, \"#d8576b\"], [0.6666666666666666, \"#ed7953\"], [0.7777777777777778, \"#fb9f3a\"], [0.8888888888888888, \"#fdca26\"], [1.0, \"#f0f921\"]], \"type\": \"histogram2d\"}], \"histogram2dcontour\": [{\"colorbar\": {\"outlinewidth\": 0, \"ticks\": \"\"}, \"colorscale\": [[0.0, \"#0d0887\"], [0.1111111111111111, \"#46039f\"], [0.2222222222222222, \"#7201a8\"], [0.3333333333333333, \"#9c179e\"], [0.4444444444444444, \"#bd3786\"], [0.5555555555555556, \"#d8576b\"], [0.6666666666666666, \"#ed7953\"], [0.7777777777777778, \"#fb9f3a\"], [0.8888888888888888, \"#fdca26\"], [1.0, \"#f0f921\"]], \"type\": \"histogram2dcontour\"}], \"mesh3d\": [{\"colorbar\": {\"outlinewidth\": 0, \"ticks\": \"\"}, \"type\": \"mesh3d\"}], \"parcoords\": [{\"line\": {\"colorbar\": {\"outlinewidth\": 0, \"ticks\": \"\"}}, \"type\": \"parcoords\"}], \"pie\": [{\"automargin\": true, \"type\": \"pie\"}], \"scatter\": [{\"marker\": {\"colorbar\": {\"outlinewidth\": 0, \"ticks\": \"\"}}, \"type\": \"scatter\"}], \"scatter3d\": [{\"line\": {\"colorbar\": {\"outlinewidth\": 0, \"ticks\": \"\"}}, \"marker\": {\"colorbar\": {\"outlinewidth\": 0, \"ticks\": \"\"}}, \"type\": \"scatter3d\"}], \"scattercarpet\": [{\"marker\": {\"colorbar\": {\"outlinewidth\": 0, \"ticks\": \"\"}}, \"type\": \"scattercarpet\"}], \"scattergeo\": [{\"marker\": {\"colorbar\": {\"outlinewidth\": 0, \"ticks\": \"\"}}, \"type\": \"scattergeo\"}], \"scattergl\": [{\"marker\": {\"colorbar\": {\"outlinewidth\": 0, \"ticks\": \"\"}}, \"type\": \"scattergl\"}], \"scattermapbox\": [{\"marker\": {\"colorbar\": {\"outlinewidth\": 0, \"ticks\": \"\"}}, \"type\": \"scattermapbox\"}], \"scatterpolar\": [{\"marker\": {\"colorbar\": {\"outlinewidth\": 0, \"ticks\": \"\"}}, \"type\": \"scatterpolar\"}], \"scatterpolargl\": [{\"marker\": {\"colorbar\": {\"outlinewidth\": 0, \"ticks\": \"\"}}, \"type\": \"scatterpolargl\"}], \"scatterternary\": [{\"marker\": {\"colorbar\": {\"outlinewidth\": 0, \"ticks\": \"\"}}, \"type\": \"scatterternary\"}], \"surface\": [{\"colorbar\": {\"outlinewidth\": 0, \"ticks\": \"\"}, \"colorscale\": [[0.0, \"#0d0887\"], [0.1111111111111111, \"#46039f\"], [0.2222222222222222, \"#7201a8\"], [0.3333333333333333, \"#9c179e\"], [0.4444444444444444, \"#bd3786\"], [0.5555555555555556, \"#d8576b\"], [0.6666666666666666, \"#ed7953\"], [0.7777777777777778, \"#fb9f3a\"], [0.8888888888888888, \"#fdca26\"], [1.0, \"#f0f921\"]], \"type\": \"surface\"}], \"table\": [{\"cells\": {\"fill\": {\"color\": \"#EBF0F8\"}, \"line\": {\"color\": \"white\"}}, \"header\": {\"fill\": {\"color\": \"#C8D4E3\"}, \"line\": {\"color\": \"white\"}}, \"type\": \"table\"}]}, \"layout\": {\"annotationdefaults\": {\"arrowcolor\": \"#2a3f5f\", \"arrowhead\": 0, \"arrowwidth\": 1}, \"coloraxis\": {\"colorbar\": {\"outlinewidth\": 0, \"ticks\": \"\"}}, \"colorscale\": {\"diverging\": [[0, \"#8e0152\"], [0.1, \"#c51b7d\"], [0.2, \"#de77ae\"], [0.3, \"#f1b6da\"], [0.4, \"#fde0ef\"], [0.5, \"#f7f7f7\"], [0.6, \"#e6f5d0\"], [0.7, \"#b8e186\"], [0.8, \"#7fbc41\"], [0.9, \"#4d9221\"], [1, \"#276419\"]], \"sequential\": [[0.0, \"#0d0887\"], [0.1111111111111111, \"#46039f\"], [0.2222222222222222, \"#7201a8\"], [0.3333333333333333, \"#9c179e\"], [0.4444444444444444, \"#bd3786\"], [0.5555555555555556, \"#d8576b\"], [0.6666666666666666, \"#ed7953\"], [0.7777777777777778, \"#fb9f3a\"], [0.8888888888888888, \"#fdca26\"], [1.0, \"#f0f921\"]], \"sequentialminus\": [[0.0, \"#0d0887\"], [0.1111111111111111, \"#46039f\"], [0.2222222222222222, \"#7201a8\"], [0.3333333333333333, \"#9c179e\"], [0.4444444444444444, \"#bd3786\"], [0.5555555555555556, \"#d8576b\"], [0.6666666666666666, \"#ed7953\"], [0.7777777777777778, \"#fb9f3a\"], [0.8888888888888888, \"#fdca26\"], [1.0, \"#f0f921\"]]}, \"colorway\": [\"#636efa\", \"#EF553B\", \"#00cc96\", \"#ab63fa\", \"#FFA15A\", \"#19d3f3\", \"#FF6692\", \"#B6E880\", \"#FF97FF\", \"#FECB52\"], \"font\": {\"color\": \"#2a3f5f\"}, \"geo\": {\"bgcolor\": \"white\", \"lakecolor\": \"white\", \"landcolor\": \"#E5ECF6\", \"showlakes\": true, \"showland\": true, \"subunitcolor\": \"white\"}, \"hoverlabel\": {\"align\": \"left\"}, \"hovermode\": \"closest\", \"mapbox\": {\"style\": \"light\"}, \"paper_bgcolor\": \"white\", \"plot_bgcolor\": \"#E5ECF6\", \"polar\": {\"angularaxis\": {\"gridcolor\": \"white\", \"linecolor\": \"white\", \"ticks\": \"\"}, \"bgcolor\": \"#E5ECF6\", \"radialaxis\": {\"gridcolor\": \"white\", \"linecolor\": \"white\", \"ticks\": \"\"}}, \"scene\": {\"xaxis\": {\"backgroundcolor\": \"#E5ECF6\", \"gridcolor\": \"white\", \"gridwidth\": 2, \"linecolor\": \"white\", \"showbackground\": true, \"ticks\": \"\", \"zerolinecolor\": \"white\"}, \"yaxis\": {\"backgroundcolor\": \"#E5ECF6\", \"gridcolor\": \"white\", \"gridwidth\": 2, \"linecolor\": \"white\", \"showbackground\": true, \"ticks\": \"\", \"zerolinecolor\": \"white\"}, \"zaxis\": {\"backgroundcolor\": \"#E5ECF6\", \"gridcolor\": \"white\", \"gridwidth\": 2, \"linecolor\": \"white\", \"showbackground\": true, \"ticks\": \"\", \"zerolinecolor\": \"white\"}}, \"shapedefaults\": {\"line\": {\"color\": \"#2a3f5f\"}}, \"ternary\": {\"aaxis\": {\"gridcolor\": \"white\", \"linecolor\": \"white\", \"ticks\": \"\"}, \"baxis\": {\"gridcolor\": \"white\", \"linecolor\": \"white\", \"ticks\": \"\"}, \"bgcolor\": \"#E5ECF6\", \"caxis\": {\"gridcolor\": \"white\", \"linecolor\": \"white\", \"ticks\": \"\"}}, \"title\": {\"x\": 0.05}, \"xaxis\": {\"automargin\": true, \"gridcolor\": \"white\", \"linecolor\": \"white\", \"ticks\": \"\", \"title\": {\"standoff\": 15}, \"zerolinecolor\": \"white\", \"zerolinewidth\": 2}, \"yaxis\": {\"automargin\": true, \"gridcolor\": \"white\", \"linecolor\": \"white\", \"ticks\": \"\", \"title\": {\"standoff\": 15}, \"zerolinecolor\": \"white\", \"zerolinewidth\": 2}}}},\n",
       "                        {\"responsive\": true}\n",
       "                    ).then(function(){\n",
       "                            \n",
       "var gd = document.getElementById('c1445052-ff2d-42b3-9bb5-e710ec870776');\n",
       "var x = new MutationObserver(function (mutations, observer) {{\n",
       "        var display = window.getComputedStyle(gd).display;\n",
       "        if (!display || display === 'none') {{\n",
       "            console.log([gd, 'removed!']);\n",
       "            Plotly.purge(gd);\n",
       "            observer.disconnect();\n",
       "        }}\n",
       "}});\n",
       "\n",
       "// Listen for the removal of the full notebook cells\n",
       "var notebookContainer = gd.closest('#notebook-container');\n",
       "if (notebookContainer) {{\n",
       "    x.observe(notebookContainer, {childList: true});\n",
       "}}\n",
       "\n",
       "// Listen for the clearing of the current output cell\n",
       "var outputEl = gd.closest('.output');\n",
       "if (outputEl) {{\n",
       "    x.observe(outputEl, {childList: true});\n",
       "}}\n",
       "\n",
       "                        })\n",
       "                };\n",
       "                });\n",
       "            </script>\n",
       "        </div>"
      ]
     },
     "metadata": {},
     "output_type": "display_data"
    }
   ],
   "source": [
    "fig =go.Figure(go.Sunburst(\n",
    " ids=[\"T\", \"TT\", \"TF\", \"TTT\", \"TTF\", 'TFT', 'TFF'],\n",
    "  labels= [\"T\", \"T\", \"F\", \"T\", \"F\", \"T\", \"F\"],\n",
    "  parents=[\"\", \"T\", \"T\", \"TT\", \"TT\", \"TF\", \"TF\"],  marker_colors = [\"green\", \"green\", \"red\", \"green\", \"red\", \"green\", \"red\"])\n",
    ")\n",
    "fig.update_layout(margin = dict(t=0, l=0, r=0, b=0))\n",
    "\n",
    "fig.show()"
   ]
  },
  {
   "cell_type": "code",
   "execution_count": 45,
   "metadata": {},
   "outputs": [
    {
     "data": {
      "application/vnd.plotly.v1+json": {
       "config": {
        "plotlyServerURL": "https://plot.ly"
       },
       "data": [
        {
         "ids": [
          "North America",
          "Europe",
          "Australia",
          "North America - Football",
          "Soccer",
          "North America - Rugby",
          "Europe - Football",
          "Rugby",
          "Europe - American Football",
          "Australia - Football",
          "Association",
          "Australian Rules",
          "Autstralia - American Football",
          "Australia - Rugby",
          "Rugby League",
          "Rugby Union"
         ],
         "labels": [
          "North<br>America",
          "Europe",
          "Australia",
          "Football",
          "Soccer",
          "Rugby",
          "Football",
          "Rugby",
          "American<br>Football",
          "Football",
          "Association",
          "Australian<br>Rules",
          "American<br>Football",
          "Rugby",
          "Rugby<br>League",
          "Rugby<br>Union"
         ],
         "parents": [
          "",
          "",
          "",
          "North America",
          "North America",
          "North America",
          "Europe",
          "Europe",
          "Europe",
          "Australia",
          "Australia - Football",
          "Australia - Football",
          "Australia - Football",
          "Australia - Football",
          "Australia - Rugby",
          "Australia - Rugby"
         ],
         "type": "sunburst"
        }
       ],
       "layout": {
        "margin": {
         "b": 0,
         "l": 0,
         "r": 0,
         "t": 0
        },
        "template": {
         "data": {
          "bar": [
           {
            "error_x": {
             "color": "#2a3f5f"
            },
            "error_y": {
             "color": "#2a3f5f"
            },
            "marker": {
             "line": {
              "color": "#E5ECF6",
              "width": 0.5
             }
            },
            "type": "bar"
           }
          ],
          "barpolar": [
           {
            "marker": {
             "line": {
              "color": "#E5ECF6",
              "width": 0.5
             }
            },
            "type": "barpolar"
           }
          ],
          "carpet": [
           {
            "aaxis": {
             "endlinecolor": "#2a3f5f",
             "gridcolor": "white",
             "linecolor": "white",
             "minorgridcolor": "white",
             "startlinecolor": "#2a3f5f"
            },
            "baxis": {
             "endlinecolor": "#2a3f5f",
             "gridcolor": "white",
             "linecolor": "white",
             "minorgridcolor": "white",
             "startlinecolor": "#2a3f5f"
            },
            "type": "carpet"
           }
          ],
          "choropleth": [
           {
            "colorbar": {
             "outlinewidth": 0,
             "ticks": ""
            },
            "type": "choropleth"
           }
          ],
          "contour": [
           {
            "colorbar": {
             "outlinewidth": 0,
             "ticks": ""
            },
            "colorscale": [
             [
              0,
              "#0d0887"
             ],
             [
              0.1111111111111111,
              "#46039f"
             ],
             [
              0.2222222222222222,
              "#7201a8"
             ],
             [
              0.3333333333333333,
              "#9c179e"
             ],
             [
              0.4444444444444444,
              "#bd3786"
             ],
             [
              0.5555555555555556,
              "#d8576b"
             ],
             [
              0.6666666666666666,
              "#ed7953"
             ],
             [
              0.7777777777777778,
              "#fb9f3a"
             ],
             [
              0.8888888888888888,
              "#fdca26"
             ],
             [
              1,
              "#f0f921"
             ]
            ],
            "type": "contour"
           }
          ],
          "contourcarpet": [
           {
            "colorbar": {
             "outlinewidth": 0,
             "ticks": ""
            },
            "type": "contourcarpet"
           }
          ],
          "heatmap": [
           {
            "colorbar": {
             "outlinewidth": 0,
             "ticks": ""
            },
            "colorscale": [
             [
              0,
              "#0d0887"
             ],
             [
              0.1111111111111111,
              "#46039f"
             ],
             [
              0.2222222222222222,
              "#7201a8"
             ],
             [
              0.3333333333333333,
              "#9c179e"
             ],
             [
              0.4444444444444444,
              "#bd3786"
             ],
             [
              0.5555555555555556,
              "#d8576b"
             ],
             [
              0.6666666666666666,
              "#ed7953"
             ],
             [
              0.7777777777777778,
              "#fb9f3a"
             ],
             [
              0.8888888888888888,
              "#fdca26"
             ],
             [
              1,
              "#f0f921"
             ]
            ],
            "type": "heatmap"
           }
          ],
          "heatmapgl": [
           {
            "colorbar": {
             "outlinewidth": 0,
             "ticks": ""
            },
            "colorscale": [
             [
              0,
              "#0d0887"
             ],
             [
              0.1111111111111111,
              "#46039f"
             ],
             [
              0.2222222222222222,
              "#7201a8"
             ],
             [
              0.3333333333333333,
              "#9c179e"
             ],
             [
              0.4444444444444444,
              "#bd3786"
             ],
             [
              0.5555555555555556,
              "#d8576b"
             ],
             [
              0.6666666666666666,
              "#ed7953"
             ],
             [
              0.7777777777777778,
              "#fb9f3a"
             ],
             [
              0.8888888888888888,
              "#fdca26"
             ],
             [
              1,
              "#f0f921"
             ]
            ],
            "type": "heatmapgl"
           }
          ],
          "histogram": [
           {
            "marker": {
             "colorbar": {
              "outlinewidth": 0,
              "ticks": ""
             }
            },
            "type": "histogram"
           }
          ],
          "histogram2d": [
           {
            "colorbar": {
             "outlinewidth": 0,
             "ticks": ""
            },
            "colorscale": [
             [
              0,
              "#0d0887"
             ],
             [
              0.1111111111111111,
              "#46039f"
             ],
             [
              0.2222222222222222,
              "#7201a8"
             ],
             [
              0.3333333333333333,
              "#9c179e"
             ],
             [
              0.4444444444444444,
              "#bd3786"
             ],
             [
              0.5555555555555556,
              "#d8576b"
             ],
             [
              0.6666666666666666,
              "#ed7953"
             ],
             [
              0.7777777777777778,
              "#fb9f3a"
             ],
             [
              0.8888888888888888,
              "#fdca26"
             ],
             [
              1,
              "#f0f921"
             ]
            ],
            "type": "histogram2d"
           }
          ],
          "histogram2dcontour": [
           {
            "colorbar": {
             "outlinewidth": 0,
             "ticks": ""
            },
            "colorscale": [
             [
              0,
              "#0d0887"
             ],
             [
              0.1111111111111111,
              "#46039f"
             ],
             [
              0.2222222222222222,
              "#7201a8"
             ],
             [
              0.3333333333333333,
              "#9c179e"
             ],
             [
              0.4444444444444444,
              "#bd3786"
             ],
             [
              0.5555555555555556,
              "#d8576b"
             ],
             [
              0.6666666666666666,
              "#ed7953"
             ],
             [
              0.7777777777777778,
              "#fb9f3a"
             ],
             [
              0.8888888888888888,
              "#fdca26"
             ],
             [
              1,
              "#f0f921"
             ]
            ],
            "type": "histogram2dcontour"
           }
          ],
          "mesh3d": [
           {
            "colorbar": {
             "outlinewidth": 0,
             "ticks": ""
            },
            "type": "mesh3d"
           }
          ],
          "parcoords": [
           {
            "line": {
             "colorbar": {
              "outlinewidth": 0,
              "ticks": ""
             }
            },
            "type": "parcoords"
           }
          ],
          "pie": [
           {
            "automargin": true,
            "type": "pie"
           }
          ],
          "scatter": [
           {
            "marker": {
             "colorbar": {
              "outlinewidth": 0,
              "ticks": ""
             }
            },
            "type": "scatter"
           }
          ],
          "scatter3d": [
           {
            "line": {
             "colorbar": {
              "outlinewidth": 0,
              "ticks": ""
             }
            },
            "marker": {
             "colorbar": {
              "outlinewidth": 0,
              "ticks": ""
             }
            },
            "type": "scatter3d"
           }
          ],
          "scattercarpet": [
           {
            "marker": {
             "colorbar": {
              "outlinewidth": 0,
              "ticks": ""
             }
            },
            "type": "scattercarpet"
           }
          ],
          "scattergeo": [
           {
            "marker": {
             "colorbar": {
              "outlinewidth": 0,
              "ticks": ""
             }
            },
            "type": "scattergeo"
           }
          ],
          "scattergl": [
           {
            "marker": {
             "colorbar": {
              "outlinewidth": 0,
              "ticks": ""
             }
            },
            "type": "scattergl"
           }
          ],
          "scattermapbox": [
           {
            "marker": {
             "colorbar": {
              "outlinewidth": 0,
              "ticks": ""
             }
            },
            "type": "scattermapbox"
           }
          ],
          "scatterpolar": [
           {
            "marker": {
             "colorbar": {
              "outlinewidth": 0,
              "ticks": ""
             }
            },
            "type": "scatterpolar"
           }
          ],
          "scatterpolargl": [
           {
            "marker": {
             "colorbar": {
              "outlinewidth": 0,
              "ticks": ""
             }
            },
            "type": "scatterpolargl"
           }
          ],
          "scatterternary": [
           {
            "marker": {
             "colorbar": {
              "outlinewidth": 0,
              "ticks": ""
             }
            },
            "type": "scatterternary"
           }
          ],
          "surface": [
           {
            "colorbar": {
             "outlinewidth": 0,
             "ticks": ""
            },
            "colorscale": [
             [
              0,
              "#0d0887"
             ],
             [
              0.1111111111111111,
              "#46039f"
             ],
             [
              0.2222222222222222,
              "#7201a8"
             ],
             [
              0.3333333333333333,
              "#9c179e"
             ],
             [
              0.4444444444444444,
              "#bd3786"
             ],
             [
              0.5555555555555556,
              "#d8576b"
             ],
             [
              0.6666666666666666,
              "#ed7953"
             ],
             [
              0.7777777777777778,
              "#fb9f3a"
             ],
             [
              0.8888888888888888,
              "#fdca26"
             ],
             [
              1,
              "#f0f921"
             ]
            ],
            "type": "surface"
           }
          ],
          "table": [
           {
            "cells": {
             "fill": {
              "color": "#EBF0F8"
             },
             "line": {
              "color": "white"
             }
            },
            "header": {
             "fill": {
              "color": "#C8D4E3"
             },
             "line": {
              "color": "white"
             }
            },
            "type": "table"
           }
          ]
         },
         "layout": {
          "annotationdefaults": {
           "arrowcolor": "#2a3f5f",
           "arrowhead": 0,
           "arrowwidth": 1
          },
          "coloraxis": {
           "colorbar": {
            "outlinewidth": 0,
            "ticks": ""
           }
          },
          "colorscale": {
           "diverging": [
            [
             0,
             "#8e0152"
            ],
            [
             0.1,
             "#c51b7d"
            ],
            [
             0.2,
             "#de77ae"
            ],
            [
             0.3,
             "#f1b6da"
            ],
            [
             0.4,
             "#fde0ef"
            ],
            [
             0.5,
             "#f7f7f7"
            ],
            [
             0.6,
             "#e6f5d0"
            ],
            [
             0.7,
             "#b8e186"
            ],
            [
             0.8,
             "#7fbc41"
            ],
            [
             0.9,
             "#4d9221"
            ],
            [
             1,
             "#276419"
            ]
           ],
           "sequential": [
            [
             0,
             "#0d0887"
            ],
            [
             0.1111111111111111,
             "#46039f"
            ],
            [
             0.2222222222222222,
             "#7201a8"
            ],
            [
             0.3333333333333333,
             "#9c179e"
            ],
            [
             0.4444444444444444,
             "#bd3786"
            ],
            [
             0.5555555555555556,
             "#d8576b"
            ],
            [
             0.6666666666666666,
             "#ed7953"
            ],
            [
             0.7777777777777778,
             "#fb9f3a"
            ],
            [
             0.8888888888888888,
             "#fdca26"
            ],
            [
             1,
             "#f0f921"
            ]
           ],
           "sequentialminus": [
            [
             0,
             "#0d0887"
            ],
            [
             0.1111111111111111,
             "#46039f"
            ],
            [
             0.2222222222222222,
             "#7201a8"
            ],
            [
             0.3333333333333333,
             "#9c179e"
            ],
            [
             0.4444444444444444,
             "#bd3786"
            ],
            [
             0.5555555555555556,
             "#d8576b"
            ],
            [
             0.6666666666666666,
             "#ed7953"
            ],
            [
             0.7777777777777778,
             "#fb9f3a"
            ],
            [
             0.8888888888888888,
             "#fdca26"
            ],
            [
             1,
             "#f0f921"
            ]
           ]
          },
          "colorway": [
           "#636efa",
           "#EF553B",
           "#00cc96",
           "#ab63fa",
           "#FFA15A",
           "#19d3f3",
           "#FF6692",
           "#B6E880",
           "#FF97FF",
           "#FECB52"
          ],
          "font": {
           "color": "#2a3f5f"
          },
          "geo": {
           "bgcolor": "white",
           "lakecolor": "white",
           "landcolor": "#E5ECF6",
           "showlakes": true,
           "showland": true,
           "subunitcolor": "white"
          },
          "hoverlabel": {
           "align": "left"
          },
          "hovermode": "closest",
          "mapbox": {
           "style": "light"
          },
          "paper_bgcolor": "white",
          "plot_bgcolor": "#E5ECF6",
          "polar": {
           "angularaxis": {
            "gridcolor": "white",
            "linecolor": "white",
            "ticks": ""
           },
           "bgcolor": "#E5ECF6",
           "radialaxis": {
            "gridcolor": "white",
            "linecolor": "white",
            "ticks": ""
           }
          },
          "scene": {
           "xaxis": {
            "backgroundcolor": "#E5ECF6",
            "gridcolor": "white",
            "gridwidth": 2,
            "linecolor": "white",
            "showbackground": true,
            "ticks": "",
            "zerolinecolor": "white"
           },
           "yaxis": {
            "backgroundcolor": "#E5ECF6",
            "gridcolor": "white",
            "gridwidth": 2,
            "linecolor": "white",
            "showbackground": true,
            "ticks": "",
            "zerolinecolor": "white"
           },
           "zaxis": {
            "backgroundcolor": "#E5ECF6",
            "gridcolor": "white",
            "gridwidth": 2,
            "linecolor": "white",
            "showbackground": true,
            "ticks": "",
            "zerolinecolor": "white"
           }
          },
          "shapedefaults": {
           "line": {
            "color": "#2a3f5f"
           }
          },
          "ternary": {
           "aaxis": {
            "gridcolor": "white",
            "linecolor": "white",
            "ticks": ""
           },
           "baxis": {
            "gridcolor": "white",
            "linecolor": "white",
            "ticks": ""
           },
           "bgcolor": "#E5ECF6",
           "caxis": {
            "gridcolor": "white",
            "linecolor": "white",
            "ticks": ""
           }
          },
          "title": {
           "x": 0.05
          },
          "xaxis": {
           "automargin": true,
           "gridcolor": "white",
           "linecolor": "white",
           "ticks": "",
           "title": {
            "standoff": 15
           },
           "zerolinecolor": "white",
           "zerolinewidth": 2
          },
          "yaxis": {
           "automargin": true,
           "gridcolor": "white",
           "linecolor": "white",
           "ticks": "",
           "title": {
            "standoff": 15
           },
           "zerolinecolor": "white",
           "zerolinewidth": 2
          }
         }
        }
       }
      },
      "text/html": [
       "<div>\n",
       "        \n",
       "        \n",
       "            <div id=\"319f57f3-0d78-423e-8752-cb17966e1d8b\" class=\"plotly-graph-div\" style=\"height:525px; width:100%;\"></div>\n",
       "            <script type=\"text/javascript\">\n",
       "                require([\"plotly\"], function(Plotly) {\n",
       "                    window.PLOTLYENV=window.PLOTLYENV || {};\n",
       "                    \n",
       "                if (document.getElementById(\"319f57f3-0d78-423e-8752-cb17966e1d8b\")) {\n",
       "                    Plotly.newPlot(\n",
       "                        '319f57f3-0d78-423e-8752-cb17966e1d8b',\n",
       "                        [{\"ids\": [\"North America\", \"Europe\", \"Australia\", \"North America - Football\", \"Soccer\", \"North America - Rugby\", \"Europe - Football\", \"Rugby\", \"Europe - American Football\", \"Australia - Football\", \"Association\", \"Australian Rules\", \"Autstralia - American Football\", \"Australia - Rugby\", \"Rugby League\", \"Rugby Union\"], \"labels\": [\"North<br>America\", \"Europe\", \"Australia\", \"Football\", \"Soccer\", \"Rugby\", \"Football\", \"Rugby\", \"American<br>Football\", \"Football\", \"Association\", \"Australian<br>Rules\", \"American<br>Football\", \"Rugby\", \"Rugby<br>League\", \"Rugby<br>Union\"], \"parents\": [\"\", \"\", \"\", \"North America\", \"North America\", \"North America\", \"Europe\", \"Europe\", \"Europe\", \"Australia\", \"Australia - Football\", \"Australia - Football\", \"Australia - Football\", \"Australia - Football\", \"Australia - Rugby\", \"Australia - Rugby\"], \"type\": \"sunburst\"}],\n",
       "                        {\"margin\": {\"b\": 0, \"l\": 0, \"r\": 0, \"t\": 0}, \"template\": {\"data\": {\"bar\": [{\"error_x\": {\"color\": \"#2a3f5f\"}, \"error_y\": {\"color\": \"#2a3f5f\"}, \"marker\": {\"line\": {\"color\": \"#E5ECF6\", \"width\": 0.5}}, \"type\": \"bar\"}], \"barpolar\": [{\"marker\": {\"line\": {\"color\": \"#E5ECF6\", \"width\": 0.5}}, \"type\": \"barpolar\"}], \"carpet\": [{\"aaxis\": {\"endlinecolor\": \"#2a3f5f\", \"gridcolor\": \"white\", \"linecolor\": \"white\", \"minorgridcolor\": \"white\", \"startlinecolor\": \"#2a3f5f\"}, \"baxis\": {\"endlinecolor\": \"#2a3f5f\", \"gridcolor\": \"white\", \"linecolor\": \"white\", \"minorgridcolor\": \"white\", \"startlinecolor\": \"#2a3f5f\"}, \"type\": \"carpet\"}], \"choropleth\": [{\"colorbar\": {\"outlinewidth\": 0, \"ticks\": \"\"}, \"type\": \"choropleth\"}], \"contour\": [{\"colorbar\": {\"outlinewidth\": 0, \"ticks\": \"\"}, \"colorscale\": [[0.0, \"#0d0887\"], [0.1111111111111111, \"#46039f\"], [0.2222222222222222, \"#7201a8\"], [0.3333333333333333, \"#9c179e\"], [0.4444444444444444, \"#bd3786\"], [0.5555555555555556, \"#d8576b\"], [0.6666666666666666, \"#ed7953\"], [0.7777777777777778, \"#fb9f3a\"], [0.8888888888888888, \"#fdca26\"], [1.0, \"#f0f921\"]], \"type\": \"contour\"}], \"contourcarpet\": [{\"colorbar\": {\"outlinewidth\": 0, \"ticks\": \"\"}, \"type\": \"contourcarpet\"}], \"heatmap\": [{\"colorbar\": {\"outlinewidth\": 0, \"ticks\": \"\"}, \"colorscale\": [[0.0, \"#0d0887\"], [0.1111111111111111, \"#46039f\"], [0.2222222222222222, \"#7201a8\"], [0.3333333333333333, \"#9c179e\"], [0.4444444444444444, \"#bd3786\"], [0.5555555555555556, \"#d8576b\"], [0.6666666666666666, \"#ed7953\"], [0.7777777777777778, \"#fb9f3a\"], [0.8888888888888888, \"#fdca26\"], [1.0, \"#f0f921\"]], \"type\": \"heatmap\"}], \"heatmapgl\": [{\"colorbar\": {\"outlinewidth\": 0, \"ticks\": \"\"}, \"colorscale\": [[0.0, \"#0d0887\"], [0.1111111111111111, \"#46039f\"], [0.2222222222222222, \"#7201a8\"], [0.3333333333333333, \"#9c179e\"], [0.4444444444444444, \"#bd3786\"], [0.5555555555555556, \"#d8576b\"], [0.6666666666666666, \"#ed7953\"], [0.7777777777777778, \"#fb9f3a\"], [0.8888888888888888, \"#fdca26\"], [1.0, \"#f0f921\"]], \"type\": \"heatmapgl\"}], \"histogram\": [{\"marker\": {\"colorbar\": {\"outlinewidth\": 0, \"ticks\": \"\"}}, \"type\": \"histogram\"}], \"histogram2d\": [{\"colorbar\": {\"outlinewidth\": 0, \"ticks\": \"\"}, \"colorscale\": [[0.0, \"#0d0887\"], [0.1111111111111111, \"#46039f\"], [0.2222222222222222, \"#7201a8\"], [0.3333333333333333, \"#9c179e\"], [0.4444444444444444, \"#bd3786\"], [0.5555555555555556, \"#d8576b\"], [0.6666666666666666, \"#ed7953\"], [0.7777777777777778, \"#fb9f3a\"], [0.8888888888888888, \"#fdca26\"], [1.0, \"#f0f921\"]], \"type\": \"histogram2d\"}], \"histogram2dcontour\": [{\"colorbar\": {\"outlinewidth\": 0, \"ticks\": \"\"}, \"colorscale\": [[0.0, \"#0d0887\"], [0.1111111111111111, \"#46039f\"], [0.2222222222222222, \"#7201a8\"], [0.3333333333333333, \"#9c179e\"], [0.4444444444444444, \"#bd3786\"], [0.5555555555555556, \"#d8576b\"], [0.6666666666666666, \"#ed7953\"], [0.7777777777777778, \"#fb9f3a\"], [0.8888888888888888, \"#fdca26\"], [1.0, \"#f0f921\"]], \"type\": \"histogram2dcontour\"}], \"mesh3d\": [{\"colorbar\": {\"outlinewidth\": 0, \"ticks\": \"\"}, \"type\": \"mesh3d\"}], \"parcoords\": [{\"line\": {\"colorbar\": {\"outlinewidth\": 0, \"ticks\": \"\"}}, \"type\": \"parcoords\"}], \"pie\": [{\"automargin\": true, \"type\": \"pie\"}], \"scatter\": [{\"marker\": {\"colorbar\": {\"outlinewidth\": 0, \"ticks\": \"\"}}, \"type\": \"scatter\"}], \"scatter3d\": [{\"line\": {\"colorbar\": {\"outlinewidth\": 0, \"ticks\": \"\"}}, \"marker\": {\"colorbar\": {\"outlinewidth\": 0, \"ticks\": \"\"}}, \"type\": \"scatter3d\"}], \"scattercarpet\": [{\"marker\": {\"colorbar\": {\"outlinewidth\": 0, \"ticks\": \"\"}}, \"type\": \"scattercarpet\"}], \"scattergeo\": [{\"marker\": {\"colorbar\": {\"outlinewidth\": 0, \"ticks\": \"\"}}, \"type\": \"scattergeo\"}], \"scattergl\": [{\"marker\": {\"colorbar\": {\"outlinewidth\": 0, \"ticks\": \"\"}}, \"type\": \"scattergl\"}], \"scattermapbox\": [{\"marker\": {\"colorbar\": {\"outlinewidth\": 0, \"ticks\": \"\"}}, \"type\": \"scattermapbox\"}], \"scatterpolar\": [{\"marker\": {\"colorbar\": {\"outlinewidth\": 0, \"ticks\": \"\"}}, \"type\": \"scatterpolar\"}], \"scatterpolargl\": [{\"marker\": {\"colorbar\": {\"outlinewidth\": 0, \"ticks\": \"\"}}, \"type\": \"scatterpolargl\"}], \"scatterternary\": [{\"marker\": {\"colorbar\": {\"outlinewidth\": 0, \"ticks\": \"\"}}, \"type\": \"scatterternary\"}], \"surface\": [{\"colorbar\": {\"outlinewidth\": 0, \"ticks\": \"\"}, \"colorscale\": [[0.0, \"#0d0887\"], [0.1111111111111111, \"#46039f\"], [0.2222222222222222, \"#7201a8\"], [0.3333333333333333, \"#9c179e\"], [0.4444444444444444, \"#bd3786\"], [0.5555555555555556, \"#d8576b\"], [0.6666666666666666, \"#ed7953\"], [0.7777777777777778, \"#fb9f3a\"], [0.8888888888888888, \"#fdca26\"], [1.0, \"#f0f921\"]], \"type\": \"surface\"}], \"table\": [{\"cells\": {\"fill\": {\"color\": \"#EBF0F8\"}, \"line\": {\"color\": \"white\"}}, \"header\": {\"fill\": {\"color\": \"#C8D4E3\"}, \"line\": {\"color\": \"white\"}}, \"type\": \"table\"}]}, \"layout\": {\"annotationdefaults\": {\"arrowcolor\": \"#2a3f5f\", \"arrowhead\": 0, \"arrowwidth\": 1}, \"coloraxis\": {\"colorbar\": {\"outlinewidth\": 0, \"ticks\": \"\"}}, \"colorscale\": {\"diverging\": [[0, \"#8e0152\"], [0.1, \"#c51b7d\"], [0.2, \"#de77ae\"], [0.3, \"#f1b6da\"], [0.4, \"#fde0ef\"], [0.5, \"#f7f7f7\"], [0.6, \"#e6f5d0\"], [0.7, \"#b8e186\"], [0.8, \"#7fbc41\"], [0.9, \"#4d9221\"], [1, \"#276419\"]], \"sequential\": [[0.0, \"#0d0887\"], [0.1111111111111111, \"#46039f\"], [0.2222222222222222, \"#7201a8\"], [0.3333333333333333, \"#9c179e\"], [0.4444444444444444, \"#bd3786\"], [0.5555555555555556, \"#d8576b\"], [0.6666666666666666, \"#ed7953\"], [0.7777777777777778, \"#fb9f3a\"], [0.8888888888888888, \"#fdca26\"], [1.0, \"#f0f921\"]], \"sequentialminus\": [[0.0, \"#0d0887\"], [0.1111111111111111, \"#46039f\"], [0.2222222222222222, \"#7201a8\"], [0.3333333333333333, \"#9c179e\"], [0.4444444444444444, \"#bd3786\"], [0.5555555555555556, \"#d8576b\"], [0.6666666666666666, \"#ed7953\"], [0.7777777777777778, \"#fb9f3a\"], [0.8888888888888888, \"#fdca26\"], [1.0, \"#f0f921\"]]}, \"colorway\": [\"#636efa\", \"#EF553B\", \"#00cc96\", \"#ab63fa\", \"#FFA15A\", \"#19d3f3\", \"#FF6692\", \"#B6E880\", \"#FF97FF\", \"#FECB52\"], \"font\": {\"color\": \"#2a3f5f\"}, \"geo\": {\"bgcolor\": \"white\", \"lakecolor\": \"white\", \"landcolor\": \"#E5ECF6\", \"showlakes\": true, \"showland\": true, \"subunitcolor\": \"white\"}, \"hoverlabel\": {\"align\": \"left\"}, \"hovermode\": \"closest\", \"mapbox\": {\"style\": \"light\"}, \"paper_bgcolor\": \"white\", \"plot_bgcolor\": \"#E5ECF6\", \"polar\": {\"angularaxis\": {\"gridcolor\": \"white\", \"linecolor\": \"white\", \"ticks\": \"\"}, \"bgcolor\": \"#E5ECF6\", \"radialaxis\": {\"gridcolor\": \"white\", \"linecolor\": \"white\", \"ticks\": \"\"}}, \"scene\": {\"xaxis\": {\"backgroundcolor\": \"#E5ECF6\", \"gridcolor\": \"white\", \"gridwidth\": 2, \"linecolor\": \"white\", \"showbackground\": true, \"ticks\": \"\", \"zerolinecolor\": \"white\"}, \"yaxis\": {\"backgroundcolor\": \"#E5ECF6\", \"gridcolor\": \"white\", \"gridwidth\": 2, \"linecolor\": \"white\", \"showbackground\": true, \"ticks\": \"\", \"zerolinecolor\": \"white\"}, \"zaxis\": {\"backgroundcolor\": \"#E5ECF6\", \"gridcolor\": \"white\", \"gridwidth\": 2, \"linecolor\": \"white\", \"showbackground\": true, \"ticks\": \"\", \"zerolinecolor\": \"white\"}}, \"shapedefaults\": {\"line\": {\"color\": \"#2a3f5f\"}}, \"ternary\": {\"aaxis\": {\"gridcolor\": \"white\", \"linecolor\": \"white\", \"ticks\": \"\"}, \"baxis\": {\"gridcolor\": \"white\", \"linecolor\": \"white\", \"ticks\": \"\"}, \"bgcolor\": \"#E5ECF6\", \"caxis\": {\"gridcolor\": \"white\", \"linecolor\": \"white\", \"ticks\": \"\"}}, \"title\": {\"x\": 0.05}, \"xaxis\": {\"automargin\": true, \"gridcolor\": \"white\", \"linecolor\": \"white\", \"ticks\": \"\", \"title\": {\"standoff\": 15}, \"zerolinecolor\": \"white\", \"zerolinewidth\": 2}, \"yaxis\": {\"automargin\": true, \"gridcolor\": \"white\", \"linecolor\": \"white\", \"ticks\": \"\", \"title\": {\"standoff\": 15}, \"zerolinecolor\": \"white\", \"zerolinewidth\": 2}}}},\n",
       "                        {\"responsive\": true}\n",
       "                    ).then(function(){\n",
       "                            \n",
       "var gd = document.getElementById('319f57f3-0d78-423e-8752-cb17966e1d8b');\n",
       "var x = new MutationObserver(function (mutations, observer) {{\n",
       "        var display = window.getComputedStyle(gd).display;\n",
       "        if (!display || display === 'none') {{\n",
       "            console.log([gd, 'removed!']);\n",
       "            Plotly.purge(gd);\n",
       "            observer.disconnect();\n",
       "        }}\n",
       "}});\n",
       "\n",
       "// Listen for the removal of the full notebook cells\n",
       "var notebookContainer = gd.closest('#notebook-container');\n",
       "if (notebookContainer) {{\n",
       "    x.observe(notebookContainer, {childList: true});\n",
       "}}\n",
       "\n",
       "// Listen for the clearing of the current output cell\n",
       "var outputEl = gd.closest('.output');\n",
       "if (outputEl) {{\n",
       "    x.observe(outputEl, {childList: true});\n",
       "}}\n",
       "\n",
       "                        })\n",
       "                };\n",
       "                });\n",
       "            </script>\n",
       "        </div>"
      ]
     },
     "metadata": {},
     "output_type": "display_data"
    }
   ],
   "source": [
    "fig =go.Figure(go.Sunburst(\n",
    " ids=[\n",
    "    \"North America\", \"Europe\", \"Australia\", \"North America - Football\", \"Soccer\",\n",
    "    \"North America - Rugby\", \"Europe - Football\", \"Rugby\",\n",
    "    \"Europe - American Football\",\"Australia - Football\", \"Association\",\n",
    "    \"Australian Rules\", \"Autstralia - American Football\", \"Australia - Rugby\",\n",
    "    \"Rugby League\", \"Rugby Union\"\n",
    "  ],\n",
    "  labels= [\n",
    "    \"North<br>America\", \"Europe\", \"Australia\", \"Football\", \"Soccer\", \"Rugby\",\n",
    "    \"Football\", \"Rugby\", \"American<br>Football\", \"Football\", \"Association\",\n",
    "    \"Australian<br>Rules\", \"American<br>Football\", \"Rugby\", \"Rugby<br>League\",\n",
    "    \"Rugby<br>Union\"\n",
    "  ],\n",
    "  parents=[\n",
    "    \"\", \"\", \"\", \"North America\", \"North America\", \"North America\", \"Europe\",\n",
    "    \"Europe\", \"Europe\",\"Australia\", \"Australia - Football\", \"Australia - Football\",\n",
    "    \"Australia - Football\", \"Australia - Football\", \"Australia - Rugby\",\n",
    "    \"Australia - Rugby\"\n",
    "  ],\n",
    "))\n",
    "fig.update_layout(margin = dict(t=0, l=0, r=0, b=0))\n",
    "\n",
    "fig.show()"
   ]
  },
  {
   "cell_type": "code",
   "execution_count": 142,
   "metadata": {},
   "outputs": [],
   "source": [
    "# #this works but takes a long time because dataset is big\n",
    "# fig = px.sunburst(donations, path=['cohort_yr0_TF', 'cohort_yr1_TF','cohort_yr2_TF', 'cohort_yr3_TF','cohort_yr4_TF'], values='amount_total', color='cohort_yr0_TF')\n",
    "# fig.show()"
   ]
  },
  {
   "cell_type": "code",
   "execution_count": 33,
   "metadata": {},
   "outputs": [
    {
     "data": {
      "text/plain": [
       "46336245.720000006"
      ]
     },
     "execution_count": 33,
     "metadata": {},
     "output_type": "execute_result"
    }
   ],
   "source": [
    "df['amount_yr1'].sum()"
   ]
  },
  {
   "cell_type": "code",
   "execution_count": 10,
   "metadata": {},
   "outputs": [
    {
     "data": {
      "text/plain": [
       "count    2024554.0\n",
       "mean         127.0\n",
       "std         2219.0\n",
       "min            0.0\n",
       "25%           25.0\n",
       "50%           50.0\n",
       "75%          100.0\n",
       "max      1836958.0\n",
       "Name: amount_total, dtype: float64"
      ]
     },
     "execution_count": 10,
     "metadata": {},
     "output_type": "execute_result"
    }
   ],
   "source": [
    "df['amount_total'].describe().round(0)"
   ]
  },
  {
   "cell_type": "code",
   "execution_count": 13,
   "metadata": {},
   "outputs": [
    {
     "data": {
      "text/plain": [
       "cohort\n",
       "0              141\n",
       "cohort13    320069\n",
       "cohort14    320673\n",
       "cohort15    355137\n",
       "cohort16    445598\n",
       "cohort17    434991\n",
       "cohort18    147945\n",
       "Name: id, dtype: int64"
      ]
     },
     "execution_count": 13,
     "metadata": {},
     "output_type": "execute_result"
    }
   ],
   "source": [
    "df.groupby('cohort').count()['id'].round(0)"
   ]
  },
  {
   "cell_type": "code",
   "execution_count": 17,
   "metadata": {},
   "outputs": [
    {
     "name": "stderr",
     "output_type": "stream",
     "text": [
      "C:\\Users\\erinm\\Anaconda3\\lib\\site-packages\\seaborn\\distributions.py:340: UserWarning: Attempted to set non-positive bottom ylim on a log-scaled axis.\n",
      "Invalid limit will be ignored.\n",
      "  ax.set_ylim(0, auto=None)\n"
     ]
    },
    {
     "data": {
      "image/png": "[encoded data removed]",
      "text/plain": [
       "<Figure size 432x288 with 1 Axes>"
      ]
     },
     "metadata": {
      "needs_background": "light"
     },
     "output_type": "display_data"
    }
   ],
   "source": [
    "sns.distplot(df['amount_yr0'], bins=50, hist_kws={'log':True});"
   ]
  },
  {
   "cell_type": "code",
   "execution_count": 19,
   "metadata": {},
   "outputs": [
    {
     "data": {
      "image/png": "[encoded data removed]",
      "text/plain": [
       "<Figure size 432x288 with 1 Axes>"
      ]
     },
     "metadata": {
      "needs_background": "light"
     },
     "output_type": "display_data"
    }
   ],
   "source": [
    "ax=sns.distplot(df['amount_yr0'], bins=50);\n",
    "ax.set_yscale('log')"
   ]
  },
  {
   "cell_type": "code",
   "execution_count": null,
   "metadata": {},
   "outputs": [],
   "source": [
    "# df.corr()\n",
    "# time.sleep(10)"
   ]
  },
  {
   "cell_type": "code",
   "execution_count": 29,
   "metadata": {},
   "outputs": [
    {
     "data": {
      "text/plain": [
       "0.25    25.0\n",
       "0.50    49.0\n",
       "Name: amount_yr0, dtype: float64"
      ]
     },
     "execution_count": 29,
     "metadata": {},
     "output_type": "execute_result"
    }
   ],
   "source": [
    "df['amount_yr0'].quantile([.25, .5])"
   ]
  },
  {
   "cell_type": "code",
   "execution_count": 37,
   "metadata": {},
   "outputs": [
    {
     "data": {
      "text/plain": [
       "0.25         0.00\n",
       "1.00    254645.17\n",
       "Name: amount_yr4, dtype: float64"
      ]
     },
     "execution_count": 37,
     "metadata": {},
     "output_type": "execute_result"
    }
   ],
   "source": [
    "df['amount_yr4'].quantile([.25, 1])"
   ]
  },
  {
   "cell_type": "code",
   "execution_count": 50,
   "metadata": {},
   "outputs": [
    {
     "data": {
      "text/html": [
       "<div>\n",
       "<style scoped>\n",
       "    .dataframe tbody tr th:only-of-type {\n",
       "        vertical-align: middle;\n",
       "    }\n",
       "\n",
       "    .dataframe tbody tr th {\n",
       "        vertical-align: top;\n",
       "    }\n",
       "\n",
       "    .dataframe thead th {\n",
       "        text-align: right;\n",
       "    }\n",
       "</style>\n",
       "<table border=\"1\" class=\"dataframe\">\n",
       "  <thead>\n",
       "    <tr style=\"text-align: right;\">\n",
       "      <th></th>\n",
       "      <th>cohort</th>\n",
       "      <th>first_gift</th>\n",
       "    </tr>\n",
       "  </thead>\n",
       "  <tbody>\n",
       "    <tr>\n",
       "      <td>6</td>\n",
       "      <td>cohort18</td>\n",
       "      <td>1.000000</td>\n",
       "    </tr>\n",
       "    <tr>\n",
       "      <td>3</td>\n",
       "      <td>cohort15</td>\n",
       "      <td>0.009954</td>\n",
       "    </tr>\n",
       "    <tr>\n",
       "      <td>2</td>\n",
       "      <td>cohort14</td>\n",
       "      <td>0.008417</td>\n",
       "    </tr>\n",
       "    <tr>\n",
       "      <td>1</td>\n",
       "      <td>cohort13</td>\n",
       "      <td>0.007611</td>\n",
       "    </tr>\n",
       "    <tr>\n",
       "      <td>0</td>\n",
       "      <td>0</td>\n",
       "      <td>0.007092</td>\n",
       "    </tr>\n",
       "    <tr>\n",
       "      <td>4</td>\n",
       "      <td>cohort16</td>\n",
       "      <td>0.000000</td>\n",
       "    </tr>\n",
       "    <tr>\n",
       "      <td>5</td>\n",
       "      <td>cohort17</td>\n",
       "      <td>0.000000</td>\n",
       "    </tr>\n",
       "  </tbody>\n",
       "</table>\n",
       "</div>"
      ],
      "text/plain": [
       "     cohort  first_gift\n",
       "6  cohort18    1.000000\n",
       "3  cohort15    0.009954\n",
       "2  cohort14    0.008417\n",
       "1  cohort13    0.007611\n",
       "0         0    0.007092\n",
       "4  cohort16    0.000000\n",
       "5  cohort17    0.000000"
      ]
     },
     "execution_count": 50,
     "metadata": {},
     "output_type": "execute_result"
    }
   ],
   "source": [
    "df[['cohort', 'first_gift']].groupby(['cohort'], as_index=False).mean().sort_values(by='first_gift', ascending=False)\n"
   ]
  },
  {
   "cell_type": "code",
   "execution_count": 39,
   "metadata": {},
   "outputs": [
    {
     "data": {
      "image/png": "[encoded data removed]",
      "text/plain": [
       "<Figure size 432x288 with 1 Axes>"
      ]
     },
     "metadata": {
      "needs_background": "light"
     },
     "output_type": "display_data"
    }
   ],
   "source": [
    "ax=sns.distplot(df['amount_yr4'], bins=50);\n",
    "#ax.set_yscale('log')"
   ]
  },
  {
   "cell_type": "code",
   "execution_count": 23,
   "metadata": {},
   "outputs": [
    {
     "data": {
      "text/plain": [
       "(-634.7, 12694.209]         2024338\n",
       "(12694.209, 25388.408]          157\n",
       "(25388.408, 38082.608]           34\n",
       "(38082.608, 50776.807]            5\n",
       "(50776.807, 63471.006]            4\n",
       "(63471.006, 76165.205]            3\n",
       "(76165.205, 88859.404]            3\n",
       "(88859.404, 101553.604]           4\n",
       "(101553.604, 114247.803]          2\n",
       "(114247.803, 126942.002]          0\n",
       "(126942.002, 139636.201]          0\n",
       "(139636.201, 152330.4]            1\n",
       "(152330.4, 165024.6]              1\n",
       "(165024.6, 177718.799]            0\n",
       "(177718.799, 190412.998]          0\n",
       "(190412.998, 203107.197]          0\n",
       "(203107.197, 215801.396]          0\n",
       "(215801.396, 228495.596]          0\n",
       "(228495.596, 241189.795]          0\n",
       "(241189.795, 253883.994]          0\n",
       "(253883.994, 266578.193]          0\n",
       "(266578.193, 279272.392]          0\n",
       "(279272.392, 291966.592]          0\n",
       "(291966.592, 304660.791]          0\n",
       "(304660.791, 317354.99]           0\n",
       "(317354.99, 330049.189]           0\n",
       "(330049.189, 342743.388]          0\n",
       "(342743.388, 355437.588]          0\n",
       "(355437.588, 368131.787]          0\n",
       "(368131.787, 380825.986]          0\n",
       "(380825.986, 393520.185]          0\n",
       "(393520.185, 406214.384]          0\n",
       "(406214.384, 418908.584]          0\n",
       "(418908.584, 431602.783]          0\n",
       "(431602.783, 444296.982]          1\n",
       "(444296.982, 456991.181]          0\n",
       "(456991.181, 469685.38]           0\n",
       "(469685.38, 482379.58]            0\n",
       "(482379.58, 495073.779]           0\n",
       "(495073.779, 507767.978]          0\n",
       "(507767.978, 520462.177]          0\n",
       "(520462.177, 533156.376]          0\n",
       "(533156.376, 545850.576]          0\n",
       "(545850.576, 558544.775]          0\n",
       "(558544.775, 571238.974]          0\n",
       "(571238.974, 583933.173]          0\n",
       "(583933.173, 596627.372]          0\n",
       "(596627.372, 609321.572]          0\n",
       "(609321.572, 622015.771]          0\n",
       "(622015.771, 634709.97]           1\n",
       "Name: amount_yr0, dtype: int64"
      ]
     },
     "execution_count": 23,
     "metadata": {},
     "output_type": "execute_result"
    }
   ],
   "source": [
    "pd.cut(df['amount_yr0'], 50).value_counts().sort_index()"
   ]
  },
  {
   "cell_type": "code",
   "execution_count": 51,
   "metadata": {},
   "outputs": [
    {
     "data": {
      "text/plain": [
       "amount_yr0\n",
       "0.01         1\n",
       "0.06         1\n",
       "0.10         3\n",
       "0.20         2\n",
       "0.40         1\n",
       "            ..\n",
       "113360.94    1\n",
       "147548.22    1\n",
       "163192.85    1\n",
       "442794.38    1\n",
       "634709.97    1\n",
       "Name: id, Length: 63641, dtype: int64"
      ]
     },
     "execution_count": 51,
     "metadata": {},
     "output_type": "execute_result"
    }
   ],
   "source": [
    "df.groupby('amount_yr0').count()['id']"
   ]
  },
  {
   "cell_type": "code",
   "execution_count": 72,
   "metadata": {},
   "outputs": [
    {
     "data": {
      "text/plain": [
       "25.00      473938\n",
       "50.00      419025\n",
       "100.00     178299\n",
       "10.00      175615\n",
       "20.00      139023\n",
       "            ...  \n",
       "1049.64         1\n",
       "317.97          1\n",
       "213.57          1\n",
       "711.39          1\n",
       "341.20          1\n",
       "Name: amount_yr0, Length: 63641, dtype: int64"
      ]
     },
     "execution_count": 72,
     "metadata": {},
     "output_type": "execute_result"
    }
   ],
   "source": [
    "df.amount_yr0.value_counts()"
   ]
  },
  {
   "cell_type": "code",
   "execution_count": 118,
   "metadata": {},
   "outputs": [
    {
     "name": "stdout",
     "output_type": "stream",
     "text": [
      "amount_yr0\n",
      "number donors overall:  2024554\n",
      "number donors under $10:  231347\n",
      "% donors under $10:  11.427059984569441\n",
      "number donors under $50:  1433381\n",
      "% donors under $50:  70.7998403599015\n",
      "number donors under $100:  1757016\n",
      "% donors under $100:  86.78533642471379\n",
      "number donors under $1000:  2012449\n",
      "% donors under $1000:  99.40209053450785\n"
     ]
    }
   ],
   "source": [
    "print(f'amount_yr0')\n",
    "print(f'number donors overall: ', df.count()['id'])\n",
    "\n",
    "print(f'number donors under $10: ', df.query('amount_yr0 <= 10').count()['id'])\n",
    "print(f'% donors under $10: ', df.query('amount_yr0 <= 10').count()['id']/df.count()['id']*100)\n",
    "\n",
    "print(f'number donors under $50: ', df.query('amount_yr0 <= 50').count()['id'])\n",
    "print(f'% donors under $50: ', df.query('amount_yr0 <= 50').count()['id']/df.count()['id']*100)\n",
    "\n",
    "print(f'number donors under $100: ', df.query('amount_yr0 <= 100').count()['id'])\n",
    "print(f'% donors under $100: ', df.query('amount_yr0 <= 100').count()['id']/df.count()['id']*100)\n",
    "\n",
    "print(f'number donors under $1000: ', df.query('amount_yr0 <= 1000').count()['id'])\n",
    "print(f'% donors under $1000: ', df.query('amount_yr0 <= 1000').count()['id']/df.count()['id']*100)"
   ]
  },
  {
   "cell_type": "code",
   "execution_count": 133,
   "metadata": {},
   "outputs": [
    {
     "data": {
      "text/plain": [
       "12.616754109794059"
      ]
     },
     "execution_count": 133,
     "metadata": {},
     "output_type": "execute_result"
    }
   ],
   "source": [
    "(2012449-1757016)/2024554*100"
   ]
  },
  {
   "cell_type": "code",
   "execution_count": 121,
   "metadata": {},
   "outputs": [
    {
     "name": "stdout",
     "output_type": "stream",
     "text": [
      "amount_yr1\n",
      "number donors overall:  243436\n",
      "number donors under $10:  23489\n",
      "% donors under $10:  9.648942637900722\n",
      "number donors under $50:  130332\n",
      "% donors under $50:  53.53850704086495\n",
      "number donors under $100:  174207\n",
      "% donors under $100:  71.56172464220576\n",
      "number donors under $1000:  237140\n",
      "% donors under $1000:  97.41369394830674\n"
     ]
    }
   ],
   "source": [
    "df_count=df.query('amount_yr1 > 0').count()['id']\n",
    "\n",
    "print(f'amount_yr1')\n",
    "\n",
    "print(f'number donors overall: ', df_count)\n",
    "\n",
    "print(f'number donors under $10: ', df.query('amount_yr1 > 0 & amount_yr1 <= 10').count()['id'])\n",
    "print(f'% donors under $10: ', df.query('amount_yr1 > 0 & amount_yr1 <= 10').count()['id']/df_count*100)\n",
    "\n",
    "print(f'number donors under $50: ', df.query('amount_yr1 > 0 & amount_yr1 <= 50').count()['id'])\n",
    "print(f'% donors under $50: ', df.query('amount_yr1 > 0 & amount_yr1 <= 50').count()['id']/df_count*100)\n",
    "\n",
    "print(f'number donors under $100: ', df.query('amount_yr1 > 0 & amount_yr1 <= 100').count()['id'])\n",
    "print(f'% donors under $100: ', df.query('amount_yr1 > 0 & amount_yr1 <= 100').count()['id']/df_count*100)\n",
    "\n",
    "print(f'number donors under $1000: ', df.query('amount_yr1 > 0 & amount_yr1 <= 1000').count()['id'])\n",
    "print(f'% donors under $1000: ', df.query('amount_yr1 > 0 & amount_yr1 <= 1000').count()['id']/df_count*100)"
   ]
  },
  {
   "cell_type": "code",
   "execution_count": 122,
   "metadata": {},
   "outputs": [],
   "source": [
    "df3=df"
   ]
  },
  {
   "cell_type": "code",
   "execution_count": 128,
   "metadata": {},
   "outputs": [],
   "source": [
    "df3['number_in_range_yr0']=np.where(df3['amount_yr0'] <= 10, df.query('amount_yr0 <= 10').count()['id'], \"n/a\")"
   ]
  },
  {
   "cell_type": "code",
   "execution_count": 128,
   "metadata": {},
   "outputs": [],
   "source": [
    "df3['number_in_range_yr0']=df.query('amount_yr0 <= 10').count()['id'], \"n/a\")"
   ]
  },
  {
   "cell_type": "code",
   "execution_count": null,
   "metadata": {},
   "outputs": [],
   "source": []
  },
  {
   "cell_type": "code",
   "execution_count": 129,
   "metadata": {},
   "outputs": [
    {
     "data": {
      "text/plain": [
       "n/a       1793207\n",
       "231347     231347\n",
       "Name: number_in_range_yr0, dtype: int64"
      ]
     },
     "execution_count": 129,
     "metadata": {},
     "output_type": "execute_result"
    }
   ],
   "source": [
    "df3.number_in_range_yr0.value_counts()"
   ]
  },
  {
   "cell_type": "code",
   "execution_count": 130,
   "metadata": {},
   "outputs": [
    {
     "data": {
      "text/html": [
       "<div>\n",
       "<style scoped>\n",
       "    .dataframe tbody tr th:only-of-type {\n",
       "        vertical-align: middle;\n",
       "    }\n",
       "\n",
       "    .dataframe tbody tr th {\n",
       "        vertical-align: top;\n",
       "    }\n",
       "\n",
       "    .dataframe thead th {\n",
       "        text-align: right;\n",
       "    }\n",
       "</style>\n",
       "<table border=\"1\" class=\"dataframe\">\n",
       "  <thead>\n",
       "    <tr style=\"text-align: right;\">\n",
       "      <th></th>\n",
       "      <th>id</th>\n",
       "      <th>first_gift_year</th>\n",
       "      <th>lapsed_count</th>\n",
       "      <th>recovered_count</th>\n",
       "      <th>max_consec_giving_years</th>\n",
       "      <th>total_giving_years</th>\n",
       "      <th>count_2013</th>\n",
       "      <th>count_2014</th>\n",
       "      <th>count_2015</th>\n",
       "      <th>count_2016</th>\n",
       "      <th>...</th>\n",
       "      <th>count_total</th>\n",
       "      <th>cohort_gift_pattern</th>\n",
       "      <th>cohort_yr0_TF</th>\n",
       "      <th>cohort_yr1_TF</th>\n",
       "      <th>cohort_yr2_TF</th>\n",
       "      <th>cohort_yr3_TF</th>\n",
       "      <th>cohort_yr4_TF</th>\n",
       "      <th>cohort</th>\n",
       "      <th>first_gift_year_year</th>\n",
       "      <th>number_in_range_yr0</th>\n",
       "    </tr>\n",
       "  </thead>\n",
       "  <tbody>\n",
       "    <tr>\n",
       "      <td>0</td>\n",
       "      <td>00000ce845c00cbf0686c992fc369df4</td>\n",
       "      <td>2013-01-01</td>\n",
       "      <td>2</td>\n",
       "      <td>1</td>\n",
       "      <td>1</td>\n",
       "      <td>1</td>\n",
       "      <td>1</td>\n",
       "      <td>0</td>\n",
       "      <td>0</td>\n",
       "      <td>0</td>\n",
       "      <td>...</td>\n",
       "      <td>1</td>\n",
       "      <td>0,</td>\n",
       "      <td>T</td>\n",
       "      <td>TF</td>\n",
       "      <td>TFF</td>\n",
       "      <td>TFFF</td>\n",
       "      <td>T</td>\n",
       "      <td>cohort13</td>\n",
       "      <td>2013</td>\n",
       "      <td>n/a</td>\n",
       "    </tr>\n",
       "    <tr>\n",
       "      <td>1</td>\n",
       "      <td>00002783bc5d108510f3f9666c8b1edd</td>\n",
       "      <td>2016-01-01</td>\n",
       "      <td>2</td>\n",
       "      <td>1</td>\n",
       "      <td>1</td>\n",
       "      <td>1</td>\n",
       "      <td>0</td>\n",
       "      <td>0</td>\n",
       "      <td>0</td>\n",
       "      <td>1</td>\n",
       "      <td>...</td>\n",
       "      <td>1</td>\n",
       "      <td>0,</td>\n",
       "      <td>T</td>\n",
       "      <td>TF</td>\n",
       "      <td>TFF</td>\n",
       "      <td>TFFF</td>\n",
       "      <td>T</td>\n",
       "      <td>cohort16</td>\n",
       "      <td>2016</td>\n",
       "      <td>n/a</td>\n",
       "    </tr>\n",
       "    <tr>\n",
       "      <td>2</td>\n",
       "      <td>00002d44003ed46b066607c5455a999a</td>\n",
       "      <td>2016-01-01</td>\n",
       "      <td>2</td>\n",
       "      <td>2</td>\n",
       "      <td>2</td>\n",
       "      <td>2</td>\n",
       "      <td>0</td>\n",
       "      <td>0</td>\n",
       "      <td>0</td>\n",
       "      <td>1</td>\n",
       "      <td>...</td>\n",
       "      <td>11</td>\n",
       "      <td>0,1,</td>\n",
       "      <td>T</td>\n",
       "      <td>TT</td>\n",
       "      <td>TTF</td>\n",
       "      <td>TTFF</td>\n",
       "      <td>TT</td>\n",
       "      <td>cohort16</td>\n",
       "      <td>2016</td>\n",
       "      <td>231347</td>\n",
       "    </tr>\n",
       "    <tr>\n",
       "      <td>3</td>\n",
       "      <td>00002eb25d60a09c318efbd0797bffb5</td>\n",
       "      <td>2015-01-01</td>\n",
       "      <td>4</td>\n",
       "      <td>4</td>\n",
       "      <td>4</td>\n",
       "      <td>4</td>\n",
       "      <td>0</td>\n",
       "      <td>0</td>\n",
       "      <td>1</td>\n",
       "      <td>1</td>\n",
       "      <td>...</td>\n",
       "      <td>4</td>\n",
       "      <td>0,1,2,3,</td>\n",
       "      <td>T</td>\n",
       "      <td>TT</td>\n",
       "      <td>TTT</td>\n",
       "      <td>TTTT</td>\n",
       "      <td>TTTT</td>\n",
       "      <td>cohort15</td>\n",
       "      <td>2015</td>\n",
       "      <td>n/a</td>\n",
       "    </tr>\n",
       "    <tr>\n",
       "      <td>4</td>\n",
       "      <td>0000300773fe015f870914b42528541b</td>\n",
       "      <td>2017-01-01</td>\n",
       "      <td>2</td>\n",
       "      <td>1</td>\n",
       "      <td>1</td>\n",
       "      <td>1</td>\n",
       "      <td>0</td>\n",
       "      <td>0</td>\n",
       "      <td>0</td>\n",
       "      <td>0</td>\n",
       "      <td>...</td>\n",
       "      <td>1</td>\n",
       "      <td>0,</td>\n",
       "      <td>T</td>\n",
       "      <td>TF</td>\n",
       "      <td>TFF</td>\n",
       "      <td>TFFF</td>\n",
       "      <td>T</td>\n",
       "      <td>cohort17</td>\n",
       "      <td>2017</td>\n",
       "      <td>n/a</td>\n",
       "    </tr>\n",
       "    <tr>\n",
       "      <td>...</td>\n",
       "      <td>...</td>\n",
       "      <td>...</td>\n",
       "      <td>...</td>\n",
       "      <td>...</td>\n",
       "      <td>...</td>\n",
       "      <td>...</td>\n",
       "      <td>...</td>\n",
       "      <td>...</td>\n",
       "      <td>...</td>\n",
       "      <td>...</td>\n",
       "      <td>...</td>\n",
       "      <td>...</td>\n",
       "      <td>...</td>\n",
       "      <td>...</td>\n",
       "      <td>...</td>\n",
       "      <td>...</td>\n",
       "      <td>...</td>\n",
       "      <td>...</td>\n",
       "      <td>...</td>\n",
       "      <td>...</td>\n",
       "      <td>...</td>\n",
       "    </tr>\n",
       "    <tr>\n",
       "      <td>2024549</td>\n",
       "      <td>ffffb91addfb35f11b30c2943f349654</td>\n",
       "      <td>2017-01-01</td>\n",
       "      <td>2</td>\n",
       "      <td>1</td>\n",
       "      <td>1</td>\n",
       "      <td>1</td>\n",
       "      <td>0</td>\n",
       "      <td>0</td>\n",
       "      <td>0</td>\n",
       "      <td>0</td>\n",
       "      <td>...</td>\n",
       "      <td>1</td>\n",
       "      <td>0,</td>\n",
       "      <td>T</td>\n",
       "      <td>TF</td>\n",
       "      <td>TFF</td>\n",
       "      <td>TFFF</td>\n",
       "      <td>T</td>\n",
       "      <td>cohort17</td>\n",
       "      <td>2017</td>\n",
       "      <td>231347</td>\n",
       "    </tr>\n",
       "    <tr>\n",
       "      <td>2024550</td>\n",
       "      <td>ffffc2e1225ac40a3ace9b8562115c9b</td>\n",
       "      <td>2016-01-01</td>\n",
       "      <td>2</td>\n",
       "      <td>1</td>\n",
       "      <td>1</td>\n",
       "      <td>1</td>\n",
       "      <td>0</td>\n",
       "      <td>0</td>\n",
       "      <td>0</td>\n",
       "      <td>1</td>\n",
       "      <td>...</td>\n",
       "      <td>1</td>\n",
       "      <td>0,</td>\n",
       "      <td>T</td>\n",
       "      <td>TF</td>\n",
       "      <td>TFF</td>\n",
       "      <td>TFFF</td>\n",
       "      <td>T</td>\n",
       "      <td>cohort16</td>\n",
       "      <td>2016</td>\n",
       "      <td>n/a</td>\n",
       "    </tr>\n",
       "    <tr>\n",
       "      <td>2024551</td>\n",
       "      <td>ffffd8f0fbfa10b99efe90a5ee13c5df</td>\n",
       "      <td>2017-01-01</td>\n",
       "      <td>2</td>\n",
       "      <td>1</td>\n",
       "      <td>1</td>\n",
       "      <td>1</td>\n",
       "      <td>0</td>\n",
       "      <td>0</td>\n",
       "      <td>0</td>\n",
       "      <td>0</td>\n",
       "      <td>...</td>\n",
       "      <td>1</td>\n",
       "      <td>0,</td>\n",
       "      <td>T</td>\n",
       "      <td>TF</td>\n",
       "      <td>TFF</td>\n",
       "      <td>TFFF</td>\n",
       "      <td>T</td>\n",
       "      <td>cohort17</td>\n",
       "      <td>2017</td>\n",
       "      <td>n/a</td>\n",
       "    </tr>\n",
       "    <tr>\n",
       "      <td>2024552</td>\n",
       "      <td>ffffdb40226605870f62422b2b420aab</td>\n",
       "      <td>2017-01-01</td>\n",
       "      <td>2</td>\n",
       "      <td>1</td>\n",
       "      <td>1</td>\n",
       "      <td>1</td>\n",
       "      <td>0</td>\n",
       "      <td>0</td>\n",
       "      <td>0</td>\n",
       "      <td>0</td>\n",
       "      <td>...</td>\n",
       "      <td>1</td>\n",
       "      <td>0,</td>\n",
       "      <td>T</td>\n",
       "      <td>TF</td>\n",
       "      <td>TFF</td>\n",
       "      <td>TFFF</td>\n",
       "      <td>T</td>\n",
       "      <td>cohort17</td>\n",
       "      <td>2017</td>\n",
       "      <td>n/a</td>\n",
       "    </tr>\n",
       "    <tr>\n",
       "      <td>2024553</td>\n",
       "      <td>fffffcc42d1bf7ab742a4fa2d820f9f0</td>\n",
       "      <td>2017-01-01</td>\n",
       "      <td>2</td>\n",
       "      <td>1</td>\n",
       "      <td>1</td>\n",
       "      <td>1</td>\n",
       "      <td>0</td>\n",
       "      <td>0</td>\n",
       "      <td>0</td>\n",
       "      <td>0</td>\n",
       "      <td>...</td>\n",
       "      <td>1</td>\n",
       "      <td>0,</td>\n",
       "      <td>T</td>\n",
       "      <td>TF</td>\n",
       "      <td>TFF</td>\n",
       "      <td>TFFF</td>\n",
       "      <td>T</td>\n",
       "      <td>cohort17</td>\n",
       "      <td>2017</td>\n",
       "      <td>n/a</td>\n",
       "    </tr>\n",
       "  </tbody>\n",
       "</table>\n",
       "<p>2024554 rows × 195 columns</p>\n",
       "</div>"
      ],
      "text/plain": [
       "                                       id first_gift_year  lapsed_count  \\\n",
       "0        00000ce845c00cbf0686c992fc369df4      2013-01-01             2   \n",
       "1        00002783bc5d108510f3f9666c8b1edd      2016-01-01             2   \n",
       "2        00002d44003ed46b066607c5455a999a      2016-01-01             2   \n",
       "3        00002eb25d60a09c318efbd0797bffb5      2015-01-01             4   \n",
       "4        0000300773fe015f870914b42528541b      2017-01-01             2   \n",
       "...                                   ...             ...           ...   \n",
       "2024549  ffffb91addfb35f11b30c2943f349654      2017-01-01             2   \n",
       "2024550  ffffc2e1225ac40a3ace9b8562115c9b      2016-01-01             2   \n",
       "2024551  ffffd8f0fbfa10b99efe90a5ee13c5df      2017-01-01             2   \n",
       "2024552  ffffdb40226605870f62422b2b420aab      2017-01-01             2   \n",
       "2024553  fffffcc42d1bf7ab742a4fa2d820f9f0      2017-01-01             2   \n",
       "\n",
       "         recovered_count  max_consec_giving_years  total_giving_years  \\\n",
       "0                      1                        1                   1   \n",
       "1                      1                        1                   1   \n",
       "2                      2                        2                   2   \n",
       "3                      4                        4                   4   \n",
       "4                      1                        1                   1   \n",
       "...                  ...                      ...                 ...   \n",
       "2024549                1                        1                   1   \n",
       "2024550                1                        1                   1   \n",
       "2024551                1                        1                   1   \n",
       "2024552                1                        1                   1   \n",
       "2024553                1                        1                   1   \n",
       "\n",
       "         count_2013  count_2014  count_2015  count_2016  ...  count_total  \\\n",
       "0                 1           0           0           0  ...            1   \n",
       "1                 0           0           0           1  ...            1   \n",
       "2                 0           0           0           1  ...           11   \n",
       "3                 0           0           1           1  ...            4   \n",
       "4                 0           0           0           0  ...            1   \n",
       "...             ...         ...         ...         ...  ...          ...   \n",
       "2024549           0           0           0           0  ...            1   \n",
       "2024550           0           0           0           1  ...            1   \n",
       "2024551           0           0           0           0  ...            1   \n",
       "2024552           0           0           0           0  ...            1   \n",
       "2024553           0           0           0           0  ...            1   \n",
       "\n",
       "         cohort_gift_pattern  cohort_yr0_TF  cohort_yr1_TF  cohort_yr2_TF  \\\n",
       "0                         0,              T             TF            TFF   \n",
       "1                         0,              T             TF            TFF   \n",
       "2                       0,1,              T             TT            TTF   \n",
       "3                   0,1,2,3,              T             TT            TTT   \n",
       "4                         0,              T             TF            TFF   \n",
       "...                      ...            ...            ...            ...   \n",
       "2024549                   0,              T             TF            TFF   \n",
       "2024550                   0,              T             TF            TFF   \n",
       "2024551                   0,              T             TF            TFF   \n",
       "2024552                   0,              T             TF            TFF   \n",
       "2024553                   0,              T             TF            TFF   \n",
       "\n",
       "         cohort_yr3_TF  cohort_yr4_TF    cohort  first_gift_year_year  \\\n",
       "0                 TFFF              T  cohort13                  2013   \n",
       "1                 TFFF              T  cohort16                  2016   \n",
       "2                 TTFF             TT  cohort16                  2016   \n",
       "3                 TTTT           TTTT  cohort15                  2015   \n",
       "4                 TFFF              T  cohort17                  2017   \n",
       "...                ...            ...       ...                   ...   \n",
       "2024549           TFFF              T  cohort17                  2017   \n",
       "2024550           TFFF              T  cohort16                  2016   \n",
       "2024551           TFFF              T  cohort17                  2017   \n",
       "2024552           TFFF              T  cohort17                  2017   \n",
       "2024553           TFFF              T  cohort17                  2017   \n",
       "\n",
       "         number_in_range_yr0  \n",
       "0                        n/a  \n",
       "1                        n/a  \n",
       "2                     231347  \n",
       "3                        n/a  \n",
       "4                        n/a  \n",
       "...                      ...  \n",
       "2024549               231347  \n",
       "2024550                  n/a  \n",
       "2024551                  n/a  \n",
       "2024552                  n/a  \n",
       "2024553                  n/a  \n",
       "\n",
       "[2024554 rows x 195 columns]"
      ]
     },
     "execution_count": 130,
     "metadata": {},
     "output_type": "execute_result"
    }
   ],
   "source": [
    "df3"
   ]
  },
  {
   "cell_type": "code",
   "execution_count": 97,
   "metadata": {},
   "outputs": [],
   "source": [
    "df1 = df.amount_yr0.value_counts().rename_axis('amount_yr0').reset_index(name='count')\n",
    "df1['percentage']=(df.amount_yr0.value_counts(normalize=True)).reset_index()['amount_yr0']"
   ]
  },
  {
   "cell_type": "code",
   "execution_count": null,
   "metadata": {},
   "outputs": [],
   "source": []
  },
  {
   "cell_type": "code",
   "execution_count": 99,
   "metadata": {},
   "outputs": [],
   "source": [
    "df1.to_csv('amount_yr0_counts.csv')"
   ]
  },
  {
   "cell_type": "code",
   "execution_count": 100,
   "metadata": {},
   "outputs": [],
   "source": [
    "not0=df.query('amount_yr1 != 0')\n",
    "df2 = not0.amount_yr1.value_counts().rename_axis('amount_yr0').reset_index(name='count')\n",
    "df2['percentage']=(not0.amount_yr1.value_counts(normalize=True)).reset_index()['amount_yr1']"
   ]
  },
  {
   "cell_type": "code",
   "execution_count": 101,
   "metadata": {},
   "outputs": [],
   "source": [
    "df2.to_csv('amount_yr1_counts.csv')"
   ]
  },
  {
   "cell_type": "code",
   "execution_count": 102,
   "metadata": {},
   "outputs": [
    {
     "data": {
      "text/html": [
       "<div>\n",
       "<style scoped>\n",
       "    .dataframe tbody tr th:only-of-type {\n",
       "        vertical-align: middle;\n",
       "    }\n",
       "\n",
       "    .dataframe tbody tr th {\n",
       "        vertical-align: top;\n",
       "    }\n",
       "\n",
       "    .dataframe thead th {\n",
       "        text-align: right;\n",
       "    }\n",
       "</style>\n",
       "<table border=\"1\" class=\"dataframe\">\n",
       "  <thead>\n",
       "    <tr style=\"text-align: right;\">\n",
       "      <th></th>\n",
       "      <th>amount_yr0</th>\n",
       "      <th>count</th>\n",
       "      <th>percentage</th>\n",
       "    </tr>\n",
       "  </thead>\n",
       "  <tbody>\n",
       "    <tr>\n",
       "      <td>0</td>\n",
       "      <td>25.00</td>\n",
       "      <td>473938</td>\n",
       "      <td>2.340950e-01</td>\n",
       "    </tr>\n",
       "    <tr>\n",
       "      <td>1</td>\n",
       "      <td>50.00</td>\n",
       "      <td>419025</td>\n",
       "      <td>2.069715e-01</td>\n",
       "    </tr>\n",
       "    <tr>\n",
       "      <td>2</td>\n",
       "      <td>100.00</td>\n",
       "      <td>178299</td>\n",
       "      <td>8.806829e-02</td>\n",
       "    </tr>\n",
       "    <tr>\n",
       "      <td>3</td>\n",
       "      <td>10.00</td>\n",
       "      <td>175615</td>\n",
       "      <td>8.674256e-02</td>\n",
       "    </tr>\n",
       "    <tr>\n",
       "      <td>4</td>\n",
       "      <td>20.00</td>\n",
       "      <td>139023</td>\n",
       "      <td>6.866846e-02</td>\n",
       "    </tr>\n",
       "    <tr>\n",
       "      <td>...</td>\n",
       "      <td>...</td>\n",
       "      <td>...</td>\n",
       "      <td>...</td>\n",
       "    </tr>\n",
       "    <tr>\n",
       "      <td>63636</td>\n",
       "      <td>1049.64</td>\n",
       "      <td>1</td>\n",
       "      <td>4.939359e-07</td>\n",
       "    </tr>\n",
       "    <tr>\n",
       "      <td>63637</td>\n",
       "      <td>317.97</td>\n",
       "      <td>1</td>\n",
       "      <td>4.939359e-07</td>\n",
       "    </tr>\n",
       "    <tr>\n",
       "      <td>63638</td>\n",
       "      <td>213.57</td>\n",
       "      <td>1</td>\n",
       "      <td>4.939359e-07</td>\n",
       "    </tr>\n",
       "    <tr>\n",
       "      <td>63639</td>\n",
       "      <td>711.39</td>\n",
       "      <td>1</td>\n",
       "      <td>4.939359e-07</td>\n",
       "    </tr>\n",
       "    <tr>\n",
       "      <td>63640</td>\n",
       "      <td>341.20</td>\n",
       "      <td>1</td>\n",
       "      <td>4.939359e-07</td>\n",
       "    </tr>\n",
       "  </tbody>\n",
       "</table>\n",
       "<p>63641 rows × 3 columns</p>\n",
       "</div>"
      ],
      "text/plain": [
       "       amount_yr0   count    percentage\n",
       "0           25.00  473938  2.340950e-01\n",
       "1           50.00  419025  2.069715e-01\n",
       "2          100.00  178299  8.806829e-02\n",
       "3           10.00  175615  8.674256e-02\n",
       "4           20.00  139023  6.866846e-02\n",
       "...           ...     ...           ...\n",
       "63636     1049.64       1  4.939359e-07\n",
       "63637      317.97       1  4.939359e-07\n",
       "63638      213.57       1  4.939359e-07\n",
       "63639      711.39       1  4.939359e-07\n",
       "63640      341.20       1  4.939359e-07\n",
       "\n",
       "[63641 rows x 3 columns]"
      ]
     },
     "execution_count": 102,
     "metadata": {},
     "output_type": "execute_result"
    }
   ],
   "source": [
    "df1"
   ]
  },
  {
   "cell_type": "code",
   "execution_count": 105,
   "metadata": {},
   "outputs": [
    {
     "data": {
      "text/plain": [
       "0.1     67.25\n",
       "0.2    132.36\n",
       "0.3    199.98\n",
       "0.4    272.11\n",
       "0.5    355.69\n",
       "Name: amount_yr0, dtype: float64"
      ]
     },
     "execution_count": 105,
     "metadata": {},
     "output_type": "execute_result"
    }
   ],
   "source": [
    "df1['amount_yr0'].quantile([.1, .2,.3,.4, .5])"
   ]
  },
  {
   "cell_type": "code",
   "execution_count": 111,
   "metadata": {},
   "outputs": [
    {
     "data": {
      "image/png": "[encoded data removed]",
      "text/plain": [
       "<Figure size 432x288 with 1 Axes>"
      ]
     },
     "metadata": {
      "needs_background": "light"
     },
     "output_type": "display_data"
    }
   ],
   "source": [
    "ax=sns.distplot(x);\n",
    "ax.set_yscale('log')"
   ]
  },
  {
   "cell_type": "code",
   "execution_count": null,
   "metadata": {},
   "outputs": [],
   "source": [
    "conditions = [\n",
    "    (df['Set'] == 'Z') & (df['Type'] == 'A'),\n",
    "    (df['Set'] == 'Z') & (df['Type'] == 'B'),\n",
    "    (df['Type'] == 'B')]\n",
    "choices = ['yellow', 'blue', 'purple']\n",
    "df['color'] = np.select(conditions, choices, default='black')\n",
    "print(df)"
   ]
  },
  {
   "cell_type": "code",
   "execution_count": 152,
   "metadata": {},
   "outputs": [],
   "source": [
    "conditions=[\n",
    "    (df3['amount_yr0'] <= 10),\n",
    "    (df3['amount_yr0'] > 10) & (df3['amount_yr0'] <= 15),\n",
    "    (df3['amount_yr0'] > 15) & (df3['amount_yr0'] <= 20),\n",
    "    (df3['amount_yr0'] > 20) & (df3['amount_yr0'] <= 25),\n",
    "    (df3['amount_yr0'] > 25) & (df3['amount_yr0'] <= 50),\n",
    "    (df3['amount_yr0'] > 50) & (df3['amount_yr0'] <= 75),\n",
    "    (df3['amount_yr0'] > 75) & (df3['amount_yr0'] <= 100),\n",
    "    (df3['amount_yr0'] > 100) & (df3['amount_yr0'] <= 1000),\n",
    "    (df3['amount_yr0'] > 1000)\n",
    "]\n",
    "\n",
    "choices = ['upto10', 'over10upto15', 'over15upto20', 'over20upto25','over25upto50', 'over50upto75', 'over75upto100', 'over100upto1000', 'over1000']\n",
    "df3['amount_yr0_groups'] = np.select(conditions, choices, default = 'none')"
   ]
  },
  {
   "cell_type": "code",
   "execution_count": 153,
   "metadata": {},
   "outputs": [
    {
     "data": {
      "text/html": [
       "<div>\n",
       "<style scoped>\n",
       "    .dataframe tbody tr th:only-of-type {\n",
       "        vertical-align: middle;\n",
       "    }\n",
       "\n",
       "    .dataframe tbody tr th {\n",
       "        vertical-align: top;\n",
       "    }\n",
       "\n",
       "    .dataframe thead th {\n",
       "        text-align: right;\n",
       "    }\n",
       "</style>\n",
       "<table border=\"1\" class=\"dataframe\">\n",
       "  <thead>\n",
       "    <tr style=\"text-align: right;\">\n",
       "      <th></th>\n",
       "      <th>index</th>\n",
       "      <th>amount_yr0_groups</th>\n",
       "    </tr>\n",
       "  </thead>\n",
       "  <tbody>\n",
       "    <tr>\n",
       "      <td>0</td>\n",
       "      <td>over25upto50</td>\n",
       "      <td>26.564073</td>\n",
       "    </tr>\n",
       "    <tr>\n",
       "      <td>1</td>\n",
       "      <td>over20upto25</td>\n",
       "      <td>23.725719</td>\n",
       "    </tr>\n",
       "    <tr>\n",
       "      <td>2</td>\n",
       "      <td>over100upto1000</td>\n",
       "      <td>12.616754</td>\n",
       "    </tr>\n",
       "    <tr>\n",
       "      <td>3</td>\n",
       "      <td>over75upto100</td>\n",
       "      <td>11.789510</td>\n",
       "    </tr>\n",
       "    <tr>\n",
       "      <td>4</td>\n",
       "      <td>upto10</td>\n",
       "      <td>11.427060</td>\n",
       "    </tr>\n",
       "    <tr>\n",
       "      <td>5</td>\n",
       "      <td>over15upto20</td>\n",
       "      <td>7.165183</td>\n",
       "    </tr>\n",
       "    <tr>\n",
       "      <td>6</td>\n",
       "      <td>over50upto75</td>\n",
       "      <td>4.195986</td>\n",
       "    </tr>\n",
       "    <tr>\n",
       "      <td>7</td>\n",
       "      <td>over10upto15</td>\n",
       "      <td>1.917805</td>\n",
       "    </tr>\n",
       "    <tr>\n",
       "      <td>8</td>\n",
       "      <td>over1000</td>\n",
       "      <td>0.597909</td>\n",
       "    </tr>\n",
       "  </tbody>\n",
       "</table>\n",
       "</div>"
      ],
      "text/plain": [
       "             index  amount_yr0_groups\n",
       "0     over25upto50          26.564073\n",
       "1     over20upto25          23.725719\n",
       "2  over100upto1000          12.616754\n",
       "3    over75upto100          11.789510\n",
       "4           upto10          11.427060\n",
       "5     over15upto20           7.165183\n",
       "6     over50upto75           4.195986\n",
       "7     over10upto15           1.917805\n",
       "8         over1000           0.597909"
      ]
     },
     "execution_count": 153,
     "metadata": {},
     "output_type": "execute_result"
    }
   ],
   "source": [
    "(df3.amount_yr0_groups.value_counts(normalize=True)*100).reset_index()"
   ]
  },
  {
   "cell_type": "code",
   "execution_count": 50,
   "metadata": {},
   "outputs": [
    {
     "data": {
      "text/plain": [
       "['TFF',\n",
       " 'TFF',\n",
       " 'TFF',\n",
       " 'TFF',\n",
       " 'TFT',\n",
       " 'TFT',\n",
       " 'TFT',\n",
       " 'TFT',\n",
       " 'TTF',\n",
       " 'TTF',\n",
       " 'TTF',\n",
       " 'TTF',\n",
       " 'TTT',\n",
       " 'TTT',\n",
       " 'TTT',\n",
       " 'TTT']"
      ]
     },
     "execution_count": 50,
     "metadata": {},
     "output_type": "execute_result"
    }
   ],
   "source": [
    "sun_df['cohort_yr2_TF'].to_list()"
   ]
  },
  {
   "cell_type": "code",
   "execution_count": 51,
   "metadata": {},
   "outputs": [
    {
     "data": {
      "text/plain": [
       "['TF',\n",
       " 'TF',\n",
       " 'TF',\n",
       " 'TF',\n",
       " 'TF',\n",
       " 'TF',\n",
       " 'TF',\n",
       " 'TF',\n",
       " 'TT',\n",
       " 'TT',\n",
       " 'TT',\n",
       " 'TT',\n",
       " 'TT',\n",
       " 'TT',\n",
       " 'TT',\n",
       " 'TT']"
      ]
     },
     "execution_count": 51,
     "metadata": {},
     "output_type": "execute_result"
    }
   ],
   "source": [
    "sun_df['cohort_yr1_TF'].to_list()"
   ]
  },
  {
   "cell_type": "code",
   "execution_count": 130,
   "metadata": {},
   "outputs": [],
   "source": [
    "sun_count['yr4']=['F','T','F','T','F','T','F','T','F','T','F','T','F','T','F','T',]"
   ]
  },
  {
   "cell_type": "code",
   "execution_count": 131,
   "metadata": {},
   "outputs": [
    {
     "data": {
      "text/html": [
       "<div>\n",
       "<style scoped>\n",
       "    .dataframe tbody tr th:only-of-type {\n",
       "        vertical-align: middle;\n",
       "    }\n",
       "\n",
       "    .dataframe tbody tr th {\n",
       "        vertical-align: top;\n",
       "    }\n",
       "\n",
       "    .dataframe thead th {\n",
       "        text-align: right;\n",
       "    }\n",
       "</style>\n",
       "<table border=\"1\" class=\"dataframe\">\n",
       "  <thead>\n",
       "    <tr style=\"text-align: right;\">\n",
       "      <th></th>\n",
       "      <th>cohort_yr0_TF</th>\n",
       "      <th>cohort_yr1_TF</th>\n",
       "      <th>cohort_yr2_TF</th>\n",
       "      <th>cohort_yr3_TF</th>\n",
       "      <th>cohort_yr4_TF</th>\n",
       "      <th>id</th>\n",
       "      <th>perc_cohort_donors</th>\n",
       "      <th>yr0</th>\n",
       "      <th>yr1</th>\n",
       "      <th>yr2</th>\n",
       "      <th>yr3</th>\n",
       "      <th>yr4</th>\n",
       "    </tr>\n",
       "  </thead>\n",
       "  <tbody>\n",
       "    <tr>\n",
       "      <td>0</td>\n",
       "      <td>T</td>\n",
       "      <td>TF</td>\n",
       "      <td>TFF</td>\n",
       "      <td>TFFF</td>\n",
       "      <td>TFFFF</td>\n",
       "      <td>1696680</td>\n",
       "      <td>0.838051</td>\n",
       "      <td>T</td>\n",
       "      <td>F</td>\n",
       "      <td>F</td>\n",
       "      <td>F</td>\n",
       "      <td>F</td>\n",
       "    </tr>\n",
       "    <tr>\n",
       "      <td>1</td>\n",
       "      <td>T</td>\n",
       "      <td>TF</td>\n",
       "      <td>TFF</td>\n",
       "      <td>TFFF</td>\n",
       "      <td>TFFFT</td>\n",
       "      <td>6912</td>\n",
       "      <td>0.003414</td>\n",
       "      <td>T</td>\n",
       "      <td>F</td>\n",
       "      <td>F</td>\n",
       "      <td>F</td>\n",
       "      <td>T</td>\n",
       "    </tr>\n",
       "    <tr>\n",
       "      <td>2</td>\n",
       "      <td>T</td>\n",
       "      <td>TF</td>\n",
       "      <td>TFF</td>\n",
       "      <td>TFFT</td>\n",
       "      <td>TFFTF</td>\n",
       "      <td>17619</td>\n",
       "      <td>0.008703</td>\n",
       "      <td>T</td>\n",
       "      <td>F</td>\n",
       "      <td>F</td>\n",
       "      <td>T</td>\n",
       "      <td>F</td>\n",
       "    </tr>\n",
       "    <tr>\n",
       "      <td>3</td>\n",
       "      <td>T</td>\n",
       "      <td>TF</td>\n",
       "      <td>TFF</td>\n",
       "      <td>TFFT</td>\n",
       "      <td>TFFTT</td>\n",
       "      <td>3108</td>\n",
       "      <td>0.001535</td>\n",
       "      <td>T</td>\n",
       "      <td>F</td>\n",
       "      <td>F</td>\n",
       "      <td>T</td>\n",
       "      <td>T</td>\n",
       "    </tr>\n",
       "    <tr>\n",
       "      <td>4</td>\n",
       "      <td>T</td>\n",
       "      <td>TF</td>\n",
       "      <td>TFT</td>\n",
       "      <td>TFTF</td>\n",
       "      <td>TFTFF</td>\n",
       "      <td>44403</td>\n",
       "      <td>0.021932</td>\n",
       "      <td>T</td>\n",
       "      <td>F</td>\n",
       "      <td>T</td>\n",
       "      <td>F</td>\n",
       "      <td>F</td>\n",
       "    </tr>\n",
       "    <tr>\n",
       "      <td>5</td>\n",
       "      <td>T</td>\n",
       "      <td>TF</td>\n",
       "      <td>TFT</td>\n",
       "      <td>TFTF</td>\n",
       "      <td>TFTFT</td>\n",
       "      <td>2035</td>\n",
       "      <td>0.001005</td>\n",
       "      <td>T</td>\n",
       "      <td>F</td>\n",
       "      <td>T</td>\n",
       "      <td>F</td>\n",
       "      <td>T</td>\n",
       "    </tr>\n",
       "    <tr>\n",
       "      <td>6</td>\n",
       "      <td>T</td>\n",
       "      <td>TF</td>\n",
       "      <td>TFT</td>\n",
       "      <td>TFTT</td>\n",
       "      <td>TFTTF</td>\n",
       "      <td>7626</td>\n",
       "      <td>0.003767</td>\n",
       "      <td>T</td>\n",
       "      <td>F</td>\n",
       "      <td>T</td>\n",
       "      <td>T</td>\n",
       "      <td>F</td>\n",
       "    </tr>\n",
       "    <tr>\n",
       "      <td>7</td>\n",
       "      <td>T</td>\n",
       "      <td>TF</td>\n",
       "      <td>TFT</td>\n",
       "      <td>TFTT</td>\n",
       "      <td>TFTTT</td>\n",
       "      <td>2735</td>\n",
       "      <td>0.001351</td>\n",
       "      <td>T</td>\n",
       "      <td>F</td>\n",
       "      <td>T</td>\n",
       "      <td>T</td>\n",
       "      <td>T</td>\n",
       "    </tr>\n",
       "    <tr>\n",
       "      <td>8</td>\n",
       "      <td>T</td>\n",
       "      <td>TT</td>\n",
       "      <td>TTF</td>\n",
       "      <td>TTFF</td>\n",
       "      <td>TTFFF</td>\n",
       "      <td>162004</td>\n",
       "      <td>0.080020</td>\n",
       "      <td>T</td>\n",
       "      <td>T</td>\n",
       "      <td>F</td>\n",
       "      <td>F</td>\n",
       "      <td>F</td>\n",
       "    </tr>\n",
       "    <tr>\n",
       "      <td>9</td>\n",
       "      <td>T</td>\n",
       "      <td>TT</td>\n",
       "      <td>TTF</td>\n",
       "      <td>TTFF</td>\n",
       "      <td>TTFFT</td>\n",
       "      <td>2994</td>\n",
       "      <td>0.001479</td>\n",
       "      <td>T</td>\n",
       "      <td>T</td>\n",
       "      <td>F</td>\n",
       "      <td>F</td>\n",
       "      <td>T</td>\n",
       "    </tr>\n",
       "    <tr>\n",
       "      <td>10</td>\n",
       "      <td>T</td>\n",
       "      <td>TT</td>\n",
       "      <td>TTF</td>\n",
       "      <td>TTFT</td>\n",
       "      <td>TTFTF</td>\n",
       "      <td>8134</td>\n",
       "      <td>0.004018</td>\n",
       "      <td>T</td>\n",
       "      <td>T</td>\n",
       "      <td>F</td>\n",
       "      <td>T</td>\n",
       "      <td>F</td>\n",
       "    </tr>\n",
       "    <tr>\n",
       "      <td>11</td>\n",
       "      <td>T</td>\n",
       "      <td>TT</td>\n",
       "      <td>TTF</td>\n",
       "      <td>TTFT</td>\n",
       "      <td>TTFTT</td>\n",
       "      <td>2815</td>\n",
       "      <td>0.001390</td>\n",
       "      <td>T</td>\n",
       "      <td>T</td>\n",
       "      <td>F</td>\n",
       "      <td>T</td>\n",
       "      <td>T</td>\n",
       "    </tr>\n",
       "    <tr>\n",
       "      <td>12</td>\n",
       "      <td>T</td>\n",
       "      <td>TT</td>\n",
       "      <td>TTT</td>\n",
       "      <td>TTTF</td>\n",
       "      <td>TTTFF</td>\n",
       "      <td>37639</td>\n",
       "      <td>0.018591</td>\n",
       "      <td>T</td>\n",
       "      <td>T</td>\n",
       "      <td>T</td>\n",
       "      <td>F</td>\n",
       "      <td>F</td>\n",
       "    </tr>\n",
       "    <tr>\n",
       "      <td>13</td>\n",
       "      <td>T</td>\n",
       "      <td>TT</td>\n",
       "      <td>TTT</td>\n",
       "      <td>TTTF</td>\n",
       "      <td>TTTFT</td>\n",
       "      <td>2967</td>\n",
       "      <td>0.001466</td>\n",
       "      <td>T</td>\n",
       "      <td>T</td>\n",
       "      <td>T</td>\n",
       "      <td>F</td>\n",
       "      <td>T</td>\n",
       "    </tr>\n",
       "    <tr>\n",
       "      <td>14</td>\n",
       "      <td>T</td>\n",
       "      <td>TT</td>\n",
       "      <td>TTT</td>\n",
       "      <td>TTTT</td>\n",
       "      <td>TTTTF</td>\n",
       "      <td>13781</td>\n",
       "      <td>0.006807</td>\n",
       "      <td>T</td>\n",
       "      <td>T</td>\n",
       "      <td>T</td>\n",
       "      <td>T</td>\n",
       "      <td>F</td>\n",
       "    </tr>\n",
       "    <tr>\n",
       "      <td>15</td>\n",
       "      <td>T</td>\n",
       "      <td>TT</td>\n",
       "      <td>TTT</td>\n",
       "      <td>TTTT</td>\n",
       "      <td>TTTTT</td>\n",
       "      <td>13102</td>\n",
       "      <td>0.006472</td>\n",
       "      <td>T</td>\n",
       "      <td>T</td>\n",
       "      <td>T</td>\n",
       "      <td>T</td>\n",
       "      <td>T</td>\n",
       "    </tr>\n",
       "  </tbody>\n",
       "</table>\n",
       "</div>"
      ],
      "text/plain": [
       "   cohort_yr0_TF cohort_yr1_TF cohort_yr2_TF cohort_yr3_TF cohort_yr4_TF  \\\n",
       "0              T            TF           TFF          TFFF         TFFFF   \n",
       "1              T            TF           TFF          TFFF         TFFFT   \n",
       "2              T            TF           TFF          TFFT         TFFTF   \n",
       "3              T            TF           TFF          TFFT         TFFTT   \n",
       "4              T            TF           TFT          TFTF         TFTFF   \n",
       "5              T            TF           TFT          TFTF         TFTFT   \n",
       "6              T            TF           TFT          TFTT         TFTTF   \n",
       "7              T            TF           TFT          TFTT         TFTTT   \n",
       "8              T            TT           TTF          TTFF         TTFFF   \n",
       "9              T            TT           TTF          TTFF         TTFFT   \n",
       "10             T            TT           TTF          TTFT         TTFTF   \n",
       "11             T            TT           TTF          TTFT         TTFTT   \n",
       "12             T            TT           TTT          TTTF         TTTFF   \n",
       "13             T            TT           TTT          TTTF         TTTFT   \n",
       "14             T            TT           TTT          TTTT         TTTTF   \n",
       "15             T            TT           TTT          TTTT         TTTTT   \n",
       "\n",
       "         id  perc_cohort_donors yr0 yr1 yr2 yr3 yr4  \n",
       "0   1696680            0.838051   T   F   F   F   F  \n",
       "1      6912            0.003414   T   F   F   F   T  \n",
       "2     17619            0.008703   T   F   F   T   F  \n",
       "3      3108            0.001535   T   F   F   T   T  \n",
       "4     44403            0.021932   T   F   T   F   F  \n",
       "5      2035            0.001005   T   F   T   F   T  \n",
       "6      7626            0.003767   T   F   T   T   F  \n",
       "7      2735            0.001351   T   F   T   T   T  \n",
       "8    162004            0.080020   T   T   F   F   F  \n",
       "9      2994            0.001479   T   T   F   F   T  \n",
       "10     8134            0.004018   T   T   F   T   F  \n",
       "11     2815            0.001390   T   T   F   T   T  \n",
       "12    37639            0.018591   T   T   T   F   F  \n",
       "13     2967            0.001466   T   T   T   F   T  \n",
       "14    13781            0.006807   T   T   T   T   F  \n",
       "15    13102            0.006472   T   T   T   T   T  "
      ]
     },
     "execution_count": 131,
     "metadata": {},
     "output_type": "execute_result"
    }
   ],
   "source": [
    "sun_count"
   ]
  },
  {
   "cell_type": "code",
   "execution_count": 223,
   "metadata": {},
   "outputs": [
    {
     "data": {
      "text/html": [
       "<div>\n",
       "<style scoped>\n",
       "    .dataframe tbody tr th:only-of-type {\n",
       "        vertical-align: middle;\n",
       "    }\n",
       "\n",
       "    .dataframe tbody tr th {\n",
       "        vertical-align: top;\n",
       "    }\n",
       "\n",
       "    .dataframe thead th {\n",
       "        text-align: right;\n",
       "    }\n",
       "</style>\n",
       "<table border=\"1\" class=\"dataframe\">\n",
       "  <thead>\n",
       "    <tr style=\"text-align: right;\">\n",
       "      <th></th>\n",
       "      <th>id</th>\n",
       "      <th>first_gift_year</th>\n",
       "      <th>lapsed_count</th>\n",
       "      <th>recovered_count</th>\n",
       "      <th>max_consec_giving_years</th>\n",
       "      <th>total_giving_years</th>\n",
       "      <th>count_2013</th>\n",
       "      <th>count_2014</th>\n",
       "      <th>count_2015</th>\n",
       "      <th>count_2016</th>\n",
       "      <th>...</th>\n",
       "      <th>amount_total</th>\n",
       "      <th>count_total</th>\n",
       "      <th>cohort_gift_pattern</th>\n",
       "      <th>cohort_yr0_TF</th>\n",
       "      <th>cohort_yr1_TF</th>\n",
       "      <th>cohort_yr2_TF</th>\n",
       "      <th>cohort_yr3_TF</th>\n",
       "      <th>cohort_yr4_TF</th>\n",
       "      <th>first_gift_year_year</th>\n",
       "      <th>cohort</th>\n",
       "    </tr>\n",
       "  </thead>\n",
       "  <tbody>\n",
       "    <tr>\n",
       "      <td>0</td>\n",
       "      <td>00000ce845c00cbf0686c992fc369df4</td>\n",
       "      <td>2013-01-01</td>\n",
       "      <td>2</td>\n",
       "      <td>1</td>\n",
       "      <td>1</td>\n",
       "      <td>1</td>\n",
       "      <td>1</td>\n",
       "      <td>0</td>\n",
       "      <td>0</td>\n",
       "      <td>0</td>\n",
       "      <td>...</td>\n",
       "      <td>50.00</td>\n",
       "      <td>1</td>\n",
       "      <td>0,</td>\n",
       "      <td>T</td>\n",
       "      <td>TF</td>\n",
       "      <td>TFF</td>\n",
       "      <td>TFFF</td>\n",
       "      <td>TFFFF</td>\n",
       "      <td>2013</td>\n",
       "      <td>cohort13</td>\n",
       "    </tr>\n",
       "    <tr>\n",
       "      <td>1</td>\n",
       "      <td>00002783bc5d108510f3f9666c8b1edd</td>\n",
       "      <td>2016-01-01</td>\n",
       "      <td>2</td>\n",
       "      <td>1</td>\n",
       "      <td>1</td>\n",
       "      <td>1</td>\n",
       "      <td>0</td>\n",
       "      <td>0</td>\n",
       "      <td>0</td>\n",
       "      <td>1</td>\n",
       "      <td>...</td>\n",
       "      <td>99.00</td>\n",
       "      <td>1</td>\n",
       "      <td>0,</td>\n",
       "      <td>T</td>\n",
       "      <td>TF</td>\n",
       "      <td>TFF</td>\n",
       "      <td>TFFF</td>\n",
       "      <td>TFFFF</td>\n",
       "      <td>2016</td>\n",
       "      <td>cohort16</td>\n",
       "    </tr>\n",
       "    <tr>\n",
       "      <td>2</td>\n",
       "      <td>00002d44003ed46b066607c5455a999a</td>\n",
       "      <td>2016-01-01</td>\n",
       "      <td>2</td>\n",
       "      <td>2</td>\n",
       "      <td>2</td>\n",
       "      <td>2</td>\n",
       "      <td>0</td>\n",
       "      <td>0</td>\n",
       "      <td>0</td>\n",
       "      <td>1</td>\n",
       "      <td>...</td>\n",
       "      <td>634.95</td>\n",
       "      <td>11</td>\n",
       "      <td>0,1,</td>\n",
       "      <td>T</td>\n",
       "      <td>TT</td>\n",
       "      <td>TTF</td>\n",
       "      <td>TTFF</td>\n",
       "      <td>TTFFF</td>\n",
       "      <td>2016</td>\n",
       "      <td>cohort16</td>\n",
       "    </tr>\n",
       "    <tr>\n",
       "      <td>3</td>\n",
       "      <td>00002eb25d60a09c318efbd0797bffb5</td>\n",
       "      <td>2015-01-01</td>\n",
       "      <td>4</td>\n",
       "      <td>4</td>\n",
       "      <td>4</td>\n",
       "      <td>4</td>\n",
       "      <td>0</td>\n",
       "      <td>0</td>\n",
       "      <td>1</td>\n",
       "      <td>1</td>\n",
       "      <td>...</td>\n",
       "      <td>160.00</td>\n",
       "      <td>4</td>\n",
       "      <td>0,1,2,3,</td>\n",
       "      <td>T</td>\n",
       "      <td>TT</td>\n",
       "      <td>TTT</td>\n",
       "      <td>TTTT</td>\n",
       "      <td>TTTTF</td>\n",
       "      <td>2015</td>\n",
       "      <td>cohort15</td>\n",
       "    </tr>\n",
       "    <tr>\n",
       "      <td>4</td>\n",
       "      <td>0000300773fe015f870914b42528541b</td>\n",
       "      <td>2017-01-01</td>\n",
       "      <td>2</td>\n",
       "      <td>1</td>\n",
       "      <td>1</td>\n",
       "      <td>1</td>\n",
       "      <td>0</td>\n",
       "      <td>0</td>\n",
       "      <td>0</td>\n",
       "      <td>0</td>\n",
       "      <td>...</td>\n",
       "      <td>50.00</td>\n",
       "      <td>1</td>\n",
       "      <td>0,</td>\n",
       "      <td>T</td>\n",
       "      <td>TF</td>\n",
       "      <td>TFF</td>\n",
       "      <td>TFFF</td>\n",
       "      <td>TFFFF</td>\n",
       "      <td>2017</td>\n",
       "      <td>cohort17</td>\n",
       "    </tr>\n",
       "    <tr>\n",
       "      <td>...</td>\n",
       "      <td>...</td>\n",
       "      <td>...</td>\n",
       "      <td>...</td>\n",
       "      <td>...</td>\n",
       "      <td>...</td>\n",
       "      <td>...</td>\n",
       "      <td>...</td>\n",
       "      <td>...</td>\n",
       "      <td>...</td>\n",
       "      <td>...</td>\n",
       "      <td>...</td>\n",
       "      <td>...</td>\n",
       "      <td>...</td>\n",
       "      <td>...</td>\n",
       "      <td>...</td>\n",
       "      <td>...</td>\n",
       "      <td>...</td>\n",
       "      <td>...</td>\n",
       "      <td>...</td>\n",
       "      <td>...</td>\n",
       "      <td>...</td>\n",
       "    </tr>\n",
       "    <tr>\n",
       "      <td>2024549</td>\n",
       "      <td>ffffb91addfb35f11b30c2943f349654</td>\n",
       "      <td>2017-01-01</td>\n",
       "      <td>2</td>\n",
       "      <td>1</td>\n",
       "      <td>1</td>\n",
       "      <td>1</td>\n",
       "      <td>0</td>\n",
       "      <td>0</td>\n",
       "      <td>0</td>\n",
       "      <td>0</td>\n",
       "      <td>...</td>\n",
       "      <td>10.00</td>\n",
       "      <td>1</td>\n",
       "      <td>0,</td>\n",
       "      <td>T</td>\n",
       "      <td>TF</td>\n",
       "      <td>TFF</td>\n",
       "      <td>TFFF</td>\n",
       "      <td>TFFFF</td>\n",
       "      <td>2017</td>\n",
       "      <td>cohort17</td>\n",
       "    </tr>\n",
       "    <tr>\n",
       "      <td>2024550</td>\n",
       "      <td>ffffc2e1225ac40a3ace9b8562115c9b</td>\n",
       "      <td>2016-01-01</td>\n",
       "      <td>2</td>\n",
       "      <td>1</td>\n",
       "      <td>1</td>\n",
       "      <td>1</td>\n",
       "      <td>0</td>\n",
       "      <td>0</td>\n",
       "      <td>0</td>\n",
       "      <td>1</td>\n",
       "      <td>...</td>\n",
       "      <td>75.00</td>\n",
       "      <td>1</td>\n",
       "      <td>0,</td>\n",
       "      <td>T</td>\n",
       "      <td>TF</td>\n",
       "      <td>TFF</td>\n",
       "      <td>TFFF</td>\n",
       "      <td>TFFFF</td>\n",
       "      <td>2016</td>\n",
       "      <td>cohort16</td>\n",
       "    </tr>\n",
       "    <tr>\n",
       "      <td>2024551</td>\n",
       "      <td>ffffd8f0fbfa10b99efe90a5ee13c5df</td>\n",
       "      <td>2017-01-01</td>\n",
       "      <td>2</td>\n",
       "      <td>1</td>\n",
       "      <td>1</td>\n",
       "      <td>1</td>\n",
       "      <td>0</td>\n",
       "      <td>0</td>\n",
       "      <td>0</td>\n",
       "      <td>0</td>\n",
       "      <td>...</td>\n",
       "      <td>50.00</td>\n",
       "      <td>1</td>\n",
       "      <td>0,</td>\n",
       "      <td>T</td>\n",
       "      <td>TF</td>\n",
       "      <td>TFF</td>\n",
       "      <td>TFFF</td>\n",
       "      <td>TFFFF</td>\n",
       "      <td>2017</td>\n",
       "      <td>cohort17</td>\n",
       "    </tr>\n",
       "    <tr>\n",
       "      <td>2024552</td>\n",
       "      <td>ffffdb40226605870f62422b2b420aab</td>\n",
       "      <td>2017-01-01</td>\n",
       "      <td>2</td>\n",
       "      <td>1</td>\n",
       "      <td>1</td>\n",
       "      <td>1</td>\n",
       "      <td>0</td>\n",
       "      <td>0</td>\n",
       "      <td>0</td>\n",
       "      <td>0</td>\n",
       "      <td>...</td>\n",
       "      <td>100.00</td>\n",
       "      <td>1</td>\n",
       "      <td>0,</td>\n",
       "      <td>T</td>\n",
       "      <td>TF</td>\n",
       "      <td>TFF</td>\n",
       "      <td>TFFF</td>\n",
       "      <td>TFFFF</td>\n",
       "      <td>2017</td>\n",
       "      <td>cohort17</td>\n",
       "    </tr>\n",
       "    <tr>\n",
       "      <td>2024553</td>\n",
       "      <td>fffffcc42d1bf7ab742a4fa2d820f9f0</td>\n",
       "      <td>2017-01-01</td>\n",
       "      <td>2</td>\n",
       "      <td>1</td>\n",
       "      <td>1</td>\n",
       "      <td>1</td>\n",
       "      <td>0</td>\n",
       "      <td>0</td>\n",
       "      <td>0</td>\n",
       "      <td>0</td>\n",
       "      <td>...</td>\n",
       "      <td>100.00</td>\n",
       "      <td>1</td>\n",
       "      <td>0,</td>\n",
       "      <td>T</td>\n",
       "      <td>TF</td>\n",
       "      <td>TFF</td>\n",
       "      <td>TFFF</td>\n",
       "      <td>TFFFF</td>\n",
       "      <td>2017</td>\n",
       "      <td>cohort17</td>\n",
       "    </tr>\n",
       "  </tbody>\n",
       "</table>\n",
       "<p>2024554 rows × 194 columns</p>\n",
       "</div>"
      ],
      "text/plain": [
       "                                       id first_gift_year  lapsed_count  \\\n",
       "0        00000ce845c00cbf0686c992fc369df4      2013-01-01             2   \n",
       "1        00002783bc5d108510f3f9666c8b1edd      2016-01-01             2   \n",
       "2        00002d44003ed46b066607c5455a999a      2016-01-01             2   \n",
       "3        00002eb25d60a09c318efbd0797bffb5      2015-01-01             4   \n",
       "4        0000300773fe015f870914b42528541b      2017-01-01             2   \n",
       "...                                   ...             ...           ...   \n",
       "2024549  ffffb91addfb35f11b30c2943f349654      2017-01-01             2   \n",
       "2024550  ffffc2e1225ac40a3ace9b8562115c9b      2016-01-01             2   \n",
       "2024551  ffffd8f0fbfa10b99efe90a5ee13c5df      2017-01-01             2   \n",
       "2024552  ffffdb40226605870f62422b2b420aab      2017-01-01             2   \n",
       "2024553  fffffcc42d1bf7ab742a4fa2d820f9f0      2017-01-01             2   \n",
       "\n",
       "         recovered_count  max_consec_giving_years  total_giving_years  \\\n",
       "0                      1                        1                   1   \n",
       "1                      1                        1                   1   \n",
       "2                      2                        2                   2   \n",
       "3                      4                        4                   4   \n",
       "4                      1                        1                   1   \n",
       "...                  ...                      ...                 ...   \n",
       "2024549                1                        1                   1   \n",
       "2024550                1                        1                   1   \n",
       "2024551                1                        1                   1   \n",
       "2024552                1                        1                   1   \n",
       "2024553                1                        1                   1   \n",
       "\n",
       "         count_2013  count_2014  count_2015  count_2016  ...  amount_total  \\\n",
       "0                 1           0           0           0  ...         50.00   \n",
       "1                 0           0           0           1  ...         99.00   \n",
       "2                 0           0           0           1  ...        634.95   \n",
       "3                 0           0           1           1  ...        160.00   \n",
       "4                 0           0           0           0  ...         50.00   \n",
       "...             ...         ...         ...         ...  ...           ...   \n",
       "2024549           0           0           0           0  ...         10.00   \n",
       "2024550           0           0           0           1  ...         75.00   \n",
       "2024551           0           0           0           0  ...         50.00   \n",
       "2024552           0           0           0           0  ...        100.00   \n",
       "2024553           0           0           0           0  ...        100.00   \n",
       "\n",
       "         count_total  cohort_gift_pattern  cohort_yr0_TF  cohort_yr1_TF  \\\n",
       "0                  1                   0,              T             TF   \n",
       "1                  1                   0,              T             TF   \n",
       "2                 11                 0,1,              T             TT   \n",
       "3                  4             0,1,2,3,              T             TT   \n",
       "4                  1                   0,              T             TF   \n",
       "...              ...                  ...            ...            ...   \n",
       "2024549            1                   0,              T             TF   \n",
       "2024550            1                   0,              T             TF   \n",
       "2024551            1                   0,              T             TF   \n",
       "2024552            1                   0,              T             TF   \n",
       "2024553            1                   0,              T             TF   \n",
       "\n",
       "         cohort_yr2_TF  cohort_yr3_TF  cohort_yr4_TF  first_gift_year_year  \\\n",
       "0                  TFF           TFFF          TFFFF                  2013   \n",
       "1                  TFF           TFFF          TFFFF                  2016   \n",
       "2                  TTF           TTFF          TTFFF                  2016   \n",
       "3                  TTT           TTTT          TTTTF                  2015   \n",
       "4                  TFF           TFFF          TFFFF                  2017   \n",
       "...                ...            ...            ...                   ...   \n",
       "2024549            TFF           TFFF          TFFFF                  2017   \n",
       "2024550            TFF           TFFF          TFFFF                  2016   \n",
       "2024551            TFF           TFFF          TFFFF                  2017   \n",
       "2024552            TFF           TFFF          TFFFF                  2017   \n",
       "2024553            TFF           TFFF          TFFFF                  2017   \n",
       "\n",
       "           cohort  \n",
       "0        cohort13  \n",
       "1        cohort16  \n",
       "2        cohort16  \n",
       "3        cohort15  \n",
       "4        cohort17  \n",
       "...           ...  \n",
       "2024549  cohort17  \n",
       "2024550  cohort16  \n",
       "2024551  cohort17  \n",
       "2024552  cohort17  \n",
       "2024553  cohort17  \n",
       "\n",
       "[2024554 rows x 194 columns]"
      ]
     },
     "execution_count": 223,
     "metadata": {},
     "output_type": "execute_result"
    }
   ],
   "source": [
    "donations"
   ]
  },
  {
   "cell_type": "code",
   "execution_count": 224,
   "metadata": {},
   "outputs": [
    {
     "data": {
      "text/html": [
       "<div>\n",
       "<style scoped>\n",
       "    .dataframe tbody tr th:only-of-type {\n",
       "        vertical-align: middle;\n",
       "    }\n",
       "\n",
       "    .dataframe tbody tr th {\n",
       "        vertical-align: top;\n",
       "    }\n",
       "\n",
       "    .dataframe thead th {\n",
       "        text-align: right;\n",
       "    }\n",
       "</style>\n",
       "<table border=\"1\" class=\"dataframe\">\n",
       "  <thead>\n",
       "    <tr style=\"text-align: right;\">\n",
       "      <th></th>\n",
       "      <th>id</th>\n",
       "      <th>first_gift_year</th>\n",
       "      <th>lapsed_count</th>\n",
       "      <th>recovered_count</th>\n",
       "      <th>max_consec_giving_years</th>\n",
       "      <th>total_giving_years</th>\n",
       "      <th>count_2013</th>\n",
       "      <th>count_2014</th>\n",
       "      <th>count_2015</th>\n",
       "      <th>count_2016</th>\n",
       "      <th>...</th>\n",
       "      <th>amount_total</th>\n",
       "      <th>count_total</th>\n",
       "      <th>cohort_gift_pattern</th>\n",
       "      <th>cohort_yr0_TF</th>\n",
       "      <th>cohort_yr1_TF</th>\n",
       "      <th>cohort_yr2_TF</th>\n",
       "      <th>cohort_yr3_TF</th>\n",
       "      <th>cohort_yr4_TF</th>\n",
       "      <th>first_gift_year_year</th>\n",
       "      <th>cohort</th>\n",
       "    </tr>\n",
       "  </thead>\n",
       "  <tbody>\n",
       "    <tr>\n",
       "      <td>0</td>\n",
       "      <td>00000ce845c00cbf0686c992fc369df4</td>\n",
       "      <td>2013-01-01</td>\n",
       "      <td>2</td>\n",
       "      <td>1</td>\n",
       "      <td>1</td>\n",
       "      <td>1</td>\n",
       "      <td>1</td>\n",
       "      <td>0</td>\n",
       "      <td>0</td>\n",
       "      <td>0</td>\n",
       "      <td>...</td>\n",
       "      <td>50.0</td>\n",
       "      <td>1</td>\n",
       "      <td>0,</td>\n",
       "      <td>T</td>\n",
       "      <td>TF</td>\n",
       "      <td>TFF</td>\n",
       "      <td>TFFF</td>\n",
       "      <td>TFFFF</td>\n",
       "      <td>2013</td>\n",
       "      <td>cohort13</td>\n",
       "    </tr>\n",
       "    <tr>\n",
       "      <td>10</td>\n",
       "      <td>00005f52c98eeaf92b2414a352b023a4</td>\n",
       "      <td>2013-01-01</td>\n",
       "      <td>3</td>\n",
       "      <td>2</td>\n",
       "      <td>2</td>\n",
       "      <td>2</td>\n",
       "      <td>1</td>\n",
       "      <td>1</td>\n",
       "      <td>0</td>\n",
       "      <td>0</td>\n",
       "      <td>...</td>\n",
       "      <td>20.0</td>\n",
       "      <td>2</td>\n",
       "      <td>0,1,</td>\n",
       "      <td>T</td>\n",
       "      <td>TT</td>\n",
       "      <td>TTF</td>\n",
       "      <td>TTFF</td>\n",
       "      <td>TTFFF</td>\n",
       "      <td>2013</td>\n",
       "      <td>cohort13</td>\n",
       "    </tr>\n",
       "    <tr>\n",
       "      <td>14</td>\n",
       "      <td>0000889adf4cc958a35daee1f2529b48</td>\n",
       "      <td>2013-01-01</td>\n",
       "      <td>2</td>\n",
       "      <td>1</td>\n",
       "      <td>1</td>\n",
       "      <td>1</td>\n",
       "      <td>1</td>\n",
       "      <td>0</td>\n",
       "      <td>0</td>\n",
       "      <td>0</td>\n",
       "      <td>...</td>\n",
       "      <td>10.0</td>\n",
       "      <td>1</td>\n",
       "      <td>0,</td>\n",
       "      <td>T</td>\n",
       "      <td>TF</td>\n",
       "      <td>TFF</td>\n",
       "      <td>TFFF</td>\n",
       "      <td>TFFFF</td>\n",
       "      <td>2013</td>\n",
       "      <td>cohort13</td>\n",
       "    </tr>\n",
       "    <tr>\n",
       "      <td>18</td>\n",
       "      <td>0000a2175753bc165e53c408589a3bd6</td>\n",
       "      <td>2013-01-01</td>\n",
       "      <td>4</td>\n",
       "      <td>3</td>\n",
       "      <td>3</td>\n",
       "      <td>3</td>\n",
       "      <td>1</td>\n",
       "      <td>1</td>\n",
       "      <td>1</td>\n",
       "      <td>0</td>\n",
       "      <td>...</td>\n",
       "      <td>75.0</td>\n",
       "      <td>3</td>\n",
       "      <td>0,1,2,</td>\n",
       "      <td>T</td>\n",
       "      <td>TT</td>\n",
       "      <td>TTT</td>\n",
       "      <td>TTTF</td>\n",
       "      <td>TTTFF</td>\n",
       "      <td>2013</td>\n",
       "      <td>cohort13</td>\n",
       "    </tr>\n",
       "    <tr>\n",
       "      <td>27</td>\n",
       "      <td>0000c14308c4cb9259a4fe51f692c9ef</td>\n",
       "      <td>2013-01-01</td>\n",
       "      <td>3</td>\n",
       "      <td>2</td>\n",
       "      <td>2</td>\n",
       "      <td>2</td>\n",
       "      <td>2</td>\n",
       "      <td>1</td>\n",
       "      <td>0</td>\n",
       "      <td>0</td>\n",
       "      <td>...</td>\n",
       "      <td>75.0</td>\n",
       "      <td>3</td>\n",
       "      <td>0,1,</td>\n",
       "      <td>T</td>\n",
       "      <td>TT</td>\n",
       "      <td>TTF</td>\n",
       "      <td>TTFF</td>\n",
       "      <td>TTFFF</td>\n",
       "      <td>2013</td>\n",
       "      <td>cohort13</td>\n",
       "    </tr>\n",
       "    <tr>\n",
       "      <td>...</td>\n",
       "      <td>...</td>\n",
       "      <td>...</td>\n",
       "      <td>...</td>\n",
       "      <td>...</td>\n",
       "      <td>...</td>\n",
       "      <td>...</td>\n",
       "      <td>...</td>\n",
       "      <td>...</td>\n",
       "      <td>...</td>\n",
       "      <td>...</td>\n",
       "      <td>...</td>\n",
       "      <td>...</td>\n",
       "      <td>...</td>\n",
       "      <td>...</td>\n",
       "      <td>...</td>\n",
       "      <td>...</td>\n",
       "      <td>...</td>\n",
       "      <td>...</td>\n",
       "      <td>...</td>\n",
       "      <td>...</td>\n",
       "      <td>...</td>\n",
       "    </tr>\n",
       "    <tr>\n",
       "      <td>2024519</td>\n",
       "      <td>fffeaaba624f657e461686b9bfc08a5b</td>\n",
       "      <td>2013-01-01</td>\n",
       "      <td>2</td>\n",
       "      <td>1</td>\n",
       "      <td>1</td>\n",
       "      <td>1</td>\n",
       "      <td>1</td>\n",
       "      <td>0</td>\n",
       "      <td>0</td>\n",
       "      <td>0</td>\n",
       "      <td>...</td>\n",
       "      <td>25.0</td>\n",
       "      <td>1</td>\n",
       "      <td>0,</td>\n",
       "      <td>T</td>\n",
       "      <td>TF</td>\n",
       "      <td>TFF</td>\n",
       "      <td>TFFF</td>\n",
       "      <td>TFFFF</td>\n",
       "      <td>2013</td>\n",
       "      <td>cohort13</td>\n",
       "    </tr>\n",
       "    <tr>\n",
       "      <td>2024520</td>\n",
       "      <td>fffeb06eb87c9f8353c3bd4899ee1295</td>\n",
       "      <td>2013-01-01</td>\n",
       "      <td>4</td>\n",
       "      <td>2</td>\n",
       "      <td>1</td>\n",
       "      <td>2</td>\n",
       "      <td>2</td>\n",
       "      <td>0</td>\n",
       "      <td>1</td>\n",
       "      <td>0</td>\n",
       "      <td>...</td>\n",
       "      <td>175.0</td>\n",
       "      <td>3</td>\n",
       "      <td>0,2,</td>\n",
       "      <td>T</td>\n",
       "      <td>TF</td>\n",
       "      <td>TFT</td>\n",
       "      <td>TFTF</td>\n",
       "      <td>TFTFF</td>\n",
       "      <td>2013</td>\n",
       "      <td>cohort13</td>\n",
       "    </tr>\n",
       "    <tr>\n",
       "      <td>2024521</td>\n",
       "      <td>fffebb489764c9b9a48db83125477e26</td>\n",
       "      <td>2013-01-01</td>\n",
       "      <td>2</td>\n",
       "      <td>1</td>\n",
       "      <td>1</td>\n",
       "      <td>1</td>\n",
       "      <td>1</td>\n",
       "      <td>0</td>\n",
       "      <td>0</td>\n",
       "      <td>0</td>\n",
       "      <td>...</td>\n",
       "      <td>15.0</td>\n",
       "      <td>1</td>\n",
       "      <td>0,</td>\n",
       "      <td>T</td>\n",
       "      <td>TF</td>\n",
       "      <td>TFF</td>\n",
       "      <td>TFFF</td>\n",
       "      <td>TFFFF</td>\n",
       "      <td>2013</td>\n",
       "      <td>cohort13</td>\n",
       "    </tr>\n",
       "    <tr>\n",
       "      <td>2024522</td>\n",
       "      <td>fffed4187f3b5f17cb58536f7fac8dee</td>\n",
       "      <td>2013-01-01</td>\n",
       "      <td>2</td>\n",
       "      <td>1</td>\n",
       "      <td>1</td>\n",
       "      <td>1</td>\n",
       "      <td>4</td>\n",
       "      <td>0</td>\n",
       "      <td>0</td>\n",
       "      <td>0</td>\n",
       "      <td>...</td>\n",
       "      <td>27.0</td>\n",
       "      <td>4</td>\n",
       "      <td>0,</td>\n",
       "      <td>T</td>\n",
       "      <td>TF</td>\n",
       "      <td>TFF</td>\n",
       "      <td>TFFF</td>\n",
       "      <td>TFFFF</td>\n",
       "      <td>2013</td>\n",
       "      <td>cohort13</td>\n",
       "    </tr>\n",
       "    <tr>\n",
       "      <td>2024526</td>\n",
       "      <td>ffff088c35d3455779a30898d1327b76</td>\n",
       "      <td>2013-01-01</td>\n",
       "      <td>2</td>\n",
       "      <td>1</td>\n",
       "      <td>1</td>\n",
       "      <td>1</td>\n",
       "      <td>1</td>\n",
       "      <td>0</td>\n",
       "      <td>0</td>\n",
       "      <td>0</td>\n",
       "      <td>...</td>\n",
       "      <td>25.0</td>\n",
       "      <td>1</td>\n",
       "      <td>0,</td>\n",
       "      <td>T</td>\n",
       "      <td>TF</td>\n",
       "      <td>TFF</td>\n",
       "      <td>TFFF</td>\n",
       "      <td>TFFFF</td>\n",
       "      <td>2013</td>\n",
       "      <td>cohort13</td>\n",
       "    </tr>\n",
       "  </tbody>\n",
       "</table>\n",
       "<p>320102 rows × 194 columns</p>\n",
       "</div>"
      ],
      "text/plain": [
       "                                       id first_gift_year  lapsed_count  \\\n",
       "0        00000ce845c00cbf0686c992fc369df4      2013-01-01             2   \n",
       "10       00005f52c98eeaf92b2414a352b023a4      2013-01-01             3   \n",
       "14       0000889adf4cc958a35daee1f2529b48      2013-01-01             2   \n",
       "18       0000a2175753bc165e53c408589a3bd6      2013-01-01             4   \n",
       "27       0000c14308c4cb9259a4fe51f692c9ef      2013-01-01             3   \n",
       "...                                   ...             ...           ...   \n",
       "2024519  fffeaaba624f657e461686b9bfc08a5b      2013-01-01             2   \n",
       "2024520  fffeb06eb87c9f8353c3bd4899ee1295      2013-01-01             4   \n",
       "2024521  fffebb489764c9b9a48db83125477e26      2013-01-01             2   \n",
       "2024522  fffed4187f3b5f17cb58536f7fac8dee      2013-01-01             2   \n",
       "2024526  ffff088c35d3455779a30898d1327b76      2013-01-01             2   \n",
       "\n",
       "         recovered_count  max_consec_giving_years  total_giving_years  \\\n",
       "0                      1                        1                   1   \n",
       "10                     2                        2                   2   \n",
       "14                     1                        1                   1   \n",
       "18                     3                        3                   3   \n",
       "27                     2                        2                   2   \n",
       "...                  ...                      ...                 ...   \n",
       "2024519                1                        1                   1   \n",
       "2024520                2                        1                   2   \n",
       "2024521                1                        1                   1   \n",
       "2024522                1                        1                   1   \n",
       "2024526                1                        1                   1   \n",
       "\n",
       "         count_2013  count_2014  count_2015  count_2016  ...  amount_total  \\\n",
       "0                 1           0           0           0  ...          50.0   \n",
       "10                1           1           0           0  ...          20.0   \n",
       "14                1           0           0           0  ...          10.0   \n",
       "18                1           1           1           0  ...          75.0   \n",
       "27                2           1           0           0  ...          75.0   \n",
       "...             ...         ...         ...         ...  ...           ...   \n",
       "2024519           1           0           0           0  ...          25.0   \n",
       "2024520           2           0           1           0  ...         175.0   \n",
       "2024521           1           0           0           0  ...          15.0   \n",
       "2024522           4           0           0           0  ...          27.0   \n",
       "2024526           1           0           0           0  ...          25.0   \n",
       "\n",
       "         count_total  cohort_gift_pattern  cohort_yr0_TF  cohort_yr1_TF  \\\n",
       "0                  1                   0,              T             TF   \n",
       "10                 2                 0,1,              T             TT   \n",
       "14                 1                   0,              T             TF   \n",
       "18                 3               0,1,2,              T             TT   \n",
       "27                 3                 0,1,              T             TT   \n",
       "...              ...                  ...            ...            ...   \n",
       "2024519            1                   0,              T             TF   \n",
       "2024520            3                 0,2,              T             TF   \n",
       "2024521            1                   0,              T             TF   \n",
       "2024522            4                   0,              T             TF   \n",
       "2024526            1                   0,              T             TF   \n",
       "\n",
       "         cohort_yr2_TF  cohort_yr3_TF  cohort_yr4_TF  first_gift_year_year  \\\n",
       "0                  TFF           TFFF          TFFFF                  2013   \n",
       "10                 TTF           TTFF          TTFFF                  2013   \n",
       "14                 TFF           TFFF          TFFFF                  2013   \n",
       "18                 TTT           TTTF          TTTFF                  2013   \n",
       "27                 TTF           TTFF          TTFFF                  2013   \n",
       "...                ...            ...            ...                   ...   \n",
       "2024519            TFF           TFFF          TFFFF                  2013   \n",
       "2024520            TFT           TFTF          TFTFF                  2013   \n",
       "2024521            TFF           TFFF          TFFFF                  2013   \n",
       "2024522            TFF           TFFF          TFFFF                  2013   \n",
       "2024526            TFF           TFFF          TFFFF                  2013   \n",
       "\n",
       "           cohort  \n",
       "0        cohort13  \n",
       "10       cohort13  \n",
       "14       cohort13  \n",
       "18       cohort13  \n",
       "27       cohort13  \n",
       "...           ...  \n",
       "2024519  cohort13  \n",
       "2024520  cohort13  \n",
       "2024521  cohort13  \n",
       "2024522  cohort13  \n",
       "2024526  cohort13  \n",
       "\n",
       "[320102 rows x 194 columns]"
      ]
     },
     "execution_count": 224,
     "metadata": {},
     "output_type": "execute_result"
    }
   ],
   "source": [
    "donations.query('amount_2013 > 0')"
   ]
  },
  {
   "cell_type": "code",
   "execution_count": null,
   "metadata": {},
   "outputs": [],
   "source": []
  }
 ],
 "metadata": {
  "kernelspec": {
   "display_name": "Python 3",
   "language": "python",
   "name": "python3"
  },
  "language_info": {
   "codemirror_mode": {
    "name": "ipython",
    "version": 3
   },
   "file_extension": ".py",
   "mimetype": "text/x-python",
   "name": "python",
   "nbconvert_exporter": "python",
   "pygments_lexer": "ipython3",
   "version": "3.7.4"
  }
 },
 "nbformat": 4,
 "nbformat_minor": 2
}
