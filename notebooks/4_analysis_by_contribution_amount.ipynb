{
 "cells": [
  {
   "cell_type": "code",
   "execution_count": 1,
   "metadata": {},
   "outputs": [],
   "source": [
    "import numpy as np\n",
    "import pandas as pd\n",
    "import plotly.express as px\n",
    "import plotly.graph_objects as go\n",
    "from plotly.subplots import make_subplots\n",
    "import re\n",
    "\n",
    "import seaborn as sns\n",
    "import matplotlib.pyplot as plt\n",
    "sns.set_style(\"white\")\n",
    "%matplotlib inline"
   ]
  },
  {
   "cell_type": "code",
   "execution_count": 2,
   "metadata": {},
   "outputs": [],
   "source": [
    "donations_13to17=pd.read_pickle('donations_13to17.pkl')"
   ]
  },
  {
   "cell_type": "markdown",
   "metadata": {},
   "source": [
    "### explore distribution of amounts"
   ]
  },
  {
   "cell_type": "code",
   "execution_count": 3,
   "metadata": {},
   "outputs": [
    {
     "data": {
      "text/plain": [
       "count    320069.000000\n",
       "mean         95.016273\n",
       "std        1036.920844\n",
       "min           0.400000\n",
       "25%          20.000000\n",
       "50%          25.000000\n",
       "75%          75.000000\n",
       "max      442794.380000\n",
       "Name: amount_2013, dtype: float64"
      ]
     },
     "execution_count": 3,
     "metadata": {},
     "output_type": "execute_result"
    }
   ],
   "source": [
    "donations_13to17.query('amount_2013 > 0').describe()['amount_2013']"
   ]
  },
  {
   "cell_type": "code",
   "execution_count": 4,
   "metadata": {},
   "outputs": [
    {
     "data": {
      "text/plain": [
       "count    382803.000000\n",
       "mean        108.259304\n",
       "std        1169.334035\n",
       "min           1.000000\n",
       "25%          25.000000\n",
       "50%          50.000000\n",
       "75%         100.000000\n",
       "max      570161.900000\n",
       "Name: amount_2014, dtype: float64"
      ]
     },
     "execution_count": 4,
     "metadata": {},
     "output_type": "execute_result"
    }
   ],
   "source": [
    "donations_13to17.query('amount_2014 > 0').describe()['amount_2014']"
   ]
  },
  {
   "cell_type": "code",
   "execution_count": 5,
   "metadata": {},
   "outputs": [
    {
     "data": {
      "text/plain": [
       "count    446037.000000\n",
       "mean        113.174654\n",
       "std        1013.841004\n",
       "min           0.920000\n",
       "25%          25.000000\n",
       "50%          50.000000\n",
       "75%         100.000000\n",
       "max      346566.480000\n",
       "Name: amount_2015, dtype: float64"
      ]
     },
     "execution_count": 5,
     "metadata": {},
     "output_type": "execute_result"
    }
   ],
   "source": [
    "donations_13to17.query('amount_2015 > 0').describe()['amount_2015']"
   ]
  },
  {
   "cell_type": "code",
   "execution_count": 6,
   "metadata": {},
   "outputs": [
    {
     "data": {
      "text/plain": [
       "count    555836.000000\n",
       "mean        112.707242\n",
       "std        1028.602129\n",
       "min           0.060000\n",
       "25%          25.000000\n",
       "50%          50.000000\n",
       "75%         100.000000\n",
       "max      294946.630000\n",
       "Name: amount_2016, dtype: float64"
      ]
     },
     "execution_count": 6,
     "metadata": {},
     "output_type": "execute_result"
    }
   ],
   "source": [
    "donations_13to17.query('amount_2016 > 0').describe()['amount_2016']"
   ]
  },
  {
   "cell_type": "code",
   "execution_count": 7,
   "metadata": {},
   "outputs": [
    {
     "data": {
      "text/plain": [
       "count    574591.000000\n",
       "mean        126.817661\n",
       "std        1628.855404\n",
       "min           1.000000\n",
       "25%          25.000000\n",
       "50%          50.000000\n",
       "75%         100.000000\n",
       "max      634709.970000\n",
       "Name: amount_2017, dtype: float64"
      ]
     },
     "execution_count": 7,
     "metadata": {},
     "output_type": "execute_result"
    }
   ],
   "source": [
    "donations_13to17.query('amount_2017 > 0').describe()['amount_2017']"
   ]
  },
  {
   "cell_type": "code",
   "execution_count": 31,
   "metadata": {},
   "outputs": [],
   "source": [
    "#create dataframes by year with amounts > 0\n",
    "donations_2013=donations_13to17.query('amount_2013 > 0')\n",
    "donations_2014=donations_13to17.query('amount_2014 > 0')\n",
    "donations_2015=donations_13to17.query('amount_2015 > 0')\n",
    "donations_2016=donations_13to17.query('amount_2016 > 0')\n",
    "donations_2017=donations_13to17.query('amount_2017 > 0')"
   ]
  },
  {
   "cell_type": "code",
   "execution_count": null,
   "metadata": {},
   "outputs": [],
   "source": [
    "sns.distplot(donations_2013['amount_2013'], kde=False, bins=20)\n",
    "plt.yscale('log')"
   ]
  },
  {
   "cell_type": "code",
   "execution_count": null,
   "metadata": {},
   "outputs": [],
   "source": [
    "fig = px.histogram(donations_2013, x=\"amount_2013\", nbins=100, log_y=True)\n",
    "fig.show()"
   ]
  },
  {
   "cell_type": "code",
   "execution_count": null,
   "metadata": {},
   "outputs": [],
   "source": [
    "#largest donors in 2013\n",
    "donations_2013.amount_2013.nlargest(n=10)"
   ]
  },
  {
   "cell_type": "code",
   "execution_count": null,
   "metadata": {},
   "outputs": [],
   "source": [
    "#percent contributed by top x donors in 2013\n",
    "donations_2013.amount_2013.nlargest(n=3).sum()/donations_2013.amount_2013.sum()*100"
   ]
  },
  {
   "cell_type": "code",
   "execution_count": null,
   "metadata": {},
   "outputs": [],
   "source": [
    "# total contributed in 2013\n",
    "donations_2013.amount_2013.sum()"
   ]
  },
  {
   "cell_type": "code",
   "execution_count": null,
   "metadata": {},
   "outputs": [],
   "source": [
    "donations_2013.query('amount_2013 == 442794.38')"
   ]
  },
  {
   "cell_type": "code",
   "execution_count": 51,
   "metadata": {},
   "outputs": [
    {
     "data": {
      "text/plain": [
       "Index(['id', 'first_gift_year', 'lapsed_count', 'recovered_count',\n",
       "       'max_consec_giving_years', 'total_giving_years', 'count_2013',\n",
       "       'count_2014', 'count_2015', 'count_2016',\n",
       "       ...\n",
       "       'behavior_2017', 'gainloss_2013', 'gainloss_2014', 'gainloss_2015',\n",
       "       'gainloss_2016', 'gainloss_2017', 'gainloss_2014_amt',\n",
       "       'gainloss_2015_amt', 'gainloss_2016_amt', 'gainloss_2017_amt'],\n",
       "      dtype='object', length=203)"
      ]
     },
     "execution_count": 51,
     "metadata": {},
     "output_type": "execute_result"
    }
   ],
   "source": [
    "donations_2013.columns"
   ]
  },
  {
   "cell_type": "markdown",
   "metadata": {},
   "source": [
    "### explore distribution of donation counts"
   ]
  },
  {
   "cell_type": "code",
   "execution_count": 45,
   "metadata": {},
   "outputs": [],
   "source": [
    "#count_df=donations_2013.copy()\n",
    "#count_df=donations_2014.copy()\n",
    "#count_df=donations_2015.copy()\n",
    "count_df=donations_2016.copy()\n",
    "# count_df=donations_2017.copy()\n",
    "\n",
    "count_df.rename(columns={\n",
    "#    'count_2013':'count_col', 'amount_2013':'amount_col'},\n",
    "#    'count_2014':'count_col', 'amount_2014':'amount_col'},\n",
    "#    'count_2015':'count_col', 'amount_2015':'amount_col'},\n",
    "    'count_2016':'count_col', 'amount_2016':'amount_col'},\n",
    "#    'count_2017':'count_col', 'amount_2017':'amount_col'},\n",
    "                inplace = True) "
   ]
  },
  {
   "cell_type": "code",
   "execution_count": 46,
   "metadata": {},
   "outputs": [
    {
     "name": "stdout",
     "output_type": "stream",
     "text": [
      "# donors:  555,836\n",
      "amount of donations:  $62,646,743\n",
      "max number donations:  3687\n",
      "10 highest numbers of donation:  52       3687\n",
      "2508     3082\n",
      "176      2534\n",
      "614      1581\n",
      "619      1501\n",
      "137      1425\n",
      "145      1234\n",
      "149      1211\n",
      "159      1114\n",
      "251      1086\n",
      "1713     1077\n",
      "834      1054\n",
      "615       967\n",
      "1240      937\n",
      "2318      936\n",
      "168       910\n",
      "1237      858\n",
      "249       847\n",
      "1086      773\n",
      "129       768\n",
      "2621      729\n",
      "689       692\n",
      "1085      686\n",
      "1214      680\n",
      "1243      638\n",
      "142       636\n",
      "361       635\n",
      "135       630\n",
      "1220      568\n",
      "169       532\n",
      "621       532\n",
      "722       525\n",
      "1645      469\n",
      "10371     461\n",
      "2262      459\n",
      "1555      454\n",
      "14032     450\n",
      "12551     449\n",
      "1552      435\n",
      "1306      429\n",
      "191       428\n",
      "132       424\n",
      "2823      416\n",
      "4603      416\n",
      "2605      415\n",
      "1247      414\n",
      "2281      414\n",
      "248       411\n",
      "3191      408\n",
      "3082      402\n",
      "Name: count_col, dtype: int64\n"
     ]
    }
   ],
   "source": [
    "# number of donors in year\n",
    "print(f'# donors: ', \"{:,}\".format(count_df['id'].count()))\n",
    "\n",
    "# amount donations in year\n",
    "print(f'amount of donations: ', \"${:,.0f}\".format(count_df['amount_col'].sum()))\n",
    "\n",
    "# max # donations in year\n",
    "print(f'max number donations: ', count_df['count_col'].max())\n",
    "\n",
    "print(f'10 highest numbers of donation: ', count_df['count_col'].nlargest(n=50))"
   ]
  },
  {
   "cell_type": "code",
   "execution_count": 47,
   "metadata": {},
   "outputs": [
    {
     "name": "stdout",
     "output_type": "stream",
     "text": [
      "1 / 445,766 / 80.20% / $25,998,167 / 41.50%\n",
      "2 / 60,609 / 10.90% / $8,598,328 / 13.73%\n",
      "3 / 19,212 / 3.46% / $4,437,224 / 7.08%\n",
      "4 / 9,331 / 1.68% / $2,872,638 / 4.59%\n",
      "5 / 5,442 / 0.98% / $2,122,789 / 3.39%\n",
      "6 / 3,462 / 0.62% / $1,667,315 / 2.66%\n",
      "7 / 2,362 / 0.42% / $1,275,255 / 2.04%\n",
      "8 / 1,723 / 0.31% / $1,073,225 / 1.71%\n",
      "9 / 1,258 / 0.23% / $825,033 / 1.32%\n",
      "10 / 1,006 / 0.18% / $726,653 / 1.16%\n",
      "11 / 784 / 0.14% / $688,105 / 1.10%\n",
      "12 / 691 / 0.12% / $612,916 / 0.98%\n"
     ]
    }
   ],
   "source": [
    "# donors by # contributions\n",
    "l = 12\n",
    "for n in range(1,l+1,1):\n",
    "    if n < l + 1:\n",
    "        count=count_df.loc[count_df['count_col'] == n]\n",
    "        print(n, f'/',\n",
    "              \"{:,}\".format(count.count_col.count()), f'/',\n",
    "              \"{:.2%}\".format(count.count_col.count()/count_df.count_col.count()), f'/',\n",
    "             \"${:,.0f}\".format(count.amount_col.sum()), f'/',\n",
    "             \"{:.2%}\".format(count.amount_col.sum()/count_df.amount_col.sum()))"
   ]
  },
  {
   "cell_type": "code",
   "execution_count": 48,
   "metadata": {},
   "outputs": [
    {
     "name": "stdout",
     "output_type": "stream",
     "text": [
      "# donors contributed > 12x:  4190\n",
      "amount:  $11,749,094\n"
     ]
    }
   ],
   "source": [
    "# number who contributed greater than 12 times\n",
    "print(f'# donors contributed > 12x: ', count_df.loc[count_df['count_col'] > 12].count()['id'])\n",
    "\n",
    "# amount donated who contributed greater than 12 times\n",
    "print(f'amount: ', \"${:,.0f}\".format(count_df.loc[count_df['count_col'] > 12].sum()['amount_col']))"
   ]
  },
  {
   "cell_type": "code",
   "execution_count": 29,
   "metadata": {},
   "outputs": [
    {
     "data": {
      "text/plain": [
       "4852803.7399999965"
      ]
     },
     "execution_count": 29,
     "metadata": {},
     "output_type": "execute_result"
    }
   ],
   "source": [
    "# amount donated who contributed greater than 12 times\n",
    "count_df.loc[count_df['count_col'] > 12].sum()['amount_col']"
   ]
  },
  {
   "cell_type": "code",
   "execution_count": null,
   "metadata": {},
   "outputs": [],
   "source": [
    "#percent that contribute > 4x in 2013\n",
    "donations_2013.query('count_2013 > 4').count()['id']/donations_2013['id'].count()*100"
   ]
  },
  {
   "cell_type": "code",
   "execution_count": null,
   "metadata": {},
   "outputs": [],
   "source": [
    "sns.distplot(donations_2013['count_2013'], kde=False, bins=20)\n",
    "sns.distplot(donations_2014['count_2014'], kde=False, bins=20)\n",
    "plt.yscale('log')"
   ]
  },
  {
   "cell_type": "code",
   "execution_count": null,
   "metadata": {},
   "outputs": [],
   "source": [
    "#fig, axes = plt.subplots(nrows=2, ncols=2)\n",
    "\n",
    "#sns.distplot(donations_2013['count_2013'], kde=False, bins=20, ax=axes[0,0], plt.yscale=log)\n",
    "\n",
    "#sns.distplot(donations_2014['count_2014'], kde=False, bins=20, ax=axes[0,1])\n",
    "\n",
    "fig = plt.figure()\n",
    "fig.add_subplot(221)   #top left\n",
    "sns.distplot(donations_2013['count_2013'], kde=False, bins=20, ax=axes[0,0])\n",
    "\n",
    "fig.add_subplot(222)   #top right\n",
    "fig.add_subplot(223)   #bottom left\n",
    "fig.add_subplot(224)   #bottom right \n",
    "plt.show()\n"
   ]
  },
  {
   "cell_type": "code",
   "execution_count": null,
   "metadata": {},
   "outputs": [],
   "source": [
    "gr1_2013=donations_2013.query('count_2013 > 1')"
   ]
  },
  {
   "cell_type": "code",
   "execution_count": null,
   "metadata": {},
   "outputs": [],
   "source": [
    "gr1_2013.shape"
   ]
  },
  {
   "cell_type": "code",
   "execution_count": null,
   "metadata": {},
   "outputs": [],
   "source": [
    "fig = px.histogram(donations_2014, x=\"count_2014\", color='behavior_2014', title=\"# of donations per donor\", labels=\"donations\", nbins=50, log_y=True)\n",
    "fig.show()"
   ]
  },
  {
   "cell_type": "code",
   "execution_count": null,
   "metadata": {},
   "outputs": [],
   "source": [
    "bins, counts = np.histogram(donations_2013.count_2013)\n",
    "\n",
    "\n",
    "fig = px.bar(x=bins, y=counts, labels={'x':'# donations', 'y':'count'})\n",
    "fig.show()"
   ]
  },
  {
   "cell_type": "code",
   "execution_count": null,
   "metadata": {},
   "outputs": [],
   "source": [
    "f, axes = plt.subplots(2, 2, figsize=(7, 7), sharex=True)\n",
    "#ax.yscale('log')\n",
    "#ax.set_xscale(\"log\", nonposx='clip')\n",
    "\n",
    "sns.distplot( donations_2013['count_2013'], color=\"skyblue\", ax=axes[0, 0], bins=20)\n",
    "#plt.yscale('log')\n",
    "sns.distplot( donations_2014['count_2014'] , color=\"olive\", ax=axes[0, 1], bins=20)\n",
    "sns.distplot( donations_2015['count_2015']  , color=\"gold\", ax=axes[1, 0], bins=20)\n",
    "sns.distplot( donations_2016['count_2016']  , color=\"teal\", ax=axes[1, 1], bins=20)"
   ]
  },
  {
   "cell_type": "code",
   "execution_count": null,
   "metadata": {},
   "outputs": [],
   "source": [
    "donations_2017.count_2017.describe()"
   ]
  },
  {
   "cell_type": "code",
   "execution_count": null,
   "metadata": {},
   "outputs": [],
   "source": [
    "donations_2013.head()"
   ]
  },
  {
   "cell_type": "code",
   "execution_count": null,
   "metadata": {
    "scrolled": true
   },
   "outputs": [],
   "source": [
    "px.histogram(data_frame=donations_2014\n",
    "             ,x=\"count_2014\"\n",
    "             #,y=\"Name\"\n",
    "             ,color=\"behavior_2014\"\n",
    "             ,histfunc=\"count\"\n",
    "             ,title=\"Distribution of Heroes, by Publisher | Good-Bad-Neutral\"\n",
    "             ,labels={'Name':'Characters'}\n",
    "             ,template='plotly_white'\n",
    "             ,nbins=20\n",
    "             ,log_y=True\n",
    "            )"
   ]
  },
  {
   "cell_type": "code",
   "execution_count": null,
   "metadata": {},
   "outputs": [],
   "source": [
    "counts, bins = np.histogram(donations_2013.count_2013, bins=range(1, 102, 1))\n",
    "bins = .5*(bins[:-1] + bins[1:])-.5\n",
    "\n",
    "fig = px.bar(x=bins, y=counts, labels={'x':'# donations', 'y':'# donors'},log_y=True)\n",
    "fig.show()"
   ]
  },
  {
   "cell_type": "code",
   "execution_count": null,
   "metadata": {},
   "outputs": [],
   "source": [
    "counts, bins = np.histogram(donations_2014.count_2014, bins=range(1, 102, 1))\n",
    "bins = .5*(bins[:-1] + bins[1:])-.5\n",
    "\n",
    "fig = px.bar(x=bins, y=counts, labels={'x':'# donations', 'y':'# donors'},log_y=True)\n",
    "fig.show()"
   ]
  },
  {
   "cell_type": "code",
   "execution_count": null,
   "metadata": {},
   "outputs": [],
   "source": []
  }
 ],
 "metadata": {
  "kernelspec": {
   "display_name": "Python 3",
   "language": "python",
   "name": "python3"
  },
  "language_info": {
   "codemirror_mode": {
    "name": "ipython",
    "version": 3
   },
   "file_extension": ".py",
   "mimetype": "text/x-python",
   "name": "python",
   "nbconvert_exporter": "python",
   "pygments_lexer": "ipython3",
   "version": "3.7.4"
  }
 },
 "nbformat": 4,
 "nbformat_minor": 2
}
