{
 "cells": [
  {
   "cell_type": "code",
   "execution_count": 2,
   "metadata": {},
   "outputs": [],
   "source": [
    "import numpy as np\n",
    "import pandas as pd\n",
    "import plotly.express as px\n",
    "import plotly.graph_objects as go\n",
    "from plotly.subplots import make_subplots\n",
    "import re\n",
    "\n",
    "import seaborn as sns\n",
    "import matplotlib.pyplot as plt\n",
    "sns.set_style(\"white\")\n",
    "%matplotlib inline"
   ]
  },
  {
   "cell_type": "code",
   "execution_count": 3,
   "metadata": {},
   "outputs": [],
   "source": [
    "donations_13to17=pd.read_pickle('donations_13to17.pkl')"
   ]
  },
  {
   "cell_type": "code",
   "execution_count": null,
   "metadata": {},
   "outputs": [],
   "source": [
    "donations_13to17.head()"
   ]
  },
  {
   "cell_type": "code",
   "execution_count": null,
   "metadata": {},
   "outputs": [],
   "source": [
    "donations_13to17.columns.tolist()"
   ]
  },
  {
   "cell_type": "code",
   "execution_count": null,
   "metadata": {},
   "outputs": [],
   "source": [
    "cols=['amount_yr0',\n",
    " 'amount_yr1',\n",
    " 'amount_yr2',\n",
    " 'amount_yr3',\n",
    " 'amount_yr4',\n",
    " 'count_yr0',\n",
    " 'count_yr1',\n",
    " 'count_yr2',\n",
    " 'count_yr3',\n",
    " 'count_yr4',\n",
    " 'id',\n",
    " 'first_gift_year',\n",
    " 'lapsed_count',\n",
    " 'recovered_count',\n",
    " 'max_consec_giving_years',\n",
    " 'total_giving_years',\n",
    " 'count_2013',\n",
    " 'count_2014',\n",
    " 'count_2015',\n",
    " 'count_2016',\n",
    " 'count_2017',\n",
    " 'lapsed_amount',\n",
    " 'recovered_amount',\n",
    " 'amount_2013',\n",
    " 'amount_2014',\n",
    " 'amount_2015',\n",
    " 'amount_2016',\n",
    " 'amount_2017',\n",
    " 'lapsed_amount_2013',\n",
    " 'lapsed_amount_2014',\n",
    " 'lapsed_amount_2015',\n",
    " 'lapsed_amount_2016',\n",
    " 'lapsed_amount_2017',\n",
    " 'upgraded_amount_2013',\n",
    " 'upgraded_amount_2014',\n",
    " 'upgraded_amount_2015',\n",
    " 'upgraded_amount_2016',\n",
    " 'upgraded_amount_2017',\n",
    " 'downgraded_amount_2013',\n",
    " 'downgraded_amount_2014',\n",
    " 'downgraded_amount_2015',\n",
    " 'downgraded_amount_2016',\n",
    " 'downgraded_amount_2017',\n",
    " 'lapsed_amount_yr0',\n",
    " 'lapsed_amount_yr1',\n",
    " 'lapsed_amount_yr2',\n",
    " 'lapsed_amount_yr3',\n",
    " 'lapsed_amount_yr4',\n",
    " 'upgraded_amount_yr0',\n",
    " 'upgraded_amount_yr1',\n",
    " 'upgraded_amount_yr2',\n",
    " 'upgraded_amount_yr3',\n",
    " 'upgraded_amount_yr4',\n",
    " 'downgraded_amount_yr0',\n",
    " 'downgraded_amount_yr1',\n",
    " 'downgraded_amount_yr2',\n",
    " 'downgraded_amount_yr3',\n",
    " 'downgraded_amount_yr4',\n",
    " 'amount_01_2013',\n",
    " 'amount_02_2013',\n",
    " 'amount_03_2013',\n",
    " 'amount_04_2013',\n",
    " 'amount_05_2013',\n",
    " 'amount_06_2013',\n",
    " 'amount_07_2013',\n",
    " 'amount_08_2013',\n",
    " 'amount_09_2013',\n",
    " 'amount_10_2013',\n",
    " 'amount_11_2013',\n",
    " 'amount_12_2013',\n",
    " 'amount_01_2014',\n",
    " 'amount_02_2014',\n",
    " 'amount_03_2014',\n",
    " 'amount_04_2014',\n",
    " 'amount_05_2014',\n",
    " 'amount_06_2014',\n",
    " 'amount_07_2014',\n",
    " 'amount_08_2014',\n",
    " 'amount_09_2014',\n",
    " 'amount_10_2014',\n",
    " 'amount_11_2014',\n",
    " 'amount_12_2014',\n",
    " 'amount_01_2015',\n",
    " 'amount_02_2015',\n",
    " 'amount_03_2015',\n",
    " 'amount_04_2015',\n",
    " 'amount_05_2015',\n",
    " 'amount_06_2015',\n",
    " 'amount_07_2015',\n",
    " 'amount_08_2015',\n",
    " 'amount_09_2015',\n",
    " 'amount_10_2015',\n",
    " 'amount_11_2015',\n",
    " 'amount_12_2015',\n",
    " 'amount_01_2016',\n",
    " 'amount_02_2016',\n",
    " 'amount_03_2016',\n",
    " 'amount_04_2016',\n",
    " 'amount_05_2016',\n",
    " 'amount_06_2016',\n",
    " 'amount_07_2016',\n",
    " 'amount_08_2016',\n",
    " 'amount_09_2016',\n",
    " 'amount_10_2016',\n",
    " 'amount_11_2016',\n",
    " 'amount_12_2016',\n",
    " 'amount_01_2017',\n",
    " 'amount_02_2017',\n",
    " 'amount_03_2017',\n",
    " 'amount_04_2017',\n",
    " 'amount_05_2017',\n",
    " 'amount_06_2017',\n",
    " 'amount_07_2017',\n",
    " 'amount_08_2017',\n",
    " 'amount_09_2017',\n",
    " 'amount_10_2017',\n",
    " 'amount_11_2017',\n",
    " 'amount_12_2017',\n",
    " 'amount_total',\n",
    " 'count_total',\n",
    " 'amount_01_yr0',\n",
    " 'amount_02_yr0',\n",
    " 'amount_03_yr0',\n",
    " 'amount_04_yr0',\n",
    " 'amount_05_yr0',\n",
    " 'amount_06_yr0',\n",
    " 'amount_07_yr0',\n",
    " 'amount_08_yr0',\n",
    " 'amount_09_yr0',\n",
    " 'amount_10_yr0',\n",
    " 'amount_11_yr0',\n",
    " 'amount_12_yr0',\n",
    " 'amount_01_yr1',\n",
    " 'amount_02_yr1',\n",
    " 'amount_03_yr1',\n",
    " 'amount_04_yr1',\n",
    " 'amount_05_yr1',\n",
    " 'amount_06_yr1',\n",
    " 'amount_07_yr1',\n",
    " 'amount_08_yr1',\n",
    " 'amount_09_yr1',\n",
    " 'amount_10_yr1',\n",
    " 'amount_11_yr1',\n",
    " 'amount_12_yr1',\n",
    " 'amount_01_yr2',\n",
    " 'amount_02_yr2',\n",
    " 'amount_03_yr2',\n",
    " 'amount_04_yr2',\n",
    " 'amount_05_yr2',\n",
    " 'amount_06_yr2',\n",
    " 'amount_07_yr2',\n",
    " 'amount_08_yr2',\n",
    " 'amount_09_yr2',\n",
    " 'amount_10_yr2',\n",
    " 'amount_11_yr2',\n",
    " 'amount_12_yr2',\n",
    " 'amount_01_yr3',\n",
    " 'amount_02_yr3',\n",
    " 'amount_03_yr3',\n",
    " 'amount_04_yr3',\n",
    " 'amount_05_yr3',\n",
    " 'amount_06_yr3',\n",
    " 'amount_07_yr3',\n",
    " 'amount_08_yr3',\n",
    " 'amount_09_yr3',\n",
    " 'amount_10_yr3',\n",
    " 'amount_11_yr3',\n",
    " 'amount_12_yr3',\n",
    " 'amount_01_yr4',\n",
    " 'amount_02_yr4',\n",
    " 'amount_03_yr4',\n",
    " 'amount_04_yr4',\n",
    " 'amount_05_yr4',\n",
    " 'amount_06_yr4',\n",
    " 'amount_07_yr4',\n",
    " 'amount_08_yr4',\n",
    " 'amount_09_yr4',\n",
    " 'amount_10_yr4',\n",
    " 'amount_11_yr4',\n",
    " 'amount_12_yr4',\n",
    " 'years_donated',\n",
    " 'cohort_gift_pattern',\n",
    " 'perc_years_donated',\n",
    " 'gift_pattern',\n",
    " 'donor_profile',\n",
    " 'behavior_2013',\n",
    " 'behavior_2014',\n",
    " 'behavior_2015',\n",
    " 'behavior_2016',\n",
    " 'behavior_2017',\n",
    " 'gainloss_2013',\n",
    " 'gainloss_2014',\n",
    " 'gainloss_2015',\n",
    " 'gainloss_2016',\n",
    " 'gainloss_2017',\n",
    " 'gainloss_2014_amt',\n",
    " 'gainloss_2015_amt',\n",
    " 'gainloss_2016_amt',\n",
    " 'gainloss_2017_amt']"
   ]
  },
  {
   "cell_type": "code",
   "execution_count": null,
   "metadata": {},
   "outputs": [],
   "source": [
    "donations_13to17=donations_13to17[cols]"
   ]
  },
  {
   "cell_type": "code",
   "execution_count": 4,
   "metadata": {},
   "outputs": [],
   "source": [
    "#cohort13\n",
    "c13=donations_13to17.query('first_gift_year == \"2013-01-01\"')"
   ]
  },
  {
   "cell_type": "code",
   "execution_count": 12,
   "metadata": {},
   "outputs": [],
   "source": [
    "#cohort13 without one_time donors\n",
    "c13_repeat=c13.query('donor_profile != \"one_time\"')"
   ]
  },
  {
   "cell_type": "code",
   "execution_count": null,
   "metadata": {},
   "outputs": [],
   "source": [
    "c13.donor_profile.value_counts()"
   ]
  },
  {
   "cell_type": "code",
   "execution_count": 13,
   "metadata": {},
   "outputs": [],
   "source": [
    "c13_repeat_yr=c13_repeat.groupby('cohort_gift_pattern').sum()"
   ]
  },
  {
   "cell_type": "code",
   "execution_count": 66,
   "metadata": {},
   "outputs": [],
   "source": [
    "c13__repeat_yr_amounts=c13_repeat_yr[['amount_yr0','amount_yr1','amount_yr2','amount_yr3','amount_yr4']]"
   ]
  },
  {
   "cell_type": "code",
   "execution_count": 73,
   "metadata": {},
   "outputs": [],
   "source": [
    "c13__repeat_yr_amounts_sorted=c13__repeat_yr_amounts.sort_values('amount_yr0', ascending = False)"
   ]
  },
  {
   "cell_type": "code",
   "execution_count": 74,
   "metadata": {},
   "outputs": [
    {
     "data": {
      "text/html": [
       "<div>\n",
       "<style scoped>\n",
       "    .dataframe tbody tr th:only-of-type {\n",
       "        vertical-align: middle;\n",
       "    }\n",
       "\n",
       "    .dataframe tbody tr th {\n",
       "        vertical-align: top;\n",
       "    }\n",
       "\n",
       "    .dataframe thead th {\n",
       "        text-align: right;\n",
       "    }\n",
       "</style>\n",
       "<table border=\"1\" class=\"dataframe\">\n",
       "  <thead>\n",
       "    <tr style=\"text-align: right;\">\n",
       "      <th></th>\n",
       "      <th>amount_yr0</th>\n",
       "      <th>amount_yr1</th>\n",
       "      <th>amount_yr2</th>\n",
       "      <th>amount_yr3</th>\n",
       "      <th>amount_yr4</th>\n",
       "    </tr>\n",
       "    <tr>\n",
       "      <th>cohort_gift_pattern</th>\n",
       "      <th></th>\n",
       "      <th></th>\n",
       "      <th></th>\n",
       "      <th></th>\n",
       "      <th></th>\n",
       "    </tr>\n",
       "  </thead>\n",
       "  <tbody>\n",
       "    <tr>\n",
       "      <td>0,1,2,3,4,</td>\n",
       "      <td>5209667.21</td>\n",
       "      <td>7600274.21</td>\n",
       "      <td>7764373.84</td>\n",
       "      <td>7927532.12</td>\n",
       "      <td>8169985.55</td>\n",
       "    </tr>\n",
       "    <tr>\n",
       "      <td>0,1,</td>\n",
       "      <td>3655885.41</td>\n",
       "      <td>3068061.26</td>\n",
       "      <td>0.00</td>\n",
       "      <td>0.00</td>\n",
       "      <td>0.00</td>\n",
       "    </tr>\n",
       "    <tr>\n",
       "      <td>0,2,</td>\n",
       "      <td>1631608.53</td>\n",
       "      <td>0.00</td>\n",
       "      <td>1074627.91</td>\n",
       "      <td>0.00</td>\n",
       "      <td>0.00</td>\n",
       "    </tr>\n",
       "    <tr>\n",
       "      <td>0,1,2,</td>\n",
       "      <td>1528295.34</td>\n",
       "      <td>1641129.66</td>\n",
       "      <td>1231026.10</td>\n",
       "      <td>0.00</td>\n",
       "      <td>0.00</td>\n",
       "    </tr>\n",
       "    <tr>\n",
       "      <td>0,1,2,3,</td>\n",
       "      <td>1124336.20</td>\n",
       "      <td>1288298.15</td>\n",
       "      <td>1121177.56</td>\n",
       "      <td>871183.11</td>\n",
       "      <td>0.00</td>\n",
       "    </tr>\n",
       "    <tr>\n",
       "      <td>0,3,</td>\n",
       "      <td>538437.10</td>\n",
       "      <td>0.00</td>\n",
       "      <td>0.00</td>\n",
       "      <td>611542.04</td>\n",
       "      <td>0.00</td>\n",
       "    </tr>\n",
       "    <tr>\n",
       "      <td>0,1,2,4,</td>\n",
       "      <td>482861.09</td>\n",
       "      <td>541433.60</td>\n",
       "      <td>523237.00</td>\n",
       "      <td>0.00</td>\n",
       "      <td>511597.68</td>\n",
       "    </tr>\n",
       "    <tr>\n",
       "      <td>0,1,3,</td>\n",
       "      <td>404406.92</td>\n",
       "      <td>444217.50</td>\n",
       "      <td>0.00</td>\n",
       "      <td>370153.49</td>\n",
       "      <td>0.00</td>\n",
       "    </tr>\n",
       "    <tr>\n",
       "      <td>0,4,</td>\n",
       "      <td>395075.69</td>\n",
       "      <td>0.00</td>\n",
       "      <td>0.00</td>\n",
       "      <td>0.00</td>\n",
       "      <td>532082.25</td>\n",
       "    </tr>\n",
       "    <tr>\n",
       "      <td>0,1,3,4,</td>\n",
       "      <td>335331.87</td>\n",
       "      <td>371148.57</td>\n",
       "      <td>0.00</td>\n",
       "      <td>449079.65</td>\n",
       "      <td>473806.14</td>\n",
       "    </tr>\n",
       "    <tr>\n",
       "      <td>0,1,4,</td>\n",
       "      <td>278396.70</td>\n",
       "      <td>313141.03</td>\n",
       "      <td>0.00</td>\n",
       "      <td>0.00</td>\n",
       "      <td>285465.61</td>\n",
       "    </tr>\n",
       "    <tr>\n",
       "      <td>0,2,3,4,</td>\n",
       "      <td>273684.57</td>\n",
       "      <td>0.00</td>\n",
       "      <td>390220.25</td>\n",
       "      <td>489484.41</td>\n",
       "      <td>540791.94</td>\n",
       "    </tr>\n",
       "    <tr>\n",
       "      <td>0,2,3,</td>\n",
       "      <td>246634.92</td>\n",
       "      <td>0.00</td>\n",
       "      <td>315060.81</td>\n",
       "      <td>293009.90</td>\n",
       "      <td>0.00</td>\n",
       "    </tr>\n",
       "    <tr>\n",
       "      <td>0,3,4</td>\n",
       "      <td>227617.39</td>\n",
       "      <td>0.00</td>\n",
       "      <td>0.00</td>\n",
       "      <td>386284.93</td>\n",
       "      <td>457401.21</td>\n",
       "    </tr>\n",
       "    <tr>\n",
       "      <td>0,2,4,</td>\n",
       "      <td>146542.84</td>\n",
       "      <td>0.00</td>\n",
       "      <td>167583.92</td>\n",
       "      <td>0.00</td>\n",
       "      <td>184624.84</td>\n",
       "    </tr>\n",
       "  </tbody>\n",
       "</table>\n",
       "</div>"
      ],
      "text/plain": [
       "                     amount_yr0  amount_yr1  amount_yr2  amount_yr3  \\\n",
       "cohort_gift_pattern                                                   \n",
       "0,1,2,3,4,           5209667.21  7600274.21  7764373.84  7927532.12   \n",
       "0,1,                 3655885.41  3068061.26        0.00        0.00   \n",
       "0,2,                 1631608.53        0.00  1074627.91        0.00   \n",
       "0,1,2,               1528295.34  1641129.66  1231026.10        0.00   \n",
       "0,1,2,3,             1124336.20  1288298.15  1121177.56   871183.11   \n",
       "0,3,                  538437.10        0.00        0.00   611542.04   \n",
       "0,1,2,4,              482861.09   541433.60   523237.00        0.00   \n",
       "0,1,3,                404406.92   444217.50        0.00   370153.49   \n",
       "0,4,                  395075.69        0.00        0.00        0.00   \n",
       "0,1,3,4,              335331.87   371148.57        0.00   449079.65   \n",
       "0,1,4,                278396.70   313141.03        0.00        0.00   \n",
       "0,2,3,4,              273684.57        0.00   390220.25   489484.41   \n",
       "0,2,3,                246634.92        0.00   315060.81   293009.90   \n",
       "0,3,4                 227617.39        0.00        0.00   386284.93   \n",
       "0,2,4,                146542.84        0.00   167583.92        0.00   \n",
       "\n",
       "                     amount_yr4  \n",
       "cohort_gift_pattern              \n",
       "0,1,2,3,4,           8169985.55  \n",
       "0,1,                       0.00  \n",
       "0,2,                       0.00  \n",
       "0,1,2,                     0.00  \n",
       "0,1,2,3,                   0.00  \n",
       "0,3,                       0.00  \n",
       "0,1,2,4,              511597.68  \n",
       "0,1,3,                     0.00  \n",
       "0,4,                  532082.25  \n",
       "0,1,3,4,              473806.14  \n",
       "0,1,4,                285465.61  \n",
       "0,2,3,4,              540791.94  \n",
       "0,2,3,                     0.00  \n",
       "0,3,4                 457401.21  \n",
       "0,2,4,                184624.84  "
      ]
     },
     "execution_count": 74,
     "metadata": {},
     "output_type": "execute_result"
    }
   ],
   "source": [
    "c13__repeat_yr_amounts_sorted"
   ]
  },
  {
   "cell_type": "code",
   "execution_count": 75,
   "metadata": {},
   "outputs": [],
   "source": [
    "c13_repeat_yr_amounts_transposed=c13__repeat_yr_amounts_sorted.T.reset_index()"
   ]
  },
  {
   "cell_type": "code",
   "execution_count": 76,
   "metadata": {},
   "outputs": [
    {
     "data": {
      "text/html": [
       "<div>\n",
       "<style scoped>\n",
       "    .dataframe tbody tr th:only-of-type {\n",
       "        vertical-align: middle;\n",
       "    }\n",
       "\n",
       "    .dataframe tbody tr th {\n",
       "        vertical-align: top;\n",
       "    }\n",
       "\n",
       "    .dataframe thead th {\n",
       "        text-align: right;\n",
       "    }\n",
       "</style>\n",
       "<table border=\"1\" class=\"dataframe\">\n",
       "  <thead>\n",
       "    <tr style=\"text-align: right;\">\n",
       "      <th>cohort_gift_pattern</th>\n",
       "      <th>index</th>\n",
       "      <th>0,1,2,3,4,</th>\n",
       "      <th>0,1,</th>\n",
       "      <th>0,2,</th>\n",
       "      <th>0,1,2,</th>\n",
       "      <th>0,1,2,3,</th>\n",
       "      <th>0,3,</th>\n",
       "      <th>0,1,2,4,</th>\n",
       "      <th>0,1,3,</th>\n",
       "      <th>0,4,</th>\n",
       "      <th>0,1,3,4,</th>\n",
       "      <th>0,1,4,</th>\n",
       "      <th>0,2,3,4,</th>\n",
       "      <th>0,2,3,</th>\n",
       "      <th>0,3,4</th>\n",
       "      <th>0,2,4,</th>\n",
       "    </tr>\n",
       "  </thead>\n",
       "  <tbody>\n",
       "    <tr>\n",
       "      <td>0</td>\n",
       "      <td>amount_yr0</td>\n",
       "      <td>5209667.21</td>\n",
       "      <td>3655885.41</td>\n",
       "      <td>1631608.53</td>\n",
       "      <td>1528295.34</td>\n",
       "      <td>1124336.20</td>\n",
       "      <td>538437.10</td>\n",
       "      <td>482861.09</td>\n",
       "      <td>404406.92</td>\n",
       "      <td>395075.69</td>\n",
       "      <td>335331.87</td>\n",
       "      <td>278396.70</td>\n",
       "      <td>273684.57</td>\n",
       "      <td>246634.92</td>\n",
       "      <td>227617.39</td>\n",
       "      <td>146542.84</td>\n",
       "    </tr>\n",
       "    <tr>\n",
       "      <td>1</td>\n",
       "      <td>amount_yr1</td>\n",
       "      <td>7600274.21</td>\n",
       "      <td>3068061.26</td>\n",
       "      <td>0.00</td>\n",
       "      <td>1641129.66</td>\n",
       "      <td>1288298.15</td>\n",
       "      <td>0.00</td>\n",
       "      <td>541433.60</td>\n",
       "      <td>444217.50</td>\n",
       "      <td>0.00</td>\n",
       "      <td>371148.57</td>\n",
       "      <td>313141.03</td>\n",
       "      <td>0.00</td>\n",
       "      <td>0.00</td>\n",
       "      <td>0.00</td>\n",
       "      <td>0.00</td>\n",
       "    </tr>\n",
       "    <tr>\n",
       "      <td>2</td>\n",
       "      <td>amount_yr2</td>\n",
       "      <td>7764373.84</td>\n",
       "      <td>0.00</td>\n",
       "      <td>1074627.91</td>\n",
       "      <td>1231026.10</td>\n",
       "      <td>1121177.56</td>\n",
       "      <td>0.00</td>\n",
       "      <td>523237.00</td>\n",
       "      <td>0.00</td>\n",
       "      <td>0.00</td>\n",
       "      <td>0.00</td>\n",
       "      <td>0.00</td>\n",
       "      <td>390220.25</td>\n",
       "      <td>315060.81</td>\n",
       "      <td>0.00</td>\n",
       "      <td>167583.92</td>\n",
       "    </tr>\n",
       "    <tr>\n",
       "      <td>3</td>\n",
       "      <td>amount_yr3</td>\n",
       "      <td>7927532.12</td>\n",
       "      <td>0.00</td>\n",
       "      <td>0.00</td>\n",
       "      <td>0.00</td>\n",
       "      <td>871183.11</td>\n",
       "      <td>611542.04</td>\n",
       "      <td>0.00</td>\n",
       "      <td>370153.49</td>\n",
       "      <td>0.00</td>\n",
       "      <td>449079.65</td>\n",
       "      <td>0.00</td>\n",
       "      <td>489484.41</td>\n",
       "      <td>293009.90</td>\n",
       "      <td>386284.93</td>\n",
       "      <td>0.00</td>\n",
       "    </tr>\n",
       "    <tr>\n",
       "      <td>4</td>\n",
       "      <td>amount_yr4</td>\n",
       "      <td>8169985.55</td>\n",
       "      <td>0.00</td>\n",
       "      <td>0.00</td>\n",
       "      <td>0.00</td>\n",
       "      <td>0.00</td>\n",
       "      <td>0.00</td>\n",
       "      <td>511597.68</td>\n",
       "      <td>0.00</td>\n",
       "      <td>532082.25</td>\n",
       "      <td>473806.14</td>\n",
       "      <td>285465.61</td>\n",
       "      <td>540791.94</td>\n",
       "      <td>0.00</td>\n",
       "      <td>457401.21</td>\n",
       "      <td>184624.84</td>\n",
       "    </tr>\n",
       "  </tbody>\n",
       "</table>\n",
       "</div>"
      ],
      "text/plain": [
       "cohort_gift_pattern       index  0,1,2,3,4,        0,1,        0,2,  \\\n",
       "0                    amount_yr0  5209667.21  3655885.41  1631608.53   \n",
       "1                    amount_yr1  7600274.21  3068061.26        0.00   \n",
       "2                    amount_yr2  7764373.84        0.00  1074627.91   \n",
       "3                    amount_yr3  7927532.12        0.00        0.00   \n",
       "4                    amount_yr4  8169985.55        0.00        0.00   \n",
       "\n",
       "cohort_gift_pattern      0,1,2,    0,1,2,3,       0,3,   0,1,2,4,     0,1,3,  \\\n",
       "0                    1528295.34  1124336.20  538437.10  482861.09  404406.92   \n",
       "1                    1641129.66  1288298.15       0.00  541433.60  444217.50   \n",
       "2                    1231026.10  1121177.56       0.00  523237.00       0.00   \n",
       "3                          0.00   871183.11  611542.04       0.00  370153.49   \n",
       "4                          0.00        0.00       0.00  511597.68       0.00   \n",
       "\n",
       "cohort_gift_pattern       0,4,   0,1,3,4,     0,1,4,   0,2,3,4,     0,2,3,  \\\n",
       "0                    395075.69  335331.87  278396.70  273684.57  246634.92   \n",
       "1                         0.00  371148.57  313141.03       0.00       0.00   \n",
       "2                         0.00       0.00       0.00  390220.25  315060.81   \n",
       "3                         0.00  449079.65       0.00  489484.41  293009.90   \n",
       "4                    532082.25  473806.14  285465.61  540791.94       0.00   \n",
       "\n",
       "cohort_gift_pattern      0,3,4     0,2,4,  \n",
       "0                    227617.39  146542.84  \n",
       "1                         0.00       0.00  \n",
       "2                         0.00  167583.92  \n",
       "3                    386284.93       0.00  \n",
       "4                    457401.21  184624.84  "
      ]
     },
     "execution_count": 76,
     "metadata": {},
     "output_type": "execute_result"
    }
   ],
   "source": [
    "c13_repeat_yr_amounts_transposed"
   ]
  },
  {
   "cell_type": "code",
   "execution_count": 36,
   "metadata": {},
   "outputs": [],
   "source": [
    "c13_repeat_yr_amounts_transposed.to_csv('c13_repeat.csv')"
   ]
  },
  {
   "cell_type": "code",
   "execution_count": 10,
   "metadata": {},
   "outputs": [],
   "source": [
    "cgp_amounts_by_year=donations_13to17.groupby('cohort_gift_pattern').sum().round(0)"
   ]
  },
  {
   "cell_type": "code",
   "execution_count": 11,
   "metadata": {},
   "outputs": [
    {
     "data": {
      "text/html": [
       "<div>\n",
       "<style scoped>\n",
       "    .dataframe tbody tr th:only-of-type {\n",
       "        vertical-align: middle;\n",
       "    }\n",
       "\n",
       "    .dataframe tbody tr th {\n",
       "        vertical-align: top;\n",
       "    }\n",
       "\n",
       "    .dataframe thead th {\n",
       "        text-align: right;\n",
       "    }\n",
       "</style>\n",
       "<table border=\"1\" class=\"dataframe\">\n",
       "  <thead>\n",
       "    <tr style=\"text-align: right;\">\n",
       "      <th></th>\n",
       "      <th>lapsed_count</th>\n",
       "      <th>recovered_count</th>\n",
       "      <th>max_consec_giving_years</th>\n",
       "      <th>total_giving_years</th>\n",
       "      <th>count_2013</th>\n",
       "      <th>count_2014</th>\n",
       "      <th>count_2015</th>\n",
       "      <th>count_2016</th>\n",
       "      <th>count_2017</th>\n",
       "      <th>count_yr0</th>\n",
       "      <th>...</th>\n",
       "      <th>amount_09_yr4</th>\n",
       "      <th>amount_10_yr4</th>\n",
       "      <th>amount_11_yr4</th>\n",
       "      <th>amount_12_yr4</th>\n",
       "      <th>years_donated</th>\n",
       "      <th>perc_years_donated</th>\n",
       "      <th>gainloss_2014_amt</th>\n",
       "      <th>gainloss_2015_amt</th>\n",
       "      <th>gainloss_2016_amt</th>\n",
       "      <th>gainloss_2017_amt</th>\n",
       "    </tr>\n",
       "    <tr>\n",
       "      <th>cohort_gift_pattern</th>\n",
       "      <th></th>\n",
       "      <th></th>\n",
       "      <th></th>\n",
       "      <th></th>\n",
       "      <th></th>\n",
       "      <th></th>\n",
       "      <th></th>\n",
       "      <th></th>\n",
       "      <th></th>\n",
       "      <th></th>\n",
       "      <th></th>\n",
       "      <th></th>\n",
       "      <th></th>\n",
       "      <th></th>\n",
       "      <th></th>\n",
       "      <th></th>\n",
       "      <th></th>\n",
       "      <th></th>\n",
       "      <th></th>\n",
       "      <th></th>\n",
       "      <th></th>\n",
       "    </tr>\n",
       "  </thead>\n",
       "  <tbody>\n",
       "    <tr>\n",
       "      <td>0,</td>\n",
       "      <td>3098595</td>\n",
       "      <td>1549962</td>\n",
       "      <td>1548633</td>\n",
       "      <td>1549962</td>\n",
       "      <td>281367</td>\n",
       "      <td>299265</td>\n",
       "      <td>343664</td>\n",
       "      <td>459121</td>\n",
       "      <td>568125</td>\n",
       "      <td>1951542</td>\n",
       "      <td>...</td>\n",
       "      <td>0.0</td>\n",
       "      <td>0.0</td>\n",
       "      <td>0.0</td>\n",
       "      <td>0.0</td>\n",
       "      <td>1548633.0</td>\n",
       "      <td>309727.0</td>\n",
       "      <td>3048131.0</td>\n",
       "      <td>4328384.0</td>\n",
       "      <td>5668762.0</td>\n",
       "      <td>4694485.0</td>\n",
       "    </tr>\n",
       "    <tr>\n",
       "      <td>0,1,</td>\n",
       "      <td>456431</td>\n",
       "      <td>324435</td>\n",
       "      <td>323972</td>\n",
       "      <td>324435</td>\n",
       "      <td>64748</td>\n",
       "      <td>102879</td>\n",
       "      <td>90901</td>\n",
       "      <td>133044</td>\n",
       "      <td>189491</td>\n",
       "      <td>351904</td>\n",
       "      <td>...</td>\n",
       "      <td>0.0</td>\n",
       "      <td>0.0</td>\n",
       "      <td>0.0</td>\n",
       "      <td>0.0</td>\n",
       "      <td>293982.0</td>\n",
       "      <td>58796.0</td>\n",
       "      <td>2359743.0</td>\n",
       "      <td>-109154.0</td>\n",
       "      <td>3054899.0</td>\n",
       "      <td>3128162.0</td>\n",
       "    </tr>\n",
       "    <tr>\n",
       "      <td>0,1,2,</td>\n",
       "      <td>140591</td>\n",
       "      <td>113292</td>\n",
       "      <td>112902</td>\n",
       "      <td>113292</td>\n",
       "      <td>26455</td>\n",
       "      <td>47275</td>\n",
       "      <td>63866</td>\n",
       "      <td>83705</td>\n",
       "      <td>113547</td>\n",
       "      <td>111388</td>\n",
       "      <td>...</td>\n",
       "      <td>0.0</td>\n",
       "      <td>0.0</td>\n",
       "      <td>0.0</td>\n",
       "      <td>0.0</td>\n",
       "      <td>102567.0</td>\n",
       "      <td>20513.0</td>\n",
       "      <td>1159993.0</td>\n",
       "      <td>1782759.0</td>\n",
       "      <td>1629577.0</td>\n",
       "      <td>570730.0</td>\n",
       "    </tr>\n",
       "    <tr>\n",
       "      <td>0,1,2,3,</td>\n",
       "      <td>64821</td>\n",
       "      <td>55638</td>\n",
       "      <td>55120</td>\n",
       "      <td>55638</td>\n",
       "      <td>18751</td>\n",
       "      <td>42476</td>\n",
       "      <td>56388</td>\n",
       "      <td>62173</td>\n",
       "      <td>59272</td>\n",
       "      <td>56259</td>\n",
       "      <td>...</td>\n",
       "      <td>85004.0</td>\n",
       "      <td>87641.0</td>\n",
       "      <td>90884.0</td>\n",
       "      <td>184248.0</td>\n",
       "      <td>50523.0</td>\n",
       "      <td>10105.0</td>\n",
       "      <td>1179434.0</td>\n",
       "      <td>1540043.0</td>\n",
       "      <td>1002654.0</td>\n",
       "      <td>-167834.0</td>\n",
       "    </tr>\n",
       "    <tr>\n",
       "      <td>0,1,2,3,4,</td>\n",
       "      <td>75368</td>\n",
       "      <td>70602</td>\n",
       "      <td>70602</td>\n",
       "      <td>70602</td>\n",
       "      <td>106045</td>\n",
       "      <td>172913</td>\n",
       "      <td>149410</td>\n",
       "      <td>142888</td>\n",
       "      <td>153180</td>\n",
       "      <td>127894</td>\n",
       "      <td>...</td>\n",
       "      <td>976480.0</td>\n",
       "      <td>977065.0</td>\n",
       "      <td>1138521.0</td>\n",
       "      <td>1550381.0</td>\n",
       "      <td>62270.0</td>\n",
       "      <td>12454.0</td>\n",
       "      <td>3403146.0</td>\n",
       "      <td>840729.0</td>\n",
       "      <td>794481.0</td>\n",
       "      <td>468917.0</td>\n",
       "    </tr>\n",
       "    <tr>\n",
       "      <td>0,1,2,4,</td>\n",
       "      <td>17162</td>\n",
       "      <td>12421</td>\n",
       "      <td>8895</td>\n",
       "      <td>12421</td>\n",
       "      <td>10972</td>\n",
       "      <td>12195</td>\n",
       "      <td>8673</td>\n",
       "      <td>1467</td>\n",
       "      <td>6532</td>\n",
       "      <td>12650</td>\n",
       "      <td>...</td>\n",
       "      <td>51488.0</td>\n",
       "      <td>39112.0</td>\n",
       "      <td>63446.0</td>\n",
       "      <td>109492.0</td>\n",
       "      <td>11232.0</td>\n",
       "      <td>2246.0</td>\n",
       "      <td>139058.0</td>\n",
       "      <td>16889.0</td>\n",
       "      <td>-533945.0</td>\n",
       "      <td>406734.0</td>\n",
       "    </tr>\n",
       "    <tr>\n",
       "      <td>0,1,3,</td>\n",
       "      <td>39122</td>\n",
       "      <td>24595</td>\n",
       "      <td>16264</td>\n",
       "      <td>24595</td>\n",
       "      <td>6844</td>\n",
       "      <td>13560</td>\n",
       "      <td>10704</td>\n",
       "      <td>8209</td>\n",
       "      <td>6029</td>\n",
       "      <td>17691</td>\n",
       "      <td>...</td>\n",
       "      <td>48118.0</td>\n",
       "      <td>30768.0</td>\n",
       "      <td>32473.0</td>\n",
       "      <td>69327.0</td>\n",
       "      <td>22659.0</td>\n",
       "      <td>4532.0</td>\n",
       "      <td>492193.0</td>\n",
       "      <td>-217654.0</td>\n",
       "      <td>-82836.0</td>\n",
       "      <td>-177706.0</td>\n",
       "    </tr>\n",
       "    <tr>\n",
       "      <td>0,1,3,4,</td>\n",
       "      <td>16037</td>\n",
       "      <td>11830</td>\n",
       "      <td>6200</td>\n",
       "      <td>11830</td>\n",
       "      <td>5221</td>\n",
       "      <td>8010</td>\n",
       "      <td>2292</td>\n",
       "      <td>5243</td>\n",
       "      <td>10504</td>\n",
       "      <td>7792</td>\n",
       "      <td>...</td>\n",
       "      <td>68853.0</td>\n",
       "      <td>51098.0</td>\n",
       "      <td>65495.0</td>\n",
       "      <td>135615.0</td>\n",
       "      <td>10407.0</td>\n",
       "      <td>2081.0</td>\n",
       "      <td>171550.0</td>\n",
       "      <td>-372547.0</td>\n",
       "      <td>314744.0</td>\n",
       "      <td>217226.0</td>\n",
       "    </tr>\n",
       "    <tr>\n",
       "      <td>0,1,4,</td>\n",
       "      <td>14168</td>\n",
       "      <td>9350</td>\n",
       "      <td>5986</td>\n",
       "      <td>9350</td>\n",
       "      <td>6416</td>\n",
       "      <td>6798</td>\n",
       "      <td>1454</td>\n",
       "      <td>0</td>\n",
       "      <td>4562</td>\n",
       "      <td>8261</td>\n",
       "      <td>...</td>\n",
       "      <td>29616.0</td>\n",
       "      <td>22493.0</td>\n",
       "      <td>34206.0</td>\n",
       "      <td>44464.0</td>\n",
       "      <td>8182.0</td>\n",
       "      <td>1636.0</td>\n",
       "      <td>132987.0</td>\n",
       "      <td>-321880.0</td>\n",
       "      <td>-89504.0</td>\n",
       "      <td>285466.0</td>\n",
       "    </tr>\n",
       "    <tr>\n",
       "      <td>0,2,</td>\n",
       "      <td>169520</td>\n",
       "      <td>89056</td>\n",
       "      <td>44401</td>\n",
       "      <td>89056</td>\n",
       "      <td>15530</td>\n",
       "      <td>16513</td>\n",
       "      <td>34723</td>\n",
       "      <td>27873</td>\n",
       "      <td>21402</td>\n",
       "      <td>65682</td>\n",
       "      <td>...</td>\n",
       "      <td>0.0</td>\n",
       "      <td>0.0</td>\n",
       "      <td>0.0</td>\n",
       "      <td>0.0</td>\n",
       "      <td>80464.0</td>\n",
       "      <td>16093.0</td>\n",
       "      <td>-640987.0</td>\n",
       "      <td>1495812.0</td>\n",
       "      <td>-641374.0</td>\n",
       "      <td>-426945.0</td>\n",
       "    </tr>\n",
       "    <tr>\n",
       "      <td>0,2,3,</td>\n",
       "      <td>36196</td>\n",
       "      <td>23059</td>\n",
       "      <td>15252</td>\n",
       "      <td>23059</td>\n",
       "      <td>3985</td>\n",
       "      <td>5281</td>\n",
       "      <td>8063</td>\n",
       "      <td>9764</td>\n",
       "      <td>12396</td>\n",
       "      <td>13189</td>\n",
       "      <td>...</td>\n",
       "      <td>42288.0</td>\n",
       "      <td>32237.0</td>\n",
       "      <td>31783.0</td>\n",
       "      <td>63852.0</td>\n",
       "      <td>20763.0</td>\n",
       "      <td>4153.0</td>\n",
       "      <td>87845.0</td>\n",
       "      <td>243964.0</td>\n",
       "      <td>175929.0</td>\n",
       "      <td>106654.0</td>\n",
       "    </tr>\n",
       "    <tr>\n",
       "      <td>0,2,3,4,</td>\n",
       "      <td>15573</td>\n",
       "      <td>11546</td>\n",
       "      <td>8811</td>\n",
       "      <td>11546</td>\n",
       "      <td>3968</td>\n",
       "      <td>1997</td>\n",
       "      <td>4913</td>\n",
       "      <td>9020</td>\n",
       "      <td>11418</td>\n",
       "      <td>5965</td>\n",
       "      <td>...</td>\n",
       "      <td>69420.0</td>\n",
       "      <td>90822.0</td>\n",
       "      <td>85210.0</td>\n",
       "      <td>125562.0</td>\n",
       "      <td>10103.0</td>\n",
       "      <td>2021.0</td>\n",
       "      <td>-153425.0</td>\n",
       "      <td>269960.0</td>\n",
       "      <td>298440.0</td>\n",
       "      <td>162073.0</td>\n",
       "    </tr>\n",
       "    <tr>\n",
       "      <td>0,2,4,</td>\n",
       "      <td>11628</td>\n",
       "      <td>6386</td>\n",
       "      <td>2316</td>\n",
       "      <td>6386</td>\n",
       "      <td>2475</td>\n",
       "      <td>1020</td>\n",
       "      <td>2503</td>\n",
       "      <td>943</td>\n",
       "      <td>2766</td>\n",
       "      <td>3495</td>\n",
       "      <td>...</td>\n",
       "      <td>15876.0</td>\n",
       "      <td>17099.0</td>\n",
       "      <td>17584.0</td>\n",
       "      <td>27018.0</td>\n",
       "      <td>5523.0</td>\n",
       "      <td>1105.0</td>\n",
       "      <td>-80946.0</td>\n",
       "      <td>101987.0</td>\n",
       "      <td>-91562.0</td>\n",
       "      <td>108603.0</td>\n",
       "    </tr>\n",
       "    <tr>\n",
       "      <td>0,3,</td>\n",
       "      <td>67239</td>\n",
       "      <td>35544</td>\n",
       "      <td>17615</td>\n",
       "      <td>35544</td>\n",
       "      <td>9340</td>\n",
       "      <td>10523</td>\n",
       "      <td>5081</td>\n",
       "      <td>8946</td>\n",
       "      <td>10671</td>\n",
       "      <td>24944</td>\n",
       "      <td>...</td>\n",
       "      <td>73092.0</td>\n",
       "      <td>60172.0</td>\n",
       "      <td>57294.0</td>\n",
       "      <td>86807.0</td>\n",
       "      <td>31695.0</td>\n",
       "      <td>6339.0</td>\n",
       "      <td>90683.0</td>\n",
       "      <td>-297688.0</td>\n",
       "      <td>280109.0</td>\n",
       "      <td>69771.0</td>\n",
       "    </tr>\n",
       "    <tr>\n",
       "      <td>0,3,4</td>\n",
       "      <td>14627</td>\n",
       "      <td>9779</td>\n",
       "      <td>6671</td>\n",
       "      <td>9779</td>\n",
       "      <td>3783</td>\n",
       "      <td>1504</td>\n",
       "      <td>0</td>\n",
       "      <td>4520</td>\n",
       "      <td>12268</td>\n",
       "      <td>5287</td>\n",
       "      <td>...</td>\n",
       "      <td>50306.0</td>\n",
       "      <td>59957.0</td>\n",
       "      <td>57650.0</td>\n",
       "      <td>86880.0</td>\n",
       "      <td>8411.0</td>\n",
       "      <td>1682.0</td>\n",
       "      <td>-124968.0</td>\n",
       "      <td>-102650.0</td>\n",
       "      <td>386285.0</td>\n",
       "      <td>243123.0</td>\n",
       "    </tr>\n",
       "    <tr>\n",
       "      <td>0,4,</td>\n",
       "      <td>25746</td>\n",
       "      <td>14326</td>\n",
       "      <td>7414</td>\n",
       "      <td>14326</td>\n",
       "      <td>7167</td>\n",
       "      <td>2760</td>\n",
       "      <td>0</td>\n",
       "      <td>0</td>\n",
       "      <td>8113</td>\n",
       "      <td>9927</td>\n",
       "      <td>...</td>\n",
       "      <td>52978.0</td>\n",
       "      <td>53569.0</td>\n",
       "      <td>45915.0</td>\n",
       "      <td>91385.0</td>\n",
       "      <td>11922.0</td>\n",
       "      <td>2384.0</td>\n",
       "      <td>-234216.0</td>\n",
       "      <td>-160860.0</td>\n",
       "      <td>0.0</td>\n",
       "      <td>532082.0</td>\n",
       "    </tr>\n",
       "  </tbody>\n",
       "</table>\n",
       "<p>16 rows × 184 columns</p>\n",
       "</div>"
      ],
      "text/plain": [
       "                     lapsed_count  recovered_count  max_consec_giving_years  \\\n",
       "cohort_gift_pattern                                                           \n",
       "0,                        3098595          1549962                  1548633   \n",
       "0,1,                       456431           324435                   323972   \n",
       "0,1,2,                     140591           113292                   112902   \n",
       "0,1,2,3,                    64821            55638                    55120   \n",
       "0,1,2,3,4,                  75368            70602                    70602   \n",
       "0,1,2,4,                    17162            12421                     8895   \n",
       "0,1,3,                      39122            24595                    16264   \n",
       "0,1,3,4,                    16037            11830                     6200   \n",
       "0,1,4,                      14168             9350                     5986   \n",
       "0,2,                       169520            89056                    44401   \n",
       "0,2,3,                      36196            23059                    15252   \n",
       "0,2,3,4,                    15573            11546                     8811   \n",
       "0,2,4,                      11628             6386                     2316   \n",
       "0,3,                        67239            35544                    17615   \n",
       "0,3,4                       14627             9779                     6671   \n",
       "0,4,                        25746            14326                     7414   \n",
       "\n",
       "                     total_giving_years  count_2013  count_2014  count_2015  \\\n",
       "cohort_gift_pattern                                                           \n",
       "0,                              1549962      281367      299265      343664   \n",
       "0,1,                             324435       64748      102879       90901   \n",
       "0,1,2,                           113292       26455       47275       63866   \n",
       "0,1,2,3,                          55638       18751       42476       56388   \n",
       "0,1,2,3,4,                        70602      106045      172913      149410   \n",
       "0,1,2,4,                          12421       10972       12195        8673   \n",
       "0,1,3,                            24595        6844       13560       10704   \n",
       "0,1,3,4,                          11830        5221        8010        2292   \n",
       "0,1,4,                             9350        6416        6798        1454   \n",
       "0,2,                              89056       15530       16513       34723   \n",
       "0,2,3,                            23059        3985        5281        8063   \n",
       "0,2,3,4,                          11546        3968        1997        4913   \n",
       "0,2,4,                             6386        2475        1020        2503   \n",
       "0,3,                              35544        9340       10523        5081   \n",
       "0,3,4                              9779        3783        1504           0   \n",
       "0,4,                              14326        7167        2760           0   \n",
       "\n",
       "                     count_2016  count_2017  count_yr0  ...  amount_09_yr4  \\\n",
       "cohort_gift_pattern                                     ...                  \n",
       "0,                       459121      568125    1951542  ...            0.0   \n",
       "0,1,                     133044      189491     351904  ...            0.0   \n",
       "0,1,2,                    83705      113547     111388  ...            0.0   \n",
       "0,1,2,3,                  62173       59272      56259  ...        85004.0   \n",
       "0,1,2,3,4,               142888      153180     127894  ...       976480.0   \n",
       "0,1,2,4,                   1467        6532      12650  ...        51488.0   \n",
       "0,1,3,                     8209        6029      17691  ...        48118.0   \n",
       "0,1,3,4,                   5243       10504       7792  ...        68853.0   \n",
       "0,1,4,                        0        4562       8261  ...        29616.0   \n",
       "0,2,                      27873       21402      65682  ...            0.0   \n",
       "0,2,3,                     9764       12396      13189  ...        42288.0   \n",
       "0,2,3,4,                   9020       11418       5965  ...        69420.0   \n",
       "0,2,4,                      943        2766       3495  ...        15876.0   \n",
       "0,3,                       8946       10671      24944  ...        73092.0   \n",
       "0,3,4                      4520       12268       5287  ...        50306.0   \n",
       "0,4,                          0        8113       9927  ...        52978.0   \n",
       "\n",
       "                     amount_10_yr4  amount_11_yr4  amount_12_yr4  \\\n",
       "cohort_gift_pattern                                                \n",
       "0,                             0.0            0.0            0.0   \n",
       "0,1,                           0.0            0.0            0.0   \n",
       "0,1,2,                         0.0            0.0            0.0   \n",
       "0,1,2,3,                   87641.0        90884.0       184248.0   \n",
       "0,1,2,3,4,                977065.0      1138521.0      1550381.0   \n",
       "0,1,2,4,                   39112.0        63446.0       109492.0   \n",
       "0,1,3,                     30768.0        32473.0        69327.0   \n",
       "0,1,3,4,                   51098.0        65495.0       135615.0   \n",
       "0,1,4,                     22493.0        34206.0        44464.0   \n",
       "0,2,                           0.0            0.0            0.0   \n",
       "0,2,3,                     32237.0        31783.0        63852.0   \n",
       "0,2,3,4,                   90822.0        85210.0       125562.0   \n",
       "0,2,4,                     17099.0        17584.0        27018.0   \n",
       "0,3,                       60172.0        57294.0        86807.0   \n",
       "0,3,4                      59957.0        57650.0        86880.0   \n",
       "0,4,                       53569.0        45915.0        91385.0   \n",
       "\n",
       "                     years_donated  perc_years_donated  gainloss_2014_amt  \\\n",
       "cohort_gift_pattern                                                         \n",
       "0,                       1548633.0            309727.0          3048131.0   \n",
       "0,1,                      293982.0             58796.0          2359743.0   \n",
       "0,1,2,                    102567.0             20513.0          1159993.0   \n",
       "0,1,2,3,                   50523.0             10105.0          1179434.0   \n",
       "0,1,2,3,4,                 62270.0             12454.0          3403146.0   \n",
       "0,1,2,4,                   11232.0              2246.0           139058.0   \n",
       "0,1,3,                     22659.0              4532.0           492193.0   \n",
       "0,1,3,4,                   10407.0              2081.0           171550.0   \n",
       "0,1,4,                      8182.0              1636.0           132987.0   \n",
       "0,2,                       80464.0             16093.0          -640987.0   \n",
       "0,2,3,                     20763.0              4153.0            87845.0   \n",
       "0,2,3,4,                   10103.0              2021.0          -153425.0   \n",
       "0,2,4,                      5523.0              1105.0           -80946.0   \n",
       "0,3,                       31695.0              6339.0            90683.0   \n",
       "0,3,4                       8411.0              1682.0          -124968.0   \n",
       "0,4,                       11922.0              2384.0          -234216.0   \n",
       "\n",
       "                     gainloss_2015_amt  gainloss_2016_amt  gainloss_2017_amt  \n",
       "cohort_gift_pattern                                                           \n",
       "0,                           4328384.0          5668762.0          4694485.0  \n",
       "0,1,                         -109154.0          3054899.0          3128162.0  \n",
       "0,1,2,                       1782759.0          1629577.0           570730.0  \n",
       "0,1,2,3,                     1540043.0          1002654.0          -167834.0  \n",
       "0,1,2,3,4,                    840729.0           794481.0           468917.0  \n",
       "0,1,2,4,                       16889.0          -533945.0           406734.0  \n",
       "0,1,3,                       -217654.0           -82836.0          -177706.0  \n",
       "0,1,3,4,                     -372547.0           314744.0           217226.0  \n",
       "0,1,4,                       -321880.0           -89504.0           285466.0  \n",
       "0,2,                         1495812.0          -641374.0          -426945.0  \n",
       "0,2,3,                        243964.0           175929.0           106654.0  \n",
       "0,2,3,4,                      269960.0           298440.0           162073.0  \n",
       "0,2,4,                        101987.0           -91562.0           108603.0  \n",
       "0,3,                         -297688.0           280109.0            69771.0  \n",
       "0,3,4                        -102650.0           386285.0           243123.0  \n",
       "0,4,                         -160860.0                0.0           532082.0  \n",
       "\n",
       "[16 rows x 184 columns]"
      ]
     },
     "execution_count": 11,
     "metadata": {},
     "output_type": "execute_result"
    }
   ],
   "source": [
    "cgp_amounts_by_year"
   ]
  },
  {
   "cell_type": "code",
   "execution_count": null,
   "metadata": {},
   "outputs": [],
   "source": [
    "cgp_amounts_by_year.columns"
   ]
  },
  {
   "cell_type": "code",
   "execution_count": null,
   "metadata": {},
   "outputs": [],
   "source": [
    "cgp_amounts_by_year1=cgp_amounts_by_year[['amount_yr0','amount_yr1','amount_yr2','amount_yr3','amount_yr4']]"
   ]
  },
  {
   "cell_type": "code",
   "execution_count": null,
   "metadata": {},
   "outputs": [],
   "source": [
    "cgp_amounts_by_year1"
   ]
  },
  {
   "cell_type": "code",
   "execution_count": null,
   "metadata": {},
   "outputs": [],
   "source": [
    "cgp_amounts_by_year1_transposed=cgp_amounts_by_year1.T.reset_index()"
   ]
  },
  {
   "cell_type": "code",
   "execution_count": null,
   "metadata": {},
   "outputs": [],
   "source": [
    "cgp_counts_by_year1=cgp_amounts_by_year[['count_yr0', 'count_yr1', 'count_yr2', 'count_yr3', 'count_yr4']]"
   ]
  },
  {
   "cell_type": "code",
   "execution_count": null,
   "metadata": {},
   "outputs": [],
   "source": [
    "cgp_counts_by_year1_transposed=cgp_counts_by_year1.T.reset_index()"
   ]
  },
  {
   "cell_type": "code",
   "execution_count": null,
   "metadata": {},
   "outputs": [],
   "source": [
    "cgp_counts_by_year1"
   ]
  },
  {
   "cell_type": "code",
   "execution_count": 77,
   "metadata": {},
   "outputs": [
    {
     "data": {
      "application/vnd.plotly.v1+json": {
       "config": {
        "plotlyServerURL": "https://plot.ly"
       },
       "data": [
        {
         "alignmentgroup": "True",
         "hovertemplate": "variable=0,1,<br>year=%{x}<br>value=%{y}<extra></extra>",
         "legendgroup": "0,1,",
         "marker": {
          "color": "#636efa"
         },
         "name": "0,1,",
         "offsetgroup": "0,1,",
         "orientation": "v",
         "showlegend": true,
         "textposition": "auto",
         "type": "bar",
         "x": [
          "amount_yr0",
          "amount_yr1",
          "amount_yr2",
          "amount_yr3",
          "amount_yr4"
         ],
         "xaxis": "x",
         "y": [
          3655885.410000013,
          3068061.260000003,
          0,
          0,
          0
         ],
         "yaxis": "y"
        },
        {
         "alignmentgroup": "True",
         "hovertemplate": "variable=0,1,2,<br>year=%{x}<br>value=%{y}<extra></extra>",
         "legendgroup": "0,1,2,",
         "marker": {
          "color": "#EF553B"
         },
         "name": "0,1,2,",
         "offsetgroup": "0,1,2,",
         "orientation": "v",
         "showlegend": true,
         "textposition": "auto",
         "type": "bar",
         "x": [
          "amount_yr0",
          "amount_yr1",
          "amount_yr2",
          "amount_yr3",
          "amount_yr4"
         ],
         "xaxis": "x",
         "y": [
          1528295.3399999985,
          1641129.6600000027,
          1231026.0999999957,
          0,
          0
         ],
         "yaxis": "y"
        },
        {
         "alignmentgroup": "True",
         "hovertemplate": "variable=0,1,2,3,<br>year=%{x}<br>value=%{y}<extra></extra>",
         "legendgroup": "0,1,2,3,",
         "marker": {
          "color": "#00cc96"
         },
         "name": "0,1,2,3,",
         "offsetgroup": "0,1,2,3,",
         "orientation": "v",
         "showlegend": true,
         "textposition": "auto",
         "type": "bar",
         "x": [
          "amount_yr0",
          "amount_yr1",
          "amount_yr2",
          "amount_yr3",
          "amount_yr4"
         ],
         "xaxis": "x",
         "y": [
          1124336.2,
          1288298.1500000001,
          1121177.559999997,
          871183.1099999995,
          0
         ],
         "yaxis": "y"
        },
        {
         "alignmentgroup": "True",
         "hovertemplate": "variable=0,1,2,3,4,<br>year=%{x}<br>value=%{y}<extra></extra>",
         "legendgroup": "0,1,2,3,4,",
         "marker": {
          "color": "#ab63fa"
         },
         "name": "0,1,2,3,4,",
         "offsetgroup": "0,1,2,3,4,",
         "orientation": "v",
         "showlegend": true,
         "textposition": "auto",
         "type": "bar",
         "x": [
          "amount_yr0",
          "amount_yr1",
          "amount_yr2",
          "amount_yr3",
          "amount_yr4"
         ],
         "xaxis": "x",
         "y": [
          5209667.210000017,
          7600274.2100000335,
          7764373.84000004,
          7927532.119999972,
          8169985.55000005
         ],
         "yaxis": "y"
        },
        {
         "alignmentgroup": "True",
         "hovertemplate": "variable=0,1,2,4,<br>year=%{x}<br>value=%{y}<extra></extra>",
         "legendgroup": "0,1,2,4,",
         "marker": {
          "color": "#FFA15A"
         },
         "name": "0,1,2,4,",
         "offsetgroup": "0,1,2,4,",
         "orientation": "v",
         "showlegend": true,
         "textposition": "auto",
         "type": "bar",
         "x": [
          "amount_yr0",
          "amount_yr1",
          "amount_yr2",
          "amount_yr3",
          "amount_yr4"
         ],
         "xaxis": "x",
         "y": [
          482861.08999999985,
          541433.6,
          523237.0000000006,
          0,
          511597.6800000003
         ],
         "yaxis": "y"
        },
        {
         "alignmentgroup": "True",
         "hovertemplate": "variable=0,1,3,<br>year=%{x}<br>value=%{y}<extra></extra>",
         "legendgroup": "0,1,3,",
         "marker": {
          "color": "#19d3f3"
         },
         "name": "0,1,3,",
         "offsetgroup": "0,1,3,",
         "orientation": "v",
         "showlegend": true,
         "textposition": "auto",
         "type": "bar",
         "x": [
          "amount_yr0",
          "amount_yr1",
          "amount_yr2",
          "amount_yr3",
          "amount_yr4"
         ],
         "xaxis": "x",
         "y": [
          404406.91999999987,
          444217.5000000002,
          0,
          370153.4900000001,
          0
         ],
         "yaxis": "y"
        },
        {
         "alignmentgroup": "True",
         "hovertemplate": "variable=0,1,3,4,<br>year=%{x}<br>value=%{y}<extra></extra>",
         "legendgroup": "0,1,3,4,",
         "marker": {
          "color": "#FF6692"
         },
         "name": "0,1,3,4,",
         "offsetgroup": "0,1,3,4,",
         "orientation": "v",
         "showlegend": true,
         "textposition": "auto",
         "type": "bar",
         "x": [
          "amount_yr0",
          "amount_yr1",
          "amount_yr2",
          "amount_yr3",
          "amount_yr4"
         ],
         "xaxis": "x",
         "y": [
          335331.86999999994,
          371148.5700000002,
          0,
          449079.65,
          473806.1399999999
         ],
         "yaxis": "y"
        },
        {
         "alignmentgroup": "True",
         "hovertemplate": "variable=0,1,4,<br>year=%{x}<br>value=%{y}<extra></extra>",
         "legendgroup": "0,1,4,",
         "marker": {
          "color": "#B6E880"
         },
         "name": "0,1,4,",
         "offsetgroup": "0,1,4,",
         "orientation": "v",
         "showlegend": true,
         "textposition": "auto",
         "type": "bar",
         "x": [
          "amount_yr0",
          "amount_yr1",
          "amount_yr2",
          "amount_yr3",
          "amount_yr4"
         ],
         "xaxis": "x",
         "y": [
          278396.7,
          313141.02999999997,
          0,
          0,
          285465.6099999999
         ],
         "yaxis": "y"
        },
        {
         "alignmentgroup": "True",
         "hovertemplate": "variable=0,2,<br>year=%{x}<br>value=%{y}<extra></extra>",
         "legendgroup": "0,2,",
         "marker": {
          "color": "#FF97FF"
         },
         "name": "0,2,",
         "offsetgroup": "0,2,",
         "orientation": "v",
         "showlegend": true,
         "textposition": "auto",
         "type": "bar",
         "x": [
          "amount_yr0",
          "amount_yr1",
          "amount_yr2",
          "amount_yr3",
          "amount_yr4"
         ],
         "xaxis": "x",
         "y": [
          1631608.529999998,
          0,
          1074627.9100000001,
          0,
          0
         ],
         "yaxis": "y"
        },
        {
         "alignmentgroup": "True",
         "hovertemplate": "variable=0,2,3,<br>year=%{x}<br>value=%{y}<extra></extra>",
         "legendgroup": "0,2,3,",
         "marker": {
          "color": "#FECB52"
         },
         "name": "0,2,3,",
         "offsetgroup": "0,2,3,",
         "orientation": "v",
         "showlegend": true,
         "textposition": "auto",
         "type": "bar",
         "x": [
          "amount_yr0",
          "amount_yr1",
          "amount_yr2",
          "amount_yr3",
          "amount_yr4"
         ],
         "xaxis": "x",
         "y": [
          246634.9199999998,
          0,
          315060.80999999994,
          293009.9,
          0
         ],
         "yaxis": "y"
        },
        {
         "alignmentgroup": "True",
         "hovertemplate": "variable=0,2,3,4,<br>year=%{x}<br>value=%{y}<extra></extra>",
         "legendgroup": "0,2,3,4,",
         "marker": {
          "color": "#636efa"
         },
         "name": "0,2,3,4,",
         "offsetgroup": "0,2,3,4,",
         "orientation": "v",
         "showlegend": true,
         "textposition": "auto",
         "type": "bar",
         "x": [
          "amount_yr0",
          "amount_yr1",
          "amount_yr2",
          "amount_yr3",
          "amount_yr4"
         ],
         "xaxis": "x",
         "y": [
          273684.57,
          0,
          390220.2499999998,
          489484.41000000056,
          540791.9399999997
         ],
         "yaxis": "y"
        },
        {
         "alignmentgroup": "True",
         "hovertemplate": "variable=0,2,4,<br>year=%{x}<br>value=%{y}<extra></extra>",
         "legendgroup": "0,2,4,",
         "marker": {
          "color": "#EF553B"
         },
         "name": "0,2,4,",
         "offsetgroup": "0,2,4,",
         "orientation": "v",
         "showlegend": true,
         "textposition": "auto",
         "type": "bar",
         "x": [
          "amount_yr0",
          "amount_yr1",
          "amount_yr2",
          "amount_yr3",
          "amount_yr4"
         ],
         "xaxis": "x",
         "y": [
          146542.83999999997,
          0,
          167583.9200000001,
          0,
          184624.84000000005
         ],
         "yaxis": "y"
        },
        {
         "alignmentgroup": "True",
         "hovertemplate": "variable=0,3,<br>year=%{x}<br>value=%{y}<extra></extra>",
         "legendgroup": "0,3,",
         "marker": {
          "color": "#00cc96"
         },
         "name": "0,3,",
         "offsetgroup": "0,3,",
         "orientation": "v",
         "showlegend": true,
         "textposition": "auto",
         "type": "bar",
         "x": [
          "amount_yr0",
          "amount_yr1",
          "amount_yr2",
          "amount_yr3",
          "amount_yr4"
         ],
         "xaxis": "x",
         "y": [
          538437.0999999997,
          0,
          0,
          611542.04,
          0
         ],
         "yaxis": "y"
        },
        {
         "alignmentgroup": "True",
         "hovertemplate": "variable=0,3,4<br>year=%{x}<br>value=%{y}<extra></extra>",
         "legendgroup": "0,3,4",
         "marker": {
          "color": "#ab63fa"
         },
         "name": "0,3,4",
         "offsetgroup": "0,3,4",
         "orientation": "v",
         "showlegend": true,
         "textposition": "auto",
         "type": "bar",
         "x": [
          "amount_yr0",
          "amount_yr1",
          "amount_yr2",
          "amount_yr3",
          "amount_yr4"
         ],
         "xaxis": "x",
         "y": [
          227617.38999999998,
          0,
          0,
          386284.9299999999,
          457401.2100000004
         ],
         "yaxis": "y"
        },
        {
         "alignmentgroup": "True",
         "hovertemplate": "variable=0,4,<br>year=%{x}<br>value=%{y}<extra></extra>",
         "legendgroup": "0,4,",
         "marker": {
          "color": "#FFA15A"
         },
         "name": "0,4,",
         "offsetgroup": "0,4,",
         "orientation": "v",
         "showlegend": true,
         "textposition": "auto",
         "type": "bar",
         "x": [
          "amount_yr0",
          "amount_yr1",
          "amount_yr2",
          "amount_yr3",
          "amount_yr4"
         ],
         "xaxis": "x",
         "y": [
          395075.69,
          0,
          0,
          0,
          532082.2500000005
         ],
         "yaxis": "y"
        }
       ],
       "layout": {
        "barmode": "relative",
        "legend": {
         "title": {
          "text": "variable"
         },
         "tracegroupgap": 0
        },
        "template": {
         "data": {
          "bar": [
           {
            "error_x": {
             "color": "#2a3f5f"
            },
            "error_y": {
             "color": "#2a3f5f"
            },
            "marker": {
             "line": {
              "color": "#E5ECF6",
              "width": 0.5
             }
            },
            "type": "bar"
           }
          ],
          "barpolar": [
           {
            "marker": {
             "line": {
              "color": "#E5ECF6",
              "width": 0.5
             }
            },
            "type": "barpolar"
           }
          ],
          "carpet": [
           {
            "aaxis": {
             "endlinecolor": "#2a3f5f",
             "gridcolor": "white",
             "linecolor": "white",
             "minorgridcolor": "white",
             "startlinecolor": "#2a3f5f"
            },
            "baxis": {
             "endlinecolor": "#2a3f5f",
             "gridcolor": "white",
             "linecolor": "white",
             "minorgridcolor": "white",
             "startlinecolor": "#2a3f5f"
            },
            "type": "carpet"
           }
          ],
          "choropleth": [
           {
            "colorbar": {
             "outlinewidth": 0,
             "ticks": ""
            },
            "type": "choropleth"
           }
          ],
          "contour": [
           {
            "colorbar": {
             "outlinewidth": 0,
             "ticks": ""
            },
            "colorscale": [
             [
              0,
              "#0d0887"
             ],
             [
              0.1111111111111111,
              "#46039f"
             ],
             [
              0.2222222222222222,
              "#7201a8"
             ],
             [
              0.3333333333333333,
              "#9c179e"
             ],
             [
              0.4444444444444444,
              "#bd3786"
             ],
             [
              0.5555555555555556,
              "#d8576b"
             ],
             [
              0.6666666666666666,
              "#ed7953"
             ],
             [
              0.7777777777777778,
              "#fb9f3a"
             ],
             [
              0.8888888888888888,
              "#fdca26"
             ],
             [
              1,
              "#f0f921"
             ]
            ],
            "type": "contour"
           }
          ],
          "contourcarpet": [
           {
            "colorbar": {
             "outlinewidth": 0,
             "ticks": ""
            },
            "type": "contourcarpet"
           }
          ],
          "heatmap": [
           {
            "colorbar": {
             "outlinewidth": 0,
             "ticks": ""
            },
            "colorscale": [
             [
              0,
              "#0d0887"
             ],
             [
              0.1111111111111111,
              "#46039f"
             ],
             [
              0.2222222222222222,
              "#7201a8"
             ],
             [
              0.3333333333333333,
              "#9c179e"
             ],
             [
              0.4444444444444444,
              "#bd3786"
             ],
             [
              0.5555555555555556,
              "#d8576b"
             ],
             [
              0.6666666666666666,
              "#ed7953"
             ],
             [
              0.7777777777777778,
              "#fb9f3a"
             ],
             [
              0.8888888888888888,
              "#fdca26"
             ],
             [
              1,
              "#f0f921"
             ]
            ],
            "type": "heatmap"
           }
          ],
          "heatmapgl": [
           {
            "colorbar": {
             "outlinewidth": 0,
             "ticks": ""
            },
            "colorscale": [
             [
              0,
              "#0d0887"
             ],
             [
              0.1111111111111111,
              "#46039f"
             ],
             [
              0.2222222222222222,
              "#7201a8"
             ],
             [
              0.3333333333333333,
              "#9c179e"
             ],
             [
              0.4444444444444444,
              "#bd3786"
             ],
             [
              0.5555555555555556,
              "#d8576b"
             ],
             [
              0.6666666666666666,
              "#ed7953"
             ],
             [
              0.7777777777777778,
              "#fb9f3a"
             ],
             [
              0.8888888888888888,
              "#fdca26"
             ],
             [
              1,
              "#f0f921"
             ]
            ],
            "type": "heatmapgl"
           }
          ],
          "histogram": [
           {
            "marker": {
             "colorbar": {
              "outlinewidth": 0,
              "ticks": ""
             }
            },
            "type": "histogram"
           }
          ],
          "histogram2d": [
           {
            "colorbar": {
             "outlinewidth": 0,
             "ticks": ""
            },
            "colorscale": [
             [
              0,
              "#0d0887"
             ],
             [
              0.1111111111111111,
              "#46039f"
             ],
             [
              0.2222222222222222,
              "#7201a8"
             ],
             [
              0.3333333333333333,
              "#9c179e"
             ],
             [
              0.4444444444444444,
              "#bd3786"
             ],
             [
              0.5555555555555556,
              "#d8576b"
             ],
             [
              0.6666666666666666,
              "#ed7953"
             ],
             [
              0.7777777777777778,
              "#fb9f3a"
             ],
             [
              0.8888888888888888,
              "#fdca26"
             ],
             [
              1,
              "#f0f921"
             ]
            ],
            "type": "histogram2d"
           }
          ],
          "histogram2dcontour": [
           {
            "colorbar": {
             "outlinewidth": 0,
             "ticks": ""
            },
            "colorscale": [
             [
              0,
              "#0d0887"
             ],
             [
              0.1111111111111111,
              "#46039f"
             ],
             [
              0.2222222222222222,
              "#7201a8"
             ],
             [
              0.3333333333333333,
              "#9c179e"
             ],
             [
              0.4444444444444444,
              "#bd3786"
             ],
             [
              0.5555555555555556,
              "#d8576b"
             ],
             [
              0.6666666666666666,
              "#ed7953"
             ],
             [
              0.7777777777777778,
              "#fb9f3a"
             ],
             [
              0.8888888888888888,
              "#fdca26"
             ],
             [
              1,
              "#f0f921"
             ]
            ],
            "type": "histogram2dcontour"
           }
          ],
          "mesh3d": [
           {
            "colorbar": {
             "outlinewidth": 0,
             "ticks": ""
            },
            "type": "mesh3d"
           }
          ],
          "parcoords": [
           {
            "line": {
             "colorbar": {
              "outlinewidth": 0,
              "ticks": ""
             }
            },
            "type": "parcoords"
           }
          ],
          "pie": [
           {
            "automargin": true,
            "type": "pie"
           }
          ],
          "scatter": [
           {
            "marker": {
             "colorbar": {
              "outlinewidth": 0,
              "ticks": ""
             }
            },
            "type": "scatter"
           }
          ],
          "scatter3d": [
           {
            "line": {
             "colorbar": {
              "outlinewidth": 0,
              "ticks": ""
             }
            },
            "marker": {
             "colorbar": {
              "outlinewidth": 0,
              "ticks": ""
             }
            },
            "type": "scatter3d"
           }
          ],
          "scattercarpet": [
           {
            "marker": {
             "colorbar": {
              "outlinewidth": 0,
              "ticks": ""
             }
            },
            "type": "scattercarpet"
           }
          ],
          "scattergeo": [
           {
            "marker": {
             "colorbar": {
              "outlinewidth": 0,
              "ticks": ""
             }
            },
            "type": "scattergeo"
           }
          ],
          "scattergl": [
           {
            "marker": {
             "colorbar": {
              "outlinewidth": 0,
              "ticks": ""
             }
            },
            "type": "scattergl"
           }
          ],
          "scattermapbox": [
           {
            "marker": {
             "colorbar": {
              "outlinewidth": 0,
              "ticks": ""
             }
            },
            "type": "scattermapbox"
           }
          ],
          "scatterpolar": [
           {
            "marker": {
             "colorbar": {
              "outlinewidth": 0,
              "ticks": ""
             }
            },
            "type": "scatterpolar"
           }
          ],
          "scatterpolargl": [
           {
            "marker": {
             "colorbar": {
              "outlinewidth": 0,
              "ticks": ""
             }
            },
            "type": "scatterpolargl"
           }
          ],
          "scatterternary": [
           {
            "marker": {
             "colorbar": {
              "outlinewidth": 0,
              "ticks": ""
             }
            },
            "type": "scatterternary"
           }
          ],
          "surface": [
           {
            "colorbar": {
             "outlinewidth": 0,
             "ticks": ""
            },
            "colorscale": [
             [
              0,
              "#0d0887"
             ],
             [
              0.1111111111111111,
              "#46039f"
             ],
             [
              0.2222222222222222,
              "#7201a8"
             ],
             [
              0.3333333333333333,
              "#9c179e"
             ],
             [
              0.4444444444444444,
              "#bd3786"
             ],
             [
              0.5555555555555556,
              "#d8576b"
             ],
             [
              0.6666666666666666,
              "#ed7953"
             ],
             [
              0.7777777777777778,
              "#fb9f3a"
             ],
             [
              0.8888888888888888,
              "#fdca26"
             ],
             [
              1,
              "#f0f921"
             ]
            ],
            "type": "surface"
           }
          ],
          "table": [
           {
            "cells": {
             "fill": {
              "color": "#EBF0F8"
             },
             "line": {
              "color": "white"
             }
            },
            "header": {
             "fill": {
              "color": "#C8D4E3"
             },
             "line": {
              "color": "white"
             }
            },
            "type": "table"
           }
          ]
         },
         "layout": {
          "annotationdefaults": {
           "arrowcolor": "#2a3f5f",
           "arrowhead": 0,
           "arrowwidth": 1
          },
          "coloraxis": {
           "colorbar": {
            "outlinewidth": 0,
            "ticks": ""
           }
          },
          "colorscale": {
           "diverging": [
            [
             0,
             "#8e0152"
            ],
            [
             0.1,
             "#c51b7d"
            ],
            [
             0.2,
             "#de77ae"
            ],
            [
             0.3,
             "#f1b6da"
            ],
            [
             0.4,
             "#fde0ef"
            ],
            [
             0.5,
             "#f7f7f7"
            ],
            [
             0.6,
             "#e6f5d0"
            ],
            [
             0.7,
             "#b8e186"
            ],
            [
             0.8,
             "#7fbc41"
            ],
            [
             0.9,
             "#4d9221"
            ],
            [
             1,
             "#276419"
            ]
           ],
           "sequential": [
            [
             0,
             "#0d0887"
            ],
            [
             0.1111111111111111,
             "#46039f"
            ],
            [
             0.2222222222222222,
             "#7201a8"
            ],
            [
             0.3333333333333333,
             "#9c179e"
            ],
            [
             0.4444444444444444,
             "#bd3786"
            ],
            [
             0.5555555555555556,
             "#d8576b"
            ],
            [
             0.6666666666666666,
             "#ed7953"
            ],
            [
             0.7777777777777778,
             "#fb9f3a"
            ],
            [
             0.8888888888888888,
             "#fdca26"
            ],
            [
             1,
             "#f0f921"
            ]
           ],
           "sequentialminus": [
            [
             0,
             "#0d0887"
            ],
            [
             0.1111111111111111,
             "#46039f"
            ],
            [
             0.2222222222222222,
             "#7201a8"
            ],
            [
             0.3333333333333333,
             "#9c179e"
            ],
            [
             0.4444444444444444,
             "#bd3786"
            ],
            [
             0.5555555555555556,
             "#d8576b"
            ],
            [
             0.6666666666666666,
             "#ed7953"
            ],
            [
             0.7777777777777778,
             "#fb9f3a"
            ],
            [
             0.8888888888888888,
             "#fdca26"
            ],
            [
             1,
             "#f0f921"
            ]
           ]
          },
          "colorway": [
           "#636efa",
           "#EF553B",
           "#00cc96",
           "#ab63fa",
           "#FFA15A",
           "#19d3f3",
           "#FF6692",
           "#B6E880",
           "#FF97FF",
           "#FECB52"
          ],
          "font": {
           "color": "#2a3f5f"
          },
          "geo": {
           "bgcolor": "white",
           "lakecolor": "white",
           "landcolor": "#E5ECF6",
           "showlakes": true,
           "showland": true,
           "subunitcolor": "white"
          },
          "hoverlabel": {
           "align": "left"
          },
          "hovermode": "closest",
          "mapbox": {
           "style": "light"
          },
          "paper_bgcolor": "white",
          "plot_bgcolor": "#E5ECF6",
          "polar": {
           "angularaxis": {
            "gridcolor": "white",
            "linecolor": "white",
            "ticks": ""
           },
           "bgcolor": "#E5ECF6",
           "radialaxis": {
            "gridcolor": "white",
            "linecolor": "white",
            "ticks": ""
           }
          },
          "scene": {
           "xaxis": {
            "backgroundcolor": "#E5ECF6",
            "gridcolor": "white",
            "gridwidth": 2,
            "linecolor": "white",
            "showbackground": true,
            "ticks": "",
            "zerolinecolor": "white"
           },
           "yaxis": {
            "backgroundcolor": "#E5ECF6",
            "gridcolor": "white",
            "gridwidth": 2,
            "linecolor": "white",
            "showbackground": true,
            "ticks": "",
            "zerolinecolor": "white"
           },
           "zaxis": {
            "backgroundcolor": "#E5ECF6",
            "gridcolor": "white",
            "gridwidth": 2,
            "linecolor": "white",
            "showbackground": true,
            "ticks": "",
            "zerolinecolor": "white"
           }
          },
          "shapedefaults": {
           "line": {
            "color": "#2a3f5f"
           }
          },
          "ternary": {
           "aaxis": {
            "gridcolor": "white",
            "linecolor": "white",
            "ticks": ""
           },
           "baxis": {
            "gridcolor": "white",
            "linecolor": "white",
            "ticks": ""
           },
           "bgcolor": "#E5ECF6",
           "caxis": {
            "gridcolor": "white",
            "linecolor": "white",
            "ticks": ""
           }
          },
          "title": {
           "x": 0.05
          },
          "xaxis": {
           "automargin": true,
           "gridcolor": "white",
           "linecolor": "white",
           "ticks": "",
           "title": {
            "standoff": 15
           },
           "zerolinecolor": "white",
           "zerolinewidth": 2
          },
          "yaxis": {
           "automargin": true,
           "gridcolor": "white",
           "linecolor": "white",
           "ticks": "",
           "title": {
            "standoff": 15
           },
           "zerolinecolor": "white",
           "zerolinewidth": 2
          }
         }
        },
        "title": {
         "text": "Donations ($) by Repeat Donors (Cohort 2013)"
        },
        "xaxis": {
         "anchor": "y",
         "domain": [
          0,
          1
         ],
         "title": {
          "text": "year"
         }
        },
        "yaxis": {
         "anchor": "x",
         "domain": [
          0,
          1
         ],
         "title": {
          "text": "value"
         }
        }
       }
      },
      "text/html": [
       "<div>\n",
       "        \n",
       "        \n",
       "            <div id=\"0912a4a4-fe34-4ee2-bbc1-6a9838c65604\" class=\"plotly-graph-div\" style=\"height:525px; width:100%;\"></div>\n",
       "            <script type=\"text/javascript\">\n",
       "                require([\"plotly\"], function(Plotly) {\n",
       "                    window.PLOTLYENV=window.PLOTLYENV || {};\n",
       "                    \n",
       "                if (document.getElementById(\"0912a4a4-fe34-4ee2-bbc1-6a9838c65604\")) {\n",
       "                    Plotly.newPlot(\n",
       "                        '0912a4a4-fe34-4ee2-bbc1-6a9838c65604',\n",
       "                        [{\"alignmentgroup\": \"True\", \"hovertemplate\": \"variable=0,1,<br>year=%{x}<br>value=%{y}<extra></extra>\", \"legendgroup\": \"0,1,\", \"marker\": {\"color\": \"#636efa\"}, \"name\": \"0,1,\", \"offsetgroup\": \"0,1,\", \"orientation\": \"v\", \"showlegend\": true, \"textposition\": \"auto\", \"type\": \"bar\", \"x\": [\"amount_yr0\", \"amount_yr1\", \"amount_yr2\", \"amount_yr3\", \"amount_yr4\"], \"xaxis\": \"x\", \"y\": [3655885.410000013, 3068061.260000003, 0.0, 0.0, 0.0], \"yaxis\": \"y\"}, {\"alignmentgroup\": \"True\", \"hovertemplate\": \"variable=0,1,2,<br>year=%{x}<br>value=%{y}<extra></extra>\", \"legendgroup\": \"0,1,2,\", \"marker\": {\"color\": \"#EF553B\"}, \"name\": \"0,1,2,\", \"offsetgroup\": \"0,1,2,\", \"orientation\": \"v\", \"showlegend\": true, \"textposition\": \"auto\", \"type\": \"bar\", \"x\": [\"amount_yr0\", \"amount_yr1\", \"amount_yr2\", \"amount_yr3\", \"amount_yr4\"], \"xaxis\": \"x\", \"y\": [1528295.3399999985, 1641129.6600000027, 1231026.0999999957, 0.0, 0.0], \"yaxis\": \"y\"}, {\"alignmentgroup\": \"True\", \"hovertemplate\": \"variable=0,1,2,3,<br>year=%{x}<br>value=%{y}<extra></extra>\", \"legendgroup\": \"0,1,2,3,\", \"marker\": {\"color\": \"#00cc96\"}, \"name\": \"0,1,2,3,\", \"offsetgroup\": \"0,1,2,3,\", \"orientation\": \"v\", \"showlegend\": true, \"textposition\": \"auto\", \"type\": \"bar\", \"x\": [\"amount_yr0\", \"amount_yr1\", \"amount_yr2\", \"amount_yr3\", \"amount_yr4\"], \"xaxis\": \"x\", \"y\": [1124336.2, 1288298.1500000001, 1121177.559999997, 871183.1099999995, 0.0], \"yaxis\": \"y\"}, {\"alignmentgroup\": \"True\", \"hovertemplate\": \"variable=0,1,2,3,4,<br>year=%{x}<br>value=%{y}<extra></extra>\", \"legendgroup\": \"0,1,2,3,4,\", \"marker\": {\"color\": \"#ab63fa\"}, \"name\": \"0,1,2,3,4,\", \"offsetgroup\": \"0,1,2,3,4,\", \"orientation\": \"v\", \"showlegend\": true, \"textposition\": \"auto\", \"type\": \"bar\", \"x\": [\"amount_yr0\", \"amount_yr1\", \"amount_yr2\", \"amount_yr3\", \"amount_yr4\"], \"xaxis\": \"x\", \"y\": [5209667.210000017, 7600274.2100000335, 7764373.84000004, 7927532.119999972, 8169985.55000005], \"yaxis\": \"y\"}, {\"alignmentgroup\": \"True\", \"hovertemplate\": \"variable=0,1,2,4,<br>year=%{x}<br>value=%{y}<extra></extra>\", \"legendgroup\": \"0,1,2,4,\", \"marker\": {\"color\": \"#FFA15A\"}, \"name\": \"0,1,2,4,\", \"offsetgroup\": \"0,1,2,4,\", \"orientation\": \"v\", \"showlegend\": true, \"textposition\": \"auto\", \"type\": \"bar\", \"x\": [\"amount_yr0\", \"amount_yr1\", \"amount_yr2\", \"amount_yr3\", \"amount_yr4\"], \"xaxis\": \"x\", \"y\": [482861.08999999985, 541433.6, 523237.0000000006, 0.0, 511597.6800000003], \"yaxis\": \"y\"}, {\"alignmentgroup\": \"True\", \"hovertemplate\": \"variable=0,1,3,<br>year=%{x}<br>value=%{y}<extra></extra>\", \"legendgroup\": \"0,1,3,\", \"marker\": {\"color\": \"#19d3f3\"}, \"name\": \"0,1,3,\", \"offsetgroup\": \"0,1,3,\", \"orientation\": \"v\", \"showlegend\": true, \"textposition\": \"auto\", \"type\": \"bar\", \"x\": [\"amount_yr0\", \"amount_yr1\", \"amount_yr2\", \"amount_yr3\", \"amount_yr4\"], \"xaxis\": \"x\", \"y\": [404406.91999999987, 444217.5000000002, 0.0, 370153.4900000001, 0.0], \"yaxis\": \"y\"}, {\"alignmentgroup\": \"True\", \"hovertemplate\": \"variable=0,1,3,4,<br>year=%{x}<br>value=%{y}<extra></extra>\", \"legendgroup\": \"0,1,3,4,\", \"marker\": {\"color\": \"#FF6692\"}, \"name\": \"0,1,3,4,\", \"offsetgroup\": \"0,1,3,4,\", \"orientation\": \"v\", \"showlegend\": true, \"textposition\": \"auto\", \"type\": \"bar\", \"x\": [\"amount_yr0\", \"amount_yr1\", \"amount_yr2\", \"amount_yr3\", \"amount_yr4\"], \"xaxis\": \"x\", \"y\": [335331.86999999994, 371148.5700000002, 0.0, 449079.65, 473806.1399999999], \"yaxis\": \"y\"}, {\"alignmentgroup\": \"True\", \"hovertemplate\": \"variable=0,1,4,<br>year=%{x}<br>value=%{y}<extra></extra>\", \"legendgroup\": \"0,1,4,\", \"marker\": {\"color\": \"#B6E880\"}, \"name\": \"0,1,4,\", \"offsetgroup\": \"0,1,4,\", \"orientation\": \"v\", \"showlegend\": true, \"textposition\": \"auto\", \"type\": \"bar\", \"x\": [\"amount_yr0\", \"amount_yr1\", \"amount_yr2\", \"amount_yr3\", \"amount_yr4\"], \"xaxis\": \"x\", \"y\": [278396.7, 313141.02999999997, 0.0, 0.0, 285465.6099999999], \"yaxis\": \"y\"}, {\"alignmentgroup\": \"True\", \"hovertemplate\": \"variable=0,2,<br>year=%{x}<br>value=%{y}<extra></extra>\", \"legendgroup\": \"0,2,\", \"marker\": {\"color\": \"#FF97FF\"}, \"name\": \"0,2,\", \"offsetgroup\": \"0,2,\", \"orientation\": \"v\", \"showlegend\": true, \"textposition\": \"auto\", \"type\": \"bar\", \"x\": [\"amount_yr0\", \"amount_yr1\", \"amount_yr2\", \"amount_yr3\", \"amount_yr4\"], \"xaxis\": \"x\", \"y\": [1631608.529999998, 0.0, 1074627.9100000001, 0.0, 0.0], \"yaxis\": \"y\"}, {\"alignmentgroup\": \"True\", \"hovertemplate\": \"variable=0,2,3,<br>year=%{x}<br>value=%{y}<extra></extra>\", \"legendgroup\": \"0,2,3,\", \"marker\": {\"color\": \"#FECB52\"}, \"name\": \"0,2,3,\", \"offsetgroup\": \"0,2,3,\", \"orientation\": \"v\", \"showlegend\": true, \"textposition\": \"auto\", \"type\": \"bar\", \"x\": [\"amount_yr0\", \"amount_yr1\", \"amount_yr2\", \"amount_yr3\", \"amount_yr4\"], \"xaxis\": \"x\", \"y\": [246634.9199999998, 0.0, 315060.80999999994, 293009.9, 0.0], \"yaxis\": \"y\"}, {\"alignmentgroup\": \"True\", \"hovertemplate\": \"variable=0,2,3,4,<br>year=%{x}<br>value=%{y}<extra></extra>\", \"legendgroup\": \"0,2,3,4,\", \"marker\": {\"color\": \"#636efa\"}, \"name\": \"0,2,3,4,\", \"offsetgroup\": \"0,2,3,4,\", \"orientation\": \"v\", \"showlegend\": true, \"textposition\": \"auto\", \"type\": \"bar\", \"x\": [\"amount_yr0\", \"amount_yr1\", \"amount_yr2\", \"amount_yr3\", \"amount_yr4\"], \"xaxis\": \"x\", \"y\": [273684.57, 0.0, 390220.2499999998, 489484.41000000056, 540791.9399999997], \"yaxis\": \"y\"}, {\"alignmentgroup\": \"True\", \"hovertemplate\": \"variable=0,2,4,<br>year=%{x}<br>value=%{y}<extra></extra>\", \"legendgroup\": \"0,2,4,\", \"marker\": {\"color\": \"#EF553B\"}, \"name\": \"0,2,4,\", \"offsetgroup\": \"0,2,4,\", \"orientation\": \"v\", \"showlegend\": true, \"textposition\": \"auto\", \"type\": \"bar\", \"x\": [\"amount_yr0\", \"amount_yr1\", \"amount_yr2\", \"amount_yr3\", \"amount_yr4\"], \"xaxis\": \"x\", \"y\": [146542.83999999997, 0.0, 167583.9200000001, 0.0, 184624.84000000005], \"yaxis\": \"y\"}, {\"alignmentgroup\": \"True\", \"hovertemplate\": \"variable=0,3,<br>year=%{x}<br>value=%{y}<extra></extra>\", \"legendgroup\": \"0,3,\", \"marker\": {\"color\": \"#00cc96\"}, \"name\": \"0,3,\", \"offsetgroup\": \"0,3,\", \"orientation\": \"v\", \"showlegend\": true, \"textposition\": \"auto\", \"type\": \"bar\", \"x\": [\"amount_yr0\", \"amount_yr1\", \"amount_yr2\", \"amount_yr3\", \"amount_yr4\"], \"xaxis\": \"x\", \"y\": [538437.0999999997, 0.0, 0.0, 611542.04, 0.0], \"yaxis\": \"y\"}, {\"alignmentgroup\": \"True\", \"hovertemplate\": \"variable=0,3,4<br>year=%{x}<br>value=%{y}<extra></extra>\", \"legendgroup\": \"0,3,4\", \"marker\": {\"color\": \"#ab63fa\"}, \"name\": \"0,3,4\", \"offsetgroup\": \"0,3,4\", \"orientation\": \"v\", \"showlegend\": true, \"textposition\": \"auto\", \"type\": \"bar\", \"x\": [\"amount_yr0\", \"amount_yr1\", \"amount_yr2\", \"amount_yr3\", \"amount_yr4\"], \"xaxis\": \"x\", \"y\": [227617.38999999998, 0.0, 0.0, 386284.9299999999, 457401.2100000004], \"yaxis\": \"y\"}, {\"alignmentgroup\": \"True\", \"hovertemplate\": \"variable=0,4,<br>year=%{x}<br>value=%{y}<extra></extra>\", \"legendgroup\": \"0,4,\", \"marker\": {\"color\": \"#FFA15A\"}, \"name\": \"0,4,\", \"offsetgroup\": \"0,4,\", \"orientation\": \"v\", \"showlegend\": true, \"textposition\": \"auto\", \"type\": \"bar\", \"x\": [\"amount_yr0\", \"amount_yr1\", \"amount_yr2\", \"amount_yr3\", \"amount_yr4\"], \"xaxis\": \"x\", \"y\": [395075.69, 0.0, 0.0, 0.0, 532082.2500000005], \"yaxis\": \"y\"}],\n",
       "                        {\"barmode\": \"relative\", \"legend\": {\"title\": {\"text\": \"variable\"}, \"tracegroupgap\": 0}, \"template\": {\"data\": {\"bar\": [{\"error_x\": {\"color\": \"#2a3f5f\"}, \"error_y\": {\"color\": \"#2a3f5f\"}, \"marker\": {\"line\": {\"color\": \"#E5ECF6\", \"width\": 0.5}}, \"type\": \"bar\"}], \"barpolar\": [{\"marker\": {\"line\": {\"color\": \"#E5ECF6\", \"width\": 0.5}}, \"type\": \"barpolar\"}], \"carpet\": [{\"aaxis\": {\"endlinecolor\": \"#2a3f5f\", \"gridcolor\": \"white\", \"linecolor\": \"white\", \"minorgridcolor\": \"white\", \"startlinecolor\": \"#2a3f5f\"}, \"baxis\": {\"endlinecolor\": \"#2a3f5f\", \"gridcolor\": \"white\", \"linecolor\": \"white\", \"minorgridcolor\": \"white\", \"startlinecolor\": \"#2a3f5f\"}, \"type\": \"carpet\"}], \"choropleth\": [{\"colorbar\": {\"outlinewidth\": 0, \"ticks\": \"\"}, \"type\": \"choropleth\"}], \"contour\": [{\"colorbar\": {\"outlinewidth\": 0, \"ticks\": \"\"}, \"colorscale\": [[0.0, \"#0d0887\"], [0.1111111111111111, \"#46039f\"], [0.2222222222222222, \"#7201a8\"], [0.3333333333333333, \"#9c179e\"], [0.4444444444444444, \"#bd3786\"], [0.5555555555555556, \"#d8576b\"], [0.6666666666666666, \"#ed7953\"], [0.7777777777777778, \"#fb9f3a\"], [0.8888888888888888, \"#fdca26\"], [1.0, \"#f0f921\"]], \"type\": \"contour\"}], \"contourcarpet\": [{\"colorbar\": {\"outlinewidth\": 0, \"ticks\": \"\"}, \"type\": \"contourcarpet\"}], \"heatmap\": [{\"colorbar\": {\"outlinewidth\": 0, \"ticks\": \"\"}, \"colorscale\": [[0.0, \"#0d0887\"], [0.1111111111111111, \"#46039f\"], [0.2222222222222222, \"#7201a8\"], [0.3333333333333333, \"#9c179e\"], [0.4444444444444444, \"#bd3786\"], [0.5555555555555556, \"#d8576b\"], [0.6666666666666666, \"#ed7953\"], [0.7777777777777778, \"#fb9f3a\"], [0.8888888888888888, \"#fdca26\"], [1.0, \"#f0f921\"]], \"type\": \"heatmap\"}], \"heatmapgl\": [{\"colorbar\": {\"outlinewidth\": 0, \"ticks\": \"\"}, \"colorscale\": [[0.0, \"#0d0887\"], [0.1111111111111111, \"#46039f\"], [0.2222222222222222, \"#7201a8\"], [0.3333333333333333, \"#9c179e\"], [0.4444444444444444, \"#bd3786\"], [0.5555555555555556, \"#d8576b\"], [0.6666666666666666, \"#ed7953\"], [0.7777777777777778, \"#fb9f3a\"], [0.8888888888888888, \"#fdca26\"], [1.0, \"#f0f921\"]], \"type\": \"heatmapgl\"}], \"histogram\": [{\"marker\": {\"colorbar\": {\"outlinewidth\": 0, \"ticks\": \"\"}}, \"type\": \"histogram\"}], \"histogram2d\": [{\"colorbar\": {\"outlinewidth\": 0, \"ticks\": \"\"}, \"colorscale\": [[0.0, \"#0d0887\"], [0.1111111111111111, \"#46039f\"], [0.2222222222222222, \"#7201a8\"], [0.3333333333333333, \"#9c179e\"], [0.4444444444444444, \"#bd3786\"], [0.5555555555555556, \"#d8576b\"], [0.6666666666666666, \"#ed7953\"], [0.7777777777777778, \"#fb9f3a\"], [0.8888888888888888, \"#fdca26\"], [1.0, \"#f0f921\"]], \"type\": \"histogram2d\"}], \"histogram2dcontour\": [{\"colorbar\": {\"outlinewidth\": 0, \"ticks\": \"\"}, \"colorscale\": [[0.0, \"#0d0887\"], [0.1111111111111111, \"#46039f\"], [0.2222222222222222, \"#7201a8\"], [0.3333333333333333, \"#9c179e\"], [0.4444444444444444, \"#bd3786\"], [0.5555555555555556, \"#d8576b\"], [0.6666666666666666, \"#ed7953\"], [0.7777777777777778, \"#fb9f3a\"], [0.8888888888888888, \"#fdca26\"], [1.0, \"#f0f921\"]], \"type\": \"histogram2dcontour\"}], \"mesh3d\": [{\"colorbar\": {\"outlinewidth\": 0, \"ticks\": \"\"}, \"type\": \"mesh3d\"}], \"parcoords\": [{\"line\": {\"colorbar\": {\"outlinewidth\": 0, \"ticks\": \"\"}}, \"type\": \"parcoords\"}], \"pie\": [{\"automargin\": true, \"type\": \"pie\"}], \"scatter\": [{\"marker\": {\"colorbar\": {\"outlinewidth\": 0, \"ticks\": \"\"}}, \"type\": \"scatter\"}], \"scatter3d\": [{\"line\": {\"colorbar\": {\"outlinewidth\": 0, \"ticks\": \"\"}}, \"marker\": {\"colorbar\": {\"outlinewidth\": 0, \"ticks\": \"\"}}, \"type\": \"scatter3d\"}], \"scattercarpet\": [{\"marker\": {\"colorbar\": {\"outlinewidth\": 0, \"ticks\": \"\"}}, \"type\": \"scattercarpet\"}], \"scattergeo\": [{\"marker\": {\"colorbar\": {\"outlinewidth\": 0, \"ticks\": \"\"}}, \"type\": \"scattergeo\"}], \"scattergl\": [{\"marker\": {\"colorbar\": {\"outlinewidth\": 0, \"ticks\": \"\"}}, \"type\": \"scattergl\"}], \"scattermapbox\": [{\"marker\": {\"colorbar\": {\"outlinewidth\": 0, \"ticks\": \"\"}}, \"type\": \"scattermapbox\"}], \"scatterpolar\": [{\"marker\": {\"colorbar\": {\"outlinewidth\": 0, \"ticks\": \"\"}}, \"type\": \"scatterpolar\"}], \"scatterpolargl\": [{\"marker\": {\"colorbar\": {\"outlinewidth\": 0, \"ticks\": \"\"}}, \"type\": \"scatterpolargl\"}], \"scatterternary\": [{\"marker\": {\"colorbar\": {\"outlinewidth\": 0, \"ticks\": \"\"}}, \"type\": \"scatterternary\"}], \"surface\": [{\"colorbar\": {\"outlinewidth\": 0, \"ticks\": \"\"}, \"colorscale\": [[0.0, \"#0d0887\"], [0.1111111111111111, \"#46039f\"], [0.2222222222222222, \"#7201a8\"], [0.3333333333333333, \"#9c179e\"], [0.4444444444444444, \"#bd3786\"], [0.5555555555555556, \"#d8576b\"], [0.6666666666666666, \"#ed7953\"], [0.7777777777777778, \"#fb9f3a\"], [0.8888888888888888, \"#fdca26\"], [1.0, \"#f0f921\"]], \"type\": \"surface\"}], \"table\": [{\"cells\": {\"fill\": {\"color\": \"#EBF0F8\"}, \"line\": {\"color\": \"white\"}}, \"header\": {\"fill\": {\"color\": \"#C8D4E3\"}, \"line\": {\"color\": \"white\"}}, \"type\": \"table\"}]}, \"layout\": {\"annotationdefaults\": {\"arrowcolor\": \"#2a3f5f\", \"arrowhead\": 0, \"arrowwidth\": 1}, \"coloraxis\": {\"colorbar\": {\"outlinewidth\": 0, \"ticks\": \"\"}}, \"colorscale\": {\"diverging\": [[0, \"#8e0152\"], [0.1, \"#c51b7d\"], [0.2, \"#de77ae\"], [0.3, \"#f1b6da\"], [0.4, \"#fde0ef\"], [0.5, \"#f7f7f7\"], [0.6, \"#e6f5d0\"], [0.7, \"#b8e186\"], [0.8, \"#7fbc41\"], [0.9, \"#4d9221\"], [1, \"#276419\"]], \"sequential\": [[0.0, \"#0d0887\"], [0.1111111111111111, \"#46039f\"], [0.2222222222222222, \"#7201a8\"], [0.3333333333333333, \"#9c179e\"], [0.4444444444444444, \"#bd3786\"], [0.5555555555555556, \"#d8576b\"], [0.6666666666666666, \"#ed7953\"], [0.7777777777777778, \"#fb9f3a\"], [0.8888888888888888, \"#fdca26\"], [1.0, \"#f0f921\"]], \"sequentialminus\": [[0.0, \"#0d0887\"], [0.1111111111111111, \"#46039f\"], [0.2222222222222222, \"#7201a8\"], [0.3333333333333333, \"#9c179e\"], [0.4444444444444444, \"#bd3786\"], [0.5555555555555556, \"#d8576b\"], [0.6666666666666666, \"#ed7953\"], [0.7777777777777778, \"#fb9f3a\"], [0.8888888888888888, \"#fdca26\"], [1.0, \"#f0f921\"]]}, \"colorway\": [\"#636efa\", \"#EF553B\", \"#00cc96\", \"#ab63fa\", \"#FFA15A\", \"#19d3f3\", \"#FF6692\", \"#B6E880\", \"#FF97FF\", \"#FECB52\"], \"font\": {\"color\": \"#2a3f5f\"}, \"geo\": {\"bgcolor\": \"white\", \"lakecolor\": \"white\", \"landcolor\": \"#E5ECF6\", \"showlakes\": true, \"showland\": true, \"subunitcolor\": \"white\"}, \"hoverlabel\": {\"align\": \"left\"}, \"hovermode\": \"closest\", \"mapbox\": {\"style\": \"light\"}, \"paper_bgcolor\": \"white\", \"plot_bgcolor\": \"#E5ECF6\", \"polar\": {\"angularaxis\": {\"gridcolor\": \"white\", \"linecolor\": \"white\", \"ticks\": \"\"}, \"bgcolor\": \"#E5ECF6\", \"radialaxis\": {\"gridcolor\": \"white\", \"linecolor\": \"white\", \"ticks\": \"\"}}, \"scene\": {\"xaxis\": {\"backgroundcolor\": \"#E5ECF6\", \"gridcolor\": \"white\", \"gridwidth\": 2, \"linecolor\": \"white\", \"showbackground\": true, \"ticks\": \"\", \"zerolinecolor\": \"white\"}, \"yaxis\": {\"backgroundcolor\": \"#E5ECF6\", \"gridcolor\": \"white\", \"gridwidth\": 2, \"linecolor\": \"white\", \"showbackground\": true, \"ticks\": \"\", \"zerolinecolor\": \"white\"}, \"zaxis\": {\"backgroundcolor\": \"#E5ECF6\", \"gridcolor\": \"white\", \"gridwidth\": 2, \"linecolor\": \"white\", \"showbackground\": true, \"ticks\": \"\", \"zerolinecolor\": \"white\"}}, \"shapedefaults\": {\"line\": {\"color\": \"#2a3f5f\"}}, \"ternary\": {\"aaxis\": {\"gridcolor\": \"white\", \"linecolor\": \"white\", \"ticks\": \"\"}, \"baxis\": {\"gridcolor\": \"white\", \"linecolor\": \"white\", \"ticks\": \"\"}, \"bgcolor\": \"#E5ECF6\", \"caxis\": {\"gridcolor\": \"white\", \"linecolor\": \"white\", \"ticks\": \"\"}}, \"title\": {\"x\": 0.05}, \"xaxis\": {\"automargin\": true, \"gridcolor\": \"white\", \"linecolor\": \"white\", \"ticks\": \"\", \"title\": {\"standoff\": 15}, \"zerolinecolor\": \"white\", \"zerolinewidth\": 2}, \"yaxis\": {\"automargin\": true, \"gridcolor\": \"white\", \"linecolor\": \"white\", \"ticks\": \"\", \"title\": {\"standoff\": 15}, \"zerolinecolor\": \"white\", \"zerolinewidth\": 2}}}, \"title\": {\"text\": \"Donations ($) by Repeat Donors (Cohort 2013)\"}, \"xaxis\": {\"anchor\": \"y\", \"domain\": [0.0, 1.0], \"title\": {\"text\": \"year\"}}, \"yaxis\": {\"anchor\": \"x\", \"domain\": [0.0, 1.0], \"title\": {\"text\": \"value\"}}},\n",
       "                        {\"responsive\": true}\n",
       "                    ).then(function(){\n",
       "                            \n",
       "var gd = document.getElementById('0912a4a4-fe34-4ee2-bbc1-6a9838c65604');\n",
       "var x = new MutationObserver(function (mutations, observer) {{\n",
       "        var display = window.getComputedStyle(gd).display;\n",
       "        if (!display || display === 'none') {{\n",
       "            console.log([gd, 'removed!']);\n",
       "            Plotly.purge(gd);\n",
       "            observer.disconnect();\n",
       "        }}\n",
       "}});\n",
       "\n",
       "// Listen for the removal of the full notebook cells\n",
       "var notebookContainer = gd.closest('#notebook-container');\n",
       "if (notebookContainer) {{\n",
       "    x.observe(notebookContainer, {childList: true});\n",
       "}}\n",
       "\n",
       "// Listen for the clearing of the current output cell\n",
       "var outputEl = gd.closest('.output');\n",
       "if (outputEl) {{\n",
       "    x.observe(outputEl, {childList: true});\n",
       "}}\n",
       "\n",
       "                        })\n",
       "                };\n",
       "                });\n",
       "            </script>\n",
       "        </div>"
      ]
     },
     "metadata": {},
     "output_type": "display_data"
    }
   ],
   "source": [
    "fig = px.bar(c13_repeat_yr_amounts_transposed, x=\"index\", y=['0,1,', '0,1,2,', '0,1,2,3,', '0,1,2,3,4,', '0,1,2,4,',\n",
    "       '0,1,3,', '0,1,3,4,', '0,1,4,', '0,2,', '0,2,3,', '0,2,3,4,', '0,2,4,', '0,3,', '0,3,4', '0,4,'], labels={'index':'year', 'y':'amount ($)'}, title=\"Donations ($) by Repeat Donors (Cohort 2013)\")\n",
    "fig.show()"
   ]
  },
  {
   "cell_type": "code",
   "execution_count": null,
   "metadata": {},
   "outputs": [],
   "source": [
    "sorted_c13_repeat = c13_repeat_yr_amounts_transposed.sort_values('counts', ascending=False)"
   ]
  },
  {
   "cell_type": "code",
   "execution_count": null,
   "metadata": {},
   "outputs": [],
   "source": []
  },
  {
   "cell_type": "code",
   "execution_count": 78,
   "metadata": {},
   "outputs": [
    {
     "data": {
      "application/vnd.plotly.v1+json": {
       "config": {
        "plotlyServerURL": "https://plot.ly"
       },
       "data": [
        {
         "alignmentgroup": "True",
         "hovertemplate": "variable=0,1,<br>year=%{x}<br>value=%{y}<extra></extra>",
         "legendgroup": "0,1,",
         "marker": {
          "color": "#636efa"
         },
         "name": "0,1,",
         "offsetgroup": "0,1,",
         "orientation": "v",
         "showlegend": true,
         "textposition": "auto",
         "type": "bar",
         "x": [
          "amount_yr0"
         ],
         "xaxis": "x",
         "y": [
          3655885.410000013
         ],
         "yaxis": "y"
        },
        {
         "alignmentgroup": "True",
         "hovertemplate": "variable=0,1,2,<br>year=%{x}<br>value=%{y}<extra></extra>",
         "legendgroup": "0,1,2,",
         "marker": {
          "color": "#EF553B"
         },
         "name": "0,1,2,",
         "offsetgroup": "0,1,2,",
         "orientation": "v",
         "showlegend": true,
         "textposition": "auto",
         "type": "bar",
         "x": [
          "amount_yr0"
         ],
         "xaxis": "x",
         "y": [
          1528295.3399999985
         ],
         "yaxis": "y"
        },
        {
         "alignmentgroup": "True",
         "hovertemplate": "variable=0,1,2,3,<br>year=%{x}<br>value=%{y}<extra></extra>",
         "legendgroup": "0,1,2,3,",
         "marker": {
          "color": "#00cc96"
         },
         "name": "0,1,2,3,",
         "offsetgroup": "0,1,2,3,",
         "orientation": "v",
         "showlegend": true,
         "textposition": "auto",
         "type": "bar",
         "x": [
          "amount_yr0"
         ],
         "xaxis": "x",
         "y": [
          1124336.2
         ],
         "yaxis": "y"
        },
        {
         "alignmentgroup": "True",
         "hovertemplate": "variable=0,1,2,3,4,<br>year=%{x}<br>value=%{y}<extra></extra>",
         "legendgroup": "0,1,2,3,4,",
         "marker": {
          "color": "#ab63fa"
         },
         "name": "0,1,2,3,4,",
         "offsetgroup": "0,1,2,3,4,",
         "orientation": "v",
         "showlegend": true,
         "textposition": "auto",
         "type": "bar",
         "x": [
          "amount_yr0"
         ],
         "xaxis": "x",
         "y": [
          5209667.210000017
         ],
         "yaxis": "y"
        },
        {
         "alignmentgroup": "True",
         "hovertemplate": "variable=0,1,2,4,<br>year=%{x}<br>value=%{y}<extra></extra>",
         "legendgroup": "0,1,2,4,",
         "marker": {
          "color": "#FFA15A"
         },
         "name": "0,1,2,4,",
         "offsetgroup": "0,1,2,4,",
         "orientation": "v",
         "showlegend": true,
         "textposition": "auto",
         "type": "bar",
         "x": [
          "amount_yr0"
         ],
         "xaxis": "x",
         "y": [
          482861.08999999985
         ],
         "yaxis": "y"
        },
        {
         "alignmentgroup": "True",
         "hovertemplate": "variable=0,1,3,<br>year=%{x}<br>value=%{y}<extra></extra>",
         "legendgroup": "0,1,3,",
         "marker": {
          "color": "#19d3f3"
         },
         "name": "0,1,3,",
         "offsetgroup": "0,1,3,",
         "orientation": "v",
         "showlegend": true,
         "textposition": "auto",
         "type": "bar",
         "x": [
          "amount_yr0"
         ],
         "xaxis": "x",
         "y": [
          404406.91999999987
         ],
         "yaxis": "y"
        },
        {
         "alignmentgroup": "True",
         "hovertemplate": "variable=0,1,3,4,<br>year=%{x}<br>value=%{y}<extra></extra>",
         "legendgroup": "0,1,3,4,",
         "marker": {
          "color": "#FF6692"
         },
         "name": "0,1,3,4,",
         "offsetgroup": "0,1,3,4,",
         "orientation": "v",
         "showlegend": true,
         "textposition": "auto",
         "type": "bar",
         "x": [
          "amount_yr0"
         ],
         "xaxis": "x",
         "y": [
          335331.86999999994
         ],
         "yaxis": "y"
        },
        {
         "alignmentgroup": "True",
         "hovertemplate": "variable=0,1,4,<br>year=%{x}<br>value=%{y}<extra></extra>",
         "legendgroup": "0,1,4,",
         "marker": {
          "color": "#B6E880"
         },
         "name": "0,1,4,",
         "offsetgroup": "0,1,4,",
         "orientation": "v",
         "showlegend": true,
         "textposition": "auto",
         "type": "bar",
         "x": [
          "amount_yr0"
         ],
         "xaxis": "x",
         "y": [
          278396.7
         ],
         "yaxis": "y"
        },
        {
         "alignmentgroup": "True",
         "hovertemplate": "variable=0,2,<br>year=%{x}<br>value=%{y}<extra></extra>",
         "legendgroup": "0,2,",
         "marker": {
          "color": "#FF97FF"
         },
         "name": "0,2,",
         "offsetgroup": "0,2,",
         "orientation": "v",
         "showlegend": true,
         "textposition": "auto",
         "type": "bar",
         "x": [
          "amount_yr0"
         ],
         "xaxis": "x",
         "y": [
          1631608.529999998
         ],
         "yaxis": "y"
        },
        {
         "alignmentgroup": "True",
         "hovertemplate": "variable=0,2,3,<br>year=%{x}<br>value=%{y}<extra></extra>",
         "legendgroup": "0,2,3,",
         "marker": {
          "color": "#FECB52"
         },
         "name": "0,2,3,",
         "offsetgroup": "0,2,3,",
         "orientation": "v",
         "showlegend": true,
         "textposition": "auto",
         "type": "bar",
         "x": [
          "amount_yr0"
         ],
         "xaxis": "x",
         "y": [
          246634.9199999998
         ],
         "yaxis": "y"
        },
        {
         "alignmentgroup": "True",
         "hovertemplate": "variable=0,2,3,4,<br>year=%{x}<br>value=%{y}<extra></extra>",
         "legendgroup": "0,2,3,4,",
         "marker": {
          "color": "#636efa"
         },
         "name": "0,2,3,4,",
         "offsetgroup": "0,2,3,4,",
         "orientation": "v",
         "showlegend": true,
         "textposition": "auto",
         "type": "bar",
         "x": [
          "amount_yr0"
         ],
         "xaxis": "x",
         "y": [
          273684.57
         ],
         "yaxis": "y"
        },
        {
         "alignmentgroup": "True",
         "hovertemplate": "variable=0,2,4,<br>year=%{x}<br>value=%{y}<extra></extra>",
         "legendgroup": "0,2,4,",
         "marker": {
          "color": "#EF553B"
         },
         "name": "0,2,4,",
         "offsetgroup": "0,2,4,",
         "orientation": "v",
         "showlegend": true,
         "textposition": "auto",
         "type": "bar",
         "x": [
          "amount_yr0"
         ],
         "xaxis": "x",
         "y": [
          146542.83999999997
         ],
         "yaxis": "y"
        },
        {
         "alignmentgroup": "True",
         "hovertemplate": "variable=0,3,<br>year=%{x}<br>value=%{y}<extra></extra>",
         "legendgroup": "0,3,",
         "marker": {
          "color": "#00cc96"
         },
         "name": "0,3,",
         "offsetgroup": "0,3,",
         "orientation": "v",
         "showlegend": true,
         "textposition": "auto",
         "type": "bar",
         "x": [
          "amount_yr0"
         ],
         "xaxis": "x",
         "y": [
          538437.0999999997
         ],
         "yaxis": "y"
        },
        {
         "alignmentgroup": "True",
         "hovertemplate": "variable=0,3,4<br>year=%{x}<br>value=%{y}<extra></extra>",
         "legendgroup": "0,3,4",
         "marker": {
          "color": "#ab63fa"
         },
         "name": "0,3,4",
         "offsetgroup": "0,3,4",
         "orientation": "v",
         "showlegend": true,
         "textposition": "auto",
         "type": "bar",
         "x": [
          "amount_yr0"
         ],
         "xaxis": "x",
         "y": [
          227617.38999999998
         ],
         "yaxis": "y"
        },
        {
         "alignmentgroup": "True",
         "hovertemplate": "variable=0,4,<br>year=%{x}<br>value=%{y}<extra></extra>",
         "legendgroup": "0,4,",
         "marker": {
          "color": "#FFA15A"
         },
         "name": "0,4,",
         "offsetgroup": "0,4,",
         "orientation": "v",
         "showlegend": true,
         "textposition": "auto",
         "type": "bar",
         "x": [
          "amount_yr0"
         ],
         "xaxis": "x",
         "y": [
          395075.69
         ],
         "yaxis": "y"
        }
       ],
       "layout": {
        "barmode": "group",
        "legend": {
         "title": {
          "text": "variable"
         },
         "tracegroupgap": 0
        },
        "template": {
         "data": {
          "bar": [
           {
            "error_x": {
             "color": "#2a3f5f"
            },
            "error_y": {
             "color": "#2a3f5f"
            },
            "marker": {
             "line": {
              "color": "#E5ECF6",
              "width": 0.5
             }
            },
            "type": "bar"
           }
          ],
          "barpolar": [
           {
            "marker": {
             "line": {
              "color": "#E5ECF6",
              "width": 0.5
             }
            },
            "type": "barpolar"
           }
          ],
          "carpet": [
           {
            "aaxis": {
             "endlinecolor": "#2a3f5f",
             "gridcolor": "white",
             "linecolor": "white",
             "minorgridcolor": "white",
             "startlinecolor": "#2a3f5f"
            },
            "baxis": {
             "endlinecolor": "#2a3f5f",
             "gridcolor": "white",
             "linecolor": "white",
             "minorgridcolor": "white",
             "startlinecolor": "#2a3f5f"
            },
            "type": "carpet"
           }
          ],
          "choropleth": [
           {
            "colorbar": {
             "outlinewidth": 0,
             "ticks": ""
            },
            "type": "choropleth"
           }
          ],
          "contour": [
           {
            "colorbar": {
             "outlinewidth": 0,
             "ticks": ""
            },
            "colorscale": [
             [
              0,
              "#0d0887"
             ],
             [
              0.1111111111111111,
              "#46039f"
             ],
             [
              0.2222222222222222,
              "#7201a8"
             ],
             [
              0.3333333333333333,
              "#9c179e"
             ],
             [
              0.4444444444444444,
              "#bd3786"
             ],
             [
              0.5555555555555556,
              "#d8576b"
             ],
             [
              0.6666666666666666,
              "#ed7953"
             ],
             [
              0.7777777777777778,
              "#fb9f3a"
             ],
             [
              0.8888888888888888,
              "#fdca26"
             ],
             [
              1,
              "#f0f921"
             ]
            ],
            "type": "contour"
           }
          ],
          "contourcarpet": [
           {
            "colorbar": {
             "outlinewidth": 0,
             "ticks": ""
            },
            "type": "contourcarpet"
           }
          ],
          "heatmap": [
           {
            "colorbar": {
             "outlinewidth": 0,
             "ticks": ""
            },
            "colorscale": [
             [
              0,
              "#0d0887"
             ],
             [
              0.1111111111111111,
              "#46039f"
             ],
             [
              0.2222222222222222,
              "#7201a8"
             ],
             [
              0.3333333333333333,
              "#9c179e"
             ],
             [
              0.4444444444444444,
              "#bd3786"
             ],
             [
              0.5555555555555556,
              "#d8576b"
             ],
             [
              0.6666666666666666,
              "#ed7953"
             ],
             [
              0.7777777777777778,
              "#fb9f3a"
             ],
             [
              0.8888888888888888,
              "#fdca26"
             ],
             [
              1,
              "#f0f921"
             ]
            ],
            "type": "heatmap"
           }
          ],
          "heatmapgl": [
           {
            "colorbar": {
             "outlinewidth": 0,
             "ticks": ""
            },
            "colorscale": [
             [
              0,
              "#0d0887"
             ],
             [
              0.1111111111111111,
              "#46039f"
             ],
             [
              0.2222222222222222,
              "#7201a8"
             ],
             [
              0.3333333333333333,
              "#9c179e"
             ],
             [
              0.4444444444444444,
              "#bd3786"
             ],
             [
              0.5555555555555556,
              "#d8576b"
             ],
             [
              0.6666666666666666,
              "#ed7953"
             ],
             [
              0.7777777777777778,
              "#fb9f3a"
             ],
             [
              0.8888888888888888,
              "#fdca26"
             ],
             [
              1,
              "#f0f921"
             ]
            ],
            "type": "heatmapgl"
           }
          ],
          "histogram": [
           {
            "marker": {
             "colorbar": {
              "outlinewidth": 0,
              "ticks": ""
             }
            },
            "type": "histogram"
           }
          ],
          "histogram2d": [
           {
            "colorbar": {
             "outlinewidth": 0,
             "ticks": ""
            },
            "colorscale": [
             [
              0,
              "#0d0887"
             ],
             [
              0.1111111111111111,
              "#46039f"
             ],
             [
              0.2222222222222222,
              "#7201a8"
             ],
             [
              0.3333333333333333,
              "#9c179e"
             ],
             [
              0.4444444444444444,
              "#bd3786"
             ],
             [
              0.5555555555555556,
              "#d8576b"
             ],
             [
              0.6666666666666666,
              "#ed7953"
             ],
             [
              0.7777777777777778,
              "#fb9f3a"
             ],
             [
              0.8888888888888888,
              "#fdca26"
             ],
             [
              1,
              "#f0f921"
             ]
            ],
            "type": "histogram2d"
           }
          ],
          "histogram2dcontour": [
           {
            "colorbar": {
             "outlinewidth": 0,
             "ticks": ""
            },
            "colorscale": [
             [
              0,
              "#0d0887"
             ],
             [
              0.1111111111111111,
              "#46039f"
             ],
             [
              0.2222222222222222,
              "#7201a8"
             ],
             [
              0.3333333333333333,
              "#9c179e"
             ],
             [
              0.4444444444444444,
              "#bd3786"
             ],
             [
              0.5555555555555556,
              "#d8576b"
             ],
             [
              0.6666666666666666,
              "#ed7953"
             ],
             [
              0.7777777777777778,
              "#fb9f3a"
             ],
             [
              0.8888888888888888,
              "#fdca26"
             ],
             [
              1,
              "#f0f921"
             ]
            ],
            "type": "histogram2dcontour"
           }
          ],
          "mesh3d": [
           {
            "colorbar": {
             "outlinewidth": 0,
             "ticks": ""
            },
            "type": "mesh3d"
           }
          ],
          "parcoords": [
           {
            "line": {
             "colorbar": {
              "outlinewidth": 0,
              "ticks": ""
             }
            },
            "type": "parcoords"
           }
          ],
          "pie": [
           {
            "automargin": true,
            "type": "pie"
           }
          ],
          "scatter": [
           {
            "marker": {
             "colorbar": {
              "outlinewidth": 0,
              "ticks": ""
             }
            },
            "type": "scatter"
           }
          ],
          "scatter3d": [
           {
            "line": {
             "colorbar": {
              "outlinewidth": 0,
              "ticks": ""
             }
            },
            "marker": {
             "colorbar": {
              "outlinewidth": 0,
              "ticks": ""
             }
            },
            "type": "scatter3d"
           }
          ],
          "scattercarpet": [
           {
            "marker": {
             "colorbar": {
              "outlinewidth": 0,
              "ticks": ""
             }
            },
            "type": "scattercarpet"
           }
          ],
          "scattergeo": [
           {
            "marker": {
             "colorbar": {
              "outlinewidth": 0,
              "ticks": ""
             }
            },
            "type": "scattergeo"
           }
          ],
          "scattergl": [
           {
            "marker": {
             "colorbar": {
              "outlinewidth": 0,
              "ticks": ""
             }
            },
            "type": "scattergl"
           }
          ],
          "scattermapbox": [
           {
            "marker": {
             "colorbar": {
              "outlinewidth": 0,
              "ticks": ""
             }
            },
            "type": "scattermapbox"
           }
          ],
          "scatterpolar": [
           {
            "marker": {
             "colorbar": {
              "outlinewidth": 0,
              "ticks": ""
             }
            },
            "type": "scatterpolar"
           }
          ],
          "scatterpolargl": [
           {
            "marker": {
             "colorbar": {
              "outlinewidth": 0,
              "ticks": ""
             }
            },
            "type": "scatterpolargl"
           }
          ],
          "scatterternary": [
           {
            "marker": {
             "colorbar": {
              "outlinewidth": 0,
              "ticks": ""
             }
            },
            "type": "scatterternary"
           }
          ],
          "surface": [
           {
            "colorbar": {
             "outlinewidth": 0,
             "ticks": ""
            },
            "colorscale": [
             [
              0,
              "#0d0887"
             ],
             [
              0.1111111111111111,
              "#46039f"
             ],
             [
              0.2222222222222222,
              "#7201a8"
             ],
             [
              0.3333333333333333,
              "#9c179e"
             ],
             [
              0.4444444444444444,
              "#bd3786"
             ],
             [
              0.5555555555555556,
              "#d8576b"
             ],
             [
              0.6666666666666666,
              "#ed7953"
             ],
             [
              0.7777777777777778,
              "#fb9f3a"
             ],
             [
              0.8888888888888888,
              "#fdca26"
             ],
             [
              1,
              "#f0f921"
             ]
            ],
            "type": "surface"
           }
          ],
          "table": [
           {
            "cells": {
             "fill": {
              "color": "#EBF0F8"
             },
             "line": {
              "color": "white"
             }
            },
            "header": {
             "fill": {
              "color": "#C8D4E3"
             },
             "line": {
              "color": "white"
             }
            },
            "type": "table"
           }
          ]
         },
         "layout": {
          "annotationdefaults": {
           "arrowcolor": "#2a3f5f",
           "arrowhead": 0,
           "arrowwidth": 1
          },
          "coloraxis": {
           "colorbar": {
            "outlinewidth": 0,
            "ticks": ""
           }
          },
          "colorscale": {
           "diverging": [
            [
             0,
             "#8e0152"
            ],
            [
             0.1,
             "#c51b7d"
            ],
            [
             0.2,
             "#de77ae"
            ],
            [
             0.3,
             "#f1b6da"
            ],
            [
             0.4,
             "#fde0ef"
            ],
            [
             0.5,
             "#f7f7f7"
            ],
            [
             0.6,
             "#e6f5d0"
            ],
            [
             0.7,
             "#b8e186"
            ],
            [
             0.8,
             "#7fbc41"
            ],
            [
             0.9,
             "#4d9221"
            ],
            [
             1,
             "#276419"
            ]
           ],
           "sequential": [
            [
             0,
             "#0d0887"
            ],
            [
             0.1111111111111111,
             "#46039f"
            ],
            [
             0.2222222222222222,
             "#7201a8"
            ],
            [
             0.3333333333333333,
             "#9c179e"
            ],
            [
             0.4444444444444444,
             "#bd3786"
            ],
            [
             0.5555555555555556,
             "#d8576b"
            ],
            [
             0.6666666666666666,
             "#ed7953"
            ],
            [
             0.7777777777777778,
             "#fb9f3a"
            ],
            [
             0.8888888888888888,
             "#fdca26"
            ],
            [
             1,
             "#f0f921"
            ]
           ],
           "sequentialminus": [
            [
             0,
             "#0d0887"
            ],
            [
             0.1111111111111111,
             "#46039f"
            ],
            [
             0.2222222222222222,
             "#7201a8"
            ],
            [
             0.3333333333333333,
             "#9c179e"
            ],
            [
             0.4444444444444444,
             "#bd3786"
            ],
            [
             0.5555555555555556,
             "#d8576b"
            ],
            [
             0.6666666666666666,
             "#ed7953"
            ],
            [
             0.7777777777777778,
             "#fb9f3a"
            ],
            [
             0.8888888888888888,
             "#fdca26"
            ],
            [
             1,
             "#f0f921"
            ]
           ]
          },
          "colorway": [
           "#636efa",
           "#EF553B",
           "#00cc96",
           "#ab63fa",
           "#FFA15A",
           "#19d3f3",
           "#FF6692",
           "#B6E880",
           "#FF97FF",
           "#FECB52"
          ],
          "font": {
           "color": "#2a3f5f"
          },
          "geo": {
           "bgcolor": "white",
           "lakecolor": "white",
           "landcolor": "#E5ECF6",
           "showlakes": true,
           "showland": true,
           "subunitcolor": "white"
          },
          "hoverlabel": {
           "align": "left"
          },
          "hovermode": "closest",
          "mapbox": {
           "style": "light"
          },
          "paper_bgcolor": "white",
          "plot_bgcolor": "#E5ECF6",
          "polar": {
           "angularaxis": {
            "gridcolor": "white",
            "linecolor": "white",
            "ticks": ""
           },
           "bgcolor": "#E5ECF6",
           "radialaxis": {
            "gridcolor": "white",
            "linecolor": "white",
            "ticks": ""
           }
          },
          "scene": {
           "xaxis": {
            "backgroundcolor": "#E5ECF6",
            "gridcolor": "white",
            "gridwidth": 2,
            "linecolor": "white",
            "showbackground": true,
            "ticks": "",
            "zerolinecolor": "white"
           },
           "yaxis": {
            "backgroundcolor": "#E5ECF6",
            "gridcolor": "white",
            "gridwidth": 2,
            "linecolor": "white",
            "showbackground": true,
            "ticks": "",
            "zerolinecolor": "white"
           },
           "zaxis": {
            "backgroundcolor": "#E5ECF6",
            "gridcolor": "white",
            "gridwidth": 2,
            "linecolor": "white",
            "showbackground": true,
            "ticks": "",
            "zerolinecolor": "white"
           }
          },
          "shapedefaults": {
           "line": {
            "color": "#2a3f5f"
           }
          },
          "ternary": {
           "aaxis": {
            "gridcolor": "white",
            "linecolor": "white",
            "ticks": ""
           },
           "baxis": {
            "gridcolor": "white",
            "linecolor": "white",
            "ticks": ""
           },
           "bgcolor": "#E5ECF6",
           "caxis": {
            "gridcolor": "white",
            "linecolor": "white",
            "ticks": ""
           }
          },
          "title": {
           "x": 0.05
          },
          "xaxis": {
           "automargin": true,
           "gridcolor": "white",
           "linecolor": "white",
           "ticks": "",
           "title": {
            "standoff": 15
           },
           "zerolinecolor": "white",
           "zerolinewidth": 2
          },
          "yaxis": {
           "automargin": true,
           "gridcolor": "white",
           "linecolor": "white",
           "ticks": "",
           "title": {
            "standoff": 15
           },
           "zerolinecolor": "white",
           "zerolinewidth": 2
          }
         }
        },
        "title": {
         "text": "Donations ($) by Repeat Donors (Cohort 2013)"
        },
        "xaxis": {
         "anchor": "y",
         "domain": [
          0,
          1
         ],
         "title": {
          "text": "year"
         }
        },
        "yaxis": {
         "anchor": "x",
         "domain": [
          0,
          1
         ],
         "title": {
          "text": "value"
         }
        }
       }
      },
      "text/html": [
       "<div>\n",
       "        \n",
       "        \n",
       "            <div id=\"b70587ff-b59c-4247-afa5-d95def0f849b\" class=\"plotly-graph-div\" style=\"height:525px; width:100%;\"></div>\n",
       "            <script type=\"text/javascript\">\n",
       "                require([\"plotly\"], function(Plotly) {\n",
       "                    window.PLOTLYENV=window.PLOTLYENV || {};\n",
       "                    \n",
       "                if (document.getElementById(\"b70587ff-b59c-4247-afa5-d95def0f849b\")) {\n",
       "                    Plotly.newPlot(\n",
       "                        'b70587ff-b59c-4247-afa5-d95def0f849b',\n",
       "                        [{\"alignmentgroup\": \"True\", \"hovertemplate\": \"variable=0,1,<br>year=%{x}<br>value=%{y}<extra></extra>\", \"legendgroup\": \"0,1,\", \"marker\": {\"color\": \"#636efa\"}, \"name\": \"0,1,\", \"offsetgroup\": \"0,1,\", \"orientation\": \"v\", \"showlegend\": true, \"textposition\": \"auto\", \"type\": \"bar\", \"x\": [\"amount_yr0\"], \"xaxis\": \"x\", \"y\": [3655885.410000013], \"yaxis\": \"y\"}, {\"alignmentgroup\": \"True\", \"hovertemplate\": \"variable=0,1,2,<br>year=%{x}<br>value=%{y}<extra></extra>\", \"legendgroup\": \"0,1,2,\", \"marker\": {\"color\": \"#EF553B\"}, \"name\": \"0,1,2,\", \"offsetgroup\": \"0,1,2,\", \"orientation\": \"v\", \"showlegend\": true, \"textposition\": \"auto\", \"type\": \"bar\", \"x\": [\"amount_yr0\"], \"xaxis\": \"x\", \"y\": [1528295.3399999985], \"yaxis\": \"y\"}, {\"alignmentgroup\": \"True\", \"hovertemplate\": \"variable=0,1,2,3,<br>year=%{x}<br>value=%{y}<extra></extra>\", \"legendgroup\": \"0,1,2,3,\", \"marker\": {\"color\": \"#00cc96\"}, \"name\": \"0,1,2,3,\", \"offsetgroup\": \"0,1,2,3,\", \"orientation\": \"v\", \"showlegend\": true, \"textposition\": \"auto\", \"type\": \"bar\", \"x\": [\"amount_yr0\"], \"xaxis\": \"x\", \"y\": [1124336.2], \"yaxis\": \"y\"}, {\"alignmentgroup\": \"True\", \"hovertemplate\": \"variable=0,1,2,3,4,<br>year=%{x}<br>value=%{y}<extra></extra>\", \"legendgroup\": \"0,1,2,3,4,\", \"marker\": {\"color\": \"#ab63fa\"}, \"name\": \"0,1,2,3,4,\", \"offsetgroup\": \"0,1,2,3,4,\", \"orientation\": \"v\", \"showlegend\": true, \"textposition\": \"auto\", \"type\": \"bar\", \"x\": [\"amount_yr0\"], \"xaxis\": \"x\", \"y\": [5209667.210000017], \"yaxis\": \"y\"}, {\"alignmentgroup\": \"True\", \"hovertemplate\": \"variable=0,1,2,4,<br>year=%{x}<br>value=%{y}<extra></extra>\", \"legendgroup\": \"0,1,2,4,\", \"marker\": {\"color\": \"#FFA15A\"}, \"name\": \"0,1,2,4,\", \"offsetgroup\": \"0,1,2,4,\", \"orientation\": \"v\", \"showlegend\": true, \"textposition\": \"auto\", \"type\": \"bar\", \"x\": [\"amount_yr0\"], \"xaxis\": \"x\", \"y\": [482861.08999999985], \"yaxis\": \"y\"}, {\"alignmentgroup\": \"True\", \"hovertemplate\": \"variable=0,1,3,<br>year=%{x}<br>value=%{y}<extra></extra>\", \"legendgroup\": \"0,1,3,\", \"marker\": {\"color\": \"#19d3f3\"}, \"name\": \"0,1,3,\", \"offsetgroup\": \"0,1,3,\", \"orientation\": \"v\", \"showlegend\": true, \"textposition\": \"auto\", \"type\": \"bar\", \"x\": [\"amount_yr0\"], \"xaxis\": \"x\", \"y\": [404406.91999999987], \"yaxis\": \"y\"}, {\"alignmentgroup\": \"True\", \"hovertemplate\": \"variable=0,1,3,4,<br>year=%{x}<br>value=%{y}<extra></extra>\", \"legendgroup\": \"0,1,3,4,\", \"marker\": {\"color\": \"#FF6692\"}, \"name\": \"0,1,3,4,\", \"offsetgroup\": \"0,1,3,4,\", \"orientation\": \"v\", \"showlegend\": true, \"textposition\": \"auto\", \"type\": \"bar\", \"x\": [\"amount_yr0\"], \"xaxis\": \"x\", \"y\": [335331.86999999994], \"yaxis\": \"y\"}, {\"alignmentgroup\": \"True\", \"hovertemplate\": \"variable=0,1,4,<br>year=%{x}<br>value=%{y}<extra></extra>\", \"legendgroup\": \"0,1,4,\", \"marker\": {\"color\": \"#B6E880\"}, \"name\": \"0,1,4,\", \"offsetgroup\": \"0,1,4,\", \"orientation\": \"v\", \"showlegend\": true, \"textposition\": \"auto\", \"type\": \"bar\", \"x\": [\"amount_yr0\"], \"xaxis\": \"x\", \"y\": [278396.7], \"yaxis\": \"y\"}, {\"alignmentgroup\": \"True\", \"hovertemplate\": \"variable=0,2,<br>year=%{x}<br>value=%{y}<extra></extra>\", \"legendgroup\": \"0,2,\", \"marker\": {\"color\": \"#FF97FF\"}, \"name\": \"0,2,\", \"offsetgroup\": \"0,2,\", \"orientation\": \"v\", \"showlegend\": true, \"textposition\": \"auto\", \"type\": \"bar\", \"x\": [\"amount_yr0\"], \"xaxis\": \"x\", \"y\": [1631608.529999998], \"yaxis\": \"y\"}, {\"alignmentgroup\": \"True\", \"hovertemplate\": \"variable=0,2,3,<br>year=%{x}<br>value=%{y}<extra></extra>\", \"legendgroup\": \"0,2,3,\", \"marker\": {\"color\": \"#FECB52\"}, \"name\": \"0,2,3,\", \"offsetgroup\": \"0,2,3,\", \"orientation\": \"v\", \"showlegend\": true, \"textposition\": \"auto\", \"type\": \"bar\", \"x\": [\"amount_yr0\"], \"xaxis\": \"x\", \"y\": [246634.9199999998], \"yaxis\": \"y\"}, {\"alignmentgroup\": \"True\", \"hovertemplate\": \"variable=0,2,3,4,<br>year=%{x}<br>value=%{y}<extra></extra>\", \"legendgroup\": \"0,2,3,4,\", \"marker\": {\"color\": \"#636efa\"}, \"name\": \"0,2,3,4,\", \"offsetgroup\": \"0,2,3,4,\", \"orientation\": \"v\", \"showlegend\": true, \"textposition\": \"auto\", \"type\": \"bar\", \"x\": [\"amount_yr0\"], \"xaxis\": \"x\", \"y\": [273684.57], \"yaxis\": \"y\"}, {\"alignmentgroup\": \"True\", \"hovertemplate\": \"variable=0,2,4,<br>year=%{x}<br>value=%{y}<extra></extra>\", \"legendgroup\": \"0,2,4,\", \"marker\": {\"color\": \"#EF553B\"}, \"name\": \"0,2,4,\", \"offsetgroup\": \"0,2,4,\", \"orientation\": \"v\", \"showlegend\": true, \"textposition\": \"auto\", \"type\": \"bar\", \"x\": [\"amount_yr0\"], \"xaxis\": \"x\", \"y\": [146542.83999999997], \"yaxis\": \"y\"}, {\"alignmentgroup\": \"True\", \"hovertemplate\": \"variable=0,3,<br>year=%{x}<br>value=%{y}<extra></extra>\", \"legendgroup\": \"0,3,\", \"marker\": {\"color\": \"#00cc96\"}, \"name\": \"0,3,\", \"offsetgroup\": \"0,3,\", \"orientation\": \"v\", \"showlegend\": true, \"textposition\": \"auto\", \"type\": \"bar\", \"x\": [\"amount_yr0\"], \"xaxis\": \"x\", \"y\": [538437.0999999997], \"yaxis\": \"y\"}, {\"alignmentgroup\": \"True\", \"hovertemplate\": \"variable=0,3,4<br>year=%{x}<br>value=%{y}<extra></extra>\", \"legendgroup\": \"0,3,4\", \"marker\": {\"color\": \"#ab63fa\"}, \"name\": \"0,3,4\", \"offsetgroup\": \"0,3,4\", \"orientation\": \"v\", \"showlegend\": true, \"textposition\": \"auto\", \"type\": \"bar\", \"x\": [\"amount_yr0\"], \"xaxis\": \"x\", \"y\": [227617.38999999998], \"yaxis\": \"y\"}, {\"alignmentgroup\": \"True\", \"hovertemplate\": \"variable=0,4,<br>year=%{x}<br>value=%{y}<extra></extra>\", \"legendgroup\": \"0,4,\", \"marker\": {\"color\": \"#FFA15A\"}, \"name\": \"0,4,\", \"offsetgroup\": \"0,4,\", \"orientation\": \"v\", \"showlegend\": true, \"textposition\": \"auto\", \"type\": \"bar\", \"x\": [\"amount_yr0\"], \"xaxis\": \"x\", \"y\": [395075.69], \"yaxis\": \"y\"}],\n",
       "                        {\"barmode\": \"group\", \"legend\": {\"title\": {\"text\": \"variable\"}, \"tracegroupgap\": 0}, \"template\": {\"data\": {\"bar\": [{\"error_x\": {\"color\": \"#2a3f5f\"}, \"error_y\": {\"color\": \"#2a3f5f\"}, \"marker\": {\"line\": {\"color\": \"#E5ECF6\", \"width\": 0.5}}, \"type\": \"bar\"}], \"barpolar\": [{\"marker\": {\"line\": {\"color\": \"#E5ECF6\", \"width\": 0.5}}, \"type\": \"barpolar\"}], \"carpet\": [{\"aaxis\": {\"endlinecolor\": \"#2a3f5f\", \"gridcolor\": \"white\", \"linecolor\": \"white\", \"minorgridcolor\": \"white\", \"startlinecolor\": \"#2a3f5f\"}, \"baxis\": {\"endlinecolor\": \"#2a3f5f\", \"gridcolor\": \"white\", \"linecolor\": \"white\", \"minorgridcolor\": \"white\", \"startlinecolor\": \"#2a3f5f\"}, \"type\": \"carpet\"}], \"choropleth\": [{\"colorbar\": {\"outlinewidth\": 0, \"ticks\": \"\"}, \"type\": \"choropleth\"}], \"contour\": [{\"colorbar\": {\"outlinewidth\": 0, \"ticks\": \"\"}, \"colorscale\": [[0.0, \"#0d0887\"], [0.1111111111111111, \"#46039f\"], [0.2222222222222222, \"#7201a8\"], [0.3333333333333333, \"#9c179e\"], [0.4444444444444444, \"#bd3786\"], [0.5555555555555556, \"#d8576b\"], [0.6666666666666666, \"#ed7953\"], [0.7777777777777778, \"#fb9f3a\"], [0.8888888888888888, \"#fdca26\"], [1.0, \"#f0f921\"]], \"type\": \"contour\"}], \"contourcarpet\": [{\"colorbar\": {\"outlinewidth\": 0, \"ticks\": \"\"}, \"type\": \"contourcarpet\"}], \"heatmap\": [{\"colorbar\": {\"outlinewidth\": 0, \"ticks\": \"\"}, \"colorscale\": [[0.0, \"#0d0887\"], [0.1111111111111111, \"#46039f\"], [0.2222222222222222, \"#7201a8\"], [0.3333333333333333, \"#9c179e\"], [0.4444444444444444, \"#bd3786\"], [0.5555555555555556, \"#d8576b\"], [0.6666666666666666, \"#ed7953\"], [0.7777777777777778, \"#fb9f3a\"], [0.8888888888888888, \"#fdca26\"], [1.0, \"#f0f921\"]], \"type\": \"heatmap\"}], \"heatmapgl\": [{\"colorbar\": {\"outlinewidth\": 0, \"ticks\": \"\"}, \"colorscale\": [[0.0, \"#0d0887\"], [0.1111111111111111, \"#46039f\"], [0.2222222222222222, \"#7201a8\"], [0.3333333333333333, \"#9c179e\"], [0.4444444444444444, \"#bd3786\"], [0.5555555555555556, \"#d8576b\"], [0.6666666666666666, \"#ed7953\"], [0.7777777777777778, \"#fb9f3a\"], [0.8888888888888888, \"#fdca26\"], [1.0, \"#f0f921\"]], \"type\": \"heatmapgl\"}], \"histogram\": [{\"marker\": {\"colorbar\": {\"outlinewidth\": 0, \"ticks\": \"\"}}, \"type\": \"histogram\"}], \"histogram2d\": [{\"colorbar\": {\"outlinewidth\": 0, \"ticks\": \"\"}, \"colorscale\": [[0.0, \"#0d0887\"], [0.1111111111111111, \"#46039f\"], [0.2222222222222222, \"#7201a8\"], [0.3333333333333333, \"#9c179e\"], [0.4444444444444444, \"#bd3786\"], [0.5555555555555556, \"#d8576b\"], [0.6666666666666666, \"#ed7953\"], [0.7777777777777778, \"#fb9f3a\"], [0.8888888888888888, \"#fdca26\"], [1.0, \"#f0f921\"]], \"type\": \"histogram2d\"}], \"histogram2dcontour\": [{\"colorbar\": {\"outlinewidth\": 0, \"ticks\": \"\"}, \"colorscale\": [[0.0, \"#0d0887\"], [0.1111111111111111, \"#46039f\"], [0.2222222222222222, \"#7201a8\"], [0.3333333333333333, \"#9c179e\"], [0.4444444444444444, \"#bd3786\"], [0.5555555555555556, \"#d8576b\"], [0.6666666666666666, \"#ed7953\"], [0.7777777777777778, \"#fb9f3a\"], [0.8888888888888888, \"#fdca26\"], [1.0, \"#f0f921\"]], \"type\": \"histogram2dcontour\"}], \"mesh3d\": [{\"colorbar\": {\"outlinewidth\": 0, \"ticks\": \"\"}, \"type\": \"mesh3d\"}], \"parcoords\": [{\"line\": {\"colorbar\": {\"outlinewidth\": 0, \"ticks\": \"\"}}, \"type\": \"parcoords\"}], \"pie\": [{\"automargin\": true, \"type\": \"pie\"}], \"scatter\": [{\"marker\": {\"colorbar\": {\"outlinewidth\": 0, \"ticks\": \"\"}}, \"type\": \"scatter\"}], \"scatter3d\": [{\"line\": {\"colorbar\": {\"outlinewidth\": 0, \"ticks\": \"\"}}, \"marker\": {\"colorbar\": {\"outlinewidth\": 0, \"ticks\": \"\"}}, \"type\": \"scatter3d\"}], \"scattercarpet\": [{\"marker\": {\"colorbar\": {\"outlinewidth\": 0, \"ticks\": \"\"}}, \"type\": \"scattercarpet\"}], \"scattergeo\": [{\"marker\": {\"colorbar\": {\"outlinewidth\": 0, \"ticks\": \"\"}}, \"type\": \"scattergeo\"}], \"scattergl\": [{\"marker\": {\"colorbar\": {\"outlinewidth\": 0, \"ticks\": \"\"}}, \"type\": \"scattergl\"}], \"scattermapbox\": [{\"marker\": {\"colorbar\": {\"outlinewidth\": 0, \"ticks\": \"\"}}, \"type\": \"scattermapbox\"}], \"scatterpolar\": [{\"marker\": {\"colorbar\": {\"outlinewidth\": 0, \"ticks\": \"\"}}, \"type\": \"scatterpolar\"}], \"scatterpolargl\": [{\"marker\": {\"colorbar\": {\"outlinewidth\": 0, \"ticks\": \"\"}}, \"type\": \"scatterpolargl\"}], \"scatterternary\": [{\"marker\": {\"colorbar\": {\"outlinewidth\": 0, \"ticks\": \"\"}}, \"type\": \"scatterternary\"}], \"surface\": [{\"colorbar\": {\"outlinewidth\": 0, \"ticks\": \"\"}, \"colorscale\": [[0.0, \"#0d0887\"], [0.1111111111111111, \"#46039f\"], [0.2222222222222222, \"#7201a8\"], [0.3333333333333333, \"#9c179e\"], [0.4444444444444444, \"#bd3786\"], [0.5555555555555556, \"#d8576b\"], [0.6666666666666666, \"#ed7953\"], [0.7777777777777778, \"#fb9f3a\"], [0.8888888888888888, \"#fdca26\"], [1.0, \"#f0f921\"]], \"type\": \"surface\"}], \"table\": [{\"cells\": {\"fill\": {\"color\": \"#EBF0F8\"}, \"line\": {\"color\": \"white\"}}, \"header\": {\"fill\": {\"color\": \"#C8D4E3\"}, \"line\": {\"color\": \"white\"}}, \"type\": \"table\"}]}, \"layout\": {\"annotationdefaults\": {\"arrowcolor\": \"#2a3f5f\", \"arrowhead\": 0, \"arrowwidth\": 1}, \"coloraxis\": {\"colorbar\": {\"outlinewidth\": 0, \"ticks\": \"\"}}, \"colorscale\": {\"diverging\": [[0, \"#8e0152\"], [0.1, \"#c51b7d\"], [0.2, \"#de77ae\"], [0.3, \"#f1b6da\"], [0.4, \"#fde0ef\"], [0.5, \"#f7f7f7\"], [0.6, \"#e6f5d0\"], [0.7, \"#b8e186\"], [0.8, \"#7fbc41\"], [0.9, \"#4d9221\"], [1, \"#276419\"]], \"sequential\": [[0.0, \"#0d0887\"], [0.1111111111111111, \"#46039f\"], [0.2222222222222222, \"#7201a8\"], [0.3333333333333333, \"#9c179e\"], [0.4444444444444444, \"#bd3786\"], [0.5555555555555556, \"#d8576b\"], [0.6666666666666666, \"#ed7953\"], [0.7777777777777778, \"#fb9f3a\"], [0.8888888888888888, \"#fdca26\"], [1.0, \"#f0f921\"]], \"sequentialminus\": [[0.0, \"#0d0887\"], [0.1111111111111111, \"#46039f\"], [0.2222222222222222, \"#7201a8\"], [0.3333333333333333, \"#9c179e\"], [0.4444444444444444, \"#bd3786\"], [0.5555555555555556, \"#d8576b\"], [0.6666666666666666, \"#ed7953\"], [0.7777777777777778, \"#fb9f3a\"], [0.8888888888888888, \"#fdca26\"], [1.0, \"#f0f921\"]]}, \"colorway\": [\"#636efa\", \"#EF553B\", \"#00cc96\", \"#ab63fa\", \"#FFA15A\", \"#19d3f3\", \"#FF6692\", \"#B6E880\", \"#FF97FF\", \"#FECB52\"], \"font\": {\"color\": \"#2a3f5f\"}, \"geo\": {\"bgcolor\": \"white\", \"lakecolor\": \"white\", \"landcolor\": \"#E5ECF6\", \"showlakes\": true, \"showland\": true, \"subunitcolor\": \"white\"}, \"hoverlabel\": {\"align\": \"left\"}, \"hovermode\": \"closest\", \"mapbox\": {\"style\": \"light\"}, \"paper_bgcolor\": \"white\", \"plot_bgcolor\": \"#E5ECF6\", \"polar\": {\"angularaxis\": {\"gridcolor\": \"white\", \"linecolor\": \"white\", \"ticks\": \"\"}, \"bgcolor\": \"#E5ECF6\", \"radialaxis\": {\"gridcolor\": \"white\", \"linecolor\": \"white\", \"ticks\": \"\"}}, \"scene\": {\"xaxis\": {\"backgroundcolor\": \"#E5ECF6\", \"gridcolor\": \"white\", \"gridwidth\": 2, \"linecolor\": \"white\", \"showbackground\": true, \"ticks\": \"\", \"zerolinecolor\": \"white\"}, \"yaxis\": {\"backgroundcolor\": \"#E5ECF6\", \"gridcolor\": \"white\", \"gridwidth\": 2, \"linecolor\": \"white\", \"showbackground\": true, \"ticks\": \"\", \"zerolinecolor\": \"white\"}, \"zaxis\": {\"backgroundcolor\": \"#E5ECF6\", \"gridcolor\": \"white\", \"gridwidth\": 2, \"linecolor\": \"white\", \"showbackground\": true, \"ticks\": \"\", \"zerolinecolor\": \"white\"}}, \"shapedefaults\": {\"line\": {\"color\": \"#2a3f5f\"}}, \"ternary\": {\"aaxis\": {\"gridcolor\": \"white\", \"linecolor\": \"white\", \"ticks\": \"\"}, \"baxis\": {\"gridcolor\": \"white\", \"linecolor\": \"white\", \"ticks\": \"\"}, \"bgcolor\": \"#E5ECF6\", \"caxis\": {\"gridcolor\": \"white\", \"linecolor\": \"white\", \"ticks\": \"\"}}, \"title\": {\"x\": 0.05}, \"xaxis\": {\"automargin\": true, \"gridcolor\": \"white\", \"linecolor\": \"white\", \"ticks\": \"\", \"title\": {\"standoff\": 15}, \"zerolinecolor\": \"white\", \"zerolinewidth\": 2}, \"yaxis\": {\"automargin\": true, \"gridcolor\": \"white\", \"linecolor\": \"white\", \"ticks\": \"\", \"title\": {\"standoff\": 15}, \"zerolinecolor\": \"white\", \"zerolinewidth\": 2}}}, \"title\": {\"text\": \"Donations ($) by Repeat Donors (Cohort 2013)\"}, \"xaxis\": {\"anchor\": \"y\", \"domain\": [0.0, 1.0], \"title\": {\"text\": \"year\"}}, \"yaxis\": {\"anchor\": \"x\", \"domain\": [0.0, 1.0], \"title\": {\"text\": \"value\"}}},\n",
       "                        {\"responsive\": true}\n",
       "                    ).then(function(){\n",
       "                            \n",
       "var gd = document.getElementById('b70587ff-b59c-4247-afa5-d95def0f849b');\n",
       "var x = new MutationObserver(function (mutations, observer) {{\n",
       "        var display = window.getComputedStyle(gd).display;\n",
       "        if (!display || display === 'none') {{\n",
       "            console.log([gd, 'removed!']);\n",
       "            Plotly.purge(gd);\n",
       "            observer.disconnect();\n",
       "        }}\n",
       "}});\n",
       "\n",
       "// Listen for the removal of the full notebook cells\n",
       "var notebookContainer = gd.closest('#notebook-container');\n",
       "if (notebookContainer) {{\n",
       "    x.observe(notebookContainer, {childList: true});\n",
       "}}\n",
       "\n",
       "// Listen for the clearing of the current output cell\n",
       "var outputEl = gd.closest('.output');\n",
       "if (outputEl) {{\n",
       "    x.observe(outputEl, {childList: true});\n",
       "}}\n",
       "\n",
       "                        })\n",
       "                };\n",
       "                });\n",
       "            </script>\n",
       "        </div>"
      ]
     },
     "metadata": {},
     "output_type": "display_data"
    }
   ],
   "source": [
    "fig = px.bar(c13_repeat_yr_amounts_transposed.query('index == \"amount_yr0\"'), x=\"index\", y=['0,1,', '0,1,2,', '0,1,2,3,', '0,1,2,3,4,', '0,1,2,4,',\n",
    "       '0,1,3,', '0,1,3,4,', '0,1,4,', '0,2,', '0,2,3,', '0,2,3,4,', '0,2,4,', '0,3,', '0,3,4', '0,4,'], barmode='group', labels={'index':'year', 'y':'amount ($)'}, title=\"Donations ($) by Repeat Donors (Cohort 2013)\")\n",
    "fig.show()"
   ]
  },
  {
   "cell_type": "code",
   "execution_count": null,
   "metadata": {},
   "outputs": [],
   "source": [
    "fig = px.bar(cgp_counts_by_year1_transposed, x=\"index\", y=['0,', '0,1,', '0,1,2,', '0,1,2,3,', '0,1,2,3,4,', '0,1,2,4,',\n",
    "       '0,1,3,', '0,1,3,4,', '0,1,4,', '0,2,', '0,2,3,', '0,2,3,4,', '0,2,4,', '0,3,', '0,3,4', '0,4,'], title=\"Wide-Form Input\")\n",
    "fig.show()"
   ]
  },
  {
   "cell_type": "code",
   "execution_count": null,
   "metadata": {},
   "outputs": [],
   "source": [
    "donations_13to17.query('amount_yr1 > 0').cohort_gift_pattern.value_counts()"
   ]
  },
  {
   "cell_type": "code",
   "execution_count": null,
   "metadata": {},
   "outputs": [],
   "source": [
    "donations_13to17.query('amount_yr2 > 0').cohort_gift_pattern.value_counts()"
   ]
  },
  {
   "cell_type": "code",
   "execution_count": null,
   "metadata": {},
   "outputs": [],
   "source": [
    "donations_13to17.query('amount_yr3 > 0').cohort_gift_pattern.value_counts()"
   ]
  },
  {
   "cell_type": "code",
   "execution_count": null,
   "metadata": {},
   "outputs": [],
   "source": [
    "donations_13to17.query('amount_yr4 > 0').cohort_gift_pattern.value_counts()"
   ]
  },
  {
   "cell_type": "code",
   "execution_count": null,
   "metadata": {},
   "outputs": [],
   "source": [
    "c13=donations_13to17.query('first_gift_year == \"2013-01-01\"')"
   ]
  },
  {
   "cell_type": "code",
   "execution_count": null,
   "metadata": {},
   "outputs": [],
   "source": [
    "c13.head()"
   ]
  },
  {
   "cell_type": "code",
   "execution_count": null,
   "metadata": {},
   "outputs": [],
   "source": [
    "c13.cohort_gift_pattern.value_counts()"
   ]
  },
  {
   "cell_type": "code",
   "execution_count": null,
   "metadata": {},
   "outputs": [],
   "source": [
    "c13.id.count()"
   ]
  },
  {
   "cell_type": "code",
   "execution_count": null,
   "metadata": {},
   "outputs": [],
   "source": [
    "for col in c13.columns:\n",
    "    print(col)"
   ]
  },
  {
   "cell_type": "code",
   "execution_count": null,
   "metadata": {},
   "outputs": [],
   "source": [
    "c13.query('amount_yr1 > 0 & amount_yr4 > 0').count()['id']"
   ]
  },
  {
   "cell_type": "code",
   "execution_count": null,
   "metadata": {},
   "outputs": [],
   "source": []
  }
 ],
 "metadata": {
  "kernelspec": {
   "display_name": "Python 3",
   "language": "python",
   "name": "python3"
  },
  "language_info": {
   "codemirror_mode": {
    "name": "ipython",
    "version": 3
   },
   "file_extension": ".py",
   "mimetype": "text/x-python",
   "name": "python",
   "nbconvert_exporter": "python",
   "pygments_lexer": "ipython3",
   "version": "3.7.4"
  }
 },
 "nbformat": 4,
 "nbformat_minor": 2
}
