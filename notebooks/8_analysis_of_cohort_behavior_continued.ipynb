{
 "cells": [
  {
   "cell_type": "code",
   "execution_count": 1,
   "metadata": {},
   "outputs": [],
   "source": [
    "import numpy as np\n",
    "import pandas as pd\n",
    "import plotly.express as px\n",
    "import plotly.graph_objects as go\n",
    "from plotly.subplots import make_subplots\n",
    "import re\n",
    "\n",
    "import seaborn as sns\n",
    "import matplotlib.pyplot as plt\n",
    "sns.set_style(\"white\")\n",
    "%matplotlib inline"
   ]
  },
  {
   "cell_type": "code",
   "execution_count": 2,
   "metadata": {},
   "outputs": [],
   "source": [
    "donations_13to17=pd.read_pickle('donations_13to17.pkl')"
   ]
  },
  {
   "cell_type": "code",
   "execution_count": null,
   "metadata": {},
   "outputs": [],
   "source": [
    "donations_13to17.head()"
   ]
  },
  {
   "cell_type": "code",
   "execution_count": null,
   "metadata": {},
   "outputs": [],
   "source": [
    "donations_13to17.columns.tolist()"
   ]
  },
  {
   "cell_type": "code",
   "execution_count": null,
   "metadata": {},
   "outputs": [],
   "source": [
    "cols=['amount_yr0',\n",
    " 'amount_yr1',\n",
    " 'amount_yr2',\n",
    " 'amount_yr3',\n",
    " 'amount_yr4',\n",
    " 'count_yr0',\n",
    " 'count_yr1',\n",
    " 'count_yr2',\n",
    " 'count_yr3',\n",
    " 'count_yr4',\n",
    " 'id',\n",
    " 'first_gift_year',\n",
    " 'lapsed_count',\n",
    " 'recovered_count',\n",
    " 'max_consec_giving_years',\n",
    " 'total_giving_years',\n",
    " 'count_2013',\n",
    " 'count_2014',\n",
    " 'count_2015',\n",
    " 'count_2016',\n",
    " 'count_2017',\n",
    " 'lapsed_amount',\n",
    " 'recovered_amount',\n",
    " 'amount_2013',\n",
    " 'amount_2014',\n",
    " 'amount_2015',\n",
    " 'amount_2016',\n",
    " 'amount_2017',\n",
    " 'lapsed_amount_2013',\n",
    " 'lapsed_amount_2014',\n",
    " 'lapsed_amount_2015',\n",
    " 'lapsed_amount_2016',\n",
    " 'lapsed_amount_2017',\n",
    " 'upgraded_amount_2013',\n",
    " 'upgraded_amount_2014',\n",
    " 'upgraded_amount_2015',\n",
    " 'upgraded_amount_2016',\n",
    " 'upgraded_amount_2017',\n",
    " 'downgraded_amount_2013',\n",
    " 'downgraded_amount_2014',\n",
    " 'downgraded_amount_2015',\n",
    " 'downgraded_amount_2016',\n",
    " 'downgraded_amount_2017',\n",
    " 'lapsed_amount_yr0',\n",
    " 'lapsed_amount_yr1',\n",
    " 'lapsed_amount_yr2',\n",
    " 'lapsed_amount_yr3',\n",
    " 'lapsed_amount_yr4',\n",
    " 'upgraded_amount_yr0',\n",
    " 'upgraded_amount_yr1',\n",
    " 'upgraded_amount_yr2',\n",
    " 'upgraded_amount_yr3',\n",
    " 'upgraded_amount_yr4',\n",
    " 'downgraded_amount_yr0',\n",
    " 'downgraded_amount_yr1',\n",
    " 'downgraded_amount_yr2',\n",
    " 'downgraded_amount_yr3',\n",
    " 'downgraded_amount_yr4',\n",
    " 'amount_01_2013',\n",
    " 'amount_02_2013',\n",
    " 'amount_03_2013',\n",
    " 'amount_04_2013',\n",
    " 'amount_05_2013',\n",
    " 'amount_06_2013',\n",
    " 'amount_07_2013',\n",
    " 'amount_08_2013',\n",
    " 'amount_09_2013',\n",
    " 'amount_10_2013',\n",
    " 'amount_11_2013',\n",
    " 'amount_12_2013',\n",
    " 'amount_01_2014',\n",
    " 'amount_02_2014',\n",
    " 'amount_03_2014',\n",
    " 'amount_04_2014',\n",
    " 'amount_05_2014',\n",
    " 'amount_06_2014',\n",
    " 'amount_07_2014',\n",
    " 'amount_08_2014',\n",
    " 'amount_09_2014',\n",
    " 'amount_10_2014',\n",
    " 'amount_11_2014',\n",
    " 'amount_12_2014',\n",
    " 'amount_01_2015',\n",
    " 'amount_02_2015',\n",
    " 'amount_03_2015',\n",
    " 'amount_04_2015',\n",
    " 'amount_05_2015',\n",
    " 'amount_06_2015',\n",
    " 'amount_07_2015',\n",
    " 'amount_08_2015',\n",
    " 'amount_09_2015',\n",
    " 'amount_10_2015',\n",
    " 'amount_11_2015',\n",
    " 'amount_12_2015',\n",
    " 'amount_01_2016',\n",
    " 'amount_02_2016',\n",
    " 'amount_03_2016',\n",
    " 'amount_04_2016',\n",
    " 'amount_05_2016',\n",
    " 'amount_06_2016',\n",
    " 'amount_07_2016',\n",
    " 'amount_08_2016',\n",
    " 'amount_09_2016',\n",
    " 'amount_10_2016',\n",
    " 'amount_11_2016',\n",
    " 'amount_12_2016',\n",
    " 'amount_01_2017',\n",
    " 'amount_02_2017',\n",
    " 'amount_03_2017',\n",
    " 'amount_04_2017',\n",
    " 'amount_05_2017',\n",
    " 'amount_06_2017',\n",
    " 'amount_07_2017',\n",
    " 'amount_08_2017',\n",
    " 'amount_09_2017',\n",
    " 'amount_10_2017',\n",
    " 'amount_11_2017',\n",
    " 'amount_12_2017',\n",
    " 'amount_total',\n",
    " 'count_total',\n",
    " 'amount_01_yr0',\n",
    " 'amount_02_yr0',\n",
    " 'amount_03_yr0',\n",
    " 'amount_04_yr0',\n",
    " 'amount_05_yr0',\n",
    " 'amount_06_yr0',\n",
    " 'amount_07_yr0',\n",
    " 'amount_08_yr0',\n",
    " 'amount_09_yr0',\n",
    " 'amount_10_yr0',\n",
    " 'amount_11_yr0',\n",
    " 'amount_12_yr0',\n",
    " 'amount_01_yr1',\n",
    " 'amount_02_yr1',\n",
    " 'amount_03_yr1',\n",
    " 'amount_04_yr1',\n",
    " 'amount_05_yr1',\n",
    " 'amount_06_yr1',\n",
    " 'amount_07_yr1',\n",
    " 'amount_08_yr1',\n",
    " 'amount_09_yr1',\n",
    " 'amount_10_yr1',\n",
    " 'amount_11_yr1',\n",
    " 'amount_12_yr1',\n",
    " 'amount_01_yr2',\n",
    " 'amount_02_yr2',\n",
    " 'amount_03_yr2',\n",
    " 'amount_04_yr2',\n",
    " 'amount_05_yr2',\n",
    " 'amount_06_yr2',\n",
    " 'amount_07_yr2',\n",
    " 'amount_08_yr2',\n",
    " 'amount_09_yr2',\n",
    " 'amount_10_yr2',\n",
    " 'amount_11_yr2',\n",
    " 'amount_12_yr2',\n",
    " 'amount_01_yr3',\n",
    " 'amount_02_yr3',\n",
    " 'amount_03_yr3',\n",
    " 'amount_04_yr3',\n",
    " 'amount_05_yr3',\n",
    " 'amount_06_yr3',\n",
    " 'amount_07_yr3',\n",
    " 'amount_08_yr3',\n",
    " 'amount_09_yr3',\n",
    " 'amount_10_yr3',\n",
    " 'amount_11_yr3',\n",
    " 'amount_12_yr3',\n",
    " 'amount_01_yr4',\n",
    " 'amount_02_yr4',\n",
    " 'amount_03_yr4',\n",
    " 'amount_04_yr4',\n",
    " 'amount_05_yr4',\n",
    " 'amount_06_yr4',\n",
    " 'amount_07_yr4',\n",
    " 'amount_08_yr4',\n",
    " 'amount_09_yr4',\n",
    " 'amount_10_yr4',\n",
    " 'amount_11_yr4',\n",
    " 'amount_12_yr4',\n",
    " 'years_donated',\n",
    " 'cohort_gift_pattern',\n",
    " 'perc_years_donated',\n",
    " 'gift_pattern',\n",
    " 'donor_profile',\n",
    " 'behavior_2013',\n",
    " 'behavior_2014',\n",
    " 'behavior_2015',\n",
    " 'behavior_2016',\n",
    " 'behavior_2017',\n",
    " 'gainloss_2013',\n",
    " 'gainloss_2014',\n",
    " 'gainloss_2015',\n",
    " 'gainloss_2016',\n",
    " 'gainloss_2017',\n",
    " 'gainloss_2014_amt',\n",
    " 'gainloss_2015_amt',\n",
    " 'gainloss_2016_amt',\n",
    " 'gainloss_2017_amt']"
   ]
  },
  {
   "cell_type": "code",
   "execution_count": null,
   "metadata": {},
   "outputs": [],
   "source": [
    "donations_13to17=donations_13to17[cols]"
   ]
  },
  {
   "cell_type": "code",
   "execution_count": 3,
   "metadata": {},
   "outputs": [],
   "source": [
    "#cohort13\n",
    "c13=donations_13to17.query('first_gift_year == \"2013-01-01\"')"
   ]
  },
  {
   "cell_type": "code",
   "execution_count": null,
   "metadata": {},
   "outputs": [],
   "source": [
    "c13.donor_profile.value_counts()"
   ]
  },
  {
   "cell_type": "code",
   "execution_count": null,
   "metadata": {},
   "outputs": [],
   "source": [
    "c13.query('donor_profile == \"one_time\"').sum()['amount_total']"
   ]
  },
  {
   "cell_type": "code",
   "execution_count": null,
   "metadata": {},
   "outputs": [],
   "source": [
    "c13_yr=c13.groupby('cohort_gift_pattern').sum()"
   ]
  },
  {
   "cell_type": "code",
   "execution_count": null,
   "metadata": {},
   "outputs": [],
   "source": [
    "c13_yr_amounts=c13_yr[['amount_yr0','amount_yr1','amount_yr2','amount_yr3','amount_yr4']]"
   ]
  },
  {
   "cell_type": "code",
   "execution_count": null,
   "metadata": {},
   "outputs": [],
   "source": [
    "c13_yr_amounts"
   ]
  },
  {
   "cell_type": "code",
   "execution_count": null,
   "metadata": {},
   "outputs": [],
   "source": [
    "c13_yr_amounts_transposed=c13_yr_amounts.T.reset_index()"
   ]
  },
  {
   "cell_type": "code",
   "execution_count": null,
   "metadata": {},
   "outputs": [],
   "source": [
    "c13_yr_amounts_transposed"
   ]
  },
  {
   "cell_type": "code",
   "execution_count": null,
   "metadata": {},
   "outputs": [],
   "source": [
    "cgp_amounts_by_year=donations_13to17.groupby('cohort_gift_pattern').sum().round(0)"
   ]
  },
  {
   "cell_type": "code",
   "execution_count": null,
   "metadata": {},
   "outputs": [],
   "source": [
    "cgp_amounts_by_year"
   ]
  },
  {
   "cell_type": "code",
   "execution_count": null,
   "metadata": {},
   "outputs": [],
   "source": [
    "cgp_amounts_by_year.columns"
   ]
  },
  {
   "cell_type": "code",
   "execution_count": null,
   "metadata": {},
   "outputs": [],
   "source": [
    "cgp_amounts_by_year1=cgp_amounts_by_year[['amount_yr0','amount_yr1','amount_yr2','amount_yr3','amount_yr4']]"
   ]
  },
  {
   "cell_type": "code",
   "execution_count": null,
   "metadata": {},
   "outputs": [],
   "source": [
    "cgp_amounts_by_year1"
   ]
  },
  {
   "cell_type": "code",
   "execution_count": null,
   "metadata": {},
   "outputs": [],
   "source": [
    "cgp_amounts_by_year1_transposed=cgp_amounts_by_year1.T.reset_index()"
   ]
  },
  {
   "cell_type": "code",
   "execution_count": null,
   "metadata": {},
   "outputs": [],
   "source": [
    "cgp_counts_by_year1=cgp_amounts_by_year[['count_yr0', 'count_yr1', 'count_yr2', 'count_yr3', 'count_yr4']]"
   ]
  },
  {
   "cell_type": "code",
   "execution_count": null,
   "metadata": {},
   "outputs": [],
   "source": [
    "cgp_counts_by_year1_transposed=cgp_counts_by_year1.T.reset_index()"
   ]
  },
  {
   "cell_type": "code",
   "execution_count": null,
   "metadata": {},
   "outputs": [],
   "source": [
    "cgp_counts_by_year1"
   ]
  },
  {
   "cell_type": "code",
   "execution_count": null,
   "metadata": {},
   "outputs": [],
   "source": [
    "fig = px.bar(cgp_amounts_by_year1_transposed, x=\"index\", y=['0,', '0,1,', '0,1,2,', '0,1,2,3,', '0,1,2,3,4,', '0,1,2,4,',\n",
    "       '0,1,3,', '0,1,3,4,', '0,1,4,', '0,2,', '0,2,3,', '0,2,3,4,', '0,2,4,', '0,3,', '0,3,4', '0,4,'], title=\"Wide-Form Input\")\n",
    "fig.show()"
   ]
  },
  {
   "cell_type": "code",
   "execution_count": null,
   "metadata": {},
   "outputs": [],
   "source": [
    "fig = px.bar(cgp_counts_by_year1_transposed, x=\"index\", y=['0,', '0,1,', '0,1,2,', '0,1,2,3,', '0,1,2,3,4,', '0,1,2,4,',\n",
    "       '0,1,3,', '0,1,3,4,', '0,1,4,', '0,2,', '0,2,3,', '0,2,3,4,', '0,2,4,', '0,3,', '0,3,4', '0,4,'], title=\"Wide-Form Input\")\n",
    "fig.show()"
   ]
  },
  {
   "cell_type": "code",
   "execution_count": null,
   "metadata": {},
   "outputs": [],
   "source": [
    "donations_13to17.query('amount_yr1 > 0').cohort_gift_pattern.value_counts()"
   ]
  },
  {
   "cell_type": "code",
   "execution_count": null,
   "metadata": {},
   "outputs": [],
   "source": [
    "donations_13to17.query('amount_yr2 > 0').cohort_gift_pattern.value_counts()"
   ]
  },
  {
   "cell_type": "code",
   "execution_count": null,
   "metadata": {},
   "outputs": [],
   "source": [
    "donations_13to17.query('amount_yr3 > 0').cohort_gift_pattern.value_counts()"
   ]
  },
  {
   "cell_type": "code",
   "execution_count": null,
   "metadata": {},
   "outputs": [],
   "source": [
    "donations_13to17.query('amount_yr4 > 0').cohort_gift_pattern.value_counts()"
   ]
  },
  {
   "cell_type": "code",
   "execution_count": null,
   "metadata": {},
   "outputs": [],
   "source": [
    "c13=donations_13to17.query('first_gift_year == \"2013-01-01\"')"
   ]
  },
  {
   "cell_type": "code",
   "execution_count": null,
   "metadata": {},
   "outputs": [],
   "source": [
    "c13.head()"
   ]
  },
  {
   "cell_type": "code",
   "execution_count": null,
   "metadata": {},
   "outputs": [],
   "source": [
    "c13.cohort_gift_pattern.value_counts()"
   ]
  },
  {
   "cell_type": "code",
   "execution_count": null,
   "metadata": {},
   "outputs": [],
   "source": [
    "c13.id.count()"
   ]
  },
  {
   "cell_type": "code",
   "execution_count": null,
   "metadata": {},
   "outputs": [],
   "source": [
    "for col in c13.columns:\n",
    "    print(col)"
   ]
  },
  {
   "cell_type": "code",
   "execution_count": null,
   "metadata": {},
   "outputs": [],
   "source": [
    "c13.query('amount_yr1 > 0 & amount_yr4 > 0').count()['id']"
   ]
  },
  {
   "cell_type": "code",
   "execution_count": null,
   "metadata": {},
   "outputs": [],
   "source": []
  }
 ],
 "metadata": {
  "kernelspec": {
   "display_name": "Python 3",
   "language": "python",
   "name": "python3"
  },
  "language_info": {
   "codemirror_mode": {
    "name": "ipython",
    "version": 3
   },
   "file_extension": ".py",
   "mimetype": "text/x-python",
   "name": "python",
   "nbconvert_exporter": "python",
   "pygments_lexer": "ipython3",
   "version": "3.7.4"
  }
 },
 "nbformat": 4,
 "nbformat_minor": 2
}
