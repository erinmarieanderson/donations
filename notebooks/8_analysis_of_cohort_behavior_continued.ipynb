{
 "cells": [
  {
   "cell_type": "code",
   "execution_count": 1,
   "metadata": {},
   "outputs": [],
   "source": [
    "import numpy as np\n",
    "import pandas as pd\n",
    "import plotly.express as px\n",
    "import plotly.graph_objects as go\n",
    "from plotly.subplots import make_subplots\n",
    "import re\n",
    "\n",
    "import seaborn as sns\n",
    "import matplotlib.pyplot as plt\n",
    "sns.set_style(\"white\")\n",
    "%matplotlib inline"
   ]
  },
  {
   "cell_type": "code",
   "execution_count": 2,
   "metadata": {},
   "outputs": [],
   "source": [
    "donations_13to17=pd.read_pickle('donations_13to17.pkl')"
   ]
  },
  {
   "cell_type": "code",
   "execution_count": 75,
   "metadata": {},
   "outputs": [
    {
     "data": {
      "text/html": [
       "<div>\n",
       "<style scoped>\n",
       "    .dataframe tbody tr th:only-of-type {\n",
       "        vertical-align: middle;\n",
       "    }\n",
       "\n",
       "    .dataframe tbody tr th {\n",
       "        vertical-align: top;\n",
       "    }\n",
       "\n",
       "    .dataframe thead th {\n",
       "        text-align: right;\n",
       "    }\n",
       "</style>\n",
       "<table border=\"1\" class=\"dataframe\">\n",
       "  <thead>\n",
       "    <tr style=\"text-align: right;\">\n",
       "      <th></th>\n",
       "      <th>id</th>\n",
       "      <th>first_gift_year</th>\n",
       "      <th>lapsed_count</th>\n",
       "      <th>recovered_count</th>\n",
       "      <th>max_consec_giving_years</th>\n",
       "      <th>total_giving_years</th>\n",
       "      <th>count_2013</th>\n",
       "      <th>count_2014</th>\n",
       "      <th>count_2015</th>\n",
       "      <th>count_2016</th>\n",
       "      <th>...</th>\n",
       "      <th>behavior_2017</th>\n",
       "      <th>gainloss_2013</th>\n",
       "      <th>gainloss_2014</th>\n",
       "      <th>gainloss_2015</th>\n",
       "      <th>gainloss_2016</th>\n",
       "      <th>gainloss_2017</th>\n",
       "      <th>gainloss_2014_amt</th>\n",
       "      <th>gainloss_2015_amt</th>\n",
       "      <th>gainloss_2016_amt</th>\n",
       "      <th>gainloss_2017_amt</th>\n",
       "    </tr>\n",
       "  </thead>\n",
       "  <tbody>\n",
       "    <tr>\n",
       "      <td>0</td>\n",
       "      <td>1f4b5b6e68445c6c4a0509b3aca93f38</td>\n",
       "      <td>2015-01-01</td>\n",
       "      <td>4</td>\n",
       "      <td>4</td>\n",
       "      <td>4</td>\n",
       "      <td>4</td>\n",
       "      <td>0</td>\n",
       "      <td>0</td>\n",
       "      <td>42</td>\n",
       "      <td>64</td>\n",
       "      <td>...</td>\n",
       "      <td>upgrade</td>\n",
       "      <td>none</td>\n",
       "      <td>none</td>\n",
       "      <td>gain</td>\n",
       "      <td>gain</td>\n",
       "      <td>gain</td>\n",
       "      <td>0.0</td>\n",
       "      <td>18211.38</td>\n",
       "      <td>21873.77</td>\n",
       "      <td>22559.83</td>\n",
       "    </tr>\n",
       "    <tr>\n",
       "      <td>1</td>\n",
       "      <td>4aaab6d244bf3599682239ed5591af8a</td>\n",
       "      <td>2016-01-01</td>\n",
       "      <td>2</td>\n",
       "      <td>1</td>\n",
       "      <td>1</td>\n",
       "      <td>1</td>\n",
       "      <td>0</td>\n",
       "      <td>0</td>\n",
       "      <td>0</td>\n",
       "      <td>1</td>\n",
       "      <td>...</td>\n",
       "      <td>lapse_new</td>\n",
       "      <td>none</td>\n",
       "      <td>none</td>\n",
       "      <td>none</td>\n",
       "      <td>gain</td>\n",
       "      <td>loss</td>\n",
       "      <td>0.0</td>\n",
       "      <td>0.00</td>\n",
       "      <td>25.00</td>\n",
       "      <td>-25.00</td>\n",
       "    </tr>\n",
       "    <tr>\n",
       "      <td>2</td>\n",
       "      <td>0b0765dc9c759adc48a07688ba25e94e</td>\n",
       "      <td>2015-01-01</td>\n",
       "      <td>3</td>\n",
       "      <td>2</td>\n",
       "      <td>2</td>\n",
       "      <td>2</td>\n",
       "      <td>0</td>\n",
       "      <td>0</td>\n",
       "      <td>2</td>\n",
       "      <td>2</td>\n",
       "      <td>...</td>\n",
       "      <td>lapse_repeat</td>\n",
       "      <td>none</td>\n",
       "      <td>none</td>\n",
       "      <td>gain</td>\n",
       "      <td>gain</td>\n",
       "      <td>loss</td>\n",
       "      <td>0.0</td>\n",
       "      <td>20.00</td>\n",
       "      <td>20.00</td>\n",
       "      <td>-40.00</td>\n",
       "    </tr>\n",
       "    <tr>\n",
       "      <td>3</td>\n",
       "      <td>377944ad61f72d800b25ec1862aec363</td>\n",
       "      <td>2016-01-01</td>\n",
       "      <td>2</td>\n",
       "      <td>1</td>\n",
       "      <td>1</td>\n",
       "      <td>1</td>\n",
       "      <td>0</td>\n",
       "      <td>0</td>\n",
       "      <td>0</td>\n",
       "      <td>1</td>\n",
       "      <td>...</td>\n",
       "      <td>lapse_new</td>\n",
       "      <td>none</td>\n",
       "      <td>none</td>\n",
       "      <td>none</td>\n",
       "      <td>gain</td>\n",
       "      <td>loss</td>\n",
       "      <td>0.0</td>\n",
       "      <td>0.00</td>\n",
       "      <td>25.00</td>\n",
       "      <td>-25.00</td>\n",
       "    </tr>\n",
       "    <tr>\n",
       "      <td>4</td>\n",
       "      <td>6d5b22d39e68c656071a842732c63a0c</td>\n",
       "      <td>2015-01-01</td>\n",
       "      <td>4</td>\n",
       "      <td>3</td>\n",
       "      <td>2</td>\n",
       "      <td>3</td>\n",
       "      <td>0</td>\n",
       "      <td>0</td>\n",
       "      <td>1</td>\n",
       "      <td>1</td>\n",
       "      <td>...</td>\n",
       "      <td>lapse_repeat</td>\n",
       "      <td>none</td>\n",
       "      <td>none</td>\n",
       "      <td>gain</td>\n",
       "      <td>loss</td>\n",
       "      <td>loss</td>\n",
       "      <td>0.0</td>\n",
       "      <td>70.00</td>\n",
       "      <td>-45.00</td>\n",
       "      <td>-25.00</td>\n",
       "    </tr>\n",
       "  </tbody>\n",
       "</table>\n",
       "<p>5 rows × 199 columns</p>\n",
       "</div>"
      ],
      "text/plain": [
       "                                 id first_gift_year  lapsed_count  \\\n",
       "0  1f4b5b6e68445c6c4a0509b3aca93f38      2015-01-01             4   \n",
       "1  4aaab6d244bf3599682239ed5591af8a      2016-01-01             2   \n",
       "2  0b0765dc9c759adc48a07688ba25e94e      2015-01-01             3   \n",
       "3  377944ad61f72d800b25ec1862aec363      2016-01-01             2   \n",
       "4  6d5b22d39e68c656071a842732c63a0c      2015-01-01             4   \n",
       "\n",
       "   recovered_count  max_consec_giving_years  total_giving_years  count_2013  \\\n",
       "0                4                        4                   4           0   \n",
       "1                1                        1                   1           0   \n",
       "2                2                        2                   2           0   \n",
       "3                1                        1                   1           0   \n",
       "4                3                        2                   3           0   \n",
       "\n",
       "   count_2014  count_2015  count_2016  ...  behavior_2017  gainloss_2013  \\\n",
       "0           0          42          64  ...        upgrade           none   \n",
       "1           0           0           1  ...      lapse_new           none   \n",
       "2           0           2           2  ...   lapse_repeat           none   \n",
       "3           0           0           1  ...      lapse_new           none   \n",
       "4           0           1           1  ...   lapse_repeat           none   \n",
       "\n",
       "   gainloss_2014  gainloss_2015  gainloss_2016  gainloss_2017  \\\n",
       "0           none           gain           gain           gain   \n",
       "1           none           none           gain           loss   \n",
       "2           none           gain           gain           loss   \n",
       "3           none           none           gain           loss   \n",
       "4           none           gain           loss           loss   \n",
       "\n",
       "   gainloss_2014_amt  gainloss_2015_amt  gainloss_2016_amt  gainloss_2017_amt  \n",
       "0                0.0           18211.38           21873.77           22559.83  \n",
       "1                0.0               0.00              25.00             -25.00  \n",
       "2                0.0              20.00              20.00             -40.00  \n",
       "3                0.0               0.00              25.00             -25.00  \n",
       "4                0.0              70.00             -45.00             -25.00  \n",
       "\n",
       "[5 rows x 199 columns]"
      ]
     },
     "execution_count": 75,
     "metadata": {},
     "output_type": "execute_result"
    }
   ],
   "source": [
    "donations_13to17.head()"
   ]
  },
  {
   "cell_type": "code",
   "execution_count": 76,
   "metadata": {},
   "outputs": [],
   "source": [
    "#donations_13to17.columns.tolist()"
   ]
  },
  {
   "cell_type": "code",
   "execution_count": 77,
   "metadata": {},
   "outputs": [],
   "source": [
    "# cols=['amount_yr0',\n",
    "#  'amount_yr1',\n",
    "#  'amount_yr2',\n",
    "#  'amount_yr3',\n",
    "#  'amount_yr4',\n",
    "#  'count_yr0',\n",
    "#  'count_yr1',\n",
    "#  'count_yr2',\n",
    "#  'count_yr3',\n",
    "#  'count_yr4',\n",
    "#  'id',\n",
    "#  'first_gift_year',\n",
    "#  'lapsed_count',\n",
    "#  'recovered_count',\n",
    "#  'max_consec_giving_years',\n",
    "#  'total_giving_years',\n",
    "#  'count_2013',\n",
    "#  'count_2014',\n",
    "#  'count_2015',\n",
    "#  'count_2016',\n",
    "#  'count_2017',\n",
    "#  'lapsed_amount',\n",
    "#  'recovered_amount',\n",
    "#  'amount_2013',\n",
    "#  'amount_2014',\n",
    "#  'amount_2015',\n",
    "#  'amount_2016',\n",
    "#  'amount_2017',\n",
    "#  'lapsed_amount_2013',\n",
    "#  'lapsed_amount_2014',\n",
    "#  'lapsed_amount_2015',\n",
    "#  'lapsed_amount_2016',\n",
    "#  'lapsed_amount_2017',\n",
    "#  'upgraded_amount_2013',\n",
    "#  'upgraded_amount_2014',\n",
    "#  'upgraded_amount_2015',\n",
    "#  'upgraded_amount_2016',\n",
    "#  'upgraded_amount_2017',\n",
    "#  'downgraded_amount_2013',\n",
    "#  'downgraded_amount_2014',\n",
    "#  'downgraded_amount_2015',\n",
    "#  'downgraded_amount_2016',\n",
    "#  'downgraded_amount_2017',\n",
    "#  'lapsed_amount_yr0',\n",
    "#  'lapsed_amount_yr1',\n",
    "#  'lapsed_amount_yr2',\n",
    "#  'lapsed_amount_yr3',\n",
    "#  'lapsed_amount_yr4',\n",
    "#  'upgraded_amount_yr0',\n",
    "#  'upgraded_amount_yr1',\n",
    "#  'upgraded_amount_yr2',\n",
    "#  'upgraded_amount_yr3',\n",
    "#  'upgraded_amount_yr4',\n",
    "#  'downgraded_amount_yr0',\n",
    "#  'downgraded_amount_yr1',\n",
    "#  'downgraded_amount_yr2',\n",
    "#  'downgraded_amount_yr3',\n",
    "#  'downgraded_amount_yr4',\n",
    "#  'amount_01_2013',\n",
    "#  'amount_02_2013',\n",
    "#  'amount_03_2013',\n",
    "#  'amount_04_2013',\n",
    "#  'amount_05_2013',\n",
    "#  'amount_06_2013',\n",
    "#  'amount_07_2013',\n",
    "#  'amount_08_2013',\n",
    "#  'amount_09_2013',\n",
    "#  'amount_10_2013',\n",
    "#  'amount_11_2013',\n",
    "#  'amount_12_2013',\n",
    "#  'amount_01_2014',\n",
    "#  'amount_02_2014',\n",
    "#  'amount_03_2014',\n",
    "#  'amount_04_2014',\n",
    "#  'amount_05_2014',\n",
    "#  'amount_06_2014',\n",
    "#  'amount_07_2014',\n",
    "#  'amount_08_2014',\n",
    "#  'amount_09_2014',\n",
    "#  'amount_10_2014',\n",
    "#  'amount_11_2014',\n",
    "#  'amount_12_2014',\n",
    "#  'amount_01_2015',\n",
    "#  'amount_02_2015',\n",
    "#  'amount_03_2015',\n",
    "#  'amount_04_2015',\n",
    "#  'amount_05_2015',\n",
    "#  'amount_06_2015',\n",
    "#  'amount_07_2015',\n",
    "#  'amount_08_2015',\n",
    "#  'amount_09_2015',\n",
    "#  'amount_10_2015',\n",
    "#  'amount_11_2015',\n",
    "#  'amount_12_2015',\n",
    "#  'amount_01_2016',\n",
    "#  'amount_02_2016',\n",
    "#  'amount_03_2016',\n",
    "#  'amount_04_2016',\n",
    "#  'amount_05_2016',\n",
    "#  'amount_06_2016',\n",
    "#  'amount_07_2016',\n",
    "#  'amount_08_2016',\n",
    "#  'amount_09_2016',\n",
    "#  'amount_10_2016',\n",
    "#  'amount_11_2016',\n",
    "#  'amount_12_2016',\n",
    "#  'amount_01_2017',\n",
    "#  'amount_02_2017',\n",
    "#  'amount_03_2017',\n",
    "#  'amount_04_2017',\n",
    "#  'amount_05_2017',\n",
    "#  'amount_06_2017',\n",
    "#  'amount_07_2017',\n",
    "#  'amount_08_2017',\n",
    "#  'amount_09_2017',\n",
    "#  'amount_10_2017',\n",
    "#  'amount_11_2017',\n",
    "#  'amount_12_2017',\n",
    "#  'amount_total',\n",
    "#  'count_total',\n",
    "#  'amount_01_yr0',\n",
    "#  'amount_02_yr0',\n",
    "#  'amount_03_yr0',\n",
    "#  'amount_04_yr0',\n",
    "#  'amount_05_yr0',\n",
    "#  'amount_06_yr0',\n",
    "#  'amount_07_yr0',\n",
    "#  'amount_08_yr0',\n",
    "#  'amount_09_yr0',\n",
    "#  'amount_10_yr0',\n",
    "#  'amount_11_yr0',\n",
    "#  'amount_12_yr0',\n",
    "#  'amount_01_yr1',\n",
    "#  'amount_02_yr1',\n",
    "#  'amount_03_yr1',\n",
    "#  'amount_04_yr1',\n",
    "#  'amount_05_yr1',\n",
    "#  'amount_06_yr1',\n",
    "#  'amount_07_yr1',\n",
    "#  'amount_08_yr1',\n",
    "#  'amount_09_yr1',\n",
    "#  'amount_10_yr1',\n",
    "#  'amount_11_yr1',\n",
    "#  'amount_12_yr1',\n",
    "#  'amount_01_yr2',\n",
    "#  'amount_02_yr2',\n",
    "#  'amount_03_yr2',\n",
    "#  'amount_04_yr2',\n",
    "#  'amount_05_yr2',\n",
    "#  'amount_06_yr2',\n",
    "#  'amount_07_yr2',\n",
    "#  'amount_08_yr2',\n",
    "#  'amount_09_yr2',\n",
    "#  'amount_10_yr2',\n",
    "#  'amount_11_yr2',\n",
    "#  'amount_12_yr2',\n",
    "#  'amount_01_yr3',\n",
    "#  'amount_02_yr3',\n",
    "#  'amount_03_yr3',\n",
    "#  'amount_04_yr3',\n",
    "#  'amount_05_yr3',\n",
    "#  'amount_06_yr3',\n",
    "#  'amount_07_yr3',\n",
    "#  'amount_08_yr3',\n",
    "#  'amount_09_yr3',\n",
    "#  'amount_10_yr3',\n",
    "#  'amount_11_yr3',\n",
    "#  'amount_12_yr3',\n",
    "#  'amount_01_yr4',\n",
    "#  'amount_02_yr4',\n",
    "#  'amount_03_yr4',\n",
    "#  'amount_04_yr4',\n",
    "#  'amount_05_yr4',\n",
    "#  'amount_06_yr4',\n",
    "#  'amount_07_yr4',\n",
    "#  'amount_08_yr4',\n",
    "#  'amount_09_yr4',\n",
    "#  'amount_10_yr4',\n",
    "#  'amount_11_yr4',\n",
    "#  'amount_12_yr4',\n",
    "#  'years_donated',\n",
    "#  'cohort_gift_pattern',\n",
    "#  'perc_years_donated',\n",
    "#  'gift_pattern',\n",
    "#  'donor_profile',\n",
    "#  'behavior_2013',\n",
    "#  'behavior_2014',\n",
    "#  'behavior_2015',\n",
    "#  'behavior_2016',\n",
    "#  'behavior_2017',\n",
    "#  'gainloss_2013',\n",
    "#  'gainloss_2014',\n",
    "#  'gainloss_2015',\n",
    "#  'gainloss_2016',\n",
    "#  'gainloss_2017',\n",
    "#  'gainloss_2014_amt',\n",
    "#  'gainloss_2015_amt',\n",
    "#  'gainloss_2016_amt',\n",
    "#  'gainloss_2017_amt']"
   ]
  },
  {
   "cell_type": "code",
   "execution_count": 78,
   "metadata": {},
   "outputs": [],
   "source": [
    "#donations_13to17=donations_13to17[cols]"
   ]
  },
  {
   "cell_type": "code",
   "execution_count": 144,
   "metadata": {},
   "outputs": [],
   "source": [
    "cgp=donations_13to17[['first_gift_year','years_donated','cohort_gift_pattern','amount_yr0','amount_yr1','amount_yr2','amount_yr3','amount_yr4']]"
   ]
  },
  {
   "cell_type": "code",
   "execution_count": 148,
   "metadata": {},
   "outputs": [],
   "source": [
    "#convert years_donated to integer to remove decimal points\n",
    "cgp.loc[:,\"years_donated\"] = cgp['years_donated'].astype(int)"
   ]
  },
  {
   "cell_type": "code",
   "execution_count": 154,
   "metadata": {},
   "outputs": [],
   "source": [
    "cgp_1=cgp.groupby(['cohort_gift_pattern', 'years_donated']).sum().round().reset_index()"
   ]
  },
  {
   "cell_type": "code",
   "execution_count": 155,
   "metadata": {},
   "outputs": [
    {
     "data": {
      "text/html": [
       "<div>\n",
       "<style scoped>\n",
       "    .dataframe tbody tr th:only-of-type {\n",
       "        vertical-align: middle;\n",
       "    }\n",
       "\n",
       "    .dataframe tbody tr th {\n",
       "        vertical-align: top;\n",
       "    }\n",
       "\n",
       "    .dataframe thead th {\n",
       "        text-align: right;\n",
       "    }\n",
       "</style>\n",
       "<table border=\"1\" class=\"dataframe\">\n",
       "  <thead>\n",
       "    <tr style=\"text-align: right;\">\n",
       "      <th></th>\n",
       "      <th>cohort_gift_pattern</th>\n",
       "      <th>years_donated</th>\n",
       "      <th>amount_yr0</th>\n",
       "      <th>amount_yr1</th>\n",
       "      <th>amount_yr2</th>\n",
       "      <th>amount_yr3</th>\n",
       "      <th>amount_yr4</th>\n",
       "    </tr>\n",
       "  </thead>\n",
       "  <tbody>\n",
       "    <tr>\n",
       "      <td>0</td>\n",
       "      <td>0,</td>\n",
       "      <td>1</td>\n",
       "      <td>110874596.0</td>\n",
       "      <td>0.0</td>\n",
       "      <td>0.0</td>\n",
       "      <td>0.0</td>\n",
       "      <td>0.0</td>\n",
       "    </tr>\n",
       "    <tr>\n",
       "      <td>1</td>\n",
       "      <td>0,1,</td>\n",
       "      <td>1</td>\n",
       "      <td>6301026.0</td>\n",
       "      <td>4549913.0</td>\n",
       "      <td>0.0</td>\n",
       "      <td>0.0</td>\n",
       "      <td>0.0</td>\n",
       "    </tr>\n",
       "    <tr>\n",
       "      <td>2</td>\n",
       "      <td>0,1,</td>\n",
       "      <td>2</td>\n",
       "      <td>15578693.0</td>\n",
       "      <td>14749181.0</td>\n",
       "      <td>0.0</td>\n",
       "      <td>0.0</td>\n",
       "      <td>0.0</td>\n",
       "    </tr>\n",
       "    <tr>\n",
       "      <td>3</td>\n",
       "      <td>0,1,2,</td>\n",
       "      <td>2</td>\n",
       "      <td>2844569.0</td>\n",
       "      <td>4687250.0</td>\n",
       "      <td>2121971.0</td>\n",
       "      <td>0.0</td>\n",
       "      <td>0.0</td>\n",
       "    </tr>\n",
       "    <tr>\n",
       "      <td>4</td>\n",
       "      <td>0,1,2,</td>\n",
       "      <td>3</td>\n",
       "      <td>4573944.0</td>\n",
       "      <td>5161992.0</td>\n",
       "      <td>4191854.0</td>\n",
       "      <td>0.0</td>\n",
       "      <td>0.0</td>\n",
       "    </tr>\n",
       "    <tr>\n",
       "      <td>5</td>\n",
       "      <td>0,1,2,3,</td>\n",
       "      <td>3</td>\n",
       "      <td>1473566.0</td>\n",
       "      <td>2660040.0</td>\n",
       "      <td>3624425.0</td>\n",
       "      <td>1523244.0</td>\n",
       "      <td>0.0</td>\n",
       "    </tr>\n",
       "    <tr>\n",
       "      <td>6</td>\n",
       "      <td>0,1,2,3,</td>\n",
       "      <td>4</td>\n",
       "      <td>2139808.0</td>\n",
       "      <td>2537368.0</td>\n",
       "      <td>2436422.0</td>\n",
       "      <td>1925392.0</td>\n",
       "      <td>0.0</td>\n",
       "    </tr>\n",
       "    <tr>\n",
       "      <td>7</td>\n",
       "      <td>0,1,2,3,4,</td>\n",
       "      <td>4</td>\n",
       "      <td>1012539.0</td>\n",
       "      <td>1689168.0</td>\n",
       "      <td>2320490.0</td>\n",
       "      <td>2546954.0</td>\n",
       "      <td>1110500.0</td>\n",
       "    </tr>\n",
       "    <tr>\n",
       "      <td>8</td>\n",
       "      <td>0,1,2,3,4,</td>\n",
       "      <td>5</td>\n",
       "      <td>5209667.0</td>\n",
       "      <td>7600274.0</td>\n",
       "      <td>7764374.0</td>\n",
       "      <td>7927532.0</td>\n",
       "      <td>8169986.0</td>\n",
       "    </tr>\n",
       "    <tr>\n",
       "      <td>9</td>\n",
       "      <td>0,1,2,4,</td>\n",
       "      <td>3</td>\n",
       "      <td>80485.0</td>\n",
       "      <td>115571.0</td>\n",
       "      <td>104863.0</td>\n",
       "      <td>0.0</td>\n",
       "      <td>66830.0</td>\n",
       "    </tr>\n",
       "    <tr>\n",
       "      <td>10</td>\n",
       "      <td>0,1,2,4,</td>\n",
       "      <td>4</td>\n",
       "      <td>482861.0</td>\n",
       "      <td>541434.0</td>\n",
       "      <td>523237.0</td>\n",
       "      <td>0.0</td>\n",
       "      <td>511598.0</td>\n",
       "    </tr>\n",
       "    <tr>\n",
       "      <td>11</td>\n",
       "      <td>0,1,3,</td>\n",
       "      <td>2</td>\n",
       "      <td>229617.0</td>\n",
       "      <td>225957.0</td>\n",
       "      <td>0.0</td>\n",
       "      <td>169344.0</td>\n",
       "      <td>0.0</td>\n",
       "    </tr>\n",
       "    <tr>\n",
       "      <td>12</td>\n",
       "      <td>0,1,3,</td>\n",
       "      <td>3</td>\n",
       "      <td>856790.0</td>\n",
       "      <td>893548.0</td>\n",
       "      <td>0.0</td>\n",
       "      <td>788559.0</td>\n",
       "      <td>0.0</td>\n",
       "    </tr>\n",
       "    <tr>\n",
       "      <td>13</td>\n",
       "      <td>0,1,3,4,</td>\n",
       "      <td>3</td>\n",
       "      <td>135734.0</td>\n",
       "      <td>134336.0</td>\n",
       "      <td>0.0</td>\n",
       "      <td>192500.0</td>\n",
       "      <td>131432.0</td>\n",
       "    </tr>\n",
       "    <tr>\n",
       "      <td>14</td>\n",
       "      <td>0,1,3,4,</td>\n",
       "      <td>4</td>\n",
       "      <td>335332.0</td>\n",
       "      <td>371149.0</td>\n",
       "      <td>0.0</td>\n",
       "      <td>449080.0</td>\n",
       "      <td>473806.0</td>\n",
       "    </tr>\n",
       "    <tr>\n",
       "      <td>15</td>\n",
       "      <td>0,1,4,</td>\n",
       "      <td>2</td>\n",
       "      <td>98243.0</td>\n",
       "      <td>89504.0</td>\n",
       "      <td>0.0</td>\n",
       "      <td>0.0</td>\n",
       "      <td>75017.0</td>\n",
       "    </tr>\n",
       "    <tr>\n",
       "      <td>16</td>\n",
       "      <td>0,1,4,</td>\n",
       "      <td>3</td>\n",
       "      <td>278397.0</td>\n",
       "      <td>313141.0</td>\n",
       "      <td>0.0</td>\n",
       "      <td>0.0</td>\n",
       "      <td>285466.0</td>\n",
       "    </tr>\n",
       "    <tr>\n",
       "      <td>17</td>\n",
       "      <td>0,2,</td>\n",
       "      <td>1</td>\n",
       "      <td>861233.0</td>\n",
       "      <td>0.0</td>\n",
       "      <td>763569.0</td>\n",
       "      <td>0.0</td>\n",
       "      <td>0.0</td>\n",
       "    </tr>\n",
       "    <tr>\n",
       "      <td>18</td>\n",
       "      <td>0,2,</td>\n",
       "      <td>2</td>\n",
       "      <td>4034035.0</td>\n",
       "      <td>0.0</td>\n",
       "      <td>3476570.0</td>\n",
       "      <td>0.0</td>\n",
       "      <td>0.0</td>\n",
       "    </tr>\n",
       "    <tr>\n",
       "      <td>19</td>\n",
       "      <td>0,2,3,</td>\n",
       "      <td>2</td>\n",
       "      <td>263383.0</td>\n",
       "      <td>0.0</td>\n",
       "      <td>417501.0</td>\n",
       "      <td>289215.0</td>\n",
       "      <td>0.0</td>\n",
       "    </tr>\n",
       "    <tr>\n",
       "      <td>20</td>\n",
       "      <td>0,2,3,</td>\n",
       "      <td>3</td>\n",
       "      <td>581115.0</td>\n",
       "      <td>0.0</td>\n",
       "      <td>776424.0</td>\n",
       "      <td>736536.0</td>\n",
       "      <td>0.0</td>\n",
       "    </tr>\n",
       "    <tr>\n",
       "      <td>21</td>\n",
       "      <td>0,2,3,4,</td>\n",
       "      <td>3</td>\n",
       "      <td>120260.0</td>\n",
       "      <td>0.0</td>\n",
       "      <td>199176.0</td>\n",
       "      <td>309941.0</td>\n",
       "      <td>152550.0</td>\n",
       "    </tr>\n",
       "    <tr>\n",
       "      <td>22</td>\n",
       "      <td>0,2,3,4,</td>\n",
       "      <td>4</td>\n",
       "      <td>273685.0</td>\n",
       "      <td>0.0</td>\n",
       "      <td>390220.0</td>\n",
       "      <td>489484.0</td>\n",
       "      <td>540792.0</td>\n",
       "    </tr>\n",
       "    <tr>\n",
       "      <td>23</td>\n",
       "      <td>0,2,4,</td>\n",
       "      <td>2</td>\n",
       "      <td>65597.0</td>\n",
       "      <td>0.0</td>\n",
       "      <td>76022.0</td>\n",
       "      <td>0.0</td>\n",
       "      <td>60326.0</td>\n",
       "    </tr>\n",
       "    <tr>\n",
       "      <td>24</td>\n",
       "      <td>0,2,4,</td>\n",
       "      <td>3</td>\n",
       "      <td>146543.0</td>\n",
       "      <td>0.0</td>\n",
       "      <td>167584.0</td>\n",
       "      <td>0.0</td>\n",
       "      <td>184625.0</td>\n",
       "    </tr>\n",
       "    <tr>\n",
       "      <td>25</td>\n",
       "      <td>0,3,</td>\n",
       "      <td>1</td>\n",
       "      <td>331433.0</td>\n",
       "      <td>0.0</td>\n",
       "      <td>0.0</td>\n",
       "      <td>347578.0</td>\n",
       "      <td>0.0</td>\n",
       "    </tr>\n",
       "    <tr>\n",
       "      <td>26</td>\n",
       "      <td>0,3,</td>\n",
       "      <td>2</td>\n",
       "      <td>1167558.0</td>\n",
       "      <td>0.0</td>\n",
       "      <td>0.0</td>\n",
       "      <td>1292855.0</td>\n",
       "      <td>0.0</td>\n",
       "    </tr>\n",
       "    <tr>\n",
       "      <td>27</td>\n",
       "      <td>0,3,4</td>\n",
       "      <td>2</td>\n",
       "      <td>102650.0</td>\n",
       "      <td>0.0</td>\n",
       "      <td>0.0</td>\n",
       "      <td>172007.0</td>\n",
       "      <td>119256.0</td>\n",
       "    </tr>\n",
       "    <tr>\n",
       "      <td>28</td>\n",
       "      <td>0,3,4</td>\n",
       "      <td>3</td>\n",
       "      <td>227617.0</td>\n",
       "      <td>0.0</td>\n",
       "      <td>0.0</td>\n",
       "      <td>386285.0</td>\n",
       "      <td>457401.0</td>\n",
       "    </tr>\n",
       "    <tr>\n",
       "      <td>29</td>\n",
       "      <td>0,4,</td>\n",
       "      <td>1</td>\n",
       "      <td>160860.0</td>\n",
       "      <td>0.0</td>\n",
       "      <td>0.0</td>\n",
       "      <td>0.0</td>\n",
       "      <td>158732.0</td>\n",
       "    </tr>\n",
       "    <tr>\n",
       "      <td>30</td>\n",
       "      <td>0,4,</td>\n",
       "      <td>2</td>\n",
       "      <td>395076.0</td>\n",
       "      <td>0.0</td>\n",
       "      <td>0.0</td>\n",
       "      <td>0.0</td>\n",
       "      <td>532082.0</td>\n",
       "    </tr>\n",
       "  </tbody>\n",
       "</table>\n",
       "</div>"
      ],
      "text/plain": [
       "   cohort_gift_pattern  years_donated   amount_yr0  amount_yr1  amount_yr2  \\\n",
       "0                   0,              1  110874596.0         0.0         0.0   \n",
       "1                 0,1,              1    6301026.0   4549913.0         0.0   \n",
       "2                 0,1,              2   15578693.0  14749181.0         0.0   \n",
       "3               0,1,2,              2    2844569.0   4687250.0   2121971.0   \n",
       "4               0,1,2,              3    4573944.0   5161992.0   4191854.0   \n",
       "5             0,1,2,3,              3    1473566.0   2660040.0   3624425.0   \n",
       "6             0,1,2,3,              4    2139808.0   2537368.0   2436422.0   \n",
       "7           0,1,2,3,4,              4    1012539.0   1689168.0   2320490.0   \n",
       "8           0,1,2,3,4,              5    5209667.0   7600274.0   7764374.0   \n",
       "9             0,1,2,4,              3      80485.0    115571.0    104863.0   \n",
       "10            0,1,2,4,              4     482861.0    541434.0    523237.0   \n",
       "11              0,1,3,              2     229617.0    225957.0         0.0   \n",
       "12              0,1,3,              3     856790.0    893548.0         0.0   \n",
       "13            0,1,3,4,              3     135734.0    134336.0         0.0   \n",
       "14            0,1,3,4,              4     335332.0    371149.0         0.0   \n",
       "15              0,1,4,              2      98243.0     89504.0         0.0   \n",
       "16              0,1,4,              3     278397.0    313141.0         0.0   \n",
       "17                0,2,              1     861233.0         0.0    763569.0   \n",
       "18                0,2,              2    4034035.0         0.0   3476570.0   \n",
       "19              0,2,3,              2     263383.0         0.0    417501.0   \n",
       "20              0,2,3,              3     581115.0         0.0    776424.0   \n",
       "21            0,2,3,4,              3     120260.0         0.0    199176.0   \n",
       "22            0,2,3,4,              4     273685.0         0.0    390220.0   \n",
       "23              0,2,4,              2      65597.0         0.0     76022.0   \n",
       "24              0,2,4,              3     146543.0         0.0    167584.0   \n",
       "25                0,3,              1     331433.0         0.0         0.0   \n",
       "26                0,3,              2    1167558.0         0.0         0.0   \n",
       "27               0,3,4              2     102650.0         0.0         0.0   \n",
       "28               0,3,4              3     227617.0         0.0         0.0   \n",
       "29                0,4,              1     160860.0         0.0         0.0   \n",
       "30                0,4,              2     395076.0         0.0         0.0   \n",
       "\n",
       "    amount_yr3  amount_yr4  \n",
       "0          0.0         0.0  \n",
       "1          0.0         0.0  \n",
       "2          0.0         0.0  \n",
       "3          0.0         0.0  \n",
       "4          0.0         0.0  \n",
       "5    1523244.0         0.0  \n",
       "6    1925392.0         0.0  \n",
       "7    2546954.0   1110500.0  \n",
       "8    7927532.0   8169986.0  \n",
       "9          0.0     66830.0  \n",
       "10         0.0    511598.0  \n",
       "11    169344.0         0.0  \n",
       "12    788559.0         0.0  \n",
       "13    192500.0    131432.0  \n",
       "14    449080.0    473806.0  \n",
       "15         0.0     75017.0  \n",
       "16         0.0    285466.0  \n",
       "17         0.0         0.0  \n",
       "18         0.0         0.0  \n",
       "19    289215.0         0.0  \n",
       "20    736536.0         0.0  \n",
       "21    309941.0    152550.0  \n",
       "22    489484.0    540792.0  \n",
       "23         0.0     60326.0  \n",
       "24         0.0    184625.0  \n",
       "25    347578.0         0.0  \n",
       "26   1292855.0         0.0  \n",
       "27    172007.0    119256.0  \n",
       "28    386285.0    457401.0  \n",
       "29         0.0    158732.0  \n",
       "30         0.0    532082.0  "
      ]
     },
     "execution_count": 155,
     "metadata": {},
     "output_type": "execute_result"
    }
   ],
   "source": [
    "cgp_1"
   ]
  },
  {
   "cell_type": "code",
   "execution_count": 157,
   "metadata": {},
   "outputs": [
    {
     "data": {
      "application/vnd.plotly.v1+json": {
       "config": {
        "plotlyServerURL": "https://plot.ly"
       },
       "data": [
        {
         "alignmentgroup": "True",
         "hovertemplate": "cohort_gift_pattern=%{x}<br>amount_yr0=%{y}<extra></extra>",
         "legendgroup": "",
         "marker": {
          "color": "#636efa"
         },
         "name": "",
         "offsetgroup": "",
         "orientation": "v",
         "showlegend": false,
         "textposition": "auto",
         "type": "bar",
         "x": [
          "0,",
          "0,1,",
          "0,1,",
          "0,1,2,",
          "0,1,2,",
          "0,1,2,3,",
          "0,1,2,3,",
          "0,1,2,3,4,",
          "0,1,2,3,4,",
          "0,1,2,4,",
          "0,1,2,4,",
          "0,1,3,",
          "0,1,3,",
          "0,1,3,4,",
          "0,1,3,4,",
          "0,1,4,",
          "0,1,4,",
          "0,2,",
          "0,2,",
          "0,2,3,",
          "0,2,3,",
          "0,2,3,4,",
          "0,2,3,4,",
          "0,2,4,",
          "0,2,4,",
          "0,3,",
          "0,3,",
          "0,3,4",
          "0,3,4",
          "0,4,",
          "0,4,"
         ],
         "xaxis": "x",
         "y": [
          110874596,
          6301026,
          15578693,
          2844569,
          4573944,
          1473566,
          2139808,
          1012539,
          5209667,
          80485,
          482861,
          229617,
          856790,
          135734,
          335332,
          98243,
          278397,
          861233,
          4034035,
          263383,
          581115,
          120260,
          273685,
          65597,
          146543,
          331433,
          1167558,
          102650,
          227617,
          160860,
          395076
         ],
         "yaxis": "y"
        }
       ],
       "layout": {
        "barmode": "relative",
        "legend": {
         "tracegroupgap": 0
        },
        "template": {
         "data": {
          "bar": [
           {
            "error_x": {
             "color": "#2a3f5f"
            },
            "error_y": {
             "color": "#2a3f5f"
            },
            "marker": {
             "line": {
              "color": "#E5ECF6",
              "width": 0.5
             }
            },
            "type": "bar"
           }
          ],
          "barpolar": [
           {
            "marker": {
             "line": {
              "color": "#E5ECF6",
              "width": 0.5
             }
            },
            "type": "barpolar"
           }
          ],
          "carpet": [
           {
            "aaxis": {
             "endlinecolor": "#2a3f5f",
             "gridcolor": "white",
             "linecolor": "white",
             "minorgridcolor": "white",
             "startlinecolor": "#2a3f5f"
            },
            "baxis": {
             "endlinecolor": "#2a3f5f",
             "gridcolor": "white",
             "linecolor": "white",
             "minorgridcolor": "white",
             "startlinecolor": "#2a3f5f"
            },
            "type": "carpet"
           }
          ],
          "choropleth": [
           {
            "colorbar": {
             "outlinewidth": 0,
             "ticks": ""
            },
            "type": "choropleth"
           }
          ],
          "contour": [
           {
            "colorbar": {
             "outlinewidth": 0,
             "ticks": ""
            },
            "colorscale": [
             [
              0,
              "#0d0887"
             ],
             [
              0.1111111111111111,
              "#46039f"
             ],
             [
              0.2222222222222222,
              "#7201a8"
             ],
             [
              0.3333333333333333,
              "#9c179e"
             ],
             [
              0.4444444444444444,
              "#bd3786"
             ],
             [
              0.5555555555555556,
              "#d8576b"
             ],
             [
              0.6666666666666666,
              "#ed7953"
             ],
             [
              0.7777777777777778,
              "#fb9f3a"
             ],
             [
              0.8888888888888888,
              "#fdca26"
             ],
             [
              1,
              "#f0f921"
             ]
            ],
            "type": "contour"
           }
          ],
          "contourcarpet": [
           {
            "colorbar": {
             "outlinewidth": 0,
             "ticks": ""
            },
            "type": "contourcarpet"
           }
          ],
          "heatmap": [
           {
            "colorbar": {
             "outlinewidth": 0,
             "ticks": ""
            },
            "colorscale": [
             [
              0,
              "#0d0887"
             ],
             [
              0.1111111111111111,
              "#46039f"
             ],
             [
              0.2222222222222222,
              "#7201a8"
             ],
             [
              0.3333333333333333,
              "#9c179e"
             ],
             [
              0.4444444444444444,
              "#bd3786"
             ],
             [
              0.5555555555555556,
              "#d8576b"
             ],
             [
              0.6666666666666666,
              "#ed7953"
             ],
             [
              0.7777777777777778,
              "#fb9f3a"
             ],
             [
              0.8888888888888888,
              "#fdca26"
             ],
             [
              1,
              "#f0f921"
             ]
            ],
            "type": "heatmap"
           }
          ],
          "heatmapgl": [
           {
            "colorbar": {
             "outlinewidth": 0,
             "ticks": ""
            },
            "colorscale": [
             [
              0,
              "#0d0887"
             ],
             [
              0.1111111111111111,
              "#46039f"
             ],
             [
              0.2222222222222222,
              "#7201a8"
             ],
             [
              0.3333333333333333,
              "#9c179e"
             ],
             [
              0.4444444444444444,
              "#bd3786"
             ],
             [
              0.5555555555555556,
              "#d8576b"
             ],
             [
              0.6666666666666666,
              "#ed7953"
             ],
             [
              0.7777777777777778,
              "#fb9f3a"
             ],
             [
              0.8888888888888888,
              "#fdca26"
             ],
             [
              1,
              "#f0f921"
             ]
            ],
            "type": "heatmapgl"
           }
          ],
          "histogram": [
           {
            "marker": {
             "colorbar": {
              "outlinewidth": 0,
              "ticks": ""
             }
            },
            "type": "histogram"
           }
          ],
          "histogram2d": [
           {
            "colorbar": {
             "outlinewidth": 0,
             "ticks": ""
            },
            "colorscale": [
             [
              0,
              "#0d0887"
             ],
             [
              0.1111111111111111,
              "#46039f"
             ],
             [
              0.2222222222222222,
              "#7201a8"
             ],
             [
              0.3333333333333333,
              "#9c179e"
             ],
             [
              0.4444444444444444,
              "#bd3786"
             ],
             [
              0.5555555555555556,
              "#d8576b"
             ],
             [
              0.6666666666666666,
              "#ed7953"
             ],
             [
              0.7777777777777778,
              "#fb9f3a"
             ],
             [
              0.8888888888888888,
              "#fdca26"
             ],
             [
              1,
              "#f0f921"
             ]
            ],
            "type": "histogram2d"
           }
          ],
          "histogram2dcontour": [
           {
            "colorbar": {
             "outlinewidth": 0,
             "ticks": ""
            },
            "colorscale": [
             [
              0,
              "#0d0887"
             ],
             [
              0.1111111111111111,
              "#46039f"
             ],
             [
              0.2222222222222222,
              "#7201a8"
             ],
             [
              0.3333333333333333,
              "#9c179e"
             ],
             [
              0.4444444444444444,
              "#bd3786"
             ],
             [
              0.5555555555555556,
              "#d8576b"
             ],
             [
              0.6666666666666666,
              "#ed7953"
             ],
             [
              0.7777777777777778,
              "#fb9f3a"
             ],
             [
              0.8888888888888888,
              "#fdca26"
             ],
             [
              1,
              "#f0f921"
             ]
            ],
            "type": "histogram2dcontour"
           }
          ],
          "mesh3d": [
           {
            "colorbar": {
             "outlinewidth": 0,
             "ticks": ""
            },
            "type": "mesh3d"
           }
          ],
          "parcoords": [
           {
            "line": {
             "colorbar": {
              "outlinewidth": 0,
              "ticks": ""
             }
            },
            "type": "parcoords"
           }
          ],
          "pie": [
           {
            "automargin": true,
            "type": "pie"
           }
          ],
          "scatter": [
           {
            "marker": {
             "colorbar": {
              "outlinewidth": 0,
              "ticks": ""
             }
            },
            "type": "scatter"
           }
          ],
          "scatter3d": [
           {
            "line": {
             "colorbar": {
              "outlinewidth": 0,
              "ticks": ""
             }
            },
            "marker": {
             "colorbar": {
              "outlinewidth": 0,
              "ticks": ""
             }
            },
            "type": "scatter3d"
           }
          ],
          "scattercarpet": [
           {
            "marker": {
             "colorbar": {
              "outlinewidth": 0,
              "ticks": ""
             }
            },
            "type": "scattercarpet"
           }
          ],
          "scattergeo": [
           {
            "marker": {
             "colorbar": {
              "outlinewidth": 0,
              "ticks": ""
             }
            },
            "type": "scattergeo"
           }
          ],
          "scattergl": [
           {
            "marker": {
             "colorbar": {
              "outlinewidth": 0,
              "ticks": ""
             }
            },
            "type": "scattergl"
           }
          ],
          "scattermapbox": [
           {
            "marker": {
             "colorbar": {
              "outlinewidth": 0,
              "ticks": ""
             }
            },
            "type": "scattermapbox"
           }
          ],
          "scatterpolar": [
           {
            "marker": {
             "colorbar": {
              "outlinewidth": 0,
              "ticks": ""
             }
            },
            "type": "scatterpolar"
           }
          ],
          "scatterpolargl": [
           {
            "marker": {
             "colorbar": {
              "outlinewidth": 0,
              "ticks": ""
             }
            },
            "type": "scatterpolargl"
           }
          ],
          "scatterternary": [
           {
            "marker": {
             "colorbar": {
              "outlinewidth": 0,
              "ticks": ""
             }
            },
            "type": "scatterternary"
           }
          ],
          "surface": [
           {
            "colorbar": {
             "outlinewidth": 0,
             "ticks": ""
            },
            "colorscale": [
             [
              0,
              "#0d0887"
             ],
             [
              0.1111111111111111,
              "#46039f"
             ],
             [
              0.2222222222222222,
              "#7201a8"
             ],
             [
              0.3333333333333333,
              "#9c179e"
             ],
             [
              0.4444444444444444,
              "#bd3786"
             ],
             [
              0.5555555555555556,
              "#d8576b"
             ],
             [
              0.6666666666666666,
              "#ed7953"
             ],
             [
              0.7777777777777778,
              "#fb9f3a"
             ],
             [
              0.8888888888888888,
              "#fdca26"
             ],
             [
              1,
              "#f0f921"
             ]
            ],
            "type": "surface"
           }
          ],
          "table": [
           {
            "cells": {
             "fill": {
              "color": "#EBF0F8"
             },
             "line": {
              "color": "white"
             }
            },
            "header": {
             "fill": {
              "color": "#C8D4E3"
             },
             "line": {
              "color": "white"
             }
            },
            "type": "table"
           }
          ]
         },
         "layout": {
          "annotationdefaults": {
           "arrowcolor": "#2a3f5f",
           "arrowhead": 0,
           "arrowwidth": 1
          },
          "coloraxis": {
           "colorbar": {
            "outlinewidth": 0,
            "ticks": ""
           }
          },
          "colorscale": {
           "diverging": [
            [
             0,
             "#8e0152"
            ],
            [
             0.1,
             "#c51b7d"
            ],
            [
             0.2,
             "#de77ae"
            ],
            [
             0.3,
             "#f1b6da"
            ],
            [
             0.4,
             "#fde0ef"
            ],
            [
             0.5,
             "#f7f7f7"
            ],
            [
             0.6,
             "#e6f5d0"
            ],
            [
             0.7,
             "#b8e186"
            ],
            [
             0.8,
             "#7fbc41"
            ],
            [
             0.9,
             "#4d9221"
            ],
            [
             1,
             "#276419"
            ]
           ],
           "sequential": [
            [
             0,
             "#0d0887"
            ],
            [
             0.1111111111111111,
             "#46039f"
            ],
            [
             0.2222222222222222,
             "#7201a8"
            ],
            [
             0.3333333333333333,
             "#9c179e"
            ],
            [
             0.4444444444444444,
             "#bd3786"
            ],
            [
             0.5555555555555556,
             "#d8576b"
            ],
            [
             0.6666666666666666,
             "#ed7953"
            ],
            [
             0.7777777777777778,
             "#fb9f3a"
            ],
            [
             0.8888888888888888,
             "#fdca26"
            ],
            [
             1,
             "#f0f921"
            ]
           ],
           "sequentialminus": [
            [
             0,
             "#0d0887"
            ],
            [
             0.1111111111111111,
             "#46039f"
            ],
            [
             0.2222222222222222,
             "#7201a8"
            ],
            [
             0.3333333333333333,
             "#9c179e"
            ],
            [
             0.4444444444444444,
             "#bd3786"
            ],
            [
             0.5555555555555556,
             "#d8576b"
            ],
            [
             0.6666666666666666,
             "#ed7953"
            ],
            [
             0.7777777777777778,
             "#fb9f3a"
            ],
            [
             0.8888888888888888,
             "#fdca26"
            ],
            [
             1,
             "#f0f921"
            ]
           ]
          },
          "colorway": [
           "#636efa",
           "#EF553B",
           "#00cc96",
           "#ab63fa",
           "#FFA15A",
           "#19d3f3",
           "#FF6692",
           "#B6E880",
           "#FF97FF",
           "#FECB52"
          ],
          "font": {
           "color": "#2a3f5f"
          },
          "geo": {
           "bgcolor": "white",
           "lakecolor": "white",
           "landcolor": "#E5ECF6",
           "showlakes": true,
           "showland": true,
           "subunitcolor": "white"
          },
          "hoverlabel": {
           "align": "left"
          },
          "hovermode": "closest",
          "mapbox": {
           "style": "light"
          },
          "paper_bgcolor": "white",
          "plot_bgcolor": "#E5ECF6",
          "polar": {
           "angularaxis": {
            "gridcolor": "white",
            "linecolor": "white",
            "ticks": ""
           },
           "bgcolor": "#E5ECF6",
           "radialaxis": {
            "gridcolor": "white",
            "linecolor": "white",
            "ticks": ""
           }
          },
          "scene": {
           "xaxis": {
            "backgroundcolor": "#E5ECF6",
            "gridcolor": "white",
            "gridwidth": 2,
            "linecolor": "white",
            "showbackground": true,
            "ticks": "",
            "zerolinecolor": "white"
           },
           "yaxis": {
            "backgroundcolor": "#E5ECF6",
            "gridcolor": "white",
            "gridwidth": 2,
            "linecolor": "white",
            "showbackground": true,
            "ticks": "",
            "zerolinecolor": "white"
           },
           "zaxis": {
            "backgroundcolor": "#E5ECF6",
            "gridcolor": "white",
            "gridwidth": 2,
            "linecolor": "white",
            "showbackground": true,
            "ticks": "",
            "zerolinecolor": "white"
           }
          },
          "shapedefaults": {
           "line": {
            "color": "#2a3f5f"
           }
          },
          "ternary": {
           "aaxis": {
            "gridcolor": "white",
            "linecolor": "white",
            "ticks": ""
           },
           "baxis": {
            "gridcolor": "white",
            "linecolor": "white",
            "ticks": ""
           },
           "bgcolor": "#E5ECF6",
           "caxis": {
            "gridcolor": "white",
            "linecolor": "white",
            "ticks": ""
           }
          },
          "title": {
           "x": 0.05
          },
          "xaxis": {
           "automargin": true,
           "gridcolor": "white",
           "linecolor": "white",
           "ticks": "",
           "title": {
            "standoff": 15
           },
           "zerolinecolor": "white",
           "zerolinewidth": 2
          },
          "yaxis": {
           "automargin": true,
           "gridcolor": "white",
           "linecolor": "white",
           "ticks": "",
           "title": {
            "standoff": 15
           },
           "zerolinecolor": "white",
           "zerolinewidth": 2
          }
         }
        },
        "title": {
         "text": "Year 0 Donations ($) by Repeat Donors"
        },
        "xaxis": {
         "anchor": "y",
         "domain": [
          0,
          1
         ],
         "title": {
          "text": "cohort_gift_pattern"
         },
         "type": "category"
        },
        "yaxis": {
         "anchor": "x",
         "domain": [
          0,
          1
         ],
         "title": {
          "text": "amount_yr0"
         }
        }
       }
      },
      "text/html": [
       "<div>\n",
       "        \n",
       "        \n",
       "            <div id=\"c57487da-cf99-417a-8d34-8da62cf99f00\" class=\"plotly-graph-div\" style=\"height:525px; width:100%;\"></div>\n",
       "            <script type=\"text/javascript\">\n",
       "                require([\"plotly\"], function(Plotly) {\n",
       "                    window.PLOTLYENV=window.PLOTLYENV || {};\n",
       "                    \n",
       "                if (document.getElementById(\"c57487da-cf99-417a-8d34-8da62cf99f00\")) {\n",
       "                    Plotly.newPlot(\n",
       "                        'c57487da-cf99-417a-8d34-8da62cf99f00',\n",
       "                        [{\"alignmentgroup\": \"True\", \"hovertemplate\": \"cohort_gift_pattern=%{x}<br>amount_yr0=%{y}<extra></extra>\", \"legendgroup\": \"\", \"marker\": {\"color\": \"#636efa\"}, \"name\": \"\", \"offsetgroup\": \"\", \"orientation\": \"v\", \"showlegend\": false, \"textposition\": \"auto\", \"type\": \"bar\", \"x\": [\"0,\", \"0,1,\", \"0,1,\", \"0,1,2,\", \"0,1,2,\", \"0,1,2,3,\", \"0,1,2,3,\", \"0,1,2,3,4,\", \"0,1,2,3,4,\", \"0,1,2,4,\", \"0,1,2,4,\", \"0,1,3,\", \"0,1,3,\", \"0,1,3,4,\", \"0,1,3,4,\", \"0,1,4,\", \"0,1,4,\", \"0,2,\", \"0,2,\", \"0,2,3,\", \"0,2,3,\", \"0,2,3,4,\", \"0,2,3,4,\", \"0,2,4,\", \"0,2,4,\", \"0,3,\", \"0,3,\", \"0,3,4\", \"0,3,4\", \"0,4,\", \"0,4,\"], \"xaxis\": \"x\", \"y\": [110874596.0, 6301026.0, 15578693.0, 2844569.0, 4573944.0, 1473566.0, 2139808.0, 1012539.0, 5209667.0, 80485.0, 482861.0, 229617.0, 856790.0, 135734.0, 335332.0, 98243.0, 278397.0, 861233.0, 4034035.0, 263383.0, 581115.0, 120260.0, 273685.0, 65597.0, 146543.0, 331433.0, 1167558.0, 102650.0, 227617.0, 160860.0, 395076.0], \"yaxis\": \"y\"}],\n",
       "                        {\"barmode\": \"relative\", \"legend\": {\"tracegroupgap\": 0}, \"template\": {\"data\": {\"bar\": [{\"error_x\": {\"color\": \"#2a3f5f\"}, \"error_y\": {\"color\": \"#2a3f5f\"}, \"marker\": {\"line\": {\"color\": \"#E5ECF6\", \"width\": 0.5}}, \"type\": \"bar\"}], \"barpolar\": [{\"marker\": {\"line\": {\"color\": \"#E5ECF6\", \"width\": 0.5}}, \"type\": \"barpolar\"}], \"carpet\": [{\"aaxis\": {\"endlinecolor\": \"#2a3f5f\", \"gridcolor\": \"white\", \"linecolor\": \"white\", \"minorgridcolor\": \"white\", \"startlinecolor\": \"#2a3f5f\"}, \"baxis\": {\"endlinecolor\": \"#2a3f5f\", \"gridcolor\": \"white\", \"linecolor\": \"white\", \"minorgridcolor\": \"white\", \"startlinecolor\": \"#2a3f5f\"}, \"type\": \"carpet\"}], \"choropleth\": [{\"colorbar\": {\"outlinewidth\": 0, \"ticks\": \"\"}, \"type\": \"choropleth\"}], \"contour\": [{\"colorbar\": {\"outlinewidth\": 0, \"ticks\": \"\"}, \"colorscale\": [[0.0, \"#0d0887\"], [0.1111111111111111, \"#46039f\"], [0.2222222222222222, \"#7201a8\"], [0.3333333333333333, \"#9c179e\"], [0.4444444444444444, \"#bd3786\"], [0.5555555555555556, \"#d8576b\"], [0.6666666666666666, \"#ed7953\"], [0.7777777777777778, \"#fb9f3a\"], [0.8888888888888888, \"#fdca26\"], [1.0, \"#f0f921\"]], \"type\": \"contour\"}], \"contourcarpet\": [{\"colorbar\": {\"outlinewidth\": 0, \"ticks\": \"\"}, \"type\": \"contourcarpet\"}], \"heatmap\": [{\"colorbar\": {\"outlinewidth\": 0, \"ticks\": \"\"}, \"colorscale\": [[0.0, \"#0d0887\"], [0.1111111111111111, \"#46039f\"], [0.2222222222222222, \"#7201a8\"], [0.3333333333333333, \"#9c179e\"], [0.4444444444444444, \"#bd3786\"], [0.5555555555555556, \"#d8576b\"], [0.6666666666666666, \"#ed7953\"], [0.7777777777777778, \"#fb9f3a\"], [0.8888888888888888, \"#fdca26\"], [1.0, \"#f0f921\"]], \"type\": \"heatmap\"}], \"heatmapgl\": [{\"colorbar\": {\"outlinewidth\": 0, \"ticks\": \"\"}, \"colorscale\": [[0.0, \"#0d0887\"], [0.1111111111111111, \"#46039f\"], [0.2222222222222222, \"#7201a8\"], [0.3333333333333333, \"#9c179e\"], [0.4444444444444444, \"#bd3786\"], [0.5555555555555556, \"#d8576b\"], [0.6666666666666666, \"#ed7953\"], [0.7777777777777778, \"#fb9f3a\"], [0.8888888888888888, \"#fdca26\"], [1.0, \"#f0f921\"]], \"type\": \"heatmapgl\"}], \"histogram\": [{\"marker\": {\"colorbar\": {\"outlinewidth\": 0, \"ticks\": \"\"}}, \"type\": \"histogram\"}], \"histogram2d\": [{\"colorbar\": {\"outlinewidth\": 0, \"ticks\": \"\"}, \"colorscale\": [[0.0, \"#0d0887\"], [0.1111111111111111, \"#46039f\"], [0.2222222222222222, \"#7201a8\"], [0.3333333333333333, \"#9c179e\"], [0.4444444444444444, \"#bd3786\"], [0.5555555555555556, \"#d8576b\"], [0.6666666666666666, \"#ed7953\"], [0.7777777777777778, \"#fb9f3a\"], [0.8888888888888888, \"#fdca26\"], [1.0, \"#f0f921\"]], \"type\": \"histogram2d\"}], \"histogram2dcontour\": [{\"colorbar\": {\"outlinewidth\": 0, \"ticks\": \"\"}, \"colorscale\": [[0.0, \"#0d0887\"], [0.1111111111111111, \"#46039f\"], [0.2222222222222222, \"#7201a8\"], [0.3333333333333333, \"#9c179e\"], [0.4444444444444444, \"#bd3786\"], [0.5555555555555556, \"#d8576b\"], [0.6666666666666666, \"#ed7953\"], [0.7777777777777778, \"#fb9f3a\"], [0.8888888888888888, \"#fdca26\"], [1.0, \"#f0f921\"]], \"type\": \"histogram2dcontour\"}], \"mesh3d\": [{\"colorbar\": {\"outlinewidth\": 0, \"ticks\": \"\"}, \"type\": \"mesh3d\"}], \"parcoords\": [{\"line\": {\"colorbar\": {\"outlinewidth\": 0, \"ticks\": \"\"}}, \"type\": \"parcoords\"}], \"pie\": [{\"automargin\": true, \"type\": \"pie\"}], \"scatter\": [{\"marker\": {\"colorbar\": {\"outlinewidth\": 0, \"ticks\": \"\"}}, \"type\": \"scatter\"}], \"scatter3d\": [{\"line\": {\"colorbar\": {\"outlinewidth\": 0, \"ticks\": \"\"}}, \"marker\": {\"colorbar\": {\"outlinewidth\": 0, \"ticks\": \"\"}}, \"type\": \"scatter3d\"}], \"scattercarpet\": [{\"marker\": {\"colorbar\": {\"outlinewidth\": 0, \"ticks\": \"\"}}, \"type\": \"scattercarpet\"}], \"scattergeo\": [{\"marker\": {\"colorbar\": {\"outlinewidth\": 0, \"ticks\": \"\"}}, \"type\": \"scattergeo\"}], \"scattergl\": [{\"marker\": {\"colorbar\": {\"outlinewidth\": 0, \"ticks\": \"\"}}, \"type\": \"scattergl\"}], \"scattermapbox\": [{\"marker\": {\"colorbar\": {\"outlinewidth\": 0, \"ticks\": \"\"}}, \"type\": \"scattermapbox\"}], \"scatterpolar\": [{\"marker\": {\"colorbar\": {\"outlinewidth\": 0, \"ticks\": \"\"}}, \"type\": \"scatterpolar\"}], \"scatterpolargl\": [{\"marker\": {\"colorbar\": {\"outlinewidth\": 0, \"ticks\": \"\"}}, \"type\": \"scatterpolargl\"}], \"scatterternary\": [{\"marker\": {\"colorbar\": {\"outlinewidth\": 0, \"ticks\": \"\"}}, \"type\": \"scatterternary\"}], \"surface\": [{\"colorbar\": {\"outlinewidth\": 0, \"ticks\": \"\"}, \"colorscale\": [[0.0, \"#0d0887\"], [0.1111111111111111, \"#46039f\"], [0.2222222222222222, \"#7201a8\"], [0.3333333333333333, \"#9c179e\"], [0.4444444444444444, \"#bd3786\"], [0.5555555555555556, \"#d8576b\"], [0.6666666666666666, \"#ed7953\"], [0.7777777777777778, \"#fb9f3a\"], [0.8888888888888888, \"#fdca26\"], [1.0, \"#f0f921\"]], \"type\": \"surface\"}], \"table\": [{\"cells\": {\"fill\": {\"color\": \"#EBF0F8\"}, \"line\": {\"color\": \"white\"}}, \"header\": {\"fill\": {\"color\": \"#C8D4E3\"}, \"line\": {\"color\": \"white\"}}, \"type\": \"table\"}]}, \"layout\": {\"annotationdefaults\": {\"arrowcolor\": \"#2a3f5f\", \"arrowhead\": 0, \"arrowwidth\": 1}, \"coloraxis\": {\"colorbar\": {\"outlinewidth\": 0, \"ticks\": \"\"}}, \"colorscale\": {\"diverging\": [[0, \"#8e0152\"], [0.1, \"#c51b7d\"], [0.2, \"#de77ae\"], [0.3, \"#f1b6da\"], [0.4, \"#fde0ef\"], [0.5, \"#f7f7f7\"], [0.6, \"#e6f5d0\"], [0.7, \"#b8e186\"], [0.8, \"#7fbc41\"], [0.9, \"#4d9221\"], [1, \"#276419\"]], \"sequential\": [[0.0, \"#0d0887\"], [0.1111111111111111, \"#46039f\"], [0.2222222222222222, \"#7201a8\"], [0.3333333333333333, \"#9c179e\"], [0.4444444444444444, \"#bd3786\"], [0.5555555555555556, \"#d8576b\"], [0.6666666666666666, \"#ed7953\"], [0.7777777777777778, \"#fb9f3a\"], [0.8888888888888888, \"#fdca26\"], [1.0, \"#f0f921\"]], \"sequentialminus\": [[0.0, \"#0d0887\"], [0.1111111111111111, \"#46039f\"], [0.2222222222222222, \"#7201a8\"], [0.3333333333333333, \"#9c179e\"], [0.4444444444444444, \"#bd3786\"], [0.5555555555555556, \"#d8576b\"], [0.6666666666666666, \"#ed7953\"], [0.7777777777777778, \"#fb9f3a\"], [0.8888888888888888, \"#fdca26\"], [1.0, \"#f0f921\"]]}, \"colorway\": [\"#636efa\", \"#EF553B\", \"#00cc96\", \"#ab63fa\", \"#FFA15A\", \"#19d3f3\", \"#FF6692\", \"#B6E880\", \"#FF97FF\", \"#FECB52\"], \"font\": {\"color\": \"#2a3f5f\"}, \"geo\": {\"bgcolor\": \"white\", \"lakecolor\": \"white\", \"landcolor\": \"#E5ECF6\", \"showlakes\": true, \"showland\": true, \"subunitcolor\": \"white\"}, \"hoverlabel\": {\"align\": \"left\"}, \"hovermode\": \"closest\", \"mapbox\": {\"style\": \"light\"}, \"paper_bgcolor\": \"white\", \"plot_bgcolor\": \"#E5ECF6\", \"polar\": {\"angularaxis\": {\"gridcolor\": \"white\", \"linecolor\": \"white\", \"ticks\": \"\"}, \"bgcolor\": \"#E5ECF6\", \"radialaxis\": {\"gridcolor\": \"white\", \"linecolor\": \"white\", \"ticks\": \"\"}}, \"scene\": {\"xaxis\": {\"backgroundcolor\": \"#E5ECF6\", \"gridcolor\": \"white\", \"gridwidth\": 2, \"linecolor\": \"white\", \"showbackground\": true, \"ticks\": \"\", \"zerolinecolor\": \"white\"}, \"yaxis\": {\"backgroundcolor\": \"#E5ECF6\", \"gridcolor\": \"white\", \"gridwidth\": 2, \"linecolor\": \"white\", \"showbackground\": true, \"ticks\": \"\", \"zerolinecolor\": \"white\"}, \"zaxis\": {\"backgroundcolor\": \"#E5ECF6\", \"gridcolor\": \"white\", \"gridwidth\": 2, \"linecolor\": \"white\", \"showbackground\": true, \"ticks\": \"\", \"zerolinecolor\": \"white\"}}, \"shapedefaults\": {\"line\": {\"color\": \"#2a3f5f\"}}, \"ternary\": {\"aaxis\": {\"gridcolor\": \"white\", \"linecolor\": \"white\", \"ticks\": \"\"}, \"baxis\": {\"gridcolor\": \"white\", \"linecolor\": \"white\", \"ticks\": \"\"}, \"bgcolor\": \"#E5ECF6\", \"caxis\": {\"gridcolor\": \"white\", \"linecolor\": \"white\", \"ticks\": \"\"}}, \"title\": {\"x\": 0.05}, \"xaxis\": {\"automargin\": true, \"gridcolor\": \"white\", \"linecolor\": \"white\", \"ticks\": \"\", \"title\": {\"standoff\": 15}, \"zerolinecolor\": \"white\", \"zerolinewidth\": 2}, \"yaxis\": {\"automargin\": true, \"gridcolor\": \"white\", \"linecolor\": \"white\", \"ticks\": \"\", \"title\": {\"standoff\": 15}, \"zerolinecolor\": \"white\", \"zerolinewidth\": 2}}}, \"title\": {\"text\": \"Year 0 Donations ($) by Repeat Donors\"}, \"xaxis\": {\"anchor\": \"y\", \"domain\": [0.0, 1.0], \"title\": {\"text\": \"cohort_gift_pattern\"}, \"type\": \"category\"}, \"yaxis\": {\"anchor\": \"x\", \"domain\": [0.0, 1.0], \"title\": {\"text\": \"amount_yr0\"}}},\n",
       "                        {\"responsive\": true}\n",
       "                    ).then(function(){\n",
       "                            \n",
       "var gd = document.getElementById('c57487da-cf99-417a-8d34-8da62cf99f00');\n",
       "var x = new MutationObserver(function (mutations, observer) {{\n",
       "        var display = window.getComputedStyle(gd).display;\n",
       "        if (!display || display === 'none') {{\n",
       "            console.log([gd, 'removed!']);\n",
       "            Plotly.purge(gd);\n",
       "            observer.disconnect();\n",
       "        }}\n",
       "}});\n",
       "\n",
       "// Listen for the removal of the full notebook cells\n",
       "var notebookContainer = gd.closest('#notebook-container');\n",
       "if (notebookContainer) {{\n",
       "    x.observe(notebookContainer, {childList: true});\n",
       "}}\n",
       "\n",
       "// Listen for the clearing of the current output cell\n",
       "var outputEl = gd.closest('.output');\n",
       "if (outputEl) {{\n",
       "    x.observe(outputEl, {childList: true});\n",
       "}}\n",
       "\n",
       "                        })\n",
       "                };\n",
       "                });\n",
       "            </script>\n",
       "        </div>"
      ]
     },
     "metadata": {},
     "output_type": "display_data"
    }
   ],
   "source": [
    "fig = px.bar(cgp_1, x=\"cohort_gift_pattern\", y=\"amount_yr0\",\n",
    "            title=\"Year 0 Donations ($) by Repeat Donors\")\n",
    " #barmode='group', labels={'index':'year', 'y':'amount ($)'}, \n",
    "fig.update_xaxes(type='category')\n",
    "fig.show()"
   ]
  },
  {
   "cell_type": "code",
   "execution_count": 259,
   "metadata": {},
   "outputs": [],
   "source": [
    "#isolate cohort 13, 14, 15\n",
    "c13=donations_13to17.query('first_gift_year == \"2013-01-01\"')\n",
    "c14=donations_13to17.query('first_gift_year == \"2014-01-01\"')\n",
    "c15=donations_13to17.query('first_gift_year == \"2015-01-01\"')"
   ]
  },
  {
   "cell_type": "code",
   "execution_count": 260,
   "metadata": {},
   "outputs": [],
   "source": [
    "#remove one-time donors\n",
    "c13_repeat=c13.query('donor_profile != \"one_time\"')\n",
    "c14_repeat=c14.query('donor_profile != \"one_time\"')\n",
    "c15_repeat=c15.query('donor_profile != \"one_time\"')"
   ]
  },
  {
   "cell_type": "code",
   "execution_count": 261,
   "metadata": {},
   "outputs": [],
   "source": [
    "# groupby cohort gift year pattern\n",
    "c13_repeat_yr=c13_repeat.groupby(['cohort_gift_pattern', 'years_donated', 'perc_years_donated']).sum()\n",
    "c14_repeat_yr=c14_repeat.groupby(['cohort_gift_pattern', 'years_donated','perc_years_donated']).sum()\n",
    "c15_repeat_yr=c15_repeat.groupby(['cohort_gift_pattern', 'years_donated','perc_years_donated']).sum()"
   ]
  },
  {
   "cell_type": "code",
   "execution_count": 262,
   "metadata": {},
   "outputs": [
    {
     "data": {
      "text/html": [
       "<div>\n",
       "<style scoped>\n",
       "    .dataframe tbody tr th:only-of-type {\n",
       "        vertical-align: middle;\n",
       "    }\n",
       "\n",
       "    .dataframe tbody tr th {\n",
       "        vertical-align: top;\n",
       "    }\n",
       "\n",
       "    .dataframe thead th {\n",
       "        text-align: right;\n",
       "    }\n",
       "</style>\n",
       "<table border=\"1\" class=\"dataframe\">\n",
       "  <thead>\n",
       "    <tr style=\"text-align: right;\">\n",
       "      <th></th>\n",
       "      <th></th>\n",
       "      <th></th>\n",
       "      <th>lapsed_count</th>\n",
       "      <th>recovered_count</th>\n",
       "      <th>max_consec_giving_years</th>\n",
       "      <th>total_giving_years</th>\n",
       "      <th>count_2013</th>\n",
       "      <th>count_2014</th>\n",
       "      <th>count_2015</th>\n",
       "      <th>count_2016</th>\n",
       "      <th>count_2017</th>\n",
       "      <th>count_yr0</th>\n",
       "      <th>...</th>\n",
       "      <th>amount_07_yr4</th>\n",
       "      <th>amount_08_yr4</th>\n",
       "      <th>amount_09_yr4</th>\n",
       "      <th>amount_10_yr4</th>\n",
       "      <th>amount_11_yr4</th>\n",
       "      <th>amount_12_yr4</th>\n",
       "      <th>gainloss_2014_amt</th>\n",
       "      <th>gainloss_2015_amt</th>\n",
       "      <th>gainloss_2016_amt</th>\n",
       "      <th>gainloss_2017_amt</th>\n",
       "    </tr>\n",
       "    <tr>\n",
       "      <th>cohort_gift_pattern</th>\n",
       "      <th>years_donated</th>\n",
       "      <th>perc_years_donated</th>\n",
       "      <th></th>\n",
       "      <th></th>\n",
       "      <th></th>\n",
       "      <th></th>\n",
       "      <th></th>\n",
       "      <th></th>\n",
       "      <th></th>\n",
       "      <th></th>\n",
       "      <th></th>\n",
       "      <th></th>\n",
       "      <th></th>\n",
       "      <th></th>\n",
       "      <th></th>\n",
       "      <th></th>\n",
       "      <th></th>\n",
       "      <th></th>\n",
       "      <th></th>\n",
       "      <th></th>\n",
       "      <th></th>\n",
       "      <th></th>\n",
       "      <th></th>\n",
       "    </tr>\n",
       "  </thead>\n",
       "  <tbody>\n",
       "    <tr>\n",
       "      <td>0,1,</td>\n",
       "      <td>2.0</td>\n",
       "      <td>0.4</td>\n",
       "      <td>86914</td>\n",
       "      <td>58097</td>\n",
       "      <td>57634</td>\n",
       "      <td>58097</td>\n",
       "      <td>64748</td>\n",
       "      <td>51534</td>\n",
       "      <td>0</td>\n",
       "      <td>0</td>\n",
       "      <td>0</td>\n",
       "      <td>64748</td>\n",
       "      <td>...</td>\n",
       "      <td>0.00</td>\n",
       "      <td>0.00</td>\n",
       "      <td>0.00</td>\n",
       "      <td>0.00</td>\n",
       "      <td>0.00</td>\n",
       "      <td>0.00</td>\n",
       "      <td>-587824.15</td>\n",
       "      <td>-3068061.26</td>\n",
       "      <td>0.00</td>\n",
       "      <td>0.00</td>\n",
       "    </tr>\n",
       "    <tr>\n",
       "      <td>0,1,2,</td>\n",
       "      <td>3.0</td>\n",
       "      <td>0.6</td>\n",
       "      <td>38082</td>\n",
       "      <td>28659</td>\n",
       "      <td>28269</td>\n",
       "      <td>28659</td>\n",
       "      <td>26455</td>\n",
       "      <td>29234</td>\n",
       "      <td>19173</td>\n",
       "      <td>0</td>\n",
       "      <td>0</td>\n",
       "      <td>26455</td>\n",
       "      <td>...</td>\n",
       "      <td>0.00</td>\n",
       "      <td>0.00</td>\n",
       "      <td>0.00</td>\n",
       "      <td>0.00</td>\n",
       "      <td>0.00</td>\n",
       "      <td>0.00</td>\n",
       "      <td>112834.32</td>\n",
       "      <td>-410103.56</td>\n",
       "      <td>-1231026.10</td>\n",
       "      <td>0.00</td>\n",
       "    </tr>\n",
       "    <tr>\n",
       "      <td>0,1,2,3,</td>\n",
       "      <td>4.0</td>\n",
       "      <td>0.8</td>\n",
       "      <td>22728</td>\n",
       "      <td>18286</td>\n",
       "      <td>17768</td>\n",
       "      <td>18286</td>\n",
       "      <td>18751</td>\n",
       "      <td>24645</td>\n",
       "      <td>16516</td>\n",
       "      <td>10464</td>\n",
       "      <td>0</td>\n",
       "      <td>18751</td>\n",
       "      <td>...</td>\n",
       "      <td>0.00</td>\n",
       "      <td>0.00</td>\n",
       "      <td>0.00</td>\n",
       "      <td>0.00</td>\n",
       "      <td>0.00</td>\n",
       "      <td>0.00</td>\n",
       "      <td>163961.95</td>\n",
       "      <td>-167120.59</td>\n",
       "      <td>-249994.45</td>\n",
       "      <td>-871183.11</td>\n",
       "    </tr>\n",
       "    <tr>\n",
       "      <td>0,1,2,3,4,</td>\n",
       "      <td>5.0</td>\n",
       "      <td>1.0</td>\n",
       "      <td>59268</td>\n",
       "      <td>54502</td>\n",
       "      <td>54502</td>\n",
       "      <td>54502</td>\n",
       "      <td>106045</td>\n",
       "      <td>151064</td>\n",
       "      <td>115174</td>\n",
       "      <td>108187</td>\n",
       "      <td>113502</td>\n",
       "      <td>106045</td>\n",
       "      <td>...</td>\n",
       "      <td>475489.97</td>\n",
       "      <td>795497.00</td>\n",
       "      <td>766352.07</td>\n",
       "      <td>739578.72</td>\n",
       "      <td>868287.04</td>\n",
       "      <td>1266884.78</td>\n",
       "      <td>2390607.00</td>\n",
       "      <td>164099.63</td>\n",
       "      <td>163158.28</td>\n",
       "      <td>242453.43</td>\n",
       "    </tr>\n",
       "    <tr>\n",
       "      <td>0,1,2,4,</td>\n",
       "      <td>4.0</td>\n",
       "      <td>0.8</td>\n",
       "      <td>14022</td>\n",
       "      <td>9909</td>\n",
       "      <td>7011</td>\n",
       "      <td>9909</td>\n",
       "      <td>10972</td>\n",
       "      <td>10517</td>\n",
       "      <td>7010</td>\n",
       "      <td>0</td>\n",
       "      <td>6532</td>\n",
       "      <td>10972</td>\n",
       "      <td>...</td>\n",
       "      <td>20652.61</td>\n",
       "      <td>47365.18</td>\n",
       "      <td>51488.18</td>\n",
       "      <td>39111.52</td>\n",
       "      <td>63445.55</td>\n",
       "      <td>109491.95</td>\n",
       "      <td>58572.51</td>\n",
       "      <td>-18196.60</td>\n",
       "      <td>-523237.00</td>\n",
       "      <td>511597.68</td>\n",
       "    </tr>\n",
       "    <tr>\n",
       "      <td>0,1,3,</td>\n",
       "      <td>3.0</td>\n",
       "      <td>0.6</td>\n",
       "      <td>15574</td>\n",
       "      <td>9424</td>\n",
       "      <td>6150</td>\n",
       "      <td>9424</td>\n",
       "      <td>6844</td>\n",
       "      <td>6236</td>\n",
       "      <td>0</td>\n",
       "      <td>4692</td>\n",
       "      <td>0</td>\n",
       "      <td>6844</td>\n",
       "      <td>...</td>\n",
       "      <td>0.00</td>\n",
       "      <td>0.00</td>\n",
       "      <td>0.00</td>\n",
       "      <td>0.00</td>\n",
       "      <td>0.00</td>\n",
       "      <td>0.00</td>\n",
       "      <td>39810.58</td>\n",
       "      <td>-444217.50</td>\n",
       "      <td>370153.49</td>\n",
       "      <td>-370153.49</td>\n",
       "    </tr>\n",
       "    <tr>\n",
       "      <td>0,1,3,4,</td>\n",
       "      <td>4.0</td>\n",
       "      <td>0.8</td>\n",
       "      <td>11772</td>\n",
       "      <td>8418</td>\n",
       "      <td>4494</td>\n",
       "      <td>8418</td>\n",
       "      <td>5221</td>\n",
       "      <td>5439</td>\n",
       "      <td>0</td>\n",
       "      <td>5243</td>\n",
       "      <td>7773</td>\n",
       "      <td>5221</td>\n",
       "      <td>...</td>\n",
       "      <td>26520.55</td>\n",
       "      <td>39497.11</td>\n",
       "      <td>39363.16</td>\n",
       "      <td>34022.05</td>\n",
       "      <td>41518.47</td>\n",
       "      <td>109900.38</td>\n",
       "      <td>35816.70</td>\n",
       "      <td>-371148.57</td>\n",
       "      <td>449079.65</td>\n",
       "      <td>24726.49</td>\n",
       "    </tr>\n",
       "    <tr>\n",
       "      <td>0,1,4,</td>\n",
       "      <td>3.0</td>\n",
       "      <td>0.6</td>\n",
       "      <td>10980</td>\n",
       "      <td>6959</td>\n",
       "      <td>4392</td>\n",
       "      <td>6959</td>\n",
       "      <td>6416</td>\n",
       "      <td>4953</td>\n",
       "      <td>0</td>\n",
       "      <td>0</td>\n",
       "      <td>4562</td>\n",
       "      <td>6416</td>\n",
       "      <td>...</td>\n",
       "      <td>13938.24</td>\n",
       "      <td>34097.56</td>\n",
       "      <td>29615.97</td>\n",
       "      <td>22492.52</td>\n",
       "      <td>34206.41</td>\n",
       "      <td>44463.84</td>\n",
       "      <td>34744.33</td>\n",
       "      <td>-313141.03</td>\n",
       "      <td>0.00</td>\n",
       "      <td>285465.61</td>\n",
       "    </tr>\n",
       "    <tr>\n",
       "      <td>0,2,</td>\n",
       "      <td>2.0</td>\n",
       "      <td>0.4</td>\n",
       "      <td>41814</td>\n",
       "      <td>21034</td>\n",
       "      <td>10390</td>\n",
       "      <td>21034</td>\n",
       "      <td>15530</td>\n",
       "      <td>0</td>\n",
       "      <td>13997</td>\n",
       "      <td>0</td>\n",
       "      <td>0</td>\n",
       "      <td>15530</td>\n",
       "      <td>...</td>\n",
       "      <td>0.00</td>\n",
       "      <td>0.00</td>\n",
       "      <td>0.00</td>\n",
       "      <td>0.00</td>\n",
       "      <td>0.00</td>\n",
       "      <td>0.00</td>\n",
       "      <td>-1631608.53</td>\n",
       "      <td>1074627.91</td>\n",
       "      <td>-1074627.91</td>\n",
       "      <td>0.00</td>\n",
       "    </tr>\n",
       "    <tr>\n",
       "      <td>0,2,3,</td>\n",
       "      <td>3.0</td>\n",
       "      <td>0.6</td>\n",
       "      <td>12241</td>\n",
       "      <td>7417</td>\n",
       "      <td>4824</td>\n",
       "      <td>7417</td>\n",
       "      <td>3985</td>\n",
       "      <td>0</td>\n",
       "      <td>4140</td>\n",
       "      <td>3852</td>\n",
       "      <td>0</td>\n",
       "      <td>3985</td>\n",
       "      <td>...</td>\n",
       "      <td>0.00</td>\n",
       "      <td>0.00</td>\n",
       "      <td>0.00</td>\n",
       "      <td>0.00</td>\n",
       "      <td>0.00</td>\n",
       "      <td>0.00</td>\n",
       "      <td>-246634.92</td>\n",
       "      <td>315060.81</td>\n",
       "      <td>-22050.91</td>\n",
       "      <td>-293009.90</td>\n",
       "    </tr>\n",
       "    <tr>\n",
       "      <td>0,2,3,4,</td>\n",
       "      <td>4.0</td>\n",
       "      <td>0.8</td>\n",
       "      <td>11388</td>\n",
       "      <td>8198</td>\n",
       "      <td>6300</td>\n",
       "      <td>8198</td>\n",
       "      <td>3968</td>\n",
       "      <td>0</td>\n",
       "      <td>4913</td>\n",
       "      <td>6291</td>\n",
       "      <td>7014</td>\n",
       "      <td>3968</td>\n",
       "      <td>...</td>\n",
       "      <td>32551.15</td>\n",
       "      <td>52787.06</td>\n",
       "      <td>47071.51</td>\n",
       "      <td>55334.27</td>\n",
       "      <td>53680.00</td>\n",
       "      <td>83008.40</td>\n",
       "      <td>-273684.57</td>\n",
       "      <td>390220.25</td>\n",
       "      <td>99264.16</td>\n",
       "      <td>51307.53</td>\n",
       "    </tr>\n",
       "    <tr>\n",
       "      <td>0,2,4,</td>\n",
       "      <td>3.0</td>\n",
       "      <td>0.6</td>\n",
       "      <td>8718</td>\n",
       "      <td>4640</td>\n",
       "      <td>1734</td>\n",
       "      <td>4640</td>\n",
       "      <td>2475</td>\n",
       "      <td>0</td>\n",
       "      <td>2503</td>\n",
       "      <td>0</td>\n",
       "      <td>2766</td>\n",
       "      <td>2475</td>\n",
       "      <td>...</td>\n",
       "      <td>10794.43</td>\n",
       "      <td>22169.07</td>\n",
       "      <td>15875.74</td>\n",
       "      <td>17098.53</td>\n",
       "      <td>17583.56</td>\n",
       "      <td>27018.08</td>\n",
       "      <td>-146542.84</td>\n",
       "      <td>167583.92</td>\n",
       "      <td>-167583.92</td>\n",
       "      <td>184624.84</td>\n",
       "    </tr>\n",
       "    <tr>\n",
       "      <td>0,3,</td>\n",
       "      <td>2.0</td>\n",
       "      <td>0.4</td>\n",
       "      <td>27406</td>\n",
       "      <td>13860</td>\n",
       "      <td>6773</td>\n",
       "      <td>13860</td>\n",
       "      <td>9340</td>\n",
       "      <td>0</td>\n",
       "      <td>0</td>\n",
       "      <td>8946</td>\n",
       "      <td>0</td>\n",
       "      <td>9340</td>\n",
       "      <td>...</td>\n",
       "      <td>0.00</td>\n",
       "      <td>0.00</td>\n",
       "      <td>0.00</td>\n",
       "      <td>0.00</td>\n",
       "      <td>0.00</td>\n",
       "      <td>0.00</td>\n",
       "      <td>-538437.10</td>\n",
       "      <td>0.00</td>\n",
       "      <td>611542.04</td>\n",
       "      <td>-611542.04</td>\n",
       "    </tr>\n",
       "    <tr>\n",
       "      <td>0,3,4</td>\n",
       "      <td>3.0</td>\n",
       "      <td>0.6</td>\n",
       "      <td>10975</td>\n",
       "      <td>7040</td>\n",
       "      <td>4845</td>\n",
       "      <td>7040</td>\n",
       "      <td>3783</td>\n",
       "      <td>0</td>\n",
       "      <td>0</td>\n",
       "      <td>4520</td>\n",
       "      <td>9585</td>\n",
       "      <td>3783</td>\n",
       "      <td>...</td>\n",
       "      <td>24795.54</td>\n",
       "      <td>43702.79</td>\n",
       "      <td>34923.94</td>\n",
       "      <td>41067.78</td>\n",
       "      <td>42188.43</td>\n",
       "      <td>61246.73</td>\n",
       "      <td>-227617.39</td>\n",
       "      <td>0.00</td>\n",
       "      <td>386284.93</td>\n",
       "      <td>71116.28</td>\n",
       "    </tr>\n",
       "    <tr>\n",
       "      <td>0,4,</td>\n",
       "      <td>2.0</td>\n",
       "      <td>0.4</td>\n",
       "      <td>20040</td>\n",
       "      <td>10522</td>\n",
       "      <td>5512</td>\n",
       "      <td>10522</td>\n",
       "      <td>7167</td>\n",
       "      <td>0</td>\n",
       "      <td>0</td>\n",
       "      <td>0</td>\n",
       "      <td>8113</td>\n",
       "      <td>7167</td>\n",
       "      <td>...</td>\n",
       "      <td>33153.07</td>\n",
       "      <td>67162.44</td>\n",
       "      <td>52978.49</td>\n",
       "      <td>53568.97</td>\n",
       "      <td>45914.67</td>\n",
       "      <td>91385.09</td>\n",
       "      <td>-395075.69</td>\n",
       "      <td>0.00</td>\n",
       "      <td>0.00</td>\n",
       "      <td>532082.25</td>\n",
       "    </tr>\n",
       "  </tbody>\n",
       "</table>\n",
       "<p>15 rows × 182 columns</p>\n",
       "</div>"
      ],
      "text/plain": [
       "                                                      lapsed_count  \\\n",
       "cohort_gift_pattern years_donated perc_years_donated                 \n",
       "0,1,                2.0           0.4                        86914   \n",
       "0,1,2,              3.0           0.6                        38082   \n",
       "0,1,2,3,            4.0           0.8                        22728   \n",
       "0,1,2,3,4,          5.0           1.0                        59268   \n",
       "0,1,2,4,            4.0           0.8                        14022   \n",
       "0,1,3,              3.0           0.6                        15574   \n",
       "0,1,3,4,            4.0           0.8                        11772   \n",
       "0,1,4,              3.0           0.6                        10980   \n",
       "0,2,                2.0           0.4                        41814   \n",
       "0,2,3,              3.0           0.6                        12241   \n",
       "0,2,3,4,            4.0           0.8                        11388   \n",
       "0,2,4,              3.0           0.6                         8718   \n",
       "0,3,                2.0           0.4                        27406   \n",
       "0,3,4               3.0           0.6                        10975   \n",
       "0,4,                2.0           0.4                        20040   \n",
       "\n",
       "                                                      recovered_count  \\\n",
       "cohort_gift_pattern years_donated perc_years_donated                    \n",
       "0,1,                2.0           0.4                           58097   \n",
       "0,1,2,              3.0           0.6                           28659   \n",
       "0,1,2,3,            4.0           0.8                           18286   \n",
       "0,1,2,3,4,          5.0           1.0                           54502   \n",
       "0,1,2,4,            4.0           0.8                            9909   \n",
       "0,1,3,              3.0           0.6                            9424   \n",
       "0,1,3,4,            4.0           0.8                            8418   \n",
       "0,1,4,              3.0           0.6                            6959   \n",
       "0,2,                2.0           0.4                           21034   \n",
       "0,2,3,              3.0           0.6                            7417   \n",
       "0,2,3,4,            4.0           0.8                            8198   \n",
       "0,2,4,              3.0           0.6                            4640   \n",
       "0,3,                2.0           0.4                           13860   \n",
       "0,3,4               3.0           0.6                            7040   \n",
       "0,4,                2.0           0.4                           10522   \n",
       "\n",
       "                                                      max_consec_giving_years  \\\n",
       "cohort_gift_pattern years_donated perc_years_donated                            \n",
       "0,1,                2.0           0.4                                   57634   \n",
       "0,1,2,              3.0           0.6                                   28269   \n",
       "0,1,2,3,            4.0           0.8                                   17768   \n",
       "0,1,2,3,4,          5.0           1.0                                   54502   \n",
       "0,1,2,4,            4.0           0.8                                    7011   \n",
       "0,1,3,              3.0           0.6                                    6150   \n",
       "0,1,3,4,            4.0           0.8                                    4494   \n",
       "0,1,4,              3.0           0.6                                    4392   \n",
       "0,2,                2.0           0.4                                   10390   \n",
       "0,2,3,              3.0           0.6                                    4824   \n",
       "0,2,3,4,            4.0           0.8                                    6300   \n",
       "0,2,4,              3.0           0.6                                    1734   \n",
       "0,3,                2.0           0.4                                    6773   \n",
       "0,3,4               3.0           0.6                                    4845   \n",
       "0,4,                2.0           0.4                                    5512   \n",
       "\n",
       "                                                      total_giving_years  \\\n",
       "cohort_gift_pattern years_donated perc_years_donated                       \n",
       "0,1,                2.0           0.4                              58097   \n",
       "0,1,2,              3.0           0.6                              28659   \n",
       "0,1,2,3,            4.0           0.8                              18286   \n",
       "0,1,2,3,4,          5.0           1.0                              54502   \n",
       "0,1,2,4,            4.0           0.8                               9909   \n",
       "0,1,3,              3.0           0.6                               9424   \n",
       "0,1,3,4,            4.0           0.8                               8418   \n",
       "0,1,4,              3.0           0.6                               6959   \n",
       "0,2,                2.0           0.4                              21034   \n",
       "0,2,3,              3.0           0.6                               7417   \n",
       "0,2,3,4,            4.0           0.8                               8198   \n",
       "0,2,4,              3.0           0.6                               4640   \n",
       "0,3,                2.0           0.4                              13860   \n",
       "0,3,4               3.0           0.6                               7040   \n",
       "0,4,                2.0           0.4                              10522   \n",
       "\n",
       "                                                      count_2013  count_2014  \\\n",
       "cohort_gift_pattern years_donated perc_years_donated                           \n",
       "0,1,                2.0           0.4                      64748       51534   \n",
       "0,1,2,              3.0           0.6                      26455       29234   \n",
       "0,1,2,3,            4.0           0.8                      18751       24645   \n",
       "0,1,2,3,4,          5.0           1.0                     106045      151064   \n",
       "0,1,2,4,            4.0           0.8                      10972       10517   \n",
       "0,1,3,              3.0           0.6                       6844        6236   \n",
       "0,1,3,4,            4.0           0.8                       5221        5439   \n",
       "0,1,4,              3.0           0.6                       6416        4953   \n",
       "0,2,                2.0           0.4                      15530           0   \n",
       "0,2,3,              3.0           0.6                       3985           0   \n",
       "0,2,3,4,            4.0           0.8                       3968           0   \n",
       "0,2,4,              3.0           0.6                       2475           0   \n",
       "0,3,                2.0           0.4                       9340           0   \n",
       "0,3,4               3.0           0.6                       3783           0   \n",
       "0,4,                2.0           0.4                       7167           0   \n",
       "\n",
       "                                                      count_2015  count_2016  \\\n",
       "cohort_gift_pattern years_donated perc_years_donated                           \n",
       "0,1,                2.0           0.4                          0           0   \n",
       "0,1,2,              3.0           0.6                      19173           0   \n",
       "0,1,2,3,            4.0           0.8                      16516       10464   \n",
       "0,1,2,3,4,          5.0           1.0                     115174      108187   \n",
       "0,1,2,4,            4.0           0.8                       7010           0   \n",
       "0,1,3,              3.0           0.6                          0        4692   \n",
       "0,1,3,4,            4.0           0.8                          0        5243   \n",
       "0,1,4,              3.0           0.6                          0           0   \n",
       "0,2,                2.0           0.4                      13997           0   \n",
       "0,2,3,              3.0           0.6                       4140        3852   \n",
       "0,2,3,4,            4.0           0.8                       4913        6291   \n",
       "0,2,4,              3.0           0.6                       2503           0   \n",
       "0,3,                2.0           0.4                          0        8946   \n",
       "0,3,4               3.0           0.6                          0        4520   \n",
       "0,4,                2.0           0.4                          0           0   \n",
       "\n",
       "                                                      count_2017  count_yr0  \\\n",
       "cohort_gift_pattern years_donated perc_years_donated                          \n",
       "0,1,                2.0           0.4                          0      64748   \n",
       "0,1,2,              3.0           0.6                          0      26455   \n",
       "0,1,2,3,            4.0           0.8                          0      18751   \n",
       "0,1,2,3,4,          5.0           1.0                     113502     106045   \n",
       "0,1,2,4,            4.0           0.8                       6532      10972   \n",
       "0,1,3,              3.0           0.6                          0       6844   \n",
       "0,1,3,4,            4.0           0.8                       7773       5221   \n",
       "0,1,4,              3.0           0.6                       4562       6416   \n",
       "0,2,                2.0           0.4                          0      15530   \n",
       "0,2,3,              3.0           0.6                          0       3985   \n",
       "0,2,3,4,            4.0           0.8                       7014       3968   \n",
       "0,2,4,              3.0           0.6                       2766       2475   \n",
       "0,3,                2.0           0.4                          0       9340   \n",
       "0,3,4               3.0           0.6                       9585       3783   \n",
       "0,4,                2.0           0.4                       8113       7167   \n",
       "\n",
       "                                                      ...  amount_07_yr4  \\\n",
       "cohort_gift_pattern years_donated perc_years_donated  ...                  \n",
       "0,1,                2.0           0.4                 ...           0.00   \n",
       "0,1,2,              3.0           0.6                 ...           0.00   \n",
       "0,1,2,3,            4.0           0.8                 ...           0.00   \n",
       "0,1,2,3,4,          5.0           1.0                 ...      475489.97   \n",
       "0,1,2,4,            4.0           0.8                 ...       20652.61   \n",
       "0,1,3,              3.0           0.6                 ...           0.00   \n",
       "0,1,3,4,            4.0           0.8                 ...       26520.55   \n",
       "0,1,4,              3.0           0.6                 ...       13938.24   \n",
       "0,2,                2.0           0.4                 ...           0.00   \n",
       "0,2,3,              3.0           0.6                 ...           0.00   \n",
       "0,2,3,4,            4.0           0.8                 ...       32551.15   \n",
       "0,2,4,              3.0           0.6                 ...       10794.43   \n",
       "0,3,                2.0           0.4                 ...           0.00   \n",
       "0,3,4               3.0           0.6                 ...       24795.54   \n",
       "0,4,                2.0           0.4                 ...       33153.07   \n",
       "\n",
       "                                                      amount_08_yr4  \\\n",
       "cohort_gift_pattern years_donated perc_years_donated                  \n",
       "0,1,                2.0           0.4                          0.00   \n",
       "0,1,2,              3.0           0.6                          0.00   \n",
       "0,1,2,3,            4.0           0.8                          0.00   \n",
       "0,1,2,3,4,          5.0           1.0                     795497.00   \n",
       "0,1,2,4,            4.0           0.8                      47365.18   \n",
       "0,1,3,              3.0           0.6                          0.00   \n",
       "0,1,3,4,            4.0           0.8                      39497.11   \n",
       "0,1,4,              3.0           0.6                      34097.56   \n",
       "0,2,                2.0           0.4                          0.00   \n",
       "0,2,3,              3.0           0.6                          0.00   \n",
       "0,2,3,4,            4.0           0.8                      52787.06   \n",
       "0,2,4,              3.0           0.6                      22169.07   \n",
       "0,3,                2.0           0.4                          0.00   \n",
       "0,3,4               3.0           0.6                      43702.79   \n",
       "0,4,                2.0           0.4                      67162.44   \n",
       "\n",
       "                                                      amount_09_yr4  \\\n",
       "cohort_gift_pattern years_donated perc_years_donated                  \n",
       "0,1,                2.0           0.4                          0.00   \n",
       "0,1,2,              3.0           0.6                          0.00   \n",
       "0,1,2,3,            4.0           0.8                          0.00   \n",
       "0,1,2,3,4,          5.0           1.0                     766352.07   \n",
       "0,1,2,4,            4.0           0.8                      51488.18   \n",
       "0,1,3,              3.0           0.6                          0.00   \n",
       "0,1,3,4,            4.0           0.8                      39363.16   \n",
       "0,1,4,              3.0           0.6                      29615.97   \n",
       "0,2,                2.0           0.4                          0.00   \n",
       "0,2,3,              3.0           0.6                          0.00   \n",
       "0,2,3,4,            4.0           0.8                      47071.51   \n",
       "0,2,4,              3.0           0.6                      15875.74   \n",
       "0,3,                2.0           0.4                          0.00   \n",
       "0,3,4               3.0           0.6                      34923.94   \n",
       "0,4,                2.0           0.4                      52978.49   \n",
       "\n",
       "                                                      amount_10_yr4  \\\n",
       "cohort_gift_pattern years_donated perc_years_donated                  \n",
       "0,1,                2.0           0.4                          0.00   \n",
       "0,1,2,              3.0           0.6                          0.00   \n",
       "0,1,2,3,            4.0           0.8                          0.00   \n",
       "0,1,2,3,4,          5.0           1.0                     739578.72   \n",
       "0,1,2,4,            4.0           0.8                      39111.52   \n",
       "0,1,3,              3.0           0.6                          0.00   \n",
       "0,1,3,4,            4.0           0.8                      34022.05   \n",
       "0,1,4,              3.0           0.6                      22492.52   \n",
       "0,2,                2.0           0.4                          0.00   \n",
       "0,2,3,              3.0           0.6                          0.00   \n",
       "0,2,3,4,            4.0           0.8                      55334.27   \n",
       "0,2,4,              3.0           0.6                      17098.53   \n",
       "0,3,                2.0           0.4                          0.00   \n",
       "0,3,4               3.0           0.6                      41067.78   \n",
       "0,4,                2.0           0.4                      53568.97   \n",
       "\n",
       "                                                      amount_11_yr4  \\\n",
       "cohort_gift_pattern years_donated perc_years_donated                  \n",
       "0,1,                2.0           0.4                          0.00   \n",
       "0,1,2,              3.0           0.6                          0.00   \n",
       "0,1,2,3,            4.0           0.8                          0.00   \n",
       "0,1,2,3,4,          5.0           1.0                     868287.04   \n",
       "0,1,2,4,            4.0           0.8                      63445.55   \n",
       "0,1,3,              3.0           0.6                          0.00   \n",
       "0,1,3,4,            4.0           0.8                      41518.47   \n",
       "0,1,4,              3.0           0.6                      34206.41   \n",
       "0,2,                2.0           0.4                          0.00   \n",
       "0,2,3,              3.0           0.6                          0.00   \n",
       "0,2,3,4,            4.0           0.8                      53680.00   \n",
       "0,2,4,              3.0           0.6                      17583.56   \n",
       "0,3,                2.0           0.4                          0.00   \n",
       "0,3,4               3.0           0.6                      42188.43   \n",
       "0,4,                2.0           0.4                      45914.67   \n",
       "\n",
       "                                                      amount_12_yr4  \\\n",
       "cohort_gift_pattern years_donated perc_years_donated                  \n",
       "0,1,                2.0           0.4                          0.00   \n",
       "0,1,2,              3.0           0.6                          0.00   \n",
       "0,1,2,3,            4.0           0.8                          0.00   \n",
       "0,1,2,3,4,          5.0           1.0                    1266884.78   \n",
       "0,1,2,4,            4.0           0.8                     109491.95   \n",
       "0,1,3,              3.0           0.6                          0.00   \n",
       "0,1,3,4,            4.0           0.8                     109900.38   \n",
       "0,1,4,              3.0           0.6                      44463.84   \n",
       "0,2,                2.0           0.4                          0.00   \n",
       "0,2,3,              3.0           0.6                          0.00   \n",
       "0,2,3,4,            4.0           0.8                      83008.40   \n",
       "0,2,4,              3.0           0.6                      27018.08   \n",
       "0,3,                2.0           0.4                          0.00   \n",
       "0,3,4               3.0           0.6                      61246.73   \n",
       "0,4,                2.0           0.4                      91385.09   \n",
       "\n",
       "                                                      gainloss_2014_amt  \\\n",
       "cohort_gift_pattern years_donated perc_years_donated                      \n",
       "0,1,                2.0           0.4                        -587824.15   \n",
       "0,1,2,              3.0           0.6                         112834.32   \n",
       "0,1,2,3,            4.0           0.8                         163961.95   \n",
       "0,1,2,3,4,          5.0           1.0                        2390607.00   \n",
       "0,1,2,4,            4.0           0.8                          58572.51   \n",
       "0,1,3,              3.0           0.6                          39810.58   \n",
       "0,1,3,4,            4.0           0.8                          35816.70   \n",
       "0,1,4,              3.0           0.6                          34744.33   \n",
       "0,2,                2.0           0.4                       -1631608.53   \n",
       "0,2,3,              3.0           0.6                        -246634.92   \n",
       "0,2,3,4,            4.0           0.8                        -273684.57   \n",
       "0,2,4,              3.0           0.6                        -146542.84   \n",
       "0,3,                2.0           0.4                        -538437.10   \n",
       "0,3,4               3.0           0.6                        -227617.39   \n",
       "0,4,                2.0           0.4                        -395075.69   \n",
       "\n",
       "                                                      gainloss_2015_amt  \\\n",
       "cohort_gift_pattern years_donated perc_years_donated                      \n",
       "0,1,                2.0           0.4                       -3068061.26   \n",
       "0,1,2,              3.0           0.6                        -410103.56   \n",
       "0,1,2,3,            4.0           0.8                        -167120.59   \n",
       "0,1,2,3,4,          5.0           1.0                         164099.63   \n",
       "0,1,2,4,            4.0           0.8                         -18196.60   \n",
       "0,1,3,              3.0           0.6                        -444217.50   \n",
       "0,1,3,4,            4.0           0.8                        -371148.57   \n",
       "0,1,4,              3.0           0.6                        -313141.03   \n",
       "0,2,                2.0           0.4                        1074627.91   \n",
       "0,2,3,              3.0           0.6                         315060.81   \n",
       "0,2,3,4,            4.0           0.8                         390220.25   \n",
       "0,2,4,              3.0           0.6                         167583.92   \n",
       "0,3,                2.0           0.4                              0.00   \n",
       "0,3,4               3.0           0.6                              0.00   \n",
       "0,4,                2.0           0.4                              0.00   \n",
       "\n",
       "                                                      gainloss_2016_amt  \\\n",
       "cohort_gift_pattern years_donated perc_years_donated                      \n",
       "0,1,                2.0           0.4                              0.00   \n",
       "0,1,2,              3.0           0.6                       -1231026.10   \n",
       "0,1,2,3,            4.0           0.8                        -249994.45   \n",
       "0,1,2,3,4,          5.0           1.0                         163158.28   \n",
       "0,1,2,4,            4.0           0.8                        -523237.00   \n",
       "0,1,3,              3.0           0.6                         370153.49   \n",
       "0,1,3,4,            4.0           0.8                         449079.65   \n",
       "0,1,4,              3.0           0.6                              0.00   \n",
       "0,2,                2.0           0.4                       -1074627.91   \n",
       "0,2,3,              3.0           0.6                         -22050.91   \n",
       "0,2,3,4,            4.0           0.8                          99264.16   \n",
       "0,2,4,              3.0           0.6                        -167583.92   \n",
       "0,3,                2.0           0.4                         611542.04   \n",
       "0,3,4               3.0           0.6                         386284.93   \n",
       "0,4,                2.0           0.4                              0.00   \n",
       "\n",
       "                                                      gainloss_2017_amt  \n",
       "cohort_gift_pattern years_donated perc_years_donated                     \n",
       "0,1,                2.0           0.4                              0.00  \n",
       "0,1,2,              3.0           0.6                              0.00  \n",
       "0,1,2,3,            4.0           0.8                        -871183.11  \n",
       "0,1,2,3,4,          5.0           1.0                         242453.43  \n",
       "0,1,2,4,            4.0           0.8                         511597.68  \n",
       "0,1,3,              3.0           0.6                        -370153.49  \n",
       "0,1,3,4,            4.0           0.8                          24726.49  \n",
       "0,1,4,              3.0           0.6                         285465.61  \n",
       "0,2,                2.0           0.4                              0.00  \n",
       "0,2,3,              3.0           0.6                        -293009.90  \n",
       "0,2,3,4,            4.0           0.8                          51307.53  \n",
       "0,2,4,              3.0           0.6                         184624.84  \n",
       "0,3,                2.0           0.4                        -611542.04  \n",
       "0,3,4               3.0           0.6                          71116.28  \n",
       "0,4,                2.0           0.4                         532082.25  \n",
       "\n",
       "[15 rows x 182 columns]"
      ]
     },
     "execution_count": 262,
     "metadata": {},
     "output_type": "execute_result"
    }
   ],
   "source": [
    "c13_repeat_yr"
   ]
  },
  {
   "cell_type": "code",
   "execution_count": 263,
   "metadata": {},
   "outputs": [],
   "source": [
    "# isolate yearly amounts donated\n",
    "c13__repeat_yr_amounts=c13_repeat_yr[['amount_yr0','amount_yr1','amount_yr2','amount_yr3','amount_yr4']]\n",
    "c14__repeat_yr_amounts=c14_repeat_yr[['amount_yr0','amount_yr1','amount_yr2','amount_yr3','amount_yr4']]\n",
    "c15__repeat_yr_amounts=c15_repeat_yr[['amount_yr0','amount_yr1','amount_yr2','amount_yr3','amount_yr4']]"
   ]
  },
  {
   "cell_type": "code",
   "execution_count": 264,
   "metadata": {},
   "outputs": [],
   "source": [
    "c13__repeat_yr_amounts.loc[:,'pct_of_amount_yr0']=c13__repeat_yr_amounts['amount_yr0']/c13__repeat_yr_amounts['amount_yr0'].sum()\n",
    "c14__repeat_yr_amounts.loc[:,'pct_of_amount_yr0']=c14__repeat_yr_amounts['amount_yr0']/c14__repeat_yr_amounts['amount_yr0'].sum()\n",
    "c15__repeat_yr_amounts.loc[:,'pct_of_amount_yr0']=c15__repeat_yr_amounts['amount_yr0']/c15__repeat_yr_amounts['amount_yr0'].sum()"
   ]
  },
  {
   "cell_type": "code",
   "execution_count": 265,
   "metadata": {},
   "outputs": [
    {
     "data": {
      "text/html": [
       "<div>\n",
       "<style scoped>\n",
       "    .dataframe tbody tr th:only-of-type {\n",
       "        vertical-align: middle;\n",
       "    }\n",
       "\n",
       "    .dataframe tbody tr th {\n",
       "        vertical-align: top;\n",
       "    }\n",
       "\n",
       "    .dataframe thead th {\n",
       "        text-align: right;\n",
       "    }\n",
       "</style>\n",
       "<table border=\"1\" class=\"dataframe\">\n",
       "  <thead>\n",
       "    <tr style=\"text-align: right;\">\n",
       "      <th></th>\n",
       "      <th></th>\n",
       "      <th></th>\n",
       "      <th>amount_yr0</th>\n",
       "      <th>amount_yr1</th>\n",
       "      <th>amount_yr2</th>\n",
       "      <th>amount_yr3</th>\n",
       "      <th>amount_yr4</th>\n",
       "      <th>pct_of_amount_yr0</th>\n",
       "    </tr>\n",
       "    <tr>\n",
       "      <th>cohort_gift_pattern</th>\n",
       "      <th>years_donated</th>\n",
       "      <th>perc_years_donated</th>\n",
       "      <th></th>\n",
       "      <th></th>\n",
       "      <th></th>\n",
       "      <th></th>\n",
       "      <th></th>\n",
       "      <th></th>\n",
       "    </tr>\n",
       "  </thead>\n",
       "  <tbody>\n",
       "    <tr>\n",
       "      <td>0,1,</td>\n",
       "      <td>2.0</td>\n",
       "      <td>0.4</td>\n",
       "      <td>3655885.41</td>\n",
       "      <td>3068061.26</td>\n",
       "      <td>0.00</td>\n",
       "      <td>0.00</td>\n",
       "      <td>0.00</td>\n",
       "      <td>0.221854</td>\n",
       "    </tr>\n",
       "    <tr>\n",
       "      <td>0,1,2,</td>\n",
       "      <td>3.0</td>\n",
       "      <td>0.6</td>\n",
       "      <td>1528295.34</td>\n",
       "      <td>1641129.66</td>\n",
       "      <td>1231026.10</td>\n",
       "      <td>0.00</td>\n",
       "      <td>0.00</td>\n",
       "      <td>0.092743</td>\n",
       "    </tr>\n",
       "    <tr>\n",
       "      <td>0,1,2,3,</td>\n",
       "      <td>4.0</td>\n",
       "      <td>0.8</td>\n",
       "      <td>1124336.20</td>\n",
       "      <td>1288298.15</td>\n",
       "      <td>1121177.56</td>\n",
       "      <td>871183.11</td>\n",
       "      <td>0.00</td>\n",
       "      <td>0.068229</td>\n",
       "    </tr>\n",
       "    <tr>\n",
       "      <td>0,1,2,3,4,</td>\n",
       "      <td>5.0</td>\n",
       "      <td>1.0</td>\n",
       "      <td>5209667.21</td>\n",
       "      <td>7600274.21</td>\n",
       "      <td>7764373.84</td>\n",
       "      <td>7927532.12</td>\n",
       "      <td>8169985.55</td>\n",
       "      <td>0.316144</td>\n",
       "    </tr>\n",
       "    <tr>\n",
       "      <td>0,1,2,4,</td>\n",
       "      <td>4.0</td>\n",
       "      <td>0.8</td>\n",
       "      <td>482861.09</td>\n",
       "      <td>541433.60</td>\n",
       "      <td>523237.00</td>\n",
       "      <td>0.00</td>\n",
       "      <td>511597.68</td>\n",
       "      <td>0.029302</td>\n",
       "    </tr>\n",
       "    <tr>\n",
       "      <td>0,1,3,</td>\n",
       "      <td>3.0</td>\n",
       "      <td>0.6</td>\n",
       "      <td>404406.92</td>\n",
       "      <td>444217.50</td>\n",
       "      <td>0.00</td>\n",
       "      <td>370153.49</td>\n",
       "      <td>0.00</td>\n",
       "      <td>0.024541</td>\n",
       "    </tr>\n",
       "    <tr>\n",
       "      <td>0,1,3,4,</td>\n",
       "      <td>4.0</td>\n",
       "      <td>0.8</td>\n",
       "      <td>335331.87</td>\n",
       "      <td>371148.57</td>\n",
       "      <td>0.00</td>\n",
       "      <td>449079.65</td>\n",
       "      <td>473806.14</td>\n",
       "      <td>0.020349</td>\n",
       "    </tr>\n",
       "    <tr>\n",
       "      <td>0,1,4,</td>\n",
       "      <td>3.0</td>\n",
       "      <td>0.6</td>\n",
       "      <td>278396.70</td>\n",
       "      <td>313141.03</td>\n",
       "      <td>0.00</td>\n",
       "      <td>0.00</td>\n",
       "      <td>285465.61</td>\n",
       "      <td>0.016894</td>\n",
       "    </tr>\n",
       "    <tr>\n",
       "      <td>0,2,</td>\n",
       "      <td>2.0</td>\n",
       "      <td>0.4</td>\n",
       "      <td>1631608.53</td>\n",
       "      <td>0.00</td>\n",
       "      <td>1074627.91</td>\n",
       "      <td>0.00</td>\n",
       "      <td>0.00</td>\n",
       "      <td>0.099013</td>\n",
       "    </tr>\n",
       "    <tr>\n",
       "      <td>0,2,3,</td>\n",
       "      <td>3.0</td>\n",
       "      <td>0.6</td>\n",
       "      <td>246634.92</td>\n",
       "      <td>0.00</td>\n",
       "      <td>315060.81</td>\n",
       "      <td>293009.90</td>\n",
       "      <td>0.00</td>\n",
       "      <td>0.014967</td>\n",
       "    </tr>\n",
       "    <tr>\n",
       "      <td>0,2,3,4,</td>\n",
       "      <td>4.0</td>\n",
       "      <td>0.8</td>\n",
       "      <td>273684.57</td>\n",
       "      <td>0.00</td>\n",
       "      <td>390220.25</td>\n",
       "      <td>489484.41</td>\n",
       "      <td>540791.94</td>\n",
       "      <td>0.016608</td>\n",
       "    </tr>\n",
       "    <tr>\n",
       "      <td>0,2,4,</td>\n",
       "      <td>3.0</td>\n",
       "      <td>0.6</td>\n",
       "      <td>146542.84</td>\n",
       "      <td>0.00</td>\n",
       "      <td>167583.92</td>\n",
       "      <td>0.00</td>\n",
       "      <td>184624.84</td>\n",
       "      <td>0.008893</td>\n",
       "    </tr>\n",
       "    <tr>\n",
       "      <td>0,3,</td>\n",
       "      <td>2.0</td>\n",
       "      <td>0.4</td>\n",
       "      <td>538437.10</td>\n",
       "      <td>0.00</td>\n",
       "      <td>0.00</td>\n",
       "      <td>611542.04</td>\n",
       "      <td>0.00</td>\n",
       "      <td>0.032675</td>\n",
       "    </tr>\n",
       "    <tr>\n",
       "      <td>0,3,4</td>\n",
       "      <td>3.0</td>\n",
       "      <td>0.6</td>\n",
       "      <td>227617.39</td>\n",
       "      <td>0.00</td>\n",
       "      <td>0.00</td>\n",
       "      <td>386284.93</td>\n",
       "      <td>457401.21</td>\n",
       "      <td>0.013813</td>\n",
       "    </tr>\n",
       "    <tr>\n",
       "      <td>0,4,</td>\n",
       "      <td>2.0</td>\n",
       "      <td>0.4</td>\n",
       "      <td>395075.69</td>\n",
       "      <td>0.00</td>\n",
       "      <td>0.00</td>\n",
       "      <td>0.00</td>\n",
       "      <td>532082.25</td>\n",
       "      <td>0.023975</td>\n",
       "    </tr>\n",
       "  </tbody>\n",
       "</table>\n",
       "</div>"
      ],
      "text/plain": [
       "                                                      amount_yr0  amount_yr1  \\\n",
       "cohort_gift_pattern years_donated perc_years_donated                           \n",
       "0,1,                2.0           0.4                 3655885.41  3068061.26   \n",
       "0,1,2,              3.0           0.6                 1528295.34  1641129.66   \n",
       "0,1,2,3,            4.0           0.8                 1124336.20  1288298.15   \n",
       "0,1,2,3,4,          5.0           1.0                 5209667.21  7600274.21   \n",
       "0,1,2,4,            4.0           0.8                  482861.09   541433.60   \n",
       "0,1,3,              3.0           0.6                  404406.92   444217.50   \n",
       "0,1,3,4,            4.0           0.8                  335331.87   371148.57   \n",
       "0,1,4,              3.0           0.6                  278396.70   313141.03   \n",
       "0,2,                2.0           0.4                 1631608.53        0.00   \n",
       "0,2,3,              3.0           0.6                  246634.92        0.00   \n",
       "0,2,3,4,            4.0           0.8                  273684.57        0.00   \n",
       "0,2,4,              3.0           0.6                  146542.84        0.00   \n",
       "0,3,                2.0           0.4                  538437.10        0.00   \n",
       "0,3,4               3.0           0.6                  227617.39        0.00   \n",
       "0,4,                2.0           0.4                  395075.69        0.00   \n",
       "\n",
       "                                                      amount_yr2  amount_yr3  \\\n",
       "cohort_gift_pattern years_donated perc_years_donated                           \n",
       "0,1,                2.0           0.4                       0.00        0.00   \n",
       "0,1,2,              3.0           0.6                 1231026.10        0.00   \n",
       "0,1,2,3,            4.0           0.8                 1121177.56   871183.11   \n",
       "0,1,2,3,4,          5.0           1.0                 7764373.84  7927532.12   \n",
       "0,1,2,4,            4.0           0.8                  523237.00        0.00   \n",
       "0,1,3,              3.0           0.6                       0.00   370153.49   \n",
       "0,1,3,4,            4.0           0.8                       0.00   449079.65   \n",
       "0,1,4,              3.0           0.6                       0.00        0.00   \n",
       "0,2,                2.0           0.4                 1074627.91        0.00   \n",
       "0,2,3,              3.0           0.6                  315060.81   293009.90   \n",
       "0,2,3,4,            4.0           0.8                  390220.25   489484.41   \n",
       "0,2,4,              3.0           0.6                  167583.92        0.00   \n",
       "0,3,                2.0           0.4                       0.00   611542.04   \n",
       "0,3,4               3.0           0.6                       0.00   386284.93   \n",
       "0,4,                2.0           0.4                       0.00        0.00   \n",
       "\n",
       "                                                      amount_yr4  \\\n",
       "cohort_gift_pattern years_donated perc_years_donated               \n",
       "0,1,                2.0           0.4                       0.00   \n",
       "0,1,2,              3.0           0.6                       0.00   \n",
       "0,1,2,3,            4.0           0.8                       0.00   \n",
       "0,1,2,3,4,          5.0           1.0                 8169985.55   \n",
       "0,1,2,4,            4.0           0.8                  511597.68   \n",
       "0,1,3,              3.0           0.6                       0.00   \n",
       "0,1,3,4,            4.0           0.8                  473806.14   \n",
       "0,1,4,              3.0           0.6                  285465.61   \n",
       "0,2,                2.0           0.4                       0.00   \n",
       "0,2,3,              3.0           0.6                       0.00   \n",
       "0,2,3,4,            4.0           0.8                  540791.94   \n",
       "0,2,4,              3.0           0.6                  184624.84   \n",
       "0,3,                2.0           0.4                       0.00   \n",
       "0,3,4               3.0           0.6                  457401.21   \n",
       "0,4,                2.0           0.4                  532082.25   \n",
       "\n",
       "                                                      pct_of_amount_yr0  \n",
       "cohort_gift_pattern years_donated perc_years_donated                     \n",
       "0,1,                2.0           0.4                          0.221854  \n",
       "0,1,2,              3.0           0.6                          0.092743  \n",
       "0,1,2,3,            4.0           0.8                          0.068229  \n",
       "0,1,2,3,4,          5.0           1.0                          0.316144  \n",
       "0,1,2,4,            4.0           0.8                          0.029302  \n",
       "0,1,3,              3.0           0.6                          0.024541  \n",
       "0,1,3,4,            4.0           0.8                          0.020349  \n",
       "0,1,4,              3.0           0.6                          0.016894  \n",
       "0,2,                2.0           0.4                          0.099013  \n",
       "0,2,3,              3.0           0.6                          0.014967  \n",
       "0,2,3,4,            4.0           0.8                          0.016608  \n",
       "0,2,4,              3.0           0.6                          0.008893  \n",
       "0,3,                2.0           0.4                          0.032675  \n",
       "0,3,4               3.0           0.6                          0.013813  \n",
       "0,4,                2.0           0.4                          0.023975  "
      ]
     },
     "execution_count": 265,
     "metadata": {},
     "output_type": "execute_result"
    }
   ],
   "source": [
    "c13__repeat_yr_amounts"
   ]
  },
  {
   "cell_type": "code",
   "execution_count": 266,
   "metadata": {},
   "outputs": [],
   "source": [
    "# sort by yr0 amount (descending)\n",
    "c13__repeat_yr_amounts_sorted=c13__repeat_yr_amounts.sort_values('amount_yr0', ascending = False).reset_index()\n",
    "c14__repeat_yr_amounts_sorted=c14__repeat_yr_amounts.sort_values('amount_yr0', ascending = False).reset_index()\n",
    "c15__repeat_yr_amounts_sorted=c15__repeat_yr_amounts.sort_values('amount_yr0', ascending = False).reset_index()"
   ]
  },
  {
   "cell_type": "code",
   "execution_count": 267,
   "metadata": {},
   "outputs": [
    {
     "data": {
      "text/plain": [
       "cohort_gift_pattern     object\n",
       "years_donated          float64\n",
       "perc_years_donated     float64\n",
       "amount_yr0             float64\n",
       "amount_yr1             float64\n",
       "amount_yr2             float64\n",
       "amount_yr3             float64\n",
       "amount_yr4             float64\n",
       "pct_of_amount_yr0      float64\n",
       "dtype: object"
      ]
     },
     "execution_count": 267,
     "metadata": {},
     "output_type": "execute_result"
    }
   ],
   "source": [
    "c13__repeat_yr_amounts_sorted.dtypes"
   ]
  },
  {
   "cell_type": "code",
   "execution_count": 268,
   "metadata": {},
   "outputs": [],
   "source": [
    "#convert years_donated to integer to remove decimal points\n",
    "c13__repeat_yr_amounts_sorted[\"years_donated\"] = c13__repeat_yr_amounts_sorted['years_donated'].astype(int)\n",
    "c14__repeat_yr_amounts_sorted[\"years_donated\"] = c14__repeat_yr_amounts_sorted['years_donated'].astype(int)\n",
    "c15__repeat_yr_amounts_sorted[\"years_donated\"] = c15__repeat_yr_amounts_sorted['years_donated'].astype(int)"
   ]
  },
  {
   "cell_type": "code",
   "execution_count": 269,
   "metadata": {},
   "outputs": [
    {
     "data": {
      "text/html": [
       "<div>\n",
       "<style scoped>\n",
       "    .dataframe tbody tr th:only-of-type {\n",
       "        vertical-align: middle;\n",
       "    }\n",
       "\n",
       "    .dataframe tbody tr th {\n",
       "        vertical-align: top;\n",
       "    }\n",
       "\n",
       "    .dataframe thead th {\n",
       "        text-align: right;\n",
       "    }\n",
       "</style>\n",
       "<table border=\"1\" class=\"dataframe\">\n",
       "  <thead>\n",
       "    <tr style=\"text-align: right;\">\n",
       "      <th></th>\n",
       "      <th>cohort_gift_pattern</th>\n",
       "      <th>years_donated</th>\n",
       "      <th>perc_years_donated</th>\n",
       "      <th>amount_yr0</th>\n",
       "      <th>amount_yr1</th>\n",
       "      <th>amount_yr2</th>\n",
       "      <th>amount_yr3</th>\n",
       "      <th>amount_yr4</th>\n",
       "      <th>pct_of_amount_yr0</th>\n",
       "    </tr>\n",
       "  </thead>\n",
       "  <tbody>\n",
       "    <tr>\n",
       "      <td>0</td>\n",
       "      <td>0,1,2,3,4,</td>\n",
       "      <td>5</td>\n",
       "      <td>1.0</td>\n",
       "      <td>5209667.21</td>\n",
       "      <td>7600274.21</td>\n",
       "      <td>7764373.84</td>\n",
       "      <td>7927532.12</td>\n",
       "      <td>8169985.55</td>\n",
       "      <td>0.316144</td>\n",
       "    </tr>\n",
       "    <tr>\n",
       "      <td>1</td>\n",
       "      <td>0,1,</td>\n",
       "      <td>2</td>\n",
       "      <td>0.4</td>\n",
       "      <td>3655885.41</td>\n",
       "      <td>3068061.26</td>\n",
       "      <td>0.00</td>\n",
       "      <td>0.00</td>\n",
       "      <td>0.00</td>\n",
       "      <td>0.221854</td>\n",
       "    </tr>\n",
       "    <tr>\n",
       "      <td>2</td>\n",
       "      <td>0,2,</td>\n",
       "      <td>2</td>\n",
       "      <td>0.4</td>\n",
       "      <td>1631608.53</td>\n",
       "      <td>0.00</td>\n",
       "      <td>1074627.91</td>\n",
       "      <td>0.00</td>\n",
       "      <td>0.00</td>\n",
       "      <td>0.099013</td>\n",
       "    </tr>\n",
       "    <tr>\n",
       "      <td>3</td>\n",
       "      <td>0,1,2,</td>\n",
       "      <td>3</td>\n",
       "      <td>0.6</td>\n",
       "      <td>1528295.34</td>\n",
       "      <td>1641129.66</td>\n",
       "      <td>1231026.10</td>\n",
       "      <td>0.00</td>\n",
       "      <td>0.00</td>\n",
       "      <td>0.092743</td>\n",
       "    </tr>\n",
       "    <tr>\n",
       "      <td>4</td>\n",
       "      <td>0,1,2,3,</td>\n",
       "      <td>4</td>\n",
       "      <td>0.8</td>\n",
       "      <td>1124336.20</td>\n",
       "      <td>1288298.15</td>\n",
       "      <td>1121177.56</td>\n",
       "      <td>871183.11</td>\n",
       "      <td>0.00</td>\n",
       "      <td>0.068229</td>\n",
       "    </tr>\n",
       "    <tr>\n",
       "      <td>5</td>\n",
       "      <td>0,3,</td>\n",
       "      <td>2</td>\n",
       "      <td>0.4</td>\n",
       "      <td>538437.10</td>\n",
       "      <td>0.00</td>\n",
       "      <td>0.00</td>\n",
       "      <td>611542.04</td>\n",
       "      <td>0.00</td>\n",
       "      <td>0.032675</td>\n",
       "    </tr>\n",
       "    <tr>\n",
       "      <td>6</td>\n",
       "      <td>0,1,2,4,</td>\n",
       "      <td>4</td>\n",
       "      <td>0.8</td>\n",
       "      <td>482861.09</td>\n",
       "      <td>541433.60</td>\n",
       "      <td>523237.00</td>\n",
       "      <td>0.00</td>\n",
       "      <td>511597.68</td>\n",
       "      <td>0.029302</td>\n",
       "    </tr>\n",
       "    <tr>\n",
       "      <td>7</td>\n",
       "      <td>0,1,3,</td>\n",
       "      <td>3</td>\n",
       "      <td>0.6</td>\n",
       "      <td>404406.92</td>\n",
       "      <td>444217.50</td>\n",
       "      <td>0.00</td>\n",
       "      <td>370153.49</td>\n",
       "      <td>0.00</td>\n",
       "      <td>0.024541</td>\n",
       "    </tr>\n",
       "    <tr>\n",
       "      <td>8</td>\n",
       "      <td>0,4,</td>\n",
       "      <td>2</td>\n",
       "      <td>0.4</td>\n",
       "      <td>395075.69</td>\n",
       "      <td>0.00</td>\n",
       "      <td>0.00</td>\n",
       "      <td>0.00</td>\n",
       "      <td>532082.25</td>\n",
       "      <td>0.023975</td>\n",
       "    </tr>\n",
       "    <tr>\n",
       "      <td>9</td>\n",
       "      <td>0,1,3,4,</td>\n",
       "      <td>4</td>\n",
       "      <td>0.8</td>\n",
       "      <td>335331.87</td>\n",
       "      <td>371148.57</td>\n",
       "      <td>0.00</td>\n",
       "      <td>449079.65</td>\n",
       "      <td>473806.14</td>\n",
       "      <td>0.020349</td>\n",
       "    </tr>\n",
       "    <tr>\n",
       "      <td>10</td>\n",
       "      <td>0,1,4,</td>\n",
       "      <td>3</td>\n",
       "      <td>0.6</td>\n",
       "      <td>278396.70</td>\n",
       "      <td>313141.03</td>\n",
       "      <td>0.00</td>\n",
       "      <td>0.00</td>\n",
       "      <td>285465.61</td>\n",
       "      <td>0.016894</td>\n",
       "    </tr>\n",
       "    <tr>\n",
       "      <td>11</td>\n",
       "      <td>0,2,3,4,</td>\n",
       "      <td>4</td>\n",
       "      <td>0.8</td>\n",
       "      <td>273684.57</td>\n",
       "      <td>0.00</td>\n",
       "      <td>390220.25</td>\n",
       "      <td>489484.41</td>\n",
       "      <td>540791.94</td>\n",
       "      <td>0.016608</td>\n",
       "    </tr>\n",
       "    <tr>\n",
       "      <td>12</td>\n",
       "      <td>0,2,3,</td>\n",
       "      <td>3</td>\n",
       "      <td>0.6</td>\n",
       "      <td>246634.92</td>\n",
       "      <td>0.00</td>\n",
       "      <td>315060.81</td>\n",
       "      <td>293009.90</td>\n",
       "      <td>0.00</td>\n",
       "      <td>0.014967</td>\n",
       "    </tr>\n",
       "    <tr>\n",
       "      <td>13</td>\n",
       "      <td>0,3,4</td>\n",
       "      <td>3</td>\n",
       "      <td>0.6</td>\n",
       "      <td>227617.39</td>\n",
       "      <td>0.00</td>\n",
       "      <td>0.00</td>\n",
       "      <td>386284.93</td>\n",
       "      <td>457401.21</td>\n",
       "      <td>0.013813</td>\n",
       "    </tr>\n",
       "    <tr>\n",
       "      <td>14</td>\n",
       "      <td>0,2,4,</td>\n",
       "      <td>3</td>\n",
       "      <td>0.6</td>\n",
       "      <td>146542.84</td>\n",
       "      <td>0.00</td>\n",
       "      <td>167583.92</td>\n",
       "      <td>0.00</td>\n",
       "      <td>184624.84</td>\n",
       "      <td>0.008893</td>\n",
       "    </tr>\n",
       "  </tbody>\n",
       "</table>\n",
       "</div>"
      ],
      "text/plain": [
       "   cohort_gift_pattern  years_donated  perc_years_donated  amount_yr0  \\\n",
       "0           0,1,2,3,4,              5                 1.0  5209667.21   \n",
       "1                 0,1,              2                 0.4  3655885.41   \n",
       "2                 0,2,              2                 0.4  1631608.53   \n",
       "3               0,1,2,              3                 0.6  1528295.34   \n",
       "4             0,1,2,3,              4                 0.8  1124336.20   \n",
       "5                 0,3,              2                 0.4   538437.10   \n",
       "6             0,1,2,4,              4                 0.8   482861.09   \n",
       "7               0,1,3,              3                 0.6   404406.92   \n",
       "8                 0,4,              2                 0.4   395075.69   \n",
       "9             0,1,3,4,              4                 0.8   335331.87   \n",
       "10              0,1,4,              3                 0.6   278396.70   \n",
       "11            0,2,3,4,              4                 0.8   273684.57   \n",
       "12              0,2,3,              3                 0.6   246634.92   \n",
       "13               0,3,4              3                 0.6   227617.39   \n",
       "14              0,2,4,              3                 0.6   146542.84   \n",
       "\n",
       "    amount_yr1  amount_yr2  amount_yr3  amount_yr4  pct_of_amount_yr0  \n",
       "0   7600274.21  7764373.84  7927532.12  8169985.55           0.316144  \n",
       "1   3068061.26        0.00        0.00        0.00           0.221854  \n",
       "2         0.00  1074627.91        0.00        0.00           0.099013  \n",
       "3   1641129.66  1231026.10        0.00        0.00           0.092743  \n",
       "4   1288298.15  1121177.56   871183.11        0.00           0.068229  \n",
       "5         0.00        0.00   611542.04        0.00           0.032675  \n",
       "6    541433.60   523237.00        0.00   511597.68           0.029302  \n",
       "7    444217.50        0.00   370153.49        0.00           0.024541  \n",
       "8         0.00        0.00        0.00   532082.25           0.023975  \n",
       "9    371148.57        0.00   449079.65   473806.14           0.020349  \n",
       "10   313141.03        0.00        0.00   285465.61           0.016894  \n",
       "11        0.00   390220.25   489484.41   540791.94           0.016608  \n",
       "12        0.00   315060.81   293009.90        0.00           0.014967  \n",
       "13        0.00        0.00   386284.93   457401.21           0.013813  \n",
       "14        0.00   167583.92        0.00   184624.84           0.008893  "
      ]
     },
     "execution_count": 269,
     "metadata": {},
     "output_type": "execute_result"
    }
   ],
   "source": [
    "c13__repeat_yr_amounts_sorted"
   ]
  },
  {
   "cell_type": "code",
   "execution_count": 256,
   "metadata": {},
   "outputs": [],
   "source": [
    "c13_yr0=c13__repeat_yr_amounts_sorted[['cohort_gift_pattern', 'years_donated', 'perc_years_donated', 'amount_yr0', 'pct_of_amount_yr0']]\n",
    "c14_yr0=c14__repeat_yr_amounts_sorted[['cohort_gift_pattern', 'years_donated', 'perc_years_donated', 'amount_yr0', 'pct_of_amount_yr0']]\n",
    "c15_yr0=c15__repeat_yr_amounts_sorted[['cohort_gift_pattern', 'years_donated', 'perc_years_donated', 'amount_yr0', 'pct_of_amount_yr0']]"
   ]
  },
  {
   "cell_type": "code",
   "execution_count": 270,
   "metadata": {},
   "outputs": [
    {
     "data": {
      "text/html": [
       "<div>\n",
       "<style scoped>\n",
       "    .dataframe tbody tr th:only-of-type {\n",
       "        vertical-align: middle;\n",
       "    }\n",
       "\n",
       "    .dataframe tbody tr th {\n",
       "        vertical-align: top;\n",
       "    }\n",
       "\n",
       "    .dataframe thead th {\n",
       "        text-align: right;\n",
       "    }\n",
       "</style>\n",
       "<table border=\"1\" class=\"dataframe\">\n",
       "  <thead>\n",
       "    <tr style=\"text-align: right;\">\n",
       "      <th></th>\n",
       "      <th>cohort_gift_pattern</th>\n",
       "      <th>years_donated</th>\n",
       "      <th>perc_years_donated</th>\n",
       "      <th>amount_yr0</th>\n",
       "      <th>amount_yr1</th>\n",
       "      <th>amount_yr2</th>\n",
       "      <th>amount_yr3</th>\n",
       "      <th>amount_yr4</th>\n",
       "      <th>pct_of_amount_yr0</th>\n",
       "    </tr>\n",
       "  </thead>\n",
       "  <tbody>\n",
       "    <tr>\n",
       "      <td>0</td>\n",
       "      <td>0,1,</td>\n",
       "      <td>2</td>\n",
       "      <td>0.4</td>\n",
       "      <td>3129086.44</td>\n",
       "      <td>3115220.54</td>\n",
       "      <td>0.00</td>\n",
       "      <td>0.00</td>\n",
       "      <td>0.0</td>\n",
       "      <td>0.367870</td>\n",
       "    </tr>\n",
       "    <tr>\n",
       "      <td>1</td>\n",
       "      <td>0,1,2,</td>\n",
       "      <td>3</td>\n",
       "      <td>0.6</td>\n",
       "      <td>1998490.47</td>\n",
       "      <td>2279331.53</td>\n",
       "      <td>1984104.35</td>\n",
       "      <td>0.00</td>\n",
       "      <td>0.0</td>\n",
       "      <td>0.234952</td>\n",
       "    </tr>\n",
       "    <tr>\n",
       "      <td>2</td>\n",
       "      <td>0,1,2,3,</td>\n",
       "      <td>3</td>\n",
       "      <td>0.6</td>\n",
       "      <td>1473566.41</td>\n",
       "      <td>2660040.45</td>\n",
       "      <td>3624425.04</td>\n",
       "      <td>1523244.49</td>\n",
       "      <td>0.0</td>\n",
       "      <td>0.173240</td>\n",
       "    </tr>\n",
       "    <tr>\n",
       "      <td>3</td>\n",
       "      <td>0,2,</td>\n",
       "      <td>2</td>\n",
       "      <td>0.4</td>\n",
       "      <td>1411805.23</td>\n",
       "      <td>0.00</td>\n",
       "      <td>1418115.02</td>\n",
       "      <td>0.00</td>\n",
       "      <td>0.0</td>\n",
       "      <td>0.165979</td>\n",
       "    </tr>\n",
       "    <tr>\n",
       "      <td>4</td>\n",
       "      <td>0,2,3,</td>\n",
       "      <td>2</td>\n",
       "      <td>0.4</td>\n",
       "      <td>263383.30</td>\n",
       "      <td>0.00</td>\n",
       "      <td>417501.22</td>\n",
       "      <td>289215.12</td>\n",
       "      <td>0.0</td>\n",
       "      <td>0.030965</td>\n",
       "    </tr>\n",
       "    <tr>\n",
       "      <td>5</td>\n",
       "      <td>0,1,3,</td>\n",
       "      <td>2</td>\n",
       "      <td>0.4</td>\n",
       "      <td>229616.69</td>\n",
       "      <td>225957.35</td>\n",
       "      <td>0.00</td>\n",
       "      <td>169344.46</td>\n",
       "      <td>0.0</td>\n",
       "      <td>0.026995</td>\n",
       "    </tr>\n",
       "  </tbody>\n",
       "</table>\n",
       "</div>"
      ],
      "text/plain": [
       "  cohort_gift_pattern  years_donated  perc_years_donated  amount_yr0  \\\n",
       "0                0,1,              2                 0.4  3129086.44   \n",
       "1              0,1,2,              3                 0.6  1998490.47   \n",
       "2            0,1,2,3,              3                 0.6  1473566.41   \n",
       "3                0,2,              2                 0.4  1411805.23   \n",
       "4              0,2,3,              2                 0.4   263383.30   \n",
       "5              0,1,3,              2                 0.4   229616.69   \n",
       "\n",
       "   amount_yr1  amount_yr2  amount_yr3  amount_yr4  pct_of_amount_yr0  \n",
       "0  3115220.54        0.00        0.00         0.0           0.367870  \n",
       "1  2279331.53  1984104.35        0.00         0.0           0.234952  \n",
       "2  2660040.45  3624425.04  1523244.49         0.0           0.173240  \n",
       "3        0.00  1418115.02        0.00         0.0           0.165979  \n",
       "4        0.00   417501.22   289215.12         0.0           0.030965  \n",
       "5   225957.35        0.00   169344.46         0.0           0.026995  "
      ]
     },
     "execution_count": 270,
     "metadata": {},
     "output_type": "execute_result"
    }
   ],
   "source": [
    "c15__repeat_yr_amounts_sorted"
   ]
  },
  {
   "cell_type": "code",
   "execution_count": 273,
   "metadata": {},
   "outputs": [],
   "source": [
    "c13__repeat_yr_amounts_sorted_1=c13__repeat_yr_amounts_sorted[['cohort_gift_pattern','amount_yr0', 'amount_yr1', 'amount_yr2', 'amount_yr3', 'amount_yr4']]\n",
    "c14__repeat_yr_amounts_sorted_1=c14__repeat_yr_amounts_sorted[['cohort_gift_pattern','amount_yr0', 'amount_yr1', 'amount_yr2', 'amount_yr3', 'amount_yr4']]\n",
    "c15__repeat_yr_amounts_sorted_1=c15__repeat_yr_amounts_sorted[['cohort_gift_pattern','amount_yr0', 'amount_yr1', 'amount_yr2', 'amount_yr3', 'amount_yr4']]"
   ]
  },
  {
   "cell_type": "code",
   "execution_count": 274,
   "metadata": {},
   "outputs": [
    {
     "data": {
      "text/html": [
       "<div>\n",
       "<style scoped>\n",
       "    .dataframe tbody tr th:only-of-type {\n",
       "        vertical-align: middle;\n",
       "    }\n",
       "\n",
       "    .dataframe tbody tr th {\n",
       "        vertical-align: top;\n",
       "    }\n",
       "\n",
       "    .dataframe thead th {\n",
       "        text-align: right;\n",
       "    }\n",
       "</style>\n",
       "<table border=\"1\" class=\"dataframe\">\n",
       "  <thead>\n",
       "    <tr style=\"text-align: right;\">\n",
       "      <th></th>\n",
       "      <th>cohort_gift_pattern</th>\n",
       "      <th>amount_yr0</th>\n",
       "      <th>amount_yr1</th>\n",
       "      <th>amount_yr2</th>\n",
       "      <th>amount_yr3</th>\n",
       "      <th>amount_yr4</th>\n",
       "    </tr>\n",
       "  </thead>\n",
       "  <tbody>\n",
       "    <tr>\n",
       "      <td>0</td>\n",
       "      <td>0,1,2,3,4,</td>\n",
       "      <td>5209667.21</td>\n",
       "      <td>7600274.21</td>\n",
       "      <td>7764373.84</td>\n",
       "      <td>7927532.12</td>\n",
       "      <td>8169985.55</td>\n",
       "    </tr>\n",
       "    <tr>\n",
       "      <td>1</td>\n",
       "      <td>0,1,</td>\n",
       "      <td>3655885.41</td>\n",
       "      <td>3068061.26</td>\n",
       "      <td>0.00</td>\n",
       "      <td>0.00</td>\n",
       "      <td>0.00</td>\n",
       "    </tr>\n",
       "    <tr>\n",
       "      <td>2</td>\n",
       "      <td>0,2,</td>\n",
       "      <td>1631608.53</td>\n",
       "      <td>0.00</td>\n",
       "      <td>1074627.91</td>\n",
       "      <td>0.00</td>\n",
       "      <td>0.00</td>\n",
       "    </tr>\n",
       "    <tr>\n",
       "      <td>3</td>\n",
       "      <td>0,1,2,</td>\n",
       "      <td>1528295.34</td>\n",
       "      <td>1641129.66</td>\n",
       "      <td>1231026.10</td>\n",
       "      <td>0.00</td>\n",
       "      <td>0.00</td>\n",
       "    </tr>\n",
       "    <tr>\n",
       "      <td>4</td>\n",
       "      <td>0,1,2,3,</td>\n",
       "      <td>1124336.20</td>\n",
       "      <td>1288298.15</td>\n",
       "      <td>1121177.56</td>\n",
       "      <td>871183.11</td>\n",
       "      <td>0.00</td>\n",
       "    </tr>\n",
       "    <tr>\n",
       "      <td>5</td>\n",
       "      <td>0,3,</td>\n",
       "      <td>538437.10</td>\n",
       "      <td>0.00</td>\n",
       "      <td>0.00</td>\n",
       "      <td>611542.04</td>\n",
       "      <td>0.00</td>\n",
       "    </tr>\n",
       "    <tr>\n",
       "      <td>6</td>\n",
       "      <td>0,1,2,4,</td>\n",
       "      <td>482861.09</td>\n",
       "      <td>541433.60</td>\n",
       "      <td>523237.00</td>\n",
       "      <td>0.00</td>\n",
       "      <td>511597.68</td>\n",
       "    </tr>\n",
       "    <tr>\n",
       "      <td>7</td>\n",
       "      <td>0,1,3,</td>\n",
       "      <td>404406.92</td>\n",
       "      <td>444217.50</td>\n",
       "      <td>0.00</td>\n",
       "      <td>370153.49</td>\n",
       "      <td>0.00</td>\n",
       "    </tr>\n",
       "    <tr>\n",
       "      <td>8</td>\n",
       "      <td>0,4,</td>\n",
       "      <td>395075.69</td>\n",
       "      <td>0.00</td>\n",
       "      <td>0.00</td>\n",
       "      <td>0.00</td>\n",
       "      <td>532082.25</td>\n",
       "    </tr>\n",
       "    <tr>\n",
       "      <td>9</td>\n",
       "      <td>0,1,3,4,</td>\n",
       "      <td>335331.87</td>\n",
       "      <td>371148.57</td>\n",
       "      <td>0.00</td>\n",
       "      <td>449079.65</td>\n",
       "      <td>473806.14</td>\n",
       "    </tr>\n",
       "    <tr>\n",
       "      <td>10</td>\n",
       "      <td>0,1,4,</td>\n",
       "      <td>278396.70</td>\n",
       "      <td>313141.03</td>\n",
       "      <td>0.00</td>\n",
       "      <td>0.00</td>\n",
       "      <td>285465.61</td>\n",
       "    </tr>\n",
       "    <tr>\n",
       "      <td>11</td>\n",
       "      <td>0,2,3,4,</td>\n",
       "      <td>273684.57</td>\n",
       "      <td>0.00</td>\n",
       "      <td>390220.25</td>\n",
       "      <td>489484.41</td>\n",
       "      <td>540791.94</td>\n",
       "    </tr>\n",
       "    <tr>\n",
       "      <td>12</td>\n",
       "      <td>0,2,3,</td>\n",
       "      <td>246634.92</td>\n",
       "      <td>0.00</td>\n",
       "      <td>315060.81</td>\n",
       "      <td>293009.90</td>\n",
       "      <td>0.00</td>\n",
       "    </tr>\n",
       "    <tr>\n",
       "      <td>13</td>\n",
       "      <td>0,3,4</td>\n",
       "      <td>227617.39</td>\n",
       "      <td>0.00</td>\n",
       "      <td>0.00</td>\n",
       "      <td>386284.93</td>\n",
       "      <td>457401.21</td>\n",
       "    </tr>\n",
       "    <tr>\n",
       "      <td>14</td>\n",
       "      <td>0,2,4,</td>\n",
       "      <td>146542.84</td>\n",
       "      <td>0.00</td>\n",
       "      <td>167583.92</td>\n",
       "      <td>0.00</td>\n",
       "      <td>184624.84</td>\n",
       "    </tr>\n",
       "  </tbody>\n",
       "</table>\n",
       "</div>"
      ],
      "text/plain": [
       "   cohort_gift_pattern  amount_yr0  amount_yr1  amount_yr2  amount_yr3  \\\n",
       "0           0,1,2,3,4,  5209667.21  7600274.21  7764373.84  7927532.12   \n",
       "1                 0,1,  3655885.41  3068061.26        0.00        0.00   \n",
       "2                 0,2,  1631608.53        0.00  1074627.91        0.00   \n",
       "3               0,1,2,  1528295.34  1641129.66  1231026.10        0.00   \n",
       "4             0,1,2,3,  1124336.20  1288298.15  1121177.56   871183.11   \n",
       "5                 0,3,   538437.10        0.00        0.00   611542.04   \n",
       "6             0,1,2,4,   482861.09   541433.60   523237.00        0.00   \n",
       "7               0,1,3,   404406.92   444217.50        0.00   370153.49   \n",
       "8                 0,4,   395075.69        0.00        0.00        0.00   \n",
       "9             0,1,3,4,   335331.87   371148.57        0.00   449079.65   \n",
       "10              0,1,4,   278396.70   313141.03        0.00        0.00   \n",
       "11            0,2,3,4,   273684.57        0.00   390220.25   489484.41   \n",
       "12              0,2,3,   246634.92        0.00   315060.81   293009.90   \n",
       "13               0,3,4   227617.39        0.00        0.00   386284.93   \n",
       "14              0,2,4,   146542.84        0.00   167583.92        0.00   \n",
       "\n",
       "    amount_yr4  \n",
       "0   8169985.55  \n",
       "1         0.00  \n",
       "2         0.00  \n",
       "3         0.00  \n",
       "4         0.00  \n",
       "5         0.00  \n",
       "6    511597.68  \n",
       "7         0.00  \n",
       "8    532082.25  \n",
       "9    473806.14  \n",
       "10   285465.61  \n",
       "11   540791.94  \n",
       "12        0.00  \n",
       "13   457401.21  \n",
       "14   184624.84  "
      ]
     },
     "execution_count": 274,
     "metadata": {},
     "output_type": "execute_result"
    }
   ],
   "source": [
    "c13__repeat_yr_amounts_sorted_1"
   ]
  },
  {
   "cell_type": "code",
   "execution_count": 277,
   "metadata": {},
   "outputs": [],
   "source": [
    "c13_t=c13__repeat_yr_amounts_sorted_1.T\n",
    "c14_t=c14__repeat_yr_amounts_sorted_1.T\n",
    "c15_t=c15__repeat_yr_amounts_sorted_1.T"
   ]
  },
  {
   "cell_type": "code",
   "execution_count": 278,
   "metadata": {},
   "outputs": [],
   "source": [
    "c13_t1=c13_t.rename(columns=c13_t.iloc[0]).drop(c13_t.index[0])\n",
    "c14_t1=c14_t.rename(columns=c14_t.iloc[0]).drop(c14_t.index[0])\n",
    "c15_t1=c15_t.rename(columns=c15_t.iloc[0]).drop(c15_t.index[0])"
   ]
  },
  {
   "cell_type": "code",
   "execution_count": 289,
   "metadata": {},
   "outputs": [],
   "source": [
    "c15_t2=c15_t1.reset_index()"
   ]
  },
  {
   "cell_type": "code",
   "execution_count": 290,
   "metadata": {},
   "outputs": [
    {
     "data": {
      "application/vnd.plotly.v1+json": {
       "config": {
        "plotlyServerURL": "https://plot.ly"
       },
       "data": [
        {
         "alignmentgroup": "True",
         "hovertemplate": "variable=0,1,<br>value=%{x}<br>count=%{y}<extra></extra>",
         "legendgroup": "0,1,",
         "marker": {
          "color": "#636efa"
         },
         "name": "0,1,",
         "offsetgroup": "0,1,",
         "orientation": "v",
         "showlegend": true,
         "textposition": "auto",
         "type": "bar",
         "x": [
          3129086.439999999,
          3115220.539999993,
          0,
          0,
          0
         ],
         "xaxis": "x",
         "y": [
          1,
          1,
          1,
          1,
          1
         ],
         "yaxis": "y"
        },
        {
         "alignmentgroup": "True",
         "hovertemplate": "variable=0,1,2,<br>value=%{x}<br>count=%{y}<extra></extra>",
         "legendgroup": "0,1,2,",
         "marker": {
          "color": "#EF553B"
         },
         "name": "0,1,2,",
         "offsetgroup": "0,1,2,",
         "orientation": "v",
         "showlegend": true,
         "textposition": "auto",
         "type": "bar",
         "x": [
          1998490.4700000011,
          2279331.5299999975,
          1984104.3499999978,
          0,
          0
         ],
         "xaxis": "x",
         "y": [
          1,
          1,
          1,
          1,
          1
         ],
         "yaxis": "y"
        },
        {
         "alignmentgroup": "True",
         "hovertemplate": "variable=0,1,2,3,<br>value=%{x}<br>count=%{y}<extra></extra>",
         "legendgroup": "0,1,2,3,",
         "marker": {
          "color": "#00cc96"
         },
         "name": "0,1,2,3,",
         "offsetgroup": "0,1,2,3,",
         "orientation": "v",
         "showlegend": true,
         "textposition": "auto",
         "type": "bar",
         "x": [
          1473566.4099999974,
          2660040.450000004,
          3624425.039999999,
          1523244.4900000028,
          0
         ],
         "xaxis": "x",
         "y": [
          1,
          1,
          1,
          1,
          1
         ],
         "yaxis": "y"
        },
        {
         "alignmentgroup": "True",
         "hovertemplate": "variable=0,2,<br>value=%{x}<br>count=%{y}<extra></extra>",
         "legendgroup": "0,2,",
         "marker": {
          "color": "#ab63fa"
         },
         "name": "0,2,",
         "offsetgroup": "0,2,",
         "orientation": "v",
         "showlegend": true,
         "textposition": "auto",
         "type": "bar",
         "x": [
          1411805.2299999965,
          0,
          1418115.0200000019,
          0,
          0
         ],
         "xaxis": "x",
         "y": [
          1,
          1,
          1,
          1,
          1
         ],
         "yaxis": "y"
        },
        {
         "alignmentgroup": "True",
         "hovertemplate": "variable=0,2,3,<br>value=%{x}<br>count=%{y}<extra></extra>",
         "legendgroup": "0,2,3,",
         "marker": {
          "color": "#FFA15A"
         },
         "name": "0,2,3,",
         "offsetgroup": "0,2,3,",
         "orientation": "v",
         "showlegend": true,
         "textposition": "auto",
         "type": "bar",
         "x": [
          263383.3,
          0,
          417501.22,
          289215.1200000002,
          0
         ],
         "xaxis": "x",
         "y": [
          1,
          1,
          1,
          1,
          1
         ],
         "yaxis": "y"
        },
        {
         "alignmentgroup": "True",
         "hovertemplate": "variable=0,1,3,<br>value=%{x}<br>count=%{y}<extra></extra>",
         "legendgroup": "0,1,3,",
         "marker": {
          "color": "#19d3f3"
         },
         "name": "0,1,3,",
         "offsetgroup": "0,1,3,",
         "orientation": "v",
         "showlegend": true,
         "textposition": "auto",
         "type": "bar",
         "x": [
          229616.68999999986,
          225957.35000000015,
          0,
          169344.46,
          0
         ],
         "xaxis": "x",
         "y": [
          1,
          1,
          1,
          1,
          1
         ],
         "yaxis": "y"
        }
       ],
       "layout": {
        "barmode": "relative",
        "legend": {
         "title": {
          "text": "variable"
         },
         "tracegroupgap": 0
        },
        "template": {
         "data": {
          "bar": [
           {
            "error_x": {
             "color": "#2a3f5f"
            },
            "error_y": {
             "color": "#2a3f5f"
            },
            "marker": {
             "line": {
              "color": "#E5ECF6",
              "width": 0.5
             }
            },
            "type": "bar"
           }
          ],
          "barpolar": [
           {
            "marker": {
             "line": {
              "color": "#E5ECF6",
              "width": 0.5
             }
            },
            "type": "barpolar"
           }
          ],
          "carpet": [
           {
            "aaxis": {
             "endlinecolor": "#2a3f5f",
             "gridcolor": "white",
             "linecolor": "white",
             "minorgridcolor": "white",
             "startlinecolor": "#2a3f5f"
            },
            "baxis": {
             "endlinecolor": "#2a3f5f",
             "gridcolor": "white",
             "linecolor": "white",
             "minorgridcolor": "white",
             "startlinecolor": "#2a3f5f"
            },
            "type": "carpet"
           }
          ],
          "choropleth": [
           {
            "colorbar": {
             "outlinewidth": 0,
             "ticks": ""
            },
            "type": "choropleth"
           }
          ],
          "contour": [
           {
            "colorbar": {
             "outlinewidth": 0,
             "ticks": ""
            },
            "colorscale": [
             [
              0,
              "#0d0887"
             ],
             [
              0.1111111111111111,
              "#46039f"
             ],
             [
              0.2222222222222222,
              "#7201a8"
             ],
             [
              0.3333333333333333,
              "#9c179e"
             ],
             [
              0.4444444444444444,
              "#bd3786"
             ],
             [
              0.5555555555555556,
              "#d8576b"
             ],
             [
              0.6666666666666666,
              "#ed7953"
             ],
             [
              0.7777777777777778,
              "#fb9f3a"
             ],
             [
              0.8888888888888888,
              "#fdca26"
             ],
             [
              1,
              "#f0f921"
             ]
            ],
            "type": "contour"
           }
          ],
          "contourcarpet": [
           {
            "colorbar": {
             "outlinewidth": 0,
             "ticks": ""
            },
            "type": "contourcarpet"
           }
          ],
          "heatmap": [
           {
            "colorbar": {
             "outlinewidth": 0,
             "ticks": ""
            },
            "colorscale": [
             [
              0,
              "#0d0887"
             ],
             [
              0.1111111111111111,
              "#46039f"
             ],
             [
              0.2222222222222222,
              "#7201a8"
             ],
             [
              0.3333333333333333,
              "#9c179e"
             ],
             [
              0.4444444444444444,
              "#bd3786"
             ],
             [
              0.5555555555555556,
              "#d8576b"
             ],
             [
              0.6666666666666666,
              "#ed7953"
             ],
             [
              0.7777777777777778,
              "#fb9f3a"
             ],
             [
              0.8888888888888888,
              "#fdca26"
             ],
             [
              1,
              "#f0f921"
             ]
            ],
            "type": "heatmap"
           }
          ],
          "heatmapgl": [
           {
            "colorbar": {
             "outlinewidth": 0,
             "ticks": ""
            },
            "colorscale": [
             [
              0,
              "#0d0887"
             ],
             [
              0.1111111111111111,
              "#46039f"
             ],
             [
              0.2222222222222222,
              "#7201a8"
             ],
             [
              0.3333333333333333,
              "#9c179e"
             ],
             [
              0.4444444444444444,
              "#bd3786"
             ],
             [
              0.5555555555555556,
              "#d8576b"
             ],
             [
              0.6666666666666666,
              "#ed7953"
             ],
             [
              0.7777777777777778,
              "#fb9f3a"
             ],
             [
              0.8888888888888888,
              "#fdca26"
             ],
             [
              1,
              "#f0f921"
             ]
            ],
            "type": "heatmapgl"
           }
          ],
          "histogram": [
           {
            "marker": {
             "colorbar": {
              "outlinewidth": 0,
              "ticks": ""
             }
            },
            "type": "histogram"
           }
          ],
          "histogram2d": [
           {
            "colorbar": {
             "outlinewidth": 0,
             "ticks": ""
            },
            "colorscale": [
             [
              0,
              "#0d0887"
             ],
             [
              0.1111111111111111,
              "#46039f"
             ],
             [
              0.2222222222222222,
              "#7201a8"
             ],
             [
              0.3333333333333333,
              "#9c179e"
             ],
             [
              0.4444444444444444,
              "#bd3786"
             ],
             [
              0.5555555555555556,
              "#d8576b"
             ],
             [
              0.6666666666666666,
              "#ed7953"
             ],
             [
              0.7777777777777778,
              "#fb9f3a"
             ],
             [
              0.8888888888888888,
              "#fdca26"
             ],
             [
              1,
              "#f0f921"
             ]
            ],
            "type": "histogram2d"
           }
          ],
          "histogram2dcontour": [
           {
            "colorbar": {
             "outlinewidth": 0,
             "ticks": ""
            },
            "colorscale": [
             [
              0,
              "#0d0887"
             ],
             [
              0.1111111111111111,
              "#46039f"
             ],
             [
              0.2222222222222222,
              "#7201a8"
             ],
             [
              0.3333333333333333,
              "#9c179e"
             ],
             [
              0.4444444444444444,
              "#bd3786"
             ],
             [
              0.5555555555555556,
              "#d8576b"
             ],
             [
              0.6666666666666666,
              "#ed7953"
             ],
             [
              0.7777777777777778,
              "#fb9f3a"
             ],
             [
              0.8888888888888888,
              "#fdca26"
             ],
             [
              1,
              "#f0f921"
             ]
            ],
            "type": "histogram2dcontour"
           }
          ],
          "mesh3d": [
           {
            "colorbar": {
             "outlinewidth": 0,
             "ticks": ""
            },
            "type": "mesh3d"
           }
          ],
          "parcoords": [
           {
            "line": {
             "colorbar": {
              "outlinewidth": 0,
              "ticks": ""
             }
            },
            "type": "parcoords"
           }
          ],
          "pie": [
           {
            "automargin": true,
            "type": "pie"
           }
          ],
          "scatter": [
           {
            "marker": {
             "colorbar": {
              "outlinewidth": 0,
              "ticks": ""
             }
            },
            "type": "scatter"
           }
          ],
          "scatter3d": [
           {
            "line": {
             "colorbar": {
              "outlinewidth": 0,
              "ticks": ""
             }
            },
            "marker": {
             "colorbar": {
              "outlinewidth": 0,
              "ticks": ""
             }
            },
            "type": "scatter3d"
           }
          ],
          "scattercarpet": [
           {
            "marker": {
             "colorbar": {
              "outlinewidth": 0,
              "ticks": ""
             }
            },
            "type": "scattercarpet"
           }
          ],
          "scattergeo": [
           {
            "marker": {
             "colorbar": {
              "outlinewidth": 0,
              "ticks": ""
             }
            },
            "type": "scattergeo"
           }
          ],
          "scattergl": [
           {
            "marker": {
             "colorbar": {
              "outlinewidth": 0,
              "ticks": ""
             }
            },
            "type": "scattergl"
           }
          ],
          "scattermapbox": [
           {
            "marker": {
             "colorbar": {
              "outlinewidth": 0,
              "ticks": ""
             }
            },
            "type": "scattermapbox"
           }
          ],
          "scatterpolar": [
           {
            "marker": {
             "colorbar": {
              "outlinewidth": 0,
              "ticks": ""
             }
            },
            "type": "scatterpolar"
           }
          ],
          "scatterpolargl": [
           {
            "marker": {
             "colorbar": {
              "outlinewidth": 0,
              "ticks": ""
             }
            },
            "type": "scatterpolargl"
           }
          ],
          "scatterternary": [
           {
            "marker": {
             "colorbar": {
              "outlinewidth": 0,
              "ticks": ""
             }
            },
            "type": "scatterternary"
           }
          ],
          "surface": [
           {
            "colorbar": {
             "outlinewidth": 0,
             "ticks": ""
            },
            "colorscale": [
             [
              0,
              "#0d0887"
             ],
             [
              0.1111111111111111,
              "#46039f"
             ],
             [
              0.2222222222222222,
              "#7201a8"
             ],
             [
              0.3333333333333333,
              "#9c179e"
             ],
             [
              0.4444444444444444,
              "#bd3786"
             ],
             [
              0.5555555555555556,
              "#d8576b"
             ],
             [
              0.6666666666666666,
              "#ed7953"
             ],
             [
              0.7777777777777778,
              "#fb9f3a"
             ],
             [
              0.8888888888888888,
              "#fdca26"
             ],
             [
              1,
              "#f0f921"
             ]
            ],
            "type": "surface"
           }
          ],
          "table": [
           {
            "cells": {
             "fill": {
              "color": "#EBF0F8"
             },
             "line": {
              "color": "white"
             }
            },
            "header": {
             "fill": {
              "color": "#C8D4E3"
             },
             "line": {
              "color": "white"
             }
            },
            "type": "table"
           }
          ]
         },
         "layout": {
          "annotationdefaults": {
           "arrowcolor": "#2a3f5f",
           "arrowhead": 0,
           "arrowwidth": 1
          },
          "coloraxis": {
           "colorbar": {
            "outlinewidth": 0,
            "ticks": ""
           }
          },
          "colorscale": {
           "diverging": [
            [
             0,
             "#8e0152"
            ],
            [
             0.1,
             "#c51b7d"
            ],
            [
             0.2,
             "#de77ae"
            ],
            [
             0.3,
             "#f1b6da"
            ],
            [
             0.4,
             "#fde0ef"
            ],
            [
             0.5,
             "#f7f7f7"
            ],
            [
             0.6,
             "#e6f5d0"
            ],
            [
             0.7,
             "#b8e186"
            ],
            [
             0.8,
             "#7fbc41"
            ],
            [
             0.9,
             "#4d9221"
            ],
            [
             1,
             "#276419"
            ]
           ],
           "sequential": [
            [
             0,
             "#0d0887"
            ],
            [
             0.1111111111111111,
             "#46039f"
            ],
            [
             0.2222222222222222,
             "#7201a8"
            ],
            [
             0.3333333333333333,
             "#9c179e"
            ],
            [
             0.4444444444444444,
             "#bd3786"
            ],
            [
             0.5555555555555556,
             "#d8576b"
            ],
            [
             0.6666666666666666,
             "#ed7953"
            ],
            [
             0.7777777777777778,
             "#fb9f3a"
            ],
            [
             0.8888888888888888,
             "#fdca26"
            ],
            [
             1,
             "#f0f921"
            ]
           ],
           "sequentialminus": [
            [
             0,
             "#0d0887"
            ],
            [
             0.1111111111111111,
             "#46039f"
            ],
            [
             0.2222222222222222,
             "#7201a8"
            ],
            [
             0.3333333333333333,
             "#9c179e"
            ],
            [
             0.4444444444444444,
             "#bd3786"
            ],
            [
             0.5555555555555556,
             "#d8576b"
            ],
            [
             0.6666666666666666,
             "#ed7953"
            ],
            [
             0.7777777777777778,
             "#fb9f3a"
            ],
            [
             0.8888888888888888,
             "#fdca26"
            ],
            [
             1,
             "#f0f921"
            ]
           ]
          },
          "colorway": [
           "#636efa",
           "#EF553B",
           "#00cc96",
           "#ab63fa",
           "#FFA15A",
           "#19d3f3",
           "#FF6692",
           "#B6E880",
           "#FF97FF",
           "#FECB52"
          ],
          "font": {
           "color": "#2a3f5f"
          },
          "geo": {
           "bgcolor": "white",
           "lakecolor": "white",
           "landcolor": "#E5ECF6",
           "showlakes": true,
           "showland": true,
           "subunitcolor": "white"
          },
          "hoverlabel": {
           "align": "left"
          },
          "hovermode": "closest",
          "mapbox": {
           "style": "light"
          },
          "paper_bgcolor": "white",
          "plot_bgcolor": "#E5ECF6",
          "polar": {
           "angularaxis": {
            "gridcolor": "white",
            "linecolor": "white",
            "ticks": ""
           },
           "bgcolor": "#E5ECF6",
           "radialaxis": {
            "gridcolor": "white",
            "linecolor": "white",
            "ticks": ""
           }
          },
          "scene": {
           "xaxis": {
            "backgroundcolor": "#E5ECF6",
            "gridcolor": "white",
            "gridwidth": 2,
            "linecolor": "white",
            "showbackground": true,
            "ticks": "",
            "zerolinecolor": "white"
           },
           "yaxis": {
            "backgroundcolor": "#E5ECF6",
            "gridcolor": "white",
            "gridwidth": 2,
            "linecolor": "white",
            "showbackground": true,
            "ticks": "",
            "zerolinecolor": "white"
           },
           "zaxis": {
            "backgroundcolor": "#E5ECF6",
            "gridcolor": "white",
            "gridwidth": 2,
            "linecolor": "white",
            "showbackground": true,
            "ticks": "",
            "zerolinecolor": "white"
           }
          },
          "shapedefaults": {
           "line": {
            "color": "#2a3f5f"
           }
          },
          "ternary": {
           "aaxis": {
            "gridcolor": "white",
            "linecolor": "white",
            "ticks": ""
           },
           "baxis": {
            "gridcolor": "white",
            "linecolor": "white",
            "ticks": ""
           },
           "bgcolor": "#E5ECF6",
           "caxis": {
            "gridcolor": "white",
            "linecolor": "white",
            "ticks": ""
           }
          },
          "title": {
           "x": 0.05
          },
          "xaxis": {
           "automargin": true,
           "gridcolor": "white",
           "linecolor": "white",
           "ticks": "",
           "title": {
            "standoff": 15
           },
           "zerolinecolor": "white",
           "zerolinewidth": 2
          },
          "yaxis": {
           "automargin": true,
           "gridcolor": "white",
           "linecolor": "white",
           "ticks": "",
           "title": {
            "standoff": 15
           },
           "zerolinecolor": "white",
           "zerolinewidth": 2
          }
         }
        },
        "title": {
         "text": "Donations ($) by Repeat Donors (Cohort 2013)"
        },
        "xaxis": {
         "anchor": "y",
         "domain": [
          0,
          1
         ],
         "title": {
          "text": "value"
         },
         "type": "category"
        },
        "yaxis": {
         "anchor": "x",
         "domain": [
          0,
          1
         ],
         "title": {
          "text": "count"
         }
        }
       }
      },
      "text/html": [
       "<div>\n",
       "        \n",
       "        \n",
       "            <div id=\"99e9447f-7b37-4544-bea3-ea0910b46eb8\" class=\"plotly-graph-div\" style=\"height:525px; width:100%;\"></div>\n",
       "            <script type=\"text/javascript\">\n",
       "                require([\"plotly\"], function(Plotly) {\n",
       "                    window.PLOTLYENV=window.PLOTLYENV || {};\n",
       "                    \n",
       "                if (document.getElementById(\"99e9447f-7b37-4544-bea3-ea0910b46eb8\")) {\n",
       "                    Plotly.newPlot(\n",
       "                        '99e9447f-7b37-4544-bea3-ea0910b46eb8',\n",
       "                        [{\"alignmentgroup\": \"True\", \"hovertemplate\": \"variable=0,1,<br>value=%{x}<br>count=%{y}<extra></extra>\", \"legendgroup\": \"0,1,\", \"marker\": {\"color\": \"#636efa\"}, \"name\": \"0,1,\", \"offsetgroup\": \"0,1,\", \"orientation\": \"v\", \"showlegend\": true, \"textposition\": \"auto\", \"type\": \"bar\", \"x\": [3129086.439999999, 3115220.539999993, 0.0, 0.0, 0.0], \"xaxis\": \"x\", \"y\": [1, 1, 1, 1, 1], \"yaxis\": \"y\"}, {\"alignmentgroup\": \"True\", \"hovertemplate\": \"variable=0,1,2,<br>value=%{x}<br>count=%{y}<extra></extra>\", \"legendgroup\": \"0,1,2,\", \"marker\": {\"color\": \"#EF553B\"}, \"name\": \"0,1,2,\", \"offsetgroup\": \"0,1,2,\", \"orientation\": \"v\", \"showlegend\": true, \"textposition\": \"auto\", \"type\": \"bar\", \"x\": [1998490.4700000011, 2279331.5299999975, 1984104.3499999978, 0.0, 0.0], \"xaxis\": \"x\", \"y\": [1, 1, 1, 1, 1], \"yaxis\": \"y\"}, {\"alignmentgroup\": \"True\", \"hovertemplate\": \"variable=0,1,2,3,<br>value=%{x}<br>count=%{y}<extra></extra>\", \"legendgroup\": \"0,1,2,3,\", \"marker\": {\"color\": \"#00cc96\"}, \"name\": \"0,1,2,3,\", \"offsetgroup\": \"0,1,2,3,\", \"orientation\": \"v\", \"showlegend\": true, \"textposition\": \"auto\", \"type\": \"bar\", \"x\": [1473566.4099999974, 2660040.450000004, 3624425.039999999, 1523244.4900000028, 0.0], \"xaxis\": \"x\", \"y\": [1, 1, 1, 1, 1], \"yaxis\": \"y\"}, {\"alignmentgroup\": \"True\", \"hovertemplate\": \"variable=0,2,<br>value=%{x}<br>count=%{y}<extra></extra>\", \"legendgroup\": \"0,2,\", \"marker\": {\"color\": \"#ab63fa\"}, \"name\": \"0,2,\", \"offsetgroup\": \"0,2,\", \"orientation\": \"v\", \"showlegend\": true, \"textposition\": \"auto\", \"type\": \"bar\", \"x\": [1411805.2299999965, 0.0, 1418115.0200000019, 0.0, 0.0], \"xaxis\": \"x\", \"y\": [1, 1, 1, 1, 1], \"yaxis\": \"y\"}, {\"alignmentgroup\": \"True\", \"hovertemplate\": \"variable=0,2,3,<br>value=%{x}<br>count=%{y}<extra></extra>\", \"legendgroup\": \"0,2,3,\", \"marker\": {\"color\": \"#FFA15A\"}, \"name\": \"0,2,3,\", \"offsetgroup\": \"0,2,3,\", \"orientation\": \"v\", \"showlegend\": true, \"textposition\": \"auto\", \"type\": \"bar\", \"x\": [263383.3, 0.0, 417501.22, 289215.1200000002, 0.0], \"xaxis\": \"x\", \"y\": [1, 1, 1, 1, 1], \"yaxis\": \"y\"}, {\"alignmentgroup\": \"True\", \"hovertemplate\": \"variable=0,1,3,<br>value=%{x}<br>count=%{y}<extra></extra>\", \"legendgroup\": \"0,1,3,\", \"marker\": {\"color\": \"#19d3f3\"}, \"name\": \"0,1,3,\", \"offsetgroup\": \"0,1,3,\", \"orientation\": \"v\", \"showlegend\": true, \"textposition\": \"auto\", \"type\": \"bar\", \"x\": [229616.68999999986, 225957.35000000015, 0.0, 169344.46, 0.0], \"xaxis\": \"x\", \"y\": [1, 1, 1, 1, 1], \"yaxis\": \"y\"}],\n",
       "                        {\"barmode\": \"relative\", \"legend\": {\"title\": {\"text\": \"variable\"}, \"tracegroupgap\": 0}, \"template\": {\"data\": {\"bar\": [{\"error_x\": {\"color\": \"#2a3f5f\"}, \"error_y\": {\"color\": \"#2a3f5f\"}, \"marker\": {\"line\": {\"color\": \"#E5ECF6\", \"width\": 0.5}}, \"type\": \"bar\"}], \"barpolar\": [{\"marker\": {\"line\": {\"color\": \"#E5ECF6\", \"width\": 0.5}}, \"type\": \"barpolar\"}], \"carpet\": [{\"aaxis\": {\"endlinecolor\": \"#2a3f5f\", \"gridcolor\": \"white\", \"linecolor\": \"white\", \"minorgridcolor\": \"white\", \"startlinecolor\": \"#2a3f5f\"}, \"baxis\": {\"endlinecolor\": \"#2a3f5f\", \"gridcolor\": \"white\", \"linecolor\": \"white\", \"minorgridcolor\": \"white\", \"startlinecolor\": \"#2a3f5f\"}, \"type\": \"carpet\"}], \"choropleth\": [{\"colorbar\": {\"outlinewidth\": 0, \"ticks\": \"\"}, \"type\": \"choropleth\"}], \"contour\": [{\"colorbar\": {\"outlinewidth\": 0, \"ticks\": \"\"}, \"colorscale\": [[0.0, \"#0d0887\"], [0.1111111111111111, \"#46039f\"], [0.2222222222222222, \"#7201a8\"], [0.3333333333333333, \"#9c179e\"], [0.4444444444444444, \"#bd3786\"], [0.5555555555555556, \"#d8576b\"], [0.6666666666666666, \"#ed7953\"], [0.7777777777777778, \"#fb9f3a\"], [0.8888888888888888, \"#fdca26\"], [1.0, \"#f0f921\"]], \"type\": \"contour\"}], \"contourcarpet\": [{\"colorbar\": {\"outlinewidth\": 0, \"ticks\": \"\"}, \"type\": \"contourcarpet\"}], \"heatmap\": [{\"colorbar\": {\"outlinewidth\": 0, \"ticks\": \"\"}, \"colorscale\": [[0.0, \"#0d0887\"], [0.1111111111111111, \"#46039f\"], [0.2222222222222222, \"#7201a8\"], [0.3333333333333333, \"#9c179e\"], [0.4444444444444444, \"#bd3786\"], [0.5555555555555556, \"#d8576b\"], [0.6666666666666666, \"#ed7953\"], [0.7777777777777778, \"#fb9f3a\"], [0.8888888888888888, \"#fdca26\"], [1.0, \"#f0f921\"]], \"type\": \"heatmap\"}], \"heatmapgl\": [{\"colorbar\": {\"outlinewidth\": 0, \"ticks\": \"\"}, \"colorscale\": [[0.0, \"#0d0887\"], [0.1111111111111111, \"#46039f\"], [0.2222222222222222, \"#7201a8\"], [0.3333333333333333, \"#9c179e\"], [0.4444444444444444, \"#bd3786\"], [0.5555555555555556, \"#d8576b\"], [0.6666666666666666, \"#ed7953\"], [0.7777777777777778, \"#fb9f3a\"], [0.8888888888888888, \"#fdca26\"], [1.0, \"#f0f921\"]], \"type\": \"heatmapgl\"}], \"histogram\": [{\"marker\": {\"colorbar\": {\"outlinewidth\": 0, \"ticks\": \"\"}}, \"type\": \"histogram\"}], \"histogram2d\": [{\"colorbar\": {\"outlinewidth\": 0, \"ticks\": \"\"}, \"colorscale\": [[0.0, \"#0d0887\"], [0.1111111111111111, \"#46039f\"], [0.2222222222222222, \"#7201a8\"], [0.3333333333333333, \"#9c179e\"], [0.4444444444444444, \"#bd3786\"], [0.5555555555555556, \"#d8576b\"], [0.6666666666666666, \"#ed7953\"], [0.7777777777777778, \"#fb9f3a\"], [0.8888888888888888, \"#fdca26\"], [1.0, \"#f0f921\"]], \"type\": \"histogram2d\"}], \"histogram2dcontour\": [{\"colorbar\": {\"outlinewidth\": 0, \"ticks\": \"\"}, \"colorscale\": [[0.0, \"#0d0887\"], [0.1111111111111111, \"#46039f\"], [0.2222222222222222, \"#7201a8\"], [0.3333333333333333, \"#9c179e\"], [0.4444444444444444, \"#bd3786\"], [0.5555555555555556, \"#d8576b\"], [0.6666666666666666, \"#ed7953\"], [0.7777777777777778, \"#fb9f3a\"], [0.8888888888888888, \"#fdca26\"], [1.0, \"#f0f921\"]], \"type\": \"histogram2dcontour\"}], \"mesh3d\": [{\"colorbar\": {\"outlinewidth\": 0, \"ticks\": \"\"}, \"type\": \"mesh3d\"}], \"parcoords\": [{\"line\": {\"colorbar\": {\"outlinewidth\": 0, \"ticks\": \"\"}}, \"type\": \"parcoords\"}], \"pie\": [{\"automargin\": true, \"type\": \"pie\"}], \"scatter\": [{\"marker\": {\"colorbar\": {\"outlinewidth\": 0, \"ticks\": \"\"}}, \"type\": \"scatter\"}], \"scatter3d\": [{\"line\": {\"colorbar\": {\"outlinewidth\": 0, \"ticks\": \"\"}}, \"marker\": {\"colorbar\": {\"outlinewidth\": 0, \"ticks\": \"\"}}, \"type\": \"scatter3d\"}], \"scattercarpet\": [{\"marker\": {\"colorbar\": {\"outlinewidth\": 0, \"ticks\": \"\"}}, \"type\": \"scattercarpet\"}], \"scattergeo\": [{\"marker\": {\"colorbar\": {\"outlinewidth\": 0, \"ticks\": \"\"}}, \"type\": \"scattergeo\"}], \"scattergl\": [{\"marker\": {\"colorbar\": {\"outlinewidth\": 0, \"ticks\": \"\"}}, \"type\": \"scattergl\"}], \"scattermapbox\": [{\"marker\": {\"colorbar\": {\"outlinewidth\": 0, \"ticks\": \"\"}}, \"type\": \"scattermapbox\"}], \"scatterpolar\": [{\"marker\": {\"colorbar\": {\"outlinewidth\": 0, \"ticks\": \"\"}}, \"type\": \"scatterpolar\"}], \"scatterpolargl\": [{\"marker\": {\"colorbar\": {\"outlinewidth\": 0, \"ticks\": \"\"}}, \"type\": \"scatterpolargl\"}], \"scatterternary\": [{\"marker\": {\"colorbar\": {\"outlinewidth\": 0, \"ticks\": \"\"}}, \"type\": \"scatterternary\"}], \"surface\": [{\"colorbar\": {\"outlinewidth\": 0, \"ticks\": \"\"}, \"colorscale\": [[0.0, \"#0d0887\"], [0.1111111111111111, \"#46039f\"], [0.2222222222222222, \"#7201a8\"], [0.3333333333333333, \"#9c179e\"], [0.4444444444444444, \"#bd3786\"], [0.5555555555555556, \"#d8576b\"], [0.6666666666666666, \"#ed7953\"], [0.7777777777777778, \"#fb9f3a\"], [0.8888888888888888, \"#fdca26\"], [1.0, \"#f0f921\"]], \"type\": \"surface\"}], \"table\": [{\"cells\": {\"fill\": {\"color\": \"#EBF0F8\"}, \"line\": {\"color\": \"white\"}}, \"header\": {\"fill\": {\"color\": \"#C8D4E3\"}, \"line\": {\"color\": \"white\"}}, \"type\": \"table\"}]}, \"layout\": {\"annotationdefaults\": {\"arrowcolor\": \"#2a3f5f\", \"arrowhead\": 0, \"arrowwidth\": 1}, \"coloraxis\": {\"colorbar\": {\"outlinewidth\": 0, \"ticks\": \"\"}}, \"colorscale\": {\"diverging\": [[0, \"#8e0152\"], [0.1, \"#c51b7d\"], [0.2, \"#de77ae\"], [0.3, \"#f1b6da\"], [0.4, \"#fde0ef\"], [0.5, \"#f7f7f7\"], [0.6, \"#e6f5d0\"], [0.7, \"#b8e186\"], [0.8, \"#7fbc41\"], [0.9, \"#4d9221\"], [1, \"#276419\"]], \"sequential\": [[0.0, \"#0d0887\"], [0.1111111111111111, \"#46039f\"], [0.2222222222222222, \"#7201a8\"], [0.3333333333333333, \"#9c179e\"], [0.4444444444444444, \"#bd3786\"], [0.5555555555555556, \"#d8576b\"], [0.6666666666666666, \"#ed7953\"], [0.7777777777777778, \"#fb9f3a\"], [0.8888888888888888, \"#fdca26\"], [1.0, \"#f0f921\"]], \"sequentialminus\": [[0.0, \"#0d0887\"], [0.1111111111111111, \"#46039f\"], [0.2222222222222222, \"#7201a8\"], [0.3333333333333333, \"#9c179e\"], [0.4444444444444444, \"#bd3786\"], [0.5555555555555556, \"#d8576b\"], [0.6666666666666666, \"#ed7953\"], [0.7777777777777778, \"#fb9f3a\"], [0.8888888888888888, \"#fdca26\"], [1.0, \"#f0f921\"]]}, \"colorway\": [\"#636efa\", \"#EF553B\", \"#00cc96\", \"#ab63fa\", \"#FFA15A\", \"#19d3f3\", \"#FF6692\", \"#B6E880\", \"#FF97FF\", \"#FECB52\"], \"font\": {\"color\": \"#2a3f5f\"}, \"geo\": {\"bgcolor\": \"white\", \"lakecolor\": \"white\", \"landcolor\": \"#E5ECF6\", \"showlakes\": true, \"showland\": true, \"subunitcolor\": \"white\"}, \"hoverlabel\": {\"align\": \"left\"}, \"hovermode\": \"closest\", \"mapbox\": {\"style\": \"light\"}, \"paper_bgcolor\": \"white\", \"plot_bgcolor\": \"#E5ECF6\", \"polar\": {\"angularaxis\": {\"gridcolor\": \"white\", \"linecolor\": \"white\", \"ticks\": \"\"}, \"bgcolor\": \"#E5ECF6\", \"radialaxis\": {\"gridcolor\": \"white\", \"linecolor\": \"white\", \"ticks\": \"\"}}, \"scene\": {\"xaxis\": {\"backgroundcolor\": \"#E5ECF6\", \"gridcolor\": \"white\", \"gridwidth\": 2, \"linecolor\": \"white\", \"showbackground\": true, \"ticks\": \"\", \"zerolinecolor\": \"white\"}, \"yaxis\": {\"backgroundcolor\": \"#E5ECF6\", \"gridcolor\": \"white\", \"gridwidth\": 2, \"linecolor\": \"white\", \"showbackground\": true, \"ticks\": \"\", \"zerolinecolor\": \"white\"}, \"zaxis\": {\"backgroundcolor\": \"#E5ECF6\", \"gridcolor\": \"white\", \"gridwidth\": 2, \"linecolor\": \"white\", \"showbackground\": true, \"ticks\": \"\", \"zerolinecolor\": \"white\"}}, \"shapedefaults\": {\"line\": {\"color\": \"#2a3f5f\"}}, \"ternary\": {\"aaxis\": {\"gridcolor\": \"white\", \"linecolor\": \"white\", \"ticks\": \"\"}, \"baxis\": {\"gridcolor\": \"white\", \"linecolor\": \"white\", \"ticks\": \"\"}, \"bgcolor\": \"#E5ECF6\", \"caxis\": {\"gridcolor\": \"white\", \"linecolor\": \"white\", \"ticks\": \"\"}}, \"title\": {\"x\": 0.05}, \"xaxis\": {\"automargin\": true, \"gridcolor\": \"white\", \"linecolor\": \"white\", \"ticks\": \"\", \"title\": {\"standoff\": 15}, \"zerolinecolor\": \"white\", \"zerolinewidth\": 2}, \"yaxis\": {\"automargin\": true, \"gridcolor\": \"white\", \"linecolor\": \"white\", \"ticks\": \"\", \"title\": {\"standoff\": 15}, \"zerolinecolor\": \"white\", \"zerolinewidth\": 2}}}, \"title\": {\"text\": \"Donations ($) by Repeat Donors (Cohort 2013)\"}, \"xaxis\": {\"anchor\": \"y\", \"domain\": [0.0, 1.0], \"title\": {\"text\": \"value\"}, \"type\": \"category\"}, \"yaxis\": {\"anchor\": \"x\", \"domain\": [0.0, 1.0], \"title\": {\"text\": \"count\"}}},\n",
       "                        {\"responsive\": true}\n",
       "                    ).then(function(){\n",
       "                            \n",
       "var gd = document.getElementById('99e9447f-7b37-4544-bea3-ea0910b46eb8');\n",
       "var x = new MutationObserver(function (mutations, observer) {{\n",
       "        var display = window.getComputedStyle(gd).display;\n",
       "        if (!display || display === 'none') {{\n",
       "            console.log([gd, 'removed!']);\n",
       "            Plotly.purge(gd);\n",
       "            observer.disconnect();\n",
       "        }}\n",
       "}});\n",
       "\n",
       "// Listen for the removal of the full notebook cells\n",
       "var notebookContainer = gd.closest('#notebook-container');\n",
       "if (notebookContainer) {{\n",
       "    x.observe(notebookContainer, {childList: true});\n",
       "}}\n",
       "\n",
       "// Listen for the clearing of the current output cell\n",
       "var outputEl = gd.closest('.output');\n",
       "if (outputEl) {{\n",
       "    x.observe(outputEl, {childList: true});\n",
       "}}\n",
       "\n",
       "                        })\n",
       "                };\n",
       "                });\n",
       "            </script>\n",
       "        </div>"
      ]
     },
     "metadata": {},
     "output_type": "display_data"
    }
   ],
   "source": [
    "fig = px.bar(c15_t2, x=\"index\", y=['0,1,', '0,1,2,', '0,1,2,3,', '0,2,', '0,2,3,', '0,1,3,'],\n",
    "            title=\"Donations ($) by Repeat Donors (Cohort 2013)\")\n",
    " #barmode='group', labels={'index':'year', 'y':'amount ($)'}, \n",
    "fig.update_xaxes(type='category')\n",
    "fig.show()"
   ]
  },
  {
   "cell_type": "markdown",
   "metadata": {},
   "source": [
    "### Cohort 13: Amounts donated in first year (year 0) grouped by gift patterns"
   ]
  },
  {
   "cell_type": "code",
   "execution_count": 212,
   "metadata": {},
   "outputs": [
    {
     "data": {
      "text/html": [
       "<style  type=\"text/css\" >\n",
       "</style><table id=\"T_c3e1e16e_e240_11ea_a7bc_84fdd1c92a5b\" ><thead>    <tr>        <th class=\"col_heading level0 col0\" >cohort_gift_pattern</th>        <th class=\"col_heading level0 col1\" >years_donated</th>        <th class=\"col_heading level0 col2\" >perc_years_donated</th>        <th class=\"col_heading level0 col3\" >amount_yr0</th>        <th class=\"col_heading level0 col4\" >pct_of_amount_yr0</th>    </tr></thead><tbody>\n",
       "                <tr>\n",
       "                                <td id=\"T_c3e1e16e_e240_11ea_a7bc_84fdd1c92a5brow0_col0\" class=\"data row0 col0\" >0,1,2,3,4,</td>\n",
       "                        <td id=\"T_c3e1e16e_e240_11ea_a7bc_84fdd1c92a5brow0_col1\" class=\"data row0 col1\" >5</td>\n",
       "                        <td id=\"T_c3e1e16e_e240_11ea_a7bc_84fdd1c92a5brow0_col2\" class=\"data row0 col2\" >100%</td>\n",
       "                        <td id=\"T_c3e1e16e_e240_11ea_a7bc_84fdd1c92a5brow0_col3\" class=\"data row0 col3\" >$5,209,667</td>\n",
       "                        <td id=\"T_c3e1e16e_e240_11ea_a7bc_84fdd1c92a5brow0_col4\" class=\"data row0 col4\" >31.61%</td>\n",
       "            </tr>\n",
       "            <tr>\n",
       "                                <td id=\"T_c3e1e16e_e240_11ea_a7bc_84fdd1c92a5brow1_col0\" class=\"data row1 col0\" >0,1,</td>\n",
       "                        <td id=\"T_c3e1e16e_e240_11ea_a7bc_84fdd1c92a5brow1_col1\" class=\"data row1 col1\" >2</td>\n",
       "                        <td id=\"T_c3e1e16e_e240_11ea_a7bc_84fdd1c92a5brow1_col2\" class=\"data row1 col2\" >40%</td>\n",
       "                        <td id=\"T_c3e1e16e_e240_11ea_a7bc_84fdd1c92a5brow1_col3\" class=\"data row1 col3\" >$3,655,885</td>\n",
       "                        <td id=\"T_c3e1e16e_e240_11ea_a7bc_84fdd1c92a5brow1_col4\" class=\"data row1 col4\" >22.19%</td>\n",
       "            </tr>\n",
       "            <tr>\n",
       "                                <td id=\"T_c3e1e16e_e240_11ea_a7bc_84fdd1c92a5brow2_col0\" class=\"data row2 col0\" >0,2,</td>\n",
       "                        <td id=\"T_c3e1e16e_e240_11ea_a7bc_84fdd1c92a5brow2_col1\" class=\"data row2 col1\" >2</td>\n",
       "                        <td id=\"T_c3e1e16e_e240_11ea_a7bc_84fdd1c92a5brow2_col2\" class=\"data row2 col2\" >40%</td>\n",
       "                        <td id=\"T_c3e1e16e_e240_11ea_a7bc_84fdd1c92a5brow2_col3\" class=\"data row2 col3\" >$1,631,609</td>\n",
       "                        <td id=\"T_c3e1e16e_e240_11ea_a7bc_84fdd1c92a5brow2_col4\" class=\"data row2 col4\" >9.90%</td>\n",
       "            </tr>\n",
       "            <tr>\n",
       "                                <td id=\"T_c3e1e16e_e240_11ea_a7bc_84fdd1c92a5brow3_col0\" class=\"data row3 col0\" >0,1,2,</td>\n",
       "                        <td id=\"T_c3e1e16e_e240_11ea_a7bc_84fdd1c92a5brow3_col1\" class=\"data row3 col1\" >3</td>\n",
       "                        <td id=\"T_c3e1e16e_e240_11ea_a7bc_84fdd1c92a5brow3_col2\" class=\"data row3 col2\" >60%</td>\n",
       "                        <td id=\"T_c3e1e16e_e240_11ea_a7bc_84fdd1c92a5brow3_col3\" class=\"data row3 col3\" >$1,528,295</td>\n",
       "                        <td id=\"T_c3e1e16e_e240_11ea_a7bc_84fdd1c92a5brow3_col4\" class=\"data row3 col4\" >9.27%</td>\n",
       "            </tr>\n",
       "            <tr>\n",
       "                                <td id=\"T_c3e1e16e_e240_11ea_a7bc_84fdd1c92a5brow4_col0\" class=\"data row4 col0\" >0,1,2,3,</td>\n",
       "                        <td id=\"T_c3e1e16e_e240_11ea_a7bc_84fdd1c92a5brow4_col1\" class=\"data row4 col1\" >4</td>\n",
       "                        <td id=\"T_c3e1e16e_e240_11ea_a7bc_84fdd1c92a5brow4_col2\" class=\"data row4 col2\" >80%</td>\n",
       "                        <td id=\"T_c3e1e16e_e240_11ea_a7bc_84fdd1c92a5brow4_col3\" class=\"data row4 col3\" >$1,124,336</td>\n",
       "                        <td id=\"T_c3e1e16e_e240_11ea_a7bc_84fdd1c92a5brow4_col4\" class=\"data row4 col4\" >6.82%</td>\n",
       "            </tr>\n",
       "            <tr>\n",
       "                                <td id=\"T_c3e1e16e_e240_11ea_a7bc_84fdd1c92a5brow5_col0\" class=\"data row5 col0\" >0,3,</td>\n",
       "                        <td id=\"T_c3e1e16e_e240_11ea_a7bc_84fdd1c92a5brow5_col1\" class=\"data row5 col1\" >2</td>\n",
       "                        <td id=\"T_c3e1e16e_e240_11ea_a7bc_84fdd1c92a5brow5_col2\" class=\"data row5 col2\" >40%</td>\n",
       "                        <td id=\"T_c3e1e16e_e240_11ea_a7bc_84fdd1c92a5brow5_col3\" class=\"data row5 col3\" >$538,437</td>\n",
       "                        <td id=\"T_c3e1e16e_e240_11ea_a7bc_84fdd1c92a5brow5_col4\" class=\"data row5 col4\" >3.27%</td>\n",
       "            </tr>\n",
       "            <tr>\n",
       "                                <td id=\"T_c3e1e16e_e240_11ea_a7bc_84fdd1c92a5brow6_col0\" class=\"data row6 col0\" >0,1,2,4,</td>\n",
       "                        <td id=\"T_c3e1e16e_e240_11ea_a7bc_84fdd1c92a5brow6_col1\" class=\"data row6 col1\" >4</td>\n",
       "                        <td id=\"T_c3e1e16e_e240_11ea_a7bc_84fdd1c92a5brow6_col2\" class=\"data row6 col2\" >80%</td>\n",
       "                        <td id=\"T_c3e1e16e_e240_11ea_a7bc_84fdd1c92a5brow6_col3\" class=\"data row6 col3\" >$482,861</td>\n",
       "                        <td id=\"T_c3e1e16e_e240_11ea_a7bc_84fdd1c92a5brow6_col4\" class=\"data row6 col4\" >2.93%</td>\n",
       "            </tr>\n",
       "            <tr>\n",
       "                                <td id=\"T_c3e1e16e_e240_11ea_a7bc_84fdd1c92a5brow7_col0\" class=\"data row7 col0\" >0,1,3,</td>\n",
       "                        <td id=\"T_c3e1e16e_e240_11ea_a7bc_84fdd1c92a5brow7_col1\" class=\"data row7 col1\" >3</td>\n",
       "                        <td id=\"T_c3e1e16e_e240_11ea_a7bc_84fdd1c92a5brow7_col2\" class=\"data row7 col2\" >60%</td>\n",
       "                        <td id=\"T_c3e1e16e_e240_11ea_a7bc_84fdd1c92a5brow7_col3\" class=\"data row7 col3\" >$404,407</td>\n",
       "                        <td id=\"T_c3e1e16e_e240_11ea_a7bc_84fdd1c92a5brow7_col4\" class=\"data row7 col4\" >2.45%</td>\n",
       "            </tr>\n",
       "            <tr>\n",
       "                                <td id=\"T_c3e1e16e_e240_11ea_a7bc_84fdd1c92a5brow8_col0\" class=\"data row8 col0\" >0,4,</td>\n",
       "                        <td id=\"T_c3e1e16e_e240_11ea_a7bc_84fdd1c92a5brow8_col1\" class=\"data row8 col1\" >2</td>\n",
       "                        <td id=\"T_c3e1e16e_e240_11ea_a7bc_84fdd1c92a5brow8_col2\" class=\"data row8 col2\" >40%</td>\n",
       "                        <td id=\"T_c3e1e16e_e240_11ea_a7bc_84fdd1c92a5brow8_col3\" class=\"data row8 col3\" >$395,076</td>\n",
       "                        <td id=\"T_c3e1e16e_e240_11ea_a7bc_84fdd1c92a5brow8_col4\" class=\"data row8 col4\" >2.40%</td>\n",
       "            </tr>\n",
       "            <tr>\n",
       "                                <td id=\"T_c3e1e16e_e240_11ea_a7bc_84fdd1c92a5brow9_col0\" class=\"data row9 col0\" >0,1,3,4,</td>\n",
       "                        <td id=\"T_c3e1e16e_e240_11ea_a7bc_84fdd1c92a5brow9_col1\" class=\"data row9 col1\" >4</td>\n",
       "                        <td id=\"T_c3e1e16e_e240_11ea_a7bc_84fdd1c92a5brow9_col2\" class=\"data row9 col2\" >80%</td>\n",
       "                        <td id=\"T_c3e1e16e_e240_11ea_a7bc_84fdd1c92a5brow9_col3\" class=\"data row9 col3\" >$335,332</td>\n",
       "                        <td id=\"T_c3e1e16e_e240_11ea_a7bc_84fdd1c92a5brow9_col4\" class=\"data row9 col4\" >2.03%</td>\n",
       "            </tr>\n",
       "            <tr>\n",
       "                                <td id=\"T_c3e1e16e_e240_11ea_a7bc_84fdd1c92a5brow10_col0\" class=\"data row10 col0\" >0,1,4,</td>\n",
       "                        <td id=\"T_c3e1e16e_e240_11ea_a7bc_84fdd1c92a5brow10_col1\" class=\"data row10 col1\" >3</td>\n",
       "                        <td id=\"T_c3e1e16e_e240_11ea_a7bc_84fdd1c92a5brow10_col2\" class=\"data row10 col2\" >60%</td>\n",
       "                        <td id=\"T_c3e1e16e_e240_11ea_a7bc_84fdd1c92a5brow10_col3\" class=\"data row10 col3\" >$278,397</td>\n",
       "                        <td id=\"T_c3e1e16e_e240_11ea_a7bc_84fdd1c92a5brow10_col4\" class=\"data row10 col4\" >1.69%</td>\n",
       "            </tr>\n",
       "            <tr>\n",
       "                                <td id=\"T_c3e1e16e_e240_11ea_a7bc_84fdd1c92a5brow11_col0\" class=\"data row11 col0\" >0,2,3,4,</td>\n",
       "                        <td id=\"T_c3e1e16e_e240_11ea_a7bc_84fdd1c92a5brow11_col1\" class=\"data row11 col1\" >4</td>\n",
       "                        <td id=\"T_c3e1e16e_e240_11ea_a7bc_84fdd1c92a5brow11_col2\" class=\"data row11 col2\" >80%</td>\n",
       "                        <td id=\"T_c3e1e16e_e240_11ea_a7bc_84fdd1c92a5brow11_col3\" class=\"data row11 col3\" >$273,685</td>\n",
       "                        <td id=\"T_c3e1e16e_e240_11ea_a7bc_84fdd1c92a5brow11_col4\" class=\"data row11 col4\" >1.66%</td>\n",
       "            </tr>\n",
       "            <tr>\n",
       "                                <td id=\"T_c3e1e16e_e240_11ea_a7bc_84fdd1c92a5brow12_col0\" class=\"data row12 col0\" >0,2,3,</td>\n",
       "                        <td id=\"T_c3e1e16e_e240_11ea_a7bc_84fdd1c92a5brow12_col1\" class=\"data row12 col1\" >3</td>\n",
       "                        <td id=\"T_c3e1e16e_e240_11ea_a7bc_84fdd1c92a5brow12_col2\" class=\"data row12 col2\" >60%</td>\n",
       "                        <td id=\"T_c3e1e16e_e240_11ea_a7bc_84fdd1c92a5brow12_col3\" class=\"data row12 col3\" >$246,635</td>\n",
       "                        <td id=\"T_c3e1e16e_e240_11ea_a7bc_84fdd1c92a5brow12_col4\" class=\"data row12 col4\" >1.50%</td>\n",
       "            </tr>\n",
       "            <tr>\n",
       "                                <td id=\"T_c3e1e16e_e240_11ea_a7bc_84fdd1c92a5brow13_col0\" class=\"data row13 col0\" >0,3,4</td>\n",
       "                        <td id=\"T_c3e1e16e_e240_11ea_a7bc_84fdd1c92a5brow13_col1\" class=\"data row13 col1\" >3</td>\n",
       "                        <td id=\"T_c3e1e16e_e240_11ea_a7bc_84fdd1c92a5brow13_col2\" class=\"data row13 col2\" >60%</td>\n",
       "                        <td id=\"T_c3e1e16e_e240_11ea_a7bc_84fdd1c92a5brow13_col3\" class=\"data row13 col3\" >$227,617</td>\n",
       "                        <td id=\"T_c3e1e16e_e240_11ea_a7bc_84fdd1c92a5brow13_col4\" class=\"data row13 col4\" >1.38%</td>\n",
       "            </tr>\n",
       "            <tr>\n",
       "                                <td id=\"T_c3e1e16e_e240_11ea_a7bc_84fdd1c92a5brow14_col0\" class=\"data row14 col0\" >0,2,4,</td>\n",
       "                        <td id=\"T_c3e1e16e_e240_11ea_a7bc_84fdd1c92a5brow14_col1\" class=\"data row14 col1\" >3</td>\n",
       "                        <td id=\"T_c3e1e16e_e240_11ea_a7bc_84fdd1c92a5brow14_col2\" class=\"data row14 col2\" >60%</td>\n",
       "                        <td id=\"T_c3e1e16e_e240_11ea_a7bc_84fdd1c92a5brow14_col3\" class=\"data row14 col3\" >$146,543</td>\n",
       "                        <td id=\"T_c3e1e16e_e240_11ea_a7bc_84fdd1c92a5brow14_col4\" class=\"data row14 col4\" >0.89%</td>\n",
       "            </tr>\n",
       "    </tbody></table>"
      ],
      "text/plain": [
       "<pandas.io.formats.style.Styler at 0x1e6ba015cc8>"
      ]
     },
     "execution_count": 212,
     "metadata": {},
     "output_type": "execute_result"
    }
   ],
   "source": [
    "format_dict = {'amount_yr0':'${0:,.0f}', 'perc_years_donated': '{:.0%}', 'pct_of_amount_yr0': '{:.2%}'}\n",
    "c13_yr0.style.format(format_dict).hide_index()"
   ]
  },
  {
   "cell_type": "code",
   "execution_count": 213,
   "metadata": {},
   "outputs": [
    {
     "data": {
      "text/html": [
       "<style  type=\"text/css\" >\n",
       "</style><table id=\"T_c4455f8c_e240_11ea_bed4_84fdd1c92a5b\" ><thead>    <tr>        <th class=\"col_heading level0 col0\" >cohort_gift_pattern</th>        <th class=\"col_heading level0 col1\" >years_donated</th>        <th class=\"col_heading level0 col2\" >perc_years_donated</th>        <th class=\"col_heading level0 col3\" >amount_yr0</th>        <th class=\"col_heading level0 col4\" >pct_of_amount_yr0</th>    </tr></thead><tbody>\n",
       "                <tr>\n",
       "                                <td id=\"T_c4455f8c_e240_11ea_bed4_84fdd1c92a5brow0_col0\" class=\"data row0 col0\" >0,1,</td>\n",
       "                        <td id=\"T_c4455f8c_e240_11ea_bed4_84fdd1c92a5brow0_col1\" class=\"data row0 col1\" >2</td>\n",
       "                        <td id=\"T_c4455f8c_e240_11ea_bed4_84fdd1c92a5brow0_col2\" class=\"data row0 col2\" >40%</td>\n",
       "                        <td id=\"T_c4455f8c_e240_11ea_bed4_84fdd1c92a5brow0_col3\" class=\"data row0 col3\" >$2,947,567</td>\n",
       "                        <td id=\"T_c4455f8c_e240_11ea_bed4_84fdd1c92a5brow0_col4\" class=\"data row0 col4\" >32.63%</td>\n",
       "            </tr>\n",
       "            <tr>\n",
       "                                <td id=\"T_c4455f8c_e240_11ea_bed4_84fdd1c92a5brow1_col0\" class=\"data row1 col0\" >0,1,2,</td>\n",
       "                        <td id=\"T_c4455f8c_e240_11ea_bed4_84fdd1c92a5brow1_col1\" class=\"data row1 col1\" >3</td>\n",
       "                        <td id=\"T_c4455f8c_e240_11ea_bed4_84fdd1c92a5brow1_col2\" class=\"data row1 col2\" >60%</td>\n",
       "                        <td id=\"T_c4455f8c_e240_11ea_bed4_84fdd1c92a5brow1_col3\" class=\"data row1 col3\" >$1,047,159</td>\n",
       "                        <td id=\"T_c4455f8c_e240_11ea_bed4_84fdd1c92a5brow1_col4\" class=\"data row1 col4\" >11.59%</td>\n",
       "            </tr>\n",
       "            <tr>\n",
       "                                <td id=\"T_c4455f8c_e240_11ea_bed4_84fdd1c92a5brow2_col0\" class=\"data row2 col0\" >0,1,2,3,</td>\n",
       "                        <td id=\"T_c4455f8c_e240_11ea_bed4_84fdd1c92a5brow2_col1\" class=\"data row2 col1\" >4</td>\n",
       "                        <td id=\"T_c4455f8c_e240_11ea_bed4_84fdd1c92a5brow2_col2\" class=\"data row2 col2\" >80%</td>\n",
       "                        <td id=\"T_c4455f8c_e240_11ea_bed4_84fdd1c92a5brow2_col3\" class=\"data row2 col3\" >$1,015,472</td>\n",
       "                        <td id=\"T_c4455f8c_e240_11ea_bed4_84fdd1c92a5brow2_col4\" class=\"data row2 col4\" >11.24%</td>\n",
       "            </tr>\n",
       "            <tr>\n",
       "                                <td id=\"T_c4455f8c_e240_11ea_bed4_84fdd1c92a5brow3_col0\" class=\"data row3 col0\" >0,1,2,3,4,</td>\n",
       "                        <td id=\"T_c4455f8c_e240_11ea_bed4_84fdd1c92a5brow3_col1\" class=\"data row3 col1\" >4</td>\n",
       "                        <td id=\"T_c4455f8c_e240_11ea_bed4_84fdd1c92a5brow3_col2\" class=\"data row3 col2\" >80%</td>\n",
       "                        <td id=\"T_c4455f8c_e240_11ea_bed4_84fdd1c92a5brow3_col3\" class=\"data row3 col3\" >$1,012,539</td>\n",
       "                        <td id=\"T_c4455f8c_e240_11ea_bed4_84fdd1c92a5brow3_col4\" class=\"data row3 col4\" >11.21%</td>\n",
       "            </tr>\n",
       "            <tr>\n",
       "                                <td id=\"T_c4455f8c_e240_11ea_bed4_84fdd1c92a5brow4_col0\" class=\"data row4 col0\" >0,2,</td>\n",
       "                        <td id=\"T_c4455f8c_e240_11ea_bed4_84fdd1c92a5brow4_col1\" class=\"data row4 col1\" >2</td>\n",
       "                        <td id=\"T_c4455f8c_e240_11ea_bed4_84fdd1c92a5brow4_col2\" class=\"data row4 col2\" >40%</td>\n",
       "                        <td id=\"T_c4455f8c_e240_11ea_bed4_84fdd1c92a5brow4_col3\" class=\"data row4 col3\" >$990,621</td>\n",
       "                        <td id=\"T_c4455f8c_e240_11ea_bed4_84fdd1c92a5brow4_col4\" class=\"data row4 col4\" >10.97%</td>\n",
       "            </tr>\n",
       "            <tr>\n",
       "                                <td id=\"T_c4455f8c_e240_11ea_bed4_84fdd1c92a5brow5_col0\" class=\"data row5 col0\" >0,3,</td>\n",
       "                        <td id=\"T_c4455f8c_e240_11ea_bed4_84fdd1c92a5brow5_col1\" class=\"data row5 col1\" >2</td>\n",
       "                        <td id=\"T_c4455f8c_e240_11ea_bed4_84fdd1c92a5brow5_col2\" class=\"data row5 col2\" >40%</td>\n",
       "                        <td id=\"T_c4455f8c_e240_11ea_bed4_84fdd1c92a5brow5_col3\" class=\"data row5 col3\" >$629,121</td>\n",
       "                        <td id=\"T_c4455f8c_e240_11ea_bed4_84fdd1c92a5brow5_col4\" class=\"data row5 col4\" >6.97%</td>\n",
       "            </tr>\n",
       "            <tr>\n",
       "                                <td id=\"T_c4455f8c_e240_11ea_bed4_84fdd1c92a5brow6_col0\" class=\"data row6 col0\" >0,1,3,</td>\n",
       "                        <td id=\"T_c4455f8c_e240_11ea_bed4_84fdd1c92a5brow6_col1\" class=\"data row6 col1\" >3</td>\n",
       "                        <td id=\"T_c4455f8c_e240_11ea_bed4_84fdd1c92a5brow6_col2\" class=\"data row6 col2\" >60%</td>\n",
       "                        <td id=\"T_c4455f8c_e240_11ea_bed4_84fdd1c92a5brow6_col3\" class=\"data row6 col3\" >$452,383</td>\n",
       "                        <td id=\"T_c4455f8c_e240_11ea_bed4_84fdd1c92a5brow6_col4\" class=\"data row6 col4\" >5.01%</td>\n",
       "            </tr>\n",
       "            <tr>\n",
       "                                <td id=\"T_c4455f8c_e240_11ea_bed4_84fdd1c92a5brow7_col0\" class=\"data row7 col0\" >0,2,3,</td>\n",
       "                        <td id=\"T_c4455f8c_e240_11ea_bed4_84fdd1c92a5brow7_col1\" class=\"data row7 col1\" >3</td>\n",
       "                        <td id=\"T_c4455f8c_e240_11ea_bed4_84fdd1c92a5brow7_col2\" class=\"data row7 col2\" >60%</td>\n",
       "                        <td id=\"T_c4455f8c_e240_11ea_bed4_84fdd1c92a5brow7_col3\" class=\"data row7 col3\" >$334,480</td>\n",
       "                        <td id=\"T_c4455f8c_e240_11ea_bed4_84fdd1c92a5brow7_col4\" class=\"data row7 col4\" >3.70%</td>\n",
       "            </tr>\n",
       "            <tr>\n",
       "                                <td id=\"T_c4455f8c_e240_11ea_bed4_84fdd1c92a5brow8_col0\" class=\"data row8 col0\" >0,1,3,4,</td>\n",
       "                        <td id=\"T_c4455f8c_e240_11ea_bed4_84fdd1c92a5brow8_col1\" class=\"data row8 col1\" >3</td>\n",
       "                        <td id=\"T_c4455f8c_e240_11ea_bed4_84fdd1c92a5brow8_col2\" class=\"data row8 col2\" >60%</td>\n",
       "                        <td id=\"T_c4455f8c_e240_11ea_bed4_84fdd1c92a5brow8_col3\" class=\"data row8 col3\" >$135,734</td>\n",
       "                        <td id=\"T_c4455f8c_e240_11ea_bed4_84fdd1c92a5brow8_col4\" class=\"data row8 col4\" >1.50%</td>\n",
       "            </tr>\n",
       "            <tr>\n",
       "                                <td id=\"T_c4455f8c_e240_11ea_bed4_84fdd1c92a5brow9_col0\" class=\"data row9 col0\" >0,2,3,4,</td>\n",
       "                        <td id=\"T_c4455f8c_e240_11ea_bed4_84fdd1c92a5brow9_col1\" class=\"data row9 col1\" >3</td>\n",
       "                        <td id=\"T_c4455f8c_e240_11ea_bed4_84fdd1c92a5brow9_col2\" class=\"data row9 col2\" >60%</td>\n",
       "                        <td id=\"T_c4455f8c_e240_11ea_bed4_84fdd1c92a5brow9_col3\" class=\"data row9 col3\" >$120,260</td>\n",
       "                        <td id=\"T_c4455f8c_e240_11ea_bed4_84fdd1c92a5brow9_col4\" class=\"data row9 col4\" >1.33%</td>\n",
       "            </tr>\n",
       "            <tr>\n",
       "                                <td id=\"T_c4455f8c_e240_11ea_bed4_84fdd1c92a5brow10_col0\" class=\"data row10 col0\" >0,3,4</td>\n",
       "                        <td id=\"T_c4455f8c_e240_11ea_bed4_84fdd1c92a5brow10_col1\" class=\"data row10 col1\" >2</td>\n",
       "                        <td id=\"T_c4455f8c_e240_11ea_bed4_84fdd1c92a5brow10_col2\" class=\"data row10 col2\" >40%</td>\n",
       "                        <td id=\"T_c4455f8c_e240_11ea_bed4_84fdd1c92a5brow10_col3\" class=\"data row10 col3\" >$102,650</td>\n",
       "                        <td id=\"T_c4455f8c_e240_11ea_bed4_84fdd1c92a5brow10_col4\" class=\"data row10 col4\" >1.14%</td>\n",
       "            </tr>\n",
       "            <tr>\n",
       "                                <td id=\"T_c4455f8c_e240_11ea_bed4_84fdd1c92a5brow11_col0\" class=\"data row11 col0\" >0,1,4,</td>\n",
       "                        <td id=\"T_c4455f8c_e240_11ea_bed4_84fdd1c92a5brow11_col1\" class=\"data row11 col1\" >2</td>\n",
       "                        <td id=\"T_c4455f8c_e240_11ea_bed4_84fdd1c92a5brow11_col2\" class=\"data row11 col2\" >40%</td>\n",
       "                        <td id=\"T_c4455f8c_e240_11ea_bed4_84fdd1c92a5brow11_col3\" class=\"data row11 col3\" >$98,243</td>\n",
       "                        <td id=\"T_c4455f8c_e240_11ea_bed4_84fdd1c92a5brow11_col4\" class=\"data row11 col4\" >1.09%</td>\n",
       "            </tr>\n",
       "            <tr>\n",
       "                                <td id=\"T_c4455f8c_e240_11ea_bed4_84fdd1c92a5brow12_col0\" class=\"data row12 col0\" >0,1,2,4,</td>\n",
       "                        <td id=\"T_c4455f8c_e240_11ea_bed4_84fdd1c92a5brow12_col1\" class=\"data row12 col1\" >3</td>\n",
       "                        <td id=\"T_c4455f8c_e240_11ea_bed4_84fdd1c92a5brow12_col2\" class=\"data row12 col2\" >60%</td>\n",
       "                        <td id=\"T_c4455f8c_e240_11ea_bed4_84fdd1c92a5brow12_col3\" class=\"data row12 col3\" >$80,485</td>\n",
       "                        <td id=\"T_c4455f8c_e240_11ea_bed4_84fdd1c92a5brow12_col4\" class=\"data row12 col4\" >0.89%</td>\n",
       "            </tr>\n",
       "            <tr>\n",
       "                                <td id=\"T_c4455f8c_e240_11ea_bed4_84fdd1c92a5brow13_col0\" class=\"data row13 col0\" >0,2,4,</td>\n",
       "                        <td id=\"T_c4455f8c_e240_11ea_bed4_84fdd1c92a5brow13_col1\" class=\"data row13 col1\" >2</td>\n",
       "                        <td id=\"T_c4455f8c_e240_11ea_bed4_84fdd1c92a5brow13_col2\" class=\"data row13 col2\" >40%</td>\n",
       "                        <td id=\"T_c4455f8c_e240_11ea_bed4_84fdd1c92a5brow13_col3\" class=\"data row13 col3\" >$65,597</td>\n",
       "                        <td id=\"T_c4455f8c_e240_11ea_bed4_84fdd1c92a5brow13_col4\" class=\"data row13 col4\" >0.73%</td>\n",
       "            </tr>\n",
       "    </tbody></table>"
      ],
      "text/plain": [
       "<pandas.io.formats.style.Styler at 0x1e6fe9f8308>"
      ]
     },
     "execution_count": 213,
     "metadata": {},
     "output_type": "execute_result"
    }
   ],
   "source": [
    "format_dict = {'amount_yr0':'${0:,.0f}', 'perc_years_donated': '{:.0%}', 'pct_of_amount_yr0': '{:.2%}'}\n",
    "c14_yr0.style.format(format_dict).hide_index()"
   ]
  },
  {
   "cell_type": "code",
   "execution_count": 211,
   "metadata": {},
   "outputs": [
    {
     "data": {
      "text/html": [
       "<style  type=\"text/css\" >\n",
       "</style><table id=\"T_b7e61424_e240_11ea_b4f5_84fdd1c92a5b\" ><thead>    <tr>        <th class=\"col_heading level0 col0\" >cohort_gift_pattern</th>        <th class=\"col_heading level0 col1\" >years_donated</th>        <th class=\"col_heading level0 col2\" >perc_years_donated</th>        <th class=\"col_heading level0 col3\" >amount_yr0</th>        <th class=\"col_heading level0 col4\" >pct_of_amount_yr0</th>    </tr></thead><tbody>\n",
       "                <tr>\n",
       "                                <td id=\"T_b7e61424_e240_11ea_b4f5_84fdd1c92a5brow0_col0\" class=\"data row0 col0\" >0,1,</td>\n",
       "                        <td id=\"T_b7e61424_e240_11ea_b4f5_84fdd1c92a5brow0_col1\" class=\"data row0 col1\" >2</td>\n",
       "                        <td id=\"T_b7e61424_e240_11ea_b4f5_84fdd1c92a5brow0_col2\" class=\"data row0 col2\" >40%</td>\n",
       "                        <td id=\"T_b7e61424_e240_11ea_b4f5_84fdd1c92a5brow0_col3\" class=\"data row0 col3\" >$3,129,086</td>\n",
       "                        <td id=\"T_b7e61424_e240_11ea_b4f5_84fdd1c92a5brow0_col4\" class=\"data row0 col4\" >36.79%</td>\n",
       "            </tr>\n",
       "            <tr>\n",
       "                                <td id=\"T_b7e61424_e240_11ea_b4f5_84fdd1c92a5brow1_col0\" class=\"data row1 col0\" >0,1,2,</td>\n",
       "                        <td id=\"T_b7e61424_e240_11ea_b4f5_84fdd1c92a5brow1_col1\" class=\"data row1 col1\" >3</td>\n",
       "                        <td id=\"T_b7e61424_e240_11ea_b4f5_84fdd1c92a5brow1_col2\" class=\"data row1 col2\" >60%</td>\n",
       "                        <td id=\"T_b7e61424_e240_11ea_b4f5_84fdd1c92a5brow1_col3\" class=\"data row1 col3\" >$1,998,490</td>\n",
       "                        <td id=\"T_b7e61424_e240_11ea_b4f5_84fdd1c92a5brow1_col4\" class=\"data row1 col4\" >23.50%</td>\n",
       "            </tr>\n",
       "            <tr>\n",
       "                                <td id=\"T_b7e61424_e240_11ea_b4f5_84fdd1c92a5brow2_col0\" class=\"data row2 col0\" >0,1,2,3,</td>\n",
       "                        <td id=\"T_b7e61424_e240_11ea_b4f5_84fdd1c92a5brow2_col1\" class=\"data row2 col1\" >3</td>\n",
       "                        <td id=\"T_b7e61424_e240_11ea_b4f5_84fdd1c92a5brow2_col2\" class=\"data row2 col2\" >60%</td>\n",
       "                        <td id=\"T_b7e61424_e240_11ea_b4f5_84fdd1c92a5brow2_col3\" class=\"data row2 col3\" >$1,473,566</td>\n",
       "                        <td id=\"T_b7e61424_e240_11ea_b4f5_84fdd1c92a5brow2_col4\" class=\"data row2 col4\" >17.32%</td>\n",
       "            </tr>\n",
       "            <tr>\n",
       "                                <td id=\"T_b7e61424_e240_11ea_b4f5_84fdd1c92a5brow3_col0\" class=\"data row3 col0\" >0,2,</td>\n",
       "                        <td id=\"T_b7e61424_e240_11ea_b4f5_84fdd1c92a5brow3_col1\" class=\"data row3 col1\" >2</td>\n",
       "                        <td id=\"T_b7e61424_e240_11ea_b4f5_84fdd1c92a5brow3_col2\" class=\"data row3 col2\" >40%</td>\n",
       "                        <td id=\"T_b7e61424_e240_11ea_b4f5_84fdd1c92a5brow3_col3\" class=\"data row3 col3\" >$1,411,805</td>\n",
       "                        <td id=\"T_b7e61424_e240_11ea_b4f5_84fdd1c92a5brow3_col4\" class=\"data row3 col4\" >16.60%</td>\n",
       "            </tr>\n",
       "            <tr>\n",
       "                                <td id=\"T_b7e61424_e240_11ea_b4f5_84fdd1c92a5brow4_col0\" class=\"data row4 col0\" >0,2,3,</td>\n",
       "                        <td id=\"T_b7e61424_e240_11ea_b4f5_84fdd1c92a5brow4_col1\" class=\"data row4 col1\" >2</td>\n",
       "                        <td id=\"T_b7e61424_e240_11ea_b4f5_84fdd1c92a5brow4_col2\" class=\"data row4 col2\" >40%</td>\n",
       "                        <td id=\"T_b7e61424_e240_11ea_b4f5_84fdd1c92a5brow4_col3\" class=\"data row4 col3\" >$263,383</td>\n",
       "                        <td id=\"T_b7e61424_e240_11ea_b4f5_84fdd1c92a5brow4_col4\" class=\"data row4 col4\" >3.10%</td>\n",
       "            </tr>\n",
       "            <tr>\n",
       "                                <td id=\"T_b7e61424_e240_11ea_b4f5_84fdd1c92a5brow5_col0\" class=\"data row5 col0\" >0,1,3,</td>\n",
       "                        <td id=\"T_b7e61424_e240_11ea_b4f5_84fdd1c92a5brow5_col1\" class=\"data row5 col1\" >2</td>\n",
       "                        <td id=\"T_b7e61424_e240_11ea_b4f5_84fdd1c92a5brow5_col2\" class=\"data row5 col2\" >40%</td>\n",
       "                        <td id=\"T_b7e61424_e240_11ea_b4f5_84fdd1c92a5brow5_col3\" class=\"data row5 col3\" >$229,617</td>\n",
       "                        <td id=\"T_b7e61424_e240_11ea_b4f5_84fdd1c92a5brow5_col4\" class=\"data row5 col4\" >2.70%</td>\n",
       "            </tr>\n",
       "    </tbody></table>"
      ],
      "text/plain": [
       "<pandas.io.formats.style.Styler at 0x1e6fe9ed048>"
      ]
     },
     "execution_count": 211,
     "metadata": {},
     "output_type": "execute_result"
    }
   ],
   "source": [
    "format_dict = {'amount_yr0':'${0:,.0f}', 'perc_years_donated': '{:.0%}', 'pct_of_amount_yr0': '{:.2%}'}\n",
    "c15_yr0.style.format(format_dict).hide_index()"
   ]
  },
  {
   "cell_type": "code",
   "execution_count": 214,
   "metadata": {},
   "outputs": [],
   "source": [
    "c13_yr0.loc[:,\"years_donated\"]=c13_yr0[\"years_donated\"].astype(str)\n",
    "c14_yr0.loc[:,\"years_donated\"]=c14_yr0[\"years_donated\"].astype(str)\n",
    "c15_yr0.loc[:,\"years_donated\"]=c15_yr0[\"years_donated\"].astype(str)\n",
    "\n",
    "c13_yr0.loc[:,\"perc_years_donated\"]=c13_yr0[\"perc_years_donated\"].astype(str)\n",
    "c14_yr0.loc[:,\"perc_years_donated\"]=c14_yr0[\"perc_years_donated\"].astype(str)\n",
    "c15_yr0.loc[:,\"perc_years_donated\"]=c15_yr0[\"perc_years_donated\"].astype(str)"
   ]
  },
  {
   "cell_type": "code",
   "execution_count": 215,
   "metadata": {},
   "outputs": [
    {
     "data": {
      "application/vnd.plotly.v1+json": {
       "config": {
        "plotlyServerURL": "https://plot.ly"
       },
       "data": [
        {
         "alignmentgroup": "True",
         "hovertemplate": "cohort_gift_pattern=%{x}<br>amount_yr0=%{y}<extra></extra>",
         "legendgroup": "",
         "marker": {
          "color": "#636efa"
         },
         "name": "",
         "offsetgroup": "",
         "orientation": "v",
         "showlegend": false,
         "textposition": "auto",
         "type": "bar",
         "x": [
          "0,1,2,3,4,",
          "0,1,",
          "0,2,",
          "0,1,2,",
          "0,1,2,3,",
          "0,3,",
          "0,1,2,4,",
          "0,1,3,",
          "0,4,",
          "0,1,3,4,",
          "0,1,4,",
          "0,2,3,4,",
          "0,2,3,",
          "0,3,4",
          "0,2,4,"
         ],
         "xaxis": "x",
         "y": [
          5209667.210000017,
          3655885.410000013,
          1631608.529999998,
          1528295.3399999985,
          1124336.2,
          538437.0999999997,
          482861.08999999985,
          404406.91999999987,
          395075.69,
          335331.86999999994,
          278396.7,
          273684.57,
          246634.9199999998,
          227617.38999999998,
          146542.83999999997
         ],
         "yaxis": "y"
        }
       ],
       "layout": {
        "barmode": "relative",
        "legend": {
         "tracegroupgap": 0
        },
        "template": {
         "data": {
          "bar": [
           {
            "error_x": {
             "color": "#2a3f5f"
            },
            "error_y": {
             "color": "#2a3f5f"
            },
            "marker": {
             "line": {
              "color": "#E5ECF6",
              "width": 0.5
             }
            },
            "type": "bar"
           }
          ],
          "barpolar": [
           {
            "marker": {
             "line": {
              "color": "#E5ECF6",
              "width": 0.5
             }
            },
            "type": "barpolar"
           }
          ],
          "carpet": [
           {
            "aaxis": {
             "endlinecolor": "#2a3f5f",
             "gridcolor": "white",
             "linecolor": "white",
             "minorgridcolor": "white",
             "startlinecolor": "#2a3f5f"
            },
            "baxis": {
             "endlinecolor": "#2a3f5f",
             "gridcolor": "white",
             "linecolor": "white",
             "minorgridcolor": "white",
             "startlinecolor": "#2a3f5f"
            },
            "type": "carpet"
           }
          ],
          "choropleth": [
           {
            "colorbar": {
             "outlinewidth": 0,
             "ticks": ""
            },
            "type": "choropleth"
           }
          ],
          "contour": [
           {
            "colorbar": {
             "outlinewidth": 0,
             "ticks": ""
            },
            "colorscale": [
             [
              0,
              "#0d0887"
             ],
             [
              0.1111111111111111,
              "#46039f"
             ],
             [
              0.2222222222222222,
              "#7201a8"
             ],
             [
              0.3333333333333333,
              "#9c179e"
             ],
             [
              0.4444444444444444,
              "#bd3786"
             ],
             [
              0.5555555555555556,
              "#d8576b"
             ],
             [
              0.6666666666666666,
              "#ed7953"
             ],
             [
              0.7777777777777778,
              "#fb9f3a"
             ],
             [
              0.8888888888888888,
              "#fdca26"
             ],
             [
              1,
              "#f0f921"
             ]
            ],
            "type": "contour"
           }
          ],
          "contourcarpet": [
           {
            "colorbar": {
             "outlinewidth": 0,
             "ticks": ""
            },
            "type": "contourcarpet"
           }
          ],
          "heatmap": [
           {
            "colorbar": {
             "outlinewidth": 0,
             "ticks": ""
            },
            "colorscale": [
             [
              0,
              "#0d0887"
             ],
             [
              0.1111111111111111,
              "#46039f"
             ],
             [
              0.2222222222222222,
              "#7201a8"
             ],
             [
              0.3333333333333333,
              "#9c179e"
             ],
             [
              0.4444444444444444,
              "#bd3786"
             ],
             [
              0.5555555555555556,
              "#d8576b"
             ],
             [
              0.6666666666666666,
              "#ed7953"
             ],
             [
              0.7777777777777778,
              "#fb9f3a"
             ],
             [
              0.8888888888888888,
              "#fdca26"
             ],
             [
              1,
              "#f0f921"
             ]
            ],
            "type": "heatmap"
           }
          ],
          "heatmapgl": [
           {
            "colorbar": {
             "outlinewidth": 0,
             "ticks": ""
            },
            "colorscale": [
             [
              0,
              "#0d0887"
             ],
             [
              0.1111111111111111,
              "#46039f"
             ],
             [
              0.2222222222222222,
              "#7201a8"
             ],
             [
              0.3333333333333333,
              "#9c179e"
             ],
             [
              0.4444444444444444,
              "#bd3786"
             ],
             [
              0.5555555555555556,
              "#d8576b"
             ],
             [
              0.6666666666666666,
              "#ed7953"
             ],
             [
              0.7777777777777778,
              "#fb9f3a"
             ],
             [
              0.8888888888888888,
              "#fdca26"
             ],
             [
              1,
              "#f0f921"
             ]
            ],
            "type": "heatmapgl"
           }
          ],
          "histogram": [
           {
            "marker": {
             "colorbar": {
              "outlinewidth": 0,
              "ticks": ""
             }
            },
            "type": "histogram"
           }
          ],
          "histogram2d": [
           {
            "colorbar": {
             "outlinewidth": 0,
             "ticks": ""
            },
            "colorscale": [
             [
              0,
              "#0d0887"
             ],
             [
              0.1111111111111111,
              "#46039f"
             ],
             [
              0.2222222222222222,
              "#7201a8"
             ],
             [
              0.3333333333333333,
              "#9c179e"
             ],
             [
              0.4444444444444444,
              "#bd3786"
             ],
             [
              0.5555555555555556,
              "#d8576b"
             ],
             [
              0.6666666666666666,
              "#ed7953"
             ],
             [
              0.7777777777777778,
              "#fb9f3a"
             ],
             [
              0.8888888888888888,
              "#fdca26"
             ],
             [
              1,
              "#f0f921"
             ]
            ],
            "type": "histogram2d"
           }
          ],
          "histogram2dcontour": [
           {
            "colorbar": {
             "outlinewidth": 0,
             "ticks": ""
            },
            "colorscale": [
             [
              0,
              "#0d0887"
             ],
             [
              0.1111111111111111,
              "#46039f"
             ],
             [
              0.2222222222222222,
              "#7201a8"
             ],
             [
              0.3333333333333333,
              "#9c179e"
             ],
             [
              0.4444444444444444,
              "#bd3786"
             ],
             [
              0.5555555555555556,
              "#d8576b"
             ],
             [
              0.6666666666666666,
              "#ed7953"
             ],
             [
              0.7777777777777778,
              "#fb9f3a"
             ],
             [
              0.8888888888888888,
              "#fdca26"
             ],
             [
              1,
              "#f0f921"
             ]
            ],
            "type": "histogram2dcontour"
           }
          ],
          "mesh3d": [
           {
            "colorbar": {
             "outlinewidth": 0,
             "ticks": ""
            },
            "type": "mesh3d"
           }
          ],
          "parcoords": [
           {
            "line": {
             "colorbar": {
              "outlinewidth": 0,
              "ticks": ""
             }
            },
            "type": "parcoords"
           }
          ],
          "pie": [
           {
            "automargin": true,
            "type": "pie"
           }
          ],
          "scatter": [
           {
            "marker": {
             "colorbar": {
              "outlinewidth": 0,
              "ticks": ""
             }
            },
            "type": "scatter"
           }
          ],
          "scatter3d": [
           {
            "line": {
             "colorbar": {
              "outlinewidth": 0,
              "ticks": ""
             }
            },
            "marker": {
             "colorbar": {
              "outlinewidth": 0,
              "ticks": ""
             }
            },
            "type": "scatter3d"
           }
          ],
          "scattercarpet": [
           {
            "marker": {
             "colorbar": {
              "outlinewidth": 0,
              "ticks": ""
             }
            },
            "type": "scattercarpet"
           }
          ],
          "scattergeo": [
           {
            "marker": {
             "colorbar": {
              "outlinewidth": 0,
              "ticks": ""
             }
            },
            "type": "scattergeo"
           }
          ],
          "scattergl": [
           {
            "marker": {
             "colorbar": {
              "outlinewidth": 0,
              "ticks": ""
             }
            },
            "type": "scattergl"
           }
          ],
          "scattermapbox": [
           {
            "marker": {
             "colorbar": {
              "outlinewidth": 0,
              "ticks": ""
             }
            },
            "type": "scattermapbox"
           }
          ],
          "scatterpolar": [
           {
            "marker": {
             "colorbar": {
              "outlinewidth": 0,
              "ticks": ""
             }
            },
            "type": "scatterpolar"
           }
          ],
          "scatterpolargl": [
           {
            "marker": {
             "colorbar": {
              "outlinewidth": 0,
              "ticks": ""
             }
            },
            "type": "scatterpolargl"
           }
          ],
          "scatterternary": [
           {
            "marker": {
             "colorbar": {
              "outlinewidth": 0,
              "ticks": ""
             }
            },
            "type": "scatterternary"
           }
          ],
          "surface": [
           {
            "colorbar": {
             "outlinewidth": 0,
             "ticks": ""
            },
            "colorscale": [
             [
              0,
              "#0d0887"
             ],
             [
              0.1111111111111111,
              "#46039f"
             ],
             [
              0.2222222222222222,
              "#7201a8"
             ],
             [
              0.3333333333333333,
              "#9c179e"
             ],
             [
              0.4444444444444444,
              "#bd3786"
             ],
             [
              0.5555555555555556,
              "#d8576b"
             ],
             [
              0.6666666666666666,
              "#ed7953"
             ],
             [
              0.7777777777777778,
              "#fb9f3a"
             ],
             [
              0.8888888888888888,
              "#fdca26"
             ],
             [
              1,
              "#f0f921"
             ]
            ],
            "type": "surface"
           }
          ],
          "table": [
           {
            "cells": {
             "fill": {
              "color": "#EBF0F8"
             },
             "line": {
              "color": "white"
             }
            },
            "header": {
             "fill": {
              "color": "#C8D4E3"
             },
             "line": {
              "color": "white"
             }
            },
            "type": "table"
           }
          ]
         },
         "layout": {
          "annotationdefaults": {
           "arrowcolor": "#2a3f5f",
           "arrowhead": 0,
           "arrowwidth": 1
          },
          "coloraxis": {
           "colorbar": {
            "outlinewidth": 0,
            "ticks": ""
           }
          },
          "colorscale": {
           "diverging": [
            [
             0,
             "#8e0152"
            ],
            [
             0.1,
             "#c51b7d"
            ],
            [
             0.2,
             "#de77ae"
            ],
            [
             0.3,
             "#f1b6da"
            ],
            [
             0.4,
             "#fde0ef"
            ],
            [
             0.5,
             "#f7f7f7"
            ],
            [
             0.6,
             "#e6f5d0"
            ],
            [
             0.7,
             "#b8e186"
            ],
            [
             0.8,
             "#7fbc41"
            ],
            [
             0.9,
             "#4d9221"
            ],
            [
             1,
             "#276419"
            ]
           ],
           "sequential": [
            [
             0,
             "#0d0887"
            ],
            [
             0.1111111111111111,
             "#46039f"
            ],
            [
             0.2222222222222222,
             "#7201a8"
            ],
            [
             0.3333333333333333,
             "#9c179e"
            ],
            [
             0.4444444444444444,
             "#bd3786"
            ],
            [
             0.5555555555555556,
             "#d8576b"
            ],
            [
             0.6666666666666666,
             "#ed7953"
            ],
            [
             0.7777777777777778,
             "#fb9f3a"
            ],
            [
             0.8888888888888888,
             "#fdca26"
            ],
            [
             1,
             "#f0f921"
            ]
           ],
           "sequentialminus": [
            [
             0,
             "#0d0887"
            ],
            [
             0.1111111111111111,
             "#46039f"
            ],
            [
             0.2222222222222222,
             "#7201a8"
            ],
            [
             0.3333333333333333,
             "#9c179e"
            ],
            [
             0.4444444444444444,
             "#bd3786"
            ],
            [
             0.5555555555555556,
             "#d8576b"
            ],
            [
             0.6666666666666666,
             "#ed7953"
            ],
            [
             0.7777777777777778,
             "#fb9f3a"
            ],
            [
             0.8888888888888888,
             "#fdca26"
            ],
            [
             1,
             "#f0f921"
            ]
           ]
          },
          "colorway": [
           "#636efa",
           "#EF553B",
           "#00cc96",
           "#ab63fa",
           "#FFA15A",
           "#19d3f3",
           "#FF6692",
           "#B6E880",
           "#FF97FF",
           "#FECB52"
          ],
          "font": {
           "color": "#2a3f5f"
          },
          "geo": {
           "bgcolor": "white",
           "lakecolor": "white",
           "landcolor": "#E5ECF6",
           "showlakes": true,
           "showland": true,
           "subunitcolor": "white"
          },
          "hoverlabel": {
           "align": "left"
          },
          "hovermode": "closest",
          "mapbox": {
           "style": "light"
          },
          "paper_bgcolor": "white",
          "plot_bgcolor": "#E5ECF6",
          "polar": {
           "angularaxis": {
            "gridcolor": "white",
            "linecolor": "white",
            "ticks": ""
           },
           "bgcolor": "#E5ECF6",
           "radialaxis": {
            "gridcolor": "white",
            "linecolor": "white",
            "ticks": ""
           }
          },
          "scene": {
           "xaxis": {
            "backgroundcolor": "#E5ECF6",
            "gridcolor": "white",
            "gridwidth": 2,
            "linecolor": "white",
            "showbackground": true,
            "ticks": "",
            "zerolinecolor": "white"
           },
           "yaxis": {
            "backgroundcolor": "#E5ECF6",
            "gridcolor": "white",
            "gridwidth": 2,
            "linecolor": "white",
            "showbackground": true,
            "ticks": "",
            "zerolinecolor": "white"
           },
           "zaxis": {
            "backgroundcolor": "#E5ECF6",
            "gridcolor": "white",
            "gridwidth": 2,
            "linecolor": "white",
            "showbackground": true,
            "ticks": "",
            "zerolinecolor": "white"
           }
          },
          "shapedefaults": {
           "line": {
            "color": "#2a3f5f"
           }
          },
          "ternary": {
           "aaxis": {
            "gridcolor": "white",
            "linecolor": "white",
            "ticks": ""
           },
           "baxis": {
            "gridcolor": "white",
            "linecolor": "white",
            "ticks": ""
           },
           "bgcolor": "#E5ECF6",
           "caxis": {
            "gridcolor": "white",
            "linecolor": "white",
            "ticks": ""
           }
          },
          "title": {
           "x": 0.05
          },
          "xaxis": {
           "automargin": true,
           "gridcolor": "white",
           "linecolor": "white",
           "ticks": "",
           "title": {
            "standoff": 15
           },
           "zerolinecolor": "white",
           "zerolinewidth": 2
          },
          "yaxis": {
           "automargin": true,
           "gridcolor": "white",
           "linecolor": "white",
           "ticks": "",
           "title": {
            "standoff": 15
           },
           "zerolinecolor": "white",
           "zerolinewidth": 2
          }
         }
        },
        "title": {
         "text": "Donations ($) by Repeat Donors (Cohort 2013)"
        },
        "xaxis": {
         "anchor": "y",
         "domain": [
          0,
          1
         ],
         "title": {
          "text": "cohort_gift_pattern"
         },
         "type": "category"
        },
        "yaxis": {
         "anchor": "x",
         "domain": [
          0,
          1
         ],
         "title": {
          "text": "amount_yr0"
         }
        }
       }
      },
      "text/html": [
       "<div>\n",
       "        \n",
       "        \n",
       "            <div id=\"8691cd0c-8f13-46f5-ba5d-f14ff2aa7bcd\" class=\"plotly-graph-div\" style=\"height:525px; width:100%;\"></div>\n",
       "            <script type=\"text/javascript\">\n",
       "                require([\"plotly\"], function(Plotly) {\n",
       "                    window.PLOTLYENV=window.PLOTLYENV || {};\n",
       "                    \n",
       "                if (document.getElementById(\"8691cd0c-8f13-46f5-ba5d-f14ff2aa7bcd\")) {\n",
       "                    Plotly.newPlot(\n",
       "                        '8691cd0c-8f13-46f5-ba5d-f14ff2aa7bcd',\n",
       "                        [{\"alignmentgroup\": \"True\", \"hovertemplate\": \"cohort_gift_pattern=%{x}<br>amount_yr0=%{y}<extra></extra>\", \"legendgroup\": \"\", \"marker\": {\"color\": \"#636efa\"}, \"name\": \"\", \"offsetgroup\": \"\", \"orientation\": \"v\", \"showlegend\": false, \"textposition\": \"auto\", \"type\": \"bar\", \"x\": [\"0,1,2,3,4,\", \"0,1,\", \"0,2,\", \"0,1,2,\", \"0,1,2,3,\", \"0,3,\", \"0,1,2,4,\", \"0,1,3,\", \"0,4,\", \"0,1,3,4,\", \"0,1,4,\", \"0,2,3,4,\", \"0,2,3,\", \"0,3,4\", \"0,2,4,\"], \"xaxis\": \"x\", \"y\": [5209667.210000017, 3655885.410000013, 1631608.529999998, 1528295.3399999985, 1124336.2, 538437.0999999997, 482861.08999999985, 404406.91999999987, 395075.69, 335331.86999999994, 278396.7, 273684.57, 246634.9199999998, 227617.38999999998, 146542.83999999997], \"yaxis\": \"y\"}],\n",
       "                        {\"barmode\": \"relative\", \"legend\": {\"tracegroupgap\": 0}, \"template\": {\"data\": {\"bar\": [{\"error_x\": {\"color\": \"#2a3f5f\"}, \"error_y\": {\"color\": \"#2a3f5f\"}, \"marker\": {\"line\": {\"color\": \"#E5ECF6\", \"width\": 0.5}}, \"type\": \"bar\"}], \"barpolar\": [{\"marker\": {\"line\": {\"color\": \"#E5ECF6\", \"width\": 0.5}}, \"type\": \"barpolar\"}], \"carpet\": [{\"aaxis\": {\"endlinecolor\": \"#2a3f5f\", \"gridcolor\": \"white\", \"linecolor\": \"white\", \"minorgridcolor\": \"white\", \"startlinecolor\": \"#2a3f5f\"}, \"baxis\": {\"endlinecolor\": \"#2a3f5f\", \"gridcolor\": \"white\", \"linecolor\": \"white\", \"minorgridcolor\": \"white\", \"startlinecolor\": \"#2a3f5f\"}, \"type\": \"carpet\"}], \"choropleth\": [{\"colorbar\": {\"outlinewidth\": 0, \"ticks\": \"\"}, \"type\": \"choropleth\"}], \"contour\": [{\"colorbar\": {\"outlinewidth\": 0, \"ticks\": \"\"}, \"colorscale\": [[0.0, \"#0d0887\"], [0.1111111111111111, \"#46039f\"], [0.2222222222222222, \"#7201a8\"], [0.3333333333333333, \"#9c179e\"], [0.4444444444444444, \"#bd3786\"], [0.5555555555555556, \"#d8576b\"], [0.6666666666666666, \"#ed7953\"], [0.7777777777777778, \"#fb9f3a\"], [0.8888888888888888, \"#fdca26\"], [1.0, \"#f0f921\"]], \"type\": \"contour\"}], \"contourcarpet\": [{\"colorbar\": {\"outlinewidth\": 0, \"ticks\": \"\"}, \"type\": \"contourcarpet\"}], \"heatmap\": [{\"colorbar\": {\"outlinewidth\": 0, \"ticks\": \"\"}, \"colorscale\": [[0.0, \"#0d0887\"], [0.1111111111111111, \"#46039f\"], [0.2222222222222222, \"#7201a8\"], [0.3333333333333333, \"#9c179e\"], [0.4444444444444444, \"#bd3786\"], [0.5555555555555556, \"#d8576b\"], [0.6666666666666666, \"#ed7953\"], [0.7777777777777778, \"#fb9f3a\"], [0.8888888888888888, \"#fdca26\"], [1.0, \"#f0f921\"]], \"type\": \"heatmap\"}], \"heatmapgl\": [{\"colorbar\": {\"outlinewidth\": 0, \"ticks\": \"\"}, \"colorscale\": [[0.0, \"#0d0887\"], [0.1111111111111111, \"#46039f\"], [0.2222222222222222, \"#7201a8\"], [0.3333333333333333, \"#9c179e\"], [0.4444444444444444, \"#bd3786\"], [0.5555555555555556, \"#d8576b\"], [0.6666666666666666, \"#ed7953\"], [0.7777777777777778, \"#fb9f3a\"], [0.8888888888888888, \"#fdca26\"], [1.0, \"#f0f921\"]], \"type\": \"heatmapgl\"}], \"histogram\": [{\"marker\": {\"colorbar\": {\"outlinewidth\": 0, \"ticks\": \"\"}}, \"type\": \"histogram\"}], \"histogram2d\": [{\"colorbar\": {\"outlinewidth\": 0, \"ticks\": \"\"}, \"colorscale\": [[0.0, \"#0d0887\"], [0.1111111111111111, \"#46039f\"], [0.2222222222222222, \"#7201a8\"], [0.3333333333333333, \"#9c179e\"], [0.4444444444444444, \"#bd3786\"], [0.5555555555555556, \"#d8576b\"], [0.6666666666666666, \"#ed7953\"], [0.7777777777777778, \"#fb9f3a\"], [0.8888888888888888, \"#fdca26\"], [1.0, \"#f0f921\"]], \"type\": \"histogram2d\"}], \"histogram2dcontour\": [{\"colorbar\": {\"outlinewidth\": 0, \"ticks\": \"\"}, \"colorscale\": [[0.0, \"#0d0887\"], [0.1111111111111111, \"#46039f\"], [0.2222222222222222, \"#7201a8\"], [0.3333333333333333, \"#9c179e\"], [0.4444444444444444, \"#bd3786\"], [0.5555555555555556, \"#d8576b\"], [0.6666666666666666, \"#ed7953\"], [0.7777777777777778, \"#fb9f3a\"], [0.8888888888888888, \"#fdca26\"], [1.0, \"#f0f921\"]], \"type\": \"histogram2dcontour\"}], \"mesh3d\": [{\"colorbar\": {\"outlinewidth\": 0, \"ticks\": \"\"}, \"type\": \"mesh3d\"}], \"parcoords\": [{\"line\": {\"colorbar\": {\"outlinewidth\": 0, \"ticks\": \"\"}}, \"type\": \"parcoords\"}], \"pie\": [{\"automargin\": true, \"type\": \"pie\"}], \"scatter\": [{\"marker\": {\"colorbar\": {\"outlinewidth\": 0, \"ticks\": \"\"}}, \"type\": \"scatter\"}], \"scatter3d\": [{\"line\": {\"colorbar\": {\"outlinewidth\": 0, \"ticks\": \"\"}}, \"marker\": {\"colorbar\": {\"outlinewidth\": 0, \"ticks\": \"\"}}, \"type\": \"scatter3d\"}], \"scattercarpet\": [{\"marker\": {\"colorbar\": {\"outlinewidth\": 0, \"ticks\": \"\"}}, \"type\": \"scattercarpet\"}], \"scattergeo\": [{\"marker\": {\"colorbar\": {\"outlinewidth\": 0, \"ticks\": \"\"}}, \"type\": \"scattergeo\"}], \"scattergl\": [{\"marker\": {\"colorbar\": {\"outlinewidth\": 0, \"ticks\": \"\"}}, \"type\": \"scattergl\"}], \"scattermapbox\": [{\"marker\": {\"colorbar\": {\"outlinewidth\": 0, \"ticks\": \"\"}}, \"type\": \"scattermapbox\"}], \"scatterpolar\": [{\"marker\": {\"colorbar\": {\"outlinewidth\": 0, \"ticks\": \"\"}}, \"type\": \"scatterpolar\"}], \"scatterpolargl\": [{\"marker\": {\"colorbar\": {\"outlinewidth\": 0, \"ticks\": \"\"}}, \"type\": \"scatterpolargl\"}], \"scatterternary\": [{\"marker\": {\"colorbar\": {\"outlinewidth\": 0, \"ticks\": \"\"}}, \"type\": \"scatterternary\"}], \"surface\": [{\"colorbar\": {\"outlinewidth\": 0, \"ticks\": \"\"}, \"colorscale\": [[0.0, \"#0d0887\"], [0.1111111111111111, \"#46039f\"], [0.2222222222222222, \"#7201a8\"], [0.3333333333333333, \"#9c179e\"], [0.4444444444444444, \"#bd3786\"], [0.5555555555555556, \"#d8576b\"], [0.6666666666666666, \"#ed7953\"], [0.7777777777777778, \"#fb9f3a\"], [0.8888888888888888, \"#fdca26\"], [1.0, \"#f0f921\"]], \"type\": \"surface\"}], \"table\": [{\"cells\": {\"fill\": {\"color\": \"#EBF0F8\"}, \"line\": {\"color\": \"white\"}}, \"header\": {\"fill\": {\"color\": \"#C8D4E3\"}, \"line\": {\"color\": \"white\"}}, \"type\": \"table\"}]}, \"layout\": {\"annotationdefaults\": {\"arrowcolor\": \"#2a3f5f\", \"arrowhead\": 0, \"arrowwidth\": 1}, \"coloraxis\": {\"colorbar\": {\"outlinewidth\": 0, \"ticks\": \"\"}}, \"colorscale\": {\"diverging\": [[0, \"#8e0152\"], [0.1, \"#c51b7d\"], [0.2, \"#de77ae\"], [0.3, \"#f1b6da\"], [0.4, \"#fde0ef\"], [0.5, \"#f7f7f7\"], [0.6, \"#e6f5d0\"], [0.7, \"#b8e186\"], [0.8, \"#7fbc41\"], [0.9, \"#4d9221\"], [1, \"#276419\"]], \"sequential\": [[0.0, \"#0d0887\"], [0.1111111111111111, \"#46039f\"], [0.2222222222222222, \"#7201a8\"], [0.3333333333333333, \"#9c179e\"], [0.4444444444444444, \"#bd3786\"], [0.5555555555555556, \"#d8576b\"], [0.6666666666666666, \"#ed7953\"], [0.7777777777777778, \"#fb9f3a\"], [0.8888888888888888, \"#fdca26\"], [1.0, \"#f0f921\"]], \"sequentialminus\": [[0.0, \"#0d0887\"], [0.1111111111111111, \"#46039f\"], [0.2222222222222222, \"#7201a8\"], [0.3333333333333333, \"#9c179e\"], [0.4444444444444444, \"#bd3786\"], [0.5555555555555556, \"#d8576b\"], [0.6666666666666666, \"#ed7953\"], [0.7777777777777778, \"#fb9f3a\"], [0.8888888888888888, \"#fdca26\"], [1.0, \"#f0f921\"]]}, \"colorway\": [\"#636efa\", \"#EF553B\", \"#00cc96\", \"#ab63fa\", \"#FFA15A\", \"#19d3f3\", \"#FF6692\", \"#B6E880\", \"#FF97FF\", \"#FECB52\"], \"font\": {\"color\": \"#2a3f5f\"}, \"geo\": {\"bgcolor\": \"white\", \"lakecolor\": \"white\", \"landcolor\": \"#E5ECF6\", \"showlakes\": true, \"showland\": true, \"subunitcolor\": \"white\"}, \"hoverlabel\": {\"align\": \"left\"}, \"hovermode\": \"closest\", \"mapbox\": {\"style\": \"light\"}, \"paper_bgcolor\": \"white\", \"plot_bgcolor\": \"#E5ECF6\", \"polar\": {\"angularaxis\": {\"gridcolor\": \"white\", \"linecolor\": \"white\", \"ticks\": \"\"}, \"bgcolor\": \"#E5ECF6\", \"radialaxis\": {\"gridcolor\": \"white\", \"linecolor\": \"white\", \"ticks\": \"\"}}, \"scene\": {\"xaxis\": {\"backgroundcolor\": \"#E5ECF6\", \"gridcolor\": \"white\", \"gridwidth\": 2, \"linecolor\": \"white\", \"showbackground\": true, \"ticks\": \"\", \"zerolinecolor\": \"white\"}, \"yaxis\": {\"backgroundcolor\": \"#E5ECF6\", \"gridcolor\": \"white\", \"gridwidth\": 2, \"linecolor\": \"white\", \"showbackground\": true, \"ticks\": \"\", \"zerolinecolor\": \"white\"}, \"zaxis\": {\"backgroundcolor\": \"#E5ECF6\", \"gridcolor\": \"white\", \"gridwidth\": 2, \"linecolor\": \"white\", \"showbackground\": true, \"ticks\": \"\", \"zerolinecolor\": \"white\"}}, \"shapedefaults\": {\"line\": {\"color\": \"#2a3f5f\"}}, \"ternary\": {\"aaxis\": {\"gridcolor\": \"white\", \"linecolor\": \"white\", \"ticks\": \"\"}, \"baxis\": {\"gridcolor\": \"white\", \"linecolor\": \"white\", \"ticks\": \"\"}, \"bgcolor\": \"#E5ECF6\", \"caxis\": {\"gridcolor\": \"white\", \"linecolor\": \"white\", \"ticks\": \"\"}}, \"title\": {\"x\": 0.05}, \"xaxis\": {\"automargin\": true, \"gridcolor\": \"white\", \"linecolor\": \"white\", \"ticks\": \"\", \"title\": {\"standoff\": 15}, \"zerolinecolor\": \"white\", \"zerolinewidth\": 2}, \"yaxis\": {\"automargin\": true, \"gridcolor\": \"white\", \"linecolor\": \"white\", \"ticks\": \"\", \"title\": {\"standoff\": 15}, \"zerolinecolor\": \"white\", \"zerolinewidth\": 2}}}, \"title\": {\"text\": \"Donations ($) by Repeat Donors (Cohort 2013)\"}, \"xaxis\": {\"anchor\": \"y\", \"domain\": [0.0, 1.0], \"title\": {\"text\": \"cohort_gift_pattern\"}, \"type\": \"category\"}, \"yaxis\": {\"anchor\": \"x\", \"domain\": [0.0, 1.0], \"title\": {\"text\": \"amount_yr0\"}}},\n",
       "                        {\"responsive\": true}\n",
       "                    ).then(function(){\n",
       "                            \n",
       "var gd = document.getElementById('8691cd0c-8f13-46f5-ba5d-f14ff2aa7bcd');\n",
       "var x = new MutationObserver(function (mutations, observer) {{\n",
       "        var display = window.getComputedStyle(gd).display;\n",
       "        if (!display || display === 'none') {{\n",
       "            console.log([gd, 'removed!']);\n",
       "            Plotly.purge(gd);\n",
       "            observer.disconnect();\n",
       "        }}\n",
       "}});\n",
       "\n",
       "// Listen for the removal of the full notebook cells\n",
       "var notebookContainer = gd.closest('#notebook-container');\n",
       "if (notebookContainer) {{\n",
       "    x.observe(notebookContainer, {childList: true});\n",
       "}}\n",
       "\n",
       "// Listen for the clearing of the current output cell\n",
       "var outputEl = gd.closest('.output');\n",
       "if (outputEl) {{\n",
       "    x.observe(outputEl, {childList: true});\n",
       "}}\n",
       "\n",
       "                        })\n",
       "                };\n",
       "                });\n",
       "            </script>\n",
       "        </div>"
      ]
     },
     "metadata": {},
     "output_type": "display_data"
    }
   ],
   "source": [
    "fig = px.bar(c13_yr0, x=\"cohort_gift_pattern\", y=\"amount_yr0\",\n",
    "            title=\"Donations ($) by Repeat Donors (Cohort 2013)\")\n",
    " #barmode='group', labels={'index':'year', 'y':'amount ($)'}, \n",
    "fig.update_xaxes(type='category')\n",
    "fig.show()"
   ]
  },
  {
   "cell_type": "code",
   "execution_count": 326,
   "metadata": {},
   "outputs": [],
   "source": [
    "c13_yr0_1=c13_yr0[['cohort_gift_pattern', 'amount_yr0']]"
   ]
  },
  {
   "cell_type": "code",
   "execution_count": 327,
   "metadata": {},
   "outputs": [],
   "source": [
    "df=c13_yr0_1.T"
   ]
  },
  {
   "cell_type": "code",
   "execution_count": 331,
   "metadata": {},
   "outputs": [
    {
     "data": {
      "text/html": [
       "<div>\n",
       "<style scoped>\n",
       "    .dataframe tbody tr th:only-of-type {\n",
       "        vertical-align: middle;\n",
       "    }\n",
       "\n",
       "    .dataframe tbody tr th {\n",
       "        vertical-align: top;\n",
       "    }\n",
       "\n",
       "    .dataframe thead th {\n",
       "        text-align: right;\n",
       "    }\n",
       "</style>\n",
       "<table border=\"1\" class=\"dataframe\">\n",
       "  <thead>\n",
       "    <tr style=\"text-align: right;\">\n",
       "      <th></th>\n",
       "      <th>index</th>\n",
       "      <th>0,1,2,3,4,</th>\n",
       "      <th>0,1,</th>\n",
       "      <th>0,2,</th>\n",
       "      <th>0,1,2,</th>\n",
       "      <th>0,1,2,3,</th>\n",
       "      <th>0,3,</th>\n",
       "      <th>0,1,2,4,</th>\n",
       "      <th>0,1,3,</th>\n",
       "      <th>0,4,</th>\n",
       "      <th>0,1,3,4,</th>\n",
       "      <th>0,1,4,</th>\n",
       "      <th>0,2,3,4,</th>\n",
       "      <th>0,2,3,</th>\n",
       "      <th>0,3,4</th>\n",
       "      <th>0,2,4,</th>\n",
       "    </tr>\n",
       "  </thead>\n",
       "  <tbody>\n",
       "    <tr>\n",
       "      <td>0</td>\n",
       "      <td>amount_yr0</td>\n",
       "      <td>5.20967e+06</td>\n",
       "      <td>3.65589e+06</td>\n",
       "      <td>1.63161e+06</td>\n",
       "      <td>1.5283e+06</td>\n",
       "      <td>1.12434e+06</td>\n",
       "      <td>538437</td>\n",
       "      <td>482861</td>\n",
       "      <td>404407</td>\n",
       "      <td>395076</td>\n",
       "      <td>335332</td>\n",
       "      <td>278397</td>\n",
       "      <td>273685</td>\n",
       "      <td>246635</td>\n",
       "      <td>227617</td>\n",
       "      <td>146543</td>\n",
       "    </tr>\n",
       "  </tbody>\n",
       "</table>\n",
       "</div>"
      ],
      "text/plain": [
       "        index   0,1,2,3,4,         0,1,         0,2,      0,1,2,     0,1,2,3,  \\\n",
       "0  amount_yr0  5.20967e+06  3.65589e+06  1.63161e+06  1.5283e+06  1.12434e+06   \n",
       "\n",
       "     0,3, 0,1,2,4,  0,1,3,    0,4, 0,1,3,4,  0,1,4, 0,2,3,4,  0,2,3,   0,3,4  \\\n",
       "0  538437   482861  404407  395076   335332  278397   273685  246635  227617   \n",
       "\n",
       "   0,2,4,  \n",
       "0  146543  "
      ]
     },
     "execution_count": 331,
     "metadata": {},
     "output_type": "execute_result"
    }
   ],
   "source": [
    "df1=df.rename(columns=df.iloc[0]).drop(df.index[0])\n",
    "df1.reset_index()"
   ]
  },
  {
   "cell_type": "code",
   "execution_count": 216,
   "metadata": {},
   "outputs": [
    {
     "data": {
      "application/vnd.plotly.v1+json": {
       "config": {
        "plotlyServerURL": "https://plot.ly"
       },
       "data": [
        {
         "alignmentgroup": "True",
         "customdata": [
          [
           0.31614395284503904
          ]
         ],
         "hovertemplate": "years_donated=5<br>cohort_gift_pattern=%{x}<br>amount_yr0=%{y}<br>pct_of_amount_yr0=%{customdata[0]}<extra></extra>",
         "legendgroup": "5",
         "marker": {
          "color": "#636efa"
         },
         "name": "5",
         "offsetgroup": "5",
         "orientation": "v",
         "showlegend": true,
         "textposition": "auto",
         "type": "bar",
         "x": [
          "0,1,2,3,4,"
         ],
         "xaxis": "x",
         "y": [
          5209667.210000017
         ],
         "yaxis": "y"
        },
        {
         "alignmentgroup": "True",
         "customdata": [
          [
           0.2218541066207388
          ],
          [
           0.099012691094693
          ],
          [
           0.032674569466869835
          ],
          [
           0.023974811686595404
          ]
         ],
         "hovertemplate": "years_donated=2<br>cohort_gift_pattern=%{x}<br>amount_yr0=%{y}<br>pct_of_amount_yr0=%{customdata[0]}<extra></extra>",
         "legendgroup": "2",
         "marker": {
          "color": "#EF553B"
         },
         "name": "2",
         "offsetgroup": "2",
         "orientation": "v",
         "showlegend": true,
         "textposition": "auto",
         "type": "bar",
         "x": [
          "0,1,",
          "0,2,",
          "0,3,",
          "0,4,"
         ],
         "xaxis": "x",
         "y": [
          3655885.410000013,
          1631608.529999998,
          538437.0999999997,
          395075.69
         ],
         "yaxis": "y"
        },
        {
         "alignmentgroup": "True",
         "customdata": [
          [
           0.09274322340106843
          ],
          [
           0.024541068957586454
          ],
          [
           0.016894252482782715
          ],
          [
           0.014966817528910771
          ],
          [
           0.013812755884434052
          ],
          [
           0.008892819988541637
          ]
         ],
         "hovertemplate": "years_donated=3<br>cohort_gift_pattern=%{x}<br>amount_yr0=%{y}<br>pct_of_amount_yr0=%{customdata[0]}<extra></extra>",
         "legendgroup": "3",
         "marker": {
          "color": "#00cc96"
         },
         "name": "3",
         "offsetgroup": "3",
         "orientation": "v",
         "showlegend": true,
         "textposition": "auto",
         "type": "bar",
         "x": [
          "0,1,2,",
          "0,1,3,",
          "0,1,4,",
          "0,2,3,",
          "0,3,4",
          "0,2,4,"
         ],
         "xaxis": "x",
         "y": [
          1528295.3399999985,
          404406.91999999987,
          278396.7,
          246634.9199999998,
          227617.38999999998,
          146542.83999999997
         ],
         "yaxis": "y"
        },
        {
         "alignmentgroup": "True",
         "customdata": [
          [
           0.06822932756865467
          ],
          [
           0.0293019894581066
          ],
          [
           0.020349311889486008
          ],
          [
           0.01660830112649259
          ]
         ],
         "hovertemplate": "years_donated=4<br>cohort_gift_pattern=%{x}<br>amount_yr0=%{y}<br>pct_of_amount_yr0=%{customdata[0]}<extra></extra>",
         "legendgroup": "4",
         "marker": {
          "color": "#ab63fa"
         },
         "name": "4",
         "offsetgroup": "4",
         "orientation": "v",
         "showlegend": true,
         "textposition": "auto",
         "type": "bar",
         "x": [
          "0,1,2,3,",
          "0,1,2,4,",
          "0,1,3,4,",
          "0,2,3,4,"
         ],
         "xaxis": "x",
         "y": [
          1124336.2,
          482861.08999999985,
          335331.86999999994,
          273684.57
         ],
         "yaxis": "y"
        }
       ],
       "layout": {
        "barmode": "relative",
        "legend": {
         "title": {
          "text": "years_donated"
         },
         "tracegroupgap": 0
        },
        "template": {
         "data": {
          "bar": [
           {
            "error_x": {
             "color": "#2a3f5f"
            },
            "error_y": {
             "color": "#2a3f5f"
            },
            "marker": {
             "line": {
              "color": "#E5ECF6",
              "width": 0.5
             }
            },
            "type": "bar"
           }
          ],
          "barpolar": [
           {
            "marker": {
             "line": {
              "color": "#E5ECF6",
              "width": 0.5
             }
            },
            "type": "barpolar"
           }
          ],
          "carpet": [
           {
            "aaxis": {
             "endlinecolor": "#2a3f5f",
             "gridcolor": "white",
             "linecolor": "white",
             "minorgridcolor": "white",
             "startlinecolor": "#2a3f5f"
            },
            "baxis": {
             "endlinecolor": "#2a3f5f",
             "gridcolor": "white",
             "linecolor": "white",
             "minorgridcolor": "white",
             "startlinecolor": "#2a3f5f"
            },
            "type": "carpet"
           }
          ],
          "choropleth": [
           {
            "colorbar": {
             "outlinewidth": 0,
             "ticks": ""
            },
            "type": "choropleth"
           }
          ],
          "contour": [
           {
            "colorbar": {
             "outlinewidth": 0,
             "ticks": ""
            },
            "colorscale": [
             [
              0,
              "#0d0887"
             ],
             [
              0.1111111111111111,
              "#46039f"
             ],
             [
              0.2222222222222222,
              "#7201a8"
             ],
             [
              0.3333333333333333,
              "#9c179e"
             ],
             [
              0.4444444444444444,
              "#bd3786"
             ],
             [
              0.5555555555555556,
              "#d8576b"
             ],
             [
              0.6666666666666666,
              "#ed7953"
             ],
             [
              0.7777777777777778,
              "#fb9f3a"
             ],
             [
              0.8888888888888888,
              "#fdca26"
             ],
             [
              1,
              "#f0f921"
             ]
            ],
            "type": "contour"
           }
          ],
          "contourcarpet": [
           {
            "colorbar": {
             "outlinewidth": 0,
             "ticks": ""
            },
            "type": "contourcarpet"
           }
          ],
          "heatmap": [
           {
            "colorbar": {
             "outlinewidth": 0,
             "ticks": ""
            },
            "colorscale": [
             [
              0,
              "#0d0887"
             ],
             [
              0.1111111111111111,
              "#46039f"
             ],
             [
              0.2222222222222222,
              "#7201a8"
             ],
             [
              0.3333333333333333,
              "#9c179e"
             ],
             [
              0.4444444444444444,
              "#bd3786"
             ],
             [
              0.5555555555555556,
              "#d8576b"
             ],
             [
              0.6666666666666666,
              "#ed7953"
             ],
             [
              0.7777777777777778,
              "#fb9f3a"
             ],
             [
              0.8888888888888888,
              "#fdca26"
             ],
             [
              1,
              "#f0f921"
             ]
            ],
            "type": "heatmap"
           }
          ],
          "heatmapgl": [
           {
            "colorbar": {
             "outlinewidth": 0,
             "ticks": ""
            },
            "colorscale": [
             [
              0,
              "#0d0887"
             ],
             [
              0.1111111111111111,
              "#46039f"
             ],
             [
              0.2222222222222222,
              "#7201a8"
             ],
             [
              0.3333333333333333,
              "#9c179e"
             ],
             [
              0.4444444444444444,
              "#bd3786"
             ],
             [
              0.5555555555555556,
              "#d8576b"
             ],
             [
              0.6666666666666666,
              "#ed7953"
             ],
             [
              0.7777777777777778,
              "#fb9f3a"
             ],
             [
              0.8888888888888888,
              "#fdca26"
             ],
             [
              1,
              "#f0f921"
             ]
            ],
            "type": "heatmapgl"
           }
          ],
          "histogram": [
           {
            "marker": {
             "colorbar": {
              "outlinewidth": 0,
              "ticks": ""
             }
            },
            "type": "histogram"
           }
          ],
          "histogram2d": [
           {
            "colorbar": {
             "outlinewidth": 0,
             "ticks": ""
            },
            "colorscale": [
             [
              0,
              "#0d0887"
             ],
             [
              0.1111111111111111,
              "#46039f"
             ],
             [
              0.2222222222222222,
              "#7201a8"
             ],
             [
              0.3333333333333333,
              "#9c179e"
             ],
             [
              0.4444444444444444,
              "#bd3786"
             ],
             [
              0.5555555555555556,
              "#d8576b"
             ],
             [
              0.6666666666666666,
              "#ed7953"
             ],
             [
              0.7777777777777778,
              "#fb9f3a"
             ],
             [
              0.8888888888888888,
              "#fdca26"
             ],
             [
              1,
              "#f0f921"
             ]
            ],
            "type": "histogram2d"
           }
          ],
          "histogram2dcontour": [
           {
            "colorbar": {
             "outlinewidth": 0,
             "ticks": ""
            },
            "colorscale": [
             [
              0,
              "#0d0887"
             ],
             [
              0.1111111111111111,
              "#46039f"
             ],
             [
              0.2222222222222222,
              "#7201a8"
             ],
             [
              0.3333333333333333,
              "#9c179e"
             ],
             [
              0.4444444444444444,
              "#bd3786"
             ],
             [
              0.5555555555555556,
              "#d8576b"
             ],
             [
              0.6666666666666666,
              "#ed7953"
             ],
             [
              0.7777777777777778,
              "#fb9f3a"
             ],
             [
              0.8888888888888888,
              "#fdca26"
             ],
             [
              1,
              "#f0f921"
             ]
            ],
            "type": "histogram2dcontour"
           }
          ],
          "mesh3d": [
           {
            "colorbar": {
             "outlinewidth": 0,
             "ticks": ""
            },
            "type": "mesh3d"
           }
          ],
          "parcoords": [
           {
            "line": {
             "colorbar": {
              "outlinewidth": 0,
              "ticks": ""
             }
            },
            "type": "parcoords"
           }
          ],
          "pie": [
           {
            "automargin": true,
            "type": "pie"
           }
          ],
          "scatter": [
           {
            "marker": {
             "colorbar": {
              "outlinewidth": 0,
              "ticks": ""
             }
            },
            "type": "scatter"
           }
          ],
          "scatter3d": [
           {
            "line": {
             "colorbar": {
              "outlinewidth": 0,
              "ticks": ""
             }
            },
            "marker": {
             "colorbar": {
              "outlinewidth": 0,
              "ticks": ""
             }
            },
            "type": "scatter3d"
           }
          ],
          "scattercarpet": [
           {
            "marker": {
             "colorbar": {
              "outlinewidth": 0,
              "ticks": ""
             }
            },
            "type": "scattercarpet"
           }
          ],
          "scattergeo": [
           {
            "marker": {
             "colorbar": {
              "outlinewidth": 0,
              "ticks": ""
             }
            },
            "type": "scattergeo"
           }
          ],
          "scattergl": [
           {
            "marker": {
             "colorbar": {
              "outlinewidth": 0,
              "ticks": ""
             }
            },
            "type": "scattergl"
           }
          ],
          "scattermapbox": [
           {
            "marker": {
             "colorbar": {
              "outlinewidth": 0,
              "ticks": ""
             }
            },
            "type": "scattermapbox"
           }
          ],
          "scatterpolar": [
           {
            "marker": {
             "colorbar": {
              "outlinewidth": 0,
              "ticks": ""
             }
            },
            "type": "scatterpolar"
           }
          ],
          "scatterpolargl": [
           {
            "marker": {
             "colorbar": {
              "outlinewidth": 0,
              "ticks": ""
             }
            },
            "type": "scatterpolargl"
           }
          ],
          "scatterternary": [
           {
            "marker": {
             "colorbar": {
              "outlinewidth": 0,
              "ticks": ""
             }
            },
            "type": "scatterternary"
           }
          ],
          "surface": [
           {
            "colorbar": {
             "outlinewidth": 0,
             "ticks": ""
            },
            "colorscale": [
             [
              0,
              "#0d0887"
             ],
             [
              0.1111111111111111,
              "#46039f"
             ],
             [
              0.2222222222222222,
              "#7201a8"
             ],
             [
              0.3333333333333333,
              "#9c179e"
             ],
             [
              0.4444444444444444,
              "#bd3786"
             ],
             [
              0.5555555555555556,
              "#d8576b"
             ],
             [
              0.6666666666666666,
              "#ed7953"
             ],
             [
              0.7777777777777778,
              "#fb9f3a"
             ],
             [
              0.8888888888888888,
              "#fdca26"
             ],
             [
              1,
              "#f0f921"
             ]
            ],
            "type": "surface"
           }
          ],
          "table": [
           {
            "cells": {
             "fill": {
              "color": "#EBF0F8"
             },
             "line": {
              "color": "white"
             }
            },
            "header": {
             "fill": {
              "color": "#C8D4E3"
             },
             "line": {
              "color": "white"
             }
            },
            "type": "table"
           }
          ]
         },
         "layout": {
          "annotationdefaults": {
           "arrowcolor": "#2a3f5f",
           "arrowhead": 0,
           "arrowwidth": 1
          },
          "coloraxis": {
           "colorbar": {
            "outlinewidth": 0,
            "ticks": ""
           }
          },
          "colorscale": {
           "diverging": [
            [
             0,
             "#8e0152"
            ],
            [
             0.1,
             "#c51b7d"
            ],
            [
             0.2,
             "#de77ae"
            ],
            [
             0.3,
             "#f1b6da"
            ],
            [
             0.4,
             "#fde0ef"
            ],
            [
             0.5,
             "#f7f7f7"
            ],
            [
             0.6,
             "#e6f5d0"
            ],
            [
             0.7,
             "#b8e186"
            ],
            [
             0.8,
             "#7fbc41"
            ],
            [
             0.9,
             "#4d9221"
            ],
            [
             1,
             "#276419"
            ]
           ],
           "sequential": [
            [
             0,
             "#0d0887"
            ],
            [
             0.1111111111111111,
             "#46039f"
            ],
            [
             0.2222222222222222,
             "#7201a8"
            ],
            [
             0.3333333333333333,
             "#9c179e"
            ],
            [
             0.4444444444444444,
             "#bd3786"
            ],
            [
             0.5555555555555556,
             "#d8576b"
            ],
            [
             0.6666666666666666,
             "#ed7953"
            ],
            [
             0.7777777777777778,
             "#fb9f3a"
            ],
            [
             0.8888888888888888,
             "#fdca26"
            ],
            [
             1,
             "#f0f921"
            ]
           ],
           "sequentialminus": [
            [
             0,
             "#0d0887"
            ],
            [
             0.1111111111111111,
             "#46039f"
            ],
            [
             0.2222222222222222,
             "#7201a8"
            ],
            [
             0.3333333333333333,
             "#9c179e"
            ],
            [
             0.4444444444444444,
             "#bd3786"
            ],
            [
             0.5555555555555556,
             "#d8576b"
            ],
            [
             0.6666666666666666,
             "#ed7953"
            ],
            [
             0.7777777777777778,
             "#fb9f3a"
            ],
            [
             0.8888888888888888,
             "#fdca26"
            ],
            [
             1,
             "#f0f921"
            ]
           ]
          },
          "colorway": [
           "#636efa",
           "#EF553B",
           "#00cc96",
           "#ab63fa",
           "#FFA15A",
           "#19d3f3",
           "#FF6692",
           "#B6E880",
           "#FF97FF",
           "#FECB52"
          ],
          "font": {
           "color": "#2a3f5f"
          },
          "geo": {
           "bgcolor": "white",
           "lakecolor": "white",
           "landcolor": "#E5ECF6",
           "showlakes": true,
           "showland": true,
           "subunitcolor": "white"
          },
          "hoverlabel": {
           "align": "left"
          },
          "hovermode": "closest",
          "mapbox": {
           "style": "light"
          },
          "paper_bgcolor": "white",
          "plot_bgcolor": "#E5ECF6",
          "polar": {
           "angularaxis": {
            "gridcolor": "white",
            "linecolor": "white",
            "ticks": ""
           },
           "bgcolor": "#E5ECF6",
           "radialaxis": {
            "gridcolor": "white",
            "linecolor": "white",
            "ticks": ""
           }
          },
          "scene": {
           "xaxis": {
            "backgroundcolor": "#E5ECF6",
            "gridcolor": "white",
            "gridwidth": 2,
            "linecolor": "white",
            "showbackground": true,
            "ticks": "",
            "zerolinecolor": "white"
           },
           "yaxis": {
            "backgroundcolor": "#E5ECF6",
            "gridcolor": "white",
            "gridwidth": 2,
            "linecolor": "white",
            "showbackground": true,
            "ticks": "",
            "zerolinecolor": "white"
           },
           "zaxis": {
            "backgroundcolor": "#E5ECF6",
            "gridcolor": "white",
            "gridwidth": 2,
            "linecolor": "white",
            "showbackground": true,
            "ticks": "",
            "zerolinecolor": "white"
           }
          },
          "shapedefaults": {
           "line": {
            "color": "#2a3f5f"
           }
          },
          "ternary": {
           "aaxis": {
            "gridcolor": "white",
            "linecolor": "white",
            "ticks": ""
           },
           "baxis": {
            "gridcolor": "white",
            "linecolor": "white",
            "ticks": ""
           },
           "bgcolor": "#E5ECF6",
           "caxis": {
            "gridcolor": "white",
            "linecolor": "white",
            "ticks": ""
           }
          },
          "title": {
           "x": 0.05
          },
          "xaxis": {
           "automargin": true,
           "gridcolor": "white",
           "linecolor": "white",
           "ticks": "",
           "title": {
            "standoff": 15
           },
           "zerolinecolor": "white",
           "zerolinewidth": 2
          },
          "yaxis": {
           "automargin": true,
           "gridcolor": "white",
           "linecolor": "white",
           "ticks": "",
           "title": {
            "standoff": 15
           },
           "zerolinecolor": "white",
           "zerolinewidth": 2
          }
         }
        },
        "title": {
         "text": "Cohort 13: First Year Donations by Repeat Donors"
        },
        "xaxis": {
         "anchor": "y",
         "domain": [
          0,
          1
         ],
         "title": {
          "text": "cohort_gift_pattern"
         },
         "type": "category"
        },
        "yaxis": {
         "anchor": "x",
         "domain": [
          0,
          1
         ],
         "title": {
          "text": "amount_yr0"
         }
        }
       }
      },
      "text/html": [
       "<div>\n",
       "        \n",
       "        \n",
       "            <div id=\"40dc439e-b412-47c7-aa46-b514216e4ecd\" class=\"plotly-graph-div\" style=\"height:525px; width:100%;\"></div>\n",
       "            <script type=\"text/javascript\">\n",
       "                require([\"plotly\"], function(Plotly) {\n",
       "                    window.PLOTLYENV=window.PLOTLYENV || {};\n",
       "                    \n",
       "                if (document.getElementById(\"40dc439e-b412-47c7-aa46-b514216e4ecd\")) {\n",
       "                    Plotly.newPlot(\n",
       "                        '40dc439e-b412-47c7-aa46-b514216e4ecd',\n",
       "                        [{\"alignmentgroup\": \"True\", \"customdata\": [[0.31614395284503904]], \"hovertemplate\": \"years_donated=5<br>cohort_gift_pattern=%{x}<br>amount_yr0=%{y}<br>pct_of_amount_yr0=%{customdata[0]}<extra></extra>\", \"legendgroup\": \"5\", \"marker\": {\"color\": \"#636efa\"}, \"name\": \"5\", \"offsetgroup\": \"5\", \"orientation\": \"v\", \"showlegend\": true, \"textposition\": \"auto\", \"type\": \"bar\", \"x\": [\"0,1,2,3,4,\"], \"xaxis\": \"x\", \"y\": [5209667.210000017], \"yaxis\": \"y\"}, {\"alignmentgroup\": \"True\", \"customdata\": [[0.2218541066207388], [0.099012691094693], [0.032674569466869835], [0.023974811686595404]], \"hovertemplate\": \"years_donated=2<br>cohort_gift_pattern=%{x}<br>amount_yr0=%{y}<br>pct_of_amount_yr0=%{customdata[0]}<extra></extra>\", \"legendgroup\": \"2\", \"marker\": {\"color\": \"#EF553B\"}, \"name\": \"2\", \"offsetgroup\": \"2\", \"orientation\": \"v\", \"showlegend\": true, \"textposition\": \"auto\", \"type\": \"bar\", \"x\": [\"0,1,\", \"0,2,\", \"0,3,\", \"0,4,\"], \"xaxis\": \"x\", \"y\": [3655885.410000013, 1631608.529999998, 538437.0999999997, 395075.69], \"yaxis\": \"y\"}, {\"alignmentgroup\": \"True\", \"customdata\": [[0.09274322340106843], [0.024541068957586454], [0.016894252482782715], [0.014966817528910771], [0.013812755884434052], [0.008892819988541637]], \"hovertemplate\": \"years_donated=3<br>cohort_gift_pattern=%{x}<br>amount_yr0=%{y}<br>pct_of_amount_yr0=%{customdata[0]}<extra></extra>\", \"legendgroup\": \"3\", \"marker\": {\"color\": \"#00cc96\"}, \"name\": \"3\", \"offsetgroup\": \"3\", \"orientation\": \"v\", \"showlegend\": true, \"textposition\": \"auto\", \"type\": \"bar\", \"x\": [\"0,1,2,\", \"0,1,3,\", \"0,1,4,\", \"0,2,3,\", \"0,3,4\", \"0,2,4,\"], \"xaxis\": \"x\", \"y\": [1528295.3399999985, 404406.91999999987, 278396.7, 246634.9199999998, 227617.38999999998, 146542.83999999997], \"yaxis\": \"y\"}, {\"alignmentgroup\": \"True\", \"customdata\": [[0.06822932756865467], [0.0293019894581066], [0.020349311889486008], [0.01660830112649259]], \"hovertemplate\": \"years_donated=4<br>cohort_gift_pattern=%{x}<br>amount_yr0=%{y}<br>pct_of_amount_yr0=%{customdata[0]}<extra></extra>\", \"legendgroup\": \"4\", \"marker\": {\"color\": \"#ab63fa\"}, \"name\": \"4\", \"offsetgroup\": \"4\", \"orientation\": \"v\", \"showlegend\": true, \"textposition\": \"auto\", \"type\": \"bar\", \"x\": [\"0,1,2,3,\", \"0,1,2,4,\", \"0,1,3,4,\", \"0,2,3,4,\"], \"xaxis\": \"x\", \"y\": [1124336.2, 482861.08999999985, 335331.86999999994, 273684.57], \"yaxis\": \"y\"}],\n",
       "                        {\"barmode\": \"relative\", \"legend\": {\"title\": {\"text\": \"years_donated\"}, \"tracegroupgap\": 0}, \"template\": {\"data\": {\"bar\": [{\"error_x\": {\"color\": \"#2a3f5f\"}, \"error_y\": {\"color\": \"#2a3f5f\"}, \"marker\": {\"line\": {\"color\": \"#E5ECF6\", \"width\": 0.5}}, \"type\": \"bar\"}], \"barpolar\": [{\"marker\": {\"line\": {\"color\": \"#E5ECF6\", \"width\": 0.5}}, \"type\": \"barpolar\"}], \"carpet\": [{\"aaxis\": {\"endlinecolor\": \"#2a3f5f\", \"gridcolor\": \"white\", \"linecolor\": \"white\", \"minorgridcolor\": \"white\", \"startlinecolor\": \"#2a3f5f\"}, \"baxis\": {\"endlinecolor\": \"#2a3f5f\", \"gridcolor\": \"white\", \"linecolor\": \"white\", \"minorgridcolor\": \"white\", \"startlinecolor\": \"#2a3f5f\"}, \"type\": \"carpet\"}], \"choropleth\": [{\"colorbar\": {\"outlinewidth\": 0, \"ticks\": \"\"}, \"type\": \"choropleth\"}], \"contour\": [{\"colorbar\": {\"outlinewidth\": 0, \"ticks\": \"\"}, \"colorscale\": [[0.0, \"#0d0887\"], [0.1111111111111111, \"#46039f\"], [0.2222222222222222, \"#7201a8\"], [0.3333333333333333, \"#9c179e\"], [0.4444444444444444, \"#bd3786\"], [0.5555555555555556, \"#d8576b\"], [0.6666666666666666, \"#ed7953\"], [0.7777777777777778, \"#fb9f3a\"], [0.8888888888888888, \"#fdca26\"], [1.0, \"#f0f921\"]], \"type\": \"contour\"}], \"contourcarpet\": [{\"colorbar\": {\"outlinewidth\": 0, \"ticks\": \"\"}, \"type\": \"contourcarpet\"}], \"heatmap\": [{\"colorbar\": {\"outlinewidth\": 0, \"ticks\": \"\"}, \"colorscale\": [[0.0, \"#0d0887\"], [0.1111111111111111, \"#46039f\"], [0.2222222222222222, \"#7201a8\"], [0.3333333333333333, \"#9c179e\"], [0.4444444444444444, \"#bd3786\"], [0.5555555555555556, \"#d8576b\"], [0.6666666666666666, \"#ed7953\"], [0.7777777777777778, \"#fb9f3a\"], [0.8888888888888888, \"#fdca26\"], [1.0, \"#f0f921\"]], \"type\": \"heatmap\"}], \"heatmapgl\": [{\"colorbar\": {\"outlinewidth\": 0, \"ticks\": \"\"}, \"colorscale\": [[0.0, \"#0d0887\"], [0.1111111111111111, \"#46039f\"], [0.2222222222222222, \"#7201a8\"], [0.3333333333333333, \"#9c179e\"], [0.4444444444444444, \"#bd3786\"], [0.5555555555555556, \"#d8576b\"], [0.6666666666666666, \"#ed7953\"], [0.7777777777777778, \"#fb9f3a\"], [0.8888888888888888, \"#fdca26\"], [1.0, \"#f0f921\"]], \"type\": \"heatmapgl\"}], \"histogram\": [{\"marker\": {\"colorbar\": {\"outlinewidth\": 0, \"ticks\": \"\"}}, \"type\": \"histogram\"}], \"histogram2d\": [{\"colorbar\": {\"outlinewidth\": 0, \"ticks\": \"\"}, \"colorscale\": [[0.0, \"#0d0887\"], [0.1111111111111111, \"#46039f\"], [0.2222222222222222, \"#7201a8\"], [0.3333333333333333, \"#9c179e\"], [0.4444444444444444, \"#bd3786\"], [0.5555555555555556, \"#d8576b\"], [0.6666666666666666, \"#ed7953\"], [0.7777777777777778, \"#fb9f3a\"], [0.8888888888888888, \"#fdca26\"], [1.0, \"#f0f921\"]], \"type\": \"histogram2d\"}], \"histogram2dcontour\": [{\"colorbar\": {\"outlinewidth\": 0, \"ticks\": \"\"}, \"colorscale\": [[0.0, \"#0d0887\"], [0.1111111111111111, \"#46039f\"], [0.2222222222222222, \"#7201a8\"], [0.3333333333333333, \"#9c179e\"], [0.4444444444444444, \"#bd3786\"], [0.5555555555555556, \"#d8576b\"], [0.6666666666666666, \"#ed7953\"], [0.7777777777777778, \"#fb9f3a\"], [0.8888888888888888, \"#fdca26\"], [1.0, \"#f0f921\"]], \"type\": \"histogram2dcontour\"}], \"mesh3d\": [{\"colorbar\": {\"outlinewidth\": 0, \"ticks\": \"\"}, \"type\": \"mesh3d\"}], \"parcoords\": [{\"line\": {\"colorbar\": {\"outlinewidth\": 0, \"ticks\": \"\"}}, \"type\": \"parcoords\"}], \"pie\": [{\"automargin\": true, \"type\": \"pie\"}], \"scatter\": [{\"marker\": {\"colorbar\": {\"outlinewidth\": 0, \"ticks\": \"\"}}, \"type\": \"scatter\"}], \"scatter3d\": [{\"line\": {\"colorbar\": {\"outlinewidth\": 0, \"ticks\": \"\"}}, \"marker\": {\"colorbar\": {\"outlinewidth\": 0, \"ticks\": \"\"}}, \"type\": \"scatter3d\"}], \"scattercarpet\": [{\"marker\": {\"colorbar\": {\"outlinewidth\": 0, \"ticks\": \"\"}}, \"type\": \"scattercarpet\"}], \"scattergeo\": [{\"marker\": {\"colorbar\": {\"outlinewidth\": 0, \"ticks\": \"\"}}, \"type\": \"scattergeo\"}], \"scattergl\": [{\"marker\": {\"colorbar\": {\"outlinewidth\": 0, \"ticks\": \"\"}}, \"type\": \"scattergl\"}], \"scattermapbox\": [{\"marker\": {\"colorbar\": {\"outlinewidth\": 0, \"ticks\": \"\"}}, \"type\": \"scattermapbox\"}], \"scatterpolar\": [{\"marker\": {\"colorbar\": {\"outlinewidth\": 0, \"ticks\": \"\"}}, \"type\": \"scatterpolar\"}], \"scatterpolargl\": [{\"marker\": {\"colorbar\": {\"outlinewidth\": 0, \"ticks\": \"\"}}, \"type\": \"scatterpolargl\"}], \"scatterternary\": [{\"marker\": {\"colorbar\": {\"outlinewidth\": 0, \"ticks\": \"\"}}, \"type\": \"scatterternary\"}], \"surface\": [{\"colorbar\": {\"outlinewidth\": 0, \"ticks\": \"\"}, \"colorscale\": [[0.0, \"#0d0887\"], [0.1111111111111111, \"#46039f\"], [0.2222222222222222, \"#7201a8\"], [0.3333333333333333, \"#9c179e\"], [0.4444444444444444, \"#bd3786\"], [0.5555555555555556, \"#d8576b\"], [0.6666666666666666, \"#ed7953\"], [0.7777777777777778, \"#fb9f3a\"], [0.8888888888888888, \"#fdca26\"], [1.0, \"#f0f921\"]], \"type\": \"surface\"}], \"table\": [{\"cells\": {\"fill\": {\"color\": \"#EBF0F8\"}, \"line\": {\"color\": \"white\"}}, \"header\": {\"fill\": {\"color\": \"#C8D4E3\"}, \"line\": {\"color\": \"white\"}}, \"type\": \"table\"}]}, \"layout\": {\"annotationdefaults\": {\"arrowcolor\": \"#2a3f5f\", \"arrowhead\": 0, \"arrowwidth\": 1}, \"coloraxis\": {\"colorbar\": {\"outlinewidth\": 0, \"ticks\": \"\"}}, \"colorscale\": {\"diverging\": [[0, \"#8e0152\"], [0.1, \"#c51b7d\"], [0.2, \"#de77ae\"], [0.3, \"#f1b6da\"], [0.4, \"#fde0ef\"], [0.5, \"#f7f7f7\"], [0.6, \"#e6f5d0\"], [0.7, \"#b8e186\"], [0.8, \"#7fbc41\"], [0.9, \"#4d9221\"], [1, \"#276419\"]], \"sequential\": [[0.0, \"#0d0887\"], [0.1111111111111111, \"#46039f\"], [0.2222222222222222, \"#7201a8\"], [0.3333333333333333, \"#9c179e\"], [0.4444444444444444, \"#bd3786\"], [0.5555555555555556, \"#d8576b\"], [0.6666666666666666, \"#ed7953\"], [0.7777777777777778, \"#fb9f3a\"], [0.8888888888888888, \"#fdca26\"], [1.0, \"#f0f921\"]], \"sequentialminus\": [[0.0, \"#0d0887\"], [0.1111111111111111, \"#46039f\"], [0.2222222222222222, \"#7201a8\"], [0.3333333333333333, \"#9c179e\"], [0.4444444444444444, \"#bd3786\"], [0.5555555555555556, \"#d8576b\"], [0.6666666666666666, \"#ed7953\"], [0.7777777777777778, \"#fb9f3a\"], [0.8888888888888888, \"#fdca26\"], [1.0, \"#f0f921\"]]}, \"colorway\": [\"#636efa\", \"#EF553B\", \"#00cc96\", \"#ab63fa\", \"#FFA15A\", \"#19d3f3\", \"#FF6692\", \"#B6E880\", \"#FF97FF\", \"#FECB52\"], \"font\": {\"color\": \"#2a3f5f\"}, \"geo\": {\"bgcolor\": \"white\", \"lakecolor\": \"white\", \"landcolor\": \"#E5ECF6\", \"showlakes\": true, \"showland\": true, \"subunitcolor\": \"white\"}, \"hoverlabel\": {\"align\": \"left\"}, \"hovermode\": \"closest\", \"mapbox\": {\"style\": \"light\"}, \"paper_bgcolor\": \"white\", \"plot_bgcolor\": \"#E5ECF6\", \"polar\": {\"angularaxis\": {\"gridcolor\": \"white\", \"linecolor\": \"white\", \"ticks\": \"\"}, \"bgcolor\": \"#E5ECF6\", \"radialaxis\": {\"gridcolor\": \"white\", \"linecolor\": \"white\", \"ticks\": \"\"}}, \"scene\": {\"xaxis\": {\"backgroundcolor\": \"#E5ECF6\", \"gridcolor\": \"white\", \"gridwidth\": 2, \"linecolor\": \"white\", \"showbackground\": true, \"ticks\": \"\", \"zerolinecolor\": \"white\"}, \"yaxis\": {\"backgroundcolor\": \"#E5ECF6\", \"gridcolor\": \"white\", \"gridwidth\": 2, \"linecolor\": \"white\", \"showbackground\": true, \"ticks\": \"\", \"zerolinecolor\": \"white\"}, \"zaxis\": {\"backgroundcolor\": \"#E5ECF6\", \"gridcolor\": \"white\", \"gridwidth\": 2, \"linecolor\": \"white\", \"showbackground\": true, \"ticks\": \"\", \"zerolinecolor\": \"white\"}}, \"shapedefaults\": {\"line\": {\"color\": \"#2a3f5f\"}}, \"ternary\": {\"aaxis\": {\"gridcolor\": \"white\", \"linecolor\": \"white\", \"ticks\": \"\"}, \"baxis\": {\"gridcolor\": \"white\", \"linecolor\": \"white\", \"ticks\": \"\"}, \"bgcolor\": \"#E5ECF6\", \"caxis\": {\"gridcolor\": \"white\", \"linecolor\": \"white\", \"ticks\": \"\"}}, \"title\": {\"x\": 0.05}, \"xaxis\": {\"automargin\": true, \"gridcolor\": \"white\", \"linecolor\": \"white\", \"ticks\": \"\", \"title\": {\"standoff\": 15}, \"zerolinecolor\": \"white\", \"zerolinewidth\": 2}, \"yaxis\": {\"automargin\": true, \"gridcolor\": \"white\", \"linecolor\": \"white\", \"ticks\": \"\", \"title\": {\"standoff\": 15}, \"zerolinecolor\": \"white\", \"zerolinewidth\": 2}}}, \"title\": {\"text\": \"Cohort 13: First Year Donations by Repeat Donors\"}, \"xaxis\": {\"anchor\": \"y\", \"domain\": [0.0, 1.0], \"title\": {\"text\": \"cohort_gift_pattern\"}, \"type\": \"category\"}, \"yaxis\": {\"anchor\": \"x\", \"domain\": [0.0, 1.0], \"title\": {\"text\": \"amount_yr0\"}}},\n",
       "                        {\"responsive\": true}\n",
       "                    ).then(function(){\n",
       "                            \n",
       "var gd = document.getElementById('40dc439e-b412-47c7-aa46-b514216e4ecd');\n",
       "var x = new MutationObserver(function (mutations, observer) {{\n",
       "        var display = window.getComputedStyle(gd).display;\n",
       "        if (!display || display === 'none') {{\n",
       "            console.log([gd, 'removed!']);\n",
       "            Plotly.purge(gd);\n",
       "            observer.disconnect();\n",
       "        }}\n",
       "}});\n",
       "\n",
       "// Listen for the removal of the full notebook cells\n",
       "var notebookContainer = gd.closest('#notebook-container');\n",
       "if (notebookContainer) {{\n",
       "    x.observe(notebookContainer, {childList: true});\n",
       "}}\n",
       "\n",
       "// Listen for the clearing of the current output cell\n",
       "var outputEl = gd.closest('.output');\n",
       "if (outputEl) {{\n",
       "    x.observe(outputEl, {childList: true});\n",
       "}}\n",
       "\n",
       "                        })\n",
       "                };\n",
       "                });\n",
       "            </script>\n",
       "        </div>"
      ]
     },
     "metadata": {},
     "output_type": "display_data"
    }
   ],
   "source": [
    "fig = px.bar(c13_yr0, x=\"cohort_gift_pattern\", y=\"amount_yr0\", color=\"years_donated\",\n",
    "            title=\"Cohort 13: First Year Donations by Repeat Donors\", hover_data=['pct_of_amount_yr0'])\n",
    " #barmode='group', labels={'index':'year', 'y':'amount ($)'}, \n",
    "fig.update_xaxes(type='category')\n",
    "fig.show()"
   ]
  },
  {
   "cell_type": "code",
   "execution_count": 225,
   "metadata": {},
   "outputs": [
    {
     "data": {
      "application/vnd.plotly.v1+json": {
       "config": {
        "plotlyServerURL": "https://plot.ly"
       },
       "data": [
        {
         "alignmentgroup": "True",
         "customdata": [
          [
           0.31614395284503904
          ]
         ],
         "hovertemplate": "perc_years_donated=1.0<br>cohort_gift_pattern=%{x}<br>amount_yr0=%{y}<br>pct_of_amount_yr0=%{customdata[0]}<extra></extra>",
         "legendgroup": "1.0",
         "marker": {
          "color": "#636efa"
         },
         "name": "1.0",
         "offsetgroup": "1.0",
         "orientation": "v",
         "showlegend": true,
         "textposition": "auto",
         "type": "bar",
         "x": [
          "0,1,2,3,4,"
         ],
         "xaxis": "x",
         "y": [
          5209667.210000017
         ],
         "yaxis": "y"
        },
        {
         "alignmentgroup": "True",
         "customdata": [
          [
           0.2218541066207388
          ],
          [
           0.099012691094693
          ],
          [
           0.032674569466869835
          ],
          [
           0.023974811686595404
          ]
         ],
         "hovertemplate": "perc_years_donated=0.4<br>cohort_gift_pattern=%{x}<br>amount_yr0=%{y}<br>pct_of_amount_yr0=%{customdata[0]}<extra></extra>",
         "legendgroup": "0.4",
         "marker": {
          "color": "#EF553B"
         },
         "name": "0.4",
         "offsetgroup": "0.4",
         "orientation": "v",
         "showlegend": true,
         "textposition": "auto",
         "type": "bar",
         "x": [
          "0,1,",
          "0,2,",
          "0,3,",
          "0,4,"
         ],
         "xaxis": "x",
         "y": [
          3655885.410000013,
          1631608.529999998,
          538437.0999999997,
          395075.69
         ],
         "yaxis": "y"
        },
        {
         "alignmentgroup": "True",
         "customdata": [
          [
           0.09274322340106843
          ],
          [
           0.024541068957586454
          ],
          [
           0.016894252482782715
          ],
          [
           0.014966817528910771
          ],
          [
           0.013812755884434052
          ],
          [
           0.008892819988541637
          ]
         ],
         "hovertemplate": "perc_years_donated=0.6<br>cohort_gift_pattern=%{x}<br>amount_yr0=%{y}<br>pct_of_amount_yr0=%{customdata[0]}<extra></extra>",
         "legendgroup": "0.6",
         "marker": {
          "color": "#00cc96"
         },
         "name": "0.6",
         "offsetgroup": "0.6",
         "orientation": "v",
         "showlegend": true,
         "textposition": "auto",
         "type": "bar",
         "x": [
          "0,1,2,",
          "0,1,3,",
          "0,1,4,",
          "0,2,3,",
          "0,3,4",
          "0,2,4,"
         ],
         "xaxis": "x",
         "y": [
          1528295.3399999985,
          404406.91999999987,
          278396.7,
          246634.9199999998,
          227617.38999999998,
          146542.83999999997
         ],
         "yaxis": "y"
        },
        {
         "alignmentgroup": "True",
         "customdata": [
          [
           0.06822932756865467
          ],
          [
           0.0293019894581066
          ],
          [
           0.020349311889486008
          ],
          [
           0.01660830112649259
          ]
         ],
         "hovertemplate": "perc_years_donated=0.8<br>cohort_gift_pattern=%{x}<br>amount_yr0=%{y}<br>pct_of_amount_yr0=%{customdata[0]}<extra></extra>",
         "legendgroup": "0.8",
         "marker": {
          "color": "#ab63fa"
         },
         "name": "0.8",
         "offsetgroup": "0.8",
         "orientation": "v",
         "showlegend": true,
         "textposition": "auto",
         "type": "bar",
         "x": [
          "0,1,2,3,",
          "0,1,2,4,",
          "0,1,3,4,",
          "0,2,3,4,"
         ],
         "xaxis": "x",
         "y": [
          1124336.2,
          482861.08999999985,
          335331.86999999994,
          273684.57
         ],
         "yaxis": "y"
        }
       ],
       "layout": {
        "barmode": "relative",
        "legend": {
         "title": {
          "text": "perc_years_donated"
         },
         "tracegroupgap": 0
        },
        "template": {
         "data": {
          "bar": [
           {
            "error_x": {
             "color": "#2a3f5f"
            },
            "error_y": {
             "color": "#2a3f5f"
            },
            "marker": {
             "line": {
              "color": "#E5ECF6",
              "width": 0.5
             }
            },
            "type": "bar"
           }
          ],
          "barpolar": [
           {
            "marker": {
             "line": {
              "color": "#E5ECF6",
              "width": 0.5
             }
            },
            "type": "barpolar"
           }
          ],
          "carpet": [
           {
            "aaxis": {
             "endlinecolor": "#2a3f5f",
             "gridcolor": "white",
             "linecolor": "white",
             "minorgridcolor": "white",
             "startlinecolor": "#2a3f5f"
            },
            "baxis": {
             "endlinecolor": "#2a3f5f",
             "gridcolor": "white",
             "linecolor": "white",
             "minorgridcolor": "white",
             "startlinecolor": "#2a3f5f"
            },
            "type": "carpet"
           }
          ],
          "choropleth": [
           {
            "colorbar": {
             "outlinewidth": 0,
             "ticks": ""
            },
            "type": "choropleth"
           }
          ],
          "contour": [
           {
            "colorbar": {
             "outlinewidth": 0,
             "ticks": ""
            },
            "colorscale": [
             [
              0,
              "#0d0887"
             ],
             [
              0.1111111111111111,
              "#46039f"
             ],
             [
              0.2222222222222222,
              "#7201a8"
             ],
             [
              0.3333333333333333,
              "#9c179e"
             ],
             [
              0.4444444444444444,
              "#bd3786"
             ],
             [
              0.5555555555555556,
              "#d8576b"
             ],
             [
              0.6666666666666666,
              "#ed7953"
             ],
             [
              0.7777777777777778,
              "#fb9f3a"
             ],
             [
              0.8888888888888888,
              "#fdca26"
             ],
             [
              1,
              "#f0f921"
             ]
            ],
            "type": "contour"
           }
          ],
          "contourcarpet": [
           {
            "colorbar": {
             "outlinewidth": 0,
             "ticks": ""
            },
            "type": "contourcarpet"
           }
          ],
          "heatmap": [
           {
            "colorbar": {
             "outlinewidth": 0,
             "ticks": ""
            },
            "colorscale": [
             [
              0,
              "#0d0887"
             ],
             [
              0.1111111111111111,
              "#46039f"
             ],
             [
              0.2222222222222222,
              "#7201a8"
             ],
             [
              0.3333333333333333,
              "#9c179e"
             ],
             [
              0.4444444444444444,
              "#bd3786"
             ],
             [
              0.5555555555555556,
              "#d8576b"
             ],
             [
              0.6666666666666666,
              "#ed7953"
             ],
             [
              0.7777777777777778,
              "#fb9f3a"
             ],
             [
              0.8888888888888888,
              "#fdca26"
             ],
             [
              1,
              "#f0f921"
             ]
            ],
            "type": "heatmap"
           }
          ],
          "heatmapgl": [
           {
            "colorbar": {
             "outlinewidth": 0,
             "ticks": ""
            },
            "colorscale": [
             [
              0,
              "#0d0887"
             ],
             [
              0.1111111111111111,
              "#46039f"
             ],
             [
              0.2222222222222222,
              "#7201a8"
             ],
             [
              0.3333333333333333,
              "#9c179e"
             ],
             [
              0.4444444444444444,
              "#bd3786"
             ],
             [
              0.5555555555555556,
              "#d8576b"
             ],
             [
              0.6666666666666666,
              "#ed7953"
             ],
             [
              0.7777777777777778,
              "#fb9f3a"
             ],
             [
              0.8888888888888888,
              "#fdca26"
             ],
             [
              1,
              "#f0f921"
             ]
            ],
            "type": "heatmapgl"
           }
          ],
          "histogram": [
           {
            "marker": {
             "colorbar": {
              "outlinewidth": 0,
              "ticks": ""
             }
            },
            "type": "histogram"
           }
          ],
          "histogram2d": [
           {
            "colorbar": {
             "outlinewidth": 0,
             "ticks": ""
            },
            "colorscale": [
             [
              0,
              "#0d0887"
             ],
             [
              0.1111111111111111,
              "#46039f"
             ],
             [
              0.2222222222222222,
              "#7201a8"
             ],
             [
              0.3333333333333333,
              "#9c179e"
             ],
             [
              0.4444444444444444,
              "#bd3786"
             ],
             [
              0.5555555555555556,
              "#d8576b"
             ],
             [
              0.6666666666666666,
              "#ed7953"
             ],
             [
              0.7777777777777778,
              "#fb9f3a"
             ],
             [
              0.8888888888888888,
              "#fdca26"
             ],
             [
              1,
              "#f0f921"
             ]
            ],
            "type": "histogram2d"
           }
          ],
          "histogram2dcontour": [
           {
            "colorbar": {
             "outlinewidth": 0,
             "ticks": ""
            },
            "colorscale": [
             [
              0,
              "#0d0887"
             ],
             [
              0.1111111111111111,
              "#46039f"
             ],
             [
              0.2222222222222222,
              "#7201a8"
             ],
             [
              0.3333333333333333,
              "#9c179e"
             ],
             [
              0.4444444444444444,
              "#bd3786"
             ],
             [
              0.5555555555555556,
              "#d8576b"
             ],
             [
              0.6666666666666666,
              "#ed7953"
             ],
             [
              0.7777777777777778,
              "#fb9f3a"
             ],
             [
              0.8888888888888888,
              "#fdca26"
             ],
             [
              1,
              "#f0f921"
             ]
            ],
            "type": "histogram2dcontour"
           }
          ],
          "mesh3d": [
           {
            "colorbar": {
             "outlinewidth": 0,
             "ticks": ""
            },
            "type": "mesh3d"
           }
          ],
          "parcoords": [
           {
            "line": {
             "colorbar": {
              "outlinewidth": 0,
              "ticks": ""
             }
            },
            "type": "parcoords"
           }
          ],
          "pie": [
           {
            "automargin": true,
            "type": "pie"
           }
          ],
          "scatter": [
           {
            "marker": {
             "colorbar": {
              "outlinewidth": 0,
              "ticks": ""
             }
            },
            "type": "scatter"
           }
          ],
          "scatter3d": [
           {
            "line": {
             "colorbar": {
              "outlinewidth": 0,
              "ticks": ""
             }
            },
            "marker": {
             "colorbar": {
              "outlinewidth": 0,
              "ticks": ""
             }
            },
            "type": "scatter3d"
           }
          ],
          "scattercarpet": [
           {
            "marker": {
             "colorbar": {
              "outlinewidth": 0,
              "ticks": ""
             }
            },
            "type": "scattercarpet"
           }
          ],
          "scattergeo": [
           {
            "marker": {
             "colorbar": {
              "outlinewidth": 0,
              "ticks": ""
             }
            },
            "type": "scattergeo"
           }
          ],
          "scattergl": [
           {
            "marker": {
             "colorbar": {
              "outlinewidth": 0,
              "ticks": ""
             }
            },
            "type": "scattergl"
           }
          ],
          "scattermapbox": [
           {
            "marker": {
             "colorbar": {
              "outlinewidth": 0,
              "ticks": ""
             }
            },
            "type": "scattermapbox"
           }
          ],
          "scatterpolar": [
           {
            "marker": {
             "colorbar": {
              "outlinewidth": 0,
              "ticks": ""
             }
            },
            "type": "scatterpolar"
           }
          ],
          "scatterpolargl": [
           {
            "marker": {
             "colorbar": {
              "outlinewidth": 0,
              "ticks": ""
             }
            },
            "type": "scatterpolargl"
           }
          ],
          "scatterternary": [
           {
            "marker": {
             "colorbar": {
              "outlinewidth": 0,
              "ticks": ""
             }
            },
            "type": "scatterternary"
           }
          ],
          "surface": [
           {
            "colorbar": {
             "outlinewidth": 0,
             "ticks": ""
            },
            "colorscale": [
             [
              0,
              "#0d0887"
             ],
             [
              0.1111111111111111,
              "#46039f"
             ],
             [
              0.2222222222222222,
              "#7201a8"
             ],
             [
              0.3333333333333333,
              "#9c179e"
             ],
             [
              0.4444444444444444,
              "#bd3786"
             ],
             [
              0.5555555555555556,
              "#d8576b"
             ],
             [
              0.6666666666666666,
              "#ed7953"
             ],
             [
              0.7777777777777778,
              "#fb9f3a"
             ],
             [
              0.8888888888888888,
              "#fdca26"
             ],
             [
              1,
              "#f0f921"
             ]
            ],
            "type": "surface"
           }
          ],
          "table": [
           {
            "cells": {
             "fill": {
              "color": "#EBF0F8"
             },
             "line": {
              "color": "white"
             }
            },
            "header": {
             "fill": {
              "color": "#C8D4E3"
             },
             "line": {
              "color": "white"
             }
            },
            "type": "table"
           }
          ]
         },
         "layout": {
          "annotationdefaults": {
           "arrowcolor": "#2a3f5f",
           "arrowhead": 0,
           "arrowwidth": 1
          },
          "coloraxis": {
           "colorbar": {
            "outlinewidth": 0,
            "ticks": ""
           }
          },
          "colorscale": {
           "diverging": [
            [
             0,
             "#8e0152"
            ],
            [
             0.1,
             "#c51b7d"
            ],
            [
             0.2,
             "#de77ae"
            ],
            [
             0.3,
             "#f1b6da"
            ],
            [
             0.4,
             "#fde0ef"
            ],
            [
             0.5,
             "#f7f7f7"
            ],
            [
             0.6,
             "#e6f5d0"
            ],
            [
             0.7,
             "#b8e186"
            ],
            [
             0.8,
             "#7fbc41"
            ],
            [
             0.9,
             "#4d9221"
            ],
            [
             1,
             "#276419"
            ]
           ],
           "sequential": [
            [
             0,
             "#0d0887"
            ],
            [
             0.1111111111111111,
             "#46039f"
            ],
            [
             0.2222222222222222,
             "#7201a8"
            ],
            [
             0.3333333333333333,
             "#9c179e"
            ],
            [
             0.4444444444444444,
             "#bd3786"
            ],
            [
             0.5555555555555556,
             "#d8576b"
            ],
            [
             0.6666666666666666,
             "#ed7953"
            ],
            [
             0.7777777777777778,
             "#fb9f3a"
            ],
            [
             0.8888888888888888,
             "#fdca26"
            ],
            [
             1,
             "#f0f921"
            ]
           ],
           "sequentialminus": [
            [
             0,
             "#0d0887"
            ],
            [
             0.1111111111111111,
             "#46039f"
            ],
            [
             0.2222222222222222,
             "#7201a8"
            ],
            [
             0.3333333333333333,
             "#9c179e"
            ],
            [
             0.4444444444444444,
             "#bd3786"
            ],
            [
             0.5555555555555556,
             "#d8576b"
            ],
            [
             0.6666666666666666,
             "#ed7953"
            ],
            [
             0.7777777777777778,
             "#fb9f3a"
            ],
            [
             0.8888888888888888,
             "#fdca26"
            ],
            [
             1,
             "#f0f921"
            ]
           ]
          },
          "colorway": [
           "#636efa",
           "#EF553B",
           "#00cc96",
           "#ab63fa",
           "#FFA15A",
           "#19d3f3",
           "#FF6692",
           "#B6E880",
           "#FF97FF",
           "#FECB52"
          ],
          "font": {
           "color": "#2a3f5f"
          },
          "geo": {
           "bgcolor": "white",
           "lakecolor": "white",
           "landcolor": "#E5ECF6",
           "showlakes": true,
           "showland": true,
           "subunitcolor": "white"
          },
          "hoverlabel": {
           "align": "left"
          },
          "hovermode": "closest",
          "mapbox": {
           "style": "light"
          },
          "paper_bgcolor": "white",
          "plot_bgcolor": "#E5ECF6",
          "polar": {
           "angularaxis": {
            "gridcolor": "white",
            "linecolor": "white",
            "ticks": ""
           },
           "bgcolor": "#E5ECF6",
           "radialaxis": {
            "gridcolor": "white",
            "linecolor": "white",
            "ticks": ""
           }
          },
          "scene": {
           "xaxis": {
            "backgroundcolor": "#E5ECF6",
            "gridcolor": "white",
            "gridwidth": 2,
            "linecolor": "white",
            "showbackground": true,
            "ticks": "",
            "zerolinecolor": "white"
           },
           "yaxis": {
            "backgroundcolor": "#E5ECF6",
            "gridcolor": "white",
            "gridwidth": 2,
            "linecolor": "white",
            "showbackground": true,
            "ticks": "",
            "zerolinecolor": "white"
           },
           "zaxis": {
            "backgroundcolor": "#E5ECF6",
            "gridcolor": "white",
            "gridwidth": 2,
            "linecolor": "white",
            "showbackground": true,
            "ticks": "",
            "zerolinecolor": "white"
           }
          },
          "shapedefaults": {
           "line": {
            "color": "#2a3f5f"
           }
          },
          "ternary": {
           "aaxis": {
            "gridcolor": "white",
            "linecolor": "white",
            "ticks": ""
           },
           "baxis": {
            "gridcolor": "white",
            "linecolor": "white",
            "ticks": ""
           },
           "bgcolor": "#E5ECF6",
           "caxis": {
            "gridcolor": "white",
            "linecolor": "white",
            "ticks": ""
           }
          },
          "title": {
           "x": 0.05
          },
          "xaxis": {
           "automargin": true,
           "gridcolor": "white",
           "linecolor": "white",
           "ticks": "",
           "title": {
            "standoff": 15
           },
           "zerolinecolor": "white",
           "zerolinewidth": 2
          },
          "yaxis": {
           "automargin": true,
           "gridcolor": "white",
           "linecolor": "white",
           "ticks": "",
           "title": {
            "standoff": 15
           },
           "zerolinecolor": "white",
           "zerolinewidth": 2
          }
         }
        },
        "title": {
         "text": "Cohort 13: First Year Donations by Repeat Donors"
        },
        "xaxis": {
         "anchor": "y",
         "domain": [
          0,
          1
         ],
         "title": {
          "text": "cohort_gift_pattern"
         },
         "type": "category"
        },
        "yaxis": {
         "anchor": "x",
         "domain": [
          0,
          1
         ],
         "title": {
          "text": "amount_yr0"
         }
        }
       }
      },
      "text/html": [
       "<div>\n",
       "        \n",
       "        \n",
       "            <div id=\"e696c3c1-153d-47c2-a2c2-7bcd3359ec6a\" class=\"plotly-graph-div\" style=\"height:525px; width:100%;\"></div>\n",
       "            <script type=\"text/javascript\">\n",
       "                require([\"plotly\"], function(Plotly) {\n",
       "                    window.PLOTLYENV=window.PLOTLYENV || {};\n",
       "                    \n",
       "                if (document.getElementById(\"e696c3c1-153d-47c2-a2c2-7bcd3359ec6a\")) {\n",
       "                    Plotly.newPlot(\n",
       "                        'e696c3c1-153d-47c2-a2c2-7bcd3359ec6a',\n",
       "                        [{\"alignmentgroup\": \"True\", \"customdata\": [[0.31614395284503904]], \"hovertemplate\": \"perc_years_donated=1.0<br>cohort_gift_pattern=%{x}<br>amount_yr0=%{y}<br>pct_of_amount_yr0=%{customdata[0]}<extra></extra>\", \"legendgroup\": \"1.0\", \"marker\": {\"color\": \"#636efa\"}, \"name\": \"1.0\", \"offsetgroup\": \"1.0\", \"orientation\": \"v\", \"showlegend\": true, \"textposition\": \"auto\", \"type\": \"bar\", \"x\": [\"0,1,2,3,4,\"], \"xaxis\": \"x\", \"y\": [5209667.210000017], \"yaxis\": \"y\"}, {\"alignmentgroup\": \"True\", \"customdata\": [[0.2218541066207388], [0.099012691094693], [0.032674569466869835], [0.023974811686595404]], \"hovertemplate\": \"perc_years_donated=0.4<br>cohort_gift_pattern=%{x}<br>amount_yr0=%{y}<br>pct_of_amount_yr0=%{customdata[0]}<extra></extra>\", \"legendgroup\": \"0.4\", \"marker\": {\"color\": \"#EF553B\"}, \"name\": \"0.4\", \"offsetgroup\": \"0.4\", \"orientation\": \"v\", \"showlegend\": true, \"textposition\": \"auto\", \"type\": \"bar\", \"x\": [\"0,1,\", \"0,2,\", \"0,3,\", \"0,4,\"], \"xaxis\": \"x\", \"y\": [3655885.410000013, 1631608.529999998, 538437.0999999997, 395075.69], \"yaxis\": \"y\"}, {\"alignmentgroup\": \"True\", \"customdata\": [[0.09274322340106843], [0.024541068957586454], [0.016894252482782715], [0.014966817528910771], [0.013812755884434052], [0.008892819988541637]], \"hovertemplate\": \"perc_years_donated=0.6<br>cohort_gift_pattern=%{x}<br>amount_yr0=%{y}<br>pct_of_amount_yr0=%{customdata[0]}<extra></extra>\", \"legendgroup\": \"0.6\", \"marker\": {\"color\": \"#00cc96\"}, \"name\": \"0.6\", \"offsetgroup\": \"0.6\", \"orientation\": \"v\", \"showlegend\": true, \"textposition\": \"auto\", \"type\": \"bar\", \"x\": [\"0,1,2,\", \"0,1,3,\", \"0,1,4,\", \"0,2,3,\", \"0,3,4\", \"0,2,4,\"], \"xaxis\": \"x\", \"y\": [1528295.3399999985, 404406.91999999987, 278396.7, 246634.9199999998, 227617.38999999998, 146542.83999999997], \"yaxis\": \"y\"}, {\"alignmentgroup\": \"True\", \"customdata\": [[0.06822932756865467], [0.0293019894581066], [0.020349311889486008], [0.01660830112649259]], \"hovertemplate\": \"perc_years_donated=0.8<br>cohort_gift_pattern=%{x}<br>amount_yr0=%{y}<br>pct_of_amount_yr0=%{customdata[0]}<extra></extra>\", \"legendgroup\": \"0.8\", \"marker\": {\"color\": \"#ab63fa\"}, \"name\": \"0.8\", \"offsetgroup\": \"0.8\", \"orientation\": \"v\", \"showlegend\": true, \"textposition\": \"auto\", \"type\": \"bar\", \"x\": [\"0,1,2,3,\", \"0,1,2,4,\", \"0,1,3,4,\", \"0,2,3,4,\"], \"xaxis\": \"x\", \"y\": [1124336.2, 482861.08999999985, 335331.86999999994, 273684.57], \"yaxis\": \"y\"}],\n",
       "                        {\"barmode\": \"relative\", \"legend\": {\"title\": {\"text\": \"perc_years_donated\"}, \"tracegroupgap\": 0}, \"template\": {\"data\": {\"bar\": [{\"error_x\": {\"color\": \"#2a3f5f\"}, \"error_y\": {\"color\": \"#2a3f5f\"}, \"marker\": {\"line\": {\"color\": \"#E5ECF6\", \"width\": 0.5}}, \"type\": \"bar\"}], \"barpolar\": [{\"marker\": {\"line\": {\"color\": \"#E5ECF6\", \"width\": 0.5}}, \"type\": \"barpolar\"}], \"carpet\": [{\"aaxis\": {\"endlinecolor\": \"#2a3f5f\", \"gridcolor\": \"white\", \"linecolor\": \"white\", \"minorgridcolor\": \"white\", \"startlinecolor\": \"#2a3f5f\"}, \"baxis\": {\"endlinecolor\": \"#2a3f5f\", \"gridcolor\": \"white\", \"linecolor\": \"white\", \"minorgridcolor\": \"white\", \"startlinecolor\": \"#2a3f5f\"}, \"type\": \"carpet\"}], \"choropleth\": [{\"colorbar\": {\"outlinewidth\": 0, \"ticks\": \"\"}, \"type\": \"choropleth\"}], \"contour\": [{\"colorbar\": {\"outlinewidth\": 0, \"ticks\": \"\"}, \"colorscale\": [[0.0, \"#0d0887\"], [0.1111111111111111, \"#46039f\"], [0.2222222222222222, \"#7201a8\"], [0.3333333333333333, \"#9c179e\"], [0.4444444444444444, \"#bd3786\"], [0.5555555555555556, \"#d8576b\"], [0.6666666666666666, \"#ed7953\"], [0.7777777777777778, \"#fb9f3a\"], [0.8888888888888888, \"#fdca26\"], [1.0, \"#f0f921\"]], \"type\": \"contour\"}], \"contourcarpet\": [{\"colorbar\": {\"outlinewidth\": 0, \"ticks\": \"\"}, \"type\": \"contourcarpet\"}], \"heatmap\": [{\"colorbar\": {\"outlinewidth\": 0, \"ticks\": \"\"}, \"colorscale\": [[0.0, \"#0d0887\"], [0.1111111111111111, \"#46039f\"], [0.2222222222222222, \"#7201a8\"], [0.3333333333333333, \"#9c179e\"], [0.4444444444444444, \"#bd3786\"], [0.5555555555555556, \"#d8576b\"], [0.6666666666666666, \"#ed7953\"], [0.7777777777777778, \"#fb9f3a\"], [0.8888888888888888, \"#fdca26\"], [1.0, \"#f0f921\"]], \"type\": \"heatmap\"}], \"heatmapgl\": [{\"colorbar\": {\"outlinewidth\": 0, \"ticks\": \"\"}, \"colorscale\": [[0.0, \"#0d0887\"], [0.1111111111111111, \"#46039f\"], [0.2222222222222222, \"#7201a8\"], [0.3333333333333333, \"#9c179e\"], [0.4444444444444444, \"#bd3786\"], [0.5555555555555556, \"#d8576b\"], [0.6666666666666666, \"#ed7953\"], [0.7777777777777778, \"#fb9f3a\"], [0.8888888888888888, \"#fdca26\"], [1.0, \"#f0f921\"]], \"type\": \"heatmapgl\"}], \"histogram\": [{\"marker\": {\"colorbar\": {\"outlinewidth\": 0, \"ticks\": \"\"}}, \"type\": \"histogram\"}], \"histogram2d\": [{\"colorbar\": {\"outlinewidth\": 0, \"ticks\": \"\"}, \"colorscale\": [[0.0, \"#0d0887\"], [0.1111111111111111, \"#46039f\"], [0.2222222222222222, \"#7201a8\"], [0.3333333333333333, \"#9c179e\"], [0.4444444444444444, \"#bd3786\"], [0.5555555555555556, \"#d8576b\"], [0.6666666666666666, \"#ed7953\"], [0.7777777777777778, \"#fb9f3a\"], [0.8888888888888888, \"#fdca26\"], [1.0, \"#f0f921\"]], \"type\": \"histogram2d\"}], \"histogram2dcontour\": [{\"colorbar\": {\"outlinewidth\": 0, \"ticks\": \"\"}, \"colorscale\": [[0.0, \"#0d0887\"], [0.1111111111111111, \"#46039f\"], [0.2222222222222222, \"#7201a8\"], [0.3333333333333333, \"#9c179e\"], [0.4444444444444444, \"#bd3786\"], [0.5555555555555556, \"#d8576b\"], [0.6666666666666666, \"#ed7953\"], [0.7777777777777778, \"#fb9f3a\"], [0.8888888888888888, \"#fdca26\"], [1.0, \"#f0f921\"]], \"type\": \"histogram2dcontour\"}], \"mesh3d\": [{\"colorbar\": {\"outlinewidth\": 0, \"ticks\": \"\"}, \"type\": \"mesh3d\"}], \"parcoords\": [{\"line\": {\"colorbar\": {\"outlinewidth\": 0, \"ticks\": \"\"}}, \"type\": \"parcoords\"}], \"pie\": [{\"automargin\": true, \"type\": \"pie\"}], \"scatter\": [{\"marker\": {\"colorbar\": {\"outlinewidth\": 0, \"ticks\": \"\"}}, \"type\": \"scatter\"}], \"scatter3d\": [{\"line\": {\"colorbar\": {\"outlinewidth\": 0, \"ticks\": \"\"}}, \"marker\": {\"colorbar\": {\"outlinewidth\": 0, \"ticks\": \"\"}}, \"type\": \"scatter3d\"}], \"scattercarpet\": [{\"marker\": {\"colorbar\": {\"outlinewidth\": 0, \"ticks\": \"\"}}, \"type\": \"scattercarpet\"}], \"scattergeo\": [{\"marker\": {\"colorbar\": {\"outlinewidth\": 0, \"ticks\": \"\"}}, \"type\": \"scattergeo\"}], \"scattergl\": [{\"marker\": {\"colorbar\": {\"outlinewidth\": 0, \"ticks\": \"\"}}, \"type\": \"scattergl\"}], \"scattermapbox\": [{\"marker\": {\"colorbar\": {\"outlinewidth\": 0, \"ticks\": \"\"}}, \"type\": \"scattermapbox\"}], \"scatterpolar\": [{\"marker\": {\"colorbar\": {\"outlinewidth\": 0, \"ticks\": \"\"}}, \"type\": \"scatterpolar\"}], \"scatterpolargl\": [{\"marker\": {\"colorbar\": {\"outlinewidth\": 0, \"ticks\": \"\"}}, \"type\": \"scatterpolargl\"}], \"scatterternary\": [{\"marker\": {\"colorbar\": {\"outlinewidth\": 0, \"ticks\": \"\"}}, \"type\": \"scatterternary\"}], \"surface\": [{\"colorbar\": {\"outlinewidth\": 0, \"ticks\": \"\"}, \"colorscale\": [[0.0, \"#0d0887\"], [0.1111111111111111, \"#46039f\"], [0.2222222222222222, \"#7201a8\"], [0.3333333333333333, \"#9c179e\"], [0.4444444444444444, \"#bd3786\"], [0.5555555555555556, \"#d8576b\"], [0.6666666666666666, \"#ed7953\"], [0.7777777777777778, \"#fb9f3a\"], [0.8888888888888888, \"#fdca26\"], [1.0, \"#f0f921\"]], \"type\": \"surface\"}], \"table\": [{\"cells\": {\"fill\": {\"color\": \"#EBF0F8\"}, \"line\": {\"color\": \"white\"}}, \"header\": {\"fill\": {\"color\": \"#C8D4E3\"}, \"line\": {\"color\": \"white\"}}, \"type\": \"table\"}]}, \"layout\": {\"annotationdefaults\": {\"arrowcolor\": \"#2a3f5f\", \"arrowhead\": 0, \"arrowwidth\": 1}, \"coloraxis\": {\"colorbar\": {\"outlinewidth\": 0, \"ticks\": \"\"}}, \"colorscale\": {\"diverging\": [[0, \"#8e0152\"], [0.1, \"#c51b7d\"], [0.2, \"#de77ae\"], [0.3, \"#f1b6da\"], [0.4, \"#fde0ef\"], [0.5, \"#f7f7f7\"], [0.6, \"#e6f5d0\"], [0.7, \"#b8e186\"], [0.8, \"#7fbc41\"], [0.9, \"#4d9221\"], [1, \"#276419\"]], \"sequential\": [[0.0, \"#0d0887\"], [0.1111111111111111, \"#46039f\"], [0.2222222222222222, \"#7201a8\"], [0.3333333333333333, \"#9c179e\"], [0.4444444444444444, \"#bd3786\"], [0.5555555555555556, \"#d8576b\"], [0.6666666666666666, \"#ed7953\"], [0.7777777777777778, \"#fb9f3a\"], [0.8888888888888888, \"#fdca26\"], [1.0, \"#f0f921\"]], \"sequentialminus\": [[0.0, \"#0d0887\"], [0.1111111111111111, \"#46039f\"], [0.2222222222222222, \"#7201a8\"], [0.3333333333333333, \"#9c179e\"], [0.4444444444444444, \"#bd3786\"], [0.5555555555555556, \"#d8576b\"], [0.6666666666666666, \"#ed7953\"], [0.7777777777777778, \"#fb9f3a\"], [0.8888888888888888, \"#fdca26\"], [1.0, \"#f0f921\"]]}, \"colorway\": [\"#636efa\", \"#EF553B\", \"#00cc96\", \"#ab63fa\", \"#FFA15A\", \"#19d3f3\", \"#FF6692\", \"#B6E880\", \"#FF97FF\", \"#FECB52\"], \"font\": {\"color\": \"#2a3f5f\"}, \"geo\": {\"bgcolor\": \"white\", \"lakecolor\": \"white\", \"landcolor\": \"#E5ECF6\", \"showlakes\": true, \"showland\": true, \"subunitcolor\": \"white\"}, \"hoverlabel\": {\"align\": \"left\"}, \"hovermode\": \"closest\", \"mapbox\": {\"style\": \"light\"}, \"paper_bgcolor\": \"white\", \"plot_bgcolor\": \"#E5ECF6\", \"polar\": {\"angularaxis\": {\"gridcolor\": \"white\", \"linecolor\": \"white\", \"ticks\": \"\"}, \"bgcolor\": \"#E5ECF6\", \"radialaxis\": {\"gridcolor\": \"white\", \"linecolor\": \"white\", \"ticks\": \"\"}}, \"scene\": {\"xaxis\": {\"backgroundcolor\": \"#E5ECF6\", \"gridcolor\": \"white\", \"gridwidth\": 2, \"linecolor\": \"white\", \"showbackground\": true, \"ticks\": \"\", \"zerolinecolor\": \"white\"}, \"yaxis\": {\"backgroundcolor\": \"#E5ECF6\", \"gridcolor\": \"white\", \"gridwidth\": 2, \"linecolor\": \"white\", \"showbackground\": true, \"ticks\": \"\", \"zerolinecolor\": \"white\"}, \"zaxis\": {\"backgroundcolor\": \"#E5ECF6\", \"gridcolor\": \"white\", \"gridwidth\": 2, \"linecolor\": \"white\", \"showbackground\": true, \"ticks\": \"\", \"zerolinecolor\": \"white\"}}, \"shapedefaults\": {\"line\": {\"color\": \"#2a3f5f\"}}, \"ternary\": {\"aaxis\": {\"gridcolor\": \"white\", \"linecolor\": \"white\", \"ticks\": \"\"}, \"baxis\": {\"gridcolor\": \"white\", \"linecolor\": \"white\", \"ticks\": \"\"}, \"bgcolor\": \"#E5ECF6\", \"caxis\": {\"gridcolor\": \"white\", \"linecolor\": \"white\", \"ticks\": \"\"}}, \"title\": {\"x\": 0.05}, \"xaxis\": {\"automargin\": true, \"gridcolor\": \"white\", \"linecolor\": \"white\", \"ticks\": \"\", \"title\": {\"standoff\": 15}, \"zerolinecolor\": \"white\", \"zerolinewidth\": 2}, \"yaxis\": {\"automargin\": true, \"gridcolor\": \"white\", \"linecolor\": \"white\", \"ticks\": \"\", \"title\": {\"standoff\": 15}, \"zerolinecolor\": \"white\", \"zerolinewidth\": 2}}}, \"title\": {\"text\": \"Cohort 13: First Year Donations by Repeat Donors\"}, \"xaxis\": {\"anchor\": \"y\", \"domain\": [0.0, 1.0], \"title\": {\"text\": \"cohort_gift_pattern\"}, \"type\": \"category\"}, \"yaxis\": {\"anchor\": \"x\", \"domain\": [0.0, 1.0], \"title\": {\"text\": \"amount_yr0\"}}},\n",
       "                        {\"responsive\": true}\n",
       "                    ).then(function(){\n",
       "                            \n",
       "var gd = document.getElementById('e696c3c1-153d-47c2-a2c2-7bcd3359ec6a');\n",
       "var x = new MutationObserver(function (mutations, observer) {{\n",
       "        var display = window.getComputedStyle(gd).display;\n",
       "        if (!display || display === 'none') {{\n",
       "            console.log([gd, 'removed!']);\n",
       "            Plotly.purge(gd);\n",
       "            observer.disconnect();\n",
       "        }}\n",
       "}});\n",
       "\n",
       "// Listen for the removal of the full notebook cells\n",
       "var notebookContainer = gd.closest('#notebook-container');\n",
       "if (notebookContainer) {{\n",
       "    x.observe(notebookContainer, {childList: true});\n",
       "}}\n",
       "\n",
       "// Listen for the clearing of the current output cell\n",
       "var outputEl = gd.closest('.output');\n",
       "if (outputEl) {{\n",
       "    x.observe(outputEl, {childList: true});\n",
       "}}\n",
       "\n",
       "                        })\n",
       "                };\n",
       "                });\n",
       "            </script>\n",
       "        </div>"
      ]
     },
     "metadata": {},
     "output_type": "display_data"
    }
   ],
   "source": [
    "fig = px.bar(c13_yr0, x=\"cohort_gift_pattern\", y=\"amount_yr0\", color=\"perc_years_donated\",\n",
    "            title=\"Cohort 13: First Year Donations by Repeat Donors\", hover_data=['pct_of_amount_yr0'])\n",
    " #barmode='group', labels={'index':'year', 'y':'amount ($)'}, \n",
    "fig.update_xaxes(type='category')\n",
    "fig.show()"
   ]
  },
  {
   "cell_type": "code",
   "execution_count": 220,
   "metadata": {},
   "outputs": [
    {
     "data": {
      "application/vnd.plotly.v1+json": {
       "config": {
        "plotlyServerURL": "https://plot.ly"
       },
       "data": [
        {
         "alignmentgroup": "True",
         "customdata": [
          [
           0.32633595506846685
          ],
          [
           0.10967529426695691
          ],
          [
           0.06965223735129347
          ],
          [
           0.011364702372573794
          ],
          [
           0.010876790619124
          ],
          [
           0.007262483586465474
          ]
         ],
         "hovertemplate": "perc_years_donated=0.4<br>cohort_gift_pattern=%{x}<br>amount_yr0=%{y}<br>pct_of_amount_yr0=%{customdata[0]}<extra></extra>",
         "legendgroup": "0.4",
         "marker": {
          "color": "#636efa"
         },
         "name": "0.4",
         "offsetgroup": "0.4",
         "orientation": "v",
         "showlegend": true,
         "textposition": "auto",
         "type": "bar",
         "x": [
          "0,1,",
          "0,2,",
          "0,3,",
          "0,3,4",
          "0,1,4,",
          "0,2,4,"
         ],
         "xaxis": "x",
         "y": [
          2947567.3700000034,
          990621.210000001,
          629120.5699999995,
          102649.50999999998,
          98242.53999999994,
          65597.00000000003
         ],
         "yaxis": "y"
        },
        {
         "alignmentgroup": "True",
         "customdata": [
          [
           0.11593474757309472
          ],
          [
           0.05008496071730631
          ],
          [
           0.03703151418890088
          ],
          [
           0.01502757505686334
          ],
          [
           0.013314421861650168
          ],
          [
           0.008910829436949867
          ]
         ],
         "hovertemplate": "perc_years_donated=0.6<br>cohort_gift_pattern=%{x}<br>amount_yr0=%{y}<br>pct_of_amount_yr0=%{customdata[0]}<extra></extra>",
         "legendgroup": "0.6",
         "marker": {
          "color": "#EF553B"
         },
         "name": "0.6",
         "offsetgroup": "0.6",
         "orientation": "v",
         "showlegend": true,
         "textposition": "auto",
         "type": "bar",
         "x": [
          "0,1,2,",
          "0,1,3,",
          "0,2,3,",
          "0,1,3,4,",
          "0,2,3,4,",
          "0,1,2,4,"
         ],
         "xaxis": "x",
         "y": [
          1047158.5299999977,
          452382.8699999999,
          334480.1000000002,
          135733.71000000005,
          120259.98000000003,
          80485.37
         ],
         "yaxis": "y"
        },
        {
         "alignmentgroup": "True",
         "customdata": [
          [
           0.11242662489921688
          ],
          [
           0.11210186300113717
          ]
         ],
         "hovertemplate": "perc_years_donated=0.8<br>cohort_gift_pattern=%{x}<br>amount_yr0=%{y}<br>pct_of_amount_yr0=%{customdata[0]}<extra></extra>",
         "legendgroup": "0.8",
         "marker": {
          "color": "#00cc96"
         },
         "name": "0.8",
         "offsetgroup": "0.8",
         "orientation": "v",
         "showlegend": true,
         "textposition": "auto",
         "type": "bar",
         "x": [
          "0,1,2,3,",
          "0,1,2,3,4,"
         ],
         "xaxis": "x",
         "y": [
          1015472.0799999969,
          1012538.7300000002
         ],
         "yaxis": "y"
        }
       ],
       "layout": {
        "barmode": "relative",
        "legend": {
         "title": {
          "text": "perc_years_donated"
         },
         "tracegroupgap": 0
        },
        "template": {
         "data": {
          "bar": [
           {
            "error_x": {
             "color": "#2a3f5f"
            },
            "error_y": {
             "color": "#2a3f5f"
            },
            "marker": {
             "line": {
              "color": "#E5ECF6",
              "width": 0.5
             }
            },
            "type": "bar"
           }
          ],
          "barpolar": [
           {
            "marker": {
             "line": {
              "color": "#E5ECF6",
              "width": 0.5
             }
            },
            "type": "barpolar"
           }
          ],
          "carpet": [
           {
            "aaxis": {
             "endlinecolor": "#2a3f5f",
             "gridcolor": "white",
             "linecolor": "white",
             "minorgridcolor": "white",
             "startlinecolor": "#2a3f5f"
            },
            "baxis": {
             "endlinecolor": "#2a3f5f",
             "gridcolor": "white",
             "linecolor": "white",
             "minorgridcolor": "white",
             "startlinecolor": "#2a3f5f"
            },
            "type": "carpet"
           }
          ],
          "choropleth": [
           {
            "colorbar": {
             "outlinewidth": 0,
             "ticks": ""
            },
            "type": "choropleth"
           }
          ],
          "contour": [
           {
            "colorbar": {
             "outlinewidth": 0,
             "ticks": ""
            },
            "colorscale": [
             [
              0,
              "#0d0887"
             ],
             [
              0.1111111111111111,
              "#46039f"
             ],
             [
              0.2222222222222222,
              "#7201a8"
             ],
             [
              0.3333333333333333,
              "#9c179e"
             ],
             [
              0.4444444444444444,
              "#bd3786"
             ],
             [
              0.5555555555555556,
              "#d8576b"
             ],
             [
              0.6666666666666666,
              "#ed7953"
             ],
             [
              0.7777777777777778,
              "#fb9f3a"
             ],
             [
              0.8888888888888888,
              "#fdca26"
             ],
             [
              1,
              "#f0f921"
             ]
            ],
            "type": "contour"
           }
          ],
          "contourcarpet": [
           {
            "colorbar": {
             "outlinewidth": 0,
             "ticks": ""
            },
            "type": "contourcarpet"
           }
          ],
          "heatmap": [
           {
            "colorbar": {
             "outlinewidth": 0,
             "ticks": ""
            },
            "colorscale": [
             [
              0,
              "#0d0887"
             ],
             [
              0.1111111111111111,
              "#46039f"
             ],
             [
              0.2222222222222222,
              "#7201a8"
             ],
             [
              0.3333333333333333,
              "#9c179e"
             ],
             [
              0.4444444444444444,
              "#bd3786"
             ],
             [
              0.5555555555555556,
              "#d8576b"
             ],
             [
              0.6666666666666666,
              "#ed7953"
             ],
             [
              0.7777777777777778,
              "#fb9f3a"
             ],
             [
              0.8888888888888888,
              "#fdca26"
             ],
             [
              1,
              "#f0f921"
             ]
            ],
            "type": "heatmap"
           }
          ],
          "heatmapgl": [
           {
            "colorbar": {
             "outlinewidth": 0,
             "ticks": ""
            },
            "colorscale": [
             [
              0,
              "#0d0887"
             ],
             [
              0.1111111111111111,
              "#46039f"
             ],
             [
              0.2222222222222222,
              "#7201a8"
             ],
             [
              0.3333333333333333,
              "#9c179e"
             ],
             [
              0.4444444444444444,
              "#bd3786"
             ],
             [
              0.5555555555555556,
              "#d8576b"
             ],
             [
              0.6666666666666666,
              "#ed7953"
             ],
             [
              0.7777777777777778,
              "#fb9f3a"
             ],
             [
              0.8888888888888888,
              "#fdca26"
             ],
             [
              1,
              "#f0f921"
             ]
            ],
            "type": "heatmapgl"
           }
          ],
          "histogram": [
           {
            "marker": {
             "colorbar": {
              "outlinewidth": 0,
              "ticks": ""
             }
            },
            "type": "histogram"
           }
          ],
          "histogram2d": [
           {
            "colorbar": {
             "outlinewidth": 0,
             "ticks": ""
            },
            "colorscale": [
             [
              0,
              "#0d0887"
             ],
             [
              0.1111111111111111,
              "#46039f"
             ],
             [
              0.2222222222222222,
              "#7201a8"
             ],
             [
              0.3333333333333333,
              "#9c179e"
             ],
             [
              0.4444444444444444,
              "#bd3786"
             ],
             [
              0.5555555555555556,
              "#d8576b"
             ],
             [
              0.6666666666666666,
              "#ed7953"
             ],
             [
              0.7777777777777778,
              "#fb9f3a"
             ],
             [
              0.8888888888888888,
              "#fdca26"
             ],
             [
              1,
              "#f0f921"
             ]
            ],
            "type": "histogram2d"
           }
          ],
          "histogram2dcontour": [
           {
            "colorbar": {
             "outlinewidth": 0,
             "ticks": ""
            },
            "colorscale": [
             [
              0,
              "#0d0887"
             ],
             [
              0.1111111111111111,
              "#46039f"
             ],
             [
              0.2222222222222222,
              "#7201a8"
             ],
             [
              0.3333333333333333,
              "#9c179e"
             ],
             [
              0.4444444444444444,
              "#bd3786"
             ],
             [
              0.5555555555555556,
              "#d8576b"
             ],
             [
              0.6666666666666666,
              "#ed7953"
             ],
             [
              0.7777777777777778,
              "#fb9f3a"
             ],
             [
              0.8888888888888888,
              "#fdca26"
             ],
             [
              1,
              "#f0f921"
             ]
            ],
            "type": "histogram2dcontour"
           }
          ],
          "mesh3d": [
           {
            "colorbar": {
             "outlinewidth": 0,
             "ticks": ""
            },
            "type": "mesh3d"
           }
          ],
          "parcoords": [
           {
            "line": {
             "colorbar": {
              "outlinewidth": 0,
              "ticks": ""
             }
            },
            "type": "parcoords"
           }
          ],
          "pie": [
           {
            "automargin": true,
            "type": "pie"
           }
          ],
          "scatter": [
           {
            "marker": {
             "colorbar": {
              "outlinewidth": 0,
              "ticks": ""
             }
            },
            "type": "scatter"
           }
          ],
          "scatter3d": [
           {
            "line": {
             "colorbar": {
              "outlinewidth": 0,
              "ticks": ""
             }
            },
            "marker": {
             "colorbar": {
              "outlinewidth": 0,
              "ticks": ""
             }
            },
            "type": "scatter3d"
           }
          ],
          "scattercarpet": [
           {
            "marker": {
             "colorbar": {
              "outlinewidth": 0,
              "ticks": ""
             }
            },
            "type": "scattercarpet"
           }
          ],
          "scattergeo": [
           {
            "marker": {
             "colorbar": {
              "outlinewidth": 0,
              "ticks": ""
             }
            },
            "type": "scattergeo"
           }
          ],
          "scattergl": [
           {
            "marker": {
             "colorbar": {
              "outlinewidth": 0,
              "ticks": ""
             }
            },
            "type": "scattergl"
           }
          ],
          "scattermapbox": [
           {
            "marker": {
             "colorbar": {
              "outlinewidth": 0,
              "ticks": ""
             }
            },
            "type": "scattermapbox"
           }
          ],
          "scatterpolar": [
           {
            "marker": {
             "colorbar": {
              "outlinewidth": 0,
              "ticks": ""
             }
            },
            "type": "scatterpolar"
           }
          ],
          "scatterpolargl": [
           {
            "marker": {
             "colorbar": {
              "outlinewidth": 0,
              "ticks": ""
             }
            },
            "type": "scatterpolargl"
           }
          ],
          "scatterternary": [
           {
            "marker": {
             "colorbar": {
              "outlinewidth": 0,
              "ticks": ""
             }
            },
            "type": "scatterternary"
           }
          ],
          "surface": [
           {
            "colorbar": {
             "outlinewidth": 0,
             "ticks": ""
            },
            "colorscale": [
             [
              0,
              "#0d0887"
             ],
             [
              0.1111111111111111,
              "#46039f"
             ],
             [
              0.2222222222222222,
              "#7201a8"
             ],
             [
              0.3333333333333333,
              "#9c179e"
             ],
             [
              0.4444444444444444,
              "#bd3786"
             ],
             [
              0.5555555555555556,
              "#d8576b"
             ],
             [
              0.6666666666666666,
              "#ed7953"
             ],
             [
              0.7777777777777778,
              "#fb9f3a"
             ],
             [
              0.8888888888888888,
              "#fdca26"
             ],
             [
              1,
              "#f0f921"
             ]
            ],
            "type": "surface"
           }
          ],
          "table": [
           {
            "cells": {
             "fill": {
              "color": "#EBF0F8"
             },
             "line": {
              "color": "white"
             }
            },
            "header": {
             "fill": {
              "color": "#C8D4E3"
             },
             "line": {
              "color": "white"
             }
            },
            "type": "table"
           }
          ]
         },
         "layout": {
          "annotationdefaults": {
           "arrowcolor": "#2a3f5f",
           "arrowhead": 0,
           "arrowwidth": 1
          },
          "coloraxis": {
           "colorbar": {
            "outlinewidth": 0,
            "ticks": ""
           }
          },
          "colorscale": {
           "diverging": [
            [
             0,
             "#8e0152"
            ],
            [
             0.1,
             "#c51b7d"
            ],
            [
             0.2,
             "#de77ae"
            ],
            [
             0.3,
             "#f1b6da"
            ],
            [
             0.4,
             "#fde0ef"
            ],
            [
             0.5,
             "#f7f7f7"
            ],
            [
             0.6,
             "#e6f5d0"
            ],
            [
             0.7,
             "#b8e186"
            ],
            [
             0.8,
             "#7fbc41"
            ],
            [
             0.9,
             "#4d9221"
            ],
            [
             1,
             "#276419"
            ]
           ],
           "sequential": [
            [
             0,
             "#0d0887"
            ],
            [
             0.1111111111111111,
             "#46039f"
            ],
            [
             0.2222222222222222,
             "#7201a8"
            ],
            [
             0.3333333333333333,
             "#9c179e"
            ],
            [
             0.4444444444444444,
             "#bd3786"
            ],
            [
             0.5555555555555556,
             "#d8576b"
            ],
            [
             0.6666666666666666,
             "#ed7953"
            ],
            [
             0.7777777777777778,
             "#fb9f3a"
            ],
            [
             0.8888888888888888,
             "#fdca26"
            ],
            [
             1,
             "#f0f921"
            ]
           ],
           "sequentialminus": [
            [
             0,
             "#0d0887"
            ],
            [
             0.1111111111111111,
             "#46039f"
            ],
            [
             0.2222222222222222,
             "#7201a8"
            ],
            [
             0.3333333333333333,
             "#9c179e"
            ],
            [
             0.4444444444444444,
             "#bd3786"
            ],
            [
             0.5555555555555556,
             "#d8576b"
            ],
            [
             0.6666666666666666,
             "#ed7953"
            ],
            [
             0.7777777777777778,
             "#fb9f3a"
            ],
            [
             0.8888888888888888,
             "#fdca26"
            ],
            [
             1,
             "#f0f921"
            ]
           ]
          },
          "colorway": [
           "#636efa",
           "#EF553B",
           "#00cc96",
           "#ab63fa",
           "#FFA15A",
           "#19d3f3",
           "#FF6692",
           "#B6E880",
           "#FF97FF",
           "#FECB52"
          ],
          "font": {
           "color": "#2a3f5f"
          },
          "geo": {
           "bgcolor": "white",
           "lakecolor": "white",
           "landcolor": "#E5ECF6",
           "showlakes": true,
           "showland": true,
           "subunitcolor": "white"
          },
          "hoverlabel": {
           "align": "left"
          },
          "hovermode": "closest",
          "mapbox": {
           "style": "light"
          },
          "paper_bgcolor": "white",
          "plot_bgcolor": "#E5ECF6",
          "polar": {
           "angularaxis": {
            "gridcolor": "white",
            "linecolor": "white",
            "ticks": ""
           },
           "bgcolor": "#E5ECF6",
           "radialaxis": {
            "gridcolor": "white",
            "linecolor": "white",
            "ticks": ""
           }
          },
          "scene": {
           "xaxis": {
            "backgroundcolor": "#E5ECF6",
            "gridcolor": "white",
            "gridwidth": 2,
            "linecolor": "white",
            "showbackground": true,
            "ticks": "",
            "zerolinecolor": "white"
           },
           "yaxis": {
            "backgroundcolor": "#E5ECF6",
            "gridcolor": "white",
            "gridwidth": 2,
            "linecolor": "white",
            "showbackground": true,
            "ticks": "",
            "zerolinecolor": "white"
           },
           "zaxis": {
            "backgroundcolor": "#E5ECF6",
            "gridcolor": "white",
            "gridwidth": 2,
            "linecolor": "white",
            "showbackground": true,
            "ticks": "",
            "zerolinecolor": "white"
           }
          },
          "shapedefaults": {
           "line": {
            "color": "#2a3f5f"
           }
          },
          "ternary": {
           "aaxis": {
            "gridcolor": "white",
            "linecolor": "white",
            "ticks": ""
           },
           "baxis": {
            "gridcolor": "white",
            "linecolor": "white",
            "ticks": ""
           },
           "bgcolor": "#E5ECF6",
           "caxis": {
            "gridcolor": "white",
            "linecolor": "white",
            "ticks": ""
           }
          },
          "title": {
           "x": 0.05
          },
          "xaxis": {
           "automargin": true,
           "gridcolor": "white",
           "linecolor": "white",
           "ticks": "",
           "title": {
            "standoff": 15
           },
           "zerolinecolor": "white",
           "zerolinewidth": 2
          },
          "yaxis": {
           "automargin": true,
           "gridcolor": "white",
           "linecolor": "white",
           "ticks": "",
           "title": {
            "standoff": 15
           },
           "zerolinecolor": "white",
           "zerolinewidth": 2
          }
         }
        },
        "title": {
         "text": "Cohort 14: First Year Donations by Repeat Donors"
        },
        "xaxis": {
         "anchor": "y",
         "domain": [
          0,
          1
         ],
         "title": {
          "text": "cohort_gift_pattern"
         },
         "type": "category"
        },
        "yaxis": {
         "anchor": "x",
         "domain": [
          0,
          1
         ],
         "title": {
          "text": "amount_yr0"
         }
        }
       }
      },
      "text/html": [
       "<div>\n",
       "        \n",
       "        \n",
       "            <div id=\"17d43939-5b3a-4e61-b2b7-9c70ecd86d1a\" class=\"plotly-graph-div\" style=\"height:525px; width:100%;\"></div>\n",
       "            <script type=\"text/javascript\">\n",
       "                require([\"plotly\"], function(Plotly) {\n",
       "                    window.PLOTLYENV=window.PLOTLYENV || {};\n",
       "                    \n",
       "                if (document.getElementById(\"17d43939-5b3a-4e61-b2b7-9c70ecd86d1a\")) {\n",
       "                    Plotly.newPlot(\n",
       "                        '17d43939-5b3a-4e61-b2b7-9c70ecd86d1a',\n",
       "                        [{\"alignmentgroup\": \"True\", \"customdata\": [[0.32633595506846685], [0.10967529426695691], [0.06965223735129347], [0.011364702372573794], [0.010876790619124], [0.007262483586465474]], \"hovertemplate\": \"perc_years_donated=0.4<br>cohort_gift_pattern=%{x}<br>amount_yr0=%{y}<br>pct_of_amount_yr0=%{customdata[0]}<extra></extra>\", \"legendgroup\": \"0.4\", \"marker\": {\"color\": \"#636efa\"}, \"name\": \"0.4\", \"offsetgroup\": \"0.4\", \"orientation\": \"v\", \"showlegend\": true, \"textposition\": \"auto\", \"type\": \"bar\", \"x\": [\"0,1,\", \"0,2,\", \"0,3,\", \"0,3,4\", \"0,1,4,\", \"0,2,4,\"], \"xaxis\": \"x\", \"y\": [2947567.3700000034, 990621.210000001, 629120.5699999995, 102649.50999999998, 98242.53999999994, 65597.00000000003], \"yaxis\": \"y\"}, {\"alignmentgroup\": \"True\", \"customdata\": [[0.11593474757309472], [0.05008496071730631], [0.03703151418890088], [0.01502757505686334], [0.013314421861650168], [0.008910829436949867]], \"hovertemplate\": \"perc_years_donated=0.6<br>cohort_gift_pattern=%{x}<br>amount_yr0=%{y}<br>pct_of_amount_yr0=%{customdata[0]}<extra></extra>\", \"legendgroup\": \"0.6\", \"marker\": {\"color\": \"#EF553B\"}, \"name\": \"0.6\", \"offsetgroup\": \"0.6\", \"orientation\": \"v\", \"showlegend\": true, \"textposition\": \"auto\", \"type\": \"bar\", \"x\": [\"0,1,2,\", \"0,1,3,\", \"0,2,3,\", \"0,1,3,4,\", \"0,2,3,4,\", \"0,1,2,4,\"], \"xaxis\": \"x\", \"y\": [1047158.5299999977, 452382.8699999999, 334480.1000000002, 135733.71000000005, 120259.98000000003, 80485.37], \"yaxis\": \"y\"}, {\"alignmentgroup\": \"True\", \"customdata\": [[0.11242662489921688], [0.11210186300113717]], \"hovertemplate\": \"perc_years_donated=0.8<br>cohort_gift_pattern=%{x}<br>amount_yr0=%{y}<br>pct_of_amount_yr0=%{customdata[0]}<extra></extra>\", \"legendgroup\": \"0.8\", \"marker\": {\"color\": \"#00cc96\"}, \"name\": \"0.8\", \"offsetgroup\": \"0.8\", \"orientation\": \"v\", \"showlegend\": true, \"textposition\": \"auto\", \"type\": \"bar\", \"x\": [\"0,1,2,3,\", \"0,1,2,3,4,\"], \"xaxis\": \"x\", \"y\": [1015472.0799999969, 1012538.7300000002], \"yaxis\": \"y\"}],\n",
       "                        {\"barmode\": \"relative\", \"legend\": {\"title\": {\"text\": \"perc_years_donated\"}, \"tracegroupgap\": 0}, \"template\": {\"data\": {\"bar\": [{\"error_x\": {\"color\": \"#2a3f5f\"}, \"error_y\": {\"color\": \"#2a3f5f\"}, \"marker\": {\"line\": {\"color\": \"#E5ECF6\", \"width\": 0.5}}, \"type\": \"bar\"}], \"barpolar\": [{\"marker\": {\"line\": {\"color\": \"#E5ECF6\", \"width\": 0.5}}, \"type\": \"barpolar\"}], \"carpet\": [{\"aaxis\": {\"endlinecolor\": \"#2a3f5f\", \"gridcolor\": \"white\", \"linecolor\": \"white\", \"minorgridcolor\": \"white\", \"startlinecolor\": \"#2a3f5f\"}, \"baxis\": {\"endlinecolor\": \"#2a3f5f\", \"gridcolor\": \"white\", \"linecolor\": \"white\", \"minorgridcolor\": \"white\", \"startlinecolor\": \"#2a3f5f\"}, \"type\": \"carpet\"}], \"choropleth\": [{\"colorbar\": {\"outlinewidth\": 0, \"ticks\": \"\"}, \"type\": \"choropleth\"}], \"contour\": [{\"colorbar\": {\"outlinewidth\": 0, \"ticks\": \"\"}, \"colorscale\": [[0.0, \"#0d0887\"], [0.1111111111111111, \"#46039f\"], [0.2222222222222222, \"#7201a8\"], [0.3333333333333333, \"#9c179e\"], [0.4444444444444444, \"#bd3786\"], [0.5555555555555556, \"#d8576b\"], [0.6666666666666666, \"#ed7953\"], [0.7777777777777778, \"#fb9f3a\"], [0.8888888888888888, \"#fdca26\"], [1.0, \"#f0f921\"]], \"type\": \"contour\"}], \"contourcarpet\": [{\"colorbar\": {\"outlinewidth\": 0, \"ticks\": \"\"}, \"type\": \"contourcarpet\"}], \"heatmap\": [{\"colorbar\": {\"outlinewidth\": 0, \"ticks\": \"\"}, \"colorscale\": [[0.0, \"#0d0887\"], [0.1111111111111111, \"#46039f\"], [0.2222222222222222, \"#7201a8\"], [0.3333333333333333, \"#9c179e\"], [0.4444444444444444, \"#bd3786\"], [0.5555555555555556, \"#d8576b\"], [0.6666666666666666, \"#ed7953\"], [0.7777777777777778, \"#fb9f3a\"], [0.8888888888888888, \"#fdca26\"], [1.0, \"#f0f921\"]], \"type\": \"heatmap\"}], \"heatmapgl\": [{\"colorbar\": {\"outlinewidth\": 0, \"ticks\": \"\"}, \"colorscale\": [[0.0, \"#0d0887\"], [0.1111111111111111, \"#46039f\"], [0.2222222222222222, \"#7201a8\"], [0.3333333333333333, \"#9c179e\"], [0.4444444444444444, \"#bd3786\"], [0.5555555555555556, \"#d8576b\"], [0.6666666666666666, \"#ed7953\"], [0.7777777777777778, \"#fb9f3a\"], [0.8888888888888888, \"#fdca26\"], [1.0, \"#f0f921\"]], \"type\": \"heatmapgl\"}], \"histogram\": [{\"marker\": {\"colorbar\": {\"outlinewidth\": 0, \"ticks\": \"\"}}, \"type\": \"histogram\"}], \"histogram2d\": [{\"colorbar\": {\"outlinewidth\": 0, \"ticks\": \"\"}, \"colorscale\": [[0.0, \"#0d0887\"], [0.1111111111111111, \"#46039f\"], [0.2222222222222222, \"#7201a8\"], [0.3333333333333333, \"#9c179e\"], [0.4444444444444444, \"#bd3786\"], [0.5555555555555556, \"#d8576b\"], [0.6666666666666666, \"#ed7953\"], [0.7777777777777778, \"#fb9f3a\"], [0.8888888888888888, \"#fdca26\"], [1.0, \"#f0f921\"]], \"type\": \"histogram2d\"}], \"histogram2dcontour\": [{\"colorbar\": {\"outlinewidth\": 0, \"ticks\": \"\"}, \"colorscale\": [[0.0, \"#0d0887\"], [0.1111111111111111, \"#46039f\"], [0.2222222222222222, \"#7201a8\"], [0.3333333333333333, \"#9c179e\"], [0.4444444444444444, \"#bd3786\"], [0.5555555555555556, \"#d8576b\"], [0.6666666666666666, \"#ed7953\"], [0.7777777777777778, \"#fb9f3a\"], [0.8888888888888888, \"#fdca26\"], [1.0, \"#f0f921\"]], \"type\": \"histogram2dcontour\"}], \"mesh3d\": [{\"colorbar\": {\"outlinewidth\": 0, \"ticks\": \"\"}, \"type\": \"mesh3d\"}], \"parcoords\": [{\"line\": {\"colorbar\": {\"outlinewidth\": 0, \"ticks\": \"\"}}, \"type\": \"parcoords\"}], \"pie\": [{\"automargin\": true, \"type\": \"pie\"}], \"scatter\": [{\"marker\": {\"colorbar\": {\"outlinewidth\": 0, \"ticks\": \"\"}}, \"type\": \"scatter\"}], \"scatter3d\": [{\"line\": {\"colorbar\": {\"outlinewidth\": 0, \"ticks\": \"\"}}, \"marker\": {\"colorbar\": {\"outlinewidth\": 0, \"ticks\": \"\"}}, \"type\": \"scatter3d\"}], \"scattercarpet\": [{\"marker\": {\"colorbar\": {\"outlinewidth\": 0, \"ticks\": \"\"}}, \"type\": \"scattercarpet\"}], \"scattergeo\": [{\"marker\": {\"colorbar\": {\"outlinewidth\": 0, \"ticks\": \"\"}}, \"type\": \"scattergeo\"}], \"scattergl\": [{\"marker\": {\"colorbar\": {\"outlinewidth\": 0, \"ticks\": \"\"}}, \"type\": \"scattergl\"}], \"scattermapbox\": [{\"marker\": {\"colorbar\": {\"outlinewidth\": 0, \"ticks\": \"\"}}, \"type\": \"scattermapbox\"}], \"scatterpolar\": [{\"marker\": {\"colorbar\": {\"outlinewidth\": 0, \"ticks\": \"\"}}, \"type\": \"scatterpolar\"}], \"scatterpolargl\": [{\"marker\": {\"colorbar\": {\"outlinewidth\": 0, \"ticks\": \"\"}}, \"type\": \"scatterpolargl\"}], \"scatterternary\": [{\"marker\": {\"colorbar\": {\"outlinewidth\": 0, \"ticks\": \"\"}}, \"type\": \"scatterternary\"}], \"surface\": [{\"colorbar\": {\"outlinewidth\": 0, \"ticks\": \"\"}, \"colorscale\": [[0.0, \"#0d0887\"], [0.1111111111111111, \"#46039f\"], [0.2222222222222222, \"#7201a8\"], [0.3333333333333333, \"#9c179e\"], [0.4444444444444444, \"#bd3786\"], [0.5555555555555556, \"#d8576b\"], [0.6666666666666666, \"#ed7953\"], [0.7777777777777778, \"#fb9f3a\"], [0.8888888888888888, \"#fdca26\"], [1.0, \"#f0f921\"]], \"type\": \"surface\"}], \"table\": [{\"cells\": {\"fill\": {\"color\": \"#EBF0F8\"}, \"line\": {\"color\": \"white\"}}, \"header\": {\"fill\": {\"color\": \"#C8D4E3\"}, \"line\": {\"color\": \"white\"}}, \"type\": \"table\"}]}, \"layout\": {\"annotationdefaults\": {\"arrowcolor\": \"#2a3f5f\", \"arrowhead\": 0, \"arrowwidth\": 1}, \"coloraxis\": {\"colorbar\": {\"outlinewidth\": 0, \"ticks\": \"\"}}, \"colorscale\": {\"diverging\": [[0, \"#8e0152\"], [0.1, \"#c51b7d\"], [0.2, \"#de77ae\"], [0.3, \"#f1b6da\"], [0.4, \"#fde0ef\"], [0.5, \"#f7f7f7\"], [0.6, \"#e6f5d0\"], [0.7, \"#b8e186\"], [0.8, \"#7fbc41\"], [0.9, \"#4d9221\"], [1, \"#276419\"]], \"sequential\": [[0.0, \"#0d0887\"], [0.1111111111111111, \"#46039f\"], [0.2222222222222222, \"#7201a8\"], [0.3333333333333333, \"#9c179e\"], [0.4444444444444444, \"#bd3786\"], [0.5555555555555556, \"#d8576b\"], [0.6666666666666666, \"#ed7953\"], [0.7777777777777778, \"#fb9f3a\"], [0.8888888888888888, \"#fdca26\"], [1.0, \"#f0f921\"]], \"sequentialminus\": [[0.0, \"#0d0887\"], [0.1111111111111111, \"#46039f\"], [0.2222222222222222, \"#7201a8\"], [0.3333333333333333, \"#9c179e\"], [0.4444444444444444, \"#bd3786\"], [0.5555555555555556, \"#d8576b\"], [0.6666666666666666, \"#ed7953\"], [0.7777777777777778, \"#fb9f3a\"], [0.8888888888888888, \"#fdca26\"], [1.0, \"#f0f921\"]]}, \"colorway\": [\"#636efa\", \"#EF553B\", \"#00cc96\", \"#ab63fa\", \"#FFA15A\", \"#19d3f3\", \"#FF6692\", \"#B6E880\", \"#FF97FF\", \"#FECB52\"], \"font\": {\"color\": \"#2a3f5f\"}, \"geo\": {\"bgcolor\": \"white\", \"lakecolor\": \"white\", \"landcolor\": \"#E5ECF6\", \"showlakes\": true, \"showland\": true, \"subunitcolor\": \"white\"}, \"hoverlabel\": {\"align\": \"left\"}, \"hovermode\": \"closest\", \"mapbox\": {\"style\": \"light\"}, \"paper_bgcolor\": \"white\", \"plot_bgcolor\": \"#E5ECF6\", \"polar\": {\"angularaxis\": {\"gridcolor\": \"white\", \"linecolor\": \"white\", \"ticks\": \"\"}, \"bgcolor\": \"#E5ECF6\", \"radialaxis\": {\"gridcolor\": \"white\", \"linecolor\": \"white\", \"ticks\": \"\"}}, \"scene\": {\"xaxis\": {\"backgroundcolor\": \"#E5ECF6\", \"gridcolor\": \"white\", \"gridwidth\": 2, \"linecolor\": \"white\", \"showbackground\": true, \"ticks\": \"\", \"zerolinecolor\": \"white\"}, \"yaxis\": {\"backgroundcolor\": \"#E5ECF6\", \"gridcolor\": \"white\", \"gridwidth\": 2, \"linecolor\": \"white\", \"showbackground\": true, \"ticks\": \"\", \"zerolinecolor\": \"white\"}, \"zaxis\": {\"backgroundcolor\": \"#E5ECF6\", \"gridcolor\": \"white\", \"gridwidth\": 2, \"linecolor\": \"white\", \"showbackground\": true, \"ticks\": \"\", \"zerolinecolor\": \"white\"}}, \"shapedefaults\": {\"line\": {\"color\": \"#2a3f5f\"}}, \"ternary\": {\"aaxis\": {\"gridcolor\": \"white\", \"linecolor\": \"white\", \"ticks\": \"\"}, \"baxis\": {\"gridcolor\": \"white\", \"linecolor\": \"white\", \"ticks\": \"\"}, \"bgcolor\": \"#E5ECF6\", \"caxis\": {\"gridcolor\": \"white\", \"linecolor\": \"white\", \"ticks\": \"\"}}, \"title\": {\"x\": 0.05}, \"xaxis\": {\"automargin\": true, \"gridcolor\": \"white\", \"linecolor\": \"white\", \"ticks\": \"\", \"title\": {\"standoff\": 15}, \"zerolinecolor\": \"white\", \"zerolinewidth\": 2}, \"yaxis\": {\"automargin\": true, \"gridcolor\": \"white\", \"linecolor\": \"white\", \"ticks\": \"\", \"title\": {\"standoff\": 15}, \"zerolinecolor\": \"white\", \"zerolinewidth\": 2}}}, \"title\": {\"text\": \"Cohort 14: First Year Donations by Repeat Donors\"}, \"xaxis\": {\"anchor\": \"y\", \"domain\": [0.0, 1.0], \"title\": {\"text\": \"cohort_gift_pattern\"}, \"type\": \"category\"}, \"yaxis\": {\"anchor\": \"x\", \"domain\": [0.0, 1.0], \"title\": {\"text\": \"amount_yr0\"}}},\n",
       "                        {\"responsive\": true}\n",
       "                    ).then(function(){\n",
       "                            \n",
       "var gd = document.getElementById('17d43939-5b3a-4e61-b2b7-9c70ecd86d1a');\n",
       "var x = new MutationObserver(function (mutations, observer) {{\n",
       "        var display = window.getComputedStyle(gd).display;\n",
       "        if (!display || display === 'none') {{\n",
       "            console.log([gd, 'removed!']);\n",
       "            Plotly.purge(gd);\n",
       "            observer.disconnect();\n",
       "        }}\n",
       "}});\n",
       "\n",
       "// Listen for the removal of the full notebook cells\n",
       "var notebookContainer = gd.closest('#notebook-container');\n",
       "if (notebookContainer) {{\n",
       "    x.observe(notebookContainer, {childList: true});\n",
       "}}\n",
       "\n",
       "// Listen for the clearing of the current output cell\n",
       "var outputEl = gd.closest('.output');\n",
       "if (outputEl) {{\n",
       "    x.observe(outputEl, {childList: true});\n",
       "}}\n",
       "\n",
       "                        })\n",
       "                };\n",
       "                });\n",
       "            </script>\n",
       "        </div>"
      ]
     },
     "metadata": {},
     "output_type": "display_data"
    }
   ],
   "source": [
    "fig = px.bar(c14_yr0, x=\"cohort_gift_pattern\", y=\"amount_yr0\", color=\"perc_years_donated\",\n",
    "            title=\"Cohort 14: First Year Donations by Repeat Donors\", hover_data=['pct_of_amount_yr0'])\n",
    " #barmode='group', labels={'index':'year', 'y':'amount ($)'}, \n",
    "fig.update_xaxes(type='category')\n",
    "fig.show()"
   ]
  },
  {
   "cell_type": "code",
   "execution_count": 221,
   "metadata": {},
   "outputs": [
    {
     "data": {
      "application/vnd.plotly.v1+json": {
       "config": {
        "plotlyServerURL": "https://plot.ly"
       },
       "data": [
        {
         "alignmentgroup": "True",
         "customdata": [
          [
           0.36787037039845544
          ],
          [
           0.1659785764469247
          ],
          [
           0.03096460068638038
          ],
          [
           0.026994836486513712
          ]
         ],
         "hovertemplate": "perc_years_donated=0.4<br>cohort_gift_pattern=%{x}<br>amount_yr0=%{y}<br>pct_of_amount_yr0=%{customdata[0]}<extra></extra>",
         "legendgroup": "0.4",
         "marker": {
          "color": "#636efa"
         },
         "name": "0.4",
         "offsetgroup": "0.4",
         "orientation": "v",
         "showlegend": true,
         "textposition": "auto",
         "type": "bar",
         "x": [
          "0,1,",
          "0,2,",
          "0,2,3,",
          "0,1,3,"
         ],
         "xaxis": "x",
         "y": [
          3129086.439999999,
          1411805.2299999965,
          263383.3,
          229616.68999999986
         ],
         "yaxis": "y"
        },
        {
         "alignmentgroup": "True",
         "customdata": [
          [
           0.23495209976899328
          ],
          [
           0.1732395162127325
          ]
         ],
         "hovertemplate": "perc_years_donated=0.6<br>cohort_gift_pattern=%{x}<br>amount_yr0=%{y}<br>pct_of_amount_yr0=%{customdata[0]}<extra></extra>",
         "legendgroup": "0.6",
         "marker": {
          "color": "#EF553B"
         },
         "name": "0.6",
         "offsetgroup": "0.6",
         "orientation": "v",
         "showlegend": true,
         "textposition": "auto",
         "type": "bar",
         "x": [
          "0,1,2,",
          "0,1,2,3,"
         ],
         "xaxis": "x",
         "y": [
          1998490.4700000011,
          1473566.4099999974
         ],
         "yaxis": "y"
        }
       ],
       "layout": {
        "barmode": "relative",
        "legend": {
         "title": {
          "text": "perc_years_donated"
         },
         "tracegroupgap": 0
        },
        "template": {
         "data": {
          "bar": [
           {
            "error_x": {
             "color": "#2a3f5f"
            },
            "error_y": {
             "color": "#2a3f5f"
            },
            "marker": {
             "line": {
              "color": "#E5ECF6",
              "width": 0.5
             }
            },
            "type": "bar"
           }
          ],
          "barpolar": [
           {
            "marker": {
             "line": {
              "color": "#E5ECF6",
              "width": 0.5
             }
            },
            "type": "barpolar"
           }
          ],
          "carpet": [
           {
            "aaxis": {
             "endlinecolor": "#2a3f5f",
             "gridcolor": "white",
             "linecolor": "white",
             "minorgridcolor": "white",
             "startlinecolor": "#2a3f5f"
            },
            "baxis": {
             "endlinecolor": "#2a3f5f",
             "gridcolor": "white",
             "linecolor": "white",
             "minorgridcolor": "white",
             "startlinecolor": "#2a3f5f"
            },
            "type": "carpet"
           }
          ],
          "choropleth": [
           {
            "colorbar": {
             "outlinewidth": 0,
             "ticks": ""
            },
            "type": "choropleth"
           }
          ],
          "contour": [
           {
            "colorbar": {
             "outlinewidth": 0,
             "ticks": ""
            },
            "colorscale": [
             [
              0,
              "#0d0887"
             ],
             [
              0.1111111111111111,
              "#46039f"
             ],
             [
              0.2222222222222222,
              "#7201a8"
             ],
             [
              0.3333333333333333,
              "#9c179e"
             ],
             [
              0.4444444444444444,
              "#bd3786"
             ],
             [
              0.5555555555555556,
              "#d8576b"
             ],
             [
              0.6666666666666666,
              "#ed7953"
             ],
             [
              0.7777777777777778,
              "#fb9f3a"
             ],
             [
              0.8888888888888888,
              "#fdca26"
             ],
             [
              1,
              "#f0f921"
             ]
            ],
            "type": "contour"
           }
          ],
          "contourcarpet": [
           {
            "colorbar": {
             "outlinewidth": 0,
             "ticks": ""
            },
            "type": "contourcarpet"
           }
          ],
          "heatmap": [
           {
            "colorbar": {
             "outlinewidth": 0,
             "ticks": ""
            },
            "colorscale": [
             [
              0,
              "#0d0887"
             ],
             [
              0.1111111111111111,
              "#46039f"
             ],
             [
              0.2222222222222222,
              "#7201a8"
             ],
             [
              0.3333333333333333,
              "#9c179e"
             ],
             [
              0.4444444444444444,
              "#bd3786"
             ],
             [
              0.5555555555555556,
              "#d8576b"
             ],
             [
              0.6666666666666666,
              "#ed7953"
             ],
             [
              0.7777777777777778,
              "#fb9f3a"
             ],
             [
              0.8888888888888888,
              "#fdca26"
             ],
             [
              1,
              "#f0f921"
             ]
            ],
            "type": "heatmap"
           }
          ],
          "heatmapgl": [
           {
            "colorbar": {
             "outlinewidth": 0,
             "ticks": ""
            },
            "colorscale": [
             [
              0,
              "#0d0887"
             ],
             [
              0.1111111111111111,
              "#46039f"
             ],
             [
              0.2222222222222222,
              "#7201a8"
             ],
             [
              0.3333333333333333,
              "#9c179e"
             ],
             [
              0.4444444444444444,
              "#bd3786"
             ],
             [
              0.5555555555555556,
              "#d8576b"
             ],
             [
              0.6666666666666666,
              "#ed7953"
             ],
             [
              0.7777777777777778,
              "#fb9f3a"
             ],
             [
              0.8888888888888888,
              "#fdca26"
             ],
             [
              1,
              "#f0f921"
             ]
            ],
            "type": "heatmapgl"
           }
          ],
          "histogram": [
           {
            "marker": {
             "colorbar": {
              "outlinewidth": 0,
              "ticks": ""
             }
            },
            "type": "histogram"
           }
          ],
          "histogram2d": [
           {
            "colorbar": {
             "outlinewidth": 0,
             "ticks": ""
            },
            "colorscale": [
             [
              0,
              "#0d0887"
             ],
             [
              0.1111111111111111,
              "#46039f"
             ],
             [
              0.2222222222222222,
              "#7201a8"
             ],
             [
              0.3333333333333333,
              "#9c179e"
             ],
             [
              0.4444444444444444,
              "#bd3786"
             ],
             [
              0.5555555555555556,
              "#d8576b"
             ],
             [
              0.6666666666666666,
              "#ed7953"
             ],
             [
              0.7777777777777778,
              "#fb9f3a"
             ],
             [
              0.8888888888888888,
              "#fdca26"
             ],
             [
              1,
              "#f0f921"
             ]
            ],
            "type": "histogram2d"
           }
          ],
          "histogram2dcontour": [
           {
            "colorbar": {
             "outlinewidth": 0,
             "ticks": ""
            },
            "colorscale": [
             [
              0,
              "#0d0887"
             ],
             [
              0.1111111111111111,
              "#46039f"
             ],
             [
              0.2222222222222222,
              "#7201a8"
             ],
             [
              0.3333333333333333,
              "#9c179e"
             ],
             [
              0.4444444444444444,
              "#bd3786"
             ],
             [
              0.5555555555555556,
              "#d8576b"
             ],
             [
              0.6666666666666666,
              "#ed7953"
             ],
             [
              0.7777777777777778,
              "#fb9f3a"
             ],
             [
              0.8888888888888888,
              "#fdca26"
             ],
             [
              1,
              "#f0f921"
             ]
            ],
            "type": "histogram2dcontour"
           }
          ],
          "mesh3d": [
           {
            "colorbar": {
             "outlinewidth": 0,
             "ticks": ""
            },
            "type": "mesh3d"
           }
          ],
          "parcoords": [
           {
            "line": {
             "colorbar": {
              "outlinewidth": 0,
              "ticks": ""
             }
            },
            "type": "parcoords"
           }
          ],
          "pie": [
           {
            "automargin": true,
            "type": "pie"
           }
          ],
          "scatter": [
           {
            "marker": {
             "colorbar": {
              "outlinewidth": 0,
              "ticks": ""
             }
            },
            "type": "scatter"
           }
          ],
          "scatter3d": [
           {
            "line": {
             "colorbar": {
              "outlinewidth": 0,
              "ticks": ""
             }
            },
            "marker": {
             "colorbar": {
              "outlinewidth": 0,
              "ticks": ""
             }
            },
            "type": "scatter3d"
           }
          ],
          "scattercarpet": [
           {
            "marker": {
             "colorbar": {
              "outlinewidth": 0,
              "ticks": ""
             }
            },
            "type": "scattercarpet"
           }
          ],
          "scattergeo": [
           {
            "marker": {
             "colorbar": {
              "outlinewidth": 0,
              "ticks": ""
             }
            },
            "type": "scattergeo"
           }
          ],
          "scattergl": [
           {
            "marker": {
             "colorbar": {
              "outlinewidth": 0,
              "ticks": ""
             }
            },
            "type": "scattergl"
           }
          ],
          "scattermapbox": [
           {
            "marker": {
             "colorbar": {
              "outlinewidth": 0,
              "ticks": ""
             }
            },
            "type": "scattermapbox"
           }
          ],
          "scatterpolar": [
           {
            "marker": {
             "colorbar": {
              "outlinewidth": 0,
              "ticks": ""
             }
            },
            "type": "scatterpolar"
           }
          ],
          "scatterpolargl": [
           {
            "marker": {
             "colorbar": {
              "outlinewidth": 0,
              "ticks": ""
             }
            },
            "type": "scatterpolargl"
           }
          ],
          "scatterternary": [
           {
            "marker": {
             "colorbar": {
              "outlinewidth": 0,
              "ticks": ""
             }
            },
            "type": "scatterternary"
           }
          ],
          "surface": [
           {
            "colorbar": {
             "outlinewidth": 0,
             "ticks": ""
            },
            "colorscale": [
             [
              0,
              "#0d0887"
             ],
             [
              0.1111111111111111,
              "#46039f"
             ],
             [
              0.2222222222222222,
              "#7201a8"
             ],
             [
              0.3333333333333333,
              "#9c179e"
             ],
             [
              0.4444444444444444,
              "#bd3786"
             ],
             [
              0.5555555555555556,
              "#d8576b"
             ],
             [
              0.6666666666666666,
              "#ed7953"
             ],
             [
              0.7777777777777778,
              "#fb9f3a"
             ],
             [
              0.8888888888888888,
              "#fdca26"
             ],
             [
              1,
              "#f0f921"
             ]
            ],
            "type": "surface"
           }
          ],
          "table": [
           {
            "cells": {
             "fill": {
              "color": "#EBF0F8"
             },
             "line": {
              "color": "white"
             }
            },
            "header": {
             "fill": {
              "color": "#C8D4E3"
             },
             "line": {
              "color": "white"
             }
            },
            "type": "table"
           }
          ]
         },
         "layout": {
          "annotationdefaults": {
           "arrowcolor": "#2a3f5f",
           "arrowhead": 0,
           "arrowwidth": 1
          },
          "coloraxis": {
           "colorbar": {
            "outlinewidth": 0,
            "ticks": ""
           }
          },
          "colorscale": {
           "diverging": [
            [
             0,
             "#8e0152"
            ],
            [
             0.1,
             "#c51b7d"
            ],
            [
             0.2,
             "#de77ae"
            ],
            [
             0.3,
             "#f1b6da"
            ],
            [
             0.4,
             "#fde0ef"
            ],
            [
             0.5,
             "#f7f7f7"
            ],
            [
             0.6,
             "#e6f5d0"
            ],
            [
             0.7,
             "#b8e186"
            ],
            [
             0.8,
             "#7fbc41"
            ],
            [
             0.9,
             "#4d9221"
            ],
            [
             1,
             "#276419"
            ]
           ],
           "sequential": [
            [
             0,
             "#0d0887"
            ],
            [
             0.1111111111111111,
             "#46039f"
            ],
            [
             0.2222222222222222,
             "#7201a8"
            ],
            [
             0.3333333333333333,
             "#9c179e"
            ],
            [
             0.4444444444444444,
             "#bd3786"
            ],
            [
             0.5555555555555556,
             "#d8576b"
            ],
            [
             0.6666666666666666,
             "#ed7953"
            ],
            [
             0.7777777777777778,
             "#fb9f3a"
            ],
            [
             0.8888888888888888,
             "#fdca26"
            ],
            [
             1,
             "#f0f921"
            ]
           ],
           "sequentialminus": [
            [
             0,
             "#0d0887"
            ],
            [
             0.1111111111111111,
             "#46039f"
            ],
            [
             0.2222222222222222,
             "#7201a8"
            ],
            [
             0.3333333333333333,
             "#9c179e"
            ],
            [
             0.4444444444444444,
             "#bd3786"
            ],
            [
             0.5555555555555556,
             "#d8576b"
            ],
            [
             0.6666666666666666,
             "#ed7953"
            ],
            [
             0.7777777777777778,
             "#fb9f3a"
            ],
            [
             0.8888888888888888,
             "#fdca26"
            ],
            [
             1,
             "#f0f921"
            ]
           ]
          },
          "colorway": [
           "#636efa",
           "#EF553B",
           "#00cc96",
           "#ab63fa",
           "#FFA15A",
           "#19d3f3",
           "#FF6692",
           "#B6E880",
           "#FF97FF",
           "#FECB52"
          ],
          "font": {
           "color": "#2a3f5f"
          },
          "geo": {
           "bgcolor": "white",
           "lakecolor": "white",
           "landcolor": "#E5ECF6",
           "showlakes": true,
           "showland": true,
           "subunitcolor": "white"
          },
          "hoverlabel": {
           "align": "left"
          },
          "hovermode": "closest",
          "mapbox": {
           "style": "light"
          },
          "paper_bgcolor": "white",
          "plot_bgcolor": "#E5ECF6",
          "polar": {
           "angularaxis": {
            "gridcolor": "white",
            "linecolor": "white",
            "ticks": ""
           },
           "bgcolor": "#E5ECF6",
           "radialaxis": {
            "gridcolor": "white",
            "linecolor": "white",
            "ticks": ""
           }
          },
          "scene": {
           "xaxis": {
            "backgroundcolor": "#E5ECF6",
            "gridcolor": "white",
            "gridwidth": 2,
            "linecolor": "white",
            "showbackground": true,
            "ticks": "",
            "zerolinecolor": "white"
           },
           "yaxis": {
            "backgroundcolor": "#E5ECF6",
            "gridcolor": "white",
            "gridwidth": 2,
            "linecolor": "white",
            "showbackground": true,
            "ticks": "",
            "zerolinecolor": "white"
           },
           "zaxis": {
            "backgroundcolor": "#E5ECF6",
            "gridcolor": "white",
            "gridwidth": 2,
            "linecolor": "white",
            "showbackground": true,
            "ticks": "",
            "zerolinecolor": "white"
           }
          },
          "shapedefaults": {
           "line": {
            "color": "#2a3f5f"
           }
          },
          "ternary": {
           "aaxis": {
            "gridcolor": "white",
            "linecolor": "white",
            "ticks": ""
           },
           "baxis": {
            "gridcolor": "white",
            "linecolor": "white",
            "ticks": ""
           },
           "bgcolor": "#E5ECF6",
           "caxis": {
            "gridcolor": "white",
            "linecolor": "white",
            "ticks": ""
           }
          },
          "title": {
           "x": 0.05
          },
          "xaxis": {
           "automargin": true,
           "gridcolor": "white",
           "linecolor": "white",
           "ticks": "",
           "title": {
            "standoff": 15
           },
           "zerolinecolor": "white",
           "zerolinewidth": 2
          },
          "yaxis": {
           "automargin": true,
           "gridcolor": "white",
           "linecolor": "white",
           "ticks": "",
           "title": {
            "standoff": 15
           },
           "zerolinecolor": "white",
           "zerolinewidth": 2
          }
         }
        },
        "title": {
         "text": "Cohort 15: First Year Donations by Repeat Donors"
        },
        "xaxis": {
         "anchor": "y",
         "domain": [
          0,
          1
         ],
         "title": {
          "text": "cohort_gift_pattern"
         },
         "type": "category"
        },
        "yaxis": {
         "anchor": "x",
         "domain": [
          0,
          1
         ],
         "title": {
          "text": "amount_yr0"
         }
        }
       }
      },
      "text/html": [
       "<div>\n",
       "        \n",
       "        \n",
       "            <div id=\"e96cc634-8ddc-4148-a5a4-d1a6d32d3955\" class=\"plotly-graph-div\" style=\"height:525px; width:100%;\"></div>\n",
       "            <script type=\"text/javascript\">\n",
       "                require([\"plotly\"], function(Plotly) {\n",
       "                    window.PLOTLYENV=window.PLOTLYENV || {};\n",
       "                    \n",
       "                if (document.getElementById(\"e96cc634-8ddc-4148-a5a4-d1a6d32d3955\")) {\n",
       "                    Plotly.newPlot(\n",
       "                        'e96cc634-8ddc-4148-a5a4-d1a6d32d3955',\n",
       "                        [{\"alignmentgroup\": \"True\", \"customdata\": [[0.36787037039845544], [0.1659785764469247], [0.03096460068638038], [0.026994836486513712]], \"hovertemplate\": \"perc_years_donated=0.4<br>cohort_gift_pattern=%{x}<br>amount_yr0=%{y}<br>pct_of_amount_yr0=%{customdata[0]}<extra></extra>\", \"legendgroup\": \"0.4\", \"marker\": {\"color\": \"#636efa\"}, \"name\": \"0.4\", \"offsetgroup\": \"0.4\", \"orientation\": \"v\", \"showlegend\": true, \"textposition\": \"auto\", \"type\": \"bar\", \"x\": [\"0,1,\", \"0,2,\", \"0,2,3,\", \"0,1,3,\"], \"xaxis\": \"x\", \"y\": [3129086.439999999, 1411805.2299999965, 263383.3, 229616.68999999986], \"yaxis\": \"y\"}, {\"alignmentgroup\": \"True\", \"customdata\": [[0.23495209976899328], [0.1732395162127325]], \"hovertemplate\": \"perc_years_donated=0.6<br>cohort_gift_pattern=%{x}<br>amount_yr0=%{y}<br>pct_of_amount_yr0=%{customdata[0]}<extra></extra>\", \"legendgroup\": \"0.6\", \"marker\": {\"color\": \"#EF553B\"}, \"name\": \"0.6\", \"offsetgroup\": \"0.6\", \"orientation\": \"v\", \"showlegend\": true, \"textposition\": \"auto\", \"type\": \"bar\", \"x\": [\"0,1,2,\", \"0,1,2,3,\"], \"xaxis\": \"x\", \"y\": [1998490.4700000011, 1473566.4099999974], \"yaxis\": \"y\"}],\n",
       "                        {\"barmode\": \"relative\", \"legend\": {\"title\": {\"text\": \"perc_years_donated\"}, \"tracegroupgap\": 0}, \"template\": {\"data\": {\"bar\": [{\"error_x\": {\"color\": \"#2a3f5f\"}, \"error_y\": {\"color\": \"#2a3f5f\"}, \"marker\": {\"line\": {\"color\": \"#E5ECF6\", \"width\": 0.5}}, \"type\": \"bar\"}], \"barpolar\": [{\"marker\": {\"line\": {\"color\": \"#E5ECF6\", \"width\": 0.5}}, \"type\": \"barpolar\"}], \"carpet\": [{\"aaxis\": {\"endlinecolor\": \"#2a3f5f\", \"gridcolor\": \"white\", \"linecolor\": \"white\", \"minorgridcolor\": \"white\", \"startlinecolor\": \"#2a3f5f\"}, \"baxis\": {\"endlinecolor\": \"#2a3f5f\", \"gridcolor\": \"white\", \"linecolor\": \"white\", \"minorgridcolor\": \"white\", \"startlinecolor\": \"#2a3f5f\"}, \"type\": \"carpet\"}], \"choropleth\": [{\"colorbar\": {\"outlinewidth\": 0, \"ticks\": \"\"}, \"type\": \"choropleth\"}], \"contour\": [{\"colorbar\": {\"outlinewidth\": 0, \"ticks\": \"\"}, \"colorscale\": [[0.0, \"#0d0887\"], [0.1111111111111111, \"#46039f\"], [0.2222222222222222, \"#7201a8\"], [0.3333333333333333, \"#9c179e\"], [0.4444444444444444, \"#bd3786\"], [0.5555555555555556, \"#d8576b\"], [0.6666666666666666, \"#ed7953\"], [0.7777777777777778, \"#fb9f3a\"], [0.8888888888888888, \"#fdca26\"], [1.0, \"#f0f921\"]], \"type\": \"contour\"}], \"contourcarpet\": [{\"colorbar\": {\"outlinewidth\": 0, \"ticks\": \"\"}, \"type\": \"contourcarpet\"}], \"heatmap\": [{\"colorbar\": {\"outlinewidth\": 0, \"ticks\": \"\"}, \"colorscale\": [[0.0, \"#0d0887\"], [0.1111111111111111, \"#46039f\"], [0.2222222222222222, \"#7201a8\"], [0.3333333333333333, \"#9c179e\"], [0.4444444444444444, \"#bd3786\"], [0.5555555555555556, \"#d8576b\"], [0.6666666666666666, \"#ed7953\"], [0.7777777777777778, \"#fb9f3a\"], [0.8888888888888888, \"#fdca26\"], [1.0, \"#f0f921\"]], \"type\": \"heatmap\"}], \"heatmapgl\": [{\"colorbar\": {\"outlinewidth\": 0, \"ticks\": \"\"}, \"colorscale\": [[0.0, \"#0d0887\"], [0.1111111111111111, \"#46039f\"], [0.2222222222222222, \"#7201a8\"], [0.3333333333333333, \"#9c179e\"], [0.4444444444444444, \"#bd3786\"], [0.5555555555555556, \"#d8576b\"], [0.6666666666666666, \"#ed7953\"], [0.7777777777777778, \"#fb9f3a\"], [0.8888888888888888, \"#fdca26\"], [1.0, \"#f0f921\"]], \"type\": \"heatmapgl\"}], \"histogram\": [{\"marker\": {\"colorbar\": {\"outlinewidth\": 0, \"ticks\": \"\"}}, \"type\": \"histogram\"}], \"histogram2d\": [{\"colorbar\": {\"outlinewidth\": 0, \"ticks\": \"\"}, \"colorscale\": [[0.0, \"#0d0887\"], [0.1111111111111111, \"#46039f\"], [0.2222222222222222, \"#7201a8\"], [0.3333333333333333, \"#9c179e\"], [0.4444444444444444, \"#bd3786\"], [0.5555555555555556, \"#d8576b\"], [0.6666666666666666, \"#ed7953\"], [0.7777777777777778, \"#fb9f3a\"], [0.8888888888888888, \"#fdca26\"], [1.0, \"#f0f921\"]], \"type\": \"histogram2d\"}], \"histogram2dcontour\": [{\"colorbar\": {\"outlinewidth\": 0, \"ticks\": \"\"}, \"colorscale\": [[0.0, \"#0d0887\"], [0.1111111111111111, \"#46039f\"], [0.2222222222222222, \"#7201a8\"], [0.3333333333333333, \"#9c179e\"], [0.4444444444444444, \"#bd3786\"], [0.5555555555555556, \"#d8576b\"], [0.6666666666666666, \"#ed7953\"], [0.7777777777777778, \"#fb9f3a\"], [0.8888888888888888, \"#fdca26\"], [1.0, \"#f0f921\"]], \"type\": \"histogram2dcontour\"}], \"mesh3d\": [{\"colorbar\": {\"outlinewidth\": 0, \"ticks\": \"\"}, \"type\": \"mesh3d\"}], \"parcoords\": [{\"line\": {\"colorbar\": {\"outlinewidth\": 0, \"ticks\": \"\"}}, \"type\": \"parcoords\"}], \"pie\": [{\"automargin\": true, \"type\": \"pie\"}], \"scatter\": [{\"marker\": {\"colorbar\": {\"outlinewidth\": 0, \"ticks\": \"\"}}, \"type\": \"scatter\"}], \"scatter3d\": [{\"line\": {\"colorbar\": {\"outlinewidth\": 0, \"ticks\": \"\"}}, \"marker\": {\"colorbar\": {\"outlinewidth\": 0, \"ticks\": \"\"}}, \"type\": \"scatter3d\"}], \"scattercarpet\": [{\"marker\": {\"colorbar\": {\"outlinewidth\": 0, \"ticks\": \"\"}}, \"type\": \"scattercarpet\"}], \"scattergeo\": [{\"marker\": {\"colorbar\": {\"outlinewidth\": 0, \"ticks\": \"\"}}, \"type\": \"scattergeo\"}], \"scattergl\": [{\"marker\": {\"colorbar\": {\"outlinewidth\": 0, \"ticks\": \"\"}}, \"type\": \"scattergl\"}], \"scattermapbox\": [{\"marker\": {\"colorbar\": {\"outlinewidth\": 0, \"ticks\": \"\"}}, \"type\": \"scattermapbox\"}], \"scatterpolar\": [{\"marker\": {\"colorbar\": {\"outlinewidth\": 0, \"ticks\": \"\"}}, \"type\": \"scatterpolar\"}], \"scatterpolargl\": [{\"marker\": {\"colorbar\": {\"outlinewidth\": 0, \"ticks\": \"\"}}, \"type\": \"scatterpolargl\"}], \"scatterternary\": [{\"marker\": {\"colorbar\": {\"outlinewidth\": 0, \"ticks\": \"\"}}, \"type\": \"scatterternary\"}], \"surface\": [{\"colorbar\": {\"outlinewidth\": 0, \"ticks\": \"\"}, \"colorscale\": [[0.0, \"#0d0887\"], [0.1111111111111111, \"#46039f\"], [0.2222222222222222, \"#7201a8\"], [0.3333333333333333, \"#9c179e\"], [0.4444444444444444, \"#bd3786\"], [0.5555555555555556, \"#d8576b\"], [0.6666666666666666, \"#ed7953\"], [0.7777777777777778, \"#fb9f3a\"], [0.8888888888888888, \"#fdca26\"], [1.0, \"#f0f921\"]], \"type\": \"surface\"}], \"table\": [{\"cells\": {\"fill\": {\"color\": \"#EBF0F8\"}, \"line\": {\"color\": \"white\"}}, \"header\": {\"fill\": {\"color\": \"#C8D4E3\"}, \"line\": {\"color\": \"white\"}}, \"type\": \"table\"}]}, \"layout\": {\"annotationdefaults\": {\"arrowcolor\": \"#2a3f5f\", \"arrowhead\": 0, \"arrowwidth\": 1}, \"coloraxis\": {\"colorbar\": {\"outlinewidth\": 0, \"ticks\": \"\"}}, \"colorscale\": {\"diverging\": [[0, \"#8e0152\"], [0.1, \"#c51b7d\"], [0.2, \"#de77ae\"], [0.3, \"#f1b6da\"], [0.4, \"#fde0ef\"], [0.5, \"#f7f7f7\"], [0.6, \"#e6f5d0\"], [0.7, \"#b8e186\"], [0.8, \"#7fbc41\"], [0.9, \"#4d9221\"], [1, \"#276419\"]], \"sequential\": [[0.0, \"#0d0887\"], [0.1111111111111111, \"#46039f\"], [0.2222222222222222, \"#7201a8\"], [0.3333333333333333, \"#9c179e\"], [0.4444444444444444, \"#bd3786\"], [0.5555555555555556, \"#d8576b\"], [0.6666666666666666, \"#ed7953\"], [0.7777777777777778, \"#fb9f3a\"], [0.8888888888888888, \"#fdca26\"], [1.0, \"#f0f921\"]], \"sequentialminus\": [[0.0, \"#0d0887\"], [0.1111111111111111, \"#46039f\"], [0.2222222222222222, \"#7201a8\"], [0.3333333333333333, \"#9c179e\"], [0.4444444444444444, \"#bd3786\"], [0.5555555555555556, \"#d8576b\"], [0.6666666666666666, \"#ed7953\"], [0.7777777777777778, \"#fb9f3a\"], [0.8888888888888888, \"#fdca26\"], [1.0, \"#f0f921\"]]}, \"colorway\": [\"#636efa\", \"#EF553B\", \"#00cc96\", \"#ab63fa\", \"#FFA15A\", \"#19d3f3\", \"#FF6692\", \"#B6E880\", \"#FF97FF\", \"#FECB52\"], \"font\": {\"color\": \"#2a3f5f\"}, \"geo\": {\"bgcolor\": \"white\", \"lakecolor\": \"white\", \"landcolor\": \"#E5ECF6\", \"showlakes\": true, \"showland\": true, \"subunitcolor\": \"white\"}, \"hoverlabel\": {\"align\": \"left\"}, \"hovermode\": \"closest\", \"mapbox\": {\"style\": \"light\"}, \"paper_bgcolor\": \"white\", \"plot_bgcolor\": \"#E5ECF6\", \"polar\": {\"angularaxis\": {\"gridcolor\": \"white\", \"linecolor\": \"white\", \"ticks\": \"\"}, \"bgcolor\": \"#E5ECF6\", \"radialaxis\": {\"gridcolor\": \"white\", \"linecolor\": \"white\", \"ticks\": \"\"}}, \"scene\": {\"xaxis\": {\"backgroundcolor\": \"#E5ECF6\", \"gridcolor\": \"white\", \"gridwidth\": 2, \"linecolor\": \"white\", \"showbackground\": true, \"ticks\": \"\", \"zerolinecolor\": \"white\"}, \"yaxis\": {\"backgroundcolor\": \"#E5ECF6\", \"gridcolor\": \"white\", \"gridwidth\": 2, \"linecolor\": \"white\", \"showbackground\": true, \"ticks\": \"\", \"zerolinecolor\": \"white\"}, \"zaxis\": {\"backgroundcolor\": \"#E5ECF6\", \"gridcolor\": \"white\", \"gridwidth\": 2, \"linecolor\": \"white\", \"showbackground\": true, \"ticks\": \"\", \"zerolinecolor\": \"white\"}}, \"shapedefaults\": {\"line\": {\"color\": \"#2a3f5f\"}}, \"ternary\": {\"aaxis\": {\"gridcolor\": \"white\", \"linecolor\": \"white\", \"ticks\": \"\"}, \"baxis\": {\"gridcolor\": \"white\", \"linecolor\": \"white\", \"ticks\": \"\"}, \"bgcolor\": \"#E5ECF6\", \"caxis\": {\"gridcolor\": \"white\", \"linecolor\": \"white\", \"ticks\": \"\"}}, \"title\": {\"x\": 0.05}, \"xaxis\": {\"automargin\": true, \"gridcolor\": \"white\", \"linecolor\": \"white\", \"ticks\": \"\", \"title\": {\"standoff\": 15}, \"zerolinecolor\": \"white\", \"zerolinewidth\": 2}, \"yaxis\": {\"automargin\": true, \"gridcolor\": \"white\", \"linecolor\": \"white\", \"ticks\": \"\", \"title\": {\"standoff\": 15}, \"zerolinecolor\": \"white\", \"zerolinewidth\": 2}}}, \"title\": {\"text\": \"Cohort 15: First Year Donations by Repeat Donors\"}, \"xaxis\": {\"anchor\": \"y\", \"domain\": [0.0, 1.0], \"title\": {\"text\": \"cohort_gift_pattern\"}, \"type\": \"category\"}, \"yaxis\": {\"anchor\": \"x\", \"domain\": [0.0, 1.0], \"title\": {\"text\": \"amount_yr0\"}}},\n",
       "                        {\"responsive\": true}\n",
       "                    ).then(function(){\n",
       "                            \n",
       "var gd = document.getElementById('e96cc634-8ddc-4148-a5a4-d1a6d32d3955');\n",
       "var x = new MutationObserver(function (mutations, observer) {{\n",
       "        var display = window.getComputedStyle(gd).display;\n",
       "        if (!display || display === 'none') {{\n",
       "            console.log([gd, 'removed!']);\n",
       "            Plotly.purge(gd);\n",
       "            observer.disconnect();\n",
       "        }}\n",
       "}});\n",
       "\n",
       "// Listen for the removal of the full notebook cells\n",
       "var notebookContainer = gd.closest('#notebook-container');\n",
       "if (notebookContainer) {{\n",
       "    x.observe(notebookContainer, {childList: true});\n",
       "}}\n",
       "\n",
       "// Listen for the clearing of the current output cell\n",
       "var outputEl = gd.closest('.output');\n",
       "if (outputEl) {{\n",
       "    x.observe(outputEl, {childList: true});\n",
       "}}\n",
       "\n",
       "                        })\n",
       "                };\n",
       "                });\n",
       "            </script>\n",
       "        </div>"
      ]
     },
     "metadata": {},
     "output_type": "display_data"
    }
   ],
   "source": [
    "fig = px.bar(c15_yr0, x=\"cohort_gift_pattern\", y=\"amount_yr0\", color=\"perc_years_donated\",\n",
    "            title=\"Cohort 15: First Year Donations by Repeat Donors\", hover_data=['pct_of_amount_yr0'])\n",
    " #barmode='group', labels={'index':'year', 'y':'amount ($)'}, \n",
    "fig.update_xaxes(type='category')\n",
    "fig.show()"
   ]
  },
  {
   "cell_type": "code",
   "execution_count": 143,
   "metadata": {},
   "outputs": [],
   "source": [
    "#ax = sns.barplot(x=\"cohort_gift_pattern\", y=\"amount_yr0\", data=c13__reset)"
   ]
  },
  {
   "cell_type": "code",
   "execution_count": 226,
   "metadata": {},
   "outputs": [
    {
     "data": {
      "text/html": [
       "<div>\n",
       "<style scoped>\n",
       "    .dataframe tbody tr th:only-of-type {\n",
       "        vertical-align: middle;\n",
       "    }\n",
       "\n",
       "    .dataframe tbody tr th {\n",
       "        vertical-align: top;\n",
       "    }\n",
       "\n",
       "    .dataframe thead th {\n",
       "        text-align: right;\n",
       "    }\n",
       "</style>\n",
       "<table border=\"1\" class=\"dataframe\">\n",
       "  <thead>\n",
       "    <tr style=\"text-align: right;\">\n",
       "      <th></th>\n",
       "      <th>cohort_gift_pattern</th>\n",
       "      <th>years_donated</th>\n",
       "      <th>perc_years_donated</th>\n",
       "      <th>amount_yr0</th>\n",
       "      <th>pct_of_amount_yr0</th>\n",
       "    </tr>\n",
       "  </thead>\n",
       "  <tbody>\n",
       "    <tr>\n",
       "      <td>0</td>\n",
       "      <td>0,1,</td>\n",
       "      <td>2</td>\n",
       "      <td>0.4</td>\n",
       "      <td>3129086.44</td>\n",
       "      <td>0.367870</td>\n",
       "    </tr>\n",
       "    <tr>\n",
       "      <td>1</td>\n",
       "      <td>0,1,2,</td>\n",
       "      <td>3</td>\n",
       "      <td>0.6</td>\n",
       "      <td>1998490.47</td>\n",
       "      <td>0.234952</td>\n",
       "    </tr>\n",
       "    <tr>\n",
       "      <td>2</td>\n",
       "      <td>0,1,2,3,</td>\n",
       "      <td>3</td>\n",
       "      <td>0.6</td>\n",
       "      <td>1473566.41</td>\n",
       "      <td>0.173240</td>\n",
       "    </tr>\n",
       "    <tr>\n",
       "      <td>3</td>\n",
       "      <td>0,2,</td>\n",
       "      <td>2</td>\n",
       "      <td>0.4</td>\n",
       "      <td>1411805.23</td>\n",
       "      <td>0.165979</td>\n",
       "    </tr>\n",
       "    <tr>\n",
       "      <td>4</td>\n",
       "      <td>0,2,3,</td>\n",
       "      <td>2</td>\n",
       "      <td>0.4</td>\n",
       "      <td>263383.30</td>\n",
       "      <td>0.030965</td>\n",
       "    </tr>\n",
       "    <tr>\n",
       "      <td>5</td>\n",
       "      <td>0,1,3,</td>\n",
       "      <td>2</td>\n",
       "      <td>0.4</td>\n",
       "      <td>229616.69</td>\n",
       "      <td>0.026995</td>\n",
       "    </tr>\n",
       "  </tbody>\n",
       "</table>\n",
       "</div>"
      ],
      "text/plain": [
       "  cohort_gift_pattern years_donated perc_years_donated  amount_yr0  \\\n",
       "0                0,1,             2                0.4  3129086.44   \n",
       "1              0,1,2,             3                0.6  1998490.47   \n",
       "2            0,1,2,3,             3                0.6  1473566.41   \n",
       "3                0,2,             2                0.4  1411805.23   \n",
       "4              0,2,3,             2                0.4   263383.30   \n",
       "5              0,1,3,             2                0.4   229616.69   \n",
       "\n",
       "   pct_of_amount_yr0  \n",
       "0           0.367870  \n",
       "1           0.234952  \n",
       "2           0.173240  \n",
       "3           0.165979  \n",
       "4           0.030965  \n",
       "5           0.026995  "
      ]
     },
     "execution_count": 226,
     "metadata": {},
     "output_type": "execute_result"
    }
   ],
   "source": [
    "c15_yr0"
   ]
  },
  {
   "cell_type": "code",
   "execution_count": 166,
   "metadata": {},
   "outputs": [],
   "source": [
    "#transpose\n",
    "c15_=c15_yr0.T.reset_index()"
   ]
  },
  {
   "cell_type": "code",
   "execution_count": 167,
   "metadata": {},
   "outputs": [
    {
     "data": {
      "text/html": [
       "<div>\n",
       "<style scoped>\n",
       "    .dataframe tbody tr th:only-of-type {\n",
       "        vertical-align: middle;\n",
       "    }\n",
       "\n",
       "    .dataframe tbody tr th {\n",
       "        vertical-align: top;\n",
       "    }\n",
       "\n",
       "    .dataframe thead th {\n",
       "        text-align: right;\n",
       "    }\n",
       "</style>\n",
       "<table border=\"1\" class=\"dataframe\">\n",
       "  <thead>\n",
       "    <tr style=\"text-align: right;\">\n",
       "      <th></th>\n",
       "      <th>index</th>\n",
       "      <th>0</th>\n",
       "      <th>1</th>\n",
       "      <th>2</th>\n",
       "      <th>3</th>\n",
       "      <th>4</th>\n",
       "      <th>5</th>\n",
       "      <th>6</th>\n",
       "      <th>7</th>\n",
       "      <th>8</th>\n",
       "      <th>9</th>\n",
       "      <th>10</th>\n",
       "      <th>11</th>\n",
       "      <th>12</th>\n",
       "      <th>13</th>\n",
       "      <th>14</th>\n",
       "    </tr>\n",
       "  </thead>\n",
       "  <tbody>\n",
       "    <tr>\n",
       "      <td>0</td>\n",
       "      <td>cohort_gift_pattern</td>\n",
       "      <td>0,1,2,3,4,</td>\n",
       "      <td>0,1,</td>\n",
       "      <td>0,2,</td>\n",
       "      <td>0,1,2,</td>\n",
       "      <td>0,1,2,3,</td>\n",
       "      <td>0,3,</td>\n",
       "      <td>0,1,2,4,</td>\n",
       "      <td>0,1,3,</td>\n",
       "      <td>0,4,</td>\n",
       "      <td>0,1,3,4,</td>\n",
       "      <td>0,1,4,</td>\n",
       "      <td>0,2,3,4,</td>\n",
       "      <td>0,2,3,</td>\n",
       "      <td>0,3,4</td>\n",
       "      <td>0,2,4,</td>\n",
       "    </tr>\n",
       "    <tr>\n",
       "      <td>1</td>\n",
       "      <td>years_donated</td>\n",
       "      <td>5</td>\n",
       "      <td>2</td>\n",
       "      <td>2</td>\n",
       "      <td>3</td>\n",
       "      <td>4</td>\n",
       "      <td>2</td>\n",
       "      <td>4</td>\n",
       "      <td>3</td>\n",
       "      <td>2</td>\n",
       "      <td>4</td>\n",
       "      <td>3</td>\n",
       "      <td>4</td>\n",
       "      <td>3</td>\n",
       "      <td>3</td>\n",
       "      <td>3</td>\n",
       "    </tr>\n",
       "    <tr>\n",
       "      <td>2</td>\n",
       "      <td>amount_yr0</td>\n",
       "      <td>5.20967e+06</td>\n",
       "      <td>3.65589e+06</td>\n",
       "      <td>1.63161e+06</td>\n",
       "      <td>1.5283e+06</td>\n",
       "      <td>1.12434e+06</td>\n",
       "      <td>538437</td>\n",
       "      <td>482861</td>\n",
       "      <td>404407</td>\n",
       "      <td>395076</td>\n",
       "      <td>335332</td>\n",
       "      <td>278397</td>\n",
       "      <td>273685</td>\n",
       "      <td>246635</td>\n",
       "      <td>227617</td>\n",
       "      <td>146543</td>\n",
       "    </tr>\n",
       "    <tr>\n",
       "      <td>3</td>\n",
       "      <td>amount_yr1</td>\n",
       "      <td>7.60027e+06</td>\n",
       "      <td>3.06806e+06</td>\n",
       "      <td>0</td>\n",
       "      <td>1.64113e+06</td>\n",
       "      <td>1.2883e+06</td>\n",
       "      <td>0</td>\n",
       "      <td>541434</td>\n",
       "      <td>444218</td>\n",
       "      <td>0</td>\n",
       "      <td>371149</td>\n",
       "      <td>313141</td>\n",
       "      <td>0</td>\n",
       "      <td>0</td>\n",
       "      <td>0</td>\n",
       "      <td>0</td>\n",
       "    </tr>\n",
       "    <tr>\n",
       "      <td>4</td>\n",
       "      <td>amount_yr2</td>\n",
       "      <td>7.76437e+06</td>\n",
       "      <td>0</td>\n",
       "      <td>1.07463e+06</td>\n",
       "      <td>1.23103e+06</td>\n",
       "      <td>1.12118e+06</td>\n",
       "      <td>0</td>\n",
       "      <td>523237</td>\n",
       "      <td>0</td>\n",
       "      <td>0</td>\n",
       "      <td>0</td>\n",
       "      <td>0</td>\n",
       "      <td>390220</td>\n",
       "      <td>315061</td>\n",
       "      <td>0</td>\n",
       "      <td>167584</td>\n",
       "    </tr>\n",
       "    <tr>\n",
       "      <td>5</td>\n",
       "      <td>amount_yr3</td>\n",
       "      <td>7.92753e+06</td>\n",
       "      <td>0</td>\n",
       "      <td>0</td>\n",
       "      <td>0</td>\n",
       "      <td>871183</td>\n",
       "      <td>611542</td>\n",
       "      <td>0</td>\n",
       "      <td>370153</td>\n",
       "      <td>0</td>\n",
       "      <td>449080</td>\n",
       "      <td>0</td>\n",
       "      <td>489484</td>\n",
       "      <td>293010</td>\n",
       "      <td>386285</td>\n",
       "      <td>0</td>\n",
       "    </tr>\n",
       "    <tr>\n",
       "      <td>6</td>\n",
       "      <td>amount_yr4</td>\n",
       "      <td>8.16999e+06</td>\n",
       "      <td>0</td>\n",
       "      <td>0</td>\n",
       "      <td>0</td>\n",
       "      <td>0</td>\n",
       "      <td>0</td>\n",
       "      <td>511598</td>\n",
       "      <td>0</td>\n",
       "      <td>532082</td>\n",
       "      <td>473806</td>\n",
       "      <td>285466</td>\n",
       "      <td>540792</td>\n",
       "      <td>0</td>\n",
       "      <td>457401</td>\n",
       "      <td>184625</td>\n",
       "    </tr>\n",
       "    <tr>\n",
       "      <td>7</td>\n",
       "      <td>Pct_of_amount_yr0</td>\n",
       "      <td>0.316144</td>\n",
       "      <td>0.221854</td>\n",
       "      <td>0.0990127</td>\n",
       "      <td>0.0927432</td>\n",
       "      <td>0.0682293</td>\n",
       "      <td>0.0326746</td>\n",
       "      <td>0.029302</td>\n",
       "      <td>0.0245411</td>\n",
       "      <td>0.0239748</td>\n",
       "      <td>0.0203493</td>\n",
       "      <td>0.0168943</td>\n",
       "      <td>0.0166083</td>\n",
       "      <td>0.0149668</td>\n",
       "      <td>0.0138128</td>\n",
       "      <td>0.00889282</td>\n",
       "    </tr>\n",
       "    <tr>\n",
       "      <td>8</td>\n",
       "      <td>pct_of_amount_yr0</td>\n",
       "      <td>0.316144</td>\n",
       "      <td>0.221854</td>\n",
       "      <td>0.0990127</td>\n",
       "      <td>0.0927432</td>\n",
       "      <td>0.0682293</td>\n",
       "      <td>0.0326746</td>\n",
       "      <td>0.029302</td>\n",
       "      <td>0.0245411</td>\n",
       "      <td>0.0239748</td>\n",
       "      <td>0.0203493</td>\n",
       "      <td>0.0168943</td>\n",
       "      <td>0.0166083</td>\n",
       "      <td>0.0149668</td>\n",
       "      <td>0.0138128</td>\n",
       "      <td>0.00889282</td>\n",
       "    </tr>\n",
       "  </tbody>\n",
       "</table>\n",
       "</div>"
      ],
      "text/plain": [
       "                 index            0            1            2            3  \\\n",
       "0  cohort_gift_pattern   0,1,2,3,4,         0,1,         0,2,       0,1,2,   \n",
       "1        years_donated            5            2            2            3   \n",
       "2           amount_yr0  5.20967e+06  3.65589e+06  1.63161e+06   1.5283e+06   \n",
       "3           amount_yr1  7.60027e+06  3.06806e+06            0  1.64113e+06   \n",
       "4           amount_yr2  7.76437e+06            0  1.07463e+06  1.23103e+06   \n",
       "5           amount_yr3  7.92753e+06            0            0            0   \n",
       "6           amount_yr4  8.16999e+06            0            0            0   \n",
       "7    Pct_of_amount_yr0     0.316144     0.221854    0.0990127    0.0927432   \n",
       "8    pct_of_amount_yr0     0.316144     0.221854    0.0990127    0.0927432   \n",
       "\n",
       "             4          5         6          7          8          9  \\\n",
       "0     0,1,2,3,       0,3,  0,1,2,4,     0,1,3,       0,4,   0,1,3,4,   \n",
       "1            4          2         4          3          2          4   \n",
       "2  1.12434e+06     538437    482861     404407     395076     335332   \n",
       "3   1.2883e+06          0    541434     444218          0     371149   \n",
       "4  1.12118e+06          0    523237          0          0          0   \n",
       "5       871183     611542         0     370153          0     449080   \n",
       "6            0          0    511598          0     532082     473806   \n",
       "7    0.0682293  0.0326746  0.029302  0.0245411  0.0239748  0.0203493   \n",
       "8    0.0682293  0.0326746  0.029302  0.0245411  0.0239748  0.0203493   \n",
       "\n",
       "          10         11         12         13          14  \n",
       "0     0,1,4,   0,2,3,4,     0,2,3,      0,3,4      0,2,4,  \n",
       "1          3          4          3          3           3  \n",
       "2     278397     273685     246635     227617      146543  \n",
       "3     313141          0          0          0           0  \n",
       "4          0     390220     315061          0      167584  \n",
       "5          0     489484     293010     386285           0  \n",
       "6     285466     540792          0     457401      184625  \n",
       "7  0.0168943  0.0166083  0.0149668  0.0138128  0.00889282  \n",
       "8  0.0168943  0.0166083  0.0149668  0.0138128  0.00889282  "
      ]
     },
     "execution_count": 167,
     "metadata": {},
     "output_type": "execute_result"
    }
   ],
   "source": [
    "c13_repeat_yr_amounts_transposed"
   ]
  },
  {
   "cell_type": "code",
   "execution_count": null,
   "metadata": {},
   "outputs": [],
   "source": [
    "df.rename(columns=df.iloc[0]).drop(df.index[0])\n"
   ]
  },
  {
   "cell_type": "code",
   "execution_count": 14,
   "metadata": {},
   "outputs": [],
   "source": [
    "#c13_repeat_yr_amounts_transposed.to_csv('c13_repeat.csv')"
   ]
  },
  {
   "cell_type": "code",
   "execution_count": 293,
   "metadata": {},
   "outputs": [
    {
     "data": {
      "text/html": [
       "<div>\n",
       "<style scoped>\n",
       "    .dataframe tbody tr th:only-of-type {\n",
       "        vertical-align: middle;\n",
       "    }\n",
       "\n",
       "    .dataframe tbody tr th {\n",
       "        vertical-align: top;\n",
       "    }\n",
       "\n",
       "    .dataframe thead th {\n",
       "        text-align: right;\n",
       "    }\n",
       "</style>\n",
       "<table border=\"1\" class=\"dataframe\">\n",
       "  <thead>\n",
       "    <tr style=\"text-align: right;\">\n",
       "      <th></th>\n",
       "      <th>index</th>\n",
       "      <th>0</th>\n",
       "      <th>1</th>\n",
       "      <th>2</th>\n",
       "      <th>3</th>\n",
       "      <th>4</th>\n",
       "      <th>5</th>\n",
       "      <th>6</th>\n",
       "      <th>7</th>\n",
       "      <th>8</th>\n",
       "      <th>9</th>\n",
       "      <th>10</th>\n",
       "      <th>11</th>\n",
       "      <th>12</th>\n",
       "      <th>13</th>\n",
       "      <th>14</th>\n",
       "    </tr>\n",
       "  </thead>\n",
       "  <tbody>\n",
       "    <tr>\n",
       "      <td>0</td>\n",
       "      <td>cohort_gift_pattern</td>\n",
       "      <td>0,1,2,3,4,</td>\n",
       "      <td>0,1,</td>\n",
       "      <td>0,2,</td>\n",
       "      <td>0,1,2,</td>\n",
       "      <td>0,1,2,3,</td>\n",
       "      <td>0,3,</td>\n",
       "      <td>0,1,2,4,</td>\n",
       "      <td>0,1,3,</td>\n",
       "      <td>0,4,</td>\n",
       "      <td>0,1,3,4,</td>\n",
       "      <td>0,1,4,</td>\n",
       "      <td>0,2,3,4,</td>\n",
       "      <td>0,2,3,</td>\n",
       "      <td>0,3,4</td>\n",
       "      <td>0,2,4,</td>\n",
       "    </tr>\n",
       "    <tr>\n",
       "      <td>1</td>\n",
       "      <td>years_donated</td>\n",
       "      <td>5</td>\n",
       "      <td>2</td>\n",
       "      <td>2</td>\n",
       "      <td>3</td>\n",
       "      <td>4</td>\n",
       "      <td>2</td>\n",
       "      <td>4</td>\n",
       "      <td>3</td>\n",
       "      <td>2</td>\n",
       "      <td>4</td>\n",
       "      <td>3</td>\n",
       "      <td>4</td>\n",
       "      <td>3</td>\n",
       "      <td>3</td>\n",
       "      <td>3</td>\n",
       "    </tr>\n",
       "    <tr>\n",
       "      <td>2</td>\n",
       "      <td>amount_yr0</td>\n",
       "      <td>5.20967e+06</td>\n",
       "      <td>3.65589e+06</td>\n",
       "      <td>1.63161e+06</td>\n",
       "      <td>1.5283e+06</td>\n",
       "      <td>1.12434e+06</td>\n",
       "      <td>538437</td>\n",
       "      <td>482861</td>\n",
       "      <td>404407</td>\n",
       "      <td>395076</td>\n",
       "      <td>335332</td>\n",
       "      <td>278397</td>\n",
       "      <td>273685</td>\n",
       "      <td>246635</td>\n",
       "      <td>227617</td>\n",
       "      <td>146543</td>\n",
       "    </tr>\n",
       "    <tr>\n",
       "      <td>3</td>\n",
       "      <td>amount_yr1</td>\n",
       "      <td>7.60027e+06</td>\n",
       "      <td>3.06806e+06</td>\n",
       "      <td>0</td>\n",
       "      <td>1.64113e+06</td>\n",
       "      <td>1.2883e+06</td>\n",
       "      <td>0</td>\n",
       "      <td>541434</td>\n",
       "      <td>444218</td>\n",
       "      <td>0</td>\n",
       "      <td>371149</td>\n",
       "      <td>313141</td>\n",
       "      <td>0</td>\n",
       "      <td>0</td>\n",
       "      <td>0</td>\n",
       "      <td>0</td>\n",
       "    </tr>\n",
       "    <tr>\n",
       "      <td>4</td>\n",
       "      <td>amount_yr2</td>\n",
       "      <td>7.76437e+06</td>\n",
       "      <td>0</td>\n",
       "      <td>1.07463e+06</td>\n",
       "      <td>1.23103e+06</td>\n",
       "      <td>1.12118e+06</td>\n",
       "      <td>0</td>\n",
       "      <td>523237</td>\n",
       "      <td>0</td>\n",
       "      <td>0</td>\n",
       "      <td>0</td>\n",
       "      <td>0</td>\n",
       "      <td>390220</td>\n",
       "      <td>315061</td>\n",
       "      <td>0</td>\n",
       "      <td>167584</td>\n",
       "    </tr>\n",
       "    <tr>\n",
       "      <td>5</td>\n",
       "      <td>amount_yr3</td>\n",
       "      <td>7.92753e+06</td>\n",
       "      <td>0</td>\n",
       "      <td>0</td>\n",
       "      <td>0</td>\n",
       "      <td>871183</td>\n",
       "      <td>611542</td>\n",
       "      <td>0</td>\n",
       "      <td>370153</td>\n",
       "      <td>0</td>\n",
       "      <td>449080</td>\n",
       "      <td>0</td>\n",
       "      <td>489484</td>\n",
       "      <td>293010</td>\n",
       "      <td>386285</td>\n",
       "      <td>0</td>\n",
       "    </tr>\n",
       "    <tr>\n",
       "      <td>6</td>\n",
       "      <td>amount_yr4</td>\n",
       "      <td>8.16999e+06</td>\n",
       "      <td>0</td>\n",
       "      <td>0</td>\n",
       "      <td>0</td>\n",
       "      <td>0</td>\n",
       "      <td>0</td>\n",
       "      <td>511598</td>\n",
       "      <td>0</td>\n",
       "      <td>532082</td>\n",
       "      <td>473806</td>\n",
       "      <td>285466</td>\n",
       "      <td>540792</td>\n",
       "      <td>0</td>\n",
       "      <td>457401</td>\n",
       "      <td>184625</td>\n",
       "    </tr>\n",
       "    <tr>\n",
       "      <td>7</td>\n",
       "      <td>Pct_of_amount_yr0</td>\n",
       "      <td>0.316144</td>\n",
       "      <td>0.221854</td>\n",
       "      <td>0.0990127</td>\n",
       "      <td>0.0927432</td>\n",
       "      <td>0.0682293</td>\n",
       "      <td>0.0326746</td>\n",
       "      <td>0.029302</td>\n",
       "      <td>0.0245411</td>\n",
       "      <td>0.0239748</td>\n",
       "      <td>0.0203493</td>\n",
       "      <td>0.0168943</td>\n",
       "      <td>0.0166083</td>\n",
       "      <td>0.0149668</td>\n",
       "      <td>0.0138128</td>\n",
       "      <td>0.00889282</td>\n",
       "    </tr>\n",
       "    <tr>\n",
       "      <td>8</td>\n",
       "      <td>pct_of_amount_yr0</td>\n",
       "      <td>0.316144</td>\n",
       "      <td>0.221854</td>\n",
       "      <td>0.0990127</td>\n",
       "      <td>0.0927432</td>\n",
       "      <td>0.0682293</td>\n",
       "      <td>0.0326746</td>\n",
       "      <td>0.029302</td>\n",
       "      <td>0.0245411</td>\n",
       "      <td>0.0239748</td>\n",
       "      <td>0.0203493</td>\n",
       "      <td>0.0168943</td>\n",
       "      <td>0.0166083</td>\n",
       "      <td>0.0149668</td>\n",
       "      <td>0.0138128</td>\n",
       "      <td>0.00889282</td>\n",
       "    </tr>\n",
       "  </tbody>\n",
       "</table>\n",
       "</div>"
      ],
      "text/plain": [
       "                 index            0            1            2            3  \\\n",
       "0  cohort_gift_pattern   0,1,2,3,4,         0,1,         0,2,       0,1,2,   \n",
       "1        years_donated            5            2            2            3   \n",
       "2           amount_yr0  5.20967e+06  3.65589e+06  1.63161e+06   1.5283e+06   \n",
       "3           amount_yr1  7.60027e+06  3.06806e+06            0  1.64113e+06   \n",
       "4           amount_yr2  7.76437e+06            0  1.07463e+06  1.23103e+06   \n",
       "5           amount_yr3  7.92753e+06            0            0            0   \n",
       "6           amount_yr4  8.16999e+06            0            0            0   \n",
       "7    Pct_of_amount_yr0     0.316144     0.221854    0.0990127    0.0927432   \n",
       "8    pct_of_amount_yr0     0.316144     0.221854    0.0990127    0.0927432   \n",
       "\n",
       "             4          5         6          7          8          9  \\\n",
       "0     0,1,2,3,       0,3,  0,1,2,4,     0,1,3,       0,4,   0,1,3,4,   \n",
       "1            4          2         4          3          2          4   \n",
       "2  1.12434e+06     538437    482861     404407     395076     335332   \n",
       "3   1.2883e+06          0    541434     444218          0     371149   \n",
       "4  1.12118e+06          0    523237          0          0          0   \n",
       "5       871183     611542         0     370153          0     449080   \n",
       "6            0          0    511598          0     532082     473806   \n",
       "7    0.0682293  0.0326746  0.029302  0.0245411  0.0239748  0.0203493   \n",
       "8    0.0682293  0.0326746  0.029302  0.0245411  0.0239748  0.0203493   \n",
       "\n",
       "          10         11         12         13          14  \n",
       "0     0,1,4,   0,2,3,4,     0,2,3,      0,3,4      0,2,4,  \n",
       "1          3          4          3          3           3  \n",
       "2     278397     273685     246635     227617      146543  \n",
       "3     313141          0          0          0           0  \n",
       "4          0     390220     315061          0      167584  \n",
       "5          0     489484     293010     386285           0  \n",
       "6     285466     540792          0     457401      184625  \n",
       "7  0.0168943  0.0166083  0.0149668  0.0138128  0.00889282  \n",
       "8  0.0168943  0.0166083  0.0149668  0.0138128  0.00889282  "
      ]
     },
     "execution_count": 293,
     "metadata": {},
     "output_type": "execute_result"
    }
   ],
   "source": [
    "c13_repeat_yr_amounts_transposed"
   ]
  },
  {
   "cell_type": "code",
   "execution_count": 324,
   "metadata": {},
   "outputs": [
    {
     "data": {
      "text/html": [
       "<div>\n",
       "<style scoped>\n",
       "    .dataframe tbody tr th:only-of-type {\n",
       "        vertical-align: middle;\n",
       "    }\n",
       "\n",
       "    .dataframe tbody tr th {\n",
       "        vertical-align: top;\n",
       "    }\n",
       "\n",
       "    .dataframe thead th {\n",
       "        text-align: right;\n",
       "    }\n",
       "</style>\n",
       "<table border=\"1\" class=\"dataframe\">\n",
       "  <thead>\n",
       "    <tr style=\"text-align: right;\">\n",
       "      <th></th>\n",
       "      <th>cohort_gift_pattern</th>\n",
       "      <th>0,1,2,3,4,</th>\n",
       "      <th>0,1,</th>\n",
       "      <th>0,2,</th>\n",
       "      <th>0,1,2,</th>\n",
       "      <th>0,1,2,3,</th>\n",
       "      <th>0,3,</th>\n",
       "      <th>0,1,2,4,</th>\n",
       "      <th>0,1,3,</th>\n",
       "      <th>0,4,</th>\n",
       "      <th>0,1,3,4,</th>\n",
       "      <th>0,1,4,</th>\n",
       "      <th>0,2,3,4,</th>\n",
       "      <th>0,2,3,</th>\n",
       "      <th>0,3,4</th>\n",
       "      <th>0,2,4,</th>\n",
       "    </tr>\n",
       "  </thead>\n",
       "  <tbody>\n",
       "    <tr>\n",
       "      <td>1</td>\n",
       "      <td>years_donated</td>\n",
       "      <td>5</td>\n",
       "      <td>2</td>\n",
       "      <td>2</td>\n",
       "      <td>3</td>\n",
       "      <td>4</td>\n",
       "      <td>2</td>\n",
       "      <td>4</td>\n",
       "      <td>3</td>\n",
       "      <td>2</td>\n",
       "      <td>4</td>\n",
       "      <td>3</td>\n",
       "      <td>4</td>\n",
       "      <td>3</td>\n",
       "      <td>3</td>\n",
       "      <td>3</td>\n",
       "    </tr>\n",
       "    <tr>\n",
       "      <td>2</td>\n",
       "      <td>amount_yr0</td>\n",
       "      <td>5.20967e+06</td>\n",
       "      <td>3.65589e+06</td>\n",
       "      <td>1.63161e+06</td>\n",
       "      <td>1.5283e+06</td>\n",
       "      <td>1.12434e+06</td>\n",
       "      <td>538437</td>\n",
       "      <td>482861</td>\n",
       "      <td>404407</td>\n",
       "      <td>395076</td>\n",
       "      <td>335332</td>\n",
       "      <td>278397</td>\n",
       "      <td>273685</td>\n",
       "      <td>246635</td>\n",
       "      <td>227617</td>\n",
       "      <td>146543</td>\n",
       "    </tr>\n",
       "    <tr>\n",
       "      <td>3</td>\n",
       "      <td>amount_yr1</td>\n",
       "      <td>7.60027e+06</td>\n",
       "      <td>3.06806e+06</td>\n",
       "      <td>0</td>\n",
       "      <td>1.64113e+06</td>\n",
       "      <td>1.2883e+06</td>\n",
       "      <td>0</td>\n",
       "      <td>541434</td>\n",
       "      <td>444218</td>\n",
       "      <td>0</td>\n",
       "      <td>371149</td>\n",
       "      <td>313141</td>\n",
       "      <td>0</td>\n",
       "      <td>0</td>\n",
       "      <td>0</td>\n",
       "      <td>0</td>\n",
       "    </tr>\n",
       "    <tr>\n",
       "      <td>4</td>\n",
       "      <td>amount_yr2</td>\n",
       "      <td>7.76437e+06</td>\n",
       "      <td>0</td>\n",
       "      <td>1.07463e+06</td>\n",
       "      <td>1.23103e+06</td>\n",
       "      <td>1.12118e+06</td>\n",
       "      <td>0</td>\n",
       "      <td>523237</td>\n",
       "      <td>0</td>\n",
       "      <td>0</td>\n",
       "      <td>0</td>\n",
       "      <td>0</td>\n",
       "      <td>390220</td>\n",
       "      <td>315061</td>\n",
       "      <td>0</td>\n",
       "      <td>167584</td>\n",
       "    </tr>\n",
       "    <tr>\n",
       "      <td>5</td>\n",
       "      <td>amount_yr3</td>\n",
       "      <td>7.92753e+06</td>\n",
       "      <td>0</td>\n",
       "      <td>0</td>\n",
       "      <td>0</td>\n",
       "      <td>871183</td>\n",
       "      <td>611542</td>\n",
       "      <td>0</td>\n",
       "      <td>370153</td>\n",
       "      <td>0</td>\n",
       "      <td>449080</td>\n",
       "      <td>0</td>\n",
       "      <td>489484</td>\n",
       "      <td>293010</td>\n",
       "      <td>386285</td>\n",
       "      <td>0</td>\n",
       "    </tr>\n",
       "    <tr>\n",
       "      <td>6</td>\n",
       "      <td>amount_yr4</td>\n",
       "      <td>8.16999e+06</td>\n",
       "      <td>0</td>\n",
       "      <td>0</td>\n",
       "      <td>0</td>\n",
       "      <td>0</td>\n",
       "      <td>0</td>\n",
       "      <td>511598</td>\n",
       "      <td>0</td>\n",
       "      <td>532082</td>\n",
       "      <td>473806</td>\n",
       "      <td>285466</td>\n",
       "      <td>540792</td>\n",
       "      <td>0</td>\n",
       "      <td>457401</td>\n",
       "      <td>184625</td>\n",
       "    </tr>\n",
       "    <tr>\n",
       "      <td>7</td>\n",
       "      <td>Pct_of_amount_yr0</td>\n",
       "      <td>0.316144</td>\n",
       "      <td>0.221854</td>\n",
       "      <td>0.0990127</td>\n",
       "      <td>0.0927432</td>\n",
       "      <td>0.0682293</td>\n",
       "      <td>0.0326746</td>\n",
       "      <td>0.029302</td>\n",
       "      <td>0.0245411</td>\n",
       "      <td>0.0239748</td>\n",
       "      <td>0.0203493</td>\n",
       "      <td>0.0168943</td>\n",
       "      <td>0.0166083</td>\n",
       "      <td>0.0149668</td>\n",
       "      <td>0.0138128</td>\n",
       "      <td>0.00889282</td>\n",
       "    </tr>\n",
       "    <tr>\n",
       "      <td>8</td>\n",
       "      <td>pct_of_amount_yr0</td>\n",
       "      <td>0.316144</td>\n",
       "      <td>0.221854</td>\n",
       "      <td>0.0990127</td>\n",
       "      <td>0.0927432</td>\n",
       "      <td>0.0682293</td>\n",
       "      <td>0.0326746</td>\n",
       "      <td>0.029302</td>\n",
       "      <td>0.0245411</td>\n",
       "      <td>0.0239748</td>\n",
       "      <td>0.0203493</td>\n",
       "      <td>0.0168943</td>\n",
       "      <td>0.0166083</td>\n",
       "      <td>0.0149668</td>\n",
       "      <td>0.0138128</td>\n",
       "      <td>0.00889282</td>\n",
       "    </tr>\n",
       "  </tbody>\n",
       "</table>\n",
       "</div>"
      ],
      "text/plain": [
       "  cohort_gift_pattern   0,1,2,3,4,         0,1,         0,2,       0,1,2,  \\\n",
       "1       years_donated            5            2            2            3   \n",
       "2          amount_yr0  5.20967e+06  3.65589e+06  1.63161e+06   1.5283e+06   \n",
       "3          amount_yr1  7.60027e+06  3.06806e+06            0  1.64113e+06   \n",
       "4          amount_yr2  7.76437e+06            0  1.07463e+06  1.23103e+06   \n",
       "5          amount_yr3  7.92753e+06            0            0            0   \n",
       "6          amount_yr4  8.16999e+06            0            0            0   \n",
       "7   Pct_of_amount_yr0     0.316144     0.221854    0.0990127    0.0927432   \n",
       "8   pct_of_amount_yr0     0.316144     0.221854    0.0990127    0.0927432   \n",
       "\n",
       "      0,1,2,3,       0,3,  0,1,2,4,     0,1,3,       0,4,   0,1,3,4,  \\\n",
       "1            4          2         4          3          2          4   \n",
       "2  1.12434e+06     538437    482861     404407     395076     335332   \n",
       "3   1.2883e+06          0    541434     444218          0     371149   \n",
       "4  1.12118e+06          0    523237          0          0          0   \n",
       "5       871183     611542         0     370153          0     449080   \n",
       "6            0          0    511598          0     532082     473806   \n",
       "7    0.0682293  0.0326746  0.029302  0.0245411  0.0239748  0.0203493   \n",
       "8    0.0682293  0.0326746  0.029302  0.0245411  0.0239748  0.0203493   \n",
       "\n",
       "      0,1,4,   0,2,3,4,     0,2,3,      0,3,4      0,2,4,  \n",
       "1          3          4          3          3           3  \n",
       "2     278397     273685     246635     227617      146543  \n",
       "3     313141          0          0          0           0  \n",
       "4          0     390220     315061          0      167584  \n",
       "5          0     489484     293010     386285           0  \n",
       "6     285466     540792          0     457401      184625  \n",
       "7  0.0168943  0.0166083  0.0149668  0.0138128  0.00889282  \n",
       "8  0.0168943  0.0166083  0.0149668  0.0138128  0.00889282  "
      ]
     },
     "execution_count": 324,
     "metadata": {},
     "output_type": "execute_result"
    }
   ],
   "source": [
    "c13_fix=c13_repeat_yr_amounts_transposed.rename(columns=c13_repeat_yr_amounts_transposed.iloc[0]).drop(c13_repeat_yr_amounts_transposed.index[0])\n",
    "c13_fix"
   ]
  },
  {
   "cell_type": "code",
   "execution_count": 333,
   "metadata": {},
   "outputs": [
    {
     "data": {
      "application/vnd.plotly.v1+json": {
       "config": {
        "plotlyServerURL": "https://plot.ly"
       },
       "data": [
        {
         "alignmentgroup": "True",
         "hovertemplate": "variable=0,1,2,3,4,<br>value=%{x}<br>count=%{y}<extra></extra>",
         "legendgroup": "0,1,2,3,4,",
         "marker": {
          "color": "#636efa"
         },
         "name": "0,1,2,3,4,",
         "offsetgroup": "0,1,2,3,4,",
         "orientation": "v",
         "showlegend": true,
         "textposition": "auto",
         "type": "bar",
         "x": [
          5209667.210000017
         ],
         "xaxis": "x",
         "y": [
          1
         ],
         "yaxis": "y"
        },
        {
         "alignmentgroup": "True",
         "hovertemplate": "variable=0,1,<br>value=%{x}<br>count=%{y}<extra></extra>",
         "legendgroup": "0,1,",
         "marker": {
          "color": "#EF553B"
         },
         "name": "0,1,",
         "offsetgroup": "0,1,",
         "orientation": "v",
         "showlegend": true,
         "textposition": "auto",
         "type": "bar",
         "x": [
          3655885.410000013
         ],
         "xaxis": "x",
         "y": [
          1
         ],
         "yaxis": "y"
        },
        {
         "alignmentgroup": "True",
         "hovertemplate": "variable=0,2,<br>value=%{x}<br>count=%{y}<extra></extra>",
         "legendgroup": "0,2,",
         "marker": {
          "color": "#00cc96"
         },
         "name": "0,2,",
         "offsetgroup": "0,2,",
         "orientation": "v",
         "showlegend": true,
         "textposition": "auto",
         "type": "bar",
         "x": [
          1631608.529999998
         ],
         "xaxis": "x",
         "y": [
          1
         ],
         "yaxis": "y"
        },
        {
         "alignmentgroup": "True",
         "hovertemplate": "variable=0,1,2,<br>value=%{x}<br>count=%{y}<extra></extra>",
         "legendgroup": "0,1,2,",
         "marker": {
          "color": "#ab63fa"
         },
         "name": "0,1,2,",
         "offsetgroup": "0,1,2,",
         "orientation": "v",
         "showlegend": true,
         "textposition": "auto",
         "type": "bar",
         "x": [
          1528295.3399999985
         ],
         "xaxis": "x",
         "y": [
          1
         ],
         "yaxis": "y"
        },
        {
         "alignmentgroup": "True",
         "hovertemplate": "variable=0,1,2,3,<br>value=%{x}<br>count=%{y}<extra></extra>",
         "legendgroup": "0,1,2,3,",
         "marker": {
          "color": "#FFA15A"
         },
         "name": "0,1,2,3,",
         "offsetgroup": "0,1,2,3,",
         "orientation": "v",
         "showlegend": true,
         "textposition": "auto",
         "type": "bar",
         "x": [
          1124336.2
         ],
         "xaxis": "x",
         "y": [
          1
         ],
         "yaxis": "y"
        },
        {
         "alignmentgroup": "True",
         "hovertemplate": "variable=0,3,<br>value=%{x}<br>count=%{y}<extra></extra>",
         "legendgroup": "0,3,",
         "marker": {
          "color": "#19d3f3"
         },
         "name": "0,3,",
         "offsetgroup": "0,3,",
         "orientation": "v",
         "showlegend": true,
         "textposition": "auto",
         "type": "bar",
         "x": [
          538437.0999999997
         ],
         "xaxis": "x",
         "y": [
          1
         ],
         "yaxis": "y"
        },
        {
         "alignmentgroup": "True",
         "hovertemplate": "variable=0,1,2,4,<br>value=%{x}<br>count=%{y}<extra></extra>",
         "legendgroup": "0,1,2,4,",
         "marker": {
          "color": "#FF6692"
         },
         "name": "0,1,2,4,",
         "offsetgroup": "0,1,2,4,",
         "orientation": "v",
         "showlegend": true,
         "textposition": "auto",
         "type": "bar",
         "x": [
          482861.08999999985
         ],
         "xaxis": "x",
         "y": [
          1
         ],
         "yaxis": "y"
        },
        {
         "alignmentgroup": "True",
         "hovertemplate": "variable=0,1,3,<br>value=%{x}<br>count=%{y}<extra></extra>",
         "legendgroup": "0,1,3,",
         "marker": {
          "color": "#B6E880"
         },
         "name": "0,1,3,",
         "offsetgroup": "0,1,3,",
         "orientation": "v",
         "showlegend": true,
         "textposition": "auto",
         "type": "bar",
         "x": [
          404406.91999999987
         ],
         "xaxis": "x",
         "y": [
          1
         ],
         "yaxis": "y"
        },
        {
         "alignmentgroup": "True",
         "hovertemplate": "variable=0,4,<br>value=%{x}<br>count=%{y}<extra></extra>",
         "legendgroup": "0,4,",
         "marker": {
          "color": "#FF97FF"
         },
         "name": "0,4,",
         "offsetgroup": "0,4,",
         "orientation": "v",
         "showlegend": true,
         "textposition": "auto",
         "type": "bar",
         "x": [
          395075.69
         ],
         "xaxis": "x",
         "y": [
          1
         ],
         "yaxis": "y"
        },
        {
         "alignmentgroup": "True",
         "hovertemplate": "variable=0,1,3,4,<br>value=%{x}<br>count=%{y}<extra></extra>",
         "legendgroup": "0,1,3,4,",
         "marker": {
          "color": "#FECB52"
         },
         "name": "0,1,3,4,",
         "offsetgroup": "0,1,3,4,",
         "orientation": "v",
         "showlegend": true,
         "textposition": "auto",
         "type": "bar",
         "x": [
          335331.86999999994
         ],
         "xaxis": "x",
         "y": [
          1
         ],
         "yaxis": "y"
        },
        {
         "alignmentgroup": "True",
         "hovertemplate": "variable=0,1,4,<br>value=%{x}<br>count=%{y}<extra></extra>",
         "legendgroup": "0,1,4,",
         "marker": {
          "color": "#636efa"
         },
         "name": "0,1,4,",
         "offsetgroup": "0,1,4,",
         "orientation": "v",
         "showlegend": true,
         "textposition": "auto",
         "type": "bar",
         "x": [
          278396.7
         ],
         "xaxis": "x",
         "y": [
          1
         ],
         "yaxis": "y"
        },
        {
         "alignmentgroup": "True",
         "hovertemplate": "variable=0,2,3,4,<br>value=%{x}<br>count=%{y}<extra></extra>",
         "legendgroup": "0,2,3,4,",
         "marker": {
          "color": "#EF553B"
         },
         "name": "0,2,3,4,",
         "offsetgroup": "0,2,3,4,",
         "orientation": "v",
         "showlegend": true,
         "textposition": "auto",
         "type": "bar",
         "x": [
          273684.57
         ],
         "xaxis": "x",
         "y": [
          1
         ],
         "yaxis": "y"
        },
        {
         "alignmentgroup": "True",
         "hovertemplate": "variable=0,2,3,<br>value=%{x}<br>count=%{y}<extra></extra>",
         "legendgroup": "0,2,3,",
         "marker": {
          "color": "#00cc96"
         },
         "name": "0,2,3,",
         "offsetgroup": "0,2,3,",
         "orientation": "v",
         "showlegend": true,
         "textposition": "auto",
         "type": "bar",
         "x": [
          246634.9199999998
         ],
         "xaxis": "x",
         "y": [
          1
         ],
         "yaxis": "y"
        },
        {
         "alignmentgroup": "True",
         "hovertemplate": "variable=0,3,4<br>value=%{x}<br>count=%{y}<extra></extra>",
         "legendgroup": "0,3,4",
         "marker": {
          "color": "#ab63fa"
         },
         "name": "0,3,4",
         "offsetgroup": "0,3,4",
         "orientation": "v",
         "showlegend": true,
         "textposition": "auto",
         "type": "bar",
         "x": [
          227617.38999999998
         ],
         "xaxis": "x",
         "y": [
          1
         ],
         "yaxis": "y"
        },
        {
         "alignmentgroup": "True",
         "hovertemplate": "variable=0,2,4,<br>value=%{x}<br>count=%{y}<extra></extra>",
         "legendgroup": "0,2,4,",
         "marker": {
          "color": "#FFA15A"
         },
         "name": "0,2,4,",
         "offsetgroup": "0,2,4,",
         "orientation": "v",
         "showlegend": true,
         "textposition": "auto",
         "type": "bar",
         "x": [
          146542.83999999997
         ],
         "xaxis": "x",
         "y": [
          1
         ],
         "yaxis": "y"
        }
       ],
       "layout": {
        "barmode": "relative",
        "legend": {
         "title": {
          "text": "variable"
         },
         "tracegroupgap": 0
        },
        "margin": {
         "t": 60
        },
        "template": {
         "data": {
          "bar": [
           {
            "error_x": {
             "color": "#2a3f5f"
            },
            "error_y": {
             "color": "#2a3f5f"
            },
            "marker": {
             "line": {
              "color": "#E5ECF6",
              "width": 0.5
             }
            },
            "type": "bar"
           }
          ],
          "barpolar": [
           {
            "marker": {
             "line": {
              "color": "#E5ECF6",
              "width": 0.5
             }
            },
            "type": "barpolar"
           }
          ],
          "carpet": [
           {
            "aaxis": {
             "endlinecolor": "#2a3f5f",
             "gridcolor": "white",
             "linecolor": "white",
             "minorgridcolor": "white",
             "startlinecolor": "#2a3f5f"
            },
            "baxis": {
             "endlinecolor": "#2a3f5f",
             "gridcolor": "white",
             "linecolor": "white",
             "minorgridcolor": "white",
             "startlinecolor": "#2a3f5f"
            },
            "type": "carpet"
           }
          ],
          "choropleth": [
           {
            "colorbar": {
             "outlinewidth": 0,
             "ticks": ""
            },
            "type": "choropleth"
           }
          ],
          "contour": [
           {
            "colorbar": {
             "outlinewidth": 0,
             "ticks": ""
            },
            "colorscale": [
             [
              0,
              "#0d0887"
             ],
             [
              0.1111111111111111,
              "#46039f"
             ],
             [
              0.2222222222222222,
              "#7201a8"
             ],
             [
              0.3333333333333333,
              "#9c179e"
             ],
             [
              0.4444444444444444,
              "#bd3786"
             ],
             [
              0.5555555555555556,
              "#d8576b"
             ],
             [
              0.6666666666666666,
              "#ed7953"
             ],
             [
              0.7777777777777778,
              "#fb9f3a"
             ],
             [
              0.8888888888888888,
              "#fdca26"
             ],
             [
              1,
              "#f0f921"
             ]
            ],
            "type": "contour"
           }
          ],
          "contourcarpet": [
           {
            "colorbar": {
             "outlinewidth": 0,
             "ticks": ""
            },
            "type": "contourcarpet"
           }
          ],
          "heatmap": [
           {
            "colorbar": {
             "outlinewidth": 0,
             "ticks": ""
            },
            "colorscale": [
             [
              0,
              "#0d0887"
             ],
             [
              0.1111111111111111,
              "#46039f"
             ],
             [
              0.2222222222222222,
              "#7201a8"
             ],
             [
              0.3333333333333333,
              "#9c179e"
             ],
             [
              0.4444444444444444,
              "#bd3786"
             ],
             [
              0.5555555555555556,
              "#d8576b"
             ],
             [
              0.6666666666666666,
              "#ed7953"
             ],
             [
              0.7777777777777778,
              "#fb9f3a"
             ],
             [
              0.8888888888888888,
              "#fdca26"
             ],
             [
              1,
              "#f0f921"
             ]
            ],
            "type": "heatmap"
           }
          ],
          "heatmapgl": [
           {
            "colorbar": {
             "outlinewidth": 0,
             "ticks": ""
            },
            "colorscale": [
             [
              0,
              "#0d0887"
             ],
             [
              0.1111111111111111,
              "#46039f"
             ],
             [
              0.2222222222222222,
              "#7201a8"
             ],
             [
              0.3333333333333333,
              "#9c179e"
             ],
             [
              0.4444444444444444,
              "#bd3786"
             ],
             [
              0.5555555555555556,
              "#d8576b"
             ],
             [
              0.6666666666666666,
              "#ed7953"
             ],
             [
              0.7777777777777778,
              "#fb9f3a"
             ],
             [
              0.8888888888888888,
              "#fdca26"
             ],
             [
              1,
              "#f0f921"
             ]
            ],
            "type": "heatmapgl"
           }
          ],
          "histogram": [
           {
            "marker": {
             "colorbar": {
              "outlinewidth": 0,
              "ticks": ""
             }
            },
            "type": "histogram"
           }
          ],
          "histogram2d": [
           {
            "colorbar": {
             "outlinewidth": 0,
             "ticks": ""
            },
            "colorscale": [
             [
              0,
              "#0d0887"
             ],
             [
              0.1111111111111111,
              "#46039f"
             ],
             [
              0.2222222222222222,
              "#7201a8"
             ],
             [
              0.3333333333333333,
              "#9c179e"
             ],
             [
              0.4444444444444444,
              "#bd3786"
             ],
             [
              0.5555555555555556,
              "#d8576b"
             ],
             [
              0.6666666666666666,
              "#ed7953"
             ],
             [
              0.7777777777777778,
              "#fb9f3a"
             ],
             [
              0.8888888888888888,
              "#fdca26"
             ],
             [
              1,
              "#f0f921"
             ]
            ],
            "type": "histogram2d"
           }
          ],
          "histogram2dcontour": [
           {
            "colorbar": {
             "outlinewidth": 0,
             "ticks": ""
            },
            "colorscale": [
             [
              0,
              "#0d0887"
             ],
             [
              0.1111111111111111,
              "#46039f"
             ],
             [
              0.2222222222222222,
              "#7201a8"
             ],
             [
              0.3333333333333333,
              "#9c179e"
             ],
             [
              0.4444444444444444,
              "#bd3786"
             ],
             [
              0.5555555555555556,
              "#d8576b"
             ],
             [
              0.6666666666666666,
              "#ed7953"
             ],
             [
              0.7777777777777778,
              "#fb9f3a"
             ],
             [
              0.8888888888888888,
              "#fdca26"
             ],
             [
              1,
              "#f0f921"
             ]
            ],
            "type": "histogram2dcontour"
           }
          ],
          "mesh3d": [
           {
            "colorbar": {
             "outlinewidth": 0,
             "ticks": ""
            },
            "type": "mesh3d"
           }
          ],
          "parcoords": [
           {
            "line": {
             "colorbar": {
              "outlinewidth": 0,
              "ticks": ""
             }
            },
            "type": "parcoords"
           }
          ],
          "pie": [
           {
            "automargin": true,
            "type": "pie"
           }
          ],
          "scatter": [
           {
            "marker": {
             "colorbar": {
              "outlinewidth": 0,
              "ticks": ""
             }
            },
            "type": "scatter"
           }
          ],
          "scatter3d": [
           {
            "line": {
             "colorbar": {
              "outlinewidth": 0,
              "ticks": ""
             }
            },
            "marker": {
             "colorbar": {
              "outlinewidth": 0,
              "ticks": ""
             }
            },
            "type": "scatter3d"
           }
          ],
          "scattercarpet": [
           {
            "marker": {
             "colorbar": {
              "outlinewidth": 0,
              "ticks": ""
             }
            },
            "type": "scattercarpet"
           }
          ],
          "scattergeo": [
           {
            "marker": {
             "colorbar": {
              "outlinewidth": 0,
              "ticks": ""
             }
            },
            "type": "scattergeo"
           }
          ],
          "scattergl": [
           {
            "marker": {
             "colorbar": {
              "outlinewidth": 0,
              "ticks": ""
             }
            },
            "type": "scattergl"
           }
          ],
          "scattermapbox": [
           {
            "marker": {
             "colorbar": {
              "outlinewidth": 0,
              "ticks": ""
             }
            },
            "type": "scattermapbox"
           }
          ],
          "scatterpolar": [
           {
            "marker": {
             "colorbar": {
              "outlinewidth": 0,
              "ticks": ""
             }
            },
            "type": "scatterpolar"
           }
          ],
          "scatterpolargl": [
           {
            "marker": {
             "colorbar": {
              "outlinewidth": 0,
              "ticks": ""
             }
            },
            "type": "scatterpolargl"
           }
          ],
          "scatterternary": [
           {
            "marker": {
             "colorbar": {
              "outlinewidth": 0,
              "ticks": ""
             }
            },
            "type": "scatterternary"
           }
          ],
          "surface": [
           {
            "colorbar": {
             "outlinewidth": 0,
             "ticks": ""
            },
            "colorscale": [
             [
              0,
              "#0d0887"
             ],
             [
              0.1111111111111111,
              "#46039f"
             ],
             [
              0.2222222222222222,
              "#7201a8"
             ],
             [
              0.3333333333333333,
              "#9c179e"
             ],
             [
              0.4444444444444444,
              "#bd3786"
             ],
             [
              0.5555555555555556,
              "#d8576b"
             ],
             [
              0.6666666666666666,
              "#ed7953"
             ],
             [
              0.7777777777777778,
              "#fb9f3a"
             ],
             [
              0.8888888888888888,
              "#fdca26"
             ],
             [
              1,
              "#f0f921"
             ]
            ],
            "type": "surface"
           }
          ],
          "table": [
           {
            "cells": {
             "fill": {
              "color": "#EBF0F8"
             },
             "line": {
              "color": "white"
             }
            },
            "header": {
             "fill": {
              "color": "#C8D4E3"
             },
             "line": {
              "color": "white"
             }
            },
            "type": "table"
           }
          ]
         },
         "layout": {
          "annotationdefaults": {
           "arrowcolor": "#2a3f5f",
           "arrowhead": 0,
           "arrowwidth": 1
          },
          "coloraxis": {
           "colorbar": {
            "outlinewidth": 0,
            "ticks": ""
           }
          },
          "colorscale": {
           "diverging": [
            [
             0,
             "#8e0152"
            ],
            [
             0.1,
             "#c51b7d"
            ],
            [
             0.2,
             "#de77ae"
            ],
            [
             0.3,
             "#f1b6da"
            ],
            [
             0.4,
             "#fde0ef"
            ],
            [
             0.5,
             "#f7f7f7"
            ],
            [
             0.6,
             "#e6f5d0"
            ],
            [
             0.7,
             "#b8e186"
            ],
            [
             0.8,
             "#7fbc41"
            ],
            [
             0.9,
             "#4d9221"
            ],
            [
             1,
             "#276419"
            ]
           ],
           "sequential": [
            [
             0,
             "#0d0887"
            ],
            [
             0.1111111111111111,
             "#46039f"
            ],
            [
             0.2222222222222222,
             "#7201a8"
            ],
            [
             0.3333333333333333,
             "#9c179e"
            ],
            [
             0.4444444444444444,
             "#bd3786"
            ],
            [
             0.5555555555555556,
             "#d8576b"
            ],
            [
             0.6666666666666666,
             "#ed7953"
            ],
            [
             0.7777777777777778,
             "#fb9f3a"
            ],
            [
             0.8888888888888888,
             "#fdca26"
            ],
            [
             1,
             "#f0f921"
            ]
           ],
           "sequentialminus": [
            [
             0,
             "#0d0887"
            ],
            [
             0.1111111111111111,
             "#46039f"
            ],
            [
             0.2222222222222222,
             "#7201a8"
            ],
            [
             0.3333333333333333,
             "#9c179e"
            ],
            [
             0.4444444444444444,
             "#bd3786"
            ],
            [
             0.5555555555555556,
             "#d8576b"
            ],
            [
             0.6666666666666666,
             "#ed7953"
            ],
            [
             0.7777777777777778,
             "#fb9f3a"
            ],
            [
             0.8888888888888888,
             "#fdca26"
            ],
            [
             1,
             "#f0f921"
            ]
           ]
          },
          "colorway": [
           "#636efa",
           "#EF553B",
           "#00cc96",
           "#ab63fa",
           "#FFA15A",
           "#19d3f3",
           "#FF6692",
           "#B6E880",
           "#FF97FF",
           "#FECB52"
          ],
          "font": {
           "color": "#2a3f5f"
          },
          "geo": {
           "bgcolor": "white",
           "lakecolor": "white",
           "landcolor": "#E5ECF6",
           "showlakes": true,
           "showland": true,
           "subunitcolor": "white"
          },
          "hoverlabel": {
           "align": "left"
          },
          "hovermode": "closest",
          "mapbox": {
           "style": "light"
          },
          "paper_bgcolor": "white",
          "plot_bgcolor": "#E5ECF6",
          "polar": {
           "angularaxis": {
            "gridcolor": "white",
            "linecolor": "white",
            "ticks": ""
           },
           "bgcolor": "#E5ECF6",
           "radialaxis": {
            "gridcolor": "white",
            "linecolor": "white",
            "ticks": ""
           }
          },
          "scene": {
           "xaxis": {
            "backgroundcolor": "#E5ECF6",
            "gridcolor": "white",
            "gridwidth": 2,
            "linecolor": "white",
            "showbackground": true,
            "ticks": "",
            "zerolinecolor": "white"
           },
           "yaxis": {
            "backgroundcolor": "#E5ECF6",
            "gridcolor": "white",
            "gridwidth": 2,
            "linecolor": "white",
            "showbackground": true,
            "ticks": "",
            "zerolinecolor": "white"
           },
           "zaxis": {
            "backgroundcolor": "#E5ECF6",
            "gridcolor": "white",
            "gridwidth": 2,
            "linecolor": "white",
            "showbackground": true,
            "ticks": "",
            "zerolinecolor": "white"
           }
          },
          "shapedefaults": {
           "line": {
            "color": "#2a3f5f"
           }
          },
          "ternary": {
           "aaxis": {
            "gridcolor": "white",
            "linecolor": "white",
            "ticks": ""
           },
           "baxis": {
            "gridcolor": "white",
            "linecolor": "white",
            "ticks": ""
           },
           "bgcolor": "#E5ECF6",
           "caxis": {
            "gridcolor": "white",
            "linecolor": "white",
            "ticks": ""
           }
          },
          "title": {
           "x": 0.05
          },
          "xaxis": {
           "automargin": true,
           "gridcolor": "white",
           "linecolor": "white",
           "ticks": "",
           "title": {
            "standoff": 15
           },
           "zerolinecolor": "white",
           "zerolinewidth": 2
          },
          "yaxis": {
           "automargin": true,
           "gridcolor": "white",
           "linecolor": "white",
           "ticks": "",
           "title": {
            "standoff": 15
           },
           "zerolinecolor": "white",
           "zerolinewidth": 2
          }
         }
        },
        "xaxis": {
         "anchor": "y",
         "domain": [
          0,
          1
         ],
         "title": {
          "text": "value"
         },
         "type": "category"
        },
        "yaxis": {
         "anchor": "x",
         "domain": [
          0,
          1
         ],
         "title": {
          "text": "count"
         }
        }
       }
      },
      "text/html": [
       "<div>\n",
       "        \n",
       "        \n",
       "            <div id=\"c86207cc-7e34-450c-a00d-c7b03bbaaa76\" class=\"plotly-graph-div\" style=\"height:525px; width:100%;\"></div>\n",
       "            <script type=\"text/javascript\">\n",
       "                require([\"plotly\"], function(Plotly) {\n",
       "                    window.PLOTLYENV=window.PLOTLYENV || {};\n",
       "                    \n",
       "                if (document.getElementById(\"c86207cc-7e34-450c-a00d-c7b03bbaaa76\")) {\n",
       "                    Plotly.newPlot(\n",
       "                        'c86207cc-7e34-450c-a00d-c7b03bbaaa76',\n",
       "                        [{\"alignmentgroup\": \"True\", \"hovertemplate\": \"variable=0,1,2,3,4,<br>value=%{x}<br>count=%{y}<extra></extra>\", \"legendgroup\": \"0,1,2,3,4,\", \"marker\": {\"color\": \"#636efa\"}, \"name\": \"0,1,2,3,4,\", \"offsetgroup\": \"0,1,2,3,4,\", \"orientation\": \"v\", \"showlegend\": true, \"textposition\": \"auto\", \"type\": \"bar\", \"x\": [5209667.210000017], \"xaxis\": \"x\", \"y\": [1], \"yaxis\": \"y\"}, {\"alignmentgroup\": \"True\", \"hovertemplate\": \"variable=0,1,<br>value=%{x}<br>count=%{y}<extra></extra>\", \"legendgroup\": \"0,1,\", \"marker\": {\"color\": \"#EF553B\"}, \"name\": \"0,1,\", \"offsetgroup\": \"0,1,\", \"orientation\": \"v\", \"showlegend\": true, \"textposition\": \"auto\", \"type\": \"bar\", \"x\": [3655885.410000013], \"xaxis\": \"x\", \"y\": [1], \"yaxis\": \"y\"}, {\"alignmentgroup\": \"True\", \"hovertemplate\": \"variable=0,2,<br>value=%{x}<br>count=%{y}<extra></extra>\", \"legendgroup\": \"0,2,\", \"marker\": {\"color\": \"#00cc96\"}, \"name\": \"0,2,\", \"offsetgroup\": \"0,2,\", \"orientation\": \"v\", \"showlegend\": true, \"textposition\": \"auto\", \"type\": \"bar\", \"x\": [1631608.529999998], \"xaxis\": \"x\", \"y\": [1], \"yaxis\": \"y\"}, {\"alignmentgroup\": \"True\", \"hovertemplate\": \"variable=0,1,2,<br>value=%{x}<br>count=%{y}<extra></extra>\", \"legendgroup\": \"0,1,2,\", \"marker\": {\"color\": \"#ab63fa\"}, \"name\": \"0,1,2,\", \"offsetgroup\": \"0,1,2,\", \"orientation\": \"v\", \"showlegend\": true, \"textposition\": \"auto\", \"type\": \"bar\", \"x\": [1528295.3399999985], \"xaxis\": \"x\", \"y\": [1], \"yaxis\": \"y\"}, {\"alignmentgroup\": \"True\", \"hovertemplate\": \"variable=0,1,2,3,<br>value=%{x}<br>count=%{y}<extra></extra>\", \"legendgroup\": \"0,1,2,3,\", \"marker\": {\"color\": \"#FFA15A\"}, \"name\": \"0,1,2,3,\", \"offsetgroup\": \"0,1,2,3,\", \"orientation\": \"v\", \"showlegend\": true, \"textposition\": \"auto\", \"type\": \"bar\", \"x\": [1124336.2], \"xaxis\": \"x\", \"y\": [1], \"yaxis\": \"y\"}, {\"alignmentgroup\": \"True\", \"hovertemplate\": \"variable=0,3,<br>value=%{x}<br>count=%{y}<extra></extra>\", \"legendgroup\": \"0,3,\", \"marker\": {\"color\": \"#19d3f3\"}, \"name\": \"0,3,\", \"offsetgroup\": \"0,3,\", \"orientation\": \"v\", \"showlegend\": true, \"textposition\": \"auto\", \"type\": \"bar\", \"x\": [538437.0999999997], \"xaxis\": \"x\", \"y\": [1], \"yaxis\": \"y\"}, {\"alignmentgroup\": \"True\", \"hovertemplate\": \"variable=0,1,2,4,<br>value=%{x}<br>count=%{y}<extra></extra>\", \"legendgroup\": \"0,1,2,4,\", \"marker\": {\"color\": \"#FF6692\"}, \"name\": \"0,1,2,4,\", \"offsetgroup\": \"0,1,2,4,\", \"orientation\": \"v\", \"showlegend\": true, \"textposition\": \"auto\", \"type\": \"bar\", \"x\": [482861.08999999985], \"xaxis\": \"x\", \"y\": [1], \"yaxis\": \"y\"}, {\"alignmentgroup\": \"True\", \"hovertemplate\": \"variable=0,1,3,<br>value=%{x}<br>count=%{y}<extra></extra>\", \"legendgroup\": \"0,1,3,\", \"marker\": {\"color\": \"#B6E880\"}, \"name\": \"0,1,3,\", \"offsetgroup\": \"0,1,3,\", \"orientation\": \"v\", \"showlegend\": true, \"textposition\": \"auto\", \"type\": \"bar\", \"x\": [404406.91999999987], \"xaxis\": \"x\", \"y\": [1], \"yaxis\": \"y\"}, {\"alignmentgroup\": \"True\", \"hovertemplate\": \"variable=0,4,<br>value=%{x}<br>count=%{y}<extra></extra>\", \"legendgroup\": \"0,4,\", \"marker\": {\"color\": \"#FF97FF\"}, \"name\": \"0,4,\", \"offsetgroup\": \"0,4,\", \"orientation\": \"v\", \"showlegend\": true, \"textposition\": \"auto\", \"type\": \"bar\", \"x\": [395075.69], \"xaxis\": \"x\", \"y\": [1], \"yaxis\": \"y\"}, {\"alignmentgroup\": \"True\", \"hovertemplate\": \"variable=0,1,3,4,<br>value=%{x}<br>count=%{y}<extra></extra>\", \"legendgroup\": \"0,1,3,4,\", \"marker\": {\"color\": \"#FECB52\"}, \"name\": \"0,1,3,4,\", \"offsetgroup\": \"0,1,3,4,\", \"orientation\": \"v\", \"showlegend\": true, \"textposition\": \"auto\", \"type\": \"bar\", \"x\": [335331.86999999994], \"xaxis\": \"x\", \"y\": [1], \"yaxis\": \"y\"}, {\"alignmentgroup\": \"True\", \"hovertemplate\": \"variable=0,1,4,<br>value=%{x}<br>count=%{y}<extra></extra>\", \"legendgroup\": \"0,1,4,\", \"marker\": {\"color\": \"#636efa\"}, \"name\": \"0,1,4,\", \"offsetgroup\": \"0,1,4,\", \"orientation\": \"v\", \"showlegend\": true, \"textposition\": \"auto\", \"type\": \"bar\", \"x\": [278396.7], \"xaxis\": \"x\", \"y\": [1], \"yaxis\": \"y\"}, {\"alignmentgroup\": \"True\", \"hovertemplate\": \"variable=0,2,3,4,<br>value=%{x}<br>count=%{y}<extra></extra>\", \"legendgroup\": \"0,2,3,4,\", \"marker\": {\"color\": \"#EF553B\"}, \"name\": \"0,2,3,4,\", \"offsetgroup\": \"0,2,3,4,\", \"orientation\": \"v\", \"showlegend\": true, \"textposition\": \"auto\", \"type\": \"bar\", \"x\": [273684.57], \"xaxis\": \"x\", \"y\": [1], \"yaxis\": \"y\"}, {\"alignmentgroup\": \"True\", \"hovertemplate\": \"variable=0,2,3,<br>value=%{x}<br>count=%{y}<extra></extra>\", \"legendgroup\": \"0,2,3,\", \"marker\": {\"color\": \"#00cc96\"}, \"name\": \"0,2,3,\", \"offsetgroup\": \"0,2,3,\", \"orientation\": \"v\", \"showlegend\": true, \"textposition\": \"auto\", \"type\": \"bar\", \"x\": [246634.9199999998], \"xaxis\": \"x\", \"y\": [1], \"yaxis\": \"y\"}, {\"alignmentgroup\": \"True\", \"hovertemplate\": \"variable=0,3,4<br>value=%{x}<br>count=%{y}<extra></extra>\", \"legendgroup\": \"0,3,4\", \"marker\": {\"color\": \"#ab63fa\"}, \"name\": \"0,3,4\", \"offsetgroup\": \"0,3,4\", \"orientation\": \"v\", \"showlegend\": true, \"textposition\": \"auto\", \"type\": \"bar\", \"x\": [227617.38999999998], \"xaxis\": \"x\", \"y\": [1], \"yaxis\": \"y\"}, {\"alignmentgroup\": \"True\", \"hovertemplate\": \"variable=0,2,4,<br>value=%{x}<br>count=%{y}<extra></extra>\", \"legendgroup\": \"0,2,4,\", \"marker\": {\"color\": \"#FFA15A\"}, \"name\": \"0,2,4,\", \"offsetgroup\": \"0,2,4,\", \"orientation\": \"v\", \"showlegend\": true, \"textposition\": \"auto\", \"type\": \"bar\", \"x\": [146542.83999999997], \"xaxis\": \"x\", \"y\": [1], \"yaxis\": \"y\"}],\n",
       "                        {\"barmode\": \"relative\", \"legend\": {\"title\": {\"text\": \"variable\"}, \"tracegroupgap\": 0}, \"margin\": {\"t\": 60}, \"template\": {\"data\": {\"bar\": [{\"error_x\": {\"color\": \"#2a3f5f\"}, \"error_y\": {\"color\": \"#2a3f5f\"}, \"marker\": {\"line\": {\"color\": \"#E5ECF6\", \"width\": 0.5}}, \"type\": \"bar\"}], \"barpolar\": [{\"marker\": {\"line\": {\"color\": \"#E5ECF6\", \"width\": 0.5}}, \"type\": \"barpolar\"}], \"carpet\": [{\"aaxis\": {\"endlinecolor\": \"#2a3f5f\", \"gridcolor\": \"white\", \"linecolor\": \"white\", \"minorgridcolor\": \"white\", \"startlinecolor\": \"#2a3f5f\"}, \"baxis\": {\"endlinecolor\": \"#2a3f5f\", \"gridcolor\": \"white\", \"linecolor\": \"white\", \"minorgridcolor\": \"white\", \"startlinecolor\": \"#2a3f5f\"}, \"type\": \"carpet\"}], \"choropleth\": [{\"colorbar\": {\"outlinewidth\": 0, \"ticks\": \"\"}, \"type\": \"choropleth\"}], \"contour\": [{\"colorbar\": {\"outlinewidth\": 0, \"ticks\": \"\"}, \"colorscale\": [[0.0, \"#0d0887\"], [0.1111111111111111, \"#46039f\"], [0.2222222222222222, \"#7201a8\"], [0.3333333333333333, \"#9c179e\"], [0.4444444444444444, \"#bd3786\"], [0.5555555555555556, \"#d8576b\"], [0.6666666666666666, \"#ed7953\"], [0.7777777777777778, \"#fb9f3a\"], [0.8888888888888888, \"#fdca26\"], [1.0, \"#f0f921\"]], \"type\": \"contour\"}], \"contourcarpet\": [{\"colorbar\": {\"outlinewidth\": 0, \"ticks\": \"\"}, \"type\": \"contourcarpet\"}], \"heatmap\": [{\"colorbar\": {\"outlinewidth\": 0, \"ticks\": \"\"}, \"colorscale\": [[0.0, \"#0d0887\"], [0.1111111111111111, \"#46039f\"], [0.2222222222222222, \"#7201a8\"], [0.3333333333333333, \"#9c179e\"], [0.4444444444444444, \"#bd3786\"], [0.5555555555555556, \"#d8576b\"], [0.6666666666666666, \"#ed7953\"], [0.7777777777777778, \"#fb9f3a\"], [0.8888888888888888, \"#fdca26\"], [1.0, \"#f0f921\"]], \"type\": \"heatmap\"}], \"heatmapgl\": [{\"colorbar\": {\"outlinewidth\": 0, \"ticks\": \"\"}, \"colorscale\": [[0.0, \"#0d0887\"], [0.1111111111111111, \"#46039f\"], [0.2222222222222222, \"#7201a8\"], [0.3333333333333333, \"#9c179e\"], [0.4444444444444444, \"#bd3786\"], [0.5555555555555556, \"#d8576b\"], [0.6666666666666666, \"#ed7953\"], [0.7777777777777778, \"#fb9f3a\"], [0.8888888888888888, \"#fdca26\"], [1.0, \"#f0f921\"]], \"type\": \"heatmapgl\"}], \"histogram\": [{\"marker\": {\"colorbar\": {\"outlinewidth\": 0, \"ticks\": \"\"}}, \"type\": \"histogram\"}], \"histogram2d\": [{\"colorbar\": {\"outlinewidth\": 0, \"ticks\": \"\"}, \"colorscale\": [[0.0, \"#0d0887\"], [0.1111111111111111, \"#46039f\"], [0.2222222222222222, \"#7201a8\"], [0.3333333333333333, \"#9c179e\"], [0.4444444444444444, \"#bd3786\"], [0.5555555555555556, \"#d8576b\"], [0.6666666666666666, \"#ed7953\"], [0.7777777777777778, \"#fb9f3a\"], [0.8888888888888888, \"#fdca26\"], [1.0, \"#f0f921\"]], \"type\": \"histogram2d\"}], \"histogram2dcontour\": [{\"colorbar\": {\"outlinewidth\": 0, \"ticks\": \"\"}, \"colorscale\": [[0.0, \"#0d0887\"], [0.1111111111111111, \"#46039f\"], [0.2222222222222222, \"#7201a8\"], [0.3333333333333333, \"#9c179e\"], [0.4444444444444444, \"#bd3786\"], [0.5555555555555556, \"#d8576b\"], [0.6666666666666666, \"#ed7953\"], [0.7777777777777778, \"#fb9f3a\"], [0.8888888888888888, \"#fdca26\"], [1.0, \"#f0f921\"]], \"type\": \"histogram2dcontour\"}], \"mesh3d\": [{\"colorbar\": {\"outlinewidth\": 0, \"ticks\": \"\"}, \"type\": \"mesh3d\"}], \"parcoords\": [{\"line\": {\"colorbar\": {\"outlinewidth\": 0, \"ticks\": \"\"}}, \"type\": \"parcoords\"}], \"pie\": [{\"automargin\": true, \"type\": \"pie\"}], \"scatter\": [{\"marker\": {\"colorbar\": {\"outlinewidth\": 0, \"ticks\": \"\"}}, \"type\": \"scatter\"}], \"scatter3d\": [{\"line\": {\"colorbar\": {\"outlinewidth\": 0, \"ticks\": \"\"}}, \"marker\": {\"colorbar\": {\"outlinewidth\": 0, \"ticks\": \"\"}}, \"type\": \"scatter3d\"}], \"scattercarpet\": [{\"marker\": {\"colorbar\": {\"outlinewidth\": 0, \"ticks\": \"\"}}, \"type\": \"scattercarpet\"}], \"scattergeo\": [{\"marker\": {\"colorbar\": {\"outlinewidth\": 0, \"ticks\": \"\"}}, \"type\": \"scattergeo\"}], \"scattergl\": [{\"marker\": {\"colorbar\": {\"outlinewidth\": 0, \"ticks\": \"\"}}, \"type\": \"scattergl\"}], \"scattermapbox\": [{\"marker\": {\"colorbar\": {\"outlinewidth\": 0, \"ticks\": \"\"}}, \"type\": \"scattermapbox\"}], \"scatterpolar\": [{\"marker\": {\"colorbar\": {\"outlinewidth\": 0, \"ticks\": \"\"}}, \"type\": \"scatterpolar\"}], \"scatterpolargl\": [{\"marker\": {\"colorbar\": {\"outlinewidth\": 0, \"ticks\": \"\"}}, \"type\": \"scatterpolargl\"}], \"scatterternary\": [{\"marker\": {\"colorbar\": {\"outlinewidth\": 0, \"ticks\": \"\"}}, \"type\": \"scatterternary\"}], \"surface\": [{\"colorbar\": {\"outlinewidth\": 0, \"ticks\": \"\"}, \"colorscale\": [[0.0, \"#0d0887\"], [0.1111111111111111, \"#46039f\"], [0.2222222222222222, \"#7201a8\"], [0.3333333333333333, \"#9c179e\"], [0.4444444444444444, \"#bd3786\"], [0.5555555555555556, \"#d8576b\"], [0.6666666666666666, \"#ed7953\"], [0.7777777777777778, \"#fb9f3a\"], [0.8888888888888888, \"#fdca26\"], [1.0, \"#f0f921\"]], \"type\": \"surface\"}], \"table\": [{\"cells\": {\"fill\": {\"color\": \"#EBF0F8\"}, \"line\": {\"color\": \"white\"}}, \"header\": {\"fill\": {\"color\": \"#C8D4E3\"}, \"line\": {\"color\": \"white\"}}, \"type\": \"table\"}]}, \"layout\": {\"annotationdefaults\": {\"arrowcolor\": \"#2a3f5f\", \"arrowhead\": 0, \"arrowwidth\": 1}, \"coloraxis\": {\"colorbar\": {\"outlinewidth\": 0, \"ticks\": \"\"}}, \"colorscale\": {\"diverging\": [[0, \"#8e0152\"], [0.1, \"#c51b7d\"], [0.2, \"#de77ae\"], [0.3, \"#f1b6da\"], [0.4, \"#fde0ef\"], [0.5, \"#f7f7f7\"], [0.6, \"#e6f5d0\"], [0.7, \"#b8e186\"], [0.8, \"#7fbc41\"], [0.9, \"#4d9221\"], [1, \"#276419\"]], \"sequential\": [[0.0, \"#0d0887\"], [0.1111111111111111, \"#46039f\"], [0.2222222222222222, \"#7201a8\"], [0.3333333333333333, \"#9c179e\"], [0.4444444444444444, \"#bd3786\"], [0.5555555555555556, \"#d8576b\"], [0.6666666666666666, \"#ed7953\"], [0.7777777777777778, \"#fb9f3a\"], [0.8888888888888888, \"#fdca26\"], [1.0, \"#f0f921\"]], \"sequentialminus\": [[0.0, \"#0d0887\"], [0.1111111111111111, \"#46039f\"], [0.2222222222222222, \"#7201a8\"], [0.3333333333333333, \"#9c179e\"], [0.4444444444444444, \"#bd3786\"], [0.5555555555555556, \"#d8576b\"], [0.6666666666666666, \"#ed7953\"], [0.7777777777777778, \"#fb9f3a\"], [0.8888888888888888, \"#fdca26\"], [1.0, \"#f0f921\"]]}, \"colorway\": [\"#636efa\", \"#EF553B\", \"#00cc96\", \"#ab63fa\", \"#FFA15A\", \"#19d3f3\", \"#FF6692\", \"#B6E880\", \"#FF97FF\", \"#FECB52\"], \"font\": {\"color\": \"#2a3f5f\"}, \"geo\": {\"bgcolor\": \"white\", \"lakecolor\": \"white\", \"landcolor\": \"#E5ECF6\", \"showlakes\": true, \"showland\": true, \"subunitcolor\": \"white\"}, \"hoverlabel\": {\"align\": \"left\"}, \"hovermode\": \"closest\", \"mapbox\": {\"style\": \"light\"}, \"paper_bgcolor\": \"white\", \"plot_bgcolor\": \"#E5ECF6\", \"polar\": {\"angularaxis\": {\"gridcolor\": \"white\", \"linecolor\": \"white\", \"ticks\": \"\"}, \"bgcolor\": \"#E5ECF6\", \"radialaxis\": {\"gridcolor\": \"white\", \"linecolor\": \"white\", \"ticks\": \"\"}}, \"scene\": {\"xaxis\": {\"backgroundcolor\": \"#E5ECF6\", \"gridcolor\": \"white\", \"gridwidth\": 2, \"linecolor\": \"white\", \"showbackground\": true, \"ticks\": \"\", \"zerolinecolor\": \"white\"}, \"yaxis\": {\"backgroundcolor\": \"#E5ECF6\", \"gridcolor\": \"white\", \"gridwidth\": 2, \"linecolor\": \"white\", \"showbackground\": true, \"ticks\": \"\", \"zerolinecolor\": \"white\"}, \"zaxis\": {\"backgroundcolor\": \"#E5ECF6\", \"gridcolor\": \"white\", \"gridwidth\": 2, \"linecolor\": \"white\", \"showbackground\": true, \"ticks\": \"\", \"zerolinecolor\": \"white\"}}, \"shapedefaults\": {\"line\": {\"color\": \"#2a3f5f\"}}, \"ternary\": {\"aaxis\": {\"gridcolor\": \"white\", \"linecolor\": \"white\", \"ticks\": \"\"}, \"baxis\": {\"gridcolor\": \"white\", \"linecolor\": \"white\", \"ticks\": \"\"}, \"bgcolor\": \"#E5ECF6\", \"caxis\": {\"gridcolor\": \"white\", \"linecolor\": \"white\", \"ticks\": \"\"}}, \"title\": {\"x\": 0.05}, \"xaxis\": {\"automargin\": true, \"gridcolor\": \"white\", \"linecolor\": \"white\", \"ticks\": \"\", \"title\": {\"standoff\": 15}, \"zerolinecolor\": \"white\", \"zerolinewidth\": 2}, \"yaxis\": {\"automargin\": true, \"gridcolor\": \"white\", \"linecolor\": \"white\", \"ticks\": \"\", \"title\": {\"standoff\": 15}, \"zerolinecolor\": \"white\", \"zerolinewidth\": 2}}}, \"xaxis\": {\"anchor\": \"y\", \"domain\": [0.0, 1.0], \"title\": {\"text\": \"value\"}, \"type\": \"category\"}, \"yaxis\": {\"anchor\": \"x\", \"domain\": [0.0, 1.0], \"title\": {\"text\": \"count\"}}},\n",
       "                        {\"responsive\": true}\n",
       "                    ).then(function(){\n",
       "                            \n",
       "var gd = document.getElementById('c86207cc-7e34-450c-a00d-c7b03bbaaa76');\n",
       "var x = new MutationObserver(function (mutations, observer) {{\n",
       "        var display = window.getComputedStyle(gd).display;\n",
       "        if (!display || display === 'none') {{\n",
       "            console.log([gd, 'removed!']);\n",
       "            Plotly.purge(gd);\n",
       "            observer.disconnect();\n",
       "        }}\n",
       "}});\n",
       "\n",
       "// Listen for the removal of the full notebook cells\n",
       "var notebookContainer = gd.closest('#notebook-container');\n",
       "if (notebookContainer) {{\n",
       "    x.observe(notebookContainer, {childList: true});\n",
       "}}\n",
       "\n",
       "// Listen for the clearing of the current output cell\n",
       "var outputEl = gd.closest('.output');\n",
       "if (outputEl) {{\n",
       "    x.observe(outputEl, {childList: true});\n",
       "}}\n",
       "\n",
       "                        })\n",
       "                };\n",
       "                });\n",
       "            </script>\n",
       "        </div>"
      ]
     },
     "metadata": {},
     "output_type": "display_data"
    }
   ],
   "source": [
    "fig = px.bar(df1, x=df1.index, y=['0,1,2,3,4,', '0,1,', '0,2,', '0,1,2,', '0,1,2,3,', '0,3,', '0,1,2,4,', '0,1,3,', '0,4,', '0,1,3,4,', '0,1,4,', '0,2,3,4,', '0,2,3,', '0,3,4', '0,2,4,'])\n",
    "            # barmode='group') \n",
    "             #labels={'index':'year', 'y':'amount ($)'}, title=\"Donations ($) by Repeat Donors (Cohort 2013)\")\n",
    "fig.update_xaxes(type='category')\n",
    "fig.show()"
   ]
  },
  {
   "cell_type": "code",
   "execution_count": 295,
   "metadata": {},
   "outputs": [],
   "source": [
    "cgp_amounts_by_year=donations_13to17.groupby('cohort_gift_pattern').sum().round(0)"
   ]
  },
  {
   "cell_type": "code",
   "execution_count": 296,
   "metadata": {},
   "outputs": [
    {
     "data": {
      "text/html": [
       "<div>\n",
       "<style scoped>\n",
       "    .dataframe tbody tr th:only-of-type {\n",
       "        vertical-align: middle;\n",
       "    }\n",
       "\n",
       "    .dataframe tbody tr th {\n",
       "        vertical-align: top;\n",
       "    }\n",
       "\n",
       "    .dataframe thead th {\n",
       "        text-align: right;\n",
       "    }\n",
       "</style>\n",
       "<table border=\"1\" class=\"dataframe\">\n",
       "  <thead>\n",
       "    <tr style=\"text-align: right;\">\n",
       "      <th></th>\n",
       "      <th>lapsed_count</th>\n",
       "      <th>recovered_count</th>\n",
       "      <th>max_consec_giving_years</th>\n",
       "      <th>total_giving_years</th>\n",
       "      <th>count_2013</th>\n",
       "      <th>count_2014</th>\n",
       "      <th>count_2015</th>\n",
       "      <th>count_2016</th>\n",
       "      <th>count_2017</th>\n",
       "      <th>count_yr0</th>\n",
       "      <th>...</th>\n",
       "      <th>amount_09_yr4</th>\n",
       "      <th>amount_10_yr4</th>\n",
       "      <th>amount_11_yr4</th>\n",
       "      <th>amount_12_yr4</th>\n",
       "      <th>years_donated</th>\n",
       "      <th>perc_years_donated</th>\n",
       "      <th>gainloss_2014_amt</th>\n",
       "      <th>gainloss_2015_amt</th>\n",
       "      <th>gainloss_2016_amt</th>\n",
       "      <th>gainloss_2017_amt</th>\n",
       "    </tr>\n",
       "    <tr>\n",
       "      <th>cohort_gift_pattern</th>\n",
       "      <th></th>\n",
       "      <th></th>\n",
       "      <th></th>\n",
       "      <th></th>\n",
       "      <th></th>\n",
       "      <th></th>\n",
       "      <th></th>\n",
       "      <th></th>\n",
       "      <th></th>\n",
       "      <th></th>\n",
       "      <th></th>\n",
       "      <th></th>\n",
       "      <th></th>\n",
       "      <th></th>\n",
       "      <th></th>\n",
       "      <th></th>\n",
       "      <th></th>\n",
       "      <th></th>\n",
       "      <th></th>\n",
       "      <th></th>\n",
       "      <th></th>\n",
       "    </tr>\n",
       "  </thead>\n",
       "  <tbody>\n",
       "    <tr>\n",
       "      <td>0,</td>\n",
       "      <td>3098595</td>\n",
       "      <td>1549962</td>\n",
       "      <td>1548633</td>\n",
       "      <td>1549962</td>\n",
       "      <td>281367</td>\n",
       "      <td>299265</td>\n",
       "      <td>343664</td>\n",
       "      <td>459121</td>\n",
       "      <td>568125</td>\n",
       "      <td>1951542</td>\n",
       "      <td>...</td>\n",
       "      <td>0.0</td>\n",
       "      <td>0.0</td>\n",
       "      <td>0.0</td>\n",
       "      <td>0.0</td>\n",
       "      <td>1548633.0</td>\n",
       "      <td>309727.0</td>\n",
       "      <td>3048131.0</td>\n",
       "      <td>4328384.0</td>\n",
       "      <td>5668762.0</td>\n",
       "      <td>4694485.0</td>\n",
       "    </tr>\n",
       "    <tr>\n",
       "      <td>0,1,</td>\n",
       "      <td>456431</td>\n",
       "      <td>324435</td>\n",
       "      <td>323972</td>\n",
       "      <td>324435</td>\n",
       "      <td>64748</td>\n",
       "      <td>102879</td>\n",
       "      <td>90901</td>\n",
       "      <td>133044</td>\n",
       "      <td>189491</td>\n",
       "      <td>351904</td>\n",
       "      <td>...</td>\n",
       "      <td>0.0</td>\n",
       "      <td>0.0</td>\n",
       "      <td>0.0</td>\n",
       "      <td>0.0</td>\n",
       "      <td>293982.0</td>\n",
       "      <td>58796.0</td>\n",
       "      <td>2359743.0</td>\n",
       "      <td>-109154.0</td>\n",
       "      <td>3054899.0</td>\n",
       "      <td>3128162.0</td>\n",
       "    </tr>\n",
       "    <tr>\n",
       "      <td>0,1,2,</td>\n",
       "      <td>140591</td>\n",
       "      <td>113292</td>\n",
       "      <td>112902</td>\n",
       "      <td>113292</td>\n",
       "      <td>26455</td>\n",
       "      <td>47275</td>\n",
       "      <td>63866</td>\n",
       "      <td>83705</td>\n",
       "      <td>113547</td>\n",
       "      <td>111388</td>\n",
       "      <td>...</td>\n",
       "      <td>0.0</td>\n",
       "      <td>0.0</td>\n",
       "      <td>0.0</td>\n",
       "      <td>0.0</td>\n",
       "      <td>102567.0</td>\n",
       "      <td>20513.0</td>\n",
       "      <td>1159993.0</td>\n",
       "      <td>1782759.0</td>\n",
       "      <td>1629577.0</td>\n",
       "      <td>570730.0</td>\n",
       "    </tr>\n",
       "    <tr>\n",
       "      <td>0,1,2,3,</td>\n",
       "      <td>64821</td>\n",
       "      <td>55638</td>\n",
       "      <td>55120</td>\n",
       "      <td>55638</td>\n",
       "      <td>18751</td>\n",
       "      <td>42476</td>\n",
       "      <td>56388</td>\n",
       "      <td>62173</td>\n",
       "      <td>59272</td>\n",
       "      <td>56259</td>\n",
       "      <td>...</td>\n",
       "      <td>85004.0</td>\n",
       "      <td>87641.0</td>\n",
       "      <td>90884.0</td>\n",
       "      <td>184248.0</td>\n",
       "      <td>50523.0</td>\n",
       "      <td>10105.0</td>\n",
       "      <td>1179434.0</td>\n",
       "      <td>1540043.0</td>\n",
       "      <td>1002654.0</td>\n",
       "      <td>-167834.0</td>\n",
       "    </tr>\n",
       "    <tr>\n",
       "      <td>0,1,2,3,4,</td>\n",
       "      <td>75368</td>\n",
       "      <td>70602</td>\n",
       "      <td>70602</td>\n",
       "      <td>70602</td>\n",
       "      <td>106045</td>\n",
       "      <td>172913</td>\n",
       "      <td>149410</td>\n",
       "      <td>142888</td>\n",
       "      <td>153180</td>\n",
       "      <td>127894</td>\n",
       "      <td>...</td>\n",
       "      <td>976480.0</td>\n",
       "      <td>977065.0</td>\n",
       "      <td>1138521.0</td>\n",
       "      <td>1550381.0</td>\n",
       "      <td>62270.0</td>\n",
       "      <td>12454.0</td>\n",
       "      <td>3403146.0</td>\n",
       "      <td>840729.0</td>\n",
       "      <td>794481.0</td>\n",
       "      <td>468917.0</td>\n",
       "    </tr>\n",
       "    <tr>\n",
       "      <td>0,1,2,4,</td>\n",
       "      <td>17162</td>\n",
       "      <td>12421</td>\n",
       "      <td>8895</td>\n",
       "      <td>12421</td>\n",
       "      <td>10972</td>\n",
       "      <td>12195</td>\n",
       "      <td>8673</td>\n",
       "      <td>1467</td>\n",
       "      <td>6532</td>\n",
       "      <td>12650</td>\n",
       "      <td>...</td>\n",
       "      <td>51488.0</td>\n",
       "      <td>39112.0</td>\n",
       "      <td>63446.0</td>\n",
       "      <td>109492.0</td>\n",
       "      <td>11232.0</td>\n",
       "      <td>2246.0</td>\n",
       "      <td>139058.0</td>\n",
       "      <td>16889.0</td>\n",
       "      <td>-533945.0</td>\n",
       "      <td>406734.0</td>\n",
       "    </tr>\n",
       "    <tr>\n",
       "      <td>0,1,3,</td>\n",
       "      <td>39122</td>\n",
       "      <td>24595</td>\n",
       "      <td>16264</td>\n",
       "      <td>24595</td>\n",
       "      <td>6844</td>\n",
       "      <td>13560</td>\n",
       "      <td>10704</td>\n",
       "      <td>8209</td>\n",
       "      <td>6029</td>\n",
       "      <td>17691</td>\n",
       "      <td>...</td>\n",
       "      <td>48118.0</td>\n",
       "      <td>30768.0</td>\n",
       "      <td>32473.0</td>\n",
       "      <td>69327.0</td>\n",
       "      <td>22659.0</td>\n",
       "      <td>4532.0</td>\n",
       "      <td>492193.0</td>\n",
       "      <td>-217654.0</td>\n",
       "      <td>-82836.0</td>\n",
       "      <td>-177706.0</td>\n",
       "    </tr>\n",
       "    <tr>\n",
       "      <td>0,1,3,4,</td>\n",
       "      <td>16037</td>\n",
       "      <td>11830</td>\n",
       "      <td>6200</td>\n",
       "      <td>11830</td>\n",
       "      <td>5221</td>\n",
       "      <td>8010</td>\n",
       "      <td>2292</td>\n",
       "      <td>5243</td>\n",
       "      <td>10504</td>\n",
       "      <td>7792</td>\n",
       "      <td>...</td>\n",
       "      <td>68853.0</td>\n",
       "      <td>51098.0</td>\n",
       "      <td>65495.0</td>\n",
       "      <td>135615.0</td>\n",
       "      <td>10407.0</td>\n",
       "      <td>2081.0</td>\n",
       "      <td>171550.0</td>\n",
       "      <td>-372547.0</td>\n",
       "      <td>314744.0</td>\n",
       "      <td>217226.0</td>\n",
       "    </tr>\n",
       "    <tr>\n",
       "      <td>0,1,4,</td>\n",
       "      <td>14168</td>\n",
       "      <td>9350</td>\n",
       "      <td>5986</td>\n",
       "      <td>9350</td>\n",
       "      <td>6416</td>\n",
       "      <td>6798</td>\n",
       "      <td>1454</td>\n",
       "      <td>0</td>\n",
       "      <td>4562</td>\n",
       "      <td>8261</td>\n",
       "      <td>...</td>\n",
       "      <td>29616.0</td>\n",
       "      <td>22493.0</td>\n",
       "      <td>34206.0</td>\n",
       "      <td>44464.0</td>\n",
       "      <td>8182.0</td>\n",
       "      <td>1636.0</td>\n",
       "      <td>132987.0</td>\n",
       "      <td>-321880.0</td>\n",
       "      <td>-89504.0</td>\n",
       "      <td>285466.0</td>\n",
       "    </tr>\n",
       "    <tr>\n",
       "      <td>0,2,</td>\n",
       "      <td>169520</td>\n",
       "      <td>89056</td>\n",
       "      <td>44401</td>\n",
       "      <td>89056</td>\n",
       "      <td>15530</td>\n",
       "      <td>16513</td>\n",
       "      <td>34723</td>\n",
       "      <td>27873</td>\n",
       "      <td>21402</td>\n",
       "      <td>65682</td>\n",
       "      <td>...</td>\n",
       "      <td>0.0</td>\n",
       "      <td>0.0</td>\n",
       "      <td>0.0</td>\n",
       "      <td>0.0</td>\n",
       "      <td>80464.0</td>\n",
       "      <td>16093.0</td>\n",
       "      <td>-640987.0</td>\n",
       "      <td>1495812.0</td>\n",
       "      <td>-641374.0</td>\n",
       "      <td>-426945.0</td>\n",
       "    </tr>\n",
       "    <tr>\n",
       "      <td>0,2,3,</td>\n",
       "      <td>36196</td>\n",
       "      <td>23059</td>\n",
       "      <td>15252</td>\n",
       "      <td>23059</td>\n",
       "      <td>3985</td>\n",
       "      <td>5281</td>\n",
       "      <td>8063</td>\n",
       "      <td>9764</td>\n",
       "      <td>12396</td>\n",
       "      <td>13189</td>\n",
       "      <td>...</td>\n",
       "      <td>42288.0</td>\n",
       "      <td>32237.0</td>\n",
       "      <td>31783.0</td>\n",
       "      <td>63852.0</td>\n",
       "      <td>20763.0</td>\n",
       "      <td>4153.0</td>\n",
       "      <td>87845.0</td>\n",
       "      <td>243964.0</td>\n",
       "      <td>175929.0</td>\n",
       "      <td>106654.0</td>\n",
       "    </tr>\n",
       "    <tr>\n",
       "      <td>0,2,3,4,</td>\n",
       "      <td>15573</td>\n",
       "      <td>11546</td>\n",
       "      <td>8811</td>\n",
       "      <td>11546</td>\n",
       "      <td>3968</td>\n",
       "      <td>1997</td>\n",
       "      <td>4913</td>\n",
       "      <td>9020</td>\n",
       "      <td>11418</td>\n",
       "      <td>5965</td>\n",
       "      <td>...</td>\n",
       "      <td>69420.0</td>\n",
       "      <td>90822.0</td>\n",
       "      <td>85210.0</td>\n",
       "      <td>125562.0</td>\n",
       "      <td>10103.0</td>\n",
       "      <td>2021.0</td>\n",
       "      <td>-153425.0</td>\n",
       "      <td>269960.0</td>\n",
       "      <td>298440.0</td>\n",
       "      <td>162073.0</td>\n",
       "    </tr>\n",
       "    <tr>\n",
       "      <td>0,2,4,</td>\n",
       "      <td>11628</td>\n",
       "      <td>6386</td>\n",
       "      <td>2316</td>\n",
       "      <td>6386</td>\n",
       "      <td>2475</td>\n",
       "      <td>1020</td>\n",
       "      <td>2503</td>\n",
       "      <td>943</td>\n",
       "      <td>2766</td>\n",
       "      <td>3495</td>\n",
       "      <td>...</td>\n",
       "      <td>15876.0</td>\n",
       "      <td>17099.0</td>\n",
       "      <td>17584.0</td>\n",
       "      <td>27018.0</td>\n",
       "      <td>5523.0</td>\n",
       "      <td>1105.0</td>\n",
       "      <td>-80946.0</td>\n",
       "      <td>101987.0</td>\n",
       "      <td>-91562.0</td>\n",
       "      <td>108603.0</td>\n",
       "    </tr>\n",
       "    <tr>\n",
       "      <td>0,3,</td>\n",
       "      <td>67239</td>\n",
       "      <td>35544</td>\n",
       "      <td>17615</td>\n",
       "      <td>35544</td>\n",
       "      <td>9340</td>\n",
       "      <td>10523</td>\n",
       "      <td>5081</td>\n",
       "      <td>8946</td>\n",
       "      <td>10671</td>\n",
       "      <td>24944</td>\n",
       "      <td>...</td>\n",
       "      <td>73092.0</td>\n",
       "      <td>60172.0</td>\n",
       "      <td>57294.0</td>\n",
       "      <td>86807.0</td>\n",
       "      <td>31695.0</td>\n",
       "      <td>6339.0</td>\n",
       "      <td>90683.0</td>\n",
       "      <td>-297688.0</td>\n",
       "      <td>280109.0</td>\n",
       "      <td>69771.0</td>\n",
       "    </tr>\n",
       "    <tr>\n",
       "      <td>0,3,4</td>\n",
       "      <td>14627</td>\n",
       "      <td>9779</td>\n",
       "      <td>6671</td>\n",
       "      <td>9779</td>\n",
       "      <td>3783</td>\n",
       "      <td>1504</td>\n",
       "      <td>0</td>\n",
       "      <td>4520</td>\n",
       "      <td>12268</td>\n",
       "      <td>5287</td>\n",
       "      <td>...</td>\n",
       "      <td>50306.0</td>\n",
       "      <td>59957.0</td>\n",
       "      <td>57650.0</td>\n",
       "      <td>86880.0</td>\n",
       "      <td>8411.0</td>\n",
       "      <td>1682.0</td>\n",
       "      <td>-124968.0</td>\n",
       "      <td>-102650.0</td>\n",
       "      <td>386285.0</td>\n",
       "      <td>243123.0</td>\n",
       "    </tr>\n",
       "    <tr>\n",
       "      <td>0,4,</td>\n",
       "      <td>25746</td>\n",
       "      <td>14326</td>\n",
       "      <td>7414</td>\n",
       "      <td>14326</td>\n",
       "      <td>7167</td>\n",
       "      <td>2760</td>\n",
       "      <td>0</td>\n",
       "      <td>0</td>\n",
       "      <td>8113</td>\n",
       "      <td>9927</td>\n",
       "      <td>...</td>\n",
       "      <td>52978.0</td>\n",
       "      <td>53569.0</td>\n",
       "      <td>45915.0</td>\n",
       "      <td>91385.0</td>\n",
       "      <td>11922.0</td>\n",
       "      <td>2384.0</td>\n",
       "      <td>-234216.0</td>\n",
       "      <td>-160860.0</td>\n",
       "      <td>0.0</td>\n",
       "      <td>532082.0</td>\n",
       "    </tr>\n",
       "  </tbody>\n",
       "</table>\n",
       "<p>16 rows × 184 columns</p>\n",
       "</div>"
      ],
      "text/plain": [
       "                     lapsed_count  recovered_count  max_consec_giving_years  \\\n",
       "cohort_gift_pattern                                                           \n",
       "0,                        3098595          1549962                  1548633   \n",
       "0,1,                       456431           324435                   323972   \n",
       "0,1,2,                     140591           113292                   112902   \n",
       "0,1,2,3,                    64821            55638                    55120   \n",
       "0,1,2,3,4,                  75368            70602                    70602   \n",
       "0,1,2,4,                    17162            12421                     8895   \n",
       "0,1,3,                      39122            24595                    16264   \n",
       "0,1,3,4,                    16037            11830                     6200   \n",
       "0,1,4,                      14168             9350                     5986   \n",
       "0,2,                       169520            89056                    44401   \n",
       "0,2,3,                      36196            23059                    15252   \n",
       "0,2,3,4,                    15573            11546                     8811   \n",
       "0,2,4,                      11628             6386                     2316   \n",
       "0,3,                        67239            35544                    17615   \n",
       "0,3,4                       14627             9779                     6671   \n",
       "0,4,                        25746            14326                     7414   \n",
       "\n",
       "                     total_giving_years  count_2013  count_2014  count_2015  \\\n",
       "cohort_gift_pattern                                                           \n",
       "0,                              1549962      281367      299265      343664   \n",
       "0,1,                             324435       64748      102879       90901   \n",
       "0,1,2,                           113292       26455       47275       63866   \n",
       "0,1,2,3,                          55638       18751       42476       56388   \n",
       "0,1,2,3,4,                        70602      106045      172913      149410   \n",
       "0,1,2,4,                          12421       10972       12195        8673   \n",
       "0,1,3,                            24595        6844       13560       10704   \n",
       "0,1,3,4,                          11830        5221        8010        2292   \n",
       "0,1,4,                             9350        6416        6798        1454   \n",
       "0,2,                              89056       15530       16513       34723   \n",
       "0,2,3,                            23059        3985        5281        8063   \n",
       "0,2,3,4,                          11546        3968        1997        4913   \n",
       "0,2,4,                             6386        2475        1020        2503   \n",
       "0,3,                              35544        9340       10523        5081   \n",
       "0,3,4                              9779        3783        1504           0   \n",
       "0,4,                              14326        7167        2760           0   \n",
       "\n",
       "                     count_2016  count_2017  count_yr0  ...  amount_09_yr4  \\\n",
       "cohort_gift_pattern                                     ...                  \n",
       "0,                       459121      568125    1951542  ...            0.0   \n",
       "0,1,                     133044      189491     351904  ...            0.0   \n",
       "0,1,2,                    83705      113547     111388  ...            0.0   \n",
       "0,1,2,3,                  62173       59272      56259  ...        85004.0   \n",
       "0,1,2,3,4,               142888      153180     127894  ...       976480.0   \n",
       "0,1,2,4,                   1467        6532      12650  ...        51488.0   \n",
       "0,1,3,                     8209        6029      17691  ...        48118.0   \n",
       "0,1,3,4,                   5243       10504       7792  ...        68853.0   \n",
       "0,1,4,                        0        4562       8261  ...        29616.0   \n",
       "0,2,                      27873       21402      65682  ...            0.0   \n",
       "0,2,3,                     9764       12396      13189  ...        42288.0   \n",
       "0,2,3,4,                   9020       11418       5965  ...        69420.0   \n",
       "0,2,4,                      943        2766       3495  ...        15876.0   \n",
       "0,3,                       8946       10671      24944  ...        73092.0   \n",
       "0,3,4                      4520       12268       5287  ...        50306.0   \n",
       "0,4,                          0        8113       9927  ...        52978.0   \n",
       "\n",
       "                     amount_10_yr4  amount_11_yr4  amount_12_yr4  \\\n",
       "cohort_gift_pattern                                                \n",
       "0,                             0.0            0.0            0.0   \n",
       "0,1,                           0.0            0.0            0.0   \n",
       "0,1,2,                         0.0            0.0            0.0   \n",
       "0,1,2,3,                   87641.0        90884.0       184248.0   \n",
       "0,1,2,3,4,                977065.0      1138521.0      1550381.0   \n",
       "0,1,2,4,                   39112.0        63446.0       109492.0   \n",
       "0,1,3,                     30768.0        32473.0        69327.0   \n",
       "0,1,3,4,                   51098.0        65495.0       135615.0   \n",
       "0,1,4,                     22493.0        34206.0        44464.0   \n",
       "0,2,                           0.0            0.0            0.0   \n",
       "0,2,3,                     32237.0        31783.0        63852.0   \n",
       "0,2,3,4,                   90822.0        85210.0       125562.0   \n",
       "0,2,4,                     17099.0        17584.0        27018.0   \n",
       "0,3,                       60172.0        57294.0        86807.0   \n",
       "0,3,4                      59957.0        57650.0        86880.0   \n",
       "0,4,                       53569.0        45915.0        91385.0   \n",
       "\n",
       "                     years_donated  perc_years_donated  gainloss_2014_amt  \\\n",
       "cohort_gift_pattern                                                         \n",
       "0,                       1548633.0            309727.0          3048131.0   \n",
       "0,1,                      293982.0             58796.0          2359743.0   \n",
       "0,1,2,                    102567.0             20513.0          1159993.0   \n",
       "0,1,2,3,                   50523.0             10105.0          1179434.0   \n",
       "0,1,2,3,4,                 62270.0             12454.0          3403146.0   \n",
       "0,1,2,4,                   11232.0              2246.0           139058.0   \n",
       "0,1,3,                     22659.0              4532.0           492193.0   \n",
       "0,1,3,4,                   10407.0              2081.0           171550.0   \n",
       "0,1,4,                      8182.0              1636.0           132987.0   \n",
       "0,2,                       80464.0             16093.0          -640987.0   \n",
       "0,2,3,                     20763.0              4153.0            87845.0   \n",
       "0,2,3,4,                   10103.0              2021.0          -153425.0   \n",
       "0,2,4,                      5523.0              1105.0           -80946.0   \n",
       "0,3,                       31695.0              6339.0            90683.0   \n",
       "0,3,4                       8411.0              1682.0          -124968.0   \n",
       "0,4,                       11922.0              2384.0          -234216.0   \n",
       "\n",
       "                     gainloss_2015_amt  gainloss_2016_amt  gainloss_2017_amt  \n",
       "cohort_gift_pattern                                                           \n",
       "0,                           4328384.0          5668762.0          4694485.0  \n",
       "0,1,                         -109154.0          3054899.0          3128162.0  \n",
       "0,1,2,                       1782759.0          1629577.0           570730.0  \n",
       "0,1,2,3,                     1540043.0          1002654.0          -167834.0  \n",
       "0,1,2,3,4,                    840729.0           794481.0           468917.0  \n",
       "0,1,2,4,                       16889.0          -533945.0           406734.0  \n",
       "0,1,3,                       -217654.0           -82836.0          -177706.0  \n",
       "0,1,3,4,                     -372547.0           314744.0           217226.0  \n",
       "0,1,4,                       -321880.0           -89504.0           285466.0  \n",
       "0,2,                         1495812.0          -641374.0          -426945.0  \n",
       "0,2,3,                        243964.0           175929.0           106654.0  \n",
       "0,2,3,4,                      269960.0           298440.0           162073.0  \n",
       "0,2,4,                        101987.0           -91562.0           108603.0  \n",
       "0,3,                         -297688.0           280109.0            69771.0  \n",
       "0,3,4                        -102650.0           386285.0           243123.0  \n",
       "0,4,                         -160860.0                0.0           532082.0  \n",
       "\n",
       "[16 rows x 184 columns]"
      ]
     },
     "execution_count": 296,
     "metadata": {},
     "output_type": "execute_result"
    }
   ],
   "source": [
    "cgp_amounts_by_year"
   ]
  },
  {
   "cell_type": "code",
   "execution_count": 297,
   "metadata": {},
   "outputs": [
    {
     "data": {
      "text/plain": [
       "Index(['lapsed_count', 'recovered_count', 'max_consec_giving_years',\n",
       "       'total_giving_years', 'count_2013', 'count_2014', 'count_2015',\n",
       "       'count_2016', 'count_2017', 'count_yr0',\n",
       "       ...\n",
       "       'amount_09_yr4', 'amount_10_yr4', 'amount_11_yr4', 'amount_12_yr4',\n",
       "       'years_donated', 'perc_years_donated', 'gainloss_2014_amt',\n",
       "       'gainloss_2015_amt', 'gainloss_2016_amt', 'gainloss_2017_amt'],\n",
       "      dtype='object', length=184)"
      ]
     },
     "execution_count": 297,
     "metadata": {},
     "output_type": "execute_result"
    }
   ],
   "source": [
    "cgp_amounts_by_year.columns"
   ]
  },
  {
   "cell_type": "code",
   "execution_count": 298,
   "metadata": {},
   "outputs": [],
   "source": [
    "cgp_amounts_by_year1=cgp_amounts_by_year[['amount_yr0','amount_yr1','amount_yr2','amount_yr3','amount_yr4']]"
   ]
  },
  {
   "cell_type": "code",
   "execution_count": 299,
   "metadata": {},
   "outputs": [
    {
     "data": {
      "text/html": [
       "<div>\n",
       "<style scoped>\n",
       "    .dataframe tbody tr th:only-of-type {\n",
       "        vertical-align: middle;\n",
       "    }\n",
       "\n",
       "    .dataframe tbody tr th {\n",
       "        vertical-align: top;\n",
       "    }\n",
       "\n",
       "    .dataframe thead th {\n",
       "        text-align: right;\n",
       "    }\n",
       "</style>\n",
       "<table border=\"1\" class=\"dataframe\">\n",
       "  <thead>\n",
       "    <tr style=\"text-align: right;\">\n",
       "      <th></th>\n",
       "      <th>amount_yr0</th>\n",
       "      <th>amount_yr1</th>\n",
       "      <th>amount_yr2</th>\n",
       "      <th>amount_yr3</th>\n",
       "      <th>amount_yr4</th>\n",
       "    </tr>\n",
       "    <tr>\n",
       "      <th>cohort_gift_pattern</th>\n",
       "      <th></th>\n",
       "      <th></th>\n",
       "      <th></th>\n",
       "      <th></th>\n",
       "      <th></th>\n",
       "    </tr>\n",
       "  </thead>\n",
       "  <tbody>\n",
       "    <tr>\n",
       "      <td>0,</td>\n",
       "      <td>110874596.0</td>\n",
       "      <td>0.0</td>\n",
       "      <td>0.0</td>\n",
       "      <td>0.0</td>\n",
       "      <td>0.0</td>\n",
       "    </tr>\n",
       "    <tr>\n",
       "      <td>0,1,</td>\n",
       "      <td>21879719.0</td>\n",
       "      <td>19299094.0</td>\n",
       "      <td>0.0</td>\n",
       "      <td>0.0</td>\n",
       "      <td>0.0</td>\n",
       "    </tr>\n",
       "    <tr>\n",
       "      <td>0,1,2,</td>\n",
       "      <td>7418513.0</td>\n",
       "      <td>9849242.0</td>\n",
       "      <td>6313826.0</td>\n",
       "      <td>0.0</td>\n",
       "      <td>0.0</td>\n",
       "    </tr>\n",
       "    <tr>\n",
       "      <td>0,1,2,3,</td>\n",
       "      <td>3613375.0</td>\n",
       "      <td>5197408.0</td>\n",
       "      <td>6060847.0</td>\n",
       "      <td>3448636.0</td>\n",
       "      <td>0.0</td>\n",
       "    </tr>\n",
       "    <tr>\n",
       "      <td>0,1,2,3,4,</td>\n",
       "      <td>6222206.0</td>\n",
       "      <td>9289442.0</td>\n",
       "      <td>10084864.0</td>\n",
       "      <td>10474486.0</td>\n",
       "      <td>9280485.0</td>\n",
       "    </tr>\n",
       "    <tr>\n",
       "      <td>0,1,2,4,</td>\n",
       "      <td>563346.0</td>\n",
       "      <td>657005.0</td>\n",
       "      <td>628100.0</td>\n",
       "      <td>0.0</td>\n",
       "      <td>578428.0</td>\n",
       "    </tr>\n",
       "    <tr>\n",
       "      <td>0,1,3,</td>\n",
       "      <td>1086406.0</td>\n",
       "      <td>1119505.0</td>\n",
       "      <td>0.0</td>\n",
       "      <td>957903.0</td>\n",
       "      <td>0.0</td>\n",
       "    </tr>\n",
       "    <tr>\n",
       "      <td>0,1,3,4,</td>\n",
       "      <td>471066.0</td>\n",
       "      <td>505484.0</td>\n",
       "      <td>0.0</td>\n",
       "      <td>641579.0</td>\n",
       "      <td>605238.0</td>\n",
       "    </tr>\n",
       "    <tr>\n",
       "      <td>0,1,4,</td>\n",
       "      <td>376639.0</td>\n",
       "      <td>402645.0</td>\n",
       "      <td>0.0</td>\n",
       "      <td>0.0</td>\n",
       "      <td>360482.0</td>\n",
       "    </tr>\n",
       "    <tr>\n",
       "      <td>0,2,</td>\n",
       "      <td>4895268.0</td>\n",
       "      <td>0.0</td>\n",
       "      <td>4240138.0</td>\n",
       "      <td>0.0</td>\n",
       "      <td>0.0</td>\n",
       "    </tr>\n",
       "    <tr>\n",
       "      <td>0,2,3,</td>\n",
       "      <td>844498.0</td>\n",
       "      <td>0.0</td>\n",
       "      <td>1193925.0</td>\n",
       "      <td>1025751.0</td>\n",
       "      <td>0.0</td>\n",
       "    </tr>\n",
       "    <tr>\n",
       "      <td>0,2,3,4,</td>\n",
       "      <td>393945.0</td>\n",
       "      <td>0.0</td>\n",
       "      <td>589396.0</td>\n",
       "      <td>799426.0</td>\n",
       "      <td>693342.0</td>\n",
       "    </tr>\n",
       "    <tr>\n",
       "      <td>0,2,4,</td>\n",
       "      <td>212140.0</td>\n",
       "      <td>0.0</td>\n",
       "      <td>243605.0</td>\n",
       "      <td>0.0</td>\n",
       "      <td>244951.0</td>\n",
       "    </tr>\n",
       "    <tr>\n",
       "      <td>0,3,</td>\n",
       "      <td>1498990.0</td>\n",
       "      <td>0.0</td>\n",
       "      <td>0.0</td>\n",
       "      <td>1640433.0</td>\n",
       "      <td>0.0</td>\n",
       "    </tr>\n",
       "    <tr>\n",
       "      <td>0,3,4</td>\n",
       "      <td>330267.0</td>\n",
       "      <td>0.0</td>\n",
       "      <td>0.0</td>\n",
       "      <td>558292.0</td>\n",
       "      <td>576657.0</td>\n",
       "    </tr>\n",
       "    <tr>\n",
       "      <td>0,4,</td>\n",
       "      <td>555935.0</td>\n",
       "      <td>0.0</td>\n",
       "      <td>0.0</td>\n",
       "      <td>0.0</td>\n",
       "      <td>690814.0</td>\n",
       "    </tr>\n",
       "  </tbody>\n",
       "</table>\n",
       "</div>"
      ],
      "text/plain": [
       "                      amount_yr0  amount_yr1  amount_yr2  amount_yr3  \\\n",
       "cohort_gift_pattern                                                    \n",
       "0,                   110874596.0         0.0         0.0         0.0   \n",
       "0,1,                  21879719.0  19299094.0         0.0         0.0   \n",
       "0,1,2,                 7418513.0   9849242.0   6313826.0         0.0   \n",
       "0,1,2,3,               3613375.0   5197408.0   6060847.0   3448636.0   \n",
       "0,1,2,3,4,             6222206.0   9289442.0  10084864.0  10474486.0   \n",
       "0,1,2,4,                563346.0    657005.0    628100.0         0.0   \n",
       "0,1,3,                 1086406.0   1119505.0         0.0    957903.0   \n",
       "0,1,3,4,                471066.0    505484.0         0.0    641579.0   \n",
       "0,1,4,                  376639.0    402645.0         0.0         0.0   \n",
       "0,2,                   4895268.0         0.0   4240138.0         0.0   \n",
       "0,2,3,                  844498.0         0.0   1193925.0   1025751.0   \n",
       "0,2,3,4,                393945.0         0.0    589396.0    799426.0   \n",
       "0,2,4,                  212140.0         0.0    243605.0         0.0   \n",
       "0,3,                   1498990.0         0.0         0.0   1640433.0   \n",
       "0,3,4                   330267.0         0.0         0.0    558292.0   \n",
       "0,4,                    555935.0         0.0         0.0         0.0   \n",
       "\n",
       "                     amount_yr4  \n",
       "cohort_gift_pattern              \n",
       "0,                          0.0  \n",
       "0,1,                        0.0  \n",
       "0,1,2,                      0.0  \n",
       "0,1,2,3,                    0.0  \n",
       "0,1,2,3,4,            9280485.0  \n",
       "0,1,2,4,               578428.0  \n",
       "0,1,3,                      0.0  \n",
       "0,1,3,4,               605238.0  \n",
       "0,1,4,                 360482.0  \n",
       "0,2,                        0.0  \n",
       "0,2,3,                      0.0  \n",
       "0,2,3,4,               693342.0  \n",
       "0,2,4,                 244951.0  \n",
       "0,3,                        0.0  \n",
       "0,3,4                  576657.0  \n",
       "0,4,                   690814.0  "
      ]
     },
     "execution_count": 299,
     "metadata": {},
     "output_type": "execute_result"
    }
   ],
   "source": [
    "cgp_amounts_by_year1"
   ]
  },
  {
   "cell_type": "code",
   "execution_count": 300,
   "metadata": {},
   "outputs": [],
   "source": [
    "cgp_amounts_by_year1_transposed=cgp_amounts_by_year1.T.reset_index()"
   ]
  },
  {
   "cell_type": "code",
   "execution_count": 301,
   "metadata": {},
   "outputs": [],
   "source": [
    "cgp_counts_by_year1=cgp_amounts_by_year[['count_yr0', 'count_yr1', 'count_yr2', 'count_yr3', 'count_yr4']]"
   ]
  },
  {
   "cell_type": "code",
   "execution_count": 302,
   "metadata": {},
   "outputs": [],
   "source": [
    "cgp_counts_by_year1_transposed=cgp_counts_by_year1.T.reset_index()"
   ]
  },
  {
   "cell_type": "code",
   "execution_count": 312,
   "metadata": {},
   "outputs": [
    {
     "data": {
      "text/html": [
       "<div>\n",
       "<style scoped>\n",
       "    .dataframe tbody tr th:only-of-type {\n",
       "        vertical-align: middle;\n",
       "    }\n",
       "\n",
       "    .dataframe tbody tr th {\n",
       "        vertical-align: top;\n",
       "    }\n",
       "\n",
       "    .dataframe thead th {\n",
       "        text-align: right;\n",
       "    }\n",
       "</style>\n",
       "<table border=\"1\" class=\"dataframe\">\n",
       "  <thead>\n",
       "    <tr style=\"text-align: right;\">\n",
       "      <th>cohort_gift_pattern</th>\n",
       "      <th>index</th>\n",
       "      <th>0,</th>\n",
       "      <th>0,1,</th>\n",
       "      <th>0,1,2,</th>\n",
       "      <th>0,1,2,3,</th>\n",
       "      <th>0,1,2,3,4,</th>\n",
       "      <th>0,1,2,4,</th>\n",
       "      <th>0,1,3,</th>\n",
       "      <th>0,1,3,4,</th>\n",
       "      <th>0,1,4,</th>\n",
       "      <th>0,2,</th>\n",
       "      <th>0,2,3,</th>\n",
       "      <th>0,2,3,4,</th>\n",
       "      <th>0,2,4,</th>\n",
       "      <th>0,3,</th>\n",
       "      <th>0,3,4</th>\n",
       "      <th>0,4,</th>\n",
       "    </tr>\n",
       "  </thead>\n",
       "  <tbody>\n",
       "    <tr>\n",
       "      <td>0</td>\n",
       "      <td>count_yr0</td>\n",
       "      <td>1951542</td>\n",
       "      <td>351904</td>\n",
       "      <td>111388</td>\n",
       "      <td>56259</td>\n",
       "      <td>127894</td>\n",
       "      <td>12650</td>\n",
       "      <td>17691</td>\n",
       "      <td>7792</td>\n",
       "      <td>8261</td>\n",
       "      <td>65682</td>\n",
       "      <td>13189</td>\n",
       "      <td>5965</td>\n",
       "      <td>3495</td>\n",
       "      <td>24944</td>\n",
       "      <td>5287</td>\n",
       "      <td>9927</td>\n",
       "    </tr>\n",
       "    <tr>\n",
       "      <td>1</td>\n",
       "      <td>count_yr1</td>\n",
       "      <td>0</td>\n",
       "      <td>300763</td>\n",
       "      <td>166061</td>\n",
       "      <td>80757</td>\n",
       "      <td>185300</td>\n",
       "      <td>12180</td>\n",
       "      <td>16934</td>\n",
       "      <td>7731</td>\n",
       "      <td>6407</td>\n",
       "      <td>0</td>\n",
       "      <td>0</td>\n",
       "      <td>0</td>\n",
       "      <td>0</td>\n",
       "      <td>0</td>\n",
       "      <td>0</td>\n",
       "      <td>0</td>\n",
       "    </tr>\n",
       "    <tr>\n",
       "      <td>2</td>\n",
       "      <td>count_yr2</td>\n",
       "      <td>0</td>\n",
       "      <td>0</td>\n",
       "      <td>91318</td>\n",
       "      <td>77733</td>\n",
       "      <td>149875</td>\n",
       "      <td>8477</td>\n",
       "      <td>0</td>\n",
       "      <td>0</td>\n",
       "      <td>0</td>\n",
       "      <td>62649</td>\n",
       "      <td>16364</td>\n",
       "      <td>7642</td>\n",
       "      <td>3446</td>\n",
       "      <td>0</td>\n",
       "      <td>0</td>\n",
       "      <td>0</td>\n",
       "    </tr>\n",
       "    <tr>\n",
       "      <td>3</td>\n",
       "      <td>count_yr3</td>\n",
       "      <td>0</td>\n",
       "      <td>0</td>\n",
       "      <td>0</td>\n",
       "      <td>41941</td>\n",
       "      <td>147865</td>\n",
       "      <td>0</td>\n",
       "      <td>13386</td>\n",
       "      <td>7974</td>\n",
       "      <td>0</td>\n",
       "      <td>0</td>\n",
       "      <td>14069</td>\n",
       "      <td>10695</td>\n",
       "      <td>0</td>\n",
       "      <td>24744</td>\n",
       "      <td>7203</td>\n",
       "      <td>0</td>\n",
       "    </tr>\n",
       "    <tr>\n",
       "      <td>4</td>\n",
       "      <td>count_yr4</td>\n",
       "      <td>0</td>\n",
       "      <td>0</td>\n",
       "      <td>0</td>\n",
       "      <td>0</td>\n",
       "      <td>128854</td>\n",
       "      <td>7607</td>\n",
       "      <td>0</td>\n",
       "      <td>9596</td>\n",
       "      <td>5693</td>\n",
       "      <td>0</td>\n",
       "      <td>0</td>\n",
       "      <td>9106</td>\n",
       "      <td>3579</td>\n",
       "      <td>0</td>\n",
       "      <td>11553</td>\n",
       "      <td>10705</td>\n",
       "    </tr>\n",
       "  </tbody>\n",
       "</table>\n",
       "</div>"
      ],
      "text/plain": [
       "cohort_gift_pattern      index       0,    0,1,  0,1,2,  0,1,2,3,  0,1,2,3,4,  \\\n",
       "0                    count_yr0  1951542  351904  111388     56259      127894   \n",
       "1                    count_yr1        0  300763  166061     80757      185300   \n",
       "2                    count_yr2        0       0   91318     77733      149875   \n",
       "3                    count_yr3        0       0       0     41941      147865   \n",
       "4                    count_yr4        0       0       0         0      128854   \n",
       "\n",
       "cohort_gift_pattern  0,1,2,4,  0,1,3,  0,1,3,4,  0,1,4,   0,2,  0,2,3,  \\\n",
       "0                       12650   17691      7792    8261  65682   13189   \n",
       "1                       12180   16934      7731    6407      0       0   \n",
       "2                        8477       0         0       0  62649   16364   \n",
       "3                           0   13386      7974       0      0   14069   \n",
       "4                        7607       0      9596    5693      0       0   \n",
       "\n",
       "cohort_gift_pattern  0,2,3,4,  0,2,4,   0,3,  0,3,4   0,4,  \n",
       "0                        5965    3495  24944   5287   9927  \n",
       "1                           0       0      0      0      0  \n",
       "2                        7642    3446      0      0      0  \n",
       "3                       10695       0  24744   7203      0  \n",
       "4                        9106    3579      0  11553  10705  "
      ]
     },
     "execution_count": 312,
     "metadata": {},
     "output_type": "execute_result"
    }
   ],
   "source": [
    "cgp_counts_by_year1_transposed"
   ]
  },
  {
   "cell_type": "code",
   "execution_count": 305,
   "metadata": {},
   "outputs": [],
   "source": [
    "#sorted_c13_repeat = c13_repeat_yr_amounts_transposed.sort_values('counts', ascending=False)"
   ]
  },
  {
   "cell_type": "code",
   "execution_count": 323,
   "metadata": {},
   "outputs": [
    {
     "data": {
      "text/html": [
       "<div>\n",
       "<style scoped>\n",
       "    .dataframe tbody tr th:only-of-type {\n",
       "        vertical-align: middle;\n",
       "    }\n",
       "\n",
       "    .dataframe tbody tr th {\n",
       "        vertical-align: top;\n",
       "    }\n",
       "\n",
       "    .dataframe thead th {\n",
       "        text-align: right;\n",
       "    }\n",
       "</style>\n",
       "<table border=\"1\" class=\"dataframe\">\n",
       "  <thead>\n",
       "    <tr style=\"text-align: right;\">\n",
       "      <th></th>\n",
       "      <th>index</th>\n",
       "      <th>0</th>\n",
       "      <th>1</th>\n",
       "      <th>2</th>\n",
       "      <th>3</th>\n",
       "      <th>4</th>\n",
       "      <th>5</th>\n",
       "      <th>6</th>\n",
       "      <th>7</th>\n",
       "      <th>8</th>\n",
       "      <th>9</th>\n",
       "      <th>10</th>\n",
       "      <th>11</th>\n",
       "      <th>12</th>\n",
       "      <th>13</th>\n",
       "      <th>14</th>\n",
       "    </tr>\n",
       "  </thead>\n",
       "  <tbody>\n",
       "    <tr>\n",
       "      <td>0</td>\n",
       "      <td>cohort_gift_pattern</td>\n",
       "      <td>0,1,2,3,4,</td>\n",
       "      <td>0,1,</td>\n",
       "      <td>0,2,</td>\n",
       "      <td>0,1,2,</td>\n",
       "      <td>0,1,2,3,</td>\n",
       "      <td>0,3,</td>\n",
       "      <td>0,1,2,4,</td>\n",
       "      <td>0,1,3,</td>\n",
       "      <td>0,4,</td>\n",
       "      <td>0,1,3,4,</td>\n",
       "      <td>0,1,4,</td>\n",
       "      <td>0,2,3,4,</td>\n",
       "      <td>0,2,3,</td>\n",
       "      <td>0,3,4</td>\n",
       "      <td>0,2,4,</td>\n",
       "    </tr>\n",
       "    <tr>\n",
       "      <td>1</td>\n",
       "      <td>years_donated</td>\n",
       "      <td>5</td>\n",
       "      <td>2</td>\n",
       "      <td>2</td>\n",
       "      <td>3</td>\n",
       "      <td>4</td>\n",
       "      <td>2</td>\n",
       "      <td>4</td>\n",
       "      <td>3</td>\n",
       "      <td>2</td>\n",
       "      <td>4</td>\n",
       "      <td>3</td>\n",
       "      <td>4</td>\n",
       "      <td>3</td>\n",
       "      <td>3</td>\n",
       "      <td>3</td>\n",
       "    </tr>\n",
       "    <tr>\n",
       "      <td>2</td>\n",
       "      <td>amount_yr0</td>\n",
       "      <td>5.20967e+06</td>\n",
       "      <td>3.65589e+06</td>\n",
       "      <td>1.63161e+06</td>\n",
       "      <td>1.5283e+06</td>\n",
       "      <td>1.12434e+06</td>\n",
       "      <td>538437</td>\n",
       "      <td>482861</td>\n",
       "      <td>404407</td>\n",
       "      <td>395076</td>\n",
       "      <td>335332</td>\n",
       "      <td>278397</td>\n",
       "      <td>273685</td>\n",
       "      <td>246635</td>\n",
       "      <td>227617</td>\n",
       "      <td>146543</td>\n",
       "    </tr>\n",
       "    <tr>\n",
       "      <td>3</td>\n",
       "      <td>amount_yr1</td>\n",
       "      <td>7.60027e+06</td>\n",
       "      <td>3.06806e+06</td>\n",
       "      <td>0</td>\n",
       "      <td>1.64113e+06</td>\n",
       "      <td>1.2883e+06</td>\n",
       "      <td>0</td>\n",
       "      <td>541434</td>\n",
       "      <td>444218</td>\n",
       "      <td>0</td>\n",
       "      <td>371149</td>\n",
       "      <td>313141</td>\n",
       "      <td>0</td>\n",
       "      <td>0</td>\n",
       "      <td>0</td>\n",
       "      <td>0</td>\n",
       "    </tr>\n",
       "    <tr>\n",
       "      <td>4</td>\n",
       "      <td>amount_yr2</td>\n",
       "      <td>7.76437e+06</td>\n",
       "      <td>0</td>\n",
       "      <td>1.07463e+06</td>\n",
       "      <td>1.23103e+06</td>\n",
       "      <td>1.12118e+06</td>\n",
       "      <td>0</td>\n",
       "      <td>523237</td>\n",
       "      <td>0</td>\n",
       "      <td>0</td>\n",
       "      <td>0</td>\n",
       "      <td>0</td>\n",
       "      <td>390220</td>\n",
       "      <td>315061</td>\n",
       "      <td>0</td>\n",
       "      <td>167584</td>\n",
       "    </tr>\n",
       "    <tr>\n",
       "      <td>5</td>\n",
       "      <td>amount_yr3</td>\n",
       "      <td>7.92753e+06</td>\n",
       "      <td>0</td>\n",
       "      <td>0</td>\n",
       "      <td>0</td>\n",
       "      <td>871183</td>\n",
       "      <td>611542</td>\n",
       "      <td>0</td>\n",
       "      <td>370153</td>\n",
       "      <td>0</td>\n",
       "      <td>449080</td>\n",
       "      <td>0</td>\n",
       "      <td>489484</td>\n",
       "      <td>293010</td>\n",
       "      <td>386285</td>\n",
       "      <td>0</td>\n",
       "    </tr>\n",
       "    <tr>\n",
       "      <td>6</td>\n",
       "      <td>amount_yr4</td>\n",
       "      <td>8.16999e+06</td>\n",
       "      <td>0</td>\n",
       "      <td>0</td>\n",
       "      <td>0</td>\n",
       "      <td>0</td>\n",
       "      <td>0</td>\n",
       "      <td>511598</td>\n",
       "      <td>0</td>\n",
       "      <td>532082</td>\n",
       "      <td>473806</td>\n",
       "      <td>285466</td>\n",
       "      <td>540792</td>\n",
       "      <td>0</td>\n",
       "      <td>457401</td>\n",
       "      <td>184625</td>\n",
       "    </tr>\n",
       "    <tr>\n",
       "      <td>7</td>\n",
       "      <td>Pct_of_amount_yr0</td>\n",
       "      <td>0.316144</td>\n",
       "      <td>0.221854</td>\n",
       "      <td>0.0990127</td>\n",
       "      <td>0.0927432</td>\n",
       "      <td>0.0682293</td>\n",
       "      <td>0.0326746</td>\n",
       "      <td>0.029302</td>\n",
       "      <td>0.0245411</td>\n",
       "      <td>0.0239748</td>\n",
       "      <td>0.0203493</td>\n",
       "      <td>0.0168943</td>\n",
       "      <td>0.0166083</td>\n",
       "      <td>0.0149668</td>\n",
       "      <td>0.0138128</td>\n",
       "      <td>0.00889282</td>\n",
       "    </tr>\n",
       "    <tr>\n",
       "      <td>8</td>\n",
       "      <td>pct_of_amount_yr0</td>\n",
       "      <td>0.316144</td>\n",
       "      <td>0.221854</td>\n",
       "      <td>0.0990127</td>\n",
       "      <td>0.0927432</td>\n",
       "      <td>0.0682293</td>\n",
       "      <td>0.0326746</td>\n",
       "      <td>0.029302</td>\n",
       "      <td>0.0245411</td>\n",
       "      <td>0.0239748</td>\n",
       "      <td>0.0203493</td>\n",
       "      <td>0.0168943</td>\n",
       "      <td>0.0166083</td>\n",
       "      <td>0.0149668</td>\n",
       "      <td>0.0138128</td>\n",
       "      <td>0.00889282</td>\n",
       "    </tr>\n",
       "  </tbody>\n",
       "</table>\n",
       "</div>"
      ],
      "text/plain": [
       "                 index            0            1            2            3  \\\n",
       "0  cohort_gift_pattern   0,1,2,3,4,         0,1,         0,2,       0,1,2,   \n",
       "1        years_donated            5            2            2            3   \n",
       "2           amount_yr0  5.20967e+06  3.65589e+06  1.63161e+06   1.5283e+06   \n",
       "3           amount_yr1  7.60027e+06  3.06806e+06            0  1.64113e+06   \n",
       "4           amount_yr2  7.76437e+06            0  1.07463e+06  1.23103e+06   \n",
       "5           amount_yr3  7.92753e+06            0            0            0   \n",
       "6           amount_yr4  8.16999e+06            0            0            0   \n",
       "7    Pct_of_amount_yr0     0.316144     0.221854    0.0990127    0.0927432   \n",
       "8    pct_of_amount_yr0     0.316144     0.221854    0.0990127    0.0927432   \n",
       "\n",
       "             4          5         6          7          8          9  \\\n",
       "0     0,1,2,3,       0,3,  0,1,2,4,     0,1,3,       0,4,   0,1,3,4,   \n",
       "1            4          2         4          3          2          4   \n",
       "2  1.12434e+06     538437    482861     404407     395076     335332   \n",
       "3   1.2883e+06          0    541434     444218          0     371149   \n",
       "4  1.12118e+06          0    523237          0          0          0   \n",
       "5       871183     611542         0     370153          0     449080   \n",
       "6            0          0    511598          0     532082     473806   \n",
       "7    0.0682293  0.0326746  0.029302  0.0245411  0.0239748  0.0203493   \n",
       "8    0.0682293  0.0326746  0.029302  0.0245411  0.0239748  0.0203493   \n",
       "\n",
       "          10         11         12         13          14  \n",
       "0     0,1,4,   0,2,3,4,     0,2,3,      0,3,4      0,2,4,  \n",
       "1          3          4          3          3           3  \n",
       "2     278397     273685     246635     227617      146543  \n",
       "3     313141          0          0          0           0  \n",
       "4          0     390220     315061          0      167584  \n",
       "5          0     489484     293010     386285           0  \n",
       "6     285466     540792          0     457401      184625  \n",
       "7  0.0168943  0.0166083  0.0149668  0.0138128  0.00889282  \n",
       "8  0.0168943  0.0166083  0.0149668  0.0138128  0.00889282  "
      ]
     },
     "execution_count": 323,
     "metadata": {},
     "output_type": "execute_result"
    }
   ],
   "source": [
    "c13_repeat_yr_amounts_transposed"
   ]
  },
  {
   "cell_type": "code",
   "execution_count": 78,
   "metadata": {
    "scrolled": true
   },
   "outputs": [
    {
     "data": {
      "application/vnd.plotly.v1+json": {
       "config": {
        "plotlyServerURL": "https://plot.ly"
       },
       "data": [
        {
         "alignmentgroup": "True",
         "hovertemplate": "variable=0,1,<br>year=%{x}<br>value=%{y}<extra></extra>",
         "legendgroup": "0,1,",
         "marker": {
          "color": "#636efa"
         },
         "name": "0,1,",
         "offsetgroup": "0,1,",
         "orientation": "v",
         "showlegend": true,
         "textposition": "auto",
         "type": "bar",
         "x": [
          "amount_yr0"
         ],
         "xaxis": "x",
         "y": [
          3655885.410000013
         ],
         "yaxis": "y"
        },
        {
         "alignmentgroup": "True",
         "hovertemplate": "variable=0,1,2,<br>year=%{x}<br>value=%{y}<extra></extra>",
         "legendgroup": "0,1,2,",
         "marker": {
          "color": "#EF553B"
         },
         "name": "0,1,2,",
         "offsetgroup": "0,1,2,",
         "orientation": "v",
         "showlegend": true,
         "textposition": "auto",
         "type": "bar",
         "x": [
          "amount_yr0"
         ],
         "xaxis": "x",
         "y": [
          1528295.3399999985
         ],
         "yaxis": "y"
        },
        {
         "alignmentgroup": "True",
         "hovertemplate": "variable=0,1,2,3,<br>year=%{x}<br>value=%{y}<extra></extra>",
         "legendgroup": "0,1,2,3,",
         "marker": {
          "color": "#00cc96"
         },
         "name": "0,1,2,3,",
         "offsetgroup": "0,1,2,3,",
         "orientation": "v",
         "showlegend": true,
         "textposition": "auto",
         "type": "bar",
         "x": [
          "amount_yr0"
         ],
         "xaxis": "x",
         "y": [
          1124336.2
         ],
         "yaxis": "y"
        },
        {
         "alignmentgroup": "True",
         "hovertemplate": "variable=0,1,2,3,4,<br>year=%{x}<br>value=%{y}<extra></extra>",
         "legendgroup": "0,1,2,3,4,",
         "marker": {
          "color": "#ab63fa"
         },
         "name": "0,1,2,3,4,",
         "offsetgroup": "0,1,2,3,4,",
         "orientation": "v",
         "showlegend": true,
         "textposition": "auto",
         "type": "bar",
         "x": [
          "amount_yr0"
         ],
         "xaxis": "x",
         "y": [
          5209667.210000017
         ],
         "yaxis": "y"
        },
        {
         "alignmentgroup": "True",
         "hovertemplate": "variable=0,1,2,4,<br>year=%{x}<br>value=%{y}<extra></extra>",
         "legendgroup": "0,1,2,4,",
         "marker": {
          "color": "#FFA15A"
         },
         "name": "0,1,2,4,",
         "offsetgroup": "0,1,2,4,",
         "orientation": "v",
         "showlegend": true,
         "textposition": "auto",
         "type": "bar",
         "x": [
          "amount_yr0"
         ],
         "xaxis": "x",
         "y": [
          482861.08999999985
         ],
         "yaxis": "y"
        },
        {
         "alignmentgroup": "True",
         "hovertemplate": "variable=0,1,3,<br>year=%{x}<br>value=%{y}<extra></extra>",
         "legendgroup": "0,1,3,",
         "marker": {
          "color": "#19d3f3"
         },
         "name": "0,1,3,",
         "offsetgroup": "0,1,3,",
         "orientation": "v",
         "showlegend": true,
         "textposition": "auto",
         "type": "bar",
         "x": [
          "amount_yr0"
         ],
         "xaxis": "x",
         "y": [
          404406.91999999987
         ],
         "yaxis": "y"
        },
        {
         "alignmentgroup": "True",
         "hovertemplate": "variable=0,1,3,4,<br>year=%{x}<br>value=%{y}<extra></extra>",
         "legendgroup": "0,1,3,4,",
         "marker": {
          "color": "#FF6692"
         },
         "name": "0,1,3,4,",
         "offsetgroup": "0,1,3,4,",
         "orientation": "v",
         "showlegend": true,
         "textposition": "auto",
         "type": "bar",
         "x": [
          "amount_yr0"
         ],
         "xaxis": "x",
         "y": [
          335331.86999999994
         ],
         "yaxis": "y"
        },
        {
         "alignmentgroup": "True",
         "hovertemplate": "variable=0,1,4,<br>year=%{x}<br>value=%{y}<extra></extra>",
         "legendgroup": "0,1,4,",
         "marker": {
          "color": "#B6E880"
         },
         "name": "0,1,4,",
         "offsetgroup": "0,1,4,",
         "orientation": "v",
         "showlegend": true,
         "textposition": "auto",
         "type": "bar",
         "x": [
          "amount_yr0"
         ],
         "xaxis": "x",
         "y": [
          278396.7
         ],
         "yaxis": "y"
        },
        {
         "alignmentgroup": "True",
         "hovertemplate": "variable=0,2,<br>year=%{x}<br>value=%{y}<extra></extra>",
         "legendgroup": "0,2,",
         "marker": {
          "color": "#FF97FF"
         },
         "name": "0,2,",
         "offsetgroup": "0,2,",
         "orientation": "v",
         "showlegend": true,
         "textposition": "auto",
         "type": "bar",
         "x": [
          "amount_yr0"
         ],
         "xaxis": "x",
         "y": [
          1631608.529999998
         ],
         "yaxis": "y"
        },
        {
         "alignmentgroup": "True",
         "hovertemplate": "variable=0,2,3,<br>year=%{x}<br>value=%{y}<extra></extra>",
         "legendgroup": "0,2,3,",
         "marker": {
          "color": "#FECB52"
         },
         "name": "0,2,3,",
         "offsetgroup": "0,2,3,",
         "orientation": "v",
         "showlegend": true,
         "textposition": "auto",
         "type": "bar",
         "x": [
          "amount_yr0"
         ],
         "xaxis": "x",
         "y": [
          246634.9199999998
         ],
         "yaxis": "y"
        },
        {
         "alignmentgroup": "True",
         "hovertemplate": "variable=0,2,3,4,<br>year=%{x}<br>value=%{y}<extra></extra>",
         "legendgroup": "0,2,3,4,",
         "marker": {
          "color": "#636efa"
         },
         "name": "0,2,3,4,",
         "offsetgroup": "0,2,3,4,",
         "orientation": "v",
         "showlegend": true,
         "textposition": "auto",
         "type": "bar",
         "x": [
          "amount_yr0"
         ],
         "xaxis": "x",
         "y": [
          273684.57
         ],
         "yaxis": "y"
        },
        {
         "alignmentgroup": "True",
         "hovertemplate": "variable=0,2,4,<br>year=%{x}<br>value=%{y}<extra></extra>",
         "legendgroup": "0,2,4,",
         "marker": {
          "color": "#EF553B"
         },
         "name": "0,2,4,",
         "offsetgroup": "0,2,4,",
         "orientation": "v",
         "showlegend": true,
         "textposition": "auto",
         "type": "bar",
         "x": [
          "amount_yr0"
         ],
         "xaxis": "x",
         "y": [
          146542.83999999997
         ],
         "yaxis": "y"
        },
        {
         "alignmentgroup": "True",
         "hovertemplate": "variable=0,3,<br>year=%{x}<br>value=%{y}<extra></extra>",
         "legendgroup": "0,3,",
         "marker": {
          "color": "#00cc96"
         },
         "name": "0,3,",
         "offsetgroup": "0,3,",
         "orientation": "v",
         "showlegend": true,
         "textposition": "auto",
         "type": "bar",
         "x": [
          "amount_yr0"
         ],
         "xaxis": "x",
         "y": [
          538437.0999999997
         ],
         "yaxis": "y"
        },
        {
         "alignmentgroup": "True",
         "hovertemplate": "variable=0,3,4<br>year=%{x}<br>value=%{y}<extra></extra>",
         "legendgroup": "0,3,4",
         "marker": {
          "color": "#ab63fa"
         },
         "name": "0,3,4",
         "offsetgroup": "0,3,4",
         "orientation": "v",
         "showlegend": true,
         "textposition": "auto",
         "type": "bar",
         "x": [
          "amount_yr0"
         ],
         "xaxis": "x",
         "y": [
          227617.38999999998
         ],
         "yaxis": "y"
        },
        {
         "alignmentgroup": "True",
         "hovertemplate": "variable=0,4,<br>year=%{x}<br>value=%{y}<extra></extra>",
         "legendgroup": "0,4,",
         "marker": {
          "color": "#FFA15A"
         },
         "name": "0,4,",
         "offsetgroup": "0,4,",
         "orientation": "v",
         "showlegend": true,
         "textposition": "auto",
         "type": "bar",
         "x": [
          "amount_yr0"
         ],
         "xaxis": "x",
         "y": [
          395075.69
         ],
         "yaxis": "y"
        }
       ],
       "layout": {
        "barmode": "group",
        "legend": {
         "title": {
          "text": "variable"
         },
         "tracegroupgap": 0
        },
        "template": {
         "data": {
          "bar": [
           {
            "error_x": {
             "color": "#2a3f5f"
            },
            "error_y": {
             "color": "#2a3f5f"
            },
            "marker": {
             "line": {
              "color": "#E5ECF6",
              "width": 0.5
             }
            },
            "type": "bar"
           }
          ],
          "barpolar": [
           {
            "marker": {
             "line": {
              "color": "#E5ECF6",
              "width": 0.5
             }
            },
            "type": "barpolar"
           }
          ],
          "carpet": [
           {
            "aaxis": {
             "endlinecolor": "#2a3f5f",
             "gridcolor": "white",
             "linecolor": "white",
             "minorgridcolor": "white",
             "startlinecolor": "#2a3f5f"
            },
            "baxis": {
             "endlinecolor": "#2a3f5f",
             "gridcolor": "white",
             "linecolor": "white",
             "minorgridcolor": "white",
             "startlinecolor": "#2a3f5f"
            },
            "type": "carpet"
           }
          ],
          "choropleth": [
           {
            "colorbar": {
             "outlinewidth": 0,
             "ticks": ""
            },
            "type": "choropleth"
           }
          ],
          "contour": [
           {
            "colorbar": {
             "outlinewidth": 0,
             "ticks": ""
            },
            "colorscale": [
             [
              0,
              "#0d0887"
             ],
             [
              0.1111111111111111,
              "#46039f"
             ],
             [
              0.2222222222222222,
              "#7201a8"
             ],
             [
              0.3333333333333333,
              "#9c179e"
             ],
             [
              0.4444444444444444,
              "#bd3786"
             ],
             [
              0.5555555555555556,
              "#d8576b"
             ],
             [
              0.6666666666666666,
              "#ed7953"
             ],
             [
              0.7777777777777778,
              "#fb9f3a"
             ],
             [
              0.8888888888888888,
              "#fdca26"
             ],
             [
              1,
              "#f0f921"
             ]
            ],
            "type": "contour"
           }
          ],
          "contourcarpet": [
           {
            "colorbar": {
             "outlinewidth": 0,
             "ticks": ""
            },
            "type": "contourcarpet"
           }
          ],
          "heatmap": [
           {
            "colorbar": {
             "outlinewidth": 0,
             "ticks": ""
            },
            "colorscale": [
             [
              0,
              "#0d0887"
             ],
             [
              0.1111111111111111,
              "#46039f"
             ],
             [
              0.2222222222222222,
              "#7201a8"
             ],
             [
              0.3333333333333333,
              "#9c179e"
             ],
             [
              0.4444444444444444,
              "#bd3786"
             ],
             [
              0.5555555555555556,
              "#d8576b"
             ],
             [
              0.6666666666666666,
              "#ed7953"
             ],
             [
              0.7777777777777778,
              "#fb9f3a"
             ],
             [
              0.8888888888888888,
              "#fdca26"
             ],
             [
              1,
              "#f0f921"
             ]
            ],
            "type": "heatmap"
           }
          ],
          "heatmapgl": [
           {
            "colorbar": {
             "outlinewidth": 0,
             "ticks": ""
            },
            "colorscale": [
             [
              0,
              "#0d0887"
             ],
             [
              0.1111111111111111,
              "#46039f"
             ],
             [
              0.2222222222222222,
              "#7201a8"
             ],
             [
              0.3333333333333333,
              "#9c179e"
             ],
             [
              0.4444444444444444,
              "#bd3786"
             ],
             [
              0.5555555555555556,
              "#d8576b"
             ],
             [
              0.6666666666666666,
              "#ed7953"
             ],
             [
              0.7777777777777778,
              "#fb9f3a"
             ],
             [
              0.8888888888888888,
              "#fdca26"
             ],
             [
              1,
              "#f0f921"
             ]
            ],
            "type": "heatmapgl"
           }
          ],
          "histogram": [
           {
            "marker": {
             "colorbar": {
              "outlinewidth": 0,
              "ticks": ""
             }
            },
            "type": "histogram"
           }
          ],
          "histogram2d": [
           {
            "colorbar": {
             "outlinewidth": 0,
             "ticks": ""
            },
            "colorscale": [
             [
              0,
              "#0d0887"
             ],
             [
              0.1111111111111111,
              "#46039f"
             ],
             [
              0.2222222222222222,
              "#7201a8"
             ],
             [
              0.3333333333333333,
              "#9c179e"
             ],
             [
              0.4444444444444444,
              "#bd3786"
             ],
             [
              0.5555555555555556,
              "#d8576b"
             ],
             [
              0.6666666666666666,
              "#ed7953"
             ],
             [
              0.7777777777777778,
              "#fb9f3a"
             ],
             [
              0.8888888888888888,
              "#fdca26"
             ],
             [
              1,
              "#f0f921"
             ]
            ],
            "type": "histogram2d"
           }
          ],
          "histogram2dcontour": [
           {
            "colorbar": {
             "outlinewidth": 0,
             "ticks": ""
            },
            "colorscale": [
             [
              0,
              "#0d0887"
             ],
             [
              0.1111111111111111,
              "#46039f"
             ],
             [
              0.2222222222222222,
              "#7201a8"
             ],
             [
              0.3333333333333333,
              "#9c179e"
             ],
             [
              0.4444444444444444,
              "#bd3786"
             ],
             [
              0.5555555555555556,
              "#d8576b"
             ],
             [
              0.6666666666666666,
              "#ed7953"
             ],
             [
              0.7777777777777778,
              "#fb9f3a"
             ],
             [
              0.8888888888888888,
              "#fdca26"
             ],
             [
              1,
              "#f0f921"
             ]
            ],
            "type": "histogram2dcontour"
           }
          ],
          "mesh3d": [
           {
            "colorbar": {
             "outlinewidth": 0,
             "ticks": ""
            },
            "type": "mesh3d"
           }
          ],
          "parcoords": [
           {
            "line": {
             "colorbar": {
              "outlinewidth": 0,
              "ticks": ""
             }
            },
            "type": "parcoords"
           }
          ],
          "pie": [
           {
            "automargin": true,
            "type": "pie"
           }
          ],
          "scatter": [
           {
            "marker": {
             "colorbar": {
              "outlinewidth": 0,
              "ticks": ""
             }
            },
            "type": "scatter"
           }
          ],
          "scatter3d": [
           {
            "line": {
             "colorbar": {
              "outlinewidth": 0,
              "ticks": ""
             }
            },
            "marker": {
             "colorbar": {
              "outlinewidth": 0,
              "ticks": ""
             }
            },
            "type": "scatter3d"
           }
          ],
          "scattercarpet": [
           {
            "marker": {
             "colorbar": {
              "outlinewidth": 0,
              "ticks": ""
             }
            },
            "type": "scattercarpet"
           }
          ],
          "scattergeo": [
           {
            "marker": {
             "colorbar": {
              "outlinewidth": 0,
              "ticks": ""
             }
            },
            "type": "scattergeo"
           }
          ],
          "scattergl": [
           {
            "marker": {
             "colorbar": {
              "outlinewidth": 0,
              "ticks": ""
             }
            },
            "type": "scattergl"
           }
          ],
          "scattermapbox": [
           {
            "marker": {
             "colorbar": {
              "outlinewidth": 0,
              "ticks": ""
             }
            },
            "type": "scattermapbox"
           }
          ],
          "scatterpolar": [
           {
            "marker": {
             "colorbar": {
              "outlinewidth": 0,
              "ticks": ""
             }
            },
            "type": "scatterpolar"
           }
          ],
          "scatterpolargl": [
           {
            "marker": {
             "colorbar": {
              "outlinewidth": 0,
              "ticks": ""
             }
            },
            "type": "scatterpolargl"
           }
          ],
          "scatterternary": [
           {
            "marker": {
             "colorbar": {
              "outlinewidth": 0,
              "ticks": ""
             }
            },
            "type": "scatterternary"
           }
          ],
          "surface": [
           {
            "colorbar": {
             "outlinewidth": 0,
             "ticks": ""
            },
            "colorscale": [
             [
              0,
              "#0d0887"
             ],
             [
              0.1111111111111111,
              "#46039f"
             ],
             [
              0.2222222222222222,
              "#7201a8"
             ],
             [
              0.3333333333333333,
              "#9c179e"
             ],
             [
              0.4444444444444444,
              "#bd3786"
             ],
             [
              0.5555555555555556,
              "#d8576b"
             ],
             [
              0.6666666666666666,
              "#ed7953"
             ],
             [
              0.7777777777777778,
              "#fb9f3a"
             ],
             [
              0.8888888888888888,
              "#fdca26"
             ],
             [
              1,
              "#f0f921"
             ]
            ],
            "type": "surface"
           }
          ],
          "table": [
           {
            "cells": {
             "fill": {
              "color": "#EBF0F8"
             },
             "line": {
              "color": "white"
             }
            },
            "header": {
             "fill": {
              "color": "#C8D4E3"
             },
             "line": {
              "color": "white"
             }
            },
            "type": "table"
           }
          ]
         },
         "layout": {
          "annotationdefaults": {
           "arrowcolor": "#2a3f5f",
           "arrowhead": 0,
           "arrowwidth": 1
          },
          "coloraxis": {
           "colorbar": {
            "outlinewidth": 0,
            "ticks": ""
           }
          },
          "colorscale": {
           "diverging": [
            [
             0,
             "#8e0152"
            ],
            [
             0.1,
             "#c51b7d"
            ],
            [
             0.2,
             "#de77ae"
            ],
            [
             0.3,
             "#f1b6da"
            ],
            [
             0.4,
             "#fde0ef"
            ],
            [
             0.5,
             "#f7f7f7"
            ],
            [
             0.6,
             "#e6f5d0"
            ],
            [
             0.7,
             "#b8e186"
            ],
            [
             0.8,
             "#7fbc41"
            ],
            [
             0.9,
             "#4d9221"
            ],
            [
             1,
             "#276419"
            ]
           ],
           "sequential": [
            [
             0,
             "#0d0887"
            ],
            [
             0.1111111111111111,
             "#46039f"
            ],
            [
             0.2222222222222222,
             "#7201a8"
            ],
            [
             0.3333333333333333,
             "#9c179e"
            ],
            [
             0.4444444444444444,
             "#bd3786"
            ],
            [
             0.5555555555555556,
             "#d8576b"
            ],
            [
             0.6666666666666666,
             "#ed7953"
            ],
            [
             0.7777777777777778,
             "#fb9f3a"
            ],
            [
             0.8888888888888888,
             "#fdca26"
            ],
            [
             1,
             "#f0f921"
            ]
           ],
           "sequentialminus": [
            [
             0,
             "#0d0887"
            ],
            [
             0.1111111111111111,
             "#46039f"
            ],
            [
             0.2222222222222222,
             "#7201a8"
            ],
            [
             0.3333333333333333,
             "#9c179e"
            ],
            [
             0.4444444444444444,
             "#bd3786"
            ],
            [
             0.5555555555555556,
             "#d8576b"
            ],
            [
             0.6666666666666666,
             "#ed7953"
            ],
            [
             0.7777777777777778,
             "#fb9f3a"
            ],
            [
             0.8888888888888888,
             "#fdca26"
            ],
            [
             1,
             "#f0f921"
            ]
           ]
          },
          "colorway": [
           "#636efa",
           "#EF553B",
           "#00cc96",
           "#ab63fa",
           "#FFA15A",
           "#19d3f3",
           "#FF6692",
           "#B6E880",
           "#FF97FF",
           "#FECB52"
          ],
          "font": {
           "color": "#2a3f5f"
          },
          "geo": {
           "bgcolor": "white",
           "lakecolor": "white",
           "landcolor": "#E5ECF6",
           "showlakes": true,
           "showland": true,
           "subunitcolor": "white"
          },
          "hoverlabel": {
           "align": "left"
          },
          "hovermode": "closest",
          "mapbox": {
           "style": "light"
          },
          "paper_bgcolor": "white",
          "plot_bgcolor": "#E5ECF6",
          "polar": {
           "angularaxis": {
            "gridcolor": "white",
            "linecolor": "white",
            "ticks": ""
           },
           "bgcolor": "#E5ECF6",
           "radialaxis": {
            "gridcolor": "white",
            "linecolor": "white",
            "ticks": ""
           }
          },
          "scene": {
           "xaxis": {
            "backgroundcolor": "#E5ECF6",
            "gridcolor": "white",
            "gridwidth": 2,
            "linecolor": "white",
            "showbackground": true,
            "ticks": "",
            "zerolinecolor": "white"
           },
           "yaxis": {
            "backgroundcolor": "#E5ECF6",
            "gridcolor": "white",
            "gridwidth": 2,
            "linecolor": "white",
            "showbackground": true,
            "ticks": "",
            "zerolinecolor": "white"
           },
           "zaxis": {
            "backgroundcolor": "#E5ECF6",
            "gridcolor": "white",
            "gridwidth": 2,
            "linecolor": "white",
            "showbackground": true,
            "ticks": "",
            "zerolinecolor": "white"
           }
          },
          "shapedefaults": {
           "line": {
            "color": "#2a3f5f"
           }
          },
          "ternary": {
           "aaxis": {
            "gridcolor": "white",
            "linecolor": "white",
            "ticks": ""
           },
           "baxis": {
            "gridcolor": "white",
            "linecolor": "white",
            "ticks": ""
           },
           "bgcolor": "#E5ECF6",
           "caxis": {
            "gridcolor": "white",
            "linecolor": "white",
            "ticks": ""
           }
          },
          "title": {
           "x": 0.05
          },
          "xaxis": {
           "automargin": true,
           "gridcolor": "white",
           "linecolor": "white",
           "ticks": "",
           "title": {
            "standoff": 15
           },
           "zerolinecolor": "white",
           "zerolinewidth": 2
          },
          "yaxis": {
           "automargin": true,
           "gridcolor": "white",
           "linecolor": "white",
           "ticks": "",
           "title": {
            "standoff": 15
           },
           "zerolinecolor": "white",
           "zerolinewidth": 2
          }
         }
        },
        "title": {
         "text": "Donations ($) by Repeat Donors (Cohort 2013)"
        },
        "xaxis": {
         "anchor": "y",
         "domain": [
          0,
          1
         ],
         "title": {
          "text": "year"
         }
        },
        "yaxis": {
         "anchor": "x",
         "domain": [
          0,
          1
         ],
         "title": {
          "text": "value"
         }
        }
       }
      },
      "text/html": [
       "<div>\n",
       "        \n",
       "        \n",
       "            <div id=\"b70587ff-b59c-4247-afa5-d95def0f849b\" class=\"plotly-graph-div\" style=\"height:525px; width:100%;\"></div>\n",
       "            <script type=\"text/javascript\">\n",
       "                require([\"plotly\"], function(Plotly) {\n",
       "                    window.PLOTLYENV=window.PLOTLYENV || {};\n",
       "                    \n",
       "                if (document.getElementById(\"b70587ff-b59c-4247-afa5-d95def0f849b\")) {\n",
       "                    Plotly.newPlot(\n",
       "                        'b70587ff-b59c-4247-afa5-d95def0f849b',\n",
       "                        [{\"alignmentgroup\": \"True\", \"hovertemplate\": \"variable=0,1,<br>year=%{x}<br>value=%{y}<extra></extra>\", \"legendgroup\": \"0,1,\", \"marker\": {\"color\": \"#636efa\"}, \"name\": \"0,1,\", \"offsetgroup\": \"0,1,\", \"orientation\": \"v\", \"showlegend\": true, \"textposition\": \"auto\", \"type\": \"bar\", \"x\": [\"amount_yr0\"], \"xaxis\": \"x\", \"y\": [3655885.410000013], \"yaxis\": \"y\"}, {\"alignmentgroup\": \"True\", \"hovertemplate\": \"variable=0,1,2,<br>year=%{x}<br>value=%{y}<extra></extra>\", \"legendgroup\": \"0,1,2,\", \"marker\": {\"color\": \"#EF553B\"}, \"name\": \"0,1,2,\", \"offsetgroup\": \"0,1,2,\", \"orientation\": \"v\", \"showlegend\": true, \"textposition\": \"auto\", \"type\": \"bar\", \"x\": [\"amount_yr0\"], \"xaxis\": \"x\", \"y\": [1528295.3399999985], \"yaxis\": \"y\"}, {\"alignmentgroup\": \"True\", \"hovertemplate\": \"variable=0,1,2,3,<br>year=%{x}<br>value=%{y}<extra></extra>\", \"legendgroup\": \"0,1,2,3,\", \"marker\": {\"color\": \"#00cc96\"}, \"name\": \"0,1,2,3,\", \"offsetgroup\": \"0,1,2,3,\", \"orientation\": \"v\", \"showlegend\": true, \"textposition\": \"auto\", \"type\": \"bar\", \"x\": [\"amount_yr0\"], \"xaxis\": \"x\", \"y\": [1124336.2], \"yaxis\": \"y\"}, {\"alignmentgroup\": \"True\", \"hovertemplate\": \"variable=0,1,2,3,4,<br>year=%{x}<br>value=%{y}<extra></extra>\", \"legendgroup\": \"0,1,2,3,4,\", \"marker\": {\"color\": \"#ab63fa\"}, \"name\": \"0,1,2,3,4,\", \"offsetgroup\": \"0,1,2,3,4,\", \"orientation\": \"v\", \"showlegend\": true, \"textposition\": \"auto\", \"type\": \"bar\", \"x\": [\"amount_yr0\"], \"xaxis\": \"x\", \"y\": [5209667.210000017], \"yaxis\": \"y\"}, {\"alignmentgroup\": \"True\", \"hovertemplate\": \"variable=0,1,2,4,<br>year=%{x}<br>value=%{y}<extra></extra>\", \"legendgroup\": \"0,1,2,4,\", \"marker\": {\"color\": \"#FFA15A\"}, \"name\": \"0,1,2,4,\", \"offsetgroup\": \"0,1,2,4,\", \"orientation\": \"v\", \"showlegend\": true, \"textposition\": \"auto\", \"type\": \"bar\", \"x\": [\"amount_yr0\"], \"xaxis\": \"x\", \"y\": [482861.08999999985], \"yaxis\": \"y\"}, {\"alignmentgroup\": \"True\", \"hovertemplate\": \"variable=0,1,3,<br>year=%{x}<br>value=%{y}<extra></extra>\", \"legendgroup\": \"0,1,3,\", \"marker\": {\"color\": \"#19d3f3\"}, \"name\": \"0,1,3,\", \"offsetgroup\": \"0,1,3,\", \"orientation\": \"v\", \"showlegend\": true, \"textposition\": \"auto\", \"type\": \"bar\", \"x\": [\"amount_yr0\"], \"xaxis\": \"x\", \"y\": [404406.91999999987], \"yaxis\": \"y\"}, {\"alignmentgroup\": \"True\", \"hovertemplate\": \"variable=0,1,3,4,<br>year=%{x}<br>value=%{y}<extra></extra>\", \"legendgroup\": \"0,1,3,4,\", \"marker\": {\"color\": \"#FF6692\"}, \"name\": \"0,1,3,4,\", \"offsetgroup\": \"0,1,3,4,\", \"orientation\": \"v\", \"showlegend\": true, \"textposition\": \"auto\", \"type\": \"bar\", \"x\": [\"amount_yr0\"], \"xaxis\": \"x\", \"y\": [335331.86999999994], \"yaxis\": \"y\"}, {\"alignmentgroup\": \"True\", \"hovertemplate\": \"variable=0,1,4,<br>year=%{x}<br>value=%{y}<extra></extra>\", \"legendgroup\": \"0,1,4,\", \"marker\": {\"color\": \"#B6E880\"}, \"name\": \"0,1,4,\", \"offsetgroup\": \"0,1,4,\", \"orientation\": \"v\", \"showlegend\": true, \"textposition\": \"auto\", \"type\": \"bar\", \"x\": [\"amount_yr0\"], \"xaxis\": \"x\", \"y\": [278396.7], \"yaxis\": \"y\"}, {\"alignmentgroup\": \"True\", \"hovertemplate\": \"variable=0,2,<br>year=%{x}<br>value=%{y}<extra></extra>\", \"legendgroup\": \"0,2,\", \"marker\": {\"color\": \"#FF97FF\"}, \"name\": \"0,2,\", \"offsetgroup\": \"0,2,\", \"orientation\": \"v\", \"showlegend\": true, \"textposition\": \"auto\", \"type\": \"bar\", \"x\": [\"amount_yr0\"], \"xaxis\": \"x\", \"y\": [1631608.529999998], \"yaxis\": \"y\"}, {\"alignmentgroup\": \"True\", \"hovertemplate\": \"variable=0,2,3,<br>year=%{x}<br>value=%{y}<extra></extra>\", \"legendgroup\": \"0,2,3,\", \"marker\": {\"color\": \"#FECB52\"}, \"name\": \"0,2,3,\", \"offsetgroup\": \"0,2,3,\", \"orientation\": \"v\", \"showlegend\": true, \"textposition\": \"auto\", \"type\": \"bar\", \"x\": [\"amount_yr0\"], \"xaxis\": \"x\", \"y\": [246634.9199999998], \"yaxis\": \"y\"}, {\"alignmentgroup\": \"True\", \"hovertemplate\": \"variable=0,2,3,4,<br>year=%{x}<br>value=%{y}<extra></extra>\", \"legendgroup\": \"0,2,3,4,\", \"marker\": {\"color\": \"#636efa\"}, \"name\": \"0,2,3,4,\", \"offsetgroup\": \"0,2,3,4,\", \"orientation\": \"v\", \"showlegend\": true, \"textposition\": \"auto\", \"type\": \"bar\", \"x\": [\"amount_yr0\"], \"xaxis\": \"x\", \"y\": [273684.57], \"yaxis\": \"y\"}, {\"alignmentgroup\": \"True\", \"hovertemplate\": \"variable=0,2,4,<br>year=%{x}<br>value=%{y}<extra></extra>\", \"legendgroup\": \"0,2,4,\", \"marker\": {\"color\": \"#EF553B\"}, \"name\": \"0,2,4,\", \"offsetgroup\": \"0,2,4,\", \"orientation\": \"v\", \"showlegend\": true, \"textposition\": \"auto\", \"type\": \"bar\", \"x\": [\"amount_yr0\"], \"xaxis\": \"x\", \"y\": [146542.83999999997], \"yaxis\": \"y\"}, {\"alignmentgroup\": \"True\", \"hovertemplate\": \"variable=0,3,<br>year=%{x}<br>value=%{y}<extra></extra>\", \"legendgroup\": \"0,3,\", \"marker\": {\"color\": \"#00cc96\"}, \"name\": \"0,3,\", \"offsetgroup\": \"0,3,\", \"orientation\": \"v\", \"showlegend\": true, \"textposition\": \"auto\", \"type\": \"bar\", \"x\": [\"amount_yr0\"], \"xaxis\": \"x\", \"y\": [538437.0999999997], \"yaxis\": \"y\"}, {\"alignmentgroup\": \"True\", \"hovertemplate\": \"variable=0,3,4<br>year=%{x}<br>value=%{y}<extra></extra>\", \"legendgroup\": \"0,3,4\", \"marker\": {\"color\": \"#ab63fa\"}, \"name\": \"0,3,4\", \"offsetgroup\": \"0,3,4\", \"orientation\": \"v\", \"showlegend\": true, \"textposition\": \"auto\", \"type\": \"bar\", \"x\": [\"amount_yr0\"], \"xaxis\": \"x\", \"y\": [227617.38999999998], \"yaxis\": \"y\"}, {\"alignmentgroup\": \"True\", \"hovertemplate\": \"variable=0,4,<br>year=%{x}<br>value=%{y}<extra></extra>\", \"legendgroup\": \"0,4,\", \"marker\": {\"color\": \"#FFA15A\"}, \"name\": \"0,4,\", \"offsetgroup\": \"0,4,\", \"orientation\": \"v\", \"showlegend\": true, \"textposition\": \"auto\", \"type\": \"bar\", \"x\": [\"amount_yr0\"], \"xaxis\": \"x\", \"y\": [395075.69], \"yaxis\": \"y\"}],\n",
       "                        {\"barmode\": \"group\", \"legend\": {\"title\": {\"text\": \"variable\"}, \"tracegroupgap\": 0}, \"template\": {\"data\": {\"bar\": [{\"error_x\": {\"color\": \"#2a3f5f\"}, \"error_y\": {\"color\": \"#2a3f5f\"}, \"marker\": {\"line\": {\"color\": \"#E5ECF6\", \"width\": 0.5}}, \"type\": \"bar\"}], \"barpolar\": [{\"marker\": {\"line\": {\"color\": \"#E5ECF6\", \"width\": 0.5}}, \"type\": \"barpolar\"}], \"carpet\": [{\"aaxis\": {\"endlinecolor\": \"#2a3f5f\", \"gridcolor\": \"white\", \"linecolor\": \"white\", \"minorgridcolor\": \"white\", \"startlinecolor\": \"#2a3f5f\"}, \"baxis\": {\"endlinecolor\": \"#2a3f5f\", \"gridcolor\": \"white\", \"linecolor\": \"white\", \"minorgridcolor\": \"white\", \"startlinecolor\": \"#2a3f5f\"}, \"type\": \"carpet\"}], \"choropleth\": [{\"colorbar\": {\"outlinewidth\": 0, \"ticks\": \"\"}, \"type\": \"choropleth\"}], \"contour\": [{\"colorbar\": {\"outlinewidth\": 0, \"ticks\": \"\"}, \"colorscale\": [[0.0, \"#0d0887\"], [0.1111111111111111, \"#46039f\"], [0.2222222222222222, \"#7201a8\"], [0.3333333333333333, \"#9c179e\"], [0.4444444444444444, \"#bd3786\"], [0.5555555555555556, \"#d8576b\"], [0.6666666666666666, \"#ed7953\"], [0.7777777777777778, \"#fb9f3a\"], [0.8888888888888888, \"#fdca26\"], [1.0, \"#f0f921\"]], \"type\": \"contour\"}], \"contourcarpet\": [{\"colorbar\": {\"outlinewidth\": 0, \"ticks\": \"\"}, \"type\": \"contourcarpet\"}], \"heatmap\": [{\"colorbar\": {\"outlinewidth\": 0, \"ticks\": \"\"}, \"colorscale\": [[0.0, \"#0d0887\"], [0.1111111111111111, \"#46039f\"], [0.2222222222222222, \"#7201a8\"], [0.3333333333333333, \"#9c179e\"], [0.4444444444444444, \"#bd3786\"], [0.5555555555555556, \"#d8576b\"], [0.6666666666666666, \"#ed7953\"], [0.7777777777777778, \"#fb9f3a\"], [0.8888888888888888, \"#fdca26\"], [1.0, \"#f0f921\"]], \"type\": \"heatmap\"}], \"heatmapgl\": [{\"colorbar\": {\"outlinewidth\": 0, \"ticks\": \"\"}, \"colorscale\": [[0.0, \"#0d0887\"], [0.1111111111111111, \"#46039f\"], [0.2222222222222222, \"#7201a8\"], [0.3333333333333333, \"#9c179e\"], [0.4444444444444444, \"#bd3786\"], [0.5555555555555556, \"#d8576b\"], [0.6666666666666666, \"#ed7953\"], [0.7777777777777778, \"#fb9f3a\"], [0.8888888888888888, \"#fdca26\"], [1.0, \"#f0f921\"]], \"type\": \"heatmapgl\"}], \"histogram\": [{\"marker\": {\"colorbar\": {\"outlinewidth\": 0, \"ticks\": \"\"}}, \"type\": \"histogram\"}], \"histogram2d\": [{\"colorbar\": {\"outlinewidth\": 0, \"ticks\": \"\"}, \"colorscale\": [[0.0, \"#0d0887\"], [0.1111111111111111, \"#46039f\"], [0.2222222222222222, \"#7201a8\"], [0.3333333333333333, \"#9c179e\"], [0.4444444444444444, \"#bd3786\"], [0.5555555555555556, \"#d8576b\"], [0.6666666666666666, \"#ed7953\"], [0.7777777777777778, \"#fb9f3a\"], [0.8888888888888888, \"#fdca26\"], [1.0, \"#f0f921\"]], \"type\": \"histogram2d\"}], \"histogram2dcontour\": [{\"colorbar\": {\"outlinewidth\": 0, \"ticks\": \"\"}, \"colorscale\": [[0.0, \"#0d0887\"], [0.1111111111111111, \"#46039f\"], [0.2222222222222222, \"#7201a8\"], [0.3333333333333333, \"#9c179e\"], [0.4444444444444444, \"#bd3786\"], [0.5555555555555556, \"#d8576b\"], [0.6666666666666666, \"#ed7953\"], [0.7777777777777778, \"#fb9f3a\"], [0.8888888888888888, \"#fdca26\"], [1.0, \"#f0f921\"]], \"type\": \"histogram2dcontour\"}], \"mesh3d\": [{\"colorbar\": {\"outlinewidth\": 0, \"ticks\": \"\"}, \"type\": \"mesh3d\"}], \"parcoords\": [{\"line\": {\"colorbar\": {\"outlinewidth\": 0, \"ticks\": \"\"}}, \"type\": \"parcoords\"}], \"pie\": [{\"automargin\": true, \"type\": \"pie\"}], \"scatter\": [{\"marker\": {\"colorbar\": {\"outlinewidth\": 0, \"ticks\": \"\"}}, \"type\": \"scatter\"}], \"scatter3d\": [{\"line\": {\"colorbar\": {\"outlinewidth\": 0, \"ticks\": \"\"}}, \"marker\": {\"colorbar\": {\"outlinewidth\": 0, \"ticks\": \"\"}}, \"type\": \"scatter3d\"}], \"scattercarpet\": [{\"marker\": {\"colorbar\": {\"outlinewidth\": 0, \"ticks\": \"\"}}, \"type\": \"scattercarpet\"}], \"scattergeo\": [{\"marker\": {\"colorbar\": {\"outlinewidth\": 0, \"ticks\": \"\"}}, \"type\": \"scattergeo\"}], \"scattergl\": [{\"marker\": {\"colorbar\": {\"outlinewidth\": 0, \"ticks\": \"\"}}, \"type\": \"scattergl\"}], \"scattermapbox\": [{\"marker\": {\"colorbar\": {\"outlinewidth\": 0, \"ticks\": \"\"}}, \"type\": \"scattermapbox\"}], \"scatterpolar\": [{\"marker\": {\"colorbar\": {\"outlinewidth\": 0, \"ticks\": \"\"}}, \"type\": \"scatterpolar\"}], \"scatterpolargl\": [{\"marker\": {\"colorbar\": {\"outlinewidth\": 0, \"ticks\": \"\"}}, \"type\": \"scatterpolargl\"}], \"scatterternary\": [{\"marker\": {\"colorbar\": {\"outlinewidth\": 0, \"ticks\": \"\"}}, \"type\": \"scatterternary\"}], \"surface\": [{\"colorbar\": {\"outlinewidth\": 0, \"ticks\": \"\"}, \"colorscale\": [[0.0, \"#0d0887\"], [0.1111111111111111, \"#46039f\"], [0.2222222222222222, \"#7201a8\"], [0.3333333333333333, \"#9c179e\"], [0.4444444444444444, \"#bd3786\"], [0.5555555555555556, \"#d8576b\"], [0.6666666666666666, \"#ed7953\"], [0.7777777777777778, \"#fb9f3a\"], [0.8888888888888888, \"#fdca26\"], [1.0, \"#f0f921\"]], \"type\": \"surface\"}], \"table\": [{\"cells\": {\"fill\": {\"color\": \"#EBF0F8\"}, \"line\": {\"color\": \"white\"}}, \"header\": {\"fill\": {\"color\": \"#C8D4E3\"}, \"line\": {\"color\": \"white\"}}, \"type\": \"table\"}]}, \"layout\": {\"annotationdefaults\": {\"arrowcolor\": \"#2a3f5f\", \"arrowhead\": 0, \"arrowwidth\": 1}, \"coloraxis\": {\"colorbar\": {\"outlinewidth\": 0, \"ticks\": \"\"}}, \"colorscale\": {\"diverging\": [[0, \"#8e0152\"], [0.1, \"#c51b7d\"], [0.2, \"#de77ae\"], [0.3, \"#f1b6da\"], [0.4, \"#fde0ef\"], [0.5, \"#f7f7f7\"], [0.6, \"#e6f5d0\"], [0.7, \"#b8e186\"], [0.8, \"#7fbc41\"], [0.9, \"#4d9221\"], [1, \"#276419\"]], \"sequential\": [[0.0, \"#0d0887\"], [0.1111111111111111, \"#46039f\"], [0.2222222222222222, \"#7201a8\"], [0.3333333333333333, \"#9c179e\"], [0.4444444444444444, \"#bd3786\"], [0.5555555555555556, \"#d8576b\"], [0.6666666666666666, \"#ed7953\"], [0.7777777777777778, \"#fb9f3a\"], [0.8888888888888888, \"#fdca26\"], [1.0, \"#f0f921\"]], \"sequentialminus\": [[0.0, \"#0d0887\"], [0.1111111111111111, \"#46039f\"], [0.2222222222222222, \"#7201a8\"], [0.3333333333333333, \"#9c179e\"], [0.4444444444444444, \"#bd3786\"], [0.5555555555555556, \"#d8576b\"], [0.6666666666666666, \"#ed7953\"], [0.7777777777777778, \"#fb9f3a\"], [0.8888888888888888, \"#fdca26\"], [1.0, \"#f0f921\"]]}, \"colorway\": [\"#636efa\", \"#EF553B\", \"#00cc96\", \"#ab63fa\", \"#FFA15A\", \"#19d3f3\", \"#FF6692\", \"#B6E880\", \"#FF97FF\", \"#FECB52\"], \"font\": {\"color\": \"#2a3f5f\"}, \"geo\": {\"bgcolor\": \"white\", \"lakecolor\": \"white\", \"landcolor\": \"#E5ECF6\", \"showlakes\": true, \"showland\": true, \"subunitcolor\": \"white\"}, \"hoverlabel\": {\"align\": \"left\"}, \"hovermode\": \"closest\", \"mapbox\": {\"style\": \"light\"}, \"paper_bgcolor\": \"white\", \"plot_bgcolor\": \"#E5ECF6\", \"polar\": {\"angularaxis\": {\"gridcolor\": \"white\", \"linecolor\": \"white\", \"ticks\": \"\"}, \"bgcolor\": \"#E5ECF6\", \"radialaxis\": {\"gridcolor\": \"white\", \"linecolor\": \"white\", \"ticks\": \"\"}}, \"scene\": {\"xaxis\": {\"backgroundcolor\": \"#E5ECF6\", \"gridcolor\": \"white\", \"gridwidth\": 2, \"linecolor\": \"white\", \"showbackground\": true, \"ticks\": \"\", \"zerolinecolor\": \"white\"}, \"yaxis\": {\"backgroundcolor\": \"#E5ECF6\", \"gridcolor\": \"white\", \"gridwidth\": 2, \"linecolor\": \"white\", \"showbackground\": true, \"ticks\": \"\", \"zerolinecolor\": \"white\"}, \"zaxis\": {\"backgroundcolor\": \"#E5ECF6\", \"gridcolor\": \"white\", \"gridwidth\": 2, \"linecolor\": \"white\", \"showbackground\": true, \"ticks\": \"\", \"zerolinecolor\": \"white\"}}, \"shapedefaults\": {\"line\": {\"color\": \"#2a3f5f\"}}, \"ternary\": {\"aaxis\": {\"gridcolor\": \"white\", \"linecolor\": \"white\", \"ticks\": \"\"}, \"baxis\": {\"gridcolor\": \"white\", \"linecolor\": \"white\", \"ticks\": \"\"}, \"bgcolor\": \"#E5ECF6\", \"caxis\": {\"gridcolor\": \"white\", \"linecolor\": \"white\", \"ticks\": \"\"}}, \"title\": {\"x\": 0.05}, \"xaxis\": {\"automargin\": true, \"gridcolor\": \"white\", \"linecolor\": \"white\", \"ticks\": \"\", \"title\": {\"standoff\": 15}, \"zerolinecolor\": \"white\", \"zerolinewidth\": 2}, \"yaxis\": {\"automargin\": true, \"gridcolor\": \"white\", \"linecolor\": \"white\", \"ticks\": \"\", \"title\": {\"standoff\": 15}, \"zerolinecolor\": \"white\", \"zerolinewidth\": 2}}}, \"title\": {\"text\": \"Donations ($) by Repeat Donors (Cohort 2013)\"}, \"xaxis\": {\"anchor\": \"y\", \"domain\": [0.0, 1.0], \"title\": {\"text\": \"year\"}}, \"yaxis\": {\"anchor\": \"x\", \"domain\": [0.0, 1.0], \"title\": {\"text\": \"value\"}}},\n",
       "                        {\"responsive\": true}\n",
       "                    ).then(function(){\n",
       "                            \n",
       "var gd = document.getElementById('b70587ff-b59c-4247-afa5-d95def0f849b');\n",
       "var x = new MutationObserver(function (mutations, observer) {{\n",
       "        var display = window.getComputedStyle(gd).display;\n",
       "        if (!display || display === 'none') {{\n",
       "            console.log([gd, 'removed!']);\n",
       "            Plotly.purge(gd);\n",
       "            observer.disconnect();\n",
       "        }}\n",
       "}});\n",
       "\n",
       "// Listen for the removal of the full notebook cells\n",
       "var notebookContainer = gd.closest('#notebook-container');\n",
       "if (notebookContainer) {{\n",
       "    x.observe(notebookContainer, {childList: true});\n",
       "}}\n",
       "\n",
       "// Listen for the clearing of the current output cell\n",
       "var outputEl = gd.closest('.output');\n",
       "if (outputEl) {{\n",
       "    x.observe(outputEl, {childList: true});\n",
       "}}\n",
       "\n",
       "                        })\n",
       "                };\n",
       "                });\n",
       "            </script>\n",
       "        </div>"
      ]
     },
     "metadata": {},
     "output_type": "display_data"
    }
   ],
   "source": [
    "fig = px.bar(c13_repeat_yr_amounts_transposed.query('index == \"amount_yr0\"'), x=\"index\", y=['0,1,', '0,1,2,', '0,1,2,3,', '0,1,2,3,4,', '0,1,2,4,',\n",
    "       '0,1,3,', '0,1,3,4,', '0,1,4,', '0,2,', '0,2,3,', '0,2,3,4,', '0,2,4,', '0,3,', '0,3,4', '0,4,'], barmode='group', labels={'index':'year', 'y':'amount ($)'}, title=\"Donations ($) by Repeat Donors (Cohort 2013)\")\n",
    "fig.show()"
   ]
  },
  {
   "cell_type": "code",
   "execution_count": 319,
   "metadata": {},
   "outputs": [
    {
     "data": {
      "text/html": [
       "<div>\n",
       "<style scoped>\n",
       "    .dataframe tbody tr th:only-of-type {\n",
       "        vertical-align: middle;\n",
       "    }\n",
       "\n",
       "    .dataframe tbody tr th {\n",
       "        vertical-align: top;\n",
       "    }\n",
       "\n",
       "    .dataframe thead th {\n",
       "        text-align: right;\n",
       "    }\n",
       "</style>\n",
       "<table border=\"1\" class=\"dataframe\">\n",
       "  <thead>\n",
       "    <tr style=\"text-align: right;\">\n",
       "      <th>cohort_gift_pattern</th>\n",
       "      <th>index</th>\n",
       "      <th>0,</th>\n",
       "      <th>0,1,</th>\n",
       "      <th>0,1,2,</th>\n",
       "      <th>0,1,2,3,</th>\n",
       "      <th>0,1,2,3,4,</th>\n",
       "      <th>0,1,2,4,</th>\n",
       "      <th>0,1,3,</th>\n",
       "      <th>0,1,3,4,</th>\n",
       "      <th>0,1,4,</th>\n",
       "      <th>0,2,</th>\n",
       "      <th>0,2,3,</th>\n",
       "      <th>0,2,3,4,</th>\n",
       "      <th>0,2,4,</th>\n",
       "      <th>0,3,</th>\n",
       "      <th>0,3,4</th>\n",
       "      <th>0,4,</th>\n",
       "    </tr>\n",
       "  </thead>\n",
       "  <tbody>\n",
       "    <tr>\n",
       "      <td>0</td>\n",
       "      <td>count_yr0</td>\n",
       "      <td>1951542</td>\n",
       "      <td>351904</td>\n",
       "      <td>111388</td>\n",
       "      <td>56259</td>\n",
       "      <td>127894</td>\n",
       "      <td>12650</td>\n",
       "      <td>17691</td>\n",
       "      <td>7792</td>\n",
       "      <td>8261</td>\n",
       "      <td>65682</td>\n",
       "      <td>13189</td>\n",
       "      <td>5965</td>\n",
       "      <td>3495</td>\n",
       "      <td>24944</td>\n",
       "      <td>5287</td>\n",
       "      <td>9927</td>\n",
       "    </tr>\n",
       "    <tr>\n",
       "      <td>1</td>\n",
       "      <td>count_yr1</td>\n",
       "      <td>0</td>\n",
       "      <td>300763</td>\n",
       "      <td>166061</td>\n",
       "      <td>80757</td>\n",
       "      <td>185300</td>\n",
       "      <td>12180</td>\n",
       "      <td>16934</td>\n",
       "      <td>7731</td>\n",
       "      <td>6407</td>\n",
       "      <td>0</td>\n",
       "      <td>0</td>\n",
       "      <td>0</td>\n",
       "      <td>0</td>\n",
       "      <td>0</td>\n",
       "      <td>0</td>\n",
       "      <td>0</td>\n",
       "    </tr>\n",
       "    <tr>\n",
       "      <td>2</td>\n",
       "      <td>count_yr2</td>\n",
       "      <td>0</td>\n",
       "      <td>0</td>\n",
       "      <td>91318</td>\n",
       "      <td>77733</td>\n",
       "      <td>149875</td>\n",
       "      <td>8477</td>\n",
       "      <td>0</td>\n",
       "      <td>0</td>\n",
       "      <td>0</td>\n",
       "      <td>62649</td>\n",
       "      <td>16364</td>\n",
       "      <td>7642</td>\n",
       "      <td>3446</td>\n",
       "      <td>0</td>\n",
       "      <td>0</td>\n",
       "      <td>0</td>\n",
       "    </tr>\n",
       "    <tr>\n",
       "      <td>3</td>\n",
       "      <td>count_yr3</td>\n",
       "      <td>0</td>\n",
       "      <td>0</td>\n",
       "      <td>0</td>\n",
       "      <td>41941</td>\n",
       "      <td>147865</td>\n",
       "      <td>0</td>\n",
       "      <td>13386</td>\n",
       "      <td>7974</td>\n",
       "      <td>0</td>\n",
       "      <td>0</td>\n",
       "      <td>14069</td>\n",
       "      <td>10695</td>\n",
       "      <td>0</td>\n",
       "      <td>24744</td>\n",
       "      <td>7203</td>\n",
       "      <td>0</td>\n",
       "    </tr>\n",
       "    <tr>\n",
       "      <td>4</td>\n",
       "      <td>count_yr4</td>\n",
       "      <td>0</td>\n",
       "      <td>0</td>\n",
       "      <td>0</td>\n",
       "      <td>0</td>\n",
       "      <td>128854</td>\n",
       "      <td>7607</td>\n",
       "      <td>0</td>\n",
       "      <td>9596</td>\n",
       "      <td>5693</td>\n",
       "      <td>0</td>\n",
       "      <td>0</td>\n",
       "      <td>9106</td>\n",
       "      <td>3579</td>\n",
       "      <td>0</td>\n",
       "      <td>11553</td>\n",
       "      <td>10705</td>\n",
       "    </tr>\n",
       "  </tbody>\n",
       "</table>\n",
       "</div>"
      ],
      "text/plain": [
       "cohort_gift_pattern      index       0,    0,1,  0,1,2,  0,1,2,3,  0,1,2,3,4,  \\\n",
       "0                    count_yr0  1951542  351904  111388     56259      127894   \n",
       "1                    count_yr1        0  300763  166061     80757      185300   \n",
       "2                    count_yr2        0       0   91318     77733      149875   \n",
       "3                    count_yr3        0       0       0     41941      147865   \n",
       "4                    count_yr4        0       0       0         0      128854   \n",
       "\n",
       "cohort_gift_pattern  0,1,2,4,  0,1,3,  0,1,3,4,  0,1,4,   0,2,  0,2,3,  \\\n",
       "0                       12650   17691      7792    8261  65682   13189   \n",
       "1                       12180   16934      7731    6407      0       0   \n",
       "2                        8477       0         0       0  62649   16364   \n",
       "3                           0   13386      7974       0      0   14069   \n",
       "4                        7607       0      9596    5693      0       0   \n",
       "\n",
       "cohort_gift_pattern  0,2,3,4,  0,2,4,   0,3,  0,3,4   0,4,  \n",
       "0                        5965    3495  24944   5287   9927  \n",
       "1                           0       0      0      0      0  \n",
       "2                        7642    3446      0      0      0  \n",
       "3                       10695       0  24744   7203      0  \n",
       "4                        9106    3579      0  11553  10705  "
      ]
     },
     "execution_count": 319,
     "metadata": {},
     "output_type": "execute_result"
    }
   ],
   "source": [
    "cgp_counts_by_year1_transposed"
   ]
  },
  {
   "cell_type": "code",
   "execution_count": 311,
   "metadata": {},
   "outputs": [
    {
     "data": {
      "application/vnd.plotly.v1+json": {
       "config": {
        "plotlyServerURL": "https://plot.ly"
       },
       "data": [
        {
         "alignmentgroup": "True",
         "hovertemplate": "variable=0,<br>index=%{x}<br>value=%{y}<extra></extra>",
         "legendgroup": "0,",
         "marker": {
          "color": "#636efa"
         },
         "name": "0,",
         "offsetgroup": "0,",
         "orientation": "v",
         "showlegend": true,
         "textposition": "auto",
         "type": "bar",
         "x": [
          "count_yr0",
          "count_yr1",
          "count_yr2",
          "count_yr3",
          "count_yr4"
         ],
         "xaxis": "x",
         "y": [
          1951542,
          0,
          0,
          0,
          0
         ],
         "yaxis": "y"
        },
        {
         "alignmentgroup": "True",
         "hovertemplate": "variable=0,1,<br>index=%{x}<br>value=%{y}<extra></extra>",
         "legendgroup": "0,1,",
         "marker": {
          "color": "#EF553B"
         },
         "name": "0,1,",
         "offsetgroup": "0,1,",
         "orientation": "v",
         "showlegend": true,
         "textposition": "auto",
         "type": "bar",
         "x": [
          "count_yr0",
          "count_yr1",
          "count_yr2",
          "count_yr3",
          "count_yr4"
         ],
         "xaxis": "x",
         "y": [
          351904,
          300763,
          0,
          0,
          0
         ],
         "yaxis": "y"
        },
        {
         "alignmentgroup": "True",
         "hovertemplate": "variable=0,1,2,<br>index=%{x}<br>value=%{y}<extra></extra>",
         "legendgroup": "0,1,2,",
         "marker": {
          "color": "#00cc96"
         },
         "name": "0,1,2,",
         "offsetgroup": "0,1,2,",
         "orientation": "v",
         "showlegend": true,
         "textposition": "auto",
         "type": "bar",
         "x": [
          "count_yr0",
          "count_yr1",
          "count_yr2",
          "count_yr3",
          "count_yr4"
         ],
         "xaxis": "x",
         "y": [
          111388,
          166061,
          91318,
          0,
          0
         ],
         "yaxis": "y"
        },
        {
         "alignmentgroup": "True",
         "hovertemplate": "variable=0,1,2,3,<br>index=%{x}<br>value=%{y}<extra></extra>",
         "legendgroup": "0,1,2,3,",
         "marker": {
          "color": "#ab63fa"
         },
         "name": "0,1,2,3,",
         "offsetgroup": "0,1,2,3,",
         "orientation": "v",
         "showlegend": true,
         "textposition": "auto",
         "type": "bar",
         "x": [
          "count_yr0",
          "count_yr1",
          "count_yr2",
          "count_yr3",
          "count_yr4"
         ],
         "xaxis": "x",
         "y": [
          56259,
          80757,
          77733,
          41941,
          0
         ],
         "yaxis": "y"
        },
        {
         "alignmentgroup": "True",
         "hovertemplate": "variable=0,1,2,3,4,<br>index=%{x}<br>value=%{y}<extra></extra>",
         "legendgroup": "0,1,2,3,4,",
         "marker": {
          "color": "#FFA15A"
         },
         "name": "0,1,2,3,4,",
         "offsetgroup": "0,1,2,3,4,",
         "orientation": "v",
         "showlegend": true,
         "textposition": "auto",
         "type": "bar",
         "x": [
          "count_yr0",
          "count_yr1",
          "count_yr2",
          "count_yr3",
          "count_yr4"
         ],
         "xaxis": "x",
         "y": [
          127894,
          185300,
          149875,
          147865,
          128854
         ],
         "yaxis": "y"
        },
        {
         "alignmentgroup": "True",
         "hovertemplate": "variable=0,1,2,4,<br>index=%{x}<br>value=%{y}<extra></extra>",
         "legendgroup": "0,1,2,4,",
         "marker": {
          "color": "#19d3f3"
         },
         "name": "0,1,2,4,",
         "offsetgroup": "0,1,2,4,",
         "orientation": "v",
         "showlegend": true,
         "textposition": "auto",
         "type": "bar",
         "x": [
          "count_yr0",
          "count_yr1",
          "count_yr2",
          "count_yr3",
          "count_yr4"
         ],
         "xaxis": "x",
         "y": [
          12650,
          12180,
          8477,
          0,
          7607
         ],
         "yaxis": "y"
        },
        {
         "alignmentgroup": "True",
         "hovertemplate": "variable=0,1,3,<br>index=%{x}<br>value=%{y}<extra></extra>",
         "legendgroup": "0,1,3,",
         "marker": {
          "color": "#FF6692"
         },
         "name": "0,1,3,",
         "offsetgroup": "0,1,3,",
         "orientation": "v",
         "showlegend": true,
         "textposition": "auto",
         "type": "bar",
         "x": [
          "count_yr0",
          "count_yr1",
          "count_yr2",
          "count_yr3",
          "count_yr4"
         ],
         "xaxis": "x",
         "y": [
          17691,
          16934,
          0,
          13386,
          0
         ],
         "yaxis": "y"
        },
        {
         "alignmentgroup": "True",
         "hovertemplate": "variable=0,1,3,4,<br>index=%{x}<br>value=%{y}<extra></extra>",
         "legendgroup": "0,1,3,4,",
         "marker": {
          "color": "#B6E880"
         },
         "name": "0,1,3,4,",
         "offsetgroup": "0,1,3,4,",
         "orientation": "v",
         "showlegend": true,
         "textposition": "auto",
         "type": "bar",
         "x": [
          "count_yr0",
          "count_yr1",
          "count_yr2",
          "count_yr3",
          "count_yr4"
         ],
         "xaxis": "x",
         "y": [
          7792,
          7731,
          0,
          7974,
          9596
         ],
         "yaxis": "y"
        },
        {
         "alignmentgroup": "True",
         "hovertemplate": "variable=0,1,4,<br>index=%{x}<br>value=%{y}<extra></extra>",
         "legendgroup": "0,1,4,",
         "marker": {
          "color": "#FF97FF"
         },
         "name": "0,1,4,",
         "offsetgroup": "0,1,4,",
         "orientation": "v",
         "showlegend": true,
         "textposition": "auto",
         "type": "bar",
         "x": [
          "count_yr0",
          "count_yr1",
          "count_yr2",
          "count_yr3",
          "count_yr4"
         ],
         "xaxis": "x",
         "y": [
          8261,
          6407,
          0,
          0,
          5693
         ],
         "yaxis": "y"
        },
        {
         "alignmentgroup": "True",
         "hovertemplate": "variable=0,2,<br>index=%{x}<br>value=%{y}<extra></extra>",
         "legendgroup": "0,2,",
         "marker": {
          "color": "#FECB52"
         },
         "name": "0,2,",
         "offsetgroup": "0,2,",
         "orientation": "v",
         "showlegend": true,
         "textposition": "auto",
         "type": "bar",
         "x": [
          "count_yr0",
          "count_yr1",
          "count_yr2",
          "count_yr3",
          "count_yr4"
         ],
         "xaxis": "x",
         "y": [
          65682,
          0,
          62649,
          0,
          0
         ],
         "yaxis": "y"
        },
        {
         "alignmentgroup": "True",
         "hovertemplate": "variable=0,2,3,<br>index=%{x}<br>value=%{y}<extra></extra>",
         "legendgroup": "0,2,3,",
         "marker": {
          "color": "#636efa"
         },
         "name": "0,2,3,",
         "offsetgroup": "0,2,3,",
         "orientation": "v",
         "showlegend": true,
         "textposition": "auto",
         "type": "bar",
         "x": [
          "count_yr0",
          "count_yr1",
          "count_yr2",
          "count_yr3",
          "count_yr4"
         ],
         "xaxis": "x",
         "y": [
          13189,
          0,
          16364,
          14069,
          0
         ],
         "yaxis": "y"
        },
        {
         "alignmentgroup": "True",
         "hovertemplate": "variable=0,2,3,4,<br>index=%{x}<br>value=%{y}<extra></extra>",
         "legendgroup": "0,2,3,4,",
         "marker": {
          "color": "#EF553B"
         },
         "name": "0,2,3,4,",
         "offsetgroup": "0,2,3,4,",
         "orientation": "v",
         "showlegend": true,
         "textposition": "auto",
         "type": "bar",
         "x": [
          "count_yr0",
          "count_yr1",
          "count_yr2",
          "count_yr3",
          "count_yr4"
         ],
         "xaxis": "x",
         "y": [
          5965,
          0,
          7642,
          10695,
          9106
         ],
         "yaxis": "y"
        },
        {
         "alignmentgroup": "True",
         "hovertemplate": "variable=0,2,4,<br>index=%{x}<br>value=%{y}<extra></extra>",
         "legendgroup": "0,2,4,",
         "marker": {
          "color": "#00cc96"
         },
         "name": "0,2,4,",
         "offsetgroup": "0,2,4,",
         "orientation": "v",
         "showlegend": true,
         "textposition": "auto",
         "type": "bar",
         "x": [
          "count_yr0",
          "count_yr1",
          "count_yr2",
          "count_yr3",
          "count_yr4"
         ],
         "xaxis": "x",
         "y": [
          3495,
          0,
          3446,
          0,
          3579
         ],
         "yaxis": "y"
        },
        {
         "alignmentgroup": "True",
         "hovertemplate": "variable=0,3,<br>index=%{x}<br>value=%{y}<extra></extra>",
         "legendgroup": "0,3,",
         "marker": {
          "color": "#ab63fa"
         },
         "name": "0,3,",
         "offsetgroup": "0,3,",
         "orientation": "v",
         "showlegend": true,
         "textposition": "auto",
         "type": "bar",
         "x": [
          "count_yr0",
          "count_yr1",
          "count_yr2",
          "count_yr3",
          "count_yr4"
         ],
         "xaxis": "x",
         "y": [
          24944,
          0,
          0,
          24744,
          0
         ],
         "yaxis": "y"
        },
        {
         "alignmentgroup": "True",
         "hovertemplate": "variable=0,3,4<br>index=%{x}<br>value=%{y}<extra></extra>",
         "legendgroup": "0,3,4",
         "marker": {
          "color": "#FFA15A"
         },
         "name": "0,3,4",
         "offsetgroup": "0,3,4",
         "orientation": "v",
         "showlegend": true,
         "textposition": "auto",
         "type": "bar",
         "x": [
          "count_yr0",
          "count_yr1",
          "count_yr2",
          "count_yr3",
          "count_yr4"
         ],
         "xaxis": "x",
         "y": [
          5287,
          0,
          0,
          7203,
          11553
         ],
         "yaxis": "y"
        },
        {
         "alignmentgroup": "True",
         "hovertemplate": "variable=0,4,<br>index=%{x}<br>value=%{y}<extra></extra>",
         "legendgroup": "0,4,",
         "marker": {
          "color": "#19d3f3"
         },
         "name": "0,4,",
         "offsetgroup": "0,4,",
         "orientation": "v",
         "showlegend": true,
         "textposition": "auto",
         "type": "bar",
         "x": [
          "count_yr0",
          "count_yr1",
          "count_yr2",
          "count_yr3",
          "count_yr4"
         ],
         "xaxis": "x",
         "y": [
          9927,
          0,
          0,
          0,
          10705
         ],
         "yaxis": "y"
        }
       ],
       "layout": {
        "barmode": "relative",
        "legend": {
         "title": {
          "text": "variable"
         },
         "tracegroupgap": 0
        },
        "template": {
         "data": {
          "bar": [
           {
            "error_x": {
             "color": "#2a3f5f"
            },
            "error_y": {
             "color": "#2a3f5f"
            },
            "marker": {
             "line": {
              "color": "#E5ECF6",
              "width": 0.5
             }
            },
            "type": "bar"
           }
          ],
          "barpolar": [
           {
            "marker": {
             "line": {
              "color": "#E5ECF6",
              "width": 0.5
             }
            },
            "type": "barpolar"
           }
          ],
          "carpet": [
           {
            "aaxis": {
             "endlinecolor": "#2a3f5f",
             "gridcolor": "white",
             "linecolor": "white",
             "minorgridcolor": "white",
             "startlinecolor": "#2a3f5f"
            },
            "baxis": {
             "endlinecolor": "#2a3f5f",
             "gridcolor": "white",
             "linecolor": "white",
             "minorgridcolor": "white",
             "startlinecolor": "#2a3f5f"
            },
            "type": "carpet"
           }
          ],
          "choropleth": [
           {
            "colorbar": {
             "outlinewidth": 0,
             "ticks": ""
            },
            "type": "choropleth"
           }
          ],
          "contour": [
           {
            "colorbar": {
             "outlinewidth": 0,
             "ticks": ""
            },
            "colorscale": [
             [
              0,
              "#0d0887"
             ],
             [
              0.1111111111111111,
              "#46039f"
             ],
             [
              0.2222222222222222,
              "#7201a8"
             ],
             [
              0.3333333333333333,
              "#9c179e"
             ],
             [
              0.4444444444444444,
              "#bd3786"
             ],
             [
              0.5555555555555556,
              "#d8576b"
             ],
             [
              0.6666666666666666,
              "#ed7953"
             ],
             [
              0.7777777777777778,
              "#fb9f3a"
             ],
             [
              0.8888888888888888,
              "#fdca26"
             ],
             [
              1,
              "#f0f921"
             ]
            ],
            "type": "contour"
           }
          ],
          "contourcarpet": [
           {
            "colorbar": {
             "outlinewidth": 0,
             "ticks": ""
            },
            "type": "contourcarpet"
           }
          ],
          "heatmap": [
           {
            "colorbar": {
             "outlinewidth": 0,
             "ticks": ""
            },
            "colorscale": [
             [
              0,
              "#0d0887"
             ],
             [
              0.1111111111111111,
              "#46039f"
             ],
             [
              0.2222222222222222,
              "#7201a8"
             ],
             [
              0.3333333333333333,
              "#9c179e"
             ],
             [
              0.4444444444444444,
              "#bd3786"
             ],
             [
              0.5555555555555556,
              "#d8576b"
             ],
             [
              0.6666666666666666,
              "#ed7953"
             ],
             [
              0.7777777777777778,
              "#fb9f3a"
             ],
             [
              0.8888888888888888,
              "#fdca26"
             ],
             [
              1,
              "#f0f921"
             ]
            ],
            "type": "heatmap"
           }
          ],
          "heatmapgl": [
           {
            "colorbar": {
             "outlinewidth": 0,
             "ticks": ""
            },
            "colorscale": [
             [
              0,
              "#0d0887"
             ],
             [
              0.1111111111111111,
              "#46039f"
             ],
             [
              0.2222222222222222,
              "#7201a8"
             ],
             [
              0.3333333333333333,
              "#9c179e"
             ],
             [
              0.4444444444444444,
              "#bd3786"
             ],
             [
              0.5555555555555556,
              "#d8576b"
             ],
             [
              0.6666666666666666,
              "#ed7953"
             ],
             [
              0.7777777777777778,
              "#fb9f3a"
             ],
             [
              0.8888888888888888,
              "#fdca26"
             ],
             [
              1,
              "#f0f921"
             ]
            ],
            "type": "heatmapgl"
           }
          ],
          "histogram": [
           {
            "marker": {
             "colorbar": {
              "outlinewidth": 0,
              "ticks": ""
             }
            },
            "type": "histogram"
           }
          ],
          "histogram2d": [
           {
            "colorbar": {
             "outlinewidth": 0,
             "ticks": ""
            },
            "colorscale": [
             [
              0,
              "#0d0887"
             ],
             [
              0.1111111111111111,
              "#46039f"
             ],
             [
              0.2222222222222222,
              "#7201a8"
             ],
             [
              0.3333333333333333,
              "#9c179e"
             ],
             [
              0.4444444444444444,
              "#bd3786"
             ],
             [
              0.5555555555555556,
              "#d8576b"
             ],
             [
              0.6666666666666666,
              "#ed7953"
             ],
             [
              0.7777777777777778,
              "#fb9f3a"
             ],
             [
              0.8888888888888888,
              "#fdca26"
             ],
             [
              1,
              "#f0f921"
             ]
            ],
            "type": "histogram2d"
           }
          ],
          "histogram2dcontour": [
           {
            "colorbar": {
             "outlinewidth": 0,
             "ticks": ""
            },
            "colorscale": [
             [
              0,
              "#0d0887"
             ],
             [
              0.1111111111111111,
              "#46039f"
             ],
             [
              0.2222222222222222,
              "#7201a8"
             ],
             [
              0.3333333333333333,
              "#9c179e"
             ],
             [
              0.4444444444444444,
              "#bd3786"
             ],
             [
              0.5555555555555556,
              "#d8576b"
             ],
             [
              0.6666666666666666,
              "#ed7953"
             ],
             [
              0.7777777777777778,
              "#fb9f3a"
             ],
             [
              0.8888888888888888,
              "#fdca26"
             ],
             [
              1,
              "#f0f921"
             ]
            ],
            "type": "histogram2dcontour"
           }
          ],
          "mesh3d": [
           {
            "colorbar": {
             "outlinewidth": 0,
             "ticks": ""
            },
            "type": "mesh3d"
           }
          ],
          "parcoords": [
           {
            "line": {
             "colorbar": {
              "outlinewidth": 0,
              "ticks": ""
             }
            },
            "type": "parcoords"
           }
          ],
          "pie": [
           {
            "automargin": true,
            "type": "pie"
           }
          ],
          "scatter": [
           {
            "marker": {
             "colorbar": {
              "outlinewidth": 0,
              "ticks": ""
             }
            },
            "type": "scatter"
           }
          ],
          "scatter3d": [
           {
            "line": {
             "colorbar": {
              "outlinewidth": 0,
              "ticks": ""
             }
            },
            "marker": {
             "colorbar": {
              "outlinewidth": 0,
              "ticks": ""
             }
            },
            "type": "scatter3d"
           }
          ],
          "scattercarpet": [
           {
            "marker": {
             "colorbar": {
              "outlinewidth": 0,
              "ticks": ""
             }
            },
            "type": "scattercarpet"
           }
          ],
          "scattergeo": [
           {
            "marker": {
             "colorbar": {
              "outlinewidth": 0,
              "ticks": ""
             }
            },
            "type": "scattergeo"
           }
          ],
          "scattergl": [
           {
            "marker": {
             "colorbar": {
              "outlinewidth": 0,
              "ticks": ""
             }
            },
            "type": "scattergl"
           }
          ],
          "scattermapbox": [
           {
            "marker": {
             "colorbar": {
              "outlinewidth": 0,
              "ticks": ""
             }
            },
            "type": "scattermapbox"
           }
          ],
          "scatterpolar": [
           {
            "marker": {
             "colorbar": {
              "outlinewidth": 0,
              "ticks": ""
             }
            },
            "type": "scatterpolar"
           }
          ],
          "scatterpolargl": [
           {
            "marker": {
             "colorbar": {
              "outlinewidth": 0,
              "ticks": ""
             }
            },
            "type": "scatterpolargl"
           }
          ],
          "scatterternary": [
           {
            "marker": {
             "colorbar": {
              "outlinewidth": 0,
              "ticks": ""
             }
            },
            "type": "scatterternary"
           }
          ],
          "surface": [
           {
            "colorbar": {
             "outlinewidth": 0,
             "ticks": ""
            },
            "colorscale": [
             [
              0,
              "#0d0887"
             ],
             [
              0.1111111111111111,
              "#46039f"
             ],
             [
              0.2222222222222222,
              "#7201a8"
             ],
             [
              0.3333333333333333,
              "#9c179e"
             ],
             [
              0.4444444444444444,
              "#bd3786"
             ],
             [
              0.5555555555555556,
              "#d8576b"
             ],
             [
              0.6666666666666666,
              "#ed7953"
             ],
             [
              0.7777777777777778,
              "#fb9f3a"
             ],
             [
              0.8888888888888888,
              "#fdca26"
             ],
             [
              1,
              "#f0f921"
             ]
            ],
            "type": "surface"
           }
          ],
          "table": [
           {
            "cells": {
             "fill": {
              "color": "#EBF0F8"
             },
             "line": {
              "color": "white"
             }
            },
            "header": {
             "fill": {
              "color": "#C8D4E3"
             },
             "line": {
              "color": "white"
             }
            },
            "type": "table"
           }
          ]
         },
         "layout": {
          "annotationdefaults": {
           "arrowcolor": "#2a3f5f",
           "arrowhead": 0,
           "arrowwidth": 1
          },
          "coloraxis": {
           "colorbar": {
            "outlinewidth": 0,
            "ticks": ""
           }
          },
          "colorscale": {
           "diverging": [
            [
             0,
             "#8e0152"
            ],
            [
             0.1,
             "#c51b7d"
            ],
            [
             0.2,
             "#de77ae"
            ],
            [
             0.3,
             "#f1b6da"
            ],
            [
             0.4,
             "#fde0ef"
            ],
            [
             0.5,
             "#f7f7f7"
            ],
            [
             0.6,
             "#e6f5d0"
            ],
            [
             0.7,
             "#b8e186"
            ],
            [
             0.8,
             "#7fbc41"
            ],
            [
             0.9,
             "#4d9221"
            ],
            [
             1,
             "#276419"
            ]
           ],
           "sequential": [
            [
             0,
             "#0d0887"
            ],
            [
             0.1111111111111111,
             "#46039f"
            ],
            [
             0.2222222222222222,
             "#7201a8"
            ],
            [
             0.3333333333333333,
             "#9c179e"
            ],
            [
             0.4444444444444444,
             "#bd3786"
            ],
            [
             0.5555555555555556,
             "#d8576b"
            ],
            [
             0.6666666666666666,
             "#ed7953"
            ],
            [
             0.7777777777777778,
             "#fb9f3a"
            ],
            [
             0.8888888888888888,
             "#fdca26"
            ],
            [
             1,
             "#f0f921"
            ]
           ],
           "sequentialminus": [
            [
             0,
             "#0d0887"
            ],
            [
             0.1111111111111111,
             "#46039f"
            ],
            [
             0.2222222222222222,
             "#7201a8"
            ],
            [
             0.3333333333333333,
             "#9c179e"
            ],
            [
             0.4444444444444444,
             "#bd3786"
            ],
            [
             0.5555555555555556,
             "#d8576b"
            ],
            [
             0.6666666666666666,
             "#ed7953"
            ],
            [
             0.7777777777777778,
             "#fb9f3a"
            ],
            [
             0.8888888888888888,
             "#fdca26"
            ],
            [
             1,
             "#f0f921"
            ]
           ]
          },
          "colorway": [
           "#636efa",
           "#EF553B",
           "#00cc96",
           "#ab63fa",
           "#FFA15A",
           "#19d3f3",
           "#FF6692",
           "#B6E880",
           "#FF97FF",
           "#FECB52"
          ],
          "font": {
           "color": "#2a3f5f"
          },
          "geo": {
           "bgcolor": "white",
           "lakecolor": "white",
           "landcolor": "#E5ECF6",
           "showlakes": true,
           "showland": true,
           "subunitcolor": "white"
          },
          "hoverlabel": {
           "align": "left"
          },
          "hovermode": "closest",
          "mapbox": {
           "style": "light"
          },
          "paper_bgcolor": "white",
          "plot_bgcolor": "#E5ECF6",
          "polar": {
           "angularaxis": {
            "gridcolor": "white",
            "linecolor": "white",
            "ticks": ""
           },
           "bgcolor": "#E5ECF6",
           "radialaxis": {
            "gridcolor": "white",
            "linecolor": "white",
            "ticks": ""
           }
          },
          "scene": {
           "xaxis": {
            "backgroundcolor": "#E5ECF6",
            "gridcolor": "white",
            "gridwidth": 2,
            "linecolor": "white",
            "showbackground": true,
            "ticks": "",
            "zerolinecolor": "white"
           },
           "yaxis": {
            "backgroundcolor": "#E5ECF6",
            "gridcolor": "white",
            "gridwidth": 2,
            "linecolor": "white",
            "showbackground": true,
            "ticks": "",
            "zerolinecolor": "white"
           },
           "zaxis": {
            "backgroundcolor": "#E5ECF6",
            "gridcolor": "white",
            "gridwidth": 2,
            "linecolor": "white",
            "showbackground": true,
            "ticks": "",
            "zerolinecolor": "white"
           }
          },
          "shapedefaults": {
           "line": {
            "color": "#2a3f5f"
           }
          },
          "ternary": {
           "aaxis": {
            "gridcolor": "white",
            "linecolor": "white",
            "ticks": ""
           },
           "baxis": {
            "gridcolor": "white",
            "linecolor": "white",
            "ticks": ""
           },
           "bgcolor": "#E5ECF6",
           "caxis": {
            "gridcolor": "white",
            "linecolor": "white",
            "ticks": ""
           }
          },
          "title": {
           "x": 0.05
          },
          "xaxis": {
           "automargin": true,
           "gridcolor": "white",
           "linecolor": "white",
           "ticks": "",
           "title": {
            "standoff": 15
           },
           "zerolinecolor": "white",
           "zerolinewidth": 2
          },
          "yaxis": {
           "automargin": true,
           "gridcolor": "white",
           "linecolor": "white",
           "ticks": "",
           "title": {
            "standoff": 15
           },
           "zerolinecolor": "white",
           "zerolinewidth": 2
          }
         }
        },
        "title": {
         "text": "Wide-Form Input"
        },
        "xaxis": {
         "anchor": "y",
         "domain": [
          0,
          1
         ],
         "title": {
          "text": "index"
         }
        },
        "yaxis": {
         "anchor": "x",
         "domain": [
          0,
          1
         ],
         "title": {
          "text": "value"
         }
        }
       }
      },
      "text/html": [
       "<div>\n",
       "        \n",
       "        \n",
       "            <div id=\"7be2786c-6168-4f61-a69a-d1a7c3c0d134\" class=\"plotly-graph-div\" style=\"height:525px; width:100%;\"></div>\n",
       "            <script type=\"text/javascript\">\n",
       "                require([\"plotly\"], function(Plotly) {\n",
       "                    window.PLOTLYENV=window.PLOTLYENV || {};\n",
       "                    \n",
       "                if (document.getElementById(\"7be2786c-6168-4f61-a69a-d1a7c3c0d134\")) {\n",
       "                    Plotly.newPlot(\n",
       "                        '7be2786c-6168-4f61-a69a-d1a7c3c0d134',\n",
       "                        [{\"alignmentgroup\": \"True\", \"hovertemplate\": \"variable=0,<br>index=%{x}<br>value=%{y}<extra></extra>\", \"legendgroup\": \"0,\", \"marker\": {\"color\": \"#636efa\"}, \"name\": \"0,\", \"offsetgroup\": \"0,\", \"orientation\": \"v\", \"showlegend\": true, \"textposition\": \"auto\", \"type\": \"bar\", \"x\": [\"count_yr0\", \"count_yr1\", \"count_yr2\", \"count_yr3\", \"count_yr4\"], \"xaxis\": \"x\", \"y\": [1951542, 0, 0, 0, 0], \"yaxis\": \"y\"}, {\"alignmentgroup\": \"True\", \"hovertemplate\": \"variable=0,1,<br>index=%{x}<br>value=%{y}<extra></extra>\", \"legendgroup\": \"0,1,\", \"marker\": {\"color\": \"#EF553B\"}, \"name\": \"0,1,\", \"offsetgroup\": \"0,1,\", \"orientation\": \"v\", \"showlegend\": true, \"textposition\": \"auto\", \"type\": \"bar\", \"x\": [\"count_yr0\", \"count_yr1\", \"count_yr2\", \"count_yr3\", \"count_yr4\"], \"xaxis\": \"x\", \"y\": [351904, 300763, 0, 0, 0], \"yaxis\": \"y\"}, {\"alignmentgroup\": \"True\", \"hovertemplate\": \"variable=0,1,2,<br>index=%{x}<br>value=%{y}<extra></extra>\", \"legendgroup\": \"0,1,2,\", \"marker\": {\"color\": \"#00cc96\"}, \"name\": \"0,1,2,\", \"offsetgroup\": \"0,1,2,\", \"orientation\": \"v\", \"showlegend\": true, \"textposition\": \"auto\", \"type\": \"bar\", \"x\": [\"count_yr0\", \"count_yr1\", \"count_yr2\", \"count_yr3\", \"count_yr4\"], \"xaxis\": \"x\", \"y\": [111388, 166061, 91318, 0, 0], \"yaxis\": \"y\"}, {\"alignmentgroup\": \"True\", \"hovertemplate\": \"variable=0,1,2,3,<br>index=%{x}<br>value=%{y}<extra></extra>\", \"legendgroup\": \"0,1,2,3,\", \"marker\": {\"color\": \"#ab63fa\"}, \"name\": \"0,1,2,3,\", \"offsetgroup\": \"0,1,2,3,\", \"orientation\": \"v\", \"showlegend\": true, \"textposition\": \"auto\", \"type\": \"bar\", \"x\": [\"count_yr0\", \"count_yr1\", \"count_yr2\", \"count_yr3\", \"count_yr4\"], \"xaxis\": \"x\", \"y\": [56259, 80757, 77733, 41941, 0], \"yaxis\": \"y\"}, {\"alignmentgroup\": \"True\", \"hovertemplate\": \"variable=0,1,2,3,4,<br>index=%{x}<br>value=%{y}<extra></extra>\", \"legendgroup\": \"0,1,2,3,4,\", \"marker\": {\"color\": \"#FFA15A\"}, \"name\": \"0,1,2,3,4,\", \"offsetgroup\": \"0,1,2,3,4,\", \"orientation\": \"v\", \"showlegend\": true, \"textposition\": \"auto\", \"type\": \"bar\", \"x\": [\"count_yr0\", \"count_yr1\", \"count_yr2\", \"count_yr3\", \"count_yr4\"], \"xaxis\": \"x\", \"y\": [127894, 185300, 149875, 147865, 128854], \"yaxis\": \"y\"}, {\"alignmentgroup\": \"True\", \"hovertemplate\": \"variable=0,1,2,4,<br>index=%{x}<br>value=%{y}<extra></extra>\", \"legendgroup\": \"0,1,2,4,\", \"marker\": {\"color\": \"#19d3f3\"}, \"name\": \"0,1,2,4,\", \"offsetgroup\": \"0,1,2,4,\", \"orientation\": \"v\", \"showlegend\": true, \"textposition\": \"auto\", \"type\": \"bar\", \"x\": [\"count_yr0\", \"count_yr1\", \"count_yr2\", \"count_yr3\", \"count_yr4\"], \"xaxis\": \"x\", \"y\": [12650, 12180, 8477, 0, 7607], \"yaxis\": \"y\"}, {\"alignmentgroup\": \"True\", \"hovertemplate\": \"variable=0,1,3,<br>index=%{x}<br>value=%{y}<extra></extra>\", \"legendgroup\": \"0,1,3,\", \"marker\": {\"color\": \"#FF6692\"}, \"name\": \"0,1,3,\", \"offsetgroup\": \"0,1,3,\", \"orientation\": \"v\", \"showlegend\": true, \"textposition\": \"auto\", \"type\": \"bar\", \"x\": [\"count_yr0\", \"count_yr1\", \"count_yr2\", \"count_yr3\", \"count_yr4\"], \"xaxis\": \"x\", \"y\": [17691, 16934, 0, 13386, 0], \"yaxis\": \"y\"}, {\"alignmentgroup\": \"True\", \"hovertemplate\": \"variable=0,1,3,4,<br>index=%{x}<br>value=%{y}<extra></extra>\", \"legendgroup\": \"0,1,3,4,\", \"marker\": {\"color\": \"#B6E880\"}, \"name\": \"0,1,3,4,\", \"offsetgroup\": \"0,1,3,4,\", \"orientation\": \"v\", \"showlegend\": true, \"textposition\": \"auto\", \"type\": \"bar\", \"x\": [\"count_yr0\", \"count_yr1\", \"count_yr2\", \"count_yr3\", \"count_yr4\"], \"xaxis\": \"x\", \"y\": [7792, 7731, 0, 7974, 9596], \"yaxis\": \"y\"}, {\"alignmentgroup\": \"True\", \"hovertemplate\": \"variable=0,1,4,<br>index=%{x}<br>value=%{y}<extra></extra>\", \"legendgroup\": \"0,1,4,\", \"marker\": {\"color\": \"#FF97FF\"}, \"name\": \"0,1,4,\", \"offsetgroup\": \"0,1,4,\", \"orientation\": \"v\", \"showlegend\": true, \"textposition\": \"auto\", \"type\": \"bar\", \"x\": [\"count_yr0\", \"count_yr1\", \"count_yr2\", \"count_yr3\", \"count_yr4\"], \"xaxis\": \"x\", \"y\": [8261, 6407, 0, 0, 5693], \"yaxis\": \"y\"}, {\"alignmentgroup\": \"True\", \"hovertemplate\": \"variable=0,2,<br>index=%{x}<br>value=%{y}<extra></extra>\", \"legendgroup\": \"0,2,\", \"marker\": {\"color\": \"#FECB52\"}, \"name\": \"0,2,\", \"offsetgroup\": \"0,2,\", \"orientation\": \"v\", \"showlegend\": true, \"textposition\": \"auto\", \"type\": \"bar\", \"x\": [\"count_yr0\", \"count_yr1\", \"count_yr2\", \"count_yr3\", \"count_yr4\"], \"xaxis\": \"x\", \"y\": [65682, 0, 62649, 0, 0], \"yaxis\": \"y\"}, {\"alignmentgroup\": \"True\", \"hovertemplate\": \"variable=0,2,3,<br>index=%{x}<br>value=%{y}<extra></extra>\", \"legendgroup\": \"0,2,3,\", \"marker\": {\"color\": \"#636efa\"}, \"name\": \"0,2,3,\", \"offsetgroup\": \"0,2,3,\", \"orientation\": \"v\", \"showlegend\": true, \"textposition\": \"auto\", \"type\": \"bar\", \"x\": [\"count_yr0\", \"count_yr1\", \"count_yr2\", \"count_yr3\", \"count_yr4\"], \"xaxis\": \"x\", \"y\": [13189, 0, 16364, 14069, 0], \"yaxis\": \"y\"}, {\"alignmentgroup\": \"True\", \"hovertemplate\": \"variable=0,2,3,4,<br>index=%{x}<br>value=%{y}<extra></extra>\", \"legendgroup\": \"0,2,3,4,\", \"marker\": {\"color\": \"#EF553B\"}, \"name\": \"0,2,3,4,\", \"offsetgroup\": \"0,2,3,4,\", \"orientation\": \"v\", \"showlegend\": true, \"textposition\": \"auto\", \"type\": \"bar\", \"x\": [\"count_yr0\", \"count_yr1\", \"count_yr2\", \"count_yr3\", \"count_yr4\"], \"xaxis\": \"x\", \"y\": [5965, 0, 7642, 10695, 9106], \"yaxis\": \"y\"}, {\"alignmentgroup\": \"True\", \"hovertemplate\": \"variable=0,2,4,<br>index=%{x}<br>value=%{y}<extra></extra>\", \"legendgroup\": \"0,2,4,\", \"marker\": {\"color\": \"#00cc96\"}, \"name\": \"0,2,4,\", \"offsetgroup\": \"0,2,4,\", \"orientation\": \"v\", \"showlegend\": true, \"textposition\": \"auto\", \"type\": \"bar\", \"x\": [\"count_yr0\", \"count_yr1\", \"count_yr2\", \"count_yr3\", \"count_yr4\"], \"xaxis\": \"x\", \"y\": [3495, 0, 3446, 0, 3579], \"yaxis\": \"y\"}, {\"alignmentgroup\": \"True\", \"hovertemplate\": \"variable=0,3,<br>index=%{x}<br>value=%{y}<extra></extra>\", \"legendgroup\": \"0,3,\", \"marker\": {\"color\": \"#ab63fa\"}, \"name\": \"0,3,\", \"offsetgroup\": \"0,3,\", \"orientation\": \"v\", \"showlegend\": true, \"textposition\": \"auto\", \"type\": \"bar\", \"x\": [\"count_yr0\", \"count_yr1\", \"count_yr2\", \"count_yr3\", \"count_yr4\"], \"xaxis\": \"x\", \"y\": [24944, 0, 0, 24744, 0], \"yaxis\": \"y\"}, {\"alignmentgroup\": \"True\", \"hovertemplate\": \"variable=0,3,4<br>index=%{x}<br>value=%{y}<extra></extra>\", \"legendgroup\": \"0,3,4\", \"marker\": {\"color\": \"#FFA15A\"}, \"name\": \"0,3,4\", \"offsetgroup\": \"0,3,4\", \"orientation\": \"v\", \"showlegend\": true, \"textposition\": \"auto\", \"type\": \"bar\", \"x\": [\"count_yr0\", \"count_yr1\", \"count_yr2\", \"count_yr3\", \"count_yr4\"], \"xaxis\": \"x\", \"y\": [5287, 0, 0, 7203, 11553], \"yaxis\": \"y\"}, {\"alignmentgroup\": \"True\", \"hovertemplate\": \"variable=0,4,<br>index=%{x}<br>value=%{y}<extra></extra>\", \"legendgroup\": \"0,4,\", \"marker\": {\"color\": \"#19d3f3\"}, \"name\": \"0,4,\", \"offsetgroup\": \"0,4,\", \"orientation\": \"v\", \"showlegend\": true, \"textposition\": \"auto\", \"type\": \"bar\", \"x\": [\"count_yr0\", \"count_yr1\", \"count_yr2\", \"count_yr3\", \"count_yr4\"], \"xaxis\": \"x\", \"y\": [9927, 0, 0, 0, 10705], \"yaxis\": \"y\"}],\n",
       "                        {\"barmode\": \"relative\", \"legend\": {\"title\": {\"text\": \"variable\"}, \"tracegroupgap\": 0}, \"template\": {\"data\": {\"bar\": [{\"error_x\": {\"color\": \"#2a3f5f\"}, \"error_y\": {\"color\": \"#2a3f5f\"}, \"marker\": {\"line\": {\"color\": \"#E5ECF6\", \"width\": 0.5}}, \"type\": \"bar\"}], \"barpolar\": [{\"marker\": {\"line\": {\"color\": \"#E5ECF6\", \"width\": 0.5}}, \"type\": \"barpolar\"}], \"carpet\": [{\"aaxis\": {\"endlinecolor\": \"#2a3f5f\", \"gridcolor\": \"white\", \"linecolor\": \"white\", \"minorgridcolor\": \"white\", \"startlinecolor\": \"#2a3f5f\"}, \"baxis\": {\"endlinecolor\": \"#2a3f5f\", \"gridcolor\": \"white\", \"linecolor\": \"white\", \"minorgridcolor\": \"white\", \"startlinecolor\": \"#2a3f5f\"}, \"type\": \"carpet\"}], \"choropleth\": [{\"colorbar\": {\"outlinewidth\": 0, \"ticks\": \"\"}, \"type\": \"choropleth\"}], \"contour\": [{\"colorbar\": {\"outlinewidth\": 0, \"ticks\": \"\"}, \"colorscale\": [[0.0, \"#0d0887\"], [0.1111111111111111, \"#46039f\"], [0.2222222222222222, \"#7201a8\"], [0.3333333333333333, \"#9c179e\"], [0.4444444444444444, \"#bd3786\"], [0.5555555555555556, \"#d8576b\"], [0.6666666666666666, \"#ed7953\"], [0.7777777777777778, \"#fb9f3a\"], [0.8888888888888888, \"#fdca26\"], [1.0, \"#f0f921\"]], \"type\": \"contour\"}], \"contourcarpet\": [{\"colorbar\": {\"outlinewidth\": 0, \"ticks\": \"\"}, \"type\": \"contourcarpet\"}], \"heatmap\": [{\"colorbar\": {\"outlinewidth\": 0, \"ticks\": \"\"}, \"colorscale\": [[0.0, \"#0d0887\"], [0.1111111111111111, \"#46039f\"], [0.2222222222222222, \"#7201a8\"], [0.3333333333333333, \"#9c179e\"], [0.4444444444444444, \"#bd3786\"], [0.5555555555555556, \"#d8576b\"], [0.6666666666666666, \"#ed7953\"], [0.7777777777777778, \"#fb9f3a\"], [0.8888888888888888, \"#fdca26\"], [1.0, \"#f0f921\"]], \"type\": \"heatmap\"}], \"heatmapgl\": [{\"colorbar\": {\"outlinewidth\": 0, \"ticks\": \"\"}, \"colorscale\": [[0.0, \"#0d0887\"], [0.1111111111111111, \"#46039f\"], [0.2222222222222222, \"#7201a8\"], [0.3333333333333333, \"#9c179e\"], [0.4444444444444444, \"#bd3786\"], [0.5555555555555556, \"#d8576b\"], [0.6666666666666666, \"#ed7953\"], [0.7777777777777778, \"#fb9f3a\"], [0.8888888888888888, \"#fdca26\"], [1.0, \"#f0f921\"]], \"type\": \"heatmapgl\"}], \"histogram\": [{\"marker\": {\"colorbar\": {\"outlinewidth\": 0, \"ticks\": \"\"}}, \"type\": \"histogram\"}], \"histogram2d\": [{\"colorbar\": {\"outlinewidth\": 0, \"ticks\": \"\"}, \"colorscale\": [[0.0, \"#0d0887\"], [0.1111111111111111, \"#46039f\"], [0.2222222222222222, \"#7201a8\"], [0.3333333333333333, \"#9c179e\"], [0.4444444444444444, \"#bd3786\"], [0.5555555555555556, \"#d8576b\"], [0.6666666666666666, \"#ed7953\"], [0.7777777777777778, \"#fb9f3a\"], [0.8888888888888888, \"#fdca26\"], [1.0, \"#f0f921\"]], \"type\": \"histogram2d\"}], \"histogram2dcontour\": [{\"colorbar\": {\"outlinewidth\": 0, \"ticks\": \"\"}, \"colorscale\": [[0.0, \"#0d0887\"], [0.1111111111111111, \"#46039f\"], [0.2222222222222222, \"#7201a8\"], [0.3333333333333333, \"#9c179e\"], [0.4444444444444444, \"#bd3786\"], [0.5555555555555556, \"#d8576b\"], [0.6666666666666666, \"#ed7953\"], [0.7777777777777778, \"#fb9f3a\"], [0.8888888888888888, \"#fdca26\"], [1.0, \"#f0f921\"]], \"type\": \"histogram2dcontour\"}], \"mesh3d\": [{\"colorbar\": {\"outlinewidth\": 0, \"ticks\": \"\"}, \"type\": \"mesh3d\"}], \"parcoords\": [{\"line\": {\"colorbar\": {\"outlinewidth\": 0, \"ticks\": \"\"}}, \"type\": \"parcoords\"}], \"pie\": [{\"automargin\": true, \"type\": \"pie\"}], \"scatter\": [{\"marker\": {\"colorbar\": {\"outlinewidth\": 0, \"ticks\": \"\"}}, \"type\": \"scatter\"}], \"scatter3d\": [{\"line\": {\"colorbar\": {\"outlinewidth\": 0, \"ticks\": \"\"}}, \"marker\": {\"colorbar\": {\"outlinewidth\": 0, \"ticks\": \"\"}}, \"type\": \"scatter3d\"}], \"scattercarpet\": [{\"marker\": {\"colorbar\": {\"outlinewidth\": 0, \"ticks\": \"\"}}, \"type\": \"scattercarpet\"}], \"scattergeo\": [{\"marker\": {\"colorbar\": {\"outlinewidth\": 0, \"ticks\": \"\"}}, \"type\": \"scattergeo\"}], \"scattergl\": [{\"marker\": {\"colorbar\": {\"outlinewidth\": 0, \"ticks\": \"\"}}, \"type\": \"scattergl\"}], \"scattermapbox\": [{\"marker\": {\"colorbar\": {\"outlinewidth\": 0, \"ticks\": \"\"}}, \"type\": \"scattermapbox\"}], \"scatterpolar\": [{\"marker\": {\"colorbar\": {\"outlinewidth\": 0, \"ticks\": \"\"}}, \"type\": \"scatterpolar\"}], \"scatterpolargl\": [{\"marker\": {\"colorbar\": {\"outlinewidth\": 0, \"ticks\": \"\"}}, \"type\": \"scatterpolargl\"}], \"scatterternary\": [{\"marker\": {\"colorbar\": {\"outlinewidth\": 0, \"ticks\": \"\"}}, \"type\": \"scatterternary\"}], \"surface\": [{\"colorbar\": {\"outlinewidth\": 0, \"ticks\": \"\"}, \"colorscale\": [[0.0, \"#0d0887\"], [0.1111111111111111, \"#46039f\"], [0.2222222222222222, \"#7201a8\"], [0.3333333333333333, \"#9c179e\"], [0.4444444444444444, \"#bd3786\"], [0.5555555555555556, \"#d8576b\"], [0.6666666666666666, \"#ed7953\"], [0.7777777777777778, \"#fb9f3a\"], [0.8888888888888888, \"#fdca26\"], [1.0, \"#f0f921\"]], \"type\": \"surface\"}], \"table\": [{\"cells\": {\"fill\": {\"color\": \"#EBF0F8\"}, \"line\": {\"color\": \"white\"}}, \"header\": {\"fill\": {\"color\": \"#C8D4E3\"}, \"line\": {\"color\": \"white\"}}, \"type\": \"table\"}]}, \"layout\": {\"annotationdefaults\": {\"arrowcolor\": \"#2a3f5f\", \"arrowhead\": 0, \"arrowwidth\": 1}, \"coloraxis\": {\"colorbar\": {\"outlinewidth\": 0, \"ticks\": \"\"}}, \"colorscale\": {\"diverging\": [[0, \"#8e0152\"], [0.1, \"#c51b7d\"], [0.2, \"#de77ae\"], [0.3, \"#f1b6da\"], [0.4, \"#fde0ef\"], [0.5, \"#f7f7f7\"], [0.6, \"#e6f5d0\"], [0.7, \"#b8e186\"], [0.8, \"#7fbc41\"], [0.9, \"#4d9221\"], [1, \"#276419\"]], \"sequential\": [[0.0, \"#0d0887\"], [0.1111111111111111, \"#46039f\"], [0.2222222222222222, \"#7201a8\"], [0.3333333333333333, \"#9c179e\"], [0.4444444444444444, \"#bd3786\"], [0.5555555555555556, \"#d8576b\"], [0.6666666666666666, \"#ed7953\"], [0.7777777777777778, \"#fb9f3a\"], [0.8888888888888888, \"#fdca26\"], [1.0, \"#f0f921\"]], \"sequentialminus\": [[0.0, \"#0d0887\"], [0.1111111111111111, \"#46039f\"], [0.2222222222222222, \"#7201a8\"], [0.3333333333333333, \"#9c179e\"], [0.4444444444444444, \"#bd3786\"], [0.5555555555555556, \"#d8576b\"], [0.6666666666666666, \"#ed7953\"], [0.7777777777777778, \"#fb9f3a\"], [0.8888888888888888, \"#fdca26\"], [1.0, \"#f0f921\"]]}, \"colorway\": [\"#636efa\", \"#EF553B\", \"#00cc96\", \"#ab63fa\", \"#FFA15A\", \"#19d3f3\", \"#FF6692\", \"#B6E880\", \"#FF97FF\", \"#FECB52\"], \"font\": {\"color\": \"#2a3f5f\"}, \"geo\": {\"bgcolor\": \"white\", \"lakecolor\": \"white\", \"landcolor\": \"#E5ECF6\", \"showlakes\": true, \"showland\": true, \"subunitcolor\": \"white\"}, \"hoverlabel\": {\"align\": \"left\"}, \"hovermode\": \"closest\", \"mapbox\": {\"style\": \"light\"}, \"paper_bgcolor\": \"white\", \"plot_bgcolor\": \"#E5ECF6\", \"polar\": {\"angularaxis\": {\"gridcolor\": \"white\", \"linecolor\": \"white\", \"ticks\": \"\"}, \"bgcolor\": \"#E5ECF6\", \"radialaxis\": {\"gridcolor\": \"white\", \"linecolor\": \"white\", \"ticks\": \"\"}}, \"scene\": {\"xaxis\": {\"backgroundcolor\": \"#E5ECF6\", \"gridcolor\": \"white\", \"gridwidth\": 2, \"linecolor\": \"white\", \"showbackground\": true, \"ticks\": \"\", \"zerolinecolor\": \"white\"}, \"yaxis\": {\"backgroundcolor\": \"#E5ECF6\", \"gridcolor\": \"white\", \"gridwidth\": 2, \"linecolor\": \"white\", \"showbackground\": true, \"ticks\": \"\", \"zerolinecolor\": \"white\"}, \"zaxis\": {\"backgroundcolor\": \"#E5ECF6\", \"gridcolor\": \"white\", \"gridwidth\": 2, \"linecolor\": \"white\", \"showbackground\": true, \"ticks\": \"\", \"zerolinecolor\": \"white\"}}, \"shapedefaults\": {\"line\": {\"color\": \"#2a3f5f\"}}, \"ternary\": {\"aaxis\": {\"gridcolor\": \"white\", \"linecolor\": \"white\", \"ticks\": \"\"}, \"baxis\": {\"gridcolor\": \"white\", \"linecolor\": \"white\", \"ticks\": \"\"}, \"bgcolor\": \"#E5ECF6\", \"caxis\": {\"gridcolor\": \"white\", \"linecolor\": \"white\", \"ticks\": \"\"}}, \"title\": {\"x\": 0.05}, \"xaxis\": {\"automargin\": true, \"gridcolor\": \"white\", \"linecolor\": \"white\", \"ticks\": \"\", \"title\": {\"standoff\": 15}, \"zerolinecolor\": \"white\", \"zerolinewidth\": 2}, \"yaxis\": {\"automargin\": true, \"gridcolor\": \"white\", \"linecolor\": \"white\", \"ticks\": \"\", \"title\": {\"standoff\": 15}, \"zerolinecolor\": \"white\", \"zerolinewidth\": 2}}}, \"title\": {\"text\": \"Wide-Form Input\"}, \"xaxis\": {\"anchor\": \"y\", \"domain\": [0.0, 1.0], \"title\": {\"text\": \"index\"}}, \"yaxis\": {\"anchor\": \"x\", \"domain\": [0.0, 1.0], \"title\": {\"text\": \"value\"}}},\n",
       "                        {\"responsive\": true}\n",
       "                    ).then(function(){\n",
       "                            \n",
       "var gd = document.getElementById('7be2786c-6168-4f61-a69a-d1a7c3c0d134');\n",
       "var x = new MutationObserver(function (mutations, observer) {{\n",
       "        var display = window.getComputedStyle(gd).display;\n",
       "        if (!display || display === 'none') {{\n",
       "            console.log([gd, 'removed!']);\n",
       "            Plotly.purge(gd);\n",
       "            observer.disconnect();\n",
       "        }}\n",
       "}});\n",
       "\n",
       "// Listen for the removal of the full notebook cells\n",
       "var notebookContainer = gd.closest('#notebook-container');\n",
       "if (notebookContainer) {{\n",
       "    x.observe(notebookContainer, {childList: true});\n",
       "}}\n",
       "\n",
       "// Listen for the clearing of the current output cell\n",
       "var outputEl = gd.closest('.output');\n",
       "if (outputEl) {{\n",
       "    x.observe(outputEl, {childList: true});\n",
       "}}\n",
       "\n",
       "                        })\n",
       "                };\n",
       "                });\n",
       "            </script>\n",
       "        </div>"
      ]
     },
     "metadata": {},
     "output_type": "display_data"
    }
   ],
   "source": [
    "fig = px.bar(cgp_counts_by_year1_transposed, x=\"index\", y=['0,', '0,1,', '0,1,2,', '0,1,2,3,', '0,1,2,3,4,', '0,1,2,4,',\n",
    "       '0,1,3,', '0,1,3,4,', '0,1,4,', '0,2,', '0,2,3,', '0,2,3,4,', '0,2,4,', '0,3,', '0,3,4', '0,4,'], title=\"Wide-Form Input\")\n",
    "fig.show()"
   ]
  },
  {
   "cell_type": "code",
   "execution_count": null,
   "metadata": {},
   "outputs": [],
   "source": [
    "donations_13to17.query('amount_yr1 > 0').cohort_gift_pattern.value_counts()"
   ]
  },
  {
   "cell_type": "code",
   "execution_count": null,
   "metadata": {},
   "outputs": [],
   "source": [
    "donations_13to17.query('amount_yr2 > 0').cohort_gift_pattern.value_counts()"
   ]
  },
  {
   "cell_type": "code",
   "execution_count": null,
   "metadata": {},
   "outputs": [],
   "source": [
    "donations_13to17.query('amount_yr3 > 0').cohort_gift_pattern.value_counts()"
   ]
  },
  {
   "cell_type": "code",
   "execution_count": null,
   "metadata": {},
   "outputs": [],
   "source": [
    "donations_13to17.query('amount_yr4 > 0').cohort_gift_pattern.value_counts()"
   ]
  },
  {
   "cell_type": "code",
   "execution_count": null,
   "metadata": {},
   "outputs": [],
   "source": [
    "c13=donations_13to17.query('first_gift_year == \"2013-01-01\"')"
   ]
  },
  {
   "cell_type": "code",
   "execution_count": null,
   "metadata": {},
   "outputs": [],
   "source": [
    "c13.head()"
   ]
  },
  {
   "cell_type": "code",
   "execution_count": null,
   "metadata": {},
   "outputs": [],
   "source": [
    "c13.cohort_gift_pattern.value_counts()"
   ]
  },
  {
   "cell_type": "code",
   "execution_count": null,
   "metadata": {},
   "outputs": [],
   "source": [
    "c13.id.count()"
   ]
  },
  {
   "cell_type": "code",
   "execution_count": null,
   "metadata": {},
   "outputs": [],
   "source": [
    "for col in c13.columns:\n",
    "    print(col)"
   ]
  },
  {
   "cell_type": "code",
   "execution_count": null,
   "metadata": {},
   "outputs": [],
   "source": [
    "c13.query('amount_yr1 > 0 & amount_yr4 > 0').count()['id']"
   ]
  },
  {
   "cell_type": "code",
   "execution_count": 341,
   "metadata": {},
   "outputs": [],
   "source": [
    "c13__repeat_yr_amounts_1=c13__repeat_yr_amounts.reset_index()"
   ]
  },
  {
   "cell_type": "code",
   "execution_count": 343,
   "metadata": {
    "scrolled": true
   },
   "outputs": [
    {
     "data": {
      "text/html": [
       "<div>\n",
       "<style scoped>\n",
       "    .dataframe tbody tr th:only-of-type {\n",
       "        vertical-align: middle;\n",
       "    }\n",
       "\n",
       "    .dataframe tbody tr th {\n",
       "        vertical-align: top;\n",
       "    }\n",
       "\n",
       "    .dataframe thead th {\n",
       "        text-align: right;\n",
       "    }\n",
       "</style>\n",
       "<table border=\"1\" class=\"dataframe\">\n",
       "  <thead>\n",
       "    <tr style=\"text-align: right;\">\n",
       "      <th></th>\n",
       "      <th>cohort_gift_pattern</th>\n",
       "      <th>amount_yr0</th>\n",
       "      <th>amount_yr1</th>\n",
       "      <th>amount_yr2</th>\n",
       "      <th>amount_yr3</th>\n",
       "      <th>amount_yr4</th>\n",
       "    </tr>\n",
       "  </thead>\n",
       "  <tbody>\n",
       "    <tr>\n",
       "      <td>0</td>\n",
       "      <td>0,1,</td>\n",
       "      <td>3655885.41</td>\n",
       "      <td>3068061.26</td>\n",
       "      <td>0.00</td>\n",
       "      <td>0.00</td>\n",
       "      <td>0.00</td>\n",
       "    </tr>\n",
       "    <tr>\n",
       "      <td>1</td>\n",
       "      <td>0,1,2,</td>\n",
       "      <td>1528295.34</td>\n",
       "      <td>1641129.66</td>\n",
       "      <td>1231026.10</td>\n",
       "      <td>0.00</td>\n",
       "      <td>0.00</td>\n",
       "    </tr>\n",
       "    <tr>\n",
       "      <td>2</td>\n",
       "      <td>0,1,2,3,</td>\n",
       "      <td>1124336.20</td>\n",
       "      <td>1288298.15</td>\n",
       "      <td>1121177.56</td>\n",
       "      <td>871183.11</td>\n",
       "      <td>0.00</td>\n",
       "    </tr>\n",
       "    <tr>\n",
       "      <td>3</td>\n",
       "      <td>0,1,2,3,4,</td>\n",
       "      <td>5209667.21</td>\n",
       "      <td>7600274.21</td>\n",
       "      <td>7764373.84</td>\n",
       "      <td>7927532.12</td>\n",
       "      <td>8169985.55</td>\n",
       "    </tr>\n",
       "    <tr>\n",
       "      <td>4</td>\n",
       "      <td>0,1,2,4,</td>\n",
       "      <td>482861.09</td>\n",
       "      <td>541433.60</td>\n",
       "      <td>523237.00</td>\n",
       "      <td>0.00</td>\n",
       "      <td>511597.68</td>\n",
       "    </tr>\n",
       "    <tr>\n",
       "      <td>5</td>\n",
       "      <td>0,1,3,</td>\n",
       "      <td>404406.92</td>\n",
       "      <td>444217.50</td>\n",
       "      <td>0.00</td>\n",
       "      <td>370153.49</td>\n",
       "      <td>0.00</td>\n",
       "    </tr>\n",
       "    <tr>\n",
       "      <td>6</td>\n",
       "      <td>0,1,3,4,</td>\n",
       "      <td>335331.87</td>\n",
       "      <td>371148.57</td>\n",
       "      <td>0.00</td>\n",
       "      <td>449079.65</td>\n",
       "      <td>473806.14</td>\n",
       "    </tr>\n",
       "    <tr>\n",
       "      <td>7</td>\n",
       "      <td>0,1,4,</td>\n",
       "      <td>278396.70</td>\n",
       "      <td>313141.03</td>\n",
       "      <td>0.00</td>\n",
       "      <td>0.00</td>\n",
       "      <td>285465.61</td>\n",
       "    </tr>\n",
       "    <tr>\n",
       "      <td>8</td>\n",
       "      <td>0,2,</td>\n",
       "      <td>1631608.53</td>\n",
       "      <td>0.00</td>\n",
       "      <td>1074627.91</td>\n",
       "      <td>0.00</td>\n",
       "      <td>0.00</td>\n",
       "    </tr>\n",
       "    <tr>\n",
       "      <td>9</td>\n",
       "      <td>0,2,3,</td>\n",
       "      <td>246634.92</td>\n",
       "      <td>0.00</td>\n",
       "      <td>315060.81</td>\n",
       "      <td>293009.90</td>\n",
       "      <td>0.00</td>\n",
       "    </tr>\n",
       "    <tr>\n",
       "      <td>10</td>\n",
       "      <td>0,2,3,4,</td>\n",
       "      <td>273684.57</td>\n",
       "      <td>0.00</td>\n",
       "      <td>390220.25</td>\n",
       "      <td>489484.41</td>\n",
       "      <td>540791.94</td>\n",
       "    </tr>\n",
       "    <tr>\n",
       "      <td>11</td>\n",
       "      <td>0,2,4,</td>\n",
       "      <td>146542.84</td>\n",
       "      <td>0.00</td>\n",
       "      <td>167583.92</td>\n",
       "      <td>0.00</td>\n",
       "      <td>184624.84</td>\n",
       "    </tr>\n",
       "    <tr>\n",
       "      <td>12</td>\n",
       "      <td>0,3,</td>\n",
       "      <td>538437.10</td>\n",
       "      <td>0.00</td>\n",
       "      <td>0.00</td>\n",
       "      <td>611542.04</td>\n",
       "      <td>0.00</td>\n",
       "    </tr>\n",
       "    <tr>\n",
       "      <td>13</td>\n",
       "      <td>0,3,4</td>\n",
       "      <td>227617.39</td>\n",
       "      <td>0.00</td>\n",
       "      <td>0.00</td>\n",
       "      <td>386284.93</td>\n",
       "      <td>457401.21</td>\n",
       "    </tr>\n",
       "    <tr>\n",
       "      <td>14</td>\n",
       "      <td>0,4,</td>\n",
       "      <td>395075.69</td>\n",
       "      <td>0.00</td>\n",
       "      <td>0.00</td>\n",
       "      <td>0.00</td>\n",
       "      <td>532082.25</td>\n",
       "    </tr>\n",
       "  </tbody>\n",
       "</table>\n",
       "</div>"
      ],
      "text/plain": [
       "   cohort_gift_pattern  amount_yr0  amount_yr1  amount_yr2  amount_yr3  \\\n",
       "0                 0,1,  3655885.41  3068061.26        0.00        0.00   \n",
       "1               0,1,2,  1528295.34  1641129.66  1231026.10        0.00   \n",
       "2             0,1,2,3,  1124336.20  1288298.15  1121177.56   871183.11   \n",
       "3           0,1,2,3,4,  5209667.21  7600274.21  7764373.84  7927532.12   \n",
       "4             0,1,2,4,   482861.09   541433.60   523237.00        0.00   \n",
       "5               0,1,3,   404406.92   444217.50        0.00   370153.49   \n",
       "6             0,1,3,4,   335331.87   371148.57        0.00   449079.65   \n",
       "7               0,1,4,   278396.70   313141.03        0.00        0.00   \n",
       "8                 0,2,  1631608.53        0.00  1074627.91        0.00   \n",
       "9               0,2,3,   246634.92        0.00   315060.81   293009.90   \n",
       "10            0,2,3,4,   273684.57        0.00   390220.25   489484.41   \n",
       "11              0,2,4,   146542.84        0.00   167583.92        0.00   \n",
       "12                0,3,   538437.10        0.00        0.00   611542.04   \n",
       "13               0,3,4   227617.39        0.00        0.00   386284.93   \n",
       "14                0,4,   395075.69        0.00        0.00        0.00   \n",
       "\n",
       "    amount_yr4  \n",
       "0         0.00  \n",
       "1         0.00  \n",
       "2         0.00  \n",
       "3   8169985.55  \n",
       "4    511597.68  \n",
       "5         0.00  \n",
       "6    473806.14  \n",
       "7    285465.61  \n",
       "8         0.00  \n",
       "9         0.00  \n",
       "10   540791.94  \n",
       "11   184624.84  \n",
       "12        0.00  \n",
       "13   457401.21  \n",
       "14   532082.25  "
      ]
     },
     "execution_count": 343,
     "metadata": {},
     "output_type": "execute_result"
    }
   ],
   "source": [
    "df13=c13__repeat_yr_amounts_1[['cohort_gift_pattern','amount_yr0', 'amount_yr1', 'amount_yr2', 'amount_yr3', 'amount_yr4']]\n",
    "df13"
   ]
  },
  {
   "cell_type": "code",
   "execution_count": 344,
   "metadata": {},
   "outputs": [
    {
     "data": {
      "text/html": [
       "<div>\n",
       "<style scoped>\n",
       "    .dataframe tbody tr th:only-of-type {\n",
       "        vertical-align: middle;\n",
       "    }\n",
       "\n",
       "    .dataframe tbody tr th {\n",
       "        vertical-align: top;\n",
       "    }\n",
       "\n",
       "    .dataframe thead th {\n",
       "        text-align: right;\n",
       "    }\n",
       "</style>\n",
       "<table border=\"1\" class=\"dataframe\">\n",
       "  <thead>\n",
       "    <tr style=\"text-align: right;\">\n",
       "      <th></th>\n",
       "      <th>0</th>\n",
       "      <th>1</th>\n",
       "      <th>2</th>\n",
       "      <th>3</th>\n",
       "      <th>4</th>\n",
       "      <th>5</th>\n",
       "      <th>6</th>\n",
       "      <th>7</th>\n",
       "      <th>8</th>\n",
       "      <th>9</th>\n",
       "      <th>10</th>\n",
       "      <th>11</th>\n",
       "      <th>12</th>\n",
       "      <th>13</th>\n",
       "      <th>14</th>\n",
       "    </tr>\n",
       "  </thead>\n",
       "  <tbody>\n",
       "    <tr>\n",
       "      <td>cohort_gift_pattern</td>\n",
       "      <td>0,1,</td>\n",
       "      <td>0,1,2,</td>\n",
       "      <td>0,1,2,3,</td>\n",
       "      <td>0,1,2,3,4,</td>\n",
       "      <td>0,1,2,4,</td>\n",
       "      <td>0,1,3,</td>\n",
       "      <td>0,1,3,4,</td>\n",
       "      <td>0,1,4,</td>\n",
       "      <td>0,2,</td>\n",
       "      <td>0,2,3,</td>\n",
       "      <td>0,2,3,4,</td>\n",
       "      <td>0,2,4,</td>\n",
       "      <td>0,3,</td>\n",
       "      <td>0,3,4</td>\n",
       "      <td>0,4,</td>\n",
       "    </tr>\n",
       "    <tr>\n",
       "      <td>amount_yr0</td>\n",
       "      <td>3.65589e+06</td>\n",
       "      <td>1.5283e+06</td>\n",
       "      <td>1.12434e+06</td>\n",
       "      <td>5.20967e+06</td>\n",
       "      <td>482861</td>\n",
       "      <td>404407</td>\n",
       "      <td>335332</td>\n",
       "      <td>278397</td>\n",
       "      <td>1.63161e+06</td>\n",
       "      <td>246635</td>\n",
       "      <td>273685</td>\n",
       "      <td>146543</td>\n",
       "      <td>538437</td>\n",
       "      <td>227617</td>\n",
       "      <td>395076</td>\n",
       "    </tr>\n",
       "    <tr>\n",
       "      <td>amount_yr1</td>\n",
       "      <td>3.06806e+06</td>\n",
       "      <td>1.64113e+06</td>\n",
       "      <td>1.2883e+06</td>\n",
       "      <td>7.60027e+06</td>\n",
       "      <td>541434</td>\n",
       "      <td>444218</td>\n",
       "      <td>371149</td>\n",
       "      <td>313141</td>\n",
       "      <td>0</td>\n",
       "      <td>0</td>\n",
       "      <td>0</td>\n",
       "      <td>0</td>\n",
       "      <td>0</td>\n",
       "      <td>0</td>\n",
       "      <td>0</td>\n",
       "    </tr>\n",
       "    <tr>\n",
       "      <td>amount_yr2</td>\n",
       "      <td>0</td>\n",
       "      <td>1.23103e+06</td>\n",
       "      <td>1.12118e+06</td>\n",
       "      <td>7.76437e+06</td>\n",
       "      <td>523237</td>\n",
       "      <td>0</td>\n",
       "      <td>0</td>\n",
       "      <td>0</td>\n",
       "      <td>1.07463e+06</td>\n",
       "      <td>315061</td>\n",
       "      <td>390220</td>\n",
       "      <td>167584</td>\n",
       "      <td>0</td>\n",
       "      <td>0</td>\n",
       "      <td>0</td>\n",
       "    </tr>\n",
       "    <tr>\n",
       "      <td>amount_yr3</td>\n",
       "      <td>0</td>\n",
       "      <td>0</td>\n",
       "      <td>871183</td>\n",
       "      <td>7.92753e+06</td>\n",
       "      <td>0</td>\n",
       "      <td>370153</td>\n",
       "      <td>449080</td>\n",
       "      <td>0</td>\n",
       "      <td>0</td>\n",
       "      <td>293010</td>\n",
       "      <td>489484</td>\n",
       "      <td>0</td>\n",
       "      <td>611542</td>\n",
       "      <td>386285</td>\n",
       "      <td>0</td>\n",
       "    </tr>\n",
       "    <tr>\n",
       "      <td>amount_yr4</td>\n",
       "      <td>0</td>\n",
       "      <td>0</td>\n",
       "      <td>0</td>\n",
       "      <td>8.16999e+06</td>\n",
       "      <td>511598</td>\n",
       "      <td>0</td>\n",
       "      <td>473806</td>\n",
       "      <td>285466</td>\n",
       "      <td>0</td>\n",
       "      <td>0</td>\n",
       "      <td>540792</td>\n",
       "      <td>184625</td>\n",
       "      <td>0</td>\n",
       "      <td>457401</td>\n",
       "      <td>532082</td>\n",
       "    </tr>\n",
       "  </tbody>\n",
       "</table>\n",
       "</div>"
      ],
      "text/plain": [
       "                               0            1            2            3  \\\n",
       "cohort_gift_pattern         0,1,       0,1,2,     0,1,2,3,   0,1,2,3,4,   \n",
       "amount_yr0           3.65589e+06   1.5283e+06  1.12434e+06  5.20967e+06   \n",
       "amount_yr1           3.06806e+06  1.64113e+06   1.2883e+06  7.60027e+06   \n",
       "amount_yr2                     0  1.23103e+06  1.12118e+06  7.76437e+06   \n",
       "amount_yr3                     0            0       871183  7.92753e+06   \n",
       "amount_yr4                     0            0            0  8.16999e+06   \n",
       "\n",
       "                            4       5         6       7            8       9  \\\n",
       "cohort_gift_pattern  0,1,2,4,  0,1,3,  0,1,3,4,  0,1,4,         0,2,  0,2,3,   \n",
       "amount_yr0             482861  404407    335332  278397  1.63161e+06  246635   \n",
       "amount_yr1             541434  444218    371149  313141            0       0   \n",
       "amount_yr2             523237       0         0       0  1.07463e+06  315061   \n",
       "amount_yr3                  0  370153    449080       0            0  293010   \n",
       "amount_yr4             511598       0    473806  285466            0       0   \n",
       "\n",
       "                           10      11      12      13      14  \n",
       "cohort_gift_pattern  0,2,3,4,  0,2,4,    0,3,   0,3,4    0,4,  \n",
       "amount_yr0             273685  146543  538437  227617  395076  \n",
       "amount_yr1                  0       0       0       0       0  \n",
       "amount_yr2             390220  167584       0       0       0  \n",
       "amount_yr3             489484       0  611542  386285       0  \n",
       "amount_yr4             540792  184625       0  457401  532082  "
      ]
     },
     "execution_count": 344,
     "metadata": {},
     "output_type": "execute_result"
    }
   ],
   "source": [
    "df13.T"
   ]
  },
  {
   "cell_type": "code",
   "execution_count": null,
   "metadata": {},
   "outputs": [],
   "source": []
  }
 ],
 "metadata": {
  "kernelspec": {
   "display_name": "Python 3",
   "language": "python",
   "name": "python3"
  },
  "language_info": {
   "codemirror_mode": {
    "name": "ipython",
    "version": 3
   },
   "file_extension": ".py",
   "mimetype": "text/x-python",
   "name": "python",
   "nbconvert_exporter": "python",
   "pygments_lexer": "ipython3",
   "version": "3.7.4"
  }
 },
 "nbformat": 4,
 "nbformat_minor": 2
}
