{
 "cells": [
  {
   "cell_type": "code",
   "execution_count": 4,
   "metadata": {},
   "outputs": [],
   "source": [
    "import numpy as np\n",
    "import pandas as pd\n",
    "import plotly.express as px\n",
    "import plotly.graph_objects as go\n",
    "from plotly.subplots import make_subplots\n",
    "\n",
    "import seaborn as sns\n",
    "import matplotlib.pyplot as plt\n",
    "sns.set_style(\"white\")\n",
    "%matplotlib inline"
   ]
  },
  {
   "cell_type": "code",
   "execution_count": 5,
   "metadata": {},
   "outputs": [],
   "source": [
    "donations_13to17=pd.read_pickle('donations_13to17.pkl')"
   ]
  },
  {
   "cell_type": "code",
   "execution_count": 6,
   "metadata": {},
   "outputs": [
    {
     "data": {
      "text/html": [
       "<div>\n",
       "<style scoped>\n",
       "    .dataframe tbody tr th:only-of-type {\n",
       "        vertical-align: middle;\n",
       "    }\n",
       "\n",
       "    .dataframe tbody tr th {\n",
       "        vertical-align: top;\n",
       "    }\n",
       "\n",
       "    .dataframe thead th {\n",
       "        text-align: right;\n",
       "    }\n",
       "</style>\n",
       "<table border=\"1\" class=\"dataframe\">\n",
       "  <thead>\n",
       "    <tr style=\"text-align: right;\">\n",
       "      <th></th>\n",
       "      <th>id</th>\n",
       "      <th>first_gift_year</th>\n",
       "      <th>lapsed_count</th>\n",
       "      <th>recovered_count</th>\n",
       "      <th>max_consec_giving_years</th>\n",
       "      <th>total_giving_years</th>\n",
       "      <th>count_2013</th>\n",
       "      <th>count_2014</th>\n",
       "      <th>count_2015</th>\n",
       "      <th>count_2016</th>\n",
       "      <th>...</th>\n",
       "      <th>behavior_2016</th>\n",
       "      <th>behavior_2017</th>\n",
       "      <th>gainloss_2014</th>\n",
       "      <th>gainloss_2015</th>\n",
       "      <th>gainloss_2016</th>\n",
       "      <th>gainloss_2017</th>\n",
       "      <th>gainloss_2014_amt</th>\n",
       "      <th>gainloss_2015_amt</th>\n",
       "      <th>gainloss_2016_amt</th>\n",
       "      <th>gainloss_2017_amt</th>\n",
       "    </tr>\n",
       "  </thead>\n",
       "  <tbody>\n",
       "    <tr>\n",
       "      <td>0</td>\n",
       "      <td>1f4b5b6e68445c6c4a0509b3aca93f38</td>\n",
       "      <td>2015-01-01</td>\n",
       "      <td>4</td>\n",
       "      <td>4</td>\n",
       "      <td>4</td>\n",
       "      <td>4</td>\n",
       "      <td>0</td>\n",
       "      <td>0</td>\n",
       "      <td>42</td>\n",
       "      <td>64</td>\n",
       "      <td>...</td>\n",
       "      <td>upgrade</td>\n",
       "      <td>upgrade</td>\n",
       "      <td>none</td>\n",
       "      <td>gain</td>\n",
       "      <td>gain</td>\n",
       "      <td>gain</td>\n",
       "      <td>0</td>\n",
       "      <td>18211.38</td>\n",
       "      <td>21873.77</td>\n",
       "      <td>22559.83</td>\n",
       "    </tr>\n",
       "    <tr>\n",
       "      <td>1</td>\n",
       "      <td>4aaab6d244bf3599682239ed5591af8a</td>\n",
       "      <td>2016-01-01</td>\n",
       "      <td>2</td>\n",
       "      <td>1</td>\n",
       "      <td>1</td>\n",
       "      <td>1</td>\n",
       "      <td>0</td>\n",
       "      <td>0</td>\n",
       "      <td>0</td>\n",
       "      <td>1</td>\n",
       "      <td>...</td>\n",
       "      <td>new</td>\n",
       "      <td>lapse_new</td>\n",
       "      <td>none</td>\n",
       "      <td>none</td>\n",
       "      <td>gain</td>\n",
       "      <td>loss</td>\n",
       "      <td>0</td>\n",
       "      <td>0</td>\n",
       "      <td>25.0</td>\n",
       "      <td>-25.0</td>\n",
       "    </tr>\n",
       "    <tr>\n",
       "      <td>2</td>\n",
       "      <td>0b0765dc9c759adc48a07688ba25e94e</td>\n",
       "      <td>2015-01-01</td>\n",
       "      <td>3</td>\n",
       "      <td>2</td>\n",
       "      <td>2</td>\n",
       "      <td>2</td>\n",
       "      <td>0</td>\n",
       "      <td>0</td>\n",
       "      <td>2</td>\n",
       "      <td>2</td>\n",
       "      <td>...</td>\n",
       "      <td>upgrade</td>\n",
       "      <td>lapse_repeat</td>\n",
       "      <td>none</td>\n",
       "      <td>gain</td>\n",
       "      <td>gain</td>\n",
       "      <td>loss</td>\n",
       "      <td>0</td>\n",
       "      <td>20.0</td>\n",
       "      <td>20.0</td>\n",
       "      <td>-40.0</td>\n",
       "    </tr>\n",
       "    <tr>\n",
       "      <td>3</td>\n",
       "      <td>377944ad61f72d800b25ec1862aec363</td>\n",
       "      <td>2016-01-01</td>\n",
       "      <td>2</td>\n",
       "      <td>1</td>\n",
       "      <td>1</td>\n",
       "      <td>1</td>\n",
       "      <td>0</td>\n",
       "      <td>0</td>\n",
       "      <td>0</td>\n",
       "      <td>1</td>\n",
       "      <td>...</td>\n",
       "      <td>new</td>\n",
       "      <td>lapse_new</td>\n",
       "      <td>none</td>\n",
       "      <td>none</td>\n",
       "      <td>gain</td>\n",
       "      <td>loss</td>\n",
       "      <td>0</td>\n",
       "      <td>0</td>\n",
       "      <td>25.0</td>\n",
       "      <td>-25.0</td>\n",
       "    </tr>\n",
       "    <tr>\n",
       "      <td>4</td>\n",
       "      <td>6d5b22d39e68c656071a842732c63a0c</td>\n",
       "      <td>2015-01-01</td>\n",
       "      <td>4</td>\n",
       "      <td>3</td>\n",
       "      <td>2</td>\n",
       "      <td>3</td>\n",
       "      <td>0</td>\n",
       "      <td>0</td>\n",
       "      <td>1</td>\n",
       "      <td>1</td>\n",
       "      <td>...</td>\n",
       "      <td>downgrade</td>\n",
       "      <td>lapse_repeat</td>\n",
       "      <td>none</td>\n",
       "      <td>gain</td>\n",
       "      <td>loss</td>\n",
       "      <td>loss</td>\n",
       "      <td>0</td>\n",
       "      <td>70.0</td>\n",
       "      <td>-45.0</td>\n",
       "      <td>-25.0</td>\n",
       "    </tr>\n",
       "  </tbody>\n",
       "</table>\n",
       "<p>5 rows × 202 columns</p>\n",
       "</div>"
      ],
      "text/plain": [
       "                                 id first_gift_year  lapsed_count  \\\n",
       "0  1f4b5b6e68445c6c4a0509b3aca93f38      2015-01-01             4   \n",
       "1  4aaab6d244bf3599682239ed5591af8a      2016-01-01             2   \n",
       "2  0b0765dc9c759adc48a07688ba25e94e      2015-01-01             3   \n",
       "3  377944ad61f72d800b25ec1862aec363      2016-01-01             2   \n",
       "4  6d5b22d39e68c656071a842732c63a0c      2015-01-01             4   \n",
       "\n",
       "   recovered_count  max_consec_giving_years  total_giving_years  count_2013  \\\n",
       "0                4                        4                   4           0   \n",
       "1                1                        1                   1           0   \n",
       "2                2                        2                   2           0   \n",
       "3                1                        1                   1           0   \n",
       "4                3                        2                   3           0   \n",
       "\n",
       "   count_2014  count_2015  count_2016  ...  behavior_2016  behavior_2017  \\\n",
       "0           0          42          64  ...        upgrade        upgrade   \n",
       "1           0           0           1  ...            new      lapse_new   \n",
       "2           0           2           2  ...        upgrade   lapse_repeat   \n",
       "3           0           0           1  ...            new      lapse_new   \n",
       "4           0           1           1  ...      downgrade   lapse_repeat   \n",
       "\n",
       "   gainloss_2014  gainloss_2015  gainloss_2016  gainloss_2017  \\\n",
       "0           none           gain           gain           gain   \n",
       "1           none           none           gain           loss   \n",
       "2           none           gain           gain           loss   \n",
       "3           none           none           gain           loss   \n",
       "4           none           gain           loss           loss   \n",
       "\n",
       "   gainloss_2014_amt  gainloss_2015_amt  gainloss_2016_amt  gainloss_2017_amt  \n",
       "0                  0           18211.38           21873.77           22559.83  \n",
       "1                  0                  0               25.0              -25.0  \n",
       "2                  0               20.0               20.0              -40.0  \n",
       "3                  0                  0               25.0              -25.0  \n",
       "4                  0               70.0              -45.0              -25.0  \n",
       "\n",
       "[5 rows x 202 columns]"
      ]
     },
     "execution_count": 6,
     "metadata": {},
     "output_type": "execute_result"
    }
   ],
   "source": [
    "donations_13to17.head()"
   ]
  },
  {
   "cell_type": "code",
   "execution_count": null,
   "metadata": {},
   "outputs": [],
   "source": [
    "#donations_13to17.quantile([.1, .25, .5, .75], axis = 0)"
   ]
  },
  {
   "cell_type": "code",
   "execution_count": null,
   "metadata": {},
   "outputs": [],
   "source": [
    "d13=donations_13to17.query('amount_2013 > 0')\n",
    "d13.head()\n",
    "#d13.describe().apply(lambda x: format(x, '.0f'))"
   ]
  },
  {
   "cell_type": "code",
   "execution_count": null,
   "metadata": {},
   "outputs": [],
   "source": [
    "removetop10in13['amount_2013'].quantile([.1, .25, .5, .75]).apply(lambda x: format(x, '.2f'))"
   ]
  },
  {
   "cell_type": "code",
   "execution_count": null,
   "metadata": {},
   "outputs": [],
   "source": [
    "fig = px.bar(donations_13to17, x='gainloss_2017', y='gainloss_2017_amt', color='behavior_2017', title=\"Long-Form Input\")\n",
    "fig.show()"
   ]
  },
  {
   "cell_type": "code",
   "execution_count": null,
   "metadata": {},
   "outputs": [],
   "source": [
    "removetop10in13.amount_2013.describe().apply(lambda x: format(x, '.0f'))"
   ]
  },
  {
   "cell_type": "code",
   "execution_count": null,
   "metadata": {},
   "outputs": [],
   "source": [
    "donations_13to17['amount_total'].describe().apply(lambda x: format(x, '.0f'))"
   ]
  },
  {
   "cell_type": "code",
   "execution_count": null,
   "metadata": {},
   "outputs": [],
   "source": [
    "donations_13to17.amount_2013.hist()"
   ]
  },
  {
   "cell_type": "code",
   "execution_count": null,
   "metadata": {},
   "outputs": [],
   "source": [
    "df = donations_13to17.query('amount_2013 > 0 & amount_2013 < 1000')\n",
    "fig = px.histogram(df, x=\"amount_2013\", nbins=10, log_y=True)\n",
    "fig.show()"
   ]
  },
  {
   "cell_type": "code",
   "execution_count": null,
   "metadata": {},
   "outputs": [],
   "source": [
    "removetop10in13=donations_13to17.query('amount_2013 < 40000')"
   ]
  },
  {
   "cell_type": "code",
   "execution_count": null,
   "metadata": {},
   "outputs": [],
   "source": [
    "donations_13to17.amount_2013.nlargest(n=50)"
   ]
  },
  {
   "cell_type": "code",
   "execution_count": null,
   "metadata": {},
   "outputs": [],
   "source": [
    "donations_13to17.amount_2014.nlargest(n=50)"
   ]
  },
  {
   "cell_type": "code",
   "execution_count": null,
   "metadata": {},
   "outputs": [],
   "source": [
    "over100013=donations_13to17.query('amount_2013 >= 1000').count()['id']\n",
    "over100014=donations_13to17.query('amount_2014 >= 1000').count()['id']\n",
    "over100015=donations_13to17.query('amount_2015 >= 1000').count()['id']\n",
    "over100016=donations_13to17.query('amount_2016 >= 1000').count()['id']\n",
    "over100017=donations_13to17.query('amount_2017 >= 1000').count()['id']\n",
    "total13=donations_13to17.query('amount_2013 > 0').count()['id']\n",
    "total14=donations_13to17.query('amount_2014 > 0').count()['id']\n",
    "total15=donations_13to17.query('amount_2015 > 0').count()['id']\n",
    "total16=donations_13to17.query('amount_2016 > 0').count()['id']\n",
    "total17=donations_13to17.query('amount_2017 > 0').count()['id']\n",
    "\n",
    "\n",
    "print(over100013)\n",
    "print(over100014)\n",
    "print(over100015)\n",
    "print(over100016)\n",
    "print(over100017)\n",
    "\n",
    "print(over100013/total13*100)\n",
    "print(over100014/total14*100)\n",
    "print(over100015/total15*100)\n",
    "print(over100016/total16*100)\n",
    "print(over100017/total17*100)"
   ]
  },
  {
   "cell_type": "code",
   "execution_count": null,
   "metadata": {},
   "outputs": [],
   "source": [
    "under100013=donations_13to17.query('amount_2013 > 0 & amount_2013 < 1000').count()['id']\n",
    "under100014=donations_13to17.query('amount_2014 > 0 & amount_2014 < 1000').count()['id']\n",
    "under100015=donations_13to17.query('amount_2015 > 0 & amount_2015 < 1000').count()['id']\n",
    "under100016=donations_13to17.query('amount_2016 > 0 & amount_2016 < 1000').count()['id']\n",
    "under100017=donations_13to17.query('amount_2017 > 0 & amount_2017 < 1000').count()['id']\n",
    "\n",
    "print(under100013)\n",
    "print(under100014)\n",
    "print(under100015)\n",
    "print(under100016)\n",
    "print(under100017)"
   ]
  },
  {
   "cell_type": "code",
   "execution_count": null,
   "metadata": {},
   "outputs": [],
   "source": [
    "over1000removed13=donations_13to17.query('amount_2013 > 0 & amount_2013 < 1000')\n",
    "over1000removed13['amount_2013'].quantile([.1, .25, .5, .75]).apply(lambda x: format(x, '.2f'))"
   ]
  },
  {
   "cell_type": "code",
   "execution_count": null,
   "metadata": {},
   "outputs": [],
   "source": [
    "over1000removed13.head()"
   ]
  },
  {
   "cell_type": "code",
   "execution_count": null,
   "metadata": {},
   "outputs": [],
   "source": [
    "d17=donations_13to17.query('amount_2017 > 0')\n",
    "d17"
   ]
  },
  {
   "cell_type": "code",
   "execution_count": null,
   "metadata": {},
   "outputs": [],
   "source": [
    "d13['amount_2013'].describe()"
   ]
  },
  {
   "cell_type": "code",
   "execution_count": null,
   "metadata": {},
   "outputs": [],
   "source": [
    "d17['amount_2017'].quantile([.1, .25, .5, .75])"
   ]
  },
  {
   "cell_type": "code",
   "execution_count": null,
   "metadata": {},
   "outputs": [],
   "source": [
    "over1000removed13['amount_2013'].quantile([.1, .25, .5, .75])"
   ]
  },
  {
   "cell_type": "code",
   "execution_count": null,
   "metadata": {},
   "outputs": [],
   "source": [
    "fig = px.bar(d13, x='year', y='pop')\n",
    "fig.show()"
   ]
  },
  {
   "cell_type": "code",
   "execution_count": null,
   "metadata": {},
   "outputs": [],
   "source": [
    "fig = px.box(over1000removed13, x='years_donated',y=\"amount_2013\")\n",
    "fig.show()"
   ]
  },
  {
   "cell_type": "code",
   "execution_count": null,
   "metadata": {},
   "outputs": [],
   "source": [
    "pd.qcut(d13.amount_2013,4)"
   ]
  },
  {
   "cell_type": "code",
   "execution_count": null,
   "metadata": {},
   "outputs": [],
   "source": []
  }
 ],
 "metadata": {
  "kernelspec": {
   "display_name": "Python 3",
   "language": "python",
   "name": "python3"
  },
  "language_info": {
   "codemirror_mode": {
    "name": "ipython",
    "version": 3
   },
   "file_extension": ".py",
   "mimetype": "text/x-python",
   "name": "python",
   "nbconvert_exporter": "python",
   "pygments_lexer": "ipython3",
   "version": "3.7.4"
  }
 },
 "nbformat": 4,
 "nbformat_minor": 2
}
