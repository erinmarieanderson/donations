{
 "cells": [
  {
   "cell_type": "code",
   "execution_count": 1,
   "metadata": {},
   "outputs": [],
   "source": [
    "import numpy as np\n",
    "import pandas as pd\n",
    "import plotly.express as px\n",
    "import plotly.graph_objects as go\n",
    "from plotly.subplots import make_subplots\n",
    "\n",
    "import seaborn as sns\n",
    "import matplotlib.pyplot as plt\n",
    "sns.set_style(\"white\")\n",
    "%matplotlib inline"
   ]
  },
  {
   "cell_type": "code",
   "execution_count": 2,
   "metadata": {},
   "outputs": [],
   "source": [
    "donations_13to17=pd.read_pickle('donations_13to17.pkl')"
   ]
  },
  {
   "cell_type": "code",
   "execution_count": 103,
   "metadata": {},
   "outputs": [],
   "source": [
    "donations_13to17.loc[(donations_13to17['amount_2013'] > 0), 'gave_2013'] = 'yes'\n",
    "donations_13to17.loc[(donations_13to17['amount_2013'] == 0), 'gave_2013'] = 'no'\n",
    "donations_13to17.loc[(donations_13to17['amount_2014'] > 0), 'gave_2014'] = 'yes'\n",
    "donations_13to17.loc[(donations_13to17['amount_2014'] == 0), 'gave_2014'] = 'no'\n",
    "donations_13to17.loc[(donations_13to17['amount_2015'] > 0), 'gave_2015'] = 'yes'\n",
    "donations_13to17.loc[(donations_13to17['amount_2015'] == 0), 'gave_2015'] = 'no'\n",
    "donations_13to17.loc[(donations_13to17['amount_2016'] > 0), 'gave_2016'] = 'yes'\n",
    "donations_13to17.loc[(donations_13to17['amount_2016'] == 0), 'gave_2016'] = 'no'\n",
    "donations_13to17.loc[(donations_13to17['amount_2017'] > 0), 'gave_2017'] = 'yes'\n",
    "donations_13to17.loc[(donations_13to17['amount_2017'] == 0), 'gave_2017'] = 'no'"
   ]
  },
  {
   "cell_type": "code",
   "execution_count": 107,
   "metadata": {},
   "outputs": [
    {
     "data": {
      "text/html": [
       "<div>\n",
       "<style scoped>\n",
       "    .dataframe tbody tr th:only-of-type {\n",
       "        vertical-align: middle;\n",
       "    }\n",
       "\n",
       "    .dataframe tbody tr th {\n",
       "        vertical-align: top;\n",
       "    }\n",
       "\n",
       "    .dataframe thead th {\n",
       "        text-align: right;\n",
       "    }\n",
       "</style>\n",
       "<table border=\"1\" class=\"dataframe\">\n",
       "  <thead>\n",
       "    <tr style=\"text-align: right;\">\n",
       "      <th></th>\n",
       "      <th>id</th>\n",
       "      <th>first_gift_year</th>\n",
       "      <th>lapsed_count</th>\n",
       "      <th>recovered_count</th>\n",
       "      <th>max_consec_giving_years</th>\n",
       "      <th>total_giving_years</th>\n",
       "      <th>count_2013</th>\n",
       "      <th>count_2014</th>\n",
       "      <th>count_2015</th>\n",
       "      <th>count_2016</th>\n",
       "      <th>...</th>\n",
       "      <th>gainloss_2017</th>\n",
       "      <th>gainloss_2014_amt</th>\n",
       "      <th>gainloss_2015_amt</th>\n",
       "      <th>gainloss_2016_amt</th>\n",
       "      <th>gainloss_2017_amt</th>\n",
       "      <th>gave_2013</th>\n",
       "      <th>gave_2014</th>\n",
       "      <th>gave_2015</th>\n",
       "      <th>gave_2016</th>\n",
       "      <th>gave_2017</th>\n",
       "    </tr>\n",
       "  </thead>\n",
       "  <tbody>\n",
       "    <tr>\n",
       "      <td>0</td>\n",
       "      <td>1f4b5b6e68445c6c4a0509b3aca93f38</td>\n",
       "      <td>2015-01-01</td>\n",
       "      <td>4</td>\n",
       "      <td>4</td>\n",
       "      <td>4</td>\n",
       "      <td>4</td>\n",
       "      <td>0</td>\n",
       "      <td>0</td>\n",
       "      <td>42</td>\n",
       "      <td>64</td>\n",
       "      <td>...</td>\n",
       "      <td>gain</td>\n",
       "      <td>0.0</td>\n",
       "      <td>18211.38</td>\n",
       "      <td>21873.77</td>\n",
       "      <td>22559.83</td>\n",
       "      <td>no</td>\n",
       "      <td>no</td>\n",
       "      <td>yes</td>\n",
       "      <td>yes</td>\n",
       "      <td>yes</td>\n",
       "    </tr>\n",
       "    <tr>\n",
       "      <td>1</td>\n",
       "      <td>4aaab6d244bf3599682239ed5591af8a</td>\n",
       "      <td>2016-01-01</td>\n",
       "      <td>2</td>\n",
       "      <td>1</td>\n",
       "      <td>1</td>\n",
       "      <td>1</td>\n",
       "      <td>0</td>\n",
       "      <td>0</td>\n",
       "      <td>0</td>\n",
       "      <td>1</td>\n",
       "      <td>...</td>\n",
       "      <td>loss</td>\n",
       "      <td>0.0</td>\n",
       "      <td>0.00</td>\n",
       "      <td>25.00</td>\n",
       "      <td>-25.00</td>\n",
       "      <td>no</td>\n",
       "      <td>no</td>\n",
       "      <td>no</td>\n",
       "      <td>yes</td>\n",
       "      <td>no</td>\n",
       "    </tr>\n",
       "    <tr>\n",
       "      <td>2</td>\n",
       "      <td>0b0765dc9c759adc48a07688ba25e94e</td>\n",
       "      <td>2015-01-01</td>\n",
       "      <td>3</td>\n",
       "      <td>2</td>\n",
       "      <td>2</td>\n",
       "      <td>2</td>\n",
       "      <td>0</td>\n",
       "      <td>0</td>\n",
       "      <td>2</td>\n",
       "      <td>2</td>\n",
       "      <td>...</td>\n",
       "      <td>loss</td>\n",
       "      <td>0.0</td>\n",
       "      <td>20.00</td>\n",
       "      <td>20.00</td>\n",
       "      <td>-40.00</td>\n",
       "      <td>no</td>\n",
       "      <td>no</td>\n",
       "      <td>yes</td>\n",
       "      <td>yes</td>\n",
       "      <td>no</td>\n",
       "    </tr>\n",
       "    <tr>\n",
       "      <td>3</td>\n",
       "      <td>377944ad61f72d800b25ec1862aec363</td>\n",
       "      <td>2016-01-01</td>\n",
       "      <td>2</td>\n",
       "      <td>1</td>\n",
       "      <td>1</td>\n",
       "      <td>1</td>\n",
       "      <td>0</td>\n",
       "      <td>0</td>\n",
       "      <td>0</td>\n",
       "      <td>1</td>\n",
       "      <td>...</td>\n",
       "      <td>loss</td>\n",
       "      <td>0.0</td>\n",
       "      <td>0.00</td>\n",
       "      <td>25.00</td>\n",
       "      <td>-25.00</td>\n",
       "      <td>no</td>\n",
       "      <td>no</td>\n",
       "      <td>no</td>\n",
       "      <td>yes</td>\n",
       "      <td>no</td>\n",
       "    </tr>\n",
       "    <tr>\n",
       "      <td>4</td>\n",
       "      <td>6d5b22d39e68c656071a842732c63a0c</td>\n",
       "      <td>2015-01-01</td>\n",
       "      <td>4</td>\n",
       "      <td>3</td>\n",
       "      <td>2</td>\n",
       "      <td>3</td>\n",
       "      <td>0</td>\n",
       "      <td>0</td>\n",
       "      <td>1</td>\n",
       "      <td>1</td>\n",
       "      <td>...</td>\n",
       "      <td>loss</td>\n",
       "      <td>0.0</td>\n",
       "      <td>70.00</td>\n",
       "      <td>-45.00</td>\n",
       "      <td>-25.00</td>\n",
       "      <td>no</td>\n",
       "      <td>no</td>\n",
       "      <td>yes</td>\n",
       "      <td>yes</td>\n",
       "      <td>no</td>\n",
       "    </tr>\n",
       "  </tbody>\n",
       "</table>\n",
       "<p>5 rows × 207 columns</p>\n",
       "</div>"
      ],
      "text/plain": [
       "                                 id first_gift_year  lapsed_count  \\\n",
       "0  1f4b5b6e68445c6c4a0509b3aca93f38      2015-01-01             4   \n",
       "1  4aaab6d244bf3599682239ed5591af8a      2016-01-01             2   \n",
       "2  0b0765dc9c759adc48a07688ba25e94e      2015-01-01             3   \n",
       "3  377944ad61f72d800b25ec1862aec363      2016-01-01             2   \n",
       "4  6d5b22d39e68c656071a842732c63a0c      2015-01-01             4   \n",
       "\n",
       "   recovered_count  max_consec_giving_years  total_giving_years  count_2013  \\\n",
       "0                4                        4                   4           0   \n",
       "1                1                        1                   1           0   \n",
       "2                2                        2                   2           0   \n",
       "3                1                        1                   1           0   \n",
       "4                3                        2                   3           0   \n",
       "\n",
       "   count_2014  count_2015  count_2016  ...  gainloss_2017  gainloss_2014_amt  \\\n",
       "0           0          42          64  ...           gain                0.0   \n",
       "1           0           0           1  ...           loss                0.0   \n",
       "2           0           2           2  ...           loss                0.0   \n",
       "3           0           0           1  ...           loss                0.0   \n",
       "4           0           1           1  ...           loss                0.0   \n",
       "\n",
       "   gainloss_2015_amt  gainloss_2016_amt  gainloss_2017_amt  gave_2013  \\\n",
       "0           18211.38           21873.77           22559.83         no   \n",
       "1               0.00              25.00             -25.00         no   \n",
       "2              20.00              20.00             -40.00         no   \n",
       "3               0.00              25.00             -25.00         no   \n",
       "4              70.00             -45.00             -25.00         no   \n",
       "\n",
       "   gave_2014  gave_2015  gave_2016  gave_2017  \n",
       "0         no        yes        yes        yes  \n",
       "1         no         no        yes         no  \n",
       "2         no        yes        yes         no  \n",
       "3         no         no        yes         no  \n",
       "4         no        yes        yes         no  \n",
       "\n",
       "[5 rows x 207 columns]"
      ]
     },
     "execution_count": 107,
     "metadata": {},
     "output_type": "execute_result"
    }
   ],
   "source": [
    "donations_13to17.head()"
   ]
  },
  {
   "cell_type": "code",
   "execution_count": null,
   "metadata": {},
   "outputs": [],
   "source": [
    "fig = px.bar(donations_13to17, x=\"gave_2017\", y=\"donations_13to17.a\", color=\"medal\", title=\"Long-Form Input\")\n",
    "fig.show()"
   ]
  },
  {
   "cell_type": "code",
   "execution_count": null,
   "metadata": {},
   "outputs": [],
   "source": []
  },
  {
   "cell_type": "code",
   "execution_count": 104,
   "metadata": {},
   "outputs": [
    {
     "name": "stdout",
     "output_type": "stream",
     "text": [
      "id\n",
      "first_gift_year\n",
      "lapsed_count\n",
      "recovered_count\n",
      "max_consec_giving_years\n",
      "total_giving_years\n",
      "count_2013\n",
      "count_2014\n",
      "count_2015\n",
      "count_2016\n",
      "count_2017\n",
      "count_yr0_x\n",
      "count_yr1_x\n",
      "count_yr2_x\n",
      "count_yr3_x\n",
      "count_yr4_x\n",
      "lapsed_amount\n",
      "recovered_amount\n",
      "amount_2013\n",
      "amount_2014\n",
      "amount_2015\n",
      "amount_2016\n",
      "amount_2017\n",
      "lapsed_amount_2013\n",
      "lapsed_amount_2014\n",
      "lapsed_amount_2015\n",
      "lapsed_amount_2016\n",
      "lapsed_amount_2017\n",
      "upgraded_amount_2013\n",
      "upgraded_amount_2014\n",
      "upgraded_amount_2015\n",
      "upgraded_amount_2016\n",
      "upgraded_amount_2017\n",
      "downgraded_amount_2013\n",
      "downgraded_amount_2014\n",
      "downgraded_amount_2015\n",
      "downgraded_amount_2016\n",
      "downgraded_amount_2017\n",
      "amount_yr0\n",
      "amount_yr1\n",
      "amount_yr2\n",
      "amount_yr3\n",
      "amount_yr4\n",
      "count_yr0_y\n",
      "count_yr1_y\n",
      "count_yr2_y\n",
      "count_yr3_y\n",
      "count_yr4_y\n",
      "lapsed_amount_yr0\n",
      "lapsed_amount_yr1\n",
      "lapsed_amount_yr2\n",
      "lapsed_amount_yr3\n",
      "lapsed_amount_yr4\n",
      "upgraded_amount_yr0\n",
      "upgraded_amount_yr1\n",
      "upgraded_amount_yr2\n",
      "upgraded_amount_yr3\n",
      "upgraded_amount_yr4\n",
      "downgraded_amount_yr0\n",
      "downgraded_amount_yr1\n",
      "downgraded_amount_yr2\n",
      "downgraded_amount_yr3\n",
      "downgraded_amount_yr4\n",
      "amount_01_2013\n",
      "amount_02_2013\n",
      "amount_03_2013\n",
      "amount_04_2013\n",
      "amount_05_2013\n",
      "amount_06_2013\n",
      "amount_07_2013\n",
      "amount_08_2013\n",
      "amount_09_2013\n",
      "amount_10_2013\n",
      "amount_11_2013\n",
      "amount_12_2013\n",
      "amount_01_2014\n",
      "amount_02_2014\n",
      "amount_03_2014\n",
      "amount_04_2014\n",
      "amount_05_2014\n",
      "amount_06_2014\n",
      "amount_07_2014\n",
      "amount_08_2014\n",
      "amount_09_2014\n",
      "amount_10_2014\n",
      "amount_11_2014\n",
      "amount_12_2014\n",
      "amount_01_2015\n",
      "amount_02_2015\n",
      "amount_03_2015\n",
      "amount_04_2015\n",
      "amount_05_2015\n",
      "amount_06_2015\n",
      "amount_07_2015\n",
      "amount_08_2015\n",
      "amount_09_2015\n",
      "amount_10_2015\n",
      "amount_11_2015\n",
      "amount_12_2015\n",
      "amount_01_2016\n",
      "amount_02_2016\n",
      "amount_03_2016\n",
      "amount_04_2016\n",
      "amount_05_2016\n",
      "amount_06_2016\n",
      "amount_07_2016\n",
      "amount_08_2016\n",
      "amount_09_2016\n",
      "amount_10_2016\n",
      "amount_11_2016\n",
      "amount_12_2016\n",
      "amount_01_2017\n",
      "amount_02_2017\n",
      "amount_03_2017\n",
      "amount_04_2017\n",
      "amount_05_2017\n",
      "amount_06_2017\n",
      "amount_07_2017\n",
      "amount_08_2017\n",
      "amount_09_2017\n",
      "amount_10_2017\n",
      "amount_11_2017\n",
      "amount_12_2017\n",
      "amount_total\n",
      "count_total\n",
      "amount_01_yr0\n",
      "amount_02_yr0\n",
      "amount_03_yr0\n",
      "amount_04_yr0\n",
      "amount_05_yr0\n",
      "amount_06_yr0\n",
      "amount_07_yr0\n",
      "amount_08_yr0\n",
      "amount_09_yr0\n",
      "amount_10_yr0\n",
      "amount_11_yr0\n",
      "amount_12_yr0\n",
      "amount_01_yr1\n",
      "amount_02_yr1\n",
      "amount_03_yr1\n",
      "amount_04_yr1\n",
      "amount_05_yr1\n",
      "amount_06_yr1\n",
      "amount_07_yr1\n",
      "amount_08_yr1\n",
      "amount_09_yr1\n",
      "amount_10_yr1\n",
      "amount_11_yr1\n",
      "amount_12_yr1\n",
      "amount_01_yr2\n",
      "amount_02_yr2\n",
      "amount_03_yr2\n",
      "amount_04_yr2\n",
      "amount_05_yr2\n",
      "amount_06_yr2\n",
      "amount_07_yr2\n",
      "amount_08_yr2\n",
      "amount_09_yr2\n",
      "amount_10_yr2\n",
      "amount_11_yr2\n",
      "amount_12_yr2\n",
      "amount_01_yr3\n",
      "amount_02_yr3\n",
      "amount_03_yr3\n",
      "amount_04_yr3\n",
      "amount_05_yr3\n",
      "amount_06_yr3\n",
      "amount_07_yr3\n",
      "amount_08_yr3\n",
      "amount_09_yr3\n",
      "amount_10_yr3\n",
      "amount_11_yr3\n",
      "amount_12_yr3\n",
      "amount_01_yr4\n",
      "amount_02_yr4\n",
      "amount_03_yr4\n",
      "amount_04_yr4\n",
      "amount_05_yr4\n",
      "amount_06_yr4\n",
      "amount_07_yr4\n",
      "amount_08_yr4\n",
      "amount_09_yr4\n",
      "amount_10_yr4\n",
      "amount_11_yr4\n",
      "amount_12_yr4\n",
      "years_donated\n",
      "gift_pattern\n",
      "perc_years_donated\n",
      "donor_profile\n",
      "behavior_2013\n",
      "behavior_2014\n",
      "behavior_2015\n",
      "behavior_2016\n",
      "behavior_2017\n",
      "gainloss_2014\n",
      "gainloss_2015\n",
      "gainloss_2016\n",
      "gainloss_2017\n",
      "gainloss_2014_amt\n",
      "gainloss_2015_amt\n",
      "gainloss_2016_amt\n",
      "gainloss_2017_amt\n",
      "gave_2013\n",
      "gave_2014\n",
      "gave_2015\n",
      "gave_2016\n",
      "gave_2017\n"
     ]
    }
   ],
   "source": [
    "for col in donations_13to17.columns:\n",
    "    print(col)"
   ]
  },
  {
   "cell_type": "code",
   "execution_count": 58,
   "metadata": {},
   "outputs": [],
   "source": [
    "down17=donations_13to17.query('lapsed_count> 5')"
   ]
  },
  {
   "cell_type": "code",
   "execution_count": 59,
   "metadata": {},
   "outputs": [
    {
     "data": {
      "text/html": [
       "<div>\n",
       "<style scoped>\n",
       "    .dataframe tbody tr th:only-of-type {\n",
       "        vertical-align: middle;\n",
       "    }\n",
       "\n",
       "    .dataframe tbody tr th {\n",
       "        vertical-align: top;\n",
       "    }\n",
       "\n",
       "    .dataframe thead th {\n",
       "        text-align: right;\n",
       "    }\n",
       "</style>\n",
       "<table border=\"1\" class=\"dataframe\">\n",
       "  <thead>\n",
       "    <tr style=\"text-align: right;\">\n",
       "      <th></th>\n",
       "      <th>id</th>\n",
       "      <th>first_gift_year</th>\n",
       "      <th>lapsed_count</th>\n",
       "      <th>recovered_count</th>\n",
       "      <th>max_consec_giving_years</th>\n",
       "      <th>total_giving_years</th>\n",
       "      <th>count_2013</th>\n",
       "      <th>count_2014</th>\n",
       "      <th>count_2015</th>\n",
       "      <th>count_2016</th>\n",
       "      <th>...</th>\n",
       "      <th>behavior_2016</th>\n",
       "      <th>behavior_2017</th>\n",
       "      <th>gainloss_2014</th>\n",
       "      <th>gainloss_2015</th>\n",
       "      <th>gainloss_2016</th>\n",
       "      <th>gainloss_2017</th>\n",
       "      <th>gainloss_2014_amt</th>\n",
       "      <th>gainloss_2015_amt</th>\n",
       "      <th>gainloss_2016_amt</th>\n",
       "      <th>gainloss_2017_amt</th>\n",
       "    </tr>\n",
       "  </thead>\n",
       "  <tbody>\n",
       "    <tr>\n",
       "      <td>22</td>\n",
       "      <td>309bbe105f70465277576733c0d451b3</td>\n",
       "      <td>2013-01-01</td>\n",
       "      <td>6</td>\n",
       "      <td>5</td>\n",
       "      <td>5</td>\n",
       "      <td>5</td>\n",
       "      <td>9</td>\n",
       "      <td>11</td>\n",
       "      <td>18</td>\n",
       "      <td>20</td>\n",
       "      <td>...</td>\n",
       "      <td>downgrade</td>\n",
       "      <td>downgrade</td>\n",
       "      <td>loss</td>\n",
       "      <td>gain</td>\n",
       "      <td>loss</td>\n",
       "      <td>loss</td>\n",
       "      <td>-24.24</td>\n",
       "      <td>36.32</td>\n",
       "      <td>-60.32</td>\n",
       "      <td>-56.00</td>\n",
       "    </tr>\n",
       "    <tr>\n",
       "      <td>25</td>\n",
       "      <td>0325b81c4c6a11d66c0949512638ee65</td>\n",
       "      <td>2013-01-01</td>\n",
       "      <td>6</td>\n",
       "      <td>6</td>\n",
       "      <td>6</td>\n",
       "      <td>6</td>\n",
       "      <td>1</td>\n",
       "      <td>7</td>\n",
       "      <td>7</td>\n",
       "      <td>7</td>\n",
       "      <td>...</td>\n",
       "      <td>upgrade</td>\n",
       "      <td>downgrade</td>\n",
       "      <td>gain</td>\n",
       "      <td>loss</td>\n",
       "      <td>gain</td>\n",
       "      <td>loss</td>\n",
       "      <td>602.52</td>\n",
       "      <td>-200.02</td>\n",
       "      <td>1300.04</td>\n",
       "      <td>-1059.06</td>\n",
       "    </tr>\n",
       "    <tr>\n",
       "      <td>26</td>\n",
       "      <td>4b4b9cd2431fcc83cce2625fc723db67</td>\n",
       "      <td>2013-01-01</td>\n",
       "      <td>6</td>\n",
       "      <td>6</td>\n",
       "      <td>6</td>\n",
       "      <td>6</td>\n",
       "      <td>7</td>\n",
       "      <td>17</td>\n",
       "      <td>60</td>\n",
       "      <td>82</td>\n",
       "      <td>...</td>\n",
       "      <td>downgrade</td>\n",
       "      <td>downgrade</td>\n",
       "      <td>gain</td>\n",
       "      <td>gain</td>\n",
       "      <td>loss</td>\n",
       "      <td>loss</td>\n",
       "      <td>2835.35</td>\n",
       "      <td>3442.97</td>\n",
       "      <td>-1139.78</td>\n",
       "      <td>-987.43</td>\n",
       "    </tr>\n",
       "    <tr>\n",
       "      <td>58</td>\n",
       "      <td>1e5bc645d29801aea1636bdb316e4601</td>\n",
       "      <td>2013-01-01</td>\n",
       "      <td>6</td>\n",
       "      <td>6</td>\n",
       "      <td>6</td>\n",
       "      <td>6</td>\n",
       "      <td>13</td>\n",
       "      <td>14</td>\n",
       "      <td>21</td>\n",
       "      <td>18</td>\n",
       "      <td>...</td>\n",
       "      <td>upgrade</td>\n",
       "      <td>downgrade</td>\n",
       "      <td>gain</td>\n",
       "      <td>gain</td>\n",
       "      <td>gain</td>\n",
       "      <td>loss</td>\n",
       "      <td>481.58</td>\n",
       "      <td>548.23</td>\n",
       "      <td>666.66</td>\n",
       "      <td>-1016.48</td>\n",
       "    </tr>\n",
       "    <tr>\n",
       "      <td>85</td>\n",
       "      <td>0ab0bc7d73a5bc8352f7de5ad4e9da09</td>\n",
       "      <td>2013-01-01</td>\n",
       "      <td>6</td>\n",
       "      <td>6</td>\n",
       "      <td>6</td>\n",
       "      <td>6</td>\n",
       "      <td>34</td>\n",
       "      <td>39</td>\n",
       "      <td>81</td>\n",
       "      <td>152</td>\n",
       "      <td>...</td>\n",
       "      <td>upgrade</td>\n",
       "      <td>downgrade</td>\n",
       "      <td>gain</td>\n",
       "      <td>gain</td>\n",
       "      <td>gain</td>\n",
       "      <td>loss</td>\n",
       "      <td>749.69</td>\n",
       "      <td>3284.98</td>\n",
       "      <td>6042.82</td>\n",
       "      <td>-6064.64</td>\n",
       "    </tr>\n",
       "  </tbody>\n",
       "</table>\n",
       "<p>5 rows × 202 columns</p>\n",
       "</div>"
      ],
      "text/plain": [
       "                                  id first_gift_year  lapsed_count  \\\n",
       "22  309bbe105f70465277576733c0d451b3      2013-01-01             6   \n",
       "25  0325b81c4c6a11d66c0949512638ee65      2013-01-01             6   \n",
       "26  4b4b9cd2431fcc83cce2625fc723db67      2013-01-01             6   \n",
       "58  1e5bc645d29801aea1636bdb316e4601      2013-01-01             6   \n",
       "85  0ab0bc7d73a5bc8352f7de5ad4e9da09      2013-01-01             6   \n",
       "\n",
       "    recovered_count  max_consec_giving_years  total_giving_years  count_2013  \\\n",
       "22                5                        5                   5           9   \n",
       "25                6                        6                   6           1   \n",
       "26                6                        6                   6           7   \n",
       "58                6                        6                   6          13   \n",
       "85                6                        6                   6          34   \n",
       "\n",
       "    count_2014  count_2015  count_2016  ...  behavior_2016  behavior_2017  \\\n",
       "22          11          18          20  ...      downgrade      downgrade   \n",
       "25           7           7           7  ...        upgrade      downgrade   \n",
       "26          17          60          82  ...      downgrade      downgrade   \n",
       "58          14          21          18  ...        upgrade      downgrade   \n",
       "85          39          81         152  ...        upgrade      downgrade   \n",
       "\n",
       "    gainloss_2014  gainloss_2015  gainloss_2016  gainloss_2017  \\\n",
       "22           loss           gain           loss           loss   \n",
       "25           gain           loss           gain           loss   \n",
       "26           gain           gain           loss           loss   \n",
       "58           gain           gain           gain           loss   \n",
       "85           gain           gain           gain           loss   \n",
       "\n",
       "    gainloss_2014_amt  gainloss_2015_amt  gainloss_2016_amt  gainloss_2017_amt  \n",
       "22             -24.24              36.32             -60.32             -56.00  \n",
       "25             602.52            -200.02            1300.04           -1059.06  \n",
       "26            2835.35            3442.97           -1139.78            -987.43  \n",
       "58             481.58             548.23             666.66           -1016.48  \n",
       "85             749.69            3284.98            6042.82           -6064.64  \n",
       "\n",
       "[5 rows x 202 columns]"
      ]
     },
     "execution_count": 59,
     "metadata": {},
     "output_type": "execute_result"
    }
   ],
   "source": [
    "down17.head()"
   ]
  },
  {
   "cell_type": "code",
   "execution_count": 4,
   "metadata": {},
   "outputs": [],
   "source": [
    "#churn by year\n",
    "#donorbase growth"
   ]
  },
  {
   "cell_type": "markdown",
   "metadata": {},
   "source": [
    "### # donors by year"
   ]
  },
  {
   "cell_type": "code",
   "execution_count": 78,
   "metadata": {},
   "outputs": [],
   "source": [
    "no_donors_2013=donations_13to17.query('amount_2013 > 0').count()['id']\n",
    "\n",
    "no_donors_2014=donations_13to17.query('amount_2014 > 0').count()['id']\n",
    "\n",
    "no_donors_2015=donations_13to17.query('amount_2015 > 0').count()['id']\n",
    "\n",
    "no_donors_2016=donations_13to17.query('amount_2016 > 0').count()['id']\n",
    "\n",
    "no_donors_2017=donations_13to17.query('amount_2017 > 0').count()['id']"
   ]
  },
  {
   "cell_type": "code",
   "execution_count": 11,
   "metadata": {},
   "outputs": [
    {
     "name": "stdout",
     "output_type": "stream",
     "text": [
      "# donors by year\n",
      "2013:  320069\n",
      "2014:  382803\n",
      "2015:  446037\n",
      "2016:  555836\n",
      "2017:  574591\n"
     ]
    }
   ],
   "source": [
    "print(f'# donors by year')\n",
    "print(f'2013: ', no_donors_2013)\n",
    "print(f'2014: ', no_donors_2014)\n",
    "print(f'2015: ', no_donors_2015)\n",
    "print(f'2016: ', no_donors_2016)\n",
    "print(f'2017: ', no_donors_2017)"
   ]
  },
  {
   "cell_type": "markdown",
   "metadata": {},
   "source": [
    "### additional # donors by year"
   ]
  },
  {
   "cell_type": "code",
   "execution_count": 12,
   "metadata": {},
   "outputs": [
    {
     "name": "stdout",
     "output_type": "stream",
     "text": [
      "% additional # donors by year\n",
      "2013:  n/a\n",
      "2014:  62734\n",
      "2015:  63234\n",
      "2016:  109799\n",
      "2017:  18755\n"
     ]
    }
   ],
   "source": [
    "print(f'additional # donors by year')\n",
    "print(f'2013: ', f'n/a')\n",
    "print(f'2014: ', no_donors_2014-no_donors_2013)\n",
    "print(f'2015: ', no_donors_2015-no_donors_2014)\n",
    "print(f'2016: ', no_donors_2016-no_donors_2015)\n",
    "print(f'2017: ', no_donors_2017-no_donors_2016)"
   ]
  },
  {
   "cell_type": "markdown",
   "metadata": {},
   "source": [
    "### % change in # donors by year"
   ]
  },
  {
   "cell_type": "code",
   "execution_count": 14,
   "metadata": {},
   "outputs": [
    {
     "name": "stdout",
     "output_type": "stream",
     "text": [
      "% change in # donors by year\n",
      "2013:  n/a\n",
      "2014:  19.600148717932694\n",
      "2015:  16.51867932069498\n",
      "2016:  24.616567683846853\n",
      "2017:  3.374196705503062\n"
     ]
    }
   ],
   "source": [
    "print(f'% change in # donors by year')\n",
    "print(f'2013: ', f'n/a')\n",
    "print(f'2014: ', (no_donors_2014-no_donors_2013)/no_donors_2013*100)\n",
    "print(f'2015: ', (no_donors_2015-no_donors_2014)/no_donors_2014*100)\n",
    "print(f'2016: ', (no_donors_2016-no_donors_2015)/no_donors_2015*100)\n",
    "print(f'2017: ', (no_donors_2017-no_donors_2016)/no_donors_2016*100)"
   ]
  },
  {
   "cell_type": "markdown",
   "metadata": {},
   "source": [
    "### % change in # donors by year from first year (2013)"
   ]
  },
  {
   "cell_type": "code",
   "execution_count": 17,
   "metadata": {},
   "outputs": [
    {
     "name": "stdout",
     "output_type": "stream",
     "text": [
      "% change in # donors by year from first year (2013)\n",
      "2013:  n/a\n",
      "2014:  19.600148717932694\n",
      "2015:  39.35651375172228\n",
      "2016:  73.66130428126435\n",
      "2017:  79.52097828905642\n"
     ]
    }
   ],
   "source": [
    "print(f'% change in # donors by year from first year (2013)')\n",
    "print(f'2013: ', f'n/a')\n",
    "print(f'2014: ', (no_donors_2014-no_donors_2013)/no_donors_2013*100)\n",
    "print(f'2015: ', (no_donors_2015-no_donors_2013)/no_donors_2013*100)\n",
    "print(f'2016: ', (no_donors_2016-no_donors_2013)/no_donors_2013*100)\n",
    "print(f'2017: ', (no_donors_2017-no_donors_2013)/no_donors_2013*100)"
   ]
  },
  {
   "cell_type": "code",
   "execution_count": 87,
   "metadata": {},
   "outputs": [],
   "source": [
    "new_2013=donations_13to17.query('behavior_2013 == \"new\"').count()['id']\n",
    "new_2014=donations_13to17.query('behavior_2014 == \"new\"').count()['id']\n",
    "new_2015=donations_13to17.query('behavior_2015 == \"new\"').count()['id']\n",
    "new_2016=donations_13to17.query('behavior_2016 == \"new\"').count()['id']\n",
    "new_2017=donations_13to17.query('behavior_2017 == \"new\"').count()['id']\n",
    "\n",
    "upgrade_2014=donations_13to17.query('behavior_2014 == \"upgrade\"').count()['id']\n",
    "upgrade_2015=donations_13to17.query('behavior_2015 == \"upgrade\"').count()['id']\n",
    "upgrade_2016=donations_13to17.query('behavior_2016 == \"upgrade\"').count()['id']\n",
    "upgrade_2017=donations_13to17.query('behavior_2017 == \"upgrade\"').count()['id']\n",
    "\n",
    "maintain_2014=donations_13to17.query('behavior_2014 == \"maintain\"').count()['id']\n",
    "maintain_2015=donations_13to17.query('behavior_2015 == \"maintain\"').count()['id']\n",
    "maintain_2016=donations_13to17.query('behavior_2016 == \"maintain\"').count()['id']\n",
    "maintain_2017=donations_13to17.query('behavior_2017 == \"maintain\"').count()['id']\n",
    "\n",
    "downgrade_2014=donations_13to17.query('behavior_2014 == \"downgrade\"').count()['id']\n",
    "downgrade_2015=donations_13to17.query('behavior_2015 == \"downgrade\"').count()['id']\n",
    "downgrade_2016=donations_13to17.query('behavior_2016 == \"downgrade\"').count()['id']\n",
    "downgrade_2017=donations_13to17.query('behavior_2017 == \"downgrade\"').count()['id']\n",
    "\n",
    "lapse_new_2014=donations_13to17.query('behavior_2014 == \"lapse_new\"').count()['id']\n",
    "lapse_new_2015=donations_13to17.query('behavior_2015 == \"lapse_new\"').count()['id']\n",
    "lapse_new_2016=donations_13to17.query('behavior_2016 == \"lapse_new\"').count()['id']\n",
    "lapse_new_2017=donations_13to17.query('behavior_2017 == \"lapse_new\"').count()['id']\n",
    "\n",
    "lapse_repeat_2014=donations_13to17.query('behavior_2014 == \"lapse_repeat\"').count()['id']\n",
    "lapse_repeat_2015=donations_13to17.query('behavior_2015 == \"lapse_repeat\"').count()['id']\n",
    "lapse_repeat_2016=donations_13to17.query('behavior_2016 == \"lapse_repeat\"').count()['id']\n",
    "lapse_repeat_2017=donations_13to17.query('behavior_2017 == \"lapse_repeat\"').count()['id']\n",
    "\n",
    "recovered_2014=donations_13to17.query('behavior_2014 == \"recover\"').count()['id']\n",
    "recovered_2015=donations_13to17.query('behavior_2015 == \"recover\"').count()['id']\n",
    "recovered_2016=donations_13to17.query('behavior_2016 == \"recover\"').count()['id']\n",
    "recovered_2017=donations_13to17.query('behavior_2017 == \"recover\"').count()['id']"
   ]
  },
  {
   "cell_type": "code",
   "execution_count": 34,
   "metadata": {},
   "outputs": [],
   "source": [
    "kept_2014=upgrade_2014+maintain_2014+downgrade_2014\n",
    "kept_2015=upgrade_2015+maintain_2015+downgrade_2015\n",
    "kept_2016=upgrade_2016+maintain_2016+downgrade_2016\n",
    "kept_2017=upgrade_2017+maintain_2017+downgrade_2017\n",
    "\n",
    "lost_2014=lapse_new_2014+lapse_repeat_2014\n",
    "lost_2015=lapse_new_2015+lapse_repeat_2015\n",
    "lost_2016=lapse_new_2016+lapse_repeat_2016\n",
    "lost_2017=lapse_new_2017+lapse_repeat_2017"
   ]
  },
  {
   "cell_type": "markdown",
   "metadata": {},
   "source": [
    "### Retention and attrition by year"
   ]
  },
  {
   "cell_type": "code",
   "execution_count": 69,
   "metadata": {},
   "outputs": [
    {
     "name": "stdout",
     "output_type": "stream",
     "text": [
      "# donors retained in 2014:  62130\n",
      "# donors lost in 2014:  257939\n",
      "retention rate 2014:  19.411439408377568\n",
      "attrition rate 2014:  80.58856059162243\n"
     ]
    }
   ],
   "source": [
    "print(f'# donors retained in 2014: ', kept_2014) \n",
    "print(f'# donors lost in 2014: ', lost_2014)\n",
    "print(f'retention rate 2014: ', kept_2014/donations_13to17.query('amount_2013 > 0').count()['id']*100)\n",
    "print(f'attrition rate 2014: ', lost_2014/new_2013*100)"
   ]
  },
  {
   "cell_type": "code",
   "execution_count": 70,
   "metadata": {},
   "outputs": [
    {
     "name": "stdout",
     "output_type": "stream",
     "text": [
      "# donors retained in 2015:  74747\n",
      "# donors lost in 2015:  308056\n",
      "retention rate 2015:  19.526231508112527\n",
      "attrition rate 2015:  80.47376849188748\n"
     ]
    }
   ],
   "source": [
    "print(f'# donors retained in 2015: ', kept_2015) \n",
    "print(f'# donors lost in 2015: ', lost_2015)\n",
    "print(f'retention rate 2015: ', kept_2015/donations_13to17.query('amount_2014 > 0').count()['id']*100)\n",
    "print(f'attrition rate 2015: ', lost_2015/donations_13to17.query('amount_2014 > 0').count()['id']*100)"
   ]
  },
  {
   "cell_type": "code",
   "execution_count": 71,
   "metadata": {},
   "outputs": [
    {
     "name": "stdout",
     "output_type": "stream",
     "text": [
      "# donors retained in 2016:  80447\n",
      "# donors lost in 2016:  365590\n",
      "retention rate 2016:  18.035947690438235\n",
      "attrition rate 2016:  81.96405230956177\n"
     ]
    }
   ],
   "source": [
    "print(f'# donors retained in 2016: ', kept_2016) \n",
    "print(f'# donors lost in 2016: ', lost_2016)\n",
    "print(f'retention rate 2016: ', kept_2016/donations_13to17.query('amount_2015 > 0').count()['id']*100)\n",
    "print(f'attrition rate 2016: ', lost_2016/donations_13to17.query('amount_2015 > 0').count()['id']*100)"
   ]
  },
  {
   "cell_type": "code",
   "execution_count": 72,
   "metadata": {},
   "outputs": [
    {
     "name": "stdout",
     "output_type": "stream",
     "text": [
      "# donors retained in 2017:  99691\n",
      "# donors lost in 2017:  456145\n",
      "retention rate 2017:  17.935326247310357\n",
      "attrition rate 2017:  82.06467375268964\n"
     ]
    }
   ],
   "source": [
    "print(f'# donors retained in 2017: ', kept_2017) \n",
    "print(f'# donors lost in 2017: ', lost_2017)\n",
    "print(f'retention rate 2017: ', kept_2017/donations_13to17.query('amount_2016 > 0').count()['id']*100)\n",
    "print(f'attrition rate 2017: ', lost_2017/donations_13to17.query('amount_2016 > 0').count()['id']*100)"
   ]
  },
  {
   "cell_type": "code",
   "execution_count": 27,
   "metadata": {},
   "outputs": [
    {
     "name": "stdout",
     "output_type": "stream",
     "text": [
      "# donors 2013:  227808\n",
      "# donors retained in 2014:  198991\n",
      "# donors lost in 2014:  227808\n",
      "retention rate 2014:  87.3503125438966\n",
      "attrition rate 2014:  100.0\n"
     ]
    }
   ],
   "source": [
    "print(f'# donors 2013: ', donations_13to17.query('gift_pattern == \"1,\"').count()['id'])\n",
    "print(f'# donors retained in 2014: ', \n",
    "print(f'# donors lost in 2014: ', \n",
    "print(f'retention rate 2014: ', \n",
    "print(f'attrition rate 2014: ', "
   ]
  },
  {
   "cell_type": "code",
   "execution_count": 92,
   "metadata": {},
   "outputs": [],
   "source": [
    "l1=[2013,2014,2015,2016,2017]\n",
    "# number donors by year\n",
    "l2=[no_donors_2013, no_donors_2014, no_donors_2015, no_donors_2016, no_donors_2017]\n",
    "#% change in number donors by year\n",
    "l3=['n/a', (no_donors_2014-no_donors_2013)/no_donors_2013*100, (no_donors_2015-no_donors_2014)/no_donors_2014*100, (no_donors_2016-no_donors_2015)/no_donors_2015*100, (no_donors_2017-no_donors_2016)/no_donors_2016*100]\n",
    "# number new donors\n",
    "l4=[new_2013, new_2014, new_2015, new_2016, new_2017]\n",
    "# number upgraded donors\n",
    "l5=['n/a', upgrade_2014, upgrade_2015, upgrade_2016, upgrade_2017]\n",
    "# number of maintain donors\n",
    "l6=['n/a', maintain_2014, maintain_2015, maintain_2016, maintain_2017]\n",
    "# number of downgrade donors\n",
    "l7=['n/a', downgrade_2014, downgrade_2015, downgrade_2016, downgrade_2017]\n",
    "# number of lapsed new donors\n",
    "l8=['n/a', lapse_new_2014, lapse_new_2015, lapse_new_2016, lapse_new_2017]\n",
    "# number of lapsed repeat donors\n",
    "l9=['n/a', lapse_repeat_2014, lapse_repeat_2015, lapse_repeat_2016, lapse_repeat_2017]\n",
    "# number of recovered donors\n",
    "l10=['n/a', recovered_2014, recovered_2015, recovered_2016, recovered_2017]\n",
    "# number of donors lost (attrition)\n",
    "l11= ['n/a',lost_2014,lost_2015,lost_2016,lost_2017]\n",
    "# number of donors retained (retention)\n",
    "l12=['n/a',kept_2014,kept_2015,kept_2016,kept_2017]\n",
    "list_of_tuples = list(zip(l1,l2,l3,l4,l5,l6,l7,l8,l9,l10,l11,l12))\n",
    "list_of_tuples\n",
    "churn_by_year=pd.DataFrame(list_of_tuples, columns = ['year', 'no_donors','perc_change_no_donors', 'no_new_donors','no_upgraded_donors','no_maintain_donors','no_downgrade_donors','no_lapsednew_donors','no_lapsedrepeat_donors','no_recovered_donors','no_donors_lost','no_donors_kept'])"
   ]
  },
  {
   "cell_type": "code",
   "execution_count": 93,
   "metadata": {},
   "outputs": [
    {
     "data": {
      "text/html": [
       "<div>\n",
       "<style scoped>\n",
       "    .dataframe tbody tr th:only-of-type {\n",
       "        vertical-align: middle;\n",
       "    }\n",
       "\n",
       "    .dataframe tbody tr th {\n",
       "        vertical-align: top;\n",
       "    }\n",
       "\n",
       "    .dataframe thead th {\n",
       "        text-align: right;\n",
       "    }\n",
       "</style>\n",
       "<table border=\"1\" class=\"dataframe\">\n",
       "  <thead>\n",
       "    <tr style=\"text-align: right;\">\n",
       "      <th></th>\n",
       "      <th>year</th>\n",
       "      <th>no_donors</th>\n",
       "      <th>perc_change_no_donors</th>\n",
       "      <th>no_new_donors</th>\n",
       "      <th>no_upgraded_donors</th>\n",
       "      <th>no_maintain_donors</th>\n",
       "      <th>no_downgrade_donors</th>\n",
       "      <th>no_lapsednew_donors</th>\n",
       "      <th>no_lapsedrepeat_donors</th>\n",
       "      <th>no_recovered_donors</th>\n",
       "      <th>no_donors_lost</th>\n",
       "      <th>no_donors_kept</th>\n",
       "    </tr>\n",
       "  </thead>\n",
       "  <tbody>\n",
       "    <tr>\n",
       "      <td>0</td>\n",
       "      <td>2013</td>\n",
       "      <td>320069</td>\n",
       "      <td>n/a</td>\n",
       "      <td>320069</td>\n",
       "      <td>n/a</td>\n",
       "      <td>n/a</td>\n",
       "      <td>n/a</td>\n",
       "      <td>n/a</td>\n",
       "      <td>n/a</td>\n",
       "      <td>n/a</td>\n",
       "      <td>n/a</td>\n",
       "      <td>n/a</td>\n",
       "    </tr>\n",
       "    <tr>\n",
       "      <td>1</td>\n",
       "      <td>2014</td>\n",
       "      <td>382803</td>\n",
       "      <td>19.6001</td>\n",
       "      <td>320673</td>\n",
       "      <td>27112</td>\n",
       "      <td>11171</td>\n",
       "      <td>23847</td>\n",
       "      <td>257939</td>\n",
       "      <td>0</td>\n",
       "      <td>0</td>\n",
       "      <td>257939</td>\n",
       "      <td>62130</td>\n",
       "    </tr>\n",
       "    <tr>\n",
       "      <td>2</td>\n",
       "      <td>2015</td>\n",
       "      <td>446037</td>\n",
       "      <td>16.5187</td>\n",
       "      <td>355137</td>\n",
       "      <td>31248</td>\n",
       "      <td>11234</td>\n",
       "      <td>32265</td>\n",
       "      <td>272006</td>\n",
       "      <td>36050</td>\n",
       "      <td>16153</td>\n",
       "      <td>308056</td>\n",
       "      <td>74747</td>\n",
       "    </tr>\n",
       "    <tr>\n",
       "      <td>3</td>\n",
       "      <td>2016</td>\n",
       "      <td>555836</td>\n",
       "      <td>24.6166</td>\n",
       "      <td>445598</td>\n",
       "      <td>35563</td>\n",
       "      <td>12136</td>\n",
       "      <td>32748</td>\n",
       "      <td>309059</td>\n",
       "      <td>56531</td>\n",
       "      <td>29791</td>\n",
       "      <td>365590</td>\n",
       "      <td>80447</td>\n",
       "    </tr>\n",
       "    <tr>\n",
       "      <td>4</td>\n",
       "      <td>2017</td>\n",
       "      <td>574591</td>\n",
       "      <td>3.3742</td>\n",
       "      <td>434991</td>\n",
       "      <td>43212</td>\n",
       "      <td>14211</td>\n",
       "      <td>42268</td>\n",
       "      <td>389060</td>\n",
       "      <td>67085</td>\n",
       "      <td>39909</td>\n",
       "      <td>456145</td>\n",
       "      <td>99691</td>\n",
       "    </tr>\n",
       "  </tbody>\n",
       "</table>\n",
       "</div>"
      ],
      "text/plain": [
       "   year  no_donors perc_change_no_donors  no_new_donors no_upgraded_donors  \\\n",
       "0  2013     320069                   n/a         320069                n/a   \n",
       "1  2014     382803               19.6001         320673              27112   \n",
       "2  2015     446037               16.5187         355137              31248   \n",
       "3  2016     555836               24.6166         445598              35563   \n",
       "4  2017     574591                3.3742         434991              43212   \n",
       "\n",
       "  no_maintain_donors no_downgrade_donors no_lapsednew_donors  \\\n",
       "0                n/a                 n/a                 n/a   \n",
       "1              11171               23847              257939   \n",
       "2              11234               32265              272006   \n",
       "3              12136               32748              309059   \n",
       "4              14211               42268              389060   \n",
       "\n",
       "  no_lapsedrepeat_donors no_recovered_donors no_donors_lost no_donors_kept  \n",
       "0                    n/a                 n/a            n/a            n/a  \n",
       "1                      0                   0         257939          62130  \n",
       "2                  36050               16153         308056          74747  \n",
       "3                  56531               29791         365590          80447  \n",
       "4                  67085               39909         456145          99691  "
      ]
     },
     "execution_count": 93,
     "metadata": {},
     "output_type": "execute_result"
    }
   ],
   "source": [
    "churn_by_year"
   ]
  },
  {
   "cell_type": "code",
   "execution_count": 99,
   "metadata": {},
   "outputs": [
    {
     "data": {
      "application/vnd.plotly.v1+json": {
       "config": {
        "plotlyServerURL": "https://plot.ly"
       },
       "data": [
        {
         "hovertemplate": "year=%{x}<br>no_donors_kept=%{y}<extra></extra>",
         "legendgroup": "",
         "line": {
          "color": "#636efa",
          "dash": "solid"
         },
         "mode": "lines",
         "name": "",
         "orientation": "h",
         "showlegend": false,
         "type": "scatter",
         "x": [
          2013,
          2014,
          2015,
          2016,
          2017
         ],
         "xaxis": "x",
         "y": [
          "n/a",
          62130,
          74747,
          80447,
          99691
         ],
         "yaxis": "y"
        }
       ],
       "layout": {
        "legend": {
         "tracegroupgap": 0
        },
        "margin": {
         "t": 60
        },
        "template": {
         "data": {
          "bar": [
           {
            "error_x": {
             "color": "#2a3f5f"
            },
            "error_y": {
             "color": "#2a3f5f"
            },
            "marker": {
             "line": {
              "color": "#E5ECF6",
              "width": 0.5
             }
            },
            "type": "bar"
           }
          ],
          "barpolar": [
           {
            "marker": {
             "line": {
              "color": "#E5ECF6",
              "width": 0.5
             }
            },
            "type": "barpolar"
           }
          ],
          "carpet": [
           {
            "aaxis": {
             "endlinecolor": "#2a3f5f",
             "gridcolor": "white",
             "linecolor": "white",
             "minorgridcolor": "white",
             "startlinecolor": "#2a3f5f"
            },
            "baxis": {
             "endlinecolor": "#2a3f5f",
             "gridcolor": "white",
             "linecolor": "white",
             "minorgridcolor": "white",
             "startlinecolor": "#2a3f5f"
            },
            "type": "carpet"
           }
          ],
          "choropleth": [
           {
            "colorbar": {
             "outlinewidth": 0,
             "ticks": ""
            },
            "type": "choropleth"
           }
          ],
          "contour": [
           {
            "colorbar": {
             "outlinewidth": 0,
             "ticks": ""
            },
            "colorscale": [
             [
              0,
              "#0d0887"
             ],
             [
              0.1111111111111111,
              "#46039f"
             ],
             [
              0.2222222222222222,
              "#7201a8"
             ],
             [
              0.3333333333333333,
              "#9c179e"
             ],
             [
              0.4444444444444444,
              "#bd3786"
             ],
             [
              0.5555555555555556,
              "#d8576b"
             ],
             [
              0.6666666666666666,
              "#ed7953"
             ],
             [
              0.7777777777777778,
              "#fb9f3a"
             ],
             [
              0.8888888888888888,
              "#fdca26"
             ],
             [
              1,
              "#f0f921"
             ]
            ],
            "type": "contour"
           }
          ],
          "contourcarpet": [
           {
            "colorbar": {
             "outlinewidth": 0,
             "ticks": ""
            },
            "type": "contourcarpet"
           }
          ],
          "heatmap": [
           {
            "colorbar": {
             "outlinewidth": 0,
             "ticks": ""
            },
            "colorscale": [
             [
              0,
              "#0d0887"
             ],
             [
              0.1111111111111111,
              "#46039f"
             ],
             [
              0.2222222222222222,
              "#7201a8"
             ],
             [
              0.3333333333333333,
              "#9c179e"
             ],
             [
              0.4444444444444444,
              "#bd3786"
             ],
             [
              0.5555555555555556,
              "#d8576b"
             ],
             [
              0.6666666666666666,
              "#ed7953"
             ],
             [
              0.7777777777777778,
              "#fb9f3a"
             ],
             [
              0.8888888888888888,
              "#fdca26"
             ],
             [
              1,
              "#f0f921"
             ]
            ],
            "type": "heatmap"
           }
          ],
          "heatmapgl": [
           {
            "colorbar": {
             "outlinewidth": 0,
             "ticks": ""
            },
            "colorscale": [
             [
              0,
              "#0d0887"
             ],
             [
              0.1111111111111111,
              "#46039f"
             ],
             [
              0.2222222222222222,
              "#7201a8"
             ],
             [
              0.3333333333333333,
              "#9c179e"
             ],
             [
              0.4444444444444444,
              "#bd3786"
             ],
             [
              0.5555555555555556,
              "#d8576b"
             ],
             [
              0.6666666666666666,
              "#ed7953"
             ],
             [
              0.7777777777777778,
              "#fb9f3a"
             ],
             [
              0.8888888888888888,
              "#fdca26"
             ],
             [
              1,
              "#f0f921"
             ]
            ],
            "type": "heatmapgl"
           }
          ],
          "histogram": [
           {
            "marker": {
             "colorbar": {
              "outlinewidth": 0,
              "ticks": ""
             }
            },
            "type": "histogram"
           }
          ],
          "histogram2d": [
           {
            "colorbar": {
             "outlinewidth": 0,
             "ticks": ""
            },
            "colorscale": [
             [
              0,
              "#0d0887"
             ],
             [
              0.1111111111111111,
              "#46039f"
             ],
             [
              0.2222222222222222,
              "#7201a8"
             ],
             [
              0.3333333333333333,
              "#9c179e"
             ],
             [
              0.4444444444444444,
              "#bd3786"
             ],
             [
              0.5555555555555556,
              "#d8576b"
             ],
             [
              0.6666666666666666,
              "#ed7953"
             ],
             [
              0.7777777777777778,
              "#fb9f3a"
             ],
             [
              0.8888888888888888,
              "#fdca26"
             ],
             [
              1,
              "#f0f921"
             ]
            ],
            "type": "histogram2d"
           }
          ],
          "histogram2dcontour": [
           {
            "colorbar": {
             "outlinewidth": 0,
             "ticks": ""
            },
            "colorscale": [
             [
              0,
              "#0d0887"
             ],
             [
              0.1111111111111111,
              "#46039f"
             ],
             [
              0.2222222222222222,
              "#7201a8"
             ],
             [
              0.3333333333333333,
              "#9c179e"
             ],
             [
              0.4444444444444444,
              "#bd3786"
             ],
             [
              0.5555555555555556,
              "#d8576b"
             ],
             [
              0.6666666666666666,
              "#ed7953"
             ],
             [
              0.7777777777777778,
              "#fb9f3a"
             ],
             [
              0.8888888888888888,
              "#fdca26"
             ],
             [
              1,
              "#f0f921"
             ]
            ],
            "type": "histogram2dcontour"
           }
          ],
          "mesh3d": [
           {
            "colorbar": {
             "outlinewidth": 0,
             "ticks": ""
            },
            "type": "mesh3d"
           }
          ],
          "parcoords": [
           {
            "line": {
             "colorbar": {
              "outlinewidth": 0,
              "ticks": ""
             }
            },
            "type": "parcoords"
           }
          ],
          "pie": [
           {
            "automargin": true,
            "type": "pie"
           }
          ],
          "scatter": [
           {
            "marker": {
             "colorbar": {
              "outlinewidth": 0,
              "ticks": ""
             }
            },
            "type": "scatter"
           }
          ],
          "scatter3d": [
           {
            "line": {
             "colorbar": {
              "outlinewidth": 0,
              "ticks": ""
             }
            },
            "marker": {
             "colorbar": {
              "outlinewidth": 0,
              "ticks": ""
             }
            },
            "type": "scatter3d"
           }
          ],
          "scattercarpet": [
           {
            "marker": {
             "colorbar": {
              "outlinewidth": 0,
              "ticks": ""
             }
            },
            "type": "scattercarpet"
           }
          ],
          "scattergeo": [
           {
            "marker": {
             "colorbar": {
              "outlinewidth": 0,
              "ticks": ""
             }
            },
            "type": "scattergeo"
           }
          ],
          "scattergl": [
           {
            "marker": {
             "colorbar": {
              "outlinewidth": 0,
              "ticks": ""
             }
            },
            "type": "scattergl"
           }
          ],
          "scattermapbox": [
           {
            "marker": {
             "colorbar": {
              "outlinewidth": 0,
              "ticks": ""
             }
            },
            "type": "scattermapbox"
           }
          ],
          "scatterpolar": [
           {
            "marker": {
             "colorbar": {
              "outlinewidth": 0,
              "ticks": ""
             }
            },
            "type": "scatterpolar"
           }
          ],
          "scatterpolargl": [
           {
            "marker": {
             "colorbar": {
              "outlinewidth": 0,
              "ticks": ""
             }
            },
            "type": "scatterpolargl"
           }
          ],
          "scatterternary": [
           {
            "marker": {
             "colorbar": {
              "outlinewidth": 0,
              "ticks": ""
             }
            },
            "type": "scatterternary"
           }
          ],
          "surface": [
           {
            "colorbar": {
             "outlinewidth": 0,
             "ticks": ""
            },
            "colorscale": [
             [
              0,
              "#0d0887"
             ],
             [
              0.1111111111111111,
              "#46039f"
             ],
             [
              0.2222222222222222,
              "#7201a8"
             ],
             [
              0.3333333333333333,
              "#9c179e"
             ],
             [
              0.4444444444444444,
              "#bd3786"
             ],
             [
              0.5555555555555556,
              "#d8576b"
             ],
             [
              0.6666666666666666,
              "#ed7953"
             ],
             [
              0.7777777777777778,
              "#fb9f3a"
             ],
             [
              0.8888888888888888,
              "#fdca26"
             ],
             [
              1,
              "#f0f921"
             ]
            ],
            "type": "surface"
           }
          ],
          "table": [
           {
            "cells": {
             "fill": {
              "color": "#EBF0F8"
             },
             "line": {
              "color": "white"
             }
            },
            "header": {
             "fill": {
              "color": "#C8D4E3"
             },
             "line": {
              "color": "white"
             }
            },
            "type": "table"
           }
          ]
         },
         "layout": {
          "annotationdefaults": {
           "arrowcolor": "#2a3f5f",
           "arrowhead": 0,
           "arrowwidth": 1
          },
          "coloraxis": {
           "colorbar": {
            "outlinewidth": 0,
            "ticks": ""
           }
          },
          "colorscale": {
           "diverging": [
            [
             0,
             "#8e0152"
            ],
            [
             0.1,
             "#c51b7d"
            ],
            [
             0.2,
             "#de77ae"
            ],
            [
             0.3,
             "#f1b6da"
            ],
            [
             0.4,
             "#fde0ef"
            ],
            [
             0.5,
             "#f7f7f7"
            ],
            [
             0.6,
             "#e6f5d0"
            ],
            [
             0.7,
             "#b8e186"
            ],
            [
             0.8,
             "#7fbc41"
            ],
            [
             0.9,
             "#4d9221"
            ],
            [
             1,
             "#276419"
            ]
           ],
           "sequential": [
            [
             0,
             "#0d0887"
            ],
            [
             0.1111111111111111,
             "#46039f"
            ],
            [
             0.2222222222222222,
             "#7201a8"
            ],
            [
             0.3333333333333333,
             "#9c179e"
            ],
            [
             0.4444444444444444,
             "#bd3786"
            ],
            [
             0.5555555555555556,
             "#d8576b"
            ],
            [
             0.6666666666666666,
             "#ed7953"
            ],
            [
             0.7777777777777778,
             "#fb9f3a"
            ],
            [
             0.8888888888888888,
             "#fdca26"
            ],
            [
             1,
             "#f0f921"
            ]
           ],
           "sequentialminus": [
            [
             0,
             "#0d0887"
            ],
            [
             0.1111111111111111,
             "#46039f"
            ],
            [
             0.2222222222222222,
             "#7201a8"
            ],
            [
             0.3333333333333333,
             "#9c179e"
            ],
            [
             0.4444444444444444,
             "#bd3786"
            ],
            [
             0.5555555555555556,
             "#d8576b"
            ],
            [
             0.6666666666666666,
             "#ed7953"
            ],
            [
             0.7777777777777778,
             "#fb9f3a"
            ],
            [
             0.8888888888888888,
             "#fdca26"
            ],
            [
             1,
             "#f0f921"
            ]
           ]
          },
          "colorway": [
           "#636efa",
           "#EF553B",
           "#00cc96",
           "#ab63fa",
           "#FFA15A",
           "#19d3f3",
           "#FF6692",
           "#B6E880",
           "#FF97FF",
           "#FECB52"
          ],
          "font": {
           "color": "#2a3f5f"
          },
          "geo": {
           "bgcolor": "white",
           "lakecolor": "white",
           "landcolor": "#E5ECF6",
           "showlakes": true,
           "showland": true,
           "subunitcolor": "white"
          },
          "hoverlabel": {
           "align": "left"
          },
          "hovermode": "closest",
          "mapbox": {
           "style": "light"
          },
          "paper_bgcolor": "white",
          "plot_bgcolor": "#E5ECF6",
          "polar": {
           "angularaxis": {
            "gridcolor": "white",
            "linecolor": "white",
            "ticks": ""
           },
           "bgcolor": "#E5ECF6",
           "radialaxis": {
            "gridcolor": "white",
            "linecolor": "white",
            "ticks": ""
           }
          },
          "scene": {
           "xaxis": {
            "backgroundcolor": "#E5ECF6",
            "gridcolor": "white",
            "gridwidth": 2,
            "linecolor": "white",
            "showbackground": true,
            "ticks": "",
            "zerolinecolor": "white"
           },
           "yaxis": {
            "backgroundcolor": "#E5ECF6",
            "gridcolor": "white",
            "gridwidth": 2,
            "linecolor": "white",
            "showbackground": true,
            "ticks": "",
            "zerolinecolor": "white"
           },
           "zaxis": {
            "backgroundcolor": "#E5ECF6",
            "gridcolor": "white",
            "gridwidth": 2,
            "linecolor": "white",
            "showbackground": true,
            "ticks": "",
            "zerolinecolor": "white"
           }
          },
          "shapedefaults": {
           "line": {
            "color": "#2a3f5f"
           }
          },
          "ternary": {
           "aaxis": {
            "gridcolor": "white",
            "linecolor": "white",
            "ticks": ""
           },
           "baxis": {
            "gridcolor": "white",
            "linecolor": "white",
            "ticks": ""
           },
           "bgcolor": "#E5ECF6",
           "caxis": {
            "gridcolor": "white",
            "linecolor": "white",
            "ticks": ""
           }
          },
          "title": {
           "x": 0.05
          },
          "xaxis": {
           "automargin": true,
           "gridcolor": "white",
           "linecolor": "white",
           "ticks": "",
           "title": {
            "standoff": 15
           },
           "zerolinecolor": "white",
           "zerolinewidth": 2
          },
          "yaxis": {
           "automargin": true,
           "gridcolor": "white",
           "linecolor": "white",
           "ticks": "",
           "title": {
            "standoff": 15
           },
           "zerolinecolor": "white",
           "zerolinewidth": 2
          }
         }
        },
        "xaxis": {
         "anchor": "y",
         "domain": [
          0,
          1
         ],
         "title": {
          "text": "year"
         }
        },
        "yaxis": {
         "anchor": "x",
         "domain": [
          0,
          1
         ],
         "title": {
          "text": "no_donors_kept"
         }
        }
       }
      },
      "text/html": [
       "<div>\n",
       "        \n",
       "        \n",
       "            <div id=\"467ee551-98b2-45f4-834b-ac380ba8e5fb\" class=\"plotly-graph-div\" style=\"height:525px; width:100%;\"></div>\n",
       "            <script type=\"text/javascript\">\n",
       "                require([\"plotly\"], function(Plotly) {\n",
       "                    window.PLOTLYENV=window.PLOTLYENV || {};\n",
       "                    \n",
       "                if (document.getElementById(\"467ee551-98b2-45f4-834b-ac380ba8e5fb\")) {\n",
       "                    Plotly.newPlot(\n",
       "                        '467ee551-98b2-45f4-834b-ac380ba8e5fb',\n",
       "                        [{\"hovertemplate\": \"year=%{x}<br>no_donors_kept=%{y}<extra></extra>\", \"legendgroup\": \"\", \"line\": {\"color\": \"#636efa\", \"dash\": \"solid\"}, \"mode\": \"lines\", \"name\": \"\", \"orientation\": \"h\", \"showlegend\": false, \"type\": \"scatter\", \"x\": [2013, 2014, 2015, 2016, 2017], \"xaxis\": \"x\", \"y\": [\"n/a\", 62130, 74747, 80447, 99691], \"yaxis\": \"y\"}],\n",
       "                        {\"legend\": {\"tracegroupgap\": 0}, \"margin\": {\"t\": 60}, \"template\": {\"data\": {\"bar\": [{\"error_x\": {\"color\": \"#2a3f5f\"}, \"error_y\": {\"color\": \"#2a3f5f\"}, \"marker\": {\"line\": {\"color\": \"#E5ECF6\", \"width\": 0.5}}, \"type\": \"bar\"}], \"barpolar\": [{\"marker\": {\"line\": {\"color\": \"#E5ECF6\", \"width\": 0.5}}, \"type\": \"barpolar\"}], \"carpet\": [{\"aaxis\": {\"endlinecolor\": \"#2a3f5f\", \"gridcolor\": \"white\", \"linecolor\": \"white\", \"minorgridcolor\": \"white\", \"startlinecolor\": \"#2a3f5f\"}, \"baxis\": {\"endlinecolor\": \"#2a3f5f\", \"gridcolor\": \"white\", \"linecolor\": \"white\", \"minorgridcolor\": \"white\", \"startlinecolor\": \"#2a3f5f\"}, \"type\": \"carpet\"}], \"choropleth\": [{\"colorbar\": {\"outlinewidth\": 0, \"ticks\": \"\"}, \"type\": \"choropleth\"}], \"contour\": [{\"colorbar\": {\"outlinewidth\": 0, \"ticks\": \"\"}, \"colorscale\": [[0.0, \"#0d0887\"], [0.1111111111111111, \"#46039f\"], [0.2222222222222222, \"#7201a8\"], [0.3333333333333333, \"#9c179e\"], [0.4444444444444444, \"#bd3786\"], [0.5555555555555556, \"#d8576b\"], [0.6666666666666666, \"#ed7953\"], [0.7777777777777778, \"#fb9f3a\"], [0.8888888888888888, \"#fdca26\"], [1.0, \"#f0f921\"]], \"type\": \"contour\"}], \"contourcarpet\": [{\"colorbar\": {\"outlinewidth\": 0, \"ticks\": \"\"}, \"type\": \"contourcarpet\"}], \"heatmap\": [{\"colorbar\": {\"outlinewidth\": 0, \"ticks\": \"\"}, \"colorscale\": [[0.0, \"#0d0887\"], [0.1111111111111111, \"#46039f\"], [0.2222222222222222, \"#7201a8\"], [0.3333333333333333, \"#9c179e\"], [0.4444444444444444, \"#bd3786\"], [0.5555555555555556, \"#d8576b\"], [0.6666666666666666, \"#ed7953\"], [0.7777777777777778, \"#fb9f3a\"], [0.8888888888888888, \"#fdca26\"], [1.0, \"#f0f921\"]], \"type\": \"heatmap\"}], \"heatmapgl\": [{\"colorbar\": {\"outlinewidth\": 0, \"ticks\": \"\"}, \"colorscale\": [[0.0, \"#0d0887\"], [0.1111111111111111, \"#46039f\"], [0.2222222222222222, \"#7201a8\"], [0.3333333333333333, \"#9c179e\"], [0.4444444444444444, \"#bd3786\"], [0.5555555555555556, \"#d8576b\"], [0.6666666666666666, \"#ed7953\"], [0.7777777777777778, \"#fb9f3a\"], [0.8888888888888888, \"#fdca26\"], [1.0, \"#f0f921\"]], \"type\": \"heatmapgl\"}], \"histogram\": [{\"marker\": {\"colorbar\": {\"outlinewidth\": 0, \"ticks\": \"\"}}, \"type\": \"histogram\"}], \"histogram2d\": [{\"colorbar\": {\"outlinewidth\": 0, \"ticks\": \"\"}, \"colorscale\": [[0.0, \"#0d0887\"], [0.1111111111111111, \"#46039f\"], [0.2222222222222222, \"#7201a8\"], [0.3333333333333333, \"#9c179e\"], [0.4444444444444444, \"#bd3786\"], [0.5555555555555556, \"#d8576b\"], [0.6666666666666666, \"#ed7953\"], [0.7777777777777778, \"#fb9f3a\"], [0.8888888888888888, \"#fdca26\"], [1.0, \"#f0f921\"]], \"type\": \"histogram2d\"}], \"histogram2dcontour\": [{\"colorbar\": {\"outlinewidth\": 0, \"ticks\": \"\"}, \"colorscale\": [[0.0, \"#0d0887\"], [0.1111111111111111, \"#46039f\"], [0.2222222222222222, \"#7201a8\"], [0.3333333333333333, \"#9c179e\"], [0.4444444444444444, \"#bd3786\"], [0.5555555555555556, \"#d8576b\"], [0.6666666666666666, \"#ed7953\"], [0.7777777777777778, \"#fb9f3a\"], [0.8888888888888888, \"#fdca26\"], [1.0, \"#f0f921\"]], \"type\": \"histogram2dcontour\"}], \"mesh3d\": [{\"colorbar\": {\"outlinewidth\": 0, \"ticks\": \"\"}, \"type\": \"mesh3d\"}], \"parcoords\": [{\"line\": {\"colorbar\": {\"outlinewidth\": 0, \"ticks\": \"\"}}, \"type\": \"parcoords\"}], \"pie\": [{\"automargin\": true, \"type\": \"pie\"}], \"scatter\": [{\"marker\": {\"colorbar\": {\"outlinewidth\": 0, \"ticks\": \"\"}}, \"type\": \"scatter\"}], \"scatter3d\": [{\"line\": {\"colorbar\": {\"outlinewidth\": 0, \"ticks\": \"\"}}, \"marker\": {\"colorbar\": {\"outlinewidth\": 0, \"ticks\": \"\"}}, \"type\": \"scatter3d\"}], \"scattercarpet\": [{\"marker\": {\"colorbar\": {\"outlinewidth\": 0, \"ticks\": \"\"}}, \"type\": \"scattercarpet\"}], \"scattergeo\": [{\"marker\": {\"colorbar\": {\"outlinewidth\": 0, \"ticks\": \"\"}}, \"type\": \"scattergeo\"}], \"scattergl\": [{\"marker\": {\"colorbar\": {\"outlinewidth\": 0, \"ticks\": \"\"}}, \"type\": \"scattergl\"}], \"scattermapbox\": [{\"marker\": {\"colorbar\": {\"outlinewidth\": 0, \"ticks\": \"\"}}, \"type\": \"scattermapbox\"}], \"scatterpolar\": [{\"marker\": {\"colorbar\": {\"outlinewidth\": 0, \"ticks\": \"\"}}, \"type\": \"scatterpolar\"}], \"scatterpolargl\": [{\"marker\": {\"colorbar\": {\"outlinewidth\": 0, \"ticks\": \"\"}}, \"type\": \"scatterpolargl\"}], \"scatterternary\": [{\"marker\": {\"colorbar\": {\"outlinewidth\": 0, \"ticks\": \"\"}}, \"type\": \"scatterternary\"}], \"surface\": [{\"colorbar\": {\"outlinewidth\": 0, \"ticks\": \"\"}, \"colorscale\": [[0.0, \"#0d0887\"], [0.1111111111111111, \"#46039f\"], [0.2222222222222222, \"#7201a8\"], [0.3333333333333333, \"#9c179e\"], [0.4444444444444444, \"#bd3786\"], [0.5555555555555556, \"#d8576b\"], [0.6666666666666666, \"#ed7953\"], [0.7777777777777778, \"#fb9f3a\"], [0.8888888888888888, \"#fdca26\"], [1.0, \"#f0f921\"]], \"type\": \"surface\"}], \"table\": [{\"cells\": {\"fill\": {\"color\": \"#EBF0F8\"}, \"line\": {\"color\": \"white\"}}, \"header\": {\"fill\": {\"color\": \"#C8D4E3\"}, \"line\": {\"color\": \"white\"}}, \"type\": \"table\"}]}, \"layout\": {\"annotationdefaults\": {\"arrowcolor\": \"#2a3f5f\", \"arrowhead\": 0, \"arrowwidth\": 1}, \"coloraxis\": {\"colorbar\": {\"outlinewidth\": 0, \"ticks\": \"\"}}, \"colorscale\": {\"diverging\": [[0, \"#8e0152\"], [0.1, \"#c51b7d\"], [0.2, \"#de77ae\"], [0.3, \"#f1b6da\"], [0.4, \"#fde0ef\"], [0.5, \"#f7f7f7\"], [0.6, \"#e6f5d0\"], [0.7, \"#b8e186\"], [0.8, \"#7fbc41\"], [0.9, \"#4d9221\"], [1, \"#276419\"]], \"sequential\": [[0.0, \"#0d0887\"], [0.1111111111111111, \"#46039f\"], [0.2222222222222222, \"#7201a8\"], [0.3333333333333333, \"#9c179e\"], [0.4444444444444444, \"#bd3786\"], [0.5555555555555556, \"#d8576b\"], [0.6666666666666666, \"#ed7953\"], [0.7777777777777778, \"#fb9f3a\"], [0.8888888888888888, \"#fdca26\"], [1.0, \"#f0f921\"]], \"sequentialminus\": [[0.0, \"#0d0887\"], [0.1111111111111111, \"#46039f\"], [0.2222222222222222, \"#7201a8\"], [0.3333333333333333, \"#9c179e\"], [0.4444444444444444, \"#bd3786\"], [0.5555555555555556, \"#d8576b\"], [0.6666666666666666, \"#ed7953\"], [0.7777777777777778, \"#fb9f3a\"], [0.8888888888888888, \"#fdca26\"], [1.0, \"#f0f921\"]]}, \"colorway\": [\"#636efa\", \"#EF553B\", \"#00cc96\", \"#ab63fa\", \"#FFA15A\", \"#19d3f3\", \"#FF6692\", \"#B6E880\", \"#FF97FF\", \"#FECB52\"], \"font\": {\"color\": \"#2a3f5f\"}, \"geo\": {\"bgcolor\": \"white\", \"lakecolor\": \"white\", \"landcolor\": \"#E5ECF6\", \"showlakes\": true, \"showland\": true, \"subunitcolor\": \"white\"}, \"hoverlabel\": {\"align\": \"left\"}, \"hovermode\": \"closest\", \"mapbox\": {\"style\": \"light\"}, \"paper_bgcolor\": \"white\", \"plot_bgcolor\": \"#E5ECF6\", \"polar\": {\"angularaxis\": {\"gridcolor\": \"white\", \"linecolor\": \"white\", \"ticks\": \"\"}, \"bgcolor\": \"#E5ECF6\", \"radialaxis\": {\"gridcolor\": \"white\", \"linecolor\": \"white\", \"ticks\": \"\"}}, \"scene\": {\"xaxis\": {\"backgroundcolor\": \"#E5ECF6\", \"gridcolor\": \"white\", \"gridwidth\": 2, \"linecolor\": \"white\", \"showbackground\": true, \"ticks\": \"\", \"zerolinecolor\": \"white\"}, \"yaxis\": {\"backgroundcolor\": \"#E5ECF6\", \"gridcolor\": \"white\", \"gridwidth\": 2, \"linecolor\": \"white\", \"showbackground\": true, \"ticks\": \"\", \"zerolinecolor\": \"white\"}, \"zaxis\": {\"backgroundcolor\": \"#E5ECF6\", \"gridcolor\": \"white\", \"gridwidth\": 2, \"linecolor\": \"white\", \"showbackground\": true, \"ticks\": \"\", \"zerolinecolor\": \"white\"}}, \"shapedefaults\": {\"line\": {\"color\": \"#2a3f5f\"}}, \"ternary\": {\"aaxis\": {\"gridcolor\": \"white\", \"linecolor\": \"white\", \"ticks\": \"\"}, \"baxis\": {\"gridcolor\": \"white\", \"linecolor\": \"white\", \"ticks\": \"\"}, \"bgcolor\": \"#E5ECF6\", \"caxis\": {\"gridcolor\": \"white\", \"linecolor\": \"white\", \"ticks\": \"\"}}, \"title\": {\"x\": 0.05}, \"xaxis\": {\"automargin\": true, \"gridcolor\": \"white\", \"linecolor\": \"white\", \"ticks\": \"\", \"title\": {\"standoff\": 15}, \"zerolinecolor\": \"white\", \"zerolinewidth\": 2}, \"yaxis\": {\"automargin\": true, \"gridcolor\": \"white\", \"linecolor\": \"white\", \"ticks\": \"\", \"title\": {\"standoff\": 15}, \"zerolinecolor\": \"white\", \"zerolinewidth\": 2}}}, \"xaxis\": {\"anchor\": \"y\", \"domain\": [0.0, 1.0], \"title\": {\"text\": \"year\"}}, \"yaxis\": {\"anchor\": \"x\", \"domain\": [0.0, 1.0], \"title\": {\"text\": \"no_donors_kept\"}}},\n",
       "                        {\"responsive\": true}\n",
       "                    ).then(function(){\n",
       "                            \n",
       "var gd = document.getElementById('467ee551-98b2-45f4-834b-ac380ba8e5fb');\n",
       "var x = new MutationObserver(function (mutations, observer) {{\n",
       "        var display = window.getComputedStyle(gd).display;\n",
       "        if (!display || display === 'none') {{\n",
       "            console.log([gd, 'removed!']);\n",
       "            Plotly.purge(gd);\n",
       "            observer.disconnect();\n",
       "        }}\n",
       "}});\n",
       "\n",
       "// Listen for the removal of the full notebook cells\n",
       "var notebookContainer = gd.closest('#notebook-container');\n",
       "if (notebookContainer) {{\n",
       "    x.observe(notebookContainer, {childList: true});\n",
       "}}\n",
       "\n",
       "// Listen for the clearing of the current output cell\n",
       "var outputEl = gd.closest('.output');\n",
       "if (outputEl) {{\n",
       "    x.observe(outputEl, {childList: true});\n",
       "}}\n",
       "\n",
       "                        })\n",
       "                };\n",
       "                });\n",
       "            </script>\n",
       "        </div>"
      ]
     },
     "metadata": {},
     "output_type": "display_data"
    }
   ],
   "source": [
    "fig = px.line(churn_by_year, x=\"year\", y=\"no_donors_kept\")\n",
    "fig.show()"
   ]
  },
  {
   "cell_type": "code",
   "execution_count": 101,
   "metadata": {},
   "outputs": [
    {
     "data": {
      "text/plain": [
       "behavior_2017\n",
       "downgrade        42268\n",
       "lapse_new       389060\n",
       "lapse_repeat     67085\n",
       "maintain         14211\n",
       "new             434991\n",
       "recover          39909\n",
       "upgrade          43212\n",
       "Name: id, dtype: int64"
      ]
     },
     "execution_count": 101,
     "metadata": {},
     "output_type": "execute_result"
    }
   ],
   "source": [
    "donations_13to17.query('behavior_2017 != \"none\"').groupby('behavior_2017').count()['id']"
   ]
  },
  {
   "cell_type": "code",
   "execution_count": null,
   "metadata": {},
   "outputs": [],
   "source": [
    "#donations_13to17.quantile([.1, .25, .5, .75], axis = 0)"
   ]
  },
  {
   "cell_type": "code",
   "execution_count": null,
   "metadata": {},
   "outputs": [],
   "source": [
    "d13=donations_13to17.query('amount_2013 > 0')\n",
    "d13.head()\n",
    "#d13.describe().apply(lambda x: format(x, '.0f'))"
   ]
  },
  {
   "cell_type": "code",
   "execution_count": null,
   "metadata": {},
   "outputs": [],
   "source": [
    "removetop10in13['amount_2013'].quantile([.1, .25, .5, .75]).apply(lambda x: format(x, '.2f'))"
   ]
  },
  {
   "cell_type": "code",
   "execution_count": null,
   "metadata": {},
   "outputs": [],
   "source": [
    "fig = px.bar(donations_13to17, x='gainloss_2017', y='gainloss_2017_amt', color='behavior_2017', title=\"Long-Form Input\")\n",
    "fig.show()"
   ]
  },
  {
   "cell_type": "code",
   "execution_count": null,
   "metadata": {},
   "outputs": [],
   "source": [
    "removetop10in13.amount_2013.describe().apply(lambda x: format(x, '.0f'))"
   ]
  },
  {
   "cell_type": "code",
   "execution_count": null,
   "metadata": {},
   "outputs": [],
   "source": [
    "donations_13to17['amount_total'].describe().apply(lambda x: format(x, '.0f'))"
   ]
  },
  {
   "cell_type": "code",
   "execution_count": null,
   "metadata": {},
   "outputs": [],
   "source": [
    "donations_13to17.amount_2013.hist()"
   ]
  },
  {
   "cell_type": "code",
   "execution_count": null,
   "metadata": {},
   "outputs": [],
   "source": [
    "df = donations_13to17.query('amount_2013 > 0 & amount_2013 < 1000')\n",
    "fig = px.histogram(df, x=\"amount_2013\", nbins=10, log_y=True)\n",
    "fig.show()"
   ]
  },
  {
   "cell_type": "code",
   "execution_count": null,
   "metadata": {},
   "outputs": [],
   "source": [
    "removetop10in13=donations_13to17.query('amount_2013 < 40000')"
   ]
  },
  {
   "cell_type": "code",
   "execution_count": null,
   "metadata": {},
   "outputs": [],
   "source": [
    "donations_13to17.amount_2013.nlargest(n=50)"
   ]
  },
  {
   "cell_type": "code",
   "execution_count": null,
   "metadata": {},
   "outputs": [],
   "source": [
    "donations_13to17.amount_2014.nlargest(n=50)"
   ]
  },
  {
   "cell_type": "code",
   "execution_count": null,
   "metadata": {},
   "outputs": [],
   "source": [
    "over100013=donations_13to17.query('amount_2013 >= 1000').count()['id']\n",
    "over100014=donations_13to17.query('amount_2014 >= 1000').count()['id']\n",
    "over100015=donations_13to17.query('amount_2015 >= 1000').count()['id']\n",
    "over100016=donations_13to17.query('amount_2016 >= 1000').count()['id']\n",
    "over100017=donations_13to17.query('amount_2017 >= 1000').count()['id']\n",
    "total13=donations_13to17.query('amount_2013 > 0').count()['id']\n",
    "total14=donations_13to17.query('amount_2014 > 0').count()['id']\n",
    "total15=donations_13to17.query('amount_2015 > 0').count()['id']\n",
    "total16=donations_13to17.query('amount_2016 > 0').count()['id']\n",
    "total17=donations_13to17.query('amount_2017 > 0').count()['id']\n",
    "\n",
    "\n",
    "print(over100013)\n",
    "print(over100014)\n",
    "print(over100015)\n",
    "print(over100016)\n",
    "print(over100017)\n",
    "\n",
    "print(over100013/total13*100)\n",
    "print(over100014/total14*100)\n",
    "print(over100015/total15*100)\n",
    "print(over100016/total16*100)\n",
    "print(over100017/total17*100)"
   ]
  },
  {
   "cell_type": "code",
   "execution_count": null,
   "metadata": {},
   "outputs": [],
   "source": [
    "under100013=donations_13to17.query('amount_2013 > 0 & amount_2013 < 1000').count()['id']\n",
    "under100014=donations_13to17.query('amount_2014 > 0 & amount_2014 < 1000').count()['id']\n",
    "under100015=donations_13to17.query('amount_2015 > 0 & amount_2015 < 1000').count()['id']\n",
    "under100016=donations_13to17.query('amount_2016 > 0 & amount_2016 < 1000').count()['id']\n",
    "under100017=donations_13to17.query('amount_2017 > 0 & amount_2017 < 1000').count()['id']\n",
    "\n",
    "print(under100013)\n",
    "print(under100014)\n",
    "print(under100015)\n",
    "print(under100016)\n",
    "print(under100017)"
   ]
  },
  {
   "cell_type": "code",
   "execution_count": null,
   "metadata": {},
   "outputs": [],
   "source": [
    "over1000removed13=donations_13to17.query('amount_2013 > 0 & amount_2013 < 1000')\n",
    "over1000removed13['amount_2013'].quantile([.1, .25, .5, .75]).apply(lambda x: format(x, '.2f'))"
   ]
  },
  {
   "cell_type": "code",
   "execution_count": null,
   "metadata": {},
   "outputs": [],
   "source": [
    "over1000removed13.head()"
   ]
  },
  {
   "cell_type": "code",
   "execution_count": null,
   "metadata": {},
   "outputs": [],
   "source": [
    "d17=donations_13to17.query('amount_2017 > 0')\n",
    "d17"
   ]
  },
  {
   "cell_type": "code",
   "execution_count": null,
   "metadata": {},
   "outputs": [],
   "source": [
    "d13['amount_2013'].describe()"
   ]
  },
  {
   "cell_type": "code",
   "execution_count": null,
   "metadata": {},
   "outputs": [],
   "source": [
    "d17['amount_2017'].quantile([.1, .25, .5, .75])"
   ]
  },
  {
   "cell_type": "code",
   "execution_count": null,
   "metadata": {},
   "outputs": [],
   "source": [
    "over1000removed13['amount_2013'].quantile([.1, .25, .5, .75])"
   ]
  },
  {
   "cell_type": "code",
   "execution_count": null,
   "metadata": {},
   "outputs": [],
   "source": [
    "fig = px.bar(d13, x='year', y='pop')\n",
    "fig.show()"
   ]
  },
  {
   "cell_type": "code",
   "execution_count": null,
   "metadata": {},
   "outputs": [],
   "source": [
    "fig = px.box(over1000removed13, x='years_donated',y=\"amount_2013\")\n",
    "fig.show()"
   ]
  },
  {
   "cell_type": "code",
   "execution_count": null,
   "metadata": {},
   "outputs": [],
   "source": [
    "pd.qcut(d13.amount_2013,4)"
   ]
  },
  {
   "cell_type": "code",
   "execution_count": null,
   "metadata": {},
   "outputs": [],
   "source": []
  }
 ],
 "metadata": {
  "kernelspec": {
   "display_name": "Python 3",
   "language": "python",
   "name": "python3"
  },
  "language_info": {
   "codemirror_mode": {
    "name": "ipython",
    "version": 3
   },
   "file_extension": ".py",
   "mimetype": "text/x-python",
   "name": "python",
   "nbconvert_exporter": "python",
   "pygments_lexer": "ipython3",
   "version": "3.7.4"
  }
 },
 "nbformat": 4,
 "nbformat_minor": 2
}
