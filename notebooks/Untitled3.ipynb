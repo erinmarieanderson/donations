{
 "cells": [
  {
   "cell_type": "code",
   "execution_count": 1,
   "metadata": {},
   "outputs": [
    {
     "name": "stdout",
     "output_type": "stream",
     "text": [
      "Collecting dash==1.14.0\n",
      "  Downloading https://files.pythonhosted.org/packages/1d/d1/191ad32bd9e6d10b2fc0f5d31e9e6a85fdb2642088658f75817d67bdeaea/dash-1.14.0.tar.gz (70kB)\n",
      "Requirement already satisfied: Flask>=1.0.2 in c:\\users\\erinm\\anaconda3\\lib\\site-packages (from dash==1.14.0) (1.1.1)\n",
      "Requirement already satisfied: flask-compress in c:\\users\\erinm\\anaconda3\\lib\\site-packages (from dash==1.14.0) (1.5.0)\n",
      "Requirement already satisfied: plotly in c:\\users\\erinm\\anaconda3\\lib\\site-packages (from dash==1.14.0) (4.9.0)\n",
      "Collecting dash_renderer==1.6.0 (from dash==1.14.0)\n",
      "  Downloading https://files.pythonhosted.org/packages/da/a6/ddbcd01c638a2c235bfe13fd75155b344c7b7ab1c6466fe6d46b159897ad/dash_renderer-1.6.0.tar.gz (1.2MB)\n",
      "Collecting dash-core-components==1.10.2 (from dash==1.14.0)\n",
      "  Downloading https://files.pythonhosted.org/packages/ee/74/f961bb01aa015b76c60045cf8ad5d9eb2279656f4483b42750ec3b925c9c/dash_core_components-1.10.2.tar.gz (3.4MB)\n",
      "Requirement already satisfied: dash-html-components==1.0.3 in c:\\users\\erinm\\anaconda3\\lib\\site-packages (from dash==1.14.0) (1.0.3)\n",
      "Collecting dash-table==4.9.0 (from dash==1.14.0)\n",
      "  Downloading https://files.pythonhosted.org/packages/54/9f/11347b397b840b67481f6ecadefb64de0b57d199752d5e182161a4217f1d/dash_table-4.9.0.tar.gz (1.8MB)\n",
      "Requirement already satisfied: future in c:\\users\\erinm\\anaconda3\\lib\\site-packages (from dash==1.14.0) (0.17.1)\n",
      "Requirement already satisfied: Werkzeug>=0.15 in c:\\users\\erinm\\anaconda3\\lib\\site-packages (from Flask>=1.0.2->dash==1.14.0) (0.16.0)\n",
      "Requirement already satisfied: click>=5.1 in c:\\users\\erinm\\anaconda3\\lib\\site-packages (from Flask>=1.0.2->dash==1.14.0) (7.0)\n",
      "Requirement already satisfied: itsdangerous>=0.24 in c:\\users\\erinm\\anaconda3\\lib\\site-packages (from Flask>=1.0.2->dash==1.14.0) (1.1.0)\n",
      "Requirement already satisfied: Jinja2>=2.10.1 in c:\\users\\erinm\\anaconda3\\lib\\site-packages (from Flask>=1.0.2->dash==1.14.0) (2.10.3)\n",
      "Requirement already satisfied: brotli in c:\\users\\erinm\\anaconda3\\lib\\site-packages (from flask-compress->dash==1.14.0) (1.0.7)\n",
      "Requirement already satisfied: six in c:\\users\\erinm\\anaconda3\\lib\\site-packages (from plotly->dash==1.14.0) (1.12.0)\n",
      "Requirement already satisfied: retrying>=1.3.3 in c:\\users\\erinm\\anaconda3\\lib\\site-packages (from plotly->dash==1.14.0) (1.3.3)\n",
      "Requirement already satisfied: MarkupSafe>=0.23 in c:\\users\\erinm\\anaconda3\\lib\\site-packages (from Jinja2>=2.10.1->Flask>=1.0.2->dash==1.14.0) (1.1.1)\n",
      "Building wheels for collected packages: dash, dash-renderer, dash-core-components, dash-table\n",
      "  Building wheel for dash (setup.py): started\n",
      "  Building wheel for dash (setup.py): finished with status 'done'\n",
      "  Created wheel for dash: filename=dash-1.14.0-cp37-none-any.whl size=80133 sha256=2f08bee3afe71782ba1bf0e93af59edfac400df4c6a1b74b39e130a220d4d93d\n",
      "  Stored in directory: C:\\Users\\erinm\\AppData\\Local\\pip\\Cache\\wheels\\1d\\54\\0b\\e846f762d47e8abc9234419822d013dfb2ccf957b48e411dc6\n",
      "  Building wheel for dash-renderer (setup.py): started\n",
      "  Building wheel for dash-renderer (setup.py): finished with status 'done'\n",
      "  Created wheel for dash-renderer: filename=dash_renderer-1.6.0-cp37-none-any.whl size=1182226 sha256=cb0607a1c66ec0be25e809f7d0b09253ff363056a1bbe51711d33aa34a97a187\n",
      "  Stored in directory: C:\\Users\\erinm\\AppData\\Local\\pip\\Cache\\wheels\\2a\\de\\21\\8774fe1ae2271c4747c55c5bcd3e914302a7a6e55a77d866f2\n",
      "  Building wheel for dash-core-components (setup.py): started\n",
      "  Building wheel for dash-core-components (setup.py): finished with status 'done'\n",
      "  Created wheel for dash-core-components: filename=dash_core_components-1.10.2-cp37-none-any.whl size=3457330 sha256=e9705cd6e632c64a27fc9985a388a9ef58eabc798aa4133e2247ea1a4e40186f\n",
      "  Stored in directory: C:\\Users\\erinm\\AppData\\Local\\pip\\Cache\\wheels\\2a\\38\\71\\0c7e350a8280f6c94a2024a4d16ba905dd2a86ed2aa4a093e3\n",
      "  Building wheel for dash-table (setup.py): started\n",
      "  Building wheel for dash-table (setup.py): finished with status 'done'\n",
      "  Created wheel for dash-table: filename=dash_table-4.9.0-cp37-none-any.whl size=1780774 sha256=ba59b92cb3a1309eef0428e055868c7a2fb5c08ba2c7027a98f377bf0fdda6cd\n",
      "  Stored in directory: C:\\Users\\erinm\\AppData\\Local\\pip\\Cache\\wheels\\f6\\99\\e4\\a3af0a6f2d07ace02dd25984c08294d2749818c38f44d55338\n",
      "Successfully built dash dash-renderer dash-core-components dash-table\n",
      "Installing collected packages: dash-renderer, dash-core-components, dash-table, dash\n",
      "  Found existing installation: dash-renderer 1.5.0\n",
      "    Uninstalling dash-renderer-1.5.0:\n",
      "      Successfully uninstalled dash-renderer-1.5.0\n",
      "  Found existing installation: dash-core-components 1.10.1\n",
      "    Uninstalling dash-core-components-1.10.1:\n",
      "      Successfully uninstalled dash-core-components-1.10.1\n",
      "  Found existing installation: dash-table 4.8.1\n",
      "    Uninstalling dash-table-4.8.1:\n",
      "      Successfully uninstalled dash-table-4.8.1\n",
      "  Found existing installation: dash 1.13.3\n",
      "    Uninstalling dash-1.13.3:\n",
      "      Successfully uninstalled dash-1.13.3\n",
      "Successfully installed dash-1.14.0 dash-core-components-1.10.2 dash-renderer-1.6.0 dash-table-4.9.0\n",
      "Note: you may need to restart the kernel to use updated packages.\n"
     ]
    }
   ],
   "source": [
    "pip install dash==1.14.0"
   ]
  },
  {
   "cell_type": "code",
   "execution_count": 3,
   "metadata": {},
   "outputs": [],
   "source": [
    "import dash\n",
    "import dash_core_components as dcc\n",
    "import dash_html_components as html\n",
    "import plotly.express as px\n",
    "import pandas as pd"
   ]
  },
  {
   "cell_type": "code",
   "execution_count": 4,
   "metadata": {},
   "outputs": [],
   "source": [
    "external_stylesheets = ['https://codepen.io/chriddyp/pen/bWLwgP.css']\n",
    "\n",
    "app = dash.Dash(__name__, external_stylesheets=external_stylesheets)"
   ]
  },
  {
   "cell_type": "code",
   "execution_count": 5,
   "metadata": {},
   "outputs": [],
   "source": [
    "# assume you have a \"long-form\" data frame\n",
    "# see https://plotly.com/python/px-arguments/ for more options\n",
    "df = pd.DataFrame({\n",
    "    \"Fruit\": [\"Apples\", \"Oranges\", \"Bananas\", \"Apples\", \"Oranges\", \"Bananas\"],\n",
    "    \"Amount\": [4, 1, 2, 2, 4, 5],\n",
    "    \"City\": [\"SF\", \"SF\", \"SF\", \"Montreal\", \"Montreal\", \"Montreal\"]\n",
    "})"
   ]
  },
  {
   "cell_type": "code",
   "execution_count": 8,
   "metadata": {},
   "outputs": [
    {
     "name": "stdout",
     "output_type": "stream",
     "text": [
      "Dash is running on http://127.0.0.1:8050/\n",
      "\n",
      "Dash is running on http://127.0.0.1:8050/\n",
      "\n",
      " Warning: This is a development server. Do not use app.run_server\n",
      " Warning: This is a development server. Do not use app.run_server\n",
      " in production, use a production WSGI server like gunicorn instead.\n",
      "\n",
      " in production, use a production WSGI server like gunicorn instead.\n",
      "\n",
      " * Serving Flask app \"__main__\" (lazy loading)\n",
      " * Environment: production\n",
      "   WARNING: This is a development server. Do not use it in a production deployment.\n",
      "   Use a production WSGI server instead.\n",
      " * Debug mode: off\n"
     ]
    }
   ],
   "source": [
    "fig = px.bar(df, x=\"Fruit\", y=\"Amount\", color=\"City\", barmode=\"group\")\n",
    "\n",
    "app.layout = html.Div(children=[\n",
    "    html.H1(children='Hello Dash'),\n",
    "\n",
    "    html.Div(children='''\n",
    "        Dash: A web application framework for Python.\n",
    "    '''),\n",
    "\n",
    "    dcc.Graph(\n",
    "        id='example-graph',\n",
    "        figure=fig\n",
    "    )\n",
    "])\n",
    "\n",
    "if __name__ == '__main__':\n",
    "    app.run_server()"
   ]
  },
  {
   "cell_type": "code",
   "execution_count": null,
   "metadata": {},
   "outputs": [],
   "source": []
  }
 ],
 "metadata": {
  "kernelspec": {
   "display_name": "Python 3",
   "language": "python",
   "name": "python3"
  },
  "language_info": {
   "codemirror_mode": {
    "name": "ipython",
    "version": 3
   },
   "file_extension": ".py",
   "mimetype": "text/x-python",
   "name": "python",
   "nbconvert_exporter": "python",
   "pygments_lexer": "ipython3",
   "version": "3.7.4"
  }
 },
 "nbformat": 4,
 "nbformat_minor": 2
}
