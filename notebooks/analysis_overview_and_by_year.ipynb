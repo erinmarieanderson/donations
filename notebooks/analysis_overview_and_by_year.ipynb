{
 "cells": [
  {
   "cell_type": "code",
   "execution_count": 23,
   "metadata": {},
   "outputs": [],
   "source": [
    "import numpy as np\n",
    "import pandas as pd\n",
    "import plotly.express as px\n",
    "import plotly.graph_objects as go\n",
    "from plotly.subplots import make_subplots\n",
    "\n",
    "import seaborn as sns\n",
    "import matplotlib.pyplot as plt\n",
    "sns.set_style(\"white\")\n",
    "%matplotlib inline"
   ]
  },
  {
   "cell_type": "code",
   "execution_count": 2,
   "metadata": {},
   "outputs": [],
   "source": [
    "donations_13to17=pd.read_pickle('donations_13to17.pkl')"
   ]
  },
  {
   "cell_type": "code",
   "execution_count": 3,
   "metadata": {},
   "outputs": [
    {
     "name": "stdout",
     "output_type": "stream",
     "text": [
      "id\n",
      "cohort_yr\n",
      "amount_total\n",
      "amount_yr1\n",
      "amount_yr2\n",
      "amount_yr3\n",
      "amount_yr4\n",
      "amount_yr5\n",
      "amount_2013\n",
      "amount_2014\n",
      "amount_2015\n",
      "amount_2016\n",
      "amount_2017\n",
      "total_giving_years\n",
      "max_consec_giving_years\n",
      "count_total\n",
      "count_2013\n",
      "count_2014\n",
      "count_2015\n",
      "count_2016\n",
      "count_2017\n",
      "recovered_count\n",
      "recovered_amount\n",
      "lapsed_count\n",
      "lapsed_amount\n",
      "lapsed_amount_2013\n",
      "lapsed_amount_2014\n",
      "lapsed_amount_2015\n",
      "lapsed_amount_2016\n",
      "lapsed_amount_2017\n",
      "upgraded_amount_2013\n",
      "upgraded_amount_2014\n",
      "upgraded_amount_2015\n",
      "upgraded_amount_2016\n",
      "upgraded_amount_2017\n",
      "downgraded_amount_2013\n",
      "downgraded_amount_2014\n",
      "downgraded_amount_2015\n",
      "downgraded_amount_2016\n",
      "downgraded_amount_2017\n",
      "amount_01_2013\n",
      "amount_02_2013\n",
      "amount_03_2013\n",
      "amount_04_2013\n",
      "amount_05_2013\n",
      "amount_06_2013\n",
      "amount_07_2013\n",
      "amount_08_2013\n",
      "amount_09_2013\n",
      "amount_10_2013\n",
      "amount_11_2013\n",
      "amount_12_2013\n",
      "amount_01_2014\n",
      "amount_02_2014\n",
      "amount_03_2014\n",
      "amount_04_2014\n",
      "amount_05_2014\n",
      "amount_06_2014\n",
      "amount_07_2014\n",
      "amount_08_2014\n",
      "amount_09_2014\n",
      "amount_10_2014\n",
      "amount_11_2014\n",
      "amount_12_2014\n",
      "amount_01_2015\n",
      "amount_02_2015\n",
      "amount_03_2015\n",
      "amount_04_2015\n",
      "amount_05_2015\n",
      "amount_06_2015\n",
      "amount_07_2015\n",
      "amount_08_2015\n",
      "amount_09_2015\n",
      "amount_10_2015\n",
      "amount_11_2015\n",
      "amount_12_2015\n",
      "amount_01_2016\n",
      "amount_02_2016\n",
      "amount_03_2016\n",
      "amount_04_2016\n",
      "amount_05_2016\n",
      "amount_06_2016\n",
      "amount_07_2016\n",
      "amount_08_2016\n",
      "amount_09_2016\n",
      "amount_10_2016\n",
      "amount_11_2016\n",
      "amount_12_2016\n",
      "amount_01_2017\n",
      "amount_02_2017\n",
      "amount_03_2017\n",
      "amount_04_2017\n",
      "amount_05_2017\n",
      "amount_06_2017\n",
      "amount_07_2017\n",
      "amount_08_2017\n",
      "amount_09_2017\n",
      "amount_10_2017\n",
      "amount_11_2017\n",
      "amount_12_2017\n",
      "count_yr1\n",
      "count_yr2\n",
      "count_yr3\n",
      "count_yr4\n",
      "count_yr5\n",
      "amount_01_yr1\n",
      "amount_02_yr1\n",
      "amount_03_yr1\n",
      "amount_04_yr1\n",
      "amount_05_yr1\n",
      "amount_06_yr1\n",
      "amount_07_yr1\n",
      "amount_08_yr1\n",
      "amount_09_yr1\n",
      "amount_10_yr1\n",
      "amount_11_yr1\n",
      "amount_12_yr1\n",
      "amount_01_yr2\n",
      "amount_02_yr2\n",
      "amount_03_yr2\n",
      "amount_04_yr2\n",
      "amount_05_yr2\n",
      "amount_06_yr2\n",
      "amount_07_yr2\n",
      "amount_08_yr2\n",
      "amount_09_yr2\n",
      "amount_10_yr2\n",
      "amount_11_yr2\n",
      "amount_12_yr2\n",
      "amount_01_yr3\n",
      "amount_02_yr3\n",
      "amount_03_yr3\n",
      "amount_04_yr3\n",
      "amount_05_yr3\n",
      "amount_06_yr3\n",
      "amount_07_yr3\n",
      "amount_08_yr3\n",
      "amount_09_yr3\n",
      "amount_10_yr3\n",
      "amount_11_yr3\n",
      "amount_12_yr3\n",
      "amount_01_yr4\n",
      "amount_02_yr4\n",
      "amount_03_yr4\n",
      "amount_04_yr4\n",
      "amount_05_yr4\n",
      "amount_06_yr4\n",
      "amount_07_yr4\n",
      "amount_08_yr4\n",
      "amount_09_yr4\n",
      "amount_10_yr4\n",
      "amount_11_yr4\n",
      "amount_12_yr4\n",
      "amount_01_yr5\n",
      "amount_02_yr5\n",
      "amount_03_yr5\n",
      "amount_04_yr5\n",
      "amount_05_yr5\n",
      "amount_06_yr5\n",
      "amount_07_yr5\n",
      "amount_08_yr5\n",
      "amount_09_yr5\n",
      "amount_10_yr5\n",
      "amount_11_yr5\n",
      "amount_12_yr5\n",
      "years_donated\n",
      "perc_years_donated\n",
      "donor_profile\n"
     ]
    }
   ],
   "source": [
    "for col in donations_13to17.columns:\n",
    "    print(col)"
   ]
  },
  {
   "cell_type": "code",
   "execution_count": 4,
   "metadata": {},
   "outputs": [
    {
     "data": {
      "text/html": [
       "<div>\n",
       "<style scoped>\n",
       "    .dataframe tbody tr th:only-of-type {\n",
       "        vertical-align: middle;\n",
       "    }\n",
       "\n",
       "    .dataframe tbody tr th {\n",
       "        vertical-align: top;\n",
       "    }\n",
       "\n",
       "    .dataframe thead th {\n",
       "        text-align: right;\n",
       "    }\n",
       "</style>\n",
       "<table border=\"1\" class=\"dataframe\">\n",
       "  <thead>\n",
       "    <tr style=\"text-align: right;\">\n",
       "      <th></th>\n",
       "      <th>id</th>\n",
       "      <th>cohort_yr</th>\n",
       "      <th>amount_total</th>\n",
       "      <th>amount_yr1</th>\n",
       "      <th>amount_yr2</th>\n",
       "      <th>amount_yr3</th>\n",
       "      <th>amount_yr4</th>\n",
       "      <th>amount_yr5</th>\n",
       "      <th>amount_2013</th>\n",
       "      <th>amount_2014</th>\n",
       "      <th>...</th>\n",
       "      <th>amount_06_yr5</th>\n",
       "      <th>amount_07_yr5</th>\n",
       "      <th>amount_08_yr5</th>\n",
       "      <th>amount_09_yr5</th>\n",
       "      <th>amount_10_yr5</th>\n",
       "      <th>amount_11_yr5</th>\n",
       "      <th>amount_12_yr5</th>\n",
       "      <th>years_donated</th>\n",
       "      <th>perc_years_donated</th>\n",
       "      <th>donor_profile</th>\n",
       "    </tr>\n",
       "  </thead>\n",
       "  <tbody>\n",
       "    <tr>\n",
       "      <td>0</td>\n",
       "      <td>1f4b5b6e68445c6c4a0509b3aca93f38</td>\n",
       "      <td>cohort15</td>\n",
       "      <td>120941.51</td>\n",
       "      <td>18211.38</td>\n",
       "      <td>40085.15</td>\n",
       "      <td>62644.98</td>\n",
       "      <td>NaN</td>\n",
       "      <td>NaN</td>\n",
       "      <td>0.0</td>\n",
       "      <td>0.0</td>\n",
       "      <td>...</td>\n",
       "      <td>NaN</td>\n",
       "      <td>NaN</td>\n",
       "      <td>NaN</td>\n",
       "      <td>NaN</td>\n",
       "      <td>NaN</td>\n",
       "      <td>NaN</td>\n",
       "      <td>NaN</td>\n",
       "      <td>3</td>\n",
       "      <td>0.6</td>\n",
       "      <td>repeat</td>\n",
       "    </tr>\n",
       "    <tr>\n",
       "      <td>1</td>\n",
       "      <td>4aaab6d244bf3599682239ed5591af8a</td>\n",
       "      <td>cohort16</td>\n",
       "      <td>25.00</td>\n",
       "      <td>25.00</td>\n",
       "      <td>0.00</td>\n",
       "      <td>NaN</td>\n",
       "      <td>NaN</td>\n",
       "      <td>NaN</td>\n",
       "      <td>0.0</td>\n",
       "      <td>0.0</td>\n",
       "      <td>...</td>\n",
       "      <td>NaN</td>\n",
       "      <td>NaN</td>\n",
       "      <td>NaN</td>\n",
       "      <td>NaN</td>\n",
       "      <td>NaN</td>\n",
       "      <td>NaN</td>\n",
       "      <td>NaN</td>\n",
       "      <td>1</td>\n",
       "      <td>0.2</td>\n",
       "      <td>one_time</td>\n",
       "    </tr>\n",
       "    <tr>\n",
       "      <td>2</td>\n",
       "      <td>0b0765dc9c759adc48a07688ba25e94e</td>\n",
       "      <td>cohort15</td>\n",
       "      <td>60.00</td>\n",
       "      <td>20.00</td>\n",
       "      <td>40.00</td>\n",
       "      <td>0.00</td>\n",
       "      <td>NaN</td>\n",
       "      <td>NaN</td>\n",
       "      <td>0.0</td>\n",
       "      <td>0.0</td>\n",
       "      <td>...</td>\n",
       "      <td>NaN</td>\n",
       "      <td>NaN</td>\n",
       "      <td>NaN</td>\n",
       "      <td>NaN</td>\n",
       "      <td>NaN</td>\n",
       "      <td>NaN</td>\n",
       "      <td>NaN</td>\n",
       "      <td>2</td>\n",
       "      <td>0.4</td>\n",
       "      <td>repeat</td>\n",
       "    </tr>\n",
       "    <tr>\n",
       "      <td>3</td>\n",
       "      <td>377944ad61f72d800b25ec1862aec363</td>\n",
       "      <td>cohort16</td>\n",
       "      <td>25.00</td>\n",
       "      <td>25.00</td>\n",
       "      <td>0.00</td>\n",
       "      <td>NaN</td>\n",
       "      <td>NaN</td>\n",
       "      <td>NaN</td>\n",
       "      <td>0.0</td>\n",
       "      <td>0.0</td>\n",
       "      <td>...</td>\n",
       "      <td>NaN</td>\n",
       "      <td>NaN</td>\n",
       "      <td>NaN</td>\n",
       "      <td>NaN</td>\n",
       "      <td>NaN</td>\n",
       "      <td>NaN</td>\n",
       "      <td>NaN</td>\n",
       "      <td>1</td>\n",
       "      <td>0.2</td>\n",
       "      <td>one_time</td>\n",
       "    </tr>\n",
       "    <tr>\n",
       "      <td>4</td>\n",
       "      <td>6d5b22d39e68c656071a842732c63a0c</td>\n",
       "      <td>cohort15</td>\n",
       "      <td>95.00</td>\n",
       "      <td>70.00</td>\n",
       "      <td>25.00</td>\n",
       "      <td>0.00</td>\n",
       "      <td>NaN</td>\n",
       "      <td>NaN</td>\n",
       "      <td>0.0</td>\n",
       "      <td>0.0</td>\n",
       "      <td>...</td>\n",
       "      <td>NaN</td>\n",
       "      <td>NaN</td>\n",
       "      <td>NaN</td>\n",
       "      <td>NaN</td>\n",
       "      <td>NaN</td>\n",
       "      <td>NaN</td>\n",
       "      <td>NaN</td>\n",
       "      <td>2</td>\n",
       "      <td>0.4</td>\n",
       "      <td>repeat</td>\n",
       "    </tr>\n",
       "  </tbody>\n",
       "</table>\n",
       "<p>5 rows × 168 columns</p>\n",
       "</div>"
      ],
      "text/plain": [
       "                                 id cohort_yr  amount_total  amount_yr1  \\\n",
       "0  1f4b5b6e68445c6c4a0509b3aca93f38  cohort15     120941.51    18211.38   \n",
       "1  4aaab6d244bf3599682239ed5591af8a  cohort16         25.00       25.00   \n",
       "2  0b0765dc9c759adc48a07688ba25e94e  cohort15         60.00       20.00   \n",
       "3  377944ad61f72d800b25ec1862aec363  cohort16         25.00       25.00   \n",
       "4  6d5b22d39e68c656071a842732c63a0c  cohort15         95.00       70.00   \n",
       "\n",
       "   amount_yr2  amount_yr3  amount_yr4  amount_yr5  amount_2013  amount_2014  \\\n",
       "0    40085.15    62644.98         NaN         NaN          0.0          0.0   \n",
       "1        0.00         NaN         NaN         NaN          0.0          0.0   \n",
       "2       40.00        0.00         NaN         NaN          0.0          0.0   \n",
       "3        0.00         NaN         NaN         NaN          0.0          0.0   \n",
       "4       25.00        0.00         NaN         NaN          0.0          0.0   \n",
       "\n",
       "   ...  amount_06_yr5  amount_07_yr5  amount_08_yr5  amount_09_yr5  \\\n",
       "0  ...            NaN            NaN            NaN            NaN   \n",
       "1  ...            NaN            NaN            NaN            NaN   \n",
       "2  ...            NaN            NaN            NaN            NaN   \n",
       "3  ...            NaN            NaN            NaN            NaN   \n",
       "4  ...            NaN            NaN            NaN            NaN   \n",
       "\n",
       "   amount_10_yr5  amount_11_yr5  amount_12_yr5  years_donated  \\\n",
       "0            NaN            NaN            NaN              3   \n",
       "1            NaN            NaN            NaN              1   \n",
       "2            NaN            NaN            NaN              2   \n",
       "3            NaN            NaN            NaN              1   \n",
       "4            NaN            NaN            NaN              2   \n",
       "\n",
       "   perc_years_donated  donor_profile  \n",
       "0                 0.6         repeat  \n",
       "1                 0.2       one_time  \n",
       "2                 0.4         repeat  \n",
       "3                 0.2       one_time  \n",
       "4                 0.4         repeat  \n",
       "\n",
       "[5 rows x 168 columns]"
      ]
     },
     "execution_count": 4,
     "metadata": {},
     "output_type": "execute_result"
    }
   ],
   "source": [
    "donations_13to17.head()"
   ]
  },
  {
   "cell_type": "markdown",
   "metadata": {},
   "source": [
    "### Information about the donors"
   ]
  },
  {
   "cell_type": "code",
   "execution_count": 9,
   "metadata": {},
   "outputs": [
    {
     "data": {
      "text/plain": [
       "array([<matplotlib.axes._subplots.AxesSubplot object at 0x00000284E5DBDCC8>,\n",
       "       <matplotlib.axes._subplots.AxesSubplot object at 0x00000284E5E0DB08>,\n",
       "       <matplotlib.axes._subplots.AxesSubplot object at 0x00000284D7DF4E08>,\n",
       "       <matplotlib.axes._subplots.AxesSubplot object at 0x00000284D7E2C4C8>,\n",
       "       <matplotlib.axes._subplots.AxesSubplot object at 0x00000284D7E5EB48>,\n",
       "       <matplotlib.axes._subplots.AxesSubplot object at 0x00000284D7E97208>,\n",
       "       <matplotlib.axes._subplots.AxesSubplot object at 0x00000284D7EC9888>,\n",
       "       <matplotlib.axes._subplots.AxesSubplot object at 0x00000284D7EF9F08>,\n",
       "       <matplotlib.axes._subplots.AxesSubplot object at 0x00000284D7F01CC8>,\n",
       "       <matplotlib.axes._subplots.AxesSubplot object at 0x00000284D7F3C548>,\n",
       "       <matplotlib.axes._subplots.AxesSubplot object at 0x00000284D7F9AD88>,\n",
       "       <matplotlib.axes._subplots.AxesSubplot object at 0x00000284D7FD3D48>,\n",
       "       <matplotlib.axes._subplots.AxesSubplot object at 0x00000284D800AD08>,\n",
       "       <matplotlib.axes._subplots.AxesSubplot object at 0x00000284D8043D08>,\n",
       "       <matplotlib.axes._subplots.AxesSubplot object at 0x00000284D807DCC8>,\n",
       "       <matplotlib.axes._subplots.AxesSubplot object at 0x00000284D80B5C88>,\n",
       "       <matplotlib.axes._subplots.AxesSubplot object at 0x00000284D80EBC88>,\n",
       "       <matplotlib.axes._subplots.AxesSubplot object at 0x00000284D8124C48>,\n",
       "       <matplotlib.axes._subplots.AxesSubplot object at 0x00000284D815DBC8>,\n",
       "       <matplotlib.axes._subplots.AxesSubplot object at 0x00000284D8194BC8>,\n",
       "       <matplotlib.axes._subplots.AxesSubplot object at 0x00000284D81CDBC8>,\n",
       "       <matplotlib.axes._subplots.AxesSubplot object at 0x00000284D8204B88>,\n",
       "       <matplotlib.axes._subplots.AxesSubplot object at 0x00000284D823BB48>,\n",
       "       <matplotlib.axes._subplots.AxesSubplot object at 0x00000284D8273A88>,\n",
       "       <matplotlib.axes._subplots.AxesSubplot object at 0x00000284D82ABA48>,\n",
       "       <matplotlib.axes._subplots.AxesSubplot object at 0x00000284D82E4A08>,\n",
       "       <matplotlib.axes._subplots.AxesSubplot object at 0x00000284D831DA08>,\n",
       "       <matplotlib.axes._subplots.AxesSubplot object at 0x00000284D83569C8>,\n",
       "       <matplotlib.axes._subplots.AxesSubplot object at 0x00000284D838E948>,\n",
       "       <matplotlib.axes._subplots.AxesSubplot object at 0x00000284D83C5948>,\n",
       "       <matplotlib.axes._subplots.AxesSubplot object at 0x00000284D83FD948>,\n",
       "       <matplotlib.axes._subplots.AxesSubplot object at 0x00000284D8435908>,\n",
       "       <matplotlib.axes._subplots.AxesSubplot object at 0x00000284D846D8C8>,\n",
       "       <matplotlib.axes._subplots.AxesSubplot object at 0x00000284D84A48C8>,\n",
       "       <matplotlib.axes._subplots.AxesSubplot object at 0x00000284D84DD7C8>,\n",
       "       <matplotlib.axes._subplots.AxesSubplot object at 0x00000284D8516788>,\n",
       "       <matplotlib.axes._subplots.AxesSubplot object at 0x00000284D854E788>,\n",
       "       <matplotlib.axes._subplots.AxesSubplot object at 0x00000284D8584748>,\n",
       "       <matplotlib.axes._subplots.AxesSubplot object at 0x00000284D85BD708>,\n",
       "       <matplotlib.axes._subplots.AxesSubplot object at 0x00000284D85F2608>,\n",
       "       <matplotlib.axes._subplots.AxesSubplot object at 0x00000284D862A5C8>,\n",
       "       <matplotlib.axes._subplots.AxesSubplot object at 0x00000284D8662588>,\n",
       "       <matplotlib.axes._subplots.AxesSubplot object at 0x00000284D869A548>,\n",
       "       <matplotlib.axes._subplots.AxesSubplot object at 0x00000284D86D2548>,\n",
       "       <matplotlib.axes._subplots.AxesSubplot object at 0x00000284D870C508>,\n",
       "       <matplotlib.axes._subplots.AxesSubplot object at 0x00000284D8743488>,\n",
       "       <matplotlib.axes._subplots.AxesSubplot object at 0x00000284D877C488>,\n",
       "       <matplotlib.axes._subplots.AxesSubplot object at 0x00000284D87B4448>,\n",
       "       <matplotlib.axes._subplots.AxesSubplot object at 0x00000284D87EC408>,\n",
       "       <matplotlib.axes._subplots.AxesSubplot object at 0x00000284D8824408>,\n",
       "       <matplotlib.axes._subplots.AxesSubplot object at 0x00000284D885C348>,\n",
       "       <matplotlib.axes._subplots.AxesSubplot object at 0x00000284D8893308>,\n",
       "       <matplotlib.axes._subplots.AxesSubplot object at 0x00000284D88CB2C8>,\n",
       "       <matplotlib.axes._subplots.AxesSubplot object at 0x00000284D89042C8>,\n",
       "       <matplotlib.axes._subplots.AxesSubplot object at 0x00000284D893D288>,\n",
       "       <matplotlib.axes._subplots.AxesSubplot object at 0x00000284D8973208>,\n",
       "       <matplotlib.axes._subplots.AxesSubplot object at 0x00000284D89AE208>,\n",
       "       <matplotlib.axes._subplots.AxesSubplot object at 0x00000284D89E41C8>,\n",
       "       <matplotlib.axes._subplots.AxesSubplot object at 0x00000284D8A1A188>,\n",
       "       <matplotlib.axes._subplots.AxesSubplot object at 0x00000284D8A53188>,\n",
       "       <matplotlib.axes._subplots.AxesSubplot object at 0x00000284D8A8E0C8>,\n",
       "       <matplotlib.axes._subplots.AxesSubplot object at 0x00000284D8AC4088>,\n",
       "       <matplotlib.axes._subplots.AxesSubplot object at 0x00000284D8AFE088>,\n",
       "       <matplotlib.axes._subplots.AxesSubplot object at 0x00000284D8B37088>,\n",
       "       <matplotlib.axes._subplots.AxesSubplot object at 0x00000284D8B6F048>,\n",
       "       <matplotlib.axes._subplots.AxesSubplot object at 0x00000284D8BA1F48>,\n",
       "       <matplotlib.axes._subplots.AxesSubplot object at 0x00000284D8BD9F48>,\n",
       "       <matplotlib.axes._subplots.AxesSubplot object at 0x00000284D8C11F08>,\n",
       "       <matplotlib.axes._subplots.AxesSubplot object at 0x00000284E5E58EC8>,\n",
       "       <matplotlib.axes._subplots.AxesSubplot object at 0x00000284E5E8FEC8>,\n",
       "       <matplotlib.axes._subplots.AxesSubplot object at 0x00000284E5EC8E88>,\n",
       "       <matplotlib.axes._subplots.AxesSubplot object at 0x00000284E5F00DC8>,\n",
       "       <matplotlib.axes._subplots.AxesSubplot object at 0x00000284E5F39DC8>,\n",
       "       <matplotlib.axes._subplots.AxesSubplot object at 0x00000284E5F71D88>,\n",
       "       <matplotlib.axes._subplots.AxesSubplot object at 0x00000284E5FAAD48>,\n",
       "       <matplotlib.axes._subplots.AxesSubplot object at 0x00000284E5FE1D08>,\n",
       "       <matplotlib.axes._subplots.AxesSubplot object at 0x00000284E601ACC8>,\n",
       "       <matplotlib.axes._subplots.AxesSubplot object at 0x00000284E6051C88>,\n",
       "       <matplotlib.axes._subplots.AxesSubplot object at 0x00000284E608AC48>,\n",
       "       <matplotlib.axes._subplots.AxesSubplot object at 0x00000284E60C2C48>,\n",
       "       <matplotlib.axes._subplots.AxesSubplot object at 0x00000284E60FAC08>,\n",
       "       <matplotlib.axes._subplots.AxesSubplot object at 0x00000284E6131B88>,\n",
       "       <matplotlib.axes._subplots.AxesSubplot object at 0x00000284E6169B88>,\n",
       "       <matplotlib.axes._subplots.AxesSubplot object at 0x00000284E61A2B48>,\n",
       "       <matplotlib.axes._subplots.AxesSubplot object at 0x00000284E61DCB08>,\n",
       "       <matplotlib.axes._subplots.AxesSubplot object at 0x00000284E6214AC8>,\n",
       "       <matplotlib.axes._subplots.AxesSubplot object at 0x00000284E624BA48>,\n",
       "       <matplotlib.axes._subplots.AxesSubplot object at 0x00000284E6282A08>,\n",
       "       <matplotlib.axes._subplots.AxesSubplot object at 0x00000284E62BA9C8>,\n",
       "       <matplotlib.axes._subplots.AxesSubplot object at 0x00000284E62F39C8>,\n",
       "       <matplotlib.axes._subplots.AxesSubplot object at 0x00000284E6329988>,\n",
       "       <matplotlib.axes._subplots.AxesSubplot object at 0x00000284E6364908>,\n",
       "       <matplotlib.axes._subplots.AxesSubplot object at 0x00000284E639D908>,\n",
       "       <matplotlib.axes._subplots.AxesSubplot object at 0x00000284E63D38C8>,\n",
       "       <matplotlib.axes._subplots.AxesSubplot object at 0x00000284E640A888>,\n",
       "       <matplotlib.axes._subplots.AxesSubplot object at 0x00000284E6443848>,\n",
       "       <matplotlib.axes._subplots.AxesSubplot object at 0x00000284E647B848>,\n",
       "       <matplotlib.axes._subplots.AxesSubplot object at 0x00000284E64B3748>,\n",
       "       <matplotlib.axes._subplots.AxesSubplot object at 0x00000284E64EC708>,\n",
       "       <matplotlib.axes._subplots.AxesSubplot object at 0x00000284E6525708>,\n",
       "       <matplotlib.axes._subplots.AxesSubplot object at 0x00000284E655B6C8>,\n",
       "       <matplotlib.axes._subplots.AxesSubplot object at 0x00000284E6598E88>,\n",
       "       <matplotlib.axes._subplots.AxesSubplot object at 0x00000284E65CC608>,\n",
       "       <matplotlib.axes._subplots.AxesSubplot object at 0x00000284E66035C8>,\n",
       "       <matplotlib.axes._subplots.AxesSubplot object at 0x00000284E663C588>,\n",
       "       <matplotlib.axes._subplots.AxesSubplot object at 0x00000284E6675588>,\n",
       "       <matplotlib.axes._subplots.AxesSubplot object at 0x00000284E66AB548>,\n",
       "       <matplotlib.axes._subplots.AxesSubplot object at 0x00000284E66E4508>,\n",
       "       <matplotlib.axes._subplots.AxesSubplot object at 0x00000284E671C488>,\n",
       "       <matplotlib.axes._subplots.AxesSubplot object at 0x00000284E6755488>,\n",
       "       <matplotlib.axes._subplots.AxesSubplot object at 0x00000284E678C448>,\n",
       "       <matplotlib.axes._subplots.AxesSubplot object at 0x00000284E67C4408>,\n",
       "       <matplotlib.axes._subplots.AxesSubplot object at 0x00000284E67FE408>,\n",
       "       <matplotlib.axes._subplots.AxesSubplot object at 0x00000284E6835348>,\n",
       "       <matplotlib.axes._subplots.AxesSubplot object at 0x00000284E6F3C308>,\n",
       "       <matplotlib.axes._subplots.AxesSubplot object at 0x00000284E6F74308>,\n",
       "       <matplotlib.axes._subplots.AxesSubplot object at 0x00000284E6FAD2C8>,\n",
       "       <matplotlib.axes._subplots.AxesSubplot object at 0x00000284E6FE6288>,\n",
       "       <matplotlib.axes._subplots.AxesSubplot object at 0x00000284E701D208>,\n",
       "       <matplotlib.axes._subplots.AxesSubplot object at 0x00000284E7055208>,\n",
       "       <matplotlib.axes._subplots.AxesSubplot object at 0x00000284E708C1C8>,\n",
       "       <matplotlib.axes._subplots.AxesSubplot object at 0x00000284E70C5188>,\n",
       "       <matplotlib.axes._subplots.AxesSubplot object at 0x00000284E70FC188>,\n",
       "       <matplotlib.axes._subplots.AxesSubplot object at 0x00000284E71360C8>,\n",
       "       <matplotlib.axes._subplots.AxesSubplot object at 0x00000284E716F088>,\n",
       "       <matplotlib.axes._subplots.AxesSubplot object at 0x00000284E71A8088>,\n",
       "       <matplotlib.axes._subplots.AxesSubplot object at 0x00000284E71DF048>,\n",
       "       <matplotlib.axes._subplots.AxesSubplot object at 0x00000284E7211FC8>,\n",
       "       <matplotlib.axes._subplots.AxesSubplot object at 0x00000284E7249F48>,\n",
       "       <matplotlib.axes._subplots.AxesSubplot object at 0x00000284E7280F48>,\n",
       "       <matplotlib.axes._subplots.AxesSubplot object at 0x00000284E72BAF08>,\n",
       "       <matplotlib.axes._subplots.AxesSubplot object at 0x00000284E72F2EC8>,\n",
       "       <matplotlib.axes._subplots.AxesSubplot object at 0x00000284E732AEC8>,\n",
       "       <matplotlib.axes._subplots.AxesSubplot object at 0x00000284E7363E88>,\n",
       "       <matplotlib.axes._subplots.AxesSubplot object at 0x00000284E739BDC8>,\n",
       "       <matplotlib.axes._subplots.AxesSubplot object at 0x00000284E73D1DC8>,\n",
       "       <matplotlib.axes._subplots.AxesSubplot object at 0x00000284E7409D88>,\n",
       "       <matplotlib.axes._subplots.AxesSubplot object at 0x00000284E7443D48>,\n",
       "       <matplotlib.axes._subplots.AxesSubplot object at 0x00000284E747AD08>,\n",
       "       <matplotlib.axes._subplots.AxesSubplot object at 0x00000284E74B2CC8>,\n",
       "       <matplotlib.axes._subplots.AxesSubplot object at 0x00000284E74EBC88>,\n",
       "       <matplotlib.axes._subplots.AxesSubplot object at 0x00000284E7525C48>,\n",
       "       <matplotlib.axes._subplots.AxesSubplot object at 0x00000284E755AC48>,\n",
       "       <matplotlib.axes._subplots.AxesSubplot object at 0x00000284E7594C08>,\n",
       "       <matplotlib.axes._subplots.AxesSubplot object at 0x00000284E75CDB88>,\n",
       "       <matplotlib.axes._subplots.AxesSubplot object at 0x00000284E7604B88>,\n",
       "       <matplotlib.axes._subplots.AxesSubplot object at 0x00000284E763CB48>,\n",
       "       <matplotlib.axes._subplots.AxesSubplot object at 0x00000284E7674B08>,\n",
       "       <matplotlib.axes._subplots.AxesSubplot object at 0x00000284E76ABB08>,\n",
       "       <matplotlib.axes._subplots.AxesSubplot object at 0x00000284E76E3A48>,\n",
       "       <matplotlib.axes._subplots.AxesSubplot object at 0x00000284E771BA08>,\n",
       "       <matplotlib.axes._subplots.AxesSubplot object at 0x00000284E77539C8>,\n",
       "       <matplotlib.axes._subplots.AxesSubplot object at 0x00000284E778C9C8>,\n",
       "       <matplotlib.axes._subplots.AxesSubplot object at 0x00000284E77C5988>,\n",
       "       <matplotlib.axes._subplots.AxesSubplot object at 0x00000284E77FF908>,\n",
       "       <matplotlib.axes._subplots.AxesSubplot object at 0x00000284E78348C8>,\n",
       "       <matplotlib.axes._subplots.AxesSubplot object at 0x00000284E786D888>,\n",
       "       <matplotlib.axes._subplots.AxesSubplot object at 0x00000284E78A5888>,\n",
       "       <matplotlib.axes._subplots.AxesSubplot object at 0x00000284E78DD888>,\n",
       "       <matplotlib.axes._subplots.AxesSubplot object at 0x00000284E7914848>,\n",
       "       <matplotlib.axes._subplots.AxesSubplot object at 0x00000284E794D788>,\n",
       "       <matplotlib.axes._subplots.AxesSubplot object at 0x00000284E7985788>,\n",
       "       <matplotlib.axes._subplots.AxesSubplot object at 0x00000284E79BE748>,\n",
       "       <matplotlib.axes._subplots.AxesSubplot object at 0x00000284E79F5708>,\n",
       "       <matplotlib.axes._subplots.AxesSubplot object at 0x00000284E7A2D708>,\n",
       "       <matplotlib.axes._subplots.AxesSubplot object at 0x00000284E7A6AE48>,\n",
       "       <matplotlib.axes._subplots.AxesSubplot object at 0x00000284E7A9C608>],\n",
       "      dtype=object)"
      ]
     },
     "execution_count": 9,
     "metadata": {},
     "output_type": "execute_result"
    },
    {
     "data": {
      "image/png": "[encoded data removed]",
      "text/plain": [
       "<Figure size 576x576 with 167 Axes>"
      ]
     },
     "metadata": {},
     "output_type": "display_data"
    }
   ],
   "source": [
    "donations_13to17.groupby('donor_profile').count().plot(kind='pie', subplots=True, figsize=(8, 8))"
   ]
  },
  {
   "cell_type": "code",
   "execution_count": 72,
   "metadata": {},
   "outputs": [],
   "source": [
    "typebycohort=donations_13to17.groupby(['cohort_yr', 'donor_profile'])['id'].count().reset_index()"
   ]
  },
  {
   "cell_type": "code",
   "execution_count": 76,
   "metadata": {},
   "outputs": [
    {
     "data": {
      "text/html": [
       "<div>\n",
       "<style scoped>\n",
       "    .dataframe tbody tr th:only-of-type {\n",
       "        vertical-align: middle;\n",
       "    }\n",
       "\n",
       "    .dataframe tbody tr th {\n",
       "        vertical-align: top;\n",
       "    }\n",
       "\n",
       "    .dataframe thead th {\n",
       "        text-align: right;\n",
       "    }\n",
       "</style>\n",
       "<table border=\"1\" class=\"dataframe\">\n",
       "  <thead>\n",
       "    <tr style=\"text-align: right;\">\n",
       "      <th></th>\n",
       "      <th>cohort_yr</th>\n",
       "      <th>donor_profile</th>\n",
       "      <th>id</th>\n",
       "    </tr>\n",
       "  </thead>\n",
       "  <tbody>\n",
       "    <tr>\n",
       "      <td>0</td>\n",
       "      <td>cohort13</td>\n",
       "      <td>one_time</td>\n",
       "      <td>227826</td>\n",
       "    </tr>\n",
       "    <tr>\n",
       "      <td>1</td>\n",
       "      <td>cohort13</td>\n",
       "      <td>repeat</td>\n",
       "      <td>92276</td>\n",
       "    </tr>\n",
       "    <tr>\n",
       "      <td>2</td>\n",
       "      <td>cohort14</td>\n",
       "      <td>one_time</td>\n",
       "      <td>248002</td>\n",
       "    </tr>\n",
       "    <tr>\n",
       "      <td>3</td>\n",
       "      <td>cohort14</td>\n",
       "      <td>repeat</td>\n",
       "      <td>72673</td>\n",
       "    </tr>\n",
       "    <tr>\n",
       "      <td>4</td>\n",
       "      <td>cohort15</td>\n",
       "      <td>one_time</td>\n",
       "      <td>292542</td>\n",
       "    </tr>\n",
       "    <tr>\n",
       "      <td>5</td>\n",
       "      <td>cohort15</td>\n",
       "      <td>repeat</td>\n",
       "      <td>62599</td>\n",
       "    </tr>\n",
       "    <tr>\n",
       "      <td>6</td>\n",
       "      <td>cohort16</td>\n",
       "      <td>one_time</td>\n",
       "      <td>389060</td>\n",
       "    </tr>\n",
       "    <tr>\n",
       "      <td>7</td>\n",
       "      <td>cohort16</td>\n",
       "      <td>repeat</td>\n",
       "      <td>56538</td>\n",
       "    </tr>\n",
       "    <tr>\n",
       "      <td>8</td>\n",
       "      <td>cohort17</td>\n",
       "      <td>one_time</td>\n",
       "      <td>434994</td>\n",
       "    </tr>\n",
       "  </tbody>\n",
       "</table>\n",
       "</div>"
      ],
      "text/plain": [
       "  cohort_yr donor_profile      id\n",
       "0  cohort13      one_time  227826\n",
       "1  cohort13        repeat   92276\n",
       "2  cohort14      one_time  248002\n",
       "3  cohort14        repeat   72673\n",
       "4  cohort15      one_time  292542\n",
       "5  cohort15        repeat   62599\n",
       "6  cohort16      one_time  389060\n",
       "7  cohort16        repeat   56538\n",
       "8  cohort17      one_time  434994"
      ]
     },
     "execution_count": 76,
     "metadata": {},
     "output_type": "execute_result"
    }
   ],
   "source": [
    "typebycohort"
   ]
  },
  {
   "cell_type": "code",
   "execution_count": 87,
   "metadata": {},
   "outputs": [],
   "source": [
    "c13=typebycohort[typebycohort['cohort_yr'].isin(['cohort13'])]\n",
    "c14=typebycohort[typebycohort['cohort_yr'].isin(['cohort14'])]\n",
    "c15=typebycohort[typebycohort['cohort_yr'].isin(['cohort15'])]\n",
    "c16=typebycohort[typebycohort['cohort_yr'].isin(['cohort16'])]\n",
    "c17=typebycohort[typebycohort['cohort_yr'].isin(['cohort17'])]"
   ]
  },
  {
   "cell_type": "code",
   "execution_count": 88,
   "metadata": {},
   "outputs": [
    {
     "data": {
      "text/html": [
       "<div>\n",
       "<style scoped>\n",
       "    .dataframe tbody tr th:only-of-type {\n",
       "        vertical-align: middle;\n",
       "    }\n",
       "\n",
       "    .dataframe tbody tr th {\n",
       "        vertical-align: top;\n",
       "    }\n",
       "\n",
       "    .dataframe thead th {\n",
       "        text-align: right;\n",
       "    }\n",
       "</style>\n",
       "<table border=\"1\" class=\"dataframe\">\n",
       "  <thead>\n",
       "    <tr style=\"text-align: right;\">\n",
       "      <th></th>\n",
       "      <th>cohort_yr</th>\n",
       "      <th>donor_profile</th>\n",
       "      <th>id</th>\n",
       "    </tr>\n",
       "  </thead>\n",
       "  <tbody>\n",
       "    <tr>\n",
       "      <td>0</td>\n",
       "      <td>cohort13</td>\n",
       "      <td>one_time</td>\n",
       "      <td>227826</td>\n",
       "    </tr>\n",
       "    <tr>\n",
       "      <td>1</td>\n",
       "      <td>cohort13</td>\n",
       "      <td>repeat</td>\n",
       "      <td>92276</td>\n",
       "    </tr>\n",
       "  </tbody>\n",
       "</table>\n",
       "</div>"
      ],
      "text/plain": [
       "  cohort_yr donor_profile      id\n",
       "0  cohort13      one_time  227826\n",
       "1  cohort13        repeat   92276"
      ]
     },
     "execution_count": 88,
     "metadata": {},
     "output_type": "execute_result"
    }
   ],
   "source": [
    "c13\n",
    "#['donor_profile'].tolist()\n",
    "#c1=col_one_list.query('cohort_yr=cohort13')\n",
    "\n",
    "#col_two_list = typeofdonor_bycohort['id'].tolist()"
   ]
  },
  {
   "cell_type": "code",
   "execution_count": 121,
   "metadata": {},
   "outputs": [
    {
     "ename": "AttributeError",
     "evalue": "'numpy.ndarray' object has no attribute 'plot'",
     "output_type": "error",
     "traceback": [
      "\u001b[1;31m---------------------------------------------------------------------------\u001b[0m",
      "\u001b[1;31mAttributeError\u001b[0m                            Traceback (most recent call last)",
      "\u001b[1;32m<ipython-input-121-bbb7da301597>\u001b[0m in \u001b[0;36m<module>\u001b[1;34m\u001b[0m\n\u001b[0;32m      1\u001b[0m \u001b[0mfig\u001b[0m\u001b[1;33m,\u001b[0m \u001b[0maxes\u001b[0m \u001b[1;33m=\u001b[0m \u001b[0mplt\u001b[0m\u001b[1;33m.\u001b[0m\u001b[0msubplots\u001b[0m\u001b[1;33m(\u001b[0m\u001b[1;33m)\u001b[0m\u001b[1;33m\u001b[0m\u001b[1;33m\u001b[0m\u001b[0m\n\u001b[0;32m      2\u001b[0m \u001b[1;33m\u001b[0m\u001b[0m\n\u001b[1;32m----> 3\u001b[1;33m \u001b[0max\u001b[0m\u001b[1;33m.\u001b[0m\u001b[0mplot\u001b[0m\u001b[1;33m(\u001b[0m\u001b[0mc13\u001b[0m\u001b[1;33m.\u001b[0m\u001b[0mdonor_profile\u001b[0m\u001b[1;33m,\u001b[0m \u001b[0mc13\u001b[0m\u001b[1;33m.\u001b[0m\u001b[0mid\u001b[0m\u001b[1;33m)\u001b[0m\u001b[1;33m\u001b[0m\u001b[1;33m\u001b[0m\u001b[0m\n\u001b[0m\u001b[0;32m      4\u001b[0m \u001b[0max\u001b[0m\u001b[1;33m.\u001b[0m\u001b[0mplot\u001b[0m\u001b[1;33m(\u001b[0m\u001b[0mc14\u001b[0m\u001b[1;33m.\u001b[0m\u001b[0mdonor_profile\u001b[0m\u001b[1;33m,\u001b[0m \u001b[0mc14\u001b[0m\u001b[1;33m.\u001b[0m\u001b[0mid\u001b[0m\u001b[1;33m)\u001b[0m\u001b[1;33m\u001b[0m\u001b[1;33m\u001b[0m\u001b[0m\n",
      "\u001b[1;31mAttributeError\u001b[0m: 'numpy.ndarray' object has no attribute 'plot'"
     ]
    },
    {
     "data": {
      "image/png": "[encoded data removed]",
      "text/plain": [
       "<Figure size 432x288 with 1 Axes>"
      ]
     },
     "metadata": {
      "needs_background": "light"
     },
     "output_type": "display_data"
    }
   ],
   "source": [
    "fig, axes = plt.subplots()\n",
    "\n",
    "ax.plot(c13.donor_profile, c13.id)\n",
    "ax.plot(c14.donor_profile, c14.id)"
   ]
  },
  {
   "cell_type": "code",
   "execution_count": 102,
   "metadata": {},
   "outputs": [],
   "source": [
    "c13list=c13['donor_profile'].tolist()\n",
    "c13list2=c13['id'].tolist()"
   ]
  },
  {
   "cell_type": "code",
   "execution_count": 104,
   "metadata": {},
   "outputs": [
    {
     "ename": "TypeError",
     "evalue": "'module' object is not callable",
     "output_type": "error",
     "traceback": [
      "\u001b[1;31m---------------------------------------------------------------------------\u001b[0m",
      "\u001b[1;31mTypeError\u001b[0m                                 Traceback (most recent call last)",
      "\u001b[1;32m<ipython-input-104-674e51ad2f07>\u001b[0m in \u001b[0;36m<module>\u001b[1;34m\u001b[0m\n\u001b[0;32m      1\u001b[0m \u001b[0mfig\u001b[0m \u001b[1;33m=\u001b[0m \u001b[0mmake_subplots\u001b[0m\u001b[1;33m(\u001b[0m\u001b[0mrows\u001b[0m\u001b[1;33m=\u001b[0m\u001b[1;36m1\u001b[0m\u001b[1;33m,\u001b[0m \u001b[0mcols\u001b[0m\u001b[1;33m=\u001b[0m\u001b[1;36m1\u001b[0m\u001b[1;33m,\u001b[0m\u001b[0mspecs\u001b[0m\u001b[1;33m=\u001b[0m\u001b[1;33m[\u001b[0m\u001b[1;33m[\u001b[0m\u001b[1;33m{\u001b[0m\u001b[1;34m'type'\u001b[0m\u001b[1;33m:\u001b[0m\u001b[1;34m'domain'\u001b[0m\u001b[1;33m}\u001b[0m\u001b[1;33m]\u001b[0m\u001b[1;33m]\u001b[0m\u001b[1;33m)\u001b[0m\u001b[1;33m\u001b[0m\u001b[1;33m\u001b[0m\u001b[0m\n\u001b[0;32m      2\u001b[0m \u001b[1;33m\u001b[0m\u001b[0m\n\u001b[1;32m----> 3\u001b[1;33m \u001b[0mfig\u001b[0m\u001b[1;33m.\u001b[0m\u001b[0madd_trace\u001b[0m\u001b[1;33m(\u001b[0m\u001b[0mgo\u001b[0m\u001b[1;33m.\u001b[0m\u001b[0mpie\u001b[0m\u001b[1;33m(\u001b[0m\u001b[0mlabels\u001b[0m\u001b[1;33m=\u001b[0m\u001b[0mc13list\u001b[0m\u001b[1;33m,\u001b[0m \u001b[0mvalues\u001b[0m\u001b[1;33m=\u001b[0m\u001b[0mc13list2\u001b[0m\u001b[1;33m)\u001b[0m\u001b[1;33m,\u001b[0m \u001b[1;36m1\u001b[0m\u001b[1;33m,\u001b[0m\u001b[1;36m1\u001b[0m\u001b[1;33m)\u001b[0m\u001b[1;33m\u001b[0m\u001b[1;33m\u001b[0m\u001b[0m\n\u001b[0m\u001b[0;32m      4\u001b[0m \u001b[1;33m\u001b[0m\u001b[0m\n\u001b[0;32m      5\u001b[0m \u001b[1;31m#fig.add_trace(go.pie(labels=c14.donor_profile, values=c14.id), 1,2)\u001b[0m\u001b[1;33m\u001b[0m\u001b[1;33m\u001b[0m\u001b[1;33m\u001b[0m\u001b[0m\n",
      "\u001b[1;31mTypeError\u001b[0m: 'module' object is not callable"
     ]
    }
   ],
   "source": [
    "fig = make_subplots(rows=1, cols=1,specs=[[{'type':'domain'}]])\n",
    "\n",
    "fig.add_trace(go.pie(labels=c13list, values=c13list2), 1,1)\n",
    "\n",
    "#fig.add_trace(go.pie(labels=c14.donor_profile, values=c14.id), 1,2)\n",
    "\n",
    "#fig = make_subplots(rows=1, cols=2, specs=[[{'type':'domain'}, {'type':'domain'}]])\n",
    "#fig.add_trace(go.Pie(labels=labels, values=[16, 15, 12, 6, 5, 4, 42], name=\"GHG Emissions\"),\n",
    " #             1, 1)\n",
    "#fig.add_trace(go.Pie(labels=labels, values=[27, 11, 25, 8, 1, 3, 25], name=\"CO2 Emissions\"),\n",
    " #             1, 2)\n",
    "\n",
    "\n",
    "#fig.add_trace(\n",
    "#go.Scatter(donations_13to17.query('cohort_yr =cohort14').donor_profile, y=donations_13to17.query('cohort_yr =cohort14').amount_total),    row=1, col=2\n",
    "#)\n",
    "\n",
    "#fig.update_layout(height=600, width=800, title_text=\"Side By Side Subplots\")\n",
    "fig.show()"
   ]
  },
  {
   "cell_type": "code",
   "execution_count": 37,
   "metadata": {},
   "outputs": [
    {
     "ename": "SyntaxError",
     "evalue": "invalid syntax (<ipython-input-37-cc189128d47a>, line 15)",
     "output_type": "error",
     "traceback": [
      "\u001b[1;36m  File \u001b[1;32m\"<ipython-input-37-cc189128d47a>\"\u001b[1;36m, line \u001b[1;32m15\u001b[0m\n\u001b[1;33m    fig.show()\u001b[0m\n\u001b[1;37m      ^\u001b[0m\n\u001b[1;31mSyntaxError\u001b[0m\u001b[1;31m:\u001b[0m invalid syntax\n"
     ]
    }
   ],
   "source": [
    "fig = make_subplots(rows=1, cols=2)\n",
    "\n",
    "fig.add_trace(\n",
    "    go.Scatter(x=typeofdonor_bycohort.cohort_yr, typeofdonor_bycohort.id),\n",
    "    row=1, col=1\n",
    ")\n",
    "\n",
    "fig.add_trace(\n",
    "    go.Scatter(x=typeofdonor_bycohort.cohort_yr, typeofdonor_bycohort.id,\n",
    "    row=1, col=2\n",
    ")\n",
    "    \n",
    "\n",
    "#fig.update_layout(height=600, width=800, title_text=\"Side By Side Subplots\")\n",
    "fig.show()"
   ]
  },
  {
   "cell_type": "code",
   "execution_count": 26,
   "metadata": {},
   "outputs": [
    {
     "ename": "ValueError",
     "evalue": "\nThe 'specs' argument to make_subplots must be a 2D list of dictionaries with dimensions (1 x 5).\n    Received value of type <class 'list'>: [[{'type': 'domain'}, {'type': 'domain'}]]",
     "output_type": "error",
     "traceback": [
      "\u001b[1;31m---------------------------------------------------------------------------\u001b[0m",
      "\u001b[1;31mValueError\u001b[0m                                Traceback (most recent call last)",
      "\u001b[1;32m<ipython-input-26-6cb6d611dceb>\u001b[0m in \u001b[0;36m<module>\u001b[1;34m\u001b[0m\n\u001b[0;32m      4\u001b[0m \u001b[1;33m\u001b[0m\u001b[0m\n\u001b[0;32m      5\u001b[0m \u001b[1;31m# Create subplots: use 'domain' type for Pie subplot\u001b[0m\u001b[1;33m\u001b[0m\u001b[1;33m\u001b[0m\u001b[1;33m\u001b[0m\u001b[0m\n\u001b[1;32m----> 6\u001b[1;33m \u001b[0mfig\u001b[0m \u001b[1;33m=\u001b[0m \u001b[0mmake_subplots\u001b[0m\u001b[1;33m(\u001b[0m\u001b[0mrows\u001b[0m\u001b[1;33m=\u001b[0m\u001b[1;36m1\u001b[0m\u001b[1;33m,\u001b[0m \u001b[0mcols\u001b[0m\u001b[1;33m=\u001b[0m\u001b[1;36m5\u001b[0m\u001b[1;33m,\u001b[0m \u001b[0mspecs\u001b[0m\u001b[1;33m=\u001b[0m\u001b[1;33m[\u001b[0m\u001b[1;33m[\u001b[0m\u001b[1;33m{\u001b[0m\u001b[1;34m'type'\u001b[0m\u001b[1;33m:\u001b[0m\u001b[1;34m'domain'\u001b[0m\u001b[1;33m}\u001b[0m\u001b[1;33m,\u001b[0m \u001b[1;33m{\u001b[0m\u001b[1;34m'type'\u001b[0m\u001b[1;33m:\u001b[0m\u001b[1;34m'domain'\u001b[0m\u001b[1;33m}\u001b[0m\u001b[1;33m]\u001b[0m\u001b[1;33m]\u001b[0m\u001b[1;33m)\u001b[0m\u001b[1;33m\u001b[0m\u001b[1;33m\u001b[0m\u001b[0m\n\u001b[0m\u001b[0;32m      7\u001b[0m fig.add_trace(go.Pie(labels=labels, values=values, name=\"cohort13\"),\n\u001b[0;32m      8\u001b[0m               1, 1)\n",
      "\u001b[1;32m~\\Anaconda3\\lib\\site-packages\\plotly\\subplots.py\u001b[0m in \u001b[0;36mmake_subplots\u001b[1;34m(rows, cols, shared_xaxes, shared_yaxes, start_cell, print_grid, horizontal_spacing, vertical_spacing, subplot_titles, column_widths, row_heights, specs, insets, column_titles, row_titles, x_title, y_title, **kwargs)\u001b[0m\n\u001b[0;32m    439\u001b[0m \u001b[0mdimensions\u001b[0m \u001b[1;33m(\u001b[0m\u001b[1;33m{\u001b[0m\u001b[0mrows\u001b[0m\u001b[1;33m}\u001b[0m \u001b[0mx\u001b[0m \u001b[1;33m{\u001b[0m\u001b[0mcols\u001b[0m\u001b[1;33m}\u001b[0m\u001b[1;33m)\u001b[0m\u001b[1;33m.\u001b[0m\u001b[1;33m\u001b[0m\u001b[1;33m\u001b[0m\u001b[0m\n\u001b[0;32m    440\u001b[0m     Received value of type {typ}: {val}\"\"\".format(\n\u001b[1;32m--> 441\u001b[1;33m                 \u001b[0mrows\u001b[0m\u001b[1;33m=\u001b[0m\u001b[0mrows\u001b[0m\u001b[1;33m,\u001b[0m \u001b[0mcols\u001b[0m\u001b[1;33m=\u001b[0m\u001b[0mcols\u001b[0m\u001b[1;33m,\u001b[0m \u001b[0mtyp\u001b[0m\u001b[1;33m=\u001b[0m\u001b[0mtype\u001b[0m\u001b[1;33m(\u001b[0m\u001b[0mspecs\u001b[0m\u001b[1;33m)\u001b[0m\u001b[1;33m,\u001b[0m \u001b[0mval\u001b[0m\u001b[1;33m=\u001b[0m\u001b[0mrepr\u001b[0m\u001b[1;33m(\u001b[0m\u001b[0mspecs\u001b[0m\u001b[1;33m)\u001b[0m\u001b[1;33m\u001b[0m\u001b[1;33m\u001b[0m\u001b[0m\n\u001b[0m\u001b[0;32m    442\u001b[0m             )\n\u001b[0;32m    443\u001b[0m         )\n",
      "\u001b[1;31mValueError\u001b[0m: \nThe 'specs' argument to make_subplots must be a 2D list of dictionaries with dimensions (1 x 5).\n    Received value of type <class 'list'>: [[{'type': 'domain'}, {'type': 'domain'}]]"
     ]
    }
   ],
   "source": [
    "labels = typeofdonor_bycohort.donor_profile\n",
    "\n",
    "values=typeofdonor_bycohort.id\n",
    "\n",
    "# Create subplots: use 'domain' type for Pie subplot\n",
    "fig = make_subplots(rows=1, cols=5, specs=[[{'type':'domain'}, {'type':'domain'}]])\n",
    "fig.add_trace(go.Pie(labels=labels, values=values, name=\"cohort13\"),\n",
    "              1, 1)\n",
    "fig.add_trace(go.Pie(labels=labels, values=values, name=\"cohort14\"),\n",
    "              1, 2)\n",
    "\n",
    "# Use `hole` to create a donut-like pie chart\n",
    "fig.update_traces(hole=.4, hoverinfo=\"label+percent+name\")\n",
    "\n",
    "fig.update_layout(\n",
    "    title_text=\"Donor Type by Cohort\",\n",
    "    # Add annotations in the center of the donut pies.\n",
    "    annotations=[dict(text='GHG', x=0.18, y=0.5, font_size=20, showarrow=False),\n",
    "                 dict(text='CO2', x=0.82, y=0.5, font_size=20, showarrow=False)])\n",
    "fig.show()"
   ]
  },
  {
   "cell_type": "code",
   "execution_count": 18,
   "metadata": {},
   "outputs": [
    {
     "data": {
      "application/vnd.plotly.v1+json": {
       "config": {
        "plotlyServerURL": "https://plot.ly"
       },
       "data": [
        {
         "domain": {
          "x": [
           0,
           1
          ],
          "y": [
           0,
           1
          ]
         },
         "hovertemplate": "donor_profile=%{label}<br>id=%{value}<extra></extra>",
         "labels": [
          "one_time",
          "repeat"
         ],
         "legendgroup": "",
         "name": "",
         "showlegend": true,
         "type": "pie",
         "values": [
          1592424,
          284086
         ]
        }
       ],
       "layout": {
        "legend": {
         "tracegroupgap": 0
        },
        "template": {
         "data": {
          "bar": [
           {
            "error_x": {
             "color": "#2a3f5f"
            },
            "error_y": {
             "color": "#2a3f5f"
            },
            "marker": {
             "line": {
              "color": "#E5ECF6",
              "width": 0.5
             }
            },
            "type": "bar"
           }
          ],
          "barpolar": [
           {
            "marker": {
             "line": {
              "color": "#E5ECF6",
              "width": 0.5
             }
            },
            "type": "barpolar"
           }
          ],
          "carpet": [
           {
            "aaxis": {
             "endlinecolor": "#2a3f5f",
             "gridcolor": "white",
             "linecolor": "white",
             "minorgridcolor": "white",
             "startlinecolor": "#2a3f5f"
            },
            "baxis": {
             "endlinecolor": "#2a3f5f",
             "gridcolor": "white",
             "linecolor": "white",
             "minorgridcolor": "white",
             "startlinecolor": "#2a3f5f"
            },
            "type": "carpet"
           }
          ],
          "choropleth": [
           {
            "colorbar": {
             "outlinewidth": 0,
             "ticks": ""
            },
            "type": "choropleth"
           }
          ],
          "contour": [
           {
            "colorbar": {
             "outlinewidth": 0,
             "ticks": ""
            },
            "colorscale": [
             [
              0,
              "#0d0887"
             ],
             [
              0.1111111111111111,
              "#46039f"
             ],
             [
              0.2222222222222222,
              "#7201a8"
             ],
             [
              0.3333333333333333,
              "#9c179e"
             ],
             [
              0.4444444444444444,
              "#bd3786"
             ],
             [
              0.5555555555555556,
              "#d8576b"
             ],
             [
              0.6666666666666666,
              "#ed7953"
             ],
             [
              0.7777777777777778,
              "#fb9f3a"
             ],
             [
              0.8888888888888888,
              "#fdca26"
             ],
             [
              1,
              "#f0f921"
             ]
            ],
            "type": "contour"
           }
          ],
          "contourcarpet": [
           {
            "colorbar": {
             "outlinewidth": 0,
             "ticks": ""
            },
            "type": "contourcarpet"
           }
          ],
          "heatmap": [
           {
            "colorbar": {
             "outlinewidth": 0,
             "ticks": ""
            },
            "colorscale": [
             [
              0,
              "#0d0887"
             ],
             [
              0.1111111111111111,
              "#46039f"
             ],
             [
              0.2222222222222222,
              "#7201a8"
             ],
             [
              0.3333333333333333,
              "#9c179e"
             ],
             [
              0.4444444444444444,
              "#bd3786"
             ],
             [
              0.5555555555555556,
              "#d8576b"
             ],
             [
              0.6666666666666666,
              "#ed7953"
             ],
             [
              0.7777777777777778,
              "#fb9f3a"
             ],
             [
              0.8888888888888888,
              "#fdca26"
             ],
             [
              1,
              "#f0f921"
             ]
            ],
            "type": "heatmap"
           }
          ],
          "heatmapgl": [
           {
            "colorbar": {
             "outlinewidth": 0,
             "ticks": ""
            },
            "colorscale": [
             [
              0,
              "#0d0887"
             ],
             [
              0.1111111111111111,
              "#46039f"
             ],
             [
              0.2222222222222222,
              "#7201a8"
             ],
             [
              0.3333333333333333,
              "#9c179e"
             ],
             [
              0.4444444444444444,
              "#bd3786"
             ],
             [
              0.5555555555555556,
              "#d8576b"
             ],
             [
              0.6666666666666666,
              "#ed7953"
             ],
             [
              0.7777777777777778,
              "#fb9f3a"
             ],
             [
              0.8888888888888888,
              "#fdca26"
             ],
             [
              1,
              "#f0f921"
             ]
            ],
            "type": "heatmapgl"
           }
          ],
          "histogram": [
           {
            "marker": {
             "colorbar": {
              "outlinewidth": 0,
              "ticks": ""
             }
            },
            "type": "histogram"
           }
          ],
          "histogram2d": [
           {
            "colorbar": {
             "outlinewidth": 0,
             "ticks": ""
            },
            "colorscale": [
             [
              0,
              "#0d0887"
             ],
             [
              0.1111111111111111,
              "#46039f"
             ],
             [
              0.2222222222222222,
              "#7201a8"
             ],
             [
              0.3333333333333333,
              "#9c179e"
             ],
             [
              0.4444444444444444,
              "#bd3786"
             ],
             [
              0.5555555555555556,
              "#d8576b"
             ],
             [
              0.6666666666666666,
              "#ed7953"
             ],
             [
              0.7777777777777778,
              "#fb9f3a"
             ],
             [
              0.8888888888888888,
              "#fdca26"
             ],
             [
              1,
              "#f0f921"
             ]
            ],
            "type": "histogram2d"
           }
          ],
          "histogram2dcontour": [
           {
            "colorbar": {
             "outlinewidth": 0,
             "ticks": ""
            },
            "colorscale": [
             [
              0,
              "#0d0887"
             ],
             [
              0.1111111111111111,
              "#46039f"
             ],
             [
              0.2222222222222222,
              "#7201a8"
             ],
             [
              0.3333333333333333,
              "#9c179e"
             ],
             [
              0.4444444444444444,
              "#bd3786"
             ],
             [
              0.5555555555555556,
              "#d8576b"
             ],
             [
              0.6666666666666666,
              "#ed7953"
             ],
             [
              0.7777777777777778,
              "#fb9f3a"
             ],
             [
              0.8888888888888888,
              "#fdca26"
             ],
             [
              1,
              "#f0f921"
             ]
            ],
            "type": "histogram2dcontour"
           }
          ],
          "mesh3d": [
           {
            "colorbar": {
             "outlinewidth": 0,
             "ticks": ""
            },
            "type": "mesh3d"
           }
          ],
          "parcoords": [
           {
            "line": {
             "colorbar": {
              "outlinewidth": 0,
              "ticks": ""
             }
            },
            "type": "parcoords"
           }
          ],
          "pie": [
           {
            "automargin": true,
            "type": "pie"
           }
          ],
          "scatter": [
           {
            "marker": {
             "colorbar": {
              "outlinewidth": 0,
              "ticks": ""
             }
            },
            "type": "scatter"
           }
          ],
          "scatter3d": [
           {
            "line": {
             "colorbar": {
              "outlinewidth": 0,
              "ticks": ""
             }
            },
            "marker": {
             "colorbar": {
              "outlinewidth": 0,
              "ticks": ""
             }
            },
            "type": "scatter3d"
           }
          ],
          "scattercarpet": [
           {
            "marker": {
             "colorbar": {
              "outlinewidth": 0,
              "ticks": ""
             }
            },
            "type": "scattercarpet"
           }
          ],
          "scattergeo": [
           {
            "marker": {
             "colorbar": {
              "outlinewidth": 0,
              "ticks": ""
             }
            },
            "type": "scattergeo"
           }
          ],
          "scattergl": [
           {
            "marker": {
             "colorbar": {
              "outlinewidth": 0,
              "ticks": ""
             }
            },
            "type": "scattergl"
           }
          ],
          "scattermapbox": [
           {
            "marker": {
             "colorbar": {
              "outlinewidth": 0,
              "ticks": ""
             }
            },
            "type": "scattermapbox"
           }
          ],
          "scatterpolar": [
           {
            "marker": {
             "colorbar": {
              "outlinewidth": 0,
              "ticks": ""
             }
            },
            "type": "scatterpolar"
           }
          ],
          "scatterpolargl": [
           {
            "marker": {
             "colorbar": {
              "outlinewidth": 0,
              "ticks": ""
             }
            },
            "type": "scatterpolargl"
           }
          ],
          "scatterternary": [
           {
            "marker": {
             "colorbar": {
              "outlinewidth": 0,
              "ticks": ""
             }
            },
            "type": "scatterternary"
           }
          ],
          "surface": [
           {
            "colorbar": {
             "outlinewidth": 0,
             "ticks": ""
            },
            "colorscale": [
             [
              0,
              "#0d0887"
             ],
             [
              0.1111111111111111,
              "#46039f"
             ],
             [
              0.2222222222222222,
              "#7201a8"
             ],
             [
              0.3333333333333333,
              "#9c179e"
             ],
             [
              0.4444444444444444,
              "#bd3786"
             ],
             [
              0.5555555555555556,
              "#d8576b"
             ],
             [
              0.6666666666666666,
              "#ed7953"
             ],
             [
              0.7777777777777778,
              "#fb9f3a"
             ],
             [
              0.8888888888888888,
              "#fdca26"
             ],
             [
              1,
              "#f0f921"
             ]
            ],
            "type": "surface"
           }
          ],
          "table": [
           {
            "cells": {
             "fill": {
              "color": "#EBF0F8"
             },
             "line": {
              "color": "white"
             }
            },
            "header": {
             "fill": {
              "color": "#C8D4E3"
             },
             "line": {
              "color": "white"
             }
            },
            "type": "table"
           }
          ]
         },
         "layout": {
          "annotationdefaults": {
           "arrowcolor": "#2a3f5f",
           "arrowhead": 0,
           "arrowwidth": 1
          },
          "coloraxis": {
           "colorbar": {
            "outlinewidth": 0,
            "ticks": ""
           }
          },
          "colorscale": {
           "diverging": [
            [
             0,
             "#8e0152"
            ],
            [
             0.1,
             "#c51b7d"
            ],
            [
             0.2,
             "#de77ae"
            ],
            [
             0.3,
             "#f1b6da"
            ],
            [
             0.4,
             "#fde0ef"
            ],
            [
             0.5,
             "#f7f7f7"
            ],
            [
             0.6,
             "#e6f5d0"
            ],
            [
             0.7,
             "#b8e186"
            ],
            [
             0.8,
             "#7fbc41"
            ],
            [
             0.9,
             "#4d9221"
            ],
            [
             1,
             "#276419"
            ]
           ],
           "sequential": [
            [
             0,
             "#0d0887"
            ],
            [
             0.1111111111111111,
             "#46039f"
            ],
            [
             0.2222222222222222,
             "#7201a8"
            ],
            [
             0.3333333333333333,
             "#9c179e"
            ],
            [
             0.4444444444444444,
             "#bd3786"
            ],
            [
             0.5555555555555556,
             "#d8576b"
            ],
            [
             0.6666666666666666,
             "#ed7953"
            ],
            [
             0.7777777777777778,
             "#fb9f3a"
            ],
            [
             0.8888888888888888,
             "#fdca26"
            ],
            [
             1,
             "#f0f921"
            ]
           ],
           "sequentialminus": [
            [
             0,
             "#0d0887"
            ],
            [
             0.1111111111111111,
             "#46039f"
            ],
            [
             0.2222222222222222,
             "#7201a8"
            ],
            [
             0.3333333333333333,
             "#9c179e"
            ],
            [
             0.4444444444444444,
             "#bd3786"
            ],
            [
             0.5555555555555556,
             "#d8576b"
            ],
            [
             0.6666666666666666,
             "#ed7953"
            ],
            [
             0.7777777777777778,
             "#fb9f3a"
            ],
            [
             0.8888888888888888,
             "#fdca26"
            ],
            [
             1,
             "#f0f921"
            ]
           ]
          },
          "colorway": [
           "#636efa",
           "#EF553B",
           "#00cc96",
           "#ab63fa",
           "#FFA15A",
           "#19d3f3",
           "#FF6692",
           "#B6E880",
           "#FF97FF",
           "#FECB52"
          ],
          "font": {
           "color": "#2a3f5f"
          },
          "geo": {
           "bgcolor": "white",
           "lakecolor": "white",
           "landcolor": "#E5ECF6",
           "showlakes": true,
           "showland": true,
           "subunitcolor": "white"
          },
          "hoverlabel": {
           "align": "left"
          },
          "hovermode": "closest",
          "mapbox": {
           "style": "light"
          },
          "paper_bgcolor": "white",
          "plot_bgcolor": "#E5ECF6",
          "polar": {
           "angularaxis": {
            "gridcolor": "white",
            "linecolor": "white",
            "ticks": ""
           },
           "bgcolor": "#E5ECF6",
           "radialaxis": {
            "gridcolor": "white",
            "linecolor": "white",
            "ticks": ""
           }
          },
          "scene": {
           "xaxis": {
            "backgroundcolor": "#E5ECF6",
            "gridcolor": "white",
            "gridwidth": 2,
            "linecolor": "white",
            "showbackground": true,
            "ticks": "",
            "zerolinecolor": "white"
           },
           "yaxis": {
            "backgroundcolor": "#E5ECF6",
            "gridcolor": "white",
            "gridwidth": 2,
            "linecolor": "white",
            "showbackground": true,
            "ticks": "",
            "zerolinecolor": "white"
           },
           "zaxis": {
            "backgroundcolor": "#E5ECF6",
            "gridcolor": "white",
            "gridwidth": 2,
            "linecolor": "white",
            "showbackground": true,
            "ticks": "",
            "zerolinecolor": "white"
           }
          },
          "shapedefaults": {
           "line": {
            "color": "#2a3f5f"
           }
          },
          "ternary": {
           "aaxis": {
            "gridcolor": "white",
            "linecolor": "white",
            "ticks": ""
           },
           "baxis": {
            "gridcolor": "white",
            "linecolor": "white",
            "ticks": ""
           },
           "bgcolor": "#E5ECF6",
           "caxis": {
            "gridcolor": "white",
            "linecolor": "white",
            "ticks": ""
           }
          },
          "title": {
           "x": 0.05
          },
          "xaxis": {
           "automargin": true,
           "gridcolor": "white",
           "linecolor": "white",
           "ticks": "",
           "title": {
            "standoff": 15
           },
           "zerolinecolor": "white",
           "zerolinewidth": 2
          },
          "yaxis": {
           "automargin": true,
           "gridcolor": "white",
           "linecolor": "white",
           "ticks": "",
           "title": {
            "standoff": 15
           },
           "zerolinecolor": "white",
           "zerolinewidth": 2
          }
         }
        },
        "title": {
         "text": "Type of donor: 2013-2017"
        }
       }
      },
      "text/html": [
       "<div>\n",
       "        \n",
       "        \n",
       "            <div id=\"b0fa2a3b-b978-430c-9adf-f9f7628b6b12\" class=\"plotly-graph-div\" style=\"height:525px; width:100%;\"></div>\n",
       "            <script type=\"text/javascript\">\n",
       "                require([\"plotly\"], function(Plotly) {\n",
       "                    window.PLOTLYENV=window.PLOTLYENV || {};\n",
       "                    \n",
       "                if (document.getElementById(\"b0fa2a3b-b978-430c-9adf-f9f7628b6b12\")) {\n",
       "                    Plotly.newPlot(\n",
       "                        'b0fa2a3b-b978-430c-9adf-f9f7628b6b12',\n",
       "                        [{\"domain\": {\"x\": [0.0, 1.0], \"y\": [0.0, 1.0]}, \"hovertemplate\": \"donor_profile=%{label}<br>id=%{value}<extra></extra>\", \"labels\": [\"one_time\", \"repeat\"], \"legendgroup\": \"\", \"name\": \"\", \"showlegend\": true, \"type\": \"pie\", \"values\": [1592424, 284086]}],\n",
       "                        {\"legend\": {\"tracegroupgap\": 0}, \"template\": {\"data\": {\"bar\": [{\"error_x\": {\"color\": \"#2a3f5f\"}, \"error_y\": {\"color\": \"#2a3f5f\"}, \"marker\": {\"line\": {\"color\": \"#E5ECF6\", \"width\": 0.5}}, \"type\": \"bar\"}], \"barpolar\": [{\"marker\": {\"line\": {\"color\": \"#E5ECF6\", \"width\": 0.5}}, \"type\": \"barpolar\"}], \"carpet\": [{\"aaxis\": {\"endlinecolor\": \"#2a3f5f\", \"gridcolor\": \"white\", \"linecolor\": \"white\", \"minorgridcolor\": \"white\", \"startlinecolor\": \"#2a3f5f\"}, \"baxis\": {\"endlinecolor\": \"#2a3f5f\", \"gridcolor\": \"white\", \"linecolor\": \"white\", \"minorgridcolor\": \"white\", \"startlinecolor\": \"#2a3f5f\"}, \"type\": \"carpet\"}], \"choropleth\": [{\"colorbar\": {\"outlinewidth\": 0, \"ticks\": \"\"}, \"type\": \"choropleth\"}], \"contour\": [{\"colorbar\": {\"outlinewidth\": 0, \"ticks\": \"\"}, \"colorscale\": [[0.0, \"#0d0887\"], [0.1111111111111111, \"#46039f\"], [0.2222222222222222, \"#7201a8\"], [0.3333333333333333, \"#9c179e\"], [0.4444444444444444, \"#bd3786\"], [0.5555555555555556, \"#d8576b\"], [0.6666666666666666, \"#ed7953\"], [0.7777777777777778, \"#fb9f3a\"], [0.8888888888888888, \"#fdca26\"], [1.0, \"#f0f921\"]], \"type\": \"contour\"}], \"contourcarpet\": [{\"colorbar\": {\"outlinewidth\": 0, \"ticks\": \"\"}, \"type\": \"contourcarpet\"}], \"heatmap\": [{\"colorbar\": {\"outlinewidth\": 0, \"ticks\": \"\"}, \"colorscale\": [[0.0, \"#0d0887\"], [0.1111111111111111, \"#46039f\"], [0.2222222222222222, \"#7201a8\"], [0.3333333333333333, \"#9c179e\"], [0.4444444444444444, \"#bd3786\"], [0.5555555555555556, \"#d8576b\"], [0.6666666666666666, \"#ed7953\"], [0.7777777777777778, \"#fb9f3a\"], [0.8888888888888888, \"#fdca26\"], [1.0, \"#f0f921\"]], \"type\": \"heatmap\"}], \"heatmapgl\": [{\"colorbar\": {\"outlinewidth\": 0, \"ticks\": \"\"}, \"colorscale\": [[0.0, \"#0d0887\"], [0.1111111111111111, \"#46039f\"], [0.2222222222222222, \"#7201a8\"], [0.3333333333333333, \"#9c179e\"], [0.4444444444444444, \"#bd3786\"], [0.5555555555555556, \"#d8576b\"], [0.6666666666666666, \"#ed7953\"], [0.7777777777777778, \"#fb9f3a\"], [0.8888888888888888, \"#fdca26\"], [1.0, \"#f0f921\"]], \"type\": \"heatmapgl\"}], \"histogram\": [{\"marker\": {\"colorbar\": {\"outlinewidth\": 0, \"ticks\": \"\"}}, \"type\": \"histogram\"}], \"histogram2d\": [{\"colorbar\": {\"outlinewidth\": 0, \"ticks\": \"\"}, \"colorscale\": [[0.0, \"#0d0887\"], [0.1111111111111111, \"#46039f\"], [0.2222222222222222, \"#7201a8\"], [0.3333333333333333, \"#9c179e\"], [0.4444444444444444, \"#bd3786\"], [0.5555555555555556, \"#d8576b\"], [0.6666666666666666, \"#ed7953\"], [0.7777777777777778, \"#fb9f3a\"], [0.8888888888888888, \"#fdca26\"], [1.0, \"#f0f921\"]], \"type\": \"histogram2d\"}], \"histogram2dcontour\": [{\"colorbar\": {\"outlinewidth\": 0, \"ticks\": \"\"}, \"colorscale\": [[0.0, \"#0d0887\"], [0.1111111111111111, \"#46039f\"], [0.2222222222222222, \"#7201a8\"], [0.3333333333333333, \"#9c179e\"], [0.4444444444444444, \"#bd3786\"], [0.5555555555555556, \"#d8576b\"], [0.6666666666666666, \"#ed7953\"], [0.7777777777777778, \"#fb9f3a\"], [0.8888888888888888, \"#fdca26\"], [1.0, \"#f0f921\"]], \"type\": \"histogram2dcontour\"}], \"mesh3d\": [{\"colorbar\": {\"outlinewidth\": 0, \"ticks\": \"\"}, \"type\": \"mesh3d\"}], \"parcoords\": [{\"line\": {\"colorbar\": {\"outlinewidth\": 0, \"ticks\": \"\"}}, \"type\": \"parcoords\"}], \"pie\": [{\"automargin\": true, \"type\": \"pie\"}], \"scatter\": [{\"marker\": {\"colorbar\": {\"outlinewidth\": 0, \"ticks\": \"\"}}, \"type\": \"scatter\"}], \"scatter3d\": [{\"line\": {\"colorbar\": {\"outlinewidth\": 0, \"ticks\": \"\"}}, \"marker\": {\"colorbar\": {\"outlinewidth\": 0, \"ticks\": \"\"}}, \"type\": \"scatter3d\"}], \"scattercarpet\": [{\"marker\": {\"colorbar\": {\"outlinewidth\": 0, \"ticks\": \"\"}}, \"type\": \"scattercarpet\"}], \"scattergeo\": [{\"marker\": {\"colorbar\": {\"outlinewidth\": 0, \"ticks\": \"\"}}, \"type\": \"scattergeo\"}], \"scattergl\": [{\"marker\": {\"colorbar\": {\"outlinewidth\": 0, \"ticks\": \"\"}}, \"type\": \"scattergl\"}], \"scattermapbox\": [{\"marker\": {\"colorbar\": {\"outlinewidth\": 0, \"ticks\": \"\"}}, \"type\": \"scattermapbox\"}], \"scatterpolar\": [{\"marker\": {\"colorbar\": {\"outlinewidth\": 0, \"ticks\": \"\"}}, \"type\": \"scatterpolar\"}], \"scatterpolargl\": [{\"marker\": {\"colorbar\": {\"outlinewidth\": 0, \"ticks\": \"\"}}, \"type\": \"scatterpolargl\"}], \"scatterternary\": [{\"marker\": {\"colorbar\": {\"outlinewidth\": 0, \"ticks\": \"\"}}, \"type\": \"scatterternary\"}], \"surface\": [{\"colorbar\": {\"outlinewidth\": 0, \"ticks\": \"\"}, \"colorscale\": [[0.0, \"#0d0887\"], [0.1111111111111111, \"#46039f\"], [0.2222222222222222, \"#7201a8\"], [0.3333333333333333, \"#9c179e\"], [0.4444444444444444, \"#bd3786\"], [0.5555555555555556, \"#d8576b\"], [0.6666666666666666, \"#ed7953\"], [0.7777777777777778, \"#fb9f3a\"], [0.8888888888888888, \"#fdca26\"], [1.0, \"#f0f921\"]], \"type\": \"surface\"}], \"table\": [{\"cells\": {\"fill\": {\"color\": \"#EBF0F8\"}, \"line\": {\"color\": \"white\"}}, \"header\": {\"fill\": {\"color\": \"#C8D4E3\"}, \"line\": {\"color\": \"white\"}}, \"type\": \"table\"}]}, \"layout\": {\"annotationdefaults\": {\"arrowcolor\": \"#2a3f5f\", \"arrowhead\": 0, \"arrowwidth\": 1}, \"coloraxis\": {\"colorbar\": {\"outlinewidth\": 0, \"ticks\": \"\"}}, \"colorscale\": {\"diverging\": [[0, \"#8e0152\"], [0.1, \"#c51b7d\"], [0.2, \"#de77ae\"], [0.3, \"#f1b6da\"], [0.4, \"#fde0ef\"], [0.5, \"#f7f7f7\"], [0.6, \"#e6f5d0\"], [0.7, \"#b8e186\"], [0.8, \"#7fbc41\"], [0.9, \"#4d9221\"], [1, \"#276419\"]], \"sequential\": [[0.0, \"#0d0887\"], [0.1111111111111111, \"#46039f\"], [0.2222222222222222, \"#7201a8\"], [0.3333333333333333, \"#9c179e\"], [0.4444444444444444, \"#bd3786\"], [0.5555555555555556, \"#d8576b\"], [0.6666666666666666, \"#ed7953\"], [0.7777777777777778, \"#fb9f3a\"], [0.8888888888888888, \"#fdca26\"], [1.0, \"#f0f921\"]], \"sequentialminus\": [[0.0, \"#0d0887\"], [0.1111111111111111, \"#46039f\"], [0.2222222222222222, \"#7201a8\"], [0.3333333333333333, \"#9c179e\"], [0.4444444444444444, \"#bd3786\"], [0.5555555555555556, \"#d8576b\"], [0.6666666666666666, \"#ed7953\"], [0.7777777777777778, \"#fb9f3a\"], [0.8888888888888888, \"#fdca26\"], [1.0, \"#f0f921\"]]}, \"colorway\": [\"#636efa\", \"#EF553B\", \"#00cc96\", \"#ab63fa\", \"#FFA15A\", \"#19d3f3\", \"#FF6692\", \"#B6E880\", \"#FF97FF\", \"#FECB52\"], \"font\": {\"color\": \"#2a3f5f\"}, \"geo\": {\"bgcolor\": \"white\", \"lakecolor\": \"white\", \"landcolor\": \"#E5ECF6\", \"showlakes\": true, \"showland\": true, \"subunitcolor\": \"white\"}, \"hoverlabel\": {\"align\": \"left\"}, \"hovermode\": \"closest\", \"mapbox\": {\"style\": \"light\"}, \"paper_bgcolor\": \"white\", \"plot_bgcolor\": \"#E5ECF6\", \"polar\": {\"angularaxis\": {\"gridcolor\": \"white\", \"linecolor\": \"white\", \"ticks\": \"\"}, \"bgcolor\": \"#E5ECF6\", \"radialaxis\": {\"gridcolor\": \"white\", \"linecolor\": \"white\", \"ticks\": \"\"}}, \"scene\": {\"xaxis\": {\"backgroundcolor\": \"#E5ECF6\", \"gridcolor\": \"white\", \"gridwidth\": 2, \"linecolor\": \"white\", \"showbackground\": true, \"ticks\": \"\", \"zerolinecolor\": \"white\"}, \"yaxis\": {\"backgroundcolor\": \"#E5ECF6\", \"gridcolor\": \"white\", \"gridwidth\": 2, \"linecolor\": \"white\", \"showbackground\": true, \"ticks\": \"\", \"zerolinecolor\": \"white\"}, \"zaxis\": {\"backgroundcolor\": \"#E5ECF6\", \"gridcolor\": \"white\", \"gridwidth\": 2, \"linecolor\": \"white\", \"showbackground\": true, \"ticks\": \"\", \"zerolinecolor\": \"white\"}}, \"shapedefaults\": {\"line\": {\"color\": \"#2a3f5f\"}}, \"ternary\": {\"aaxis\": {\"gridcolor\": \"white\", \"linecolor\": \"white\", \"ticks\": \"\"}, \"baxis\": {\"gridcolor\": \"white\", \"linecolor\": \"white\", \"ticks\": \"\"}, \"bgcolor\": \"#E5ECF6\", \"caxis\": {\"gridcolor\": \"white\", \"linecolor\": \"white\", \"ticks\": \"\"}}, \"title\": {\"x\": 0.05}, \"xaxis\": {\"automargin\": true, \"gridcolor\": \"white\", \"linecolor\": \"white\", \"ticks\": \"\", \"title\": {\"standoff\": 15}, \"zerolinecolor\": \"white\", \"zerolinewidth\": 2}, \"yaxis\": {\"automargin\": true, \"gridcolor\": \"white\", \"linecolor\": \"white\", \"ticks\": \"\", \"title\": {\"standoff\": 15}, \"zerolinecolor\": \"white\", \"zerolinewidth\": 2}}}, \"title\": {\"text\": \"Type of donor: 2013-2017\"}},\n",
       "                        {\"responsive\": true}\n",
       "                    ).then(function(){\n",
       "                            \n",
       "var gd = document.getElementById('b0fa2a3b-b978-430c-9adf-f9f7628b6b12');\n",
       "var x = new MutationObserver(function (mutations, observer) {{\n",
       "        var display = window.getComputedStyle(gd).display;\n",
       "        if (!display || display === 'none') {{\n",
       "            console.log([gd, 'removed!']);\n",
       "            Plotly.purge(gd);\n",
       "            observer.disconnect();\n",
       "        }}\n",
       "}});\n",
       "\n",
       "// Listen for the removal of the full notebook cells\n",
       "var notebookContainer = gd.closest('#notebook-container');\n",
       "if (notebookContainer) {{\n",
       "    x.observe(notebookContainer, {childList: true});\n",
       "}}\n",
       "\n",
       "// Listen for the clearing of the current output cell\n",
       "var outputEl = gd.closest('.output');\n",
       "if (outputEl) {{\n",
       "    x.observe(outputEl, {childList: true});\n",
       "}}\n",
       "\n",
       "                        })\n",
       "                };\n",
       "                });\n",
       "            </script>\n",
       "        </div>"
      ]
     },
     "metadata": {},
     "output_type": "display_data"
    }
   ],
   "source": [
    "fig = px.pie(donations_13to17.groupby('donor_profile').count().reset_index(), values='id', \n",
    "             names='donor_profile', title='Type of donor: 2013-2017'\n",
    "            )\n",
    "fig.show();"
   ]
  },
  {
   "cell_type": "code",
   "execution_count": 42,
   "metadata": {},
   "outputs": [],
   "source": [
    "cohort13=pd.read_pickle('cohort13.pkl')\n",
    "cohort14=pd.read_pickle('cohort14.pkl')\n",
    "cohort15=pd.read_pickle('cohort15.pkl')\n",
    "cohort16=pd.read_pickle('cohort16.pkl')\n",
    "cohort17=pd.read_pickle('cohort17.pkl')"
   ]
  },
  {
   "cell_type": "code",
   "execution_count": 5,
   "metadata": {},
   "outputs": [],
   "source": [
    "# number of donors per year (regardless of whether donor is new or old)\n",
    "no_donors_13 = donations_13to17.query('amount_2013 > 0').count()['id']\n",
    "no_donors_14 = donations_13to17.query('amount_2014 > 0').count()['id']\n",
    "no_donors_15 = donations_13to17.query('amount_2015 > 0').count()['id']\n",
    "no_donors_16 = donations_13to17.query('amount_2016 > 0').count()['id']\n",
    "no_donors_17 = donations_13to17.query('amount_2017 > 0').count()['id']\n",
    "no_donors_overall = donations_13to17.id.count()"
   ]
  },
  {
   "cell_type": "code",
   "execution_count": 8,
   "metadata": {},
   "outputs": [],
   "source": [
    "no_donations_13 = donations_13to17['count_2013'].sum()\n",
    "no_donations_14 = donations_13to17['count_2014'].sum()\n",
    "no_donations_15 = donations_13to17['count_2015'].sum()\n",
    "no_donations_16 = donations_13to17['count_2016'].sum()\n",
    "no_donations_17 = donations_13to17['count_2017'].sum()\n",
    "no_donations_overall = donations_13to17.count_total.sum()"
   ]
  },
  {
   "cell_type": "code",
   "execution_count": 9,
   "metadata": {},
   "outputs": [],
   "source": [
    "amt_donated_13 = donations_13to17['amount_2013'].sum()\n",
    "amt_donated_14 = donations_13to17['amount_2014'].sum()\n",
    "amt_donated_15 = donations_13to17['amount_2015'].sum()\n",
    "amt_donated_16 = donations_13to17['amount_2016'].sum()\n",
    "amt_donated_17 = donations_13to17['amount_2017'].sum()\n",
    "amt_donated_overall = donations_13to17.amount_total.sum()"
   ]
  },
  {
   "cell_type": "code",
   "execution_count": 10,
   "metadata": {},
   "outputs": [],
   "source": [
    "avg_amt_per_donor_13 = amt_donated_13/no_donors_13\n",
    "avg_amt_per_donor_14 = amt_donated_14/no_donors_14\n",
    "avg_amt_per_donor_15 = amt_donated_15/no_donors_15\n",
    "avg_amt_per_donor_16 = amt_donated_16/no_donors_16\n",
    "avg_amt_per_donor_17 = amt_donated_17/no_donors_17\n",
    "avg_amt_per_donor_overall = amt_donated_overall/no_donors_overall"
   ]
  },
  {
   "cell_type": "code",
   "execution_count": 11,
   "metadata": {},
   "outputs": [],
   "source": [
    "max_amt_by_single_donor_13 = donations_13to17['amount_2013'].max()\n",
    "max_amt_by_single_donor_14 = donations_13to17['amount_2014'].max()\n",
    "max_amt_by_single_donor_15 = donations_13to17['amount_2015'].max()\n",
    "max_amt_by_single_donor_16 = donations_13to17['amount_2016'].max()\n",
    "max_amt_by_single_donor_17 = donations_13to17['amount_2017'].max()\n",
    "max_amt_by_single_donor_overall = donations_13to17['amount_total'].max()"
   ]
  },
  {
   "cell_type": "code",
   "execution_count": 20,
   "metadata": {},
   "outputs": [],
   "source": [
    "onetime_donors = donations_13to17[(donations_13to17['total_giving_years'] == 1)]"
   ]
  },
  {
   "cell_type": "code",
   "execution_count": 22,
   "metadata": {},
   "outputs": [
    {
     "data": {
      "text/plain": [
       "(1547304, 165)"
      ]
     },
     "execution_count": 22,
     "metadata": {},
     "output_type": "execute_result"
    }
   ],
   "source": [
    "onetime_donors.shape"
   ]
  },
  {
   "cell_type": "code",
   "execution_count": 17,
   "metadata": {},
   "outputs": [],
   "source": [
    "repeat_donors = donations_13to17[(donations_13to17['total_giving_years'] > 1) ]"
   ]
  },
  {
   "cell_type": "code",
   "execution_count": 19,
   "metadata": {},
   "outputs": [
    {
     "data": {
      "text/plain": [
       "(329206, 165)"
      ]
     },
     "execution_count": 19,
     "metadata": {},
     "output_type": "execute_result"
    }
   ],
   "source": [
    "repeat_donors.shape"
   ]
  },
  {
   "cell_type": "code",
   "execution_count": 29,
   "metadata": {},
   "outputs": [],
   "source": [
    "no_onetime_donors = len(onetime_donors.id.unique())\n",
    "no_repeat_donors = len(repeat_donors.id.unique())\n",
    "perc_onetime_donors= no_onetime_donors/no_donors_overall\n",
    "perc_repeat_donors = no_repeat_donors/no_donors_overall"
   ]
  },
  {
   "cell_type": "code",
   "execution_count": 32,
   "metadata": {},
   "outputs": [],
   "source": [
    "# number of new donors that year / number of donors per cohort class\n",
    "no_new_donors_13 = donations_13to17.query('cohort_yr == \"cohort13\"').count()['id'] \n",
    "no_new_donors_14 = donations_13to17.query('cohort_yr == \"cohort14\"').count()['id'] \n",
    "no_new_donors_15 = donations_13to17.query('cohort_yr == \"cohort15\"').count()['id'] \n",
    "no_new_donors_16 = donations_13to17.query('cohort_yr == \"cohort16\"').count()['id'] \n",
    "no_new_donors_17 = donations_13to17.query('cohort_yr == \"cohort17\"').count()['id']  "
   ]
  },
  {
   "cell_type": "code",
   "execution_count": 33,
   "metadata": {},
   "outputs": [],
   "source": [
    "# number of repeat/returning donors\n",
    "no_repeat_donors_13 = no_donors_13-no_new_donors_13\n",
    "no_repeat_donors_14 = no_donors_14-no_new_donors_14\n",
    "no_repeat_donors_15 = no_donors_15-no_new_donors_15\n",
    "no_repeat_donors_16 = no_donors_16-no_new_donors_16\n",
    "no_repeat_donors_17 = no_donors_17-no_new_donors_17"
   ]
  },
  {
   "cell_type": "code",
   "execution_count": 35,
   "metadata": {},
   "outputs": [],
   "source": [
    "#n/a not enough data  retention_rate_13 = no_repeat_donors_13/(no_repeat_donors_13+no_donors_lapsed_13)\n",
    "retention_rate_14 = no_repeat_donors_14/(no_donors_13)\n",
    "retention_rate_15 = no_repeat_donors_15/(no_donors_14)\n",
    "retention_rate_16 = no_repeat_donors_16/(no_donors_15)\n",
    "retention_rate_17 = no_repeat_donors_17/(no_donors_16)"
   ]
  },
  {
   "cell_type": "code",
   "execution_count": 53,
   "metadata": {},
   "outputs": [],
   "source": [
    "no_donors_lapsed_14 = donations_13to17[(donations_13to17['amount_2013'] > 0) & (donations_13to17['amount_2014'] == 0)].count()['id']\n",
    "no_donors_lapsed_15 = donations_13to17[(donations_13to17['amount_2014'] > 0) & (donations_13to17['amount_2015'] == 0)].count()['id']\n",
    "no_donors_lapsed_16 = donations_13to17[(donations_13to17['amount_2015'] > 0) & (donations_13to17['amount_2016'] == 0)].count()['id']\n",
    "no_donors_lapsed_17 = donations_13to17[(donations_13to17['amount_2016'] > 0) & (donations_13to17['amount_2017'] == 0)].count()['id']"
   ]
  },
  {
   "cell_type": "code",
   "execution_count": 58,
   "metadata": {},
   "outputs": [],
   "source": [
    "#n/a not enough data no_donors_lapsed_13 = len(cohort14.query('lapsed_amount_2015 > 0'))\n",
    "ano_donors_lapsed_14 = len(cohort13.query('lapsed_amount_2014 > 0'))\n",
    "ano_donors_lapsed_15 = len(cohort14.query('lapsed_amount_2015 > 0'))\n",
    "ano_donors_lapsed_16 = len(cohort15.query('lapsed_amount_2016 > 0'))\n",
    "ano_donors_lapsed_17 = len(cohort16.query('lapsed_amount_2017 > 0'))"
   ]
  },
  {
   "cell_type": "code",
   "execution_count": 62,
   "metadata": {},
   "outputs": [
    {
     "name": "stdout",
     "output_type": "stream",
     "text": [
      "456148\n",
      "389060\n"
     ]
    }
   ],
   "source": [
    "print(no_donors_lapsed_17)\n",
    "print(ano_donors_lapsed_17)"
   ]
  },
  {
   "cell_type": "code",
   "execution_count": 36,
   "metadata": {},
   "outputs": [
    {
     "name": "stdout",
     "output_type": "stream",
     "text": [
      "One-time donors\n",
      "Count:  1,547,304\n",
      "% total count:  82.46%\n",
      "Amount donated:  $ 110,766,706\n",
      "% total amount:  42.95%\n"
     ]
    }
   ],
   "source": [
    "print(f'One-time donors')\n",
    "print(f'Count: ', f'{onetime_donors.id.count():,.0f}')\n",
    "print(f'% total count: ', f'{onetime_donors.id.count()/no_donors_overall:.2%}')\n",
    "print(f'Amount donated: ', f'$', f'{onetime_donors.amount_total.sum():,.0f}')\n",
    "print(f'% total amount: ', f'{onetime_donors.amount_total.sum()/amt_donated_overall:.2%}')"
   ]
  },
  {
   "cell_type": "code",
   "execution_count": 37,
   "metadata": {},
   "outputs": [
    {
     "name": "stdout",
     "output_type": "stream",
     "text": [
      "Repeat donors\n",
      "Count:  329,206\n",
      "% total count:  17.54%\n",
      "Amount donated:  $ 147,135,191\n",
      "% total amount:  57.05%\n"
     ]
    }
   ],
   "source": [
    "print(f'Repeat donors')\n",
    "print(f'Count: ', f'{repeat_donors.id.count():,.0f}')\n",
    "print(f'% total count: ', f'{repeat_donors.id.count()/no_donors_overall:.2%}')\n",
    "print(f'Amount donated: ', f'$', f'{repeat_donors.amount_total.sum():,.0f}')\n",
    "print(f'% total amount: ', f'{repeat_donors.amount_total.sum()/amt_donated_overall:.2%}')"
   ]
  },
  {
   "cell_type": "code",
   "execution_count": 28,
   "metadata": {},
   "outputs": [
    {
     "name": "stdout",
     "output_type": "stream",
     "text": [
      "Overview overall 2013-2017\n",
      "# donors: 1,876,510\n",
      "# one-time donors: 1,547,304\n",
      "% one-time donors: 82%\n",
      "# repeat donors: 329,206\n",
      "% repeat donors: 18%\n",
      "# donations: 4,251,760\n",
      "$ donated: $ 257,901,896.76\n",
      "Average $ per donor: $ 137.44\n",
      "Max $ by single donor: $ 1,836,958.08\n"
     ]
    }
   ],
   "source": [
    "# 1. Overview stats - 2013-2017\n",
    "print(f'Overview overall 2013-2017')\n",
    "print(f'# donors:', f'{no_donors_overall:,}')\n",
    "print(f'# one-time donors:', f'{no_onetime_donors:,}')\n",
    "print(f'% one-time donors:', f'{perc_onetime_donors:.0%}')\n",
    "print(f'# repeat donors:', f'{no_repeat_donors:,}')\n",
    "print(f'% repeat donors:', f'{perc_repeat_donors:.0%}')\n",
    "print(f'# donations:', f'{no_donations_overall:,}')\n",
    "print(f'$ donated:', f'$', f\"{amt_donated_overall:,.2f}\")\n",
    "print(f'Average $ per donor:', f'$', f'{avg_amt_per_donor_overall:,.2f}')\n",
    "print(f'Max $ by single donor:', f'$', f'{max_amt_by_single_donor_overall:,.2f}')"
   ]
  },
  {
   "cell_type": "code",
   "execution_count": 47,
   "metadata": {},
   "outputs": [
    {
     "name": "stdout",
     "output_type": "stream",
     "text": [
      "id\n",
      "cohort_yr\n",
      "amount_total\n",
      "amount_yr1\n",
      "amount_yr2\n",
      "amount_yr3\n",
      "amount_yr4\n",
      "amount_yr5\n",
      "amount_2013\n",
      "amount_2014\n",
      "amount_2015\n",
      "amount_2016\n",
      "amount_2017\n",
      "total_giving_years\n",
      "max_consec_giving_years\n",
      "count_total\n",
      "count_2013\n",
      "count_2014\n",
      "count_2015\n",
      "count_2016\n",
      "count_2017\n",
      "recovered_count\n",
      "recovered_amount\n",
      "lapsed_count\n",
      "lapsed_amount\n",
      "lapsed_amount_2013\n",
      "lapsed_amount_2014\n",
      "lapsed_amount_2015\n",
      "lapsed_amount_2016\n",
      "lapsed_amount_2017\n",
      "upgraded_amount_2013\n",
      "upgraded_amount_2014\n",
      "upgraded_amount_2015\n",
      "upgraded_amount_2016\n",
      "upgraded_amount_2017\n",
      "downgraded_amount_2013\n",
      "downgraded_amount_2014\n",
      "downgraded_amount_2015\n",
      "downgraded_amount_2016\n",
      "downgraded_amount_2017\n",
      "amount_01_2013\n",
      "amount_02_2013\n",
      "amount_03_2013\n",
      "amount_04_2013\n",
      "amount_05_2013\n",
      "amount_06_2013\n",
      "amount_07_2013\n",
      "amount_08_2013\n",
      "amount_09_2013\n",
      "amount_10_2013\n",
      "amount_11_2013\n",
      "amount_12_2013\n",
      "amount_01_2014\n",
      "amount_02_2014\n",
      "amount_03_2014\n",
      "amount_04_2014\n",
      "amount_05_2014\n",
      "amount_06_2014\n",
      "amount_07_2014\n",
      "amount_08_2014\n",
      "amount_09_2014\n",
      "amount_10_2014\n",
      "amount_11_2014\n",
      "amount_12_2014\n",
      "amount_01_2015\n",
      "amount_02_2015\n",
      "amount_03_2015\n",
      "amount_04_2015\n",
      "amount_05_2015\n",
      "amount_06_2015\n",
      "amount_07_2015\n",
      "amount_08_2015\n",
      "amount_09_2015\n",
      "amount_10_2015\n",
      "amount_11_2015\n",
      "amount_12_2015\n",
      "amount_01_2016\n",
      "amount_02_2016\n",
      "amount_03_2016\n",
      "amount_04_2016\n",
      "amount_05_2016\n",
      "amount_06_2016\n",
      "amount_07_2016\n",
      "amount_08_2016\n",
      "amount_09_2016\n",
      "amount_10_2016\n",
      "amount_11_2016\n",
      "amount_12_2016\n",
      "amount_01_2017\n",
      "amount_02_2017\n",
      "amount_03_2017\n",
      "amount_04_2017\n",
      "amount_05_2017\n",
      "amount_06_2017\n",
      "amount_07_2017\n",
      "amount_08_2017\n",
      "amount_09_2017\n",
      "amount_10_2017\n",
      "amount_11_2017\n",
      "amount_12_2017\n",
      "count_yr1\n",
      "count_yr2\n",
      "count_yr3\n",
      "count_yr4\n",
      "count_yr5\n",
      "amount_01_yr1\n",
      "amount_02_yr1\n",
      "amount_03_yr1\n",
      "amount_04_yr1\n",
      "amount_05_yr1\n",
      "amount_06_yr1\n",
      "amount_07_yr1\n",
      "amount_08_yr1\n",
      "amount_09_yr1\n",
      "amount_10_yr1\n",
      "amount_11_yr1\n",
      "amount_12_yr1\n",
      "amount_01_yr2\n",
      "amount_02_yr2\n",
      "amount_03_yr2\n",
      "amount_04_yr2\n",
      "amount_05_yr2\n",
      "amount_06_yr2\n",
      "amount_07_yr2\n",
      "amount_08_yr2\n",
      "amount_09_yr2\n",
      "amount_10_yr2\n",
      "amount_11_yr2\n",
      "amount_12_yr2\n",
      "amount_01_yr3\n",
      "amount_02_yr3\n",
      "amount_03_yr3\n",
      "amount_04_yr3\n",
      "amount_05_yr3\n",
      "amount_06_yr3\n",
      "amount_07_yr3\n",
      "amount_08_yr3\n",
      "amount_09_yr3\n",
      "amount_10_yr3\n",
      "amount_11_yr3\n",
      "amount_12_yr3\n",
      "amount_01_yr4\n",
      "amount_02_yr4\n",
      "amount_03_yr4\n",
      "amount_04_yr4\n",
      "amount_05_yr4\n",
      "amount_06_yr4\n",
      "amount_07_yr4\n",
      "amount_08_yr4\n",
      "amount_09_yr4\n",
      "amount_10_yr4\n",
      "amount_11_yr4\n",
      "amount_12_yr4\n",
      "amount_01_yr5\n",
      "amount_02_yr5\n",
      "amount_03_yr5\n",
      "amount_04_yr5\n",
      "amount_05_yr5\n",
      "amount_06_yr5\n",
      "amount_07_yr5\n",
      "amount_08_yr5\n",
      "amount_09_yr5\n",
      "amount_10_yr5\n",
      "amount_11_yr5\n",
      "amount_12_yr5\n"
     ]
    }
   ],
   "source": [
    "for col in donations_13to17.columns:\n",
    "    print(col)"
   ]
  },
  {
   "cell_type": "code",
   "execution_count": 63,
   "metadata": {},
   "outputs": [
    {
     "name": "stdout",
     "output_type": "stream",
     "text": [
      "Year 1 - 2013\n",
      "# donors: 320,102\n",
      "# new donors: 320,102\n",
      "# repeat donors: 0\n",
      "Retention rate: n/a\n",
      "$ donated: $ 30,428,185\n",
      "# donations: 573,983\n",
      "Average $ per donor: $ 95\n",
      "Max $ by single donor: $ 442,794\n"
     ]
    }
   ],
   "source": [
    "# 2a. By year - 2013\n",
    "print(f'Year 1 - 2013')\n",
    "print(f'# donors:', f'{no_donors_13:,}')\n",
    "print(f'# new donors:', f'{no_new_donors_13:,}')\n",
    "print(f'# repeat donors:', f'{no_repeat_donors_13:,}')\n",
    "#print(f'# donors lapsed:', f'n/a')\n",
    "print(f'Retention rate:', f'n/a')\n",
    "\n",
    "print(f'$ donated:', f'$', f\"{amt_donated_13:,.0f}\")\n",
    "print(f'# donations:', f'{no_donations_13:,}')\n",
    "print(f'Average $ per donor:', f'$', f'{avg_amt_per_donor_13:,.0f}')\n",
    "print(f'Max $ by single donor:', f'$', f'{max_amt_by_single_donor_13:,.0f}')"
   ]
  },
  {
   "cell_type": "code",
   "execution_count": 64,
   "metadata": {},
   "outputs": [
    {
     "name": "stdout",
     "output_type": "stream",
     "text": [
      "Year 2 - 2014\n",
      "# donors: 382,817\n",
      "# new donors: 320,675\n",
      "# repeat donors: 62,142\n",
      "Retention rate: 16.23%\n",
      "$ donated: $ 41,461,218\n",
      "# donations: 746,608\n",
      "Average $ per donor: $ 108\n",
      "Max $ by single donor: $ 570,162\n"
     ]
    }
   ],
   "source": [
    "#2b. By year - 2014\n",
    "print(f'Year 2 - 2014')\n",
    "print(f'# donors:', f'{no_donors_14:,}')\n",
    "print(f'# new donors:', f'{no_new_donors_14:,}')\n",
    "print(f'# repeat donors:', f'{no_repeat_donors_14:,}')\n",
    "#print(f'# donors lapsed:', f'{no_donors_lapsed_14:,}')\n",
    "print(f'Retention rate:', f'{no_repeat_donors_14/no_donors_14:.2%}')\n",
    "\n",
    "print(f'$ donated:', f'$', f\"{amt_donated_14:,.0f}\")\n",
    "print(f'# donations:', f'{no_donations_14:,}')\n",
    "print(f'Average $ per donor:', f'$', f'{avg_amt_per_donor_14:,.0f}')\n",
    "print(f'Max $ by single donor:', f'$', f'{max_amt_by_single_donor_14:,.0f}')"
   ]
  },
  {
   "cell_type": "code",
   "execution_count": 65,
   "metadata": {},
   "outputs": [
    {
     "name": "stdout",
     "output_type": "stream",
     "text": [
      "Year 3 - 2015\n",
      "# donors: 446,048\n",
      "# new donors: 355,141\n",
      "# repeat donors: 90,907\n",
      "Retention rate: 20.38%\n",
      "$ donated: $ 50,488,301\n",
      "# donations: 783,362\n",
      "Average $ per donor: $ 113\n",
      "Max $ by single donor: $ 346,566\n"
     ]
    }
   ],
   "source": [
    "#2c. By year - 2015\n",
    "print(f'Year 3 - 2015')\n",
    "print(f'# donors:', f'{no_donors_15:,}')\n",
    "print(f'# new donors:', f'{no_new_donors_15:,}')\n",
    "print(f'# repeat donors:', f'{no_repeat_donors_15:,}')\n",
    "#print(f'# donors lapsed:', f'{no_donors_lapsed_15:,}')\n",
    "print(f'Retention rate:', f'{no_repeat_donors_15/no_donors_15:.2%}')\n",
    "\n",
    "print(f'$ donated:', f'$', f\"{amt_donated_15:,.0f}\")\n",
    "print(f'# donations:', f'{no_donations_15:,}')\n",
    "print(f'Average $ per donor:', f'$', f'{avg_amt_per_donor_15:,.0f}')\n",
    "print(f'Max $ by single donor:', f'$', f'{max_amt_by_single_donor_15:,.0f}')"
   ]
  },
  {
   "cell_type": "code",
   "execution_count": 66,
   "metadata": {},
   "outputs": [
    {
     "name": "stdout",
     "output_type": "stream",
     "text": [
      "Year 4 - 2016\n",
      "# donors: 555,843\n",
      "# new donors: 445,598\n",
      "# repeat donors: 110,245\n",
      "# donors lapsed: 365,597\n",
      "Retention rate: 19.83%\n",
      "$ donated: $ 62,652,159\n",
      "# donations: 957,265\n",
      "Average $ per donor: $ 113\n",
      "Max $ by single donor: $ 294,947\n"
     ]
    }
   ],
   "source": [
    "#2d. By year - 2016')\n",
    "print(f'Year 4 - 2016')\n",
    "print(f'# donors:', f'{no_donors_16:,}')\n",
    "print(f'# new donors:', f'{no_new_donors_16:,}')\n",
    "print(f'# repeat donors:', f'{no_repeat_donors_16:,}')\n",
    "print(f'# donors lapsed:', f'{no_donors_lapsed_16:,}')\n",
    "print(f'Retention rate:', f'{no_repeat_donors_16/no_donors_16:.2%}')\n",
    "\n",
    "print(f'$ donated:', f'$', f\"{amt_donated_16:,.0f}\")\n",
    "print(f'# donations:', f'{no_donations_16:,}')\n",
    "print(f'Average $ per donor:', f'$', f'{avg_amt_per_donor_16:,.0f}')\n",
    "print(f'Max $ by single donor:', f'$', f'{max_amt_by_single_donor_16:,.0f}')"
   ]
  },
  {
   "cell_type": "code",
   "execution_count": 67,
   "metadata": {},
   "outputs": [
    {
     "name": "stdout",
     "output_type": "stream",
     "text": [
      "Year 5 - 2017\n",
      "# donors: 574,599\n",
      "# new donors: 434,994\n",
      "# repeat donors: 139,605\n",
      "# donors lapsed: 456,148\n",
      "Retention rate: 24.30%\n",
      "$ donated: $ 72,872,034\n",
      "# donations: 1,190,542\n",
      "Average $ per donor: $ 127\n",
      "Max $ by single donor: $ 634,710\n"
     ]
    }
   ],
   "source": [
    "#2e. By year - 2017\n",
    "print(f'Year 5 - 2017')\n",
    "print(f'# donors:', f'{no_donors_17:,}')\n",
    "print(f'# new donors:', f'{no_new_donors_17:,}')\n",
    "print(f'# repeat donors:', f'{no_repeat_donors_17:,}')\n",
    "print(f'# donors lapsed:', f'{no_donors_lapsed_17:,}')\n",
    "print(f'Retention rate:', f'{no_repeat_donors_17/no_donors_17:.2%}')\n",
    "\n",
    "print(f'$ donated:', f'$', f\"{amt_donated_17:,.0f}\")\n",
    "print(f'# donations:', f'{no_donations_17:,}')\n",
    "print(f'Average $ per donor:', f'$', f'{avg_amt_per_donor_17:,.0f}')\n",
    "print(f'Max $ by single donor:', f'$', f'{max_amt_by_single_donor_17:,.0f}')"
   ]
  },
  {
   "cell_type": "code",
   "execution_count": null,
   "metadata": {},
   "outputs": [],
   "source": []
  }
 ],
 "metadata": {
  "kernelspec": {
   "display_name": "Python 3",
   "language": "python",
   "name": "python3"
  },
  "language_info": {
   "codemirror_mode": {
    "name": "ipython",
    "version": 3
   },
   "file_extension": ".py",
   "mimetype": "text/x-python",
   "name": "python",
   "nbconvert_exporter": "python",
   "pygments_lexer": "ipython3",
   "version": "3.7.4"
  }
 },
 "nbformat": 4,
 "nbformat_minor": 2
}
