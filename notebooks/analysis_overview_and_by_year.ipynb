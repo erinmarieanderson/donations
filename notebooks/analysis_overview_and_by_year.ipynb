{
 "cells": [
  {
   "cell_type": "code",
   "execution_count": 1,
   "metadata": {},
   "outputs": [],
   "source": [
    "import numpy as np\n",
    "import pandas as pd\n",
    "import plotly.express as px\n",
    "import plotly.graph_objects as go\n",
    "from plotly.subplots import make_subplots\n",
    "\n",
    "import seaborn as sns\n",
    "import matplotlib.pyplot as plt\n",
    "sns.set_style(\"white\")\n",
    "%matplotlib inline"
   ]
  },
  {
   "cell_type": "code",
   "execution_count": 2,
   "metadata": {},
   "outputs": [],
   "source": [
    "donations_13to17=pd.read_pickle('donations1_13to17.pkl')"
   ]
  },
  {
   "cell_type": "code",
   "execution_count": 33,
   "metadata": {},
   "outputs": [
    {
     "data": {
      "text/plain": [
       "(1876468, 196)"
      ]
     },
     "execution_count": 33,
     "metadata": {},
     "output_type": "execute_result"
    }
   ],
   "source": [
    "donations_13to17.shape"
   ]
  },
  {
   "cell_type": "code",
   "execution_count": 3,
   "metadata": {},
   "outputs": [
    {
     "name": "stdout",
     "output_type": "stream",
     "text": [
      "id\n",
      "first_gift_year\n",
      "lapsed_count\n",
      "recovered_count\n",
      "max_consec_giving_years\n",
      "total_giving_years\n",
      "count_2013\n",
      "count_2014\n",
      "count_2015\n",
      "count_2016\n",
      "count_2017\n",
      "count_yr0_x\n",
      "count_yr1_x\n",
      "count_yr2_x\n",
      "count_yr3_x\n",
      "count_yr4_x\n",
      "lapsed_amount\n",
      "recovered_amount\n",
      "amount_2013\n",
      "amount_2014\n",
      "amount_2015\n",
      "amount_2016\n",
      "amount_2017\n",
      "lapsed_amount_2013\n",
      "lapsed_amount_2014\n",
      "lapsed_amount_2015\n",
      "lapsed_amount_2016\n",
      "lapsed_amount_2017\n",
      "upgraded_amount_2013\n",
      "upgraded_amount_2014\n",
      "upgraded_amount_2015\n",
      "upgraded_amount_2016\n",
      "upgraded_amount_2017\n",
      "downgraded_amount_2013\n",
      "downgraded_amount_2014\n",
      "downgraded_amount_2015\n",
      "downgraded_amount_2016\n",
      "downgraded_amount_2017\n",
      "amount_yr0\n",
      "amount_yr1\n",
      "amount_yr2\n",
      "amount_yr3\n",
      "amount_yr4\n",
      "count_yr0_y\n",
      "count_yr1_y\n",
      "count_yr2_y\n",
      "count_yr3_y\n",
      "count_yr4_y\n",
      "lapsed_amount_yr0\n",
      "lapsed_amount_yr1\n",
      "lapsed_amount_yr2\n",
      "lapsed_amount_yr3\n",
      "lapsed_amount_yr4\n",
      "upgraded_amount_yr0\n",
      "upgraded_amount_yr1\n",
      "upgraded_amount_yr2\n",
      "upgraded_amount_yr3\n",
      "upgraded_amount_yr4\n",
      "downgraded_amount_yr0\n",
      "downgraded_amount_yr1\n",
      "downgraded_amount_yr2\n",
      "downgraded_amount_yr3\n",
      "downgraded_amount_yr4\n",
      "amount_01_2013\n",
      "amount_02_2013\n",
      "amount_03_2013\n",
      "amount_04_2013\n",
      "amount_05_2013\n",
      "amount_06_2013\n",
      "amount_07_2013\n",
      "amount_08_2013\n",
      "amount_09_2013\n",
      "amount_10_2013\n",
      "amount_11_2013\n",
      "amount_12_2013\n",
      "amount_01_2014\n",
      "amount_02_2014\n",
      "amount_03_2014\n",
      "amount_04_2014\n",
      "amount_05_2014\n",
      "amount_06_2014\n",
      "amount_07_2014\n",
      "amount_08_2014\n",
      "amount_09_2014\n",
      "amount_10_2014\n",
      "amount_11_2014\n",
      "amount_12_2014\n",
      "amount_01_2015\n",
      "amount_02_2015\n",
      "amount_03_2015\n",
      "amount_04_2015\n",
      "amount_05_2015\n",
      "amount_06_2015\n",
      "amount_07_2015\n",
      "amount_08_2015\n",
      "amount_09_2015\n",
      "amount_10_2015\n",
      "amount_11_2015\n",
      "amount_12_2015\n",
      "amount_01_2016\n",
      "amount_02_2016\n",
      "amount_03_2016\n",
      "amount_04_2016\n",
      "amount_05_2016\n",
      "amount_06_2016\n",
      "amount_07_2016\n",
      "amount_08_2016\n",
      "amount_09_2016\n",
      "amount_10_2016\n",
      "amount_11_2016\n",
      "amount_12_2016\n",
      "amount_01_2017\n",
      "amount_02_2017\n",
      "amount_03_2017\n",
      "amount_04_2017\n",
      "amount_05_2017\n",
      "amount_06_2017\n",
      "amount_07_2017\n",
      "amount_08_2017\n",
      "amount_09_2017\n",
      "amount_10_2017\n",
      "amount_11_2017\n",
      "amount_12_2017\n",
      "amount_total\n",
      "count_total\n",
      "amount_01_yr0\n",
      "amount_02_yr0\n",
      "amount_03_yr0\n",
      "amount_04_yr0\n",
      "amount_05_yr0\n",
      "amount_06_yr0\n",
      "amount_07_yr0\n",
      "amount_08_yr0\n",
      "amount_09_yr0\n",
      "amount_10_yr0\n",
      "amount_11_yr0\n",
      "amount_12_yr0\n",
      "amount_01_yr1\n",
      "amount_02_yr1\n",
      "amount_03_yr1\n",
      "amount_04_yr1\n",
      "amount_05_yr1\n",
      "amount_06_yr1\n",
      "amount_07_yr1\n",
      "amount_08_yr1\n",
      "amount_09_yr1\n",
      "amount_10_yr1\n",
      "amount_11_yr1\n",
      "amount_12_yr1\n",
      "amount_01_yr2\n",
      "amount_02_yr2\n",
      "amount_03_yr2\n",
      "amount_04_yr2\n",
      "amount_05_yr2\n",
      "amount_06_yr2\n",
      "amount_07_yr2\n",
      "amount_08_yr2\n",
      "amount_09_yr2\n",
      "amount_10_yr2\n",
      "amount_11_yr2\n",
      "amount_12_yr2\n",
      "amount_01_yr3\n",
      "amount_02_yr3\n",
      "amount_03_yr3\n",
      "amount_04_yr3\n",
      "amount_05_yr3\n",
      "amount_06_yr3\n",
      "amount_07_yr3\n",
      "amount_08_yr3\n",
      "amount_09_yr3\n",
      "amount_10_yr3\n",
      "amount_11_yr3\n",
      "amount_12_yr3\n",
      "amount_01_yr4\n",
      "amount_02_yr4\n",
      "amount_03_yr4\n",
      "amount_04_yr4\n",
      "amount_05_yr4\n",
      "amount_06_yr4\n",
      "amount_07_yr4\n",
      "amount_08_yr4\n",
      "amount_09_yr4\n",
      "amount_10_yr4\n",
      "amount_11_yr4\n",
      "amount_12_yr4\n",
      "years_donated\n",
      "perc_years_donated\n",
      "donor_profile\n"
     ]
    }
   ],
   "source": [
    "for col in donations_13to17.columns:\n",
    "    print(col)"
   ]
  },
  {
   "cell_type": "code",
   "execution_count": 4,
   "metadata": {},
   "outputs": [
    {
     "data": {
      "text/html": [
       "<div>\n",
       "<style scoped>\n",
       "    .dataframe tbody tr th:only-of-type {\n",
       "        vertical-align: middle;\n",
       "    }\n",
       "\n",
       "    .dataframe tbody tr th {\n",
       "        vertical-align: top;\n",
       "    }\n",
       "\n",
       "    .dataframe thead th {\n",
       "        text-align: right;\n",
       "    }\n",
       "</style>\n",
       "<table border=\"1\" class=\"dataframe\">\n",
       "  <thead>\n",
       "    <tr style=\"text-align: right;\">\n",
       "      <th></th>\n",
       "      <th>id</th>\n",
       "      <th>first_gift_year</th>\n",
       "      <th>lapsed_count</th>\n",
       "      <th>recovered_count</th>\n",
       "      <th>max_consec_giving_years</th>\n",
       "      <th>total_giving_years</th>\n",
       "      <th>count_2013</th>\n",
       "      <th>count_2014</th>\n",
       "      <th>count_2015</th>\n",
       "      <th>count_2016</th>\n",
       "      <th>...</th>\n",
       "      <th>amount_06_yr4</th>\n",
       "      <th>amount_07_yr4</th>\n",
       "      <th>amount_08_yr4</th>\n",
       "      <th>amount_09_yr4</th>\n",
       "      <th>amount_10_yr4</th>\n",
       "      <th>amount_11_yr4</th>\n",
       "      <th>amount_12_yr4</th>\n",
       "      <th>years_donated</th>\n",
       "      <th>perc_years_donated</th>\n",
       "      <th>donor_profile</th>\n",
       "    </tr>\n",
       "  </thead>\n",
       "  <tbody>\n",
       "    <tr>\n",
       "      <td>0</td>\n",
       "      <td>1f4b5b6e68445c6c4a0509b3aca93f38</td>\n",
       "      <td>2015-01-01</td>\n",
       "      <td>4</td>\n",
       "      <td>4</td>\n",
       "      <td>4</td>\n",
       "      <td>4</td>\n",
       "      <td>0</td>\n",
       "      <td>0</td>\n",
       "      <td>42</td>\n",
       "      <td>64</td>\n",
       "      <td>...</td>\n",
       "      <td>NaN</td>\n",
       "      <td>NaN</td>\n",
       "      <td>NaN</td>\n",
       "      <td>NaN</td>\n",
       "      <td>NaN</td>\n",
       "      <td>NaN</td>\n",
       "      <td>NaN</td>\n",
       "      <td>4</td>\n",
       "      <td>0.8</td>\n",
       "      <td>repeat</td>\n",
       "    </tr>\n",
       "    <tr>\n",
       "      <td>1</td>\n",
       "      <td>4aaab6d244bf3599682239ed5591af8a</td>\n",
       "      <td>2016-01-01</td>\n",
       "      <td>2</td>\n",
       "      <td>1</td>\n",
       "      <td>1</td>\n",
       "      <td>1</td>\n",
       "      <td>0</td>\n",
       "      <td>0</td>\n",
       "      <td>0</td>\n",
       "      <td>1</td>\n",
       "      <td>...</td>\n",
       "      <td>NaN</td>\n",
       "      <td>NaN</td>\n",
       "      <td>NaN</td>\n",
       "      <td>NaN</td>\n",
       "      <td>NaN</td>\n",
       "      <td>NaN</td>\n",
       "      <td>NaN</td>\n",
       "      <td>1</td>\n",
       "      <td>0.2</td>\n",
       "      <td>one_time</td>\n",
       "    </tr>\n",
       "    <tr>\n",
       "      <td>2</td>\n",
       "      <td>0b0765dc9c759adc48a07688ba25e94e</td>\n",
       "      <td>2015-01-01</td>\n",
       "      <td>3</td>\n",
       "      <td>2</td>\n",
       "      <td>2</td>\n",
       "      <td>2</td>\n",
       "      <td>0</td>\n",
       "      <td>0</td>\n",
       "      <td>2</td>\n",
       "      <td>2</td>\n",
       "      <td>...</td>\n",
       "      <td>NaN</td>\n",
       "      <td>NaN</td>\n",
       "      <td>NaN</td>\n",
       "      <td>NaN</td>\n",
       "      <td>NaN</td>\n",
       "      <td>NaN</td>\n",
       "      <td>NaN</td>\n",
       "      <td>2</td>\n",
       "      <td>0.4</td>\n",
       "      <td>repeat</td>\n",
       "    </tr>\n",
       "    <tr>\n",
       "      <td>3</td>\n",
       "      <td>377944ad61f72d800b25ec1862aec363</td>\n",
       "      <td>2016-01-01</td>\n",
       "      <td>2</td>\n",
       "      <td>1</td>\n",
       "      <td>1</td>\n",
       "      <td>1</td>\n",
       "      <td>0</td>\n",
       "      <td>0</td>\n",
       "      <td>0</td>\n",
       "      <td>1</td>\n",
       "      <td>...</td>\n",
       "      <td>NaN</td>\n",
       "      <td>NaN</td>\n",
       "      <td>NaN</td>\n",
       "      <td>NaN</td>\n",
       "      <td>NaN</td>\n",
       "      <td>NaN</td>\n",
       "      <td>NaN</td>\n",
       "      <td>1</td>\n",
       "      <td>0.2</td>\n",
       "      <td>one_time</td>\n",
       "    </tr>\n",
       "    <tr>\n",
       "      <td>4</td>\n",
       "      <td>6d5b22d39e68c656071a842732c63a0c</td>\n",
       "      <td>2015-01-01</td>\n",
       "      <td>4</td>\n",
       "      <td>3</td>\n",
       "      <td>2</td>\n",
       "      <td>3</td>\n",
       "      <td>0</td>\n",
       "      <td>0</td>\n",
       "      <td>1</td>\n",
       "      <td>1</td>\n",
       "      <td>...</td>\n",
       "      <td>NaN</td>\n",
       "      <td>NaN</td>\n",
       "      <td>NaN</td>\n",
       "      <td>NaN</td>\n",
       "      <td>NaN</td>\n",
       "      <td>NaN</td>\n",
       "      <td>NaN</td>\n",
       "      <td>3</td>\n",
       "      <td>0.6</td>\n",
       "      <td>repeat</td>\n",
       "    </tr>\n",
       "  </tbody>\n",
       "</table>\n",
       "<p>5 rows × 188 columns</p>\n",
       "</div>"
      ],
      "text/plain": [
       "                                 id first_gift_year  lapsed_count  \\\n",
       "0  1f4b5b6e68445c6c4a0509b3aca93f38      2015-01-01             4   \n",
       "1  4aaab6d244bf3599682239ed5591af8a      2016-01-01             2   \n",
       "2  0b0765dc9c759adc48a07688ba25e94e      2015-01-01             3   \n",
       "3  377944ad61f72d800b25ec1862aec363      2016-01-01             2   \n",
       "4  6d5b22d39e68c656071a842732c63a0c      2015-01-01             4   \n",
       "\n",
       "   recovered_count  max_consec_giving_years  total_giving_years  count_2013  \\\n",
       "0                4                        4                   4           0   \n",
       "1                1                        1                   1           0   \n",
       "2                2                        2                   2           0   \n",
       "3                1                        1                   1           0   \n",
       "4                3                        2                   3           0   \n",
       "\n",
       "   count_2014  count_2015  count_2016  ...  amount_06_yr4  amount_07_yr4  \\\n",
       "0           0          42          64  ...            NaN            NaN   \n",
       "1           0           0           1  ...            NaN            NaN   \n",
       "2           0           2           2  ...            NaN            NaN   \n",
       "3           0           0           1  ...            NaN            NaN   \n",
       "4           0           1           1  ...            NaN            NaN   \n",
       "\n",
       "   amount_08_yr4  amount_09_yr4  amount_10_yr4  amount_11_yr4  amount_12_yr4  \\\n",
       "0            NaN            NaN            NaN            NaN            NaN   \n",
       "1            NaN            NaN            NaN            NaN            NaN   \n",
       "2            NaN            NaN            NaN            NaN            NaN   \n",
       "3            NaN            NaN            NaN            NaN            NaN   \n",
       "4            NaN            NaN            NaN            NaN            NaN   \n",
       "\n",
       "   years_donated  perc_years_donated  donor_profile  \n",
       "0              4                 0.8         repeat  \n",
       "1              1                 0.2       one_time  \n",
       "2              2                 0.4         repeat  \n",
       "3              1                 0.2       one_time  \n",
       "4              3                 0.6         repeat  \n",
       "\n",
       "[5 rows x 188 columns]"
      ]
     },
     "execution_count": 4,
     "metadata": {},
     "output_type": "execute_result"
    }
   ],
   "source": [
    "donations_13to17.head()"
   ]
  },
  {
   "cell_type": "markdown",
   "metadata": {},
   "source": [
    "### Information about the donors"
   ]
  },
  {
   "cell_type": "code",
   "execution_count": 5,
   "metadata": {},
   "outputs": [],
   "source": [
    "cohort13=pd.read_pickle('cohort13.pkl')\n",
    "cohort14=pd.read_pickle('cohort14.pkl')\n",
    "cohort15=pd.read_pickle('cohort15.pkl')\n",
    "cohort16=pd.read_pickle('cohort16.pkl')\n",
    "cohort17=pd.read_pickle('cohort17.pkl')"
   ]
  },
  {
   "cell_type": "code",
   "execution_count": 6,
   "metadata": {},
   "outputs": [],
   "source": [
    "# number of donors per year (regardless of whether donor is new or old)\n",
    "no_donors_2013 = donations_13to17.query('amount_2013 > 0').count()['id']\n",
    "no_donors_2014 = donations_13to17.query('amount_2014 > 0').count()['id']\n",
    "no_donors_2015 = donations_13to17.query('amount_2015 > 0').count()['id']\n",
    "no_donors_2016 = donations_13to17.query('amount_2016 > 0').count()['id']\n",
    "no_donors_2017 = donations_13to17.query('amount_2017 > 0').count()['id']\n",
    "no_donors_overall = donations_13to17.id.count()"
   ]
  },
  {
   "cell_type": "code",
   "execution_count": 7,
   "metadata": {},
   "outputs": [],
   "source": [
    "no_donations_2013 = donations_13to17['count_2013'].sum()\n",
    "no_donations_2014 = donations_13to17['count_2014'].sum()\n",
    "no_donations_2015 = donations_13to17['count_2015'].sum()\n",
    "no_donations_2016 = donations_13to17['count_2016'].sum()\n",
    "no_donations_2017 = donations_13to17['count_2017'].sum()\n",
    "no_donations_overall = donations_13to17.count_total.sum()"
   ]
  },
  {
   "cell_type": "code",
   "execution_count": 8,
   "metadata": {},
   "outputs": [],
   "source": [
    "amt_donated_2013 = donations_13to17['amount_2013'].sum()\n",
    "amt_donated_2014 = donations_13to17['amount_2014'].sum()\n",
    "amt_donated_2015 = donations_13to17['amount_2015'].sum()\n",
    "amt_donated_2016 = donations_13to17['amount_2016'].sum()\n",
    "amt_donated_2017 = donations_13to17['amount_2017'].sum()\n",
    "amt_donated_overall = donations_13to17.amount_total.sum()"
   ]
  },
  {
   "cell_type": "code",
   "execution_count": 9,
   "metadata": {},
   "outputs": [],
   "source": [
    "avg_amt_per_donor_2013 = amt_donated_2013/no_donors_2013\n",
    "avg_amt_per_donor_2014 = amt_donated_2014/no_donors_2014\n",
    "avg_amt_per_donor_2015 = amt_donated_2015/no_donors_2015\n",
    "avg_amt_per_donor_2016 = amt_donated_2016/no_donors_2016\n",
    "avg_amt_per_donor_2017 = amt_donated_2017/no_donors_2017\n",
    "avg_amt_per_donor_overall = amt_donated_overall/no_donors_overall"
   ]
  },
  {
   "cell_type": "code",
   "execution_count": 10,
   "metadata": {},
   "outputs": [],
   "source": [
    "max_amt_by_single_donor_2013 = donations_13to17['amount_2013'].max()\n",
    "max_amt_by_single_donor_2014 = donations_13to17['amount_2014'].max()\n",
    "max_amt_by_single_donor_2015 = donations_13to17['amount_2015'].max()\n",
    "max_amt_by_single_donor_2016 = donations_13to17['amount_2016'].max()\n",
    "max_amt_by_single_donor_2017 = donations_13to17['amount_2017'].max()\n",
    "max_amt_by_single_donor_overall = donations_13to17['amount_total'].max()"
   ]
  },
  {
   "cell_type": "code",
   "execution_count": 11,
   "metadata": {},
   "outputs": [],
   "source": [
    "onetime_donors = donations_13to17[(donations_13to17['total_giving_years'] == 1)]"
   ]
  },
  {
   "cell_type": "code",
   "execution_count": 12,
   "metadata": {},
   "outputs": [
    {
     "data": {
      "text/plain": [
       "(1547304, 188)"
      ]
     },
     "execution_count": 12,
     "metadata": {},
     "output_type": "execute_result"
    }
   ],
   "source": [
    "onetime_donors.shape"
   ]
  },
  {
   "cell_type": "code",
   "execution_count": 13,
   "metadata": {},
   "outputs": [],
   "source": [
    "repeat_donors = donations_13to17[(donations_13to17['total_giving_years'] > 1) ]"
   ]
  },
  {
   "cell_type": "code",
   "execution_count": 14,
   "metadata": {},
   "outputs": [
    {
     "data": {
      "text/plain": [
       "(329164, 188)"
      ]
     },
     "execution_count": 14,
     "metadata": {},
     "output_type": "execute_result"
    }
   ],
   "source": [
    "repeat_donors.shape"
   ]
  },
  {
   "cell_type": "code",
   "execution_count": 15,
   "metadata": {},
   "outputs": [],
   "source": [
    "no_onetime_donors = len(onetime_donors.id.unique())\n",
    "no_repeat_donors = len(repeat_donors.id.unique())\n",
    "perc_onetime_donors= no_onetime_donors/no_donors_overall\n",
    "perc_repeat_donors = no_repeat_donors/no_donors_overall"
   ]
  },
  {
   "cell_type": "code",
   "execution_count": 16,
   "metadata": {},
   "outputs": [],
   "source": [
    "# number of new donors that year / number of donors per cohort class\n",
    "no_new_donors_2013 = donations_13to17.query(\"first_gift_year == '2013-01-01'\").count()['id'] \n",
    "no_new_donors_2014 = donations_13to17.query(\"first_gift_year == '2014-01-01'\").count()['id'] \n",
    "no_new_donors_2015 = donations_13to17.query(\"first_gift_year == '2015-01-01'\").count()['id'] \n",
    "no_new_donors_2016 = donations_13to17.query(\"first_gift_year == '2016-01-01'\").count()['id'] \n",
    "no_new_donors_2017 = donations_13to17.query(\"first_gift_year == '2017-01-01'\").count()['id']  "
   ]
  },
  {
   "cell_type": "code",
   "execution_count": 17,
   "metadata": {},
   "outputs": [],
   "source": [
    "# number of repeat/returning donors\n",
    "no_repeat_donors_2013 = no_donors_2013-no_new_donors_2013\n",
    "no_repeat_donors_2014 = no_donors_2014-no_new_donors_2014\n",
    "no_repeat_donors_2015 = no_donors_2015-no_new_donors_2015\n",
    "no_repeat_donors_2016 = no_donors_2016-no_new_donors_2016\n",
    "no_repeat_donors_2017 = no_donors_2017-no_new_donors_2017"
   ]
  },
  {
   "cell_type": "code",
   "execution_count": 18,
   "metadata": {},
   "outputs": [],
   "source": [
    "#n/a not enough data  retention_rate_13 = no_repeat_donors_13/(no_repeat_donors_13+no_donors_lapsed_13)\n",
    "retention_rate_2014 = no_repeat_donors_2014/(no_donors_2013)\n",
    "retention_rate_2015 = no_repeat_donors_2015/(no_donors_2014)\n",
    "retention_rate_2016 = no_repeat_donors_2016/(no_donors_2015)\n",
    "retention_rate_2017 = no_repeat_donors_2017/(no_donors_2016)"
   ]
  },
  {
   "cell_type": "code",
   "execution_count": 19,
   "metadata": {},
   "outputs": [],
   "source": [
    "no_donors_lapsed_2014 = donations_13to17[(donations_13to17['amount_2013'] > 0) & (donations_13to17['amount_2014'] == 0)].count()['id']\n",
    "no_donors_lapsed_2015 = donations_13to17[(donations_13to17['amount_2014'] > 0) & (donations_13to17['amount_2015'] == 0)].count()['id']\n",
    "no_donors_lapsed_2016 = donations_13to17[(donations_13to17['amount_2015'] > 0) & (donations_13to17['amount_2016'] == 0)].count()['id']\n",
    "no_donors_lapsed_2017 = donations_13to17[(donations_13to17['amount_2016'] > 0) & (donations_13to17['amount_2017'] == 0)].count()['id']"
   ]
  },
  {
   "cell_type": "code",
   "execution_count": 20,
   "metadata": {},
   "outputs": [
    {
     "data": {
      "text/html": [
       "<div>\n",
       "<style scoped>\n",
       "    .dataframe tbody tr th:only-of-type {\n",
       "        vertical-align: middle;\n",
       "    }\n",
       "\n",
       "    .dataframe tbody tr th {\n",
       "        vertical-align: top;\n",
       "    }\n",
       "\n",
       "    .dataframe thead th {\n",
       "        text-align: right;\n",
       "    }\n",
       "</style>\n",
       "<table border=\"1\" class=\"dataframe\">\n",
       "  <thead>\n",
       "    <tr style=\"text-align: right;\">\n",
       "      <th></th>\n",
       "      <th>id</th>\n",
       "      <th>first_gift_year</th>\n",
       "      <th>lapsed_count</th>\n",
       "      <th>recovered_count</th>\n",
       "      <th>max_consec_giving_years</th>\n",
       "      <th>total_giving_years</th>\n",
       "      <th>count_2013</th>\n",
       "      <th>count_2014</th>\n",
       "      <th>count_2015</th>\n",
       "      <th>count_2016</th>\n",
       "      <th>...</th>\n",
       "      <th>amount_06_yr4</th>\n",
       "      <th>amount_07_yr4</th>\n",
       "      <th>amount_08_yr4</th>\n",
       "      <th>amount_09_yr4</th>\n",
       "      <th>amount_10_yr4</th>\n",
       "      <th>amount_11_yr4</th>\n",
       "      <th>amount_12_yr4</th>\n",
       "      <th>years_donated</th>\n",
       "      <th>perc_years_donated</th>\n",
       "      <th>donor_profile</th>\n",
       "    </tr>\n",
       "  </thead>\n",
       "  <tbody>\n",
       "    <tr>\n",
       "      <td>587</td>\n",
       "      <td>cd7b8a372e9df9f2b15e817df0647e32</td>\n",
       "      <td>2014-01-01</td>\n",
       "      <td>3</td>\n",
       "      <td>2</td>\n",
       "      <td>1</td>\n",
       "      <td>2</td>\n",
       "      <td>0</td>\n",
       "      <td>1</td>\n",
       "      <td>0</td>\n",
       "      <td>0</td>\n",
       "      <td>...</td>\n",
       "      <td>0.0</td>\n",
       "      <td>0.0</td>\n",
       "      <td>0.0</td>\n",
       "      <td>0.0</td>\n",
       "      <td>0.0</td>\n",
       "      <td>0.0</td>\n",
       "      <td>0.0</td>\n",
       "      <td>2</td>\n",
       "      <td>0.4</td>\n",
       "      <td>repeat</td>\n",
       "    </tr>\n",
       "    <tr>\n",
       "      <td>881</td>\n",
       "      <td>f032e4065b9f38d2438d012f938420f8</td>\n",
       "      <td>2014-01-01</td>\n",
       "      <td>3</td>\n",
       "      <td>2</td>\n",
       "      <td>1</td>\n",
       "      <td>2</td>\n",
       "      <td>0</td>\n",
       "      <td>3</td>\n",
       "      <td>0</td>\n",
       "      <td>0</td>\n",
       "      <td>...</td>\n",
       "      <td>0.0</td>\n",
       "      <td>0.0</td>\n",
       "      <td>0.0</td>\n",
       "      <td>0.0</td>\n",
       "      <td>0.0</td>\n",
       "      <td>0.0</td>\n",
       "      <td>0.0</td>\n",
       "      <td>2</td>\n",
       "      <td>0.4</td>\n",
       "      <td>repeat</td>\n",
       "    </tr>\n",
       "    <tr>\n",
       "      <td>1070</td>\n",
       "      <td>3f78c2aba6d7cd9af0043cd77f02ce0b</td>\n",
       "      <td>2014-01-01</td>\n",
       "      <td>3</td>\n",
       "      <td>2</td>\n",
       "      <td>1</td>\n",
       "      <td>2</td>\n",
       "      <td>0</td>\n",
       "      <td>1</td>\n",
       "      <td>0</td>\n",
       "      <td>0</td>\n",
       "      <td>...</td>\n",
       "      <td>0.0</td>\n",
       "      <td>0.0</td>\n",
       "      <td>0.0</td>\n",
       "      <td>0.0</td>\n",
       "      <td>0.0</td>\n",
       "      <td>0.0</td>\n",
       "      <td>0.0</td>\n",
       "      <td>2</td>\n",
       "      <td>0.4</td>\n",
       "      <td>repeat</td>\n",
       "    </tr>\n",
       "    <tr>\n",
       "      <td>2870</td>\n",
       "      <td>5d42ebc784dd7851b685eef036bfda22</td>\n",
       "      <td>2014-01-01</td>\n",
       "      <td>3</td>\n",
       "      <td>2</td>\n",
       "      <td>1</td>\n",
       "      <td>2</td>\n",
       "      <td>0</td>\n",
       "      <td>1</td>\n",
       "      <td>0</td>\n",
       "      <td>0</td>\n",
       "      <td>...</td>\n",
       "      <td>0.0</td>\n",
       "      <td>0.0</td>\n",
       "      <td>0.0</td>\n",
       "      <td>0.0</td>\n",
       "      <td>0.0</td>\n",
       "      <td>0.0</td>\n",
       "      <td>0.0</td>\n",
       "      <td>2</td>\n",
       "      <td>0.4</td>\n",
       "      <td>repeat</td>\n",
       "    </tr>\n",
       "    <tr>\n",
       "      <td>4000</td>\n",
       "      <td>397d46a3a0a5049add54eb05da3e9ddc</td>\n",
       "      <td>2014-01-01</td>\n",
       "      <td>3</td>\n",
       "      <td>2</td>\n",
       "      <td>1</td>\n",
       "      <td>2</td>\n",
       "      <td>0</td>\n",
       "      <td>3</td>\n",
       "      <td>0</td>\n",
       "      <td>0</td>\n",
       "      <td>...</td>\n",
       "      <td>0.0</td>\n",
       "      <td>0.0</td>\n",
       "      <td>0.0</td>\n",
       "      <td>0.0</td>\n",
       "      <td>0.0</td>\n",
       "      <td>0.0</td>\n",
       "      <td>0.0</td>\n",
       "      <td>2</td>\n",
       "      <td>0.4</td>\n",
       "      <td>repeat</td>\n",
       "    </tr>\n",
       "    <tr>\n",
       "      <td>...</td>\n",
       "      <td>...</td>\n",
       "      <td>...</td>\n",
       "      <td>...</td>\n",
       "      <td>...</td>\n",
       "      <td>...</td>\n",
       "      <td>...</td>\n",
       "      <td>...</td>\n",
       "      <td>...</td>\n",
       "      <td>...</td>\n",
       "      <td>...</td>\n",
       "      <td>...</td>\n",
       "      <td>...</td>\n",
       "      <td>...</td>\n",
       "      <td>...</td>\n",
       "      <td>...</td>\n",
       "      <td>...</td>\n",
       "      <td>...</td>\n",
       "      <td>...</td>\n",
       "      <td>...</td>\n",
       "      <td>...</td>\n",
       "      <td>...</td>\n",
       "    </tr>\n",
       "    <tr>\n",
       "      <td>1921356</td>\n",
       "      <td>84575d5445ce425171e9d8ebbdc1c4b4</td>\n",
       "      <td>2014-01-01</td>\n",
       "      <td>3</td>\n",
       "      <td>2</td>\n",
       "      <td>1</td>\n",
       "      <td>2</td>\n",
       "      <td>0</td>\n",
       "      <td>1</td>\n",
       "      <td>0</td>\n",
       "      <td>0</td>\n",
       "      <td>...</td>\n",
       "      <td>0.0</td>\n",
       "      <td>0.0</td>\n",
       "      <td>0.0</td>\n",
       "      <td>0.0</td>\n",
       "      <td>0.0</td>\n",
       "      <td>0.0</td>\n",
       "      <td>0.0</td>\n",
       "      <td>2</td>\n",
       "      <td>0.4</td>\n",
       "      <td>repeat</td>\n",
       "    </tr>\n",
       "    <tr>\n",
       "      <td>1938062</td>\n",
       "      <td>5ab992c3bbe0c5ab7858bc08cd7b066a</td>\n",
       "      <td>2014-01-01</td>\n",
       "      <td>3</td>\n",
       "      <td>2</td>\n",
       "      <td>1</td>\n",
       "      <td>2</td>\n",
       "      <td>0</td>\n",
       "      <td>1</td>\n",
       "      <td>0</td>\n",
       "      <td>0</td>\n",
       "      <td>...</td>\n",
       "      <td>0.0</td>\n",
       "      <td>0.0</td>\n",
       "      <td>0.0</td>\n",
       "      <td>0.0</td>\n",
       "      <td>0.0</td>\n",
       "      <td>0.0</td>\n",
       "      <td>0.0</td>\n",
       "      <td>2</td>\n",
       "      <td>0.4</td>\n",
       "      <td>repeat</td>\n",
       "    </tr>\n",
       "    <tr>\n",
       "      <td>1945118</td>\n",
       "      <td>e58c935b54c64133c739cb6142e2cfc8</td>\n",
       "      <td>2014-01-01</td>\n",
       "      <td>3</td>\n",
       "      <td>2</td>\n",
       "      <td>1</td>\n",
       "      <td>2</td>\n",
       "      <td>0</td>\n",
       "      <td>1</td>\n",
       "      <td>0</td>\n",
       "      <td>0</td>\n",
       "      <td>...</td>\n",
       "      <td>0.0</td>\n",
       "      <td>0.0</td>\n",
       "      <td>0.0</td>\n",
       "      <td>0.0</td>\n",
       "      <td>0.0</td>\n",
       "      <td>0.0</td>\n",
       "      <td>0.0</td>\n",
       "      <td>2</td>\n",
       "      <td>0.4</td>\n",
       "      <td>repeat</td>\n",
       "    </tr>\n",
       "    <tr>\n",
       "      <td>1949884</td>\n",
       "      <td>eff02c1bc7e54bdce03d9c88e684f208</td>\n",
       "      <td>2014-01-01</td>\n",
       "      <td>3</td>\n",
       "      <td>2</td>\n",
       "      <td>1</td>\n",
       "      <td>2</td>\n",
       "      <td>0</td>\n",
       "      <td>1</td>\n",
       "      <td>0</td>\n",
       "      <td>0</td>\n",
       "      <td>...</td>\n",
       "      <td>0.0</td>\n",
       "      <td>0.0</td>\n",
       "      <td>0.0</td>\n",
       "      <td>0.0</td>\n",
       "      <td>0.0</td>\n",
       "      <td>0.0</td>\n",
       "      <td>0.0</td>\n",
       "      <td>2</td>\n",
       "      <td>0.4</td>\n",
       "      <td>repeat</td>\n",
       "    </tr>\n",
       "    <tr>\n",
       "      <td>2015876</td>\n",
       "      <td>1734f5b1d8417ac73e82d78298bbe52a</td>\n",
       "      <td>2014-01-01</td>\n",
       "      <td>3</td>\n",
       "      <td>2</td>\n",
       "      <td>1</td>\n",
       "      <td>2</td>\n",
       "      <td>0</td>\n",
       "      <td>1</td>\n",
       "      <td>0</td>\n",
       "      <td>0</td>\n",
       "      <td>...</td>\n",
       "      <td>0.0</td>\n",
       "      <td>0.0</td>\n",
       "      <td>0.0</td>\n",
       "      <td>0.0</td>\n",
       "      <td>0.0</td>\n",
       "      <td>0.0</td>\n",
       "      <td>0.0</td>\n",
       "      <td>2</td>\n",
       "      <td>0.4</td>\n",
       "      <td>repeat</td>\n",
       "    </tr>\n",
       "  </tbody>\n",
       "</table>\n",
       "<p>1902 rows × 188 columns</p>\n",
       "</div>"
      ],
      "text/plain": [
       "                                       id first_gift_year  lapsed_count  \\\n",
       "587      cd7b8a372e9df9f2b15e817df0647e32      2014-01-01             3   \n",
       "881      f032e4065b9f38d2438d012f938420f8      2014-01-01             3   \n",
       "1070     3f78c2aba6d7cd9af0043cd77f02ce0b      2014-01-01             3   \n",
       "2870     5d42ebc784dd7851b685eef036bfda22      2014-01-01             3   \n",
       "4000     397d46a3a0a5049add54eb05da3e9ddc      2014-01-01             3   \n",
       "...                                   ...             ...           ...   \n",
       "1921356  84575d5445ce425171e9d8ebbdc1c4b4      2014-01-01             3   \n",
       "1938062  5ab992c3bbe0c5ab7858bc08cd7b066a      2014-01-01             3   \n",
       "1945118  e58c935b54c64133c739cb6142e2cfc8      2014-01-01             3   \n",
       "1949884  eff02c1bc7e54bdce03d9c88e684f208      2014-01-01             3   \n",
       "2015876  1734f5b1d8417ac73e82d78298bbe52a      2014-01-01             3   \n",
       "\n",
       "         recovered_count  max_consec_giving_years  total_giving_years  \\\n",
       "587                    2                        1                   2   \n",
       "881                    2                        1                   2   \n",
       "1070                   2                        1                   2   \n",
       "2870                   2                        1                   2   \n",
       "4000                   2                        1                   2   \n",
       "...                  ...                      ...                 ...   \n",
       "1921356                2                        1                   2   \n",
       "1938062                2                        1                   2   \n",
       "1945118                2                        1                   2   \n",
       "1949884                2                        1                   2   \n",
       "2015876                2                        1                   2   \n",
       "\n",
       "         count_2013  count_2014  count_2015  count_2016  ...  amount_06_yr4  \\\n",
       "587               0           1           0           0  ...            0.0   \n",
       "881               0           3           0           0  ...            0.0   \n",
       "1070              0           1           0           0  ...            0.0   \n",
       "2870              0           1           0           0  ...            0.0   \n",
       "4000              0           3           0           0  ...            0.0   \n",
       "...             ...         ...         ...         ...  ...            ...   \n",
       "1921356           0           1           0           0  ...            0.0   \n",
       "1938062           0           1           0           0  ...            0.0   \n",
       "1945118           0           1           0           0  ...            0.0   \n",
       "1949884           0           1           0           0  ...            0.0   \n",
       "2015876           0           1           0           0  ...            0.0   \n",
       "\n",
       "         amount_07_yr4  amount_08_yr4  amount_09_yr4  amount_10_yr4  \\\n",
       "587                0.0            0.0            0.0            0.0   \n",
       "881                0.0            0.0            0.0            0.0   \n",
       "1070               0.0            0.0            0.0            0.0   \n",
       "2870               0.0            0.0            0.0            0.0   \n",
       "4000               0.0            0.0            0.0            0.0   \n",
       "...                ...            ...            ...            ...   \n",
       "1921356            0.0            0.0            0.0            0.0   \n",
       "1938062            0.0            0.0            0.0            0.0   \n",
       "1945118            0.0            0.0            0.0            0.0   \n",
       "1949884            0.0            0.0            0.0            0.0   \n",
       "2015876            0.0            0.0            0.0            0.0   \n",
       "\n",
       "         amount_11_yr4  amount_12_yr4  years_donated  perc_years_donated  \\\n",
       "587                0.0            0.0              2                 0.4   \n",
       "881                0.0            0.0              2                 0.4   \n",
       "1070               0.0            0.0              2                 0.4   \n",
       "2870               0.0            0.0              2                 0.4   \n",
       "4000               0.0            0.0              2                 0.4   \n",
       "...                ...            ...            ...                 ...   \n",
       "1921356            0.0            0.0              2                 0.4   \n",
       "1938062            0.0            0.0              2                 0.4   \n",
       "1945118            0.0            0.0              2                 0.4   \n",
       "1949884            0.0            0.0              2                 0.4   \n",
       "2015876            0.0            0.0              2                 0.4   \n",
       "\n",
       "         donor_profile  \n",
       "587             repeat  \n",
       "881             repeat  \n",
       "1070            repeat  \n",
       "2870            repeat  \n",
       "4000            repeat  \n",
       "...                ...  \n",
       "1921356         repeat  \n",
       "1938062         repeat  \n",
       "1945118         repeat  \n",
       "1949884         repeat  \n",
       "2015876         repeat  \n",
       "\n",
       "[1902 rows x 188 columns]"
      ]
     },
     "execution_count": 20,
     "metadata": {},
     "output_type": "execute_result"
    }
   ],
   "source": [
    "donations_13to17.query('amount_2013 == 0 & amount_2014 > 0 & amount_2015 == 0 & amount_2016 == 0 & amount_2017 == 0 & total_giving_years > 1')"
   ]
  },
  {
   "cell_type": "code",
   "execution_count": 21,
   "metadata": {},
   "outputs": [],
   "source": [
    "df2013=donations_13to17.query('amount_2013 > 0')"
   ]
  },
  {
   "cell_type": "code",
   "execution_count": 22,
   "metadata": {},
   "outputs": [
    {
     "data": {
      "text/html": [
       "<div>\n",
       "<style scoped>\n",
       "    .dataframe tbody tr th:only-of-type {\n",
       "        vertical-align: middle;\n",
       "    }\n",
       "\n",
       "    .dataframe tbody tr th {\n",
       "        vertical-align: top;\n",
       "    }\n",
       "\n",
       "    .dataframe thead tr th {\n",
       "        text-align: left;\n",
       "    }\n",
       "\n",
       "    .dataframe thead tr:last-of-type th {\n",
       "        text-align: right;\n",
       "    }\n",
       "</style>\n",
       "<table border=\"1\" class=\"dataframe\">\n",
       "  <thead>\n",
       "    <tr>\n",
       "      <th></th>\n",
       "      <th colspan=\"2\" halign=\"left\">lapsed_count</th>\n",
       "      <th colspan=\"2\" halign=\"left\">recovered_count</th>\n",
       "    </tr>\n",
       "    <tr>\n",
       "      <th></th>\n",
       "      <th>sum</th>\n",
       "      <th>count</th>\n",
       "      <th>sum</th>\n",
       "      <th>count</th>\n",
       "    </tr>\n",
       "    <tr>\n",
       "      <th>first_gift_year</th>\n",
       "      <th></th>\n",
       "      <th></th>\n",
       "      <th></th>\n",
       "      <th></th>\n",
       "    </tr>\n",
       "  </thead>\n",
       "  <tbody>\n",
       "    <tr>\n",
       "      <td>2013-01-01</td>\n",
       "      <td>848867</td>\n",
       "      <td>320069</td>\n",
       "      <td>496102</td>\n",
       "      <td>320069</td>\n",
       "    </tr>\n",
       "    <tr>\n",
       "      <td>2014-01-01</td>\n",
       "      <td>777916</td>\n",
       "      <td>320673</td>\n",
       "      <td>434887</td>\n",
       "      <td>320673</td>\n",
       "    </tr>\n",
       "    <tr>\n",
       "      <td>2015-01-01</td>\n",
       "      <td>809987</td>\n",
       "      <td>355137</td>\n",
       "      <td>445042</td>\n",
       "      <td>355137</td>\n",
       "    </tr>\n",
       "    <tr>\n",
       "      <td>2016-01-01</td>\n",
       "      <td>956072</td>\n",
       "      <td>445598</td>\n",
       "      <td>520809</td>\n",
       "      <td>445598</td>\n",
       "    </tr>\n",
       "    <tr>\n",
       "      <td>2017-01-01</td>\n",
       "      <td>869982</td>\n",
       "      <td>434991</td>\n",
       "      <td>464981</td>\n",
       "      <td>434991</td>\n",
       "    </tr>\n",
       "  </tbody>\n",
       "</table>\n",
       "</div>"
      ],
      "text/plain": [
       "                lapsed_count         recovered_count        \n",
       "                         sum   count             sum   count\n",
       "first_gift_year                                             \n",
       "2013-01-01            848867  320069          496102  320069\n",
       "2014-01-01            777916  320673          434887  320673\n",
       "2015-01-01            809987  355137          445042  355137\n",
       "2016-01-01            956072  445598          520809  445598\n",
       "2017-01-01            869982  434991          464981  434991"
      ]
     },
     "execution_count": 22,
     "metadata": {},
     "output_type": "execute_result"
    }
   ],
   "source": [
    "d = {'lapsed_count': ['sum', 'count'], 'recovered_count': ['sum', 'count']}\n",
    "res = donations_13to17.groupby('first_gift_year').agg(d)\n",
    "res"
   ]
  },
  {
   "cell_type": "code",
   "execution_count": 23,
   "metadata": {},
   "outputs": [
    {
     "name": "stdout",
     "output_type": "stream",
     "text": [
      "Repeat donors\n",
      "Count:  329,164\n",
      "% total count:  17.54%\n",
      "Amount donated:  $ 147,082,157\n",
      "% total amount:  57.04%\n"
     ]
    }
   ],
   "source": [
    "print(f'Repeat donors')\n",
    "print(f'Count: ', f'{repeat_donors.id.count():,.0f}')\n",
    "print(f'% total count: ', f'{repeat_donors.id.count()/no_donors_overall:.2%}')\n",
    "print(f'Amount donated: ', f'$', f'{repeat_donors.amount_total.sum():,.0f}')\n",
    "print(f'% total amount: ', f'{repeat_donors.amount_total.sum()/amt_donated_overall:.2%}')"
   ]
  },
  {
   "cell_type": "code",
   "execution_count": 24,
   "metadata": {
    "scrolled": true
   },
   "outputs": [
    {
     "name": "stdout",
     "output_type": "stream",
     "text": [
      "Overview overall 2013-2017\n",
      "# donors: 1,876,468\n",
      "# one-time donors: 1,547,304\n",
      "% one-time donors: 82%\n",
      "# repeat donors: 329,164\n",
      "% repeat donors: 18%\n",
      "# donations: 4,247,863\n",
      "$ donated: $ 257,848,862.50\n",
      "Average $ per donor: $ 137.41\n",
      "Max $ by single donor: $ 1,836,958.08\n"
     ]
    }
   ],
   "source": [
    "# 1. Overview stats - 2013-2017\n",
    "print(f'Overview overall 2013-2017')\n",
    "print(f'# donors:', f'{no_donors_overall:,}')\n",
    "print(f'# one-time donors:', f'{no_onetime_donors:,}')\n",
    "print(f'% one-time donors:', f'{perc_onetime_donors:.0%}')\n",
    "print(f'# repeat donors:', f'{no_repeat_donors:,}')\n",
    "print(f'% repeat donors:', f'{perc_repeat_donors:.0%}')\n",
    "print(f'# donations:', f'{no_donations_overall:,}')\n",
    "print(f'$ donated:', f'$', f\"{amt_donated_overall:,.2f}\")\n",
    "print(f'Average $ per donor:', f'$', f'{avg_amt_per_donor_overall:,.2f}')\n",
    "print(f'Max $ by single donor:', f'$', f'{max_amt_by_single_donor_overall:,.2f}')"
   ]
  },
  {
   "cell_type": "code",
   "execution_count": 25,
   "metadata": {},
   "outputs": [
    {
     "name": "stdout",
     "output_type": "stream",
     "text": [
      "id\n",
      "first_gift_year\n",
      "lapsed_count\n",
      "recovered_count\n",
      "max_consec_giving_years\n",
      "total_giving_years\n",
      "count_2013\n",
      "count_2014\n",
      "count_2015\n",
      "count_2016\n",
      "count_2017\n",
      "count_yr0_x\n",
      "count_yr1_x\n",
      "count_yr2_x\n",
      "count_yr3_x\n",
      "count_yr4_x\n",
      "lapsed_amount\n",
      "recovered_amount\n",
      "amount_2013\n",
      "amount_2014\n",
      "amount_2015\n",
      "amount_2016\n",
      "amount_2017\n",
      "lapsed_amount_2013\n",
      "lapsed_amount_2014\n",
      "lapsed_amount_2015\n",
      "lapsed_amount_2016\n",
      "lapsed_amount_2017\n",
      "upgraded_amount_2013\n",
      "upgraded_amount_2014\n",
      "upgraded_amount_2015\n",
      "upgraded_amount_2016\n",
      "upgraded_amount_2017\n",
      "downgraded_amount_2013\n",
      "downgraded_amount_2014\n",
      "downgraded_amount_2015\n",
      "downgraded_amount_2016\n",
      "downgraded_amount_2017\n",
      "amount_yr0\n",
      "amount_yr1\n",
      "amount_yr2\n",
      "amount_yr3\n",
      "amount_yr4\n",
      "count_yr0_y\n",
      "count_yr1_y\n",
      "count_yr2_y\n",
      "count_yr3_y\n",
      "count_yr4_y\n",
      "lapsed_amount_yr0\n",
      "lapsed_amount_yr1\n",
      "lapsed_amount_yr2\n",
      "lapsed_amount_yr3\n",
      "lapsed_amount_yr4\n",
      "upgraded_amount_yr0\n",
      "upgraded_amount_yr1\n",
      "upgraded_amount_yr2\n",
      "upgraded_amount_yr3\n",
      "upgraded_amount_yr4\n",
      "downgraded_amount_yr0\n",
      "downgraded_amount_yr1\n",
      "downgraded_amount_yr2\n",
      "downgraded_amount_yr3\n",
      "downgraded_amount_yr4\n",
      "amount_01_2013\n",
      "amount_02_2013\n",
      "amount_03_2013\n",
      "amount_04_2013\n",
      "amount_05_2013\n",
      "amount_06_2013\n",
      "amount_07_2013\n",
      "amount_08_2013\n",
      "amount_09_2013\n",
      "amount_10_2013\n",
      "amount_11_2013\n",
      "amount_12_2013\n",
      "amount_01_2014\n",
      "amount_02_2014\n",
      "amount_03_2014\n",
      "amount_04_2014\n",
      "amount_05_2014\n",
      "amount_06_2014\n",
      "amount_07_2014\n",
      "amount_08_2014\n",
      "amount_09_2014\n",
      "amount_10_2014\n",
      "amount_11_2014\n",
      "amount_12_2014\n",
      "amount_01_2015\n",
      "amount_02_2015\n",
      "amount_03_2015\n",
      "amount_04_2015\n",
      "amount_05_2015\n",
      "amount_06_2015\n",
      "amount_07_2015\n",
      "amount_08_2015\n",
      "amount_09_2015\n",
      "amount_10_2015\n",
      "amount_11_2015\n",
      "amount_12_2015\n",
      "amount_01_2016\n",
      "amount_02_2016\n",
      "amount_03_2016\n",
      "amount_04_2016\n",
      "amount_05_2016\n",
      "amount_06_2016\n",
      "amount_07_2016\n",
      "amount_08_2016\n",
      "amount_09_2016\n",
      "amount_10_2016\n",
      "amount_11_2016\n",
      "amount_12_2016\n",
      "amount_01_2017\n",
      "amount_02_2017\n",
      "amount_03_2017\n",
      "amount_04_2017\n",
      "amount_05_2017\n",
      "amount_06_2017\n",
      "amount_07_2017\n",
      "amount_08_2017\n",
      "amount_09_2017\n",
      "amount_10_2017\n",
      "amount_11_2017\n",
      "amount_12_2017\n",
      "amount_total\n",
      "count_total\n",
      "amount_01_yr0\n",
      "amount_02_yr0\n",
      "amount_03_yr0\n",
      "amount_04_yr0\n",
      "amount_05_yr0\n",
      "amount_06_yr0\n",
      "amount_07_yr0\n",
      "amount_08_yr0\n",
      "amount_09_yr0\n",
      "amount_10_yr0\n",
      "amount_11_yr0\n",
      "amount_12_yr0\n",
      "amount_01_yr1\n",
      "amount_02_yr1\n",
      "amount_03_yr1\n",
      "amount_04_yr1\n",
      "amount_05_yr1\n",
      "amount_06_yr1\n",
      "amount_07_yr1\n",
      "amount_08_yr1\n",
      "amount_09_yr1\n",
      "amount_10_yr1\n",
      "amount_11_yr1\n",
      "amount_12_yr1\n",
      "amount_01_yr2\n",
      "amount_02_yr2\n",
      "amount_03_yr2\n",
      "amount_04_yr2\n",
      "amount_05_yr2\n",
      "amount_06_yr2\n",
      "amount_07_yr2\n",
      "amount_08_yr2\n",
      "amount_09_yr2\n",
      "amount_10_yr2\n",
      "amount_11_yr2\n",
      "amount_12_yr2\n",
      "amount_01_yr3\n",
      "amount_02_yr3\n",
      "amount_03_yr3\n",
      "amount_04_yr3\n",
      "amount_05_yr3\n",
      "amount_06_yr3\n",
      "amount_07_yr3\n",
      "amount_08_yr3\n",
      "amount_09_yr3\n",
      "amount_10_yr3\n",
      "amount_11_yr3\n",
      "amount_12_yr3\n",
      "amount_01_yr4\n",
      "amount_02_yr4\n",
      "amount_03_yr4\n",
      "amount_04_yr4\n",
      "amount_05_yr4\n",
      "amount_06_yr4\n",
      "amount_07_yr4\n",
      "amount_08_yr4\n",
      "amount_09_yr4\n",
      "amount_10_yr4\n",
      "amount_11_yr4\n",
      "amount_12_yr4\n",
      "years_donated\n",
      "perc_years_donated\n",
      "donor_profile\n"
     ]
    }
   ],
   "source": [
    "for col in donations_13to17.columns:\n",
    "    print(col)"
   ]
  },
  {
   "cell_type": "code",
   "execution_count": 26,
   "metadata": {},
   "outputs": [
    {
     "name": "stdout",
     "output_type": "stream",
     "text": [
      "Year 1 - 2013\n",
      "# donors: 320,069\n",
      "# new donors: 320,069\n",
      "# repeat donors: 0\n",
      "Retention rate: n/a\n",
      "$ donated: $ 30,411,764\n",
      "# donations: 573,067\n",
      "Average $ per donor: $ 95\n",
      "Max $ by single donor: $ 442,794\n"
     ]
    }
   ],
   "source": [
    "# 2a. By year - 2013\n",
    "print(f'Year 1 - 2013')\n",
    "print(f'# donors:', f'{no_donors_2013:,}')\n",
    "print(f'# new donors:', f'{no_new_donors_2013:,}')\n",
    "print(f'# repeat donors:', f'{no_repeat_donors_2013:,}')\n",
    "#print(f'# donors lapsed:', f'n/a')\n",
    "print(f'Retention rate:', f'n/a')\n",
    "\n",
    "print(f'$ donated:', f'$', f\"{amt_donated_2013:,.0f}\")\n",
    "print(f'# donations:', f'{no_donations_2013:,}')\n",
    "print(f'Average $ per donor:', f'$', f'{avg_amt_per_donor_2013:,.0f}')\n",
    "print(f'Max $ by single donor:', f'$', f'{max_amt_by_single_donor_2013:,.0f}')"
   ]
  },
  {
   "cell_type": "code",
   "execution_count": 27,
   "metadata": {},
   "outputs": [
    {
     "name": "stdout",
     "output_type": "stream",
     "text": [
      "Year 2 - 2014\n"
     ]
    },
    {
     "ename": "NameError",
     "evalue": "name 'no_donors_14' is not defined",
     "output_type": "error",
     "traceback": [
      "\u001b[1;31m---------------------------------------------------------------------------\u001b[0m",
      "\u001b[1;31mNameError\u001b[0m                                 Traceback (most recent call last)",
      "\u001b[1;32m<ipython-input-27-64d62bbf5e49>\u001b[0m in \u001b[0;36m<module>\u001b[1;34m\u001b[0m\n\u001b[0;32m      1\u001b[0m \u001b[1;31m#2b. By year - 2014\u001b[0m\u001b[1;33m\u001b[0m\u001b[1;33m\u001b[0m\u001b[1;33m\u001b[0m\u001b[0m\n\u001b[0;32m      2\u001b[0m \u001b[0mprint\u001b[0m\u001b[1;33m(\u001b[0m\u001b[1;34mf'Year 2 - 2014'\u001b[0m\u001b[1;33m)\u001b[0m\u001b[1;33m\u001b[0m\u001b[1;33m\u001b[0m\u001b[0m\n\u001b[1;32m----> 3\u001b[1;33m \u001b[0mprint\u001b[0m\u001b[1;33m(\u001b[0m\u001b[1;34mf'# donors:'\u001b[0m\u001b[1;33m,\u001b[0m \u001b[1;34mf'{no_donors_14:,}'\u001b[0m\u001b[1;33m)\u001b[0m\u001b[1;33m\u001b[0m\u001b[1;33m\u001b[0m\u001b[0m\n\u001b[0m\u001b[0;32m      4\u001b[0m \u001b[0mprint\u001b[0m\u001b[1;33m(\u001b[0m\u001b[1;34mf'# new donors:'\u001b[0m\u001b[1;33m,\u001b[0m \u001b[1;34mf'{no_new_donors_14:,}'\u001b[0m\u001b[1;33m)\u001b[0m\u001b[1;33m\u001b[0m\u001b[1;33m\u001b[0m\u001b[0m\n\u001b[0;32m      5\u001b[0m \u001b[0mprint\u001b[0m\u001b[1;33m(\u001b[0m\u001b[1;34mf'# repeat donors:'\u001b[0m\u001b[1;33m,\u001b[0m \u001b[1;34mf'{no_repeat_donors_14:,}'\u001b[0m\u001b[1;33m)\u001b[0m\u001b[1;33m\u001b[0m\u001b[1;33m\u001b[0m\u001b[0m\n",
      "\u001b[1;31mNameError\u001b[0m: name 'no_donors_14' is not defined"
     ]
    }
   ],
   "source": [
    "#2b. By year - 2014\n",
    "print(f'Year 2 - 2014')\n",
    "print(f'# donors:', f'{no_donors_14:,}')\n",
    "print(f'# new donors:', f'{no_new_donors_14:,}')\n",
    "print(f'# repeat donors:', f'{no_repeat_donors_14:,}')\n",
    "#print(f'# donors lapsed:', f'{no_donors_lapsed_14:,}')\n",
    "print(f'Retention rate:', f'{no_repeat_donors_14/no_donors_14:.2%}')\n",
    "\n",
    "print(f'$ donated:', f'$', f\"{amt_donated_14:,.0f}\")\n",
    "print(f'# donations:', f'{no_donations_14:,}')\n",
    "print(f'Average $ per donor:', f'$', f'{avg_amt_per_donor_14:,.0f}')\n",
    "print(f'Max $ by single donor:', f'$', f'{max_amt_by_single_donor_14:,.0f}')"
   ]
  },
  {
   "cell_type": "code",
   "execution_count": 65,
   "metadata": {},
   "outputs": [
    {
     "name": "stdout",
     "output_type": "stream",
     "text": [
      "Year 3 - 2015\n",
      "# donors: 446,048\n",
      "# new donors: 355,141\n",
      "# repeat donors: 90,907\n",
      "Retention rate: 20.38%\n",
      "$ donated: $ 50,488,301\n",
      "# donations: 783,362\n",
      "Average $ per donor: $ 113\n",
      "Max $ by single donor: $ 346,566\n"
     ]
    }
   ],
   "source": [
    "#2c. By year - 2015\n",
    "print(f'Year 3 - 2015')\n",
    "print(f'# donors:', f'{no_donors_15:,}')\n",
    "print(f'# new donors:', f'{no_new_donors_15:,}')\n",
    "print(f'# repeat donors:', f'{no_repeat_donors_15:,}')\n",
    "#print(f'# donors lapsed:', f'{no_donors_lapsed_15:,}')\n",
    "print(f'Retention rate:', f'{no_repeat_donors_15/no_donors_15:.2%}')\n",
    "\n",
    "print(f'$ donated:', f'$', f\"{amt_donated_15:,.0f}\")\n",
    "print(f'# donations:', f'{no_donations_15:,}')\n",
    "print(f'Average $ per donor:', f'$', f'{avg_amt_per_donor_15:,.0f}')\n",
    "print(f'Max $ by single donor:', f'$', f'{max_amt_by_single_donor_15:,.0f}')"
   ]
  },
  {
   "cell_type": "code",
   "execution_count": 66,
   "metadata": {},
   "outputs": [
    {
     "name": "stdout",
     "output_type": "stream",
     "text": [
      "Year 4 - 2016\n",
      "# donors: 555,843\n",
      "# new donors: 445,598\n",
      "# repeat donors: 110,245\n",
      "# donors lapsed: 365,597\n",
      "Retention rate: 19.83%\n",
      "$ donated: $ 62,652,159\n",
      "# donations: 957,265\n",
      "Average $ per donor: $ 113\n",
      "Max $ by single donor: $ 294,947\n"
     ]
    }
   ],
   "source": [
    "#2d. By year - 2016')\n",
    "print(f'Year 4 - 2016')\n",
    "print(f'# donors:', f'{no_donors_16:,}')\n",
    "print(f'# new donors:', f'{no_new_donors_16:,}')\n",
    "print(f'# repeat donors:', f'{no_repeat_donors_16:,}')\n",
    "print(f'# donors lapsed:', f'{no_donors_lapsed_16:,}')\n",
    "print(f'Retention rate:', f'{no_repeat_donors_16/no_donors_16:.2%}')\n",
    "\n",
    "print(f'$ donated:', f'$', f\"{amt_donated_16:,.0f}\")\n",
    "print(f'# donations:', f'{no_donations_16:,}')\n",
    "print(f'Average $ per donor:', f'$', f'{avg_amt_per_donor_16:,.0f}')\n",
    "print(f'Max $ by single donor:', f'$', f'{max_amt_by_single_donor_16:,.0f}')"
   ]
  },
  {
   "cell_type": "code",
   "execution_count": 67,
   "metadata": {},
   "outputs": [
    {
     "name": "stdout",
     "output_type": "stream",
     "text": [
      "Year 5 - 2017\n",
      "# donors: 574,599\n",
      "# new donors: 434,994\n",
      "# repeat donors: 139,605\n",
      "# donors lapsed: 456,148\n",
      "Retention rate: 24.30%\n",
      "$ donated: $ 72,872,034\n",
      "# donations: 1,190,542\n",
      "Average $ per donor: $ 127\n",
      "Max $ by single donor: $ 634,710\n"
     ]
    }
   ],
   "source": [
    "#2e. By year - 2017\n",
    "print(f'Year 5 - 2017')\n",
    "print(f'# donors:', f'{no_donors_17:,}')\n",
    "print(f'# new donors:', f'{no_new_donors_17:,}')\n",
    "print(f'# repeat donors:', f'{no_repeat_donors_17:,}')\n",
    "print(f'# donors lapsed:', f'{no_donors_lapsed_17:,}')\n",
    "print(f'Retention rate:', f'{no_repeat_donors_17/no_donors_17:.2%}')\n",
    "\n",
    "print(f'$ donated:', f'$', f\"{amt_donated_17:,.0f}\")\n",
    "print(f'# donations:', f'{no_donations_17:,}')\n",
    "print(f'Average $ per donor:', f'$', f'{avg_amt_per_donor_17:,.0f}')\n",
    "print(f'Max $ by single donor:', f'$', f'{max_amt_by_single_donor_17:,.0f}')"
   ]
  },
  {
   "cell_type": "code",
   "execution_count": 41,
   "metadata": {},
   "outputs": [],
   "source": [
    "yr2013 = donations_13to17.query('amount_2013 > 0')"
   ]
  },
  {
   "cell_type": "code",
   "execution_count": 42,
   "metadata": {},
   "outputs": [
    {
     "data": {
      "text/plain": [
       "id                         320069\n",
       "first_gift_year            320069\n",
       "lapsed_count               320069\n",
       "recovered_count            320069\n",
       "max_consec_giving_years    320069\n",
       "                            ...  \n",
       "amount_11_yr4              320069\n",
       "amount_12_yr4              320069\n",
       "years_donated              320069\n",
       "perc_years_donated         320069\n",
       "donor_profile              320069\n",
       "Length: 188, dtype: int64"
      ]
     },
     "execution_count": 42,
     "metadata": {},
     "output_type": "execute_result"
    }
   ],
   "source": [
    "yr2013.count()"
   ]
  },
  {
   "cell_type": "code",
   "execution_count": 43,
   "metadata": {},
   "outputs": [
    {
     "name": "stdout",
     "output_type": "stream",
     "text": [
      "id\n",
      "first_gift_year\n",
      "lapsed_count\n",
      "recovered_count\n",
      "max_consec_giving_years\n",
      "total_giving_years\n",
      "count_2013\n",
      "count_2014\n",
      "count_2015\n",
      "count_2016\n",
      "count_2017\n",
      "count_yr0_x\n",
      "count_yr1_x\n",
      "count_yr2_x\n",
      "count_yr3_x\n",
      "count_yr4_x\n",
      "lapsed_amount\n",
      "recovered_amount\n",
      "amount_2013\n",
      "amount_2014\n",
      "amount_2015\n",
      "amount_2016\n",
      "amount_2017\n",
      "lapsed_amount_2013\n",
      "lapsed_amount_2014\n",
      "lapsed_amount_2015\n",
      "lapsed_amount_2016\n",
      "lapsed_amount_2017\n",
      "upgraded_amount_2013\n",
      "upgraded_amount_2014\n",
      "upgraded_amount_2015\n",
      "upgraded_amount_2016\n",
      "upgraded_amount_2017\n",
      "downgraded_amount_2013\n",
      "downgraded_amount_2014\n",
      "downgraded_amount_2015\n",
      "downgraded_amount_2016\n",
      "downgraded_amount_2017\n",
      "amount_yr0\n",
      "amount_yr1\n",
      "amount_yr2\n",
      "amount_yr3\n",
      "amount_yr4\n",
      "count_yr0_y\n",
      "count_yr1_y\n",
      "count_yr2_y\n",
      "count_yr3_y\n",
      "count_yr4_y\n",
      "lapsed_amount_yr0\n",
      "lapsed_amount_yr1\n",
      "lapsed_amount_yr2\n",
      "lapsed_amount_yr3\n",
      "lapsed_amount_yr4\n",
      "upgraded_amount_yr0\n",
      "upgraded_amount_yr1\n",
      "upgraded_amount_yr2\n",
      "upgraded_amount_yr3\n",
      "upgraded_amount_yr4\n",
      "downgraded_amount_yr0\n",
      "downgraded_amount_yr1\n",
      "downgraded_amount_yr2\n",
      "downgraded_amount_yr3\n",
      "downgraded_amount_yr4\n",
      "amount_01_2013\n",
      "amount_02_2013\n",
      "amount_03_2013\n",
      "amount_04_2013\n",
      "amount_05_2013\n",
      "amount_06_2013\n",
      "amount_07_2013\n",
      "amount_08_2013\n",
      "amount_09_2013\n",
      "amount_10_2013\n",
      "amount_11_2013\n",
      "amount_12_2013\n",
      "amount_01_2014\n",
      "amount_02_2014\n",
      "amount_03_2014\n",
      "amount_04_2014\n",
      "amount_05_2014\n",
      "amount_06_2014\n",
      "amount_07_2014\n",
      "amount_08_2014\n",
      "amount_09_2014\n",
      "amount_10_2014\n",
      "amount_11_2014\n",
      "amount_12_2014\n",
      "amount_01_2015\n",
      "amount_02_2015\n",
      "amount_03_2015\n",
      "amount_04_2015\n",
      "amount_05_2015\n",
      "amount_06_2015\n",
      "amount_07_2015\n",
      "amount_08_2015\n",
      "amount_09_2015\n",
      "amount_10_2015\n",
      "amount_11_2015\n",
      "amount_12_2015\n",
      "amount_01_2016\n",
      "amount_02_2016\n",
      "amount_03_2016\n",
      "amount_04_2016\n",
      "amount_05_2016\n",
      "amount_06_2016\n",
      "amount_07_2016\n",
      "amount_08_2016\n",
      "amount_09_2016\n",
      "amount_10_2016\n",
      "amount_11_2016\n",
      "amount_12_2016\n",
      "amount_01_2017\n",
      "amount_02_2017\n",
      "amount_03_2017\n",
      "amount_04_2017\n",
      "amount_05_2017\n",
      "amount_06_2017\n",
      "amount_07_2017\n",
      "amount_08_2017\n",
      "amount_09_2017\n",
      "amount_10_2017\n",
      "amount_11_2017\n",
      "amount_12_2017\n",
      "amount_total\n",
      "count_total\n",
      "amount_01_yr0\n",
      "amount_02_yr0\n",
      "amount_03_yr0\n",
      "amount_04_yr0\n",
      "amount_05_yr0\n",
      "amount_06_yr0\n",
      "amount_07_yr0\n",
      "amount_08_yr0\n",
      "amount_09_yr0\n",
      "amount_10_yr0\n",
      "amount_11_yr0\n",
      "amount_12_yr0\n",
      "amount_01_yr1\n",
      "amount_02_yr1\n",
      "amount_03_yr1\n",
      "amount_04_yr1\n",
      "amount_05_yr1\n",
      "amount_06_yr1\n",
      "amount_07_yr1\n",
      "amount_08_yr1\n",
      "amount_09_yr1\n",
      "amount_10_yr1\n",
      "amount_11_yr1\n",
      "amount_12_yr1\n",
      "amount_01_yr2\n",
      "amount_02_yr2\n",
      "amount_03_yr2\n",
      "amount_04_yr2\n",
      "amount_05_yr2\n",
      "amount_06_yr2\n",
      "amount_07_yr2\n",
      "amount_08_yr2\n",
      "amount_09_yr2\n",
      "amount_10_yr2\n",
      "amount_11_yr2\n",
      "amount_12_yr2\n",
      "amount_01_yr3\n",
      "amount_02_yr3\n",
      "amount_03_yr3\n",
      "amount_04_yr3\n",
      "amount_05_yr3\n",
      "amount_06_yr3\n",
      "amount_07_yr3\n",
      "amount_08_yr3\n",
      "amount_09_yr3\n",
      "amount_10_yr3\n",
      "amount_11_yr3\n",
      "amount_12_yr3\n",
      "amount_01_yr4\n",
      "amount_02_yr4\n",
      "amount_03_yr4\n",
      "amount_04_yr4\n",
      "amount_05_yr4\n",
      "amount_06_yr4\n",
      "amount_07_yr4\n",
      "amount_08_yr4\n",
      "amount_09_yr4\n",
      "amount_10_yr4\n",
      "amount_11_yr4\n",
      "amount_12_yr4\n",
      "years_donated\n",
      "perc_years_donated\n",
      "donor_profile\n"
     ]
    }
   ],
   "source": [
    "for col in yr2013.columns:\n",
    "    print(col)"
   ]
  },
  {
   "cell_type": "code",
   "execution_count": 44,
   "metadata": {},
   "outputs": [
    {
     "data": {
      "text/html": [
       "<div>\n",
       "<style scoped>\n",
       "    .dataframe tbody tr th:only-of-type {\n",
       "        vertical-align: middle;\n",
       "    }\n",
       "\n",
       "    .dataframe tbody tr th {\n",
       "        vertical-align: top;\n",
       "    }\n",
       "\n",
       "    .dataframe thead th {\n",
       "        text-align: right;\n",
       "    }\n",
       "</style>\n",
       "<table border=\"1\" class=\"dataframe\">\n",
       "  <thead>\n",
       "    <tr style=\"text-align: right;\">\n",
       "      <th></th>\n",
       "      <th>id</th>\n",
       "      <th>first_gift_year</th>\n",
       "      <th>lapsed_count</th>\n",
       "      <th>recovered_count</th>\n",
       "      <th>max_consec_giving_years</th>\n",
       "      <th>total_giving_years</th>\n",
       "      <th>count_2013</th>\n",
       "      <th>count_2014</th>\n",
       "      <th>count_2015</th>\n",
       "      <th>count_2016</th>\n",
       "      <th>...</th>\n",
       "      <th>amount_06_yr4</th>\n",
       "      <th>amount_07_yr4</th>\n",
       "      <th>amount_08_yr4</th>\n",
       "      <th>amount_09_yr4</th>\n",
       "      <th>amount_10_yr4</th>\n",
       "      <th>amount_11_yr4</th>\n",
       "      <th>amount_12_yr4</th>\n",
       "      <th>years_donated</th>\n",
       "      <th>perc_years_donated</th>\n",
       "      <th>donor_profile</th>\n",
       "    </tr>\n",
       "  </thead>\n",
       "  <tbody>\n",
       "    <tr>\n",
       "      <td>6</td>\n",
       "      <td>8a1875762c85932fff192ea126ccdff2</td>\n",
       "      <td>2013-01-01</td>\n",
       "      <td>2</td>\n",
       "      <td>1</td>\n",
       "      <td>1</td>\n",
       "      <td>1</td>\n",
       "      <td>1</td>\n",
       "      <td>0</td>\n",
       "      <td>0</td>\n",
       "      <td>0</td>\n",
       "      <td>...</td>\n",
       "      <td>0.0</td>\n",
       "      <td>0.0</td>\n",
       "      <td>0.0</td>\n",
       "      <td>0.0</td>\n",
       "      <td>0.0</td>\n",
       "      <td>0.0</td>\n",
       "      <td>0.0</td>\n",
       "      <td>1</td>\n",
       "      <td>0.2</td>\n",
       "      <td>one_time</td>\n",
       "    </tr>\n",
       "    <tr>\n",
       "      <td>7</td>\n",
       "      <td>a3f070e439d52de72ca62dc41f9b16a4</td>\n",
       "      <td>2013-01-01</td>\n",
       "      <td>2</td>\n",
       "      <td>1</td>\n",
       "      <td>1</td>\n",
       "      <td>1</td>\n",
       "      <td>1</td>\n",
       "      <td>0</td>\n",
       "      <td>0</td>\n",
       "      <td>0</td>\n",
       "      <td>...</td>\n",
       "      <td>0.0</td>\n",
       "      <td>0.0</td>\n",
       "      <td>0.0</td>\n",
       "      <td>0.0</td>\n",
       "      <td>0.0</td>\n",
       "      <td>0.0</td>\n",
       "      <td>0.0</td>\n",
       "      <td>1</td>\n",
       "      <td>0.2</td>\n",
       "      <td>one_time</td>\n",
       "    </tr>\n",
       "    <tr>\n",
       "      <td>8</td>\n",
       "      <td>bd323208dc78b1c74b62664b768f3176</td>\n",
       "      <td>2013-01-01</td>\n",
       "      <td>4</td>\n",
       "      <td>3</td>\n",
       "      <td>3</td>\n",
       "      <td>3</td>\n",
       "      <td>2</td>\n",
       "      <td>2</td>\n",
       "      <td>1</td>\n",
       "      <td>0</td>\n",
       "      <td>...</td>\n",
       "      <td>0.0</td>\n",
       "      <td>0.0</td>\n",
       "      <td>0.0</td>\n",
       "      <td>0.0</td>\n",
       "      <td>0.0</td>\n",
       "      <td>0.0</td>\n",
       "      <td>0.0</td>\n",
       "      <td>3</td>\n",
       "      <td>0.6</td>\n",
       "      <td>repeat</td>\n",
       "    </tr>\n",
       "    <tr>\n",
       "      <td>9</td>\n",
       "      <td>6dd6113f89f2766d3b0707ef2a46260c</td>\n",
       "      <td>2013-01-01</td>\n",
       "      <td>4</td>\n",
       "      <td>3</td>\n",
       "      <td>3</td>\n",
       "      <td>3</td>\n",
       "      <td>19</td>\n",
       "      <td>7</td>\n",
       "      <td>1</td>\n",
       "      <td>0</td>\n",
       "      <td>...</td>\n",
       "      <td>0.0</td>\n",
       "      <td>0.0</td>\n",
       "      <td>0.0</td>\n",
       "      <td>0.0</td>\n",
       "      <td>0.0</td>\n",
       "      <td>0.0</td>\n",
       "      <td>0.0</td>\n",
       "      <td>3</td>\n",
       "      <td>0.6</td>\n",
       "      <td>repeat</td>\n",
       "    </tr>\n",
       "    <tr>\n",
       "      <td>10</td>\n",
       "      <td>391f14831940fc7bc41df2cd7fb06030</td>\n",
       "      <td>2013-01-01</td>\n",
       "      <td>2</td>\n",
       "      <td>1</td>\n",
       "      <td>1</td>\n",
       "      <td>1</td>\n",
       "      <td>1</td>\n",
       "      <td>0</td>\n",
       "      <td>0</td>\n",
       "      <td>0</td>\n",
       "      <td>...</td>\n",
       "      <td>0.0</td>\n",
       "      <td>0.0</td>\n",
       "      <td>0.0</td>\n",
       "      <td>0.0</td>\n",
       "      <td>0.0</td>\n",
       "      <td>0.0</td>\n",
       "      <td>0.0</td>\n",
       "      <td>1</td>\n",
       "      <td>0.2</td>\n",
       "      <td>one_time</td>\n",
       "    </tr>\n",
       "  </tbody>\n",
       "</table>\n",
       "<p>5 rows × 188 columns</p>\n",
       "</div>"
      ],
      "text/plain": [
       "                                  id first_gift_year  lapsed_count  \\\n",
       "6   8a1875762c85932fff192ea126ccdff2      2013-01-01             2   \n",
       "7   a3f070e439d52de72ca62dc41f9b16a4      2013-01-01             2   \n",
       "8   bd323208dc78b1c74b62664b768f3176      2013-01-01             4   \n",
       "9   6dd6113f89f2766d3b0707ef2a46260c      2013-01-01             4   \n",
       "10  391f14831940fc7bc41df2cd7fb06030      2013-01-01             2   \n",
       "\n",
       "    recovered_count  max_consec_giving_years  total_giving_years  count_2013  \\\n",
       "6                 1                        1                   1           1   \n",
       "7                 1                        1                   1           1   \n",
       "8                 3                        3                   3           2   \n",
       "9                 3                        3                   3          19   \n",
       "10                1                        1                   1           1   \n",
       "\n",
       "    count_2014  count_2015  count_2016  ...  amount_06_yr4  amount_07_yr4  \\\n",
       "6            0           0           0  ...            0.0            0.0   \n",
       "7            0           0           0  ...            0.0            0.0   \n",
       "8            2           1           0  ...            0.0            0.0   \n",
       "9            7           1           0  ...            0.0            0.0   \n",
       "10           0           0           0  ...            0.0            0.0   \n",
       "\n",
       "    amount_08_yr4  amount_09_yr4  amount_10_yr4  amount_11_yr4  amount_12_yr4  \\\n",
       "6             0.0            0.0            0.0            0.0            0.0   \n",
       "7             0.0            0.0            0.0            0.0            0.0   \n",
       "8             0.0            0.0            0.0            0.0            0.0   \n",
       "9             0.0            0.0            0.0            0.0            0.0   \n",
       "10            0.0            0.0            0.0            0.0            0.0   \n",
       "\n",
       "    years_donated  perc_years_donated  donor_profile  \n",
       "6               1                 0.2       one_time  \n",
       "7               1                 0.2       one_time  \n",
       "8               3                 0.6         repeat  \n",
       "9               3                 0.6         repeat  \n",
       "10              1                 0.2       one_time  \n",
       "\n",
       "[5 rows x 188 columns]"
      ]
     },
     "execution_count": 44,
     "metadata": {},
     "output_type": "execute_result"
    }
   ],
   "source": [
    "yr2013.head()"
   ]
  },
  {
   "cell_type": "code",
   "execution_count": 45,
   "metadata": {},
   "outputs": [],
   "source": [
    "mult_yr2013=yr2013.query('count_2013 > 1')"
   ]
  },
  {
   "cell_type": "code",
   "execution_count": 46,
   "metadata": {},
   "outputs": [
    {
     "data": {
      "text/plain": [
       "id                         63584\n",
       "first_gift_year            63584\n",
       "lapsed_count               63584\n",
       "recovered_count            63584\n",
       "max_consec_giving_years    63584\n",
       "                           ...  \n",
       "amount_11_yr4              63584\n",
       "amount_12_yr4              63584\n",
       "years_donated              63584\n",
       "perc_years_donated         63584\n",
       "donor_profile              63584\n",
       "Length: 188, dtype: int64"
      ]
     },
     "execution_count": 46,
     "metadata": {},
     "output_type": "execute_result"
    }
   ],
   "source": [
    "mult_yr2013.count()"
   ]
  },
  {
   "cell_type": "code",
   "execution_count": 47,
   "metadata": {},
   "outputs": [
    {
     "data": {
      "text/html": [
       "<div>\n",
       "<style scoped>\n",
       "    .dataframe tbody tr th:only-of-type {\n",
       "        vertical-align: middle;\n",
       "    }\n",
       "\n",
       "    .dataframe tbody tr th {\n",
       "        vertical-align: top;\n",
       "    }\n",
       "\n",
       "    .dataframe thead th {\n",
       "        text-align: right;\n",
       "    }\n",
       "</style>\n",
       "<table border=\"1\" class=\"dataframe\">\n",
       "  <thead>\n",
       "    <tr style=\"text-align: right;\">\n",
       "      <th></th>\n",
       "      <th>id</th>\n",
       "      <th>first_gift_year</th>\n",
       "      <th>lapsed_count</th>\n",
       "      <th>recovered_count</th>\n",
       "      <th>max_consec_giving_years</th>\n",
       "      <th>total_giving_years</th>\n",
       "      <th>count_2013</th>\n",
       "      <th>count_2014</th>\n",
       "      <th>count_2015</th>\n",
       "      <th>count_2016</th>\n",
       "      <th>...</th>\n",
       "      <th>amount_06_yr4</th>\n",
       "      <th>amount_07_yr4</th>\n",
       "      <th>amount_08_yr4</th>\n",
       "      <th>amount_09_yr4</th>\n",
       "      <th>amount_10_yr4</th>\n",
       "      <th>amount_11_yr4</th>\n",
       "      <th>amount_12_yr4</th>\n",
       "      <th>years_donated</th>\n",
       "      <th>perc_years_donated</th>\n",
       "      <th>donor_profile</th>\n",
       "    </tr>\n",
       "  </thead>\n",
       "  <tbody>\n",
       "    <tr>\n",
       "      <td>8</td>\n",
       "      <td>bd323208dc78b1c74b62664b768f3176</td>\n",
       "      <td>2013-01-01</td>\n",
       "      <td>4</td>\n",
       "      <td>3</td>\n",
       "      <td>3</td>\n",
       "      <td>3</td>\n",
       "      <td>2</td>\n",
       "      <td>2</td>\n",
       "      <td>1</td>\n",
       "      <td>0</td>\n",
       "      <td>...</td>\n",
       "      <td>0.0</td>\n",
       "      <td>0.0</td>\n",
       "      <td>0.0</td>\n",
       "      <td>0.0</td>\n",
       "      <td>0.00</td>\n",
       "      <td>0.0</td>\n",
       "      <td>0.00</td>\n",
       "      <td>3</td>\n",
       "      <td>0.6</td>\n",
       "      <td>repeat</td>\n",
       "    </tr>\n",
       "    <tr>\n",
       "      <td>9</td>\n",
       "      <td>6dd6113f89f2766d3b0707ef2a46260c</td>\n",
       "      <td>2013-01-01</td>\n",
       "      <td>4</td>\n",
       "      <td>3</td>\n",
       "      <td>3</td>\n",
       "      <td>3</td>\n",
       "      <td>19</td>\n",
       "      <td>7</td>\n",
       "      <td>1</td>\n",
       "      <td>0</td>\n",
       "      <td>...</td>\n",
       "      <td>0.0</td>\n",
       "      <td>0.0</td>\n",
       "      <td>0.0</td>\n",
       "      <td>0.0</td>\n",
       "      <td>0.00</td>\n",
       "      <td>0.0</td>\n",
       "      <td>0.00</td>\n",
       "      <td>3</td>\n",
       "      <td>0.6</td>\n",
       "      <td>repeat</td>\n",
       "    </tr>\n",
       "    <tr>\n",
       "      <td>12</td>\n",
       "      <td>499496888e927737acdb1d1dd4421dd4</td>\n",
       "      <td>2013-01-01</td>\n",
       "      <td>3</td>\n",
       "      <td>2</td>\n",
       "      <td>2</td>\n",
       "      <td>2</td>\n",
       "      <td>2</td>\n",
       "      <td>1</td>\n",
       "      <td>0</td>\n",
       "      <td>0</td>\n",
       "      <td>...</td>\n",
       "      <td>0.0</td>\n",
       "      <td>0.0</td>\n",
       "      <td>0.0</td>\n",
       "      <td>0.0</td>\n",
       "      <td>0.00</td>\n",
       "      <td>0.0</td>\n",
       "      <td>0.00</td>\n",
       "      <td>2</td>\n",
       "      <td>0.4</td>\n",
       "      <td>repeat</td>\n",
       "    </tr>\n",
       "    <tr>\n",
       "      <td>22</td>\n",
       "      <td>309bbe105f70465277576733c0d451b3</td>\n",
       "      <td>2013-01-01</td>\n",
       "      <td>6</td>\n",
       "      <td>5</td>\n",
       "      <td>5</td>\n",
       "      <td>5</td>\n",
       "      <td>9</td>\n",
       "      <td>11</td>\n",
       "      <td>18</td>\n",
       "      <td>20</td>\n",
       "      <td>...</td>\n",
       "      <td>0.0</td>\n",
       "      <td>15.0</td>\n",
       "      <td>20.0</td>\n",
       "      <td>0.0</td>\n",
       "      <td>10.00</td>\n",
       "      <td>10.0</td>\n",
       "      <td>0.00</td>\n",
       "      <td>5</td>\n",
       "      <td>1.0</td>\n",
       "      <td>repeat</td>\n",
       "    </tr>\n",
       "    <tr>\n",
       "      <td>26</td>\n",
       "      <td>4b4b9cd2431fcc83cce2625fc723db67</td>\n",
       "      <td>2013-01-01</td>\n",
       "      <td>6</td>\n",
       "      <td>6</td>\n",
       "      <td>6</td>\n",
       "      <td>6</td>\n",
       "      <td>7</td>\n",
       "      <td>17</td>\n",
       "      <td>60</td>\n",
       "      <td>82</td>\n",
       "      <td>...</td>\n",
       "      <td>0.0</td>\n",
       "      <td>0.0</td>\n",
       "      <td>0.0</td>\n",
       "      <td>0.0</td>\n",
       "      <td>711.63</td>\n",
       "      <td>0.0</td>\n",
       "      <td>2963.61</td>\n",
       "      <td>5</td>\n",
       "      <td>1.0</td>\n",
       "      <td>repeat</td>\n",
       "    </tr>\n",
       "  </tbody>\n",
       "</table>\n",
       "<p>5 rows × 188 columns</p>\n",
       "</div>"
      ],
      "text/plain": [
       "                                  id first_gift_year  lapsed_count  \\\n",
       "8   bd323208dc78b1c74b62664b768f3176      2013-01-01             4   \n",
       "9   6dd6113f89f2766d3b0707ef2a46260c      2013-01-01             4   \n",
       "12  499496888e927737acdb1d1dd4421dd4      2013-01-01             3   \n",
       "22  309bbe105f70465277576733c0d451b3      2013-01-01             6   \n",
       "26  4b4b9cd2431fcc83cce2625fc723db67      2013-01-01             6   \n",
       "\n",
       "    recovered_count  max_consec_giving_years  total_giving_years  count_2013  \\\n",
       "8                 3                        3                   3           2   \n",
       "9                 3                        3                   3          19   \n",
       "12                2                        2                   2           2   \n",
       "22                5                        5                   5           9   \n",
       "26                6                        6                   6           7   \n",
       "\n",
       "    count_2014  count_2015  count_2016  ...  amount_06_yr4  amount_07_yr4  \\\n",
       "8            2           1           0  ...            0.0            0.0   \n",
       "9            7           1           0  ...            0.0            0.0   \n",
       "12           1           0           0  ...            0.0            0.0   \n",
       "22          11          18          20  ...            0.0           15.0   \n",
       "26          17          60          82  ...            0.0            0.0   \n",
       "\n",
       "    amount_08_yr4  amount_09_yr4  amount_10_yr4  amount_11_yr4  amount_12_yr4  \\\n",
       "8             0.0            0.0           0.00            0.0           0.00   \n",
       "9             0.0            0.0           0.00            0.0           0.00   \n",
       "12            0.0            0.0           0.00            0.0           0.00   \n",
       "22           20.0            0.0          10.00           10.0           0.00   \n",
       "26            0.0            0.0         711.63            0.0        2963.61   \n",
       "\n",
       "    years_donated  perc_years_donated  donor_profile  \n",
       "8               3                 0.6         repeat  \n",
       "9               3                 0.6         repeat  \n",
       "12              2                 0.4         repeat  \n",
       "22              5                 1.0         repeat  \n",
       "26              5                 1.0         repeat  \n",
       "\n",
       "[5 rows x 188 columns]"
      ]
     },
     "execution_count": 47,
     "metadata": {},
     "output_type": "execute_result"
    }
   ],
   "source": [
    "mult_yr2013.head()"
   ]
  },
  {
   "cell_type": "code",
   "execution_count": 51,
   "metadata": {},
   "outputs": [
    {
     "data": {
      "text/html": [
       "<div>\n",
       "<style scoped>\n",
       "    .dataframe tbody tr th:only-of-type {\n",
       "        vertical-align: middle;\n",
       "    }\n",
       "\n",
       "    .dataframe tbody tr th {\n",
       "        vertical-align: top;\n",
       "    }\n",
       "\n",
       "    .dataframe thead th {\n",
       "        text-align: right;\n",
       "    }\n",
       "</style>\n",
       "<table border=\"1\" class=\"dataframe\">\n",
       "  <thead>\n",
       "    <tr style=\"text-align: right;\">\n",
       "      <th></th>\n",
       "      <th>id</th>\n",
       "      <th>first_gift_year</th>\n",
       "      <th>lapsed_count</th>\n",
       "      <th>recovered_count</th>\n",
       "      <th>max_consec_giving_years</th>\n",
       "      <th>total_giving_years</th>\n",
       "      <th>count_2013</th>\n",
       "      <th>count_2014</th>\n",
       "      <th>count_2015</th>\n",
       "      <th>count_2016</th>\n",
       "      <th>...</th>\n",
       "      <th>amount_06_yr4</th>\n",
       "      <th>amount_07_yr4</th>\n",
       "      <th>amount_08_yr4</th>\n",
       "      <th>amount_09_yr4</th>\n",
       "      <th>amount_10_yr4</th>\n",
       "      <th>amount_11_yr4</th>\n",
       "      <th>amount_12_yr4</th>\n",
       "      <th>years_donated</th>\n",
       "      <th>perc_years_donated</th>\n",
       "      <th>donor_profile</th>\n",
       "    </tr>\n",
       "  </thead>\n",
       "  <tbody>\n",
       "    <tr>\n",
       "      <td>8</td>\n",
       "      <td>bd323208dc78b1c74b62664b768f3176</td>\n",
       "      <td>2013-01-01</td>\n",
       "      <td>4</td>\n",
       "      <td>3</td>\n",
       "      <td>3</td>\n",
       "      <td>3</td>\n",
       "      <td>2</td>\n",
       "      <td>2</td>\n",
       "      <td>1</td>\n",
       "      <td>0</td>\n",
       "      <td>...</td>\n",
       "      <td>0.0</td>\n",
       "      <td>0.0</td>\n",
       "      <td>0.00</td>\n",
       "      <td>0.00</td>\n",
       "      <td>0.00</td>\n",
       "      <td>0.00</td>\n",
       "      <td>0.0</td>\n",
       "      <td>3</td>\n",
       "      <td>0.6</td>\n",
       "      <td>repeat</td>\n",
       "    </tr>\n",
       "    <tr>\n",
       "      <td>9</td>\n",
       "      <td>6dd6113f89f2766d3b0707ef2a46260c</td>\n",
       "      <td>2013-01-01</td>\n",
       "      <td>4</td>\n",
       "      <td>3</td>\n",
       "      <td>3</td>\n",
       "      <td>3</td>\n",
       "      <td>19</td>\n",
       "      <td>7</td>\n",
       "      <td>1</td>\n",
       "      <td>0</td>\n",
       "      <td>...</td>\n",
       "      <td>0.0</td>\n",
       "      <td>0.0</td>\n",
       "      <td>0.00</td>\n",
       "      <td>0.00</td>\n",
       "      <td>0.00</td>\n",
       "      <td>0.00</td>\n",
       "      <td>0.0</td>\n",
       "      <td>3</td>\n",
       "      <td>0.6</td>\n",
       "      <td>repeat</td>\n",
       "    </tr>\n",
       "    <tr>\n",
       "      <td>22</td>\n",
       "      <td>309bbe105f70465277576733c0d451b3</td>\n",
       "      <td>2013-01-01</td>\n",
       "      <td>6</td>\n",
       "      <td>5</td>\n",
       "      <td>5</td>\n",
       "      <td>5</td>\n",
       "      <td>9</td>\n",
       "      <td>11</td>\n",
       "      <td>18</td>\n",
       "      <td>20</td>\n",
       "      <td>...</td>\n",
       "      <td>0.0</td>\n",
       "      <td>15.0</td>\n",
       "      <td>20.00</td>\n",
       "      <td>0.00</td>\n",
       "      <td>10.00</td>\n",
       "      <td>10.00</td>\n",
       "      <td>0.0</td>\n",
       "      <td>5</td>\n",
       "      <td>1.0</td>\n",
       "      <td>repeat</td>\n",
       "    </tr>\n",
       "    <tr>\n",
       "      <td>88</td>\n",
       "      <td>9f3d62fb6f0a383d9fd993bd832ab6d5</td>\n",
       "      <td>2013-01-01</td>\n",
       "      <td>6</td>\n",
       "      <td>5</td>\n",
       "      <td>3</td>\n",
       "      <td>5</td>\n",
       "      <td>9</td>\n",
       "      <td>2</td>\n",
       "      <td>2</td>\n",
       "      <td>0</td>\n",
       "      <td>...</td>\n",
       "      <td>0.0</td>\n",
       "      <td>5.0</td>\n",
       "      <td>10.00</td>\n",
       "      <td>15.00</td>\n",
       "      <td>5.00</td>\n",
       "      <td>5.00</td>\n",
       "      <td>5.0</td>\n",
       "      <td>4</td>\n",
       "      <td>0.8</td>\n",
       "      <td>repeat</td>\n",
       "    </tr>\n",
       "    <tr>\n",
       "      <td>90</td>\n",
       "      <td>0e345dcdef0d2a36c9bd17bf1ac3e10a</td>\n",
       "      <td>2013-01-01</td>\n",
       "      <td>6</td>\n",
       "      <td>6</td>\n",
       "      <td>6</td>\n",
       "      <td>6</td>\n",
       "      <td>2297</td>\n",
       "      <td>1367</td>\n",
       "      <td>657</td>\n",
       "      <td>155</td>\n",
       "      <td>...</td>\n",
       "      <td>50.0</td>\n",
       "      <td>260.0</td>\n",
       "      <td>373.49</td>\n",
       "      <td>125.88</td>\n",
       "      <td>236.35</td>\n",
       "      <td>141.05</td>\n",
       "      <td>221.0</td>\n",
       "      <td>5</td>\n",
       "      <td>1.0</td>\n",
       "      <td>repeat</td>\n",
       "    </tr>\n",
       "    <tr>\n",
       "      <td>...</td>\n",
       "      <td>...</td>\n",
       "      <td>...</td>\n",
       "      <td>...</td>\n",
       "      <td>...</td>\n",
       "      <td>...</td>\n",
       "      <td>...</td>\n",
       "      <td>...</td>\n",
       "      <td>...</td>\n",
       "      <td>...</td>\n",
       "      <td>...</td>\n",
       "      <td>...</td>\n",
       "      <td>...</td>\n",
       "      <td>...</td>\n",
       "      <td>...</td>\n",
       "      <td>...</td>\n",
       "      <td>...</td>\n",
       "      <td>...</td>\n",
       "      <td>...</td>\n",
       "      <td>...</td>\n",
       "      <td>...</td>\n",
       "      <td>...</td>\n",
       "    </tr>\n",
       "    <tr>\n",
       "      <td>1995618</td>\n",
       "      <td>322a910a93741e7bc778d34101cc0488</td>\n",
       "      <td>2013-01-01</td>\n",
       "      <td>3</td>\n",
       "      <td>2</td>\n",
       "      <td>2</td>\n",
       "      <td>2</td>\n",
       "      <td>1</td>\n",
       "      <td>1</td>\n",
       "      <td>0</td>\n",
       "      <td>0</td>\n",
       "      <td>...</td>\n",
       "      <td>0.0</td>\n",
       "      <td>0.0</td>\n",
       "      <td>0.00</td>\n",
       "      <td>0.00</td>\n",
       "      <td>0.00</td>\n",
       "      <td>0.00</td>\n",
       "      <td>0.0</td>\n",
       "      <td>2</td>\n",
       "      <td>0.4</td>\n",
       "      <td>repeat</td>\n",
       "    </tr>\n",
       "    <tr>\n",
       "      <td>2000323</td>\n",
       "      <td>38ac7a02f9e1782ad9e3babc9d7ae5c7</td>\n",
       "      <td>2013-01-01</td>\n",
       "      <td>3</td>\n",
       "      <td>2</td>\n",
       "      <td>2</td>\n",
       "      <td>2</td>\n",
       "      <td>1</td>\n",
       "      <td>1</td>\n",
       "      <td>0</td>\n",
       "      <td>0</td>\n",
       "      <td>...</td>\n",
       "      <td>0.0</td>\n",
       "      <td>0.0</td>\n",
       "      <td>0.00</td>\n",
       "      <td>0.00</td>\n",
       "      <td>0.00</td>\n",
       "      <td>0.00</td>\n",
       "      <td>0.0</td>\n",
       "      <td>2</td>\n",
       "      <td>0.4</td>\n",
       "      <td>repeat</td>\n",
       "    </tr>\n",
       "    <tr>\n",
       "      <td>2001227</td>\n",
       "      <td>bc489a1a95e882971ad70008c22d9e3f</td>\n",
       "      <td>2013-01-01</td>\n",
       "      <td>3</td>\n",
       "      <td>2</td>\n",
       "      <td>2</td>\n",
       "      <td>2</td>\n",
       "      <td>2</td>\n",
       "      <td>1</td>\n",
       "      <td>0</td>\n",
       "      <td>0</td>\n",
       "      <td>...</td>\n",
       "      <td>0.0</td>\n",
       "      <td>0.0</td>\n",
       "      <td>0.00</td>\n",
       "      <td>0.00</td>\n",
       "      <td>0.00</td>\n",
       "      <td>0.00</td>\n",
       "      <td>0.0</td>\n",
       "      <td>2</td>\n",
       "      <td>0.4</td>\n",
       "      <td>repeat</td>\n",
       "    </tr>\n",
       "    <tr>\n",
       "      <td>2022912</td>\n",
       "      <td>5645fc9c0e2e8a5bd0fcd7edbbf68c91</td>\n",
       "      <td>2013-01-01</td>\n",
       "      <td>3</td>\n",
       "      <td>2</td>\n",
       "      <td>2</td>\n",
       "      <td>2</td>\n",
       "      <td>1</td>\n",
       "      <td>1</td>\n",
       "      <td>0</td>\n",
       "      <td>0</td>\n",
       "      <td>...</td>\n",
       "      <td>0.0</td>\n",
       "      <td>0.0</td>\n",
       "      <td>0.00</td>\n",
       "      <td>0.00</td>\n",
       "      <td>0.00</td>\n",
       "      <td>0.00</td>\n",
       "      <td>0.0</td>\n",
       "      <td>2</td>\n",
       "      <td>0.4</td>\n",
       "      <td>repeat</td>\n",
       "    </tr>\n",
       "    <tr>\n",
       "      <td>2023092</td>\n",
       "      <td>53f86d4a2bbd60caed3b18e9f06c2f77</td>\n",
       "      <td>2013-01-01</td>\n",
       "      <td>3</td>\n",
       "      <td>2</td>\n",
       "      <td>2</td>\n",
       "      <td>2</td>\n",
       "      <td>1</td>\n",
       "      <td>1</td>\n",
       "      <td>0</td>\n",
       "      <td>0</td>\n",
       "      <td>...</td>\n",
       "      <td>0.0</td>\n",
       "      <td>0.0</td>\n",
       "      <td>0.00</td>\n",
       "      <td>0.00</td>\n",
       "      <td>0.00</td>\n",
       "      <td>0.00</td>\n",
       "      <td>0.0</td>\n",
       "      <td>2</td>\n",
       "      <td>0.4</td>\n",
       "      <td>repeat</td>\n",
       "    </tr>\n",
       "  </tbody>\n",
       "</table>\n",
       "<p>23847 rows × 188 columns</p>\n",
       "</div>"
      ],
      "text/plain": [
       "                                       id first_gift_year  lapsed_count  \\\n",
       "8        bd323208dc78b1c74b62664b768f3176      2013-01-01             4   \n",
       "9        6dd6113f89f2766d3b0707ef2a46260c      2013-01-01             4   \n",
       "22       309bbe105f70465277576733c0d451b3      2013-01-01             6   \n",
       "88       9f3d62fb6f0a383d9fd993bd832ab6d5      2013-01-01             6   \n",
       "90       0e345dcdef0d2a36c9bd17bf1ac3e10a      2013-01-01             6   \n",
       "...                                   ...             ...           ...   \n",
       "1995618  322a910a93741e7bc778d34101cc0488      2013-01-01             3   \n",
       "2000323  38ac7a02f9e1782ad9e3babc9d7ae5c7      2013-01-01             3   \n",
       "2001227  bc489a1a95e882971ad70008c22d9e3f      2013-01-01             3   \n",
       "2022912  5645fc9c0e2e8a5bd0fcd7edbbf68c91      2013-01-01             3   \n",
       "2023092  53f86d4a2bbd60caed3b18e9f06c2f77      2013-01-01             3   \n",
       "\n",
       "         recovered_count  max_consec_giving_years  total_giving_years  \\\n",
       "8                      3                        3                   3   \n",
       "9                      3                        3                   3   \n",
       "22                     5                        5                   5   \n",
       "88                     5                        3                   5   \n",
       "90                     6                        6                   6   \n",
       "...                  ...                      ...                 ...   \n",
       "1995618                2                        2                   2   \n",
       "2000323                2                        2                   2   \n",
       "2001227                2                        2                   2   \n",
       "2022912                2                        2                   2   \n",
       "2023092                2                        2                   2   \n",
       "\n",
       "         count_2013  count_2014  count_2015  count_2016  ...  amount_06_yr4  \\\n",
       "8                 2           2           1           0  ...            0.0   \n",
       "9                19           7           1           0  ...            0.0   \n",
       "22                9          11          18          20  ...            0.0   \n",
       "88                9           2           2           0  ...            0.0   \n",
       "90             2297        1367         657         155  ...           50.0   \n",
       "...             ...         ...         ...         ...  ...            ...   \n",
       "1995618           1           1           0           0  ...            0.0   \n",
       "2000323           1           1           0           0  ...            0.0   \n",
       "2001227           2           1           0           0  ...            0.0   \n",
       "2022912           1           1           0           0  ...            0.0   \n",
       "2023092           1           1           0           0  ...            0.0   \n",
       "\n",
       "         amount_07_yr4  amount_08_yr4  amount_09_yr4  amount_10_yr4  \\\n",
       "8                  0.0           0.00           0.00           0.00   \n",
       "9                  0.0           0.00           0.00           0.00   \n",
       "22                15.0          20.00           0.00          10.00   \n",
       "88                 5.0          10.00          15.00           5.00   \n",
       "90               260.0         373.49         125.88         236.35   \n",
       "...                ...            ...            ...            ...   \n",
       "1995618            0.0           0.00           0.00           0.00   \n",
       "2000323            0.0           0.00           0.00           0.00   \n",
       "2001227            0.0           0.00           0.00           0.00   \n",
       "2022912            0.0           0.00           0.00           0.00   \n",
       "2023092            0.0           0.00           0.00           0.00   \n",
       "\n",
       "         amount_11_yr4  amount_12_yr4  years_donated  perc_years_donated  \\\n",
       "8                 0.00            0.0              3                 0.6   \n",
       "9                 0.00            0.0              3                 0.6   \n",
       "22               10.00            0.0              5                 1.0   \n",
       "88                5.00            5.0              4                 0.8   \n",
       "90              141.05          221.0              5                 1.0   \n",
       "...                ...            ...            ...                 ...   \n",
       "1995618           0.00            0.0              2                 0.4   \n",
       "2000323           0.00            0.0              2                 0.4   \n",
       "2001227           0.00            0.0              2                 0.4   \n",
       "2022912           0.00            0.0              2                 0.4   \n",
       "2023092           0.00            0.0              2                 0.4   \n",
       "\n",
       "         donor_profile  \n",
       "8               repeat  \n",
       "9               repeat  \n",
       "22              repeat  \n",
       "88              repeat  \n",
       "90              repeat  \n",
       "...                ...  \n",
       "1995618         repeat  \n",
       "2000323         repeat  \n",
       "2001227         repeat  \n",
       "2022912         repeat  \n",
       "2023092         repeat  \n",
       "\n",
       "[23847 rows x 188 columns]"
      ]
     },
     "execution_count": 51,
     "metadata": {},
     "output_type": "execute_result"
    }
   ],
   "source": [
    "yr2013.query('downgraded_amount_2013 > 0')"
   ]
  },
  {
   "cell_type": "markdown",
   "metadata": {},
   "source": [
    "### YEAR info using 2013-2017 dataset"
   ]
  },
  {
   "cell_type": "code",
   "execution_count": 5,
   "metadata": {},
   "outputs": [],
   "source": [
    "yr2013=donations_13to17.query('amount_2013 > 0')"
   ]
  },
  {
   "cell_type": "code",
   "execution_count": 6,
   "metadata": {},
   "outputs": [
    {
     "data": {
      "text/html": [
       "<div>\n",
       "<style scoped>\n",
       "    .dataframe tbody tr th:only-of-type {\n",
       "        vertical-align: middle;\n",
       "    }\n",
       "\n",
       "    .dataframe tbody tr th {\n",
       "        vertical-align: top;\n",
       "    }\n",
       "\n",
       "    .dataframe thead th {\n",
       "        text-align: right;\n",
       "    }\n",
       "</style>\n",
       "<table border=\"1\" class=\"dataframe\">\n",
       "  <thead>\n",
       "    <tr style=\"text-align: right;\">\n",
       "      <th></th>\n",
       "      <th>id</th>\n",
       "      <th>first_gift_year</th>\n",
       "      <th>lapsed_count</th>\n",
       "      <th>recovered_count</th>\n",
       "      <th>max_consec_giving_years</th>\n",
       "      <th>total_giving_years</th>\n",
       "      <th>count_2013</th>\n",
       "      <th>count_2014</th>\n",
       "      <th>count_2015</th>\n",
       "      <th>count_2016</th>\n",
       "      <th>...</th>\n",
       "      <th>amount_06_yr4</th>\n",
       "      <th>amount_07_yr4</th>\n",
       "      <th>amount_08_yr4</th>\n",
       "      <th>amount_09_yr4</th>\n",
       "      <th>amount_10_yr4</th>\n",
       "      <th>amount_11_yr4</th>\n",
       "      <th>amount_12_yr4</th>\n",
       "      <th>years_donated</th>\n",
       "      <th>perc_years_donated</th>\n",
       "      <th>donor_profile</th>\n",
       "    </tr>\n",
       "  </thead>\n",
       "  <tbody>\n",
       "    <tr>\n",
       "      <td>6</td>\n",
       "      <td>8a1875762c85932fff192ea126ccdff2</td>\n",
       "      <td>2013-01-01</td>\n",
       "      <td>2</td>\n",
       "      <td>1</td>\n",
       "      <td>1</td>\n",
       "      <td>1</td>\n",
       "      <td>1</td>\n",
       "      <td>0</td>\n",
       "      <td>0</td>\n",
       "      <td>0</td>\n",
       "      <td>...</td>\n",
       "      <td>0.0</td>\n",
       "      <td>0.0</td>\n",
       "      <td>0.0</td>\n",
       "      <td>0.0</td>\n",
       "      <td>0.0</td>\n",
       "      <td>0.0</td>\n",
       "      <td>0.0</td>\n",
       "      <td>1</td>\n",
       "      <td>0.2</td>\n",
       "      <td>one_time</td>\n",
       "    </tr>\n",
       "    <tr>\n",
       "      <td>7</td>\n",
       "      <td>a3f070e439d52de72ca62dc41f9b16a4</td>\n",
       "      <td>2013-01-01</td>\n",
       "      <td>2</td>\n",
       "      <td>1</td>\n",
       "      <td>1</td>\n",
       "      <td>1</td>\n",
       "      <td>1</td>\n",
       "      <td>0</td>\n",
       "      <td>0</td>\n",
       "      <td>0</td>\n",
       "      <td>...</td>\n",
       "      <td>0.0</td>\n",
       "      <td>0.0</td>\n",
       "      <td>0.0</td>\n",
       "      <td>0.0</td>\n",
       "      <td>0.0</td>\n",
       "      <td>0.0</td>\n",
       "      <td>0.0</td>\n",
       "      <td>1</td>\n",
       "      <td>0.2</td>\n",
       "      <td>one_time</td>\n",
       "    </tr>\n",
       "    <tr>\n",
       "      <td>8</td>\n",
       "      <td>bd323208dc78b1c74b62664b768f3176</td>\n",
       "      <td>2013-01-01</td>\n",
       "      <td>4</td>\n",
       "      <td>3</td>\n",
       "      <td>3</td>\n",
       "      <td>3</td>\n",
       "      <td>2</td>\n",
       "      <td>2</td>\n",
       "      <td>1</td>\n",
       "      <td>0</td>\n",
       "      <td>...</td>\n",
       "      <td>0.0</td>\n",
       "      <td>0.0</td>\n",
       "      <td>0.0</td>\n",
       "      <td>0.0</td>\n",
       "      <td>0.0</td>\n",
       "      <td>0.0</td>\n",
       "      <td>0.0</td>\n",
       "      <td>3</td>\n",
       "      <td>0.6</td>\n",
       "      <td>repeat</td>\n",
       "    </tr>\n",
       "    <tr>\n",
       "      <td>9</td>\n",
       "      <td>6dd6113f89f2766d3b0707ef2a46260c</td>\n",
       "      <td>2013-01-01</td>\n",
       "      <td>4</td>\n",
       "      <td>3</td>\n",
       "      <td>3</td>\n",
       "      <td>3</td>\n",
       "      <td>19</td>\n",
       "      <td>7</td>\n",
       "      <td>1</td>\n",
       "      <td>0</td>\n",
       "      <td>...</td>\n",
       "      <td>0.0</td>\n",
       "      <td>0.0</td>\n",
       "      <td>0.0</td>\n",
       "      <td>0.0</td>\n",
       "      <td>0.0</td>\n",
       "      <td>0.0</td>\n",
       "      <td>0.0</td>\n",
       "      <td>3</td>\n",
       "      <td>0.6</td>\n",
       "      <td>repeat</td>\n",
       "    </tr>\n",
       "    <tr>\n",
       "      <td>10</td>\n",
       "      <td>391f14831940fc7bc41df2cd7fb06030</td>\n",
       "      <td>2013-01-01</td>\n",
       "      <td>2</td>\n",
       "      <td>1</td>\n",
       "      <td>1</td>\n",
       "      <td>1</td>\n",
       "      <td>1</td>\n",
       "      <td>0</td>\n",
       "      <td>0</td>\n",
       "      <td>0</td>\n",
       "      <td>...</td>\n",
       "      <td>0.0</td>\n",
       "      <td>0.0</td>\n",
       "      <td>0.0</td>\n",
       "      <td>0.0</td>\n",
       "      <td>0.0</td>\n",
       "      <td>0.0</td>\n",
       "      <td>0.0</td>\n",
       "      <td>1</td>\n",
       "      <td>0.2</td>\n",
       "      <td>one_time</td>\n",
       "    </tr>\n",
       "  </tbody>\n",
       "</table>\n",
       "<p>5 rows × 188 columns</p>\n",
       "</div>"
      ],
      "text/plain": [
       "                                  id first_gift_year  lapsed_count  \\\n",
       "6   8a1875762c85932fff192ea126ccdff2      2013-01-01             2   \n",
       "7   a3f070e439d52de72ca62dc41f9b16a4      2013-01-01             2   \n",
       "8   bd323208dc78b1c74b62664b768f3176      2013-01-01             4   \n",
       "9   6dd6113f89f2766d3b0707ef2a46260c      2013-01-01             4   \n",
       "10  391f14831940fc7bc41df2cd7fb06030      2013-01-01             2   \n",
       "\n",
       "    recovered_count  max_consec_giving_years  total_giving_years  count_2013  \\\n",
       "6                 1                        1                   1           1   \n",
       "7                 1                        1                   1           1   \n",
       "8                 3                        3                   3           2   \n",
       "9                 3                        3                   3          19   \n",
       "10                1                        1                   1           1   \n",
       "\n",
       "    count_2014  count_2015  count_2016  ...  amount_06_yr4  amount_07_yr4  \\\n",
       "6            0           0           0  ...            0.0            0.0   \n",
       "7            0           0           0  ...            0.0            0.0   \n",
       "8            2           1           0  ...            0.0            0.0   \n",
       "9            7           1           0  ...            0.0            0.0   \n",
       "10           0           0           0  ...            0.0            0.0   \n",
       "\n",
       "    amount_08_yr4  amount_09_yr4  amount_10_yr4  amount_11_yr4  amount_12_yr4  \\\n",
       "6             0.0            0.0            0.0            0.0            0.0   \n",
       "7             0.0            0.0            0.0            0.0            0.0   \n",
       "8             0.0            0.0            0.0            0.0            0.0   \n",
       "9             0.0            0.0            0.0            0.0            0.0   \n",
       "10            0.0            0.0            0.0            0.0            0.0   \n",
       "\n",
       "    years_donated  perc_years_donated  donor_profile  \n",
       "6               1                 0.2       one_time  \n",
       "7               1                 0.2       one_time  \n",
       "8               3                 0.6         repeat  \n",
       "9               3                 0.6         repeat  \n",
       "10              1                 0.2       one_time  \n",
       "\n",
       "[5 rows x 188 columns]"
      ]
     },
     "execution_count": 6,
     "metadata": {},
     "output_type": "execute_result"
    }
   ],
   "source": [
    "yr2013.head()"
   ]
  },
  {
   "cell_type": "code",
   "execution_count": 7,
   "metadata": {},
   "outputs": [],
   "source": [
    "yr_info = donations_13to17"
   ]
  },
  {
   "cell_type": "code",
   "execution_count": 8,
   "metadata": {},
   "outputs": [],
   "source": [
    "#2013_behavior\n",
    "yr_info['behavior_2013'] = np.where(yr_info['amount_2013'] > 0, \"new\", \"none\")"
   ]
  },
  {
   "cell_type": "code",
   "execution_count": 9,
   "metadata": {},
   "outputs": [
    {
     "data": {
      "text/plain": [
       "behavior_2013\n",
       "new      320069\n",
       "none    1556399\n",
       "Name: id, dtype: int64"
      ]
     },
     "execution_count": 9,
     "metadata": {},
     "output_type": "execute_result"
    }
   ],
   "source": [
    "yr_info.groupby('behavior_2013').count()['id']"
   ]
  },
  {
   "cell_type": "code",
   "execution_count": 10,
   "metadata": {},
   "outputs": [],
   "source": [
    "#2014_behavior\n",
    "conditions = [(yr_info['amount_2013'] == 0) & (yr_info['amount_2014'] > 0),\n",
    "              (yr_info['amount_2013'] > 0) & (yr_info['amount_2013'] > 0) & (yr_info['amount_2013'] < yr_info['amount_2014']),\n",
    "              (yr_info['amount_2013'] > 0) & (yr_info['amount_2014'] > 0) & (yr_info['amount_2013'] > yr_info['amount_2014']),\n",
    "              (yr_info['amount_2013'] > 0) & (yr_info['amount_2014'] > 0) & (yr_info['amount_2013'] == yr_info['amount_2014']),\n",
    "              (yr_info['amount_2013'] > 0) & (yr_info['amount_2014'] == 0)]\n",
    "              \n",
    "choices = ['new', 'upgrade', 'downgrade', 'maintain', 'lapse_new']\n",
    "\n",
    "yr_info['behavior_2014'] = np.select(conditions, choices, default='none')"
   ]
  },
  {
   "cell_type": "code",
   "execution_count": 11,
   "metadata": {},
   "outputs": [],
   "source": [
    "#2015_behavior\n",
    "conditions = [(yr_info['amount_2013'] == 0) & (yr_info['amount_2014'] == 0) & (yr_info['amount_2015'] > 0),\n",
    "              (yr_info['amount_2014'] > 0) & (yr_info['amount_2015'] > 0) & (yr_info['amount_2014'] < yr_info['amount_2015']),\n",
    "              (yr_info['amount_2014'] > 0) & (yr_info['amount_2015'] > 0) & (yr_info['amount_2014'] > yr_info['amount_2015']),\n",
    "              (yr_info['amount_2014'] > 0) & (yr_info['amount_2015'] > 0) & (yr_info['amount_2014'] == yr_info['amount_2015']),\n",
    "              (yr_info['amount_2013'] == 0) & (yr_info['amount_2014'] > 0) & (yr_info['amount_2015'] == 0),\n",
    "              (yr_info['amount_2013'] > 0) & (yr_info['amount_2014'] > 0) & (yr_info['amount_2015'] == 0),              \n",
    "              (yr_info['amount_2013'] > 0) & (yr_info['amount_2014'] == 0) & (yr_info['amount_2015'] > 0)]\n",
    "              \n",
    "choices = ['new', 'upgrade', 'downgrade', 'maintain', 'lapse_new', 'lapse_repeat', 'recover']\n",
    "\n",
    "yr_info['behavior_2015'] = np.select(conditions, choices, default='none')"
   ]
  },
  {
   "cell_type": "code",
   "execution_count": 12,
   "metadata": {},
   "outputs": [],
   "source": [
    "#2016_behavior\n",
    "conditions = [(yr_info['amount_2013'] == 0) & (yr_info['amount_2014'] == 0) & (yr_info['amount_2015'] == 0) & (yr_info['amount_2016'] > 0),\n",
    "              (yr_info['amount_2015'] > 0) & (yr_info['amount_2016'] > 0) & (yr_info['amount_2015'] < yr_info['amount_2016']),\n",
    "              (yr_info['amount_2015'] > 0) & (yr_info['amount_2016'] > 0) & (yr_info['amount_2015'] > yr_info['amount_2016']),\n",
    "              (yr_info['amount_2015'] > 0) & (yr_info['amount_2016'] > 0) & (yr_info['amount_2015'] == yr_info['amount_2016']),\n",
    "              (yr_info['amount_2013'] == 0) & (yr_info['amount_2014'] == 0) & (yr_info['amount_2015'] > 0) & (yr_info['amount_2016'] == 0),\n",
    "              ((yr_info['amount_2013'] > 0) | (yr_info['amount_2014'] > 0)) & (yr_info['amount_2015'] > 0) & (yr_info['amount_2016'] == 0),\n",
    "              ((yr_info['amount_2013'] > 0) | (yr_info['amount_2014'] > 0)) & (yr_info['amount_2015'] == 0) & (yr_info['amount_2016'] > 0)]\n",
    "              \n",
    "choices = ['new', 'upgrade', 'downgrade', 'maintain', 'lapse_new', 'lapse_repeat', 'recover']\n",
    "\n",
    "yr_info['behavior_2016'] = np.select(conditions, choices, default='none')"
   ]
  },
  {
   "cell_type": "code",
   "execution_count": 13,
   "metadata": {},
   "outputs": [],
   "source": [
    "#2017_behavior\n",
    "conditions = [(yr_info['amount_2013'] == 0) & (yr_info['amount_2014'] == 0) & (yr_info['amount_2015'] == 0) & (yr_info['amount_2016'] == 0) & (yr_info['amount_2017'] > 0),\n",
    "              (yr_info['amount_2016'] > 0) & (yr_info['amount_2017'] > 0) & (yr_info['amount_2016'] < yr_info['amount_2017']),\n",
    "              (yr_info['amount_2016'] > 0) & (yr_info['amount_2017'] > 0) & (yr_info['amount_2016'] > yr_info['amount_2017']),\n",
    "              (yr_info['amount_2016'] > 0) & (yr_info['amount_2017'] > 0) & (yr_info['amount_2016'] == yr_info['amount_2017']),    \n",
    "              (yr_info['amount_2013'] == 0) & (yr_info['amount_2014'] == 0) & (yr_info['amount_2015'] == 0) & (yr_info['amount_2016'] > 0) & (yr_info['amount_2017'] == 0),\n",
    "              ((yr_info['amount_2013'] > 0) | (yr_info['amount_2014'] > 0) | (yr_info['amount_2015'] > 0)) & (yr_info['amount_2016'] > 0) & (yr_info['amount_2017'] == 0),\n",
    "              ((yr_info['amount_2013'] > 0) | (yr_info['amount_2014'] > 0) | (yr_info['amount_2015'] > 0)) & (yr_info['amount_2016'] == 0) & (yr_info['amount_2017'] > 0)]\n",
    "              \n",
    "choices = ['new', 'upgrade', 'downgrade', 'maintain', 'lapse_new', 'lapse_repeat', 'recover']\n",
    "\n",
    "yr_info['behavior_2017'] = np.select(conditions, choices, default='none')"
   ]
  },
  {
   "cell_type": "code",
   "execution_count": 14,
   "metadata": {},
   "outputs": [],
   "source": [
    "#giving patterns\n",
    "conditions = [(yr_info['amount_2013'] >0) & (yr_info['amount_2014'] ==0) & (yr_info['amount_2015']==0) & (yr_info['amount_2016']==0) & (yr_info['amount_2017']== 0) ,\n",
    "(yr_info['amount_2013'] ==0) & (yr_info['amount_2014'] >0) & (yr_info['amount_2015']==0) & (yr_info['amount_2016']==0) & (yr_info['amount_2017']== 0) ,\n",
    "(yr_info['amount_2013'] ==0) & (yr_info['amount_2014'] ==0) & (yr_info['amount_2015']>0) & (yr_info['amount_2016']==0) & (yr_info['amount_2017']== 0) ,\n",
    "(yr_info['amount_2013'] ==0) & (yr_info['amount_2014'] ==0) & (yr_info['amount_2015']==0) & (yr_info['amount_2016']>0) & (yr_info['amount_2017']== 0) ,\n",
    "(yr_info['amount_2013'] ==0) & (yr_info['amount_2014'] ==0) & (yr_info['amount_2015']==0) & (yr_info['amount_2016']==0) & (yr_info['amount_2017']> 0),\n",
    "(yr_info['amount_2013'] >0) & (yr_info['amount_2014'] >0) & (yr_info['amount_2015']==0) & (yr_info['amount_2016']==0) & (yr_info['amount_2017']== 0) ,\n",
    "(yr_info['amount_2013'] >0) & (yr_info['amount_2014'] ==0) & (yr_info['amount_2015']>0) & (yr_info['amount_2016']==0) & (yr_info['amount_2017']== 0) ,\n",
    "(yr_info['amount_2013'] >0) & (yr_info['amount_2014'] ==0) & (yr_info['amount_2015']==0) & (yr_info['amount_2016']>0) & (yr_info['amount_2017']== 0) ,\n",
    "(yr_info['amount_2013'] >0) & (yr_info['amount_2014'] ==0) & (yr_info['amount_2015']==0) & (yr_info['amount_2016']==0) & (yr_info['amount_2017']> 0) ,\n",
    "(yr_info['amount_2013'] ==0) & (yr_info['amount_2014'] >0) & (yr_info['amount_2015']>0) & (yr_info['amount_2016']==0) & (yr_info['amount_2017']== 0) ,\n",
    "(yr_info['amount_2013'] ==0) & (yr_info['amount_2014'] >0) & (yr_info['amount_2015']==0) & (yr_info['amount_2016']>0) & (yr_info['amount_2017']== 0) ,\n",
    "(yr_info['amount_2013'] ==0) & (yr_info['amount_2014'] >0) & (yr_info['amount_2015']==0) & (yr_info['amount_2016']==0) & (yr_info['amount_2017']> 0) ,\n",
    "(yr_info['amount_2013'] ==0) & (yr_info['amount_2014'] ==0) & (yr_info['amount_2015']>0) & (yr_info['amount_2016']>0) & (yr_info['amount_2017']== 0) ,\n",
    "(yr_info['amount_2013'] ==0) & (yr_info['amount_2014'] ==0) & (yr_info['amount_2015']>0) & (yr_info['amount_2016']==0) & (yr_info['amount_2017']> 0) ,\n",
    "(yr_info['amount_2013'] ==0) & (yr_info['amount_2014'] ==0) & (yr_info['amount_2015']==0) & (yr_info['amount_2016']>0) & (yr_info['amount_2017']> 0),\n",
    "(yr_info['amount_2013'] >0) & (yr_info['amount_2014'] >0) & (yr_info['amount_2015']>0) & (yr_info['amount_2016']==0) & (yr_info['amount_2017']== 0) ,\n",
    "(yr_info['amount_2013'] >0) & (yr_info['amount_2014'] >0) & (yr_info['amount_2015']==0) & (yr_info['amount_2016']>0) & (yr_info['amount_2017']== 0) ,\n",
    "(yr_info['amount_2013'] >0) & (yr_info['amount_2014'] >0) & (yr_info['amount_2015']==0) & (yr_info['amount_2016']==0) & (yr_info['amount_2017']> 0) ,\n",
    "(yr_info['amount_2013'] >0) & (yr_info['amount_2014'] ==0) & (yr_info['amount_2015']>0) & (yr_info['amount_2016']>0) & (yr_info['amount_2017']== 0) ,\n",
    "(yr_info['amount_2013'] >0) & (yr_info['amount_2014'] ==0) & (yr_info['amount_2015']>0) & (yr_info['amount_2016']==0) & (yr_info['amount_2017']> 0) ,\n",
    "(yr_info['amount_2013'] >0) & (yr_info['amount_2014'] ==0) & (yr_info['amount_2015']==0) & (yr_info['amount_2016']>0) & (yr_info['amount_2017']> 0) ,\n",
    "(yr_info['amount_2013'] ==0) & (yr_info['amount_2014'] >0) & (yr_info['amount_2015']>0) & (yr_info['amount_2016']>0) & (yr_info['amount_2017']== 0) ,\n",
    "(yr_info['amount_2013'] ==0) & (yr_info['amount_2014'] >0) & (yr_info['amount_2015']>0) & (yr_info['amount_2016']==0) & (yr_info['amount_2017']> 0) ,\n",
    "(yr_info['amount_2013'] ==0) & (yr_info['amount_2014'] >0) & (yr_info['amount_2015']==0) & (yr_info['amount_2016']>0) & (yr_info['amount_2017']> 0) ,\n",
    "(yr_info['amount_2013'] ==0) & (yr_info['amount_2014'] ==0) & (yr_info['amount_2015']>0) & (yr_info['amount_2016']>0) & (yr_info['amount_2017']> 0),\n",
    "(yr_info['amount_2013'] >0) & (yr_info['amount_2014'] >0) & (yr_info['amount_2015']>0) & (yr_info['amount_2016']>0) & (yr_info['amount_2017']== 0) ,\n",
    "(yr_info['amount_2013'] >0) & (yr_info['amount_2014'] >0) & (yr_info['amount_2015']>0) & (yr_info['amount_2016']==0) & (yr_info['amount_2017']> 0) ,\n",
    "(yr_info['amount_2013'] >0) & (yr_info['amount_2014'] >0) & (yr_info['amount_2015']==0) & (yr_info['amount_2016']>0) & (yr_info['amount_2017']> 0) ,\n",
    "(yr_info['amount_2013'] >0) & (yr_info['amount_2014'] ==0) & (yr_info['amount_2015']>0) & (yr_info['amount_2016']>0) & (yr_info['amount_2017']> 0) ,\n",
    "(yr_info['amount_2013'] ==0) & (yr_info['amount_2014'] >0) & (yr_info['amount_2015']>0) & (yr_info['amount_2016']>0) & (yr_info['amount_2017']> 0),\n",
    "(yr_info['amount_2013'] >0) & (yr_info['amount_2014'] >0) & (yr_info['amount_2015']>0) & (yr_info['amount_2016']>0) & (yr_info['amount_2017']> 0)\n",
    "]\n",
    "\n",
    "choices = ['1,', '2,', \n",
    "'3,', \n",
    "'4,', \n",
    "'5,', \n",
    "'1,2,', \n",
    "'1,3,', \n",
    "'1,4,', \n",
    "'1,5,', \n",
    "'2,3,', \n",
    "'2,4,', \n",
    "'2,5,', \n",
    "'3,4,', \n",
    "'3,5,', \n",
    "'4,5,', \n",
    "'1,2,3,', \n",
    "'1,2,4,', \n",
    "'1,2,5,', \n",
    "'1,3,4,', \n",
    "'1,3,5,', \n",
    "'1,4,5,', \n",
    "'2,3,4,', \n",
    "'2,3,5,', \n",
    "'2,4,5,', \n",
    "'3,4,5,', \n",
    "'1,2,3,4,', \n",
    "'1,2,3,5,', \n",
    "'1,2,4,5,', \n",
    "'1,3,4,5,', \n",
    "'2,3,4,5,', \n",
    "'1,2,3,4,5,' \n",
    "]\n",
    "\n",
    "yr_info['gift_pattern'] = np.select(conditions, choices, default='none')"
   ]
  },
  {
   "cell_type": "code",
   "execution_count": 15,
   "metadata": {},
   "outputs": [
    {
     "data": {
      "text/html": [
       "<div>\n",
       "<style scoped>\n",
       "    .dataframe tbody tr th:only-of-type {\n",
       "        vertical-align: middle;\n",
       "    }\n",
       "\n",
       "    .dataframe tbody tr th {\n",
       "        vertical-align: top;\n",
       "    }\n",
       "\n",
       "    .dataframe thead th {\n",
       "        text-align: right;\n",
       "    }\n",
       "</style>\n",
       "<table border=\"1\" class=\"dataframe\">\n",
       "  <thead>\n",
       "    <tr style=\"text-align: right;\">\n",
       "      <th></th>\n",
       "      <th>id</th>\n",
       "      <th>first_gift_year</th>\n",
       "      <th>lapsed_count</th>\n",
       "      <th>recovered_count</th>\n",
       "      <th>max_consec_giving_years</th>\n",
       "      <th>total_giving_years</th>\n",
       "      <th>count_2013</th>\n",
       "      <th>count_2014</th>\n",
       "      <th>count_2015</th>\n",
       "      <th>count_2016</th>\n",
       "      <th>...</th>\n",
       "      <th>amount_12_yr4</th>\n",
       "      <th>years_donated</th>\n",
       "      <th>perc_years_donated</th>\n",
       "      <th>donor_profile</th>\n",
       "      <th>behavior_2013</th>\n",
       "      <th>behavior_2014</th>\n",
       "      <th>behavior_2015</th>\n",
       "      <th>behavior_2016</th>\n",
       "      <th>behavior_2017</th>\n",
       "      <th>gift_pattern</th>\n",
       "    </tr>\n",
       "  </thead>\n",
       "  <tbody>\n",
       "    <tr>\n",
       "      <td>0</td>\n",
       "      <td>1f4b5b6e68445c6c4a0509b3aca93f38</td>\n",
       "      <td>2015-01-01</td>\n",
       "      <td>4</td>\n",
       "      <td>4</td>\n",
       "      <td>4</td>\n",
       "      <td>4</td>\n",
       "      <td>0</td>\n",
       "      <td>0</td>\n",
       "      <td>42</td>\n",
       "      <td>64</td>\n",
       "      <td>...</td>\n",
       "      <td>NaN</td>\n",
       "      <td>4</td>\n",
       "      <td>0.8</td>\n",
       "      <td>repeat</td>\n",
       "      <td>none</td>\n",
       "      <td>none</td>\n",
       "      <td>new</td>\n",
       "      <td>upgrade</td>\n",
       "      <td>upgrade</td>\n",
       "      <td>3,4,5,</td>\n",
       "    </tr>\n",
       "    <tr>\n",
       "      <td>1</td>\n",
       "      <td>4aaab6d244bf3599682239ed5591af8a</td>\n",
       "      <td>2016-01-01</td>\n",
       "      <td>2</td>\n",
       "      <td>1</td>\n",
       "      <td>1</td>\n",
       "      <td>1</td>\n",
       "      <td>0</td>\n",
       "      <td>0</td>\n",
       "      <td>0</td>\n",
       "      <td>1</td>\n",
       "      <td>...</td>\n",
       "      <td>NaN</td>\n",
       "      <td>1</td>\n",
       "      <td>0.2</td>\n",
       "      <td>one_time</td>\n",
       "      <td>none</td>\n",
       "      <td>none</td>\n",
       "      <td>none</td>\n",
       "      <td>new</td>\n",
       "      <td>lapse_new</td>\n",
       "      <td>4,</td>\n",
       "    </tr>\n",
       "    <tr>\n",
       "      <td>2</td>\n",
       "      <td>0b0765dc9c759adc48a07688ba25e94e</td>\n",
       "      <td>2015-01-01</td>\n",
       "      <td>3</td>\n",
       "      <td>2</td>\n",
       "      <td>2</td>\n",
       "      <td>2</td>\n",
       "      <td>0</td>\n",
       "      <td>0</td>\n",
       "      <td>2</td>\n",
       "      <td>2</td>\n",
       "      <td>...</td>\n",
       "      <td>NaN</td>\n",
       "      <td>2</td>\n",
       "      <td>0.4</td>\n",
       "      <td>repeat</td>\n",
       "      <td>none</td>\n",
       "      <td>none</td>\n",
       "      <td>new</td>\n",
       "      <td>upgrade</td>\n",
       "      <td>lapse_repeat</td>\n",
       "      <td>3,4,</td>\n",
       "    </tr>\n",
       "    <tr>\n",
       "      <td>3</td>\n",
       "      <td>377944ad61f72d800b25ec1862aec363</td>\n",
       "      <td>2016-01-01</td>\n",
       "      <td>2</td>\n",
       "      <td>1</td>\n",
       "      <td>1</td>\n",
       "      <td>1</td>\n",
       "      <td>0</td>\n",
       "      <td>0</td>\n",
       "      <td>0</td>\n",
       "      <td>1</td>\n",
       "      <td>...</td>\n",
       "      <td>NaN</td>\n",
       "      <td>1</td>\n",
       "      <td>0.2</td>\n",
       "      <td>one_time</td>\n",
       "      <td>none</td>\n",
       "      <td>none</td>\n",
       "      <td>none</td>\n",
       "      <td>new</td>\n",
       "      <td>lapse_new</td>\n",
       "      <td>4,</td>\n",
       "    </tr>\n",
       "    <tr>\n",
       "      <td>4</td>\n",
       "      <td>6d5b22d39e68c656071a842732c63a0c</td>\n",
       "      <td>2015-01-01</td>\n",
       "      <td>4</td>\n",
       "      <td>3</td>\n",
       "      <td>2</td>\n",
       "      <td>3</td>\n",
       "      <td>0</td>\n",
       "      <td>0</td>\n",
       "      <td>1</td>\n",
       "      <td>1</td>\n",
       "      <td>...</td>\n",
       "      <td>NaN</td>\n",
       "      <td>3</td>\n",
       "      <td>0.6</td>\n",
       "      <td>repeat</td>\n",
       "      <td>none</td>\n",
       "      <td>none</td>\n",
       "      <td>new</td>\n",
       "      <td>downgrade</td>\n",
       "      <td>lapse_repeat</td>\n",
       "      <td>3,4,</td>\n",
       "    </tr>\n",
       "    <tr>\n",
       "      <td>...</td>\n",
       "      <td>...</td>\n",
       "      <td>...</td>\n",
       "      <td>...</td>\n",
       "      <td>...</td>\n",
       "      <td>...</td>\n",
       "      <td>...</td>\n",
       "      <td>...</td>\n",
       "      <td>...</td>\n",
       "      <td>...</td>\n",
       "      <td>...</td>\n",
       "      <td>...</td>\n",
       "      <td>...</td>\n",
       "      <td>...</td>\n",
       "      <td>...</td>\n",
       "      <td>...</td>\n",
       "      <td>...</td>\n",
       "      <td>...</td>\n",
       "      <td>...</td>\n",
       "      <td>...</td>\n",
       "      <td>...</td>\n",
       "      <td>...</td>\n",
       "    </tr>\n",
       "    <tr>\n",
       "      <td>2024548</td>\n",
       "      <td>e6a4ef71c2ad1fae992b0ca093b41dad</td>\n",
       "      <td>2016-01-01</td>\n",
       "      <td>2</td>\n",
       "      <td>1</td>\n",
       "      <td>1</td>\n",
       "      <td>1</td>\n",
       "      <td>0</td>\n",
       "      <td>0</td>\n",
       "      <td>0</td>\n",
       "      <td>1</td>\n",
       "      <td>...</td>\n",
       "      <td>NaN</td>\n",
       "      <td>1</td>\n",
       "      <td>0.2</td>\n",
       "      <td>one_time</td>\n",
       "      <td>none</td>\n",
       "      <td>none</td>\n",
       "      <td>none</td>\n",
       "      <td>new</td>\n",
       "      <td>lapse_new</td>\n",
       "      <td>4,</td>\n",
       "    </tr>\n",
       "    <tr>\n",
       "      <td>2024549</td>\n",
       "      <td>17349045834fff2e3a1644a240ada6a5</td>\n",
       "      <td>2016-01-01</td>\n",
       "      <td>2</td>\n",
       "      <td>1</td>\n",
       "      <td>1</td>\n",
       "      <td>1</td>\n",
       "      <td>0</td>\n",
       "      <td>0</td>\n",
       "      <td>0</td>\n",
       "      <td>1</td>\n",
       "      <td>...</td>\n",
       "      <td>NaN</td>\n",
       "      <td>1</td>\n",
       "      <td>0.2</td>\n",
       "      <td>one_time</td>\n",
       "      <td>none</td>\n",
       "      <td>none</td>\n",
       "      <td>none</td>\n",
       "      <td>new</td>\n",
       "      <td>lapse_new</td>\n",
       "      <td>4,</td>\n",
       "    </tr>\n",
       "    <tr>\n",
       "      <td>2024550</td>\n",
       "      <td>07cbfd22c88371d0fc4e5d68799dc4cc</td>\n",
       "      <td>2016-01-01</td>\n",
       "      <td>2</td>\n",
       "      <td>1</td>\n",
       "      <td>1</td>\n",
       "      <td>1</td>\n",
       "      <td>0</td>\n",
       "      <td>0</td>\n",
       "      <td>0</td>\n",
       "      <td>1</td>\n",
       "      <td>...</td>\n",
       "      <td>NaN</td>\n",
       "      <td>1</td>\n",
       "      <td>0.2</td>\n",
       "      <td>one_time</td>\n",
       "      <td>none</td>\n",
       "      <td>none</td>\n",
       "      <td>none</td>\n",
       "      <td>new</td>\n",
       "      <td>lapse_new</td>\n",
       "      <td>4,</td>\n",
       "    </tr>\n",
       "    <tr>\n",
       "      <td>2024551</td>\n",
       "      <td>90449de3dfeeac866d2ec5c88ac9da60</td>\n",
       "      <td>2016-01-01</td>\n",
       "      <td>2</td>\n",
       "      <td>1</td>\n",
       "      <td>1</td>\n",
       "      <td>1</td>\n",
       "      <td>0</td>\n",
       "      <td>0</td>\n",
       "      <td>0</td>\n",
       "      <td>1</td>\n",
       "      <td>...</td>\n",
       "      <td>NaN</td>\n",
       "      <td>1</td>\n",
       "      <td>0.2</td>\n",
       "      <td>one_time</td>\n",
       "      <td>none</td>\n",
       "      <td>none</td>\n",
       "      <td>none</td>\n",
       "      <td>new</td>\n",
       "      <td>lapse_new</td>\n",
       "      <td>4,</td>\n",
       "    </tr>\n",
       "    <tr>\n",
       "      <td>2024552</td>\n",
       "      <td>071677d93e6f46454d8c53daa84a1463</td>\n",
       "      <td>2016-01-01</td>\n",
       "      <td>2</td>\n",
       "      <td>1</td>\n",
       "      <td>1</td>\n",
       "      <td>1</td>\n",
       "      <td>0</td>\n",
       "      <td>0</td>\n",
       "      <td>0</td>\n",
       "      <td>1</td>\n",
       "      <td>...</td>\n",
       "      <td>NaN</td>\n",
       "      <td>1</td>\n",
       "      <td>0.2</td>\n",
       "      <td>one_time</td>\n",
       "      <td>none</td>\n",
       "      <td>none</td>\n",
       "      <td>none</td>\n",
       "      <td>new</td>\n",
       "      <td>lapse_new</td>\n",
       "      <td>4,</td>\n",
       "    </tr>\n",
       "  </tbody>\n",
       "</table>\n",
       "<p>1876468 rows × 194 columns</p>\n",
       "</div>"
      ],
      "text/plain": [
       "                                       id first_gift_year  lapsed_count  \\\n",
       "0        1f4b5b6e68445c6c4a0509b3aca93f38      2015-01-01             4   \n",
       "1        4aaab6d244bf3599682239ed5591af8a      2016-01-01             2   \n",
       "2        0b0765dc9c759adc48a07688ba25e94e      2015-01-01             3   \n",
       "3        377944ad61f72d800b25ec1862aec363      2016-01-01             2   \n",
       "4        6d5b22d39e68c656071a842732c63a0c      2015-01-01             4   \n",
       "...                                   ...             ...           ...   \n",
       "2024548  e6a4ef71c2ad1fae992b0ca093b41dad      2016-01-01             2   \n",
       "2024549  17349045834fff2e3a1644a240ada6a5      2016-01-01             2   \n",
       "2024550  07cbfd22c88371d0fc4e5d68799dc4cc      2016-01-01             2   \n",
       "2024551  90449de3dfeeac866d2ec5c88ac9da60      2016-01-01             2   \n",
       "2024552  071677d93e6f46454d8c53daa84a1463      2016-01-01             2   \n",
       "\n",
       "         recovered_count  max_consec_giving_years  total_giving_years  \\\n",
       "0                      4                        4                   4   \n",
       "1                      1                        1                   1   \n",
       "2                      2                        2                   2   \n",
       "3                      1                        1                   1   \n",
       "4                      3                        2                   3   \n",
       "...                  ...                      ...                 ...   \n",
       "2024548                1                        1                   1   \n",
       "2024549                1                        1                   1   \n",
       "2024550                1                        1                   1   \n",
       "2024551                1                        1                   1   \n",
       "2024552                1                        1                   1   \n",
       "\n",
       "         count_2013  count_2014  count_2015  count_2016  ...  amount_12_yr4  \\\n",
       "0                 0           0          42          64  ...            NaN   \n",
       "1                 0           0           0           1  ...            NaN   \n",
       "2                 0           0           2           2  ...            NaN   \n",
       "3                 0           0           0           1  ...            NaN   \n",
       "4                 0           0           1           1  ...            NaN   \n",
       "...             ...         ...         ...         ...  ...            ...   \n",
       "2024548           0           0           0           1  ...            NaN   \n",
       "2024549           0           0           0           1  ...            NaN   \n",
       "2024550           0           0           0           1  ...            NaN   \n",
       "2024551           0           0           0           1  ...            NaN   \n",
       "2024552           0           0           0           1  ...            NaN   \n",
       "\n",
       "         years_donated  perc_years_donated  donor_profile  behavior_2013  \\\n",
       "0                    4                 0.8         repeat           none   \n",
       "1                    1                 0.2       one_time           none   \n",
       "2                    2                 0.4         repeat           none   \n",
       "3                    1                 0.2       one_time           none   \n",
       "4                    3                 0.6         repeat           none   \n",
       "...                ...                 ...            ...            ...   \n",
       "2024548              1                 0.2       one_time           none   \n",
       "2024549              1                 0.2       one_time           none   \n",
       "2024550              1                 0.2       one_time           none   \n",
       "2024551              1                 0.2       one_time           none   \n",
       "2024552              1                 0.2       one_time           none   \n",
       "\n",
       "         behavior_2014  behavior_2015  behavior_2016  behavior_2017  \\\n",
       "0                 none            new        upgrade        upgrade   \n",
       "1                 none           none            new      lapse_new   \n",
       "2                 none            new        upgrade   lapse_repeat   \n",
       "3                 none           none            new      lapse_new   \n",
       "4                 none            new      downgrade   lapse_repeat   \n",
       "...                ...            ...            ...            ...   \n",
       "2024548           none           none            new      lapse_new   \n",
       "2024549           none           none            new      lapse_new   \n",
       "2024550           none           none            new      lapse_new   \n",
       "2024551           none           none            new      lapse_new   \n",
       "2024552           none           none            new      lapse_new   \n",
       "\n",
       "         gift_pattern  \n",
       "0              3,4,5,  \n",
       "1                  4,  \n",
       "2                3,4,  \n",
       "3                  4,  \n",
       "4                3,4,  \n",
       "...               ...  \n",
       "2024548            4,  \n",
       "2024549            4,  \n",
       "2024550            4,  \n",
       "2024551            4,  \n",
       "2024552            4,  \n",
       "\n",
       "[1876468 rows x 194 columns]"
      ]
     },
     "execution_count": 15,
     "metadata": {},
     "output_type": "execute_result"
    }
   ],
   "source": [
    "yr_info"
   ]
  },
  {
   "cell_type": "code",
   "execution_count": 16,
   "metadata": {},
   "outputs": [
    {
     "data": {
      "text/plain": [
       "behavior_2013\n",
       "new      320069\n",
       "none    1556399\n",
       "Name: id, dtype: int64"
      ]
     },
     "execution_count": 16,
     "metadata": {},
     "output_type": "execute_result"
    }
   ],
   "source": [
    "yr_info.groupby('behavior_2013').count()['id']"
   ]
  },
  {
   "cell_type": "code",
   "execution_count": 17,
   "metadata": {},
   "outputs": [
    {
     "data": {
      "text/plain": [
       "behavior_2017\n",
       "downgrade        42268\n",
       "lapse_new       389060\n",
       "lapse_repeat     67085\n",
       "maintain         14211\n",
       "new             434991\n",
       "none            845732\n",
       "recover          39909\n",
       "upgrade          43212\n",
       "Name: id, dtype: int64"
      ]
     },
     "execution_count": 17,
     "metadata": {},
     "output_type": "execute_result"
    }
   ],
   "source": [
    "yr_info.groupby('behavior_2017').count()['id']"
   ]
  },
  {
   "cell_type": "code",
   "execution_count": 19,
   "metadata": {},
   "outputs": [
    {
     "data": {
      "text/plain": [
       "first_gift_year\n",
       "2013-01-01    320069\n",
       "2014-01-01    320673\n",
       "2015-01-01    355137\n",
       "2016-01-01    445598\n",
       "2017-01-01    434991\n",
       "Name: id, dtype: int64"
      ]
     },
     "execution_count": 19,
     "metadata": {},
     "output_type": "execute_result"
    }
   ],
   "source": [
    "donations_13to17.groupby('first_gift_year').count()['id']"
   ]
  },
  {
   "cell_type": "code",
   "execution_count": 20,
   "metadata": {},
   "outputs": [
    {
     "data": {
      "text/html": [
       "<div>\n",
       "<style scoped>\n",
       "    .dataframe tbody tr th:only-of-type {\n",
       "        vertical-align: middle;\n",
       "    }\n",
       "\n",
       "    .dataframe tbody tr th {\n",
       "        vertical-align: top;\n",
       "    }\n",
       "\n",
       "    .dataframe thead th {\n",
       "        text-align: right;\n",
       "    }\n",
       "</style>\n",
       "<table border=\"1\" class=\"dataframe\">\n",
       "  <thead>\n",
       "    <tr style=\"text-align: right;\">\n",
       "      <th></th>\n",
       "      <th>id</th>\n",
       "      <th>first_gift_year</th>\n",
       "      <th>lapsed_count</th>\n",
       "      <th>recovered_count</th>\n",
       "      <th>max_consec_giving_years</th>\n",
       "      <th>total_giving_years</th>\n",
       "      <th>count_2013</th>\n",
       "      <th>count_2014</th>\n",
       "      <th>count_2015</th>\n",
       "      <th>count_2016</th>\n",
       "      <th>...</th>\n",
       "      <th>amount_12_yr4</th>\n",
       "      <th>years_donated</th>\n",
       "      <th>perc_years_donated</th>\n",
       "      <th>donor_profile</th>\n",
       "      <th>behavior_2013</th>\n",
       "      <th>behavior_2014</th>\n",
       "      <th>behavior_2015</th>\n",
       "      <th>behavior_2016</th>\n",
       "      <th>behavior_2017</th>\n",
       "      <th>gift_pattern</th>\n",
       "    </tr>\n",
       "  </thead>\n",
       "  <tbody>\n",
       "    <tr>\n",
       "      <td>54</td>\n",
       "      <td>f2d7c9f3d87bcf44586efba06069f9a3</td>\n",
       "      <td>2015-01-01</td>\n",
       "      <td>4</td>\n",
       "      <td>3</td>\n",
       "      <td>2</td>\n",
       "      <td>3</td>\n",
       "      <td>0</td>\n",
       "      <td>0</td>\n",
       "      <td>6</td>\n",
       "      <td>0</td>\n",
       "      <td>...</td>\n",
       "      <td>NaN</td>\n",
       "      <td>3</td>\n",
       "      <td>0.6</td>\n",
       "      <td>repeat</td>\n",
       "      <td>none</td>\n",
       "      <td>none</td>\n",
       "      <td>new</td>\n",
       "      <td>lapse_new</td>\n",
       "      <td>recover</td>\n",
       "      <td>3,5,</td>\n",
       "    </tr>\n",
       "    <tr>\n",
       "      <td>64</td>\n",
       "      <td>89dc0edd420812b54ce9be1e68ab5791</td>\n",
       "      <td>2015-01-01</td>\n",
       "      <td>4</td>\n",
       "      <td>2</td>\n",
       "      <td>1</td>\n",
       "      <td>2</td>\n",
       "      <td>0</td>\n",
       "      <td>0</td>\n",
       "      <td>8</td>\n",
       "      <td>0</td>\n",
       "      <td>...</td>\n",
       "      <td>NaN</td>\n",
       "      <td>2</td>\n",
       "      <td>0.4</td>\n",
       "      <td>repeat</td>\n",
       "      <td>none</td>\n",
       "      <td>none</td>\n",
       "      <td>new</td>\n",
       "      <td>lapse_new</td>\n",
       "      <td>recover</td>\n",
       "      <td>3,5,</td>\n",
       "    </tr>\n",
       "    <tr>\n",
       "      <td>104</td>\n",
       "      <td>dad2d59024fa20e3d963a252f9d8f9f3</td>\n",
       "      <td>2015-01-01</td>\n",
       "      <td>4</td>\n",
       "      <td>3</td>\n",
       "      <td>2</td>\n",
       "      <td>3</td>\n",
       "      <td>0</td>\n",
       "      <td>0</td>\n",
       "      <td>1</td>\n",
       "      <td>0</td>\n",
       "      <td>...</td>\n",
       "      <td>NaN</td>\n",
       "      <td>3</td>\n",
       "      <td>0.6</td>\n",
       "      <td>repeat</td>\n",
       "      <td>none</td>\n",
       "      <td>none</td>\n",
       "      <td>new</td>\n",
       "      <td>lapse_new</td>\n",
       "      <td>recover</td>\n",
       "      <td>3,5,</td>\n",
       "    </tr>\n",
       "    <tr>\n",
       "      <td>107</td>\n",
       "      <td>d4b379bce56137d1d6695f7b0e34f875</td>\n",
       "      <td>2015-01-01</td>\n",
       "      <td>4</td>\n",
       "      <td>2</td>\n",
       "      <td>1</td>\n",
       "      <td>2</td>\n",
       "      <td>0</td>\n",
       "      <td>0</td>\n",
       "      <td>2</td>\n",
       "      <td>0</td>\n",
       "      <td>...</td>\n",
       "      <td>NaN</td>\n",
       "      <td>2</td>\n",
       "      <td>0.4</td>\n",
       "      <td>repeat</td>\n",
       "      <td>none</td>\n",
       "      <td>none</td>\n",
       "      <td>new</td>\n",
       "      <td>lapse_new</td>\n",
       "      <td>recover</td>\n",
       "      <td>3,5,</td>\n",
       "    </tr>\n",
       "    <tr>\n",
       "      <td>108</td>\n",
       "      <td>b4a736d881c6985d62600fd85337a12f</td>\n",
       "      <td>2015-01-01</td>\n",
       "      <td>4</td>\n",
       "      <td>2</td>\n",
       "      <td>1</td>\n",
       "      <td>2</td>\n",
       "      <td>0</td>\n",
       "      <td>0</td>\n",
       "      <td>1</td>\n",
       "      <td>0</td>\n",
       "      <td>...</td>\n",
       "      <td>NaN</td>\n",
       "      <td>2</td>\n",
       "      <td>0.4</td>\n",
       "      <td>repeat</td>\n",
       "      <td>none</td>\n",
       "      <td>none</td>\n",
       "      <td>new</td>\n",
       "      <td>lapse_new</td>\n",
       "      <td>recover</td>\n",
       "      <td>3,5,</td>\n",
       "    </tr>\n",
       "    <tr>\n",
       "      <td>...</td>\n",
       "      <td>...</td>\n",
       "      <td>...</td>\n",
       "      <td>...</td>\n",
       "      <td>...</td>\n",
       "      <td>...</td>\n",
       "      <td>...</td>\n",
       "      <td>...</td>\n",
       "      <td>...</td>\n",
       "      <td>...</td>\n",
       "      <td>...</td>\n",
       "      <td>...</td>\n",
       "      <td>...</td>\n",
       "      <td>...</td>\n",
       "      <td>...</td>\n",
       "      <td>...</td>\n",
       "      <td>...</td>\n",
       "      <td>...</td>\n",
       "      <td>...</td>\n",
       "      <td>...</td>\n",
       "      <td>...</td>\n",
       "      <td>...</td>\n",
       "    </tr>\n",
       "    <tr>\n",
       "      <td>1984979</td>\n",
       "      <td>6f3e5b48053a59b8062267c385d83f3b</td>\n",
       "      <td>2015-01-01</td>\n",
       "      <td>4</td>\n",
       "      <td>2</td>\n",
       "      <td>1</td>\n",
       "      <td>2</td>\n",
       "      <td>0</td>\n",
       "      <td>0</td>\n",
       "      <td>1</td>\n",
       "      <td>0</td>\n",
       "      <td>...</td>\n",
       "      <td>NaN</td>\n",
       "      <td>2</td>\n",
       "      <td>0.4</td>\n",
       "      <td>repeat</td>\n",
       "      <td>none</td>\n",
       "      <td>none</td>\n",
       "      <td>new</td>\n",
       "      <td>lapse_new</td>\n",
       "      <td>recover</td>\n",
       "      <td>3,5,</td>\n",
       "    </tr>\n",
       "    <tr>\n",
       "      <td>1988845</td>\n",
       "      <td>dee1c85cef7627df23eb9ca0cacc1d9d</td>\n",
       "      <td>2015-01-01</td>\n",
       "      <td>4</td>\n",
       "      <td>2</td>\n",
       "      <td>1</td>\n",
       "      <td>2</td>\n",
       "      <td>0</td>\n",
       "      <td>0</td>\n",
       "      <td>1</td>\n",
       "      <td>0</td>\n",
       "      <td>...</td>\n",
       "      <td>NaN</td>\n",
       "      <td>2</td>\n",
       "      <td>0.4</td>\n",
       "      <td>repeat</td>\n",
       "      <td>none</td>\n",
       "      <td>none</td>\n",
       "      <td>new</td>\n",
       "      <td>lapse_new</td>\n",
       "      <td>recover</td>\n",
       "      <td>3,5,</td>\n",
       "    </tr>\n",
       "    <tr>\n",
       "      <td>1991085</td>\n",
       "      <td>cb2d311423d6e662c1b4c5df7a915a92</td>\n",
       "      <td>2015-01-01</td>\n",
       "      <td>4</td>\n",
       "      <td>2</td>\n",
       "      <td>1</td>\n",
       "      <td>2</td>\n",
       "      <td>0</td>\n",
       "      <td>0</td>\n",
       "      <td>1</td>\n",
       "      <td>0</td>\n",
       "      <td>...</td>\n",
       "      <td>NaN</td>\n",
       "      <td>2</td>\n",
       "      <td>0.4</td>\n",
       "      <td>repeat</td>\n",
       "      <td>none</td>\n",
       "      <td>none</td>\n",
       "      <td>new</td>\n",
       "      <td>lapse_new</td>\n",
       "      <td>recover</td>\n",
       "      <td>3,5,</td>\n",
       "    </tr>\n",
       "    <tr>\n",
       "      <td>1999739</td>\n",
       "      <td>b9369ebfcdd47b0e792d43e01889373f</td>\n",
       "      <td>2015-01-01</td>\n",
       "      <td>4</td>\n",
       "      <td>2</td>\n",
       "      <td>1</td>\n",
       "      <td>2</td>\n",
       "      <td>0</td>\n",
       "      <td>0</td>\n",
       "      <td>1</td>\n",
       "      <td>0</td>\n",
       "      <td>...</td>\n",
       "      <td>NaN</td>\n",
       "      <td>2</td>\n",
       "      <td>0.4</td>\n",
       "      <td>repeat</td>\n",
       "      <td>none</td>\n",
       "      <td>none</td>\n",
       "      <td>new</td>\n",
       "      <td>lapse_new</td>\n",
       "      <td>recover</td>\n",
       "      <td>3,5,</td>\n",
       "    </tr>\n",
       "    <tr>\n",
       "      <td>2008353</td>\n",
       "      <td>9c7397bab94a443aa32045675bf83681</td>\n",
       "      <td>2015-01-01</td>\n",
       "      <td>4</td>\n",
       "      <td>2</td>\n",
       "      <td>1</td>\n",
       "      <td>2</td>\n",
       "      <td>0</td>\n",
       "      <td>0</td>\n",
       "      <td>1</td>\n",
       "      <td>0</td>\n",
       "      <td>...</td>\n",
       "      <td>NaN</td>\n",
       "      <td>2</td>\n",
       "      <td>0.4</td>\n",
       "      <td>repeat</td>\n",
       "      <td>none</td>\n",
       "      <td>none</td>\n",
       "      <td>new</td>\n",
       "      <td>lapse_new</td>\n",
       "      <td>recover</td>\n",
       "      <td>3,5,</td>\n",
       "    </tr>\n",
       "  </tbody>\n",
       "</table>\n",
       "<p>16520 rows × 194 columns</p>\n",
       "</div>"
      ],
      "text/plain": [
       "                                       id first_gift_year  lapsed_count  \\\n",
       "54       f2d7c9f3d87bcf44586efba06069f9a3      2015-01-01             4   \n",
       "64       89dc0edd420812b54ce9be1e68ab5791      2015-01-01             4   \n",
       "104      dad2d59024fa20e3d963a252f9d8f9f3      2015-01-01             4   \n",
       "107      d4b379bce56137d1d6695f7b0e34f875      2015-01-01             4   \n",
       "108      b4a736d881c6985d62600fd85337a12f      2015-01-01             4   \n",
       "...                                   ...             ...           ...   \n",
       "1984979  6f3e5b48053a59b8062267c385d83f3b      2015-01-01             4   \n",
       "1988845  dee1c85cef7627df23eb9ca0cacc1d9d      2015-01-01             4   \n",
       "1991085  cb2d311423d6e662c1b4c5df7a915a92      2015-01-01             4   \n",
       "1999739  b9369ebfcdd47b0e792d43e01889373f      2015-01-01             4   \n",
       "2008353  9c7397bab94a443aa32045675bf83681      2015-01-01             4   \n",
       "\n",
       "         recovered_count  max_consec_giving_years  total_giving_years  \\\n",
       "54                     3                        2                   3   \n",
       "64                     2                        1                   2   \n",
       "104                    3                        2                   3   \n",
       "107                    2                        1                   2   \n",
       "108                    2                        1                   2   \n",
       "...                  ...                      ...                 ...   \n",
       "1984979                2                        1                   2   \n",
       "1988845                2                        1                   2   \n",
       "1991085                2                        1                   2   \n",
       "1999739                2                        1                   2   \n",
       "2008353                2                        1                   2   \n",
       "\n",
       "         count_2013  count_2014  count_2015  count_2016  ...  amount_12_yr4  \\\n",
       "54                0           0           6           0  ...            NaN   \n",
       "64                0           0           8           0  ...            NaN   \n",
       "104               0           0           1           0  ...            NaN   \n",
       "107               0           0           2           0  ...            NaN   \n",
       "108               0           0           1           0  ...            NaN   \n",
       "...             ...         ...         ...         ...  ...            ...   \n",
       "1984979           0           0           1           0  ...            NaN   \n",
       "1988845           0           0           1           0  ...            NaN   \n",
       "1991085           0           0           1           0  ...            NaN   \n",
       "1999739           0           0           1           0  ...            NaN   \n",
       "2008353           0           0           1           0  ...            NaN   \n",
       "\n",
       "         years_donated  perc_years_donated  donor_profile  behavior_2013  \\\n",
       "54                   3                 0.6         repeat           none   \n",
       "64                   2                 0.4         repeat           none   \n",
       "104                  3                 0.6         repeat           none   \n",
       "107                  2                 0.4         repeat           none   \n",
       "108                  2                 0.4         repeat           none   \n",
       "...                ...                 ...            ...            ...   \n",
       "1984979              2                 0.4         repeat           none   \n",
       "1988845              2                 0.4         repeat           none   \n",
       "1991085              2                 0.4         repeat           none   \n",
       "1999739              2                 0.4         repeat           none   \n",
       "2008353              2                 0.4         repeat           none   \n",
       "\n",
       "         behavior_2014  behavior_2015  behavior_2016  behavior_2017  \\\n",
       "54                none            new      lapse_new        recover   \n",
       "64                none            new      lapse_new        recover   \n",
       "104               none            new      lapse_new        recover   \n",
       "107               none            new      lapse_new        recover   \n",
       "108               none            new      lapse_new        recover   \n",
       "...                ...            ...            ...            ...   \n",
       "1984979           none            new      lapse_new        recover   \n",
       "1988845           none            new      lapse_new        recover   \n",
       "1991085           none            new      lapse_new        recover   \n",
       "1999739           none            new      lapse_new        recover   \n",
       "2008353           none            new      lapse_new        recover   \n",
       "\n",
       "         gift_pattern  \n",
       "54               3,5,  \n",
       "64               3,5,  \n",
       "104              3,5,  \n",
       "107              3,5,  \n",
       "108              3,5,  \n",
       "...               ...  \n",
       "1984979          3,5,  \n",
       "1988845          3,5,  \n",
       "1991085          3,5,  \n",
       "1999739          3,5,  \n",
       "2008353          3,5,  \n",
       "\n",
       "[16520 rows x 194 columns]"
      ]
     },
     "execution_count": 20,
     "metadata": {},
     "output_type": "execute_result"
    }
   ],
   "source": [
    "yr_info.query('behavior_2017 == \"recover\" & behavior_2016 ==\"lapse_new\"')"
   ]
  },
  {
   "cell_type": "code",
   "execution_count": 21,
   "metadata": {},
   "outputs": [
    {
     "data": {
      "text/plain": [
       "behavior_2013  behavior_2014  behavior_2015  behavior_2016  behavior_2017\n",
       "new            downgrade      downgrade      downgrade      downgrade            86\n",
       "                                                            lapse_repeat        172\n",
       "                                                            maintain             16\n",
       "                                                            upgrade             180\n",
       "                                             lapse_repeat   none               1085\n",
       "                                                                              ...  \n",
       "none           none           none           new            downgrade         22740\n",
       "                                                            lapse_new        389060\n",
       "                                                            maintain           9951\n",
       "                                                            upgrade           23847\n",
       "                                             none           new              434991\n",
       "Name: id, Length: 230, dtype: int64"
      ]
     },
     "execution_count": 21,
     "metadata": {},
     "output_type": "execute_result"
    }
   ],
   "source": [
    "yr_info.groupby(['behavior_2013', 'behavior_2014', 'behavior_2015', 'behavior_2016', 'behavior_2017']).count()['id']"
   ]
  },
  {
   "cell_type": "code",
   "execution_count": 22,
   "metadata": {},
   "outputs": [],
   "source": [
    "#yr_info.rename(columns={'2013_info':'2013_behavior'}, inplace=True)"
   ]
  },
  {
   "cell_type": "code",
   "execution_count": 23,
   "metadata": {},
   "outputs": [
    {
     "data": {
      "text/plain": [
       "5,            434991\n",
       "4,            389060\n",
       "3,            292539\n",
       "2,            248000\n",
       "1,            227808\n",
       "4,5,           56538\n",
       "3,4,           30755\n",
       "1,2,           28817\n",
       "2,3,           28755\n",
       "3,5,           16520\n",
       "3,4,5,         15323\n",
       "2,4,           11850\n",
       "1,3,           10390\n",
       "1,2,3,4,5,      9878\n",
       "1,2,3,          9423\n",
       "2,5,            8220\n",
       "2,3,4,5,        7961\n",
       "2,3,4,          7778\n",
       "1,4,            6773\n",
       "1,5,            5010\n",
       "1,2,3,4,        4442\n",
       "2,3,5,          4173\n",
       "2,4,5,          3936\n",
       "1,2,4,          3075\n",
       "1,3,4,          2412\n",
       "1,2,3,5,        2337\n",
       "1,2,5,          2196\n",
       "1,4,5,          2195\n",
       "1,2,4,5,        1962\n",
       "1,3,4,5,        1898\n",
       "1,3,5,          1453\n",
       "Name: gift_pattern, dtype: int64"
      ]
     },
     "execution_count": 23,
     "metadata": {},
     "output_type": "execute_result"
    }
   ],
   "source": [
    "yr_info.gift_pattern.value_counts()"
   ]
  },
  {
   "cell_type": "code",
   "execution_count": 24,
   "metadata": {},
   "outputs": [
    {
     "data": {
      "text/plain": [
       "behavior_2013\n",
       "new    2195\n",
       "Name: id, dtype: int64"
      ]
     },
     "execution_count": 24,
     "metadata": {},
     "output_type": "execute_result"
    }
   ],
   "source": [
    "test=yr_info.query('gift_pattern == \"1,4,5,\"')\n",
    "test.groupby(\"behavior_2013\").count()['id']"
   ]
  },
  {
   "cell_type": "code",
   "execution_count": 34,
   "metadata": {},
   "outputs": [],
   "source": [
    "#gainloss 2017\n",
    "conditions = [(yr_info['behavior_2017'] == \"new\") | (yr_info['behavior_2017'] == \"upgrade\") | (yr_info['behavior_2017'] == \"same\") | (yr_info['behavior_2017'] == \"recover\"),\n",
    "              (yr_info['behavior_2017'] == \"downgrade\") | (yr_info['behavior_2017'] == \"lapse_new\") | (yr_info['behavior_2017'] == \"lapse_repeat\")] \n",
    "\n",
    "choices = ['gain', 'loss']\n",
    "\n",
    "yr_info['gainloss_2017'] = np.select(conditions, choices, default='none')"
   ]
  },
  {
   "cell_type": "code",
   "execution_count": 151,
   "metadata": {},
   "outputs": [],
   "source": [
    "# #recover_2017 amount\n",
    "\n",
    "# conditions = [(yr_info['behavior_2017'] == \"recover\") & (yr_info['amount_2016'] > 0),\n",
    "#               (yr_info['behavior_2017'] == \"recover\") & (yr_info['amount_2016'] == 0) & (yr_info['amount_2015'] > 0),\n",
    "#               (yr_info['behavior_2017'] == \"recover\") & (yr_info['amount_2016'] == 0) & (yr_info['amount_2015'] == 0) & (yr_info['amount_2014'] > 0),\n",
    "#               (yr_info['behavior_2017'] == \"recover\") & (yr_info['amount_2016'] == 0) & (yr_info['amount_2015'] == 0) & (yr_info['amount_2014'] == 0) & (yr_info['amount_2013'] > 0)]\n",
    "\n",
    "# choices = [yr_info['amount_2016'], yr_info['amount_2015'], yr_info['amount_2014'], yr_info['amount_2013']]\n",
    "\n",
    "# yr_info['recover_2017'] = np.select(conditions, choices, default='')"
   ]
  },
  {
   "cell_type": "code",
   "execution_count": 57,
   "metadata": {},
   "outputs": [],
   "source": [
    "#gainloss 2017 amounts FFT way\n",
    "conditions = [(yr_info['behavior_2017'] == \"new\") | (yr_info['behavior_2017'] == \"recover\"), \n",
    "              (yr_info['behavior_2017'] == \"upgrade\") | (yr_info['behavior_2017'] == \"downgrade\"), \n",
    "              (yr_info['behavior_2017'] == \"lapse_new\") | (yr_info['behavior_2017'] == \"lapse_repeat\")] \n",
    "\n",
    "choices = [yr_info['amount_2017'], yr_info['amount_2017']-yr_info['amount_2016'], yr_info['amount_2016']*-1]\n",
    "\n",
    "yr_info['gainloss_2017_amt'] = np.select(conditions, choices, default='0')"
   ]
  },
  {
   "cell_type": "code",
   "execution_count": 139,
   "metadata": {},
   "outputs": [],
   "source": [
    "# #2017 lapse amount\n",
    "# conditions =[((yr_info['behavior_2017'] == \"lapse_new\") | (yr_info['behavior_2017'] == 'lapse_repeat'))]\n",
    "# choices=[yr_info['amount_2016']]\n",
    "# yr_info['lapse_amount_2017'] = np.select(conditions, choices, default=\"\")"
   ]
  },
  {
   "cell_type": "code",
   "execution_count": 58,
   "metadata": {},
   "outputs": [],
   "source": [
    "#yr_info['gainloss_2017_amt'].describe()\n",
    "yr_info['gainloss_2017_amt']= yr_info['gainloss_2017_amt'].astype(float)"
   ]
  },
  {
   "cell_type": "code",
   "execution_count": 89,
   "metadata": {},
   "outputs": [],
   "source": [
    "yr_info_sample1=yr_info.sample(n=30000)"
   ]
  },
  {
   "cell_type": "code",
   "execution_count": 90,
   "metadata": {},
   "outputs": [
    {
     "data": {
      "text/html": [
       "<div>\n",
       "<style scoped>\n",
       "    .dataframe tbody tr th:only-of-type {\n",
       "        vertical-align: middle;\n",
       "    }\n",
       "\n",
       "    .dataframe tbody tr th {\n",
       "        vertical-align: top;\n",
       "    }\n",
       "\n",
       "    .dataframe thead th {\n",
       "        text-align: right;\n",
       "    }\n",
       "</style>\n",
       "<table border=\"1\" class=\"dataframe\">\n",
       "  <thead>\n",
       "    <tr style=\"text-align: right;\">\n",
       "      <th></th>\n",
       "      <th>id</th>\n",
       "      <th>first_gift_year</th>\n",
       "      <th>lapsed_count</th>\n",
       "      <th>recovered_count</th>\n",
       "      <th>max_consec_giving_years</th>\n",
       "      <th>total_giving_years</th>\n",
       "      <th>count_2013</th>\n",
       "      <th>count_2014</th>\n",
       "      <th>count_2015</th>\n",
       "      <th>count_2016</th>\n",
       "      <th>...</th>\n",
       "      <th>perc_years_donated</th>\n",
       "      <th>donor_profile</th>\n",
       "      <th>behavior_2013</th>\n",
       "      <th>behavior_2014</th>\n",
       "      <th>behavior_2015</th>\n",
       "      <th>behavior_2016</th>\n",
       "      <th>behavior_2017</th>\n",
       "      <th>gift_pattern</th>\n",
       "      <th>gainloss_2017</th>\n",
       "      <th>gainloss_2017_amt</th>\n",
       "    </tr>\n",
       "  </thead>\n",
       "  <tbody>\n",
       "    <tr>\n",
       "      <td>865386</td>\n",
       "      <td>0e00f4fa387ce30e84a4f4eb1e0bdaf0</td>\n",
       "      <td>2016-01-01</td>\n",
       "      <td>2</td>\n",
       "      <td>1</td>\n",
       "      <td>1</td>\n",
       "      <td>1</td>\n",
       "      <td>0</td>\n",
       "      <td>0</td>\n",
       "      <td>0</td>\n",
       "      <td>1</td>\n",
       "      <td>...</td>\n",
       "      <td>0.2</td>\n",
       "      <td>one_time</td>\n",
       "      <td>none</td>\n",
       "      <td>none</td>\n",
       "      <td>none</td>\n",
       "      <td>new</td>\n",
       "      <td>lapse_new</td>\n",
       "      <td>4,</td>\n",
       "      <td>loss</td>\n",
       "      <td>-25.0</td>\n",
       "    </tr>\n",
       "    <tr>\n",
       "      <td>1908060</td>\n",
       "      <td>6c339d3e775dfb9fbf240673d050543f</td>\n",
       "      <td>2014-01-01</td>\n",
       "      <td>2</td>\n",
       "      <td>1</td>\n",
       "      <td>1</td>\n",
       "      <td>1</td>\n",
       "      <td>0</td>\n",
       "      <td>1</td>\n",
       "      <td>0</td>\n",
       "      <td>0</td>\n",
       "      <td>...</td>\n",
       "      <td>0.2</td>\n",
       "      <td>one_time</td>\n",
       "      <td>none</td>\n",
       "      <td>new</td>\n",
       "      <td>lapse_new</td>\n",
       "      <td>none</td>\n",
       "      <td>none</td>\n",
       "      <td>2,</td>\n",
       "      <td>none</td>\n",
       "      <td>0.0</td>\n",
       "    </tr>\n",
       "    <tr>\n",
       "      <td>997288</td>\n",
       "      <td>a62dc33ad55dbbfe1df49662a0973de2</td>\n",
       "      <td>2016-01-01</td>\n",
       "      <td>2</td>\n",
       "      <td>1</td>\n",
       "      <td>1</td>\n",
       "      <td>1</td>\n",
       "      <td>0</td>\n",
       "      <td>0</td>\n",
       "      <td>0</td>\n",
       "      <td>1</td>\n",
       "      <td>...</td>\n",
       "      <td>0.2</td>\n",
       "      <td>one_time</td>\n",
       "      <td>none</td>\n",
       "      <td>none</td>\n",
       "      <td>none</td>\n",
       "      <td>new</td>\n",
       "      <td>lapse_new</td>\n",
       "      <td>4,</td>\n",
       "      <td>loss</td>\n",
       "      <td>-10.0</td>\n",
       "    </tr>\n",
       "    <tr>\n",
       "      <td>1167137</td>\n",
       "      <td>e1e0337e73d3d697ee84fc8b976781ac</td>\n",
       "      <td>2016-01-01</td>\n",
       "      <td>2</td>\n",
       "      <td>1</td>\n",
       "      <td>1</td>\n",
       "      <td>1</td>\n",
       "      <td>0</td>\n",
       "      <td>0</td>\n",
       "      <td>0</td>\n",
       "      <td>1</td>\n",
       "      <td>...</td>\n",
       "      <td>0.2</td>\n",
       "      <td>one_time</td>\n",
       "      <td>none</td>\n",
       "      <td>none</td>\n",
       "      <td>none</td>\n",
       "      <td>new</td>\n",
       "      <td>lapse_new</td>\n",
       "      <td>4,</td>\n",
       "      <td>loss</td>\n",
       "      <td>-20.0</td>\n",
       "    </tr>\n",
       "    <tr>\n",
       "      <td>936100</td>\n",
       "      <td>d667804bfee9ac3a8ee024005741a553</td>\n",
       "      <td>2017-01-01</td>\n",
       "      <td>2</td>\n",
       "      <td>1</td>\n",
       "      <td>1</td>\n",
       "      <td>1</td>\n",
       "      <td>0</td>\n",
       "      <td>0</td>\n",
       "      <td>0</td>\n",
       "      <td>0</td>\n",
       "      <td>...</td>\n",
       "      <td>0.2</td>\n",
       "      <td>one_time</td>\n",
       "      <td>none</td>\n",
       "      <td>none</td>\n",
       "      <td>none</td>\n",
       "      <td>none</td>\n",
       "      <td>new</td>\n",
       "      <td>5,</td>\n",
       "      <td>gain</td>\n",
       "      <td>100.0</td>\n",
       "    </tr>\n",
       "  </tbody>\n",
       "</table>\n",
       "<p>5 rows × 196 columns</p>\n",
       "</div>"
      ],
      "text/plain": [
       "                                       id first_gift_year  lapsed_count  \\\n",
       "865386   0e00f4fa387ce30e84a4f4eb1e0bdaf0      2016-01-01             2   \n",
       "1908060  6c339d3e775dfb9fbf240673d050543f      2014-01-01             2   \n",
       "997288   a62dc33ad55dbbfe1df49662a0973de2      2016-01-01             2   \n",
       "1167137  e1e0337e73d3d697ee84fc8b976781ac      2016-01-01             2   \n",
       "936100   d667804bfee9ac3a8ee024005741a553      2017-01-01             2   \n",
       "\n",
       "         recovered_count  max_consec_giving_years  total_giving_years  \\\n",
       "865386                 1                        1                   1   \n",
       "1908060                1                        1                   1   \n",
       "997288                 1                        1                   1   \n",
       "1167137                1                        1                   1   \n",
       "936100                 1                        1                   1   \n",
       "\n",
       "         count_2013  count_2014  count_2015  count_2016  ...  \\\n",
       "865386            0           0           0           1  ...   \n",
       "1908060           0           1           0           0  ...   \n",
       "997288            0           0           0           1  ...   \n",
       "1167137           0           0           0           1  ...   \n",
       "936100            0           0           0           0  ...   \n",
       "\n",
       "         perc_years_donated  donor_profile  behavior_2013  behavior_2014  \\\n",
       "865386                  0.2       one_time           none           none   \n",
       "1908060                 0.2       one_time           none            new   \n",
       "997288                  0.2       one_time           none           none   \n",
       "1167137                 0.2       one_time           none           none   \n",
       "936100                  0.2       one_time           none           none   \n",
       "\n",
       "         behavior_2015  behavior_2016  behavior_2017  gift_pattern  \\\n",
       "865386            none            new      lapse_new            4,   \n",
       "1908060      lapse_new           none           none            2,   \n",
       "997288            none            new      lapse_new            4,   \n",
       "1167137           none            new      lapse_new            4,   \n",
       "936100            none           none            new            5,   \n",
       "\n",
       "         gainloss_2017  gainloss_2017_amt  \n",
       "865386            loss              -25.0  \n",
       "1908060           none                0.0  \n",
       "997288            loss              -10.0  \n",
       "1167137           loss              -20.0  \n",
       "936100            gain              100.0  \n",
       "\n",
       "[5 rows x 196 columns]"
      ]
     },
     "execution_count": 90,
     "metadata": {},
     "output_type": "execute_result"
    }
   ],
   "source": [
    "yr_info_sample1.head()"
   ]
  },
  {
   "cell_type": "code",
   "execution_count": 92,
   "metadata": {},
   "outputs": [],
   "source": [
    "yr_info_sample1=yr_info_sample1[['id', 'first_gift_year', 'amount_01_2013', \n",
    "                           'amount_02_2013',\n",
    "                           'amount_03_2013',\n",
    "'amount_04_2013',\n",
    "'amount_05_2013',\n",
    "'amount_06_2013',\n",
    "'amount_07_2013',\n",
    "'amount_08_2013',\n",
    "'amount_09_2013',\n",
    "'amount_10_2013',\n",
    "'amount_11_2013',\n",
    "'amount_12_2013',\n",
    "'amount_01_2014',\n",
    "'amount_02_2014',\n",
    "'amount_03_2014',\n",
    "'amount_04_2014',\n",
    "'amount_05_2014',\n",
    "'amount_06_2014',\n",
    "'amount_07_2014',\n",
    "'amount_08_2014',\n",
    "'amount_09_2014',\n",
    "'amount_10_2014',\n",
    "'amount_11_2014',\n",
    "'amount_12_2014',\n",
    "'amount_01_2015',\n",
    "'amount_02_2015',\n",
    "'amount_03_2015',\n",
    "'amount_04_2015',\n",
    "'amount_05_2015',\n",
    "'amount_06_2015',\n",
    "'amount_07_2015',\n",
    "'amount_08_2015',\n",
    "'amount_09_2015',\n",
    "'amount_10_2015',\n",
    "'amount_11_2015',\n",
    "'amount_12_2015',\n",
    "'amount_01_2016',\n",
    "'amount_02_2016',\n",
    "'amount_03_2016',\n",
    "'amount_04_2016',\n",
    "'amount_05_2016',\n",
    "'amount_06_2016',\n",
    "'amount_07_2016',\n",
    "'amount_08_2016',\n",
    "'amount_09_2016',\n",
    "'amount_10_2016',\n",
    "'amount_11_2016',\n",
    "'amount_12_2016',\n",
    "'amount_01_2017',\n",
    "'amount_02_2017',\n",
    "'amount_03_2017',\n",
    "'amount_04_2017',\n",
    "'amount_05_2017',\n",
    "'amount_06_2017',\n",
    "'amount_07_2017',\n",
    "'amount_08_2017',\n",
    "'amount_09_2017',\n",
    "'amount_10_2017',\n",
    "'amount_11_2017',\n",
    "'amount_12_2017',\n",
    "'perc_years_donated','donor_profile','behavior_2013','behavior_2014','behavior_2015','behavior_2016','behavior_2017','gift_pattern','gainloss_2017','gainloss_2017_amt']].copy()"
   ]
  },
  {
   "cell_type": "code",
   "execution_count": 94,
   "metadata": {},
   "outputs": [],
   "source": [
    "yr_info_sample1.columns = ['id','first_year_gift', '01-01-2013',\n",
    "'02-01-2013',\n",
    "'03-01-2013',\n",
    "'04-01-2013',\n",
    "'05-01-2013',\n",
    "'06-01-2013',\n",
    "'07-01-2013',\n",
    "'08-01-2013',\n",
    "'09-01-2013',\n",
    "'10-01-2013',\n",
    "'11-01-2013',\n",
    "'12-01-2013',\n",
    "'01-01-2014',\n",
    "'02-01-2014',\n",
    "'03-01-2014',\n",
    "'04-01-2014',\n",
    "'05-01-2014',\n",
    "'06-01-2014',\n",
    "'07-01-2014',\n",
    "'08-01-2014',\n",
    "'09-01-2014',\n",
    "'10-01-2014',\n",
    "'11-01-2014',\n",
    "'12-01-2014',\n",
    "'01-01-2015',\n",
    "'02-01-2015',\n",
    "'03-01-2015',\n",
    "'04-01-2015',\n",
    "'05-01-2015',\n",
    "'06-01-2015',\n",
    "'07-01-2015',\n",
    "'08-01-2015',\n",
    "'09-01-2015',\n",
    "'10-01-2015',\n",
    "'11-01-2015',\n",
    "'12-01-2015',\n",
    "'01-01-2016',\n",
    "'02-01-2016',\n",
    "'03-01-2016',\n",
    "'04-01-2016',\n",
    "'05-01-2016',\n",
    "'06-01-2016',\n",
    "'07-01-2016',\n",
    "'08-01-2016',\n",
    "'09-01-2016',\n",
    "'10-01-2016',\n",
    "'11-01-2016',\n",
    "'12-01-2016',\n",
    "'01-01-2017',\n",
    "'02-01-2017',\n",
    "'03-01-2017',\n",
    "'04-01-2017',\n",
    "'05-01-2017',\n",
    "'06-01-2017',\n",
    "'07-01-2017',\n",
    "'08-01-2017',\n",
    "'09-01-2017',\n",
    "'10-01-2017',\n",
    "'11-01-2017',\n",
    "'12-01-2017','perc_years_donated','donor_profile','behavior_2013','behavior_2014','behavior_2015','behavior_2016','behavior_2017','gift_pattern','gainloss_2017','gainloss_2017_amt'].copy()"
   ]
  },
  {
   "cell_type": "code",
   "execution_count": 98,
   "metadata": {},
   "outputs": [],
   "source": [
    "melted_yr_info_sample1=pd.melt(yr_info_sample1, \n",
    "                               id_vars =['id','first_year_gift','perc_years_donated','donor_profile','behavior_2013','behavior_2014','behavior_2015','behavior_2016','behavior_2017','gift_pattern','gainloss_2017','gainloss_2017_amt'], \n",
    "                               value_vars =['01-01-2013',\n",
    "'02-01-2013',\n",
    "'03-01-2013',\n",
    "'04-01-2013',\n",
    "'05-01-2013',\n",
    "'06-01-2013',\n",
    "'07-01-2013',\n",
    "'08-01-2013',\n",
    "'09-01-2013',\n",
    "'10-01-2013',\n",
    "'11-01-2013',\n",
    "'12-01-2013',\n",
    "'01-01-2014',\n",
    "'02-01-2014',\n",
    "'03-01-2014',\n",
    "'04-01-2014',\n",
    "'05-01-2014',\n",
    "'06-01-2014',\n",
    "'07-01-2014',\n",
    "'08-01-2014',\n",
    "'09-01-2014',\n",
    "'10-01-2014',\n",
    "'11-01-2014',\n",
    "'12-01-2014',\n",
    "'01-01-2015',\n",
    "'02-01-2015',\n",
    "'03-01-2015',\n",
    "'04-01-2015',\n",
    "'05-01-2015',\n",
    "'06-01-2015',\n",
    "'07-01-2015',\n",
    "'08-01-2015',\n",
    "'09-01-2015',\n",
    "'10-01-2015',\n",
    "'11-01-2015',\n",
    "'12-01-2015',\n",
    "'01-01-2016',\n",
    "'02-01-2016',\n",
    "'03-01-2016',\n",
    "'04-01-2016',\n",
    "'05-01-2016',\n",
    "'06-01-2016',\n",
    "'07-01-2016',\n",
    "'08-01-2016',\n",
    "'09-01-2016',\n",
    "'10-01-2016',\n",
    "'11-01-2016',\n",
    "'12-01-2016',\n",
    "'01-01-2017',\n",
    "'02-01-2017',\n",
    "'03-01-2017',\n",
    "'04-01-2017',\n",
    "'05-01-2017',\n",
    "'06-01-2017',\n",
    "'07-01-2017',\n",
    "'08-01-2017',\n",
    "'09-01-2017',\n",
    "'10-01-2017',\n",
    "'11-01-2017',\n",
    "'12-01-2017',\n",
    "], var_name='date', value_name='amount') "
   ]
  },
  {
   "cell_type": "code",
   "execution_count": 101,
   "metadata": {},
   "outputs": [
    {
     "data": {
      "text/html": [
       "<div>\n",
       "<style scoped>\n",
       "    .dataframe tbody tr th:only-of-type {\n",
       "        vertical-align: middle;\n",
       "    }\n",
       "\n",
       "    .dataframe tbody tr th {\n",
       "        vertical-align: top;\n",
       "    }\n",
       "\n",
       "    .dataframe thead th {\n",
       "        text-align: right;\n",
       "    }\n",
       "</style>\n",
       "<table border=\"1\" class=\"dataframe\">\n",
       "  <thead>\n",
       "    <tr style=\"text-align: right;\">\n",
       "      <th></th>\n",
       "      <th>id</th>\n",
       "      <th>first_year_gift</th>\n",
       "      <th>perc_years_donated</th>\n",
       "      <th>donor_profile</th>\n",
       "      <th>behavior_2013</th>\n",
       "      <th>behavior_2014</th>\n",
       "      <th>behavior_2015</th>\n",
       "      <th>behavior_2016</th>\n",
       "      <th>behavior_2017</th>\n",
       "      <th>gift_pattern</th>\n",
       "      <th>gainloss_2017</th>\n",
       "      <th>gainloss_2017_amt</th>\n",
       "      <th>date</th>\n",
       "      <th>amount</th>\n",
       "    </tr>\n",
       "  </thead>\n",
       "  <tbody>\n",
       "    <tr>\n",
       "      <td>0</td>\n",
       "      <td>0e00f4fa387ce30e84a4f4eb1e0bdaf0</td>\n",
       "      <td>2016-01-01</td>\n",
       "      <td>0.2</td>\n",
       "      <td>one_time</td>\n",
       "      <td>none</td>\n",
       "      <td>none</td>\n",
       "      <td>none</td>\n",
       "      <td>new</td>\n",
       "      <td>lapse_new</td>\n",
       "      <td>4,</td>\n",
       "      <td>loss</td>\n",
       "      <td>-25.0</td>\n",
       "      <td>01-01-2013</td>\n",
       "      <td>0.0</td>\n",
       "    </tr>\n",
       "    <tr>\n",
       "      <td>1</td>\n",
       "      <td>6c339d3e775dfb9fbf240673d050543f</td>\n",
       "      <td>2014-01-01</td>\n",
       "      <td>0.2</td>\n",
       "      <td>one_time</td>\n",
       "      <td>none</td>\n",
       "      <td>new</td>\n",
       "      <td>lapse_new</td>\n",
       "      <td>none</td>\n",
       "      <td>none</td>\n",
       "      <td>2,</td>\n",
       "      <td>none</td>\n",
       "      <td>0.0</td>\n",
       "      <td>01-01-2013</td>\n",
       "      <td>0.0</td>\n",
       "    </tr>\n",
       "    <tr>\n",
       "      <td>2</td>\n",
       "      <td>a62dc33ad55dbbfe1df49662a0973de2</td>\n",
       "      <td>2016-01-01</td>\n",
       "      <td>0.2</td>\n",
       "      <td>one_time</td>\n",
       "      <td>none</td>\n",
       "      <td>none</td>\n",
       "      <td>none</td>\n",
       "      <td>new</td>\n",
       "      <td>lapse_new</td>\n",
       "      <td>4,</td>\n",
       "      <td>loss</td>\n",
       "      <td>-10.0</td>\n",
       "      <td>01-01-2013</td>\n",
       "      <td>0.0</td>\n",
       "    </tr>\n",
       "    <tr>\n",
       "      <td>3</td>\n",
       "      <td>e1e0337e73d3d697ee84fc8b976781ac</td>\n",
       "      <td>2016-01-01</td>\n",
       "      <td>0.2</td>\n",
       "      <td>one_time</td>\n",
       "      <td>none</td>\n",
       "      <td>none</td>\n",
       "      <td>none</td>\n",
       "      <td>new</td>\n",
       "      <td>lapse_new</td>\n",
       "      <td>4,</td>\n",
       "      <td>loss</td>\n",
       "      <td>-20.0</td>\n",
       "      <td>01-01-2013</td>\n",
       "      <td>0.0</td>\n",
       "    </tr>\n",
       "    <tr>\n",
       "      <td>4</td>\n",
       "      <td>d667804bfee9ac3a8ee024005741a553</td>\n",
       "      <td>2017-01-01</td>\n",
       "      <td>0.2</td>\n",
       "      <td>one_time</td>\n",
       "      <td>none</td>\n",
       "      <td>none</td>\n",
       "      <td>none</td>\n",
       "      <td>none</td>\n",
       "      <td>new</td>\n",
       "      <td>5,</td>\n",
       "      <td>gain</td>\n",
       "      <td>100.0</td>\n",
       "      <td>01-01-2013</td>\n",
       "      <td>0.0</td>\n",
       "    </tr>\n",
       "  </tbody>\n",
       "</table>\n",
       "</div>"
      ],
      "text/plain": [
       "                                 id first_year_gift  perc_years_donated  \\\n",
       "0  0e00f4fa387ce30e84a4f4eb1e0bdaf0      2016-01-01                 0.2   \n",
       "1  6c339d3e775dfb9fbf240673d050543f      2014-01-01                 0.2   \n",
       "2  a62dc33ad55dbbfe1df49662a0973de2      2016-01-01                 0.2   \n",
       "3  e1e0337e73d3d697ee84fc8b976781ac      2016-01-01                 0.2   \n",
       "4  d667804bfee9ac3a8ee024005741a553      2017-01-01                 0.2   \n",
       "\n",
       "  donor_profile behavior_2013 behavior_2014 behavior_2015 behavior_2016  \\\n",
       "0      one_time          none          none          none           new   \n",
       "1      one_time          none           new     lapse_new          none   \n",
       "2      one_time          none          none          none           new   \n",
       "3      one_time          none          none          none           new   \n",
       "4      one_time          none          none          none          none   \n",
       "\n",
       "  behavior_2017 gift_pattern gainloss_2017  gainloss_2017_amt        date  \\\n",
       "0     lapse_new           4,          loss              -25.0  01-01-2013   \n",
       "1          none           2,          none                0.0  01-01-2013   \n",
       "2     lapse_new           4,          loss              -10.0  01-01-2013   \n",
       "3     lapse_new           4,          loss              -20.0  01-01-2013   \n",
       "4           new           5,          gain              100.0  01-01-2013   \n",
       "\n",
       "   amount  \n",
       "0     0.0  \n",
       "1     0.0  \n",
       "2     0.0  \n",
       "3     0.0  \n",
       "4     0.0  "
      ]
     },
     "execution_count": 101,
     "metadata": {},
     "output_type": "execute_result"
    }
   ],
   "source": [
    "melted_yr_info_sample1.head()"
   ]
  },
  {
   "cell_type": "code",
   "execution_count": 103,
   "metadata": {},
   "outputs": [],
   "source": [
    "yr_sample1=melted_yr_info_sample1.query('amount > 0')"
   ]
  },
  {
   "cell_type": "code",
   "execution_count": 104,
   "metadata": {},
   "outputs": [],
   "source": [
    "yr_sample1.to_csv('yr_sample1.csv')"
   ]
  },
  {
   "cell_type": "code",
   "execution_count": 36,
   "metadata": {},
   "outputs": [],
   "source": [
    "yr_info17=yr_info.groupby( [ \"gainloss_2017\",\"behavior_2017\"] ).size().to_frame(name = 'count').reset_index()"
   ]
  },
  {
   "cell_type": "code",
   "execution_count": 66,
   "metadata": {},
   "outputs": [],
   "source": [
    "yr_info171=yr_info.groupby( [ \"behavior_2017\",\"gainloss_2017\"], as_index=False).sum()"
   ]
  },
  {
   "cell_type": "code",
   "execution_count": 73,
   "metadata": {},
   "outputs": [
    {
     "data": {
      "application/vnd.plotly.v1+json": {
       "config": {
        "plotlyServerURL": "https://plot.ly"
       },
       "data": [
        {
         "alignmentgroup": "True",
         "hovertemplate": "behavior_2017=downgrade<br>gainloss_2017=%{x}<br>gainloss_2017_amt=%{y}<extra></extra>",
         "legendgroup": "downgrade",
         "marker": {
          "color": "#636efa"
         },
         "name": "downgrade",
         "offsetgroup": "downgrade",
         "orientation": "v",
         "showlegend": true,
         "textposition": "auto",
         "type": "bar",
         "x": [
          "loss"
         ],
         "xaxis": "x",
         "y": [
          -9101046.069999916
         ],
         "yaxis": "y"
        },
        {
         "alignmentgroup": "True",
         "hovertemplate": "behavior_2017=lapse_new<br>gainloss_2017=%{x}<br>gainloss_2017_amt=%{y}<extra></extra>",
         "legendgroup": "lapse_new",
         "marker": {
          "color": "#EF553B"
         },
         "name": "lapse_new",
         "offsetgroup": "lapse_new",
         "orientation": "v",
         "showlegend": true,
         "textposition": "auto",
         "type": "bar",
         "x": [
          "loss"
         ],
         "xaxis": "x",
         "y": [
          -27839492.4199994
         ],
         "yaxis": "y"
        },
        {
         "alignmentgroup": "True",
         "hovertemplate": "behavior_2017=lapse_repeat<br>gainloss_2017=%{x}<br>gainloss_2017_amt=%{y}<extra></extra>",
         "legendgroup": "lapse_repeat",
         "marker": {
          "color": "#00cc96"
         },
         "name": "lapse_repeat",
         "offsetgroup": "lapse_repeat",
         "orientation": "v",
         "showlegend": true,
         "textposition": "auto",
         "type": "bar",
         "x": [
          "loss"
         ],
         "xaxis": "x",
         "y": [
          -7628501.929999962
         ],
         "yaxis": "y"
        },
        {
         "alignmentgroup": "True",
         "hovertemplate": "behavior_2017=maintain<br>gainloss_2017=%{x}<br>gainloss_2017_amt=%{y}<extra></extra>",
         "legendgroup": "maintain",
         "marker": {
          "color": "#ab63fa"
         },
         "name": "maintain",
         "offsetgroup": "maintain",
         "orientation": "v",
         "showlegend": true,
         "textposition": "auto",
         "type": "bar",
         "x": [
          "none"
         ],
         "xaxis": "x",
         "y": [
          0
         ],
         "yaxis": "y"
        },
        {
         "alignmentgroup": "True",
         "hovertemplate": "behavior_2017=new<br>gainloss_2017=%{x}<br>gainloss_2017_amt=%{y}<extra></extra>",
         "legendgroup": "new",
         "marker": {
          "color": "#FFA15A"
         },
         "name": "new",
         "offsetgroup": "new",
         "orientation": "v",
         "showlegend": true,
         "textposition": "auto",
         "type": "bar",
         "x": [
          "gain"
         ],
         "xaxis": "x",
         "y": [
          37973770.4799995
         ],
         "yaxis": "y"
        },
        {
         "alignmentgroup": "True",
         "hovertemplate": "behavior_2017=none<br>gainloss_2017=%{x}<br>gainloss_2017_amt=%{y}<extra></extra>",
         "legendgroup": "none",
         "marker": {
          "color": "#19d3f3"
         },
         "name": "none",
         "offsetgroup": "none",
         "orientation": "v",
         "showlegend": true,
         "textposition": "auto",
         "type": "bar",
         "x": [
          "none"
         ],
         "xaxis": "x",
         "y": [
          0
         ],
         "yaxis": "y"
        },
        {
         "alignmentgroup": "True",
         "hovertemplate": "behavior_2017=recover<br>gainloss_2017=%{x}<br>gainloss_2017_amt=%{y}<extra></extra>",
         "legendgroup": "recover",
         "marker": {
          "color": "#FF6692"
         },
         "name": "recover",
         "offsetgroup": "recover",
         "orientation": "v",
         "showlegend": true,
         "textposition": "auto",
         "type": "bar",
         "x": [
          "gain"
         ],
         "xaxis": "x",
         "y": [
          4813611.710000008
         ],
         "yaxis": "y"
        },
        {
         "alignmentgroup": "True",
         "hovertemplate": "behavior_2017=upgrade<br>gainloss_2017=%{x}<br>gainloss_2017_amt=%{y}<extra></extra>",
         "legendgroup": "upgrade",
         "marker": {
          "color": "#B6E880"
         },
         "name": "upgrade",
         "offsetgroup": "upgrade",
         "orientation": "v",
         "showlegend": true,
         "textposition": "auto",
         "type": "bar",
         "x": [
          "gain"
         ],
         "xaxis": "x",
         "y": [
          12003202.040000001
         ],
         "yaxis": "y"
        }
       ],
       "layout": {
        "barmode": "relative",
        "legend": {
         "title": {
          "text": "behavior_2017"
         },
         "tracegroupgap": 0
        },
        "template": {
         "data": {
          "bar": [
           {
            "error_x": {
             "color": "#2a3f5f"
            },
            "error_y": {
             "color": "#2a3f5f"
            },
            "marker": {
             "line": {
              "color": "#E5ECF6",
              "width": 0.5
             }
            },
            "type": "bar"
           }
          ],
          "barpolar": [
           {
            "marker": {
             "line": {
              "color": "#E5ECF6",
              "width": 0.5
             }
            },
            "type": "barpolar"
           }
          ],
          "carpet": [
           {
            "aaxis": {
             "endlinecolor": "#2a3f5f",
             "gridcolor": "white",
             "linecolor": "white",
             "minorgridcolor": "white",
             "startlinecolor": "#2a3f5f"
            },
            "baxis": {
             "endlinecolor": "#2a3f5f",
             "gridcolor": "white",
             "linecolor": "white",
             "minorgridcolor": "white",
             "startlinecolor": "#2a3f5f"
            },
            "type": "carpet"
           }
          ],
          "choropleth": [
           {
            "colorbar": {
             "outlinewidth": 0,
             "ticks": ""
            },
            "type": "choropleth"
           }
          ],
          "contour": [
           {
            "colorbar": {
             "outlinewidth": 0,
             "ticks": ""
            },
            "colorscale": [
             [
              0,
              "#0d0887"
             ],
             [
              0.1111111111111111,
              "#46039f"
             ],
             [
              0.2222222222222222,
              "#7201a8"
             ],
             [
              0.3333333333333333,
              "#9c179e"
             ],
             [
              0.4444444444444444,
              "#bd3786"
             ],
             [
              0.5555555555555556,
              "#d8576b"
             ],
             [
              0.6666666666666666,
              "#ed7953"
             ],
             [
              0.7777777777777778,
              "#fb9f3a"
             ],
             [
              0.8888888888888888,
              "#fdca26"
             ],
             [
              1,
              "#f0f921"
             ]
            ],
            "type": "contour"
           }
          ],
          "contourcarpet": [
           {
            "colorbar": {
             "outlinewidth": 0,
             "ticks": ""
            },
            "type": "contourcarpet"
           }
          ],
          "heatmap": [
           {
            "colorbar": {
             "outlinewidth": 0,
             "ticks": ""
            },
            "colorscale": [
             [
              0,
              "#0d0887"
             ],
             [
              0.1111111111111111,
              "#46039f"
             ],
             [
              0.2222222222222222,
              "#7201a8"
             ],
             [
              0.3333333333333333,
              "#9c179e"
             ],
             [
              0.4444444444444444,
              "#bd3786"
             ],
             [
              0.5555555555555556,
              "#d8576b"
             ],
             [
              0.6666666666666666,
              "#ed7953"
             ],
             [
              0.7777777777777778,
              "#fb9f3a"
             ],
             [
              0.8888888888888888,
              "#fdca26"
             ],
             [
              1,
              "#f0f921"
             ]
            ],
            "type": "heatmap"
           }
          ],
          "heatmapgl": [
           {
            "colorbar": {
             "outlinewidth": 0,
             "ticks": ""
            },
            "colorscale": [
             [
              0,
              "#0d0887"
             ],
             [
              0.1111111111111111,
              "#46039f"
             ],
             [
              0.2222222222222222,
              "#7201a8"
             ],
             [
              0.3333333333333333,
              "#9c179e"
             ],
             [
              0.4444444444444444,
              "#bd3786"
             ],
             [
              0.5555555555555556,
              "#d8576b"
             ],
             [
              0.6666666666666666,
              "#ed7953"
             ],
             [
              0.7777777777777778,
              "#fb9f3a"
             ],
             [
              0.8888888888888888,
              "#fdca26"
             ],
             [
              1,
              "#f0f921"
             ]
            ],
            "type": "heatmapgl"
           }
          ],
          "histogram": [
           {
            "marker": {
             "colorbar": {
              "outlinewidth": 0,
              "ticks": ""
             }
            },
            "type": "histogram"
           }
          ],
          "histogram2d": [
           {
            "colorbar": {
             "outlinewidth": 0,
             "ticks": ""
            },
            "colorscale": [
             [
              0,
              "#0d0887"
             ],
             [
              0.1111111111111111,
              "#46039f"
             ],
             [
              0.2222222222222222,
              "#7201a8"
             ],
             [
              0.3333333333333333,
              "#9c179e"
             ],
             [
              0.4444444444444444,
              "#bd3786"
             ],
             [
              0.5555555555555556,
              "#d8576b"
             ],
             [
              0.6666666666666666,
              "#ed7953"
             ],
             [
              0.7777777777777778,
              "#fb9f3a"
             ],
             [
              0.8888888888888888,
              "#fdca26"
             ],
             [
              1,
              "#f0f921"
             ]
            ],
            "type": "histogram2d"
           }
          ],
          "histogram2dcontour": [
           {
            "colorbar": {
             "outlinewidth": 0,
             "ticks": ""
            },
            "colorscale": [
             [
              0,
              "#0d0887"
             ],
             [
              0.1111111111111111,
              "#46039f"
             ],
             [
              0.2222222222222222,
              "#7201a8"
             ],
             [
              0.3333333333333333,
              "#9c179e"
             ],
             [
              0.4444444444444444,
              "#bd3786"
             ],
             [
              0.5555555555555556,
              "#d8576b"
             ],
             [
              0.6666666666666666,
              "#ed7953"
             ],
             [
              0.7777777777777778,
              "#fb9f3a"
             ],
             [
              0.8888888888888888,
              "#fdca26"
             ],
             [
              1,
              "#f0f921"
             ]
            ],
            "type": "histogram2dcontour"
           }
          ],
          "mesh3d": [
           {
            "colorbar": {
             "outlinewidth": 0,
             "ticks": ""
            },
            "type": "mesh3d"
           }
          ],
          "parcoords": [
           {
            "line": {
             "colorbar": {
              "outlinewidth": 0,
              "ticks": ""
             }
            },
            "type": "parcoords"
           }
          ],
          "pie": [
           {
            "automargin": true,
            "type": "pie"
           }
          ],
          "scatter": [
           {
            "marker": {
             "colorbar": {
              "outlinewidth": 0,
              "ticks": ""
             }
            },
            "type": "scatter"
           }
          ],
          "scatter3d": [
           {
            "line": {
             "colorbar": {
              "outlinewidth": 0,
              "ticks": ""
             }
            },
            "marker": {
             "colorbar": {
              "outlinewidth": 0,
              "ticks": ""
             }
            },
            "type": "scatter3d"
           }
          ],
          "scattercarpet": [
           {
            "marker": {
             "colorbar": {
              "outlinewidth": 0,
              "ticks": ""
             }
            },
            "type": "scattercarpet"
           }
          ],
          "scattergeo": [
           {
            "marker": {
             "colorbar": {
              "outlinewidth": 0,
              "ticks": ""
             }
            },
            "type": "scattergeo"
           }
          ],
          "scattergl": [
           {
            "marker": {
             "colorbar": {
              "outlinewidth": 0,
              "ticks": ""
             }
            },
            "type": "scattergl"
           }
          ],
          "scattermapbox": [
           {
            "marker": {
             "colorbar": {
              "outlinewidth": 0,
              "ticks": ""
             }
            },
            "type": "scattermapbox"
           }
          ],
          "scatterpolar": [
           {
            "marker": {
             "colorbar": {
              "outlinewidth": 0,
              "ticks": ""
             }
            },
            "type": "scatterpolar"
           }
          ],
          "scatterpolargl": [
           {
            "marker": {
             "colorbar": {
              "outlinewidth": 0,
              "ticks": ""
             }
            },
            "type": "scatterpolargl"
           }
          ],
          "scatterternary": [
           {
            "marker": {
             "colorbar": {
              "outlinewidth": 0,
              "ticks": ""
             }
            },
            "type": "scatterternary"
           }
          ],
          "surface": [
           {
            "colorbar": {
             "outlinewidth": 0,
             "ticks": ""
            },
            "colorscale": [
             [
              0,
              "#0d0887"
             ],
             [
              0.1111111111111111,
              "#46039f"
             ],
             [
              0.2222222222222222,
              "#7201a8"
             ],
             [
              0.3333333333333333,
              "#9c179e"
             ],
             [
              0.4444444444444444,
              "#bd3786"
             ],
             [
              0.5555555555555556,
              "#d8576b"
             ],
             [
              0.6666666666666666,
              "#ed7953"
             ],
             [
              0.7777777777777778,
              "#fb9f3a"
             ],
             [
              0.8888888888888888,
              "#fdca26"
             ],
             [
              1,
              "#f0f921"
             ]
            ],
            "type": "surface"
           }
          ],
          "table": [
           {
            "cells": {
             "fill": {
              "color": "#EBF0F8"
             },
             "line": {
              "color": "white"
             }
            },
            "header": {
             "fill": {
              "color": "#C8D4E3"
             },
             "line": {
              "color": "white"
             }
            },
            "type": "table"
           }
          ]
         },
         "layout": {
          "annotationdefaults": {
           "arrowcolor": "#2a3f5f",
           "arrowhead": 0,
           "arrowwidth": 1
          },
          "coloraxis": {
           "colorbar": {
            "outlinewidth": 0,
            "ticks": ""
           }
          },
          "colorscale": {
           "diverging": [
            [
             0,
             "#8e0152"
            ],
            [
             0.1,
             "#c51b7d"
            ],
            [
             0.2,
             "#de77ae"
            ],
            [
             0.3,
             "#f1b6da"
            ],
            [
             0.4,
             "#fde0ef"
            ],
            [
             0.5,
             "#f7f7f7"
            ],
            [
             0.6,
             "#e6f5d0"
            ],
            [
             0.7,
             "#b8e186"
            ],
            [
             0.8,
             "#7fbc41"
            ],
            [
             0.9,
             "#4d9221"
            ],
            [
             1,
             "#276419"
            ]
           ],
           "sequential": [
            [
             0,
             "#0d0887"
            ],
            [
             0.1111111111111111,
             "#46039f"
            ],
            [
             0.2222222222222222,
             "#7201a8"
            ],
            [
             0.3333333333333333,
             "#9c179e"
            ],
            [
             0.4444444444444444,
             "#bd3786"
            ],
            [
             0.5555555555555556,
             "#d8576b"
            ],
            [
             0.6666666666666666,
             "#ed7953"
            ],
            [
             0.7777777777777778,
             "#fb9f3a"
            ],
            [
             0.8888888888888888,
             "#fdca26"
            ],
            [
             1,
             "#f0f921"
            ]
           ],
           "sequentialminus": [
            [
             0,
             "#0d0887"
            ],
            [
             0.1111111111111111,
             "#46039f"
            ],
            [
             0.2222222222222222,
             "#7201a8"
            ],
            [
             0.3333333333333333,
             "#9c179e"
            ],
            [
             0.4444444444444444,
             "#bd3786"
            ],
            [
             0.5555555555555556,
             "#d8576b"
            ],
            [
             0.6666666666666666,
             "#ed7953"
            ],
            [
             0.7777777777777778,
             "#fb9f3a"
            ],
            [
             0.8888888888888888,
             "#fdca26"
            ],
            [
             1,
             "#f0f921"
            ]
           ]
          },
          "colorway": [
           "#636efa",
           "#EF553B",
           "#00cc96",
           "#ab63fa",
           "#FFA15A",
           "#19d3f3",
           "#FF6692",
           "#B6E880",
           "#FF97FF",
           "#FECB52"
          ],
          "font": {
           "color": "#2a3f5f"
          },
          "geo": {
           "bgcolor": "white",
           "lakecolor": "white",
           "landcolor": "#E5ECF6",
           "showlakes": true,
           "showland": true,
           "subunitcolor": "white"
          },
          "hoverlabel": {
           "align": "left"
          },
          "hovermode": "closest",
          "mapbox": {
           "style": "light"
          },
          "paper_bgcolor": "white",
          "plot_bgcolor": "#E5ECF6",
          "polar": {
           "angularaxis": {
            "gridcolor": "white",
            "linecolor": "white",
            "ticks": ""
           },
           "bgcolor": "#E5ECF6",
           "radialaxis": {
            "gridcolor": "white",
            "linecolor": "white",
            "ticks": ""
           }
          },
          "scene": {
           "xaxis": {
            "backgroundcolor": "#E5ECF6",
            "gridcolor": "white",
            "gridwidth": 2,
            "linecolor": "white",
            "showbackground": true,
            "ticks": "",
            "zerolinecolor": "white"
           },
           "yaxis": {
            "backgroundcolor": "#E5ECF6",
            "gridcolor": "white",
            "gridwidth": 2,
            "linecolor": "white",
            "showbackground": true,
            "ticks": "",
            "zerolinecolor": "white"
           },
           "zaxis": {
            "backgroundcolor": "#E5ECF6",
            "gridcolor": "white",
            "gridwidth": 2,
            "linecolor": "white",
            "showbackground": true,
            "ticks": "",
            "zerolinecolor": "white"
           }
          },
          "shapedefaults": {
           "line": {
            "color": "#2a3f5f"
           }
          },
          "ternary": {
           "aaxis": {
            "gridcolor": "white",
            "linecolor": "white",
            "ticks": ""
           },
           "baxis": {
            "gridcolor": "white",
            "linecolor": "white",
            "ticks": ""
           },
           "bgcolor": "#E5ECF6",
           "caxis": {
            "gridcolor": "white",
            "linecolor": "white",
            "ticks": ""
           }
          },
          "title": {
           "x": 0.05
          },
          "xaxis": {
           "automargin": true,
           "gridcolor": "white",
           "linecolor": "white",
           "ticks": "",
           "title": {
            "standoff": 15
           },
           "zerolinecolor": "white",
           "zerolinewidth": 2
          },
          "yaxis": {
           "automargin": true,
           "gridcolor": "white",
           "linecolor": "white",
           "ticks": "",
           "title": {
            "standoff": 15
           },
           "zerolinecolor": "white",
           "zerolinewidth": 2
          }
         }
        },
        "title": {
         "text": "Long-Form Input"
        },
        "xaxis": {
         "anchor": "y",
         "domain": [
          0,
          1
         ],
         "title": {
          "text": "gainloss_2017"
         }
        },
        "yaxis": {
         "anchor": "x",
         "domain": [
          0,
          1
         ],
         "title": {
          "text": "gainloss_2017_amt"
         }
        }
       }
      },
      "text/html": [
       "<div>\n",
       "        \n",
       "        \n",
       "            <div id=\"bbd216a8-bb3a-4d04-bbfe-57cda22c0e34\" class=\"plotly-graph-div\" style=\"height:525px; width:100%;\"></div>\n",
       "            <script type=\"text/javascript\">\n",
       "                require([\"plotly\"], function(Plotly) {\n",
       "                    window.PLOTLYENV=window.PLOTLYENV || {};\n",
       "                    \n",
       "                if (document.getElementById(\"bbd216a8-bb3a-4d04-bbfe-57cda22c0e34\")) {\n",
       "                    Plotly.newPlot(\n",
       "                        'bbd216a8-bb3a-4d04-bbfe-57cda22c0e34',\n",
       "                        [{\"alignmentgroup\": \"True\", \"hovertemplate\": \"behavior_2017=downgrade<br>gainloss_2017=%{x}<br>gainloss_2017_amt=%{y}<extra></extra>\", \"legendgroup\": \"downgrade\", \"marker\": {\"color\": \"#636efa\"}, \"name\": \"downgrade\", \"offsetgroup\": \"downgrade\", \"orientation\": \"v\", \"showlegend\": true, \"textposition\": \"auto\", \"type\": \"bar\", \"x\": [\"loss\"], \"xaxis\": \"x\", \"y\": [-9101046.069999916], \"yaxis\": \"y\"}, {\"alignmentgroup\": \"True\", \"hovertemplate\": \"behavior_2017=lapse_new<br>gainloss_2017=%{x}<br>gainloss_2017_amt=%{y}<extra></extra>\", \"legendgroup\": \"lapse_new\", \"marker\": {\"color\": \"#EF553B\"}, \"name\": \"lapse_new\", \"offsetgroup\": \"lapse_new\", \"orientation\": \"v\", \"showlegend\": true, \"textposition\": \"auto\", \"type\": \"bar\", \"x\": [\"loss\"], \"xaxis\": \"x\", \"y\": [-27839492.4199994], \"yaxis\": \"y\"}, {\"alignmentgroup\": \"True\", \"hovertemplate\": \"behavior_2017=lapse_repeat<br>gainloss_2017=%{x}<br>gainloss_2017_amt=%{y}<extra></extra>\", \"legendgroup\": \"lapse_repeat\", \"marker\": {\"color\": \"#00cc96\"}, \"name\": \"lapse_repeat\", \"offsetgroup\": \"lapse_repeat\", \"orientation\": \"v\", \"showlegend\": true, \"textposition\": \"auto\", \"type\": \"bar\", \"x\": [\"loss\"], \"xaxis\": \"x\", \"y\": [-7628501.929999962], \"yaxis\": \"y\"}, {\"alignmentgroup\": \"True\", \"hovertemplate\": \"behavior_2017=maintain<br>gainloss_2017=%{x}<br>gainloss_2017_amt=%{y}<extra></extra>\", \"legendgroup\": \"maintain\", \"marker\": {\"color\": \"#ab63fa\"}, \"name\": \"maintain\", \"offsetgroup\": \"maintain\", \"orientation\": \"v\", \"showlegend\": true, \"textposition\": \"auto\", \"type\": \"bar\", \"x\": [\"none\"], \"xaxis\": \"x\", \"y\": [0.0], \"yaxis\": \"y\"}, {\"alignmentgroup\": \"True\", \"hovertemplate\": \"behavior_2017=new<br>gainloss_2017=%{x}<br>gainloss_2017_amt=%{y}<extra></extra>\", \"legendgroup\": \"new\", \"marker\": {\"color\": \"#FFA15A\"}, \"name\": \"new\", \"offsetgroup\": \"new\", \"orientation\": \"v\", \"showlegend\": true, \"textposition\": \"auto\", \"type\": \"bar\", \"x\": [\"gain\"], \"xaxis\": \"x\", \"y\": [37973770.4799995], \"yaxis\": \"y\"}, {\"alignmentgroup\": \"True\", \"hovertemplate\": \"behavior_2017=none<br>gainloss_2017=%{x}<br>gainloss_2017_amt=%{y}<extra></extra>\", \"legendgroup\": \"none\", \"marker\": {\"color\": \"#19d3f3\"}, \"name\": \"none\", \"offsetgroup\": \"none\", \"orientation\": \"v\", \"showlegend\": true, \"textposition\": \"auto\", \"type\": \"bar\", \"x\": [\"none\"], \"xaxis\": \"x\", \"y\": [0.0], \"yaxis\": \"y\"}, {\"alignmentgroup\": \"True\", \"hovertemplate\": \"behavior_2017=recover<br>gainloss_2017=%{x}<br>gainloss_2017_amt=%{y}<extra></extra>\", \"legendgroup\": \"recover\", \"marker\": {\"color\": \"#FF6692\"}, \"name\": \"recover\", \"offsetgroup\": \"recover\", \"orientation\": \"v\", \"showlegend\": true, \"textposition\": \"auto\", \"type\": \"bar\", \"x\": [\"gain\"], \"xaxis\": \"x\", \"y\": [4813611.710000008], \"yaxis\": \"y\"}, {\"alignmentgroup\": \"True\", \"hovertemplate\": \"behavior_2017=upgrade<br>gainloss_2017=%{x}<br>gainloss_2017_amt=%{y}<extra></extra>\", \"legendgroup\": \"upgrade\", \"marker\": {\"color\": \"#B6E880\"}, \"name\": \"upgrade\", \"offsetgroup\": \"upgrade\", \"orientation\": \"v\", \"showlegend\": true, \"textposition\": \"auto\", \"type\": \"bar\", \"x\": [\"gain\"], \"xaxis\": \"x\", \"y\": [12003202.040000001], \"yaxis\": \"y\"}],\n",
       "                        {\"barmode\": \"relative\", \"legend\": {\"title\": {\"text\": \"behavior_2017\"}, \"tracegroupgap\": 0}, \"template\": {\"data\": {\"bar\": [{\"error_x\": {\"color\": \"#2a3f5f\"}, \"error_y\": {\"color\": \"#2a3f5f\"}, \"marker\": {\"line\": {\"color\": \"#E5ECF6\", \"width\": 0.5}}, \"type\": \"bar\"}], \"barpolar\": [{\"marker\": {\"line\": {\"color\": \"#E5ECF6\", \"width\": 0.5}}, \"type\": \"barpolar\"}], \"carpet\": [{\"aaxis\": {\"endlinecolor\": \"#2a3f5f\", \"gridcolor\": \"white\", \"linecolor\": \"white\", \"minorgridcolor\": \"white\", \"startlinecolor\": \"#2a3f5f\"}, \"baxis\": {\"endlinecolor\": \"#2a3f5f\", \"gridcolor\": \"white\", \"linecolor\": \"white\", \"minorgridcolor\": \"white\", \"startlinecolor\": \"#2a3f5f\"}, \"type\": \"carpet\"}], \"choropleth\": [{\"colorbar\": {\"outlinewidth\": 0, \"ticks\": \"\"}, \"type\": \"choropleth\"}], \"contour\": [{\"colorbar\": {\"outlinewidth\": 0, \"ticks\": \"\"}, \"colorscale\": [[0.0, \"#0d0887\"], [0.1111111111111111, \"#46039f\"], [0.2222222222222222, \"#7201a8\"], [0.3333333333333333, \"#9c179e\"], [0.4444444444444444, \"#bd3786\"], [0.5555555555555556, \"#d8576b\"], [0.6666666666666666, \"#ed7953\"], [0.7777777777777778, \"#fb9f3a\"], [0.8888888888888888, \"#fdca26\"], [1.0, \"#f0f921\"]], \"type\": \"contour\"}], \"contourcarpet\": [{\"colorbar\": {\"outlinewidth\": 0, \"ticks\": \"\"}, \"type\": \"contourcarpet\"}], \"heatmap\": [{\"colorbar\": {\"outlinewidth\": 0, \"ticks\": \"\"}, \"colorscale\": [[0.0, \"#0d0887\"], [0.1111111111111111, \"#46039f\"], [0.2222222222222222, \"#7201a8\"], [0.3333333333333333, \"#9c179e\"], [0.4444444444444444, \"#bd3786\"], [0.5555555555555556, \"#d8576b\"], [0.6666666666666666, \"#ed7953\"], [0.7777777777777778, \"#fb9f3a\"], [0.8888888888888888, \"#fdca26\"], [1.0, \"#f0f921\"]], \"type\": \"heatmap\"}], \"heatmapgl\": [{\"colorbar\": {\"outlinewidth\": 0, \"ticks\": \"\"}, \"colorscale\": [[0.0, \"#0d0887\"], [0.1111111111111111, \"#46039f\"], [0.2222222222222222, \"#7201a8\"], [0.3333333333333333, \"#9c179e\"], [0.4444444444444444, \"#bd3786\"], [0.5555555555555556, \"#d8576b\"], [0.6666666666666666, \"#ed7953\"], [0.7777777777777778, \"#fb9f3a\"], [0.8888888888888888, \"#fdca26\"], [1.0, \"#f0f921\"]], \"type\": \"heatmapgl\"}], \"histogram\": [{\"marker\": {\"colorbar\": {\"outlinewidth\": 0, \"ticks\": \"\"}}, \"type\": \"histogram\"}], \"histogram2d\": [{\"colorbar\": {\"outlinewidth\": 0, \"ticks\": \"\"}, \"colorscale\": [[0.0, \"#0d0887\"], [0.1111111111111111, \"#46039f\"], [0.2222222222222222, \"#7201a8\"], [0.3333333333333333, \"#9c179e\"], [0.4444444444444444, \"#bd3786\"], [0.5555555555555556, \"#d8576b\"], [0.6666666666666666, \"#ed7953\"], [0.7777777777777778, \"#fb9f3a\"], [0.8888888888888888, \"#fdca26\"], [1.0, \"#f0f921\"]], \"type\": \"histogram2d\"}], \"histogram2dcontour\": [{\"colorbar\": {\"outlinewidth\": 0, \"ticks\": \"\"}, \"colorscale\": [[0.0, \"#0d0887\"], [0.1111111111111111, \"#46039f\"], [0.2222222222222222, \"#7201a8\"], [0.3333333333333333, \"#9c179e\"], [0.4444444444444444, \"#bd3786\"], [0.5555555555555556, \"#d8576b\"], [0.6666666666666666, \"#ed7953\"], [0.7777777777777778, \"#fb9f3a\"], [0.8888888888888888, \"#fdca26\"], [1.0, \"#f0f921\"]], \"type\": \"histogram2dcontour\"}], \"mesh3d\": [{\"colorbar\": {\"outlinewidth\": 0, \"ticks\": \"\"}, \"type\": \"mesh3d\"}], \"parcoords\": [{\"line\": {\"colorbar\": {\"outlinewidth\": 0, \"ticks\": \"\"}}, \"type\": \"parcoords\"}], \"pie\": [{\"automargin\": true, \"type\": \"pie\"}], \"scatter\": [{\"marker\": {\"colorbar\": {\"outlinewidth\": 0, \"ticks\": \"\"}}, \"type\": \"scatter\"}], \"scatter3d\": [{\"line\": {\"colorbar\": {\"outlinewidth\": 0, \"ticks\": \"\"}}, \"marker\": {\"colorbar\": {\"outlinewidth\": 0, \"ticks\": \"\"}}, \"type\": \"scatter3d\"}], \"scattercarpet\": [{\"marker\": {\"colorbar\": {\"outlinewidth\": 0, \"ticks\": \"\"}}, \"type\": \"scattercarpet\"}], \"scattergeo\": [{\"marker\": {\"colorbar\": {\"outlinewidth\": 0, \"ticks\": \"\"}}, \"type\": \"scattergeo\"}], \"scattergl\": [{\"marker\": {\"colorbar\": {\"outlinewidth\": 0, \"ticks\": \"\"}}, \"type\": \"scattergl\"}], \"scattermapbox\": [{\"marker\": {\"colorbar\": {\"outlinewidth\": 0, \"ticks\": \"\"}}, \"type\": \"scattermapbox\"}], \"scatterpolar\": [{\"marker\": {\"colorbar\": {\"outlinewidth\": 0, \"ticks\": \"\"}}, \"type\": \"scatterpolar\"}], \"scatterpolargl\": [{\"marker\": {\"colorbar\": {\"outlinewidth\": 0, \"ticks\": \"\"}}, \"type\": \"scatterpolargl\"}], \"scatterternary\": [{\"marker\": {\"colorbar\": {\"outlinewidth\": 0, \"ticks\": \"\"}}, \"type\": \"scatterternary\"}], \"surface\": [{\"colorbar\": {\"outlinewidth\": 0, \"ticks\": \"\"}, \"colorscale\": [[0.0, \"#0d0887\"], [0.1111111111111111, \"#46039f\"], [0.2222222222222222, \"#7201a8\"], [0.3333333333333333, \"#9c179e\"], [0.4444444444444444, \"#bd3786\"], [0.5555555555555556, \"#d8576b\"], [0.6666666666666666, \"#ed7953\"], [0.7777777777777778, \"#fb9f3a\"], [0.8888888888888888, \"#fdca26\"], [1.0, \"#f0f921\"]], \"type\": \"surface\"}], \"table\": [{\"cells\": {\"fill\": {\"color\": \"#EBF0F8\"}, \"line\": {\"color\": \"white\"}}, \"header\": {\"fill\": {\"color\": \"#C8D4E3\"}, \"line\": {\"color\": \"white\"}}, \"type\": \"table\"}]}, \"layout\": {\"annotationdefaults\": {\"arrowcolor\": \"#2a3f5f\", \"arrowhead\": 0, \"arrowwidth\": 1}, \"coloraxis\": {\"colorbar\": {\"outlinewidth\": 0, \"ticks\": \"\"}}, \"colorscale\": {\"diverging\": [[0, \"#8e0152\"], [0.1, \"#c51b7d\"], [0.2, \"#de77ae\"], [0.3, \"#f1b6da\"], [0.4, \"#fde0ef\"], [0.5, \"#f7f7f7\"], [0.6, \"#e6f5d0\"], [0.7, \"#b8e186\"], [0.8, \"#7fbc41\"], [0.9, \"#4d9221\"], [1, \"#276419\"]], \"sequential\": [[0.0, \"#0d0887\"], [0.1111111111111111, \"#46039f\"], [0.2222222222222222, \"#7201a8\"], [0.3333333333333333, \"#9c179e\"], [0.4444444444444444, \"#bd3786\"], [0.5555555555555556, \"#d8576b\"], [0.6666666666666666, \"#ed7953\"], [0.7777777777777778, \"#fb9f3a\"], [0.8888888888888888, \"#fdca26\"], [1.0, \"#f0f921\"]], \"sequentialminus\": [[0.0, \"#0d0887\"], [0.1111111111111111, \"#46039f\"], [0.2222222222222222, \"#7201a8\"], [0.3333333333333333, \"#9c179e\"], [0.4444444444444444, \"#bd3786\"], [0.5555555555555556, \"#d8576b\"], [0.6666666666666666, \"#ed7953\"], [0.7777777777777778, \"#fb9f3a\"], [0.8888888888888888, \"#fdca26\"], [1.0, \"#f0f921\"]]}, \"colorway\": [\"#636efa\", \"#EF553B\", \"#00cc96\", \"#ab63fa\", \"#FFA15A\", \"#19d3f3\", \"#FF6692\", \"#B6E880\", \"#FF97FF\", \"#FECB52\"], \"font\": {\"color\": \"#2a3f5f\"}, \"geo\": {\"bgcolor\": \"white\", \"lakecolor\": \"white\", \"landcolor\": \"#E5ECF6\", \"showlakes\": true, \"showland\": true, \"subunitcolor\": \"white\"}, \"hoverlabel\": {\"align\": \"left\"}, \"hovermode\": \"closest\", \"mapbox\": {\"style\": \"light\"}, \"paper_bgcolor\": \"white\", \"plot_bgcolor\": \"#E5ECF6\", \"polar\": {\"angularaxis\": {\"gridcolor\": \"white\", \"linecolor\": \"white\", \"ticks\": \"\"}, \"bgcolor\": \"#E5ECF6\", \"radialaxis\": {\"gridcolor\": \"white\", \"linecolor\": \"white\", \"ticks\": \"\"}}, \"scene\": {\"xaxis\": {\"backgroundcolor\": \"#E5ECF6\", \"gridcolor\": \"white\", \"gridwidth\": 2, \"linecolor\": \"white\", \"showbackground\": true, \"ticks\": \"\", \"zerolinecolor\": \"white\"}, \"yaxis\": {\"backgroundcolor\": \"#E5ECF6\", \"gridcolor\": \"white\", \"gridwidth\": 2, \"linecolor\": \"white\", \"showbackground\": true, \"ticks\": \"\", \"zerolinecolor\": \"white\"}, \"zaxis\": {\"backgroundcolor\": \"#E5ECF6\", \"gridcolor\": \"white\", \"gridwidth\": 2, \"linecolor\": \"white\", \"showbackground\": true, \"ticks\": \"\", \"zerolinecolor\": \"white\"}}, \"shapedefaults\": {\"line\": {\"color\": \"#2a3f5f\"}}, \"ternary\": {\"aaxis\": {\"gridcolor\": \"white\", \"linecolor\": \"white\", \"ticks\": \"\"}, \"baxis\": {\"gridcolor\": \"white\", \"linecolor\": \"white\", \"ticks\": \"\"}, \"bgcolor\": \"#E5ECF6\", \"caxis\": {\"gridcolor\": \"white\", \"linecolor\": \"white\", \"ticks\": \"\"}}, \"title\": {\"x\": 0.05}, \"xaxis\": {\"automargin\": true, \"gridcolor\": \"white\", \"linecolor\": \"white\", \"ticks\": \"\", \"title\": {\"standoff\": 15}, \"zerolinecolor\": \"white\", \"zerolinewidth\": 2}, \"yaxis\": {\"automargin\": true, \"gridcolor\": \"white\", \"linecolor\": \"white\", \"ticks\": \"\", \"title\": {\"standoff\": 15}, \"zerolinecolor\": \"white\", \"zerolinewidth\": 2}}}, \"title\": {\"text\": \"Long-Form Input\"}, \"xaxis\": {\"anchor\": \"y\", \"domain\": [0.0, 1.0], \"title\": {\"text\": \"gainloss_2017\"}}, \"yaxis\": {\"anchor\": \"x\", \"domain\": [0.0, 1.0], \"title\": {\"text\": \"gainloss_2017_amt\"}}},\n",
       "                        {\"responsive\": true}\n",
       "                    ).then(function(){\n",
       "                            \n",
       "var gd = document.getElementById('bbd216a8-bb3a-4d04-bbfe-57cda22c0e34');\n",
       "var x = new MutationObserver(function (mutations, observer) {{\n",
       "        var display = window.getComputedStyle(gd).display;\n",
       "        if (!display || display === 'none') {{\n",
       "            console.log([gd, 'removed!']);\n",
       "            Plotly.purge(gd);\n",
       "            observer.disconnect();\n",
       "        }}\n",
       "}});\n",
       "\n",
       "// Listen for the removal of the full notebook cells\n",
       "var notebookContainer = gd.closest('#notebook-container');\n",
       "if (notebookContainer) {{\n",
       "    x.observe(notebookContainer, {childList: true});\n",
       "}}\n",
       "\n",
       "// Listen for the clearing of the current output cell\n",
       "var outputEl = gd.closest('.output');\n",
       "if (outputEl) {{\n",
       "    x.observe(outputEl, {childList: true});\n",
       "}}\n",
       "\n",
       "                        })\n",
       "                };\n",
       "                });\n",
       "            </script>\n",
       "        </div>"
      ]
     },
     "metadata": {},
     "output_type": "display_data"
    }
   ],
   "source": [
    "fig = px.bar(yr_info171, x='gainloss_2017', y='gainloss_2017_amt', color='behavior_2017', title=\"Long-Form Input\")\n",
    "fig.show()"
   ]
  },
  {
   "cell_type": "code",
   "execution_count": 70,
   "metadata": {},
   "outputs": [
    {
     "data": {
      "application/vnd.plotly.v1+json": {
       "config": {
        "plotlyServerURL": "https://plot.ly"
       },
       "data": [
        {
         "name": "behavior category",
         "type": "bar",
         "x": [
          "downgrade",
          "lapse_new",
          "lapse_repeat",
          "maintain",
          "new",
          "none",
          "recover",
          "upgrade"
         ],
         "y": [
          "loss",
          "loss",
          "loss",
          "none",
          "gain",
          "none",
          "gain",
          "gain"
         ]
        },
        {
         "name": "amount",
         "type": "bar",
         "x": [
          "downgrade",
          "lapse_new",
          "lapse_repeat",
          "maintain",
          "new",
          "none",
          "recover",
          "upgrade"
         ],
         "y": [
          -9101046.069999916,
          -27839492.4199994,
          -7628501.929999962,
          0,
          37973770.4799995,
          0,
          4813611.710000008,
          12003202.040000001
         ]
        }
       ],
       "layout": {
        "barmode": "stack",
        "template": {
         "data": {
          "bar": [
           {
            "error_x": {
             "color": "#2a3f5f"
            },
            "error_y": {
             "color": "#2a3f5f"
            },
            "marker": {
             "line": {
              "color": "#E5ECF6",
              "width": 0.5
             }
            },
            "type": "bar"
           }
          ],
          "barpolar": [
           {
            "marker": {
             "line": {
              "color": "#E5ECF6",
              "width": 0.5
             }
            },
            "type": "barpolar"
           }
          ],
          "carpet": [
           {
            "aaxis": {
             "endlinecolor": "#2a3f5f",
             "gridcolor": "white",
             "linecolor": "white",
             "minorgridcolor": "white",
             "startlinecolor": "#2a3f5f"
            },
            "baxis": {
             "endlinecolor": "#2a3f5f",
             "gridcolor": "white",
             "linecolor": "white",
             "minorgridcolor": "white",
             "startlinecolor": "#2a3f5f"
            },
            "type": "carpet"
           }
          ],
          "choropleth": [
           {
            "colorbar": {
             "outlinewidth": 0,
             "ticks": ""
            },
            "type": "choropleth"
           }
          ],
          "contour": [
           {
            "colorbar": {
             "outlinewidth": 0,
             "ticks": ""
            },
            "colorscale": [
             [
              0,
              "#0d0887"
             ],
             [
              0.1111111111111111,
              "#46039f"
             ],
             [
              0.2222222222222222,
              "#7201a8"
             ],
             [
              0.3333333333333333,
              "#9c179e"
             ],
             [
              0.4444444444444444,
              "#bd3786"
             ],
             [
              0.5555555555555556,
              "#d8576b"
             ],
             [
              0.6666666666666666,
              "#ed7953"
             ],
             [
              0.7777777777777778,
              "#fb9f3a"
             ],
             [
              0.8888888888888888,
              "#fdca26"
             ],
             [
              1,
              "#f0f921"
             ]
            ],
            "type": "contour"
           }
          ],
          "contourcarpet": [
           {
            "colorbar": {
             "outlinewidth": 0,
             "ticks": ""
            },
            "type": "contourcarpet"
           }
          ],
          "heatmap": [
           {
            "colorbar": {
             "outlinewidth": 0,
             "ticks": ""
            },
            "colorscale": [
             [
              0,
              "#0d0887"
             ],
             [
              0.1111111111111111,
              "#46039f"
             ],
             [
              0.2222222222222222,
              "#7201a8"
             ],
             [
              0.3333333333333333,
              "#9c179e"
             ],
             [
              0.4444444444444444,
              "#bd3786"
             ],
             [
              0.5555555555555556,
              "#d8576b"
             ],
             [
              0.6666666666666666,
              "#ed7953"
             ],
             [
              0.7777777777777778,
              "#fb9f3a"
             ],
             [
              0.8888888888888888,
              "#fdca26"
             ],
             [
              1,
              "#f0f921"
             ]
            ],
            "type": "heatmap"
           }
          ],
          "heatmapgl": [
           {
            "colorbar": {
             "outlinewidth": 0,
             "ticks": ""
            },
            "colorscale": [
             [
              0,
              "#0d0887"
             ],
             [
              0.1111111111111111,
              "#46039f"
             ],
             [
              0.2222222222222222,
              "#7201a8"
             ],
             [
              0.3333333333333333,
              "#9c179e"
             ],
             [
              0.4444444444444444,
              "#bd3786"
             ],
             [
              0.5555555555555556,
              "#d8576b"
             ],
             [
              0.6666666666666666,
              "#ed7953"
             ],
             [
              0.7777777777777778,
              "#fb9f3a"
             ],
             [
              0.8888888888888888,
              "#fdca26"
             ],
             [
              1,
              "#f0f921"
             ]
            ],
            "type": "heatmapgl"
           }
          ],
          "histogram": [
           {
            "marker": {
             "colorbar": {
              "outlinewidth": 0,
              "ticks": ""
             }
            },
            "type": "histogram"
           }
          ],
          "histogram2d": [
           {
            "colorbar": {
             "outlinewidth": 0,
             "ticks": ""
            },
            "colorscale": [
             [
              0,
              "#0d0887"
             ],
             [
              0.1111111111111111,
              "#46039f"
             ],
             [
              0.2222222222222222,
              "#7201a8"
             ],
             [
              0.3333333333333333,
              "#9c179e"
             ],
             [
              0.4444444444444444,
              "#bd3786"
             ],
             [
              0.5555555555555556,
              "#d8576b"
             ],
             [
              0.6666666666666666,
              "#ed7953"
             ],
             [
              0.7777777777777778,
              "#fb9f3a"
             ],
             [
              0.8888888888888888,
              "#fdca26"
             ],
             [
              1,
              "#f0f921"
             ]
            ],
            "type": "histogram2d"
           }
          ],
          "histogram2dcontour": [
           {
            "colorbar": {
             "outlinewidth": 0,
             "ticks": ""
            },
            "colorscale": [
             [
              0,
              "#0d0887"
             ],
             [
              0.1111111111111111,
              "#46039f"
             ],
             [
              0.2222222222222222,
              "#7201a8"
             ],
             [
              0.3333333333333333,
              "#9c179e"
             ],
             [
              0.4444444444444444,
              "#bd3786"
             ],
             [
              0.5555555555555556,
              "#d8576b"
             ],
             [
              0.6666666666666666,
              "#ed7953"
             ],
             [
              0.7777777777777778,
              "#fb9f3a"
             ],
             [
              0.8888888888888888,
              "#fdca26"
             ],
             [
              1,
              "#f0f921"
             ]
            ],
            "type": "histogram2dcontour"
           }
          ],
          "mesh3d": [
           {
            "colorbar": {
             "outlinewidth": 0,
             "ticks": ""
            },
            "type": "mesh3d"
           }
          ],
          "parcoords": [
           {
            "line": {
             "colorbar": {
              "outlinewidth": 0,
              "ticks": ""
             }
            },
            "type": "parcoords"
           }
          ],
          "pie": [
           {
            "automargin": true,
            "type": "pie"
           }
          ],
          "scatter": [
           {
            "marker": {
             "colorbar": {
              "outlinewidth": 0,
              "ticks": ""
             }
            },
            "type": "scatter"
           }
          ],
          "scatter3d": [
           {
            "line": {
             "colorbar": {
              "outlinewidth": 0,
              "ticks": ""
             }
            },
            "marker": {
             "colorbar": {
              "outlinewidth": 0,
              "ticks": ""
             }
            },
            "type": "scatter3d"
           }
          ],
          "scattercarpet": [
           {
            "marker": {
             "colorbar": {
              "outlinewidth": 0,
              "ticks": ""
             }
            },
            "type": "scattercarpet"
           }
          ],
          "scattergeo": [
           {
            "marker": {
             "colorbar": {
              "outlinewidth": 0,
              "ticks": ""
             }
            },
            "type": "scattergeo"
           }
          ],
          "scattergl": [
           {
            "marker": {
             "colorbar": {
              "outlinewidth": 0,
              "ticks": ""
             }
            },
            "type": "scattergl"
           }
          ],
          "scattermapbox": [
           {
            "marker": {
             "colorbar": {
              "outlinewidth": 0,
              "ticks": ""
             }
            },
            "type": "scattermapbox"
           }
          ],
          "scatterpolar": [
           {
            "marker": {
             "colorbar": {
              "outlinewidth": 0,
              "ticks": ""
             }
            },
            "type": "scatterpolar"
           }
          ],
          "scatterpolargl": [
           {
            "marker": {
             "colorbar": {
              "outlinewidth": 0,
              "ticks": ""
             }
            },
            "type": "scatterpolargl"
           }
          ],
          "scatterternary": [
           {
            "marker": {
             "colorbar": {
              "outlinewidth": 0,
              "ticks": ""
             }
            },
            "type": "scatterternary"
           }
          ],
          "surface": [
           {
            "colorbar": {
             "outlinewidth": 0,
             "ticks": ""
            },
            "colorscale": [
             [
              0,
              "#0d0887"
             ],
             [
              0.1111111111111111,
              "#46039f"
             ],
             [
              0.2222222222222222,
              "#7201a8"
             ],
             [
              0.3333333333333333,
              "#9c179e"
             ],
             [
              0.4444444444444444,
              "#bd3786"
             ],
             [
              0.5555555555555556,
              "#d8576b"
             ],
             [
              0.6666666666666666,
              "#ed7953"
             ],
             [
              0.7777777777777778,
              "#fb9f3a"
             ],
             [
              0.8888888888888888,
              "#fdca26"
             ],
             [
              1,
              "#f0f921"
             ]
            ],
            "type": "surface"
           }
          ],
          "table": [
           {
            "cells": {
             "fill": {
              "color": "#EBF0F8"
             },
             "line": {
              "color": "white"
             }
            },
            "header": {
             "fill": {
              "color": "#C8D4E3"
             },
             "line": {
              "color": "white"
             }
            },
            "type": "table"
           }
          ]
         },
         "layout": {
          "annotationdefaults": {
           "arrowcolor": "#2a3f5f",
           "arrowhead": 0,
           "arrowwidth": 1
          },
          "coloraxis": {
           "colorbar": {
            "outlinewidth": 0,
            "ticks": ""
           }
          },
          "colorscale": {
           "diverging": [
            [
             0,
             "#8e0152"
            ],
            [
             0.1,
             "#c51b7d"
            ],
            [
             0.2,
             "#de77ae"
            ],
            [
             0.3,
             "#f1b6da"
            ],
            [
             0.4,
             "#fde0ef"
            ],
            [
             0.5,
             "#f7f7f7"
            ],
            [
             0.6,
             "#e6f5d0"
            ],
            [
             0.7,
             "#b8e186"
            ],
            [
             0.8,
             "#7fbc41"
            ],
            [
             0.9,
             "#4d9221"
            ],
            [
             1,
             "#276419"
            ]
           ],
           "sequential": [
            [
             0,
             "#0d0887"
            ],
            [
             0.1111111111111111,
             "#46039f"
            ],
            [
             0.2222222222222222,
             "#7201a8"
            ],
            [
             0.3333333333333333,
             "#9c179e"
            ],
            [
             0.4444444444444444,
             "#bd3786"
            ],
            [
             0.5555555555555556,
             "#d8576b"
            ],
            [
             0.6666666666666666,
             "#ed7953"
            ],
            [
             0.7777777777777778,
             "#fb9f3a"
            ],
            [
             0.8888888888888888,
             "#fdca26"
            ],
            [
             1,
             "#f0f921"
            ]
           ],
           "sequentialminus": [
            [
             0,
             "#0d0887"
            ],
            [
             0.1111111111111111,
             "#46039f"
            ],
            [
             0.2222222222222222,
             "#7201a8"
            ],
            [
             0.3333333333333333,
             "#9c179e"
            ],
            [
             0.4444444444444444,
             "#bd3786"
            ],
            [
             0.5555555555555556,
             "#d8576b"
            ],
            [
             0.6666666666666666,
             "#ed7953"
            ],
            [
             0.7777777777777778,
             "#fb9f3a"
            ],
            [
             0.8888888888888888,
             "#fdca26"
            ],
            [
             1,
             "#f0f921"
            ]
           ]
          },
          "colorway": [
           "#636efa",
           "#EF553B",
           "#00cc96",
           "#ab63fa",
           "#FFA15A",
           "#19d3f3",
           "#FF6692",
           "#B6E880",
           "#FF97FF",
           "#FECB52"
          ],
          "font": {
           "color": "#2a3f5f"
          },
          "geo": {
           "bgcolor": "white",
           "lakecolor": "white",
           "landcolor": "#E5ECF6",
           "showlakes": true,
           "showland": true,
           "subunitcolor": "white"
          },
          "hoverlabel": {
           "align": "left"
          },
          "hovermode": "closest",
          "mapbox": {
           "style": "light"
          },
          "paper_bgcolor": "white",
          "plot_bgcolor": "#E5ECF6",
          "polar": {
           "angularaxis": {
            "gridcolor": "white",
            "linecolor": "white",
            "ticks": ""
           },
           "bgcolor": "#E5ECF6",
           "radialaxis": {
            "gridcolor": "white",
            "linecolor": "white",
            "ticks": ""
           }
          },
          "scene": {
           "xaxis": {
            "backgroundcolor": "#E5ECF6",
            "gridcolor": "white",
            "gridwidth": 2,
            "linecolor": "white",
            "showbackground": true,
            "ticks": "",
            "zerolinecolor": "white"
           },
           "yaxis": {
            "backgroundcolor": "#E5ECF6",
            "gridcolor": "white",
            "gridwidth": 2,
            "linecolor": "white",
            "showbackground": true,
            "ticks": "",
            "zerolinecolor": "white"
           },
           "zaxis": {
            "backgroundcolor": "#E5ECF6",
            "gridcolor": "white",
            "gridwidth": 2,
            "linecolor": "white",
            "showbackground": true,
            "ticks": "",
            "zerolinecolor": "white"
           }
          },
          "shapedefaults": {
           "line": {
            "color": "#2a3f5f"
           }
          },
          "ternary": {
           "aaxis": {
            "gridcolor": "white",
            "linecolor": "white",
            "ticks": ""
           },
           "baxis": {
            "gridcolor": "white",
            "linecolor": "white",
            "ticks": ""
           },
           "bgcolor": "#E5ECF6",
           "caxis": {
            "gridcolor": "white",
            "linecolor": "white",
            "ticks": ""
           }
          },
          "title": {
           "x": 0.05
          },
          "xaxis": {
           "automargin": true,
           "gridcolor": "white",
           "linecolor": "white",
           "ticks": "",
           "title": {
            "standoff": 15
           },
           "zerolinecolor": "white",
           "zerolinewidth": 2
          },
          "yaxis": {
           "automargin": true,
           "gridcolor": "white",
           "linecolor": "white",
           "ticks": "",
           "title": {
            "standoff": 15
           },
           "zerolinecolor": "white",
           "zerolinewidth": 2
          }
         }
        }
       }
      },
      "text/html": [
       "<div>\n",
       "        \n",
       "        \n",
       "            <div id=\"2abc73b4-811c-47e2-bcfa-c7614ec8013a\" class=\"plotly-graph-div\" style=\"height:525px; width:100%;\"></div>\n",
       "            <script type=\"text/javascript\">\n",
       "                require([\"plotly\"], function(Plotly) {\n",
       "                    window.PLOTLYENV=window.PLOTLYENV || {};\n",
       "                    \n",
       "                if (document.getElementById(\"2abc73b4-811c-47e2-bcfa-c7614ec8013a\")) {\n",
       "                    Plotly.newPlot(\n",
       "                        '2abc73b4-811c-47e2-bcfa-c7614ec8013a',\n",
       "                        [{\"name\": \"behavior category\", \"type\": \"bar\", \"x\": [\"downgrade\", \"lapse_new\", \"lapse_repeat\", \"maintain\", \"new\", \"none\", \"recover\", \"upgrade\"], \"y\": [\"loss\", \"loss\", \"loss\", \"none\", \"gain\", \"none\", \"gain\", \"gain\"]}, {\"name\": \"amount\", \"type\": \"bar\", \"x\": [\"downgrade\", \"lapse_new\", \"lapse_repeat\", \"maintain\", \"new\", \"none\", \"recover\", \"upgrade\"], \"y\": [-9101046.069999916, -27839492.4199994, -7628501.929999962, 0.0, 37973770.4799995, 0.0, 4813611.710000008, 12003202.040000001]}],\n",
       "                        {\"barmode\": \"stack\", \"template\": {\"data\": {\"bar\": [{\"error_x\": {\"color\": \"#2a3f5f\"}, \"error_y\": {\"color\": \"#2a3f5f\"}, \"marker\": {\"line\": {\"color\": \"#E5ECF6\", \"width\": 0.5}}, \"type\": \"bar\"}], \"barpolar\": [{\"marker\": {\"line\": {\"color\": \"#E5ECF6\", \"width\": 0.5}}, \"type\": \"barpolar\"}], \"carpet\": [{\"aaxis\": {\"endlinecolor\": \"#2a3f5f\", \"gridcolor\": \"white\", \"linecolor\": \"white\", \"minorgridcolor\": \"white\", \"startlinecolor\": \"#2a3f5f\"}, \"baxis\": {\"endlinecolor\": \"#2a3f5f\", \"gridcolor\": \"white\", \"linecolor\": \"white\", \"minorgridcolor\": \"white\", \"startlinecolor\": \"#2a3f5f\"}, \"type\": \"carpet\"}], \"choropleth\": [{\"colorbar\": {\"outlinewidth\": 0, \"ticks\": \"\"}, \"type\": \"choropleth\"}], \"contour\": [{\"colorbar\": {\"outlinewidth\": 0, \"ticks\": \"\"}, \"colorscale\": [[0.0, \"#0d0887\"], [0.1111111111111111, \"#46039f\"], [0.2222222222222222, \"#7201a8\"], [0.3333333333333333, \"#9c179e\"], [0.4444444444444444, \"#bd3786\"], [0.5555555555555556, \"#d8576b\"], [0.6666666666666666, \"#ed7953\"], [0.7777777777777778, \"#fb9f3a\"], [0.8888888888888888, \"#fdca26\"], [1.0, \"#f0f921\"]], \"type\": \"contour\"}], \"contourcarpet\": [{\"colorbar\": {\"outlinewidth\": 0, \"ticks\": \"\"}, \"type\": \"contourcarpet\"}], \"heatmap\": [{\"colorbar\": {\"outlinewidth\": 0, \"ticks\": \"\"}, \"colorscale\": [[0.0, \"#0d0887\"], [0.1111111111111111, \"#46039f\"], [0.2222222222222222, \"#7201a8\"], [0.3333333333333333, \"#9c179e\"], [0.4444444444444444, \"#bd3786\"], [0.5555555555555556, \"#d8576b\"], [0.6666666666666666, \"#ed7953\"], [0.7777777777777778, \"#fb9f3a\"], [0.8888888888888888, \"#fdca26\"], [1.0, \"#f0f921\"]], \"type\": \"heatmap\"}], \"heatmapgl\": [{\"colorbar\": {\"outlinewidth\": 0, \"ticks\": \"\"}, \"colorscale\": [[0.0, \"#0d0887\"], [0.1111111111111111, \"#46039f\"], [0.2222222222222222, \"#7201a8\"], [0.3333333333333333, \"#9c179e\"], [0.4444444444444444, \"#bd3786\"], [0.5555555555555556, \"#d8576b\"], [0.6666666666666666, \"#ed7953\"], [0.7777777777777778, \"#fb9f3a\"], [0.8888888888888888, \"#fdca26\"], [1.0, \"#f0f921\"]], \"type\": \"heatmapgl\"}], \"histogram\": [{\"marker\": {\"colorbar\": {\"outlinewidth\": 0, \"ticks\": \"\"}}, \"type\": \"histogram\"}], \"histogram2d\": [{\"colorbar\": {\"outlinewidth\": 0, \"ticks\": \"\"}, \"colorscale\": [[0.0, \"#0d0887\"], [0.1111111111111111, \"#46039f\"], [0.2222222222222222, \"#7201a8\"], [0.3333333333333333, \"#9c179e\"], [0.4444444444444444, \"#bd3786\"], [0.5555555555555556, \"#d8576b\"], [0.6666666666666666, \"#ed7953\"], [0.7777777777777778, \"#fb9f3a\"], [0.8888888888888888, \"#fdca26\"], [1.0, \"#f0f921\"]], \"type\": \"histogram2d\"}], \"histogram2dcontour\": [{\"colorbar\": {\"outlinewidth\": 0, \"ticks\": \"\"}, \"colorscale\": [[0.0, \"#0d0887\"], [0.1111111111111111, \"#46039f\"], [0.2222222222222222, \"#7201a8\"], [0.3333333333333333, \"#9c179e\"], [0.4444444444444444, \"#bd3786\"], [0.5555555555555556, \"#d8576b\"], [0.6666666666666666, \"#ed7953\"], [0.7777777777777778, \"#fb9f3a\"], [0.8888888888888888, \"#fdca26\"], [1.0, \"#f0f921\"]], \"type\": \"histogram2dcontour\"}], \"mesh3d\": [{\"colorbar\": {\"outlinewidth\": 0, \"ticks\": \"\"}, \"type\": \"mesh3d\"}], \"parcoords\": [{\"line\": {\"colorbar\": {\"outlinewidth\": 0, \"ticks\": \"\"}}, \"type\": \"parcoords\"}], \"pie\": [{\"automargin\": true, \"type\": \"pie\"}], \"scatter\": [{\"marker\": {\"colorbar\": {\"outlinewidth\": 0, \"ticks\": \"\"}}, \"type\": \"scatter\"}], \"scatter3d\": [{\"line\": {\"colorbar\": {\"outlinewidth\": 0, \"ticks\": \"\"}}, \"marker\": {\"colorbar\": {\"outlinewidth\": 0, \"ticks\": \"\"}}, \"type\": \"scatter3d\"}], \"scattercarpet\": [{\"marker\": {\"colorbar\": {\"outlinewidth\": 0, \"ticks\": \"\"}}, \"type\": \"scattercarpet\"}], \"scattergeo\": [{\"marker\": {\"colorbar\": {\"outlinewidth\": 0, \"ticks\": \"\"}}, \"type\": \"scattergeo\"}], \"scattergl\": [{\"marker\": {\"colorbar\": {\"outlinewidth\": 0, \"ticks\": \"\"}}, \"type\": \"scattergl\"}], \"scattermapbox\": [{\"marker\": {\"colorbar\": {\"outlinewidth\": 0, \"ticks\": \"\"}}, \"type\": \"scattermapbox\"}], \"scatterpolar\": [{\"marker\": {\"colorbar\": {\"outlinewidth\": 0, \"ticks\": \"\"}}, \"type\": \"scatterpolar\"}], \"scatterpolargl\": [{\"marker\": {\"colorbar\": {\"outlinewidth\": 0, \"ticks\": \"\"}}, \"type\": \"scatterpolargl\"}], \"scatterternary\": [{\"marker\": {\"colorbar\": {\"outlinewidth\": 0, \"ticks\": \"\"}}, \"type\": \"scatterternary\"}], \"surface\": [{\"colorbar\": {\"outlinewidth\": 0, \"ticks\": \"\"}, \"colorscale\": [[0.0, \"#0d0887\"], [0.1111111111111111, \"#46039f\"], [0.2222222222222222, \"#7201a8\"], [0.3333333333333333, \"#9c179e\"], [0.4444444444444444, \"#bd3786\"], [0.5555555555555556, \"#d8576b\"], [0.6666666666666666, \"#ed7953\"], [0.7777777777777778, \"#fb9f3a\"], [0.8888888888888888, \"#fdca26\"], [1.0, \"#f0f921\"]], \"type\": \"surface\"}], \"table\": [{\"cells\": {\"fill\": {\"color\": \"#EBF0F8\"}, \"line\": {\"color\": \"white\"}}, \"header\": {\"fill\": {\"color\": \"#C8D4E3\"}, \"line\": {\"color\": \"white\"}}, \"type\": \"table\"}]}, \"layout\": {\"annotationdefaults\": {\"arrowcolor\": \"#2a3f5f\", \"arrowhead\": 0, \"arrowwidth\": 1}, \"coloraxis\": {\"colorbar\": {\"outlinewidth\": 0, \"ticks\": \"\"}}, \"colorscale\": {\"diverging\": [[0, \"#8e0152\"], [0.1, \"#c51b7d\"], [0.2, \"#de77ae\"], [0.3, \"#f1b6da\"], [0.4, \"#fde0ef\"], [0.5, \"#f7f7f7\"], [0.6, \"#e6f5d0\"], [0.7, \"#b8e186\"], [0.8, \"#7fbc41\"], [0.9, \"#4d9221\"], [1, \"#276419\"]], \"sequential\": [[0.0, \"#0d0887\"], [0.1111111111111111, \"#46039f\"], [0.2222222222222222, \"#7201a8\"], [0.3333333333333333, \"#9c179e\"], [0.4444444444444444, \"#bd3786\"], [0.5555555555555556, \"#d8576b\"], [0.6666666666666666, \"#ed7953\"], [0.7777777777777778, \"#fb9f3a\"], [0.8888888888888888, \"#fdca26\"], [1.0, \"#f0f921\"]], \"sequentialminus\": [[0.0, \"#0d0887\"], [0.1111111111111111, \"#46039f\"], [0.2222222222222222, \"#7201a8\"], [0.3333333333333333, \"#9c179e\"], [0.4444444444444444, \"#bd3786\"], [0.5555555555555556, \"#d8576b\"], [0.6666666666666666, \"#ed7953\"], [0.7777777777777778, \"#fb9f3a\"], [0.8888888888888888, \"#fdca26\"], [1.0, \"#f0f921\"]]}, \"colorway\": [\"#636efa\", \"#EF553B\", \"#00cc96\", \"#ab63fa\", \"#FFA15A\", \"#19d3f3\", \"#FF6692\", \"#B6E880\", \"#FF97FF\", \"#FECB52\"], \"font\": {\"color\": \"#2a3f5f\"}, \"geo\": {\"bgcolor\": \"white\", \"lakecolor\": \"white\", \"landcolor\": \"#E5ECF6\", \"showlakes\": true, \"showland\": true, \"subunitcolor\": \"white\"}, \"hoverlabel\": {\"align\": \"left\"}, \"hovermode\": \"closest\", \"mapbox\": {\"style\": \"light\"}, \"paper_bgcolor\": \"white\", \"plot_bgcolor\": \"#E5ECF6\", \"polar\": {\"angularaxis\": {\"gridcolor\": \"white\", \"linecolor\": \"white\", \"ticks\": \"\"}, \"bgcolor\": \"#E5ECF6\", \"radialaxis\": {\"gridcolor\": \"white\", \"linecolor\": \"white\", \"ticks\": \"\"}}, \"scene\": {\"xaxis\": {\"backgroundcolor\": \"#E5ECF6\", \"gridcolor\": \"white\", \"gridwidth\": 2, \"linecolor\": \"white\", \"showbackground\": true, \"ticks\": \"\", \"zerolinecolor\": \"white\"}, \"yaxis\": {\"backgroundcolor\": \"#E5ECF6\", \"gridcolor\": \"white\", \"gridwidth\": 2, \"linecolor\": \"white\", \"showbackground\": true, \"ticks\": \"\", \"zerolinecolor\": \"white\"}, \"zaxis\": {\"backgroundcolor\": \"#E5ECF6\", \"gridcolor\": \"white\", \"gridwidth\": 2, \"linecolor\": \"white\", \"showbackground\": true, \"ticks\": \"\", \"zerolinecolor\": \"white\"}}, \"shapedefaults\": {\"line\": {\"color\": \"#2a3f5f\"}}, \"ternary\": {\"aaxis\": {\"gridcolor\": \"white\", \"linecolor\": \"white\", \"ticks\": \"\"}, \"baxis\": {\"gridcolor\": \"white\", \"linecolor\": \"white\", \"ticks\": \"\"}, \"bgcolor\": \"#E5ECF6\", \"caxis\": {\"gridcolor\": \"white\", \"linecolor\": \"white\", \"ticks\": \"\"}}, \"title\": {\"x\": 0.05}, \"xaxis\": {\"automargin\": true, \"gridcolor\": \"white\", \"linecolor\": \"white\", \"ticks\": \"\", \"title\": {\"standoff\": 15}, \"zerolinecolor\": \"white\", \"zerolinewidth\": 2}, \"yaxis\": {\"automargin\": true, \"gridcolor\": \"white\", \"linecolor\": \"white\", \"ticks\": \"\", \"title\": {\"standoff\": 15}, \"zerolinecolor\": \"white\", \"zerolinewidth\": 2}}}},\n",
       "                        {\"responsive\": true}\n",
       "                    ).then(function(){\n",
       "                            \n",
       "var gd = document.getElementById('2abc73b4-811c-47e2-bcfa-c7614ec8013a');\n",
       "var x = new MutationObserver(function (mutations, observer) {{\n",
       "        var display = window.getComputedStyle(gd).display;\n",
       "        if (!display || display === 'none') {{\n",
       "            console.log([gd, 'removed!']);\n",
       "            Plotly.purge(gd);\n",
       "            observer.disconnect();\n",
       "        }}\n",
       "}});\n",
       "\n",
       "// Listen for the removal of the full notebook cells\n",
       "var notebookContainer = gd.closest('#notebook-container');\n",
       "if (notebookContainer) {{\n",
       "    x.observe(notebookContainer, {childList: true});\n",
       "}}\n",
       "\n",
       "// Listen for the clearing of the current output cell\n",
       "var outputEl = gd.closest('.output');\n",
       "if (outputEl) {{\n",
       "    x.observe(outputEl, {childList: true});\n",
       "}}\n",
       "\n",
       "                        })\n",
       "                };\n",
       "                });\n",
       "            </script>\n",
       "        </div>"
      ]
     },
     "metadata": {},
     "output_type": "display_data"
    }
   ],
   "source": [
    "fig = go.Figure(data=[\n",
    "    go.Bar(name='behavior category', x=yr_info171['behavior_2017'], y=yr_info171['gainloss_2017']),\n",
    "    go.Bar(name='amount', x=yr_info171['behavior_2017'], y=yr_info171['gainloss_2017_amt'])\n",
    "])\n",
    "# Change the bar mode\n",
    "fig.update_layout(barmode='stack')\n",
    "fig.show()"
   ]
  },
  {
   "cell_type": "code",
   "execution_count": 156,
   "metadata": {},
   "outputs": [],
   "source": [
    "#yr_info.drop(['g/l', 'g/l_2017'], axis=1, inplace=True)"
   ]
  },
  {
   "cell_type": "code",
   "execution_count": 80,
   "metadata": {},
   "outputs": [],
   "source": [
    "practice=yr_info.query('amount_2017 > 0 & behavior_2017 != \"none\"')"
   ]
  },
  {
   "cell_type": "code",
   "execution_count": 81,
   "metadata": {},
   "outputs": [
    {
     "data": {
      "text/html": [
       "<div>\n",
       "<style scoped>\n",
       "    .dataframe tbody tr th:only-of-type {\n",
       "        vertical-align: middle;\n",
       "    }\n",
       "\n",
       "    .dataframe tbody tr th {\n",
       "        vertical-align: top;\n",
       "    }\n",
       "\n",
       "    .dataframe thead th {\n",
       "        text-align: right;\n",
       "    }\n",
       "</style>\n",
       "<table border=\"1\" class=\"dataframe\">\n",
       "  <thead>\n",
       "    <tr style=\"text-align: right;\">\n",
       "      <th></th>\n",
       "      <th>id</th>\n",
       "      <th>first_gift_year</th>\n",
       "      <th>lapsed_count</th>\n",
       "      <th>recovered_count</th>\n",
       "      <th>max_consec_giving_years</th>\n",
       "      <th>total_giving_years</th>\n",
       "      <th>count_2013</th>\n",
       "      <th>count_2014</th>\n",
       "      <th>count_2015</th>\n",
       "      <th>count_2016</th>\n",
       "      <th>...</th>\n",
       "      <th>perc_years_donated</th>\n",
       "      <th>donor_profile</th>\n",
       "      <th>behavior_2013</th>\n",
       "      <th>behavior_2014</th>\n",
       "      <th>behavior_2015</th>\n",
       "      <th>behavior_2016</th>\n",
       "      <th>behavior_2017</th>\n",
       "      <th>gift_pattern</th>\n",
       "      <th>gainloss_2017</th>\n",
       "      <th>gainloss_2017_amt</th>\n",
       "    </tr>\n",
       "  </thead>\n",
       "  <tbody>\n",
       "    <tr>\n",
       "      <td>0</td>\n",
       "      <td>1f4b5b6e68445c6c4a0509b3aca93f38</td>\n",
       "      <td>2015-01-01</td>\n",
       "      <td>4</td>\n",
       "      <td>4</td>\n",
       "      <td>4</td>\n",
       "      <td>4</td>\n",
       "      <td>0</td>\n",
       "      <td>0</td>\n",
       "      <td>42</td>\n",
       "      <td>64</td>\n",
       "      <td>...</td>\n",
       "      <td>0.8</td>\n",
       "      <td>repeat</td>\n",
       "      <td>none</td>\n",
       "      <td>none</td>\n",
       "      <td>new</td>\n",
       "      <td>upgrade</td>\n",
       "      <td>upgrade</td>\n",
       "      <td>3,4,5,</td>\n",
       "      <td>gain</td>\n",
       "      <td>22559.83</td>\n",
       "    </tr>\n",
       "    <tr>\n",
       "      <td>13</td>\n",
       "      <td>3fa001f7a31563bb2a7bc989f5bbe5b3</td>\n",
       "      <td>2017-01-01</td>\n",
       "      <td>2</td>\n",
       "      <td>1</td>\n",
       "      <td>1</td>\n",
       "      <td>1</td>\n",
       "      <td>0</td>\n",
       "      <td>0</td>\n",
       "      <td>0</td>\n",
       "      <td>0</td>\n",
       "      <td>...</td>\n",
       "      <td>0.2</td>\n",
       "      <td>one_time</td>\n",
       "      <td>none</td>\n",
       "      <td>none</td>\n",
       "      <td>none</td>\n",
       "      <td>none</td>\n",
       "      <td>new</td>\n",
       "      <td>5,</td>\n",
       "      <td>gain</td>\n",
       "      <td>392.92</td>\n",
       "    </tr>\n",
       "    <tr>\n",
       "      <td>14</td>\n",
       "      <td>c77b27c9837573aae3a278a6c3a92b8f</td>\n",
       "      <td>2017-01-01</td>\n",
       "      <td>2</td>\n",
       "      <td>1</td>\n",
       "      <td>1</td>\n",
       "      <td>1</td>\n",
       "      <td>0</td>\n",
       "      <td>0</td>\n",
       "      <td>0</td>\n",
       "      <td>0</td>\n",
       "      <td>...</td>\n",
       "      <td>0.2</td>\n",
       "      <td>one_time</td>\n",
       "      <td>none</td>\n",
       "      <td>none</td>\n",
       "      <td>none</td>\n",
       "      <td>none</td>\n",
       "      <td>new</td>\n",
       "      <td>5,</td>\n",
       "      <td>gain</td>\n",
       "      <td>65.00</td>\n",
       "    </tr>\n",
       "    <tr>\n",
       "      <td>15</td>\n",
       "      <td>43ca9835ccb5c7c24abd3f173732d26f</td>\n",
       "      <td>2017-01-01</td>\n",
       "      <td>2</td>\n",
       "      <td>1</td>\n",
       "      <td>1</td>\n",
       "      <td>1</td>\n",
       "      <td>0</td>\n",
       "      <td>0</td>\n",
       "      <td>0</td>\n",
       "      <td>0</td>\n",
       "      <td>...</td>\n",
       "      <td>0.2</td>\n",
       "      <td>one_time</td>\n",
       "      <td>none</td>\n",
       "      <td>none</td>\n",
       "      <td>none</td>\n",
       "      <td>none</td>\n",
       "      <td>new</td>\n",
       "      <td>5,</td>\n",
       "      <td>gain</td>\n",
       "      <td>150.00</td>\n",
       "    </tr>\n",
       "    <tr>\n",
       "      <td>16</td>\n",
       "      <td>6243c0acf1dc9a4d71b1630411d3c41b</td>\n",
       "      <td>2017-01-01</td>\n",
       "      <td>2</td>\n",
       "      <td>1</td>\n",
       "      <td>1</td>\n",
       "      <td>1</td>\n",
       "      <td>0</td>\n",
       "      <td>0</td>\n",
       "      <td>0</td>\n",
       "      <td>0</td>\n",
       "      <td>...</td>\n",
       "      <td>0.2</td>\n",
       "      <td>one_time</td>\n",
       "      <td>none</td>\n",
       "      <td>none</td>\n",
       "      <td>none</td>\n",
       "      <td>none</td>\n",
       "      <td>new</td>\n",
       "      <td>5,</td>\n",
       "      <td>gain</td>\n",
       "      <td>25.00</td>\n",
       "    </tr>\n",
       "  </tbody>\n",
       "</table>\n",
       "<p>5 rows × 196 columns</p>\n",
       "</div>"
      ],
      "text/plain": [
       "                                  id first_gift_year  lapsed_count  \\\n",
       "0   1f4b5b6e68445c6c4a0509b3aca93f38      2015-01-01             4   \n",
       "13  3fa001f7a31563bb2a7bc989f5bbe5b3      2017-01-01             2   \n",
       "14  c77b27c9837573aae3a278a6c3a92b8f      2017-01-01             2   \n",
       "15  43ca9835ccb5c7c24abd3f173732d26f      2017-01-01             2   \n",
       "16  6243c0acf1dc9a4d71b1630411d3c41b      2017-01-01             2   \n",
       "\n",
       "    recovered_count  max_consec_giving_years  total_giving_years  count_2013  \\\n",
       "0                 4                        4                   4           0   \n",
       "13                1                        1                   1           0   \n",
       "14                1                        1                   1           0   \n",
       "15                1                        1                   1           0   \n",
       "16                1                        1                   1           0   \n",
       "\n",
       "    count_2014  count_2015  count_2016  ...  perc_years_donated  \\\n",
       "0            0          42          64  ...                 0.8   \n",
       "13           0           0           0  ...                 0.2   \n",
       "14           0           0           0  ...                 0.2   \n",
       "15           0           0           0  ...                 0.2   \n",
       "16           0           0           0  ...                 0.2   \n",
       "\n",
       "    donor_profile  behavior_2013  behavior_2014  behavior_2015  behavior_2016  \\\n",
       "0          repeat           none           none            new        upgrade   \n",
       "13       one_time           none           none           none           none   \n",
       "14       one_time           none           none           none           none   \n",
       "15       one_time           none           none           none           none   \n",
       "16       one_time           none           none           none           none   \n",
       "\n",
       "    behavior_2017  gift_pattern  gainloss_2017  gainloss_2017_amt  \n",
       "0         upgrade        3,4,5,           gain           22559.83  \n",
       "13            new            5,           gain             392.92  \n",
       "14            new            5,           gain              65.00  \n",
       "15            new            5,           gain             150.00  \n",
       "16            new            5,           gain              25.00  \n",
       "\n",
       "[5 rows x 196 columns]"
      ]
     },
     "execution_count": 81,
     "metadata": {},
     "output_type": "execute_result"
    }
   ],
   "source": [
    "practice.head()"
   ]
  },
  {
   "cell_type": "code",
   "execution_count": 84,
   "metadata": {},
   "outputs": [],
   "source": [
    "p1=practice.groupby(['behavior_2017','donor_profile'], as_index=False).sum()"
   ]
  },
  {
   "cell_type": "code",
   "execution_count": 85,
   "metadata": {},
   "outputs": [
    {
     "data": {
      "text/html": [
       "<div>\n",
       "<style scoped>\n",
       "    .dataframe tbody tr th:only-of-type {\n",
       "        vertical-align: middle;\n",
       "    }\n",
       "\n",
       "    .dataframe tbody tr th {\n",
       "        vertical-align: top;\n",
       "    }\n",
       "\n",
       "    .dataframe thead th {\n",
       "        text-align: right;\n",
       "    }\n",
       "</style>\n",
       "<table border=\"1\" class=\"dataframe\">\n",
       "  <thead>\n",
       "    <tr style=\"text-align: right;\">\n",
       "      <th></th>\n",
       "      <th>behavior_2017</th>\n",
       "      <th>donor_profile</th>\n",
       "      <th>lapsed_count</th>\n",
       "      <th>recovered_count</th>\n",
       "      <th>max_consec_giving_years</th>\n",
       "      <th>total_giving_years</th>\n",
       "      <th>count_2013</th>\n",
       "      <th>count_2014</th>\n",
       "      <th>count_2015</th>\n",
       "      <th>count_2016</th>\n",
       "      <th>...</th>\n",
       "      <th>amount_06_yr4</th>\n",
       "      <th>amount_07_yr4</th>\n",
       "      <th>amount_08_yr4</th>\n",
       "      <th>amount_09_yr4</th>\n",
       "      <th>amount_10_yr4</th>\n",
       "      <th>amount_11_yr4</th>\n",
       "      <th>amount_12_yr4</th>\n",
       "      <th>years_donated</th>\n",
       "      <th>perc_years_donated</th>\n",
       "      <th>gainloss_2017_amt</th>\n",
       "    </tr>\n",
       "  </thead>\n",
       "  <tbody>\n",
       "    <tr>\n",
       "      <td>0</td>\n",
       "      <td>downgrade</td>\n",
       "      <td>repeat</td>\n",
       "      <td>165237</td>\n",
       "      <td>128916</td>\n",
       "      <td>123870</td>\n",
       "      <td>128916</td>\n",
       "      <td>61466</td>\n",
       "      <td>101986</td>\n",
       "      <td>112472</td>\n",
       "      <td>211309</td>\n",
       "      <td>...</td>\n",
       "      <td>175840.76</td>\n",
       "      <td>243440.34</td>\n",
       "      <td>394618.31</td>\n",
       "      <td>353818.77</td>\n",
       "      <td>387048.76</td>\n",
       "      <td>409443.08</td>\n",
       "      <td>665180.13</td>\n",
       "      <td>126069</td>\n",
       "      <td>25213.800000</td>\n",
       "      <td>-9.101046e+06</td>\n",
       "    </tr>\n",
       "    <tr>\n",
       "      <td>1</td>\n",
       "      <td>maintain</td>\n",
       "      <td>repeat</td>\n",
       "      <td>50238</td>\n",
       "      <td>36308</td>\n",
       "      <td>34743</td>\n",
       "      <td>36308</td>\n",
       "      <td>2214</td>\n",
       "      <td>3912</td>\n",
       "      <td>5486</td>\n",
       "      <td>16720</td>\n",
       "      <td>...</td>\n",
       "      <td>6398.15</td>\n",
       "      <td>10347.62</td>\n",
       "      <td>16519.00</td>\n",
       "      <td>16639.67</td>\n",
       "      <td>16829.66</td>\n",
       "      <td>13141.00</td>\n",
       "      <td>28640.33</td>\n",
       "      <td>36076</td>\n",
       "      <td>7215.200000</td>\n",
       "      <td>0.000000e+00</td>\n",
       "    </tr>\n",
       "    <tr>\n",
       "      <td>2</td>\n",
       "      <td>new</td>\n",
       "      <td>one_time</td>\n",
       "      <td>810002</td>\n",
       "      <td>405001</td>\n",
       "      <td>405001</td>\n",
       "      <td>405001</td>\n",
       "      <td>0</td>\n",
       "      <td>0</td>\n",
       "      <td>0</td>\n",
       "      <td>0</td>\n",
       "      <td>...</td>\n",
       "      <td>0.00</td>\n",
       "      <td>0.00</td>\n",
       "      <td>0.00</td>\n",
       "      <td>0.00</td>\n",
       "      <td>0.00</td>\n",
       "      <td>0.00</td>\n",
       "      <td>0.00</td>\n",
       "      <td>405001</td>\n",
       "      <td>81000.199999</td>\n",
       "      <td>3.167274e+07</td>\n",
       "    </tr>\n",
       "    <tr>\n",
       "      <td>3</td>\n",
       "      <td>new</td>\n",
       "      <td>repeat</td>\n",
       "      <td>59980</td>\n",
       "      <td>59980</td>\n",
       "      <td>59980</td>\n",
       "      <td>59980</td>\n",
       "      <td>0</td>\n",
       "      <td>0</td>\n",
       "      <td>0</td>\n",
       "      <td>0</td>\n",
       "      <td>...</td>\n",
       "      <td>0.00</td>\n",
       "      <td>0.00</td>\n",
       "      <td>0.00</td>\n",
       "      <td>0.00</td>\n",
       "      <td>0.00</td>\n",
       "      <td>0.00</td>\n",
       "      <td>0.00</td>\n",
       "      <td>59980</td>\n",
       "      <td>11996.000000</td>\n",
       "      <td>6.301026e+06</td>\n",
       "    </tr>\n",
       "    <tr>\n",
       "      <td>4</td>\n",
       "      <td>recover</td>\n",
       "      <td>repeat</td>\n",
       "      <td>173585</td>\n",
       "      <td>97910</td>\n",
       "      <td>54763</td>\n",
       "      <td>97910</td>\n",
       "      <td>27030</td>\n",
       "      <td>37392</td>\n",
       "      <td>43635</td>\n",
       "      <td>0</td>\n",
       "      <td>...</td>\n",
       "      <td>117651.99</td>\n",
       "      <td>166287.69</td>\n",
       "      <td>349986.16</td>\n",
       "      <td>316039.97</td>\n",
       "      <td>259176.42</td>\n",
       "      <td>290354.29</td>\n",
       "      <td>479840.05</td>\n",
       "      <td>96195</td>\n",
       "      <td>19239.000000</td>\n",
       "      <td>4.813612e+06</td>\n",
       "    </tr>\n",
       "  </tbody>\n",
       "</table>\n",
       "<p>5 rows × 188 columns</p>\n",
       "</div>"
      ],
      "text/plain": [
       "  behavior_2017 donor_profile  lapsed_count  recovered_count  \\\n",
       "0     downgrade        repeat        165237           128916   \n",
       "1      maintain        repeat         50238            36308   \n",
       "2           new      one_time        810002           405001   \n",
       "3           new        repeat         59980            59980   \n",
       "4       recover        repeat        173585            97910   \n",
       "\n",
       "   max_consec_giving_years  total_giving_years  count_2013  count_2014  \\\n",
       "0                   123870              128916       61466      101986   \n",
       "1                    34743               36308        2214        3912   \n",
       "2                   405001              405001           0           0   \n",
       "3                    59980               59980           0           0   \n",
       "4                    54763               97910       27030       37392   \n",
       "\n",
       "   count_2015  count_2016  ...  amount_06_yr4  amount_07_yr4  amount_08_yr4  \\\n",
       "0      112472      211309  ...      175840.76      243440.34      394618.31   \n",
       "1        5486       16720  ...        6398.15       10347.62       16519.00   \n",
       "2           0           0  ...           0.00           0.00           0.00   \n",
       "3           0           0  ...           0.00           0.00           0.00   \n",
       "4       43635           0  ...      117651.99      166287.69      349986.16   \n",
       "\n",
       "   amount_09_yr4  amount_10_yr4  amount_11_yr4  amount_12_yr4  years_donated  \\\n",
       "0      353818.77      387048.76      409443.08      665180.13         126069   \n",
       "1       16639.67       16829.66       13141.00       28640.33          36076   \n",
       "2           0.00           0.00           0.00           0.00         405001   \n",
       "3           0.00           0.00           0.00           0.00          59980   \n",
       "4      316039.97      259176.42      290354.29      479840.05          96195   \n",
       "\n",
       "   perc_years_donated  gainloss_2017_amt  \n",
       "0        25213.800000      -9.101046e+06  \n",
       "1         7215.200000       0.000000e+00  \n",
       "2        81000.199999       3.167274e+07  \n",
       "3        11996.000000       6.301026e+06  \n",
       "4        19239.000000       4.813612e+06  \n",
       "\n",
       "[5 rows x 188 columns]"
      ]
     },
     "execution_count": 85,
     "metadata": {},
     "output_type": "execute_result"
    }
   ],
   "source": [
    "p1.head()"
   ]
  },
  {
   "cell_type": "code",
   "execution_count": 87,
   "metadata": {},
   "outputs": [
    {
     "data": {
      "image/png": "[encoded data removed]",
      "text/plain": [
       "<Figure size 432x288 with 1 Axes>"
      ]
     },
     "metadata": {
      "needs_background": "light"
     },
     "output_type": "display_data"
    }
   ],
   "source": [
    "vegetables = [\"cucumber\", \"tomato\", \"lettuce\", \"asparagus\",\n",
    "              \"potato\", \"wheat\", \"barley\"]\n",
    "farmers = [\"Farmer Joe\", \"Upland Bros.\", \"Smith Gardening\",\n",
    "           \"Agrifun\", \"Organiculture\", \"BioGoods Ltd.\", \"Cornylee Corp.\"]\n",
    "\n",
    "harvest = np.array([[0.8, 2.4, 2.5, 3.9, 0.0, 4.0, 0.0],\n",
    "                    [2.4, 0.0, 4.0, 1.0, 2.7, 0.0, 0.0],\n",
    "                    [1.1, 2.4, 0.8, 4.3, 1.9, 4.4, 0.0],\n",
    "                    [0.6, 0.0, 0.3, 0.0, 3.1, 0.0, 0.0],\n",
    "                    [0.7, 1.7, 0.6, 2.6, 2.2, 6.2, 0.0],\n",
    "                    [1.3, 1.2, 0.0, 0.0, 0.0, 3.2, 5.1],\n",
    "                    [0.1, 2.0, 0.0, 1.4, 0.0, 1.9, 6.3]])\n",
    "\n",
    "\n",
    "fig, ax = plt.subplots()\n",
    "im = ax.imshow(harvest)\n",
    "\n",
    "# We want to show all ticks...\n",
    "ax.set_xticks(np.arange(len(farmers)))\n",
    "ax.set_yticks(np.arange(len(vegetables)))\n",
    "# ... and label them with the respective list entries\n",
    "ax.set_xticklabels(farmers)\n",
    "ax.set_yticklabels(vegetables)\n",
    "\n",
    "# Rotate the tick labels and set their alignment.\n",
    "plt.setp(ax.get_xticklabels(), rotation=45, ha=\"right\",\n",
    "         rotation_mode=\"anchor\")\n",
    "\n",
    "# Loop over data dimensions and create text annotations.\n",
    "for i in range(len(vegetables)):\n",
    "    for j in range(len(farmers)):\n",
    "        text = ax.text(j, i, harvest[i, j],\n",
    "                       ha=\"center\", va=\"center\", color=\"w\")\n",
    "\n",
    "ax.set_title(\"Harvest of local farmers (in tons/year)\")\n",
    "fig.tight_layout()\n",
    "plt.show()"
   ]
  },
  {
   "cell_type": "code",
   "execution_count": null,
   "metadata": {},
   "outputs": [],
   "source": []
  }
 ],
 "metadata": {
  "kernelspec": {
   "display_name": "Python 3",
   "language": "python",
   "name": "python3"
  },
  "language_info": {
   "codemirror_mode": {
    "name": "ipython",
    "version": 3
   },
   "file_extension": ".py",
   "mimetype": "text/x-python",
   "name": "python",
   "nbconvert_exporter": "python",
   "pygments_lexer": "ipython3",
   "version": "3.7.4"
  }
 },
 "nbformat": 4,
 "nbformat_minor": 2
}
