{
 "cells": [
  {
   "cell_type": "code",
   "execution_count": null,
   "metadata": {},
   "outputs": [],
   "source": [
    "import numpy as np\n",
    "import pandas as pd\n",
    "import plotly.express as px\n",
    "\n",
    "from itertools import combinations\n",
    "\n",
    "import seaborn as sns\n",
    "import matplotlib.pyplot as plt\n",
    "sns.set_style(\"white\")\n",
    "%matplotlib inline"
   ]
  },
  {
   "cell_type": "code",
   "execution_count": null,
   "metadata": {},
   "outputs": [],
   "source": [
    "cohort13=pd.read_pickle('cohort13.pkl')"
   ]
  },
  {
   "cell_type": "code",
   "execution_count": null,
   "metadata": {},
   "outputs": [],
   "source": [
    "cohort13.head()"
   ]
  },
  {
   "cell_type": "code",
   "execution_count": null,
   "metadata": {},
   "outputs": [],
   "source": [
    "for col in cohort13.columns: \n",
    "    print(col) "
   ]
  },
  {
   "cell_type": "code",
   "execution_count": null,
   "metadata": {},
   "outputs": [],
   "source": [
    "# donors per cohort\n",
    "print(cohort13.query('count_yr1 > 0').count()['id'])\n",
    "print(cohort13.query('count_yr2 > 0').count()['id'])\n",
    "print(cohort13.query('count_yr3 > 0').count()['id'])\n",
    "print(cohort13.query('count_yr4 > 0').count()['id'])\n",
    "print(cohort13.query('count_yr5 > 0').count()['id'])\n",
    "print(cohort13.count_total.count())"
   ]
  },
  {
   "cell_type": "code",
   "execution_count": null,
   "metadata": {},
   "outputs": [],
   "source": [
    "# one = (list(combinations('2345',1)))\n",
    "# two = (list(combinations('2345',2)))\n",
    "# three = (list(combinations('2345',3)))\n",
    "# four = (list(combinations('2345',4)))\n",
    "# print(one, two, three, four)\n",
    "# print (len(one)+ len(two)+ len(three) + len(four))"
   ]
  },
  {
   "cell_type": "code",
   "execution_count": null,
   "metadata": {},
   "outputs": [],
   "source": [
    "# years ='2345'\n",
    "  \n",
    "# # size of combination is set to 3 \n",
    "# a = combinations(letters, 3)  \n",
    "# y = [','.join(i) for i in a] \n",
    "  \n",
    "# print(y) "
   ]
  },
  {
   "cell_type": "code",
   "execution_count": null,
   "metadata": {},
   "outputs": [],
   "source": [
    "cohort13.groupby('years_donated').count()['id'].plot(kind='bar');"
   ]
  },
  {
   "cell_type": "code",
   "execution_count": null,
   "metadata": {},
   "outputs": [],
   "source": [
    "cohort13.query(('years_donated < 3') & ('years_donated > 1')).count()"
   ]
  },
  {
   "cell_type": "code",
   "execution_count": null,
   "metadata": {},
   "outputs": [],
   "source": [
    "cohort13.query('donor_profile == \"repeat_nonconsec\"')\n",
    "cohort13.loc[(cohort13['donor_profile' == \"one_time\"), 'donor_profile'] = 'one_time'\n"
   ]
  },
  {
   "cell_type": "code",
   "execution_count": null,
   "metadata": {},
   "outputs": [],
   "source": [
    "# Repeat, non-consecutive donors\n",
    "cohort13_repeat_all=cohort13[(cohort13['amount_yr1'] > 0) & ((cohort13['amount_yr2'] > 0) | (cohort13['amount_yr3'] > 0) | (cohort13['amount_yr4'] > 0) | (cohort13['amount_yr5'] > 0))]"
   ]
  },
  {
   "cell_type": "code",
   "execution_count": null,
   "metadata": {},
   "outputs": [],
   "source": [
    "cohort13_repeat_all.shape"
   ]
  },
  {
   "cell_type": "code",
   "execution_count": null,
   "metadata": {},
   "outputs": [],
   "source": [
    "# Repeat, 2 yr consecutive donors\n",
    "cohort13_repeat_consec_2yr=cohort13[(cohort13['amount_yr1'] > 0) & (cohort13['amount_yr2'] > 0)]"
   ]
  },
  {
   "cell_type": "code",
   "execution_count": null,
   "metadata": {},
   "outputs": [],
   "source": [
    "cohort13_repeat_consec_2yr.shape"
   ]
  },
  {
   "cell_type": "code",
   "execution_count": null,
   "metadata": {},
   "outputs": [],
   "source": [
    "# Repeat, non-consecutive donors\n",
    "cohort13_repeat_consec_3yr=cohort13[(cohort13['amount_yr1'] > 0) & (cohort13['amount_yr2'] > 0) & (cohort13['amount_yr3'] > 0)]"
   ]
  },
  {
   "cell_type": "code",
   "execution_count": null,
   "metadata": {},
   "outputs": [],
   "source": [
    "cohort13_repeat_consec_3yr.shape"
   ]
  },
  {
   "cell_type": "code",
   "execution_count": null,
   "metadata": {},
   "outputs": [],
   "source": [
    "# Repeat, 4 yr consecutive donors\n",
    "cohort13_repeat_consec_4yr=cohort13[(cohort13['amount_yr1'] > 0) & (cohort13['amount_yr2'] > 0) & (cohort13['amount_yr3'] > 0) & (cohort13['amount_yr4'] > 0)]"
   ]
  },
  {
   "cell_type": "code",
   "execution_count": null,
   "metadata": {},
   "outputs": [],
   "source": [
    "cohort13_repeat_consec_4yr.shape"
   ]
  },
  {
   "cell_type": "code",
   "execution_count": null,
   "metadata": {},
   "outputs": [],
   "source": [
    "# Repeat, 5 yr consecutive donors\n",
    "cohort13_repeat_consec_5yr=cohort13[(cohort13['amount_yr1'] > 0) & (cohort13['amount_yr2'] > 0) & (cohort13['amount_yr3'] > 0) & (cohort13['amount_yr4'] > 0) & (cohort13['amount_yr5'] > 0)]"
   ]
  },
  {
   "cell_type": "code",
   "execution_count": null,
   "metadata": {},
   "outputs": [],
   "source": [
    "cohort13_repeat_consec_5yr.shape"
   ]
  },
  {
   "cell_type": "code",
   "execution_count": null,
   "metadata": {},
   "outputs": [],
   "source": []
  },
  {
   "cell_type": "code",
   "execution_count": null,
   "metadata": {},
   "outputs": [],
   "source": [
    "# donated y1, not yr2, and yr3 or yr4 or yr5\n",
    "cohort13_repeat_nonconsec=cohort13[(cohort13['amount_yr1'] > 0) & (cohort13['amount_yr2'] == 0) & ((cohort13['amount_yr3'] > 0) | (cohort13['amount_yr4'] > 0) | (cohort13['amount_yr5'] > 0))]"
   ]
  },
  {
   "cell_type": "code",
   "execution_count": null,
   "metadata": {},
   "outputs": [],
   "source": [
    "cohort13_repeat_nonconsec.shape"
   ]
  },
  {
   "cell_type": "code",
   "execution_count": null,
   "metadata": {},
   "outputs": [],
   "source": [
    "nonconsec_to_yr1_but_later_cameback=cohort13_repeat_nonconsec.query('total_giving_years > 2')"
   ]
  },
  {
   "cell_type": "code",
   "execution_count": null,
   "metadata": {},
   "outputs": [],
   "source": [
    "nonconsec_to_yr1_but_later_cameback"
   ]
  },
  {
   "cell_type": "code",
   "execution_count": null,
   "metadata": {},
   "outputs": [],
   "source": []
  },
  {
   "cell_type": "code",
   "execution_count": null,
   "metadata": {},
   "outputs": [],
   "source": [
    "# donated y1, (not yr2), yr3, (not yr4), (not yr5)\n",
    "\n",
    "#donated yrs 12345\n",
    "cohort13_repeat_nonconsec=cohort13[(cohort13['amount_yr1'] > 0) & (cohort13['amount_yr2'] == 0) & ((cohort13['amount_yr3'] > 0) | (cohort13['amount_yr4'] > 0) | (cohort13['amount_yr5'] > 0))]"
   ]
  }
 ],
 "metadata": {
  "kernelspec": {
   "display_name": "Python 3",
   "language": "python",
   "name": "python3"
  },
  "language_info": {
   "codemirror_mode": {
    "name": "ipython",
    "version": 3
   },
   "file_extension": ".py",
   "mimetype": "text/x-python",
   "name": "python",
   "nbconvert_exporter": "python",
   "pygments_lexer": "ipython3",
   "version": "3.7.4"
  }
 },
 "nbformat": 4,
 "nbformat_minor": 2
}
