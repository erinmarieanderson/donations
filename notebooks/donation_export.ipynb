{
 "cells": [
  {
   "cell_type": "code",
   "execution_count": null,
   "metadata": {},
   "outputs": [],
   "source": [
    "import numpy as np\n",
    "import pandas as pd\n",
    "\n",
    "import seaborn as sns\n",
    "import matplotlib.pyplot as plt\n",
    "sns.set_style(\"white\")\n",
    "%matplotlib inline"
   ]
  },
  {
   "cell_type": "code",
   "execution_count": null,
   "metadata": {},
   "outputs": [],
   "source": [
    "donations=pd.read_csv('../data/donation_export.csv')"
   ]
  },
  {
   "cell_type": "code",
   "execution_count": null,
   "metadata": {},
   "outputs": [],
   "source": [
    "# rename columns\n",
    "donations.columns=[\n",
    "\"id\",\n",
    "\"lapsed_amount\",\n",
    "\"recovered_amount\",\n",
    "\"lapsed_count\",\n",
    "\"recovered_count\",\n",
    "\"max_consec_giving_years\",\n",
    "\"total_giving_years\",\n",
    "\"amount_2013\",\n",
    "\"amount_2014\",\n",
    "\"amount_2015\",\n",
    "\"amount_2016\",\n",
    "\"amount_2017\",\n",
    "\"count_2013\",\n",
    "\"count_2014\",\n",
    "\"count_2015\",\n",
    "\"count_2016\",\n",
    "\"count_2017\",\n",
    "\"lapsed_amount_2013\",\n",
    "\"lapsed_amount_2014\",\n",
    "\"lapsed_amount_2015\",\n",
    "\"lapsed_amount_2016\",\n",
    "\"lapsed_amount_2017\",\n",
    "\"upgraded_amount_2013\",\n",
    "\"upgraded_amount_2014\",\n",
    "\"upgraded_amount_2015\",\n",
    "\"upgraded_amount_2016\",\n",
    "\"upgraded_amount_2017\",\n",
    "\"downgraded_amount_2013\",\n",
    "\"downgraded_amount_2014\",\n",
    "\"downgraded_amount_2015\",\n",
    "\"downgraded_amount_2016\",\n",
    "\"downgraded_amount_2017\",\n",
    "\"amount_01_2013\",\n",
    "\"amount_02_2013\",\n",
    "\"amount_03_2013\",\n",
    "\"amount_04_2013\",\n",
    "\"amount_05_2013\",\n",
    "\"amount_06_2013\",\n",
    "\"amount_07_2013\",\n",
    "\"amount_08_2013\",\n",
    "\"amount_09_2013\",\n",
    "\"amount_10_2013\",\n",
    "\"amount_11_2013\",\n",
    "\"amount_12_2013\",\n",
    "\"amount_01_2014\",\n",
    "\"amount_02_2014\",\n",
    "\"amount_03_2014\",\n",
    "\"amount_04_2014\",\n",
    "\"amount_05_2014\",\n",
    "\"amount_06_2014\",\n",
    "\"amount_07_2014\",\n",
    "\"amount_08_2014\",\n",
    "\"amount_09_2014\",\n",
    "\"amount_10_2014\",\n",
    "\"amount_11_2014\",\n",
    "\"amount_12_2014\",\n",
    "\"amount_01_2015\",\n",
    "\"amount_02_2015\",\n",
    "\"amount_03_2015\",\n",
    "\"amount_04_2015\",\n",
    "\"amount_05_2015\",\n",
    "\"amount_06_2015\",\n",
    "\"amount_07_2015\",\n",
    "\"amount_08_2015\",\n",
    "\"amount_09_2015\",\n",
    "\"amount_10_2015\",\n",
    "\"amount_11_2015\",\n",
    "\"amount_12_2015\",\n",
    "\"amount_01_2016\",\n",
    "\"amount_02_2016\",\n",
    "\"amount_03_2016\",\n",
    "\"amount_04_2016\",\n",
    "\"amount_05_2016\",\n",
    "\"amount_06_2016\",\n",
    "\"amount_07_2016\",\n",
    "\"amount_08_2016\",\n",
    "\"amount_09_2016\",\n",
    "\"amount_10_2016\",\n",
    "\"amount_11_2016\",\n",
    "\"amount_12_2016\",\n",
    "\"amount_01_2017\",\n",
    "\"amount_02_2017\",\n",
    "\"amount_03_2017\",\n",
    "\"amount_04_2017\",\n",
    "\"amount_05_2017\",\n",
    "\"amount_06_2017\",\n",
    "\"amount_07_2017\",\n",
    "\"amount_08_2017\",\n",
    "\"amount_09_2017\",\n",
    "\"amount_10_2017\",\n",
    "\"amount_11_2017\",\n",
    "\"amount_12_2017\"\n",
    "]"
   ]
  },
  {
   "cell_type": "code",
   "execution_count": null,
   "metadata": {},
   "outputs": [],
   "source": [
    "#create new column \"amount_total\", which equals a donor's total donation amount 2013-2017\n",
    "donations['amount_total']=donations['amount_2013'] + donations['amount_2014'] + donations['amount_2015'] + donations['amount_2016'] + donations['amount_2017']"
   ]
  },
  {
   "cell_type": "code",
   "execution_count": null,
   "metadata": {},
   "outputs": [],
   "source": [
    "#create cohorts (determined by the year a donor first donated)\n",
    "donations.loc[(donations['amount_2013'] > 0), 'cohort_yr'] = 'cohort13'  \n",
    "donations.loc[(donations['amount_2013'] == 0) & (donations['amount_2014'] > 0), 'cohort_yr'] = 'cohort14'  \n",
    "donations.loc[(donations['amount_2013'] == 0) & (donations['amount_2014'] == 0) & (donations['amount_2015'] > 0), 'cohort_yr'] = 'cohort15'\n",
    "donations.loc[(donations['amount_2013'] == 0) & (donations['amount_2014'] == 0) & (donations['amount_2015'] == 0) & (donations['amount_2016'] > 0), 'cohort_yr'] = 'cohort16'\n",
    "donations.loc[(donations['amount_2013'] == 0) & (donations['amount_2014'] == 0) & (donations['amount_2015'] == 0) & (donations['amount_2016'] == 0) & (donations['amount_2017'] > 0), 'cohort_yr'] = 'cohort17'\n",
    "donations.loc[(donations['amount_2013'] == 0) & (donations['amount_2014'] == 0) & (donations['amount_2015'] == 0) & (donations['amount_2016'] == 0) & (donations['amount_2017'] == 0), 'cohort_yr'] = 'cohort12_assumed'"
   ]
  },
  {
   "cell_type": "code",
   "execution_count": null,
   "metadata": {},
   "outputs": [],
   "source": [
    "#create new column \"amount_y1\", which is amount donated by donor the first year they donate\n",
    "donations.loc[(donations['amount_2013'] > 0), 'amount_yr1'] = donations.amount_2013\n",
    "donations.loc[(donations['amount_2013'] == 0) & (donations['amount_2014'] > 0), 'amount_yr1'] = donations.amount_2014\n",
    "donations.loc[(donations['amount_2013'] == 0) & (donations['amount_2014'] == 0) & (donations['amount_2015'] > 0), 'amount_yr1'] = donations.amount_2015\n",
    "donations.loc[(donations['amount_2013'] == 0) & (donations['amount_2014'] == 0) & (donations['amount_2015'] == 0) & (donations['amount_2016'] > 0), 'amount_yr1'] = donations.amount_2016\n",
    "donations.loc[(donations['amount_2013'] == 0) & (donations['amount_2014'] == 0) & (donations['amount_2015'] == 0) & (donations['amount_2016'] == 0) & (donations['amount_2017'] > 0), 'amount_yr1'] = donations.amount_2017"
   ]
  },
  {
   "cell_type": "code",
   "execution_count": null,
   "metadata": {},
   "outputs": [],
   "source": [
    "#create new column \"amount_yr2\", which is amount donated by donor the second year they donate\n",
    "donations.loc[(donations['amount_2013'] > 0), 'amount_yr2'] = donations.amount_2014\n",
    "donations.loc[(donations['amount_2013'] == 0) & (donations['amount_2014'] > 0), 'amount_yr2'] = donations.amount_2015\n",
    "donations.loc[(donations['amount_2013'] == 0) & (donations['amount_2014'] == 0) & (donations['amount_2015'] > 0), 'amount_yr2'] = donations.amount_2016\n",
    "donations.loc[(donations['amount_2013'] == 0) & (donations['amount_2014'] == 0) & (donations['amount_2015'] == 0) & (donations['amount_2016'] > 0), 'amount_yr2'] = donations.amount_2017\n",
    "# n/a donations.loc[(donations['amount_2013'] == 0) & (donations['amount_2014'] == 0) & (donations['amount_2015'] == 0) & (donations['amount_2016'] == 0) & (donations['amount_2017'] > 0), 'first_yr_amount'] = donations.amount_2017"
   ]
  },
  {
   "cell_type": "code",
   "execution_count": null,
   "metadata": {},
   "outputs": [],
   "source": [
    "#reorder columns\n",
    "donations = donations[[\"id\",\n",
    "                       \"cohort_yr\",\n",
    "                       \"first_year_amount\"\n",
    "                       \"amount_total\", \n",
    "                       \"amount_2013\",\n",
    "                       \"amount_2014\",\n",
    "                       \"amount_2015\",\n",
    "                       \"amount_2016\",\n",
    "                       \"amount_2017\",\n",
    "                       \"count_2013\",\n",
    "                       \"count_2014\",\n",
    "                       \"count_2015\",\n",
    "                       \"count_2016\",\n",
    "                       \"count_2017\",\n",
    "                       \"amount_01_2013\",\n",
    "                       \"amount_02_2013\",\n",
    "                       \"amount_03_2013\",\n",
    "                       \"amount_04_2013\",\n",
    "                       \"amount_05_2013\",\n",
    "                       \"amount_06_2013\",\n",
    "                       \"amount_07_2013\",\n",
    "                       \"amount_08_2013\",\n",
    "                       \"amount_09_2013\",\n",
    "                       \"amount_10_2013\",\n",
    "                       \"amount_11_2013\",\n",
    "                       \"amount_12_2013\",\n",
    "                       \"amount_01_2014\",\n",
    "                       \"amount_02_2014\",\n",
    "                       \"amount_03_2014\",\n",
    "                       \"amount_04_2014\",\n",
    "                       \"amount_05_2014\",\n",
    "                       \"amount_06_2014\",\n",
    "                       \"amount_07_2014\",\n",
    "                       \"amount_08_2014\",\n",
    "                       \"amount_09_2014\",\n",
    "                       \"amount_10_2014\",\n",
    "                       \"amount_11_2014\",\n",
    "                       \"amount_12_2014\",\n",
    "                       \"amount_01_2015\",\n",
    "                       \"amount_02_2015\",\n",
    "                       \"amount_03_2015\",\n",
    "                       \"amount_04_2015\",\n",
    "                       \"amount_05_2015\",\n",
    "                       \"amount_06_2015\",\n",
    "                       \"amount_07_2015\",\n",
    "                       \"amount_08_2015\",\n",
    "                       \"amount_09_2015\",\n",
    "                       \"amount_10_2015\",\n",
    "                       \"amount_11_2015\",\n",
    "                       \"amount_12_2015\",\n",
    "                       \"amount_01_2016\",\n",
    "                       \"amount_02_2016\",\n",
    "                       \"amount_03_2016\",\n",
    "                       \"amount_04_2016\",\n",
    "                       \"amount_05_2016\",\n",
    "                       \"amount_06_2016\",\n",
    "                       \"amount_07_2016\",\n",
    "                       \"amount_08_2016\",\n",
    "                       \"amount_09_2016\",\n",
    "                       \"amount_10_2016\",\n",
    "                       \"amount_11_2016\",\n",
    "                       \"amount_12_2016\",\n",
    "                       \"amount_01_2017\",\n",
    "                       \"amount_02_2017\",\n",
    "                       \"amount_03_2017\",\n",
    "                       \"amount_04_2017\",\n",
    "                       \"amount_05_2017\",\n",
    "                       \"amount_06_2017\",\n",
    "                       \"amount_07_2017\",\n",
    "                       \"amount_08_2017\",\n",
    "                       \"amount_09_2017\",\n",
    "                       \"amount_10_2017\",\n",
    "                       \"amount_11_2017\",\n",
    "                       \"amount_12_2017\",                       \n",
    "                       \"lapsed_amount\",\n",
    "                       \"lapsed_count\",\n",
    "                       \"lapsed_amount_2013\",\n",
    "                       \"lapsed_amount_2014\",\n",
    "                       \"lapsed_amount_2015\",\n",
    "                       \"lapsed_amount_2016\",\n",
    "                       \"lapsed_amount_2017\",\n",
    "                       \"recovered_amount\",\n",
    "                       \"recovered_count\",\n",
    "                       \"max_consec_giving_years\",\n",
    "                       \"total_giving_years\",\n",
    "                       \"upgraded_amount_2013\",\n",
    "                       \"upgraded_amount_2014\",\n",
    "                       \"upgraded_amount_2015\",\n",
    "                       \"upgraded_amount_2016\",\n",
    "                       \"upgraded_amount_2017\",\n",
    "                       \"downgraded_amount_2013\",\n",
    "                       \"downgraded_amount_2014\",\n",
    "                       \"downgraded_amount_2015\",\n",
    "                       \"downgraded_amount_2016\",\n",
    "                       \"downgraded_amount_2017\"]]"
   ]
  },
  {
   "cell_type": "code",
   "execution_count": null,
   "metadata": {},
   "outputs": [],
   "source": [
    "#donations.groupby('cohort_yr').count()[['id']]"
   ]
  },
  {
   "cell_type": "code",
   "execution_count": null,
   "metadata": {},
   "outputs": [],
   "source": [
    "#cohort_other = donations.query(\"cohort_yr == 'other'\").reindex()"
   ]
  },
  {
   "cell_type": "code",
   "execution_count": null,
   "metadata": {},
   "outputs": [],
   "source": [
    "#cohort_other.to_csv('cohort_other.csv')"
   ]
  },
  {
   "cell_type": "code",
   "execution_count": null,
   "metadata": {},
   "outputs": [],
   "source": [
    "# of null values entries in amount_12_2017.  should i treat as zeros?\n",
    "#print(donations['amount_12_2017'].isnull().sum())"
   ]
  },
  {
   "cell_type": "code",
   "execution_count": null,
   "metadata": {},
   "outputs": [],
   "source": [
    "#df_2 = donations.groupby('cohort_yr').sum()\n",
    "#df_2.reset_index(inplace=True)\n",
    "sns.barplot(x='cohort_yr', y='amount_total', data=donations);"
   ]
  },
  {
   "cell_type": "code",
   "execution_count": null,
   "metadata": {},
   "outputs": [],
   "source": [
    "#df_2 = donations.groupby('cohort_yr').sum()\n",
    "#df_2.reset_index(inplace=True)\n",
    "sns.barplot(x='cohort_yr', y='lapsed_amount', data=donations, order=('cohort12_assumed', 'cohort13', 'cohort14', 'cohort15', 'cohort16', 'cohort17'));"
   ]
  },
  {
   "cell_type": "code",
   "execution_count": null,
   "metadata": {},
   "outputs": [],
   "source": [
    "#df_2 = donations.groupby('cohort_yr').sum()\n",
    "#df_2.reset_index(inplace=True)\n",
    "sns.lineplot(x='cohort_yr', y='amount_total', data=donations);"
   ]
  },
  {
   "cell_type": "code",
   "execution_count": null,
   "metadata": {},
   "outputs": [],
   "source": [
    "#first_yr_amount_by_cohort=donations.groupby('cohort_yr').sum()[['first_yr_amount']]\n",
    "first_yr_amount_by_cohort.reset_index()"
   ]
  },
  {
   "cell_type": "code",
   "execution_count": null,
   "metadata": {},
   "outputs": [],
   "source": [
    "first_yr_amount_by_cohort.info()"
   ]
  },
  {
   "cell_type": "code",
   "execution_count": null,
   "metadata": {},
   "outputs": [],
   "source": [
    "first_yr_amount_by_cohort.plot(kind='bar')\n",
    "#sns.scatterplot(x='cohort_yr', y='first_yr_amount', data=first_yr_amount_by_cohort)"
   ]
  },
  {
   "cell_type": "code",
   "execution_count": null,
   "metadata": {},
   "outputs": [],
   "source": [
    "donations.head()"
   ]
  },
  {
   "cell_type": "code",
   "execution_count": null,
   "metadata": {},
   "outputs": [],
   "source": [
    "#divide into cohorts\n",
    "cohort12_assumed = donations.query(\"cohort_yr == 'cohort12_assumed'\").reindex()\n",
    "cohort13 = donations.query(\"cohort_yr == 'cohort13'\").reindex()\n",
    "cohort14 = donations.query(\"cohort_yr == 'cohort14'\").reindex()\n",
    "cohort15 = donations.query(\"cohort_yr == 'cohort15'\").reindex()\n",
    "cohort16 = donations.query(\"cohort_yr == 'cohort16'\").reindex()\n",
    "cohort17 = donations.query(\"cohort_yr == 'cohort17'\").reindex()"
   ]
  },
  {
   "cell_type": "code",
   "execution_count": null,
   "metadata": {},
   "outputs": [],
   "source": [
    "#cohort16.to_csv('cohort16.csv')"
   ]
  },
  {
   "cell_type": "code",
   "execution_count": null,
   "metadata": {},
   "outputs": [],
   "source": [
    "print(cohort13['count_2013'].min())\n",
    "print(cohort13['count_2013'].max())"
   ]
  },
  {
   "cell_type": "code",
   "execution_count": null,
   "metadata": {},
   "outputs": [],
   "source": [
    "cohort16['count_2016'].max()"
   ]
  },
  {
   "cell_type": "code",
   "execution_count": null,
   "metadata": {},
   "outputs": [],
   "source": [
    "plt.hist('count_2016', data=cohort16, log=True);"
   ]
  },
  {
   "cell_type": "code",
   "execution_count": null,
   "metadata": {},
   "outputs": [],
   "source": [
    "cohort17 = donations.query(\"cohort_yr == 'cohort17'\").reindex()"
   ]
  },
  {
   "cell_type": "code",
   "execution_count": null,
   "metadata": {},
   "outputs": [],
   "source": [
    "plt.hist('count_2017', data=cohort17, log=True);"
   ]
  },
  {
   "cell_type": "code",
   "execution_count": null,
   "metadata": {},
   "outputs": [],
   "source": [
    "#sns.lmplot(x=\"amount_2017\", y=\"id\", data=cohort17, height=4, palette=\"dark\")"
   ]
  },
  {
   "cell_type": "code",
   "execution_count": null,
   "metadata": {},
   "outputs": [],
   "source": [
    "cohort13.columns"
   ]
  },
  {
   "cell_type": "code",
   "execution_count": null,
   "metadata": {},
   "outputs": [],
   "source": [
    "cohort13.columns = ['id', 'cohort_yr', 'amount_total', 'amount_first_year', 'amount_second_year',\n",
    "       'amount_third_year', 'amount_fourth_year', 'amount_fifth_year', 'count_first_year', 'count_second_year',\n",
    "       'count_third_year', 'count_fourth_year', 'count_fifth_year', 'amount_01_first_year',\n",
    "       'amount_02_first_year', 'amount_03_first_year', 'amount_04_first_year', 'amount_05_first_year',\n",
    "       'amount_06_first_year', 'amount_07_first_year', 'amount_08_first_year', 'amount_09_first_year',\n",
    "       'amount_10_first_year', 'amount_11_first_year', 'amount_12_first_year', 'amount_01_second_year',\n",
    "       'amount_02_second_year', 'amount_03_second_year', 'amount_04_second_year', 'amount_05_second_year',\n",
    "       'amount_06_second_year', 'amount_07_second_year', 'amount_08_second_year', 'amount_09_second_year',\n",
    "       'amount_10_second_year', 'amount_11_second_year', 'amount_12_second_year', 'amount_01_third_year',\n",
    "       'amount_02_third_year', 'amount_03_third_year', 'amount_04_third_year', 'amount_05_third_year',\n",
    "       'amount_06_third_year', 'amount_07_third_year', 'amount_08_third_year', 'amount_09_third_year',\n",
    "       'amount_10_third_year', 'amount_11_third_year', 'amount_12_third_year', 'amount_01_fourth_year',\n",
    "       'amount_02_fourth_year', 'amount_03_fourth_year', 'amount_04_fourth_year', 'amount_05_fourth_year',\n",
    "       'amount_06_fourth_year', 'amount_07_fourth_year', 'amount_08_fourth_year', 'amount_09_fourth_year',\n",
    "       'amount_10_fourth_year', 'amount_11_fourth_year', 'amount_12_fourth_year', 'amount_01_fifth_year',\n",
    "       'amount_02_fifth_year', 'amount_03_fifth_year', 'amount_04_fifth_year', 'amount_05_fifth_year',\n",
    "       'amount_06_fifth_year', 'amount_07_fifth_year', 'amount_08_fifth_year', 'amount_09_fifth_year',\n",
    "       'amount_10_fifth_year', 'amount_11_fifth_year', 'amount_12_fifth_year', 'lapsed_amount',\n",
    "       'lapsed_count', 'lapsed_amount_first_year', 'lapsed_amount_second_year',\n",
    "       'lapsed_amount_third_year', 'lapsed_amount_fourth_year', 'lapsed_amount_fifth_year',\n",
    "       'recovered_amount', 'recovered_count', 'max_consec_giving_years',\n",
    "       'total_giving_years', 'upgraded_amount_first_year', 'upgraded_amount_second_year',\n",
    "       'upgraded_amount_third_year', 'upgraded_amount_fourth_year', 'upgraded_amount_fifth_year',\n",
    "       'downgraded_amount_first_year', 'downgraded_amount_second_year',\n",
    "       'downgraded_amount_third_year', 'downgraded_amount_fourth_year',\n",
    "       'downgraded_amount_fifth_year', 'first_yr_amount']\n"
   ]
  },
  {
   "cell_type": "code",
   "execution_count": null,
   "metadata": {},
   "outputs": [],
   "source": [
    "cohort13.head()"
   ]
  },
  {
   "cell_type": "code",
   "execution_count": null,
   "metadata": {},
   "outputs": [],
   "source": [
    "sns.scatterplot(x='id',y='amount_second_year', data=cohort13)"
   ]
  },
  {
   "cell_type": "code",
   "execution_count": null,
   "metadata": {},
   "outputs": [],
   "source": [
    "#cohort stats\n",
    "data=cohort13\n",
    "y1_donor_count=data.query('amount_first_year > 0').count()['amount_first_year']\n",
    "y2_donor_count=data.query('amount_second_year > 0').count()['amount_second_year']\n",
    "y3_donor_count=data.query('amount_third_year > 0').count()['amount_third_year']\n",
    "y4_donor_count=data.query('amount_fourth_year > 0').count()['amount_fourth_year']\n",
    "y5_donor_count=data.query('amount_fifth_year > 0').count()['amount_fifth_year']\n",
    "\n",
    "y1_donations_dollars=data.amount_first_year.sum()/100\n",
    "y2_donations_dollars=data.amount_second_year.sum()/100\n",
    "y3_donations_dollars=data.amount_third_year.sum()/100\n",
    "y4_donations_dollars=data.amount_fourth_year.sum()/100\n",
    "y5_donations_dollars=data.amount_fifth_year.sum()/100\n",
    "\n",
    "y1_donations_count=data.count_first_year.sum()\n",
    "y2_donations_count=data.count_second_year.sum()\n",
    "y3_donations_count=data.count_third_year.sum()\n",
    "y4_donations_count=data.count_fourth_year.sum()\n",
    "y5_donations_count=data.count_fifth_year.sum()\n",
    "\n",
    "print(f'*first year data*')\n",
    "print(f'cohort size:', y1_donor_count)\n",
    "print(f'total $ donated:', y1_donations_dollars)\n",
    "print(f'total # donations:', y1_donations_count)\n",
    "print(f'average # donations per donor:', y1_donations_count/y1_donor_count)\n",
    "print(f'average $ donated per donor', y1_donations_dollars/y1_donor_count)\n",
    "print(f'max donation:',data.amount_first_year.max()/100)\n",
    "\n",
    "print(f'*second year data*')\n",
    "print(f'cohort size:', y2_donor_count)\n",
    "print(f'total $ donated:', y2_donations_dollars)\n",
    "print(f'total # donations:', y2_donations_count)\n",
    "print(f'average # donations per donor:', y2_donations_count/y2_donor_count)\n",
    "print(f'average $ donated per donor', y2_donations_dollars/y2_donor_count)\n",
    "print(f'max donation:',data.amount_second_year.max()/100)"
   ]
  },
  {
   "cell_type": "code",
   "execution_count": null,
   "metadata": {},
   "outputs": [],
   "source": [
    "#cohort stats\n",
    "data=cohort13\n",
    "print(f'first year data')\n",
    "print(f'cohort size:', data.id.count())\n",
    "print(f'total $ donated in first year:', data.amount_first_year.sum())\n",
    "print(f'total # donations in first year', data.amount_second_year.sum())\n",
    "print(f'average # donations per donor in first year:', data.count_first_year.sum()/data.id.count())\n",
    "print(f'average $ donated per donor in first year', data.amount_first_year.sum()/data.id.count())"
   ]
  },
  {
   "cell_type": "code",
   "execution_count": null,
   "metadata": {},
   "outputs": [],
   "source": [
    "melt13=pd.melt(cohort13, id_vars =['id'], value_vars =['amount_2013','amount_2014','amount_2015', 'amount_2016', 'amount_2017']) "
   ]
  },
  {
   "cell_type": "code",
   "execution_count": null,
   "metadata": {},
   "outputs": [],
   "source": [
    "melt13.head()"
   ]
  },
  {
   "cell_type": "code",
   "execution_count": null,
   "metadata": {},
   "outputs": [],
   "source": [
    "#amounts donated by cohort13 by year\n",
    "sns.barplot(x='variable', y='value', data=melt13)"
   ]
  },
  {
   "cell_type": "code",
   "execution_count": null,
   "metadata": {},
   "outputs": [],
   "source": [
    "melt13.groupby('variable').sum()"
   ]
  },
  {
   "cell_type": "code",
   "execution_count": null,
   "metadata": {},
   "outputs": [],
   "source": []
  }
 ],
 "metadata": {
  "kernelspec": {
   "display_name": "Python 3",
   "language": "python",
   "name": "python3"
  },
  "language_info": {
   "codemirror_mode": {
    "name": "ipython",
    "version": 3
   },
   "file_extension": ".py",
   "mimetype": "text/x-python",
   "name": "python",
   "nbconvert_exporter": "python",
   "pygments_lexer": "ipython3",
   "version": "3.7.4"
  }
 },
 "nbformat": 4,
 "nbformat_minor": 2
}
